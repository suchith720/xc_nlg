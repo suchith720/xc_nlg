{
 "cells": [
  {
   "cell_type": "markdown",
   "id": "6e3a0f4c-1cfb-4a14-b8f2-fdea31c390ec",
   "metadata": {},
   "source": [
    "# NGAME training pipeline with multi-triplet loss and clustering"
   ]
  },
  {
   "cell_type": "code",
   "execution_count": 1,
   "id": "ddda97e8-16ac-42c7-9ad4-f981e21c0aa2",
   "metadata": {},
   "outputs": [],
   "source": [
    "#| default_exp 26-oak-training-pipeline-with-multitriplet-loss-and-clustering-predictions"
   ]
  },
  {
   "cell_type": "code",
   "execution_count": 2,
   "id": "3f35d8be-1323-400a-b78e-d0a4d2697801",
   "metadata": {},
   "outputs": [],
   "source": [
    "#| hide\n",
    "from nbdev.showdoc import *\n",
    "import nbdev; nbdev.nbdev_export()"
   ]
  },
  {
   "cell_type": "code",
   "execution_count": 3,
   "id": "13077b86-1326-4b43-a125-ef67bd11a70a",
   "metadata": {},
   "outputs": [],
   "source": [
    "%load_ext autoreload\n",
    "%autoreload 2"
   ]
  },
  {
   "cell_type": "code",
   "execution_count": 4,
   "id": "d685e35e-9a13-4186-b7f4-b831b10086bb",
   "metadata": {},
   "outputs": [],
   "source": [
    "#| export\n",
    "import os,torch, torch.multiprocessing as mp\n",
    "from xcai.basics import *\n",
    "from xcai.models.MMM00X import DBT013"
   ]
  },
  {
   "cell_type": "code",
   "execution_count": 5,
   "id": "e0c924c6",
   "metadata": {},
   "outputs": [],
   "source": [
    "os.environ['WANDB_MODE'] = 'disabled'"
   ]
  },
  {
   "cell_type": "code",
   "execution_count": 6,
   "id": "53768670-9905-46b0-9a6d-b6e91d50b918",
   "metadata": {},
   "outputs": [],
   "source": [
    "#| export\n",
    "os.environ['CUDA_VISIBLE_DEVICES'] = '4'\n",
    "os.environ['WANDB_PROJECT']='xc-nlg_26-oak-training-pipeline-with-multitriplet-loss-and-clustering-predictions'"
   ]
  },
  {
   "cell_type": "markdown",
   "id": "63fc4149",
   "metadata": {},
   "source": [
    "## Load model and data"
   ]
  },
  {
   "cell_type": "code",
   "execution_count": 8,
   "id": "ba38fcb0-3ebf-4f79-aa20-1a1321b791c5",
   "metadata": {},
   "outputs": [
    {
     "name": "stderr",
     "output_type": "stream",
     "text": [
      "/opt/conda/envs/ptca/lib/python3.9/site-packages/huggingface_hub/file_download.py:1132: FutureWarning: `resume_download` is deprecated and will be removed in version 1.0.0. Downloads always resume when possible. If you want to force a new download, use `force_download=True`.\n",
      "  warnings.warn(\n",
      "/opt/conda/envs/ptca/lib/python3.9/site-packages/scipy/sparse/_index.py:146: SparseEfficiencyWarning: Changing the sparsity structure of a csr_matrix is expensive. lil_matrix is more efficient.\n",
      "  self._set_arrayXarray(i, j, x)\n"
     ]
    }
   ],
   "source": [
    "#| export\n",
    "block = XCBlock.from_cfg('/home/aiscuser/scratch/datasets', 'data', valid_pct=0.001, tfm='xc', \n",
    "                         tokenizer='distilbert-base-uncased')"
   ]
  },
  {
   "cell_type": "code",
   "execution_count": 9,
   "id": "73b6a059-3409-4c00-a575-dcdb5775adc9",
   "metadata": {},
   "outputs": [
    {
     "name": "stderr",
     "output_type": "stream",
     "text": [
      "huggingface/tokenizers: The current process just got forked, after parallelism has already been used. Disabling parallelism to avoid deadlocks...\n",
      "To disable this warning, you can either:\n",
      "\t- Avoid using `tokenizers` before the fork if possible\n",
      "\t- Explicitly set the environment variable TOKENIZERS_PARALLELISM=(true | false)\n"
     ]
    }
   ],
   "source": [
    "#| export\n",
    "args = XCLearningArguments(\n",
    "    output_dir='/home/aiscuser/outputs/22-oak-training-pipeline-with-multitriplet-loss-and-clustering-2-4',\n",
    "    logging_first_step=True,\n",
    "    per_device_train_batch_size=800,\n",
    "    per_device_eval_batch_size=800,\n",
    "    representation_num_beams=200,\n",
    "    representation_accumulation_steps=100,\n",
    "    save_strategy=\"steps\",\n",
    "    evaluation_strategy='steps',\n",
    "    eval_steps=100,\n",
    "    save_steps=100,\n",
    "    save_total_limit=5,\n",
    "    num_train_epochs=50,\n",
    "    predict_with_representation=True,\n",
    "    adam_epsilon=1e-8,\n",
    "    warmup_steps=0,\n",
    "    weight_decay=0.1,\n",
    "    learning_rate=1e-4,\n",
    "    generation_num_beams=10,\n",
    "    generation_length_penalty=1.5,\n",
    "    predict_with_generation=True,\n",
    "    label_names=['lbl2data_idx'],\n",
    "    representation_search_type='BRUTEFORCE',\n",
    "    group_by_cluster=True,\n",
    "    num_clustering_warmup_epochs=10,\n",
    "    num_cluster_update_epochs=5,\n",
    "    clustering_type='EXPO',\n",
    "    minimum_cluster_size=1,\n",
    "    output_concatenation_weight=1.0,\n",
    ")"
   ]
  },
  {
   "cell_type": "code",
   "execution_count": 10,
   "id": "cfbc728f",
   "metadata": {},
   "outputs": [],
   "source": [
    "#| export\n",
    "test_dset = block.test.dset.sample(n=2000, seed=50)\n",
    "metric = PrecRecl(block.n_lbl, test_dset.data.data_lbl_filterer, prop=block.train.dset.data.data_lbl,\n",
    "                  pk=10, rk=200, rep_pk=[1, 3, 5, 10], rep_rk=[10, 100, 200])"
   ]
  },
  {
   "cell_type": "code",
   "execution_count": 12,
   "id": "8a2dc519",
   "metadata": {},
   "outputs": [
    {
     "name": "stderr",
     "output_type": "stream",
     "text": [
      "huggingface/tokenizers: The current process just got forked, after parallelism has already been used. Disabling parallelism to avoid deadlocks...\n",
      "To disable this warning, you can either:\n",
      "\t- Avoid using `tokenizers` before the fork if possible\n",
      "\t- Explicitly set the environment variable TOKENIZERS_PARALLELISM=(true | false)\n"
     ]
    },
    {
     "name": "stdout",
     "output_type": "stream",
     "text": [
      "checkpoint-14700  checkpoint-14900  checkpoint-15100\r\n",
      "checkpoint-14800  checkpoint-15000\r\n"
     ]
    }
   ],
   "source": [
    "!ls /home/aiscuser/outputs/22-oak-training-pipeline-with-multitriplet-loss-and-clustering-2-4/"
   ]
  },
  {
   "cell_type": "code",
   "execution_count": 16,
   "id": "15f5ebfa-5262-4977-88ef-f1b29ec09597",
   "metadata": {},
   "outputs": [],
   "source": [
    "#| export\n",
    "mname = f'{args.output_dir}/checkpoint-15000/'\n",
    "\n",
    "bsz = max(args.per_device_train_batch_size, args.per_device_eval_batch_size)*2\n",
    "model = DBT013.from_pretrained(mname, ig_tok=0, bsz=bsz, tn_targ=10_000, margin=0.3, tau=0.1, n_negatives=10, \n",
    "                               apply_softmax=True, lw=1.0)"
   ]
  },
  {
   "cell_type": "code",
   "execution_count": 17,
   "id": "b3079e54",
   "metadata": {},
   "outputs": [
    {
     "data": {
      "application/vnd.jupyter.widget-view+json": {
       "model_id": "73e973cdb7e64958b3929318b6dbb715",
       "version_major": 2,
       "version_minor": 0
      },
      "text/plain": [
       "  0%|          | 0/312330 [00:00<?, ?it/s]"
      ]
     },
     "metadata": {},
     "output_type": "display_data"
    }
   ],
   "source": [
    "#| export\n",
    "trie = XCTrie.from_block(block)"
   ]
  },
  {
   "cell_type": "code",
   "execution_count": 18,
   "id": "431b4af7-38e1-4f50-8950-9d9e0e574ddd",
   "metadata": {},
   "outputs": [
    {
     "name": "stderr",
     "output_type": "stream",
     "text": [
      "huggingface/tokenizers: The current process just got forked, after parallelism has already been used. Disabling parallelism to avoid deadlocks...\n",
      "To disable this warning, you can either:\n",
      "\t- Avoid using `tokenizers` before the fork if possible\n",
      "\t- Explicitly set the environment variable TOKENIZERS_PARALLELISM=(true | false)\n",
      "huggingface/tokenizers: The current process just got forked, after parallelism has already been used. Disabling parallelism to avoid deadlocks...\n",
      "To disable this warning, you can either:\n",
      "\t- Avoid using `tokenizers` before the fork if possible\n",
      "\t- Explicitly set the environment variable TOKENIZERS_PARALLELISM=(true | false)\n",
      "huggingface/tokenizers: The current process just got forked, after parallelism has already been used. Disabling parallelism to avoid deadlocks...\n",
      "To disable this warning, you can either:\n",
      "\t- Avoid using `tokenizers` before the fork if possible\n",
      "\t- Explicitly set the environment variable TOKENIZERS_PARALLELISM=(true | false)\n"
     ]
    }
   ],
   "source": [
    "#| export\n",
    "learn = XCLearner(\n",
    "    model=model, \n",
    "    args=args,\n",
    "    trie=trie,\n",
    "    train_dataset=block.train.dset,\n",
    "    eval_dataset=test_dset,\n",
    "    data_collator=block.collator,\n",
    "    compute_metrics=metric,\n",
    ")"
   ]
  },
  {
   "cell_type": "markdown",
   "id": "ea0b9866",
   "metadata": {},
   "source": [
    "## Prediction"
   ]
  },
  {
   "cell_type": "code",
   "execution_count": 19,
   "id": "25dba792",
   "metadata": {},
   "outputs": [],
   "source": [
    "def reconstruct_score_matrix(learner, test_dset, metric):\n",
    "    o = learn.predict(test_dset)\n",
    "    \n",
    "    targ_idx,targ_ptr = [],[]\n",
    "    for b in learn.get_test_dataloader(learn.eval_dataset):\n",
    "        b = b.to('cpu'); targ_idx.append(b['lbl2data_idx']); targ_ptr.append(b['lbl2data_data2ptr'])\n",
    "    targ_idx,targ_ptr = torch.concat(targ_idx),torch.concat(targ_ptr)\n",
    "    \n",
    "    pred = { 'pred_idx': o.pred_idx, 'pred_ptr': o.pred_ptr, 'pred_score': o.pred_score}\n",
    "    pred['pred_ptr'] = torch.cat([torch.tensor([0]), pred['pred_ptr'].cumsum(dim=0)])\n",
    "    pred_sparse = metric.get_pred(pred)\n",
    "\n",
    "    targ = {'targ_idx': targ_idx, 'targ_ptr': targ_ptr}\n",
    "    targ['targ_ptr'] = torch.cat([torch.tensor([0]), targ['targ_ptr'].cumsum(dim=0)])\n",
    "    targ_sparse = metric.get_targ(targ)\n",
    "    \n",
    "    return o, pred_sparse, targ_sparse\n"
   ]
  },
  {
   "cell_type": "code",
   "execution_count": 20,
   "id": "ab6a6c6b",
   "metadata": {},
   "outputs": [
    {
     "data": {
      "application/vnd.jupyter.widget-view+json": {
       "model_id": "007a5d1dafe6421db3cac59494ee479e",
       "version_major": 2,
       "version_minor": 0
      },
      "text/plain": [
       "  0%|          | 0/391 [00:00<?, ?it/s]"
      ]
     },
     "metadata": {},
     "output_type": "display_data"
    },
    {
     "name": "stderr",
     "output_type": "stream",
     "text": [
      "/home/aiscuser/scratch/Projects/xcai/xcai/losses.py:21: UserWarning: Sparse CSR tensor support is in beta state. If you miss a functionality in the sparse tensor support, please submit a feature request to https://github.com/pytorch/pytorch/issues. (Triggered internally at ../aten/src/ATen/SparseCsrTensorImpl.cpp:54.)\n",
      "  return torch.sparse_csr_tensor(data_ptr, data_idx, scores, device=data_ptr.device)\n"
     ]
    },
    {
     "data": {
      "text/html": [],
      "text/plain": [
       "<IPython.core.display.HTML object>"
      ]
     },
     "metadata": {},
     "output_type": "display_data"
    },
    {
     "name": "stderr",
     "output_type": "stream",
     "text": [
      "/opt/conda/envs/ptca/lib/python3.9/site-packages/scipy/sparse/_index.py:146: SparseEfficiencyWarning: Changing the sparsity structure of a csr_matrix is expensive. lil_matrix is more efficient.\n",
      "  self._set_arrayXarray(i, j, x)\n",
      "/opt/conda/envs/ptca/lib/python3.9/site-packages/scipy/sparse/_index.py:146: SparseEfficiencyWarning: Changing the sparsity structure of a csr_matrix is expensive. lil_matrix is more efficient.\n",
      "  self._set_arrayXarray(i, j, x)\n"
     ]
    }
   ],
   "source": [
    "o, pred_sparse, targ_sparse = reconstruct_score_matrix(learn, test_dset, metric)"
   ]
  },
  {
   "cell_type": "code",
   "execution_count": 21,
   "id": "cdaa7491",
   "metadata": {},
   "outputs": [
    {
     "data": {
      "text/html": [
       "<div>\n",
       "<style scoped>\n",
       "    .dataframe tbody tr th:only-of-type {\n",
       "        vertical-align: middle;\n",
       "    }\n",
       "\n",
       "    .dataframe tbody tr th {\n",
       "        vertical-align: top;\n",
       "    }\n",
       "\n",
       "    .dataframe thead th {\n",
       "        text-align: right;\n",
       "    }\n",
       "</style>\n",
       "<table border=\"1\" class=\"dataframe\">\n",
       "  <thead>\n",
       "    <tr style=\"text-align: right;\">\n",
       "      <th></th>\n",
       "      <th>P@1</th>\n",
       "      <th>P@1_GEN</th>\n",
       "      <th>P@1_REPR</th>\n",
       "      <th>P@3</th>\n",
       "      <th>P@3_GEN</th>\n",
       "      <th>P@3_REPR</th>\n",
       "      <th>P@5</th>\n",
       "      <th>P@5_GEN</th>\n",
       "      <th>P@5_REPR</th>\n",
       "      <th>P@10</th>\n",
       "      <th>P@10_GEN</th>\n",
       "      <th>P@10_REPR</th>\n",
       "      <th>N@1</th>\n",
       "      <th>N@1_GEN</th>\n",
       "      <th>N@1_REPR</th>\n",
       "      <th>N@3</th>\n",
       "      <th>N@3_GEN</th>\n",
       "      <th>N@3_REPR</th>\n",
       "      <th>N@5</th>\n",
       "      <th>N@5_GEN</th>\n",
       "      <th>N@5_REPR</th>\n",
       "      <th>N@10</th>\n",
       "      <th>N@10_GEN</th>\n",
       "      <th>N@10_REPR</th>\n",
       "      <th>PSP@1</th>\n",
       "      <th>PSP@1_GEN</th>\n",
       "      <th>PSP@1_REPR</th>\n",
       "      <th>PSP@3</th>\n",
       "      <th>PSP@3_GEN</th>\n",
       "      <th>PSP@3_REPR</th>\n",
       "      <th>PSP@5</th>\n",
       "      <th>PSP@5_GEN</th>\n",
       "      <th>PSP@5_REPR</th>\n",
       "      <th>PSP@10</th>\n",
       "      <th>PSP@10_GEN</th>\n",
       "      <th>PSP@10_REPR</th>\n",
       "      <th>PSN@1</th>\n",
       "      <th>PSN@1_GEN</th>\n",
       "      <th>PSN@1_REPR</th>\n",
       "      <th>PSN@3</th>\n",
       "      <th>PSN@3_GEN</th>\n",
       "      <th>PSN@3_REPR</th>\n",
       "      <th>PSN@5</th>\n",
       "      <th>PSN@5_GEN</th>\n",
       "      <th>PSN@5_REPR</th>\n",
       "      <th>PSN@10</th>\n",
       "      <th>PSN@10_GEN</th>\n",
       "      <th>PSN@10_REPR</th>\n",
       "      <th>R@10</th>\n",
       "      <th>R@10_GEN</th>\n",
       "      <th>R@10_REPR</th>\n",
       "      <th>R@100</th>\n",
       "      <th>R@100_GEN</th>\n",
       "      <th>R@100_REPR</th>\n",
       "      <th>R@200</th>\n",
       "      <th>R@200_GEN</th>\n",
       "      <th>R@200_REPR</th>\n",
       "      <th>loss</th>\n",
       "      <th>runtime</th>\n",
       "      <th>samples_per_second</th>\n",
       "      <th>steps_per_second</th>\n",
       "    </tr>\n",
       "  </thead>\n",
       "  <tbody>\n",
       "    <tr>\n",
       "      <th>0</th>\n",
       "      <td>18.5</td>\n",
       "      <td>8.4</td>\n",
       "      <td>25.3</td>\n",
       "      <td>12.5667</td>\n",
       "      <td>5.0833</td>\n",
       "      <td>15.7</td>\n",
       "      <td>9.92</td>\n",
       "      <td>3.97</td>\n",
       "      <td>11.67</td>\n",
       "      <td>7.03</td>\n",
       "      <td>2.635</td>\n",
       "      <td>7.45</td>\n",
       "      <td>18.5</td>\n",
       "      <td>8.4</td>\n",
       "      <td>25.3</td>\n",
       "      <td>18.2993</td>\n",
       "      <td>7.8842</td>\n",
       "      <td>23.5861</td>\n",
       "      <td>19.5174</td>\n",
       "      <td>8.3136</td>\n",
       "      <td>24.1841</td>\n",
       "      <td>22.0413</td>\n",
       "      <td>9.1373</td>\n",
       "      <td>25.7319</td>\n",
       "      <td>13.9373</td>\n",
       "      <td>5.1211</td>\n",
       "      <td>22.296</td>\n",
       "      <td>15.6936</td>\n",
       "      <td>5.0404</td>\n",
       "      <td>21.1397</td>\n",
       "      <td>17.9193</td>\n",
       "      <td>5.6698</td>\n",
       "      <td>22.1449</td>\n",
       "      <td>23.4207</td>\n",
       "      <td>6.9251</td>\n",
       "      <td>25.2607</td>\n",
       "      <td>13.9373</td>\n",
       "      <td>5.1211</td>\n",
       "      <td>22.296</td>\n",
       "      <td>15.6964</td>\n",
       "      <td>5.295</td>\n",
       "      <td>22.3046</td>\n",
       "      <td>17.4526</td>\n",
       "      <td>5.8074</td>\n",
       "      <td>23.4061</td>\n",
       "      <td>20.2287</td>\n",
       "      <td>6.5168</td>\n",
       "      <td>25.0937</td>\n",
       "      <td>28.0914</td>\n",
       "      <td>11.0066</td>\n",
       "      <td>29.2782</td>\n",
       "      <td>43.5747</td>\n",
       "      <td>11.0295</td>\n",
       "      <td>43.3408</td>\n",
       "      <td>47.1039</td>\n",
       "      <td>11.0295</td>\n",
       "      <td>46.9202</td>\n",
       "      <td>3.7838</td>\n",
       "      <td>159.7358</td>\n",
       "      <td>12.521</td>\n",
       "      <td>0.019</td>\n",
       "    </tr>\n",
       "  </tbody>\n",
       "</table>\n",
       "</div>"
      ],
      "text/plain": [
       "    P@1  P@1_GEN  P@1_REPR      P@3  P@3_GEN  P@3_REPR   P@5  P@5_GEN  \\\n",
       "0  18.5      8.4      25.3  12.5667   5.0833      15.7  9.92     3.97   \n",
       "\n",
       "   P@5_REPR  P@10  P@10_GEN  P@10_REPR   N@1  N@1_GEN  N@1_REPR      N@3  \\\n",
       "0     11.67  7.03     2.635       7.45  18.5      8.4      25.3  18.2993   \n",
       "\n",
       "   N@3_GEN  N@3_REPR      N@5  N@5_GEN  N@5_REPR     N@10  N@10_GEN  \\\n",
       "0   7.8842   23.5861  19.5174   8.3136   24.1841  22.0413    9.1373   \n",
       "\n",
       "   N@10_REPR    PSP@1  PSP@1_GEN  PSP@1_REPR    PSP@3  PSP@3_GEN  PSP@3_REPR  \\\n",
       "0    25.7319  13.9373     5.1211      22.296  15.6936     5.0404     21.1397   \n",
       "\n",
       "     PSP@5  PSP@5_GEN  PSP@5_REPR   PSP@10  PSP@10_GEN  PSP@10_REPR    PSN@1  \\\n",
       "0  17.9193     5.6698     22.1449  23.4207      6.9251      25.2607  13.9373   \n",
       "\n",
       "   PSN@1_GEN  PSN@1_REPR    PSN@3  PSN@3_GEN  PSN@3_REPR    PSN@5  PSN@5_GEN  \\\n",
       "0     5.1211      22.296  15.6964      5.295     22.3046  17.4526     5.8074   \n",
       "\n",
       "   PSN@5_REPR   PSN@10  PSN@10_GEN  PSN@10_REPR     R@10  R@10_GEN  R@10_REPR  \\\n",
       "0     23.4061  20.2287      6.5168      25.0937  28.0914   11.0066    29.2782   \n",
       "\n",
       "     R@100  R@100_GEN  R@100_REPR    R@200  R@200_GEN  R@200_REPR    loss  \\\n",
       "0  43.5747    11.0295     43.3408  47.1039    11.0295     46.9202  3.7838   \n",
       "\n",
       "    runtime  samples_per_second  steps_per_second  \n",
       "0  159.7358              12.521             0.019  "
      ]
     },
     "metadata": {},
     "output_type": "display_data"
    }
   ],
   "source": [
    "display_metric(o.metrics)"
   ]
  },
  {
   "cell_type": "code",
   "execution_count": null,
   "id": "6fb081ce",
   "metadata": {},
   "outputs": [],
   "source": []
  },
  {
   "cell_type": "code",
   "execution_count": null,
   "id": "90c0547e",
   "metadata": {},
   "outputs": [],
   "source": []
  },
  {
   "cell_type": "code",
   "execution_count": null,
   "id": "48d059bd",
   "metadata": {},
   "outputs": [],
   "source": []
  }
 ],
 "metadata": {
  "kernelspec": {
   "display_name": "Python 3 (ipykernel)",
   "language": "python",
   "name": "python3"
  },
  "language_info": {
   "codemirror_mode": {
    "name": "ipython",
    "version": 3
   },
   "file_extension": ".py",
   "mimetype": "text/x-python",
   "name": "python",
   "nbconvert_exporter": "python",
   "pygments_lexer": "ipython3",
   "version": "3.9.18"
  }
 },
 "nbformat": 4,
 "nbformat_minor": 5
}
