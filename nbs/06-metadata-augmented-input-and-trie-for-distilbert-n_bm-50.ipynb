{
 "cells": [
  {
   "cell_type": "code",
   "execution_count": null,
   "id": "d6e18985-f27c-4001-99e6-fb2929f173d9",
   "metadata": {},
   "outputs": [],
   "source": [
    "#| default_exp 06-metadata-augmented-input-and-trie-for-distilbert-n_bm-50"
   ]
  },
  {
   "cell_type": "code",
   "execution_count": null,
   "id": "4a6790b0-1931-4a3f-a15c-19e27863087c",
   "metadata": {},
   "outputs": [],
   "source": [
    "%load_ext autoreload\n",
    "%autoreload 2"
   ]
  },
  {
   "cell_type": "code",
   "execution_count": null,
   "id": "a78c0853-f45e-4445-8968-8396896eab85",
   "metadata": {},
   "outputs": [
    {
     "name": "stderr",
     "output_type": "stream",
     "text": [
      "comet_ml is installed but `COMET_API_KEY` is not set.\n"
     ]
    }
   ],
   "source": [
    "#| export\n",
    "import os, pandas as pd, warnings, torch, pickle\n",
    "from tqdm.auto import tqdm\n",
    "from scipy import stats\n",
    "\n",
    "from xcai.basics import *\n",
    "from xcai.models.MMM00X import DBT007, DBT008\n",
    "from xcai.transform import AugmentMetaInputIdsTfm"
   ]
  },
  {
   "cell_type": "code",
   "execution_count": null,
   "id": "7694e4d1-f5f5-4c60-b95f-f6bef6f7ee22",
   "metadata": {},
   "outputs": [],
   "source": [
    "#| export\n",
    "os.environ['WANDB_MODE'] = 'disabled'"
   ]
  },
  {
   "cell_type": "code",
   "execution_count": null,
   "id": "965fa00a-aee1-462a-b221-827e5892f32a",
   "metadata": {},
   "outputs": [],
   "source": [
    "#| export\n",
    "dump_dir = '/scratch/scai/phd/aiz218323/Projects/xc_nlg/outputs/06-metadata-augmented-input-and-trie-for-distilbert-n_bm-50/'"
   ]
  },
  {
   "cell_type": "code",
   "execution_count": null,
   "id": "f6b6014e-d7a0-4c0b-841c-e09b1849fe4b",
   "metadata": {},
   "outputs": [],
   "source": [
    "#| export\n",
    "fname = '/scratch/scai/phd/aiz218323/Projects/xc_nlg/outputs/05-metadata-augmented-input-and-trie-for-distilbert/data/block.pkl'\n",
    "with open(fname, 'rb') as f: block, test_dset = pickle.load(f)"
   ]
  },
  {
   "cell_type": "markdown",
   "id": "2710a1a2-4719-409c-9f40-c04d8f29ded5",
   "metadata": {},
   "source": [
    "# Generation"
   ]
  },
  {
   "cell_type": "code",
   "execution_count": null,
   "id": "43307f70-4ab5-4b10-9c24-c3bd7c27cc15",
   "metadata": {},
   "outputs": [
    {
     "name": "stderr",
     "output_type": "stream",
     "text": [
      "Some weights of DBT007 were not initialized from the model checkpoint at /scratch/scai/phd/aiz218323/Projects/xc_nlg/outputs/05-metadata-augmented-input-and-trie-for-distilbert/distilbert-base-uncased_RB33-NAR-3+8-2_(mapped)LF-WikiSeeAlsoTitles-320K/checkpoint-190000 and are newly initialized: ['loss_fn.o']\n",
      "You should probably TRAIN this model on a down-stream task to be able to use it for predictions and inference.\n"
     ]
    }
   ],
   "source": [
    "#| export\n",
    "mname = f'/scratch/scai/phd/aiz218323/Projects/xc_nlg/outputs/05-metadata-augmented-input-and-trie-for-distilbert/distilbert-base-uncased_RB33-NAR-3+8-2_(mapped)LF-WikiSeeAlsoTitles-320K/checkpoint-190000'\n",
    "model = DBT007.from_pretrained(mname, tn_targ=10_000, ig_tok=0)"
   ]
  },
  {
   "cell_type": "code",
   "execution_count": null,
   "id": "ff590378-466d-48e0-8787-6d9318301fd6",
   "metadata": {},
   "outputs": [],
   "source": [
    "#| export\n",
    "args = XCLearningArguments(\n",
    "    output_dir=f'{dump_dir}/distilbert-base-uncased_RB33-NAR-3+8-2_(mapped)LF-WikiSeeAlsoTitles-320K',\n",
    "    generation_length_penalty=1.5,\n",
    "    per_device_eval_batch_size=16,\n",
    "    evaluation_strategy='steps',\n",
    "    label_names=['lbl2data_idx'],\n",
    ")"
   ]
  },
  {
   "cell_type": "code",
   "execution_count": null,
   "id": "be4cd9aa-91f1-48f8-a188-b33e6810dd92",
   "metadata": {},
   "outputs": [],
   "source": [
    "#| export\n",
    "metric = PrecRecl(test_dset.n_lbl, test_dset.data.data_lbl_filterer, prop=block.train.dset.data.data_lbl,\n",
    "                  pk=10, rk=200, rep_pk=[1, 3, 5, 10], rep_rk=[2, 3, 10, 50, 100, 200])"
   ]
  },
  {
   "cell_type": "code",
   "execution_count": null,
   "id": "44c09802-1869-4f4d-af21-11bd313f0bd7",
   "metadata": {},
   "outputs": [],
   "source": [
    "metric = PrecRecl(block.n_lbl, block.test.data_lbl_filterer, prop=block.train.dset.data.data_lbl,\n",
    "                  pk=10, rk=200, rep_pk=[1, 3, 5, 10], rep_rk=[2, 3, 10, 50, 100, 200])"
   ]
  },
  {
   "cell_type": "code",
   "execution_count": null,
   "id": "24a1e37b-0e83-49a3-8a15-ceb09680d87c",
   "metadata": {},
   "outputs": [
    {
     "name": "stderr",
     "output_type": "stream",
     "text": [
      "/scratch/scai/phd/aiz218323/anaconda3/envs/xc_nlg/lib/python3.9/site-packages/accelerate/accelerator.py:432: FutureWarning: Passing the following arguments to `Accelerator` is deprecated and will be removed in version 1.0 of Accelerate: dict_keys(['dispatch_batches', 'split_batches', 'even_batches', 'use_seedable_sampler']). Please pass an `accelerate.DataLoaderConfiguration` instead: \n",
      "dataloader_config = DataLoaderConfiguration(dispatch_batches=None, split_batches=False, even_batches=True, use_seedable_sampler=True)\n",
      "  warnings.warn(\n",
      "Detected kernel version 3.10.0, which is below the recommended minimum of 5.5.0; this can cause the process to hang. It is recommended to upgrade the kernel to the minimum version or higher.\n"
     ]
    }
   ],
   "source": [
    "#| export\n",
    "learn = XCLearner(\n",
    "    model=model, \n",
    "    args=args,\n",
    "    data_collator=block.collator, \n",
    "    compute_metrics=metric,\n",
    ")"
   ]
  },
  {
   "cell_type": "markdown",
   "id": "aeefbcb5-fc7e-434b-898a-2384e405879b",
   "metadata": {},
   "source": [
    "## `meta-augmented trie`"
   ]
  },
  {
   "cell_type": "code",
   "execution_count": null,
   "id": "72ea3720-6218-4a83-85b9-ed6c2d9fd0bd",
   "metadata": {},
   "outputs": [
    {
     "data": {
      "application/vnd.jupyter.widget-view+json": {
       "model_id": "785f94af46ff486699ced509bb6201ef",
       "version_major": 2,
       "version_minor": 0
      },
      "text/plain": [
       "  0%|          | 0/312330 [00:00<?, ?it/s]"
      ]
     },
     "metadata": {},
     "output_type": "display_data"
    },
    {
     "data": {
      "application/vnd.jupyter.widget-view+json": {
       "model_id": "fd4da790987f4cc68a58f398bb9d8bae",
       "version_major": 2,
       "version_minor": 0
      },
      "text/plain": [
       "  0%|          | 0/2458399 [00:00<?, ?it/s]"
      ]
     },
     "metadata": {},
     "output_type": "display_data"
    }
   ],
   "source": [
    "a_trie = XCTrie.from_block(block, meta=['hlk'])"
   ]
  },
  {
   "cell_type": "code",
   "execution_count": null,
   "id": "c5ddaa68-fbfa-487f-9048-71594b48be51",
   "metadata": {},
   "outputs": [],
   "source": [
    "learn.tbs.trie = a_trie"
   ]
  },
  {
   "cell_type": "code",
   "execution_count": null,
   "id": "2d535aff-6b71-469f-8754-4b0374c4c95f",
   "metadata": {},
   "outputs": [],
   "source": [
    "learn.tbs.n_bm = learn.args.generation_num_beams = 50"
   ]
  },
  {
   "cell_type": "code",
   "execution_count": null,
   "id": "0991ee28-2ea3-4b75-81ef-310332037c8d",
   "metadata": {},
   "outputs": [
    {
     "name": "stderr",
     "output_type": "stream",
     "text": [
      "/scratch/scai/phd/aiz218323/anaconda3/envs/xc_nlg/lib/python3.9/site-packages/torch/nn/parallel/_functions.py:68: UserWarning: Was asked to gather along dimension 0, but all input tensors were scalars; will instead unsqueeze and return a vector.\n",
      "  warnings.warn('Was asked to gather along dimension 0, but all '\n"
     ]
    },
    {
     "data": {
      "text/html": [],
      "text/plain": [
       "<IPython.core.display.HTML object>"
      ]
     },
     "metadata": {},
     "output_type": "display_data"
    },
    {
     "name": "stderr",
     "output_type": "stream",
     "text": [
      "/scratch/scai/phd/aiz218323/anaconda3/envs/xc_nlg/lib/python3.9/site-packages/scipy/sparse/_index.py:145: SparseEfficiencyWarning: Changing the sparsity structure of a csr_matrix is expensive. lil_matrix is more efficient.\n",
      "  self._set_arrayXarray(i, j, x)\n"
     ]
    },
    {
     "data": {
      "text/html": [
       "<div>\n",
       "<style scoped>\n",
       "    .dataframe tbody tr th:only-of-type {\n",
       "        vertical-align: middle;\n",
       "    }\n",
       "\n",
       "    .dataframe tbody tr th {\n",
       "        vertical-align: top;\n",
       "    }\n",
       "\n",
       "    .dataframe thead th {\n",
       "        text-align: right;\n",
       "    }\n",
       "</style>\n",
       "<table border=\"1\" class=\"dataframe\">\n",
       "  <thead>\n",
       "    <tr style=\"text-align: right;\">\n",
       "      <th></th>\n",
       "      <th>P@1</th>\n",
       "      <th>P@3</th>\n",
       "      <th>P@5</th>\n",
       "      <th>P@10</th>\n",
       "      <th>N@1</th>\n",
       "      <th>N@3</th>\n",
       "      <th>N@5</th>\n",
       "      <th>N@10</th>\n",
       "      <th>PSP@1</th>\n",
       "      <th>PSP@3</th>\n",
       "      <th>PSP@5</th>\n",
       "      <th>PSP@10</th>\n",
       "      <th>PSN@1</th>\n",
       "      <th>PSN@3</th>\n",
       "      <th>PSN@5</th>\n",
       "      <th>PSN@10</th>\n",
       "      <th>R@2</th>\n",
       "      <th>R@3</th>\n",
       "      <th>R@10</th>\n",
       "      <th>R@50</th>\n",
       "      <th>R@100</th>\n",
       "      <th>R@200</th>\n",
       "      <th>loss</th>\n",
       "      <th>runtime</th>\n",
       "      <th>samples_per_second</th>\n",
       "      <th>steps_per_second</th>\n",
       "    </tr>\n",
       "  </thead>\n",
       "  <tbody>\n",
       "    <tr>\n",
       "      <th>0</th>\n",
       "      <td>13.9</td>\n",
       "      <td>7.6667</td>\n",
       "      <td>5.45</td>\n",
       "      <td>3.18</td>\n",
       "      <td>13.9</td>\n",
       "      <td>12.8276</td>\n",
       "      <td>12.9828</td>\n",
       "      <td>13.4749</td>\n",
       "      <td>8.3367</td>\n",
       "      <td>7.7294</td>\n",
       "      <td>7.9533</td>\n",
       "      <td>8.5796</td>\n",
       "      <td>8.3367</td>\n",
       "      <td>8.3706</td>\n",
       "      <td>8.7535</td>\n",
       "      <td>9.2995</td>\n",
       "      <td>10.3099</td>\n",
       "      <td>11.8286</td>\n",
       "      <td>14.9729</td>\n",
       "      <td>20.2701</td>\n",
       "      <td>24.2323</td>\n",
       "      <td>29.5366</td>\n",
       "      <td>7.0555</td>\n",
       "      <td>1380.2638</td>\n",
       "      <td>1.449</td>\n",
       "      <td>0.046</td>\n",
       "    </tr>\n",
       "  </tbody>\n",
       "</table>\n",
       "</div>"
      ],
      "text/plain": [
       "    P@1     P@3   P@5  P@10   N@1      N@3      N@5     N@10   PSP@1   PSP@3  \\\n",
       "0  13.9  7.6667  5.45  3.18  13.9  12.8276  12.9828  13.4749  8.3367  7.7294   \n",
       "\n",
       "    PSP@5  PSP@10   PSN@1   PSN@3   PSN@5  PSN@10      R@2      R@3     R@10  \\\n",
       "0  7.9533  8.5796  8.3367  8.3706  8.7535  9.2995  10.3099  11.8286  14.9729   \n",
       "\n",
       "      R@50    R@100    R@200    loss    runtime  samples_per_second  \\\n",
       "0  20.2701  24.2323  29.5366  7.0555  1380.2638               1.449   \n",
       "\n",
       "   steps_per_second  \n",
       "0             0.046  "
      ]
     },
     "metadata": {},
     "output_type": "display_data"
    }
   ],
   "source": [
    "o = learn.predict(test_dset)\n",
    "display_metric(o.metrics)"
   ]
  },
  {
   "cell_type": "code",
   "execution_count": null,
   "id": "45c4be94-8bfc-45ba-8948-bbedbd7d9089",
   "metadata": {},
   "outputs": [],
   "source": [
    "pred_fname = f'{dump_dir}/distilbert-base-uncased_RB33-NAR-3+8-2_(mapped)LF-WikiSeeAlsoTitles-320K/checkpoint-190000/predictions/test_lbl_atrie-hlk_n-bm-50_n-smp-2000_seed-50.pth'\n",
    "os.makedirs(os.path.dirname(pred_fname), exist_ok=True)\n",
    "torch.save(o, pred_fname)"
   ]
  },
  {
   "cell_type": "code",
   "execution_count": null,
   "id": "6e091fd1-e76d-4d8e-a5f5-0053986a2f93",
   "metadata": {},
   "outputs": [
    {
     "data": {
      "text/plain": [
       "XCPredictionOutput(pred_idx=tensor([229942,  29816,  45914,  ..., 142001, 253117, 292993]), pred_ptr=tensor([  286,   404,   878,  ...,   204, 25183,   392]), pred_score=tensor([-1.0248, -1.1815, -0.8172,  ..., -0.4384, -0.4637, -0.4913]), metrics={'test_loss': 7.055476665496826, 'test_P@1': 0.139, 'test_P@10': 0.031800000000000224, 'test_P@3': 0.07666666666666666, 'test_P@5': 0.054500000000000354, 'test_N@1': 0.13899999856948853, 'test_N@10': 0.13474920392036438, 'test_N@3': 0.12827645242214203, 'test_N@5': 0.12982787191867828, 'test_PSP@1': 0.08336684690000871, 'test_PSP@10': 0.08579561705091043, 'test_PSP@3': 0.07729367959070517, 'test_PSP@5': 0.0795326374294427, 'test_PSN@1': 0.08336684852838516, 'test_PSN@10': 0.09299467504024506, 'test_PSN@3': 0.08370551466941833, 'test_PSN@5': 0.08753456175327301, 'test_R@2': 0.10309929511203486, 'test_R@3': 0.11828644497197885, 'test_R@100': 0.24232262874735358, 'test_R@200': 0.2953656171229654, 'test_R@10': 0.14972857290123906, 'test_R@50': 0.20270098241982493, 'test_runtime': 1380.2638, 'test_samples_per_second': 1.449, 'test_steps_per_second': 0.046}, num_samples=2000)"
      ]
     },
     "execution_count": null,
     "metadata": {},
     "output_type": "execute_result"
    }
   ],
   "source": [
    "o"
   ]
  },
  {
   "cell_type": "markdown",
   "id": "e22e6f34-f666-4a62-800e-e4c5c4b944ea",
   "metadata": {},
   "source": [
    "### __Shortlist & Total recall__"
   ]
  },
  {
   "cell_type": "markdown",
   "id": "afebba34-b7f4-4bf8-acf7-edfce8cf4a82",
   "metadata": {},
   "source": [
    "All the numbers reported below are on a sample of 2000 points."
   ]
  },
  {
   "cell_type": "code",
   "execution_count": null,
   "id": "8b68f1a6-f596-4ef6-815b-cfd231d93a86",
   "metadata": {},
   "outputs": [
    {
     "data": {
      "text/html": [
       "<div>\n",
       "<style scoped>\n",
       "    .dataframe tbody tr th:only-of-type {\n",
       "        vertical-align: middle;\n",
       "    }\n",
       "\n",
       "    .dataframe tbody tr th {\n",
       "        vertical-align: top;\n",
       "    }\n",
       "\n",
       "    .dataframe thead th {\n",
       "        text-align: right;\n",
       "    }\n",
       "</style>\n",
       "<table border=\"1\" class=\"dataframe\">\n",
       "  <thead>\n",
       "    <tr style=\"text-align: right;\">\n",
       "      <th></th>\n",
       "      <th>mean</th>\n",
       "      <th>std</th>\n",
       "      <th>25</th>\n",
       "      <th>50</th>\n",
       "      <th>75</th>\n",
       "    </tr>\n",
       "  </thead>\n",
       "  <tbody>\n",
       "    <tr>\n",
       "      <th>0</th>\n",
       "      <td>1450.035522</td>\n",
       "      <td>3529.84668</td>\n",
       "      <td>246.0</td>\n",
       "      <td>485.5</td>\n",
       "      <td>1016.25</td>\n",
       "    </tr>\n",
       "  </tbody>\n",
       "</table>\n",
       "</div>"
      ],
      "text/plain": [
       "          mean         std     25     50       75\n",
       "0  1450.035522  3529.84668  246.0  485.5  1016.25"
      ]
     },
     "execution_count": null,
     "metadata": {},
     "output_type": "execute_result"
    }
   ],
   "source": [
    "s = get_tensor_statistics(o.pred_ptr);s"
   ]
  },
  {
   "cell_type": "code",
   "execution_count": null,
   "id": "f61ff789-db0d-4db1-a3b5-7bc60af0b135",
   "metadata": {},
   "outputs": [],
   "source": []
  },
  {
   "cell_type": "code",
   "execution_count": null,
   "id": "9e34f427-b661-4e72-845b-ef73075220fe",
   "metadata": {},
   "outputs": [
    {
     "name": "stderr",
     "output_type": "stream",
     "text": [
      "/scratch/scai/phd/aiz218323/anaconda3/envs/xc_nlg/lib/python3.9/site-packages/scipy/sparse/_index.py:145: SparseEfficiencyWarning: Changing the sparsity structure of a csr_matrix is expensive. lil_matrix is more efficient.\n",
      "  self._set_arrayXarray(i, j, x)\n"
     ]
    },
    {
     "name": "stdout",
     "output_type": "stream",
     "text": [
      "Total recall : 50.935\n"
     ]
    }
   ],
   "source": [
    "r, rm = total_recall(o.pred_idx, o.pred_ptr, test_dset.data.data_lbl, test_dset.data.data_lbl_filterer) \n",
    "print(f'Total recall : {r*100:.3f}')"
   ]
  },
  {
   "cell_type": "code",
   "execution_count": null,
   "id": "a404781b-d1f6-4460-89c1-5eb90a3fe092",
   "metadata": {},
   "outputs": [
    {
     "data": {
      "text/html": [
       "<div>\n",
       "<style scoped>\n",
       "    .dataframe tbody tr th:only-of-type {\n",
       "        vertical-align: middle;\n",
       "    }\n",
       "\n",
       "    .dataframe tbody tr th {\n",
       "        vertical-align: top;\n",
       "    }\n",
       "\n",
       "    .dataframe thead th {\n",
       "        text-align: right;\n",
       "    }\n",
       "</style>\n",
       "<table border=\"1\" class=\"dataframe\">\n",
       "  <thead>\n",
       "    <tr style=\"text-align: right;\">\n",
       "      <th></th>\n",
       "      <th>mean</th>\n",
       "      <th>std</th>\n",
       "      <th>25</th>\n",
       "      <th>50</th>\n",
       "      <th>75</th>\n",
       "    </tr>\n",
       "  </thead>\n",
       "  <tbody>\n",
       "    <tr>\n",
       "      <th>0</th>\n",
       "      <td>50.934647</td>\n",
       "      <td>42.1646</td>\n",
       "      <td>0.0</td>\n",
       "      <td>50.0</td>\n",
       "      <td>100.0</td>\n",
       "    </tr>\n",
       "  </tbody>\n",
       "</table>\n",
       "</div>"
      ],
      "text/plain": [
       "        mean      std   25    50     75\n",
       "0  50.934647  42.1646  0.0  50.0  100.0"
      ]
     },
     "execution_count": null,
     "metadata": {},
     "output_type": "execute_result"
    }
   ],
   "source": [
    "r = get_tensor_statistics(torch.tensor(rm.sum(axis=1)).flatten()*rm.shape[0]*100); r"
   ]
  },
  {
   "cell_type": "code",
   "execution_count": null,
   "id": "c80d7dfb-247c-4f3c-bac7-8a9cc6d15074",
   "metadata": {},
   "outputs": [],
   "source": [
    "data_rec = torch.tensor(rm.sum(axis=1)).flatten()"
   ]
  },
  {
   "cell_type": "code",
   "execution_count": null,
   "id": "804781ce-5f11-491b-9e01-95e5a455d7be",
   "metadata": {},
   "outputs": [
    {
     "data": {
      "text/plain": [
       "<matplotlib.collections.PathCollection>"
      ]
     },
     "execution_count": null,
     "metadata": {},
     "output_type": "execute_result"
    },
    {
     "data": {
      "image/png": "[encoded data removed]",
      "text/plain": [
       "<Figure size 700x500 with 1 Axes>"
      ]
     },
     "metadata": {},
     "output_type": "display_data"
    }
   ],
   "source": [
    "import matplotlib.pyplot as plt\n",
    "\n",
    "set_plot_defaults()\n",
    "plt.figure(figsize=(7,5))\n",
    "plt.yscale('log')\n",
    "idx = torch.where(data_rec > 0)[0]\n",
    "plt.scatter(data_rec[idx], o.pred_ptr[idx], s=5)"
   ]
  },
  {
   "cell_type": "code",
   "execution_count": null,
   "id": "3b395240-7380-4f4d-9dda-27a914c1f1d3",
   "metadata": {},
   "outputs": [
    {
     "data": {
      "text/plain": [
       "(PearsonRResult(statistic=0.01051562736746846, pvalue=0.6383606325600909),\n",
       " SignificanceResult(statistic=-0.01098348036247465, pvalue=0.6234944221550949))"
      ]
     },
     "execution_count": null,
     "metadata": {},
     "output_type": "execute_result"
    }
   ],
   "source": [
    "stats.pearsonr(data_rec, o.pred_ptr), stats.spearmanr(data_rec, o.pred_ptr)"
   ]
  },
  {
   "cell_type": "markdown",
   "id": "0e8883d2-30d2-47a6-8013-d9dec9339947",
   "metadata": {},
   "source": [
    "# Representation"
   ]
  },
  {
   "cell_type": "code",
   "execution_count": null,
   "id": "c009294d-803a-4fdf-948a-90c6eb58d1ca",
   "metadata": {},
   "outputs": [],
   "source": [
    "args = XCLearningArguments(\n",
    "    output_dir='/scratch/scai/phd/aiz218323/Projects/xc_nlg/outputs/05-metadata-augmented-input-and-trie-for-distilbert/ngame_v-3-100_(mapped)LF-WikiSeeAlsoTitles-320K/',\n",
    "    index_efs=200,\n",
    "    representation_num_beams=200,\n",
    "    generation_length_penalty=1.5,\n",
    "    per_device_eval_batch_size=16,\n",
    "    evaluation_strategy='steps',\n",
    "    label_names=['lbl2data_idx'],\n",
    ")"
   ]
  },
  {
   "cell_type": "code",
   "execution_count": null,
   "id": "794d280e-2a1e-4df5-82b5-969f15363df9",
   "metadata": {},
   "outputs": [
    {
     "name": "stderr",
     "output_type": "stream",
     "text": [
      "Some weights of DBT008 were not initialized from the model checkpoint at sentence-transformers/msmarco-distilbert-base-v4 and are newly initialized: ['loss_fn.u', 'loss_fn.v']\n",
      "You should probably TRAIN this model on a down-stream task to be able to use it for predictions and inference.\n"
     ]
    }
   ],
   "source": [
    "bsz = max(args.per_device_train_batch_size, args.per_device_eval_batch_size)*torch.cuda.device_count()\n",
    "model = DBT008.from_pretrained('sentence-transformers/msmarco-distilbert-base-v4', bsz=bsz, tn_targ=10_000, ig_tok=0)"
   ]
  },
  {
   "cell_type": "code",
   "execution_count": null,
   "id": "4ef9da23-0943-4464-a5fc-005257c9c719",
   "metadata": {},
   "outputs": [
    {
     "data": {
      "text/plain": [
       "_IncompatibleKeys(missing_keys=['loss_fn.u', 'loss_fn.v'], unexpected_keys=[])"
      ]
     },
     "execution_count": null,
     "metadata": {},
     "output_type": "execute_result"
    }
   ],
   "source": [
    "from collections import OrderedDict\n",
    "\n",
    "mname = f'{args.output_dir}/model_network.pkl'\n",
    "m_state_dict, msd = OrderedDict(), torch.load(mname)\n",
    "for k in msd:\n",
    "    o = k.split('.')\n",
    "    if o[0] == 'encoder': m_state_dict['distilbert.'+'.'.join(o[5:])] = msd[k]\n",
    "model.load_state_dict(m_state_dict, strict=False)\n"
   ]
  },
  {
   "cell_type": "code",
   "execution_count": null,
   "id": "3008a1cc-154d-424e-a51c-bf53a9f41e67",
   "metadata": {},
   "outputs": [],
   "source": [
    "metric = PrecRecl(test_dset.n_lbl, test_dset.data.data_lbl_filterer, prop=block.train.dset.data.data_lbl,\n",
    "                  pk=10, rk=200, rep_pk=[1, 3, 5, 10], rep_rk=[2, 3, 10, 50, 100, 200])"
   ]
  },
  {
   "cell_type": "code",
   "execution_count": null,
   "id": "af7287c0-ec2e-4074-918e-71f25512a2df",
   "metadata": {},
   "outputs": [],
   "source": [
    "metric = PrecRecl(block.n_lbl, block.test.data_lbl_filterer, prop=block.train.dset.data.data_lbl,\n",
    "                  pk=10, rk=200, rep_pk=[1, 3, 5, 10], rep_rk=[2, 3, 10, 50, 100, 200])"
   ]
  },
  {
   "cell_type": "code",
   "execution_count": null,
   "id": "1b44efee-0b0c-4118-9814-82077b72ced0",
   "metadata": {},
   "outputs": [
    {
     "name": "stderr",
     "output_type": "stream",
     "text": [
      "/scratch/scai/phd/aiz218323/anaconda3/envs/xc_nlg/lib/python3.9/site-packages/accelerate/accelerator.py:432: FutureWarning: Passing the following arguments to `Accelerator` is deprecated and will be removed in version 1.0 of Accelerate: dict_keys(['dispatch_batches', 'split_batches', 'even_batches', 'use_seedable_sampler']). Please pass an `accelerate.DataLoaderConfiguration` instead: \n",
      "dataloader_config = DataLoaderConfiguration(dispatch_batches=None, split_batches=False, even_batches=True, use_seedable_sampler=True)\n",
      "  warnings.warn(\n",
      "Detected kernel version 3.10.0, which is below the recommended minimum of 5.5.0; this can cause the process to hang. It is recommended to upgrade the kernel to the minimum version or higher.\n"
     ]
    }
   ],
   "source": [
    "learn = XCLearner(\n",
    "    model=model, \n",
    "    args=args,\n",
    "    data_collator=block.collator, \n",
    "    compute_metrics=metric,\n",
    ")"
   ]
  },
  {
   "cell_type": "markdown",
   "id": "43ab8adb-03f1-443c-86b8-03132dead64b",
   "metadata": {},
   "source": [
    "## Reranking"
   ]
  },
  {
   "cell_type": "code",
   "execution_count": null,
   "id": "cd341dde-36de-4d23-be18-e4fe9db2e47f",
   "metadata": {},
   "outputs": [],
   "source": [
    "import torch.nn.functional as F"
   ]
  },
  {
   "cell_type": "code",
   "execution_count": null,
   "id": "5c1bf2fa-67eb-4583-a87d-d5a8ae65bf31",
   "metadata": {},
   "outputs": [
    {
     "data": {
      "application/vnd.jupyter.widget-view+json": {
       "model_id": "a6beaad8ea6f4f51815d2f2cd11c47c0",
       "version_major": 2,
       "version_minor": 0
      },
      "text/plain": [
       "  0%|          | 0/63 [00:00<?, ?it/s]"
      ]
     },
     "metadata": {},
     "output_type": "display_data"
    }
   ],
   "source": [
    "data_repr = F.normalize(learn.get_representation(learn.get_test_dataloader(test_dset)), dim=1)"
   ]
  },
  {
   "cell_type": "code",
   "execution_count": null,
   "id": "76743679-cca1-48d2-82ff-ee189e85b7f6",
   "metadata": {},
   "outputs": [
    {
     "data": {
      "application/vnd.jupyter.widget-view+json": {
       "model_id": "d295ccd2a9f84d14bd0166ca5278c323",
       "version_major": 2,
       "version_minor": 0
      },
      "text/plain": [
       "  0%|          | 0/9761 [00:00<?, ?it/s]"
      ]
     },
     "metadata": {},
     "output_type": "display_data"
    }
   ],
   "source": [
    "lbl_repr = F.normalize(learn.get_representation(learn.get_test_dataloader(test_dset.lbl_dset)), dim=1)"
   ]
  },
  {
   "cell_type": "code",
   "execution_count": null,
   "id": "6867bb0e-0745-44f9-a4c1-344a57be3151",
   "metadata": {},
   "outputs": [],
   "source": [
    "pred_fname = f'{dump_dir}/distilbert-base-uncased_RB33-NAR-3+8-2_(mapped)LF-WikiSeeAlsoTitles-320K/checkpoint-190000/predictions/test_lbl_atrie-hlk_n-bm-50_n-smp-2000_seed-50.pth'\n",
    "pred = torch.load(pred_fname)"
   ]
  },
  {
   "cell_type": "code",
   "execution_count": null,
   "id": "30461eaa-6489-4e9d-93bb-46d9f9cd060d",
   "metadata": {},
   "outputs": [],
   "source": []
  },
  {
   "cell_type": "code",
   "execution_count": null,
   "id": "6f0412dc-bd2a-44cb-b504-7bc0ee7c9ee7",
   "metadata": {},
   "outputs": [
    {
     "data": {
      "application/vnd.jupyter.widget-view+json": {
       "model_id": "b40d7e29ee10418eb94c34481f829b23",
       "version_major": 2,
       "version_minor": 0
      },
      "text/plain": [
       "  0%|          | 0/2000 [00:00<?, ?it/s]"
      ]
     },
     "metadata": {},
     "output_type": "display_data"
    }
   ],
   "source": [
    "from tqdm.auto import tqdm\n",
    "sc,p = [],0\n",
    "for q,d in tqdm(zip(pred.pred_ptr.cumsum(0),data_repr), total=data_repr.shape[0]):\n",
    "    sc.append(d@lbl_repr[pred.pred_idx[p:q]].T);p=q\n",
    "sc = torch.cat(sc)"
   ]
  },
  {
   "cell_type": "code",
   "execution_count": null,
   "id": "e7fa537a-d4f8-44cf-9f24-9db50ed4626d",
   "metadata": {},
   "outputs": [],
   "source": [
    "o = {\n",
    "    'pred_idx': pred.pred_idx,\n",
    "    'pred_ptr': pred.pred_ptr,\n",
    "    'pred_score': pred.pred_score,\n",
    "}\n",
    "o['targ_idx'] = torch.tensor(test_dset.data.data_lbl.indices, dtype=torch.long)\n",
    "o['targ_ptr'] = torch.tensor([o.getnnz() for o in test_dset.data.data_lbl])"
   ]
  },
  {
   "cell_type": "code",
   "execution_count": null,
   "id": "01002f8b-32f6-42ae-9a81-6ba68a8626e0",
   "metadata": {},
   "outputs": [
    {
     "name": "stderr",
     "output_type": "stream",
     "text": [
      "/scratch/scai/phd/aiz218323/anaconda3/envs/xc_nlg/lib/python3.9/site-packages/scipy/sparse/_index.py:145: SparseEfficiencyWarning: Changing the sparsity structure of a csr_matrix is expensive. lil_matrix is more efficient.\n",
      "  self._set_arrayXarray(i, j, x)\n"
     ]
    }
   ],
   "source": [
    "m = metric(**o)"
   ]
  },
  {
   "cell_type": "code",
   "execution_count": null,
   "id": "134f3f27-d111-4faa-bd75-a28bb8ffc973",
   "metadata": {},
   "outputs": [
    {
     "data": {
      "text/html": [
       "<div>\n",
       "<style scoped>\n",
       "    .dataframe tbody tr th:only-of-type {\n",
       "        vertical-align: middle;\n",
       "    }\n",
       "\n",
       "    .dataframe tbody tr th {\n",
       "        vertical-align: top;\n",
       "    }\n",
       "\n",
       "    .dataframe thead th {\n",
       "        text-align: right;\n",
       "    }\n",
       "</style>\n",
       "<table border=\"1\" class=\"dataframe\">\n",
       "  <thead>\n",
       "    <tr style=\"text-align: right;\">\n",
       "      <th></th>\n",
       "      <th>P@1</th>\n",
       "      <th>P@3</th>\n",
       "      <th>P@5</th>\n",
       "      <th>P@10</th>\n",
       "      <th>N@1</th>\n",
       "      <th>N@3</th>\n",
       "      <th>N@5</th>\n",
       "      <th>N@10</th>\n",
       "      <th>PSP@1</th>\n",
       "      <th>PSP@3</th>\n",
       "      <th>PSP@5</th>\n",
       "      <th>PSP@10</th>\n",
       "      <th>PSN@1</th>\n",
       "      <th>PSN@3</th>\n",
       "      <th>PSN@5</th>\n",
       "      <th>PSN@10</th>\n",
       "      <th>R@2</th>\n",
       "      <th>R@3</th>\n",
       "      <th>R@10</th>\n",
       "      <th>R@50</th>\n",
       "      <th>R@100</th>\n",
       "      <th>R@200</th>\n",
       "    </tr>\n",
       "  </thead>\n",
       "  <tbody>\n",
       "    <tr>\n",
       "      <th>0</th>\n",
       "      <td>13.9</td>\n",
       "      <td>7.666667</td>\n",
       "      <td>5.45</td>\n",
       "      <td>3.18</td>\n",
       "      <td>13.9</td>\n",
       "      <td>12.827645</td>\n",
       "      <td>12.982787</td>\n",
       "      <td>13.47492</td>\n",
       "      <td>8.336685</td>\n",
       "      <td>7.729368</td>\n",
       "      <td>7.953264</td>\n",
       "      <td>8.579562</td>\n",
       "      <td>8.336685</td>\n",
       "      <td>8.370551</td>\n",
       "      <td>8.753456</td>\n",
       "      <td>9.299467</td>\n",
       "      <td>10.30993</td>\n",
       "      <td>11.828644</td>\n",
       "      <td>14.972857</td>\n",
       "      <td>20.270098</td>\n",
       "      <td>24.232263</td>\n",
       "      <td>29.536562</td>\n",
       "    </tr>\n",
       "  </tbody>\n",
       "</table>\n",
       "</div>"
      ],
      "text/plain": [
       "    P@1       P@3   P@5  P@10   N@1        N@3        N@5      N@10     PSP@1  \\\n",
       "0  13.9  7.666667  5.45  3.18  13.9  12.827645  12.982787  13.47492  8.336685   \n",
       "\n",
       "      PSP@3     PSP@5    PSP@10     PSN@1     PSN@3     PSN@5    PSN@10  \\\n",
       "0  7.729368  7.953264  8.579562  8.336685  8.370551  8.753456  9.299467   \n",
       "\n",
       "        R@2        R@3       R@10       R@50      R@100      R@200  \n",
       "0  10.30993  11.828644  14.972857  20.270098  24.232263  29.536562  "
      ]
     },
     "metadata": {},
     "output_type": "display_data"
    }
   ],
   "source": [
    "with pd.option_context('display.max_columns', None):\n",
    "    display(pd.DataFrame([m])[sorted_metric(m, order=['P', 'N', 'PSP', 'PSN'])] * 100)"
   ]
  },
  {
   "cell_type": "code",
   "execution_count": null,
   "id": "d0e5a2e0-1432-4968-bf83-6598cea9ff88",
   "metadata": {},
   "outputs": [],
   "source": [
    "o['pred_score'] = sc"
   ]
  },
  {
   "cell_type": "code",
   "execution_count": null,
   "id": "b6dba690-7cff-4f46-a364-b3f518948f54",
   "metadata": {},
   "outputs": [
    {
     "name": "stderr",
     "output_type": "stream",
     "text": [
      "/scratch/scai/phd/aiz218323/anaconda3/envs/xc_nlg/lib/python3.9/site-packages/scipy/sparse/_index.py:145: SparseEfficiencyWarning: Changing the sparsity structure of a csr_matrix is expensive. lil_matrix is more efficient.\n",
      "  self._set_arrayXarray(i, j, x)\n"
     ]
    }
   ],
   "source": [
    "m = metric(**o)"
   ]
  },
  {
   "cell_type": "code",
   "execution_count": null,
   "id": "810984ad-44bd-4451-830c-631c474ee208",
   "metadata": {},
   "outputs": [],
   "source": []
  },
  {
   "cell_type": "code",
   "execution_count": null,
   "id": "1321ad11-aa10-497f-8eed-2212396df54b",
   "metadata": {},
   "outputs": [
    {
     "data": {
      "text/html": [
       "<div>\n",
       "<style scoped>\n",
       "    .dataframe tbody tr th:only-of-type {\n",
       "        vertical-align: middle;\n",
       "    }\n",
       "\n",
       "    .dataframe tbody tr th {\n",
       "        vertical-align: top;\n",
       "    }\n",
       "\n",
       "    .dataframe thead th {\n",
       "        text-align: right;\n",
       "    }\n",
       "</style>\n",
       "<table border=\"1\" class=\"dataframe\">\n",
       "  <thead>\n",
       "    <tr style=\"text-align: right;\">\n",
       "      <th></th>\n",
       "      <th>P@1</th>\n",
       "      <th>P@3</th>\n",
       "      <th>P@5</th>\n",
       "      <th>P@10</th>\n",
       "      <th>N@1</th>\n",
       "      <th>N@3</th>\n",
       "      <th>N@5</th>\n",
       "      <th>N@10</th>\n",
       "      <th>PSP@1</th>\n",
       "      <th>PSP@3</th>\n",
       "      <th>PSP@5</th>\n",
       "      <th>PSP@10</th>\n",
       "      <th>PSN@1</th>\n",
       "      <th>PSN@3</th>\n",
       "      <th>PSN@5</th>\n",
       "      <th>PSN@10</th>\n",
       "      <th>R@2</th>\n",
       "      <th>R@3</th>\n",
       "      <th>R@10</th>\n",
       "      <th>R@50</th>\n",
       "      <th>R@100</th>\n",
       "      <th>R@200</th>\n",
       "    </tr>\n",
       "  </thead>\n",
       "  <tbody>\n",
       "    <tr>\n",
       "      <th>0</th>\n",
       "      <td>24.25</td>\n",
       "      <td>17.316667</td>\n",
       "      <td>13.54</td>\n",
       "      <td>8.795</td>\n",
       "      <td>24.25</td>\n",
       "      <td>25.335682</td>\n",
       "      <td>26.772436</td>\n",
       "      <td>28.908407</td>\n",
       "      <td>14.99304</td>\n",
       "      <td>17.756563</td>\n",
       "      <td>20.353943</td>\n",
       "      <td>24.711863</td>\n",
       "      <td>14.99304</td>\n",
       "      <td>17.670029</td>\n",
       "      <td>19.543997</td>\n",
       "      <td>21.791258</td>\n",
       "      <td>19.276151</td>\n",
       "      <td>23.778776</td>\n",
       "      <td>35.378377</td>\n",
       "      <td>45.396318</td>\n",
       "      <td>47.681621</td>\n",
       "      <td>48.792787</td>\n",
       "    </tr>\n",
       "  </tbody>\n",
       "</table>\n",
       "</div>"
      ],
      "text/plain": [
       "     P@1        P@3    P@5   P@10    N@1        N@3        N@5       N@10  \\\n",
       "0  24.25  17.316667  13.54  8.795  24.25  25.335682  26.772436  28.908407   \n",
       "\n",
       "      PSP@1      PSP@3      PSP@5     PSP@10     PSN@1      PSN@3      PSN@5  \\\n",
       "0  14.99304  17.756563  20.353943  24.711863  14.99304  17.670029  19.543997   \n",
       "\n",
       "      PSN@10        R@2        R@3       R@10       R@50      R@100      R@200  \n",
       "0  21.791258  19.276151  23.778776  35.378377  45.396318  47.681621  48.792787  "
      ]
     },
     "metadata": {},
     "output_type": "display_data"
    }
   ],
   "source": [
    "with pd.option_context('display.max_columns', None):\n",
    "    display(pd.DataFrame([m])[sorted_metric(m, order=['P', 'N', 'PSP', 'PSN'])] * 100)"
   ]
  },
  {
   "cell_type": "code",
   "execution_count": null,
   "id": "623fe512-52e0-4e52-bae6-033aeaa2d8a2",
   "metadata": {},
   "outputs": [],
   "source": []
  }
 ],
 "metadata": {
  "kernelspec": {
   "display_name": "python3",
   "language": "python",
   "name": "python3"
  }
 },
 "nbformat": 4,
 "nbformat_minor": 5
}
