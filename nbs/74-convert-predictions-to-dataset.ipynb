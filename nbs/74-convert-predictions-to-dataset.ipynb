{
 "cells": [
  {
   "cell_type": "code",
   "execution_count": null,
   "id": "d60b51bd-0144-4139-8be5-7602bad6a9c8",
   "metadata": {},
   "outputs": [],
   "source": [
    "#| default_exp 74-convert-predictions-to-dataset"
   ]
  },
  {
   "cell_type": "code",
   "execution_count": null,
   "id": "65e00e5c-ff88-425d-a828-7ca5d02215ab",
   "metadata": {},
   "outputs": [],
   "source": [
    "%load_ext autoreload\n",
    "%autoreload 2\n",
    "\n",
    "from nbdev.showdoc import *\n",
    "import nbdev; nbdev.nbdev_export()"
   ]
  },
  {
   "cell_type": "code",
   "execution_count": null,
   "id": "874750be-c904-447e-8754-3eefcb9586d6",
   "metadata": {},
   "outputs": [
    {
     "name": "stderr",
     "output_type": "stream",
     "text": [
      "comet_ml is installed but `COMET_API_KEY` is not set.\n"
     ]
    }
   ],
   "source": [
    "#| export\n",
    "import xclib.data.data_utils as du, os, numpy as np\n",
    "from scipy import sparse\n",
    "from xclib.utils.sparse import retain_topk\n",
    "\n",
    "from xcai.basics import *"
   ]
  },
  {
   "cell_type": "code",
   "execution_count": null,
   "id": "7f276b75-263a-4d6b-bd63-58fa3106f9f8",
   "metadata": {},
   "outputs": [],
   "source": [
    "#| export\n",
    "def load_pred(fname):\n",
    "    o = np.load(fname)\n",
    "    return sparse.csr_matrix((o['data'], o['indices'], o['indptr']), dtype=np.float32)\n",
    "    "
   ]
  },
  {
   "cell_type": "code",
   "execution_count": null,
   "id": "667e16d6-5383-40aa-a5e4-78823a2fd9c0",
   "metadata": {},
   "outputs": [],
   "source": [
    "import pickle\n",
    "import xclib.evaluation.xc_metrics as xc_metrics\n",
    "\n",
    "pkl_dir = '/home/scai/phd/aiz218323/scratch/datasets/'\n",
    "pkl_file = f'{pkl_dir}/processed/wikiseealso_data-metas_distilbert-base-uncased_rm_radga-cat-final.pkl'\n",
    "with open(pkl_file, 'rb') as file: block = pickle.load(file)"
   ]
  },
  {
   "cell_type": "code",
   "execution_count": null,
   "id": "5dddea62-c750-4553-b2f0-147649aa2236",
   "metadata": {},
   "outputs": [],
   "source": []
  },
  {
   "cell_type": "code",
   "execution_count": null,
   "id": "54a5bd41-8e37-457f-a36d-39e41a65ca6d",
   "metadata": {},
   "outputs": [],
   "source": [
    "#| export\n",
    "data_dir = '/home/scai/phd/aiz218323/Projects/XC_NLG/data/(mapped)LF-WikiSeeAlsoTitles-320K/'\n",
    "\n",
    "pred_name = f'{data_dir}/category_renee_trn_X_Y.npz'\n",
    "preds = retain_topk(load_pred(pred_name), k=5)\n",
    "du.write_sparse_file(preds, f'{data_dir}/category_renee_trn_X_Y.txt')"
   ]
  },
  {
   "cell_type": "code",
   "execution_count": null,
   "id": "fe806803-e073-41ee-970d-48ed4aadb180",
   "metadata": {},
   "outputs": [],
   "source": [
    "#| export\n",
    "pred_name = f'{data_dir}/category_renee_tst_X_Y.npz'\n",
    "preds = retain_topk(load_pred(pred_name), k=5)\n",
    "du.write_sparse_file(preds, f'{data_dir}/category_renee_tst_X_Y.txt')"
   ]
  },
  {
   "cell_type": "code",
   "execution_count": null,
   "id": "c31017fd-f33d-4ff1-9bfa-b4f54b4e2feb",
   "metadata": {},
   "outputs": [],
   "source": [
    "#| export\n",
    "preds = sparse.csr_matrix((312330, preds.shape[1]))\n",
    "du.write_sparse_file(preds, f'{data_dir}/category_renee_lbl_X_Y.txt')"
   ]
  },
  {
   "cell_type": "code",
   "execution_count": null,
   "id": "00fba325-1fb2-4b82-8ba5-262a7805a2c0",
   "metadata": {},
   "outputs": [
    {
     "data": {
      "text/plain": [
       "<312330x656086 sparse matrix of type '<class 'numpy.float64'>'\n",
       "\twith 0 stored elements in Compressed Sparse Row format>"
      ]
     },
     "execution_count": null,
     "metadata": {},
     "output_type": "execute_result"
    }
   ],
   "source": [
    "preds"
   ]
  },
  {
   "cell_type": "code",
   "execution_count": null,
   "id": "cd6fec15-68fd-4a74-930e-6dad1924b7e7",
   "metadata": {},
   "outputs": [],
   "source": []
  },
  {
   "cell_type": "code",
   "execution_count": null,
   "id": "841f8984-227c-42b6-b976-0daf776912bf",
   "metadata": {},
   "outputs": [],
   "source": [
    "#| export\n",
    "data_dir = '/home/scai/phd/aiz218323/Projects/XC_NLG/data/(mapped)LF-WikiTitles-500K'\n",
    "\n",
    "pred_name = f'{data_dir}/hyper_link_renee_trn_X_Y.npz'\n",
    "preds = retain_topk(load_pred(pred_name), k=5)\n",
    "du.write_sparse_file(preds, f'{data_dir}/hyper_link_renee_trn_X_Y.txt')\n",
    "\n",
    "pred_name = f'{data_dir}/hyper_link_renee_tst_X_Y.npz'\n",
    "preds = retain_topk(load_pred(pred_name), k=5)\n",
    "du.write_sparse_file(preds, f'{data_dir}/hyper_link_renee_tst_X_Y.txt')\n"
   ]
  },
  {
   "cell_type": "code",
   "execution_count": null,
   "id": "86e35a60-d294-4dbe-9b7f-2427a644e723",
   "metadata": {},
   "outputs": [],
   "source": [
    "preds = sparse.csr_matrix((501070, 2148579))\n",
    "du.write_sparse_file(preds, f'{data_dir}/hyper_link_renee_mean_lbl_X_Y.txt')"
   ]
  },
  {
   "cell_type": "code",
   "execution_count": null,
   "id": "54b4e7b6-8da9-47fb-964f-560467793eb8",
   "metadata": {},
   "outputs": [],
   "source": []
  },
  {
   "cell_type": "code",
   "execution_count": null,
   "id": "fd121403-3b27-4f33-9e9c-6b706277cb22",
   "metadata": {},
   "outputs": [],
   "source": [
    "mm = {'test_loss': 0.10312984138727188, 'test_P@1': 0.31473959947046726, 'test_P@10': 0.10122355857257198, 'test_P@3': 0.21092865391654453, 'test_P@5': 0.15981410021704986, 'test_N@1': 0.3147395849227905, 'test_N@10': 0.34065744280815125, 'test_N@3': 0.3120042383670807, 'test_N@5': 0.32217586040496826, 'test_PSP@1': 0.2514887944005124, 'test_PSP@10': 0.34089695437028794, 'test_PSP@3': 0.27419029556885166, 'test_PSP@5': 0.2967635068023241, 'test_PSN@1': 0.2514888048171997, 'test_PSN@10': 0.31435126066207886, 'test_PSN@3': 0.2755427658557892, 'test_PSN@5': 0.2925277054309845, 'test_R@200': 0.5521911673748926, 'test_R@10': 0.38738801172041304, 'test_R@100': 0.5229340005968272, 'test_runtime': 134.5473, 'test_samples_per_second': 1319.35, 'test_steps_per_second': 0.825}"
   ]
  },
  {
   "cell_type": "code",
   "execution_count": null,
   "id": "0fe19477-9146-4ce7-b5ca-e7d46f5c065b",
   "metadata": {},
   "outputs": [
    {
     "data": {
      "text/html": [
       "<div>\n",
       "<style scoped>\n",
       "    .dataframe tbody tr th:only-of-type {\n",
       "        vertical-align: middle;\n",
       "    }\n",
       "\n",
       "    .dataframe tbody tr th {\n",
       "        vertical-align: top;\n",
       "    }\n",
       "\n",
       "    .dataframe thead th {\n",
       "        text-align: right;\n",
       "    }\n",
       "</style>\n",
       "<table border=\"1\" class=\"dataframe\">\n",
       "  <thead>\n",
       "    <tr style=\"text-align: right;\">\n",
       "      <th></th>\n",
       "      <th>P@1</th>\n",
       "      <th>P@3</th>\n",
       "      <th>P@5</th>\n",
       "      <th>P@10</th>\n",
       "      <th>N@1</th>\n",
       "      <th>N@3</th>\n",
       "      <th>N@5</th>\n",
       "      <th>N@10</th>\n",
       "      <th>PSP@1</th>\n",
       "      <th>PSP@3</th>\n",
       "      <th>PSP@5</th>\n",
       "      <th>PSP@10</th>\n",
       "      <th>PSN@1</th>\n",
       "      <th>PSN@3</th>\n",
       "      <th>PSN@5</th>\n",
       "      <th>PSN@10</th>\n",
       "      <th>R@10</th>\n",
       "      <th>R@100</th>\n",
       "      <th>R@200</th>\n",
       "      <th>loss</th>\n",
       "      <th>runtime</th>\n",
       "      <th>samples_per_second</th>\n",
       "      <th>steps_per_second</th>\n",
       "    </tr>\n",
       "  </thead>\n",
       "  <tbody>\n",
       "    <tr>\n",
       "      <th>0</th>\n",
       "      <td>31.474</td>\n",
       "      <td>21.0929</td>\n",
       "      <td>15.9814</td>\n",
       "      <td>10.1224</td>\n",
       "      <td>31.474</td>\n",
       "      <td>31.2004</td>\n",
       "      <td>32.2176</td>\n",
       "      <td>34.0657</td>\n",
       "      <td>25.1489</td>\n",
       "      <td>27.419</td>\n",
       "      <td>29.6764</td>\n",
       "      <td>34.0897</td>\n",
       "      <td>25.1489</td>\n",
       "      <td>27.5543</td>\n",
       "      <td>29.2528</td>\n",
       "      <td>31.4351</td>\n",
       "      <td>38.7388</td>\n",
       "      <td>52.2934</td>\n",
       "      <td>55.2191</td>\n",
       "      <td>0.1031</td>\n",
       "      <td>134.5473</td>\n",
       "      <td>1319.35</td>\n",
       "      <td>0.825</td>\n",
       "    </tr>\n",
       "  </tbody>\n",
       "</table>\n",
       "</div>"
      ],
      "text/plain": [
       "      P@1      P@3      P@5     P@10     N@1      N@3      N@5     N@10  \\\n",
       "0  31.474  21.0929  15.9814  10.1224  31.474  31.2004  32.2176  34.0657   \n",
       "\n",
       "     PSP@1   PSP@3    PSP@5   PSP@10    PSN@1    PSN@3    PSN@5   PSN@10  \\\n",
       "0  25.1489  27.419  29.6764  34.0897  25.1489  27.5543  29.2528  31.4351   \n",
       "\n",
       "      R@10    R@100    R@200    loss   runtime  samples_per_second  \\\n",
       "0  38.7388  52.2934  55.2191  0.1031  134.5473             1319.35   \n",
       "\n",
       "   steps_per_second  \n",
       "0             0.825  "
      ]
     },
     "metadata": {},
     "output_type": "display_data"
    }
   ],
   "source": [
    "display_metric(mm)"
   ]
  },
  {
   "cell_type": "code",
   "execution_count": null,
   "id": "65bad9c0-3c77-4a8c-b5c1-7147eb53c81d",
   "metadata": {},
   "outputs": [],
   "source": []
  }
 ],
 "metadata": {
  "kernelspec": {
   "display_name": "python3",
   "language": "python",
   "name": "python3"
  }
 },
 "nbformat": 4,
 "nbformat_minor": 5
}
