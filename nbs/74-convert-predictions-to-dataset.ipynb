{
 "cells": [
  {
   "cell_type": "code",
   "execution_count": null,
   "id": "d60b51bd-0144-4139-8be5-7602bad6a9c8",
   "metadata": {},
   "outputs": [],
   "source": [
    "#| default_exp 74-convert-predictions-to-dataset"
   ]
  },
  {
   "cell_type": "code",
   "execution_count": null,
   "id": "65e00e5c-ff88-425d-a828-7ca5d02215ab",
   "metadata": {},
   "outputs": [],
   "source": [
    "%load_ext autoreload\n",
    "%autoreload 2\n",
    "\n",
    "from nbdev.showdoc import *\n",
    "import nbdev; nbdev.nbdev_export()"
   ]
  },
  {
   "cell_type": "code",
   "execution_count": null,
   "id": "874750be-c904-447e-8754-3eefcb9586d6",
   "metadata": {},
   "outputs": [
    {
     "name": "stderr",
     "output_type": "stream",
     "text": [
      "comet_ml is installed but `COMET_API_KEY` is not set.\n"
     ]
    }
   ],
   "source": [
    "#| export\n",
    "import xclib.data.data_utils as du, os, numpy as np\n",
    "from scipy import sparse\n",
    "from xclib.utils.sparse import retain_topk\n",
    "\n",
    "from xcai.basics import *"
   ]
  },
  {
   "cell_type": "code",
   "execution_count": null,
   "id": "7f276b75-263a-4d6b-bd63-58fa3106f9f8",
   "metadata": {},
   "outputs": [],
   "source": [
    "#| export\n",
    "def load_pred(fname):\n",
    "    o = np.load(fname)\n",
    "    return sparse.csr_matrix((o['data'], o['indices'], o['indptr']), dtype=np.float32)\n",
    "    "
   ]
  },
  {
   "cell_type": "code",
   "execution_count": null,
   "id": "667e16d6-5383-40aa-a5e4-78823a2fd9c0",
   "metadata": {},
   "outputs": [],
   "source": [
    "import pickle\n",
    "import xclib.evaluation.xc_metrics as xc_metrics\n",
    "\n",
    "pkl_dir = '/home/scai/phd/aiz218323/scratch/datasets/'\n",
    "pkl_file = f'{pkl_dir}/processed/wikiseealso_data-metas_distilbert-base-uncased_rm_radga-cat-final.pkl'\n",
    "with open(pkl_file, 'rb') as file: block = pickle.load(file)"
   ]
  },
  {
   "cell_type": "code",
   "execution_count": null,
   "id": "5dddea62-c750-4553-b2f0-147649aa2236",
   "metadata": {},
   "outputs": [],
   "source": []
  },
  {
   "cell_type": "code",
   "execution_count": null,
   "id": "54a5bd41-8e37-457f-a36d-39e41a65ca6d",
   "metadata": {},
   "outputs": [],
   "source": [
    "#| export\n",
    "data_dir = '/home/scai/phd/aiz218323/Projects/XC_NLG/data/(mapped)LF-WikiSeeAlsoTitles-320K/'\n",
    "\n",
    "pred_name = f'{data_dir}/category_renee_trn_X_Y.npz'\n",
    "# preds = retain_topk(load_pred(pred_name), k=5)\n",
    "\n",
    "preds = load_pred(pred_name)\n",
    "du.write_sparse_file(preds, f'{data_dir}/category_renee_trn_X_Y.txt')"
   ]
  },
  {
   "cell_type": "code",
   "execution_count": null,
   "id": "98b20e39-2447-4fa6-9db4-ceadc5715a45",
   "metadata": {},
   "outputs": [],
   "source": [
    "preds"
   ]
  },
  {
   "cell_type": "code",
   "execution_count": null,
   "id": "418ac657-fe08-4213-a59e-49f2af90aefb",
   "metadata": {},
   "outputs": [],
   "source": [
    "preds[1000]"
   ]
  },
  {
   "cell_type": "code",
   "execution_count": null,
   "id": "fe806803-e073-41ee-970d-48ed4aadb180",
   "metadata": {},
   "outputs": [],
   "source": [
    "#| export\n",
    "pred_name = f'{data_dir}/category_renee_tst_X_Y.npz'\n",
    "# preds = retain_topk(load_pred(pred_name), k=5)\n",
    "\n",
    "preds = load_pred(pred_name)\n",
    "du.write_sparse_file(preds, f'{data_dir}/category_renee_tst_X_Y.txt')"
   ]
  },
  {
   "cell_type": "code",
   "execution_count": null,
   "id": "c31017fd-f33d-4ff1-9bfa-b4f54b4e2feb",
   "metadata": {},
   "outputs": [],
   "source": [
    "#| export\n",
    "preds = sparse.csr_matrix((312330, preds.shape[1]))\n",
    "du.write_sparse_file(preds, f'{data_dir}/category_renee_lbl_X_Y.txt')"
   ]
  },
  {
   "cell_type": "code",
   "execution_count": null,
   "id": "00fba325-1fb2-4b82-8ba5-262a7805a2c0",
   "metadata": {},
   "outputs": [
    {
     "data": {
      "text/plain": [
       "<312330x656086 sparse matrix of type '<class 'numpy.float64'>'\n",
       "\twith 0 stored elements in Compressed Sparse Row format>"
      ]
     },
     "execution_count": null,
     "metadata": {},
     "output_type": "execute_result"
    }
   ],
   "source": [
    "preds"
   ]
  },
  {
   "cell_type": "code",
   "execution_count": null,
   "id": "cd6fec15-68fd-4a74-930e-6dad1924b7e7",
   "metadata": {},
   "outputs": [],
   "source": []
  },
  {
   "cell_type": "code",
   "execution_count": null,
   "id": "841f8984-227c-42b6-b976-0daf776912bf",
   "metadata": {},
   "outputs": [],
   "source": [
    "#| export\n",
    "data_dir = '/home/scai/phd/aiz218323/Projects/XC_NLG/data/(mapped)LF-WikiTitles-500K'\n",
    "\n",
    "pred_name = f'{data_dir}/hyper_link_renee_trn_X_Y.npz'\n",
    "preds = retain_topk(load_pred(pred_name), k=5)\n",
    "du.write_sparse_file(preds, f'{data_dir}/hyper_link_renee_trn_X_Y.txt')\n",
    "\n",
    "pred_name = f'{data_dir}/hyper_link_renee_tst_X_Y.npz'\n",
    "preds = retain_topk(load_pred(pred_name), k=5)\n",
    "du.write_sparse_file(preds, f'{data_dir}/hyper_link_renee_tst_X_Y.txt')\n"
   ]
  },
  {
   "cell_type": "code",
   "execution_count": null,
   "id": "86e35a60-d294-4dbe-9b7f-2427a644e723",
   "metadata": {},
   "outputs": [],
   "source": [
    "preds = sparse.csr_matrix((501070, 2148579))\n",
    "du.write_sparse_file(preds, f'{data_dir}/hyper_link_renee_mean_lbl_X_Y.txt')"
   ]
  },
  {
   "cell_type": "code",
   "execution_count": null,
   "id": "54b4e7b6-8da9-47fb-964f-560467793eb8",
   "metadata": {},
   "outputs": [],
   "source": []
  },
  {
   "cell_type": "code",
   "execution_count": null,
   "id": "fd121403-3b27-4f33-9e9c-6b706277cb22",
   "metadata": {},
   "outputs": [],
   "source": []
  },
  {
   "cell_type": "code",
   "execution_count": null,
   "id": "0fe19477-9146-4ce7-b5ca-e7d46f5c065b",
   "metadata": {},
   "outputs": [],
   "source": []
  }
 ],
 "metadata": {
  "kernelspec": {
   "display_name": "python3",
   "language": "python",
   "name": "python3"
  }
 },
 "nbformat": 4,
 "nbformat_minor": 5
}
