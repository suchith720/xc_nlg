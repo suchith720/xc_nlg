{
 "cells": [
  {
   "cell_type": "markdown",
   "id": "6e3a0f4c-1cfb-4a14-b8f2-fdea31c390ec",
   "metadata": {},
   "source": [
    "# RAGDA DR training"
   ]
  },
  {
   "cell_type": "code",
   "execution_count": null,
   "id": "ddda97e8-16ac-42c7-9ad4-f981e21c0aa2",
   "metadata": {},
   "outputs": [],
   "source": [
    "#| default_exp 75-radga-dr-ep-for-wikititles"
   ]
  },
  {
   "cell_type": "code",
   "execution_count": null,
   "id": "3f35d8be-1323-400a-b78e-d0a4d2697801",
   "metadata": {},
   "outputs": [],
   "source": [
    "%load_ext autoreload\n",
    "%autoreload 2\n",
    "\n",
    "from nbdev.showdoc import *\n",
    "import nbdev; nbdev.nbdev_export()"
   ]
  },
  {
   "cell_type": "code",
   "execution_count": null,
   "id": "d685e35e-9a13-4186-b7f4-b831b10086bb",
   "metadata": {},
   "outputs": [
    {
     "name": "stderr",
     "output_type": "stream",
     "text": [
      "comet_ml is installed but `COMET_API_KEY` is not set.\n"
     ]
    }
   ],
   "source": [
    "#| export\n",
    "import os,torch, torch.multiprocessing as mp, pickle\n",
    "from xcai.basics import *\n",
    "from xcai.analysis import *\n",
    "from xcai.models.radgaX import RAD002"
   ]
  },
  {
   "cell_type": "code",
   "execution_count": null,
   "id": "e0c924c6",
   "metadata": {},
   "outputs": [],
   "source": [
    "os.environ['WANDB_MODE'] = 'disabled'"
   ]
  },
  {
   "cell_type": "code",
   "execution_count": null,
   "id": "53768670-9905-46b0-9a6d-b6e91d50b918",
   "metadata": {},
   "outputs": [],
   "source": [
    "#| export\n",
    "os.environ['CUDA_VISIBLE_DEVICES'] = '0,1'\n",
    "os.environ['WANDB_PROJECT']='xc-nlg_66-radga-dr-ep-for-wikiseealso'"
   ]
  },
  {
   "cell_type": "code",
   "execution_count": null,
   "id": "3dc96ec3",
   "metadata": {},
   "outputs": [],
   "source": [
    "data_dir = '/home/scai/phd/aiz218323/Projects/XC_NLG/data'"
   ]
  },
  {
   "cell_type": "code",
   "execution_count": null,
   "id": "ba38fcb0-3ebf-4f79-aa20-1a1321b791c5",
   "metadata": {},
   "outputs": [
    {
     "name": "stderr",
     "output_type": "stream",
     "text": [
      "/home/scai/phd/aiz218323/.local/lib/python3.9/site-packages/xclib-0.97-py3.9-linux-x86_64.egg/xclib/data/data_utils.py:263: UserWarning: Header mis-match from inferred shape!\n",
      "  warnings.warn(\"Header mis-match from inferred shape!\")\n"
     ]
    },
    {
     "ename": "ValueError",
     "evalue": "`lbl_meta`(2148579) should have same number of columns as `data_meta`(3118594).",
     "output_type": "error",
     "traceback": [
      "\u001b[0;31m---------------------------------------------------------------------------\u001b[0m",
      "\u001b[0;31mValueError\u001b[0m                                Traceback (most recent call last)",
      "Cell \u001b[0;32mIn[7], line 1\u001b[0m\n\u001b[0;32m----> 1\u001b[0m block \u001b[38;5;241m=\u001b[39m \u001b[43mXCBlock\u001b[49m\u001b[38;5;241;43m.\u001b[39;49m\u001b[43mfrom_cfg\u001b[49m\u001b[43m(\u001b[49m\u001b[43mdata_dir\u001b[49m\u001b[43m,\u001b[49m\u001b[43m \u001b[49m\u001b[38;5;124;43m'\u001b[39;49m\u001b[38;5;124;43mdata_hlklnk\u001b[39;49m\u001b[38;5;124;43m'\u001b[39;49m\u001b[43m,\u001b[49m\u001b[43m \u001b[49m\u001b[43mdset\u001b[49m\u001b[38;5;241;43m=\u001b[39;49m\u001b[38;5;124;43m'\u001b[39;49m\u001b[38;5;124;43mwikititles\u001b[39;49m\u001b[38;5;124;43m'\u001b[39;49m\u001b[43m,\u001b[49m\u001b[43m \u001b[49m\u001b[43mtfm\u001b[49m\u001b[38;5;241;43m=\u001b[39;49m\u001b[38;5;124;43m'\u001b[39;49m\u001b[38;5;124;43mrm\u001b[39;49m\u001b[38;5;124;43m'\u001b[39;49m\u001b[43m,\u001b[49m\u001b[43m \u001b[49m\u001b[43mtokenizer\u001b[49m\u001b[38;5;241;43m=\u001b[39;49m\u001b[38;5;124;43m'\u001b[39;49m\u001b[38;5;124;43mdistilbert-base-uncased\u001b[39;49m\u001b[38;5;124;43m'\u001b[39;49m\u001b[43m,\u001b[49m\u001b[43m \u001b[49m\n\u001b[1;32m      2\u001b[0m \u001b[43m                         \u001b[49m\u001b[43msmp_features\u001b[49m\u001b[38;5;241;43m=\u001b[39;49m\u001b[43m[\u001b[49m\u001b[43m(\u001b[49m\u001b[38;5;124;43m'\u001b[39;49m\u001b[38;5;124;43mlbl2data|hlk2lbl2data|lnk2lbl2data\u001b[39;49m\u001b[38;5;124;43m'\u001b[39;49m\u001b[43m,\u001b[49m\u001b[38;5;241;43m1\u001b[39;49m\u001b[43m,\u001b[49m\u001b[43m \u001b[49m\u001b[43m(\u001b[49m\u001b[38;5;241;43m1\u001b[39;49m\u001b[43m,\u001b[49m\u001b[38;5;241;43m3\u001b[39;49m\u001b[43m,\u001b[49m\u001b[38;5;241;43m3\u001b[39;49m\u001b[43m)\u001b[49m\u001b[43m)\u001b[49m\u001b[43m,\u001b[49m\u001b[43m \u001b[49m\u001b[43m(\u001b[49m\u001b[38;5;124;43m'\u001b[39;49m\u001b[38;5;124;43mhlk2data\u001b[39;49m\u001b[38;5;124;43m'\u001b[39;49m\u001b[43m,\u001b[49m\u001b[38;5;241;43m1\u001b[39;49m\u001b[43m,\u001b[49m\u001b[38;5;241;43m3\u001b[39;49m\u001b[43m)\u001b[49m\u001b[43m,\u001b[49m\u001b[43m \u001b[49m\u001b[43m(\u001b[49m\u001b[38;5;124;43m'\u001b[39;49m\u001b[38;5;124;43mlnk2data\u001b[39;49m\u001b[38;5;124;43m'\u001b[39;49m\u001b[43m,\u001b[49m\u001b[38;5;241;43m1\u001b[39;49m\u001b[43m,\u001b[49m\u001b[38;5;241;43m3\u001b[39;49m\u001b[43m)\u001b[49m\u001b[43m]\u001b[49m\u001b[43m)\u001b[49m\n",
      "File \u001b[0;32m/scratch/scai/phd/aiz218323/Projects/xcai/xcai/block.py:513\u001b[0m, in \u001b[0;36mXCBlock.from_cfg\u001b[0;34m(cls, data_dir, cfg, dset, bsz, **kwargs)\u001b[0m\n\u001b[1;32m    509\u001b[0m cfg[\u001b[38;5;124m'\u001b[39m\u001b[38;5;124mparameters\u001b[39m\u001b[38;5;124m'\u001b[39m][\u001b[38;5;124m'\u001b[39m\u001b[38;5;124mbatch_size\u001b[39m\u001b[38;5;124m'\u001b[39m] \u001b[38;5;241m=\u001b[39m bsz\n\u001b[1;32m    511\u001b[0m collator \u001b[38;5;241m=\u001b[39m XCCollator(TfmPipeline([o(\u001b[38;5;241m*\u001b[39m\u001b[38;5;241m*\u001b[39mcfg[\u001b[38;5;124m'\u001b[39m\u001b[38;5;124mparameters\u001b[39m\u001b[38;5;124m'\u001b[39m]) \u001b[38;5;28;01mfor\u001b[39;00m o \u001b[38;5;129;01min\u001b[39;00m TFMS[cfg[\u001b[38;5;124m'\u001b[39m\u001b[38;5;124mparameters\u001b[39m\u001b[38;5;124m'\u001b[39m][\u001b[38;5;124m'\u001b[39m\u001b[38;5;124mtfm\u001b[39m\u001b[38;5;124m'\u001b[39m]]]))\n\u001b[0;32m--> 513\u001b[0m \u001b[38;5;28;01mreturn\u001b[39;00m \u001b[43mXCDataBlock\u001b[49m\u001b[38;5;241;43m.\u001b[39;49m\u001b[43mfrom_cfg\u001b[49m\u001b[43m(\u001b[49m\u001b[43mcfg\u001b[49m\u001b[43m,\u001b[49m\u001b[43m \u001b[49m\u001b[43mcollate_fn\u001b[49m\u001b[38;5;241;43m=\u001b[39;49m\u001b[43mcollator\u001b[49m\u001b[43m,\u001b[49m\u001b[43m \u001b[49m\u001b[38;5;241;43m*\u001b[39;49m\u001b[38;5;241;43m*\u001b[39;49m\u001b[43mkwargs\u001b[49m\u001b[43m)\u001b[49m\n",
      "File \u001b[0;32m/scratch/scai/phd/aiz218323/Projects/xcai/xcai/data.py:439\u001b[0m, in \u001b[0;36mXCDataBlock.from_cfg\u001b[0;34m(cls, cfg, collate_fn, valid_pct, seed)\u001b[0m\n\u001b[1;32m    432\u001b[0m \u001b[38;5;129m@classmethod\u001b[39m\n\u001b[1;32m    433\u001b[0m \u001b[38;5;28;01mdef\u001b[39;00m \u001b[38;5;21mfrom_cfg\u001b[39m(\u001b[38;5;28mcls\u001b[39m, \n\u001b[1;32m    434\u001b[0m              cfg:Union[\u001b[38;5;28mstr\u001b[39m,Dict],\n\u001b[1;32m    435\u001b[0m              collate_fn:Optional[Callable]\u001b[38;5;241m=\u001b[39m\u001b[38;5;28;01mNone\u001b[39;00m,\n\u001b[1;32m    436\u001b[0m              valid_pct:Optional[\u001b[38;5;28mfloat\u001b[39m]\u001b[38;5;241m=\u001b[39m\u001b[38;5;241m0.2\u001b[39m,\n\u001b[1;32m    437\u001b[0m              seed\u001b[38;5;241m=\u001b[39m\u001b[38;5;28;01mNone\u001b[39;00m):\n\u001b[1;32m    438\u001b[0m     \u001b[38;5;28;01mif\u001b[39;00m \u001b[38;5;28misinstance\u001b[39m(cfg, \u001b[38;5;28mstr\u001b[39m): cfg \u001b[38;5;241m=\u001b[39m \u001b[38;5;28mcls\u001b[39m\u001b[38;5;241m.\u001b[39mload_cfg(cfg)\n\u001b[0;32m--> 439\u001b[0m     blks \u001b[38;5;241m=\u001b[39m {o:BaseXCDataBlock\u001b[38;5;241m.\u001b[39mfrom_file(\u001b[38;5;241m*\u001b[39m\u001b[38;5;241m*\u001b[39mcfg[\u001b[38;5;124m'\u001b[39m\u001b[38;5;124mpath\u001b[39m\u001b[38;5;124m'\u001b[39m][o], \u001b[38;5;241m*\u001b[39m\u001b[38;5;241m*\u001b[39mcfg[\u001b[38;5;124m'\u001b[39m\u001b[38;5;124mparameters\u001b[39m\u001b[38;5;124m'\u001b[39m], collate_fn\u001b[38;5;241m=\u001b[39mcollate_fn) \u001b[38;5;28;01mfor\u001b[39;00m o \u001b[38;5;129;01min\u001b[39;00m [\u001b[38;5;124m'\u001b[39m\u001b[38;5;124mtrain\u001b[39m\u001b[38;5;124m'\u001b[39m, \u001b[38;5;124m'\u001b[39m\u001b[38;5;124mvalid\u001b[39m\u001b[38;5;124m'\u001b[39m, \u001b[38;5;124m'\u001b[39m\u001b[38;5;124mtest\u001b[39m\u001b[38;5;124m'\u001b[39m] \u001b[38;5;28;01mif\u001b[39;00m o \u001b[38;5;129;01min\u001b[39;00m cfg[\u001b[38;5;124m'\u001b[39m\u001b[38;5;124mpath\u001b[39m\u001b[38;5;124m'\u001b[39m]}\n\u001b[1;32m    440\u001b[0m     \u001b[38;5;66;03m# if 'valid' not in blks: blks['train'], blks['valid'] = blks['train'].splitter(valid_pct, seed=seed)\u001b[39;00m\n\u001b[1;32m    441\u001b[0m     \u001b[38;5;28;01mreturn\u001b[39;00m \u001b[38;5;28mcls\u001b[39m(\u001b[38;5;241m*\u001b[39m\u001b[38;5;241m*\u001b[39mblks)\n",
      "File \u001b[0;32m/scratch/scai/phd/aiz218323/Projects/xcai/xcai/data.py:439\u001b[0m, in \u001b[0;36m<dictcomp>\u001b[0;34m(.0)\u001b[0m\n\u001b[1;32m    432\u001b[0m \u001b[38;5;129m@classmethod\u001b[39m\n\u001b[1;32m    433\u001b[0m \u001b[38;5;28;01mdef\u001b[39;00m \u001b[38;5;21mfrom_cfg\u001b[39m(\u001b[38;5;28mcls\u001b[39m, \n\u001b[1;32m    434\u001b[0m              cfg:Union[\u001b[38;5;28mstr\u001b[39m,Dict],\n\u001b[1;32m    435\u001b[0m              collate_fn:Optional[Callable]\u001b[38;5;241m=\u001b[39m\u001b[38;5;28;01mNone\u001b[39;00m,\n\u001b[1;32m    436\u001b[0m              valid_pct:Optional[\u001b[38;5;28mfloat\u001b[39m]\u001b[38;5;241m=\u001b[39m\u001b[38;5;241m0.2\u001b[39m,\n\u001b[1;32m    437\u001b[0m              seed\u001b[38;5;241m=\u001b[39m\u001b[38;5;28;01mNone\u001b[39;00m):\n\u001b[1;32m    438\u001b[0m     \u001b[38;5;28;01mif\u001b[39;00m \u001b[38;5;28misinstance\u001b[39m(cfg, \u001b[38;5;28mstr\u001b[39m): cfg \u001b[38;5;241m=\u001b[39m \u001b[38;5;28mcls\u001b[39m\u001b[38;5;241m.\u001b[39mload_cfg(cfg)\n\u001b[0;32m--> 439\u001b[0m     blks \u001b[38;5;241m=\u001b[39m {o:\u001b[43mBaseXCDataBlock\u001b[49m\u001b[38;5;241;43m.\u001b[39;49m\u001b[43mfrom_file\u001b[49m\u001b[43m(\u001b[49m\u001b[38;5;241;43m*\u001b[39;49m\u001b[38;5;241;43m*\u001b[39;49m\u001b[43mcfg\u001b[49m\u001b[43m[\u001b[49m\u001b[38;5;124;43m'\u001b[39;49m\u001b[38;5;124;43mpath\u001b[39;49m\u001b[38;5;124;43m'\u001b[39;49m\u001b[43m]\u001b[49m\u001b[43m[\u001b[49m\u001b[43mo\u001b[49m\u001b[43m]\u001b[49m\u001b[43m,\u001b[49m\u001b[43m \u001b[49m\u001b[38;5;241;43m*\u001b[39;49m\u001b[38;5;241;43m*\u001b[39;49m\u001b[43mcfg\u001b[49m\u001b[43m[\u001b[49m\u001b[38;5;124;43m'\u001b[39;49m\u001b[38;5;124;43mparameters\u001b[39;49m\u001b[38;5;124;43m'\u001b[39;49m\u001b[43m]\u001b[49m\u001b[43m,\u001b[49m\u001b[43m \u001b[49m\u001b[43mcollate_fn\u001b[49m\u001b[38;5;241;43m=\u001b[39;49m\u001b[43mcollate_fn\u001b[49m\u001b[43m)\u001b[49m \u001b[38;5;28;01mfor\u001b[39;00m o \u001b[38;5;129;01min\u001b[39;00m [\u001b[38;5;124m'\u001b[39m\u001b[38;5;124mtrain\u001b[39m\u001b[38;5;124m'\u001b[39m, \u001b[38;5;124m'\u001b[39m\u001b[38;5;124mvalid\u001b[39m\u001b[38;5;124m'\u001b[39m, \u001b[38;5;124m'\u001b[39m\u001b[38;5;124mtest\u001b[39m\u001b[38;5;124m'\u001b[39m] \u001b[38;5;28;01mif\u001b[39;00m o \u001b[38;5;129;01min\u001b[39;00m cfg[\u001b[38;5;124m'\u001b[39m\u001b[38;5;124mpath\u001b[39m\u001b[38;5;124m'\u001b[39m]}\n\u001b[1;32m    440\u001b[0m     \u001b[38;5;66;03m# if 'valid' not in blks: blks['train'], blks['valid'] = blks['train'].splitter(valid_pct, seed=seed)\u001b[39;00m\n\u001b[1;32m    441\u001b[0m     \u001b[38;5;28;01mreturn\u001b[39;00m \u001b[38;5;28mcls\u001b[39m(\u001b[38;5;241m*\u001b[39m\u001b[38;5;241m*\u001b[39mblks)\n",
      "File \u001b[0;32m/scratch/scai/phd/aiz218323/Projects/xcai/xcai/data.py:339\u001b[0m, in \u001b[0;36mBaseXCDataBlock.from_file\u001b[0;34m(cls, collate_fn, **kwargs)\u001b[0m\n\u001b[1;32m    336\u001b[0m \u001b[38;5;129m@classmethod\u001b[39m\n\u001b[1;32m    337\u001b[0m \u001b[38;5;129m@delegates\u001b[39m(XCDataset\u001b[38;5;241m.\u001b[39mfrom_file)\n\u001b[1;32m    338\u001b[0m \u001b[38;5;28;01mdef\u001b[39;00m \u001b[38;5;21mfrom_file\u001b[39m(\u001b[38;5;28mcls\u001b[39m, collate_fn:Callable\u001b[38;5;241m=\u001b[39m\u001b[38;5;28;01mNone\u001b[39;00m, \u001b[38;5;241m*\u001b[39m\u001b[38;5;241m*\u001b[39mkwargs):\n\u001b[0;32m--> 339\u001b[0m     \u001b[38;5;28;01mreturn\u001b[39;00m BaseXCDataBlock(\u001b[43mXCDataset\u001b[49m\u001b[38;5;241;43m.\u001b[39;49m\u001b[43mfrom_file\u001b[49m\u001b[43m(\u001b[49m\u001b[38;5;241;43m*\u001b[39;49m\u001b[38;5;241;43m*\u001b[39;49m\u001b[43mkwargs\u001b[49m\u001b[43m)\u001b[49m, collate_fn, \u001b[38;5;241m*\u001b[39m\u001b[38;5;241m*\u001b[39mkwargs)\n",
      "File \u001b[0;32m/scratch/scai/phd/aiz218323/Projects/xcai/xcai/data.py:276\u001b[0m, in \u001b[0;36mXCDataset.from_file\u001b[0;34m(cls, **kwargs)\u001b[0m\n\u001b[1;32m    274\u001b[0m data \u001b[38;5;241m=\u001b[39m MainXCDataset\u001b[38;5;241m.\u001b[39mfrom_file(\u001b[38;5;241m*\u001b[39m\u001b[38;5;241m*\u001b[39mkwargs)\n\u001b[1;32m    275\u001b[0m meta_kwargs \u001b[38;5;241m=\u001b[39m {o:kwargs\u001b[38;5;241m.\u001b[39mpop(o) \u001b[38;5;28;01mfor\u001b[39;00m o \u001b[38;5;129;01min\u001b[39;00m \u001b[38;5;28mcls\u001b[39m\u001b[38;5;241m.\u001b[39mget_meta_args(\u001b[38;5;241m*\u001b[39m\u001b[38;5;241m*\u001b[39mkwargs)}\n\u001b[0;32m--> 276\u001b[0m meta \u001b[38;5;241m=\u001b[39m {k:MetaXCDataset\u001b[38;5;241m.\u001b[39mfrom_file(\u001b[38;5;241m*\u001b[39m\u001b[38;5;241m*\u001b[39mv, \u001b[38;5;241m*\u001b[39m\u001b[38;5;241m*\u001b[39mkwargs) \u001b[38;5;28;01mfor\u001b[39;00m k,v \u001b[38;5;129;01min\u001b[39;00m meta_kwargs\u001b[38;5;241m.\u001b[39mitems()}\n\u001b[1;32m    277\u001b[0m \u001b[38;5;28;01mreturn\u001b[39;00m \u001b[38;5;28mcls\u001b[39m(data, \u001b[38;5;241m*\u001b[39m\u001b[38;5;241m*\u001b[39mmeta)\n",
      "File \u001b[0;32m/scratch/scai/phd/aiz218323/Projects/xcai/xcai/data.py:276\u001b[0m, in \u001b[0;36m<dictcomp>\u001b[0;34m(.0)\u001b[0m\n\u001b[1;32m    274\u001b[0m data \u001b[38;5;241m=\u001b[39m MainXCDataset\u001b[38;5;241m.\u001b[39mfrom_file(\u001b[38;5;241m*\u001b[39m\u001b[38;5;241m*\u001b[39mkwargs)\n\u001b[1;32m    275\u001b[0m meta_kwargs \u001b[38;5;241m=\u001b[39m {o:kwargs\u001b[38;5;241m.\u001b[39mpop(o) \u001b[38;5;28;01mfor\u001b[39;00m o \u001b[38;5;129;01min\u001b[39;00m \u001b[38;5;28mcls\u001b[39m\u001b[38;5;241m.\u001b[39mget_meta_args(\u001b[38;5;241m*\u001b[39m\u001b[38;5;241m*\u001b[39mkwargs)}\n\u001b[0;32m--> 276\u001b[0m meta \u001b[38;5;241m=\u001b[39m {k:\u001b[43mMetaXCDataset\u001b[49m\u001b[38;5;241;43m.\u001b[39;49m\u001b[43mfrom_file\u001b[49m\u001b[43m(\u001b[49m\u001b[38;5;241;43m*\u001b[39;49m\u001b[38;5;241;43m*\u001b[39;49m\u001b[43mv\u001b[49m\u001b[43m,\u001b[49m\u001b[43m \u001b[49m\u001b[38;5;241;43m*\u001b[39;49m\u001b[38;5;241;43m*\u001b[39;49m\u001b[43mkwargs\u001b[49m\u001b[43m)\u001b[49m \u001b[38;5;28;01mfor\u001b[39;00m k,v \u001b[38;5;129;01min\u001b[39;00m meta_kwargs\u001b[38;5;241m.\u001b[39mitems()}\n\u001b[1;32m    277\u001b[0m \u001b[38;5;28;01mreturn\u001b[39;00m \u001b[38;5;28mcls\u001b[39m(data, \u001b[38;5;241m*\u001b[39m\u001b[38;5;241m*\u001b[39mmeta)\n",
      "File \u001b[0;32m/scratch/scai/phd/aiz218323/Projects/xcai/xcai/data.py:190\u001b[0m, in \u001b[0;36mMetaXCDataset.from_file\u001b[0;34m(cls, n_data_meta_samples, n_lbl_meta_samples, **kwargs)\u001b[0m\n\u001b[1;32m    187\u001b[0m \u001b[38;5;129m@classmethod\u001b[39m\n\u001b[1;32m    188\u001b[0m \u001b[38;5;129m@delegates\u001b[39m(MetaXCData\u001b[38;5;241m.\u001b[39mfrom_file)\n\u001b[1;32m    189\u001b[0m \u001b[38;5;28;01mdef\u001b[39;00m \u001b[38;5;21mfrom_file\u001b[39m(\u001b[38;5;28mcls\u001b[39m, n_data_meta_samples:Optional[\u001b[38;5;28mint\u001b[39m]\u001b[38;5;241m=\u001b[39m\u001b[38;5;28;01mNone\u001b[39;00m, n_lbl_meta_samples:Optional[\u001b[38;5;28mint\u001b[39m]\u001b[38;5;241m=\u001b[39m\u001b[38;5;28;01mNone\u001b[39;00m, \u001b[38;5;241m*\u001b[39m\u001b[38;5;241m*\u001b[39mkwargs):\n\u001b[0;32m--> 190\u001b[0m     \u001b[38;5;28;01mreturn\u001b[39;00m \u001b[38;5;28;43mcls\u001b[39;49m\u001b[43m(\u001b[49m\u001b[38;5;241;43m*\u001b[39;49m\u001b[38;5;241;43m*\u001b[39;49m\u001b[43mMetaXCData\u001b[49m\u001b[38;5;241;43m.\u001b[39;49m\u001b[43mfrom_file\u001b[49m\u001b[43m(\u001b[49m\u001b[38;5;241;43m*\u001b[39;49m\u001b[38;5;241;43m*\u001b[39;49m\u001b[43mkwargs\u001b[49m\u001b[43m)\u001b[49m\u001b[43m,\u001b[49m\u001b[43m \u001b[49m\u001b[43mn_data_meta_samples\u001b[49m\u001b[38;5;241;43m=\u001b[39;49m\u001b[43mn_data_meta_samples\u001b[49m\u001b[43m,\u001b[49m\u001b[43m \u001b[49m\n\u001b[1;32m    191\u001b[0m \u001b[43m               \u001b[49m\u001b[43mn_lbl_meta_samples\u001b[49m\u001b[38;5;241;43m=\u001b[39;49m\u001b[43mn_lbl_meta_samples\u001b[49m\u001b[43m)\u001b[49m\n",
      "File \u001b[0;32m/scratch/scai/phd/aiz218323/Projects/xcai/xcai/data.py:175\u001b[0m, in \u001b[0;36mMetaXCDataset.__init__\u001b[0;34m(self, prefix, data_meta, lbl_meta, meta_info, n_data_meta_samples, n_lbl_meta_samples, **kwargs)\u001b[0m\n\u001b[1;32m    173\u001b[0m store_attr(\u001b[38;5;124m'\u001b[39m\u001b[38;5;124mprefix,data_meta,lbl_meta,meta_info,n_data_meta_samples,n_lbl_meta_samples\u001b[39m\u001b[38;5;124m'\u001b[39m)\n\u001b[1;32m    174\u001b[0m \u001b[38;5;28mself\u001b[39m\u001b[38;5;241m.\u001b[39mcurr_data_meta,\u001b[38;5;28mself\u001b[39m\u001b[38;5;241m.\u001b[39mcurr_lbl_meta \u001b[38;5;241m=\u001b[39m data_meta,lbl_meta\n\u001b[0;32m--> 175\u001b[0m \u001b[38;5;28;43mself\u001b[39;49m\u001b[38;5;241;43m.\u001b[39;49m\u001b[43m_verify_inputs\u001b[49m\u001b[43m(\u001b[49m\u001b[43m)\u001b[49m\n",
      "File \u001b[0;32m/scratch/scai/phd/aiz218323/Projects/xcai/xcai/data.py:240\u001b[0m, in \u001b[0;36m_verify_inputs\u001b[0;34m(cls)\u001b[0m\n\u001b[1;32m    238\u001b[0m     \u001b[38;5;28mcls\u001b[39m\u001b[38;5;241m.\u001b[39mn_lbl \u001b[38;5;241m=\u001b[39m \u001b[38;5;28mcls\u001b[39m\u001b[38;5;241m.\u001b[39mlbl_meta\u001b[38;5;241m.\u001b[39mshape[\u001b[38;5;241m0\u001b[39m]\n\u001b[1;32m    239\u001b[0m     \u001b[38;5;28;01mif\u001b[39;00m \u001b[38;5;28mcls\u001b[39m\u001b[38;5;241m.\u001b[39mlbl_meta\u001b[38;5;241m.\u001b[39mshape[\u001b[38;5;241m1\u001b[39m] \u001b[38;5;241m!=\u001b[39m \u001b[38;5;28mcls\u001b[39m\u001b[38;5;241m.\u001b[39mn_meta:\n\u001b[0;32m--> 240\u001b[0m         \u001b[38;5;28;01mraise\u001b[39;00m \u001b[38;5;167;01mValueError\u001b[39;00m(\u001b[38;5;124mf\u001b[39m\u001b[38;5;124m'\u001b[39m\u001b[38;5;124m`lbl_meta`(\u001b[39m\u001b[38;5;132;01m{\u001b[39;00m\u001b[38;5;28mcls\u001b[39m\u001b[38;5;241m.\u001b[39mlbl_meta\u001b[38;5;241m.\u001b[39mshape[\u001b[38;5;241m1\u001b[39m]\u001b[38;5;132;01m}\u001b[39;00m\u001b[38;5;124m) should have same number of columns as `data_meta`(\u001b[39m\u001b[38;5;132;01m{\u001b[39;00m\u001b[38;5;28mcls\u001b[39m\u001b[38;5;241m.\u001b[39mn_meta\u001b[38;5;132;01m}\u001b[39;00m\u001b[38;5;124m).\u001b[39m\u001b[38;5;124m'\u001b[39m)\n\u001b[1;32m    242\u001b[0m \u001b[38;5;28;01mif\u001b[39;00m \u001b[38;5;28mcls\u001b[39m\u001b[38;5;241m.\u001b[39mmeta_info \u001b[38;5;129;01mis\u001b[39;00m \u001b[38;5;129;01mnot\u001b[39;00m \u001b[38;5;28;01mNone\u001b[39;00m:\n\u001b[1;32m    243\u001b[0m     n_meta \u001b[38;5;241m=\u001b[39m \u001b[38;5;28mcls\u001b[39m\u001b[38;5;241m.\u001b[39m_verify_info(\u001b[38;5;28mcls\u001b[39m\u001b[38;5;241m.\u001b[39mmeta_info)\n",
      "\u001b[0;31mValueError\u001b[0m: `lbl_meta`(2148579) should have same number of columns as `data_meta`(3118594)."
     ]
    }
   ],
   "source": [
    "block = XCBlock.from_cfg(data_dir, 'data_hlklnk', dset='wikititles', tfm='rm', tokenizer='distilbert-base-uncased', \n",
    "                         smp_features=[('lbl2data|hlk2lbl2data|lnk2lbl2data',1, (1,3,3)), ('hlk2data',1,3), ('lnk2data',1,3)])"
   ]
  },
  {
   "cell_type": "code",
   "execution_count": null,
   "id": "94ae9a4f-3a36-43cd-8292-8a635dddce10",
   "metadata": {},
   "outputs": [],
   "source": [
    "block = XCBlock.from_cfg(data_dir, 'data', tfm='xcnlg', tokenizer='distilbert-base-uncased', \n",
    "                         smp_features=[('lbl2data',1, 1)])"
   ]
  },
  {
   "cell_type": "code",
   "execution_count": null,
   "id": "dee2495a-0627-4009-9af1-2f0795d62d67",
   "metadata": {},
   "outputs": [],
   "source": []
  },
  {
   "cell_type": "code",
   "execution_count": null,
   "id": "98e95dac-b69c-4108-9017-a193bd06566f",
   "metadata": {},
   "outputs": [],
   "source": [
    "#| export\n",
    "data_dir = '/home/scai/phd/aiz218323/scratch/datasets/'\n",
    "pkl_file = f'{pkl_dir}/processed/wikititles_data-metas_distilbert-base-uncased_rm_radga-hlk-linker.pkl'"
   ]
  },
  {
   "cell_type": "code",
   "execution_count": null,
   "id": "a17d16fe-b3f0-47fe-ba92-29084530de61",
   "metadata": {},
   "outputs": [],
   "source": [
    "data_dir = '/home/scai/phd/aiz218323/scratch/datasets/'\n",
    "pkl_file = f'{pkl_dir}/processed/wikititles_data_distilbert-base-uncased_xcnlg_ngame.pkl'"
   ]
  },
  {
   "cell_type": "code",
   "execution_count": null,
   "id": "a14bf4ff-1e41-41f5-bd2e-7d430e7a86b3",
   "metadata": {},
   "outputs": [],
   "source": [
    "with open(pkl_file, 'wb') as file: pickle.dump(block, file)"
   ]
  },
  {
   "cell_type": "code",
   "execution_count": null,
   "id": "e4aaf069-87d0-4453-9dee-093ed6b669f0",
   "metadata": {},
   "outputs": [],
   "source": []
  },
  {
   "cell_type": "code",
   "execution_count": null,
   "id": "4a19cd80",
   "metadata": {},
   "outputs": [],
   "source": [
    "#| export\n",
    "with open(pkl_file, 'rb') as file: block = pickle.load(file)"
   ]
  },
  {
   "cell_type": "markdown",
   "id": "2554487b",
   "metadata": {},
   "source": [
    "## Training"
   ]
  },
  {
   "cell_type": "code",
   "execution_count": null,
   "id": "73b6a059-3409-4c00-a575-dcdb5775adc9",
   "metadata": {},
   "outputs": [],
   "source": [
    "#| export\n",
    "args = XCLearningArguments(\n",
    "    output_dir='/home/scai/phd/aiz218323/scratch/outputs/75-radga-dr-ep-for-wikititles-1-0',\n",
    "    logging_first_step=True,\n",
    "    per_device_train_batch_size=800,\n",
    "    per_device_eval_batch_size=800,\n",
    "    representation_num_beams=200,\n",
    "    representation_accumulation_steps=10,\n",
    "    output_representation_attribute='data_fused_repr',\n",
    "    representation_attribute=\"data_fused_repr\",\n",
    "    save_strategy=\"steps\",\n",
    "    evaluation_strategy=\"steps\",\n",
    "    eval_steps=5000,\n",
    "    save_steps=5000,\n",
    "    save_total_limit=5,\n",
    "    num_train_epochs=300,\n",
    "    predict_with_representation=True,\n",
    "    adam_epsilon=1e-6,\n",
    "    warmup_steps=100,\n",
    "    weight_decay=0.0,\n",
    "    learning_rate=2e-4,\n",
    "    generation_num_beams=10,\n",
    "    generation_length_penalty=1.5,\n",
    "    predict_with_generation=True,\n",
    "    representation_search_type='INDEX',\n",
    "    group_by_cluster=True,\n",
    "    num_clustering_warmup_epochs=10,\n",
    "    num_cluster_update_epochs=5,\n",
    "    num_cluster_size_update_epochs=25,\n",
    "    clustering_type='EXPO',\n",
    "    minimum_cluster_size=2,\n",
    "    maximum_cluster_size=1600,\n",
    "    output_concatenation_weight=1.0,\n",
    "    metric_for_best_model='P@1',\n",
    "    load_best_model_at_end=True,\n",
    "    target_indices_key='plbl2data_idx',\n",
    "    target_pointer_key='plbl2data_data2ptr',\n",
    "    use_encoder_parallel=True,\n",
    "    max_grad_norm=None,\n",
    "    fp16=True,\n",
    "    label_names=['hlk2data_idx', 'hlk2data_input_ids', 'hlk2data_attention_mask'],\n",
    "    # label_names=['hlk2data_idx', 'hlk2data_input_ids', 'hlk2data_attention_mask',\n",
    "    #              'hlk2lbl2data_idx', 'hlk2lbl2data_input_ids', 'hlk2lbl2data_attention_mask'],\n",
    ")"
   ]
  },
  {
   "cell_type": "code",
   "execution_count": null,
   "id": "cfbc728f",
   "metadata": {},
   "outputs": [],
   "source": [
    "#| export\n",
    "metric = PrecRecl(block.n_lbl, block.test.data_lbl_filterer, prop=block.train.dset.data.data_lbl,\n",
    "                  pk=10, rk=200, rep_pk=[1, 3, 5, 10], rep_rk=[10, 100, 200])"
   ]
  },
  {
   "cell_type": "code",
   "execution_count": null,
   "id": "a12171f9",
   "metadata": {},
   "outputs": [
    {
     "name": "stderr",
     "output_type": "stream",
     "text": [
      "Some weights of RAD002 were not initialized from the model checkpoint at sentence-transformers/msmarco-distilbert-base-v4 and are newly initialized: ['encoder.cross_head.k.bias', 'encoder.cross_head.k.weight', 'encoder.cross_head.o.bias', 'encoder.cross_head.o.weight', 'encoder.cross_head.q.bias', 'encoder.cross_head.q.weight', 'encoder.cross_head.v.bias', 'encoder.cross_head.v.weight', 'encoder.dr_head.layer_norm.bias', 'encoder.dr_head.layer_norm.weight', 'encoder.dr_head.projector.bias', 'encoder.dr_head.projector.weight', 'encoder.dr_head.transform.bias', 'encoder.dr_head.transform.weight', 'encoder.meta_head.layer_norm.bias', 'encoder.meta_head.layer_norm.weight', 'encoder.meta_head.projector.bias', 'encoder.meta_head.projector.weight', 'encoder.meta_head.transform.bias', 'encoder.meta_head.transform.weight']\n",
      "You should probably TRAIN this model on a down-stream task to be able to use it for predictions and inference.\n"
     ]
    }
   ],
   "source": [
    "#| export\n",
    "bsz = max(args.per_device_train_batch_size, args.per_device_eval_batch_size)*torch.cuda.device_count()\n",
    "\n",
    "model = RAD002.from_pretrained('sentence-transformers/msmarco-distilbert-base-v4', num_batch_labels=5000, batch_size=bsz,\n",
    "                               margin=0.3, num_negatives=10, tau=0.1, apply_softmax=True,\n",
    "                               \n",
    "                               data_aug_meta_prefix='hlk2data', lbl2data_aug_meta_prefix='hlk2lbl', \n",
    "                               resize_length=5000,\n",
    "                               \n",
    "                               meta_loss_weight=0.3, pred_meta_prefix=None, \n",
    "                               \n",
    "                               fusion_loss_weight=0.05, use_fusion_loss=False, use_noise=False, use_encoder_parallel=True)\n",
    "model.init_retrieval_head()\n",
    "model.init_cross_head()"
   ]
  },
  {
   "cell_type": "code",
   "execution_count": null,
   "id": "01d48f78",
   "metadata": {},
   "outputs": [
    {
     "name": "stderr",
     "output_type": "stream",
     "text": [
      "/scratch/scai/phd/aiz218323/anaconda3/envs/xc_nlg/lib/python3.9/site-packages/accelerate/accelerator.py:432: FutureWarning: Passing the following arguments to `Accelerator` is deprecated and will be removed in version 1.0 of Accelerate: dict_keys(['dispatch_batches', 'split_batches', 'even_batches', 'use_seedable_sampler']). Please pass an `accelerate.DataLoaderConfiguration` instead: \n",
      "dataloader_config = DataLoaderConfiguration(dispatch_batches=None, split_batches=False, even_batches=True, use_seedable_sampler=True)\n",
      "  warnings.warn(\n",
      "Detected kernel version 3.10.0, which is below the recommended minimum of 5.5.0; this can cause the process to hang. It is recommended to upgrade the kernel to the minimum version or higher.\n"
     ]
    }
   ],
   "source": [
    "#| export\n",
    "learn = XCLearner(\n",
    "    model=model, \n",
    "    args=args,\n",
    "    train_dataset=block.train.dset,\n",
    "    eval_dataset=block.test.dset,\n",
    "    data_collator=block.collator,\n",
    "    compute_metrics=metric,\n",
    ")"
   ]
  },
  {
   "cell_type": "code",
   "execution_count": null,
   "id": "f832ba01-b786-4688-a891-05946b908be4",
   "metadata": {},
   "outputs": [],
   "source": []
  },
  {
   "cell_type": "code",
   "execution_count": null,
   "id": "aba00769",
   "metadata": {},
   "outputs": [],
   "source": [
    "learn.train()"
   ]
  },
  {
   "cell_type": "code",
   "execution_count": null,
   "id": "7fc60dbd",
   "metadata": {},
   "outputs": [],
   "source": []
  },
  {
   "cell_type": "code",
   "execution_count": null,
   "id": "68cd155e-912d-4780-b60d-b7c6749b30b3",
   "metadata": {},
   "outputs": [],
   "source": [
    "#| export\n",
    "if __name__ == '__main__':\n",
    "    mp.freeze_support()\n",
    "    learn.train()"
   ]
  },
  {
   "cell_type": "markdown",
   "id": "3143862b-c664-4be9-994c-c0ef86cc5ad9",
   "metadata": {},
   "source": [
    "## Prediction"
   ]
  },
  {
   "cell_type": "code",
   "execution_count": null,
   "id": "8c8f01cb-ba6c-4196-85ae-40ca8d0b092a",
   "metadata": {},
   "outputs": [],
   "source": [
    "o_dir ='/home/scai/phd/aiz218323/scratch/outputs/66-radga-dr-ep-for-wikiseealso-5-2'\n",
    "output_dir = f\"/home/scai/phd/aiz218323/scratch/outputs/{os.path.basename(o_dir)}\"\n",
    "mname = f'{output_dir}/{os.path.basename(get_best_model(output_dir))}'"
   ]
  },
  {
   "cell_type": "code",
   "execution_count": null,
   "id": "519dae83-f6e0-469f-bbba-40a5e89c094b",
   "metadata": {},
   "outputs": [],
   "source": [
    "bsz = 1600\n",
    "model = RAD002.from_pretrained(mname, num_batch_labels=5000, batch_size=bsz,\n",
    "                               margin=0.3, num_negatives=10, tau=0.1, apply_softmax=True,\n",
    "                                \n",
    "                               data_aug_meta_prefix='lnk2data', lbl2data_aug_meta_prefix=None, \n",
    "                               resize_length=5000,\n",
    "                               \n",
    "                               meta_loss_weight=0.3, \n",
    "                               data_pred_meta_prefix=None, lbl2data_pred_meta_prefix=None, \n",
    "                               \n",
    "                               fusion_loss_weight=0.1, use_fusion_loss=False, use_noise=False, use_encoder_parallel=True)"
   ]
  },
  {
   "cell_type": "markdown",
   "id": "46906919-aea1-4971-a9ac-4a26296f13e6",
   "metadata": {},
   "source": [
    "### Metadata Prediction"
   ]
  },
  {
   "cell_type": "code",
   "execution_count": null,
   "id": "1599aef7-8173-433f-9c9a-c39ff7d4c226",
   "metadata": {},
   "outputs": [],
   "source": [
    "args = XCLearningArguments(\n",
    "    output_dir='/home/scai/phd/aiz218323/scratch/outputs/66-radga-dr-ep-for-wikiseealso-5-2',\n",
    "    logging_first_step=True,\n",
    "    per_device_train_batch_size=800,\n",
    "    per_device_eval_batch_size=800,\n",
    "    representation_num_beams=200,\n",
    "    representation_accumulation_steps=10,\n",
    "    output_representation_attribute=\"data_repr\",\n",
    "    representation_attribute=\"data_repr\",\n",
    "    \n",
    "    predict_with_representation=True,\n",
    "    representation_search_type='BRUTEFORCE',\n",
    "    \n",
    "    metric_for_best_model='P@1',\n",
    "    target_indices_key='plbl2data_idx',\n",
    "    target_pointer_key='plbl2data_data2ptr',\n",
    "    use_encoder_parallel=True,\n",
    "    fp16=True,\n",
    "    label_names=['cat2data_idx', 'cat2data_input_ids', 'cat2data_attention_mask'],\n",
    "\n",
    "    predict_with_augmentation=False,\n",
    "    use_augmentation_index_representation=True,\n",
    "    \n",
    "    data_aug_meta_name='cat',\n",
    "    augmentation_num_beams=3,\n",
    "    data_aug_prefix='aug',\n",
    "    use_label_metadata=False,\n",
    ")"
   ]
  },
  {
   "cell_type": "code",
   "execution_count": null,
   "id": "50afc2b7-9169-4ac8-a010-7b671719d783",
   "metadata": {},
   "outputs": [],
   "source": [
    "import numpy as np\n",
    "from xcai.data import MainXCDataset, XCDataBlock, XCDataset, BaseXCDataBlock\n",
    "\n",
    "test_meta_dset = MainXCDataset(block.test.dset.data.data_info)\n",
    "\n",
    "dataset = MainXCDataset(block.train.dset.data.data_info, block.train.dset.meta['cat_meta'].data_meta, \n",
    "                        block.train.dset.meta['cat_meta'].meta_info)\n",
    "idx = np.where(dataset.data_lbl.getnnz(axis=1) > 0)[0]\n",
    "train_meta_dset = XCDataset(dataset._getitems(idx))"
   ]
  },
  {
   "cell_type": "code",
   "execution_count": null,
   "id": "6e8026e7-164c-49ac-be22-545f37910242",
   "metadata": {},
   "outputs": [
    {
     "name": "stderr",
     "output_type": "stream",
     "text": [
      "/scratch/scai/phd/aiz218323/anaconda3/envs/xc_nlg/lib/python3.9/site-packages/accelerate/accelerator.py:432: FutureWarning: Passing the following arguments to `Accelerator` is deprecated and will be removed in version 1.0 of Accelerate: dict_keys(['dispatch_batches', 'split_batches', 'even_batches', 'use_seedable_sampler']). Please pass an `accelerate.DataLoaderConfiguration` instead: \n",
      "dataloader_config = DataLoaderConfiguration(dispatch_batches=None, split_batches=False, even_batches=True, use_seedable_sampler=True)\n",
      "  warnings.warn(\n",
      "Detected kernel version 3.10.0, which is below the recommended minimum of 5.5.0; this can cause the process to hang. It is recommended to upgrade the kernel to the minimum version or higher.\n"
     ]
    }
   ],
   "source": [
    "learn = XCLearner(\n",
    "    model=model, \n",
    "    args=args,\n",
    "    train_dataset=train_meta_dset,\n",
    "    eval_dataset=test_meta_dset,\n",
    "    data_collator=block.collator,\n",
    "    compute_metrics=None,\n",
    ")"
   ]
  },
  {
   "cell_type": "code",
   "execution_count": null,
   "id": "5d306a9a-3d98-44ed-86f9-8515f7ed020e",
   "metadata": {},
   "outputs": [
    {
     "data": {
      "application/vnd.jupyter.widget-view+json": {
       "model_id": "3cdad54b253e49c4b0ab0d43cb71b27b",
       "version_major": 2,
       "version_minor": 0
      },
      "text/plain": [
       "  0%|          | 0/411 [00:00<?, ?it/s]"
      ]
     },
     "metadata": {},
     "output_type": "display_data"
    },
    {
     "data": {
      "text/html": [],
      "text/plain": [
       "<IPython.core.display.HTML object>"
      ]
     },
     "metadata": {},
     "output_type": "display_data"
    }
   ],
   "source": [
    "o = learn.predict(test_meta_dset)"
   ]
  },
  {
   "cell_type": "code",
   "execution_count": null,
   "id": "98fc2ab0-0ab3-4d9f-8dcc-e2e39ad9dd11",
   "metadata": {},
   "outputs": [],
   "source": []
  },
  {
   "cell_type": "code",
   "execution_count": null,
   "id": "ea57f6f5-f0e0-4958-b8a5-82eed5f692fc",
   "metadata": {},
   "outputs": [],
   "source": [
    "from xcai.data import MetaXCDataset\n",
    "from scipy import sparse\n",
    "from xclib.utils.sparse import retain_topk"
   ]
  },
  {
   "cell_type": "code",
   "execution_count": null,
   "id": "e420c6b8-4767-4913-a676-d95dce2d379d",
   "metadata": {},
   "outputs": [],
   "source": [
    "preds = retain_topk(get_pred_sparse(o, train_meta_dset.n_lbl), k=5)\n",
    "aug_dset = MetaXCDataset('aug', preds, sparse.csr_matrix((block.n_lbl, train_meta_dset.n_lbl)), train_meta_dset.lbl_info)\n",
    "\n",
    "block.test.dset.meta['aug_meta'] = aug_dset"
   ]
  },
  {
   "cell_type": "markdown",
   "id": "71497e78-07ad-46c3-9e20-ce3e129b57d6",
   "metadata": {},
   "source": [
    "### Label Prediction"
   ]
  },
  {
   "cell_type": "code",
   "execution_count": null,
   "id": "feac3c77-c218-4151-a299-4c140bd47698",
   "metadata": {},
   "outputs": [],
   "source": [
    "#| export\n",
    "args = XCLearningArguments(\n",
    "    output_dir='/home/scai/phd/aiz218323/scratch/outputs/66-radga-dr-ep-for-wikiseealso-5-2',\n",
    "    logging_first_step=True,\n",
    "    per_device_train_batch_size=800,\n",
    "    per_device_eval_batch_size=800,\n",
    "    representation_num_beams=200,\n",
    "    representation_accumulation_steps=10,\n",
    "    output_representation_attribute=\"data_fused_repr\",\n",
    "    representation_attribute=\"data_fused_repr\",\n",
    "    \n",
    "    predict_with_representation=True,\n",
    "    representation_search_type='BRUTEFORCE',\n",
    "    \n",
    "    metric_for_best_model='P@1',\n",
    "    target_indices_key='plbl2data_idx',\n",
    "    target_pointer_key='plbl2data_data2ptr',\n",
    "    use_encoder_parallel=True,\n",
    "    fp16=True,\n",
    "    # label_names=['lnk2data_idx', 'lnk2data_input_ids', 'lnk2data_attention_mask'],\n",
    "    label_names=['aug2data_idx', 'aug2data_input_ids', 'aug2data_attention_mask'],\n",
    "    # label_names=['cat2data_idx', 'cat2data_input_ids', 'cat2data_attention_mask'],\n",
    "    # label_names=['hlk2data_idx', 'hlk2data_input_ids', 'hlk2data_attention_mask',\n",
    "    #              'hlk2lbl2data_idx', 'hlk2lbl2data_input_ids', 'hlk2lbl2data_attention_mask'],\n",
    "\n",
    "    predict_with_augmentation=False,\n",
    "    use_augmentation_index_representation=True,\n",
    "    \n",
    "    data_aug_meta_name='cat',\n",
    "    augmentation_num_beams=3,\n",
    "    data_aug_prefix='aug',\n",
    "    use_label_metadata=False,\n",
    ")"
   ]
  },
  {
   "cell_type": "code",
   "execution_count": null,
   "id": "99dedef7-123b-474b-a335-98062d42b218",
   "metadata": {},
   "outputs": [],
   "source": [
    "metric = PrecRecl(block.n_lbl, block.test.data_lbl_filterer, prop=block.train.dset.data.data_lbl,\n",
    "                  pk=10, rk=200, rep_pk=[1, 3, 5, 10], rep_rk=[10, 100, 200])"
   ]
  },
  {
   "cell_type": "code",
   "execution_count": null,
   "id": "c9c8ee1d-0b01-46b7-8df1-29c949ba3089",
   "metadata": {},
   "outputs": [
    {
     "name": "stderr",
     "output_type": "stream",
     "text": [
      "/scratch/scai/phd/aiz218323/anaconda3/envs/xc_nlg/lib/python3.9/site-packages/accelerate/accelerator.py:432: FutureWarning: Passing the following arguments to `Accelerator` is deprecated and will be removed in version 1.0 of Accelerate: dict_keys(['dispatch_batches', 'split_batches', 'even_batches', 'use_seedable_sampler']). Please pass an `accelerate.DataLoaderConfiguration` instead: \n",
      "dataloader_config = DataLoaderConfiguration(dispatch_batches=None, split_batches=False, even_batches=True, use_seedable_sampler=True)\n",
      "  warnings.warn(\n",
      "Detected kernel version 3.10.0, which is below the recommended minimum of 5.5.0; this can cause the process to hang. It is recommended to upgrade the kernel to the minimum version or higher.\n"
     ]
    }
   ],
   "source": [
    "learn = XCLearner(\n",
    "    model=model, \n",
    "    args=args,\n",
    "    train_dataset=block.train.dset,\n",
    "    eval_dataset=block.test.dset,\n",
    "    data_collator=block.collator,\n",
    "    compute_metrics=metric,\n",
    ")"
   ]
  },
  {
   "cell_type": "code",
   "execution_count": null,
   "id": "fda817b2-61bf-449e-874f-e95dad262d2e",
   "metadata": {},
   "outputs": [],
   "source": [
    "learn.model.data_aug_meta_prefix = 'aug2data'"
   ]
  },
  {
   "cell_type": "code",
   "execution_count": null,
   "id": "49651e1e-e8f7-4ef8-907b-e33411f6a449",
   "metadata": {},
   "outputs": [
    {
     "data": {
      "application/vnd.jupyter.widget-view+json": {
       "model_id": "163effbc7be840ad98b2f116844099fd",
       "version_major": 2,
       "version_minor": 0
      },
      "text/plain": [
       "  0%|          | 0/196 [00:00<?, ?it/s]"
      ]
     },
     "metadata": {},
     "output_type": "display_data"
    },
    {
     "name": "stderr",
     "output_type": "stream",
     "text": [
      "/scratch/scai/phd/aiz218323/Projects/xcai/xcai/losses.py:22: UserWarning: Sparse CSR tensor support is in beta state. If you miss a functionality in the sparse tensor support, please submit a feature request to https://github.com/pytorch/pytorch/issues. (Triggered internally at ../aten/src/ATen/SparseCsrTensorImpl.cpp:53.)\n",
      "  return torch.sparse_csr_tensor(data_ptr, data_idx, scores, device=data_ptr.device)\n"
     ]
    },
    {
     "data": {
      "text/html": [],
      "text/plain": [
       "<IPython.core.display.HTML object>"
      ]
     },
     "metadata": {},
     "output_type": "display_data"
    },
    {
     "name": "stderr",
     "output_type": "stream",
     "text": [
      "/scratch/scai/phd/aiz218323/anaconda3/envs/xc_nlg/lib/python3.9/site-packages/scipy/sparse/_index.py:145: SparseEfficiencyWarning: Changing the sparsity structure of a csr_matrix is expensive. lil_matrix is more efficient.\n",
      "  self._set_arrayXarray(i, j, x)\n"
     ]
    }
   ],
   "source": [
    "o = learn.predict(block.test.dset)"
   ]
  },
  {
   "cell_type": "code",
   "execution_count": null,
   "id": "a4bfeb57-a686-4b23-8217-95daac64cfcb",
   "metadata": {},
   "outputs": [
    {
     "data": {
      "text/html": [
       "<div>\n",
       "<style scoped>\n",
       "    .dataframe tbody tr th:only-of-type {\n",
       "        vertical-align: middle;\n",
       "    }\n",
       "\n",
       "    .dataframe tbody tr th {\n",
       "        vertical-align: top;\n",
       "    }\n",
       "\n",
       "    .dataframe thead th {\n",
       "        text-align: right;\n",
       "    }\n",
       "</style>\n",
       "<table border=\"1\" class=\"dataframe\">\n",
       "  <thead>\n",
       "    <tr style=\"text-align: right;\">\n",
       "      <th></th>\n",
       "      <th>P@1</th>\n",
       "      <th>P@3</th>\n",
       "      <th>P@5</th>\n",
       "      <th>P@10</th>\n",
       "      <th>N@1</th>\n",
       "      <th>N@3</th>\n",
       "      <th>N@5</th>\n",
       "      <th>N@10</th>\n",
       "      <th>PSP@1</th>\n",
       "      <th>PSP@3</th>\n",
       "      <th>PSP@5</th>\n",
       "      <th>PSP@10</th>\n",
       "      <th>PSN@1</th>\n",
       "      <th>PSN@3</th>\n",
       "      <th>PSN@5</th>\n",
       "      <th>PSN@10</th>\n",
       "      <th>R@10</th>\n",
       "      <th>R@100</th>\n",
       "      <th>R@200</th>\n",
       "      <th>loss</th>\n",
       "      <th>runtime</th>\n",
       "      <th>samples_per_second</th>\n",
       "      <th>steps_per_second</th>\n",
       "    </tr>\n",
       "  </thead>\n",
       "  <tbody>\n",
       "    <tr>\n",
       "      <th>0</th>\n",
       "      <td>26.5673</td>\n",
       "      <td>18.2133</td>\n",
       "      <td>14.0982</td>\n",
       "      <td>9.267</td>\n",
       "      <td>26.5673</td>\n",
       "      <td>26.6909</td>\n",
       "      <td>27.8684</td>\n",
       "      <td>29.9781</td>\n",
       "      <td>21.4784</td>\n",
       "      <td>24.0275</td>\n",
       "      <td>26.6204</td>\n",
       "      <td>31.7511</td>\n",
       "      <td>21.4784</td>\n",
       "      <td>24.0557</td>\n",
       "      <td>25.9068</td>\n",
       "      <td>28.3621</td>\n",
       "      <td>35.2704</td>\n",
       "      <td>52.1819</td>\n",
       "      <td>56.2612</td>\n",
       "      <td>0.0261</td>\n",
       "      <td>301.9623</td>\n",
       "      <td>587.871</td>\n",
       "      <td>0.368</td>\n",
       "    </tr>\n",
       "  </tbody>\n",
       "</table>\n",
       "</div>"
      ],
      "text/plain": [
       "       P@1      P@3      P@5   P@10      N@1      N@3      N@5     N@10  \\\n",
       "0  26.5673  18.2133  14.0982  9.267  26.5673  26.6909  27.8684  29.9781   \n",
       "\n",
       "     PSP@1    PSP@3    PSP@5   PSP@10    PSN@1    PSN@3    PSN@5   PSN@10  \\\n",
       "0  21.4784  24.0275  26.6204  31.7511  21.4784  24.0557  25.9068  28.3621   \n",
       "\n",
       "      R@10    R@100    R@200    loss   runtime  samples_per_second  \\\n",
       "0  35.2704  52.1819  56.2612  0.0261  301.9623             587.871   \n",
       "\n",
       "   steps_per_second  \n",
       "0             0.368  "
      ]
     },
     "metadata": {},
     "output_type": "display_data"
    }
   ],
   "source": [
    "display_metric(o.metrics)"
   ]
  },
  {
   "cell_type": "markdown",
   "id": "4672d628-137a-442d-be36-7d5dcefc83b3",
   "metadata": {},
   "source": [
    "__Three ground truth metadata__"
   ]
  },
  {
   "cell_type": "code",
   "execution_count": null,
   "id": "c5287822-60ae-497a-b242-392c2fc3420b",
   "metadata": {},
   "outputs": [
    {
     "data": {
      "text/html": [
       "<div>\n",
       "<style scoped>\n",
       "    .dataframe tbody tr th:only-of-type {\n",
       "        vertical-align: middle;\n",
       "    }\n",
       "\n",
       "    .dataframe tbody tr th {\n",
       "        vertical-align: top;\n",
       "    }\n",
       "\n",
       "    .dataframe thead th {\n",
       "        text-align: right;\n",
       "    }\n",
       "</style>\n",
       "<table border=\"1\" class=\"dataframe\">\n",
       "  <thead>\n",
       "    <tr style=\"text-align: right;\">\n",
       "      <th></th>\n",
       "      <th>P@1</th>\n",
       "      <th>P@3</th>\n",
       "      <th>P@5</th>\n",
       "      <th>P@10</th>\n",
       "      <th>N@1</th>\n",
       "      <th>N@3</th>\n",
       "      <th>N@5</th>\n",
       "      <th>N@10</th>\n",
       "      <th>PSP@1</th>\n",
       "      <th>PSP@3</th>\n",
       "      <th>PSP@5</th>\n",
       "      <th>PSP@10</th>\n",
       "      <th>PSN@1</th>\n",
       "      <th>PSN@3</th>\n",
       "      <th>PSN@5</th>\n",
       "      <th>PSN@10</th>\n",
       "      <th>R@10</th>\n",
       "      <th>R@100</th>\n",
       "      <th>R@200</th>\n",
       "      <th>loss</th>\n",
       "      <th>runtime</th>\n",
       "      <th>samples_per_second</th>\n",
       "      <th>steps_per_second</th>\n",
       "    </tr>\n",
       "  </thead>\n",
       "  <tbody>\n",
       "    <tr>\n",
       "      <th>0</th>\n",
       "      <td>40.0969</td>\n",
       "      <td>26.336</td>\n",
       "      <td>19.9893</td>\n",
       "      <td>12.7582</td>\n",
       "      <td>40.0969</td>\n",
       "      <td>40.4669</td>\n",
       "      <td>42.2028</td>\n",
       "      <td>44.9619</td>\n",
       "      <td>29.1719</td>\n",
       "      <td>31.9999</td>\n",
       "      <td>35.0768</td>\n",
       "      <td>41.136</td>\n",
       "      <td>29.1719</td>\n",
       "      <td>32.9694</td>\n",
       "      <td>35.5467</td>\n",
       "      <td>38.7476</td>\n",
       "      <td>52.1834</td>\n",
       "      <td>71.4731</td>\n",
       "      <td>75.3854</td>\n",
       "      <td>0.0178</td>\n",
       "      <td>253.7373</td>\n",
       "      <td>699.602</td>\n",
       "      <td>0.437</td>\n",
       "    </tr>\n",
       "  </tbody>\n",
       "</table>\n",
       "</div>"
      ],
      "text/plain": [
       "       P@1     P@3      P@5     P@10      N@1      N@3      N@5     N@10  \\\n",
       "0  40.0969  26.336  19.9893  12.7582  40.0969  40.4669  42.2028  44.9619   \n",
       "\n",
       "     PSP@1    PSP@3    PSP@5  PSP@10    PSN@1    PSN@3    PSN@5   PSN@10  \\\n",
       "0  29.1719  31.9999  35.0768  41.136  29.1719  32.9694  35.5467  38.7476   \n",
       "\n",
       "      R@10    R@100    R@200    loss   runtime  samples_per_second  \\\n",
       "0  52.1834  71.4731  75.3854  0.0178  253.7373             699.602   \n",
       "\n",
       "   steps_per_second  \n",
       "0             0.437  "
      ]
     },
     "metadata": {},
     "output_type": "display_data"
    }
   ],
   "source": [
    "display_metric(o.metrics)"
   ]
  },
  {
   "cell_type": "markdown",
   "id": "f5f28836-b893-4d7a-83ca-3f6d1ba9380d",
   "metadata": {},
   "source": [
    "__Three predicted metadata__"
   ]
  },
  {
   "cell_type": "code",
   "execution_count": null,
   "id": "5480a87d-31f0-4f35-bedf-3de9915877e0",
   "metadata": {},
   "outputs": [
    {
     "data": {
      "text/html": [
       "<div>\n",
       "<style scoped>\n",
       "    .dataframe tbody tr th:only-of-type {\n",
       "        vertical-align: middle;\n",
       "    }\n",
       "\n",
       "    .dataframe tbody tr th {\n",
       "        vertical-align: top;\n",
       "    }\n",
       "\n",
       "    .dataframe thead th {\n",
       "        text-align: right;\n",
       "    }\n",
       "</style>\n",
       "<table border=\"1\" class=\"dataframe\">\n",
       "  <thead>\n",
       "    <tr style=\"text-align: right;\">\n",
       "      <th></th>\n",
       "      <th>P@1</th>\n",
       "      <th>P@3</th>\n",
       "      <th>P@5</th>\n",
       "      <th>P@10</th>\n",
       "      <th>N@1</th>\n",
       "      <th>N@3</th>\n",
       "      <th>N@5</th>\n",
       "      <th>N@10</th>\n",
       "      <th>PSP@1</th>\n",
       "      <th>PSP@3</th>\n",
       "      <th>PSP@5</th>\n",
       "      <th>PSP@10</th>\n",
       "      <th>PSN@1</th>\n",
       "      <th>PSN@3</th>\n",
       "      <th>PSN@5</th>\n",
       "      <th>PSN@10</th>\n",
       "      <th>R@10</th>\n",
       "      <th>R@100</th>\n",
       "      <th>R@200</th>\n",
       "      <th>loss</th>\n",
       "      <th>runtime</th>\n",
       "      <th>samples_per_second</th>\n",
       "      <th>steps_per_second</th>\n",
       "    </tr>\n",
       "  </thead>\n",
       "  <tbody>\n",
       "    <tr>\n",
       "      <th>0</th>\n",
       "      <td>25.9989</td>\n",
       "      <td>17.9363</td>\n",
       "      <td>13.9451</td>\n",
       "      <td>9.1716</td>\n",
       "      <td>25.9989</td>\n",
       "      <td>26.2267</td>\n",
       "      <td>27.4426</td>\n",
       "      <td>29.5332</td>\n",
       "      <td>21.0299</td>\n",
       "      <td>23.7623</td>\n",
       "      <td>26.4269</td>\n",
       "      <td>31.5032</td>\n",
       "      <td>21.0299</td>\n",
       "      <td>23.7023</td>\n",
       "      <td>25.5771</td>\n",
       "      <td>28.0035</td>\n",
       "      <td>34.8522</td>\n",
       "      <td>51.6796</td>\n",
       "      <td>55.6961</td>\n",
       "      <td>0.026</td>\n",
       "      <td>755.2368</td>\n",
       "      <td>235.045</td>\n",
       "      <td>0.147</td>\n",
       "    </tr>\n",
       "  </tbody>\n",
       "</table>\n",
       "</div>"
      ],
      "text/plain": [
       "       P@1      P@3      P@5    P@10      N@1      N@3      N@5     N@10  \\\n",
       "0  25.9989  17.9363  13.9451  9.1716  25.9989  26.2267  27.4426  29.5332   \n",
       "\n",
       "     PSP@1    PSP@3    PSP@5   PSP@10    PSN@1    PSN@3    PSN@5   PSN@10  \\\n",
       "0  21.0299  23.7623  26.4269  31.5032  21.0299  23.7023  25.5771  28.0035   \n",
       "\n",
       "      R@10    R@100    R@200   loss   runtime  samples_per_second  \\\n",
       "0  34.8522  51.6796  55.6961  0.026  755.2368             235.045   \n",
       "\n",
       "   steps_per_second  \n",
       "0             0.147  "
      ]
     },
     "metadata": {},
     "output_type": "display_data"
    }
   ],
   "source": [
    "display_metric(o.metrics)"
   ]
  },
  {
   "cell_type": "markdown",
   "id": "b0f0523e-b72c-4501-b631-5db6b1f3df0b",
   "metadata": {},
   "source": [
    "__One predicted metadata__"
   ]
  },
  {
   "cell_type": "code",
   "execution_count": null,
   "id": "892e2a93-1087-4903-bb02-870ddddde4c6",
   "metadata": {},
   "outputs": [
    {
     "data": {
      "text/html": [
       "<div>\n",
       "<style scoped>\n",
       "    .dataframe tbody tr th:only-of-type {\n",
       "        vertical-align: middle;\n",
       "    }\n",
       "\n",
       "    .dataframe tbody tr th {\n",
       "        vertical-align: top;\n",
       "    }\n",
       "\n",
       "    .dataframe thead th {\n",
       "        text-align: right;\n",
       "    }\n",
       "</style>\n",
       "<table border=\"1\" class=\"dataframe\">\n",
       "  <thead>\n",
       "    <tr style=\"text-align: right;\">\n",
       "      <th></th>\n",
       "      <th>P@1</th>\n",
       "      <th>P@3</th>\n",
       "      <th>P@5</th>\n",
       "      <th>P@10</th>\n",
       "      <th>N@1</th>\n",
       "      <th>N@3</th>\n",
       "      <th>N@5</th>\n",
       "      <th>N@10</th>\n",
       "      <th>PSP@1</th>\n",
       "      <th>PSP@3</th>\n",
       "      <th>PSP@5</th>\n",
       "      <th>PSP@10</th>\n",
       "      <th>PSN@1</th>\n",
       "      <th>PSN@3</th>\n",
       "      <th>PSN@5</th>\n",
       "      <th>PSN@10</th>\n",
       "      <th>R@10</th>\n",
       "      <th>R@100</th>\n",
       "      <th>R@200</th>\n",
       "      <th>loss</th>\n",
       "      <th>runtime</th>\n",
       "      <th>samples_per_second</th>\n",
       "      <th>steps_per_second</th>\n",
       "    </tr>\n",
       "  </thead>\n",
       "  <tbody>\n",
       "    <tr>\n",
       "      <th>0</th>\n",
       "      <td>24.4751</td>\n",
       "      <td>17.0679</td>\n",
       "      <td>13.3589</td>\n",
       "      <td>8.8409</td>\n",
       "      <td>24.4751</td>\n",
       "      <td>24.8718</td>\n",
       "      <td>26.1337</td>\n",
       "      <td>28.2051</td>\n",
       "      <td>19.7119</td>\n",
       "      <td>22.6864</td>\n",
       "      <td>25.3921</td>\n",
       "      <td>30.4427</td>\n",
       "      <td>19.7119</td>\n",
       "      <td>22.4863</td>\n",
       "      <td>24.3645</td>\n",
       "      <td>26.7577</td>\n",
       "      <td>33.5469</td>\n",
       "      <td>50.1171</td>\n",
       "      <td>53.9882</td>\n",
       "      <td>0.026</td>\n",
       "      <td>911.3489</td>\n",
       "      <td>194.783</td>\n",
       "      <td>0.122</td>\n",
       "    </tr>\n",
       "  </tbody>\n",
       "</table>\n",
       "</div>"
      ],
      "text/plain": [
       "       P@1      P@3      P@5    P@10      N@1      N@3      N@5     N@10  \\\n",
       "0  24.4751  17.0679  13.3589  8.8409  24.4751  24.8718  26.1337  28.2051   \n",
       "\n",
       "     PSP@1    PSP@3    PSP@5   PSP@10    PSN@1    PSN@3    PSN@5   PSN@10  \\\n",
       "0  19.7119  22.6864  25.3921  30.4427  19.7119  22.4863  24.3645  26.7577   \n",
       "\n",
       "      R@10    R@100    R@200   loss   runtime  samples_per_second  \\\n",
       "0  33.5469  50.1171  53.9882  0.026  911.3489             194.783   \n",
       "\n",
       "   steps_per_second  \n",
       "0             0.122  "
      ]
     },
     "metadata": {},
     "output_type": "display_data"
    }
   ],
   "source": [
    "display_metric(o.metrics)"
   ]
  },
  {
   "cell_type": "markdown",
   "id": "2683ef08-88ab-4f78-ac5a-51067eaf2f61",
   "metadata": {},
   "source": [
    "__No metadata__"
   ]
  },
  {
   "cell_type": "code",
   "execution_count": null,
   "id": "f19cf927-d3e3-474b-b901-2b98deb52c84",
   "metadata": {},
   "outputs": [
    {
     "data": {
      "text/html": [
       "<div>\n",
       "<style scoped>\n",
       "    .dataframe tbody tr th:only-of-type {\n",
       "        vertical-align: middle;\n",
       "    }\n",
       "\n",
       "    .dataframe tbody tr th {\n",
       "        vertical-align: top;\n",
       "    }\n",
       "\n",
       "    .dataframe thead th {\n",
       "        text-align: right;\n",
       "    }\n",
       "</style>\n",
       "<table border=\"1\" class=\"dataframe\">\n",
       "  <thead>\n",
       "    <tr style=\"text-align: right;\">\n",
       "      <th></th>\n",
       "      <th>P@1</th>\n",
       "      <th>P@3</th>\n",
       "      <th>P@5</th>\n",
       "      <th>P@10</th>\n",
       "      <th>N@1</th>\n",
       "      <th>N@3</th>\n",
       "      <th>N@5</th>\n",
       "      <th>N@10</th>\n",
       "      <th>PSP@1</th>\n",
       "      <th>PSP@3</th>\n",
       "      <th>PSP@5</th>\n",
       "      <th>PSP@10</th>\n",
       "      <th>PSN@1</th>\n",
       "      <th>PSN@3</th>\n",
       "      <th>PSN@5</th>\n",
       "      <th>PSN@10</th>\n",
       "      <th>R@10</th>\n",
       "      <th>R@100</th>\n",
       "      <th>R@200</th>\n",
       "      <th>loss</th>\n",
       "      <th>runtime</th>\n",
       "      <th>samples_per_second</th>\n",
       "      <th>steps_per_second</th>\n",
       "    </tr>\n",
       "  </thead>\n",
       "  <tbody>\n",
       "    <tr>\n",
       "      <th>0</th>\n",
       "      <td>28.5841</td>\n",
       "      <td>19.2309</td>\n",
       "      <td>14.6871</td>\n",
       "      <td>9.498</td>\n",
       "      <td>28.5841</td>\n",
       "      <td>28.463</td>\n",
       "      <td>29.5066</td>\n",
       "      <td>31.4858</td>\n",
       "      <td>24.9028</td>\n",
       "      <td>26.5122</td>\n",
       "      <td>28.6209</td>\n",
       "      <td>33.1786</td>\n",
       "      <td>24.9028</td>\n",
       "      <td>26.9498</td>\n",
       "      <td>28.5921</td>\n",
       "      <td>30.846</td>\n",
       "      <td>36.362</td>\n",
       "      <td>52.0646</td>\n",
       "      <td>55.7828</td>\n",
       "      <td>0.0178</td>\n",
       "      <td>260.3383</td>\n",
       "      <td>681.863</td>\n",
       "      <td>0.426</td>\n",
       "    </tr>\n",
       "  </tbody>\n",
       "</table>\n",
       "</div>"
      ],
      "text/plain": [
       "       P@1      P@3      P@5   P@10      N@1     N@3      N@5     N@10  \\\n",
       "0  28.5841  19.2309  14.6871  9.498  28.5841  28.463  29.5066  31.4858   \n",
       "\n",
       "     PSP@1    PSP@3    PSP@5   PSP@10    PSN@1    PSN@3    PSN@5  PSN@10  \\\n",
       "0  24.9028  26.5122  28.6209  33.1786  24.9028  26.9498  28.5921  30.846   \n",
       "\n",
       "     R@10    R@100    R@200    loss   runtime  samples_per_second  \\\n",
       "0  36.362  52.0646  55.7828  0.0178  260.3383             681.863   \n",
       "\n",
       "   steps_per_second  \n",
       "0             0.426  "
      ]
     },
     "metadata": {},
     "output_type": "display_data"
    }
   ],
   "source": [
    "display_metric(o.metrics)"
   ]
  },
  {
   "cell_type": "markdown",
   "id": "d2cad29f-f801-47cc-8ddf-329154ca6316",
   "metadata": {},
   "source": [
    "__Linker__"
   ]
  },
  {
   "cell_type": "code",
   "execution_count": null,
   "id": "acb94691-fa88-4417-9ecb-b2a159bb8abb",
   "metadata": {},
   "outputs": [
    {
     "data": {
      "text/html": [
       "<div>\n",
       "<style scoped>\n",
       "    .dataframe tbody tr th:only-of-type {\n",
       "        vertical-align: middle;\n",
       "    }\n",
       "\n",
       "    .dataframe tbody tr th {\n",
       "        vertical-align: top;\n",
       "    }\n",
       "\n",
       "    .dataframe thead th {\n",
       "        text-align: right;\n",
       "    }\n",
       "</style>\n",
       "<table border=\"1\" class=\"dataframe\">\n",
       "  <thead>\n",
       "    <tr style=\"text-align: right;\">\n",
       "      <th></th>\n",
       "      <th>P@1</th>\n",
       "      <th>P@3</th>\n",
       "      <th>P@5</th>\n",
       "      <th>P@10</th>\n",
       "      <th>N@1</th>\n",
       "      <th>N@3</th>\n",
       "      <th>N@5</th>\n",
       "      <th>N@10</th>\n",
       "      <th>PSP@1</th>\n",
       "      <th>PSP@3</th>\n",
       "      <th>PSP@5</th>\n",
       "      <th>PSP@10</th>\n",
       "      <th>PSN@1</th>\n",
       "      <th>PSN@3</th>\n",
       "      <th>PSN@5</th>\n",
       "      <th>PSN@10</th>\n",
       "      <th>R@10</th>\n",
       "      <th>R@100</th>\n",
       "      <th>R@200</th>\n",
       "      <th>loss</th>\n",
       "      <th>runtime</th>\n",
       "      <th>samples_per_second</th>\n",
       "      <th>steps_per_second</th>\n",
       "    </tr>\n",
       "  </thead>\n",
       "  <tbody>\n",
       "    <tr>\n",
       "      <th>0</th>\n",
       "      <td>36.3057</td>\n",
       "      <td>24.4207</td>\n",
       "      <td>18.719</td>\n",
       "      <td>12.0918</td>\n",
       "      <td>36.3057</td>\n",
       "      <td>36.9515</td>\n",
       "      <td>38.7413</td>\n",
       "      <td>41.5432</td>\n",
       "      <td>26.5191</td>\n",
       "      <td>29.6405</td>\n",
       "      <td>32.7938</td>\n",
       "      <td>38.877</td>\n",
       "      <td>26.5191</td>\n",
       "      <td>30.1972</td>\n",
       "      <td>32.7319</td>\n",
       "      <td>35.8922</td>\n",
       "      <td>49.0683</td>\n",
       "      <td>69.3868</td>\n",
       "      <td>73.6306</td>\n",
       "      <td>0.0191</td>\n",
       "      <td>247.9957</td>\n",
       "      <td>715.799</td>\n",
       "      <td>0.448</td>\n",
       "    </tr>\n",
       "  </tbody>\n",
       "</table>\n",
       "</div>"
      ],
      "text/plain": [
       "       P@1      P@3     P@5     P@10      N@1      N@3      N@5     N@10  \\\n",
       "0  36.3057  24.4207  18.719  12.0918  36.3057  36.9515  38.7413  41.5432   \n",
       "\n",
       "     PSP@1    PSP@3    PSP@5  PSP@10    PSN@1    PSN@3    PSN@5   PSN@10  \\\n",
       "0  26.5191  29.6405  32.7938  38.877  26.5191  30.1972  32.7319  35.8922   \n",
       "\n",
       "      R@10    R@100    R@200    loss   runtime  samples_per_second  \\\n",
       "0  49.0683  69.3868  73.6306  0.0191  247.9957             715.799   \n",
       "\n",
       "   steps_per_second  \n",
       "0             0.448  "
      ]
     },
     "metadata": {},
     "output_type": "display_data"
    }
   ],
   "source": [
    "display_metric(o.metrics)"
   ]
  },
  {
   "cell_type": "markdown",
   "id": "5cb919eb-fd58-4089-9a16-1d10daa4a181",
   "metadata": {},
   "source": [
    "### Metadata Analysis"
   ]
  },
  {
   "cell_type": "code",
   "execution_count": null,
   "id": "0ea87a06-5188-49db-b4bc-a25dd71b1509",
   "metadata": {},
   "outputs": [],
   "source": [
    "args = XCLearningArguments(\n",
    "    output_dir='/home/scai/phd/aiz218323/scratch/outputs/66-radga-dr-ep-for-wikiseealso-5-2',\n",
    "    logging_first_step=True,\n",
    "    per_device_train_batch_size=800,\n",
    "    per_device_eval_batch_size=800,\n",
    "    representation_num_beams=200,\n",
    "    representation_accumulation_steps=10,\n",
    "    output_representation_attribute=\"data_repr\",\n",
    "    representation_attribute=\"data_repr\",\n",
    "    \n",
    "    predict_with_representation=True,\n",
    "    representation_search_type='BRUTEFORCE',\n",
    "    \n",
    "    metric_for_best_model='P@1',\n",
    "    target_indices_key='plbl2data_idx',\n",
    "    target_pointer_key='plbl2data_data2ptr',\n",
    "    use_encoder_parallel=True,\n",
    "    fp16=True,\n",
    "    label_names=['cat2data_idx', 'cat2data_input_ids', 'cat2data_attention_mask'],\n",
    "    # label_names=['hlk2data_idx', 'hlk2data_input_ids', 'hlk2data_attention_mask',\n",
    "    #              'hlk2lbl2data_idx', 'hlk2lbl2data_input_ids', 'hlk2lbl2data_attention_mask'],\n",
    "\n",
    "    predict_with_augmentation=False,\n",
    "    use_augmentation_index_representation=True,\n",
    "    \n",
    "    data_aug_meta_name='cat',\n",
    "    augmentation_num_beams=3,\n",
    "    data_aug_prefix='aug',\n",
    "    use_label_metadata=False,\n",
    ")"
   ]
  },
  {
   "cell_type": "code",
   "execution_count": null,
   "id": "28b1ec6a-ae9e-4a93-a539-c81798c9f036",
   "metadata": {},
   "outputs": [],
   "source": [
    "import numpy as np\n",
    "from xcai.data import MainXCDataset, XCDataBlock, XCDataset, BaseXCDataBlock\n",
    "\n",
    "dataset = MainXCDataset(block.test.dset.data.data_info, block.test.dset.meta['cat_meta'].data_meta, \n",
    "                        block.test.dset.meta['cat_meta'].meta_info)\n",
    "idx = np.where(dataset.data_lbl.getnnz(axis=1) > 0)[0]\n",
    "test_meta_dset = XCDataset(dataset._getitems(idx))\n",
    "\n",
    "dataset = MainXCDataset(block.train.dset.data.data_info, block.train.dset.meta['cat_meta'].data_meta, \n",
    "                        block.train.dset.meta['cat_meta'].meta_info)\n",
    "idx = np.where(dataset.data_lbl.getnnz(axis=1) > 0)[0]\n",
    "train_meta_dset = XCDataset(dataset._getitems(idx))"
   ]
  },
  {
   "cell_type": "code",
   "execution_count": null,
   "id": "7e06dc91-b009-454a-8dd6-09bd11a4be59",
   "metadata": {},
   "outputs": [],
   "source": [
    "metric = PrecRecl(test_meta_dset.n_lbl, test_meta_dset.data.data_lbl_filterer, prop=train_meta_dset.data.data_lbl,\n",
    "                  pk=10, rk=200, rep_pk=[1, 3, 5, 10], rep_rk=[10, 100, 200])"
   ]
  },
  {
   "cell_type": "code",
   "execution_count": null,
   "id": "277217cb-f77c-43e5-a796-4a9973e1ee3a",
   "metadata": {},
   "outputs": [
    {
     "name": "stderr",
     "output_type": "stream",
     "text": [
      "/scratch/scai/phd/aiz218323/anaconda3/envs/xc_nlg/lib/python3.9/site-packages/accelerate/accelerator.py:432: FutureWarning: Passing the following arguments to `Accelerator` is deprecated and will be removed in version 1.0 of Accelerate: dict_keys(['dispatch_batches', 'split_batches', 'even_batches', 'use_seedable_sampler']). Please pass an `accelerate.DataLoaderConfiguration` instead: \n",
      "dataloader_config = DataLoaderConfiguration(dispatch_batches=None, split_batches=False, even_batches=True, use_seedable_sampler=True)\n",
      "  warnings.warn(\n",
      "Detected kernel version 3.10.0, which is below the recommended minimum of 5.5.0; this can cause the process to hang. It is recommended to upgrade the kernel to the minimum version or higher.\n"
     ]
    }
   ],
   "source": [
    "learn = XCLearner(\n",
    "    model=model, \n",
    "    args=args,\n",
    "    train_dataset=train_meta_dset,\n",
    "    eval_dataset=test_meta_dset,\n",
    "    data_collator=block.collator,\n",
    "    compute_metrics=metric,\n",
    ")"
   ]
  },
  {
   "cell_type": "code",
   "execution_count": null,
   "id": "6e046562-79dc-4b73-8726-e3d183928fa4",
   "metadata": {},
   "outputs": [
    {
     "data": {
      "application/vnd.jupyter.widget-view+json": {
       "model_id": "5ffa196ea0bf4686942258383ec4e261",
       "version_major": 2,
       "version_minor": 0
      },
      "text/plain": [
       "  0%|          | 0/411 [00:00<?, ?it/s]"
      ]
     },
     "metadata": {},
     "output_type": "display_data"
    },
    {
     "data": {
      "text/html": [],
      "text/plain": [
       "<IPython.core.display.HTML object>"
      ]
     },
     "metadata": {},
     "output_type": "display_data"
    }
   ],
   "source": [
    "o = learn.predict(test_meta_dset)"
   ]
  },
  {
   "cell_type": "code",
   "execution_count": null,
   "id": "ea327b66-b7e6-4781-84ff-172bba30968f",
   "metadata": {},
   "outputs": [
    {
     "data": {
      "text/html": [
       "<div>\n",
       "<style scoped>\n",
       "    .dataframe tbody tr th:only-of-type {\n",
       "        vertical-align: middle;\n",
       "    }\n",
       "\n",
       "    .dataframe tbody tr th {\n",
       "        vertical-align: top;\n",
       "    }\n",
       "\n",
       "    .dataframe thead th {\n",
       "        text-align: right;\n",
       "    }\n",
       "</style>\n",
       "<table border=\"1\" class=\"dataframe\">\n",
       "  <thead>\n",
       "    <tr style=\"text-align: right;\">\n",
       "      <th></th>\n",
       "      <th>P@1</th>\n",
       "      <th>P@3</th>\n",
       "      <th>P@5</th>\n",
       "      <th>P@10</th>\n",
       "      <th>N@1</th>\n",
       "      <th>N@3</th>\n",
       "      <th>N@5</th>\n",
       "      <th>N@10</th>\n",
       "      <th>PSP@1</th>\n",
       "      <th>PSP@3</th>\n",
       "      <th>PSP@5</th>\n",
       "      <th>PSP@10</th>\n",
       "      <th>PSN@1</th>\n",
       "      <th>PSN@3</th>\n",
       "      <th>PSN@5</th>\n",
       "      <th>PSN@10</th>\n",
       "      <th>R@10</th>\n",
       "      <th>R@100</th>\n",
       "      <th>R@200</th>\n",
       "      <th>loss</th>\n",
       "      <th>runtime</th>\n",
       "      <th>samples_per_second</th>\n",
       "      <th>steps_per_second</th>\n",
       "    </tr>\n",
       "  </thead>\n",
       "  <tbody>\n",
       "    <tr>\n",
       "      <th>0</th>\n",
       "      <td>32.7731</td>\n",
       "      <td>17.3842</td>\n",
       "      <td>12.5425</td>\n",
       "      <td>7.8116</td>\n",
       "      <td>32.7731</td>\n",
       "      <td>24.2618</td>\n",
       "      <td>23.5385</td>\n",
       "      <td>24.4533</td>\n",
       "      <td>28.1833</td>\n",
       "      <td>20.58</td>\n",
       "      <td>19.7698</td>\n",
       "      <td>20.9801</td>\n",
       "      <td>28.1833</td>\n",
       "      <td>23.7536</td>\n",
       "      <td>24.3566</td>\n",
       "      <td>26.2213</td>\n",
       "      <td>25.119</td>\n",
       "      <td>39.0703</td>\n",
       "      <td>42.8998</td>\n",
       "      <td>0.0288</td>\n",
       "      <td>103.8435</td>\n",
       "      <td>1671.304</td>\n",
       "      <td>1.05</td>\n",
       "    </tr>\n",
       "  </tbody>\n",
       "</table>\n",
       "</div>"
      ],
      "text/plain": [
       "       P@1      P@3      P@5    P@10      N@1      N@3      N@5     N@10  \\\n",
       "0  32.7731  17.3842  12.5425  7.8116  32.7731  24.2618  23.5385  24.4533   \n",
       "\n",
       "     PSP@1  PSP@3    PSP@5   PSP@10    PSN@1    PSN@3    PSN@5   PSN@10  \\\n",
       "0  28.1833  20.58  19.7698  20.9801  28.1833  23.7536  24.3566  26.2213   \n",
       "\n",
       "     R@10    R@100    R@200    loss   runtime  samples_per_second  \\\n",
       "0  25.119  39.0703  42.8998  0.0288  103.8435            1671.304   \n",
       "\n",
       "   steps_per_second  \n",
       "0              1.05  "
      ]
     },
     "metadata": {},
     "output_type": "display_data"
    }
   ],
   "source": [
    "display_metric(o.metrics)"
   ]
  },
  {
   "cell_type": "code",
   "execution_count": null,
   "id": "5ae19ff0-03ac-4f79-8716-bda1c67868a2",
   "metadata": {},
   "outputs": [],
   "source": []
  },
  {
   "cell_type": "code",
   "execution_count": null,
   "id": "208b1a5b-baa4-441e-80e8-35b91f1fad3e",
   "metadata": {},
   "outputs": [],
   "source": [
    "meta_pred = get_pred_sparse(o, test_meta_dset.data.n_lbl)"
   ]
  },
  {
   "cell_type": "code",
   "execution_count": null,
   "id": "90c952b5-db6d-4c6c-8b08-4c5e3675e07c",
   "metadata": {},
   "outputs": [
    {
     "data": {
      "text/plain": [
       "array([0.34504535, 0.23478572, 0.18452662, 0.15389447, 0.1328912 ])"
      ]
     },
     "execution_count": null,
     "metadata": {},
     "output_type": "execute_result"
    }
   ],
   "source": [
    "import xclib.evaluation.xc_metrics as xc_metrics\n",
    "xc_metrics.precision(meta_pred, test_meta_dset.data.data_lbl, k=5)"
   ]
  },
  {
   "cell_type": "code",
   "execution_count": null,
   "id": "3980c30e-369a-43b6-a349-c8736d9c8ca9",
   "metadata": {},
   "outputs": [],
   "source": [
    "evals = pointwise_eval(meta_pred, test_meta_dset.data.data_lbl, topk=3, metric='P', return_type='D')"
   ]
  },
  {
   "cell_type": "code",
   "execution_count": null,
   "id": "d98f8114-bae8-43b2-a37f-41b2658cad45",
   "metadata": {},
   "outputs": [],
   "source": []
  },
  {
   "cell_type": "code",
   "execution_count": null,
   "id": "9c818531-24f8-4e7e-9813-8e0646617c6b",
   "metadata": {},
   "outputs": [],
   "source": [
    "topk_meta_pred = xc_sparse.retain_topk(meta_pred, k=3)"
   ]
  },
  {
   "cell_type": "code",
   "execution_count": null,
   "id": "1b09c7a3-71e9-44ac-b17e-23b4dfa7312a",
   "metadata": {},
   "outputs": [],
   "source": [
    "pattern = r'^(data|lbl2data)_input_text$'\n",
    "\n",
    "pred_dset = TextColumns(get_pred_dset(topk_meta_pred, test_meta_dset), pat=pattern)\n",
    "test_dset = TextColumns(test_meta_dset, pat=pattern)"
   ]
  },
  {
   "cell_type": "code",
   "execution_count": null,
   "id": "d05ba744-151f-4cc4-a947-7ec2c7058b43",
   "metadata": {},
   "outputs": [],
   "source": [
    "from IPython.display import HTML"
   ]
  },
  {
   "cell_type": "code",
   "execution_count": null,
   "id": "72c9b7b9-9c1d-4ca9-b3dd-f4ecd1f83921",
   "metadata": {},
   "outputs": [],
   "source": [
    "idx = np.argsort(evals)[:10]"
   ]
  },
  {
   "cell_type": "code",
   "execution_count": null,
   "id": "fd2d57ad-9269-4d63-9c29-b461b4ab5f05",
   "metadata": {},
   "outputs": [
    {
     "data": {
      "text/html": [
       "<text style=color:red>data_input_text</text>: <text style=color:green>Nargis Dutt Foundation</text><br><text style=color:red>lbl2data_input_text</text>: <text style=color:green>['Awards established in 2000', 'Foundations based in France', 'Electronic music festivals in India']</text><br><text style=color:black>data_input_text</text>: <text style=color:blue>Nargis Dutt Foundation</text><br><text style=color:black>lbl2data_input_text</text>: <text style=color:blue>['Charities based in India', 'Organisations based in Mumbai', '1981 establishments in India']</text><br><br><text style=color:red>data_input_text</text>: <text style=color:green>British Rail Class 93 (Stadler)</text><br><text style=color:red>lbl2data_input_text</text>: <text style=color:green>['1720 in Great Britain', 'SLM locomotives', 'Electric multiple units of the Netherlands']</text><br><text style=color:black>data_input_text</text>: <text style=color:blue>British Rail Class 93 (Stadler)</text><br><text style=color:black>lbl2data_input_text</text>: <text style=color:blue>['Standard gauge locomotives of Great Britain', 'Bo-Bo locomotives', 'Macosa/Meinfesa/Vossloh Espana locomotives']</text><br><br><text style=color:red>data_input_text</text>: <text style=color:green>Elizabeth A. Niles</text><br><text style=color:red>lbl2data_input_text</text>: <text style=color:green>['Law clerks of the Supreme Court of the United States', 'Library-related professional associations', 'Ancient Greek women philosophers']</text><br><text style=color:black>data_input_text</text>: <text style=color:blue>Elizabeth A. Niles</text><br><text style=color:black>lbl2data_input_text</text>: <text style=color:blue>['1920 deaths', '1842 births', 'Union Army soldiers', 'Female wartime cross-dressers in the American Civil War', 'Women soldiers', 'Women in the American Civil War']</text><br><br><text style=color:red>data_input_text</text>: <text style=color:green>Alexander Bird</text><br><text style=color:red>lbl2data_input_text</text>: <text style=color:green>['University of Stirling', 'Political corruption in the United States', 'Howard Terpning']</text><br><text style=color:black>data_input_text</text>: <text style=color:blue>Alexander Bird</text><br><text style=color:black>lbl2data_input_text</text>: <text style=color:blue>['Living people', 'Philosophy academics', '1964 births', 'Alumni of the University of Oxford', 'Alumni of the University of Cambridge', \"Academics of King's College London\", 'Metaphysicians', 'Academics of the University of Edinburgh', 'Academics of the University of Bristol', '21st-century British philosophers']</text><br><br><text style=color:red>data_input_text</text>: <text style=color:green>Raj Bhawan, Nainital</text><br><text style=color:red>lbl2data_input_text</text>: <text style=color:green>['Palaces in Pakistan', 'Buildings and structures in Kota', 'Parma, Ohio']</text><br><text style=color:black>data_input_text</text>: <text style=color:blue>Raj Bhawan, Nainital</text><br><text style=color:black>lbl2data_input_text</text>: <text style=color:blue>['Buildings and structures in Dehradun', 'Government of Uttarakhand', \"Governors' houses in India\"]</text><br><br><text style=color:red>data_input_text</text>: <text style=color:green>Nordic Field-Run with Shooting</text><br><text style=color:red>lbl2data_input_text</text>: <text style=color:green>['Orienteering', 'Marksmanship', 'Special forces of Norway']</text><br><text style=color:black>data_input_text</text>: <text style=color:blue>Nordic Field-Run with Shooting</text><br><text style=color:black>lbl2data_input_text</text>: <text style=color:blue>['Shooting sports']</text><br><br><text style=color:red>data_input_text</text>: <text style=color:green>Lhong 1919</text><br><text style=color:red>lbl2data_input_text</text>: <text style=color:green>['People from Ä\\x8celinac', '758 births', 'Udon']</text><br><text style=color:black>data_input_text</text>: <text style=color:blue>Lhong 1919</text><br><text style=color:black>lbl2data_input_text</text>: <text style=color:blue>['Temples of Mazu', 'Tourist attractions in Bangkok', 'Places of worship in Bangkok', '2017 establishments in Thailand', 'Khlong San District', 'Chinese architecture in Thailand']</text><br><br><text style=color:red>data_input_text</text>: <text style=color:green>Mazibuko Jara</text><br><text style=color:red>lbl2data_input_text</text>: <text style=color:green>['Ukrainian nationalists', 'Suicides by firearm in Oklahoma', 'People from Bijelo Polje']</text><br><text style=color:black>data_input_text</text>: <text style=color:blue>Mazibuko Jara</text><br><text style=color:black>lbl2data_input_text</text>: <text style=color:blue>['Living people', '1973 births']</text><br><br><text style=color:red>data_input_text</text>: <text style=color:green>Koukoulion</text><br><text style=color:red>lbl2data_input_text</text>: <text style=color:green>['Prefectures of Togo', 'Populated places in Rhodope (regional unit)', 'Populated places in Paros (regional unit)']</text><br><text style=color:black>data_input_text</text>: <text style=color:blue>Koukoulion</text><br><text style=color:black>lbl2data_input_text</text>: <text style=color:blue>['Headgear', 'Eastern Christian vestments', 'Christian monasticism', 'Hats', 'Eastern Orthodox liturgy', 'Russian Orthodox Church in Russia']</text><br><br><text style=color:red>data_input_text</text>: <text style=color:green>Ivar Bentsen</text><br><text style=color:red>lbl2data_input_text</text>: <text style=color:green>['Museums in Vienne', 'Writers from VÃ¤stmanland', 'Science museums in Norway']</text><br><text style=color:black>data_input_text</text>: <text style=color:blue>Ivar Bentsen</text><br><text style=color:black>lbl2data_input_text</text>: <text style=color:blue>['1943 deaths', '1876 births', 'Danish architects', 'Recipients of the C.F. Hansen Medal']</text>"
      ],
      "text/plain": [
       "<IPython.core.display.HTML object>"
      ]
     },
     "execution_count": null,
     "metadata": {},
     "output_type": "execute_result"
    }
   ],
   "source": [
    "HTML(display_text(pred_dset, test_dset, idx))"
   ]
  },
  {
   "cell_type": "code",
   "execution_count": null,
   "id": "56d26d6c-2265-46e5-b62d-91103722f1ed",
   "metadata": {},
   "outputs": [],
   "source": [
    "idx = np.argsort(evals)[-10:]"
   ]
  },
  {
   "cell_type": "code",
   "execution_count": null,
   "id": "4c4d8b8e-523b-4e44-9d26-4593e749e88b",
   "metadata": {},
   "outputs": [
    {
     "data": {
      "text/html": [
       "<text style=color:red>data_input_text</text>: <text style=color:green>Batman, Turkey</text><br><text style=color:red>lbl2data_input_text</text>: <text style=color:green>['Populated places in Batman Province', 'Istanbul-related lists', 'Port cities of the Sea of Marmara']</text><br><text style=color:black>data_input_text</text>: <text style=color:blue>Batman, Turkey</text><br><text style=color:black>lbl2data_input_text</text>: <text style=color:blue>['Cities in Turkey', 'Kurdish settlements', 'Populated places in Batman Province', 'Districts of Batman Province', 'Batman, Turkey']</text><br><br><text style=color:red>data_input_text</text>: <text style=color:green>National Register of Historic Places listings in Ottawa County, Oklahoma</text><br><text style=color:red>lbl2data_input_text</text>: <text style=color:green>['Buildings and structures in Noble County, Oklahoma', 'National Register of Historic Places in Okmulgee County, Oklahoma', 'Education in Ottawa County, Michigan']</text><br><text style=color:black>data_input_text</text>: <text style=color:blue>National Register of Historic Places listings in Ottawa County, Oklahoma</text><br><text style=color:black>lbl2data_input_text</text>: <text style=color:blue>['Buildings and structures in Ottawa County, Oklahoma', 'Lists of National Register of Historic Places in Oklahoma by county', 'Ottawa County, Oklahoma', 'National Register of Historic Places in Ottawa County, Oklahoma']</text><br><br><text style=color:red>data_input_text</text>: <text style=color:green>National Register of Historic Places listings in Pontotoc County, Oklahoma</text><br><text style=color:red>lbl2data_input_text</text>: <text style=color:green>['Montgomery County, Kentucky', 'Post office buildings in Oklahoma', 'National Register of Historic Places in Woods County, Oklahoma']</text><br><text style=color:black>data_input_text</text>: <text style=color:blue>National Register of Historic Places listings in Pontotoc County, Oklahoma</text><br><text style=color:black>lbl2data_input_text</text>: <text style=color:blue>['Buildings and structures in Pontotoc County, Oklahoma', 'Tourist attractions in Pontotoc County, Oklahoma', 'Pontotoc County, Oklahoma', 'Lists of National Register of Historic Places in Oklahoma by county']</text><br><br><text style=color:red>data_input_text</text>: <text style=color:green>First Congregational Church (Eldora, Iowa)</text><br><text style=color:red>lbl2data_input_text</text>: <text style=color:green>['Episcopal church buildings in Florida', 'Transportation buildings and structures in Hardin County, Iowa', 'National Register of Historic Places in Carroll County, Iowa']</text><br><text style=color:black>data_input_text</text>: <text style=color:blue>First Congregational Church (Eldora, Iowa)</text><br><text style=color:black>lbl2data_input_text</text>: <text style=color:blue>['Churches completed in 1894', '19th-century United Church of Christ church buildings', 'Churches on the National Register of Historic Places in Iowa', 'Religious organizations established in 1868', 'Individually listed contributing properties to historic districts on the National Register in Iowa', '1868 establishments in Iowa', 'Eldora, Iowa', 'Churches in Hardin County, Iowa', 'National Register of Historic Places in Hardin County, Iowa', 'Historic district contributing properties in Iowa', 'Romanesque Revival church buildings in Iowa']</text><br><br><text style=color:red>data_input_text</text>: <text style=color:green>Human trafficking in Bolivia</text><br><text style=color:red>lbl2data_input_text</text>: <text style=color:green>['Films set in Bolivia', 'Human rights organisations based in Argentina', 'Human trafficking in Canada']</text><br><text style=color:black>data_input_text</text>: <text style=color:blue>Human trafficking in Bolivia</text><br><text style=color:black>lbl2data_input_text</text>: <text style=color:blue>['Crime in Bolivia', 'Human rights in Bolivia', 'Human trafficking by country', 'Human trafficking in South America']</text><br><br><text style=color:red>data_input_text</text>: <text style=color:green>Maiden Tower (Baku)</text><br><text style=color:red>lbl2data_input_text</text>: <text style=color:green>['Architecture in Kiev', 'Chimneys in Kazakhstan', 'Indoor arenas in Azerbaijan']</text><br><text style=color:black>data_input_text</text>: <text style=color:blue>Maiden Tower (Baku)</text><br><text style=color:black>lbl2data_input_text</text>: <text style=color:blue>['Monuments and memorials in Azerbaijan', 'Buildings and structures in Baku', 'Tourist attractions in Baku', 'Towers in Azerbaijan', 'World Heritage Sites in Azerbaijan', 'National symbols of Azerbaijan']</text><br><br><text style=color:red>data_input_text</text>: <text style=color:green>Seaweed</text><br><text style=color:red>lbl2data_input_text</text>: <text style=color:green>['Flora of British Columbia', 'Aquatic plants', 'Cleridae']</text><br><text style=color:black>data_input_text</text>: <text style=color:blue>Seaweed</text><br><text style=color:black>lbl2data_input_text</text>: <text style=color:blue>['Sea vegetables', 'Polyphyletic groups', 'Seaweeds', 'Edible algae']</text><br><br><text style=color:red>data_input_text</text>: <text style=color:green>Turn Up the Radio (Madonna song)</text><br><text style=color:red>lbl2data_input_text</text>: <text style=color:green>['Chase & Status songs', 'Song recordings produced by John Fogerty', 'Moon Mullican songs']</text><br><text style=color:black>data_input_text</text>: <text style=color:blue>Turn Up the Radio (Madonna song)</text><br><text style=color:black>lbl2data_input_text</text>: <text style=color:blue>['Billboard Dance Club Songs number-one singles', '2012 singles', '2012 songs', 'Interscope Records singles', 'Madonna (entertainer) songs', 'Song recordings produced by Madonna (entertainer)', 'Songs written by Madonna (entertainer)', 'Songs written by Martin Solveig', 'Song recordings produced by Martin Solveig', 'Songs about radio']</text><br><br><text style=color:red>data_input_text</text>: <text style=color:green>South Thailand insurgency</text><br><text style=color:red>lbl2data_input_text</text>: <text style=color:green>['Military coups in Thailand', 'Crime in Bangkok', 'Islamic terrorism in Malaysia']</text><br><text style=color:black>data_input_text</text>: <text style=color:blue>South Thailand insurgency</text><br><text style=color:black>lbl2data_input_text</text>: <text style=color:blue>['Proxy wars', 'Rebellions in Thailand', 'Religion-based wars', '2000s in Thailand', 'South Thailand insurgency', 'Songkhla Province', 'Islamic terrorism in Thailand', 'Religiously motivated violence in Thailand', 'Narathiwat Province', 'Pattani Province', 'Yala Province', 'Persecution of Buddhists', '2010s in Thailand', 'Insurgencies in Asia', 'Jihadist groups', 'Ongoing insurgencies', 'Malay Peninsula', '2000s conflicts', '2010s conflicts', 'History of Thailand', 'Politics of Thailand', 'Southern Thailand', 'Islamism in Thailand', 'Military history of Thailand']</text><br><br><text style=color:red>data_input_text</text>: <text style=color:green>Huntsville Symphony Orchestra</text><br><text style=color:red>lbl2data_input_text</text>: <text style=color:green>['American classical composers', 'Geography of Spokane, Washington', 'Tourist attractions in Tuscaloosa County, Alabama']</text><br><text style=color:black>data_input_text</text>: <text style=color:blue>Huntsville Symphony Orchestra</text><br><text style=color:black>lbl2data_input_text</text>: <text style=color:blue>['1955 establishments in Alabama', 'American orchestras', 'Musical groups established in 1955', 'Tourist attractions in Huntsville, Alabama', 'Culture of Huntsville, Alabama', 'Musical groups from Alabama', 'Performing arts in Alabama']</text>"
      ],
      "text/plain": [
       "<IPython.core.display.HTML object>"
      ]
     },
     "execution_count": null,
     "metadata": {},
     "output_type": "execute_result"
    }
   ],
   "source": [
    "HTML(display_text(pred_dset, test_dset, idx))"
   ]
  },
  {
   "cell_type": "code",
   "execution_count": null,
   "id": "f6070168-f0e1-475d-863c-9219e5ad8afd",
   "metadata": {},
   "outputs": [],
   "source": []
  }
 ],
 "metadata": {
  "kernelspec": {
   "display_name": "python3",
   "language": "python",
   "name": "python3"
  }
 },
 "nbformat": 4,
 "nbformat_minor": 5
}
