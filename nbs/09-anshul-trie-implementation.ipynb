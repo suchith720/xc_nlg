{
 "cells": [
  {
   "cell_type": "code",
   "execution_count": 1,
   "id": "8364cdd6-8624-4599-882e-e35de31c9dad",
   "metadata": {},
   "outputs": [],
   "source": [
    "#| default_exp 09-anshul-trie-implementation"
   ]
  },
  {
   "cell_type": "code",
   "execution_count": 2,
   "id": "a7ab08b0-0137-4c39-81c4-84d6b1b0befd",
   "metadata": {},
   "outputs": [],
   "source": [
    "%load_ext autoreload\n",
    "%autoreload 2"
   ]
  },
  {
   "cell_type": "code",
   "execution_count": 3,
   "id": "8f8fd8e6-6560-4fa8-a3d9-a22350d7fbb8",
   "metadata": {},
   "outputs": [],
   "source": [
    "#| export\n",
    "import os, pandas as pd, warnings, torch, pickle, numpy as np\n",
    "from typing import Dict, Optional, List\n",
    "from tqdm.auto import tqdm\n",
    "from scipy import stats\n",
    "import scipy.sparse as sp\n",
    "import torch.nn.functional as F\n",
    "from itertools import chain\n",
    "\n",
    "from xcai.basics import *\n",
    "from xcai.models.MMM00X import DBT007, DBT008, BT0002\n",
    "from xcai.transform import AugmentMetaInputIdsTfm"
   ]
  },
  {
   "cell_type": "code",
   "execution_count": 4,
   "id": "5f95350b-040f-4f7d-acbb-eafd2dba1ef9",
   "metadata": {},
   "outputs": [],
   "source": [
    "#| export\n",
    "os.environ['WANDB_MODE'] = 'disabled'"
   ]
  },
  {
   "cell_type": "markdown",
   "id": "1ca46ab2-cff2-466f-b8cd-31f513c3f3e0",
   "metadata": {},
   "source": [
    "## `Trie`"
   ]
  },
  {
   "cell_type": "code",
   "execution_count": 86,
   "id": "bd349992-ca72-4449-9232-ca7db3c78d0e",
   "metadata": {},
   "outputs": [],
   "source": [
    "class Trie:\n",
    "    def __init__(self, max_height=32, sos_id=101, eos_id=102, pad_token=0, n_bm=10, len_penalty=1.0):\n",
    "        store_attr('max_height,sos_id,eos_id,pad_token,n_bm,len_penalty')\n",
    "        self.trie, self.hash = {}, None\n",
    "    \n",
    "    def build(self, X, y):\n",
    "        assert(len(X) == len(y))\n",
    "        self.hash = y\n",
    "        trie_dict = {}\n",
    "        for seq_id, seq in enumerate(tqdm(X)):\n",
    "            next_dict = trie_dict\n",
    "            for token in seq[:self.max_height]:\n",
    "                next_dict[token] = next_dict.get(\n",
    "                    token, {\"next\": {}, \"occurs\":0, \"lbls\": [],\n",
    "                            \"point_to\": token, \"is_leaf\": False}\n",
    "                )\n",
    "                next_dict[token][\"lbls\"].append(seq_id)\n",
    "                next_dict[token][\"occurs\"] += 1\n",
    "                if token == self.eos_id:\n",
    "                    next_dict[token][\"is_leaf\"] = True\n",
    "                    break\n",
    "                next_dict = next_dict[token][\"next\"]\n",
    "        self.trie = trie_dict\n",
    "    \n",
    "    def decode_text(self, X):\n",
    "        next_level = {'next':self.trie, 'lbls': [-1]}\n",
    "        for token in X:\n",
    "            items = next_level['next'].get(token, None)\n",
    "            if items is None:\n",
    "                return next_level[\"lbls\"]\n",
    "            if items[\"is_leaf\"]:\n",
    "                return items[\"lbls\"]\n",
    "            next_level = items\n",
    "        return items[\"lbls\"]\n",
    "    \n",
    "    def _padded_np(self, lol, fill_value, max_seq):\n",
    "        tokens = np.full((len(lol), max_seq), fill_value, dtype=type(lol[0][0]))\n",
    "        masks = np.zeros((len(lol), max_seq), dtype=np.int32)\n",
    "        for i in np.arange(len(lol)):\n",
    "            tokens[i, :len(lol[i])] = lol[i]\n",
    "            masks[i, :len(lol[i])] = 1\n",
    "        return tokens, masks\n",
    "    \n",
    "    def row_topk(self, score, k=10, return_scores=False, sort=False):\n",
    "        index = np.argpartition(score, -k, axis=0)[-k:]\n",
    "        if sort:\n",
    "            _score = score[index]\n",
    "            _index = np.argsort(_score, axis=0)\n",
    "            index = index[_index]\n",
    "        if return_scores:\n",
    "            score = score[index]\n",
    "            return index, score\n",
    "        return index\n",
    "    \n",
    "    def batch_topk(self, score, k=10, return_scores=False, sort=False):\n",
    "        index = np.argpartition(score, -k, axis=1)[:, -k:]\n",
    "        if sort:\n",
    "            _score = np.take_along_axis(score, index, axis=1)\n",
    "            _index = np.argsort(_score, axis=1)\n",
    "            index = np.take_along_axis(index, _index, axis=1)\n",
    "        if return_scores:\n",
    "            score = np.take_along_axis(score, index, axis=1)\n",
    "            return index, score\n",
    "        return index\n",
    "    \n",
    "    def _snl_one(self, tries, old_scores, curr_score, len_score, top_k_index):\n",
    "        _tries, _score, _l_scr = [], [], []\n",
    "        for col in top_k_index:\n",
    "            items = list(tries[col]['next'].items())\n",
    "            if len(items) == 0:\n",
    "                key, value = [self.pad_token], [{\"next\":{}, \"lbls\": tries[col][\"lbls\"]}]\n",
    "                l_items = [len_score[col]]\n",
    "            else:\n",
    "                key, value = list(zip(*items))\n",
    "                l_items = np.full((len(key),), len_score[col] + 1)\n",
    "            _tries.extend(value)\n",
    "            _score.extend(curr_score[list(key)] + old_scores[col])\n",
    "            _l_scr.extend(l_items)\n",
    "        return _tries, _score, _l_scr\n",
    "    \n",
    "    def _agl_one(self, lol, sorted_index, sorted_scores):\n",
    "        lol_lbs, lbl_scr = [], []\n",
    "        for col, item in enumerate(sorted_index):\n",
    "            _items = np.concatenate(\n",
    "                        list(map(lambda x: self.hash[x], lol[item][\"lbls\"]))\n",
    "                    )\n",
    "            lol_lbs.extend(_items)\n",
    "            lbl_scr.extend(np.full((_items.size,), sorted_scores[col], dtype=np.float32))\n",
    "        return lol_lbs, lbl_scr\n",
    "\n",
    "    def snl(self, tries, old_scores, curr_score, len_score, top_k_index):\n",
    "        _tries, _score, _l_scr, _max_seq = [], [], [], -1\n",
    "        for i in np.arange(top_k_index.shape[0]):\n",
    "            __tries, __score, __l_scr = self._snl_one(\n",
    "                tries[i], old_scores[i], curr_score[i], len_score[i], top_k_index[i])\n",
    "            _max_seq = max(_max_seq, len(__tries))\n",
    "            _tries.append(__tries)\n",
    "            _score.append(__score)\n",
    "            _l_scr.append(__l_scr)\n",
    "        _score, _ = self._padded_np(_score, -np.inf, _max_seq)\n",
    "        _l_scr, _ = self._padded_np(_l_scr, 0.001, _max_seq)\n",
    "        return _tries, _score, _l_scr\n",
    "    \n",
    "    def agl(self, lol_trie, sorted_index, sorted_scores):\n",
    "        lol_lbs, lbl_scr = [], []\n",
    "        for rid in np.arange(sorted_index.shape[0]):\n",
    "            _lol_lbs, _lbl_scr = self._agl_one(lol_trie[rid], sorted_index[rid], sorted_scores[rid])\n",
    "            lol_lbs.append(_lol_lbs)\n",
    "            lbl_scr.append(_lbl_scr)\n",
    "        return lol_lbs, lbl_scr\n",
    "    \n",
    "    def decode_batch(self, preds, beam=10, l_penalty=0, start_seq=1):\n",
    "        _token = np.full((len(preds), 1), self.sos_id)\n",
    "        _tries = [[self.trie[self.sos_id]] for _ in range(len(preds))]\n",
    "        _score = np.zeros((len(preds), 1), dtype=np.float32)\n",
    "        _index = np.zeros((len(preds), 1), dtype=np.int32)\n",
    "        _l_scr = np.ones((len(preds), 1), dtype=np.int32)\n",
    "        for i in np.arange(start_seq, self.max_height):\n",
    "            _tries, _score, _l_scr = self.snl(_tries, _score, preds[:, i], _l_scr, _index)\n",
    "            _score = np.multiply(_score, np.power(_l_scr,-l_penalty))\n",
    "            _index = self.batch_topk(_score, beam, i+1==self.max_height, i+1==self.max_height)\n",
    "        return self.agl(_tries, _index[0], _index[1])\n",
    "\n",
    "    def proc(self, model, inputs:Dict, n_bm:int=None, max_bm:Optional[int]=None, len_penalty:Optional[float]=None, \n",
    "             max_info:Optional[int]=None):\n",
    "        store_attr('n_bm,len_penalty', is_none=False)\n",
    "        logits = F.log_softmax(model(**inputs).logits, dim=2).cpu().detach().numpy()\n",
    "        logits = np.concatenate([logits, np.zeros((logits.shape[0], max(0, self.max_height-logits.shape[1]), logits.shape[2]))], axis=1)\n",
    "        idx, scores = self.decode_batch(logits, beam=self.n_bm, l_penalty=self.len_penalty)\n",
    "        outputs = {\n",
    "            'info2seq2data_idx': torch.tensor(list(chain(*idx))),\n",
    "            'info2seq2data_score': torch.tensor(list(chain(*scores))),\n",
    "            'info2seq2data_data2ptr': torch.tensor([len(o) for o in idx]),\n",
    "        }\n",
    "        return outputs\n",
    "        \n",
    "        \n",
    "    def decode_one(self, pred, beam, l_penalty, start_seq=1):\n",
    "        _token = [self.sos_id]\n",
    "        _tries = [self.trie[self.sos_id]]\n",
    "        _score = np.zeros((1,), dtype=np.float32)\n",
    "        _index = np.zeros((1,), dtype=np.int32)\n",
    "        _l_scr = np.ones((1, ), dtype=np.int32)\n",
    "        for i in np.arange(start_seq, self.max_height):\n",
    "            _tries, _score, _l_scr = self._snl_one(_tries, _score, pred[i], _l_scr, _index)\n",
    "            _score = np.multiply(_score, np.power(_l_scr,-l_penalty))\n",
    "            _index = self.row_topk(_score, beam, i+1==self.max_height, i+1==self.max_height)\n",
    "        return self._agl_one(_tries, _index[0], _index[1])\n",
    "    \n",
    "    def decode_serial(self, preds, beam=10, l_penalty=0):\n",
    "        labels = []\n",
    "        scores = []\n",
    "        for pred in preds:\n",
    "            _labels, _scores = self.decode_one(pred, beam, l_penalty)\n",
    "            labels.append(_labels)\n",
    "            scores.append(_scores)\n",
    "        return labels, scores\n",
    "    "
   ]
  },
  {
   "cell_type": "markdown",
   "id": "3be24317-6b68-4738-8c63-b08fd98cc729",
   "metadata": {},
   "source": [
    "## Benchmarking"
   ]
  },
  {
   "cell_type": "code",
   "execution_count": 97,
   "id": "ef7105aa",
   "metadata": {},
   "outputs": [],
   "source": [
    "#| export\n",
    "dump_dir = '/scratch/scai/phd/aiz218323/Projects/xc_nlg/outputs/09-anshul-trie-implementation/'"
   ]
  },
  {
   "cell_type": "code",
   "execution_count": 133,
   "id": "1246c615",
   "metadata": {},
   "outputs": [],
   "source": [
    "fname = '/home/aiscuser/scratch/Projects/xc_nlg/outputs/00-nar-trie-inference-benchmarking/data/block_distilbert-base-uncased.pkl'\n",
    "with open(fname, 'rb') as file: block = pickle.load(file)"
   ]
  },
  {
   "cell_type": "code",
   "execution_count": 134,
   "id": "83f66748-30e1-447d-b655-032eb7ee79a0",
   "metadata": {},
   "outputs": [
    {
     "name": "stderr",
     "output_type": "stream",
     "text": [
      "Some weights of DBT007 were not initialized from the model checkpoint at /home/aiscuser/scratch/Projects/XC-NLG/models/distilbert-base-uncased_RB33-NAR-1+8-2_(mapped)LF-WikiSeeAlsoTitles-320K/checkpoint-168000 and are newly initialized: ['loss_fn.o']\n",
      "You should probably TRAIN this model on a down-stream task to be able to use it for predictions and inference.\n"
     ]
    }
   ],
   "source": [
    "#| export\n",
    "mname = f'/home/aiscuser/scratch/Projects/XC-NLG/models/distilbert-base-uncased_RB33-NAR-1+8-2_(mapped)LF-WikiSeeAlsoTitles-320K/checkpoint-168000'\n",
    "model = DBT007.from_pretrained(mname, tn_targ=10_000, ig_tok=0)"
   ]
  },
  {
   "cell_type": "code",
   "execution_count": null,
   "id": "e811de1a",
   "metadata": {},
   "outputs": [],
   "source": []
  },
  {
   "cell_type": "code",
   "execution_count": 126,
   "id": "12271cef-dc88-4f66-9fb9-58bcf5656acb",
   "metadata": {},
   "outputs": [
    {
     "name": "stderr",
     "output_type": "stream",
     "text": [
      "huggingface/tokenizers: The current process just got forked, after parallelism has already been used. Disabling parallelism to avoid deadlocks...\n",
      "To disable this warning, you can either:\n",
      "\t- Avoid using `tokenizers` before the fork if possible\n",
      "\t- Explicitly set the environment variable TOKENIZERS_PARALLELISM=(true | false)\n"
     ]
    }
   ],
   "source": [
    "#| export\n",
    "args = XCLearningArguments(\n",
    "    output_dir=f'{dump_dir}/distilbert-base-uncased_RB33-NAR-1+8-2_(mapped)LF-WikiSeeAlsoTitles-320K',\n",
    "    generation_length_penalty=0.0,\n",
    "    per_device_eval_batch_size=64,\n",
    "    evaluation_strategy='steps',\n",
    "    label_names=['lbl2data_idx'],\n",
    ")"
   ]
  },
  {
   "cell_type": "code",
   "execution_count": 127,
   "id": "63c81c55",
   "metadata": {},
   "outputs": [],
   "source": [
    "#| export\n",
    "test_dset = block.test.dset.sample(n=1000, seed=50)"
   ]
  },
  {
   "cell_type": "code",
   "execution_count": 128,
   "id": "9837c9b6-a750-4393-adf2-1bfdf708478d",
   "metadata": {},
   "outputs": [],
   "source": [
    "#| export\n",
    "metric = PrecRecl(test_dset.n_lbl, test_dset.data.data_lbl_filterer, prop=block.train.dset.data.data_lbl,\n",
    "                  pk=10, rk=200, rep_pk=[1, 3, 5, 10], rep_rk=[2, 3, 10, 50, 100, 200])"
   ]
  },
  {
   "cell_type": "code",
   "execution_count": 129,
   "id": "948efa9b-72c4-4920-8ae0-b6f31f605875",
   "metadata": {},
   "outputs": [],
   "source": [
    "#| export\n",
    "learn = XCLearner(\n",
    "    model=model, \n",
    "    args=args,\n",
    "    data_collator=block.collator, \n",
    "    compute_metrics=metric,\n",
    ")"
   ]
  },
  {
   "cell_type": "code",
   "execution_count": null,
   "id": "1749b1f3",
   "metadata": {},
   "outputs": [],
   "source": []
  },
  {
   "cell_type": "code",
   "execution_count": 130,
   "id": "002a5da5-3724-49fb-8187-3bfc68934448",
   "metadata": {},
   "outputs": [
    {
     "data": {
      "application/vnd.jupyter.widget-view+json": {
       "model_id": "9b8fc554770d4a08a55cc776652cd77c",
       "version_major": 2,
       "version_minor": 0
      },
      "text/plain": [
       "  0%|          | 0/312330 [00:00<?, ?it/s]"
      ]
     },
     "metadata": {},
     "output_type": "display_data"
    }
   ],
   "source": [
    "trie = Trie(max_height=32, n_bm=10)\n",
    "lbl_toks = test_dset.lbl_info['input_ids']\n",
    "lbl_info = [[i] for i in range(len(lbl_toks))]\n",
    "trie.build(lbl_toks, lbl_info)"
   ]
  },
  {
   "cell_type": "code",
   "execution_count": 131,
   "id": "31fe6457-e297-4da0-8d5e-2877d44df1cd",
   "metadata": {},
   "outputs": [],
   "source": [
    "learn.tbs = trie"
   ]
  },
  {
   "cell_type": "code",
   "execution_count": 132,
   "id": "865a2f78",
   "metadata": {},
   "outputs": [
    {
     "name": "stderr",
     "output_type": "stream",
     "text": [
      "/opt/conda/envs/ptca/lib/python3.9/site-packages/torch/nn/parallel/_functions.py:68: UserWarning: Was asked to gather along dimension 0, but all input tensors were scalars; will instead unsqueeze and return a vector.\n",
      "  warnings.warn('Was asked to gather along dimension 0, but all '\n"
     ]
    },
    {
     "data": {
      "text/html": [],
      "text/plain": [
       "<IPython.core.display.HTML object>"
      ]
     },
     "metadata": {},
     "output_type": "display_data"
    },
    {
     "name": "stderr",
     "output_type": "stream",
     "text": [
      "/opt/conda/envs/ptca/lib/python3.9/site-packages/scipy/sparse/_index.py:146: SparseEfficiencyWarning: Changing the sparsity structure of a csr_matrix is expensive. lil_matrix is more efficient.\n",
      "  self._set_arrayXarray(i, j, x)\n"
     ]
    },
    {
     "data": {
      "text/html": [
       "<div>\n",
       "<style scoped>\n",
       "    .dataframe tbody tr th:only-of-type {\n",
       "        vertical-align: middle;\n",
       "    }\n",
       "\n",
       "    .dataframe tbody tr th {\n",
       "        vertical-align: top;\n",
       "    }\n",
       "\n",
       "    .dataframe thead th {\n",
       "        text-align: right;\n",
       "    }\n",
       "</style>\n",
       "<table border=\"1\" class=\"dataframe\">\n",
       "  <thead>\n",
       "    <tr style=\"text-align: right;\">\n",
       "      <th></th>\n",
       "      <th>P@1</th>\n",
       "      <th>P@3</th>\n",
       "      <th>P@5</th>\n",
       "      <th>P@10</th>\n",
       "      <th>N@1</th>\n",
       "      <th>N@3</th>\n",
       "      <th>N@5</th>\n",
       "      <th>N@10</th>\n",
       "      <th>PSP@1</th>\n",
       "      <th>PSP@3</th>\n",
       "      <th>PSP@5</th>\n",
       "      <th>PSP@10</th>\n",
       "      <th>PSN@1</th>\n",
       "      <th>PSN@3</th>\n",
       "      <th>PSN@5</th>\n",
       "      <th>PSN@10</th>\n",
       "      <th>R@2</th>\n",
       "      <th>R@3</th>\n",
       "      <th>R@10</th>\n",
       "      <th>R@50</th>\n",
       "      <th>R@100</th>\n",
       "      <th>R@200</th>\n",
       "      <th>loss</th>\n",
       "      <th>runtime</th>\n",
       "      <th>samples_per_second</th>\n",
       "      <th>steps_per_second</th>\n",
       "    </tr>\n",
       "  </thead>\n",
       "  <tbody>\n",
       "    <tr>\n",
       "      <th>0</th>\n",
       "      <td>9.9</td>\n",
       "      <td>8.2667</td>\n",
       "      <td>6.68</td>\n",
       "      <td>3.37</td>\n",
       "      <td>9.9</td>\n",
       "      <td>11.6549</td>\n",
       "      <td>12.774</td>\n",
       "      <td>12.5301</td>\n",
       "      <td>6.6157</td>\n",
       "      <td>8.9941</td>\n",
       "      <td>10.3577</td>\n",
       "      <td>9.4737</td>\n",
       "      <td>6.6157</td>\n",
       "      <td>8.3006</td>\n",
       "      <td>9.3411</td>\n",
       "      <td>9.2209</td>\n",
       "      <td>8.9202</td>\n",
       "      <td>11.5331</td>\n",
       "      <td>15.148</td>\n",
       "      <td>15.148</td>\n",
       "      <td>15.148</td>\n",
       "      <td>15.148</td>\n",
       "      <td>7.8529</td>\n",
       "      <td>99.5219</td>\n",
       "      <td>10.048</td>\n",
       "      <td>0.08</td>\n",
       "    </tr>\n",
       "  </tbody>\n",
       "</table>\n",
       "</div>"
      ],
      "text/plain": [
       "   P@1     P@3   P@5  P@10  N@1      N@3     N@5     N@10   PSP@1   PSP@3  \\\n",
       "0  9.9  8.2667  6.68  3.37  9.9  11.6549  12.774  12.5301  6.6157  8.9941   \n",
       "\n",
       "     PSP@5  PSP@10   PSN@1   PSN@3   PSN@5  PSN@10     R@2      R@3    R@10  \\\n",
       "0  10.3577  9.4737  6.6157  8.3006  9.3411  9.2209  8.9202  11.5331  15.148   \n",
       "\n",
       "     R@50   R@100   R@200    loss  runtime  samples_per_second  \\\n",
       "0  15.148  15.148  15.148  7.8529  99.5219              10.048   \n",
       "\n",
       "   steps_per_second  \n",
       "0              0.08  "
      ]
     },
     "metadata": {},
     "output_type": "display_data"
    }
   ],
   "source": [
    "o = learn.predict(test_dset)\n",
    "display_metric(o.metrics)"
   ]
  },
  {
   "cell_type": "code",
   "execution_count": 135,
   "id": "29515b10",
   "metadata": {},
   "outputs": [
    {
     "data": {
      "text/plain": [
       "(5, 0.0)"
      ]
     },
     "execution_count": 135,
     "metadata": {},
     "output_type": "execute_result"
    }
   ],
   "source": [
    "trie.n_bm, trie.len_penalty"
   ]
  },
  {
   "cell_type": "code",
   "execution_count": null,
   "id": "3f1a92fc",
   "metadata": {},
   "outputs": [],
   "source": []
  },
  {
   "cell_type": "code",
   "execution_count": null,
   "id": "1cfd3b48-c4a6-4e44-a22b-bde0e7685360",
   "metadata": {},
   "outputs": [
    {
     "name": "stderr",
     "output_type": "stream",
     "text": [
      "/tmp/ipykernel_21032/2768843144.py:120: RuntimeWarning: divide by zero encountered in power\n",
      "  _score = np.multiply(_score, np.power(_l_scr,-l_penalty))\n"
     ]
    },
    {
     "data": {
      "text/html": [],
      "text/plain": [
       "<IPython.core.display.HTML object>"
      ]
     },
     "metadata": {},
     "output_type": "display_data"
    },
    {
     "name": "stderr",
     "output_type": "stream",
     "text": [
      "/scratch/scai/phd/aiz218323/anaconda3/envs/xc_nlg/lib/python3.9/site-packages/scipy/sparse/_index.py:145: SparseEfficiencyWarning: Changing the sparsity structure of a csr_matrix is expensive. lil_matrix is more efficient.\n",
      "  self._set_arrayXarray(i, j, x)\n"
     ]
    },
    {
     "data": {
      "text/html": [
       "<div>\n",
       "<style scoped>\n",
       "    .dataframe tbody tr th:only-of-type {\n",
       "        vertical-align: middle;\n",
       "    }\n",
       "\n",
       "    .dataframe tbody tr th {\n",
       "        vertical-align: top;\n",
       "    }\n",
       "\n",
       "    .dataframe thead th {\n",
       "        text-align: right;\n",
       "    }\n",
       "</style>\n",
       "<table border=\"1\" class=\"dataframe\">\n",
       "  <thead>\n",
       "    <tr style=\"text-align: right;\">\n",
       "      <th></th>\n",
       "      <th>P@1</th>\n",
       "      <th>P@3</th>\n",
       "      <th>P@5</th>\n",
       "      <th>P@10</th>\n",
       "      <th>N@1</th>\n",
       "      <th>N@3</th>\n",
       "      <th>N@5</th>\n",
       "      <th>N@10</th>\n",
       "      <th>PSP@1</th>\n",
       "      <th>PSP@3</th>\n",
       "      <th>PSP@5</th>\n",
       "      <th>PSP@10</th>\n",
       "      <th>PSN@1</th>\n",
       "      <th>PSN@3</th>\n",
       "      <th>PSN@5</th>\n",
       "      <th>PSN@10</th>\n",
       "      <th>R@2</th>\n",
       "      <th>R@3</th>\n",
       "      <th>R@10</th>\n",
       "      <th>R@50</th>\n",
       "      <th>R@100</th>\n",
       "      <th>R@200</th>\n",
       "      <th>loss</th>\n",
       "      <th>runtime</th>\n",
       "      <th>samples_per_second</th>\n",
       "      <th>steps_per_second</th>\n",
       "    </tr>\n",
       "  </thead>\n",
       "  <tbody>\n",
       "    <tr>\n",
       "      <th>0</th>\n",
       "      <td>8.35</td>\n",
       "      <td>8.9</td>\n",
       "      <td>8.61</td>\n",
       "      <td>4.38</td>\n",
       "      <td>8.35</td>\n",
       "      <td>11.7853</td>\n",
       "      <td>14.8046</td>\n",
       "      <td>14.5668</td>\n",
       "      <td>6.3292</td>\n",
       "      <td>9.697</td>\n",
       "      <td>12.4711</td>\n",
       "      <td>11.4596</td>\n",
       "      <td>6.3292</td>\n",
       "      <td>8.9395</td>\n",
       "      <td>11.0119</td>\n",
       "      <td>10.9659</td>\n",
       "      <td>8.2428</td>\n",
       "      <td>12.6652</td>\n",
       "      <td>20.3485</td>\n",
       "      <td>20.3485</td>\n",
       "      <td>20.3485</td>\n",
       "      <td>20.3485</td>\n",
       "      <td>7.0555</td>\n",
       "      <td>209.895</td>\n",
       "      <td>9.529</td>\n",
       "      <td>0.3</td>\n",
       "    </tr>\n",
       "  </tbody>\n",
       "</table>\n",
       "</div>"
      ],
      "text/plain": [
       "    P@1  P@3   P@5  P@10   N@1      N@3      N@5     N@10   PSP@1  PSP@3  \\\n",
       "0  8.35  8.9  8.61  4.38  8.35  11.7853  14.8046  14.5668  6.3292  9.697   \n",
       "\n",
       "     PSP@5   PSP@10   PSN@1   PSN@3    PSN@5   PSN@10     R@2      R@3  \\\n",
       "0  12.4711  11.4596  6.3292  8.9395  11.0119  10.9659  8.2428  12.6652   \n",
       "\n",
       "      R@10     R@50    R@100    R@200    loss  runtime  samples_per_second  \\\n",
       "0  20.3485  20.3485  20.3485  20.3485  7.0555  209.895               9.529   \n",
       "\n",
       "   steps_per_second  \n",
       "0               0.3  "
      ]
     },
     "metadata": {},
     "output_type": "display_data"
    }
   ],
   "source": [
    "o = learn.predict(test_dset)\n",
    "display_metric(o.metrics)"
   ]
  },
  {
   "cell_type": "markdown",
   "id": "f7adb9ca",
   "metadata": {},
   "source": [
    "## Zero shot"
   ]
  },
  {
   "cell_type": "code",
   "execution_count": 13,
   "id": "1bd8cef5-e716-4243-94c4-bfac98107cd0",
   "metadata": {},
   "outputs": [],
   "source": [
    "fname = '/home/aiscuser/scratch/Projects/xc_nlg/outputs/00-nar-trie-inference-benchmarking/data/block.pkl'\n",
    "with open(fname, 'rb') as file: block = pickle.load(file)"
   ]
  },
  {
   "cell_type": "code",
   "execution_count": 89,
   "id": "6abb7609",
   "metadata": {},
   "outputs": [],
   "source": [
    "args = XCLearningArguments(\n",
    "    output_dir='/home/aiscuser/scratch/Projects/xc_nlg/outputs/default',\n",
    "    generation_length_penalty=0.0,\n",
    "    per_device_eval_batch_size=64,\n",
    "    evaluation_strategy='steps',\n",
    "    label_names=['lbl2data_idx'],\n",
    ")"
   ]
  },
  {
   "cell_type": "code",
   "execution_count": 19,
   "id": "423b7b5d",
   "metadata": {},
   "outputs": [
    {
     "name": "stderr",
     "output_type": "stream",
     "text": [
      "/opt/conda/envs/ptca/lib/python3.9/site-packages/huggingface_hub/file_download.py:1132: FutureWarning: `resume_download` is deprecated and will be removed in version 1.0.0. Downloads always resume when possible. If you want to force a new download, use `force_download=True`.\n",
      "  warnings.warn(\n",
      "If you want to use `BertLMHeadModel` as a standalone, add `is_decoder=True.`\n",
      "Some weights of BT0002 were not initialized from the model checkpoint at bert-base-uncased and are newly initialized: ['loss_fn.o']\n",
      "You should probably TRAIN this model on a down-stream task to be able to use it for predictions and inference.\n"
     ]
    }
   ],
   "source": [
    "model = BT0002.from_pretrained('bert-base-uncased', tn_targ=10_000, ig_tok=0)"
   ]
  },
  {
   "cell_type": "code",
   "execution_count": 73,
   "id": "5557ca9b",
   "metadata": {},
   "outputs": [],
   "source": [
    "test_dset = block.test.dset.sample(n=1000, seed=50)"
   ]
  },
  {
   "cell_type": "code",
   "execution_count": 74,
   "id": "0c5f9fe6",
   "metadata": {},
   "outputs": [],
   "source": [
    "metric = PrecRecl(test_dset.n_lbl, test_dset.data.data_lbl_filterer, prop=block.train.dset.data.data_lbl,\n",
    "                  pk=10, rk=200, rep_pk=[1, 3, 5, 10], rep_rk=[10, 100, 200])"
   ]
  },
  {
   "cell_type": "code",
   "execution_count": 90,
   "id": "2dc5fbd3",
   "metadata": {},
   "outputs": [],
   "source": [
    "learn = XCLearner(\n",
    "    model=model, \n",
    "    args=args,\n",
    "    data_collator=block.collator, \n",
    "    compute_metrics=metric,\n",
    ")"
   ]
  },
  {
   "cell_type": "code",
   "execution_count": 91,
   "id": "979299e5",
   "metadata": {},
   "outputs": [
    {
     "data": {
      "application/vnd.jupyter.widget-view+json": {
       "model_id": "bb6e1180f5f04713be06eb4114191489",
       "version_major": 2,
       "version_minor": 0
      },
      "text/plain": [
       "  0%|          | 0/312330 [00:00<?, ?it/s]"
      ]
     },
     "metadata": {},
     "output_type": "display_data"
    }
   ],
   "source": [
    "trie = Trie(max_height=32, sos_id=101, eos_id=102, pad_token=0, n_bm=5, len_penalty=0.0)\n",
    "lbl_toks = test_dset.lbl_info['input_ids']\n",
    "lbl_info = [[i] for i in range(len(lbl_toks))]\n",
    "trie.build(lbl_toks, lbl_info)"
   ]
  },
  {
   "cell_type": "code",
   "execution_count": 93,
   "id": "3b3b8630",
   "metadata": {},
   "outputs": [],
   "source": [
    "learn.tbs = trie"
   ]
  },
  {
   "cell_type": "code",
   "execution_count": 94,
   "id": "992a91ad",
   "metadata": {},
   "outputs": [
    {
     "name": "stderr",
     "output_type": "stream",
     "text": [
      "/opt/conda/envs/ptca/lib/python3.9/site-packages/torch/nn/parallel/_functions.py:68: UserWarning: Was asked to gather along dimension 0, but all input tensors were scalars; will instead unsqueeze and return a vector.\n",
      "  warnings.warn('Was asked to gather along dimension 0, but all '\n"
     ]
    },
    {
     "data": {
      "text/html": [],
      "text/plain": [
       "<IPython.core.display.HTML object>"
      ]
     },
     "metadata": {},
     "output_type": "display_data"
    },
    {
     "name": "stderr",
     "output_type": "stream",
     "text": [
      "/opt/conda/envs/ptca/lib/python3.9/site-packages/scipy/sparse/_index.py:146: SparseEfficiencyWarning: Changing the sparsity structure of a csr_matrix is expensive. lil_matrix is more efficient.\n",
      "  self._set_arrayXarray(i, j, x)\n"
     ]
    },
    {
     "data": {
      "text/html": [
       "<div>\n",
       "<style scoped>\n",
       "    .dataframe tbody tr th:only-of-type {\n",
       "        vertical-align: middle;\n",
       "    }\n",
       "\n",
       "    .dataframe tbody tr th {\n",
       "        vertical-align: top;\n",
       "    }\n",
       "\n",
       "    .dataframe thead th {\n",
       "        text-align: right;\n",
       "    }\n",
       "</style>\n",
       "<table border=\"1\" class=\"dataframe\">\n",
       "  <thead>\n",
       "    <tr style=\"text-align: right;\">\n",
       "      <th></th>\n",
       "      <th>P@1</th>\n",
       "      <th>P@3</th>\n",
       "      <th>P@5</th>\n",
       "      <th>P@10</th>\n",
       "      <th>N@1</th>\n",
       "      <th>N@3</th>\n",
       "      <th>N@5</th>\n",
       "      <th>N@10</th>\n",
       "      <th>PSP@1</th>\n",
       "      <th>PSP@3</th>\n",
       "      <th>PSP@5</th>\n",
       "      <th>PSP@10</th>\n",
       "      <th>PSN@1</th>\n",
       "      <th>PSN@3</th>\n",
       "      <th>PSN@5</th>\n",
       "      <th>PSN@10</th>\n",
       "      <th>R@10</th>\n",
       "      <th>R@100</th>\n",
       "      <th>R@200</th>\n",
       "      <th>loss</th>\n",
       "      <th>runtime</th>\n",
       "      <th>samples_per_second</th>\n",
       "      <th>steps_per_second</th>\n",
       "    </tr>\n",
       "  </thead>\n",
       "  <tbody>\n",
       "    <tr>\n",
       "      <th>0</th>\n",
       "      <td>4.0</td>\n",
       "      <td>2.7333</td>\n",
       "      <td>2.0</td>\n",
       "      <td>1.01</td>\n",
       "      <td>4.0</td>\n",
       "      <td>4.0084</td>\n",
       "      <td>4.1433</td>\n",
       "      <td>4.0635</td>\n",
       "      <td>4.4408</td>\n",
       "      <td>4.6646</td>\n",
       "      <td>4.7041</td>\n",
       "      <td>4.317</td>\n",
       "      <td>4.4408</td>\n",
       "      <td>4.765</td>\n",
       "      <td>4.9661</td>\n",
       "      <td>4.9313</td>\n",
       "      <td>4.6338</td>\n",
       "      <td>4.6338</td>\n",
       "      <td>4.6338</td>\n",
       "      <td>15.5659</td>\n",
       "      <td>70.2793</td>\n",
       "      <td>14.229</td>\n",
       "      <td>0.114</td>\n",
       "    </tr>\n",
       "  </tbody>\n",
       "</table>\n",
       "</div>"
      ],
      "text/plain": [
       "   P@1     P@3  P@5  P@10  N@1     N@3     N@5    N@10   PSP@1   PSP@3  \\\n",
       "0  4.0  2.7333  2.0  1.01  4.0  4.0084  4.1433  4.0635  4.4408  4.6646   \n",
       "\n",
       "    PSP@5  PSP@10   PSN@1  PSN@3   PSN@5  PSN@10    R@10   R@100   R@200  \\\n",
       "0  4.7041   4.317  4.4408  4.765  4.9661  4.9313  4.6338  4.6338  4.6338   \n",
       "\n",
       "      loss  runtime  samples_per_second  steps_per_second  \n",
       "0  15.5659  70.2793              14.229             0.114  "
      ]
     },
     "metadata": {},
     "output_type": "display_data"
    },
    {
     "name": "stdout",
     "output_type": "stream",
     "text": [
      "CPU times: user 1min 21s, sys: 1.37 s, total: 1min 23s\n",
      "Wall time: 1min 10s\n"
     ]
    }
   ],
   "source": [
    "%%time\n",
    "o = learn.predict(test_dset)\n",
    "display_metric(o.metrics)"
   ]
  },
  {
   "cell_type": "code",
   "execution_count": 95,
   "id": "1b336881",
   "metadata": {},
   "outputs": [
    {
     "data": {
      "text/plain": [
       "(5, 0.0)"
      ]
     },
     "execution_count": 95,
     "metadata": {},
     "output_type": "execute_result"
    }
   ],
   "source": [
    "trie.n_bm, trie.len_penalty"
   ]
  },
  {
   "cell_type": "markdown",
   "id": "08f07e3b",
   "metadata": {},
   "source": [
    "## Zero shot after integration"
   ]
  },
  {
   "cell_type": "code",
   "execution_count": 8,
   "id": "09bdeb6b",
   "metadata": {},
   "outputs": [],
   "source": [
    "from xcai.generation.generate import XCTrieBeamSearch"
   ]
  },
  {
   "cell_type": "code",
   "execution_count": 5,
   "id": "bb850ff1",
   "metadata": {},
   "outputs": [],
   "source": [
    "fname = '/home/aiscuser/scratch/Projects/xc_nlg/outputs/00-nar-trie-inference-benchmarking/data/block.pkl'\n",
    "with open(fname, 'rb') as file: block = pickle.load(file)"
   ]
  },
  {
   "cell_type": "code",
   "execution_count": 6,
   "id": "f136b763",
   "metadata": {},
   "outputs": [],
   "source": [
    "args = XCLearningArguments(\n",
    "    output_dir='/home/aiscuser/scratch/Projects/xc_nlg/outputs/default',\n",
    "    generation_length_penalty=0.0,\n",
    "    per_device_eval_batch_size=64,\n",
    "    evaluation_strategy='steps',\n",
    "    label_names=['lbl2data_idx'],\n",
    ")"
   ]
  },
  {
   "cell_type": "code",
   "execution_count": 7,
   "id": "96348769",
   "metadata": {},
   "outputs": [
    {
     "name": "stderr",
     "output_type": "stream",
     "text": [
      "/opt/conda/envs/ptca/lib/python3.9/site-packages/huggingface_hub/file_download.py:1132: FutureWarning: `resume_download` is deprecated and will be removed in version 1.0.0. Downloads always resume when possible. If you want to force a new download, use `force_download=True`.\n",
      "  warnings.warn(\n",
      "If you want to use `BertLMHeadModel` as a standalone, add `is_decoder=True.`\n",
      "Some weights of BT0002 were not initialized from the model checkpoint at bert-base-uncased and are newly initialized: ['loss_fn.o']\n",
      "You should probably TRAIN this model on a down-stream task to be able to use it for predictions and inference.\n"
     ]
    }
   ],
   "source": [
    "model = BT0002.from_pretrained('bert-base-uncased', tn_targ=10_000, ig_tok=0)"
   ]
  },
  {
   "cell_type": "code",
   "execution_count": 20,
   "id": "22a0d3fa",
   "metadata": {},
   "outputs": [],
   "source": [
    "test_dset = block.test.dset.sample(n=2000, seed=50)\n",
    "metric = PrecRecl(test_dset.n_lbl, test_dset.data.data_lbl_filterer, prop=block.train.dset.data.data_lbl,\n",
    "                  pk=10, rk=200, rep_pk=[1, 3, 5, 10], rep_rk=[10, 100, 200])"
   ]
  },
  {
   "cell_type": "code",
   "execution_count": 13,
   "id": "8fa4414c",
   "metadata": {},
   "outputs": [
    {
     "data": {
      "application/vnd.jupyter.widget-view+json": {
       "model_id": "01a9bc028f574d6b8da17da3812933a5",
       "version_major": 2,
       "version_minor": 0
      },
      "text/plain": [
       "  0%|          | 0/312330 [00:00<?, ?it/s]"
      ]
     },
     "metadata": {},
     "output_type": "display_data"
    }
   ],
   "source": [
    "tbs = XCTrieBeamSearch.from_block(block)"
   ]
  },
  {
   "cell_type": "code",
   "execution_count": 21,
   "id": "1f65a1b5",
   "metadata": {},
   "outputs": [],
   "source": [
    "learn = XCLearner(\n",
    "    model=model, \n",
    "    args=args,\n",
    "    trie_generator=tbs,\n",
    "    train_dataset=block.train.dset,\n",
    "    eval_dataset=test_dset,\n",
    "    data_collator=block.collator, \n",
    "    compute_metrics=metric,\n",
    ")"
   ]
  },
  {
   "cell_type": "code",
   "execution_count": 22,
   "id": "9629adc6",
   "metadata": {},
   "outputs": [
    {
     "name": "stderr",
     "output_type": "stream",
     "text": [
      "/opt/conda/envs/ptca/lib/python3.9/site-packages/torch/nn/parallel/_functions.py:68: UserWarning: Was asked to gather along dimension 0, but all input tensors were scalars; will instead unsqueeze and return a vector.\n",
      "  warnings.warn('Was asked to gather along dimension 0, but all '\n"
     ]
    },
    {
     "data": {
      "text/html": [
       "\n",
       "    <div>\n",
       "      \n",
       "      <progress value='16' max='16' style='width:300px; height:20px; vertical-align: middle;'></progress>\n",
       "      [16/16 01:47]\n",
       "    </div>\n",
       "    "
      ],
      "text/plain": [
       "<IPython.core.display.HTML object>"
      ]
     },
     "metadata": {},
     "output_type": "display_data"
    },
    {
     "name": "stderr",
     "output_type": "stream",
     "text": [
      "/opt/conda/envs/ptca/lib/python3.9/site-packages/scipy/sparse/_index.py:146: SparseEfficiencyWarning: Changing the sparsity structure of a csr_matrix is expensive. lil_matrix is more efficient.\n",
      "  self._set_arrayXarray(i, j, x)\n"
     ]
    },
    {
     "data": {
      "text/plain": [
       "{'eval_loss': 15.70250415802002,\n",
       " 'eval_P@1': 0.038,\n",
       " 'eval_P@10': 0.009349999999999999,\n",
       " 'eval_P@3': 0.024666666666666698,\n",
       " 'eval_P@5': 0.0186,\n",
       " 'eval_N@1': 0.03799999877810478,\n",
       " 'eval_N@10': 0.038646530359983444,\n",
       " 'eval_N@3': 0.037448786199092865,\n",
       " 'eval_N@5': 0.039278190582990646,\n",
       " 'eval_PSP@1': 0.04046994856832396,\n",
       " 'eval_PSP@10': 0.03828862374382027,\n",
       " 'eval_PSP@3': 0.04035186294636745,\n",
       " 'eval_PSP@5': 0.04208168960973801,\n",
       " 'eval_PSN@1': 0.0404699482023716,\n",
       " 'eval_PSN@10': 0.04572494700551033,\n",
       " 'eval_PSN@3': 0.04320825636386871,\n",
       " 'eval_PSN@5': 0.0458955392241478,\n",
       " 'eval_R@200': 0.04337371003179827,\n",
       " 'eval_R@10': 0.04337371003179827,\n",
       " 'eval_R@100': 0.04337371003179827,\n",
       " 'eval_runtime': 112.7881,\n",
       " 'eval_samples_per_second': 17.732,\n",
       " 'eval_steps_per_second': 0.142}"
      ]
     },
     "execution_count": 22,
     "metadata": {},
     "output_type": "execute_result"
    }
   ],
   "source": [
    "learn.evaluate()"
   ]
  },
  {
   "cell_type": "code",
   "execution_count": null,
   "id": "4470f694",
   "metadata": {},
   "outputs": [],
   "source": []
  }
 ],
 "metadata": {
  "kernelspec": {
   "display_name": "Python 3 (ipykernel)",
   "language": "python",
   "name": "python3"
  },
  "language_info": {
   "codemirror_mode": {
    "name": "ipython",
    "version": 3
   },
   "file_extension": ".py",
   "mimetype": "text/x-python",
   "name": "python",
   "nbconvert_exporter": "python",
   "pygments_lexer": "ipython3",
   "version": "3.9.18"
  }
 },
 "nbformat": 4,
 "nbformat_minor": 5
}
