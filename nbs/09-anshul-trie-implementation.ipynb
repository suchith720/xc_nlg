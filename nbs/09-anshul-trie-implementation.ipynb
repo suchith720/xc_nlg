{
 "cells": [
  {
   "cell_type": "code",
   "execution_count": null,
   "id": "8364cdd6-8624-4599-882e-e35de31c9dad",
   "metadata": {},
   "outputs": [],
   "source": [
    "#| default_exp 09-faster-trie-implementation"
   ]
  },
  {
   "cell_type": "code",
   "execution_count": null,
   "id": "a7ab08b0-0137-4c39-81c4-84d6b1b0befd",
   "metadata": {},
   "outputs": [],
   "source": [
    "%load_ext autoreload\n",
    "%autoreload 2"
   ]
  },
  {
   "cell_type": "code",
   "execution_count": null,
   "id": "8f8fd8e6-6560-4fa8-a3d9-a22350d7fbb8",
   "metadata": {},
   "outputs": [],
   "source": [
    "#| export\n",
    "import os, pandas as pd, warnings, torch, pickle, numpy as np\n",
    "from typing import Dict, Optional, List\n",
    "from tqdm.auto import tqdm\n",
    "from scipy import stats\n",
    "import scipy.sparse as sp\n",
    "import torch.nn.functional as F\n",
    "from itertools import chain\n",
    "\n",
    "from xcai.basics import *\n",
    "from xcai.models.MMM00X import DBT007, DBT008\n",
    "from xcai.transform import AugmentMetaInputIdsTfm"
   ]
  },
  {
   "cell_type": "code",
   "execution_count": null,
   "id": "5f95350b-040f-4f7d-acbb-eafd2dba1ef9",
   "metadata": {},
   "outputs": [],
   "source": [
    "#| export\n",
    "os.environ['WANDB_MODE'] = 'disabled'"
   ]
  },
  {
   "cell_type": "code",
   "execution_count": null,
   "id": "c982a066-ef33-429d-a95d-64e822425df5",
   "metadata": {},
   "outputs": [],
   "source": [
    "#| export\n",
    "dump_dir = '/scratch/scai/phd/aiz218323/Projects/xc_nlg/outputs/05-metadata-augmented-input-and-trie-for-distilbert/'"
   ]
  },
  {
   "cell_type": "code",
   "execution_count": null,
   "id": "dfd7c2b5-6224-4b39-ac8f-3bbbcbf17d92",
   "metadata": {},
   "outputs": [],
   "source": [
    "#| export\n",
    "fname = '/scratch/scai/phd/aiz218323/Projects/xc_nlg/outputs/05-metadata-augmented-input-and-trie-for-distilbert/data/block.pkl'\n",
    "with open(fname, 'rb') as f: block, test_dset = pickle.load(f)"
   ]
  },
  {
   "cell_type": "markdown",
   "id": "1ca46ab2-cff2-466f-b8cd-31f513c3f3e0",
   "metadata": {},
   "source": [
    "## `Trie`"
   ]
  },
  {
   "cell_type": "code",
   "execution_count": null,
   "id": "bd349992-ca72-4449-9232-ca7db3c78d0e",
   "metadata": {},
   "outputs": [],
   "source": [
    "class Trie:\n",
    "    def __init__(self, max_height=32, sos_id=101, eos_id=102, pad_token=0, n_bm=10, len_penalty=1.0):\n",
    "        store_attr('max_height,sos_id,eos_id,pad_token,n_bm,len_penalty')\n",
    "        self.trie, self.hash = {}, None\n",
    "    \n",
    "    def build(self, X, y):\n",
    "        assert(len(X) == len(y))\n",
    "        self.hash = y\n",
    "        trie_dict = {}\n",
    "        for seq_id, seq in enumerate(tqdm(X)):\n",
    "            next_dict = trie_dict\n",
    "            for token in seq[:self.max_height]:\n",
    "                next_dict[token] = next_dict.get(\n",
    "                    token, {\"next\": {}, \"occurs\":0, \"lbls\": [],\n",
    "                            \"point_to\": token, \"is_leaf\": False}\n",
    "                )\n",
    "                next_dict[token][\"lbls\"].append(seq_id)\n",
    "                next_dict[token][\"occurs\"] += 1\n",
    "                if token == self.eos_id:\n",
    "                    next_dict[token][\"is_leaf\"] = True\n",
    "                    break\n",
    "                next_dict = next_dict[token][\"next\"]\n",
    "        self.trie = trie_dict\n",
    "    \n",
    "    def decode_text(self, X):\n",
    "        next_level = {'next':self.trie, 'lbls': [-1]}\n",
    "        for token in X:\n",
    "            items = next_level['next'].get(token, None)\n",
    "            if items is None:\n",
    "                return next_level[\"lbls\"]\n",
    "            if items[\"is_leaf\"]:\n",
    "                return items[\"lbls\"]\n",
    "            next_level = items\n",
    "        return items[\"lbls\"]\n",
    "    \n",
    "    def _padded_np(self, lol, fill_value, max_seq):\n",
    "        tokens = np.full((len(lol), max_seq), fill_value, dtype=type(lol[0][0]))\n",
    "        masks = np.zeros((len(lol), max_seq), dtype=np.int32)\n",
    "        for i in np.arange(len(lol)):\n",
    "            tokens[i, :len(lol[i])] = lol[i]\n",
    "            masks[i, :len(lol[i])] = 1\n",
    "        return tokens, masks\n",
    "    \n",
    "    def row_topk(self, score, k=10, return_scores=False, sort=False):\n",
    "        index = np.argpartition(score, -k, axis=0)[-k:]\n",
    "        if sort:\n",
    "            _score = score[index]\n",
    "            _index = np.argsort(_score, axis=0)\n",
    "            index = index[_index]\n",
    "        if return_scores:\n",
    "            score = score[index]\n",
    "            return index, score\n",
    "        return index\n",
    "    \n",
    "    def batch_topk(self, score, k=10, return_scores=False, sort=False):\n",
    "        index = np.argpartition(score, -k, axis=1)[:, -k:]\n",
    "        if sort:\n",
    "            _score = np.take_along_axis(score, index, axis=1)\n",
    "            _index = np.argsort(_score, axis=1)\n",
    "            index = np.take_along_axis(index, _index, axis=1)\n",
    "        if return_scores:\n",
    "            score = np.take_along_axis(score, index, axis=1)\n",
    "            return index, score\n",
    "        return index\n",
    "    \n",
    "    def _snl_one(self, tries, old_scores, curr_score, len_score, top_k_index):\n",
    "        _tries, _score, _l_scr = [], [], []\n",
    "        for col in top_k_index:\n",
    "            items = list(tries[col]['next'].items())\n",
    "            if len(items) == 0:\n",
    "                key, value = [self.pad_token], [{\"next\":{}, \"lbls\": tries[col][\"lbls\"]}]\n",
    "                l_items = [len_score[col]]\n",
    "            else:\n",
    "                key, value = list(zip(*items))\n",
    "                l_items = np.full((len(key),), len_score[col] + 1)\n",
    "            _tries.extend(value)\n",
    "            _score.extend(curr_score[list(key)] + old_scores[col])\n",
    "            _l_scr.extend(l_items)\n",
    "        return _tries, _score, _l_scr\n",
    "    \n",
    "    def _agl_one(self, lol, sorted_index, sorted_scores):\n",
    "        lol_lbs, lbl_scr = [], []\n",
    "        for col, item in enumerate(sorted_index):\n",
    "            _items = np.concatenate(\n",
    "                        list(map(lambda x: self.hash[x], lol[item][\"lbls\"]))\n",
    "                    )\n",
    "            lol_lbs.extend(_items)\n",
    "            lbl_scr.extend(np.full((_items.size,), sorted_scores[col], dtype=np.float32))\n",
    "        return lol_lbs, lbl_scr\n",
    "\n",
    "    def snl(self, tries, old_scores, curr_score, len_score, top_k_index):\n",
    "        _tries, _score, _l_scr, _max_seq = [], [], [], -1\n",
    "        for i in np.arange(top_k_index.shape[0]):\n",
    "            __tries, __score, __l_scr = self._snl_one(\n",
    "                tries[i], old_scores[i], curr_score[i], len_score[i], top_k_index[i])\n",
    "            _max_seq = max(_max_seq, len(__tries))\n",
    "            _tries.append(__tries)\n",
    "            _score.append(__score)\n",
    "            _l_scr.append(__l_scr)\n",
    "        _score, _ = self._padded_np(_score, -np.inf, _max_seq)\n",
    "        _l_scr, _ = self._padded_np(_l_scr, 0.001, _max_seq)\n",
    "        return _tries, _score, _l_scr\n",
    "    \n",
    "    def agl(self, lol_trie, sorted_index, sorted_scores):\n",
    "        lol_lbs, lbl_scr = [], []\n",
    "        for rid in np.arange(sorted_index.shape[0]):\n",
    "            _lol_lbs, _lbl_scr = self._agl_one(lol_trie[rid], sorted_index[rid], sorted_scores[rid])\n",
    "            lol_lbs.append(_lol_lbs)\n",
    "            lbl_scr.append(_lbl_scr)\n",
    "        return lol_lbs, lbl_scr\n",
    "    \n",
    "    def decode_batch(self, preds, beam=10, l_penalty=0, start_seq=1):\n",
    "        _token = np.full((len(preds), 1), self.sos_id)\n",
    "        _tries = [[self.trie[self.sos_id]] for _ in range(len(preds))]\n",
    "        _score = np.zeros((len(preds), 1), dtype=np.float32)\n",
    "        _index = np.zeros((len(preds), 1), dtype=np.int32)\n",
    "        _l_scr = np.ones((len(preds), 1), dtype=np.int32)\n",
    "        for i in np.arange(start_seq, self.max_height):\n",
    "            _tries, _score, _l_scr = self.snl(_tries, _score, preds[:, i], _l_scr, _index)\n",
    "            _score = np.multiply(_score, np.power(_l_scr,-l_penalty))\n",
    "            _index = self.batch_topk(_score, beam, i+1==self.max_height, i+1==self.max_height)\n",
    "        return self.agl(_tries, _index[0], _index[1])\n",
    "\n",
    "    def proc(self, model, inputs:Dict, n_bm:int=None, max_bm:Optional[int]=None, len_penalty:Optional[float]=None, \n",
    "             max_info:Optional[int]=None):\n",
    "        store_attr('n_bm,len_penalty', is_none=False)\n",
    "        logits = F.log_softmax(model(**inputs).logits, dim=2).cpu().detach().numpy()\n",
    "        logits = np.concatenate([logits, np.zeros((logits.shape[0], max(0, self.max_height-logits.shape[1]), logits.shape[2]))], axis=1)\n",
    "        idx, scores = self.decode_batch(logits, beam=self.n_bm, l_penalty=self.len_penalty)\n",
    "        outputs = {\n",
    "            'info2seq2data_idx': torch.tensor(list(chain(*idx))),\n",
    "            'info2seq2data_score': torch.tensor(list(chain(*scores))),\n",
    "            'info2seq2data_data2ptr': torch.tensor([len(o) for o in idx]),\n",
    "        }\n",
    "        return outputs\n",
    "        \n",
    "        \n",
    "    def decode_one(self, pred, beam, l_penalty, start_seq=1):\n",
    "        _token = [self.sos_id]\n",
    "        _tries = [self.trie[self.sos_id]]\n",
    "        _score = np.zeros((1,), dtype=np.float32)\n",
    "        _index = np.zeros((1,), dtype=np.int32)\n",
    "        _l_scr = np.ones((1, ), dtype=np.int32)\n",
    "        for i in np.arange(start_seq, self.max_height):\n",
    "            _tries, _score, _l_scr = self._snl_one(_tries, _score, pred[i], _l_scr, _index)\n",
    "            _score = np.multiply(_score, np.power(_l_scr,-l_penalty))\n",
    "            _index = self.row_topk(_score, beam, i+1==self.max_height, i+1==self.max_height)\n",
    "        return self._agl_one(_tries, _index[0], _index[1])\n",
    "    \n",
    "    def decode_serial(self, preds, beam=10, l_penalty=0):\n",
    "        labels = []\n",
    "        scores = []\n",
    "        for pred in preds:\n",
    "            _labels, _scores = self.decode_one(pred, beam, l_penalty)\n",
    "            labels.append(_labels)\n",
    "            scores.append(_scores)\n",
    "        return labels, scores"
   ]
  },
  {
   "cell_type": "markdown",
   "id": "3be24317-6b68-4738-8c63-b08fd98cc729",
   "metadata": {},
   "source": [
    "## Generation"
   ]
  },
  {
   "cell_type": "code",
   "execution_count": null,
   "id": "83f66748-30e1-447d-b655-032eb7ee79a0",
   "metadata": {},
   "outputs": [
    {
     "name": "stderr",
     "output_type": "stream",
     "text": [
      "Some weights of DBT007 were not initialized from the model checkpoint at /scratch/scai/phd/aiz218323/Projects/xc_nlg/outputs/05-metadata-augmented-input-and-trie-for-distilbert/distilbert-base-uncased_RB33-NAR-3+8-2_(mapped)LF-WikiSeeAlsoTitles-320K/checkpoint-190000 and are newly initialized: ['loss_fn.o']\n",
      "You should probably TRAIN this model on a down-stream task to be able to use it for predictions and inference.\n"
     ]
    }
   ],
   "source": [
    "#| export\n",
    "mname = f'/scratch/scai/phd/aiz218323/Projects/xc_nlg/outputs/05-metadata-augmented-input-and-trie-for-distilbert/distilbert-base-uncased_RB33-NAR-3+8-2_(mapped)LF-WikiSeeAlsoTitles-320K/checkpoint-190000'\n",
    "model = DBT007.from_pretrained(mname, tn_targ=10_000, ig_tok=0)"
   ]
  },
  {
   "cell_type": "code",
   "execution_count": null,
   "id": "12271cef-dc88-4f66-9fb9-58bcf5656acb",
   "metadata": {},
   "outputs": [],
   "source": [
    "#| export\n",
    "args = XCLearningArguments(\n",
    "    output_dir=f'{dump_dir}/distilbert-base-uncased_RB33-NAR-3+8-2_(mapped)LF-WikiSeeAlsoTitles-320K',\n",
    "    generation_length_penalty=1.5,\n",
    "    per_device_eval_batch_size=16,\n",
    "    evaluation_strategy='steps',\n",
    "    label_names=['lbl2data_idx'],\n",
    ")"
   ]
  },
  {
   "cell_type": "code",
   "execution_count": null,
   "id": "9837c9b6-a750-4393-adf2-1bfdf708478d",
   "metadata": {},
   "outputs": [],
   "source": [
    "#| export\n",
    "metric = PrecRecl(test_dset.n_lbl, test_dset.data.data_lbl_filterer, prop=block.train.dset.data.data_lbl,\n",
    "                  pk=10, rk=200, rep_pk=[1, 3, 5, 10], rep_rk=[2, 3, 10, 50, 100, 200])"
   ]
  },
  {
   "cell_type": "code",
   "execution_count": null,
   "id": "948efa9b-72c4-4920-8ae0-b6f31f605875",
   "metadata": {},
   "outputs": [
    {
     "name": "stderr",
     "output_type": "stream",
     "text": [
      "Detected kernel version 3.10.0, which is below the recommended minimum of 5.5.0; this can cause the process to hang. It is recommended to upgrade the kernel to the minimum version or higher.\n"
     ]
    }
   ],
   "source": [
    "#| export\n",
    "learn = XCLearner(\n",
    "    model=model, \n",
    "    args=args,\n",
    "    data_collator=block.collator, \n",
    "    compute_metrics=metric,\n",
    ")"
   ]
  },
  {
   "cell_type": "code",
   "execution_count": null,
   "id": "002a5da5-3724-49fb-8187-3bfc68934448",
   "metadata": {},
   "outputs": [
    {
     "data": {
      "application/vnd.jupyter.widget-view+json": {
       "model_id": "6996c4c7aaa04d3e8e6d64cc1ebafb24",
       "version_major": 2,
       "version_minor": 0
      },
      "text/plain": [
       "  0%|          | 0/312330 [00:00<?, ?it/s]"
      ]
     },
     "metadata": {},
     "output_type": "display_data"
    }
   ],
   "source": [
    "trie = Trie(max_height=32, n_bm=10)\n",
    "lbl_toks = test_dset.lbl_info['input_ids']\n",
    "lbl_info = [[i] for i in range(len(toks))]\n",
    "trie.build(lbl_toks, lbl_info)"
   ]
  },
  {
   "cell_type": "code",
   "execution_count": null,
   "id": "31fe6457-e297-4da0-8d5e-2877d44df1cd",
   "metadata": {},
   "outputs": [],
   "source": [
    "learn.tbs = trie"
   ]
  },
  {
   "cell_type": "code",
   "execution_count": null,
   "id": "1cfd3b48-c4a6-4e44-a22b-bde0e7685360",
   "metadata": {},
   "outputs": [
    {
     "name": "stderr",
     "output_type": "stream",
     "text": [
      "/tmp/ipykernel_21032/2768843144.py:120: RuntimeWarning: divide by zero encountered in power\n",
      "  _score = np.multiply(_score, np.power(_l_scr,-l_penalty))\n"
     ]
    },
    {
     "data": {
      "text/html": [],
      "text/plain": [
       "<IPython.core.display.HTML object>"
      ]
     },
     "metadata": {},
     "output_type": "display_data"
    },
    {
     "name": "stderr",
     "output_type": "stream",
     "text": [
      "/scratch/scai/phd/aiz218323/anaconda3/envs/xc_nlg/lib/python3.9/site-packages/scipy/sparse/_index.py:145: SparseEfficiencyWarning: Changing the sparsity structure of a csr_matrix is expensive. lil_matrix is more efficient.\n",
      "  self._set_arrayXarray(i, j, x)\n"
     ]
    },
    {
     "data": {
      "text/html": [
       "<div>\n",
       "<style scoped>\n",
       "    .dataframe tbody tr th:only-of-type {\n",
       "        vertical-align: middle;\n",
       "    }\n",
       "\n",
       "    .dataframe tbody tr th {\n",
       "        vertical-align: top;\n",
       "    }\n",
       "\n",
       "    .dataframe thead th {\n",
       "        text-align: right;\n",
       "    }\n",
       "</style>\n",
       "<table border=\"1\" class=\"dataframe\">\n",
       "  <thead>\n",
       "    <tr style=\"text-align: right;\">\n",
       "      <th></th>\n",
       "      <th>P@1</th>\n",
       "      <th>P@3</th>\n",
       "      <th>P@5</th>\n",
       "      <th>P@10</th>\n",
       "      <th>N@1</th>\n",
       "      <th>N@3</th>\n",
       "      <th>N@5</th>\n",
       "      <th>N@10</th>\n",
       "      <th>PSP@1</th>\n",
       "      <th>PSP@3</th>\n",
       "      <th>PSP@5</th>\n",
       "      <th>PSP@10</th>\n",
       "      <th>PSN@1</th>\n",
       "      <th>PSN@3</th>\n",
       "      <th>PSN@5</th>\n",
       "      <th>PSN@10</th>\n",
       "      <th>R@2</th>\n",
       "      <th>R@3</th>\n",
       "      <th>R@10</th>\n",
       "      <th>R@50</th>\n",
       "      <th>R@100</th>\n",
       "      <th>R@200</th>\n",
       "      <th>loss</th>\n",
       "      <th>runtime</th>\n",
       "      <th>samples_per_second</th>\n",
       "      <th>steps_per_second</th>\n",
       "    </tr>\n",
       "  </thead>\n",
       "  <tbody>\n",
       "    <tr>\n",
       "      <th>0</th>\n",
       "      <td>8.35</td>\n",
       "      <td>8.9</td>\n",
       "      <td>8.61</td>\n",
       "      <td>4.38</td>\n",
       "      <td>8.35</td>\n",
       "      <td>11.7853</td>\n",
       "      <td>14.8046</td>\n",
       "      <td>14.5668</td>\n",
       "      <td>6.3292</td>\n",
       "      <td>9.697</td>\n",
       "      <td>12.4711</td>\n",
       "      <td>11.4596</td>\n",
       "      <td>6.3292</td>\n",
       "      <td>8.9395</td>\n",
       "      <td>11.0119</td>\n",
       "      <td>10.9659</td>\n",
       "      <td>8.2428</td>\n",
       "      <td>12.6652</td>\n",
       "      <td>20.3485</td>\n",
       "      <td>20.3485</td>\n",
       "      <td>20.3485</td>\n",
       "      <td>20.3485</td>\n",
       "      <td>7.0555</td>\n",
       "      <td>209.895</td>\n",
       "      <td>9.529</td>\n",
       "      <td>0.3</td>\n",
       "    </tr>\n",
       "  </tbody>\n",
       "</table>\n",
       "</div>"
      ],
      "text/plain": [
       "    P@1  P@3   P@5  P@10   N@1      N@3      N@5     N@10   PSP@1  PSP@3  \\\n",
       "0  8.35  8.9  8.61  4.38  8.35  11.7853  14.8046  14.5668  6.3292  9.697   \n",
       "\n",
       "     PSP@5   PSP@10   PSN@1   PSN@3    PSN@5   PSN@10     R@2      R@3  \\\n",
       "0  12.4711  11.4596  6.3292  8.9395  11.0119  10.9659  8.2428  12.6652   \n",
       "\n",
       "      R@10     R@50    R@100    R@200    loss  runtime  samples_per_second  \\\n",
       "0  20.3485  20.3485  20.3485  20.3485  7.0555  209.895               9.529   \n",
       "\n",
       "   steps_per_second  \n",
       "0               0.3  "
      ]
     },
     "metadata": {},
     "output_type": "display_data"
    }
   ],
   "source": [
    "o = learn.predict(test_dset)\n",
    "display_metric(o.metrics)"
   ]
  },
  {
   "cell_type": "code",
   "execution_count": null,
   "id": "e1f322c2-8f28-4734-b196-c4d4d49f2b08",
   "metadata": {},
   "outputs": [],
   "source": []
  },
  {
   "cell_type": "code",
   "execution_count": null,
   "id": "1bd8cef5-e716-4243-94c4-bfac98107cd0",
   "metadata": {},
   "outputs": [],
   "source": []
  }
 ],
 "metadata": {
  "kernelspec": {
   "display_name": "python3",
   "language": "python",
   "name": "python3"
  }
 },
 "nbformat": 4,
 "nbformat_minor": 5
}
