{
 "cells": [
  {
   "cell_type": "markdown",
   "id": "6e3a0f4c-1cfb-4a14-b8f2-fdea31c390ec",
   "metadata": {},
   "source": [
    "# Ramen style Clover training with input augmentation"
   ]
  },
  {
   "cell_type": "code",
   "execution_count": 1,
   "id": "ddda97e8-16ac-42c7-9ad4-f981e21c0aa2",
   "metadata": {},
   "outputs": [],
   "source": [
    "#| default_exp 29-ramen-style-clover-training-with-input-augmentation-for-wikititles"
   ]
  },
  {
   "cell_type": "code",
   "execution_count": 2,
   "id": "3f35d8be-1323-400a-b78e-d0a4d2697801",
   "metadata": {},
   "outputs": [],
   "source": [
    "#| hide\n",
    "from nbdev.showdoc import *\n",
    "import nbdev; nbdev.nbdev_export()"
   ]
  },
  {
   "cell_type": "code",
   "execution_count": 3,
   "id": "13077b86-1326-4b43-a125-ef67bd11a70a",
   "metadata": {},
   "outputs": [],
   "source": [
    "%load_ext autoreload\n",
    "%autoreload 2"
   ]
  },
  {
   "cell_type": "code",
   "execution_count": 4,
   "id": "d685e35e-9a13-4186-b7f4-b831b10086bb",
   "metadata": {},
   "outputs": [],
   "source": [
    "#| export\n",
    "import os,torch, torch.multiprocessing as mp\n",
    "from xcai.basics import *\n",
    "from xcai.models.MMM00X import DBT014, DBT017\n",
    "from xcai.transform import AugmentMetaInputIdsTfm"
   ]
  },
  {
   "cell_type": "code",
   "execution_count": 5,
   "id": "e0c924c6",
   "metadata": {},
   "outputs": [],
   "source": [
    "os.environ['WANDB_MODE'] = 'disabled'"
   ]
  },
  {
   "cell_type": "code",
   "execution_count": 6,
   "id": "53768670-9905-46b0-9a6d-b6e91d50b918",
   "metadata": {},
   "outputs": [],
   "source": [
    "#| export\n",
    "os.environ['CUDA_VISIBLE_DEVICES'] = '6,7'\n",
    "os.environ['WANDB_PROJECT']='xc-nlg_29-ramen-style-clover-training-with-input-augmentation-for-wikititles'"
   ]
  },
  {
   "cell_type": "code",
   "execution_count": null,
   "id": "a47a8431",
   "metadata": {},
   "outputs": [],
   "source": []
  },
  {
   "cell_type": "code",
   "execution_count": 7,
   "id": "ba38fcb0-3ebf-4f79-aa20-1a1321b791c5",
   "metadata": {},
   "outputs": [
    {
     "name": "stderr",
     "output_type": "stream",
     "text": [
      "/home/aiscuser/.local/lib/python3.9/site-packages/xclib-0.97-py3.9-linux-x86_64.egg/xclib/data/data_utils.py:263: UserWarning: Header mis-match from inferred shape!\n",
      "  warnings.warn(\"Header mis-match from inferred shape!\")\n",
      "/opt/conda/envs/ptca/lib/python3.9/site-packages/scipy/sparse/_index.py:146: SparseEfficiencyWarning: Changing the sparsity structure of a csr_matrix is expensive. lil_matrix is more efficient.\n",
      "  self._set_arrayXarray(i, j, x)\n"
     ]
    }
   ],
   "source": [
    "#| export\n",
    "block = XCBlock.from_cfg('/home/aiscuser/scratch/datasets', 'data_meta', dset='wikititles', valid_pct=0.001, \n",
    "                         tfm='xcnlg', tokenizer='distilbert-base-uncased', \n",
    "                         smp_features=[('lbl2data',1,2), ('hlk2data',1,1), ('hlk2lbl2data',2,1)], \n",
    "                         n_data_meta_samples=50, n_lbl_meta_samples=5)"
   ]
  },
  {
   "cell_type": "code",
   "execution_count": 7,
   "id": "0318c2da",
   "metadata": {},
   "outputs": [
    {
     "name": "stderr",
     "output_type": "stream",
     "text": [
      "/opt/conda/envs/ptca/lib/python3.9/site-packages/huggingface_hub/file_download.py:1132: FutureWarning: `resume_download` is deprecated and will be removed in version 1.0.0. Downloads always resume when possible. If you want to force a new download, use `force_download=True`.\n",
      "  warnings.warn(\n",
      "/home/aiscuser/.local/lib/python3.9/site-packages/xclib-0.97-py3.9-linux-x86_64.egg/xclib/data/data_utils.py:263: UserWarning: Header mis-match from inferred shape!\n",
      "  warnings.warn(\"Header mis-match from inferred shape!\")\n",
      "/opt/conda/envs/ptca/lib/python3.9/site-packages/scipy/sparse/_index.py:146: SparseEfficiencyWarning: Changing the sparsity structure of a csr_matrix is expensive. lil_matrix is more efficient.\n",
      "  self._set_arrayXarray(i, j, x)\n"
     ]
    }
   ],
   "source": [
    "block = XCBlock.from_cfg('/home/aiscuser/scratch/datasets', 'data_meta', valid_pct=0.001, \n",
    "                         tfm='rm', tokenizer='distilbert-base-uncased', \n",
    "                         smp_features=[('lbl2data|hlk2lbl2data',1, 2), ('hlk2data',1, 1)], \n",
    "                         n_data_meta_samples=50, n_lbl_meta_samples=5)"
   ]
  },
  {
   "cell_type": "code",
   "execution_count": null,
   "id": "58060e09",
   "metadata": {},
   "outputs": [
    {
     "data": {
      "text/html": [
       "\n",
       "<style>\n",
       "    /* Turns off some styling */\n",
       "    progress {\n",
       "        /* gets rid of default border in Firefox and Opera. */\n",
       "        border: none;\n",
       "        /* Needs to be in here for Safari polyfill so background images work as expected. */\n",
       "        background-size: auto;\n",
       "    }\n",
       "    progress:not([value]), progress:not([value])::-webkit-progress-bar {\n",
       "        background: repeating-linear-gradient(45deg, #7e7e7e, #7e7e7e 10px, #5c5c5c 10px, #5c5c5c 20px);\n",
       "    }\n",
       "    .progress-bar-interrupted, .progress-bar-interrupted::-webkit-progress-bar {\n",
       "        background: #F44336;\n",
       "    }\n",
       "</style>\n"
      ],
      "text/plain": [
       "<IPython.core.display.HTML object>"
      ]
     },
     "metadata": {},
     "output_type": "display_data"
    },
    {
     "data": {
      "text/html": [
       "\n",
       "    <div>\n",
       "      <progress value='0' class='' max='3' style='width:300px; height:20px; vertical-align: middle;'></progress>\n",
       "      \n",
       "    </div>\n",
       "    \n"
      ],
      "text/plain": [
       "<IPython.core.display.HTML object>"
      ]
     },
     "metadata": {},
     "output_type": "display_data"
    },
    {
     "data": {
      "text/html": [
       "\n",
       "<style>\n",
       "    /* Turns off some styling */\n",
       "    progress {\n",
       "        /* gets rid of default border in Firefox and Opera. */\n",
       "        border: none;\n",
       "        /* Needs to be in here for Safari polyfill so background images work as expected. */\n",
       "        background-size: auto;\n",
       "    }\n",
       "    progress:not([value]), progress:not([value])::-webkit-progress-bar {\n",
       "        background: repeating-linear-gradient(45deg, #7e7e7e, #7e7e7e 10px, #5c5c5c 10px, #5c5c5c 20px);\n",
       "    }\n",
       "    .progress-bar-interrupted, .progress-bar-interrupted::-webkit-progress-bar {\n",
       "        background: #F44336;\n",
       "    }\n",
       "</style>\n"
      ],
      "text/plain": [
       "<IPython.core.display.HTML object>"
      ]
     },
     "metadata": {},
     "output_type": "display_data"
    },
    {
     "data": {
      "text/html": [
       "\n",
       "    <div>\n",
       "      <progress value='50537' class='' max='692389' style='width:300px; height:20px; vertical-align: middle;'></progress>\n",
       "      7.30% [50537/692389 00:07&lt;01:38]\n",
       "    </div>\n",
       "    "
      ],
      "text/plain": [
       "<IPython.core.display.HTML object>"
      ]
     },
     "metadata": {},
     "output_type": "display_data"
    }
   ],
   "source": [
    "#| export\n",
    "block = AugmentMetaInputIdsTfm.apply(block, 'hlk_meta', 32, True)"
   ]
  },
  {
   "cell_type": "code",
   "execution_count": 33,
   "id": "69892f3b",
   "metadata": {},
   "outputs": [],
   "source": [
    "#| export\n",
    "block.train.dset.data.data_info['input_ids'] = block.train.dset.data.data_info['input_ids_aug_hlk']\n",
    "block.train.dset.data.data_info['attention_mask'] = block.train.dset.data.data_info['attention_mask_aug_hlk']\n",
    "\n",
    "block.test.dset.data.data_info['input_ids'] = block.test.dset.data.data_info['input_ids_aug_hlk']\n",
    "block.test.dset.data.data_info['attention_mask'] = block.test.dset.data.data_info['attention_mask_aug_hlk']"
   ]
  },
  {
   "cell_type": "code",
   "execution_count": 17,
   "id": "73b6a059-3409-4c00-a575-dcdb5775adc9",
   "metadata": {},
   "outputs": [
    {
     "name": "stderr",
     "output_type": "stream",
     "text": [
      "/opt/conda/envs/ptca/lib/python3.9/site-packages/transformers/training_args.py:1474: FutureWarning: `evaluation_strategy` is deprecated and will be removed in version 4.46 of 🤗 Transformers. Use `eval_strategy` instead\n",
      "  warnings.warn(\n",
      "huggingface/tokenizers: The current process just got forked, after parallelism has already been used. Disabling parallelism to avoid deadlocks...\n",
      "To disable this warning, you can either:\n",
      "\t- Avoid using `tokenizers` before the fork if possible\n",
      "\t- Explicitly set the environment variable TOKENIZERS_PARALLELISM=(true | false)\n"
     ]
    }
   ],
   "source": [
    "#| export\n",
    "args = XCLearningArguments(\n",
    "    output_dir='/home/aiscuser/outputs/29-ramen-style-clover-training-with-input-augmentation-for-wikititles-2-0',\n",
    "    logging_first_step=True,\n",
    "    per_device_train_batch_size=800,\n",
    "    per_device_eval_batch_size=800,\n",
    "    representation_num_beams=200,\n",
    "    representation_accumulation_steps=100,\n",
    "    save_strategy=\"steps\",\n",
    "    evaluation_strategy='steps',\n",
    "    eval_steps=1000,\n",
    "    save_steps=1000,\n",
    "    save_total_limit=5,\n",
    "    num_train_epochs=300,\n",
    "    predict_with_representation=True,\n",
    "    adam_epsilon=1e-6,\n",
    "    warmup_steps=100,\n",
    "    weight_decay=0.1,\n",
    "    learning_rate=2e-4,\n",
    "    generation_num_beams=10,\n",
    "    generation_length_penalty=1.5,\n",
    "    predict_with_generation=True,\n",
    "    representation_search_type='BRUTEFORCE',\n",
    "    group_by_cluster=True,\n",
    "    num_clustering_warmup_epochs=1,\n",
    "    num_cluster_update_epochs=1,\n",
    "    num_cluster_size_update_epochs=1,\n",
    "    clustering_type='EXPO',\n",
    "    minimum_cluster_size=1,\n",
    "    maximum_cluster_size=300,\n",
    "    output_concatenation_weight=1.0,\n",
    "    metric_for_best_model='P@1',\n",
    "    load_best_model_at_end=True,\n",
    "    target_indices_key='plbl2data_idx',\n",
    "    target_pointer_key='plbl2data_data2ptr',\n",
    "    fp16=True,\n",
    "    label_names=['hlk2data_input_ids', 'hlk2data_attention_mask', 'hlk2data_data2ptr', 'hlk2data_idx', \n",
    "                 'phlk2data_idx', 'phlk2data_data2ptr', \n",
    "                 'hlk2lbl2data_idx', 'phlk2lbl2data_idx', 'phlk2lbl2data_data2ptr', \n",
    "                 'hlk2lbl2data_input_ids', 'hlk2lbl2data_attention_mask', 'hlk2lbl2data_data2ptr'],\n",
    ")"
   ]
  },
  {
   "cell_type": "code",
   "execution_count": null,
   "id": "d36cf756",
   "metadata": {},
   "outputs": [],
   "source": [
    "args = XCLearningArguments(\n",
    "    output_dir='/home/aiscuser/outputs/29-ramen-style-clover-training-with-input-augmentation-for-wikititles-2-0',\n",
    "    logging_first_step=True,\n",
    "    per_device_train_batch_size=800,\n",
    "    per_device_eval_batch_size=800,\n",
    "    representation_num_beams=200,\n",
    "    representation_accumulation_steps=100,\n",
    "    save_strategy=\"steps\",\n",
    "    evaluation_strategy='steps',\n",
    "    eval_steps=1000,\n",
    "    save_steps=1000,\n",
    "    save_total_limit=5,\n",
    "    num_train_epochs=300,\n",
    "    predict_with_representation=True,\n",
    "    adam_epsilon=1e-6,\n",
    "    warmup_steps=100,\n",
    "    weight_decay=0.1,\n",
    "    learning_rate=2e-4,\n",
    "    generation_num_beams=10,\n",
    "    generation_length_penalty=1.5,\n",
    "    predict_with_generation=True,\n",
    "    representation_search_type='BRUTEFORCE',\n",
    "    group_by_cluster=True,\n",
    "    num_clustering_warmup_epochs=1,\n",
    "    num_cluster_update_epochs=1,\n",
    "    num_cluster_size_update_epochs=1,\n",
    "    clustering_type='EXPO',\n",
    "    minimum_cluster_size=1,\n",
    "    maximum_cluster_size=300,\n",
    "    output_concatenation_weight=1.0,\n",
    "    metric_for_best_model='P@1',\n",
    "    load_best_model_at_end=True,\n",
    "    target_indices_key='plbl2data_idx',\n",
    "    target_pointer_key='plbl2data_data2ptr',\n",
    "    fp16=True,\n",
    "    label_names=['phlk2lbl_idx', 'phlk2lbl_lbl2ptr', 'hlk2lbl_idx', 'hlk2lbl_input_ids', \n",
    "                 'hlk2lbl_attention_mask', 'hlk2lbl_lbl2ptr',\n",
    "                 'phlk2data_idx', 'phlk2data_data2ptr', 'hlk2data_idx', 'hlk2data_input_ids', \n",
    "                 'hlk2data_attention_mask', 'hlk2data_data2ptr'],\n",
    ")"
   ]
  },
  {
   "cell_type": "code",
   "execution_count": null,
   "id": "e2f7d8b0",
   "metadata": {},
   "outputs": [],
   "source": []
  },
  {
   "cell_type": "code",
   "execution_count": 18,
   "id": "cfbc728f",
   "metadata": {},
   "outputs": [],
   "source": [
    "#| export\n",
    "test_dset = block.test.dset.sample(n=2000, seed=50)\n",
    "metric = PrecRecl(block.n_lbl, test_dset.data.data_lbl_filterer, prop=block.train.dset.data.data_lbl,\n",
    "                  pk=10, rk=200, rep_pk=[1, 3, 5, 10], rep_rk=[10, 100, 200])"
   ]
  },
  {
   "cell_type": "code",
   "execution_count": 19,
   "id": "15f5ebfa-5262-4977-88ef-f1b29ec09597",
   "metadata": {},
   "outputs": [
    {
     "name": "stderr",
     "output_type": "stream",
     "text": [
      "Some weights of DBT014 were not initialized from the model checkpoint at distilbert-base-uncased and are newly initialized: ['dr_layer_norm.bias', 'dr_layer_norm.weight', 'dr_projector.bias', 'dr_projector.weight', 'dr_transform.bias', 'dr_transform.weight', 'gen_lfn.o', 'rep_lfn.u', 'rep_lfn.v']\n",
      "You should probably TRAIN this model on a down-stream task to be able to use it for predictions and inference.\n"
     ]
    }
   ],
   "source": [
    "#| export\n",
    "bsz = max(args.per_device_train_batch_size, args.per_device_eval_batch_size)*torch.cuda.device_count()\n",
    "\n",
    "model = DBT014.from_pretrained('distilbert-base-uncased', ig_tok=0, bsz=bsz, tn_targ=10_000, margin=0.3, tau=0.1, \n",
    "                               n_negatives=10, apply_softmax=True, lw=100.0, m_lw=0.3, meta_prefix='hlk', \n",
    "                               init_drh=True)"
   ]
  },
  {
   "cell_type": "code",
   "execution_count": null,
   "id": "a12171f9",
   "metadata": {},
   "outputs": [],
   "source": [
    "bsz = max(args.per_device_train_batch_size, args.per_device_eval_batch_size)*torch.cuda.device_count()\n",
    "\n",
    "model = DBT017.from_pretrained('distilbert-base-uncased', ig_tok=0, bsz=bsz, tn_targ=10_000, margin=0.3, tau=0.1, \n",
    "                               n_negatives=5, apply_softmax=True, lw=100.0, m_lw=0.3, meta_prefix='hlk', \n",
    "                               init_drh=True)"
   ]
  },
  {
   "cell_type": "code",
   "execution_count": 11,
   "id": "c46e67e1",
   "metadata": {},
   "outputs": [
    {
     "data": {
      "application/vnd.jupyter.widget-view+json": {
       "model_id": "7e405b9402624bdabc5a4124e3b5fd3f",
       "version_major": 2,
       "version_minor": 0
      },
      "text/plain": [
       "  0%|          | 0/312330 [00:00<?, ?it/s]"
      ]
     },
     "metadata": {},
     "output_type": "display_data"
    },
    {
     "data": {
      "application/vnd.jupyter.widget-view+json": {
       "model_id": "8f7bf05ee0cd4429ab295e43f798c5da",
       "version_major": 2,
       "version_minor": 0
      },
      "text/plain": [
       "  0%|          | 0/1174296 [00:00<?, ?it/s]"
      ]
     },
     "metadata": {},
     "output_type": "display_data"
    },
    {
     "data": {
      "application/vnd.jupyter.widget-view+json": {
       "model_id": "4fc35486c98343ebaa2dd5f2ec8f51e1",
       "version_major": 2,
       "version_minor": 0
      },
      "text/plain": [
       "  0%|          | 0/1174296 [00:00<?, ?it/s]"
      ]
     },
     "metadata": {},
     "output_type": "display_data"
    }
   ],
   "source": [
    "#| export\n",
    "trie = XCTrie.from_block(block)"
   ]
  },
  {
   "cell_type": "code",
   "execution_count": 12,
   "id": "01d48f78",
   "metadata": {},
   "outputs": [
    {
     "name": "stderr",
     "output_type": "stream",
     "text": [
      "huggingface/tokenizers: The current process just got forked, after parallelism has already been used. Disabling parallelism to avoid deadlocks...\n",
      "To disable this warning, you can either:\n",
      "\t- Avoid using `tokenizers` before the fork if possible\n",
      "\t- Explicitly set the environment variable TOKENIZERS_PARALLELISM=(true | false)\n",
      "huggingface/tokenizers: The current process just got forked, after parallelism has already been used. Disabling parallelism to avoid deadlocks...\n",
      "To disable this warning, you can either:\n",
      "\t- Avoid using `tokenizers` before the fork if possible\n",
      "\t- Explicitly set the environment variable TOKENIZERS_PARALLELISM=(true | false)\n",
      "huggingface/tokenizers: The current process just got forked, after parallelism has already been used. Disabling parallelism to avoid deadlocks...\n",
      "To disable this warning, you can either:\n",
      "\t- Avoid using `tokenizers` before the fork if possible\n",
      "\t- Explicitly set the environment variable TOKENIZERS_PARALLELISM=(true | false)\n"
     ]
    }
   ],
   "source": [
    "#| export\n",
    "learn = XCLearner(\n",
    "    model=model, \n",
    "    args=args,\n",
    "    trie=trie,\n",
    "    train_dataset=block.train.dset,\n",
    "    eval_dataset=test_dset,\n",
    "    data_collator=block.collator,\n",
    "    compute_metrics=metric,\n",
    ")"
   ]
  },
  {
   "cell_type": "code",
   "execution_count": 13,
   "id": "aba00769",
   "metadata": {},
   "outputs": [
    {
     "name": "stderr",
     "output_type": "stream",
     "text": [
      "huggingface/tokenizers: The current process just got forked, after parallelism has already been used. Disabling parallelism to avoid deadlocks...\n",
      "To disable this warning, you can either:\n",
      "\t- Avoid using `tokenizers` before the fork if possible\n",
      "\t- Explicitly set the environment variable TOKENIZERS_PARALLELISM=(true | false)\n"
     ]
    },
    {
     "data": {
      "application/vnd.jupyter.widget-view+json": {
       "model_id": "c19c638940234c41966d1b2180cb1e6a",
       "version_major": 2,
       "version_minor": 0
      },
      "text/plain": [
       "  0%|          | 0/577 [00:00<?, ?it/s]"
      ]
     },
     "metadata": {},
     "output_type": "display_data"
    },
    {
     "name": "stdout",
     "output_type": "stream",
     "text": [
      "node-0:2617957:2617957 [0] NCCL INFO Bootstrap : Using eth0:10.13.32.225<0>\n",
      "node-0:2617957:2617957 [0] NCCL INFO NET/Plugin : Plugin load (librccl-net.so) returned 2 : librccl-net.so: cannot open shared object file: No such file or directory\n",
      "node-0:2617957:2617957 [0] NCCL INFO NET/Plugin : No plugin found, using internal implementation\n",
      "node-0:2617957:2617957 [0] NCCL INFO Kernel version: 5.15.0-1042-azure\n",
      "RCCL version 2.17.1+hip5.7 HEAD:cbbb3d8+\n",
      "\n",
      "node-0:2617957:2627797 [1] /long_pathname_so_that_rpms_can_package_the_debug_info/src/extlibs/rccl/build/hipify/src/misc/ibvwrap.cc:222 NCCL WARN Call to ibv_open_device failed\n",
      "\n",
      "node-0:2617957:2627797 [1] /long_pathname_so_that_rpms_can_package_the_debug_info/src/extlibs/rccl/build/hipify/src/transport/net_ib.cc:199 NCCL WARN NET/IB : Unable to open device mlx5_0\n",
      "\n",
      "node-0:2617957:2627797 [1] /long_pathname_so_that_rpms_can_package_the_debug_info/src/extlibs/rccl/build/hipify/src/misc/ibvwrap.cc:222 NCCL WARN Call to ibv_open_device failed\n",
      "\n",
      "node-0:2617957:2627797 [1] /long_pathname_so_that_rpms_can_package_the_debug_info/src/extlibs/rccl/build/hipify/src/transport/net_ib.cc:199 NCCL WARN NET/IB : Unable to open device mlx5_1\n",
      "\n",
      "node-0:2617957:2627797 [1] /long_pathname_so_that_rpms_can_package_the_debug_info/src/extlibs/rccl/build/hipify/src/misc/ibvwrap.cc:222 NCCL WARN Call to ibv_open_device failed\n",
      "\n",
      "node-0:2617957:2627797 [1] /long_pathname_so_that_rpms_can_package_the_debug_info/src/extlibs/rccl/build/hipify/src/transport/net_ib.cc:199 NCCL WARN NET/IB : Unable to open device mlx5_2\n",
      "\n",
      "node-0:2617957:2627797 [1] /long_pathname_so_that_rpms_can_package_the_debug_info/src/extlibs/rccl/build/hipify/src/misc/ibvwrap.cc:222 NCCL WARN Call to ibv_open_device failed\n",
      "\n",
      "node-0:2617957:2627797 [1] /long_pathname_so_that_rpms_can_package_the_debug_info/src/extlibs/rccl/build/hipify/src/transport/net_ib.cc:199 NCCL WARN NET/IB : Unable to open device mlx5_3\n",
      "\n",
      "node-0:2617957:2627797 [1] /long_pathname_so_that_rpms_can_package_the_debug_info/src/extlibs/rccl/build/hipify/src/misc/ibvwrap.cc:222 NCCL WARN Call to ibv_open_device failed\n",
      "\n",
      "node-0:2617957:2627797 [1] /long_pathname_so_that_rpms_can_package_the_debug_info/src/extlibs/rccl/build/hipify/src/transport/net_ib.cc:199 NCCL WARN NET/IB : Unable to open device mlx5_4\n",
      "\n",
      "node-0:2617957:2627797 [1] /long_pathname_so_that_rpms_can_package_the_debug_info/src/extlibs/rccl/build/hipify/src/misc/ibvwrap.cc:222 NCCL WARN Call to ibv_open_device failed\n",
      "\n",
      "node-0:2617957:2627797 [1] /long_pathname_so_that_rpms_can_package_the_debug_info/src/extlibs/rccl/build/hipify/src/transport/net_ib.cc:199 NCCL WARN NET/IB : Unable to open device mlx5_5\n",
      "\n",
      "node-0:2617957:2627797 [1] /long_pathname_so_that_rpms_can_package_the_debug_info/src/extlibs/rccl/build/hipify/src/misc/ibvwrap.cc:222 NCCL WARN Call to ibv_open_device failed\n",
      "\n",
      "node-0:2617957:2627797 [1] /long_pathname_so_that_rpms_can_package_the_debug_info/src/extlibs/rccl/build/hipify/src/transport/net_ib.cc:199 NCCL WARN NET/IB : Unable to open device mlx5_6\n",
      "\n",
      "node-0:2617957:2627797 [1] /long_pathname_so_that_rpms_can_package_the_debug_info/src/extlibs/rccl/build/hipify/src/misc/ibvwrap.cc:222 NCCL WARN Call to ibv_open_device failed\n",
      "\n",
      "node-0:2617957:2627797 [1] /long_pathname_so_that_rpms_can_package_the_debug_info/src/extlibs/rccl/build/hipify/src/transport/net_ib.cc:199 NCCL WARN NET/IB : Unable to open device mlx5_7\n",
      "\n",
      "node-0:2617957:2627797 [1] /long_pathname_so_that_rpms_can_package_the_debug_info/src/extlibs/rccl/build/hipify/src/misc/ibvwrap.cc:222 NCCL WARN Call to ibv_open_device failed\n",
      "\n",
      "node-0:2617957:2627797 [1] /long_pathname_so_that_rpms_can_package_the_debug_info/src/extlibs/rccl/build/hipify/src/transport/net_ib.cc:199 NCCL WARN NET/IB : Unable to open device mlx5_8\n",
      "node-0:2617957:2627797 [1] NCCL INFO NET/IB : No device found.\n",
      "node-0:2617957:2627797 [1] NCCL INFO NET/Socket : Using [0]eth0:10.13.32.225<0>\n",
      "node-0:2617957:2627797 [1] NCCL INFO Using network Socket\n",
      "node-0:2617957:2627796 [0] NCCL INFO Using network Socket\n",
      "node-0:2617957:2627796 [0] NCCL INFO Topology detection : could not read /sys/devices/LNXSYSTM:00/LNXSYBUS:00/ACPI0004:00/VMBUS:00/47505500-000d-0000-3130-303237343043/pci000d:00/000d:00:00.0/../max_link_speed, ignoring\n",
      "node-0:2617957:2627796 [0] NCCL INFO Topology detection : could not read /sys/devices/LNXSYSTM:00/LNXSYBUS:00/ACPI0004:00/VMBUS:00/47505500-000d-0000-3130-303237343043/pci000d:00/000d:00:00.0/../max_link_width, ignoring\n",
      "node-0:2617957:2627797 [1] NCCL INFO Topology detection : could not read /sys/devices/LNXSYSTM:00/LNXSYBUS:00/ACPI0004:00/VMBUS:00/47505500-000d-0000-3130-303237343043/pci000d:00/000d:00:00.0/../max_link_speed, ignoring\n",
      "node-0:2617957:2627797 [1] NCCL INFO Topology detection : could not read /sys/devices/LNXSYSTM:00/LNXSYBUS:00/ACPI0004:00/VMBUS:00/47505500-000d-0000-3130-303237343043/pci000d:00/000d:00:00.0/../max_link_width, ignoring\n",
      "node-0:2617957:2627797 [1] NCCL INFO rocm_smi_lib: version 5.0.0.0\n",
      "node-0:2617957:2627797 [1] NCCL INFO Topology detection : could not read /sys/devices/LNXSYSTM:00/LNXSYBUS:00/ACPI0004:00/VMBUS:00/47505500-000e-0000-3130-303237343043/pci000e:00/000e:00:00.0/../max_link_speed, ignoring\n",
      "node-0:2617957:2627797 [1] NCCL INFO Topology detection : could not read /sys/devices/LNXSYSTM:00/LNXSYBUS:00/ACPI0004:00/VMBUS:00/47505500-000e-0000-3130-303237343043/pci000e:00/000e:00:00.0/../max_link_width, ignoring\n",
      "node-0:2617957:2627797 [1] NCCL INFO === System : maxBw 144.0 totalBw 144.0 ===\n",
      "node-0:2617957:2627797 [1] NCCL INFO CPU/2 (1/2/4)\n",
      "node-0:2617957:2627797 [1] NCCL INFO + PCI[5000.0] - NIC/0\n",
      "node-0:2617957:2627797 [1] NCCL INFO + PCI[24.0] - GPU/D00000 (0)\n",
      "node-0:2617957:2627797 [1] NCCL INFO               + XGMI[144.0] - GPU/E00000\n",
      "node-0:2617957:2627797 [1] NCCL INFO + PCI[24.0] - GPU/E00000 (1)\n",
      "node-0:2617957:2627797 [1] NCCL INFO               + XGMI[144.0] - GPU/D00000\n",
      "node-0:2617957:2627797 [1] NCCL INFO ==========================================\n",
      "node-0:2617957:2627797 [1] NCCL INFO GPU/D00000 :GPU/D00000 (0/5000.000000/LOC) GPU/E00000 (1/144.000000/XGMI) CPU/2 (1/24.000000/PHB) \n",
      "node-0:2617957:2627797 [1] NCCL INFO GPU/E00000 :GPU/D00000 (1/144.000000/XGMI) GPU/E00000 (0/5000.000000/LOC) CPU/2 (1/24.000000/PHB) \n",
      "node-0:2617957:2627797 [1] NCCL INFO Setting affinity for GPU 13 to ff,ffff0000,00000000\n",
      "node-0:2617957:2627797 [1] NCCL INFO Pattern 4, crossNic 0, nChannels 6, bw 24.000000/24.000000, type XGMI/PIX, sameChannels 1\n",
      "node-0:2617957:2627797 [1] NCCL INFO  0 : GPU/0 GPU/1\n",
      "node-0:2617957:2627797 [1] NCCL INFO  1 : GPU/0 GPU/1\n",
      "node-0:2617957:2627797 [1] NCCL INFO  2 : GPU/0 GPU/1\n",
      "node-0:2617957:2627797 [1] NCCL INFO  3 : GPU/0 GPU/1\n",
      "node-0:2617957:2627797 [1] NCCL INFO  4 : GPU/0 GPU/1\n",
      "node-0:2617957:2627797 [1] NCCL INFO  5 : GPU/0 GPU/1\n",
      "node-0:2617957:2627797 [1] NCCL INFO Pattern 1, crossNic 0, nChannels 6, bw 48.000000/48.000000, type XGMI/PIX, sameChannels 0\n",
      "node-0:2617957:2627797 [1] NCCL INFO  0 : GPU/0 GPU/1\n",
      "node-0:2617957:2627797 [1] NCCL INFO  1 : GPU/0 GPU/1\n",
      "node-0:2617957:2627797 [1] NCCL INFO  2 : GPU/0 GPU/1\n",
      "node-0:2617957:2627797 [1] NCCL INFO  3 : GPU/1 GPU/0\n",
      "node-0:2617957:2627797 [1] NCCL INFO  4 : GPU/1 GPU/0\n",
      "node-0:2617957:2627797 [1] NCCL INFO  5 : GPU/1 GPU/0\n",
      "node-0:2617957:2627797 [1] NCCL INFO Pattern 3, crossNic 0, nChannels 6, bw 48.000000/48.000000, type XGMI/PIX, sameChannels 0\n",
      "node-0:2617957:2627797 [1] NCCL INFO  0 : GPU/0 GPU/1\n",
      "node-0:2617957:2627797 [1] NCCL INFO  1 : GPU/0 GPU/1\n",
      "node-0:2617957:2627797 [1] NCCL INFO  2 : GPU/0 GPU/1\n",
      "node-0:2617957:2627797 [1] NCCL INFO  3 : GPU/1 GPU/0\n",
      "node-0:2617957:2627797 [1] NCCL INFO  4 : GPU/1 GPU/0\n",
      "node-0:2617957:2627797 [1] NCCL INFO  5 : GPU/1 GPU/0\n",
      "node-0:2617957:2627796 [0] NCCL INFO rocm_smi_lib: version 5.0.0.0\n",
      "node-0:2617957:2627796 [0] NCCL INFO Topology detection : could not read /sys/devices/LNXSYSTM:00/LNXSYBUS:00/ACPI0004:00/VMBUS:00/47505500-000e-0000-3130-303237343043/pci000e:00/000e:00:00.0/../max_link_speed, ignoring\n",
      "node-0:2617957:2627796 [0] NCCL INFO Topology detection : could not read /sys/devices/LNXSYSTM:00/LNXSYBUS:00/ACPI0004:00/VMBUS:00/47505500-000e-0000-3130-303237343043/pci000e:00/000e:00:00.0/../max_link_width, ignoring\n",
      "node-0:2617957:2627796 [0] NCCL INFO === System : maxBw 144.0 totalBw 144.0 ===\n",
      "node-0:2617957:2627796 [0] NCCL INFO CPU/2 (1/2/4)\n",
      "node-0:2617957:2627796 [0] NCCL INFO + PCI[5000.0] - NIC/0\n",
      "node-0:2617957:2627796 [0] NCCL INFO + PCI[24.0] - GPU/D00000 (0)\n",
      "node-0:2617957:2627796 [0] NCCL INFO               + XGMI[144.0] - GPU/E00000\n",
      "node-0:2617957:2627796 [0] NCCL INFO + PCI[24.0] - GPU/E00000 (1)\n",
      "node-0:2617957:2627796 [0] NCCL INFO               + XGMI[144.0] - GPU/D00000\n",
      "node-0:2617957:2627796 [0] NCCL INFO ==========================================\n",
      "node-0:2617957:2627796 [0] NCCL INFO GPU/D00000 :GPU/D00000 (0/5000.000000/LOC) GPU/E00000 (1/144.000000/XGMI) CPU/2 (1/24.000000/PHB) \n",
      "node-0:2617957:2627796 [0] NCCL INFO GPU/E00000 :GPU/D00000 (1/144.000000/XGMI) GPU/E00000 (0/5000.000000/LOC) CPU/2 (1/24.000000/PHB) \n",
      "node-0:2617957:2627796 [0] NCCL INFO Setting affinity for GPU 12 to ff,ffff0000,00000000\n",
      "node-0:2617957:2627796 [0] NCCL INFO Pattern 4, crossNic 0, nChannels 6, bw 24.000000/24.000000, type XGMI/PIX, sameChannels 1\n",
      "node-0:2617957:2627796 [0] NCCL INFO  0 : GPU/0 GPU/1\n",
      "node-0:2617957:2627796 [0] NCCL INFO  1 : GPU/0 GPU/1\n",
      "node-0:2617957:2627796 [0] NCCL INFO  2 : GPU/0 GPU/1\n",
      "node-0:2617957:2627796 [0] NCCL INFO  3 : GPU/0 GPU/1\n",
      "node-0:2617957:2627796 [0] NCCL INFO  4 : GPU/0 GPU/1\n",
      "node-0:2617957:2627796 [0] NCCL INFO  5 : GPU/0 GPU/1\n",
      "node-0:2617957:2627796 [0] NCCL INFO Pattern 1, crossNic 0, nChannels 6, bw 48.000000/48.000000, type XGMI/PIX, sameChannels 0\n",
      "node-0:2617957:2627796 [0] NCCL INFO  0 : GPU/0 GPU/1\n",
      "node-0:2617957:2627796 [0] NCCL INFO  1 : GPU/0 GPU/1\n",
      "node-0:2617957:2627796 [0] NCCL INFO  2 : GPU/0 GPU/1\n",
      "node-0:2617957:2627796 [0] NCCL INFO  3 : GPU/1 GPU/0\n",
      "node-0:2617957:2627796 [0] NCCL INFO  4 : GPU/1 GPU/0\n",
      "node-0:2617957:2627796 [0] NCCL INFO  5 : GPU/1 GPU/0\n",
      "node-0:2617957:2627796 [0] NCCL INFO Pattern 3, crossNic 0, nChannels 6, bw 48.000000/48.000000, type XGMI/PIX, sameChannels 0\n",
      "node-0:2617957:2627796 [0] NCCL INFO  0 : GPU/0 GPU/1\n",
      "node-0:2617957:2627796 [0] NCCL INFO  1 : GPU/0 GPU/1\n",
      "node-0:2617957:2627796 [0] NCCL INFO  2 : GPU/0 GPU/1\n",
      "node-0:2617957:2627796 [0] NCCL INFO  3 : GPU/1 GPU/0\n",
      "node-0:2617957:2627796 [0] NCCL INFO  4 : GPU/1 GPU/0\n",
      "node-0:2617957:2627796 [0] NCCL INFO  5 : GPU/1 GPU/0\n",
      "node-0:2617957:2627796 [0] NCCL INFO Tree 0 : -1 -> 0 -> 1/-1/-1\n",
      "node-0:2617957:2627796 [0] NCCL INFO Tree 6 : -1 -> 0 -> 1/-1/-1\n",
      "node-0:2617957:2627797 [1] NCCL INFO Tree 0 : 0 -> 1 -> -1/-1/-1\n",
      "node-0:2617957:2627796 [0] NCCL INFO Tree 1 : -1 -> 0 -> 1/-1/-1\n",
      "node-0:2617957:2627797 [1] NCCL INFO Tree 6 : 0 -> 1 -> -1/-1/-1\n",
      "node-0:2617957:2627797 [1] NCCL INFO Tree 1 : 0 -> 1 -> -1/-1/-1\n",
      "node-0:2617957:2627797 [1] NCCL INFO Tree 7 : 0 -> 1 -> -1/-1/-1\n",
      "node-0:2617957:2627797 [1] NCCL INFO Tree 2 : 0 -> 1 -> -1/-1/-1\n",
      "node-0:2617957:2627797 [1] NCCL INFO Tree 8 : 0 -> 1 -> -1/-1/-1\n",
      "node-0:2617957:2627797 [1] NCCL INFO Tree 3 : -1 -> 1 -> 0/-1/-1\n",
      "node-0:2617957:2627797 [1] NCCL INFO Tree 9 : -1 -> 1 -> 0/-1/-1\n",
      "node-0:2617957:2627797 [1] NCCL INFO Tree 4 : -1 -> 1 -> 0/-1/-1\n",
      "node-0:2617957:2627796 [0] NCCL INFO Tree 7 : -1 -> 0 -> 1/-1/-1\n",
      "node-0:2617957:2627797 [1] NCCL INFO Tree 10 : -1 -> 1 -> 0/-1/-1\n",
      "node-0:2617957:2627797 [1] NCCL INFO Tree 5 : -1 -> 1 -> 0/-1/-1\n",
      "node-0:2617957:2627796 [0] NCCL INFO Tree 2 : -1 -> 0 -> 1/-1/-1\n",
      "node-0:2617957:2627797 [1] NCCL INFO Tree 11 : -1 -> 1 -> 0/-1/-1\n",
      "node-0:2617957:2627796 [0] NCCL INFO Tree 8 : -1 -> 0 -> 1/-1/-1\n",
      "node-0:2617957:2627796 [0] NCCL INFO Tree 3 : 1 -> 0 -> -1/-1/-1\n",
      "node-0:2617957:2627796 [0] NCCL INFO Tree 9 : 1 -> 0 -> -1/-1/-1\n",
      "node-0:2617957:2627796 [0] NCCL INFO Tree 4 : 1 -> 0 -> -1/-1/-1\n",
      "node-0:2617957:2627796 [0] NCCL INFO Tree 10 : 1 -> 0 -> -1/-1/-1\n",
      "node-0:2617957:2627796 [0] NCCL INFO Tree 5 : 1 -> 0 -> -1/-1/-1\n",
      "node-0:2617957:2627796 [0] NCCL INFO Tree 11 : 1 -> 0 -> -1/-1/-1\n",
      "node-0:2617957:2627797 [1] NCCL INFO Ring 0 : 0 -> 1 -> 0 comm 0xae00e40 nRanks 02 busId e00000\n",
      "node-0:2617957:2627797 [1] NCCL INFO Ring 1 : 0 -> 1 -> 0 comm 0xae00e40 nRanks 02 busId e00000\n",
      "node-0:2617957:2627797 [1] NCCL INFO Ring 2 : 0 -> 1 -> 0 comm 0xae00e40 nRanks 02 busId e00000\n",
      "node-0:2617957:2627797 [1] NCCL INFO Ring 3 : 0 -> 1 -> 0 comm 0xae00e40 nRanks 02 busId e00000\n",
      "node-0:2617957:2627797 [1] NCCL INFO Ring 4 : 0 -> 1 -> 0 comm 0xae00e40 nRanks 02 busId e00000\n",
      "node-0:2617957:2627797 [1] NCCL INFO Ring 5 : 0 -> 1 -> 0 comm 0xae00e40 nRanks 02 busId e00000\n",
      "node-0:2617957:2627797 [1] NCCL INFO Ring 6 : 0 -> 1 -> 0 comm 0xae00e40 nRanks 02 busId e00000\n",
      "node-0:2617957:2627797 [1] NCCL INFO Ring 7 : 0 -> 1 -> 0 comm 0xae00e40 nRanks 02 busId e00000\n",
      "node-0:2617957:2627797 [1] NCCL INFO Ring 8 : 0 -> 1 -> 0 comm 0xae00e40 nRanks 02 busId e00000\n",
      "node-0:2617957:2627797 [1] NCCL INFO Ring 9 : 0 -> 1 -> 0 comm 0xae00e40 nRanks 02 busId e00000\n",
      "node-0:2617957:2627797 [1] NCCL INFO Ring 10 : 0 -> 1 -> 0 comm 0xae00e40 nRanks 02 busId e00000\n",
      "node-0:2617957:2627797 [1] NCCL INFO Ring 11 : 0 -> 1 -> 0 comm 0xae00e40 nRanks 02 busId e00000\n",
      "node-0:2617957:2627797 [1] NCCL INFO Ring 12 : 0 -> 1 -> 0 comm 0xae00e40 nRanks 02 busId e00000\n",
      "node-0:2617957:2627797 [1] NCCL INFO Ring 13 : 0 -> 1 -> 0 comm 0xae00e40 nRanks 02 busId e00000\n",
      "node-0:2617957:2627797 [1] NCCL INFO Ring 14 : 0 -> 1 -> 0 comm 0xae00e40 nRanks 02 busId e00000\n",
      "node-0:2617957:2627797 [1] NCCL INFO Ring 15 : 0 -> 1 -> 0 comm 0xae00e40 nRanks 02 busId e00000\n",
      "node-0:2617957:2627797 [1] NCCL INFO Ring 16 : 0 -> 1 -> 0 comm 0xae00e40 nRanks 02 busId e00000\n",
      "node-0:2617957:2627797 [1] NCCL INFO Ring 17 : 0 -> 1 -> 0 comm 0xae00e40 nRanks 02 busId e00000\n",
      "node-0:2617957:2627797 [1] NCCL INFO Ring 18 : 0 -> 1 -> 0 comm 0xae00e40 nRanks 02 busId e00000\n",
      "node-0:2617957:2627797 [1] NCCL INFO Ring 19 : 0 -> 1 -> 0 comm 0xae00e40 nRanks 02 busId e00000\n",
      "node-0:2617957:2627797 [1] NCCL INFO Ring 20 : 0 -> 1 -> 0 comm 0xae00e40 nRanks 02 busId e00000\n",
      "node-0:2617957:2627797 [1] NCCL INFO Ring 21 : 0 -> 1 -> 0 comm 0xae00e40 nRanks 02 busId e00000\n",
      "node-0:2617957:2627797 [1] NCCL INFO Ring 22 : 0 -> 1 -> 0 comm 0xae00e40 nRanks 02 busId e00000\n",
      "node-0:2617957:2627797 [1] NCCL INFO Ring 23 : 0 -> 1 -> 0 comm 0xae00e40 nRanks 02 busId e00000\n",
      "node-0:2617957:2627797 [1] NCCL INFO Trees [0] -1/-1/-1->1->0 [1] -1/-1/-1->1->0 [2] -1/-1/-1->1->0 [3] 0/-1/-1->1->-1 [4] 0/-1/-1->1->-1 [5] 0/-1/-1->1->-1 [6] -1/-1/-1->1->0 [7] -1/-1/-1->1->0 [8] -1/-1/-1->1->0 [9] 0/-1/-1->1->-1 [10] 0/-1/-1->1->-1 [11] 0/-1/-1->1->-1 [12] -1/-1/-1->1->0 [13] -1/-1/-1->1->0 [14] -1/-1/-1->1->0 [15] 0/-1/-1->1->-1 [16] 0/-1/-1->1->-1 [17] 0/-1/-1->1->-1 [18] -1/-1/-1->1->0 [19] -1/-1/-1->1->0 [20] -1/-1/-1->1->0 [21] 0/-1/-1->1->-1 [22] 0/-1/-1->1->-1 [23] 0/-1/-1->1->-1 comm 0xae00e40 nRanks 02 busId e00000\n",
      "node-0:2617957:2627797 [1] NCCL INFO P2P Chunksize set to 524288\n",
      "node-0:2617957:2627796 [0] NCCL INFO Channel 00/24 :    0   1\n",
      "node-0:2617957:2627796 [0] NCCL INFO Channel 01/24 :    0   1\n",
      "node-0:2617957:2627796 [0] NCCL INFO Channel 02/24 :    0   1\n",
      "node-0:2617957:2627796 [0] NCCL INFO Channel 03/24 :    0   1\n",
      "node-0:2617957:2627796 [0] NCCL INFO Channel 04/24 :    0   1\n",
      "node-0:2617957:2627796 [0] NCCL INFO Channel 05/24 :    0   1\n",
      "node-0:2617957:2627796 [0] NCCL INFO Channel 06/24 :    0   1\n",
      "node-0:2617957:2627796 [0] NCCL INFO Channel 07/24 :    0   1\n",
      "node-0:2617957:2627796 [0] NCCL INFO Channel 08/24 :    0   1\n",
      "node-0:2617957:2627796 [0] NCCL INFO Channel 09/24 :    0   1\n",
      "node-0:2617957:2627796 [0] NCCL INFO Channel 10/24 :    0   1\n",
      "node-0:2617957:2627796 [0] NCCL INFO Channel 11/24 :    0   1\n",
      "node-0:2617957:2627796 [0] NCCL INFO Channel 12/24 :    0   1\n",
      "node-0:2617957:2627796 [0] NCCL INFO Channel 13/24 :    0   1\n",
      "node-0:2617957:2627796 [0] NCCL INFO Channel 14/24 :    0   1\n",
      "node-0:2617957:2627796 [0] NCCL INFO Channel 15/24 :    0   1\n",
      "node-0:2617957:2627796 [0] NCCL INFO Channel 16/24 :    0   1\n",
      "node-0:2617957:2627796 [0] NCCL INFO Channel 17/24 :    0   1\n",
      "node-0:2617957:2627796 [0] NCCL INFO Channel 18/24 :    0   1\n",
      "node-0:2617957:2627796 [0] NCCL INFO Channel 19/24 :    0   1\n",
      "node-0:2617957:2627796 [0] NCCL INFO Channel 20/24 :    0   1\n",
      "node-0:2617957:2627796 [0] NCCL INFO Channel 21/24 :    0   1\n",
      "node-0:2617957:2627796 [0] NCCL INFO Channel 22/24 :    0   1\n",
      "node-0:2617957:2627796 [0] NCCL INFO Channel 23/24 :    0   1\n",
      "node-0:2617957:2627796 [0] NCCL INFO Ring 0 : 1 -> 0 -> 1 comm 0xadbce90 nRanks 02 busId d00000\n",
      "node-0:2617957:2627796 [0] NCCL INFO Ring 1 : 1 -> 0 -> 1 comm 0xadbce90 nRanks 02 busId d00000\n",
      "node-0:2617957:2627796 [0] NCCL INFO Ring 2 : 1 -> 0 -> 1 comm 0xadbce90 nRanks 02 busId d00000\n",
      "node-0:2617957:2627796 [0] NCCL INFO Ring 3 : 1 -> 0 -> 1 comm 0xadbce90 nRanks 02 busId d00000\n"
     ]
    },
    {
     "name": "stdout",
     "output_type": "stream",
     "text": [
      "node-0:2617957:2627796 [0] NCCL INFO Ring 4 : 1 -> 0 -> 1 comm 0xadbce90 nRanks 02 busId d00000\n",
      "node-0:2617957:2627796 [0] NCCL INFO Ring 5 : 1 -> 0 -> 1 comm 0xadbce90 nRanks 02 busId d00000\n",
      "node-0:2617957:2627796 [0] NCCL INFO Ring 6 : 1 -> 0 -> 1 comm 0xadbce90 nRanks 02 busId d00000\n",
      "node-0:2617957:2627796 [0] NCCL INFO Ring 7 : 1 -> 0 -> 1 comm 0xadbce90 nRanks 02 busId d00000\n",
      "node-0:2617957:2627796 [0] NCCL INFO Ring 8 : 1 -> 0 -> 1 comm 0xadbce90 nRanks 02 busId d00000\n",
      "node-0:2617957:2627796 [0] NCCL INFO Ring 9 : 1 -> 0 -> 1 comm 0xadbce90 nRanks 02 busId d00000\n",
      "node-0:2617957:2627796 [0] NCCL INFO Ring 10 : 1 -> 0 -> 1 comm 0xadbce90 nRanks 02 busId d00000\n",
      "node-0:2617957:2627796 [0] NCCL INFO Ring 11 : 1 -> 0 -> 1 comm 0xadbce90 nRanks 02 busId d00000\n",
      "node-0:2617957:2627796 [0] NCCL INFO Ring 12 : 1 -> 0 -> 1 comm 0xadbce90 nRanks 02 busId d00000\n",
      "node-0:2617957:2627796 [0] NCCL INFO Ring 13 : 1 -> 0 -> 1 comm 0xadbce90 nRanks 02 busId d00000\n",
      "node-0:2617957:2627796 [0] NCCL INFO Ring 14 : 1 -> 0 -> 1 comm 0xadbce90 nRanks 02 busId d00000\n",
      "node-0:2617957:2627796 [0] NCCL INFO Ring 15 : 1 -> 0 -> 1 comm 0xadbce90 nRanks 02 busId d00000\n",
      "node-0:2617957:2627796 [0] NCCL INFO Ring 16 : 1 -> 0 -> 1 comm 0xadbce90 nRanks 02 busId d00000\n",
      "node-0:2617957:2627796 [0] NCCL INFO Ring 17 : 1 -> 0 -> 1 comm 0xadbce90 nRanks 02 busId d00000\n",
      "node-0:2617957:2627796 [0] NCCL INFO Ring 18 : 1 -> 0 -> 1 comm 0xadbce90 nRanks 02 busId d00000\n",
      "node-0:2617957:2627796 [0] NCCL INFO Ring 19 : 1 -> 0 -> 1 comm 0xadbce90 nRanks 02 busId d00000\n",
      "node-0:2617957:2627796 [0] NCCL INFO Ring 20 : 1 -> 0 -> 1 comm 0xadbce90 nRanks 02 busId d00000\n",
      "node-0:2617957:2627796 [0] NCCL INFO Ring 21 : 1 -> 0 -> 1 comm 0xadbce90 nRanks 02 busId d00000\n",
      "node-0:2617957:2627796 [0] NCCL INFO Ring 22 : 1 -> 0 -> 1 comm 0xadbce90 nRanks 02 busId d00000\n",
      "node-0:2617957:2627796 [0] NCCL INFO Ring 23 : 1 -> 0 -> 1 comm 0xadbce90 nRanks 02 busId d00000\n",
      "node-0:2617957:2627796 [0] NCCL INFO Trees [0] 1/-1/-1->0->-1 [1] 1/-1/-1->0->-1 [2] 1/-1/-1->0->-1 [3] -1/-1/-1->0->1 [4] -1/-1/-1->0->1 [5] -1/-1/-1->0->1 [6] 1/-1/-1->0->-1 [7] 1/-1/-1->0->-1 [8] 1/-1/-1->0->-1 [9] -1/-1/-1->0->1 [10] -1/-1/-1->0->1 [11] -1/-1/-1->0->1 [12] 1/-1/-1->0->-1 [13] 1/-1/-1->0->-1 [14] 1/-1/-1->0->-1 [15] -1/-1/-1->0->1 [16] -1/-1/-1->0->1 [17] -1/-1/-1->0->1 [18] 1/-1/-1->0->-1 [19] 1/-1/-1->0->-1 [20] 1/-1/-1->0->-1 [21] -1/-1/-1->0->1 [22] -1/-1/-1->0->1 [23] -1/-1/-1->0->1 comm 0xadbce90 nRanks 02 busId d00000\n",
      "node-0:2617957:2627796 [0] NCCL INFO P2P Chunksize set to 524288\n",
      "node-0:2617957:2627797 [1] NCCL INFO Channel 00/0 : 1[e00000] -> 0[d00000] via P2P/direct pointer comm 0xae00e40 nRanks 02\n",
      "node-0:2617957:2627797 [1] NCCL INFO Channel 01/0 : 1[e00000] -> 0[d00000] via P2P/direct pointer comm 0xae00e40 nRanks 02\n",
      "node-0:2617957:2627797 [1] NCCL INFO Channel 02/0 : 1[e00000] -> 0[d00000] via P2P/direct pointer comm 0xae00e40 nRanks 02\n",
      "node-0:2617957:2627796 [0] NCCL INFO Channel 00/0 : 0[d00000] -> 1[e00000] via P2P/direct pointer comm 0xadbce90 nRanks 02\n",
      "node-0:2617957:2627797 [1] NCCL INFO Channel 03/0 : 1[e00000] -> 0[d00000] via P2P/direct pointer comm 0xae00e40 nRanks 02\n",
      "node-0:2617957:2627797 [1] NCCL INFO Channel 04/0 : 1[e00000] -> 0[d00000] via P2P/direct pointer comm 0xae00e40 nRanks 02\n",
      "node-0:2617957:2627796 [0] NCCL INFO Channel 01/0 : 0[d00000] -> 1[e00000] via P2P/direct pointer comm 0xadbce90 nRanks 02\n",
      "node-0:2617957:2627797 [1] NCCL INFO Channel 05/0 : 1[e00000] -> 0[d00000] via P2P/direct pointer comm 0xae00e40 nRanks 02\n",
      "node-0:2617957:2627796 [0] NCCL INFO Channel 02/0 : 0[d00000] -> 1[e00000] via P2P/direct pointer comm 0xadbce90 nRanks 02\n",
      "node-0:2617957:2627797 [1] NCCL INFO Channel 06/0 : 1[e00000] -> 0[d00000] via P2P/direct pointer comm 0xae00e40 nRanks 02\n",
      "node-0:2617957:2627796 [0] NCCL INFO Channel 03/0 : 0[d00000] -> 1[e00000] via P2P/direct pointer comm 0xadbce90 nRanks 02\n",
      "node-0:2617957:2627797 [1] NCCL INFO Channel 07/0 : 1[e00000] -> 0[d00000] via P2P/direct pointer comm 0xae00e40 nRanks 02\n",
      "node-0:2617957:2627796 [0] NCCL INFO Channel 04/0 : 0[d00000] -> 1[e00000] via P2P/direct pointer comm 0xadbce90 nRanks 02\n",
      "node-0:2617957:2627797 [1] NCCL INFO Channel 08/0 : 1[e00000] -> 0[d00000] via P2P/direct pointer comm 0xae00e40 nRanks 02\n",
      "node-0:2617957:2627796 [0] NCCL INFO Channel 05/0 : 0[d00000] -> 1[e00000] via P2P/direct pointer comm 0xadbce90 nRanks 02\n",
      "node-0:2617957:2627797 [1] NCCL INFO Channel 09/0 : 1[e00000] -> 0[d00000] via P2P/direct pointer comm 0xae00e40 nRanks 02\n",
      "node-0:2617957:2627796 [0] NCCL INFO Channel 06/0 : 0[d00000] -> 1[e00000] via P2P/direct pointer comm 0xadbce90 nRanks 02\n",
      "node-0:2617957:2627797 [1] NCCL INFO Channel 10/0 : 1[e00000] -> 0[d00000] via P2P/direct pointer comm 0xae00e40 nRanks 02\n",
      "node-0:2617957:2627796 [0] NCCL INFO Channel 07/0 : 0[d00000] -> 1[e00000] via P2P/direct pointer comm 0xadbce90 nRanks 02\n",
      "node-0:2617957:2627797 [1] NCCL INFO Channel 11/0 : 1[e00000] -> 0[d00000] via P2P/direct pointer comm 0xae00e40 nRanks 02\n",
      "node-0:2617957:2627796 [0] NCCL INFO Channel 08/0 : 0[d00000] -> 1[e00000] via P2P/direct pointer comm 0xadbce90 nRanks 02\n",
      "node-0:2617957:2627797 [1] NCCL INFO Channel 12/0 : 1[e00000] -> 0[d00000] via P2P/direct pointer comm 0xae00e40 nRanks 02\n",
      "node-0:2617957:2627796 [0] NCCL INFO Channel 09/0 : 0[d00000] -> 1[e00000] via P2P/direct pointer comm 0xadbce90 nRanks 02\n",
      "node-0:2617957:2627797 [1] NCCL INFO Channel 13/0 : 1[e00000] -> 0[d00000] via P2P/direct pointer comm 0xae00e40 nRanks 02\n",
      "node-0:2617957:2627796 [0] NCCL INFO Channel 10/0 : 0[d00000] -> 1[e00000] via P2P/direct pointer comm 0xadbce90 nRanks 02\n",
      "node-0:2617957:2627797 [1] NCCL INFO Channel 14/0 : 1[e00000] -> 0[d00000] via P2P/direct pointer comm 0xae00e40 nRanks 02\n",
      "node-0:2617957:2627796 [0] NCCL INFO Channel 11/0 : 0[d00000] -> 1[e00000] via P2P/direct pointer comm 0xadbce90 nRanks 02\n",
      "node-0:2617957:2627797 [1] NCCL INFO Channel 15/0 : 1[e00000] -> 0[d00000] via P2P/direct pointer comm 0xae00e40 nRanks 02\n",
      "node-0:2617957:2627796 [0] NCCL INFO Channel 12/0 : 0[d00000] -> 1[e00000] via P2P/direct pointer comm 0xadbce90 nRanks 02\n",
      "node-0:2617957:2627797 [1] NCCL INFO Channel 16/0 : 1[e00000] -> 0[d00000] via P2P/direct pointer comm 0xae00e40 nRanks 02\n",
      "node-0:2617957:2627796 [0] NCCL INFO Channel 13/0 : 0[d00000] -> 1[e00000] via P2P/direct pointer comm 0xadbce90 nRanks 02\n",
      "node-0:2617957:2627797 [1] NCCL INFO Channel 17/0 : 1[e00000] -> 0[d00000] via P2P/direct pointer comm 0xae00e40 nRanks 02\n",
      "node-0:2617957:2627796 [0] NCCL INFO Channel 14/0 : 0[d00000] -> 1[e00000] via P2P/direct pointer comm 0xadbce90 nRanks 02\n",
      "node-0:2617957:2627797 [1] NCCL INFO Channel 18/0 : 1[e00000] -> 0[d00000] via P2P/direct pointer comm 0xae00e40 nRanks 02\n",
      "node-0:2617957:2627796 [0] NCCL INFO Channel 15/0 : 0[d00000] -> 1[e00000] via P2P/direct pointer comm 0xadbce90 nRanks 02\n",
      "node-0:2617957:2627797 [1] NCCL INFO Channel 19/0 : 1[e00000] -> 0[d00000] via P2P/direct pointer comm 0xae00e40 nRanks 02\n",
      "node-0:2617957:2627797 [1] NCCL INFO Channel 20/0 : 1[e00000] -> 0[d00000] via P2P/direct pointer comm 0xae00e40 nRanks 02\n",
      "node-0:2617957:2627796 [0] NCCL INFO Channel 16/0 : 0[d00000] -> 1[e00000] via P2P/direct pointer comm 0xadbce90 nRanks 02\n",
      "node-0:2617957:2627796 [0] NCCL INFO Channel 17/0 : 0[d00000] -> 1[e00000] via P2P/direct pointer comm 0xadbce90 nRanks 02\n",
      "node-0:2617957:2627797 [1] NCCL INFO Channel 21/0 : 1[e00000] -> 0[d00000] via P2P/direct pointer comm 0xae00e40 nRanks 02\n",
      "node-0:2617957:2627796 [0] NCCL INFO Channel 18/0 : 0[d00000] -> 1[e00000] via P2P/direct pointer comm 0xadbce90 nRanks 02\n",
      "node-0:2617957:2627797 [1] NCCL INFO Channel 22/0 : 1[e00000] -> 0[d00000] via P2P/direct pointer comm 0xae00e40 nRanks 02\n",
      "node-0:2617957:2627796 [0] NCCL INFO Channel 19/0 : 0[d00000] -> 1[e00000] via P2P/direct pointer comm 0xadbce90 nRanks 02\n",
      "node-0:2617957:2627797 [1] NCCL INFO Channel 23/0 : 1[e00000] -> 0[d00000] via P2P/direct pointer comm 0xae00e40 nRanks 02\n",
      "node-0:2617957:2627796 [0] NCCL INFO Channel 20/0 : 0[d00000] -> 1[e00000] via P2P/direct pointer comm 0xadbce90 nRanks 02\n",
      "node-0:2617957:2627796 [0] NCCL INFO Channel 21/0 : 0[d00000] -> 1[e00000] via P2P/direct pointer comm 0xadbce90 nRanks 0"
     ]
    },
    {
     "name": "stderr",
     "output_type": "stream",
     "text": [
      "/home/aiscuser/scratch/Projects/xcai/xcai/losses.py:21: UserWarning: Sparse CSR tensor support is in beta state. If you miss a functionality in the sparse tensor support, please submit a feature request to https://github.com/pytorch/pytorch/issues. (Triggered internally at ../aten/src/ATen/SparseCsrTensorImpl.cpp:54.)\n",
      "  return torch.sparse_csr_tensor(data_ptr, data_idx, scores, device=data_ptr.device)\n",
      "/opt/conda/envs/ptca/lib/python3.9/site-packages/torch/nn/parallel/_functions.py:68: UserWarning: Was asked to gather along dimension 0, but all input tensors were scalars; will instead unsqueeze and return a vector.\n",
      "  warnings.warn('Was asked to gather along dimension 0, but all '\n",
      "/opt/conda/envs/ptca/lib/python3.9/site-packages/transformers/utils/import_utils.py:521: FutureWarning: `is_torch_tpu_available` is deprecated and will be removed in 4.41.0. Please use the `is_torch_xla_available` instead.\n",
      "  warnings.warn(\n",
      "Could not estimate the number of tokens of the input, floating-point operations will not be computed\n"
     ]
    },
    {
     "data": {
      "text/html": [
       "\n",
       "    <div>\n",
       "      \n",
       "      <progress value='101' max='28850' style='width:300px; height:20px; vertical-align: middle;'></progress>\n",
       "      [  101/28850 04:12 < 20:21:58, 0.39 it/s, Epoch 0.17/50]\n",
       "    </div>\n",
       "    <table border=\"1\" class=\"dataframe\">\n",
       "  <thead>\n",
       " <tr style=\"text-align: left;\">\n",
       "      <th>Step</th>\n",
       "      <th>Training Loss</th>\n",
       "      <th>Validation Loss</th>\n",
       "    </tr>\n",
       "  </thead>\n",
       "  <tbody>\n",
       "  </tbody>\n",
       "</table><p>"
      ],
      "text/plain": [
       "<IPython.core.display.HTML object>"
      ]
     },
     "metadata": {},
     "output_type": "display_data"
    },
    {
     "data": {
      "application/vnd.jupyter.widget-view+json": {
       "model_id": "871e635768264dc0814a040ac99c822f",
       "version_major": 2,
       "version_minor": 0
      },
      "text/plain": [
       "  0%|          | 0/261 [00:00<?, ?it/s]"
      ]
     },
     "metadata": {},
     "output_type": "display_data"
    },
    {
     "ename": "RuntimeError",
     "evalue": "shape '[1200, -1]' is invalid for input of size 34176312",
     "output_type": "error",
     "traceback": [
      "\u001b[0;31m---------------------------------------------------------------------------\u001b[0m",
      "\u001b[0;31mRuntimeError\u001b[0m                              Traceback (most recent call last)",
      "\u001b[0;32m/tmp/ipykernel_2617957/2681293411.py\u001b[0m in \u001b[0;36m<cell line: 2>\u001b[0;34m()\u001b[0m\n\u001b[1;32m      1\u001b[0m \u001b[0;31m#| export\u001b[0m\u001b[0;34m\u001b[0m\u001b[0;34m\u001b[0m\u001b[0m\n\u001b[0;32m----> 2\u001b[0;31m \u001b[0mlearn\u001b[0m\u001b[0;34m.\u001b[0m\u001b[0mtrain\u001b[0m\u001b[0;34m(\u001b[0m\u001b[0;34m)\u001b[0m\u001b[0;34m\u001b[0m\u001b[0;34m\u001b[0m\u001b[0m\n\u001b[0m",
      "\u001b[0;32m/opt/conda/envs/ptca/lib/python3.9/site-packages/transformers/trainer.py\u001b[0m in \u001b[0;36mtrain\u001b[0;34m(self, resume_from_checkpoint, trial, ignore_keys_for_eval, **kwargs)\u001b[0m\n\u001b[1;32m   1857\u001b[0m                 \u001b[0mhf_hub_utils\u001b[0m\u001b[0;34m.\u001b[0m\u001b[0menable_progress_bars\u001b[0m\u001b[0;34m(\u001b[0m\u001b[0;34m)\u001b[0m\u001b[0;34m\u001b[0m\u001b[0;34m\u001b[0m\u001b[0m\n\u001b[1;32m   1858\u001b[0m         \u001b[0;32melse\u001b[0m\u001b[0;34m:\u001b[0m\u001b[0;34m\u001b[0m\u001b[0;34m\u001b[0m\u001b[0m\n\u001b[0;32m-> 1859\u001b[0;31m             return inner_training_loop(\n\u001b[0m\u001b[1;32m   1860\u001b[0m                 \u001b[0margs\u001b[0m\u001b[0;34m=\u001b[0m\u001b[0margs\u001b[0m\u001b[0;34m,\u001b[0m\u001b[0;34m\u001b[0m\u001b[0;34m\u001b[0m\u001b[0m\n\u001b[1;32m   1861\u001b[0m                 \u001b[0mresume_from_checkpoint\u001b[0m\u001b[0;34m=\u001b[0m\u001b[0mresume_from_checkpoint\u001b[0m\u001b[0;34m,\u001b[0m\u001b[0;34m\u001b[0m\u001b[0;34m\u001b[0m\u001b[0m\n",
      "\u001b[0;32m~/scratch/Projects/xcai/xcai/learner.py\u001b[0m in \u001b[0;36m_inner_training_loop\u001b[0;34m(self, batch_size, args, resume_from_checkpoint, trial, ignore_keys_for_eval)\u001b[0m\n\u001b[1;32m   1065\u001b[0m                 \u001b[0mself\u001b[0m\u001b[0;34m.\u001b[0m\u001b[0mcontrol\u001b[0m \u001b[0;34m=\u001b[0m \u001b[0mself\u001b[0m\u001b[0;34m.\u001b[0m\u001b[0mcallback_handler\u001b[0m\u001b[0;34m.\u001b[0m\u001b[0mon_step_end\u001b[0m\u001b[0;34m(\u001b[0m\u001b[0margs\u001b[0m\u001b[0;34m,\u001b[0m \u001b[0mself\u001b[0m\u001b[0;34m.\u001b[0m\u001b[0mstate\u001b[0m\u001b[0;34m,\u001b[0m \u001b[0mself\u001b[0m\u001b[0;34m.\u001b[0m\u001b[0mcontrol\u001b[0m\u001b[0;34m)\u001b[0m\u001b[0;34m\u001b[0m\u001b[0;34m\u001b[0m\u001b[0m\n\u001b[1;32m   1066\u001b[0m \u001b[0;34m\u001b[0m\u001b[0m\n\u001b[0;32m-> 1067\u001b[0;31m                 \u001b[0mself\u001b[0m\u001b[0;34m.\u001b[0m\u001b[0m_maybe_log_save_evaluate\u001b[0m\u001b[0;34m(\u001b[0m\u001b[0mtr_loss\u001b[0m\u001b[0;34m,\u001b[0m \u001b[0mgrad_norm\u001b[0m\u001b[0;34m,\u001b[0m \u001b[0mmodel\u001b[0m\u001b[0;34m,\u001b[0m \u001b[0mtrial\u001b[0m\u001b[0;34m,\u001b[0m \u001b[0mepoch\u001b[0m\u001b[0;34m,\u001b[0m \u001b[0mignore_keys_for_eval\u001b[0m\u001b[0;34m)\u001b[0m\u001b[0;34m\u001b[0m\u001b[0;34m\u001b[0m\u001b[0m\n\u001b[0m\u001b[1;32m   1068\u001b[0m             \u001b[0;32melse\u001b[0m\u001b[0;34m:\u001b[0m\u001b[0;34m\u001b[0m\u001b[0;34m\u001b[0m\u001b[0m\n\u001b[1;32m   1069\u001b[0m                 \u001b[0mself\u001b[0m\u001b[0;34m.\u001b[0m\u001b[0mcontrol\u001b[0m \u001b[0;34m=\u001b[0m \u001b[0mself\u001b[0m\u001b[0;34m.\u001b[0m\u001b[0mcallback_handler\u001b[0m\u001b[0;34m.\u001b[0m\u001b[0mon_substep_end\u001b[0m\u001b[0;34m(\u001b[0m\u001b[0margs\u001b[0m\u001b[0;34m,\u001b[0m \u001b[0mself\u001b[0m\u001b[0;34m.\u001b[0m\u001b[0mstate\u001b[0m\u001b[0;34m,\u001b[0m \u001b[0mself\u001b[0m\u001b[0;34m.\u001b[0m\u001b[0mcontrol\u001b[0m\u001b[0;34m)\u001b[0m\u001b[0;34m\u001b[0m\u001b[0;34m\u001b[0m\u001b[0m\n",
      "\u001b[0;32m/opt/conda/envs/ptca/lib/python3.9/site-packages/transformers/trainer.py\u001b[0m in \u001b[0;36m_maybe_log_save_evaluate\u001b[0;34m(self, tr_loss, grad_norm, model, trial, epoch, ignore_keys_for_eval)\u001b[0m\n\u001b[1;32m   2660\u001b[0m         \u001b[0mmetrics\u001b[0m \u001b[0;34m=\u001b[0m \u001b[0;32mNone\u001b[0m\u001b[0;34m\u001b[0m\u001b[0;34m\u001b[0m\u001b[0m\n\u001b[1;32m   2661\u001b[0m         \u001b[0;32mif\u001b[0m \u001b[0mself\u001b[0m\u001b[0;34m.\u001b[0m\u001b[0mcontrol\u001b[0m\u001b[0;34m.\u001b[0m\u001b[0mshould_evaluate\u001b[0m\u001b[0;34m:\u001b[0m\u001b[0;34m\u001b[0m\u001b[0;34m\u001b[0m\u001b[0m\n\u001b[0;32m-> 2662\u001b[0;31m             \u001b[0mmetrics\u001b[0m \u001b[0;34m=\u001b[0m \u001b[0mself\u001b[0m\u001b[0;34m.\u001b[0m\u001b[0mevaluate\u001b[0m\u001b[0;34m(\u001b[0m\u001b[0mignore_keys\u001b[0m\u001b[0;34m=\u001b[0m\u001b[0mignore_keys_for_eval\u001b[0m\u001b[0;34m)\u001b[0m\u001b[0;34m\u001b[0m\u001b[0;34m\u001b[0m\u001b[0m\n\u001b[0m\u001b[1;32m   2663\u001b[0m             \u001b[0mself\u001b[0m\u001b[0;34m.\u001b[0m\u001b[0m_report_to_hp_search\u001b[0m\u001b[0;34m(\u001b[0m\u001b[0mtrial\u001b[0m\u001b[0;34m,\u001b[0m \u001b[0mself\u001b[0m\u001b[0;34m.\u001b[0m\u001b[0mstate\u001b[0m\u001b[0;34m.\u001b[0m\u001b[0mglobal_step\u001b[0m\u001b[0;34m,\u001b[0m \u001b[0mmetrics\u001b[0m\u001b[0;34m)\u001b[0m\u001b[0;34m\u001b[0m\u001b[0;34m\u001b[0m\u001b[0m\n\u001b[1;32m   2664\u001b[0m \u001b[0;34m\u001b[0m\u001b[0m\n",
      "\u001b[0;32m~/scratch/Projects/xcai/xcai/learner.py\u001b[0m in \u001b[0;36mevaluate\u001b[0;34m(self, eval_dataset, ignore_keys, metric_key_prefix, **gen_kwargs)\u001b[0m\n\u001b[1;32m    268\u001b[0m             \u001b[0mself\u001b[0m\u001b[0;34m.\u001b[0m\u001b[0m_build_lbl_index\u001b[0m\u001b[0;34m(\u001b[0m\u001b[0meval_dataset\u001b[0m\u001b[0;34m)\u001b[0m\u001b[0;34m\u001b[0m\u001b[0;34m\u001b[0m\u001b[0m\n\u001b[1;32m    269\u001b[0m \u001b[0;34m\u001b[0m\u001b[0m\n\u001b[0;32m--> 270\u001b[0;31m         \u001b[0;32mreturn\u001b[0m \u001b[0msuper\u001b[0m\u001b[0;34m(\u001b[0m\u001b[0;34m)\u001b[0m\u001b[0;34m.\u001b[0m\u001b[0mevaluate\u001b[0m\u001b[0;34m(\u001b[0m\u001b[0meval_dataset\u001b[0m\u001b[0;34m,\u001b[0m \u001b[0mignore_keys\u001b[0m\u001b[0;34m=\u001b[0m\u001b[0mignore_keys\u001b[0m\u001b[0;34m,\u001b[0m \u001b[0mmetric_key_prefix\u001b[0m\u001b[0;34m=\u001b[0m\u001b[0mmetric_key_prefix\u001b[0m\u001b[0;34m)\u001b[0m\u001b[0;34m\u001b[0m\u001b[0;34m\u001b[0m\u001b[0m\n\u001b[0m\u001b[1;32m    271\u001b[0m \u001b[0;34m\u001b[0m\u001b[0m\n\u001b[1;32m    272\u001b[0m     \u001b[0;32mdef\u001b[0m \u001b[0mpredict\u001b[0m\u001b[0;34m(\u001b[0m\u001b[0mself\u001b[0m\u001b[0;34m,\u001b[0m \u001b[0mtest_dataset\u001b[0m\u001b[0;34m:\u001b[0m \u001b[0mDataset\u001b[0m\u001b[0;34m,\u001b[0m \u001b[0mignore_keys\u001b[0m\u001b[0;34m:\u001b[0m\u001b[0mOptional\u001b[0m\u001b[0;34m[\u001b[0m\u001b[0mList\u001b[0m\u001b[0;34m[\u001b[0m\u001b[0mstr\u001b[0m\u001b[0;34m]\u001b[0m\u001b[0;34m]\u001b[0m\u001b[0;34m=\u001b[0m\u001b[0;32mNone\u001b[0m\u001b[0;34m,\u001b[0m \u001b[0mmetric_key_prefix\u001b[0m\u001b[0;34m:\u001b[0m \u001b[0mstr\u001b[0m \u001b[0;34m=\u001b[0m \u001b[0;34m\"test\"\u001b[0m\u001b[0;34m,\u001b[0m\u001b[0;34m**\u001b[0m\u001b[0mgen_kwargs\u001b[0m\u001b[0;34m)\u001b[0m\u001b[0;34m:\u001b[0m\u001b[0;34m\u001b[0m\u001b[0;34m\u001b[0m\u001b[0m\n",
      "\u001b[0;32m/opt/conda/envs/ptca/lib/python3.9/site-packages/transformers/trainer_seq2seq.py\u001b[0m in \u001b[0;36mevaluate\u001b[0;34m(self, eval_dataset, ignore_keys, metric_key_prefix, **gen_kwargs)\u001b[0m\n\u001b[1;32m    178\u001b[0m         \u001b[0mself\u001b[0m\u001b[0;34m.\u001b[0m\u001b[0mgather_function\u001b[0m \u001b[0;34m=\u001b[0m \u001b[0mself\u001b[0m\u001b[0;34m.\u001b[0m\u001b[0maccelerator\u001b[0m\u001b[0;34m.\u001b[0m\u001b[0mgather\u001b[0m\u001b[0;34m\u001b[0m\u001b[0;34m\u001b[0m\u001b[0m\n\u001b[1;32m    179\u001b[0m         \u001b[0mself\u001b[0m\u001b[0;34m.\u001b[0m\u001b[0m_gen_kwargs\u001b[0m \u001b[0;34m=\u001b[0m \u001b[0mgen_kwargs\u001b[0m\u001b[0;34m\u001b[0m\u001b[0;34m\u001b[0m\u001b[0m\n\u001b[0;32m--> 180\u001b[0;31m         \u001b[0;32mreturn\u001b[0m \u001b[0msuper\u001b[0m\u001b[0;34m(\u001b[0m\u001b[0;34m)\u001b[0m\u001b[0;34m.\u001b[0m\u001b[0mevaluate\u001b[0m\u001b[0;34m(\u001b[0m\u001b[0meval_dataset\u001b[0m\u001b[0;34m,\u001b[0m \u001b[0mignore_keys\u001b[0m\u001b[0;34m=\u001b[0m\u001b[0mignore_keys\u001b[0m\u001b[0;34m,\u001b[0m \u001b[0mmetric_key_prefix\u001b[0m\u001b[0;34m=\u001b[0m\u001b[0mmetric_key_prefix\u001b[0m\u001b[0;34m)\u001b[0m\u001b[0;34m\u001b[0m\u001b[0;34m\u001b[0m\u001b[0m\n\u001b[0m\u001b[1;32m    181\u001b[0m \u001b[0;34m\u001b[0m\u001b[0m\n\u001b[1;32m    182\u001b[0m     def predict(\n",
      "\u001b[0;32m/opt/conda/envs/ptca/lib/python3.9/site-packages/transformers/trainer.py\u001b[0m in \u001b[0;36mevaluate\u001b[0;34m(self, eval_dataset, ignore_keys, metric_key_prefix)\u001b[0m\n\u001b[1;32m   3465\u001b[0m \u001b[0;34m\u001b[0m\u001b[0m\n\u001b[1;32m   3466\u001b[0m         \u001b[0meval_loop\u001b[0m \u001b[0;34m=\u001b[0m \u001b[0mself\u001b[0m\u001b[0;34m.\u001b[0m\u001b[0mprediction_loop\u001b[0m \u001b[0;32mif\u001b[0m \u001b[0mself\u001b[0m\u001b[0;34m.\u001b[0m\u001b[0margs\u001b[0m\u001b[0;34m.\u001b[0m\u001b[0muse_legacy_prediction_loop\u001b[0m \u001b[0;32melse\u001b[0m \u001b[0mself\u001b[0m\u001b[0;34m.\u001b[0m\u001b[0mevaluation_loop\u001b[0m\u001b[0;34m\u001b[0m\u001b[0;34m\u001b[0m\u001b[0m\n\u001b[0;32m-> 3467\u001b[0;31m         output = eval_loop(\n\u001b[0m\u001b[1;32m   3468\u001b[0m             \u001b[0meval_dataloader\u001b[0m\u001b[0;34m,\u001b[0m\u001b[0;34m\u001b[0m\u001b[0;34m\u001b[0m\u001b[0m\n\u001b[1;32m   3469\u001b[0m             \u001b[0mdescription\u001b[0m\u001b[0;34m=\u001b[0m\u001b[0;34m\"Evaluation\"\u001b[0m\u001b[0;34m,\u001b[0m\u001b[0;34m\u001b[0m\u001b[0;34m\u001b[0m\u001b[0m\n",
      "\u001b[0;32m~/scratch/Projects/xcai/xcai/learner.py\u001b[0m in \u001b[0;36mevaluation_loop\u001b[0;34m(self, dataloader, description, prediction_loss_only, predict_with_generation, predict_with_representation, ignore_keys, metric_key_prefix)\u001b[0m\n\u001b[1;32m    481\u001b[0m             \u001b[0;32mif\u001b[0m \u001b[0mbatch_size\u001b[0m \u001b[0;32mis\u001b[0m \u001b[0;32mNone\u001b[0m\u001b[0;34m:\u001b[0m \u001b[0mbatch_size\u001b[0m \u001b[0;34m=\u001b[0m \u001b[0mobserved_batch_size\u001b[0m\u001b[0;34m\u001b[0m\u001b[0;34m\u001b[0m\u001b[0m\n\u001b[1;32m    482\u001b[0m \u001b[0;34m\u001b[0m\u001b[0m\n\u001b[0;32m--> 483\u001b[0;31m         \u001b[0mloss\u001b[0m\u001b[0;34m,\u001b[0m \u001b[0moutput\u001b[0m \u001b[0;34m=\u001b[0m \u001b[0mself\u001b[0m\u001b[0;34m.\u001b[0m\u001b[0mprediction_step\u001b[0m\u001b[0;34m(\u001b[0m\u001b[0mmodel\u001b[0m\u001b[0;34m,\u001b[0m \u001b[0minputs\u001b[0m\u001b[0;34m,\u001b[0m \u001b[0mprediction_loss_only\u001b[0m\u001b[0;34m,\u001b[0m \u001b[0mpredict_with_generation\u001b[0m\u001b[0;34m,\u001b[0m \u001b[0mpredict_with_representation\u001b[0m\u001b[0;34m,\u001b[0m \u001b[0mignore_keys\u001b[0m\u001b[0;34m=\u001b[0m\u001b[0mignore_keys\u001b[0m\u001b[0;34m)\u001b[0m\u001b[0;34m\u001b[0m\u001b[0;34m\u001b[0m\u001b[0m\n\u001b[0m\u001b[1;32m    484\u001b[0m \u001b[0;34m\u001b[0m\u001b[0m\n\u001b[1;32m    485\u001b[0m         \u001b[0;32mif\u001b[0m \u001b[0mloss\u001b[0m \u001b[0;32mis\u001b[0m \u001b[0;32mnot\u001b[0m \u001b[0;32mNone\u001b[0m\u001b[0;34m:\u001b[0m\u001b[0;34m\u001b[0m\u001b[0;34m\u001b[0m\u001b[0m\n",
      "\u001b[0;32m~/scratch/Projects/xcai/xcai/learner.py\u001b[0m in \u001b[0;36mprediction_step\u001b[0;34m(self, model, inputs, prediction_loss_only, predict_with_generation, predict_with_representation, ignore_keys, **kwargs)\u001b[0m\n\u001b[1;32m    419\u001b[0m         \u001b[0moutput\u001b[0m \u001b[0;34m=\u001b[0m \u001b[0;34m{\u001b[0m\u001b[0;34mf'{k}_gen'\u001b[0m\u001b[0;34m:\u001b[0m\u001b[0mv\u001b[0m \u001b[0;32mfor\u001b[0m \u001b[0mk\u001b[0m\u001b[0;34m,\u001b[0m\u001b[0mv\u001b[0m \u001b[0;32min\u001b[0m \u001b[0mgen_o\u001b[0m\u001b[0;34m.\u001b[0m\u001b[0mitems\u001b[0m\u001b[0;34m(\u001b[0m\u001b[0;34m)\u001b[0m\u001b[0;34m}\u001b[0m\u001b[0;34m\u001b[0m\u001b[0;34m\u001b[0m\u001b[0m\n\u001b[1;32m    420\u001b[0m         \u001b[0moutput\u001b[0m\u001b[0;34m.\u001b[0m\u001b[0mupdate\u001b[0m\u001b[0;34m(\u001b[0m\u001b[0;34m{\u001b[0m\u001b[0;34mf'{k}_repr'\u001b[0m\u001b[0;34m:\u001b[0m\u001b[0mv\u001b[0m \u001b[0;32mfor\u001b[0m \u001b[0mk\u001b[0m\u001b[0;34m,\u001b[0m\u001b[0mv\u001b[0m \u001b[0;32min\u001b[0m \u001b[0mrepr_o\u001b[0m\u001b[0;34m.\u001b[0m\u001b[0mitems\u001b[0m\u001b[0;34m(\u001b[0m\u001b[0;34m)\u001b[0m\u001b[0;34m}\u001b[0m\u001b[0;34m)\u001b[0m\u001b[0;34m\u001b[0m\u001b[0;34m\u001b[0m\u001b[0m\n\u001b[0;32m--> 421\u001b[0;31m         \u001b[0moutput\u001b[0m\u001b[0;34m.\u001b[0m\u001b[0mupdate\u001b[0m\u001b[0;34m(\u001b[0m\u001b[0mself\u001b[0m\u001b[0;34m.\u001b[0m\u001b[0mconcatenate_output\u001b[0m\u001b[0;34m(\u001b[0m\u001b[0mgen_o\u001b[0m\u001b[0;34m,\u001b[0m \u001b[0mrepr_o\u001b[0m\u001b[0;34m)\u001b[0m\u001b[0;34m)\u001b[0m\u001b[0;34m\u001b[0m\u001b[0;34m\u001b[0m\u001b[0m\n\u001b[0m\u001b[1;32m    422\u001b[0m     \u001b[0;32melse\u001b[0m\u001b[0;34m:\u001b[0m\u001b[0;34m\u001b[0m\u001b[0;34m\u001b[0m\u001b[0m\n\u001b[1;32m    423\u001b[0m         \u001b[0moutput\u001b[0m \u001b[0;34m=\u001b[0m \u001b[0mgen_o\u001b[0m \u001b[0;32mif\u001b[0m \u001b[0mrepr_o\u001b[0m \u001b[0;32mis\u001b[0m \u001b[0;32mNone\u001b[0m \u001b[0;32melse\u001b[0m \u001b[0mrepr_o\u001b[0m\u001b[0;34m\u001b[0m\u001b[0;34m\u001b[0m\u001b[0m\n",
      "\u001b[0;32m~/scratch/Projects/xcai/xcai/learner.py\u001b[0m in \u001b[0;36mconcatenate_output\u001b[0;34m(cls, gen_o, repr_o)\u001b[0m\n\u001b[1;32m    386\u001b[0m \u001b[0;32mdef\u001b[0m \u001b[0mconcatenate_output\u001b[0m\u001b[0;34m(\u001b[0m\u001b[0mcls\u001b[0m\u001b[0;34m:\u001b[0m\u001b[0mXCLearner\u001b[0m\u001b[0;34m,\u001b[0m \u001b[0mgen_o\u001b[0m\u001b[0;34m:\u001b[0m\u001b[0mDict\u001b[0m\u001b[0;34m,\u001b[0m \u001b[0mrepr_o\u001b[0m\u001b[0;34m:\u001b[0m\u001b[0mDict\u001b[0m\u001b[0;34m)\u001b[0m\u001b[0;34m:\u001b[0m\u001b[0;34m\u001b[0m\u001b[0;34m\u001b[0m\u001b[0m\n\u001b[1;32m    387\u001b[0m     \u001b[0mgen_o\u001b[0m\u001b[0;34m[\u001b[0m\u001b[0;34m'pred_score'\u001b[0m\u001b[0;34m]\u001b[0m \u001b[0;34m=\u001b[0m \u001b[0mtorch\u001b[0m\u001b[0;34m.\u001b[0m\u001b[0mexp\u001b[0m\u001b[0;34m(\u001b[0m\u001b[0mgen_o\u001b[0m\u001b[0;34m[\u001b[0m\u001b[0;34m'pred_score'\u001b[0m\u001b[0;34m]\u001b[0m\u001b[0;34m)\u001b[0m\u001b[0;34m*\u001b[0m\u001b[0mcls\u001b[0m\u001b[0;34m.\u001b[0m\u001b[0margs\u001b[0m\u001b[0;34m.\u001b[0m\u001b[0moutput_concatenation_weight\u001b[0m\u001b[0;34m\u001b[0m\u001b[0;34m\u001b[0m\u001b[0m\n\u001b[0;32m--> 388\u001b[0;31m     \u001b[0mgen_o\u001b[0m\u001b[0;34m,\u001b[0m \u001b[0mrepr_o\u001b[0m \u001b[0;34m=\u001b[0m \u001b[0mcls\u001b[0m\u001b[0;34m.\u001b[0m\u001b[0mresize_output\u001b[0m\u001b[0;34m(\u001b[0m\u001b[0;34m**\u001b[0m\u001b[0mgen_o\u001b[0m\u001b[0;34m)\u001b[0m\u001b[0;34m,\u001b[0m \u001b[0mcls\u001b[0m\u001b[0;34m.\u001b[0m\u001b[0mresize_output\u001b[0m\u001b[0;34m(\u001b[0m\u001b[0;34m**\u001b[0m\u001b[0mrepr_o\u001b[0m\u001b[0;34m)\u001b[0m\u001b[0;34m\u001b[0m\u001b[0;34m\u001b[0m\u001b[0m\n\u001b[0m\u001b[1;32m    389\u001b[0m     \u001b[0mpred_idx\u001b[0m\u001b[0;34m,\u001b[0m \u001b[0mpred_score\u001b[0m\u001b[0;34m,\u001b[0m \u001b[0mmask\u001b[0m \u001b[0;34m=\u001b[0m \u001b[0;34m[\u001b[0m\u001b[0mtorch\u001b[0m\u001b[0;34m.\u001b[0m\u001b[0mhstack\u001b[0m\u001b[0;34m(\u001b[0m\u001b[0;34m[\u001b[0m\u001b[0mgen_o\u001b[0m\u001b[0;34m[\u001b[0m\u001b[0mi\u001b[0m\u001b[0;34m]\u001b[0m\u001b[0;34m,\u001b[0m \u001b[0mrepr_o\u001b[0m\u001b[0;34m[\u001b[0m\u001b[0mi\u001b[0m\u001b[0;34m]\u001b[0m\u001b[0;34m.\u001b[0m\u001b[0mcpu\u001b[0m\u001b[0;34m(\u001b[0m\u001b[0;34m)\u001b[0m\u001b[0;34m]\u001b[0m\u001b[0;34m)\u001b[0m\u001b[0;34m.\u001b[0m\u001b[0mflatten\u001b[0m\u001b[0;34m(\u001b[0m\u001b[0;34m)\u001b[0m \u001b[0;32mfor\u001b[0m \u001b[0mi\u001b[0m \u001b[0;32min\u001b[0m \u001b[0mrange\u001b[0m\u001b[0;34m(\u001b[0m\u001b[0;36m3\u001b[0m\u001b[0;34m)\u001b[0m\u001b[0;34m]\u001b[0m\u001b[0;34m\u001b[0m\u001b[0;34m\u001b[0m\u001b[0m\n\u001b[1;32m    390\u001b[0m     \u001b[0midx\u001b[0m \u001b[0;34m=\u001b[0m \u001b[0mtorch\u001b[0m\u001b[0;34m.\u001b[0m\u001b[0mwhere\u001b[0m\u001b[0;34m(\u001b[0m\u001b[0mmask\u001b[0m\u001b[0;34m)\u001b[0m\u001b[0;34m[\u001b[0m\u001b[0;36m0\u001b[0m\u001b[0;34m]\u001b[0m\u001b[0;34m\u001b[0m\u001b[0;34m\u001b[0m\u001b[0m\n",
      "\u001b[0;32m~/scratch/Projects/xcai/xcai/learner.py\u001b[0m in \u001b[0;36mresize_output\u001b[0;34m(cls, pred_idx, pred_score, pred_ptr)\u001b[0m\n\u001b[1;32m    381\u001b[0m \u001b[0;34m@\u001b[0m\u001b[0mpatch\u001b[0m\u001b[0;34m\u001b[0m\u001b[0;34m\u001b[0m\u001b[0m\n\u001b[1;32m    382\u001b[0m \u001b[0;32mdef\u001b[0m \u001b[0mresize_output\u001b[0m\u001b[0;34m(\u001b[0m\u001b[0mcls\u001b[0m\u001b[0;34m:\u001b[0m\u001b[0mXCLearner\u001b[0m\u001b[0;34m,\u001b[0m \u001b[0mpred_idx\u001b[0m\u001b[0;34m,\u001b[0m \u001b[0mpred_score\u001b[0m\u001b[0;34m,\u001b[0m \u001b[0mpred_ptr\u001b[0m\u001b[0;34m)\u001b[0m\u001b[0;34m:\u001b[0m\u001b[0;34m\u001b[0m\u001b[0;34m\u001b[0m\u001b[0m\n\u001b[0;32m--> 383\u001b[0;31m     \u001b[0;32mreturn\u001b[0m \u001b[0mcls\u001b[0m\u001b[0;34m.\u001b[0m\u001b[0mresize_pred\u001b[0m\u001b[0;34m(\u001b[0m\u001b[0mpred_idx\u001b[0m\u001b[0;34m,\u001b[0m \u001b[0mpred_ptr\u001b[0m\u001b[0;34m)\u001b[0m\u001b[0;34m,\u001b[0m \u001b[0mcls\u001b[0m\u001b[0;34m.\u001b[0m\u001b[0mresize_pred\u001b[0m\u001b[0;34m(\u001b[0m\u001b[0mpred_score\u001b[0m\u001b[0;34m,\u001b[0m \u001b[0mpred_ptr\u001b[0m\u001b[0;34m)\u001b[0m\u001b[0;34m,\u001b[0m \u001b[0mcls\u001b[0m\u001b[0;34m.\u001b[0m\u001b[0moutput_mask\u001b[0m\u001b[0;34m(\u001b[0m\u001b[0mpred_ptr\u001b[0m\u001b[0;34m,\u001b[0m \u001b[0mlen\u001b[0m\u001b[0;34m(\u001b[0m\u001b[0mpred_idx\u001b[0m\u001b[0;34m)\u001b[0m\u001b[0;34m)\u001b[0m\u001b[0;34m,\u001b[0m \u001b[0mpred_ptr\u001b[0m\u001b[0;34m\u001b[0m\u001b[0;34m\u001b[0m\u001b[0m\n\u001b[0m\u001b[1;32m    384\u001b[0m \u001b[0;34m\u001b[0m\u001b[0m\n\u001b[1;32m    385\u001b[0m \u001b[0;34m@\u001b[0m\u001b[0mpatch\u001b[0m\u001b[0;34m\u001b[0m\u001b[0;34m\u001b[0m\u001b[0m\n",
      "\u001b[0;32m~/scratch/Projects/xcai/xcai/learner.py\u001b[0m in \u001b[0;36mresize_pred\u001b[0;34m(cls, t, n_t)\u001b[0m\n\u001b[1;32m    365\u001b[0m     \u001b[0mt_ptr\u001b[0m \u001b[0;34m=\u001b[0m \u001b[0mn_t\u001b[0m\u001b[0;34m.\u001b[0m\u001b[0mcumsum\u001b[0m\u001b[0;34m(\u001b[0m\u001b[0mdim\u001b[0m\u001b[0;34m=\u001b[0m\u001b[0;36m0\u001b[0m\u001b[0;34m)\u001b[0m\u001b[0;34m-\u001b[0m\u001b[0;36m1\u001b[0m\u001b[0;34m\u001b[0m\u001b[0;34m\u001b[0m\u001b[0m\n\u001b[1;32m    366\u001b[0m     \u001b[0mr_t\u001b[0m \u001b[0;34m=\u001b[0m \u001b[0mtorch\u001b[0m\u001b[0;34m.\u001b[0m\u001b[0mones\u001b[0m\u001b[0;34m(\u001b[0m\u001b[0;34m(\u001b[0m\u001b[0mlen\u001b[0m\u001b[0;34m(\u001b[0m\u001b[0mt\u001b[0m\u001b[0;34m)\u001b[0m\u001b[0;34m,\u001b[0m\u001b[0;34m)\u001b[0m\u001b[0;34m,\u001b[0m \u001b[0mdtype\u001b[0m\u001b[0;34m=\u001b[0m\u001b[0mxn_t\u001b[0m\u001b[0;34m.\u001b[0m\u001b[0mdtype\u001b[0m\u001b[0;34m,\u001b[0m \u001b[0mdevice\u001b[0m\u001b[0;34m=\u001b[0m\u001b[0mxn_t\u001b[0m\u001b[0;34m.\u001b[0m\u001b[0mdevice\u001b[0m\u001b[0;34m)\u001b[0m\u001b[0;34m.\u001b[0m\u001b[0mscatter\u001b[0m\u001b[0;34m(\u001b[0m\u001b[0;36m0\u001b[0m\u001b[0;34m,\u001b[0m \u001b[0mt_ptr\u001b[0m\u001b[0;34m,\u001b[0m \u001b[0mxn_t\u001b[0m\u001b[0;34m)\u001b[0m\u001b[0;34m\u001b[0m\u001b[0;34m\u001b[0m\u001b[0m\n\u001b[0;32m--> 367\u001b[0;31m     \u001b[0mxt\u001b[0m \u001b[0;34m=\u001b[0m \u001b[0mt\u001b[0m\u001b[0;34m.\u001b[0m\u001b[0mrepeat_interleave\u001b[0m\u001b[0;34m(\u001b[0m\u001b[0mr_t\u001b[0m\u001b[0;34m)\u001b[0m\u001b[0;34m.\u001b[0m\u001b[0mview\u001b[0m\u001b[0;34m(\u001b[0m\u001b[0mlen\u001b[0m\u001b[0;34m(\u001b[0m\u001b[0mn_t\u001b[0m\u001b[0;34m)\u001b[0m\u001b[0;34m,\u001b[0m \u001b[0;34m-\u001b[0m\u001b[0;36m1\u001b[0m\u001b[0;34m)\u001b[0m\u001b[0;34m\u001b[0m\u001b[0;34m\u001b[0m\u001b[0m\n\u001b[0m\u001b[1;32m    368\u001b[0m     \u001b[0;32mreturn\u001b[0m \u001b[0mxt\u001b[0m\u001b[0;34m\u001b[0m\u001b[0;34m\u001b[0m\u001b[0m\n\u001b[1;32m    369\u001b[0m \u001b[0;34m\u001b[0m\u001b[0m\n",
      "\u001b[0;31mRuntimeError\u001b[0m: shape '[1200, -1]' is invalid for input of size 34176312"
     ]
    }
   ],
   "source": [
    "learn.train()"
   ]
  },
  {
   "cell_type": "code",
   "execution_count": null,
   "id": "7fc60dbd",
   "metadata": {},
   "outputs": [],
   "source": []
  },
  {
   "cell_type": "code",
   "execution_count": null,
   "id": "68cd155e-912d-4780-b60d-b7c6749b30b3",
   "metadata": {},
   "outputs": [],
   "source": [
    "#| export\n",
    "if __name__ == '__main__':\n",
    "    mp.freeze_support()\n",
    "    learn.train()"
   ]
  },
  {
   "cell_type": "code",
   "execution_count": null,
   "id": "8a0c09e4-4a84-4e72-8d93-9477b1db3ef3",
   "metadata": {},
   "outputs": [],
   "source": []
  }
 ],
 "metadata": {
  "kernelspec": {
   "display_name": "Python 3 (ipykernel)",
   "language": "python",
   "name": "python3"
  },
  "language_info": {
   "codemirror_mode": {
    "name": "ipython",
    "version": 3
   },
   "file_extension": ".py",
   "mimetype": "text/x-python",
   "name": "python",
   "nbconvert_exporter": "python",
   "pygments_lexer": "ipython3",
   "version": "3.9.18"
  }
 },
 "nbformat": 4,
 "nbformat_minor": 5
}
