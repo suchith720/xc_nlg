{
 "cells": [
  {
   "cell_type": "markdown",
   "metadata": {},
   "source": [
    "# Trie inference"
   ]
  },
  {
   "cell_type": "code",
   "execution_count": null,
   "metadata": {},
   "outputs": [],
   "source": [
    "#| default_exp 00-nar-trie-inference-benchmarking"
   ]
  },
  {
   "cell_type": "code",
   "execution_count": null,
   "metadata": {},
   "outputs": [],
   "source": [
    "%load_ext autoreload\n",
    "%autoreload 2"
   ]
  },
  {
   "cell_type": "code",
   "execution_count": null,
   "metadata": {},
   "outputs": [],
   "source": [
    "#| hide\n",
    "from nbdev.showdoc import *\n",
    "import nbdev; nbdev.nbdev_export()"
   ]
  },
  {
   "cell_type": "code",
   "execution_count": null,
   "metadata": {},
   "outputs": [
    {
     "name": "stderr",
     "output_type": "stream",
     "text": [
      "comet_ml is installed but `COMET_API_KEY` is not set.\n"
     ]
    }
   ],
   "source": [
    "#| export\n",
    "import os, pandas as pd, warnings\n",
    "from tqdm.auto import tqdm\n",
    "\n",
    "from xcai.basics import *\n",
    "from xcai.models.MMM00X import BT0002, RT0005"
   ]
  },
  {
   "cell_type": "code",
   "execution_count": null,
   "metadata": {},
   "outputs": [],
   "source": [
    "os.environ['WANDB_MODE'] = 'disabled'\n",
    "warnings.filterwarnings('ignore')"
   ]
  },
  {
   "cell_type": "markdown",
   "metadata": {},
   "source": [
    "## Benchmarking"
   ]
  },
  {
   "cell_type": "code",
   "execution_count": null,
   "metadata": {},
   "outputs": [],
   "source": [
    "#| export\n",
    "os.environ['WANDB_MODE'] = 'disabled'\n",
    "\n",
    "block = XCBlock.from_cfg('data', valid_pct=0.001, tokz='roberta-base')\n",
    "\n",
    "args = XCLearningArguments(\n",
    "    output_dir='/scratch/scai/phd/aiz218323/Projects/xc_nlg/outputs/default',\n",
    "    generation_length_penalty=1.5,\n",
    "    per_device_eval_batch_size=64,\n",
    "    evaluation_strategy='steps',\n",
    "    label_names=['lbl2data_idx'],\n",
    ")\n",
    "\n",
    "mname = '/home/scai/phd/aiz218323/Projects/XC_NLG/code/models/roberta-base_LM-NAR_LF-WikiSeeAlso-320K/checkpoint-174000'\n",
    "model = RT0005.from_pretrained(mname, tn_targ=10_000, ig_tok=1)\n",
    "\n",
    "trie = XCTrie.from_block(block)"
   ]
  },
  {
   "cell_type": "code",
   "execution_count": null,
   "metadata": {},
   "outputs": [],
   "source": [
    "#| export\n",
    "metric = PrecRecl(block.n_lbl, block.test.data_lbl_filterer, \n",
    "                  prop=block.train.dset.data.data_lbl, pk=10, rk=10, rep_pk=[1, 3, 5, 10], rep_rk=[10])\n",
    "\n",
    "learn = XCLearner(\n",
    "    model=model, \n",
    "    args=args,\n",
    "    trie=trie,\n",
    "    data_collator=block.collator, \n",
    "    compute_metrics=metric,\n",
    ")\n",
    "\n",
    "metrics = learn.evaluate(block.test.dset)\n",
    "print(metrics)"
   ]
  },
  {
   "cell_type": "markdown",
   "metadata": {},
   "source": [
    "## Inference"
   ]
  },
  {
   "cell_type": "code",
   "execution_count": null,
   "metadata": {},
   "outputs": [
    {
     "name": "stdout",
     "output_type": "stream",
     "text": [
      "CPU times: user 9min 59s, sys: 26.2 s, total: 10min 26s\n",
      "Wall time: 3min 30s\n"
     ]
    }
   ],
   "source": [
    "%time block = XCBlock.from_cfg('data_meta', valid_pct=0.001, tokz='roberta-base')"
   ]
  },
  {
   "cell_type": "code",
   "execution_count": null,
   "metadata": {},
   "outputs": [
    {
     "name": "stderr",
     "output_type": "stream",
     "text": [
      "If you want to use `RobertaLMHeadModel` as a standalone, add `is_decoder=True.`\n",
      "Some weights of RT0005 were not initialized from the model checkpoint at /home/scai/phd/aiz218323/Projects/XC_NLG/code/models/roberta-base_LM-NAR_LF-WikiSeeAlso-320K/checkpoint-174000 and are newly initialized: ['loss_fn.o']\n",
      "You should probably TRAIN this model on a down-stream task to be able to use it for predictions and inference.\n"
     ]
    }
   ],
   "source": [
    "mname = '/home/scai/phd/aiz218323/Projects/XC_NLG/code/models/roberta-base_LM-NAR_LF-WikiSeeAlso-320K/checkpoint-174000'\n",
    "model = RT0005.from_pretrained(mname, tn_targ=10_000, ig_tok=0)"
   ]
  },
  {
   "cell_type": "code",
   "execution_count": null,
   "metadata": {},
   "outputs": [],
   "source": [
    "test_dset = block.test.dset.sample(n=2000, seed=50)"
   ]
  },
  {
   "cell_type": "code",
   "execution_count": null,
   "metadata": {},
   "outputs": [],
   "source": [
    "metric = PrecRecl(test_dset.n_lbl, test_dset.data.data_lbl_filterer, prop=block.train.dset.data.data_lbl,\n",
    "                  pk=10, rk=200, rep_pk=[1, 3, 5, 10], rep_rk=[10, 100, 200])"
   ]
  },
  {
   "cell_type": "code",
   "execution_count": null,
   "metadata": {},
   "outputs": [],
   "source": [
    "args = XCLearningArguments(\n",
    "    output_dir='/scratch/scai/phd/aiz218323/Projects/xc_nlg/outputs/default',\n",
    "    generation_max_info=1,\n",
    "    generation_length_penalty=0,\n",
    "    per_device_eval_batch_size=64,\n",
    "    evaluation_strategy='steps',\n",
    "    label_names=['lbl2data_idx'],\n",
    ")"
   ]
  },
  {
   "cell_type": "code",
   "execution_count": null,
   "metadata": {},
   "outputs": [
    {
     "name": "stderr",
     "output_type": "stream",
     "text": [
      "Detected kernel version 3.10.0, which is below the recommended minimum of 5.5.0; this can cause the process to hang. It is recommended to upgrade the kernel to the minimum version or higher.\n"
     ]
    }
   ],
   "source": [
    "learn = XCLearner(\n",
    "    model=model, \n",
    "    args=args,\n",
    "    data_collator=block.collator, \n",
    "    compute_metrics=metric,\n",
    ")"
   ]
  },
  {
   "cell_type": "code",
   "execution_count": null,
   "metadata": {},
   "outputs": [
    {
     "data": {
      "application/vnd.jupyter.widget-view+json": {
       "model_id": "a2db9e4bdd3c4fe3abebd5d9fc1edff3",
       "version_major": 2,
       "version_minor": 0
      },
      "text/plain": [
       "  0%|          | 0/312330 [00:00<?, ?it/s]"
      ]
     },
     "metadata": {},
     "output_type": "display_data"
    }
   ],
   "source": [
    "trie = XCTrie.from_block(block)"
   ]
  },
  {
   "cell_type": "code",
   "execution_count": null,
   "metadata": {},
   "outputs": [],
   "source": [
    "learn.tbs.trie = trie"
   ]
  },
  {
   "cell_type": "markdown",
   "metadata": {},
   "source": [
    "### `roberta-base`"
   ]
  },
  {
   "cell_type": "code",
   "execution_count": null,
   "metadata": {},
   "outputs": [
    {
     "data": {
      "text/html": [],
      "text/plain": [
       "<IPython.core.display.HTML object>"
      ]
     },
     "metadata": {},
     "output_type": "display_data"
    },
    {
     "data": {
      "text/html": [
       "<div>\n",
       "<style scoped>\n",
       "    .dataframe tbody tr th:only-of-type {\n",
       "        vertical-align: middle;\n",
       "    }\n",
       "\n",
       "    .dataframe tbody tr th {\n",
       "        vertical-align: top;\n",
       "    }\n",
       "\n",
       "    .dataframe thead th {\n",
       "        text-align: right;\n",
       "    }\n",
       "</style>\n",
       "<table border=\"1\" class=\"dataframe\">\n",
       "  <thead>\n",
       "    <tr style=\"text-align: right;\">\n",
       "      <th></th>\n",
       "      <th>P@1</th>\n",
       "      <th>P@3</th>\n",
       "      <th>P@5</th>\n",
       "      <th>P@10</th>\n",
       "      <th>N@1</th>\n",
       "      <th>N@3</th>\n",
       "      <th>N@5</th>\n",
       "      <th>N@10</th>\n",
       "      <th>PSP@1</th>\n",
       "      <th>PSP@3</th>\n",
       "      <th>PSP@5</th>\n",
       "      <th>PSP@10</th>\n",
       "      <th>PSN@1</th>\n",
       "      <th>PSN@3</th>\n",
       "      <th>PSN@5</th>\n",
       "      <th>PSN@10</th>\n",
       "      <th>R@10</th>\n",
       "      <th>R@100</th>\n",
       "      <th>R@200</th>\n",
       "      <th>loss</th>\n",
       "      <th>runtime</th>\n",
       "      <th>samples_per_second</th>\n",
       "      <th>steps_per_second</th>\n",
       "    </tr>\n",
       "  </thead>\n",
       "  <tbody>\n",
       "    <tr>\n",
       "      <th>0</th>\n",
       "      <td>17.0</td>\n",
       "      <td>9.75</td>\n",
       "      <td>6.57</td>\n",
       "      <td>3.285</td>\n",
       "      <td>17.0</td>\n",
       "      <td>15.4143</td>\n",
       "      <td>15.2326</td>\n",
       "      <td>14.9327</td>\n",
       "      <td>11.0851</td>\n",
       "      <td>10.0787</td>\n",
       "      <td>9.5993</td>\n",
       "      <td>8.704</td>\n",
       "      <td>11.0851</td>\n",
       "      <td>11.0837</td>\n",
       "      <td>11.2432</td>\n",
       "      <td>11.177</td>\n",
       "      <td>15.11</td>\n",
       "      <td>15.11</td>\n",
       "      <td>15.11</td>\n",
       "      <td>17.7134</td>\n",
       "      <td>51.1166</td>\n",
       "      <td>39.126</td>\n",
       "      <td>0.313</td>\n",
       "    </tr>\n",
       "  </tbody>\n",
       "</table>\n",
       "</div>"
      ],
      "text/plain": [
       "    P@1   P@3   P@5   P@10   N@1      N@3      N@5     N@10    PSP@1    PSP@3  \\\n",
       "0  17.0  9.75  6.57  3.285  17.0  15.4143  15.2326  14.9327  11.0851  10.0787   \n",
       "\n",
       "    PSP@5  PSP@10    PSN@1    PSN@3    PSN@5  PSN@10   R@10  R@100  R@200  \\\n",
       "0  9.5993   8.704  11.0851  11.0837  11.2432  11.177  15.11  15.11  15.11   \n",
       "\n",
       "      loss  runtime  samples_per_second  steps_per_second  \n",
       "0  17.7134  51.1166              39.126             0.313  "
      ]
     },
     "metadata": {},
     "output_type": "display_data"
    }
   ],
   "source": [
    "o = learn.predict(test_dset)\n",
    "display_metric(o.metrics)"
   ]
  },
  {
   "cell_type": "code",
   "execution_count": null,
   "metadata": {},
   "outputs": [
    {
     "data": {
      "text/html": [],
      "text/plain": [
       "<IPython.core.display.HTML object>"
      ]
     },
     "metadata": {},
     "output_type": "display_data"
    },
    {
     "data": {
      "text/html": [
       "<div>\n",
       "<style scoped>\n",
       "    .dataframe tbody tr th:only-of-type {\n",
       "        vertical-align: middle;\n",
       "    }\n",
       "\n",
       "    .dataframe tbody tr th {\n",
       "        vertical-align: top;\n",
       "    }\n",
       "\n",
       "    .dataframe thead th {\n",
       "        text-align: right;\n",
       "    }\n",
       "</style>\n",
       "<table border=\"1\" class=\"dataframe\">\n",
       "  <thead>\n",
       "    <tr style=\"text-align: right;\">\n",
       "      <th></th>\n",
       "      <th>P@1</th>\n",
       "      <th>P@3</th>\n",
       "      <th>P@5</th>\n",
       "      <th>P@10</th>\n",
       "      <th>N@1</th>\n",
       "      <th>N@3</th>\n",
       "      <th>N@5</th>\n",
       "      <th>N@10</th>\n",
       "      <th>PSP@1</th>\n",
       "      <th>PSP@3</th>\n",
       "      <th>PSP@5</th>\n",
       "      <th>PSP@10</th>\n",
       "      <th>PSN@1</th>\n",
       "      <th>PSN@3</th>\n",
       "      <th>PSN@5</th>\n",
       "      <th>PSN@10</th>\n",
       "      <th>R@10</th>\n",
       "      <th>R@100</th>\n",
       "      <th>R@200</th>\n",
       "      <th>loss</th>\n",
       "      <th>runtime</th>\n",
       "      <th>samples_per_second</th>\n",
       "      <th>steps_per_second</th>\n",
       "    </tr>\n",
       "  </thead>\n",
       "  <tbody>\n",
       "    <tr>\n",
       "      <th>0</th>\n",
       "      <td>14.25</td>\n",
       "      <td>8.8167</td>\n",
       "      <td>6.37</td>\n",
       "      <td>3.185</td>\n",
       "      <td>14.25</td>\n",
       "      <td>13.9093</td>\n",
       "      <td>14.251</td>\n",
       "      <td>13.9665</td>\n",
       "      <td>8.907</td>\n",
       "      <td>8.9605</td>\n",
       "      <td>9.2579</td>\n",
       "      <td>8.3942</td>\n",
       "      <td>8.907</td>\n",
       "      <td>9.7857</td>\n",
       "      <td>10.3569</td>\n",
       "      <td>10.2906</td>\n",
       "      <td>14.8061</td>\n",
       "      <td>14.8061</td>\n",
       "      <td>14.8061</td>\n",
       "      <td>17.7134</td>\n",
       "      <td>50.4917</td>\n",
       "      <td>39.61</td>\n",
       "      <td>0.317</td>\n",
       "    </tr>\n",
       "  </tbody>\n",
       "</table>\n",
       "</div>"
      ],
      "text/plain": [
       "     P@1     P@3   P@5   P@10    N@1      N@3     N@5     N@10  PSP@1   PSP@3  \\\n",
       "0  14.25  8.8167  6.37  3.185  14.25  13.9093  14.251  13.9665  8.907  8.9605   \n",
       "\n",
       "    PSP@5  PSP@10  PSN@1   PSN@3    PSN@5   PSN@10     R@10    R@100    R@200  \\\n",
       "0  9.2579  8.3942  8.907  9.7857  10.3569  10.2906  14.8061  14.8061  14.8061   \n",
       "\n",
       "      loss  runtime  samples_per_second  steps_per_second  \n",
       "0  17.7134  50.4917               39.61             0.317  "
      ]
     },
     "metadata": {},
     "output_type": "display_data"
    }
   ],
   "source": [
    "o = learn.predict(test_dset)\n",
    "display_metric(o.metrics)"
   ]
  },
  {
   "cell_type": "markdown",
   "metadata": {},
   "source": [
    "## Trie augmentation"
   ]
  },
  {
   "cell_type": "code",
   "execution_count": null,
   "metadata": {},
   "outputs": [],
   "source": [
    "args = XCLearningArguments(\n",
    "    output_dir='/scratch/scai/phd/aiz218323/Projects/xc_nlg/outputs/default',\n",
    "    generation_num_beams=200,\n",
    "    generation_length_penalty=1.5,\n",
    "    per_device_eval_batch_size=64,\n",
    "    evaluation_strategy='steps',\n",
    "    label_names=['lbl2data_idx'],\n",
    ")"
   ]
  },
  {
   "cell_type": "code",
   "execution_count": null,
   "metadata": {},
   "outputs": [
    {
     "name": "stderr",
     "output_type": "stream",
     "text": [
      "Detected kernel version 3.10.0, which is below the recommended minimum of 5.5.0; this can cause the process to hang. It is recommended to upgrade the kernel to the minimum version or higher.\n"
     ]
    }
   ],
   "source": [
    "learn = XCLearner(\n",
    "    model=model, \n",
    "    args=args,\n",
    "    data_collator=block.collator, \n",
    "    compute_metrics=metric,\n",
    ")"
   ]
  },
  {
   "cell_type": "code",
   "execution_count": null,
   "metadata": {},
   "outputs": [
    {
     "data": {
      "application/vnd.jupyter.widget-view+json": {
       "model_id": "6d16a8d992bd49b6b24df353407f7613",
       "version_major": 2,
       "version_minor": 0
      },
      "text/plain": [
       "  0%|          | 0/312330 [00:00<?, ?it/s]"
      ]
     },
     "metadata": {},
     "output_type": "display_data"
    }
   ],
   "source": [
    "trie = XCTrie.from_block(block)\n",
    "learn.tbs.trie = trie"
   ]
  },
  {
   "cell_type": "code",
   "execution_count": null,
   "metadata": {},
   "outputs": [
    {
     "data": {
      "text/html": [
       "\n",
       "    <div>\n",
       "      \n",
       "      <progress value='30' max='16' style='width:300px; height:20px; vertical-align: middle;'></progress>\n",
       "      [16/16 1:03:54]\n",
       "    </div>\n",
       "    "
      ],
      "text/plain": [
       "<IPython.core.display.HTML object>"
      ]
     },
     "metadata": {},
     "output_type": "display_data"
    },
    {
     "name": "stderr",
     "output_type": "stream",
     "text": [
      "Failed to detect the name of this notebook, you can set it manually with the WANDB_NOTEBOOK_NAME environment variable to enable code saving.\n",
      "huggingface/tokenizers: The current process just got forked, after parallelism has already been used. Disabling parallelism to avoid deadlocks...\n",
      "To disable this warning, you can either:\n",
      "\t- Avoid using `tokenizers` before the fork if possible\n",
      "\t- Explicitly set the environment variable TOKENIZERS_PARALLELISM=(true | false)\n"
     ]
    },
    {
     "data": {
      "text/html": [
       "<div>\n",
       "<style scoped>\n",
       "    .dataframe tbody tr th:only-of-type {\n",
       "        vertical-align: middle;\n",
       "    }\n",
       "\n",
       "    .dataframe tbody tr th {\n",
       "        vertical-align: top;\n",
       "    }\n",
       "\n",
       "    .dataframe thead th {\n",
       "        text-align: right;\n",
       "    }\n",
       "</style>\n",
       "<table border=\"1\" class=\"dataframe\">\n",
       "  <thead>\n",
       "    <tr style=\"text-align: right;\">\n",
       "      <th></th>\n",
       "      <th>P@1</th>\n",
       "      <th>P@3</th>\n",
       "      <th>P@5</th>\n",
       "      <th>P@10</th>\n",
       "      <th>N@1</th>\n",
       "      <th>N@3</th>\n",
       "      <th>N@5</th>\n",
       "      <th>N@10</th>\n",
       "      <th>PSP@1</th>\n",
       "      <th>PSP@3</th>\n",
       "      <th>PSP@5</th>\n",
       "      <th>PSP@10</th>\n",
       "      <th>PSN@1</th>\n",
       "      <th>PSN@3</th>\n",
       "      <th>PSN@5</th>\n",
       "      <th>PSN@10</th>\n",
       "      <th>R@10</th>\n",
       "      <th>R@100</th>\n",
       "      <th>R@200</th>\n",
       "      <th>loss</th>\n",
       "      <th>runtime</th>\n",
       "      <th>samples_per_second</th>\n",
       "      <th>steps_per_second</th>\n",
       "    </tr>\n",
       "  </thead>\n",
       "  <tbody>\n",
       "    <tr>\n",
       "      <th>0</th>\n",
       "      <td>14.55</td>\n",
       "      <td>8.1667</td>\n",
       "      <td>5.68</td>\n",
       "      <td>3.435</td>\n",
       "      <td>14.55</td>\n",
       "      <td>13.2213</td>\n",
       "      <td>13.3973</td>\n",
       "      <td>14.2175</td>\n",
       "      <td>9.117</td>\n",
       "      <td>8.158</td>\n",
       "      <td>8.0412</td>\n",
       "      <td>8.9522</td>\n",
       "      <td>9.117</td>\n",
       "      <td>9.1901</td>\n",
       "      <td>9.596</td>\n",
       "      <td>10.3974</td>\n",
       "      <td>16.0702</td>\n",
       "      <td>23.6574</td>\n",
       "      <td>27.3446</td>\n",
       "      <td>17.7134</td>\n",
       "      <td>1624.731</td>\n",
       "      <td>1.231</td>\n",
       "      <td>0.01</td>\n",
       "    </tr>\n",
       "  </tbody>\n",
       "</table>\n",
       "</div>"
      ],
      "text/plain": [
       "     P@1     P@3   P@5   P@10    N@1      N@3      N@5     N@10  PSP@1  PSP@3  \\\n",
       "0  14.55  8.1667  5.68  3.435  14.55  13.2213  13.3973  14.2175  9.117  8.158   \n",
       "\n",
       "    PSP@5  PSP@10  PSN@1   PSN@3  PSN@5   PSN@10     R@10    R@100    R@200  \\\n",
       "0  8.0412  8.9522  9.117  9.1901  9.596  10.3974  16.0702  23.6574  27.3446   \n",
       "\n",
       "      loss   runtime  samples_per_second  steps_per_second  \n",
       "0  17.7134  1624.731               1.231              0.01  "
      ]
     },
     "metadata": {},
     "output_type": "display_data"
    }
   ],
   "source": [
    "metrics = learn.evaluate(test_dset)\n",
    "display_metric(metrics)"
   ]
  },
  {
   "cell_type": "code",
   "execution_count": null,
   "metadata": {},
   "outputs": [
    {
     "data": {
      "application/vnd.jupyter.widget-view+json": {
       "model_id": "12a079e24aea4d1d91200916775d8157",
       "version_major": 2,
       "version_minor": 0
      },
      "text/plain": [
       "  0%|          | 0/312330 [00:00<?, ?it/s]"
      ]
     },
     "metadata": {},
     "output_type": "display_data"
    },
    {
     "data": {
      "application/vnd.jupyter.widget-view+json": {
       "model_id": "d6b1b61ae951444b871a9240351b5e95",
       "version_major": 2,
       "version_minor": 0
      },
      "text/plain": [
       "  0%|          | 0/2458399 [00:00<?, ?it/s]"
      ]
     },
     "metadata": {},
     "output_type": "display_data"
    }
   ],
   "source": [
    "trie= XCTrie.from_block(block, meta=['hlk'])\n",
    "learn.tbs.trie = trie"
   ]
  },
  {
   "cell_type": "code",
   "execution_count": null,
   "metadata": {},
   "outputs": [],
   "source": [
    "learn.tbs.trie = trie\n",
    "learn.tbs.n_bm = 30\n",
    "learn.args.generation_num_beams = 30"
   ]
  },
  {
   "cell_type": "code",
   "execution_count": null,
   "metadata": {},
   "outputs": [
    {
     "data": {
      "text/html": [],
      "text/plain": [
       "<IPython.core.display.HTML object>"
      ]
     },
     "metadata": {},
     "output_type": "display_data"
    },
    {
     "data": {
      "text/html": [
       "<div>\n",
       "<style scoped>\n",
       "    .dataframe tbody tr th:only-of-type {\n",
       "        vertical-align: middle;\n",
       "    }\n",
       "\n",
       "    .dataframe tbody tr th {\n",
       "        vertical-align: top;\n",
       "    }\n",
       "\n",
       "    .dataframe thead th {\n",
       "        text-align: right;\n",
       "    }\n",
       "</style>\n",
       "<table border=\"1\" class=\"dataframe\">\n",
       "  <thead>\n",
       "    <tr style=\"text-align: right;\">\n",
       "      <th></th>\n",
       "      <th>P@1</th>\n",
       "      <th>P@3</th>\n",
       "      <th>P@5</th>\n",
       "      <th>P@10</th>\n",
       "      <th>N@1</th>\n",
       "      <th>N@3</th>\n",
       "      <th>N@5</th>\n",
       "      <th>N@10</th>\n",
       "      <th>PSP@1</th>\n",
       "      <th>PSP@3</th>\n",
       "      <th>PSP@5</th>\n",
       "      <th>PSP@10</th>\n",
       "      <th>PSN@1</th>\n",
       "      <th>PSN@3</th>\n",
       "      <th>PSN@5</th>\n",
       "      <th>PSN@10</th>\n",
       "      <th>R@10</th>\n",
       "      <th>R@100</th>\n",
       "      <th>R@200</th>\n",
       "      <th>loss</th>\n",
       "      <th>runtime</th>\n",
       "      <th>samples_per_second</th>\n",
       "      <th>steps_per_second</th>\n",
       "    </tr>\n",
       "  </thead>\n",
       "  <tbody>\n",
       "    <tr>\n",
       "      <th>0</th>\n",
       "      <td>7.75</td>\n",
       "      <td>4.3667</td>\n",
       "      <td>3.13</td>\n",
       "      <td>1.94</td>\n",
       "      <td>7.75</td>\n",
       "      <td>7.3079</td>\n",
       "      <td>7.5596</td>\n",
       "      <td>8.1686</td>\n",
       "      <td>5.2484</td>\n",
       "      <td>4.9572</td>\n",
       "      <td>4.9311</td>\n",
       "      <td>5.4388</td>\n",
       "      <td>5.2484</td>\n",
       "      <td>5.4932</td>\n",
       "      <td>5.732</td>\n",
       "      <td>6.2214</td>\n",
       "      <td>9.8002</td>\n",
       "      <td>17.9712</td>\n",
       "      <td>21.1916</td>\n",
       "      <td>17.7134</td>\n",
       "      <td>1628.4336</td>\n",
       "      <td>1.228</td>\n",
       "      <td>0.01</td>\n",
       "    </tr>\n",
       "  </tbody>\n",
       "</table>\n",
       "</div>"
      ],
      "text/plain": [
       "    P@1     P@3   P@5  P@10   N@1     N@3     N@5    N@10   PSP@1   PSP@3  \\\n",
       "0  7.75  4.3667  3.13  1.94  7.75  7.3079  7.5596  8.1686  5.2484  4.9572   \n",
       "\n",
       "    PSP@5  PSP@10   PSN@1   PSN@3  PSN@5  PSN@10    R@10    R@100    R@200  \\\n",
       "0  4.9311  5.4388  5.2484  5.4932  5.732  6.2214  9.8002  17.9712  21.1916   \n",
       "\n",
       "      loss    runtime  samples_per_second  steps_per_second  \n",
       "0  17.7134  1628.4336               1.228              0.01  "
      ]
     },
     "metadata": {},
     "output_type": "display_data"
    }
   ],
   "source": [
    "o = learn.predict(test_dset)\n",
    "display_metric(o.metrics)"
   ]
  },
  {
   "cell_type": "code",
   "execution_count": null,
   "metadata": {},
   "outputs": [],
   "source": [
    "learn.tbs.n_bm = 10\n",
    "learn.args.generation_num_beams = 10"
   ]
  },
  {
   "cell_type": "code",
   "execution_count": null,
   "metadata": {},
   "outputs": [
    {
     "data": {
      "text/html": [],
      "text/plain": [
       "<IPython.core.display.HTML object>"
      ]
     },
     "metadata": {},
     "output_type": "display_data"
    },
    {
     "data": {
      "text/html": [
       "<div>\n",
       "<style scoped>\n",
       "    .dataframe tbody tr th:only-of-type {\n",
       "        vertical-align: middle;\n",
       "    }\n",
       "\n",
       "    .dataframe tbody tr th {\n",
       "        vertical-align: top;\n",
       "    }\n",
       "\n",
       "    .dataframe thead th {\n",
       "        text-align: right;\n",
       "    }\n",
       "</style>\n",
       "<table border=\"1\" class=\"dataframe\">\n",
       "  <thead>\n",
       "    <tr style=\"text-align: right;\">\n",
       "      <th></th>\n",
       "      <th>P@1</th>\n",
       "      <th>P@3</th>\n",
       "      <th>P@5</th>\n",
       "      <th>P@10</th>\n",
       "      <th>N@1</th>\n",
       "      <th>N@3</th>\n",
       "      <th>N@5</th>\n",
       "      <th>N@10</th>\n",
       "      <th>PSP@1</th>\n",
       "      <th>PSP@3</th>\n",
       "      <th>PSP@5</th>\n",
       "      <th>PSP@10</th>\n",
       "      <th>PSN@1</th>\n",
       "      <th>PSN@3</th>\n",
       "      <th>PSN@5</th>\n",
       "      <th>PSN@10</th>\n",
       "      <th>R@10</th>\n",
       "      <th>R@100</th>\n",
       "      <th>R@200</th>\n",
       "      <th>loss</th>\n",
       "      <th>runtime</th>\n",
       "      <th>samples_per_second</th>\n",
       "      <th>steps_per_second</th>\n",
       "    </tr>\n",
       "  </thead>\n",
       "  <tbody>\n",
       "    <tr>\n",
       "      <th>0</th>\n",
       "      <td>8.45</td>\n",
       "      <td>4.7</td>\n",
       "      <td>3.46</td>\n",
       "      <td>2.225</td>\n",
       "      <td>8.45</td>\n",
       "      <td>8.0573</td>\n",
       "      <td>8.4391</td>\n",
       "      <td>9.1355</td>\n",
       "      <td>5.6088</td>\n",
       "      <td>5.1432</td>\n",
       "      <td>5.3652</td>\n",
       "      <td>6.253</td>\n",
       "      <td>5.6088</td>\n",
       "      <td>5.8519</td>\n",
       "      <td>6.2406</td>\n",
       "      <td>6.8491</td>\n",
       "      <td>11.0407</td>\n",
       "      <td>18.3343</td>\n",
       "      <td>20.1675</td>\n",
       "      <td>17.7134</td>\n",
       "      <td>128.889</td>\n",
       "      <td>15.517</td>\n",
       "      <td>0.124</td>\n",
       "    </tr>\n",
       "  </tbody>\n",
       "</table>\n",
       "</div>"
      ],
      "text/plain": [
       "    P@1  P@3   P@5   P@10   N@1     N@3     N@5    N@10   PSP@1   PSP@3  \\\n",
       "0  8.45  4.7  3.46  2.225  8.45  8.0573  8.4391  9.1355  5.6088  5.1432   \n",
       "\n",
       "    PSP@5  PSP@10   PSN@1   PSN@3   PSN@5  PSN@10     R@10    R@100    R@200  \\\n",
       "0  5.3652   6.253  5.6088  5.8519  6.2406  6.8491  11.0407  18.3343  20.1675   \n",
       "\n",
       "      loss  runtime  samples_per_second  steps_per_second  \n",
       "0  17.7134  128.889              15.517             0.124  "
      ]
     },
     "metadata": {},
     "output_type": "display_data"
    }
   ],
   "source": [
    "o = learn.predict(test_dset)\n",
    "display_metric(o.metrics)"
   ]
  },
  {
   "cell_type": "code",
   "execution_count": null,
   "metadata": {},
   "outputs": [],
   "source": [
    "learn.tbs.n_bm = 20\n",
    "learn.args.generation_num_beams = 20"
   ]
  },
  {
   "cell_type": "code",
   "execution_count": null,
   "metadata": {},
   "outputs": [
    {
     "data": {
      "text/html": [],
      "text/plain": [
       "<IPython.core.display.HTML object>"
      ]
     },
     "metadata": {},
     "output_type": "display_data"
    },
    {
     "data": {
      "text/html": [
       "<div>\n",
       "<style scoped>\n",
       "    .dataframe tbody tr th:only-of-type {\n",
       "        vertical-align: middle;\n",
       "    }\n",
       "\n",
       "    .dataframe tbody tr th {\n",
       "        vertical-align: top;\n",
       "    }\n",
       "\n",
       "    .dataframe thead th {\n",
       "        text-align: right;\n",
       "    }\n",
       "</style>\n",
       "<table border=\"1\" class=\"dataframe\">\n",
       "  <thead>\n",
       "    <tr style=\"text-align: right;\">\n",
       "      <th></th>\n",
       "      <th>P@1</th>\n",
       "      <th>P@3</th>\n",
       "      <th>P@5</th>\n",
       "      <th>P@10</th>\n",
       "      <th>N@1</th>\n",
       "      <th>N@3</th>\n",
       "      <th>N@5</th>\n",
       "      <th>N@10</th>\n",
       "      <th>PSP@1</th>\n",
       "      <th>PSP@3</th>\n",
       "      <th>PSP@5</th>\n",
       "      <th>PSP@10</th>\n",
       "      <th>PSN@1</th>\n",
       "      <th>PSN@3</th>\n",
       "      <th>PSN@5</th>\n",
       "      <th>PSN@10</th>\n",
       "      <th>R@10</th>\n",
       "      <th>R@100</th>\n",
       "      <th>R@200</th>\n",
       "      <th>loss</th>\n",
       "      <th>runtime</th>\n",
       "      <th>samples_per_second</th>\n",
       "      <th>steps_per_second</th>\n",
       "    </tr>\n",
       "  </thead>\n",
       "  <tbody>\n",
       "    <tr>\n",
       "      <th>0</th>\n",
       "      <td>8.25</td>\n",
       "      <td>4.4</td>\n",
       "      <td>3.2</td>\n",
       "      <td>2.055</td>\n",
       "      <td>8.25</td>\n",
       "      <td>7.5829</td>\n",
       "      <td>7.8761</td>\n",
       "      <td>8.565</td>\n",
       "      <td>5.772</td>\n",
       "      <td>4.9317</td>\n",
       "      <td>5.008</td>\n",
       "      <td>5.8421</td>\n",
       "      <td>5.772</td>\n",
       "      <td>5.7204</td>\n",
       "      <td>6.0027</td>\n",
       "      <td>6.5879</td>\n",
       "      <td>10.301</td>\n",
       "      <td>18.3349</td>\n",
       "      <td>21.2567</td>\n",
       "      <td>17.7134</td>\n",
       "      <td>273.7713</td>\n",
       "      <td>7.305</td>\n",
       "      <td>0.058</td>\n",
       "    </tr>\n",
       "  </tbody>\n",
       "</table>\n",
       "</div>"
      ],
      "text/plain": [
       "    P@1  P@3  P@5   P@10   N@1     N@3     N@5   N@10  PSP@1   PSP@3  PSP@5  \\\n",
       "0  8.25  4.4  3.2  2.055  8.25  7.5829  7.8761  8.565  5.772  4.9317  5.008   \n",
       "\n",
       "   PSP@10  PSN@1   PSN@3   PSN@5  PSN@10    R@10    R@100    R@200     loss  \\\n",
       "0  5.8421  5.772  5.7204  6.0027  6.5879  10.301  18.3349  21.2567  17.7134   \n",
       "\n",
       "    runtime  samples_per_second  steps_per_second  \n",
       "0  273.7713               7.305             0.058  "
      ]
     },
     "metadata": {},
     "output_type": "display_data"
    }
   ],
   "source": [
    "o = learn.predict(test_dset)\n",
    "display_metric(o.metrics)"
   ]
  },
  {
   "cell_type": "markdown",
   "metadata": {},
   "source": [
    "## Zero shot"
   ]
  },
  {
   "cell_type": "code",
   "execution_count": null,
   "metadata": {},
   "outputs": [],
   "source": [
    "block = XCBlock.from_cfg('data', valid_pct=0.001, tokz='bert-base-uncased')"
   ]
  },
  {
   "cell_type": "code",
   "execution_count": null,
   "metadata": {},
   "outputs": [],
   "source": [
    "args = XCLearningArguments(\n",
    "    output_dir='/scratch/scai/phd/aiz218323/Projects/xc_nlg/outputs/default',\n",
    "    generation_length_penalty=1.5,\n",
    "    per_device_eval_batch_size=64,\n",
    "    evaluation_strategy='steps',\n",
    "    label_names=['lbl2data_idx'],\n",
    ")"
   ]
  },
  {
   "cell_type": "code",
   "execution_count": null,
   "metadata": {},
   "outputs": [
    {
     "name": "stderr",
     "output_type": "stream",
     "text": [
      "If you want to use `BertLMHeadModel` as a standalone, add `is_decoder=True.`\n",
      "Some weights of BT0002 were not initialized from the model checkpoint at bert-base-uncased and are newly initialized: ['loss_fn.o']\n",
      "You should probably TRAIN this model on a down-stream task to be able to use it for predictions and inference.\n"
     ]
    }
   ],
   "source": [
    "model = BT0002.from_pretrained('bert-base-uncased', tn_targ=10_000, ig_tok=0)"
   ]
  },
  {
   "cell_type": "code",
   "execution_count": null,
   "metadata": {},
   "outputs": [],
   "source": [
    "test_dset = block.test.dset.sample(n=2000, seed=50)"
   ]
  },
  {
   "cell_type": "code",
   "execution_count": null,
   "metadata": {},
   "outputs": [],
   "source": [
    "metric = PrecRecl(test_dset.n_lbl, test_dset.data.data_lbl_filterer, prop=block.train.dset.data.data_lbl,\n",
    "                  pk=10, rk=200, rep_pk=[1, 3, 5, 10], rep_rk=[10, 100, 200])"
   ]
  },
  {
   "cell_type": "code",
   "execution_count": null,
   "metadata": {},
   "outputs": [
    {
     "data": {
      "application/vnd.jupyter.widget-view+json": {
       "model_id": "a72354a0f05041d3818bfa461ce9d697",
       "version_major": 2,
       "version_minor": 0
      },
      "text/plain": [
       "  0%|          | 0/312330 [00:00<?, ?it/s]"
      ]
     },
     "metadata": {},
     "output_type": "display_data"
    }
   ],
   "source": [
    "trie = XCTrie.from_block(block)"
   ]
  },
  {
   "cell_type": "code",
   "execution_count": null,
   "metadata": {},
   "outputs": [
    {
     "name": "stderr",
     "output_type": "stream",
     "text": [
      "Detected kernel version 3.10.0, which is below the recommended minimum of 5.5.0; this can cause the process to hang. It is recommended to upgrade the kernel to the minimum version or higher.\n",
      "huggingface/tokenizers: The current process just got forked, after parallelism has already been used. Disabling parallelism to avoid deadlocks...\n",
      "To disable this warning, you can either:\n",
      "\t- Avoid using `tokenizers` before the fork if possible\n",
      "\t- Explicitly set the environment variable TOKENIZERS_PARALLELISM=(true | false)\n",
      "huggingface/tokenizers: The current process just got forked, after parallelism has already been used. Disabling parallelism to avoid deadlocks...\n",
      "To disable this warning, you can either:\n",
      "\t- Avoid using `tokenizers` before the fork if possible\n",
      "\t- Explicitly set the environment variable TOKENIZERS_PARALLELISM=(true | false)\n",
      "huggingface/tokenizers: The current process just got forked, after parallelism has already been used. Disabling parallelism to avoid deadlocks...\n",
      "To disable this warning, you can either:\n",
      "\t- Avoid using `tokenizers` before the fork if possible\n",
      "\t- Explicitly set the environment variable TOKENIZERS_PARALLELISM=(true | false)\n"
     ]
    }
   ],
   "source": [
    "learn = XCLearner(\n",
    "    model=model, \n",
    "    args=args,\n",
    "    trie=trie,\n",
    "    data_collator=block.collator, \n",
    "    compute_metrics=metric,\n",
    ")"
   ]
  },
  {
   "cell_type": "code",
   "execution_count": null,
   "metadata": {},
   "outputs": [
    {
     "data": {
      "text/html": [],
      "text/plain": [
       "<IPython.core.display.HTML object>"
      ]
     },
     "metadata": {},
     "output_type": "display_data"
    },
    {
     "data": {
      "text/html": [
       "<div>\n",
       "<style scoped>\n",
       "    .dataframe tbody tr th:only-of-type {\n",
       "        vertical-align: middle;\n",
       "    }\n",
       "\n",
       "    .dataframe tbody tr th {\n",
       "        vertical-align: top;\n",
       "    }\n",
       "\n",
       "    .dataframe thead th {\n",
       "        text-align: right;\n",
       "    }\n",
       "</style>\n",
       "<table border=\"1\" class=\"dataframe\">\n",
       "  <thead>\n",
       "    <tr style=\"text-align: right;\">\n",
       "      <th></th>\n",
       "      <th>P@1</th>\n",
       "      <th>P@3</th>\n",
       "      <th>P@5</th>\n",
       "      <th>P@10</th>\n",
       "      <th>N@1</th>\n",
       "      <th>N@3</th>\n",
       "      <th>N@5</th>\n",
       "      <th>N@10</th>\n",
       "      <th>PSP@1</th>\n",
       "      <th>PSP@3</th>\n",
       "      <th>PSP@5</th>\n",
       "      <th>PSP@10</th>\n",
       "      <th>PSN@1</th>\n",
       "      <th>PSN@3</th>\n",
       "      <th>PSN@5</th>\n",
       "      <th>PSN@10</th>\n",
       "      <th>R@10</th>\n",
       "      <th>R@100</th>\n",
       "      <th>R@200</th>\n",
       "      <th>loss</th>\n",
       "      <th>runtime</th>\n",
       "      <th>samples_per_second</th>\n",
       "      <th>steps_per_second</th>\n",
       "    </tr>\n",
       "  </thead>\n",
       "  <tbody>\n",
       "    <tr>\n",
       "      <th>0</th>\n",
       "      <td>3.85</td>\n",
       "      <td>2.35</td>\n",
       "      <td>1.8</td>\n",
       "      <td>0.905</td>\n",
       "      <td>3.85</td>\n",
       "      <td>3.6577</td>\n",
       "      <td>3.8229</td>\n",
       "      <td>3.7607</td>\n",
       "      <td>4.0204</td>\n",
       "      <td>3.8023</td>\n",
       "      <td>4.0358</td>\n",
       "      <td>3.6699</td>\n",
       "      <td>4.0204</td>\n",
       "      <td>4.1757</td>\n",
       "      <td>4.419</td>\n",
       "      <td>4.4</td>\n",
       "      <td>4.123</td>\n",
       "      <td>4.123</td>\n",
       "      <td>4.123</td>\n",
       "      <td>15.7025</td>\n",
       "      <td>109.7217</td>\n",
       "      <td>18.228</td>\n",
       "      <td>0.146</td>\n",
       "    </tr>\n",
       "  </tbody>\n",
       "</table>\n",
       "</div>"
      ],
      "text/plain": [
       "    P@1   P@3  P@5   P@10   N@1     N@3     N@5    N@10   PSP@1   PSP@3  \\\n",
       "0  3.85  2.35  1.8  0.905  3.85  3.6577  3.8229  3.7607  4.0204  3.8023   \n",
       "\n",
       "    PSP@5  PSP@10   PSN@1   PSN@3  PSN@5  PSN@10   R@10  R@100  R@200  \\\n",
       "0  4.0358  3.6699  4.0204  4.1757  4.419     4.4  4.123  4.123  4.123   \n",
       "\n",
       "      loss   runtime  samples_per_second  steps_per_second  \n",
       "0  15.7025  109.7217              18.228             0.146  "
      ]
     },
     "metadata": {},
     "output_type": "display_data"
    }
   ],
   "source": [
    "o = learn.predict(test_dset)\n",
    "display_metric(o.metrics)"
   ]
  },
  {
   "cell_type": "code",
   "execution_count": null,
   "metadata": {},
   "outputs": [],
   "source": []
  },
  {
   "cell_type": "code",
   "execution_count": null,
   "metadata": {},
   "outputs": [],
   "source": []
  },
  {
   "cell_type": "code",
   "execution_count": null,
   "metadata": {},
   "outputs": [],
   "source": []
  }
 ],
 "metadata": {
  "kernelspec": {
   "display_name": "python3",
   "language": "python",
   "name": "python3"
  }
 },
 "nbformat": 4,
 "nbformat_minor": 4
}
