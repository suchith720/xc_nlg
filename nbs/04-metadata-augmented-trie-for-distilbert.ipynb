{
 "cells": [
  {
   "cell_type": "code",
   "execution_count": null,
   "id": "d6e18985-f27c-4001-99e6-fb2929f173d9",
   "metadata": {},
   "outputs": [],
   "source": [
    "#| default_exp 04-metadata-augmented-trie-for-distilbert"
   ]
  },
  {
   "cell_type": "code",
   "execution_count": null,
   "id": "4a6790b0-1931-4a3f-a15c-19e27863087c",
   "metadata": {},
   "outputs": [],
   "source": [
    "%load_ext autoreload\n",
    "%autoreload 2"
   ]
  },
  {
   "cell_type": "code",
   "execution_count": null,
   "id": "a78c0853-f45e-4445-8968-8396896eab85",
   "metadata": {},
   "outputs": [
    {
     "name": "stderr",
     "output_type": "stream",
     "text": [
      "comet_ml is installed but `COMET_API_KEY` is not set.\n"
     ]
    }
   ],
   "source": [
    "#| export\n",
    "import os, pandas as pd, warnings, torch\n",
    "from tqdm.auto import tqdm\n",
    "from scipy import stats\n",
    "\n",
    "from xcai.basics import *\n",
    "from xcai.models.MMM00X import DBT007, DBT008"
   ]
  },
  {
   "cell_type": "code",
   "execution_count": null,
   "id": "7694e4d1-f5f5-4c60-b95f-f6bef6f7ee22",
   "metadata": {},
   "outputs": [],
   "source": [
    "#| export\n",
    "os.environ['WANDB_MODE'] = 'disabled'"
   ]
  },
  {
   "cell_type": "code",
   "execution_count": null,
   "id": "438bf12d-5c99-40a9-9c14-f7f02a6c9c7a",
   "metadata": {},
   "outputs": [
    {
     "name": "stderr",
     "output_type": "stream",
     "text": [
      "/home/scai/phd/aiz218323/.local/lib/python3.9/site-packages/xclib-0.97-py3.9-linux-x86_64.egg/xclib/data/data_utils.py:263: UserWarning: Header mis-match from inferred shape!\n",
      "  warnings.warn(\"Header mis-match from inferred shape!\")\n",
      "/scratch/scai/phd/aiz218323/anaconda3/envs/xc_nlg/lib/python3.9/site-packages/scipy/sparse/_index.py:145: SparseEfficiencyWarning: Changing the sparsity structure of a csr_matrix is expensive. lil_matrix is more efficient.\n",
      "  self._set_arrayXarray(i, j, x)\n"
     ]
    }
   ],
   "source": [
    "#| export\n",
    "block = XCBlock.from_cfg('data_meta', valid_pct=0.001, tokz='distilbert-base-uncased')"
   ]
  },
  {
   "cell_type": "code",
   "execution_count": null,
   "id": "2422fc4d-5909-459e-8609-31ce3c1bdec4",
   "metadata": {},
   "outputs": [],
   "source": [
    "test_dset = block.test.dset.sample(n=2000, seed=50)"
   ]
  },
  {
   "cell_type": "markdown",
   "id": "2710a1a2-4719-409c-9f40-c04d8f29ded5",
   "metadata": {},
   "source": [
    "# Generation"
   ]
  },
  {
   "cell_type": "code",
   "execution_count": null,
   "id": "43307f70-4ab5-4b10-9c24-c3bd7c27cc15",
   "metadata": {},
   "outputs": [
    {
     "name": "stderr",
     "output_type": "stream",
     "text": [
      "Some weights of DBT007 were not initialized from the model checkpoint at /scratch/scai/phd/aiz218323/Projects/xc_nlg/outputs/04-metadata-augmented-trie-for-distilbert/distilbert-base-uncased_RB33-NAR-1+8-2_(mapped)LF-WikiSeeAlsoTitles-320K/checkpoint-168000 and are newly initialized: ['loss_fn.o']\n",
      "You should probably TRAIN this model on a down-stream task to be able to use it for predictions and inference.\n"
     ]
    }
   ],
   "source": [
    "#| export\n",
    "mname = '/scratch/scai/phd/aiz218323/Projects/xc_nlg/outputs/04-metadata-augmented-trie-for-distilbert/distilbert-base-uncased_RB33-NAR-1+8-2_(mapped)LF-WikiSeeAlsoTitles-320K/checkpoint-168000'\n",
    "model = DBT007.from_pretrained(mname, tn_targ=10_000, ig_tok=0)"
   ]
  },
  {
   "cell_type": "code",
   "execution_count": null,
   "id": "ff590378-466d-48e0-8787-6d9318301fd6",
   "metadata": {},
   "outputs": [],
   "source": [
    "#| export\n",
    "args = XCLearningArguments(\n",
    "    output_dir='/scratch/scai/phd/aiz218323/Projects/xc_nlg/outputs/04-metadata-augmented-trie-for-distilbert/distilbert-base-uncased_RB33-NAR-1+8-2_(mapped)LF-WikiSeeAlsoTitles-320K',\n",
    "    generation_length_penalty=1.5,\n",
    "    per_device_eval_batch_size=64,\n",
    "    evaluation_strategy='steps',\n",
    "    label_names=['lbl2data_idx'],\n",
    ")"
   ]
  },
  {
   "cell_type": "code",
   "execution_count": null,
   "id": "be4cd9aa-91f1-48f8-a188-b33e6810dd92",
   "metadata": {},
   "outputs": [],
   "source": [
    "metric = PrecRecl(test_dset.n_lbl, test_dset.data.data_lbl_filterer, prop=block.train.dset.data.data_lbl,\n",
    "                  pk=10, rk=200, rep_pk=[1, 3, 5, 10], rep_rk=[2, 3, 10, 50, 100, 200])"
   ]
  },
  {
   "cell_type": "code",
   "execution_count": null,
   "id": "44c09802-1869-4f4d-af21-11bd313f0bd7",
   "metadata": {},
   "outputs": [],
   "source": [
    "#| export\n",
    "metric = PrecRecl(block.n_lbl, block.test.data_lbl_filterer, prop=block.train.dset.data.data_lbl,\n",
    "                  pk=10, rk=200, rep_pk=[1, 3, 5, 10], rep_rk=[2, 3, 10, 50, 100, 200])"
   ]
  },
  {
   "cell_type": "code",
   "execution_count": null,
   "id": "24a1e37b-0e83-49a3-8a15-ceb09680d87c",
   "metadata": {},
   "outputs": [
    {
     "name": "stderr",
     "output_type": "stream",
     "text": [
      "/scratch/scai/phd/aiz218323/anaconda3/envs/xc_nlg/lib/python3.9/site-packages/accelerate/accelerator.py:432: FutureWarning: Passing the following arguments to `Accelerator` is deprecated and will be removed in version 1.0 of Accelerate: dict_keys(['dispatch_batches', 'split_batches', 'even_batches', 'use_seedable_sampler']). Please pass an `accelerate.DataLoaderConfiguration` instead: \n",
      "dataloader_config = DataLoaderConfiguration(dispatch_batches=None, split_batches=False, even_batches=True, use_seedable_sampler=True)\n",
      "  warnings.warn(\n",
      "Detected kernel version 3.10.0, which is below the recommended minimum of 5.5.0; this can cause the process to hang. It is recommended to upgrade the kernel to the minimum version or higher.\n",
      "huggingface/tokenizers: The current process just got forked, after parallelism has already been used. Disabling parallelism to avoid deadlocks...\n",
      "To disable this warning, you can either:\n",
      "\t- Avoid using `tokenizers` before the fork if possible\n",
      "\t- Explicitly set the environment variable TOKENIZERS_PARALLELISM=(true | false)\n",
      "huggingface/tokenizers: The current process just got forked, after parallelism has already been used. Disabling parallelism to avoid deadlocks...\n",
      "To disable this warning, you can either:\n",
      "\t- Avoid using `tokenizers` before the fork if possible\n",
      "\t- Explicitly set the environment variable TOKENIZERS_PARALLELISM=(true | false)\n",
      "huggingface/tokenizers: The current process just got forked, after parallelism has already been used. Disabling parallelism to avoid deadlocks...\n",
      "To disable this warning, you can either:\n",
      "\t- Avoid using `tokenizers` before the fork if possible\n",
      "\t- Explicitly set the environment variable TOKENIZERS_PARALLELISM=(true | false)\n"
     ]
    }
   ],
   "source": [
    "#| export\n",
    "learn = XCLearner(\n",
    "    model=model, \n",
    "    args=args,\n",
    "    data_collator=block.collator, \n",
    "    compute_metrics=metric,\n",
    ")"
   ]
  },
  {
   "cell_type": "markdown",
   "id": "b27fe184-9f29-41c9-9658-b7f2defb2243",
   "metadata": {},
   "source": [
    "## `trie`"
   ]
  },
  {
   "cell_type": "code",
   "execution_count": null,
   "id": "bd0d51b4-aadc-4424-bcf0-42889ef8b48a",
   "metadata": {},
   "outputs": [
    {
     "data": {
      "application/vnd.jupyter.widget-view+json": {
       "model_id": "0cc0fac07bbe4543beda338af5e7e61f",
       "version_major": 2,
       "version_minor": 0
      },
      "text/plain": [
       "  0%|          | 0/312330 [00:00<?, ?it/s]"
      ]
     },
     "metadata": {},
     "output_type": "display_data"
    }
   ],
   "source": [
    "trie = XCTrie.from_block(block)"
   ]
  },
  {
   "cell_type": "code",
   "execution_count": null,
   "id": "a711f68e-9dfe-4bae-a42f-67dc3e202100",
   "metadata": {},
   "outputs": [],
   "source": [
    "learn.tbs.trie = trie"
   ]
  },
  {
   "cell_type": "code",
   "execution_count": null,
   "id": "e92d3e05-1216-4e91-8e03-c2e22252eb82",
   "metadata": {},
   "outputs": [],
   "source": [
    "# learn.tbs.n_bm = learn.args.generation_num_beams = 10\n",
    "learn.tbs.n_bm = learn.args.generation_num_beams = 200"
   ]
  },
  {
   "cell_type": "code",
   "execution_count": null,
   "id": "da3e9b41-209e-496b-a1c4-048576ede462",
   "metadata": {},
   "outputs": [
    {
     "name": "stderr",
     "output_type": "stream",
     "text": [
      "/scratch/scai/phd/aiz218323/anaconda3/envs/xc_nlg/lib/python3.9/site-packages/torch/nn/parallel/_functions.py:68: UserWarning: Was asked to gather along dimension 0, but all input tensors were scalars; will instead unsqueeze and return a vector.\n",
      "  warnings.warn('Was asked to gather along dimension 0, but all '\n"
     ]
    },
    {
     "data": {
      "text/html": [],
      "text/plain": [
       "<IPython.core.display.HTML object>"
      ]
     },
     "metadata": {},
     "output_type": "display_data"
    },
    {
     "name": "stderr",
     "output_type": "stream",
     "text": [
      "/scratch/scai/phd/aiz218323/anaconda3/envs/xc_nlg/lib/python3.9/site-packages/scipy/sparse/_index.py:145: SparseEfficiencyWarning: Changing the sparsity structure of a csr_matrix is expensive. lil_matrix is more efficient.\n",
      "  self._set_arrayXarray(i, j, x)\n"
     ]
    },
    {
     "data": {
      "text/html": [
       "<div>\n",
       "<style scoped>\n",
       "    .dataframe tbody tr th:only-of-type {\n",
       "        vertical-align: middle;\n",
       "    }\n",
       "\n",
       "    .dataframe tbody tr th {\n",
       "        vertical-align: top;\n",
       "    }\n",
       "\n",
       "    .dataframe thead th {\n",
       "        text-align: right;\n",
       "    }\n",
       "</style>\n",
       "<table border=\"1\" class=\"dataframe\">\n",
       "  <thead>\n",
       "    <tr style=\"text-align: right;\">\n",
       "      <th></th>\n",
       "      <th>P@1</th>\n",
       "      <th>P@3</th>\n",
       "      <th>P@5</th>\n",
       "      <th>P@10</th>\n",
       "      <th>N@1</th>\n",
       "      <th>N@3</th>\n",
       "      <th>N@5</th>\n",
       "      <th>N@10</th>\n",
       "      <th>PSP@1</th>\n",
       "      <th>PSP@3</th>\n",
       "      <th>PSP@5</th>\n",
       "      <th>PSP@10</th>\n",
       "      <th>PSN@1</th>\n",
       "      <th>PSN@3</th>\n",
       "      <th>PSN@5</th>\n",
       "      <th>PSN@10</th>\n",
       "      <th>R@2</th>\n",
       "      <th>R@3</th>\n",
       "      <th>R@10</th>\n",
       "      <th>R@50</th>\n",
       "      <th>R@100</th>\n",
       "      <th>R@200</th>\n",
       "      <th>loss</th>\n",
       "      <th>runtime</th>\n",
       "      <th>samples_per_second</th>\n",
       "      <th>steps_per_second</th>\n",
       "    </tr>\n",
       "  </thead>\n",
       "  <tbody>\n",
       "    <tr>\n",
       "      <th>0</th>\n",
       "      <td>14.75</td>\n",
       "      <td>9.4167</td>\n",
       "      <td>7.02</td>\n",
       "      <td>4.315</td>\n",
       "      <td>14.75</td>\n",
       "      <td>14.0973</td>\n",
       "      <td>14.4223</td>\n",
       "      <td>15.32</td>\n",
       "      <td>9.5034</td>\n",
       "      <td>9.823</td>\n",
       "      <td>10.5744</td>\n",
       "      <td>11.8374</td>\n",
       "      <td>9.5034</td>\n",
       "      <td>10.0717</td>\n",
       "      <td>10.6902</td>\n",
       "      <td>11.553</td>\n",
       "      <td>11.0962</td>\n",
       "      <td>12.5705</td>\n",
       "      <td>17.4861</td>\n",
       "      <td>17.7099</td>\n",
       "      <td>17.7099</td>\n",
       "      <td>17.7099</td>\n",
       "      <td>7.9235</td>\n",
       "      <td>320.0781</td>\n",
       "      <td>6.248</td>\n",
       "      <td>0.05</td>\n",
       "    </tr>\n",
       "  </tbody>\n",
       "</table>\n",
       "</div>"
      ],
      "text/plain": [
       "     P@1     P@3   P@5   P@10    N@1      N@3      N@5   N@10   PSP@1  PSP@3  \\\n",
       "0  14.75  9.4167  7.02  4.315  14.75  14.0973  14.4223  15.32  9.5034  9.823   \n",
       "\n",
       "     PSP@5   PSP@10   PSN@1    PSN@3    PSN@5  PSN@10      R@2      R@3  \\\n",
       "0  10.5744  11.8374  9.5034  10.0717  10.6902  11.553  11.0962  12.5705   \n",
       "\n",
       "      R@10     R@50    R@100    R@200    loss   runtime  samples_per_second  \\\n",
       "0  17.4861  17.7099  17.7099  17.7099  7.9235  320.0781               6.248   \n",
       "\n",
       "   steps_per_second  \n",
       "0              0.05  "
      ]
     },
     "metadata": {},
     "output_type": "display_data"
    }
   ],
   "source": [
    "o = learn.predict(test_dset)\n",
    "display_metric(o.metrics)"
   ]
  },
  {
   "cell_type": "markdown",
   "id": "b71a62a4-242b-47d6-9c8f-7559fdf87503",
   "metadata": {},
   "source": [
    "the metric on a sample of 2000 datapoints"
   ]
  },
  {
   "cell_type": "code",
   "execution_count": null,
   "id": "df37316a-ddf3-4bdd-a73b-5da06c939d98",
   "metadata": {},
   "outputs": [
    {
     "data": {
      "text/html": [
       "<div>\n",
       "<style scoped>\n",
       "    .dataframe tbody tr th:only-of-type {\n",
       "        vertical-align: middle;\n",
       "    }\n",
       "\n",
       "    .dataframe tbody tr th {\n",
       "        vertical-align: top;\n",
       "    }\n",
       "\n",
       "    .dataframe thead th {\n",
       "        text-align: right;\n",
       "    }\n",
       "</style>\n",
       "<table border=\"1\" class=\"dataframe\">\n",
       "  <thead>\n",
       "    <tr style=\"text-align: right;\">\n",
       "      <th></th>\n",
       "      <th>P@1</th>\n",
       "      <th>P@3</th>\n",
       "      <th>P@5</th>\n",
       "      <th>P@10</th>\n",
       "      <th>N@1</th>\n",
       "      <th>N@3</th>\n",
       "      <th>N@5</th>\n",
       "      <th>N@10</th>\n",
       "      <th>PSP@1</th>\n",
       "      <th>PSP@3</th>\n",
       "      <th>PSP@5</th>\n",
       "      <th>PSP@10</th>\n",
       "      <th>PSN@1</th>\n",
       "      <th>PSN@3</th>\n",
       "      <th>PSN@5</th>\n",
       "      <th>PSN@10</th>\n",
       "      <th>R@2</th>\n",
       "      <th>R@3</th>\n",
       "      <th>R@10</th>\n",
       "      <th>R@50</th>\n",
       "      <th>R@100</th>\n",
       "      <th>R@200</th>\n",
       "      <th>loss</th>\n",
       "      <th>runtime</th>\n",
       "      <th>samples_per_second</th>\n",
       "      <th>steps_per_second</th>\n",
       "    </tr>\n",
       "  </thead>\n",
       "  <tbody>\n",
       "    <tr>\n",
       "      <th>0</th>\n",
       "      <td>13.25</td>\n",
       "      <td>8.0667</td>\n",
       "      <td>5.74</td>\n",
       "      <td>3.425</td>\n",
       "      <td>13.25</td>\n",
       "      <td>12.607</td>\n",
       "      <td>12.6631</td>\n",
       "      <td>13.2889</td>\n",
       "      <td>8.5005</td>\n",
       "      <td>8.2815</td>\n",
       "      <td>8.4682</td>\n",
       "      <td>9.0622</td>\n",
       "      <td>8.5005</td>\n",
       "      <td>8.9089</td>\n",
       "      <td>9.246</td>\n",
       "      <td>9.7951</td>\n",
       "      <td>10.1291</td>\n",
       "      <td>11.4922</td>\n",
       "      <td>14.7423</td>\n",
       "      <td>19.9899</td>\n",
       "      <td>23.0837</td>\n",
       "      <td>27.6307</td>\n",
       "      <td>7.9235</td>\n",
       "      <td>4973.0083</td>\n",
       "      <td>0.402</td>\n",
       "      <td>0.003</td>\n",
       "    </tr>\n",
       "  </tbody>\n",
       "</table>\n",
       "</div>"
      ],
      "text/plain": [
       "     P@1     P@3   P@5   P@10    N@1     N@3      N@5     N@10   PSP@1  \\\n",
       "0  13.25  8.0667  5.74  3.425  13.25  12.607  12.6631  13.2889  8.5005   \n",
       "\n",
       "    PSP@3   PSP@5  PSP@10   PSN@1   PSN@3  PSN@5  PSN@10      R@2      R@3  \\\n",
       "0  8.2815  8.4682  9.0622  8.5005  8.9089  9.246  9.7951  10.1291  11.4922   \n",
       "\n",
       "      R@10     R@50    R@100    R@200    loss    runtime  samples_per_second  \\\n",
       "0  14.7423  19.9899  23.0837  27.6307  7.9235  4973.0083               0.402   \n",
       "\n",
       "   steps_per_second  \n",
       "0             0.003  "
      ]
     },
     "metadata": {},
     "output_type": "display_data"
    }
   ],
   "source": [
    "metric = {'test_loss': 7.9235124588012695, 'test_P@1': 0.1325, 'test_P@10': 0.03425000000000011, 'test_P@3': 0.08066666666666672, \n",
    "          'test_P@5': 0.0574000000000003, 'test_N@1': 0.13249999284744263, 'test_N@10': 0.132889062166214, 'test_N@3': 0.12606960535049438, \n",
    "          'test_N@5': 0.1266314685344696, 'test_PSP@1': 0.08500534533966667, 'test_PSP@10': 0.09062216879025282, \n",
    "          'test_PSP@3': 0.08281493343077471, 'test_PSP@5': 0.08468174886420247, 'test_PSN@1': 0.08500534296035767, \n",
    "          'test_PSN@10': 0.09795131534337997, 'test_PSN@3': 0.0890892967581749, 'test_PSN@5': 0.09245995432138443, \n",
    "          'test_R@2': 0.1012909469615352, 'test_R@3': 0.11492171896730717, 'test_R@100': 0.23083656160579327, \n",
    "          'test_R@200': 0.2763073646933462, 'test_R@10': 0.1474227239264004, 'test_R@50': 0.19989910379934445, 'test_runtime': 4973.0083, \n",
    "          'test_samples_per_second': 0.402, 'test_steps_per_second': 0.003}\n",
    "\n",
    "display_metric(metric)"
   ]
  },
  {
   "cell_type": "markdown",
   "id": "aeefbcb5-fc7e-434b-898a-2384e405879b",
   "metadata": {},
   "source": [
    "## `meta-augmented trie`"
   ]
  },
  {
   "cell_type": "code",
   "execution_count": null,
   "id": "72ea3720-6218-4a83-85b9-ed6c2d9fd0bd",
   "metadata": {},
   "outputs": [
    {
     "data": {
      "application/vnd.jupyter.widget-view+json": {
       "model_id": "e98c05fd9b5945a19a3d3f79c11c3970",
       "version_major": 2,
       "version_minor": 0
      },
      "text/plain": [
       "  0%|          | 0/312330 [00:00<?, ?it/s]"
      ]
     },
     "metadata": {},
     "output_type": "display_data"
    },
    {
     "data": {
      "application/vnd.jupyter.widget-view+json": {
       "model_id": "57bb63b4e7a94cd8baaa017fc7ef5c26",
       "version_major": 2,
       "version_minor": 0
      },
      "text/plain": [
       "  0%|          | 0/2458399 [00:00<?, ?it/s]"
      ]
     },
     "metadata": {},
     "output_type": "display_data"
    }
   ],
   "source": [
    "#| export\n",
    "a_trie = XCTrie.from_block(block, meta=['hlk'])"
   ]
  },
  {
   "cell_type": "code",
   "execution_count": null,
   "id": "c5ddaa68-fbfa-487f-9048-71594b48be51",
   "metadata": {},
   "outputs": [],
   "source": [
    "#| export\n",
    "learn.tbs.trie = a_trie"
   ]
  },
  {
   "cell_type": "code",
   "execution_count": null,
   "id": "2d535aff-6b71-469f-8754-4b0374c4c95f",
   "metadata": {},
   "outputs": [],
   "source": [
    "#| export\n",
    "learn.tbs.n_bm = learn.args.generation_num_beams = 20"
   ]
  },
  {
   "cell_type": "code",
   "execution_count": null,
   "id": "9a4e00ef-1934-4543-989c-bbd084c47f84",
   "metadata": {},
   "outputs": [],
   "source": [
    "#| export\n",
    "o = learn.predict(block.test.dset)\n",
    "print(o.metrics)\n",
    "\n",
    "#display_metric(o.metrics)"
   ]
  },
  {
   "cell_type": "code",
   "execution_count": null,
   "id": "a1f353f3-55af-4d18-8c09-eb3d59e0b255",
   "metadata": {},
   "outputs": [
    {
     "name": "stderr",
     "output_type": "stream",
     "text": [
      "/scratch/scai/phd/aiz218323/anaconda3/envs/xc_nlg/lib/python3.9/site-packages/torch/nn/parallel/_functions.py:68: UserWarning: Was asked to gather along dimension 0, but all input tensors were scalars; will instead unsqueeze and return a vector.\n",
      "  warnings.warn('Was asked to gather along dimension 0, but all '\n"
     ]
    },
    {
     "data": {
      "text/html": [],
      "text/plain": [
       "<IPython.core.display.HTML object>"
      ]
     },
     "metadata": {},
     "output_type": "display_data"
    },
    {
     "name": "stderr",
     "output_type": "stream",
     "text": [
      "/scratch/scai/phd/aiz218323/anaconda3/envs/xc_nlg/lib/python3.9/site-packages/scipy/sparse/_index.py:145: SparseEfficiencyWarning: Changing the sparsity structure of a csr_matrix is expensive. lil_matrix is more efficient.\n",
      "  self._set_arrayXarray(i, j, x)\n"
     ]
    },
    {
     "data": {
      "text/html": [
       "<div>\n",
       "<style scoped>\n",
       "    .dataframe tbody tr th:only-of-type {\n",
       "        vertical-align: middle;\n",
       "    }\n",
       "\n",
       "    .dataframe tbody tr th {\n",
       "        vertical-align: top;\n",
       "    }\n",
       "\n",
       "    .dataframe thead th {\n",
       "        text-align: right;\n",
       "    }\n",
       "</style>\n",
       "<table border=\"1\" class=\"dataframe\">\n",
       "  <thead>\n",
       "    <tr style=\"text-align: right;\">\n",
       "      <th></th>\n",
       "      <th>P@1</th>\n",
       "      <th>P@3</th>\n",
       "      <th>P@5</th>\n",
       "      <th>P@10</th>\n",
       "      <th>N@1</th>\n",
       "      <th>N@3</th>\n",
       "      <th>N@5</th>\n",
       "      <th>N@10</th>\n",
       "      <th>PSP@1</th>\n",
       "      <th>PSP@3</th>\n",
       "      <th>PSP@5</th>\n",
       "      <th>PSP@10</th>\n",
       "      <th>PSN@1</th>\n",
       "      <th>PSN@3</th>\n",
       "      <th>PSN@5</th>\n",
       "      <th>PSN@10</th>\n",
       "      <th>R@2</th>\n",
       "      <th>R@3</th>\n",
       "      <th>R@10</th>\n",
       "      <th>R@50</th>\n",
       "      <th>R@100</th>\n",
       "      <th>R@200</th>\n",
       "      <th>loss</th>\n",
       "      <th>runtime</th>\n",
       "      <th>samples_per_second</th>\n",
       "      <th>steps_per_second</th>\n",
       "    </tr>\n",
       "  </thead>\n",
       "  <tbody>\n",
       "    <tr>\n",
       "      <th>0</th>\n",
       "      <td>7.35</td>\n",
       "      <td>4.2333</td>\n",
       "      <td>3.12</td>\n",
       "      <td>1.935</td>\n",
       "      <td>7.35</td>\n",
       "      <td>6.9018</td>\n",
       "      <td>7.1541</td>\n",
       "      <td>7.6512</td>\n",
       "      <td>4.845</td>\n",
       "      <td>4.7187</td>\n",
       "      <td>4.9592</td>\n",
       "      <td>5.5679</td>\n",
       "      <td>4.845</td>\n",
       "      <td>5.1061</td>\n",
       "      <td>5.4189</td>\n",
       "      <td>5.8523</td>\n",
       "      <td>5.6319</td>\n",
       "      <td>6.4303</td>\n",
       "      <td>8.9982</td>\n",
       "      <td>14.5662</td>\n",
       "      <td>18.1612</td>\n",
       "      <td>21.8284</td>\n",
       "      <td>7.9235</td>\n",
       "      <td>525.123</td>\n",
       "      <td>3.809</td>\n",
       "      <td>0.03</td>\n",
       "    </tr>\n",
       "  </tbody>\n",
       "</table>\n",
       "</div>"
      ],
      "text/plain": [
       "    P@1     P@3   P@5   P@10   N@1     N@3     N@5    N@10  PSP@1   PSP@3  \\\n",
       "0  7.35  4.2333  3.12  1.935  7.35  6.9018  7.1541  7.6512  4.845  4.7187   \n",
       "\n",
       "    PSP@5  PSP@10  PSN@1   PSN@3   PSN@5  PSN@10     R@2     R@3    R@10  \\\n",
       "0  4.9592  5.5679  4.845  5.1061  5.4189  5.8523  5.6319  6.4303  8.9982   \n",
       "\n",
       "      R@50    R@100    R@200    loss  runtime  samples_per_second  \\\n",
       "0  14.5662  18.1612  21.8284  7.9235  525.123               3.809   \n",
       "\n",
       "   steps_per_second  \n",
       "0              0.03  "
      ]
     },
     "metadata": {},
     "output_type": "display_data"
    }
   ],
   "source": [
    "o = learn.predict(test_dset)\n",
    "display_metric(o.metrics)"
   ]
  },
  {
   "cell_type": "code",
   "execution_count": null,
   "id": "d9aea720-8345-4d4a-83a5-26c08461af84",
   "metadata": {},
   "outputs": [],
   "source": [
    "#| export\n",
    "# torch.save(o, f'{mname}/predictions/test_lbl_atrie-hlk_n-smp-2000_seed-50.pth')\n",
    "torch.save(o, f'{mname}/predictions/test_lbl_atrie-hlk.pth')"
   ]
  },
  {
   "cell_type": "code",
   "execution_count": null,
   "id": "6e091fd1-e76d-4d8e-a5f5-0053986a2f93",
   "metadata": {},
   "outputs": [
    {
     "data": {
      "text/plain": [
       "XCPredictionOutput(pred_idx=tensor([200462, 122501, 193102,  ..., 173982, 222905, 299717]), pred_ptr=tensor([ 64, 170, 302,  ..., 308, 147, 218]), pred_score=tensor([-0.5293, -0.6272, -0.6272,  ..., -0.6665, -0.6665, -0.6665]), metrics={'test_loss': 7.9235124588012695, 'test_P@1': 0.0735, 'test_P@10': 0.019350000000000093, 'test_P@3': 0.042333333333333306, 'test_P@5': 0.031200000000000117, 'test_N@1': 0.07349999994039536, 'test_N@10': 0.07651232182979584, 'test_N@3': 0.06901782751083374, 'test_N@5': 0.07154091447591782, 'test_PSP@1': 0.048449655383340194, 'test_PSP@10': 0.055679498270689486, 'test_PSP@3': 0.0471873278179412, 'test_PSP@5': 0.049591698890374764, 'test_PSN@1': 0.04844965785741806, 'test_PSN@10': 0.05852304399013519, 'test_PSN@3': 0.05106114596128464, 'test_PSN@5': 0.05418911948800087, 'test_R@2': 0.056319065656565664, 'test_R@3': 0.0643025974025974, 'test_R@100': 0.18161182321087735, 'test_R@200': 0.21828385532908604, 'test_R@10': 0.08998236220478867, 'test_R@50': 0.14566244823944363, 'test_runtime': 525.123, 'test_samples_per_second': 3.809, 'test_steps_per_second': 0.03}, num_samples=2000)"
      ]
     },
     "execution_count": null,
     "metadata": {},
     "output_type": "execute_result"
    }
   ],
   "source": [
    "o"
   ]
  },
  {
   "cell_type": "markdown",
   "id": "9186583a-d3a4-4476-b848-74b99b8127b0",
   "metadata": {},
   "source": [
    "meta-augmented trie with beam size 20 on test set"
   ]
  },
  {
   "cell_type": "code",
   "execution_count": null,
   "id": "937cde69-0888-4522-976b-f1096cbff11b",
   "metadata": {},
   "outputs": [
    {
     "data": {
      "text/html": [
       "<div>\n",
       "<style scoped>\n",
       "    .dataframe tbody tr th:only-of-type {\n",
       "        vertical-align: middle;\n",
       "    }\n",
       "\n",
       "    .dataframe tbody tr th {\n",
       "        vertical-align: top;\n",
       "    }\n",
       "\n",
       "    .dataframe thead th {\n",
       "        text-align: right;\n",
       "    }\n",
       "</style>\n",
       "<table border=\"1\" class=\"dataframe\">\n",
       "  <thead>\n",
       "    <tr style=\"text-align: right;\">\n",
       "      <th></th>\n",
       "      <th>P@1</th>\n",
       "      <th>P@3</th>\n",
       "      <th>P@5</th>\n",
       "      <th>P@10</th>\n",
       "      <th>N@1</th>\n",
       "      <th>N@3</th>\n",
       "      <th>N@5</th>\n",
       "      <th>N@10</th>\n",
       "      <th>PSP@1</th>\n",
       "      <th>PSP@3</th>\n",
       "      <th>PSP@5</th>\n",
       "      <th>PSP@10</th>\n",
       "      <th>PSN@1</th>\n",
       "      <th>PSN@3</th>\n",
       "      <th>PSN@5</th>\n",
       "      <th>PSN@10</th>\n",
       "      <th>R@2</th>\n",
       "      <th>R@3</th>\n",
       "      <th>R@10</th>\n",
       "      <th>R@50</th>\n",
       "      <th>R@100</th>\n",
       "      <th>R@200</th>\n",
       "      <th>loss</th>\n",
       "      <th>runtime</th>\n",
       "      <th>samples_per_second</th>\n",
       "      <th>steps_per_second</th>\n",
       "    </tr>\n",
       "  </thead>\n",
       "  <tbody>\n",
       "    <tr>\n",
       "      <th>0</th>\n",
       "      <td>7.0529</td>\n",
       "      <td>4.0699</td>\n",
       "      <td>3.0062</td>\n",
       "      <td>1.9558</td>\n",
       "      <td>7.0529</td>\n",
       "      <td>6.8742</td>\n",
       "      <td>7.1562</td>\n",
       "      <td>7.7508</td>\n",
       "      <td>4.6465</td>\n",
       "      <td>4.4717</td>\n",
       "      <td>4.7662</td>\n",
       "      <td>5.6732</td>\n",
       "      <td>4.6465</td>\n",
       "      <td>4.9731</td>\n",
       "      <td>5.3305</td>\n",
       "      <td>5.8831</td>\n",
       "      <td>5.6746</td>\n",
       "      <td>6.5361</td>\n",
       "      <td>9.4116</td>\n",
       "      <td>15.0123</td>\n",
       "      <td>18.3541</td>\n",
       "      <td>21.4788</td>\n",
       "      <td>7.8953</td>\n",
       "      <td>47437.5376</td>\n",
       "      <td>3.742</td>\n",
       "      <td>0.029</td>\n",
       "    </tr>\n",
       "  </tbody>\n",
       "</table>\n",
       "</div>"
      ],
      "text/plain": [
       "      P@1     P@3     P@5    P@10     N@1     N@3     N@5    N@10   PSP@1  \\\n",
       "0  7.0529  4.0699  3.0062  1.9558  7.0529  6.8742  7.1562  7.7508  4.6465   \n",
       "\n",
       "    PSP@3   PSP@5  PSP@10   PSN@1   PSN@3   PSN@5  PSN@10     R@2     R@3  \\\n",
       "0  4.4717  4.7662  5.6732  4.6465  4.9731  5.3305  5.8831  5.6746  6.5361   \n",
       "\n",
       "     R@10     R@50    R@100    R@200    loss     runtime  samples_per_second  \\\n",
       "0  9.4116  15.0123  18.3541  21.4788  7.8953  47437.5376               3.742   \n",
       "\n",
       "   steps_per_second  \n",
       "0             0.029  "
      ]
     },
     "metadata": {},
     "output_type": "display_data"
    }
   ],
   "source": [
    "metrics = {'test_loss': 7.895264148712158, 'test_P@1': 0.07052925104920711, 'test_P@10': 0.019558347181919893, \n",
    "           'test_P@3': 0.04069890807348871, 'test_P@5': 0.03006168492802336, 'test_N@1': 0.07052925229072571, \n",
    "           'test_N@10': 0.07750751823186874, 'test_N@3': 0.0687415674328804, 'test_N@5': 0.07156241685152054, \n",
    "           'test_PSP@1': 0.04646493316157058, 'test_PSP@10': 0.05673249662412002, 'test_PSP@3': 0.044717081763040144, \n",
    "           'test_PSP@5': 0.04766174992735297, 'test_PSN@1': 0.046464934945106506, 'test_PSN@10': 0.05883079394698143, \n",
    "           'test_PSN@3': 0.049730777740478516, 'test_PSN@5': 0.053304895758628845, 'test_R@2': 0.05674589222891961, \n",
    "           'test_R@3': 0.06536081935939647, 'test_R@100': 0.18354055614296483, 'test_R@200': 0.21478844968019448, \n",
    "           'test_R@10': 0.09411592069357005, 'test_R@50': 0.15012334959569007, 'test_runtime': 47437.5376, \n",
    "           'test_samples_per_second': 3.742, 'test_steps_per_second': 0.029}\n",
    "\n",
    "display_metric(metrics)"
   ]
  },
  {
   "cell_type": "markdown",
   "id": "e22e6f34-f666-4a62-800e-e4c5c4b944ea",
   "metadata": {},
   "source": [
    "### __Shortlist & Total recall__"
   ]
  },
  {
   "cell_type": "markdown",
   "id": "afebba34-b7f4-4bf8-acf7-edfce8cf4a82",
   "metadata": {},
   "source": [
    "All the numbers reported below are on a sample of 2000 points."
   ]
  },
  {
   "cell_type": "code",
   "execution_count": null,
   "id": "8b68f1a6-f596-4ef6-815b-cfd231d93a86",
   "metadata": {},
   "outputs": [
    {
     "data": {
      "text/html": [
       "<div>\n",
       "<style scoped>\n",
       "    .dataframe tbody tr th:only-of-type {\n",
       "        vertical-align: middle;\n",
       "    }\n",
       "\n",
       "    .dataframe tbody tr th {\n",
       "        vertical-align: top;\n",
       "    }\n",
       "\n",
       "    .dataframe thead th {\n",
       "        text-align: right;\n",
       "    }\n",
       "</style>\n",
       "<table border=\"1\" class=\"dataframe\">\n",
       "  <thead>\n",
       "    <tr style=\"text-align: right;\">\n",
       "      <th></th>\n",
       "      <th>mean</th>\n",
       "      <th>std</th>\n",
       "      <th>25</th>\n",
       "      <th>50</th>\n",
       "      <th>75</th>\n",
       "    </tr>\n",
       "  </thead>\n",
       "  <tbody>\n",
       "    <tr>\n",
       "      <th>0</th>\n",
       "      <td>637.071472</td>\n",
       "      <td>2120.383301</td>\n",
       "      <td>78.0</td>\n",
       "      <td>143.0</td>\n",
       "      <td>309.0</td>\n",
       "    </tr>\n",
       "  </tbody>\n",
       "</table>\n",
       "</div>"
      ],
      "text/plain": [
       "         mean          std    25     50     75\n",
       "0  637.071472  2120.383301  78.0  143.0  309.0"
      ]
     },
     "execution_count": null,
     "metadata": {},
     "output_type": "execute_result"
    }
   ],
   "source": [
    "s = get_tensor_statistics(o.pred_ptr);s"
   ]
  },
  {
   "cell_type": "code",
   "execution_count": null,
   "id": "9e34f427-b661-4e72-845b-ef73075220fe",
   "metadata": {},
   "outputs": [
    {
     "name": "stdout",
     "output_type": "stream",
     "text": [
      "Total recall : 28.330\n"
     ]
    },
    {
     "name": "stderr",
     "output_type": "stream",
     "text": [
      "/scratch/scai/phd/aiz218323/anaconda3/envs/xc_nlg/lib/python3.9/site-packages/scipy/sparse/_index.py:145: SparseEfficiencyWarning: Changing the sparsity structure of a csr_matrix is expensive. lil_matrix is more efficient.\n",
      "  self._set_arrayXarray(i, j, x)\n"
     ]
    }
   ],
   "source": [
    "r, rm = total_recall(o.pred_idx, o.pred_ptr, test_dset.data.data_lbl, test_dset.data.data_lbl_filterer) \n",
    "print(f'Total recall : {r*100:.3f}')"
   ]
  },
  {
   "cell_type": "code",
   "execution_count": null,
   "id": "a404781b-d1f6-4460-89c1-5eb90a3fe092",
   "metadata": {},
   "outputs": [
    {
     "data": {
      "text/html": [
       "<div>\n",
       "<style scoped>\n",
       "    .dataframe tbody tr th:only-of-type {\n",
       "        vertical-align: middle;\n",
       "    }\n",
       "\n",
       "    .dataframe tbody tr th {\n",
       "        vertical-align: top;\n",
       "    }\n",
       "\n",
       "    .dataframe thead th {\n",
       "        text-align: right;\n",
       "    }\n",
       "</style>\n",
       "<table border=\"1\" class=\"dataframe\">\n",
       "  <thead>\n",
       "    <tr style=\"text-align: right;\">\n",
       "      <th></th>\n",
       "      <th>mean</th>\n",
       "      <th>std</th>\n",
       "      <th>25</th>\n",
       "      <th>50</th>\n",
       "      <th>75</th>\n",
       "    </tr>\n",
       "  </thead>\n",
       "  <tbody>\n",
       "    <tr>\n",
       "      <th>0</th>\n",
       "      <td>28.329939</td>\n",
       "      <td>39.21619</td>\n",
       "      <td>0.0</td>\n",
       "      <td>0.0</td>\n",
       "      <td>50.0</td>\n",
       "    </tr>\n",
       "  </tbody>\n",
       "</table>\n",
       "</div>"
      ],
      "text/plain": [
       "        mean       std   25   50    75\n",
       "0  28.329939  39.21619  0.0  0.0  50.0"
      ]
     },
     "execution_count": null,
     "metadata": {},
     "output_type": "execute_result"
    }
   ],
   "source": [
    "r = get_tensor_statistics(torch.tensor(rm.sum(axis=1)).flatten()*rm.shape[0]*100); r"
   ]
  },
  {
   "cell_type": "code",
   "execution_count": null,
   "id": "c80d7dfb-247c-4f3c-bac7-8a9cc6d15074",
   "metadata": {},
   "outputs": [],
   "source": [
    "data_rec = torch.tensor(rm.sum(axis=1)).flatten()"
   ]
  },
  {
   "cell_type": "code",
   "execution_count": null,
   "id": "804781ce-5f11-491b-9e01-95e5a455d7be",
   "metadata": {},
   "outputs": [
    {
     "data": {
      "text/plain": [
       "<matplotlib.collections.PathCollection>"
      ]
     },
     "execution_count": null,
     "metadata": {},
     "output_type": "execute_result"
    },
    {
     "data": {
      "image/png": "[encoded data removed]",
      "text/plain": [
       "<Figure size 700x500 with 1 Axes>"
      ]
     },
     "metadata": {},
     "output_type": "display_data"
    }
   ],
   "source": [
    "import matplotlib.pyplot as plt\n",
    "\n",
    "set_plot_defaults()\n",
    "plt.figure(figsize=(7,5))\n",
    "plt.yscale('log')\n",
    "idx = torch.where(data_rec > 0)[0]\n",
    "plt.scatter(data_rec[idx], o.pred_ptr[idx], s=5)"
   ]
  },
  {
   "cell_type": "code",
   "execution_count": null,
   "id": "3b395240-7380-4f4d-9dda-27a914c1f1d3",
   "metadata": {},
   "outputs": [
    {
     "data": {
      "text/plain": [
       "(PearsonRResult(statistic=0.11983790934281924, pvalue=7.643619547438852e-08),\n",
       " SignificanceResult(statistic=0.19539269080823554, pvalue=1.1663966763028367e-18))"
      ]
     },
     "execution_count": null,
     "metadata": {},
     "output_type": "execute_result"
    }
   ],
   "source": [
    "stats.pearsonr(data_rec, o.pred_ptr), stats.spearmanr(data_rec, o.pred_ptr)"
   ]
  },
  {
   "cell_type": "markdown",
   "id": "0e8883d2-30d2-47a6-8013-d9dec9339947",
   "metadata": {},
   "source": [
    "# Representation"
   ]
  },
  {
   "cell_type": "code",
   "execution_count": null,
   "id": "c009294d-803a-4fdf-948a-90c6eb58d1ca",
   "metadata": {},
   "outputs": [],
   "source": [
    "args = XCLearningArguments(\n",
    "    output_dir='/home/scai/phd/aiz218323/scratch/Projects/xc_nlg/outputs/04-metadata-augmented-trie-for-distilbert/ngame_v-2-100_(mapped)LF-WikiSeeAlsoTitles-320K/',\n",
    "    index_efs=200,\n",
    "    representation_num_beams=200,\n",
    "    generation_length_penalty=1.5,\n",
    "    per_device_eval_batch_size=64,\n",
    "    evaluation_strategy='steps',\n",
    "    label_names=['lbl2data_idx'],\n",
    ")"
   ]
  },
  {
   "cell_type": "code",
   "execution_count": null,
   "id": "794d280e-2a1e-4df5-82b5-969f15363df9",
   "metadata": {},
   "outputs": [
    {
     "name": "stderr",
     "output_type": "stream",
     "text": [
      "Some weights of DBT008 were not initialized from the model checkpoint at sentence-transformers/msmarco-distilbert-base-v4 and are newly initialized: ['loss_fn.u', 'loss_fn.v']\n",
      "You should probably TRAIN this model on a down-stream task to be able to use it for predictions and inference.\n"
     ]
    }
   ],
   "source": [
    "bsz = max(args.per_device_train_batch_size, args.per_device_eval_batch_size)*torch.cuda.device_count()\n",
    "model = DBT008.from_pretrained('sentence-transformers/msmarco-distilbert-base-v4', bsz=bsz, tn_targ=10_000, ig_tok=0)"
   ]
  },
  {
   "cell_type": "code",
   "execution_count": null,
   "id": "4ef9da23-0943-4464-a5fc-005257c9c719",
   "metadata": {},
   "outputs": [
    {
     "data": {
      "text/plain": [
       "_IncompatibleKeys(missing_keys=['loss_fn.u', 'loss_fn.v'], unexpected_keys=[])"
      ]
     },
     "execution_count": null,
     "metadata": {},
     "output_type": "execute_result"
    }
   ],
   "source": [
    "from collections import OrderedDict\n",
    "\n",
    "mname = '/home/scai/phd/aiz218323/scratch/Projects/xc_nlg/outputs/04-metadata-augmented-trie-for-distilbert/ngame_v-2-100_(mapped)LF-WikiSeeAlsoTitles-320K/model_network.pkl'\n",
    "m_state_dict, msd = OrderedDict(), torch.load(mname)\n",
    "for k in msd:\n",
    "    o = k.split('.')\n",
    "    if o[0] == 'encoder_lbl': m_state_dict['distilbert.'+'.'.join(o[5:])] = msd[k]\n",
    "model.load_state_dict(m_state_dict, strict=False)\n"
   ]
  },
  {
   "cell_type": "code",
   "execution_count": null,
   "id": "3008a1cc-154d-424e-a51c-bf53a9f41e67",
   "metadata": {},
   "outputs": [],
   "source": [
    "metric = PrecRecl(test_dset.n_lbl, test_dset.data.data_lbl_filterer, prop=block.train.dset.data.data_lbl,\n",
    "                  pk=10, rk=200, rep_pk=[1, 3, 5, 10], rep_rk=[2, 3, 10, 50, 100, 200])"
   ]
  },
  {
   "cell_type": "code",
   "execution_count": null,
   "id": "af7287c0-ec2e-4074-918e-71f25512a2df",
   "metadata": {},
   "outputs": [],
   "source": [
    "metric = PrecRecl(block.n_lbl, block.test.data_lbl_filterer, prop=block.train.dset.data.data_lbl,\n",
    "                  pk=10, rk=200, rep_pk=[1, 3, 5, 10], rep_rk=[2, 3, 10, 50, 100, 200])"
   ]
  },
  {
   "cell_type": "code",
   "execution_count": null,
   "id": "1b44efee-0b0c-4118-9814-82077b72ced0",
   "metadata": {},
   "outputs": [
    {
     "name": "stderr",
     "output_type": "stream",
     "text": [
      "/scratch/scai/phd/aiz218323/anaconda3/envs/xc_nlg/lib/python3.9/site-packages/accelerate/accelerator.py:432: FutureWarning: Passing the following arguments to `Accelerator` is deprecated and will be removed in version 1.0 of Accelerate: dict_keys(['dispatch_batches', 'split_batches', 'even_batches', 'use_seedable_sampler']). Please pass an `accelerate.DataLoaderConfiguration` instead: \n",
      "dataloader_config = DataLoaderConfiguration(dispatch_batches=None, split_batches=False, even_batches=True, use_seedable_sampler=True)\n",
      "  warnings.warn(\n",
      "Detected kernel version 3.10.0, which is below the recommended minimum of 5.5.0; this can cause the process to hang. It is recommended to upgrade the kernel to the minimum version or higher.\n"
     ]
    }
   ],
   "source": [
    "learn = XCLearner(\n",
    "    model=model, \n",
    "    args=args,\n",
    "    data_collator=block.collator, \n",
    "    compute_metrics=metric,\n",
    ")"
   ]
  },
  {
   "cell_type": "markdown",
   "id": "2ad44ee8-273f-4aa8-80f0-44a87d925066",
   "metadata": {},
   "source": [
    "ngame metrics with beam size 200"
   ]
  },
  {
   "cell_type": "markdown",
   "id": "c3865374-7920-42af-9030-0cfe739c7dce",
   "metadata": {},
   "source": [
    "## `ngame_data_encoder`"
   ]
  },
  {
   "cell_type": "code",
   "execution_count": null,
   "id": "008f7978-7fbb-4f86-95db-f94aaef4d4de",
   "metadata": {},
   "outputs": [
    {
     "data": {
      "application/vnd.jupyter.widget-view+json": {
       "model_id": "3e67e422c25b40a9b56ed8f89628cec1",
       "version_major": 2,
       "version_minor": 0
      },
      "text/plain": [
       "  0%|          | 0/2441 [00:00<?, ?it/s]"
      ]
     },
     "metadata": {},
     "output_type": "display_data"
    },
    {
     "name": "stderr",
     "output_type": "stream",
     "text": [
      "/scratch/scai/phd/aiz218323/anaconda3/envs/xc_nlg/lib/python3.9/site-packages/torch/nn/parallel/_functions.py:68: UserWarning: Was asked to gather along dimension 0, but all input tensors were scalars; will instead unsqueeze and return a vector.\n",
      "  warnings.warn('Was asked to gather along dimension 0, but all '\n"
     ]
    },
    {
     "data": {
      "text/html": [],
      "text/plain": [
       "<IPython.core.display.HTML object>"
      ]
     },
     "metadata": {},
     "output_type": "display_data"
    },
    {
     "name": "stderr",
     "output_type": "stream",
     "text": [
      "/scratch/scai/phd/aiz218323/anaconda3/envs/xc_nlg/lib/python3.9/site-packages/scipy/sparse/_index.py:145: SparseEfficiencyWarning: Changing the sparsity structure of a csr_matrix is expensive. lil_matrix is more efficient.\n",
      "  self._set_arrayXarray(i, j, x)\n"
     ]
    },
    {
     "data": {
      "text/html": [
       "<div>\n",
       "<style scoped>\n",
       "    .dataframe tbody tr th:only-of-type {\n",
       "        vertical-align: middle;\n",
       "    }\n",
       "\n",
       "    .dataframe tbody tr th {\n",
       "        vertical-align: top;\n",
       "    }\n",
       "\n",
       "    .dataframe thead th {\n",
       "        text-align: right;\n",
       "    }\n",
       "</style>\n",
       "<table border=\"1\" class=\"dataframe\">\n",
       "  <thead>\n",
       "    <tr style=\"text-align: right;\">\n",
       "      <th></th>\n",
       "      <th>P@1</th>\n",
       "      <th>P@3</th>\n",
       "      <th>P@5</th>\n",
       "      <th>P@10</th>\n",
       "      <th>N@1</th>\n",
       "      <th>N@3</th>\n",
       "      <th>N@5</th>\n",
       "      <th>N@10</th>\n",
       "      <th>PSP@1</th>\n",
       "      <th>PSP@3</th>\n",
       "      <th>PSP@5</th>\n",
       "      <th>PSP@10</th>\n",
       "      <th>PSN@1</th>\n",
       "      <th>PSN@3</th>\n",
       "      <th>PSN@5</th>\n",
       "      <th>PSN@10</th>\n",
       "      <th>R@2</th>\n",
       "      <th>R@3</th>\n",
       "      <th>R@10</th>\n",
       "      <th>R@50</th>\n",
       "      <th>R@100</th>\n",
       "      <th>R@200</th>\n",
       "      <th>loss</th>\n",
       "      <th>runtime</th>\n",
       "      <th>samples_per_second</th>\n",
       "      <th>steps_per_second</th>\n",
       "    </tr>\n",
       "  </thead>\n",
       "  <tbody>\n",
       "    <tr>\n",
       "      <th>0</th>\n",
       "      <td>30.75</td>\n",
       "      <td>20.15</td>\n",
       "      <td>14.96</td>\n",
       "      <td>9.485</td>\n",
       "      <td>30.75</td>\n",
       "      <td>29.7809</td>\n",
       "      <td>30.4016</td>\n",
       "      <td>32.2791</td>\n",
       "      <td>25.5922</td>\n",
       "      <td>26.1697</td>\n",
       "      <td>27.4299</td>\n",
       "      <td>31.6446</td>\n",
       "      <td>25.5922</td>\n",
       "      <td>26.7641</td>\n",
       "      <td>27.9481</td>\n",
       "      <td>30.1355</td>\n",
       "      <td>22.9553</td>\n",
       "      <td>26.6665</td>\n",
       "      <td>36.5629</td>\n",
       "      <td>47.4938</td>\n",
       "      <td>51.4654</td>\n",
       "      <td>55.3664</td>\n",
       "      <td>1.0989</td>\n",
       "      <td>10.9448</td>\n",
       "      <td>182.734</td>\n",
       "      <td>1.462</td>\n",
       "    </tr>\n",
       "  </tbody>\n",
       "</table>\n",
       "</div>"
      ],
      "text/plain": [
       "     P@1    P@3    P@5   P@10    N@1      N@3      N@5     N@10    PSP@1  \\\n",
       "0  30.75  20.15  14.96  9.485  30.75  29.7809  30.4016  32.2791  25.5922   \n",
       "\n",
       "     PSP@3    PSP@5   PSP@10    PSN@1    PSN@3    PSN@5   PSN@10      R@2  \\\n",
       "0  26.1697  27.4299  31.6446  25.5922  26.7641  27.9481  30.1355  22.9553   \n",
       "\n",
       "       R@3     R@10     R@50    R@100    R@200    loss  runtime  \\\n",
       "0  26.6665  36.5629  47.4938  51.4654  55.3664  1.0989  10.9448   \n",
       "\n",
       "   samples_per_second  steps_per_second  \n",
       "0             182.734             1.462  "
      ]
     },
     "metadata": {},
     "output_type": "display_data"
    }
   ],
   "source": [
    "o = learn.predict(test_dset)\n",
    "display_metric(o.metrics)"
   ]
  },
  {
   "cell_type": "markdown",
   "id": "53453f6e-d931-4a25-bb5f-162ea518cd73",
   "metadata": {},
   "source": [
    "## `ngame_lbl_encoder`"
   ]
  },
  {
   "cell_type": "code",
   "execution_count": null,
   "id": "15b13441-7fb1-48d5-a707-acaf99909bd3",
   "metadata": {},
   "outputs": [
    {
     "data": {
      "application/vnd.jupyter.widget-view+json": {
       "model_id": "baaecec7a1b04b199f56d3bc4d064773",
       "version_major": 2,
       "version_minor": 0
      },
      "text/plain": [
       "  0%|          | 0/2441 [00:00<?, ?it/s]"
      ]
     },
     "metadata": {},
     "output_type": "display_data"
    },
    {
     "name": "stderr",
     "output_type": "stream",
     "text": [
      "/scratch/scai/phd/aiz218323/anaconda3/envs/xc_nlg/lib/python3.9/site-packages/torch/nn/parallel/_functions.py:68: UserWarning: Was asked to gather along dimension 0, but all input tensors were scalars; will instead unsqueeze and return a vector.\n",
      "  warnings.warn('Was asked to gather along dimension 0, but all '\n"
     ]
    },
    {
     "data": {
      "text/html": [],
      "text/plain": [
       "<IPython.core.display.HTML object>"
      ]
     },
     "metadata": {},
     "output_type": "display_data"
    },
    {
     "name": "stderr",
     "output_type": "stream",
     "text": [
      "/scratch/scai/phd/aiz218323/anaconda3/envs/xc_nlg/lib/python3.9/site-packages/scipy/sparse/_index.py:145: SparseEfficiencyWarning: Changing the sparsity structure of a csr_matrix is expensive. lil_matrix is more efficient.\n",
      "  self._set_arrayXarray(i, j, x)\n"
     ]
    },
    {
     "data": {
      "text/html": [
       "<div>\n",
       "<style scoped>\n",
       "    .dataframe tbody tr th:only-of-type {\n",
       "        vertical-align: middle;\n",
       "    }\n",
       "\n",
       "    .dataframe tbody tr th {\n",
       "        vertical-align: top;\n",
       "    }\n",
       "\n",
       "    .dataframe thead th {\n",
       "        text-align: right;\n",
       "    }\n",
       "</style>\n",
       "<table border=\"1\" class=\"dataframe\">\n",
       "  <thead>\n",
       "    <tr style=\"text-align: right;\">\n",
       "      <th></th>\n",
       "      <th>P@1</th>\n",
       "      <th>P@3</th>\n",
       "      <th>P@5</th>\n",
       "      <th>P@10</th>\n",
       "      <th>N@1</th>\n",
       "      <th>N@3</th>\n",
       "      <th>N@5</th>\n",
       "      <th>N@10</th>\n",
       "      <th>PSP@1</th>\n",
       "      <th>PSP@3</th>\n",
       "      <th>PSP@5</th>\n",
       "      <th>PSP@10</th>\n",
       "      <th>PSN@1</th>\n",
       "      <th>PSN@3</th>\n",
       "      <th>PSN@5</th>\n",
       "      <th>PSN@10</th>\n",
       "      <th>R@2</th>\n",
       "      <th>R@3</th>\n",
       "      <th>R@10</th>\n",
       "      <th>R@50</th>\n",
       "      <th>R@100</th>\n",
       "      <th>R@200</th>\n",
       "      <th>loss</th>\n",
       "      <th>runtime</th>\n",
       "      <th>samples_per_second</th>\n",
       "      <th>steps_per_second</th>\n",
       "    </tr>\n",
       "  </thead>\n",
       "  <tbody>\n",
       "    <tr>\n",
       "      <th>0</th>\n",
       "      <td>30.8</td>\n",
       "      <td>20.2</td>\n",
       "      <td>14.99</td>\n",
       "      <td>9.49</td>\n",
       "      <td>30.8</td>\n",
       "      <td>29.8449</td>\n",
       "      <td>30.4645</td>\n",
       "      <td>32.3239</td>\n",
       "      <td>25.5844</td>\n",
       "      <td>26.2049</td>\n",
       "      <td>27.5213</td>\n",
       "      <td>31.6607</td>\n",
       "      <td>25.5844</td>\n",
       "      <td>26.7878</td>\n",
       "      <td>28.0031</td>\n",
       "      <td>30.1562</td>\n",
       "      <td>22.9453</td>\n",
       "      <td>26.7182</td>\n",
       "      <td>36.5809</td>\n",
       "      <td>47.3577</td>\n",
       "      <td>51.4145</td>\n",
       "      <td>55.2584</td>\n",
       "      <td>1.0989</td>\n",
       "      <td>9.6519</td>\n",
       "      <td>207.213</td>\n",
       "      <td>1.658</td>\n",
       "    </tr>\n",
       "  </tbody>\n",
       "</table>\n",
       "</div>"
      ],
      "text/plain": [
       "    P@1   P@3    P@5  P@10   N@1      N@3      N@5     N@10    PSP@1    PSP@3  \\\n",
       "0  30.8  20.2  14.99  9.49  30.8  29.8449  30.4645  32.3239  25.5844  26.2049   \n",
       "\n",
       "     PSP@5   PSP@10    PSN@1    PSN@3    PSN@5   PSN@10      R@2      R@3  \\\n",
       "0  27.5213  31.6607  25.5844  26.7878  28.0031  30.1562  22.9453  26.7182   \n",
       "\n",
       "      R@10     R@50    R@100    R@200    loss  runtime  samples_per_second  \\\n",
       "0  36.5809  47.3577  51.4145  55.2584  1.0989   9.6519             207.213   \n",
       "\n",
       "   steps_per_second  \n",
       "0             1.658  "
      ]
     },
     "metadata": {},
     "output_type": "display_data"
    }
   ],
   "source": [
    "o = learn.predict(test_dset)\n",
    "display_metric(o.metrics)"
   ]
  },
  {
   "cell_type": "markdown",
   "id": "f4165d3d-f1e0-4b4f-b55c-dd1e3aa59fff",
   "metadata": {},
   "source": [
    "## `ngame_data_encoder`"
   ]
  },
  {
   "cell_type": "code",
   "execution_count": null,
   "id": "e0ae78ae-828b-46d6-8137-7bdb81cff82d",
   "metadata": {},
   "outputs": [
    {
     "data": {
      "application/vnd.jupyter.widget-view+json": {
       "model_id": "365e6d09f17d4ef5a89e34c0670f39a8",
       "version_major": 2,
       "version_minor": 0
      },
      "text/plain": [
       "  0%|          | 0/2441 [00:00<?, ?it/s]"
      ]
     },
     "metadata": {},
     "output_type": "display_data"
    },
    {
     "name": "stderr",
     "output_type": "stream",
     "text": [
      "/scratch/scai/phd/aiz218323/anaconda3/envs/xc_nlg/lib/python3.9/site-packages/torch/nn/parallel/_functions.py:68: UserWarning: Was asked to gather along dimension 0, but all input tensors were scalars; will instead unsqueeze and return a vector.\n",
      "  warnings.warn('Was asked to gather along dimension 0, but all '\n"
     ]
    },
    {
     "data": {
      "text/html": [],
      "text/plain": [
       "<IPython.core.display.HTML object>"
      ]
     },
     "metadata": {},
     "output_type": "display_data"
    },
    {
     "name": "stderr",
     "output_type": "stream",
     "text": [
      "/scratch/scai/phd/aiz218323/anaconda3/envs/xc_nlg/lib/python3.9/site-packages/scipy/sparse/_index.py:145: SparseEfficiencyWarning: Changing the sparsity structure of a csr_matrix is expensive. lil_matrix is more efficient.\n",
      "  self._set_arrayXarray(i, j, x)\n"
     ]
    },
    {
     "data": {
      "text/html": [
       "<div>\n",
       "<style scoped>\n",
       "    .dataframe tbody tr th:only-of-type {\n",
       "        vertical-align: middle;\n",
       "    }\n",
       "\n",
       "    .dataframe tbody tr th {\n",
       "        vertical-align: top;\n",
       "    }\n",
       "\n",
       "    .dataframe thead th {\n",
       "        text-align: right;\n",
       "    }\n",
       "</style>\n",
       "<table border=\"1\" class=\"dataframe\">\n",
       "  <thead>\n",
       "    <tr style=\"text-align: right;\">\n",
       "      <th></th>\n",
       "      <th>P@1</th>\n",
       "      <th>P@3</th>\n",
       "      <th>P@5</th>\n",
       "      <th>P@10</th>\n",
       "      <th>N@1</th>\n",
       "      <th>N@3</th>\n",
       "      <th>N@5</th>\n",
       "      <th>N@10</th>\n",
       "      <th>PSP@1</th>\n",
       "      <th>PSP@3</th>\n",
       "      <th>PSP@5</th>\n",
       "      <th>PSP@10</th>\n",
       "      <th>PSN@1</th>\n",
       "      <th>PSN@3</th>\n",
       "      <th>PSN@5</th>\n",
       "      <th>PSN@10</th>\n",
       "      <th>R@2</th>\n",
       "      <th>R@3</th>\n",
       "      <th>R@10</th>\n",
       "      <th>R@50</th>\n",
       "      <th>R@100</th>\n",
       "      <th>R@200</th>\n",
       "      <th>loss</th>\n",
       "      <th>runtime</th>\n",
       "      <th>samples_per_second</th>\n",
       "      <th>steps_per_second</th>\n",
       "    </tr>\n",
       "  </thead>\n",
       "  <tbody>\n",
       "    <tr>\n",
       "      <th>0</th>\n",
       "      <td>30.4346</td>\n",
       "      <td>20.076</td>\n",
       "      <td>15.1367</td>\n",
       "      <td>9.5841</td>\n",
       "      <td>30.4346</td>\n",
       "      <td>30.162</td>\n",
       "      <td>31.1365</td>\n",
       "      <td>32.9372</td>\n",
       "      <td>24.8593</td>\n",
       "      <td>26.4293</td>\n",
       "      <td>28.3112</td>\n",
       "      <td>32.3061</td>\n",
       "      <td>24.8593</td>\n",
       "      <td>26.9988</td>\n",
       "      <td>28.5635</td>\n",
       "      <td>30.6118</td>\n",
       "      <td>23.5255</td>\n",
       "      <td>27.4567</td>\n",
       "      <td>37.4628</td>\n",
       "      <td>48.1377</td>\n",
       "      <td>52.2007</td>\n",
       "      <td>56.0578</td>\n",
       "      <td>1.2064</td>\n",
       "      <td>826.1484</td>\n",
       "      <td>214.871</td>\n",
       "      <td>1.679</td>\n",
       "    </tr>\n",
       "  </tbody>\n",
       "</table>\n",
       "</div>"
      ],
      "text/plain": [
       "       P@1     P@3      P@5    P@10      N@1     N@3      N@5     N@10  \\\n",
       "0  30.4346  20.076  15.1367  9.5841  30.4346  30.162  31.1365  32.9372   \n",
       "\n",
       "     PSP@1    PSP@3    PSP@5   PSP@10    PSN@1    PSN@3    PSN@5   PSN@10  \\\n",
       "0  24.8593  26.4293  28.3112  32.3061  24.8593  26.9988  28.5635  30.6118   \n",
       "\n",
       "       R@2      R@3     R@10     R@50    R@100    R@200    loss   runtime  \\\n",
       "0  23.5255  27.4567  37.4628  48.1377  52.2007  56.0578  1.2064  826.1484   \n",
       "\n",
       "   samples_per_second  steps_per_second  \n",
       "0             214.871             1.679  "
      ]
     },
     "metadata": {},
     "output_type": "display_data"
    }
   ],
   "source": [
    "o = learn.predict(block.test.dset)\n",
    "display_metric(o.metrics)"
   ]
  },
  {
   "cell_type": "code",
   "execution_count": null,
   "id": "020790bc-e08e-49ff-aec9-4ac133f1ba66",
   "metadata": {},
   "outputs": [],
   "source": [
    "pred_dir = f'{args.output_dir}/predictions/'\n",
    "os.makedirs(pred_dir, exist_ok=True)\n",
    "torch.save(o, f'{pred_dir}/test_lbl.pth')"
   ]
  },
  {
   "cell_type": "markdown",
   "id": "43ab8adb-03f1-443c-86b8-03132dead64b",
   "metadata": {},
   "source": [
    "## Reranking"
   ]
  },
  {
   "cell_type": "code",
   "execution_count": null,
   "id": "cd341dde-36de-4d23-be18-e4fe9db2e47f",
   "metadata": {},
   "outputs": [],
   "source": [
    "import torch.nn.functional as F"
   ]
  },
  {
   "cell_type": "code",
   "execution_count": null,
   "id": "5c1bf2fa-67eb-4583-a87d-d5a8ae65bf31",
   "metadata": {},
   "outputs": [
    {
     "data": {
      "application/vnd.jupyter.widget-view+json": {
       "model_id": "f0b5fd795e78404db1ff0db03c4f6916",
       "version_major": 2,
       "version_minor": 0
      },
      "text/plain": [
       "  0%|          | 0/16 [00:00<?, ?it/s]"
      ]
     },
     "metadata": {},
     "output_type": "display_data"
    }
   ],
   "source": [
    "data_repr = F.normalize(learn.get_representation(learn.get_test_dataloader(test_dset)), dim=1)"
   ]
  },
  {
   "cell_type": "code",
   "execution_count": null,
   "id": "76743679-cca1-48d2-82ff-ee189e85b7f6",
   "metadata": {},
   "outputs": [
    {
     "data": {
      "application/vnd.jupyter.widget-view+json": {
       "model_id": "e45daae27c2f43849fb0d989b2f0f718",
       "version_major": 2,
       "version_minor": 0
      },
      "text/plain": [
       "  0%|          | 0/2441 [00:00<?, ?it/s]"
      ]
     },
     "metadata": {},
     "output_type": "display_data"
    }
   ],
   "source": [
    "lbl_repr = F.normalize(learn.get_representation(learn.get_test_dataloader(test_dset.lbl_dset)), dim=1)"
   ]
  },
  {
   "cell_type": "code",
   "execution_count": null,
   "id": "546e5602-64b9-44e2-b377-8b6b2f815d82",
   "metadata": {},
   "outputs": [],
   "source": [
    "pred = torch.load('/scratch/scai/phd/aiz218323/Projects/xc_nlg/outputs/04-metadata-augmented-trie-for-distilbert/\\\n",
    "distilbert-base-uncased_RB33-NAR-1+8-2_(mapped)LF-WikiSeeAlsoTitles-320K/checkpoint-168000/predictions/test_lbl_atrie-hlk_n-smp-2000_seed-50.pth')"
   ]
  },
  {
   "cell_type": "code",
   "execution_count": null,
   "id": "6f0412dc-bd2a-44cb-b504-7bc0ee7c9ee7",
   "metadata": {},
   "outputs": [
    {
     "data": {
      "application/vnd.jupyter.widget-view+json": {
       "model_id": "a7916c04845a4d0790731b8f4395a5e9",
       "version_major": 2,
       "version_minor": 0
      },
      "text/plain": [
       "  0%|          | 0/2000 [00:00<?, ?it/s]"
      ]
     },
     "metadata": {},
     "output_type": "display_data"
    }
   ],
   "source": [
    "from tqdm.auto import tqdm\n",
    "sc,p = [],0\n",
    "for q,d in tqdm(zip(pred.pred_ptr.cumsum(0),data_repr), total=data_repr.shape[0]):\n",
    "    sc.append(d@lbl_repr[pred.pred_idx[p:q]].T);p=q\n",
    "sc = torch.cat(sc)"
   ]
  },
  {
   "cell_type": "code",
   "execution_count": null,
   "id": "e7fa537a-d4f8-44cf-9f24-9db50ed4626d",
   "metadata": {},
   "outputs": [],
   "source": [
    "o = {\n",
    "    'pred_idx': pred.pred_idx,\n",
    "    'pred_ptr': pred.pred_ptr,\n",
    "    'pred_score': pred.pred_score,\n",
    "}\n",
    "o['targ_idx'] = torch.tensor(test_dset.data.data_lbl.indices, dtype=torch.long)\n",
    "o['targ_ptr'] = torch.tensor([o.getnnz() for o in test_dset.data.data_lbl])"
   ]
  },
  {
   "cell_type": "code",
   "execution_count": null,
   "id": "01002f8b-32f6-42ae-9a81-6ba68a8626e0",
   "metadata": {},
   "outputs": [
    {
     "name": "stderr",
     "output_type": "stream",
     "text": [
      "/scratch/scai/phd/aiz218323/anaconda3/envs/xc_nlg/lib/python3.9/site-packages/scipy/sparse/_index.py:145: SparseEfficiencyWarning: Changing the sparsity structure of a csr_matrix is expensive. lil_matrix is more efficient.\n",
      "  self._set_arrayXarray(i, j, x)\n"
     ]
    }
   ],
   "source": [
    "m = metric(**o)"
   ]
  },
  {
   "cell_type": "code",
   "execution_count": null,
   "id": "134f3f27-d111-4faa-bd75-a28bb8ffc973",
   "metadata": {},
   "outputs": [
    {
     "data": {
      "text/html": [
       "<div>\n",
       "<style scoped>\n",
       "    .dataframe tbody tr th:only-of-type {\n",
       "        vertical-align: middle;\n",
       "    }\n",
       "\n",
       "    .dataframe tbody tr th {\n",
       "        vertical-align: top;\n",
       "    }\n",
       "\n",
       "    .dataframe thead th {\n",
       "        text-align: right;\n",
       "    }\n",
       "</style>\n",
       "<table border=\"1\" class=\"dataframe\">\n",
       "  <thead>\n",
       "    <tr style=\"text-align: right;\">\n",
       "      <th></th>\n",
       "      <th>P@1</th>\n",
       "      <th>P@3</th>\n",
       "      <th>P@5</th>\n",
       "      <th>P@10</th>\n",
       "      <th>N@1</th>\n",
       "      <th>N@3</th>\n",
       "      <th>N@5</th>\n",
       "      <th>N@10</th>\n",
       "      <th>PSP@1</th>\n",
       "      <th>PSP@3</th>\n",
       "      <th>PSP@5</th>\n",
       "      <th>PSP@10</th>\n",
       "      <th>PSN@1</th>\n",
       "      <th>PSN@3</th>\n",
       "      <th>PSN@5</th>\n",
       "      <th>PSN@10</th>\n",
       "      <th>R@2</th>\n",
       "      <th>R@3</th>\n",
       "      <th>R@10</th>\n",
       "      <th>R@50</th>\n",
       "      <th>R@100</th>\n",
       "      <th>R@200</th>\n",
       "    </tr>\n",
       "  </thead>\n",
       "  <tbody>\n",
       "    <tr>\n",
       "      <th>0</th>\n",
       "      <td>7.35</td>\n",
       "      <td>4.233333</td>\n",
       "      <td>3.12</td>\n",
       "      <td>1.935</td>\n",
       "      <td>7.35</td>\n",
       "      <td>6.901783</td>\n",
       "      <td>7.154091</td>\n",
       "      <td>7.651232</td>\n",
       "      <td>4.844966</td>\n",
       "      <td>4.718733</td>\n",
       "      <td>4.95917</td>\n",
       "      <td>5.56795</td>\n",
       "      <td>4.844966</td>\n",
       "      <td>5.106114</td>\n",
       "      <td>5.418912</td>\n",
       "      <td>5.852304</td>\n",
       "      <td>5.631907</td>\n",
       "      <td>6.43026</td>\n",
       "      <td>8.998236</td>\n",
       "      <td>14.566245</td>\n",
       "      <td>18.161182</td>\n",
       "      <td>21.828386</td>\n",
       "    </tr>\n",
       "  </tbody>\n",
       "</table>\n",
       "</div>"
      ],
      "text/plain": [
       "    P@1       P@3   P@5   P@10   N@1       N@3       N@5      N@10     PSP@1  \\\n",
       "0  7.35  4.233333  3.12  1.935  7.35  6.901783  7.154091  7.651232  4.844966   \n",
       "\n",
       "      PSP@3    PSP@5   PSP@10     PSN@1     PSN@3     PSN@5    PSN@10  \\\n",
       "0  4.718733  4.95917  5.56795  4.844966  5.106114  5.418912  5.852304   \n",
       "\n",
       "        R@2      R@3      R@10       R@50      R@100      R@200  \n",
       "0  5.631907  6.43026  8.998236  14.566245  18.161182  21.828386  "
      ]
     },
     "metadata": {},
     "output_type": "display_data"
    }
   ],
   "source": [
    "with pd.option_context('display.max_columns', None):\n",
    "    display(pd.DataFrame([m])[sorted_metric(m, order=['P', 'N', 'PSP', 'PSN'])] * 100)"
   ]
  },
  {
   "cell_type": "code",
   "execution_count": null,
   "id": "d0e5a2e0-1432-4968-bf83-6598cea9ff88",
   "metadata": {},
   "outputs": [],
   "source": [
    "o['pred_score'] = sc"
   ]
  },
  {
   "cell_type": "code",
   "execution_count": null,
   "id": "b6dba690-7cff-4f46-a364-b3f518948f54",
   "metadata": {},
   "outputs": [
    {
     "name": "stderr",
     "output_type": "stream",
     "text": [
      "/scratch/scai/phd/aiz218323/anaconda3/envs/xc_nlg/lib/python3.9/site-packages/scipy/sparse/_index.py:145: SparseEfficiencyWarning: Changing the sparsity structure of a csr_matrix is expensive. lil_matrix is more efficient.\n",
      "  self._set_arrayXarray(i, j, x)\n"
     ]
    }
   ],
   "source": [
    "m = metric(**o)"
   ]
  },
  {
   "cell_type": "code",
   "execution_count": null,
   "id": "1321ad11-aa10-497f-8eed-2212396df54b",
   "metadata": {},
   "outputs": [
    {
     "data": {
      "text/html": [
       "<div>\n",
       "<style scoped>\n",
       "    .dataframe tbody tr th:only-of-type {\n",
       "        vertical-align: middle;\n",
       "    }\n",
       "\n",
       "    .dataframe tbody tr th {\n",
       "        vertical-align: top;\n",
       "    }\n",
       "\n",
       "    .dataframe thead th {\n",
       "        text-align: right;\n",
       "    }\n",
       "</style>\n",
       "<table border=\"1\" class=\"dataframe\">\n",
       "  <thead>\n",
       "    <tr style=\"text-align: right;\">\n",
       "      <th></th>\n",
       "      <th>P@1</th>\n",
       "      <th>P@3</th>\n",
       "      <th>P@5</th>\n",
       "      <th>P@10</th>\n",
       "      <th>N@1</th>\n",
       "      <th>N@3</th>\n",
       "      <th>N@5</th>\n",
       "      <th>N@10</th>\n",
       "      <th>PSP@1</th>\n",
       "      <th>PSP@3</th>\n",
       "      <th>PSP@5</th>\n",
       "      <th>PSP@10</th>\n",
       "      <th>PSN@1</th>\n",
       "      <th>PSN@3</th>\n",
       "      <th>PSN@5</th>\n",
       "      <th>PSN@10</th>\n",
       "      <th>R@2</th>\n",
       "      <th>R@3</th>\n",
       "      <th>R@10</th>\n",
       "      <th>R@50</th>\n",
       "      <th>R@100</th>\n",
       "      <th>R@200</th>\n",
       "    </tr>\n",
       "  </thead>\n",
       "  <tbody>\n",
       "    <tr>\n",
       "      <th>0</th>\n",
       "      <td>17.45</td>\n",
       "      <td>12.183333</td>\n",
       "      <td>9.28</td>\n",
       "      <td>5.82</td>\n",
       "      <td>17.450001</td>\n",
       "      <td>17.418501</td>\n",
       "      <td>18.010946</td>\n",
       "      <td>19.160732</td>\n",
       "      <td>12.267292</td>\n",
       "      <td>13.833865</td>\n",
       "      <td>15.050716</td>\n",
       "      <td>17.184882</td>\n",
       "      <td>12.267292</td>\n",
       "      <td>13.554461</td>\n",
       "      <td>14.514999</td>\n",
       "      <td>15.698987</td>\n",
       "      <td>12.783868</td>\n",
       "      <td>15.879529</td>\n",
       "      <td>22.626879</td>\n",
       "      <td>26.566772</td>\n",
       "      <td>27.121868</td>\n",
       "      <td>27.479169</td>\n",
       "    </tr>\n",
       "  </tbody>\n",
       "</table>\n",
       "</div>"
      ],
      "text/plain": [
       "     P@1        P@3   P@5  P@10        N@1        N@3        N@5       N@10  \\\n",
       "0  17.45  12.183333  9.28  5.82  17.450001  17.418501  18.010946  19.160732   \n",
       "\n",
       "       PSP@1      PSP@3      PSP@5     PSP@10      PSN@1      PSN@3  \\\n",
       "0  12.267292  13.833865  15.050716  17.184882  12.267292  13.554461   \n",
       "\n",
       "       PSN@5     PSN@10        R@2        R@3       R@10       R@50  \\\n",
       "0  14.514999  15.698987  12.783868  15.879529  22.626879  26.566772   \n",
       "\n",
       "       R@100      R@200  \n",
       "0  27.121868  27.479169  "
      ]
     },
     "metadata": {},
     "output_type": "display_data"
    }
   ],
   "source": [
    "with pd.option_context('display.max_columns', None):\n",
    "    display(pd.DataFrame([m])[sorted_metric(m, order=['P', 'N', 'PSP', 'PSN'])] * 100)"
   ]
  },
  {
   "cell_type": "code",
   "execution_count": null,
   "id": "623fe512-52e0-4e52-bae6-033aeaa2d8a2",
   "metadata": {},
   "outputs": [],
   "source": []
  }
 ],
 "metadata": {
  "kernelspec": {
   "display_name": "python3",
   "language": "python",
   "name": "python3"
  }
 },
 "nbformat": 4,
 "nbformat_minor": 5
}
