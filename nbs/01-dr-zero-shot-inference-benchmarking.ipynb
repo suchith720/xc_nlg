{
 "cells": [
  {
   "cell_type": "markdown",
   "id": "2da52d71-5321-458f-8c3b-0913fe640d9e",
   "metadata": {},
   "source": [
    "# DR zero-shot inference"
   ]
  },
  {
   "cell_type": "code",
   "execution_count": null,
   "id": "e370b26a-af08-4fe8-ae41-17bc4dde6382",
   "metadata": {},
   "outputs": [],
   "source": [
    "%load_ext autoreload\n",
    "%autoreload 2"
   ]
  },
  {
   "cell_type": "code",
   "execution_count": null,
   "id": "34052e88-ed49-4c94-aa1b-34c10f8040e7",
   "metadata": {},
   "outputs": [],
   "source": [
    "import os, torch\n",
    "\n",
    "from xcai.basics import *\n",
    "from xcai.models.MMM00X import BT0003,DBT008,DBT009,DBT010"
   ]
  },
  {
   "cell_type": "code",
   "execution_count": null,
   "id": "db58539f-f466-4a90-9b61-6179ad3886a1",
   "metadata": {},
   "outputs": [],
   "source": [
    "os.environ['WANDB_MODE'] = 'disabled'"
   ]
  },
  {
   "cell_type": "code",
   "execution_count": null,
   "id": "84149eb0-7312-4505-ba50-c2e7fe1126c8",
   "metadata": {},
   "outputs": [
    {
     "name": "stderr",
     "output_type": "stream",
     "text": [
      "/scratch/scai/phd/aiz218323/anaconda3/envs/xc_nlg/lib/python3.9/site-packages/scipy/sparse/_index.py:145: SparseEfficiencyWarning: Changing the sparsity structure of a csr_matrix is expensive. lil_matrix is more efficient.\n",
      "  self._set_arrayXarray(i, j, x)\n"
     ]
    }
   ],
   "source": [
    "# block = XCBlock.from_cfg('data', valid_pct=0.01, tokenizer='bert-base-uncased')\n",
    "# block = XCBlock.from_cfg('data', valid_pct=0.01, tokenizer='sentence-transformers/msmarco-bert-base-dot-v5')\n",
    "\n",
    "block = XCBlock.from_cfg('data', valid_pct=0.01, tfm='ng', tokenizer='sentence-transformers/msmarco-distilbert-base-v4')"
   ]
  },
  {
   "cell_type": "code",
   "execution_count": null,
   "id": "f5b133d0-b7b7-4a9c-a07b-7b2c9d91cea7",
   "metadata": {},
   "outputs": [],
   "source": [
    "test_dset = block.test.dset.sample(n=2000, seed=50)"
   ]
  },
  {
   "cell_type": "code",
   "execution_count": null,
   "id": "3416ca55-c301-4828-af6d-27a7bbd409b8",
   "metadata": {},
   "outputs": [],
   "source": [
    "args = XCLearningArguments(\n",
    "    output_dir='/scratch/scai/phd/aiz218323/Projects/xc_nlg/outputs/default',\n",
    "    per_device_eval_batch_size=64,\n",
    "    representation_num_beams=200,\n",
    "    evaluation_strategy='steps',\n",
    "    label_names=['lbl2data_idx'],\n",
    ")"
   ]
  },
  {
   "cell_type": "code",
   "execution_count": null,
   "id": "d10082af-073b-4491-8f32-c53aeabda141",
   "metadata": {},
   "outputs": [],
   "source": [
    "metric = PrecRecl(test_dset.n_lbl, test_dset.data.data_lbl_filterer, prop=block.train.dset.data.data_lbl,\n",
    "                  pk=10, rk=200, rep_pk=[1, 3, 5, 10], rep_rk=[10, 100, 200])"
   ]
  },
  {
   "cell_type": "code",
   "execution_count": null,
   "id": "87ff9a31-b847-4959-a6aa-1d6133f38aae",
   "metadata": {},
   "outputs": [],
   "source": [
    "metric = PrecRecl(block.valid.dset.n_lbl, block.valid.data_lbl_filterer, prop=block.train.dset.data.data_lbl,\n",
    "                  pk=10, rk=200, rep_pk=[1, 3, 5, 10], rep_rk=[10, 100, 200])"
   ]
  },
  {
   "cell_type": "code",
   "execution_count": null,
   "id": "0d31db64-6e2f-4c6c-b606-d8e3cef4c422",
   "metadata": {},
   "outputs": [],
   "source": [
    "metric = PrecRecl(block.test.dset.n_lbl, block.test.data_lbl_filterer, prop=block.train.dset.data.data_lbl,\n",
    "                  pk=10, rk=200, rep_pk=[1, 3, 5, 10], rep_rk=[10, 100, 200])"
   ]
  },
  {
   "cell_type": "markdown",
   "id": "564d95e3-c366-460b-baaa-de9e3244a29a",
   "metadata": {},
   "source": [
    "## `train-valid split`"
   ]
  },
  {
   "cell_type": "code",
   "execution_count": null,
   "id": "82d0b03c-0a83-4b62-a128-b1f89c9d71f7",
   "metadata": {},
   "outputs": [],
   "source": [
    "from xcai.core import Filterer"
   ]
  },
  {
   "cell_type": "code",
   "execution_count": null,
   "id": "bf860d3c-b1a9-4026-b6bb-6cfa222967e5",
   "metadata": {},
   "outputs": [
    {
     "name": "stderr",
     "output_type": "stream",
     "text": [
      "Some weights of BT0003 were not initialized from the model checkpoint at bert-base-uncased and are newly initialized: ['loss_fn.u', 'loss_fn.v']\n",
      "You should probably TRAIN this model on a down-stream task to be able to use it for predictions and inference.\n"
     ]
    }
   ],
   "source": [
    "bsz = max(args.per_device_eval_batch_size, args.per_device_train_batch_size)*torch.cuda.device_count()\n",
    "model = BT0003.from_pretrained('bert-base-uncased', bsz=bsz, margin=0.8, tn_targ=10_000)"
   ]
  },
  {
   "cell_type": "code",
   "execution_count": null,
   "id": "110a50c6-6459-4a46-b199-1ea78c8862c4",
   "metadata": {},
   "outputs": [
    {
     "name": "stderr",
     "output_type": "stream",
     "text": [
      "/scratch/scai/phd/aiz218323/anaconda3/envs/xc_nlg/lib/python3.9/site-packages/scipy/sparse/_index.py:145: SparseEfficiencyWarning: Changing the sparsity structure of a csr_matrix is expensive. lil_matrix is more efficient.\n",
      "  self._set_arrayXarray(i, j, x)\n"
     ]
    }
   ],
   "source": [
    "train, valid_1 = block.train.splitter(valid_pct=0.3)\n",
    "train_filterer, valid_1_filterer = Filterer.generate(train.dset.data.data_info['identifier'], valid_1.dset.data.data_info['identifier'], \n",
    "                                                     train.dset.data.lbl_info['identifier'], train.dset.data.data_lbl, \n",
    "                                                     valid_1.dset.data.data_lbl)\n",
    "train, valid_2 = train.splitter(valid_pct=0.1)\n",
    "train_filterer, valid_2_filterer = Filterer.generate(train.dset.data.data_info['identifier'], valid_2.dset.data.data_info['identifier'], \n",
    "                                                     train.dset.data.lbl_info['identifier'], train.dset.data.data_lbl, \n",
    "                                                     valid_2.dset.data.data_lbl)"
   ]
  },
  {
   "cell_type": "code",
   "execution_count": null,
   "id": "a759b9fd-8617-4403-81e7-f1630929d4e8",
   "metadata": {},
   "outputs": [],
   "source": [
    "metric = PrecRecl(train.dset.n_lbl, prop=block.train.dset.data.data_lbl,\n",
    "                  pk=10, rk=200, rep_pk=[1, 3, 5, 10], rep_rk=[10, 100, 200])"
   ]
  },
  {
   "cell_type": "code",
   "execution_count": null,
   "id": "1f206b98-cf15-4b2a-b7b9-d933f2376597",
   "metadata": {},
   "outputs": [],
   "source": [
    "metric = PrecRecl(valid_1.dset.n_lbl, valid_1_filterer, prop=block.train.dset.data.data_lbl,\n",
    "                  pk=10, rk=200, rep_pk=[1, 3, 5, 10], rep_rk=[10, 100, 200])"
   ]
  },
  {
   "cell_type": "code",
   "execution_count": null,
   "id": "75a28ca5-25aa-400a-950d-69fe08c6b6be",
   "metadata": {},
   "outputs": [],
   "source": [
    "metric = PrecRecl(valid_2.dset.n_lbl, valid_2_filterer, prop=block.train.dset.data.data_lbl,\n",
    "                  pk=10, rk=200, rep_pk=[1, 3, 5, 10], rep_rk=[10, 100, 200])"
   ]
  },
  {
   "cell_type": "code",
   "execution_count": null,
   "id": "f2aa94ab-b2c9-45b7-a037-3c375958f99a",
   "metadata": {},
   "outputs": [
    {
     "name": "stderr",
     "output_type": "stream",
     "text": [
      "/scratch/scai/phd/aiz218323/anaconda3/envs/xc_nlg/lib/python3.9/site-packages/accelerate/accelerator.py:432: FutureWarning: Passing the following arguments to `Accelerator` is deprecated and will be removed in version 1.0 of Accelerate: dict_keys(['dispatch_batches', 'split_batches', 'even_batches', 'use_seedable_sampler']). Please pass an `accelerate.DataLoaderConfiguration` instead: \n",
      "dataloader_config = DataLoaderConfiguration(dispatch_batches=None, split_batches=False, even_batches=True, use_seedable_sampler=True)\n",
      "  warnings.warn(\n",
      "Detected kernel version 3.10.0, which is below the recommended minimum of 5.5.0; this can cause the process to hang. It is recommended to upgrade the kernel to the minimum version or higher.\n"
     ]
    }
   ],
   "source": [
    "learn = XCLearner(\n",
    "    model=model, \n",
    "    args=args,\n",
    "    train_dataset=block.train.dset,\n",
    "    eval_dataset=block.valid.dset,\n",
    "    data_collator=block.collator,\n",
    "    compute_metrics=metric,\n",
    ")"
   ]
  },
  {
   "cell_type": "code",
   "execution_count": null,
   "id": "d317ab6c-de71-44b3-9520-87ed6f2ecc59",
   "metadata": {},
   "outputs": [
    {
     "data": {
      "application/vnd.jupyter.widget-view+json": {
       "model_id": "53cd24c78f3a46148561a125700d6cd6",
       "version_major": 2,
       "version_minor": 0
      },
      "text/plain": [
       "  0%|          | 0/2441 [00:00<?, ?it/s]"
      ]
     },
     "metadata": {},
     "output_type": "display_data"
    },
    {
     "name": "stderr",
     "output_type": "stream",
     "text": [
      "/scratch/scai/phd/aiz218323/anaconda3/envs/xc_nlg/lib/python3.9/site-packages/torch/nn/parallel/_functions.py:68: UserWarning: Was asked to gather along dimension 0, but all input tensors were scalars; will instead unsqueeze and return a vector.\n",
      "  warnings.warn('Was asked to gather along dimension 0, but all '\n"
     ]
    },
    {
     "data": {
      "text/html": [
       "\n",
       "    <div>\n",
       "      \n",
       "      <progress value='3378' max='3378' style='width:300px; height:20px; vertical-align: middle;'></progress>\n",
       "      [3378/3378 33:47]\n",
       "    </div>\n",
       "    "
      ],
      "text/plain": [
       "<IPython.core.display.HTML object>"
      ]
     },
     "metadata": {},
     "output_type": "display_data"
    },
    {
     "name": "stderr",
     "output_type": "stream",
     "text": [
      "Failed to detect the name of this notebook, you can set it manually with the WANDB_NOTEBOOK_NAME environment variable to enable code saving.\n",
      "huggingface/tokenizers: The current process just got forked, after parallelism has already been used. Disabling parallelism to avoid deadlocks...\n",
      "To disable this warning, you can either:\n",
      "\t- Avoid using `tokenizers` before the fork if possible\n",
      "\t- Explicitly set the environment variable TOKENIZERS_PARALLELISM=(true | false)\n"
     ]
    },
    {
     "data": {
      "text/html": [
       "<div>\n",
       "<style scoped>\n",
       "    .dataframe tbody tr th:only-of-type {\n",
       "        vertical-align: middle;\n",
       "    }\n",
       "\n",
       "    .dataframe tbody tr th {\n",
       "        vertical-align: top;\n",
       "    }\n",
       "\n",
       "    .dataframe thead th {\n",
       "        text-align: right;\n",
       "    }\n",
       "</style>\n",
       "<table border=\"1\" class=\"dataframe\">\n",
       "  <thead>\n",
       "    <tr style=\"text-align: right;\">\n",
       "      <th></th>\n",
       "      <th>P@1</th>\n",
       "      <th>P@3</th>\n",
       "      <th>P@5</th>\n",
       "      <th>P@10</th>\n",
       "      <th>N@1</th>\n",
       "      <th>N@3</th>\n",
       "      <th>N@5</th>\n",
       "      <th>N@10</th>\n",
       "      <th>PSP@1</th>\n",
       "      <th>PSP@3</th>\n",
       "      <th>PSP@5</th>\n",
       "      <th>PSP@10</th>\n",
       "      <th>PSN@1</th>\n",
       "      <th>PSN@3</th>\n",
       "      <th>PSN@5</th>\n",
       "      <th>PSN@10</th>\n",
       "      <th>R@10</th>\n",
       "      <th>R@100</th>\n",
       "      <th>R@200</th>\n",
       "      <th>loss</th>\n",
       "      <th>runtime</th>\n",
       "      <th>samples_per_second</th>\n",
       "      <th>steps_per_second</th>\n",
       "    </tr>\n",
       "  </thead>\n",
       "  <tbody>\n",
       "    <tr>\n",
       "      <th>0</th>\n",
       "      <td>17.5998</td>\n",
       "      <td>7.7965</td>\n",
       "      <td>5.2469</td>\n",
       "      <td>3.0234</td>\n",
       "      <td>17.5998</td>\n",
       "      <td>11.712</td>\n",
       "      <td>11.2947</td>\n",
       "      <td>11.616</td>\n",
       "      <td>24.4386</td>\n",
       "      <td>18.7654</td>\n",
       "      <td>18.5358</td>\n",
       "      <td>19.7224</td>\n",
       "      <td>24.4386</td>\n",
       "      <td>17.1977</td>\n",
       "      <td>16.743</td>\n",
       "      <td>17.1847</td>\n",
       "      <td>11.5142</td>\n",
       "      <td>16.1221</td>\n",
       "      <td>16.1221</td>\n",
       "      <td>0.8763</td>\n",
       "      <td>2050.7567</td>\n",
       "      <td>210.789</td>\n",
       "      <td>1.647</td>\n",
       "    </tr>\n",
       "  </tbody>\n",
       "</table>\n",
       "</div>"
      ],
      "text/plain": [
       "       P@1     P@3     P@5    P@10      N@1     N@3      N@5    N@10    PSP@1  \\\n",
       "0  17.5998  7.7965  5.2469  3.0234  17.5998  11.712  11.2947  11.616  24.4386   \n",
       "\n",
       "     PSP@3    PSP@5   PSP@10    PSN@1    PSN@3   PSN@5   PSN@10     R@10  \\\n",
       "0  18.7654  18.5358  19.7224  24.4386  17.1977  16.743  17.1847  11.5142   \n",
       "\n",
       "     R@100    R@200    loss    runtime  samples_per_second  steps_per_second  \n",
       "0  16.1221  16.1221  0.8763  2050.7567             210.789             1.647  "
      ]
     },
     "metadata": {},
     "output_type": "display_data"
    }
   ],
   "source": [
    "metrics = learn.evaluate(train.dset)\n",
    "display_metric(metrics)"
   ]
  },
  {
   "cell_type": "code",
   "execution_count": null,
   "id": "2f1c7a21-a124-4239-8d62-bce81df6211d",
   "metadata": {},
   "outputs": [
    {
     "data": {
      "application/vnd.jupyter.widget-view+json": {
       "model_id": "e956e4f0aa5246c7827c050b55427d4a",
       "version_major": 2,
       "version_minor": 0
      },
      "text/plain": [
       "  0%|          | 0/2441 [00:00<?, ?it/s]"
      ]
     },
     "metadata": {},
     "output_type": "display_data"
    },
    {
     "name": "stderr",
     "output_type": "stream",
     "text": [
      "/scratch/scai/phd/aiz218323/anaconda3/envs/xc_nlg/lib/python3.9/site-packages/torch/nn/parallel/_functions.py:68: UserWarning: Was asked to gather along dimension 0, but all input tensors were scalars; will instead unsqueeze and return a vector.\n",
      "  warnings.warn('Was asked to gather along dimension 0, but all '\n"
     ]
    },
    {
     "data": {
      "text/html": [
       "\n",
       "    <div>\n",
       "      \n",
       "      <progress value='1598' max='1598' style='width:300px; height:20px; vertical-align: middle;'></progress>\n",
       "      [1598/1598 08:36]\n",
       "    </div>\n",
       "    "
      ],
      "text/plain": [
       "<IPython.core.display.HTML object>"
      ]
     },
     "metadata": {},
     "output_type": "display_data"
    },
    {
     "data": {
      "text/html": [
       "<div>\n",
       "<style scoped>\n",
       "    .dataframe tbody tr th:only-of-type {\n",
       "        vertical-align: middle;\n",
       "    }\n",
       "\n",
       "    .dataframe tbody tr th {\n",
       "        vertical-align: top;\n",
       "    }\n",
       "\n",
       "    .dataframe thead th {\n",
       "        text-align: right;\n",
       "    }\n",
       "</style>\n",
       "<table border=\"1\" class=\"dataframe\">\n",
       "  <thead>\n",
       "    <tr style=\"text-align: right;\">\n",
       "      <th></th>\n",
       "      <th>P@1</th>\n",
       "      <th>P@3</th>\n",
       "      <th>P@5</th>\n",
       "      <th>P@10</th>\n",
       "      <th>N@1</th>\n",
       "      <th>N@3</th>\n",
       "      <th>N@5</th>\n",
       "      <th>N@10</th>\n",
       "      <th>PSP@1</th>\n",
       "      <th>PSP@3</th>\n",
       "      <th>PSP@5</th>\n",
       "      <th>PSP@10</th>\n",
       "      <th>PSN@1</th>\n",
       "      <th>PSN@3</th>\n",
       "      <th>PSN@5</th>\n",
       "      <th>PSN@10</th>\n",
       "      <th>R@10</th>\n",
       "      <th>R@100</th>\n",
       "      <th>R@200</th>\n",
       "      <th>loss</th>\n",
       "      <th>runtime</th>\n",
       "      <th>samples_per_second</th>\n",
       "      <th>steps_per_second</th>\n",
       "    </tr>\n",
       "  </thead>\n",
       "  <tbody>\n",
       "    <tr>\n",
       "      <th>0</th>\n",
       "      <td>16.9696</td>\n",
       "      <td>7.5818</td>\n",
       "      <td>5.1204</td>\n",
       "      <td>2.9559</td>\n",
       "      <td>16.9696</td>\n",
       "      <td>11.2622</td>\n",
       "      <td>10.8508</td>\n",
       "      <td>11.1692</td>\n",
       "      <td>23.6174</td>\n",
       "      <td>18.2857</td>\n",
       "      <td>18.1228</td>\n",
       "      <td>19.3111</td>\n",
       "      <td>23.6174</td>\n",
       "      <td>16.5359</td>\n",
       "      <td>16.0834</td>\n",
       "      <td>16.5222</td>\n",
       "      <td>11.134</td>\n",
       "      <td>15.7716</td>\n",
       "      <td>15.7716</td>\n",
       "      <td>0.8812</td>\n",
       "      <td>519.1512</td>\n",
       "      <td>393.903</td>\n",
       "      <td>3.078</td>\n",
       "    </tr>\n",
       "  </tbody>\n",
       "</table>\n",
       "</div>"
      ],
      "text/plain": [
       "       P@1     P@3     P@5    P@10      N@1      N@3      N@5     N@10  \\\n",
       "0  16.9696  7.5818  5.1204  2.9559  16.9696  11.2622  10.8508  11.1692   \n",
       "\n",
       "     PSP@1    PSP@3    PSP@5   PSP@10    PSN@1    PSN@3    PSN@5   PSN@10  \\\n",
       "0  23.6174  18.2857  18.1228  19.3111  23.6174  16.5359  16.0834  16.5222   \n",
       "\n",
       "     R@10    R@100    R@200    loss   runtime  samples_per_second  \\\n",
       "0  11.134  15.7716  15.7716  0.8812  519.1512             393.903   \n",
       "\n",
       "   steps_per_second  \n",
       "0             3.078  "
      ]
     },
     "metadata": {},
     "output_type": "display_data"
    }
   ],
   "source": [
    "metrics = learn.evaluate(valid_1.dset)\n",
    "display_metric(metrics)"
   ]
  },
  {
   "cell_type": "code",
   "execution_count": null,
   "id": "e4870281-3ae7-4c8d-a7fb-7d8d1f0c69fd",
   "metadata": {},
   "outputs": [
    {
     "data": {
      "application/vnd.jupyter.widget-view+json": {
       "model_id": "2952660b87a34725a0f300cc7ed0ae1e",
       "version_major": 2,
       "version_minor": 0
      },
      "text/plain": [
       "  0%|          | 0/2441 [00:00<?, ?it/s]"
      ]
     },
     "metadata": {},
     "output_type": "display_data"
    },
    {
     "name": "stderr",
     "output_type": "stream",
     "text": [
      "/scratch/scai/phd/aiz218323/anaconda3/envs/xc_nlg/lib/python3.9/site-packages/torch/nn/parallel/_functions.py:68: UserWarning: Was asked to gather along dimension 0, but all input tensors were scalars; will instead unsqueeze and return a vector.\n",
      "  warnings.warn('Was asked to gather along dimension 0, but all '\n"
     ]
    },
    {
     "data": {
      "text/html": [
       "\n",
       "    <div>\n",
       "      \n",
       "      <progress value='373' max='373' style='width:300px; height:20px; vertical-align: middle;'></progress>\n",
       "      [373/373 02:00]\n",
       "    </div>\n",
       "    "
      ],
      "text/plain": [
       "<IPython.core.display.HTML object>"
      ]
     },
     "metadata": {},
     "output_type": "display_data"
    },
    {
     "data": {
      "text/html": [
       "<div>\n",
       "<style scoped>\n",
       "    .dataframe tbody tr th:only-of-type {\n",
       "        vertical-align: middle;\n",
       "    }\n",
       "\n",
       "    .dataframe tbody tr th {\n",
       "        vertical-align: top;\n",
       "    }\n",
       "\n",
       "    .dataframe thead th {\n",
       "        text-align: right;\n",
       "    }\n",
       "</style>\n",
       "<table border=\"1\" class=\"dataframe\">\n",
       "  <thead>\n",
       "    <tr style=\"text-align: right;\">\n",
       "      <th></th>\n",
       "      <th>P@1</th>\n",
       "      <th>P@3</th>\n",
       "      <th>P@5</th>\n",
       "      <th>P@10</th>\n",
       "      <th>N@1</th>\n",
       "      <th>N@3</th>\n",
       "      <th>N@5</th>\n",
       "      <th>N@10</th>\n",
       "      <th>PSP@1</th>\n",
       "      <th>PSP@3</th>\n",
       "      <th>PSP@5</th>\n",
       "      <th>PSP@10</th>\n",
       "      <th>PSN@1</th>\n",
       "      <th>PSN@3</th>\n",
       "      <th>PSN@5</th>\n",
       "      <th>PSN@10</th>\n",
       "      <th>R@10</th>\n",
       "      <th>R@100</th>\n",
       "      <th>R@200</th>\n",
       "      <th>loss</th>\n",
       "      <th>runtime</th>\n",
       "      <th>samples_per_second</th>\n",
       "      <th>steps_per_second</th>\n",
       "    </tr>\n",
       "  </thead>\n",
       "  <tbody>\n",
       "    <tr>\n",
       "      <th>0</th>\n",
       "      <td>17.0746</td>\n",
       "      <td>7.6243</td>\n",
       "      <td>5.1425</td>\n",
       "      <td>2.9887</td>\n",
       "      <td>17.0746</td>\n",
       "      <td>11.3009</td>\n",
       "      <td>10.8979</td>\n",
       "      <td>11.2655</td>\n",
       "      <td>23.7015</td>\n",
       "      <td>18.3584</td>\n",
       "      <td>18.158</td>\n",
       "      <td>19.5214</td>\n",
       "      <td>23.7015</td>\n",
       "      <td>16.5663</td>\n",
       "      <td>16.0976</td>\n",
       "      <td>16.5941</td>\n",
       "      <td>11.2802</td>\n",
       "      <td>15.9766</td>\n",
       "      <td>15.9766</td>\n",
       "      <td>0.871</td>\n",
       "      <td>126.718</td>\n",
       "      <td>376.584</td>\n",
       "      <td>2.944</td>\n",
       "    </tr>\n",
       "  </tbody>\n",
       "</table>\n",
       "</div>"
      ],
      "text/plain": [
       "       P@1     P@3     P@5    P@10      N@1      N@3      N@5     N@10  \\\n",
       "0  17.0746  7.6243  5.1425  2.9887  17.0746  11.3009  10.8979  11.2655   \n",
       "\n",
       "     PSP@1    PSP@3   PSP@5   PSP@10    PSN@1    PSN@3    PSN@5   PSN@10  \\\n",
       "0  23.7015  18.3584  18.158  19.5214  23.7015  16.5663  16.0976  16.5941   \n",
       "\n",
       "      R@10    R@100    R@200   loss  runtime  samples_per_second  \\\n",
       "0  11.2802  15.9766  15.9766  0.871  126.718             376.584   \n",
       "\n",
       "   steps_per_second  \n",
       "0             2.944  "
      ]
     },
     "metadata": {},
     "output_type": "display_data"
    }
   ],
   "source": [
    "metrics = learn.evaluate(valid_2.dset)\n",
    "display_metric(metrics)"
   ]
  },
  {
   "cell_type": "code",
   "execution_count": null,
   "id": "a4afa7aa-d1b6-459b-8495-4c134d4405ac",
   "metadata": {},
   "outputs": [
    {
     "data": {
      "application/vnd.jupyter.widget-view+json": {
       "model_id": "715f410c2f90495eb0f71c78ccd56103",
       "version_major": 2,
       "version_minor": 0
      },
      "text/plain": [
       "  0%|          | 0/2441 [00:00<?, ?it/s]"
      ]
     },
     "metadata": {},
     "output_type": "display_data"
    },
    {
     "name": "stderr",
     "output_type": "stream",
     "text": [
      "/scratch/scai/phd/aiz218323/anaconda3/envs/xc_nlg/lib/python3.9/site-packages/torch/nn/parallel/_functions.py:68: UserWarning: Was asked to gather along dimension 0, but all input tensors were scalars; will instead unsqueeze and return a vector.\n",
      "  warnings.warn('Was asked to gather along dimension 0, but all '\n"
     ]
    },
    {
     "data": {
      "text/html": [
       "\n",
       "    <div>\n",
       "      \n",
       "      <progress value='1598' max='1598' style='width:300px; height:20px; vertical-align: middle;'></progress>\n",
       "      [1598/1598 08:33]\n",
       "    </div>\n",
       "    "
      ],
      "text/plain": [
       "<IPython.core.display.HTML object>"
      ]
     },
     "metadata": {},
     "output_type": "display_data"
    },
    {
     "name": "stderr",
     "output_type": "stream",
     "text": [
      "/scratch/scai/phd/aiz218323/anaconda3/envs/xc_nlg/lib/python3.9/site-packages/scipy/sparse/_index.py:145: SparseEfficiencyWarning: Changing the sparsity structure of a csr_matrix is expensive. lil_matrix is more efficient.\n",
      "  self._set_arrayXarray(i, j, x)\n"
     ]
    },
    {
     "data": {
      "text/html": [
       "<div>\n",
       "<style scoped>\n",
       "    .dataframe tbody tr th:only-of-type {\n",
       "        vertical-align: middle;\n",
       "    }\n",
       "\n",
       "    .dataframe tbody tr th {\n",
       "        vertical-align: top;\n",
       "    }\n",
       "\n",
       "    .dataframe thead th {\n",
       "        text-align: right;\n",
       "    }\n",
       "</style>\n",
       "<table border=\"1\" class=\"dataframe\">\n",
       "  <thead>\n",
       "    <tr style=\"text-align: right;\">\n",
       "      <th></th>\n",
       "      <th>P@1</th>\n",
       "      <th>P@3</th>\n",
       "      <th>P@5</th>\n",
       "      <th>P@10</th>\n",
       "      <th>N@1</th>\n",
       "      <th>N@3</th>\n",
       "      <th>N@5</th>\n",
       "      <th>N@10</th>\n",
       "      <th>PSP@1</th>\n",
       "      <th>PSP@3</th>\n",
       "      <th>PSP@5</th>\n",
       "      <th>PSP@10</th>\n",
       "      <th>PSN@1</th>\n",
       "      <th>PSN@3</th>\n",
       "      <th>PSN@5</th>\n",
       "      <th>PSN@10</th>\n",
       "      <th>R@10</th>\n",
       "      <th>R@100</th>\n",
       "      <th>R@200</th>\n",
       "      <th>loss</th>\n",
       "      <th>runtime</th>\n",
       "      <th>samples_per_second</th>\n",
       "      <th>steps_per_second</th>\n",
       "    </tr>\n",
       "  </thead>\n",
       "  <tbody>\n",
       "    <tr>\n",
       "      <th>0</th>\n",
       "      <td>5.4168</td>\n",
       "      <td>3.3091</td>\n",
       "      <td>2.4656</td>\n",
       "      <td>1.5931</td>\n",
       "      <td>5.4168</td>\n",
       "      <td>5.2023</td>\n",
       "      <td>5.4728</td>\n",
       "      <td>6.028</td>\n",
       "      <td>7.3566</td>\n",
       "      <td>8.1851</td>\n",
       "      <td>9.1067</td>\n",
       "      <td>10.9402</td>\n",
       "      <td>7.3566</td>\n",
       "      <td>7.3088</td>\n",
       "      <td>7.7118</td>\n",
       "      <td>8.4196</td>\n",
       "      <td>7.6887</td>\n",
       "      <td>12.5963</td>\n",
       "      <td>12.5963</td>\n",
       "      <td>0.8812</td>\n",
       "      <td>518.4618</td>\n",
       "      <td>394.426</td>\n",
       "      <td>3.082</td>\n",
       "    </tr>\n",
       "  </tbody>\n",
       "</table>\n",
       "</div>"
      ],
      "text/plain": [
       "      P@1     P@3     P@5    P@10     N@1     N@3     N@5   N@10   PSP@1  \\\n",
       "0  5.4168  3.3091  2.4656  1.5931  5.4168  5.2023  5.4728  6.028  7.3566   \n",
       "\n",
       "    PSP@3   PSP@5   PSP@10   PSN@1   PSN@3   PSN@5  PSN@10    R@10    R@100  \\\n",
       "0  8.1851  9.1067  10.9402  7.3566  7.3088  7.7118  8.4196  7.6887  12.5963   \n",
       "\n",
       "     R@200    loss   runtime  samples_per_second  steps_per_second  \n",
       "0  12.5963  0.8812  518.4618             394.426             3.082  "
      ]
     },
     "metadata": {},
     "output_type": "display_data"
    }
   ],
   "source": [
    "metrics = learn.evaluate(valid_1.dset)\n",
    "display_metric(metrics)"
   ]
  },
  {
   "cell_type": "code",
   "execution_count": null,
   "id": "439f7888-2be0-4810-9f49-6bbb86a99fa5",
   "metadata": {},
   "outputs": [
    {
     "data": {
      "application/vnd.jupyter.widget-view+json": {
       "model_id": "2147a410de6244bba0d49f6d168d606f",
       "version_major": 2,
       "version_minor": 0
      },
      "text/plain": [
       "  0%|          | 0/2441 [00:00<?, ?it/s]"
      ]
     },
     "metadata": {},
     "output_type": "display_data"
    },
    {
     "name": "stderr",
     "output_type": "stream",
     "text": [
      "/scratch/scai/phd/aiz218323/anaconda3/envs/xc_nlg/lib/python3.9/site-packages/torch/nn/parallel/_functions.py:68: UserWarning: Was asked to gather along dimension 0, but all input tensors were scalars; will instead unsqueeze and return a vector.\n",
      "  warnings.warn('Was asked to gather along dimension 0, but all '\n"
     ]
    },
    {
     "data": {
      "text/html": [
       "\n",
       "    <div>\n",
       "      \n",
       "      <progress value='373' max='373' style='width:300px; height:20px; vertical-align: middle;'></progress>\n",
       "      [373/373 02:10]\n",
       "    </div>\n",
       "    "
      ],
      "text/plain": [
       "<IPython.core.display.HTML object>"
      ]
     },
     "metadata": {},
     "output_type": "display_data"
    },
    {
     "name": "stderr",
     "output_type": "stream",
     "text": [
      "/scratch/scai/phd/aiz218323/anaconda3/envs/xc_nlg/lib/python3.9/site-packages/scipy/sparse/_index.py:145: SparseEfficiencyWarning: Changing the sparsity structure of a csr_matrix is expensive. lil_matrix is more efficient.\n",
      "  self._set_arrayXarray(i, j, x)\n"
     ]
    },
    {
     "data": {
      "text/html": [
       "<div>\n",
       "<style scoped>\n",
       "    .dataframe tbody tr th:only-of-type {\n",
       "        vertical-align: middle;\n",
       "    }\n",
       "\n",
       "    .dataframe tbody tr th {\n",
       "        vertical-align: top;\n",
       "    }\n",
       "\n",
       "    .dataframe thead th {\n",
       "        text-align: right;\n",
       "    }\n",
       "</style>\n",
       "<table border=\"1\" class=\"dataframe\">\n",
       "  <thead>\n",
       "    <tr style=\"text-align: right;\">\n",
       "      <th></th>\n",
       "      <th>P@1</th>\n",
       "      <th>P@3</th>\n",
       "      <th>P@5</th>\n",
       "      <th>P@10</th>\n",
       "      <th>N@1</th>\n",
       "      <th>N@3</th>\n",
       "      <th>N@5</th>\n",
       "      <th>N@10</th>\n",
       "      <th>PSP@1</th>\n",
       "      <th>PSP@3</th>\n",
       "      <th>PSP@5</th>\n",
       "      <th>PSP@10</th>\n",
       "      <th>PSN@1</th>\n",
       "      <th>PSN@3</th>\n",
       "      <th>PSN@5</th>\n",
       "      <th>PSN@10</th>\n",
       "      <th>R@10</th>\n",
       "      <th>R@100</th>\n",
       "      <th>R@200</th>\n",
       "      <th>loss</th>\n",
       "      <th>runtime</th>\n",
       "      <th>samples_per_second</th>\n",
       "      <th>steps_per_second</th>\n",
       "    </tr>\n",
       "  </thead>\n",
       "  <tbody>\n",
       "    <tr>\n",
       "      <th>0</th>\n",
       "      <td>5.5553</td>\n",
       "      <td>3.3745</td>\n",
       "      <td>2.5113</td>\n",
       "      <td>1.636</td>\n",
       "      <td>5.5553</td>\n",
       "      <td>5.2922</td>\n",
       "      <td>5.5704</td>\n",
       "      <td>6.1725</td>\n",
       "      <td>7.5648</td>\n",
       "      <td>8.3704</td>\n",
       "      <td>9.2567</td>\n",
       "      <td>11.2389</td>\n",
       "      <td>7.5648</td>\n",
       "      <td>7.4481</td>\n",
       "      <td>7.8272</td>\n",
       "      <td>8.596</td>\n",
       "      <td>7.905</td>\n",
       "      <td>12.8402</td>\n",
       "      <td>12.8402</td>\n",
       "      <td>0.871</td>\n",
       "      <td>131.3458</td>\n",
       "      <td>363.316</td>\n",
       "      <td>2.84</td>\n",
       "    </tr>\n",
       "  </tbody>\n",
       "</table>\n",
       "</div>"
      ],
      "text/plain": [
       "      P@1     P@3     P@5   P@10     N@1     N@3     N@5    N@10   PSP@1  \\\n",
       "0  5.5553  3.3745  2.5113  1.636  5.5553  5.2922  5.5704  6.1725  7.5648   \n",
       "\n",
       "    PSP@3   PSP@5   PSP@10   PSN@1   PSN@3   PSN@5  PSN@10   R@10    R@100  \\\n",
       "0  8.3704  9.2567  11.2389  7.5648  7.4481  7.8272   8.596  7.905  12.8402   \n",
       "\n",
       "     R@200   loss   runtime  samples_per_second  steps_per_second  \n",
       "0  12.8402  0.871  131.3458             363.316              2.84  "
      ]
     },
     "metadata": {},
     "output_type": "display_data"
    }
   ],
   "source": [
    "metrics = learn.evaluate(valid_2.dset)\n",
    "display_metric(metrics)"
   ]
  },
  {
   "cell_type": "markdown",
   "id": "f1fdc091-942b-4504-aa78-3df36a478b56",
   "metadata": {},
   "source": [
    "## `bert-base-cased`"
   ]
  },
  {
   "cell_type": "code",
   "execution_count": null,
   "id": "0e2a46ee-8a97-4160-91c3-2773e54bb7bd",
   "metadata": {},
   "outputs": [
    {
     "name": "stderr",
     "output_type": "stream",
     "text": [
      "Some weights of BT0003 were not initialized from the model checkpoint at bert-base-uncased and are newly initialized: ['loss_fn.u', 'loss_fn.v']\n",
      "You should probably TRAIN this model on a down-stream task to be able to use it for predictions and inference.\n"
     ]
    }
   ],
   "source": [
    "bsz = max(args.per_device_eval_batch_size, args.per_device_train_batch_size)*torch.cuda.device_count()\n",
    "model = BT0003.from_pretrained('bert-base-uncased', bsz=bsz, margin=0.8, tn_targ=10_000)"
   ]
  },
  {
   "cell_type": "code",
   "execution_count": null,
   "id": "f323a1c8-cef7-49ab-aeb1-2c2f3b4e35b4",
   "metadata": {},
   "outputs": [
    {
     "name": "stderr",
     "output_type": "stream",
     "text": [
      "/scratch/scai/phd/aiz218323/anaconda3/envs/xc_nlg/lib/python3.9/site-packages/accelerate/accelerator.py:432: FutureWarning: Passing the following arguments to `Accelerator` is deprecated and will be removed in version 1.0 of Accelerate: dict_keys(['dispatch_batches', 'split_batches', 'even_batches', 'use_seedable_sampler']). Please pass an `accelerate.DataLoaderConfiguration` instead: \n",
      "dataloader_config = DataLoaderConfiguration(dispatch_batches=None, split_batches=False, even_batches=True, use_seedable_sampler=True)\n",
      "  warnings.warn(\n",
      "Detected kernel version 3.10.0, which is below the recommended minimum of 5.5.0; this can cause the process to hang. It is recommended to upgrade the kernel to the minimum version or higher.\n",
      "huggingface/tokenizers: The current process just got forked, after parallelism has already been used. Disabling parallelism to avoid deadlocks...\n",
      "To disable this warning, you can either:\n",
      "\t- Avoid using `tokenizers` before the fork if possible\n",
      "\t- Explicitly set the environment variable TOKENIZERS_PARALLELISM=(true | false)\n",
      "huggingface/tokenizers: The current process just got forked, after parallelism has already been used. Disabling parallelism to avoid deadlocks...\n",
      "To disable this warning, you can either:\n",
      "\t- Avoid using `tokenizers` before the fork if possible\n",
      "\t- Explicitly set the environment variable TOKENIZERS_PARALLELISM=(true | false)\n",
      "huggingface/tokenizers: The current process just got forked, after parallelism has already been used. Disabling parallelism to avoid deadlocks...\n",
      "To disable this warning, you can either:\n",
      "\t- Avoid using `tokenizers` before the fork if possible\n",
      "\t- Explicitly set the environment variable TOKENIZERS_PARALLELISM=(true | false)\n"
     ]
    }
   ],
   "source": [
    "learn = XCLearner(\n",
    "    model=model, \n",
    "    args=args,\n",
    "    train_dataset=block.train.dset,\n",
    "    eval_dataset=block.valid.dset,\n",
    "    data_collator=block.collator,\n",
    "    compute_metrics=metric,\n",
    ")"
   ]
  },
  {
   "cell_type": "code",
   "execution_count": null,
   "id": "54fd903d-85cb-4e90-9b70-65cdaf8e9496",
   "metadata": {},
   "outputs": [
    {
     "data": {
      "application/vnd.jupyter.widget-view+json": {
       "model_id": "6a5862d5d65b4e5a9fe2335d4709f0ed",
       "version_major": 2,
       "version_minor": 0
      },
      "text/plain": [
       "  0%|          | 0/2441 [00:00<?, ?it/s]"
      ]
     },
     "metadata": {},
     "output_type": "display_data"
    },
    {
     "name": "stderr",
     "output_type": "stream",
     "text": [
      "/scratch/scai/phd/aiz218323/anaconda3/envs/xc_nlg/lib/python3.9/site-packages/torch/nn/parallel/_functions.py:68: UserWarning: Was asked to gather along dimension 0, but all input tensors were scalars; will instead unsqueeze and return a vector.\n",
      "  warnings.warn('Was asked to gather along dimension 0, but all '\n"
     ]
    },
    {
     "data": {
      "text/html": [
       "\n",
       "    <div>\n",
       "      \n",
       "      <progress value='469' max='469' style='width:300px; height:20px; vertical-align: middle;'></progress>\n",
       "      [469/469 02:51]\n",
       "    </div>\n",
       "    "
      ],
      "text/plain": [
       "<IPython.core.display.HTML object>"
      ]
     },
     "metadata": {},
     "output_type": "display_data"
    },
    {
     "name": "stderr",
     "output_type": "stream",
     "text": [
      "/scratch/scai/phd/aiz218323/anaconda3/envs/xc_nlg/lib/python3.9/site-packages/scipy/sparse/_index.py:145: SparseEfficiencyWarning: Changing the sparsity structure of a csr_matrix is expensive. lil_matrix is more efficient.\n",
      "  self._set_arrayXarray(i, j, x)\n"
     ]
    },
    {
     "data": {
      "text/html": [
       "<div>\n",
       "<style scoped>\n",
       "    .dataframe tbody tr th:only-of-type {\n",
       "        vertical-align: middle;\n",
       "    }\n",
       "\n",
       "    .dataframe tbody tr th {\n",
       "        vertical-align: top;\n",
       "    }\n",
       "\n",
       "    .dataframe thead th {\n",
       "        text-align: right;\n",
       "    }\n",
       "</style>\n",
       "<table border=\"1\" class=\"dataframe\">\n",
       "  <thead>\n",
       "    <tr style=\"text-align: right;\">\n",
       "      <th></th>\n",
       "      <th>P@1</th>\n",
       "      <th>P@3</th>\n",
       "      <th>P@5</th>\n",
       "      <th>P@10</th>\n",
       "      <th>N@1</th>\n",
       "      <th>N@3</th>\n",
       "      <th>N@5</th>\n",
       "      <th>N@10</th>\n",
       "      <th>PSP@1</th>\n",
       "      <th>PSP@3</th>\n",
       "      <th>PSP@5</th>\n",
       "      <th>PSP@10</th>\n",
       "      <th>PSN@1</th>\n",
       "      <th>PSN@3</th>\n",
       "      <th>PSN@5</th>\n",
       "      <th>PSN@10</th>\n",
       "      <th>R@10</th>\n",
       "      <th>R@100</th>\n",
       "      <th>R@200</th>\n",
       "      <th>loss</th>\n",
       "      <th>runtime</th>\n",
       "      <th>samples_per_second</th>\n",
       "      <th>steps_per_second</th>\n",
       "    </tr>\n",
       "  </thead>\n",
       "  <tbody>\n",
       "    <tr>\n",
       "      <th>0</th>\n",
       "      <td>10.1567</td>\n",
       "      <td>6.3894</td>\n",
       "      <td>4.8013</td>\n",
       "      <td>3.1025</td>\n",
       "      <td>10.1567</td>\n",
       "      <td>9.4288</td>\n",
       "      <td>9.7005</td>\n",
       "      <td>10.437</td>\n",
       "      <td>9.8788</td>\n",
       "      <td>9.7507</td>\n",
       "      <td>10.3341</td>\n",
       "      <td>11.8922</td>\n",
       "      <td>9.8788</td>\n",
       "      <td>9.9147</td>\n",
       "      <td>10.4407</td>\n",
       "      <td>11.3414</td>\n",
       "      <td>12.3556</td>\n",
       "      <td>18.6896</td>\n",
       "      <td>18.6896</td>\n",
       "      <td>1.0138</td>\n",
       "      <td>172.8313</td>\n",
       "      <td>347.159</td>\n",
       "      <td>2.714</td>\n",
       "    </tr>\n",
       "  </tbody>\n",
       "</table>\n",
       "</div>"
      ],
      "text/plain": [
       "       P@1     P@3     P@5    P@10      N@1     N@3     N@5    N@10   PSP@1  \\\n",
       "0  10.1567  6.3894  4.8013  3.1025  10.1567  9.4288  9.7005  10.437  9.8788   \n",
       "\n",
       "    PSP@3    PSP@5   PSP@10   PSN@1   PSN@3    PSN@5   PSN@10     R@10  \\\n",
       "0  9.7507  10.3341  11.8922  9.8788  9.9147  10.4407  11.3414  12.3556   \n",
       "\n",
       "     R@100    R@200    loss   runtime  samples_per_second  steps_per_second  \n",
       "0  18.6896  18.6896  1.0138  172.8313             347.159             2.714  "
      ]
     },
     "metadata": {},
     "output_type": "display_data"
    }
   ],
   "source": [
    "metrics = learn.evaluate(test_dset)\n",
    "display_metric(metrics)"
   ]
  },
  {
   "cell_type": "code",
   "execution_count": null,
   "id": "a0c30f71-e1c8-497b-be36-62d336146dbb",
   "metadata": {},
   "outputs": [
    {
     "data": {
      "application/vnd.jupyter.widget-view+json": {
       "model_id": "6f24e89e706e443e83da7e9412349066",
       "version_major": 2,
       "version_minor": 0
      },
      "text/plain": [
       "  0%|          | 0/2441 [00:00<?, ?it/s]"
      ]
     },
     "metadata": {},
     "output_type": "display_data"
    },
    {
     "name": "stderr",
     "output_type": "stream",
     "text": [
      "/scratch/scai/phd/aiz218323/anaconda3/envs/xc_nlg/lib/python3.9/site-packages/torch/nn/parallel/_functions.py:68: UserWarning: Was asked to gather along dimension 0, but all input tensors were scalars; will instead unsqueeze and return a vector.\n",
      "  warnings.warn('Was asked to gather along dimension 0, but all '\n"
     ]
    },
    {
     "data": {
      "text/html": [
       "\n",
       "    <div>\n",
       "      \n",
       "      <progress value='537' max='537' style='width:300px; height:20px; vertical-align: middle;'></progress>\n",
       "      [537/537 02:52]\n",
       "    </div>\n",
       "    "
      ],
      "text/plain": [
       "<IPython.core.display.HTML object>"
      ]
     },
     "metadata": {},
     "output_type": "display_data"
    },
    {
     "name": "stderr",
     "output_type": "stream",
     "text": [
      "/scratch/scai/phd/aiz218323/anaconda3/envs/xc_nlg/lib/python3.9/site-packages/scipy/sparse/_index.py:145: SparseEfficiencyWarning: Changing the sparsity structure of a csr_matrix is expensive. lil_matrix is more efficient.\n",
      "  self._set_arrayXarray(i, j, x)\n"
     ]
    },
    {
     "data": {
      "text/html": [
       "<div>\n",
       "<style scoped>\n",
       "    .dataframe tbody tr th:only-of-type {\n",
       "        vertical-align: middle;\n",
       "    }\n",
       "\n",
       "    .dataframe tbody tr th {\n",
       "        vertical-align: top;\n",
       "    }\n",
       "\n",
       "    .dataframe thead th {\n",
       "        text-align: right;\n",
       "    }\n",
       "</style>\n",
       "<table border=\"1\" class=\"dataframe\">\n",
       "  <thead>\n",
       "    <tr style=\"text-align: right;\">\n",
       "      <th></th>\n",
       "      <th>P@1</th>\n",
       "      <th>P@3</th>\n",
       "      <th>P@5</th>\n",
       "      <th>P@10</th>\n",
       "      <th>N@1</th>\n",
       "      <th>N@3</th>\n",
       "      <th>N@5</th>\n",
       "      <th>N@10</th>\n",
       "      <th>PSP@1</th>\n",
       "      <th>PSP@3</th>\n",
       "      <th>PSP@5</th>\n",
       "      <th>PSP@10</th>\n",
       "      <th>PSN@1</th>\n",
       "      <th>PSN@3</th>\n",
       "      <th>PSN@5</th>\n",
       "      <th>PSN@10</th>\n",
       "      <th>R@10</th>\n",
       "      <th>R@100</th>\n",
       "      <th>R@200</th>\n",
       "      <th>loss</th>\n",
       "      <th>runtime</th>\n",
       "      <th>samples_per_second</th>\n",
       "      <th>steps_per_second</th>\n",
       "    </tr>\n",
       "  </thead>\n",
       "  <tbody>\n",
       "    <tr>\n",
       "      <th>0</th>\n",
       "      <td>5.2881</td>\n",
       "      <td>3.1621</td>\n",
       "      <td>2.3833</td>\n",
       "      <td>1.554</td>\n",
       "      <td>5.2881</td>\n",
       "      <td>5.0257</td>\n",
       "      <td>5.3219</td>\n",
       "      <td>5.8858</td>\n",
       "      <td>7.3833</td>\n",
       "      <td>8.1359</td>\n",
       "      <td>9.1934</td>\n",
       "      <td>11.1262</td>\n",
       "      <td>7.3833</td>\n",
       "      <td>7.3633</td>\n",
       "      <td>7.8306</td>\n",
       "      <td>8.5633</td>\n",
       "      <td>7.5328</td>\n",
       "      <td>12.3441</td>\n",
       "      <td>12.3441</td>\n",
       "      <td>0.8872</td>\n",
       "      <td>173.8551</td>\n",
       "      <td>395.272</td>\n",
       "      <td>3.089</td>\n",
       "    </tr>\n",
       "  </tbody>\n",
       "</table>\n",
       "</div>"
      ],
      "text/plain": [
       "      P@1     P@3     P@5   P@10     N@1     N@3     N@5    N@10   PSP@1  \\\n",
       "0  5.2881  3.1621  2.3833  1.554  5.2881  5.0257  5.3219  5.8858  7.3833   \n",
       "\n",
       "    PSP@3   PSP@5   PSP@10   PSN@1   PSN@3   PSN@5  PSN@10    R@10    R@100  \\\n",
       "0  8.1359  9.1934  11.1262  7.3833  7.3633  7.8306  8.5633  7.5328  12.3441   \n",
       "\n",
       "     R@200    loss   runtime  samples_per_second  steps_per_second  \n",
       "0  12.3441  0.8872  173.8551             395.272             3.089  "
      ]
     },
     "metadata": {},
     "output_type": "display_data"
    }
   ],
   "source": [
    "metrics = learn.evaluate()\n",
    "display_metric(metrics)"
   ]
  },
  {
   "cell_type": "code",
   "execution_count": null,
   "id": "350c885b-abc3-4eb5-bbe2-81faac1e2dbf",
   "metadata": {},
   "outputs": [
    {
     "data": {
      "application/vnd.jupyter.widget-view+json": {
       "model_id": "6ce779683795493cb91f56b2c75f0155",
       "version_major": 2,
       "version_minor": 0
      },
      "text/plain": [
       "  0%|          | 0/2441 [00:00<?, ?it/s]"
      ]
     },
     "metadata": {},
     "output_type": "display_data"
    },
    {
     "name": "stderr",
     "output_type": "stream",
     "text": [
      "/scratch/scai/phd/aiz218323/anaconda3/envs/xc_nlg/lib/python3.9/site-packages/torch/nn/parallel/_functions.py:68: UserWarning: Was asked to gather along dimension 0, but all input tensors were scalars; will instead unsqueeze and return a vector.\n",
      "  warnings.warn('Was asked to gather along dimension 0, but all '\n"
     ]
    },
    {
     "data": {
      "text/html": [
       "\n",
       "    <div>\n",
       "      \n",
       "      <progress value='1387' max='1387' style='width:300px; height:20px; vertical-align: middle;'></progress>\n",
       "      [1387/1387 08:20]\n",
       "    </div>\n",
       "    "
      ],
      "text/plain": [
       "<IPython.core.display.HTML object>"
      ]
     },
     "metadata": {},
     "output_type": "display_data"
    },
    {
     "name": "stderr",
     "output_type": "stream",
     "text": [
      "/scratch/scai/phd/aiz218323/anaconda3/envs/xc_nlg/lib/python3.9/site-packages/scipy/sparse/_index.py:145: SparseEfficiencyWarning: Changing the sparsity structure of a csr_matrix is expensive. lil_matrix is more efficient.\n",
      "  self._set_arrayXarray(i, j, x)\n",
      "Failed to detect the name of this notebook, you can set it manually with the WANDB_NOTEBOOK_NAME environment variable to enable code saving.\n",
      "huggingface/tokenizers: The current process just got forked, after parallelism has already been used. Disabling parallelism to avoid deadlocks...\n",
      "To disable this warning, you can either:\n",
      "\t- Avoid using `tokenizers` before the fork if possible\n",
      "\t- Explicitly set the environment variable TOKENIZERS_PARALLELISM=(true | false)\n"
     ]
    },
    {
     "data": {
      "text/html": [
       "<div>\n",
       "<style scoped>\n",
       "    .dataframe tbody tr th:only-of-type {\n",
       "        vertical-align: middle;\n",
       "    }\n",
       "\n",
       "    .dataframe tbody tr th {\n",
       "        vertical-align: top;\n",
       "    }\n",
       "\n",
       "    .dataframe thead th {\n",
       "        text-align: right;\n",
       "    }\n",
       "</style>\n",
       "<table border=\"1\" class=\"dataframe\">\n",
       "  <thead>\n",
       "    <tr style=\"text-align: right;\">\n",
       "      <th></th>\n",
       "      <th>P@1</th>\n",
       "      <th>P@3</th>\n",
       "      <th>P@5</th>\n",
       "      <th>P@10</th>\n",
       "      <th>N@1</th>\n",
       "      <th>N@3</th>\n",
       "      <th>N@5</th>\n",
       "      <th>N@10</th>\n",
       "      <th>PSP@1</th>\n",
       "      <th>PSP@3</th>\n",
       "      <th>PSP@5</th>\n",
       "      <th>PSP@10</th>\n",
       "      <th>PSN@1</th>\n",
       "      <th>PSN@3</th>\n",
       "      <th>PSN@5</th>\n",
       "      <th>PSN@10</th>\n",
       "      <th>R@10</th>\n",
       "      <th>R@100</th>\n",
       "      <th>R@200</th>\n",
       "      <th>loss</th>\n",
       "      <th>runtime</th>\n",
       "      <th>samples_per_second</th>\n",
       "      <th>steps_per_second</th>\n",
       "    </tr>\n",
       "  </thead>\n",
       "  <tbody>\n",
       "    <tr>\n",
       "      <th>0</th>\n",
       "      <td>10.1991</td>\n",
       "      <td>6.3976</td>\n",
       "      <td>4.8195</td>\n",
       "      <td>3.1108</td>\n",
       "      <td>10.1991</td>\n",
       "      <td>9.4346</td>\n",
       "      <td>9.7042</td>\n",
       "      <td>10.4239</td>\n",
       "      <td>9.9309</td>\n",
       "      <td>9.7374</td>\n",
       "      <td>10.3289</td>\n",
       "      <td>11.8784</td>\n",
       "      <td>9.9309</td>\n",
       "      <td>9.9196</td>\n",
       "      <td>10.4344</td>\n",
       "      <td>11.3152</td>\n",
       "      <td>12.3137</td>\n",
       "      <td>18.6109</td>\n",
       "      <td>18.6109</td>\n",
       "      <td>1.045</td>\n",
       "      <td>534.5538</td>\n",
       "      <td>332.081</td>\n",
       "      <td>2.595</td>\n",
       "    </tr>\n",
       "  </tbody>\n",
       "</table>\n",
       "</div>"
      ],
      "text/plain": [
       "       P@1     P@3     P@5    P@10      N@1     N@3     N@5     N@10   PSP@1  \\\n",
       "0  10.1991  6.3976  4.8195  3.1108  10.1991  9.4346  9.7042  10.4239  9.9309   \n",
       "\n",
       "    PSP@3    PSP@5   PSP@10   PSN@1   PSN@3    PSN@5   PSN@10     R@10  \\\n",
       "0  9.7374  10.3289  11.8784  9.9309  9.9196  10.4344  11.3152  12.3137   \n",
       "\n",
       "     R@100    R@200   loss   runtime  samples_per_second  steps_per_second  \n",
       "0  18.6109  18.6109  1.045  534.5538             332.081             2.595  "
      ]
     },
     "metadata": {},
     "output_type": "display_data"
    }
   ],
   "source": [
    "metrics = learn.evaluate(block.test.dset)\n",
    "display_metric(metrics)"
   ]
  },
  {
   "cell_type": "markdown",
   "id": "882a252e-de73-40a4-a8a0-96c03886ebfa",
   "metadata": {},
   "source": [
    "## `sentence-transformers/msmarco-bert-base-dot-v5`"
   ]
  },
  {
   "cell_type": "code",
   "execution_count": null,
   "id": "149bc69e-e02d-4e38-86a3-38e3b7997b55",
   "metadata": {},
   "outputs": [
    {
     "name": "stderr",
     "output_type": "stream",
     "text": [
      "Some weights of BT0003 were not initialized from the model checkpoint at sentence-transformers/msmarco-bert-base-dot-v5 and are newly initialized: ['loss_fn.u', 'loss_fn.v']\n",
      "You should probably TRAIN this model on a down-stream task to be able to use it for predictions and inference.\n"
     ]
    }
   ],
   "source": [
    "bsz = max(args.per_device_eval_batch_size, args.per_device_train_batch_size)*torch.cuda.device_count()\n",
    "model = BT0003.from_pretrained('sentence-transformers/msmarco-bert-base-dot-v5', bsz=bsz, margin=0.8, tn_targ=10_000)"
   ]
  },
  {
   "cell_type": "code",
   "execution_count": null,
   "id": "8f516b51-eaf6-44a6-9831-27e138af03e6",
   "metadata": {},
   "outputs": [
    {
     "name": "stderr",
     "output_type": "stream",
     "text": [
      "/scratch/scai/phd/aiz218323/anaconda3/envs/xc_nlg/lib/python3.9/site-packages/accelerate/accelerator.py:432: FutureWarning: Passing the following arguments to `Accelerator` is deprecated and will be removed in version 1.0 of Accelerate: dict_keys(['dispatch_batches', 'split_batches', 'even_batches', 'use_seedable_sampler']). Please pass an `accelerate.DataLoaderConfiguration` instead: \n",
      "dataloader_config = DataLoaderConfiguration(dispatch_batches=None, split_batches=False, even_batches=True, use_seedable_sampler=True)\n",
      "  warnings.warn(\n",
      "Detected kernel version 3.10.0, which is below the recommended minimum of 5.5.0; this can cause the process to hang. It is recommended to upgrade the kernel to the minimum version or higher.\n"
     ]
    }
   ],
   "source": [
    "learn = XCLearner(\n",
    "    model=model, \n",
    "    args=args,\n",
    "    train_dataset=block.train.dset,\n",
    "    eval_dataset=block.valid.dset,\n",
    "    data_collator=block.collator,\n",
    "    compute_metrics=metric,\n",
    ")"
   ]
  },
  {
   "cell_type": "code",
   "execution_count": null,
   "id": "efbd6da5-057e-4e45-b33e-6df60410d978",
   "metadata": {},
   "outputs": [
    {
     "data": {
      "application/vnd.jupyter.widget-view+json": {
       "model_id": "6885e654172340e0bbdc463f68969920",
       "version_major": 2,
       "version_minor": 0
      },
      "text/plain": [
       "  0%|          | 0/2441 [00:00<?, ?it/s]"
      ]
     },
     "metadata": {},
     "output_type": "display_data"
    },
    {
     "name": "stderr",
     "output_type": "stream",
     "text": [
      "/scratch/scai/phd/aiz218323/anaconda3/envs/xc_nlg/lib/python3.9/site-packages/torch/nn/parallel/_functions.py:68: UserWarning: Was asked to gather along dimension 0, but all input tensors were scalars; will instead unsqueeze and return a vector.\n",
      "  warnings.warn('Was asked to gather along dimension 0, but all '\n"
     ]
    },
    {
     "data": {
      "text/html": [
       "\n",
       "    <div>\n",
       "      \n",
       "      <progress value='469' max='469' style='width:300px; height:20px; vertical-align: middle;'></progress>\n",
       "      [469/469 03:01]\n",
       "    </div>\n",
       "    "
      ],
      "text/plain": [
       "<IPython.core.display.HTML object>"
      ]
     },
     "metadata": {},
     "output_type": "display_data"
    },
    {
     "name": "stderr",
     "output_type": "stream",
     "text": [
      "/scratch/scai/phd/aiz218323/anaconda3/envs/xc_nlg/lib/python3.9/site-packages/scipy/sparse/_index.py:145: SparseEfficiencyWarning: Changing the sparsity structure of a csr_matrix is expensive. lil_matrix is more efficient.\n",
      "  self._set_arrayXarray(i, j, x)\n"
     ]
    },
    {
     "data": {
      "text/html": [
       "<div>\n",
       "<style scoped>\n",
       "    .dataframe tbody tr th:only-of-type {\n",
       "        vertical-align: middle;\n",
       "    }\n",
       "\n",
       "    .dataframe tbody tr th {\n",
       "        vertical-align: top;\n",
       "    }\n",
       "\n",
       "    .dataframe thead th {\n",
       "        text-align: right;\n",
       "    }\n",
       "</style>\n",
       "<table border=\"1\" class=\"dataframe\">\n",
       "  <thead>\n",
       "    <tr style=\"text-align: right;\">\n",
       "      <th></th>\n",
       "      <th>P@1</th>\n",
       "      <th>P@3</th>\n",
       "      <th>P@5</th>\n",
       "      <th>P@10</th>\n",
       "      <th>N@1</th>\n",
       "      <th>N@3</th>\n",
       "      <th>N@5</th>\n",
       "      <th>N@10</th>\n",
       "      <th>PSP@1</th>\n",
       "      <th>PSP@3</th>\n",
       "      <th>PSP@5</th>\n",
       "      <th>PSP@10</th>\n",
       "      <th>PSN@1</th>\n",
       "      <th>PSN@3</th>\n",
       "      <th>PSN@5</th>\n",
       "      <th>PSN@10</th>\n",
       "      <th>R@10</th>\n",
       "      <th>R@100</th>\n",
       "      <th>R@200</th>\n",
       "      <th>loss</th>\n",
       "      <th>runtime</th>\n",
       "      <th>samples_per_second</th>\n",
       "      <th>steps_per_second</th>\n",
       "    </tr>\n",
       "  </thead>\n",
       "  <tbody>\n",
       "    <tr>\n",
       "      <th>0</th>\n",
       "      <td>13.8467</td>\n",
       "      <td>8.9367</td>\n",
       "      <td>6.7367</td>\n",
       "      <td>4.2995</td>\n",
       "      <td>13.8467</td>\n",
       "      <td>13.3375</td>\n",
       "      <td>13.8152</td>\n",
       "      <td>14.7698</td>\n",
       "      <td>13.061</td>\n",
       "      <td>13.2122</td>\n",
       "      <td>14.0097</td>\n",
       "      <td>15.965</td>\n",
       "      <td>13.061</td>\n",
       "      <td>13.6172</td>\n",
       "      <td>14.4043</td>\n",
       "      <td>15.5472</td>\n",
       "      <td>17.4592</td>\n",
       "      <td>24.0321</td>\n",
       "      <td>24.0321</td>\n",
       "      <td>0.4752</td>\n",
       "      <td>183.1498</td>\n",
       "      <td>327.601</td>\n",
       "      <td>2.561</td>\n",
       "    </tr>\n",
       "  </tbody>\n",
       "</table>\n",
       "</div>"
      ],
      "text/plain": [
       "       P@1     P@3     P@5    P@10      N@1      N@3      N@5     N@10  \\\n",
       "0  13.8467  8.9367  6.7367  4.2995  13.8467  13.3375  13.8152  14.7698   \n",
       "\n",
       "    PSP@1    PSP@3    PSP@5  PSP@10   PSN@1    PSN@3    PSN@5   PSN@10  \\\n",
       "0  13.061  13.2122  14.0097  15.965  13.061  13.6172  14.4043  15.5472   \n",
       "\n",
       "      R@10    R@100    R@200    loss   runtime  samples_per_second  \\\n",
       "0  17.4592  24.0321  24.0321  0.4752  183.1498             327.601   \n",
       "\n",
       "   steps_per_second  \n",
       "0             2.561  "
      ]
     },
     "metadata": {},
     "output_type": "display_data"
    }
   ],
   "source": [
    "metrics = learn.evaluate(test_dset)\n",
    "display_metric(metrics)"
   ]
  },
  {
   "cell_type": "code",
   "execution_count": null,
   "id": "d7eb3a7d-cc3b-4a7f-8b6e-72d4c1e70feb",
   "metadata": {},
   "outputs": [
    {
     "data": {
      "application/vnd.jupyter.widget-view+json": {
       "model_id": "a0d99d4a45a74fb6894d782ec769e86a",
       "version_major": 2,
       "version_minor": 0
      },
      "text/plain": [
       "  0%|          | 0/2441 [00:00<?, ?it/s]"
      ]
     },
     "metadata": {},
     "output_type": "display_data"
    },
    {
     "name": "stderr",
     "output_type": "stream",
     "text": [
      "/scratch/scai/phd/aiz218323/anaconda3/envs/xc_nlg/lib/python3.9/site-packages/torch/nn/parallel/_functions.py:68: UserWarning: Was asked to gather along dimension 0, but all input tensors were scalars; will instead unsqueeze and return a vector.\n",
      "  warnings.warn('Was asked to gather along dimension 0, but all '\n"
     ]
    },
    {
     "data": {
      "text/html": [
       "\n",
       "    <div>\n",
       "      \n",
       "      <progress value='537' max='537' style='width:300px; height:20px; vertical-align: middle;'></progress>\n",
       "      [537/537 02:53]\n",
       "    </div>\n",
       "    "
      ],
      "text/plain": [
       "<IPython.core.display.HTML object>"
      ]
     },
     "metadata": {},
     "output_type": "display_data"
    },
    {
     "name": "stderr",
     "output_type": "stream",
     "text": [
      "/scratch/scai/phd/aiz218323/anaconda3/envs/xc_nlg/lib/python3.9/site-packages/scipy/sparse/_index.py:145: SparseEfficiencyWarning: Changing the sparsity structure of a csr_matrix is expensive. lil_matrix is more efficient.\n",
      "  self._set_arrayXarray(i, j, x)\n"
     ]
    },
    {
     "data": {
      "text/html": [
       "<div>\n",
       "<style scoped>\n",
       "    .dataframe tbody tr th:only-of-type {\n",
       "        vertical-align: middle;\n",
       "    }\n",
       "\n",
       "    .dataframe tbody tr th {\n",
       "        vertical-align: top;\n",
       "    }\n",
       "\n",
       "    .dataframe thead th {\n",
       "        text-align: right;\n",
       "    }\n",
       "</style>\n",
       "<table border=\"1\" class=\"dataframe\">\n",
       "  <thead>\n",
       "    <tr style=\"text-align: right;\">\n",
       "      <th></th>\n",
       "      <th>P@1</th>\n",
       "      <th>P@3</th>\n",
       "      <th>P@5</th>\n",
       "      <th>P@10</th>\n",
       "      <th>N@1</th>\n",
       "      <th>N@3</th>\n",
       "      <th>N@5</th>\n",
       "      <th>N@10</th>\n",
       "      <th>PSP@1</th>\n",
       "      <th>PSP@3</th>\n",
       "      <th>PSP@5</th>\n",
       "      <th>PSP@10</th>\n",
       "      <th>PSN@1</th>\n",
       "      <th>PSN@3</th>\n",
       "      <th>PSN@5</th>\n",
       "      <th>PSN@10</th>\n",
       "      <th>R@10</th>\n",
       "      <th>R@100</th>\n",
       "      <th>R@200</th>\n",
       "      <th>loss</th>\n",
       "      <th>runtime</th>\n",
       "      <th>samples_per_second</th>\n",
       "      <th>steps_per_second</th>\n",
       "    </tr>\n",
       "  </thead>\n",
       "  <tbody>\n",
       "    <tr>\n",
       "      <th>0</th>\n",
       "      <td>7.7314</td>\n",
       "      <td>4.9529</td>\n",
       "      <td>3.7119</td>\n",
       "      <td>2.3737</td>\n",
       "      <td>7.7314</td>\n",
       "      <td>8.0137</td>\n",
       "      <td>8.573</td>\n",
       "      <td>9.4043</td>\n",
       "      <td>10.0426</td>\n",
       "      <td>11.5807</td>\n",
       "      <td>12.9736</td>\n",
       "      <td>15.4675</td>\n",
       "      <td>10.0426</td>\n",
       "      <td>10.7517</td>\n",
       "      <td>11.4731</td>\n",
       "      <td>12.4405</td>\n",
       "      <td>12.2302</td>\n",
       "      <td>18.0684</td>\n",
       "      <td>18.0684</td>\n",
       "      <td>0.4614</td>\n",
       "      <td>175.1306</td>\n",
       "      <td>392.393</td>\n",
       "      <td>3.066</td>\n",
       "    </tr>\n",
       "  </tbody>\n",
       "</table>\n",
       "</div>"
      ],
      "text/plain": [
       "      P@1     P@3     P@5    P@10     N@1     N@3    N@5    N@10    PSP@1  \\\n",
       "0  7.7314  4.9529  3.7119  2.3737  7.7314  8.0137  8.573  9.4043  10.0426   \n",
       "\n",
       "     PSP@3    PSP@5   PSP@10    PSN@1    PSN@3    PSN@5   PSN@10     R@10  \\\n",
       "0  11.5807  12.9736  15.4675  10.0426  10.7517  11.4731  12.4405  12.2302   \n",
       "\n",
       "     R@100    R@200    loss   runtime  samples_per_second  steps_per_second  \n",
       "0  18.0684  18.0684  0.4614  175.1306             392.393             3.066  "
      ]
     },
     "metadata": {},
     "output_type": "display_data"
    }
   ],
   "source": [
    "metrics = learn.evaluate()\n",
    "display_metric(metrics)"
   ]
  },
  {
   "cell_type": "code",
   "execution_count": null,
   "id": "869ce127-0791-49ce-929b-21761b9477ca",
   "metadata": {},
   "outputs": [
    {
     "data": {
      "application/vnd.jupyter.widget-view+json": {
       "model_id": "23baa2685cc542c9bde9e8191948953d",
       "version_major": 2,
       "version_minor": 0
      },
      "text/plain": [
       "  0%|          | 0/2441 [00:00<?, ?it/s]"
      ]
     },
     "metadata": {},
     "output_type": "display_data"
    },
    {
     "name": "stderr",
     "output_type": "stream",
     "text": [
      "/scratch/scai/phd/aiz218323/anaconda3/envs/xc_nlg/lib/python3.9/site-packages/torch/nn/parallel/_functions.py:68: UserWarning: Was asked to gather along dimension 0, but all input tensors were scalars; will instead unsqueeze and return a vector.\n",
      "  warnings.warn('Was asked to gather along dimension 0, but all '\n"
     ]
    },
    {
     "data": {
      "text/html": [
       "\n",
       "    <div>\n",
       "      \n",
       "      <progress value='1387' max='1387' style='width:300px; height:20px; vertical-align: middle;'></progress>\n",
       "      [1387/1387 08:52]\n",
       "    </div>\n",
       "    "
      ],
      "text/plain": [
       "<IPython.core.display.HTML object>"
      ]
     },
     "metadata": {},
     "output_type": "display_data"
    },
    {
     "name": "stderr",
     "output_type": "stream",
     "text": [
      "/scratch/scai/phd/aiz218323/anaconda3/envs/xc_nlg/lib/python3.9/site-packages/scipy/sparse/_index.py:145: SparseEfficiencyWarning: Changing the sparsity structure of a csr_matrix is expensive. lil_matrix is more efficient.\n",
      "  self._set_arrayXarray(i, j, x)\n"
     ]
    },
    {
     "data": {
      "text/html": [
       "<div>\n",
       "<style scoped>\n",
       "    .dataframe tbody tr th:only-of-type {\n",
       "        vertical-align: middle;\n",
       "    }\n",
       "\n",
       "    .dataframe tbody tr th {\n",
       "        vertical-align: top;\n",
       "    }\n",
       "\n",
       "    .dataframe thead th {\n",
       "        text-align: right;\n",
       "    }\n",
       "</style>\n",
       "<table border=\"1\" class=\"dataframe\">\n",
       "  <thead>\n",
       "    <tr style=\"text-align: right;\">\n",
       "      <th></th>\n",
       "      <th>P@1</th>\n",
       "      <th>P@3</th>\n",
       "      <th>P@5</th>\n",
       "      <th>P@10</th>\n",
       "      <th>N@1</th>\n",
       "      <th>N@3</th>\n",
       "      <th>N@5</th>\n",
       "      <th>N@10</th>\n",
       "      <th>PSP@1</th>\n",
       "      <th>PSP@3</th>\n",
       "      <th>PSP@5</th>\n",
       "      <th>PSP@10</th>\n",
       "      <th>PSN@1</th>\n",
       "      <th>PSN@3</th>\n",
       "      <th>PSN@5</th>\n",
       "      <th>PSN@10</th>\n",
       "      <th>R@10</th>\n",
       "      <th>R@100</th>\n",
       "      <th>R@200</th>\n",
       "      <th>loss</th>\n",
       "      <th>runtime</th>\n",
       "      <th>samples_per_second</th>\n",
       "      <th>steps_per_second</th>\n",
       "    </tr>\n",
       "  </thead>\n",
       "  <tbody>\n",
       "    <tr>\n",
       "      <th>0</th>\n",
       "      <td>13.8388</td>\n",
       "      <td>8.9384</td>\n",
       "      <td>6.7152</td>\n",
       "      <td>4.2889</td>\n",
       "      <td>13.8388</td>\n",
       "      <td>13.3306</td>\n",
       "      <td>13.7744</td>\n",
       "      <td>14.7076</td>\n",
       "      <td>13.0676</td>\n",
       "      <td>13.1985</td>\n",
       "      <td>13.9519</td>\n",
       "      <td>15.903</td>\n",
       "      <td>13.0676</td>\n",
       "      <td>13.6228</td>\n",
       "      <td>14.3823</td>\n",
       "      <td>15.5002</td>\n",
       "      <td>17.3239</td>\n",
       "      <td>23.9602</td>\n",
       "      <td>23.9602</td>\n",
       "      <td>0.509</td>\n",
       "      <td>536.5576</td>\n",
       "      <td>330.841</td>\n",
       "      <td>2.585</td>\n",
       "    </tr>\n",
       "  </tbody>\n",
       "</table>\n",
       "</div>"
      ],
      "text/plain": [
       "       P@1     P@3     P@5    P@10      N@1      N@3      N@5     N@10  \\\n",
       "0  13.8388  8.9384  6.7152  4.2889  13.8388  13.3306  13.7744  14.7076   \n",
       "\n",
       "     PSP@1    PSP@3    PSP@5  PSP@10    PSN@1    PSN@3    PSN@5   PSN@10  \\\n",
       "0  13.0676  13.1985  13.9519  15.903  13.0676  13.6228  14.3823  15.5002   \n",
       "\n",
       "      R@10    R@100    R@200   loss   runtime  samples_per_second  \\\n",
       "0  17.3239  23.9602  23.9602  0.509  536.5576             330.841   \n",
       "\n",
       "   steps_per_second  \n",
       "0             2.585  "
      ]
     },
     "metadata": {},
     "output_type": "display_data"
    }
   ],
   "source": [
    "metrics = learn.evaluate(block.test.dset)\n",
    "display_metric(metrics)"
   ]
  },
  {
   "cell_type": "code",
   "execution_count": null,
   "id": "c6f8e917-8bd3-4959-bada-d014b6e95637",
   "metadata": {},
   "outputs": [
    {
     "data": {
      "application/vnd.jupyter.widget-view+json": {
       "model_id": "89e3860079994edaa0cc804c3c93ae70",
       "version_major": 2,
       "version_minor": 0
      },
      "text/plain": [
       "  0%|          | 0/2441 [00:00<?, ?it/s]"
      ]
     },
     "metadata": {},
     "output_type": "display_data"
    },
    {
     "name": "stderr",
     "output_type": "stream",
     "text": [
      "/scratch/scai/phd/aiz218323/anaconda3/envs/xc_nlg/lib/python3.9/site-packages/torch/nn/parallel/_functions.py:68: UserWarning: Was asked to gather along dimension 0, but all input tensors were scalars; will instead unsqueeze and return a vector.\n",
      "  warnings.warn('Was asked to gather along dimension 0, but all '\n"
     ]
    },
    {
     "data": {
      "text/html": [
       "\n",
       "    <div>\n",
       "      \n",
       "      <progress value='1387' max='1387' style='width:300px; height:20px; vertical-align: middle;'></progress>\n",
       "      [1387/1387 08:32]\n",
       "    </div>\n",
       "    "
      ],
      "text/plain": [
       "<IPython.core.display.HTML object>"
      ]
     },
     "metadata": {},
     "output_type": "display_data"
    },
    {
     "data": {
      "text/html": [
       "<div>\n",
       "<style scoped>\n",
       "    .dataframe tbody tr th:only-of-type {\n",
       "        vertical-align: middle;\n",
       "    }\n",
       "\n",
       "    .dataframe tbody tr th {\n",
       "        vertical-align: top;\n",
       "    }\n",
       "\n",
       "    .dataframe thead th {\n",
       "        text-align: right;\n",
       "    }\n",
       "</style>\n",
       "<table border=\"1\" class=\"dataframe\">\n",
       "  <thead>\n",
       "    <tr style=\"text-align: right;\">\n",
       "      <th></th>\n",
       "      <th>P@1</th>\n",
       "      <th>P@3</th>\n",
       "      <th>P@5</th>\n",
       "      <th>P@10</th>\n",
       "      <th>N@1</th>\n",
       "      <th>N@3</th>\n",
       "      <th>N@5</th>\n",
       "      <th>N@10</th>\n",
       "      <th>PSP@1</th>\n",
       "      <th>PSP@3</th>\n",
       "      <th>PSP@5</th>\n",
       "      <th>PSP@10</th>\n",
       "      <th>PSN@1</th>\n",
       "      <th>PSN@3</th>\n",
       "      <th>PSN@5</th>\n",
       "      <th>PSN@10</th>\n",
       "      <th>R@10</th>\n",
       "      <th>R@100</th>\n",
       "      <th>R@200</th>\n",
       "      <th>loss</th>\n",
       "      <th>runtime</th>\n",
       "      <th>samples_per_second</th>\n",
       "      <th>steps_per_second</th>\n",
       "    </tr>\n",
       "  </thead>\n",
       "  <tbody>\n",
       "    <tr>\n",
       "      <th>0</th>\n",
       "      <td>13.7926</td>\n",
       "      <td>8.9097</td>\n",
       "      <td>6.6963</td>\n",
       "      <td>4.2782</td>\n",
       "      <td>13.7926</td>\n",
       "      <td>13.2747</td>\n",
       "      <td>13.7182</td>\n",
       "      <td>14.6495</td>\n",
       "      <td>13.0728</td>\n",
       "      <td>13.1725</td>\n",
       "      <td>13.9254</td>\n",
       "      <td>15.8758</td>\n",
       "      <td>13.0728</td>\n",
       "      <td>13.5903</td>\n",
       "      <td>14.3473</td>\n",
       "      <td>15.4626</td>\n",
       "      <td>17.2505</td>\n",
       "      <td>23.8539</td>\n",
       "      <td>23.8539</td>\n",
       "      <td>0.509</td>\n",
       "      <td>516.5245</td>\n",
       "      <td>343.672</td>\n",
       "      <td>2.685</td>\n",
       "    </tr>\n",
       "  </tbody>\n",
       "</table>\n",
       "</div>"
      ],
      "text/plain": [
       "       P@1     P@3     P@5    P@10      N@1      N@3      N@5     N@10  \\\n",
       "0  13.7926  8.9097  6.6963  4.2782  13.7926  13.2747  13.7182  14.6495   \n",
       "\n",
       "     PSP@1    PSP@3    PSP@5   PSP@10    PSN@1    PSN@3    PSN@5   PSN@10  \\\n",
       "0  13.0728  13.1725  13.9254  15.8758  13.0728  13.5903  14.3473  15.4626   \n",
       "\n",
       "      R@10    R@100    R@200   loss   runtime  samples_per_second  \\\n",
       "0  17.2505  23.8539  23.8539  0.509  516.5245             343.672   \n",
       "\n",
       "   steps_per_second  \n",
       "0             2.685  "
      ]
     },
     "metadata": {},
     "output_type": "display_data"
    }
   ],
   "source": [
    "metrics = learn.evaluate(block.test.dset)\n",
    "display_metric(metrics)"
   ]
  },
  {
   "cell_type": "markdown",
   "id": "86f80f6a-487e-4560-be85-ceebcbe64783",
   "metadata": {},
   "source": [
    "## `sentence-transformers/msmarco-distilbert-base-v4`"
   ]
  },
  {
   "cell_type": "markdown",
   "id": "b1701fc3-c4b8-4a35-8ff8-bd7c43c0eb99",
   "metadata": {},
   "source": [
    "### DBT008"
   ]
  },
  {
   "cell_type": "code",
   "execution_count": null,
   "id": "cd4e8d39-3ca1-4bc2-8899-2d3fbbbb02d6",
   "metadata": {},
   "outputs": [
    {
     "name": "stderr",
     "output_type": "stream",
     "text": [
      "Some weights of DBT008 were not initialized from the model checkpoint at sentence-transformers/msmarco-distilbert-base-v4 and are newly initialized: ['loss_fn.u', 'loss_fn.v']\n",
      "You should probably TRAIN this model on a down-stream task to be able to use it for predictions and inference.\n"
     ]
    }
   ],
   "source": [
    "bsz = max(args.per_device_eval_batch_size, args.per_device_train_batch_size)*torch.cuda.device_count()\n",
    "model = DBT008.from_pretrained('sentence-transformers/msmarco-distilbert-base-v4', bsz=bsz, margin=0.8, tn_targ=10_000)"
   ]
  },
  {
   "cell_type": "code",
   "execution_count": null,
   "id": "0b3392ab-0dfc-46c4-bdcd-3ab7fbc702d5",
   "metadata": {},
   "outputs": [
    {
     "name": "stderr",
     "output_type": "stream",
     "text": [
      "/scratch/scai/phd/aiz218323/anaconda3/envs/xc_nlg/lib/python3.9/site-packages/accelerate/accelerator.py:432: FutureWarning: Passing the following arguments to `Accelerator` is deprecated and will be removed in version 1.0 of Accelerate: dict_keys(['dispatch_batches', 'split_batches', 'even_batches', 'use_seedable_sampler']). Please pass an `accelerate.DataLoaderConfiguration` instead: \n",
      "dataloader_config = DataLoaderConfiguration(dispatch_batches=None, split_batches=False, even_batches=True, use_seedable_sampler=True)\n",
      "  warnings.warn(\n",
      "Detected kernel version 3.10.0, which is below the recommended minimum of 5.5.0; this can cause the process to hang. It is recommended to upgrade the kernel to the minimum version or higher.\n",
      "huggingface/tokenizers: The current process just got forked, after parallelism has already been used. Disabling parallelism to avoid deadlocks...\n",
      "To disable this warning, you can either:\n",
      "\t- Avoid using `tokenizers` before the fork if possible\n",
      "\t- Explicitly set the environment variable TOKENIZERS_PARALLELISM=(true | false)\n",
      "huggingface/tokenizers: The current process just got forked, after parallelism has already been used. Disabling parallelism to avoid deadlocks...\n",
      "To disable this warning, you can either:\n",
      "\t- Avoid using `tokenizers` before the fork if possible\n",
      "\t- Explicitly set the environment variable TOKENIZERS_PARALLELISM=(true | false)\n",
      "huggingface/tokenizers: The current process just got forked, after parallelism has already been used. Disabling parallelism to avoid deadlocks...\n",
      "To disable this warning, you can either:\n",
      "\t- Avoid using `tokenizers` before the fork if possible\n",
      "\t- Explicitly set the environment variable TOKENIZERS_PARALLELISM=(true | false)\n"
     ]
    }
   ],
   "source": [
    "learn = XCLearner(\n",
    "    model=model, \n",
    "    args=args,\n",
    "    train_dataset=block.train.dset,\n",
    "    eval_dataset=block.valid.dset,\n",
    "    data_collator=block.collator,\n",
    "    compute_metrics=metric,\n",
    ")"
   ]
  },
  {
   "cell_type": "code",
   "execution_count": null,
   "id": "32ab449d-a688-4ecf-a271-b18d7523c6af",
   "metadata": {},
   "outputs": [
    {
     "data": {
      "application/vnd.jupyter.widget-view+json": {
       "model_id": "d662d66405644a1ba9d3ea5447cb8a51",
       "version_major": 2,
       "version_minor": 0
      },
      "text/plain": [
       "  0%|          | 0/2441 [00:00<?, ?it/s]"
      ]
     },
     "metadata": {},
     "output_type": "display_data"
    },
    {
     "name": "stderr",
     "output_type": "stream",
     "text": [
      "/scratch/scai/phd/aiz218323/anaconda3/envs/xc_nlg/lib/python3.9/site-packages/torch/nn/parallel/_functions.py:68: UserWarning: Was asked to gather along dimension 0, but all input tensors were scalars; will instead unsqueeze and return a vector.\n",
      "  warnings.warn('Was asked to gather along dimension 0, but all '\n"
     ]
    },
    {
     "data": {
      "text/html": [
       "\n",
       "    <div>\n",
       "      \n",
       "      <progress value='16' max='16' style='width:300px; height:20px; vertical-align: middle;'></progress>\n",
       "      [16/16 00:03]\n",
       "    </div>\n",
       "    "
      ],
      "text/plain": [
       "<IPython.core.display.HTML object>"
      ]
     },
     "metadata": {},
     "output_type": "display_data"
    },
    {
     "name": "stderr",
     "output_type": "stream",
     "text": [
      "/scratch/scai/phd/aiz218323/anaconda3/envs/xc_nlg/lib/python3.9/site-packages/scipy/sparse/_index.py:145: SparseEfficiencyWarning: Changing the sparsity structure of a csr_matrix is expensive. lil_matrix is more efficient.\n",
      "  self._set_arrayXarray(i, j, x)\n",
      "Failed to detect the name of this notebook, you can set it manually with the WANDB_NOTEBOOK_NAME environment variable to enable code saving.\n",
      "huggingface/tokenizers: The current process just got forked, after parallelism has already been used. Disabling parallelism to avoid deadlocks...\n",
      "To disable this warning, you can either:\n",
      "\t- Avoid using `tokenizers` before the fork if possible\n",
      "\t- Explicitly set the environment variable TOKENIZERS_PARALLELISM=(true | false)\n",
      "\u001b[34m\u001b[1mwandb\u001b[0m: Currently logged in as: \u001b[33msuchith720\u001b[0m. Use \u001b[1m`wandb login --relogin`\u001b[0m to force relogin\n",
      "huggingface/tokenizers: The current process just got forked, after parallelism has already been used. Disabling parallelism to avoid deadlocks...\n",
      "To disable this warning, you can either:\n",
      "\t- Avoid using `tokenizers` before the fork if possible\n",
      "\t- Explicitly set the environment variable TOKENIZERS_PARALLELISM=(true | false)\n",
      "huggingface/tokenizers: The current process just got forked, after parallelism has already been used. Disabling parallelism to avoid deadlocks...\n",
      "To disable this warning, you can either:\n",
      "\t- Avoid using `tokenizers` before the fork if possible\n",
      "\t- Explicitly set the environment variable TOKENIZERS_PARALLELISM=(true | false)\n"
     ]
    },
    {
     "data": {
      "text/html": [
       "wandb version 0.16.6 is available!  To upgrade, please run:\n",
       " $ pip install wandb --upgrade"
      ],
      "text/plain": [
       "<IPython.core.display.HTML object>"
      ]
     },
     "metadata": {},
     "output_type": "display_data"
    },
    {
     "data": {
      "text/html": [
       "Tracking run with wandb version 0.16.4"
      ],
      "text/plain": [
       "<IPython.core.display.HTML object>"
      ]
     },
     "metadata": {},
     "output_type": "display_data"
    },
    {
     "data": {
      "text/html": [
       "Run data is saved locally in <code>/scratch/scai/phd/aiz218323/Projects/xc_nlg/nbs/wandb/run-20240423_042112-9h1yieea</code>"
      ],
      "text/plain": [
       "<IPython.core.display.HTML object>"
      ]
     },
     "metadata": {},
     "output_type": "display_data"
    },
    {
     "data": {
      "text/html": [
       "Syncing run <strong><a href='https://wandb.ai/suchith720/huggingface/runs/9h1yieea' target=\"_blank\">resilient-river-2</a></strong> to <a href='https://wandb.ai/suchith720/huggingface' target=\"_blank\">Weights & Biases</a> (<a href='https://wandb.me/run' target=\"_blank\">docs</a>)<br/>"
      ],
      "text/plain": [
       "<IPython.core.display.HTML object>"
      ]
     },
     "metadata": {},
     "output_type": "display_data"
    },
    {
     "data": {
      "text/html": [
       " View project at <a href='https://wandb.ai/suchith720/huggingface' target=\"_blank\">https://wandb.ai/suchith720/huggingface</a>"
      ],
      "text/plain": [
       "<IPython.core.display.HTML object>"
      ]
     },
     "metadata": {},
     "output_type": "display_data"
    },
    {
     "data": {
      "text/html": [
       " View run at <a href='https://wandb.ai/suchith720/huggingface/runs/9h1yieea' target=\"_blank\">https://wandb.ai/suchith720/huggingface/runs/9h1yieea</a>"
      ],
      "text/plain": [
       "<IPython.core.display.HTML object>"
      ]
     },
     "metadata": {},
     "output_type": "display_data"
    },
    {
     "data": {
      "text/html": [
       "<div>\n",
       "<style scoped>\n",
       "    .dataframe tbody tr th:only-of-type {\n",
       "        vertical-align: middle;\n",
       "    }\n",
       "\n",
       "    .dataframe tbody tr th {\n",
       "        vertical-align: top;\n",
       "    }\n",
       "\n",
       "    .dataframe thead th {\n",
       "        text-align: right;\n",
       "    }\n",
       "</style>\n",
       "<table border=\"1\" class=\"dataframe\">\n",
       "  <thead>\n",
       "    <tr style=\"text-align: right;\">\n",
       "      <th></th>\n",
       "      <th>P@1</th>\n",
       "      <th>P@3</th>\n",
       "      <th>P@5</th>\n",
       "      <th>P@10</th>\n",
       "      <th>N@1</th>\n",
       "      <th>N@3</th>\n",
       "      <th>N@5</th>\n",
       "      <th>N@10</th>\n",
       "      <th>PSP@1</th>\n",
       "      <th>PSP@3</th>\n",
       "      <th>PSP@5</th>\n",
       "      <th>PSP@10</th>\n",
       "      <th>PSN@1</th>\n",
       "      <th>PSN@3</th>\n",
       "      <th>PSN@5</th>\n",
       "      <th>PSN@10</th>\n",
       "      <th>R@10</th>\n",
       "      <th>R@100</th>\n",
       "      <th>R@200</th>\n",
       "      <th>loss</th>\n",
       "      <th>runtime</th>\n",
       "      <th>samples_per_second</th>\n",
       "      <th>steps_per_second</th>\n",
       "    </tr>\n",
       "  </thead>\n",
       "  <tbody>\n",
       "    <tr>\n",
       "      <th>0</th>\n",
       "      <td>17.75</td>\n",
       "      <td>11.3833</td>\n",
       "      <td>8.57</td>\n",
       "      <td>5.44</td>\n",
       "      <td>17.75</td>\n",
       "      <td>16.5706</td>\n",
       "      <td>17.1749</td>\n",
       "      <td>18.3799</td>\n",
       "      <td>16.7797</td>\n",
       "      <td>16.5728</td>\n",
       "      <td>17.5576</td>\n",
       "      <td>19.8056</td>\n",
       "      <td>16.7797</td>\n",
       "      <td>16.8258</td>\n",
       "      <td>17.8058</td>\n",
       "      <td>19.1266</td>\n",
       "      <td>21.5759</td>\n",
       "      <td>30.7016</td>\n",
       "      <td>30.7016</td>\n",
       "      <td>2.0462</td>\n",
       "      <td>15.0013</td>\n",
       "      <td>133.321</td>\n",
       "      <td>1.067</td>\n",
       "    </tr>\n",
       "  </tbody>\n",
       "</table>\n",
       "</div>"
      ],
      "text/plain": [
       "     P@1      P@3   P@5  P@10    N@1      N@3      N@5     N@10    PSP@1  \\\n",
       "0  17.75  11.3833  8.57  5.44  17.75  16.5706  17.1749  18.3799  16.7797   \n",
       "\n",
       "     PSP@3    PSP@5   PSP@10    PSN@1    PSN@3    PSN@5   PSN@10     R@10  \\\n",
       "0  16.5728  17.5576  19.8056  16.7797  16.8258  17.8058  19.1266  21.5759   \n",
       "\n",
       "     R@100    R@200    loss  runtime  samples_per_second  steps_per_second  \n",
       "0  30.7016  30.7016  2.0462  15.0013             133.321             1.067  "
      ]
     },
     "metadata": {},
     "output_type": "display_data"
    }
   ],
   "source": [
    "metrics = learn.evaluate(test_dset)\n",
    "display_metric(metrics)"
   ]
  },
  {
   "cell_type": "code",
   "execution_count": null,
   "id": "eb2fb29b-f2f0-4bee-b3c9-8e631e1b0700",
   "metadata": {},
   "outputs": [
    {
     "data": {
      "application/vnd.jupyter.widget-view+json": {
       "model_id": "b6d2b7c56b4c4e8e9e8c81be2eb935ad",
       "version_major": 2,
       "version_minor": 0
      },
      "text/plain": [
       "  0%|          | 0/2441 [00:00<?, ?it/s]"
      ]
     },
     "metadata": {},
     "output_type": "display_data"
    },
    {
     "name": "stderr",
     "output_type": "stream",
     "text": [
      "/scratch/scai/phd/aiz218323/anaconda3/envs/xc_nlg/lib/python3.9/site-packages/torch/nn/parallel/_functions.py:68: UserWarning: Was asked to gather along dimension 0, but all input tensors were scalars; will instead unsqueeze and return a vector.\n",
      "  warnings.warn('Was asked to gather along dimension 0, but all '\n"
     ]
    },
    {
     "data": {
      "text/html": [
       "\n",
       "    <div>\n",
       "      \n",
       "      <progress value='54' max='54' style='width:300px; height:20px; vertical-align: middle;'></progress>\n",
       "      [54/54 00:13]\n",
       "    </div>\n",
       "    "
      ],
      "text/plain": [
       "<IPython.core.display.HTML object>"
      ]
     },
     "metadata": {},
     "output_type": "display_data"
    },
    {
     "name": "stderr",
     "output_type": "stream",
     "text": [
      "/scratch/scai/phd/aiz218323/anaconda3/envs/xc_nlg/lib/python3.9/site-packages/scipy/sparse/_index.py:145: SparseEfficiencyWarning: Changing the sparsity structure of a csr_matrix is expensive. lil_matrix is more efficient.\n",
      "  self._set_arrayXarray(i, j, x)\n"
     ]
    },
    {
     "data": {
      "text/html": [
       "<div>\n",
       "<style scoped>\n",
       "    .dataframe tbody tr th:only-of-type {\n",
       "        vertical-align: middle;\n",
       "    }\n",
       "\n",
       "    .dataframe tbody tr th {\n",
       "        vertical-align: top;\n",
       "    }\n",
       "\n",
       "    .dataframe thead th {\n",
       "        text-align: right;\n",
       "    }\n",
       "</style>\n",
       "<table border=\"1\" class=\"dataframe\">\n",
       "  <thead>\n",
       "    <tr style=\"text-align: right;\">\n",
       "      <th></th>\n",
       "      <th>P@1</th>\n",
       "      <th>P@3</th>\n",
       "      <th>P@5</th>\n",
       "      <th>P@10</th>\n",
       "      <th>N@1</th>\n",
       "      <th>N@3</th>\n",
       "      <th>N@5</th>\n",
       "      <th>N@10</th>\n",
       "      <th>PSP@1</th>\n",
       "      <th>PSP@3</th>\n",
       "      <th>PSP@5</th>\n",
       "      <th>PSP@10</th>\n",
       "      <th>PSN@1</th>\n",
       "      <th>PSN@3</th>\n",
       "      <th>PSN@5</th>\n",
       "      <th>PSN@10</th>\n",
       "      <th>R@10</th>\n",
       "      <th>R@100</th>\n",
       "      <th>R@200</th>\n",
       "      <th>loss</th>\n",
       "      <th>runtime</th>\n",
       "      <th>samples_per_second</th>\n",
       "      <th>steps_per_second</th>\n",
       "    </tr>\n",
       "  </thead>\n",
       "  <tbody>\n",
       "    <tr>\n",
       "      <th>0</th>\n",
       "      <td>9.9971</td>\n",
       "      <td>6.364</td>\n",
       "      <td>4.7468</td>\n",
       "      <td>3.0544</td>\n",
       "      <td>9.9971</td>\n",
       "      <td>10.5912</td>\n",
       "      <td>11.3847</td>\n",
       "      <td>12.5218</td>\n",
       "      <td>12.8791</td>\n",
       "      <td>14.4765</td>\n",
       "      <td>15.955</td>\n",
       "      <td>19.1514</td>\n",
       "      <td>12.8791</td>\n",
       "      <td>13.7504</td>\n",
       "      <td>14.6804</td>\n",
       "      <td>15.9851</td>\n",
       "      <td>16.645</td>\n",
       "      <td>25.0838</td>\n",
       "      <td>25.0838</td>\n",
       "      <td>1.9919</td>\n",
       "      <td>13.9515</td>\n",
       "      <td>492.562</td>\n",
       "      <td>3.871</td>\n",
       "    </tr>\n",
       "  </tbody>\n",
       "</table>\n",
       "</div>"
      ],
      "text/plain": [
       "      P@1    P@3     P@5    P@10     N@1      N@3      N@5     N@10    PSP@1  \\\n",
       "0  9.9971  6.364  4.7468  3.0544  9.9971  10.5912  11.3847  12.5218  12.8791   \n",
       "\n",
       "     PSP@3   PSP@5   PSP@10    PSN@1    PSN@3    PSN@5   PSN@10    R@10  \\\n",
       "0  14.4765  15.955  19.1514  12.8791  13.7504  14.6804  15.9851  16.645   \n",
       "\n",
       "     R@100    R@200    loss  runtime  samples_per_second  steps_per_second  \n",
       "0  25.0838  25.0838  1.9919  13.9515             492.562             3.871  "
      ]
     },
     "metadata": {},
     "output_type": "display_data"
    }
   ],
   "source": [
    "metrics = learn.evaluate()\n",
    "display_metric(metrics)"
   ]
  },
  {
   "cell_type": "code",
   "execution_count": null,
   "id": "ede932b4-728a-4a00-9965-230677df6b86",
   "metadata": {},
   "outputs": [
    {
     "data": {
      "application/vnd.jupyter.widget-view+json": {
       "model_id": "288ed362403249d5b8f688ced001d58c",
       "version_major": 2,
       "version_minor": 0
      },
      "text/plain": [
       "  0%|          | 0/2441 [00:00<?, ?it/s]"
      ]
     },
     "metadata": {},
     "output_type": "display_data"
    },
    {
     "name": "stderr",
     "output_type": "stream",
     "text": [
      "/scratch/scai/phd/aiz218323/anaconda3/envs/xc_nlg/lib/python3.9/site-packages/torch/nn/parallel/_functions.py:68: UserWarning: Was asked to gather along dimension 0, but all input tensors were scalars; will instead unsqueeze and return a vector.\n",
      "  warnings.warn('Was asked to gather along dimension 0, but all '\n"
     ]
    },
    {
     "data": {
      "text/html": [
       "\n",
       "    <div>\n",
       "      \n",
       "      <progress value='1387' max='1387' style='width:300px; height:20px; vertical-align: middle;'></progress>\n",
       "      [1387/1387 06:30]\n",
       "    </div>\n",
       "    "
      ],
      "text/plain": [
       "<IPython.core.display.HTML object>"
      ]
     },
     "metadata": {},
     "output_type": "display_data"
    },
    {
     "name": "stderr",
     "output_type": "stream",
     "text": [
      "/scratch/scai/phd/aiz218323/anaconda3/envs/xc_nlg/lib/python3.9/site-packages/scipy/sparse/_index.py:145: SparseEfficiencyWarning: Changing the sparsity structure of a csr_matrix is expensive. lil_matrix is more efficient.\n",
      "  self._set_arrayXarray(i, j, x)\n",
      "Failed to detect the name of this notebook, you can set it manually with the WANDB_NOTEBOOK_NAME environment variable to enable code saving.\n",
      "huggingface/tokenizers: The current process just got forked, after parallelism has already been used. Disabling parallelism to avoid deadlocks...\n",
      "To disable this warning, you can either:\n",
      "\t- Avoid using `tokenizers` before the fork if possible\n",
      "\t- Explicitly set the environment variable TOKENIZERS_PARALLELISM=(true | false)\n"
     ]
    },
    {
     "data": {
      "text/html": [
       "<div>\n",
       "<style scoped>\n",
       "    .dataframe tbody tr th:only-of-type {\n",
       "        vertical-align: middle;\n",
       "    }\n",
       "\n",
       "    .dataframe tbody tr th {\n",
       "        vertical-align: top;\n",
       "    }\n",
       "\n",
       "    .dataframe thead th {\n",
       "        text-align: right;\n",
       "    }\n",
       "</style>\n",
       "<table border=\"1\" class=\"dataframe\">\n",
       "  <thead>\n",
       "    <tr style=\"text-align: right;\">\n",
       "      <th></th>\n",
       "      <th>P@1</th>\n",
       "      <th>P@3</th>\n",
       "      <th>P@5</th>\n",
       "      <th>P@10</th>\n",
       "      <th>N@1</th>\n",
       "      <th>N@3</th>\n",
       "      <th>N@5</th>\n",
       "      <th>N@10</th>\n",
       "      <th>PSP@1</th>\n",
       "      <th>PSP@3</th>\n",
       "      <th>PSP@5</th>\n",
       "      <th>PSP@10</th>\n",
       "      <th>PSN@1</th>\n",
       "      <th>PSN@3</th>\n",
       "      <th>PSN@5</th>\n",
       "      <th>PSN@10</th>\n",
       "      <th>R@10</th>\n",
       "      <th>R@100</th>\n",
       "      <th>R@200</th>\n",
       "      <th>loss</th>\n",
       "      <th>runtime</th>\n",
       "      <th>samples_per_second</th>\n",
       "      <th>steps_per_second</th>\n",
       "    </tr>\n",
       "  </thead>\n",
       "  <tbody>\n",
       "    <tr>\n",
       "      <th>0</th>\n",
       "      <td>16.4949</td>\n",
       "      <td>10.8066</td>\n",
       "      <td>8.1689</td>\n",
       "      <td>5.2962</td>\n",
       "      <td>16.4949</td>\n",
       "      <td>16.2049</td>\n",
       "      <td>16.828</td>\n",
       "      <td>18.0802</td>\n",
       "      <td>15.5549</td>\n",
       "      <td>15.9696</td>\n",
       "      <td>17.0028</td>\n",
       "      <td>19.6519</td>\n",
       "      <td>15.5549</td>\n",
       "      <td>16.4721</td>\n",
       "      <td>17.4636</td>\n",
       "      <td>18.916</td>\n",
       "      <td>21.5757</td>\n",
       "      <td>30.6779</td>\n",
       "      <td>30.6779</td>\n",
       "      <td>2.188</td>\n",
       "      <td>417.0443</td>\n",
       "      <td>425.65</td>\n",
       "      <td>3.326</td>\n",
       "    </tr>\n",
       "  </tbody>\n",
       "</table>\n",
       "</div>"
      ],
      "text/plain": [
       "       P@1      P@3     P@5    P@10      N@1      N@3     N@5     N@10  \\\n",
       "0  16.4949  10.8066  8.1689  5.2962  16.4949  16.2049  16.828  18.0802   \n",
       "\n",
       "     PSP@1    PSP@3    PSP@5   PSP@10    PSN@1    PSN@3    PSN@5  PSN@10  \\\n",
       "0  15.5549  15.9696  17.0028  19.6519  15.5549  16.4721  17.4636  18.916   \n",
       "\n",
       "      R@10    R@100    R@200   loss   runtime  samples_per_second  \\\n",
       "0  21.5757  30.6779  30.6779  2.188  417.0443              425.65   \n",
       "\n",
       "   steps_per_second  \n",
       "0             3.326  "
      ]
     },
     "metadata": {},
     "output_type": "display_data"
    }
   ],
   "source": [
    "metrics = learn.evaluate(block.test.dset)\n",
    "display_metric(metrics)"
   ]
  },
  {
   "cell_type": "markdown",
   "id": "58fcfdba-7e34-4f26-b989-3e4c3b0d0881",
   "metadata": {},
   "source": [
    "### DBT009"
   ]
  },
  {
   "cell_type": "code",
   "execution_count": null,
   "id": "f5531bcd-1c97-4d86-a8af-08a0eefc2be8",
   "metadata": {},
   "outputs": [],
   "source": [
    "args.target_indices_key, args.target_pointer_key = 'plbl2data_idx', 'plbl2data_data2ptr'"
   ]
  },
  {
   "cell_type": "code",
   "execution_count": null,
   "id": "4d3afb13-d808-480c-a796-7945d3239f64",
   "metadata": {},
   "outputs": [],
   "source": [
    "model = DBT009.from_pretrained('sentence-transformers/msmarco-distilbert-base-v4', apply_softmax=True)"
   ]
  },
  {
   "cell_type": "code",
   "execution_count": null,
   "id": "2d97c425-afb4-4e61-bb48-859a3e835266",
   "metadata": {},
   "outputs": [
    {
     "name": "stderr",
     "output_type": "stream",
     "text": [
      "/scratch/scai/phd/aiz218323/anaconda3/envs/xc_nlg/lib/python3.9/site-packages/accelerate/accelerator.py:432: FutureWarning: Passing the following arguments to `Accelerator` is deprecated and will be removed in version 1.0 of Accelerate: dict_keys(['dispatch_batches', 'split_batches', 'even_batches', 'use_seedable_sampler']). Please pass an `accelerate.DataLoaderConfiguration` instead: \n",
      "dataloader_config = DataLoaderConfiguration(dispatch_batches=None, split_batches=False, even_batches=True, use_seedable_sampler=True)\n",
      "  warnings.warn(\n",
      "Detected kernel version 3.10.0, which is below the recommended minimum of 5.5.0; this can cause the process to hang. It is recommended to upgrade the kernel to the minimum version or higher.\n"
     ]
    }
   ],
   "source": [
    "learn = XCLearner(\n",
    "    model=model, \n",
    "    args=args,\n",
    "    train_dataset=block.train.dset,\n",
    "    eval_dataset=block.valid.dset,\n",
    "    data_collator=block.collator,\n",
    "    compute_metrics=metric,\n",
    ")"
   ]
  },
  {
   "cell_type": "code",
   "execution_count": null,
   "id": "64ac1956-77fc-4f5d-8978-84e08292c5f5",
   "metadata": {},
   "outputs": [
    {
     "data": {
      "application/vnd.jupyter.widget-view+json": {
       "model_id": "5c6bf259abff4f4e87e42a93da344f7d",
       "version_major": 2,
       "version_minor": 0
      },
      "text/plain": [
       "  0%|          | 0/2441 [00:00<?, ?it/s]"
      ]
     },
     "metadata": {},
     "output_type": "display_data"
    },
    {
     "name": "stderr",
     "output_type": "stream",
     "text": [
      "/scratch/scai/phd/aiz218323/anaconda3/envs/xc_nlg/lib/python3.9/site-packages/torch/nn/parallel/_functions.py:68: UserWarning: Was asked to gather along dimension 0, but all input tensors were scalars; will instead unsqueeze and return a vector.\n",
      "  warnings.warn('Was asked to gather along dimension 0, but all '\n"
     ]
    },
    {
     "data": {
      "text/html": [
       "\n",
       "    <div>\n",
       "      \n",
       "      <progress value='16' max='16' style='width:300px; height:20px; vertical-align: middle;'></progress>\n",
       "      [16/16 00:03]\n",
       "    </div>\n",
       "    "
      ],
      "text/plain": [
       "<IPython.core.display.HTML object>"
      ]
     },
     "metadata": {},
     "output_type": "display_data"
    },
    {
     "name": "stderr",
     "output_type": "stream",
     "text": [
      "/scratch/scai/phd/aiz218323/anaconda3/envs/xc_nlg/lib/python3.9/site-packages/scipy/sparse/_index.py:145: SparseEfficiencyWarning: Changing the sparsity structure of a csr_matrix is expensive. lil_matrix is more efficient.\n",
      "  self._set_arrayXarray(i, j, x)\n"
     ]
    },
    {
     "data": {
      "text/html": [
       "<div>\n",
       "<style scoped>\n",
       "    .dataframe tbody tr th:only-of-type {\n",
       "        vertical-align: middle;\n",
       "    }\n",
       "\n",
       "    .dataframe tbody tr th {\n",
       "        vertical-align: top;\n",
       "    }\n",
       "\n",
       "    .dataframe thead th {\n",
       "        text-align: right;\n",
       "    }\n",
       "</style>\n",
       "<table border=\"1\" class=\"dataframe\">\n",
       "  <thead>\n",
       "    <tr style=\"text-align: right;\">\n",
       "      <th></th>\n",
       "      <th>P@1</th>\n",
       "      <th>P@3</th>\n",
       "      <th>P@5</th>\n",
       "      <th>P@10</th>\n",
       "      <th>N@1</th>\n",
       "      <th>N@3</th>\n",
       "      <th>N@5</th>\n",
       "      <th>N@10</th>\n",
       "      <th>PSP@1</th>\n",
       "      <th>PSP@3</th>\n",
       "      <th>PSP@5</th>\n",
       "      <th>PSP@10</th>\n",
       "      <th>PSN@1</th>\n",
       "      <th>PSN@3</th>\n",
       "      <th>PSN@5</th>\n",
       "      <th>PSN@10</th>\n",
       "      <th>R@10</th>\n",
       "      <th>R@100</th>\n",
       "      <th>R@200</th>\n",
       "      <th>loss</th>\n",
       "      <th>runtime</th>\n",
       "      <th>samples_per_second</th>\n",
       "      <th>steps_per_second</th>\n",
       "    </tr>\n",
       "  </thead>\n",
       "  <tbody>\n",
       "    <tr>\n",
       "      <th>0</th>\n",
       "      <td>17.55</td>\n",
       "      <td>11.25</td>\n",
       "      <td>8.51</td>\n",
       "      <td>5.395</td>\n",
       "      <td>17.55</td>\n",
       "      <td>16.3869</td>\n",
       "      <td>17.0474</td>\n",
       "      <td>18.2349</td>\n",
       "      <td>16.5798</td>\n",
       "      <td>16.3154</td>\n",
       "      <td>17.3715</td>\n",
       "      <td>19.5769</td>\n",
       "      <td>16.5798</td>\n",
       "      <td>16.5513</td>\n",
       "      <td>17.5815</td>\n",
       "      <td>18.8769</td>\n",
       "      <td>21.4325</td>\n",
       "      <td>30.3816</td>\n",
       "      <td>30.3816</td>\n",
       "      <td>0.2163</td>\n",
       "      <td>3.4408</td>\n",
       "      <td>581.263</td>\n",
       "      <td>4.65</td>\n",
       "    </tr>\n",
       "  </tbody>\n",
       "</table>\n",
       "</div>"
      ],
      "text/plain": [
       "     P@1    P@3   P@5   P@10    N@1      N@3      N@5     N@10    PSP@1  \\\n",
       "0  17.55  11.25  8.51  5.395  17.55  16.3869  17.0474  18.2349  16.5798   \n",
       "\n",
       "     PSP@3    PSP@5   PSP@10    PSN@1    PSN@3    PSN@5   PSN@10     R@10  \\\n",
       "0  16.3154  17.3715  19.5769  16.5798  16.5513  17.5815  18.8769  21.4325   \n",
       "\n",
       "     R@100    R@200    loss  runtime  samples_per_second  steps_per_second  \n",
       "0  30.3816  30.3816  0.2163   3.4408             581.263              4.65  "
      ]
     },
     "metadata": {},
     "output_type": "display_data"
    }
   ],
   "source": [
    "metrics = learn.evaluate(test_dset)\n",
    "display_metric(metrics)"
   ]
  },
  {
   "cell_type": "markdown",
   "id": "b8ebd7d5-b3b5-4b0d-ac25-592c2760f934",
   "metadata": {},
   "source": [
    "### DBT010"
   ]
  },
  {
   "cell_type": "code",
   "execution_count": null,
   "id": "3bd0d6ae-55b1-42dd-9a66-7c27ef70ddf0",
   "metadata": {},
   "outputs": [],
   "source": [
    "args = XCLearningArguments(\n",
    "    output_dir='/scratch/scai/phd/aiz218323/Projects/xc_nlg/outputs/default',\n",
    "    per_device_eval_batch_size=64,\n",
    "    representation_num_beams=200,\n",
    "    evaluation_strategy='steps',\n",
    "    label_names=['plbl2data_idx', 'plbl2data_data2ptr'],\n",
    "    target_indices_key='plbl2data_idx',\n",
    "    target_pointer_key='plbl2data_data2ptr',\n",
    ")"
   ]
  },
  {
   "cell_type": "code",
   "execution_count": null,
   "id": "76039fae-371d-4fa9-8b31-3a80f01dc572",
   "metadata": {},
   "outputs": [],
   "source": [
    "model = DBT010.from_pretrained('sentence-transformers/msmarco-distilbert-base-v4', apply_softmax=True)"
   ]
  },
  {
   "cell_type": "code",
   "execution_count": null,
   "id": "1f4c12f3-b2b9-47c0-b087-dbd2af659bc6",
   "metadata": {},
   "outputs": [
    {
     "name": "stderr",
     "output_type": "stream",
     "text": [
      "/scratch/scai/phd/aiz218323/anaconda3/envs/xc_nlg/lib/python3.9/site-packages/accelerate/accelerator.py:432: FutureWarning: Passing the following arguments to `Accelerator` is deprecated and will be removed in version 1.0 of Accelerate: dict_keys(['dispatch_batches', 'split_batches', 'even_batches', 'use_seedable_sampler']). Please pass an `accelerate.DataLoaderConfiguration` instead: \n",
      "dataloader_config = DataLoaderConfiguration(dispatch_batches=None, split_batches=False, even_batches=True, use_seedable_sampler=True)\n",
      "  warnings.warn(\n",
      "Detected kernel version 3.10.0, which is below the recommended minimum of 5.5.0; this can cause the process to hang. It is recommended to upgrade the kernel to the minimum version or higher.\n"
     ]
    }
   ],
   "source": [
    "learn = XCLearner(\n",
    "    model=model, \n",
    "    args=args,\n",
    "    train_dataset=block.train.dset,\n",
    "    eval_dataset=block.valid.dset,\n",
    "    data_collator=block.collator,\n",
    "    compute_metrics=metric,\n",
    ")"
   ]
  },
  {
   "cell_type": "code",
   "execution_count": null,
   "id": "8ca1fceb-7ccb-427d-8d56-8d8a0723117e",
   "metadata": {},
   "outputs": [
    {
     "data": {
      "application/vnd.jupyter.widget-view+json": {
       "model_id": "1a6d653128694d06b8eadd31b254b418",
       "version_major": 2,
       "version_minor": 0
      },
      "text/plain": [
       "  0%|          | 0/2441 [00:00<?, ?it/s]"
      ]
     },
     "metadata": {},
     "output_type": "display_data"
    },
    {
     "name": "stderr",
     "output_type": "stream",
     "text": [
      "/scratch/scai/phd/aiz218323/Projects/xcai/xcai/losses.py:21: UserWarning: Sparse CSR tensor support is in beta state. If you miss a functionality in the sparse tensor support, please submit a feature request to https://github.com/pytorch/pytorch/issues. (Triggered internally at ../aten/src/ATen/SparseCsrTensorImpl.cpp:53.)\n",
      "  return torch.sparse_csr_tensor(data_ptr, data_idx, scores, device=data_ptr.device)\n",
      "/scratch/scai/phd/aiz218323/anaconda3/envs/xc_nlg/lib/python3.9/site-packages/torch/nn/parallel/_functions.py:68: UserWarning: Was asked to gather along dimension 0, but all input tensors were scalars; will instead unsqueeze and return a vector.\n",
      "  warnings.warn('Was asked to gather along dimension 0, but all '\n"
     ]
    },
    {
     "data": {
      "text/html": [
       "\n",
       "    <div>\n",
       "      \n",
       "      <progress value='16' max='16' style='width:300px; height:20px; vertical-align: middle;'></progress>\n",
       "      [16/16 00:02]\n",
       "    </div>\n",
       "    "
      ],
      "text/plain": [
       "<IPython.core.display.HTML object>"
      ]
     },
     "metadata": {},
     "output_type": "display_data"
    },
    {
     "name": "stderr",
     "output_type": "stream",
     "text": [
      "/scratch/scai/phd/aiz218323/anaconda3/envs/xc_nlg/lib/python3.9/site-packages/scipy/sparse/_index.py:145: SparseEfficiencyWarning: Changing the sparsity structure of a csr_matrix is expensive. lil_matrix is more efficient.\n",
      "  self._set_arrayXarray(i, j, x)\n",
      "Failed to detect the name of this notebook, you can set it manually with the WANDB_NOTEBOOK_NAME environment variable to enable code saving.\n",
      "huggingface/tokenizers: The current process just got forked, after parallelism has already been used. Disabling parallelism to avoid deadlocks...\n",
      "To disable this warning, you can either:\n",
      "\t- Avoid using `tokenizers` before the fork if possible\n",
      "\t- Explicitly set the environment variable TOKENIZERS_PARALLELISM=(true | false)\n"
     ]
    },
    {
     "data": {
      "text/html": [
       "<div>\n",
       "<style scoped>\n",
       "    .dataframe tbody tr th:only-of-type {\n",
       "        vertical-align: middle;\n",
       "    }\n",
       "\n",
       "    .dataframe tbody tr th {\n",
       "        vertical-align: top;\n",
       "    }\n",
       "\n",
       "    .dataframe thead th {\n",
       "        text-align: right;\n",
       "    }\n",
       "</style>\n",
       "<table border=\"1\" class=\"dataframe\">\n",
       "  <thead>\n",
       "    <tr style=\"text-align: right;\">\n",
       "      <th></th>\n",
       "      <th>P@1</th>\n",
       "      <th>P@3</th>\n",
       "      <th>P@5</th>\n",
       "      <th>P@10</th>\n",
       "      <th>N@1</th>\n",
       "      <th>N@3</th>\n",
       "      <th>N@5</th>\n",
       "      <th>N@10</th>\n",
       "      <th>PSP@1</th>\n",
       "      <th>PSP@3</th>\n",
       "      <th>PSP@5</th>\n",
       "      <th>PSP@10</th>\n",
       "      <th>PSN@1</th>\n",
       "      <th>PSN@3</th>\n",
       "      <th>PSN@5</th>\n",
       "      <th>PSN@10</th>\n",
       "      <th>R@10</th>\n",
       "      <th>R@100</th>\n",
       "      <th>R@200</th>\n",
       "      <th>loss</th>\n",
       "      <th>runtime</th>\n",
       "      <th>samples_per_second</th>\n",
       "      <th>steps_per_second</th>\n",
       "    </tr>\n",
       "  </thead>\n",
       "  <tbody>\n",
       "    <tr>\n",
       "      <th>0</th>\n",
       "      <td>17.45</td>\n",
       "      <td>11.2333</td>\n",
       "      <td>8.5</td>\n",
       "      <td>5.4</td>\n",
       "      <td>17.45</td>\n",
       "      <td>16.3016</td>\n",
       "      <td>16.9607</td>\n",
       "      <td>18.1692</td>\n",
       "      <td>16.3714</td>\n",
       "      <td>16.2598</td>\n",
       "      <td>17.3038</td>\n",
       "      <td>19.576</td>\n",
       "      <td>16.3714</td>\n",
       "      <td>16.4307</td>\n",
       "      <td>17.445</td>\n",
       "      <td>18.7685</td>\n",
       "      <td>21.4263</td>\n",
       "      <td>30.3842</td>\n",
       "      <td>30.3842</td>\n",
       "      <td>0.0092</td>\n",
       "      <td>24.885</td>\n",
       "      <td>80.37</td>\n",
       "      <td>0.643</td>\n",
       "    </tr>\n",
       "  </tbody>\n",
       "</table>\n",
       "</div>"
      ],
      "text/plain": [
       "     P@1      P@3  P@5  P@10    N@1      N@3      N@5     N@10    PSP@1  \\\n",
       "0  17.45  11.2333  8.5   5.4  17.45  16.3016  16.9607  18.1692  16.3714   \n",
       "\n",
       "     PSP@3    PSP@5  PSP@10    PSN@1    PSN@3   PSN@5   PSN@10     R@10  \\\n",
       "0  16.2598  17.3038  19.576  16.3714  16.4307  17.445  18.7685  21.4263   \n",
       "\n",
       "     R@100    R@200    loss  runtime  samples_per_second  steps_per_second  \n",
       "0  30.3842  30.3842  0.0092   24.885               80.37             0.643  "
      ]
     },
     "metadata": {},
     "output_type": "display_data"
    }
   ],
   "source": [
    "metrics = learn.evaluate(test_dset)\n",
    "display_metric(metrics)"
   ]
  },
  {
   "cell_type": "code",
   "execution_count": null,
   "id": "d4100404-8838-4b78-8b02-e9b085728fc7",
   "metadata": {},
   "outputs": [],
   "source": []
  },
  {
   "cell_type": "code",
   "execution_count": null,
   "id": "43de840c-e8bc-4505-8eea-f27ece59aa7a",
   "metadata": {},
   "outputs": [],
   "source": []
  }
 ],
 "metadata": {
  "kernelspec": {
   "display_name": "python3",
   "language": "python",
   "name": "python3"
  }
 },
 "nbformat": 4,
 "nbformat_minor": 5
}
