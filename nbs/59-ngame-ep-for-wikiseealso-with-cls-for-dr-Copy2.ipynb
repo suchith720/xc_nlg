{
 "cells": [
  {
   "cell_type": "code",
   "execution_count": null,
   "id": "a4a1f892",
   "metadata": {},
   "outputs": [],
   "source": [
    "#| default_exp 59-ngame-ep-for-wikiseealso-with-cls-for-dr"
   ]
  },
  {
   "cell_type": "code",
   "execution_count": null,
   "id": "2b776411",
   "metadata": {},
   "outputs": [
    {
     "name": "stdout",
     "output_type": "stream",
     "text": [
      "The autoreload extension is already loaded. To reload it, use:\n",
      "  %reload_ext autoreload\n"
     ]
    }
   ],
   "source": [
    "%load_ext autoreload\n",
    "%autoreload 2"
   ]
  },
  {
   "cell_type": "code",
   "execution_count": null,
   "id": "8936c9e0",
   "metadata": {},
   "outputs": [],
   "source": [
    "#| export\n",
    "import os,torch, torch.multiprocessing as mp, pickle\n",
    "from xcai.basics import *\n",
    "from xcai.models.PPP0XX import DBT010"
   ]
  },
  {
   "cell_type": "code",
   "execution_count": null,
   "id": "441a688e",
   "metadata": {},
   "outputs": [],
   "source": [
    "os.environ['WANDB_MODE'] = 'disabled'"
   ]
  },
  {
   "cell_type": "code",
   "execution_count": null,
   "id": "8906ac95",
   "metadata": {},
   "outputs": [],
   "source": [
    "#| export\n",
    "os.environ['CUDA_VISIBLE_DEVICES'] = '0,1'\n",
    "os.environ['WANDB_PROJECT']='xc-nlg_19-ngame-training-pipeline-with-multitriplet-loss-with-clustering'"
   ]
  },
  {
   "cell_type": "code",
   "execution_count": null,
   "id": "dc9d4936",
   "metadata": {},
   "outputs": [],
   "source": [
    "#| export\n",
    "data_dir = '/home/scai/phd/aiz218323/Projects/XC_NLG/data'"
   ]
  },
  {
   "cell_type": "code",
   "execution_count": null,
   "id": "ec3ad114",
   "metadata": {},
   "outputs": [],
   "source": [
    "block = XCBlock.from_cfg(data_dir, 'data', valid_pct=0.001, tfm='xcnlg', tokenizer='distilbert-base-uncased', smp_features=[('lbl2data',1,1)])"
   ]
  },
  {
   "cell_type": "code",
   "execution_count": null,
   "id": "74cfac44-7f74-489f-928b-13249bc132f0",
   "metadata": {},
   "outputs": [
    {
     "name": "stdout",
     "output_type": "stream",
     "text": [
      "wikiseealso_data_distilbert-base-uncased_rm_ngame.pkl\n",
      "wikiseealso_data_distilbert-base-uncased_xcnlg_ngame.pkl\n",
      "wikiseealso_data-meta_distilbert-base-uncased_rm_ramen-cat.pkl\n",
      "wikiseealso_data-metas_distilbert-base-uncased_rm_radga-final.pkl\n"
     ]
    }
   ],
   "source": [
    "!ls {pkl_dir}/processed"
   ]
  },
  {
   "cell_type": "code",
   "execution_count": null,
   "id": "e555d2ed",
   "metadata": {},
   "outputs": [],
   "source": [
    "#| export\n",
    "pkl_dir = '/home/scai/phd/aiz218323/scratch/datasets'\n",
    "pkl_file = f'{pkl_dir}/processed/wikiseealso_data_distilbert-base-uncased_rm_ngame.pkl'"
   ]
  },
  {
   "cell_type": "code",
   "execution_count": null,
   "id": "48982d50",
   "metadata": {},
   "outputs": [],
   "source": [
    "with open(pkl_file, 'wb') as file: pickle.dump(block, file)"
   ]
  },
  {
   "cell_type": "code",
   "execution_count": null,
   "id": "c035bcbc",
   "metadata": {},
   "outputs": [],
   "source": [
    "#| export\n",
    "with open(pkl_file, 'rb') as file: block = pickle.load(file)"
   ]
  },
  {
   "cell_type": "markdown",
   "id": "b008af05",
   "metadata": {},
   "source": [
    "## Training"
   ]
  },
  {
   "cell_type": "code",
   "execution_count": null,
   "id": "b6017892",
   "metadata": {},
   "outputs": [],
   "source": [
    "#| export\n",
    "args = XCLearningArguments(\n",
    "    output_dir='/home/scai/phd/aiz218323/scratch/outputs/59-ngame-ep-for-wikiseealso-with-cls-for-dr',\n",
    "    logging_first_step=True,\n",
    "    per_device_train_batch_size=800,\n",
    "    per_device_eval_batch_size=800,\n",
    "    representation_num_beams=200,\n",
    "    representation_accumulation_steps=100,\n",
    "    save_strategy=\"steps\",\n",
    "    evaluation_strategy='steps',\n",
    "    eval_steps=1000,\n",
    "    save_steps=1000,\n",
    "    save_total_limit=5,\n",
    "    num_train_epochs=300,\n",
    "    predict_with_representation=True,\n",
    "    representation_search_type='BRUTEFORCE',\n",
    "    adam_epsilon=1e-6,\n",
    "    warmup_steps=100,\n",
    "    weight_decay=0.01,\n",
    "    learning_rate=2e-4,\n",
    "    group_by_cluster=True,\n",
    "    num_clustering_warmup_epochs=10,\n",
    "    num_cluster_update_epochs=5,\n",
    "    num_cluster_size_update_epochs=10,\n",
    "    clustering_type='EXPO',\n",
    "    minimum_cluster_size=1,\n",
    "    maximum_cluster_size=300,\n",
    "    target_indices_key='plbl2data_idx',\n",
    "    target_pointer_key='plbl2data_data2ptr',\n",
    "    use_encoder_parallel=True,\n",
    "    max_grad_norm=None,\n",
    "    fp16=True,\n",
    ")"
   ]
  },
  {
   "cell_type": "code",
   "execution_count": null,
   "id": "3bb3e477-1050-4a8c-90c5-5ce0010043d2",
   "metadata": {},
   "outputs": [],
   "source": []
  },
  {
   "cell_type": "code",
   "execution_count": null,
   "id": "7882af6d",
   "metadata": {},
   "outputs": [],
   "source": [
    "#| export\n",
    "metric = PrecRecl(block.n_lbl, block.test.data_lbl_filterer, prop=block.train.dset.data.data_lbl,\n",
    "                  pk=10, rk=200, rep_pk=[1, 3, 5, 10], rep_rk=[10, 100, 200])"
   ]
  },
  {
   "cell_type": "code",
   "execution_count": null,
   "id": "ccf5e1fa",
   "metadata": {},
   "outputs": [
    {
     "name": "stderr",
     "output_type": "stream",
     "text": [
      "Some weights of DBT010 were not initialized from the model checkpoint at distilbert-base-uncased and are newly initialized: ['encoder.dr_layer_norm.bias', 'encoder.dr_layer_norm.weight', 'encoder.dr_projector.bias', 'encoder.dr_projector.weight', 'encoder.dr_transform.bias', 'encoder.dr_transform.weight']\n",
      "You should probably TRAIN this model on a down-stream task to be able to use it for predictions and inference.\n"
     ]
    }
   ],
   "source": [
    "#| export\n",
    "bsz = max(args.per_device_train_batch_size, args.per_device_eval_batch_size)*torch.cuda.device_count()\n",
    "\n",
    "model = DBT010.from_pretrained('distilbert-base-uncased', bsz=bsz, tn_targ=5000, margin=0.3, tau=0.1, \n",
    "                               n_negatives=5, apply_softmax=True, use_encoder_parallel=True)\n",
    "model.init_dr_head()"
   ]
  },
  {
   "cell_type": "code",
   "execution_count": null,
   "id": "3f2d50a6",
   "metadata": {},
   "outputs": [
    {
     "name": "stderr",
     "output_type": "stream",
     "text": [
      "/scratch/scai/phd/aiz218323/anaconda3/envs/xc_nlg/lib/python3.9/site-packages/accelerate/accelerator.py:432: FutureWarning: Passing the following arguments to `Accelerator` is deprecated and will be removed in version 1.0 of Accelerate: dict_keys(['dispatch_batches', 'split_batches', 'even_batches', 'use_seedable_sampler']). Please pass an `accelerate.DataLoaderConfiguration` instead: \n",
      "dataloader_config = DataLoaderConfiguration(dispatch_batches=None, split_batches=False, even_batches=True, use_seedable_sampler=True)\n",
      "  warnings.warn(\n",
      "Detected kernel version 3.10.0, which is below the recommended minimum of 5.5.0; this can cause the process to hang. It is recommended to upgrade the kernel to the minimum version or higher.\n"
     ]
    }
   ],
   "source": [
    "#| export\n",
    "learn = XCLearner(\n",
    "    model=model, \n",
    "    args=args,\n",
    "    train_dataset=block.train.dset,\n",
    "    eval_dataset=block.test.dset,\n",
    "    data_collator=block.collator,\n",
    "    compute_metrics=metric,\n",
    ")"
   ]
  },
  {
   "cell_type": "code",
   "execution_count": null,
   "id": "7416d136",
   "metadata": {},
   "outputs": [
    {
     "name": "stderr",
     "output_type": "stream",
     "text": [
      "Failed to detect the name of this notebook, you can set it manually with the WANDB_NOTEBOOK_NAME environment variable to enable code saving.\n"
     ]
    },
    {
     "data": {
      "application/vnd.jupyter.widget-view+json": {
       "model_id": "13c947057c0843a6a4d4944b6db46bba",
       "version_major": 2,
       "version_minor": 0
      },
      "text/plain": [
       "  0%|          | 0/347 [00:00<?, ?it/s]"
      ]
     },
     "metadata": {},
     "output_type": "display_data"
    }
   ],
   "source": [
    "learn.train()"
   ]
  },
  {
   "cell_type": "code",
   "execution_count": null,
   "id": "edb2296b",
   "metadata": {},
   "outputs": [],
   "source": []
  },
  {
   "cell_type": "code",
   "execution_count": null,
   "id": "d14a8c4d",
   "metadata": {},
   "outputs": [],
   "source": [
    "#| export\n",
    "if __name__ == '__main__':\n",
    "    mp.freeze_support()\n",
    "    learn.train()"
   ]
  },
  {
   "cell_type": "markdown",
   "id": "804dd454",
   "metadata": {},
   "source": [
    "## Prediction"
   ]
  },
  {
   "cell_type": "code",
   "execution_count": null,
   "id": "7e482e7e",
   "metadata": {},
   "outputs": [],
   "source": [
    "args = XCLearningArguments(\n",
    "    output_dir='/home/aiscuser/outputs/43-encoder-parallel-ngame-for-wikiseealso-1-0',\n",
    "    logging_first_step=True,\n",
    "    per_device_train_batch_size=800,\n",
    "    per_device_eval_batch_size=800,\n",
    "    representation_num_beams=200,\n",
    "    representation_accumulation_steps=100,\n",
    "    predict_with_representation=True,\n",
    "    representation_search_type='BRUTEFORCE',\n",
    "    target_indices_key='plbl2data_idx',\n",
    "    target_pointer_key='plbl2data_data2ptr',\n",
    "    fp16=True,\n",
    ")"
   ]
  },
  {
   "cell_type": "code",
   "execution_count": null,
   "id": "accb2b2e",
   "metadata": {},
   "outputs": [],
   "source": [
    "metric = PrecRecl(block.n_lbl, block.test.data_lbl_filterer, prop=block.train.dset.data.data_lbl,\n",
    "                  pk=10, rk=200, rep_pk=[1, 3, 5, 10], rep_rk=[10, 100, 200])"
   ]
  },
  {
   "cell_type": "code",
   "execution_count": null,
   "id": "dc399052",
   "metadata": {},
   "outputs": [],
   "source": [
    "output_dir = f\"/home/aiscuser/scratch/Projects/xc_nlg/outputs/{os.path.basename(args.output_dir)}\"\n",
    "mname = f'{output_dir}/{os.path.basename(get_best_model(output_dir))}'"
   ]
  },
  {
   "cell_type": "code",
   "execution_count": null,
   "id": "f31a2193",
   "metadata": {},
   "outputs": [],
   "source": [
    "bsz = max(args.per_device_train_batch_size, args.per_device_eval_batch_size)*torch.cuda.device_count()\n",
    "\n",
    "model = DBT009.from_pretrained(mname, bsz=bsz, tn_targ=5000, margin=0.3, tau=0.1, n_negatives=5, \n",
    "                               apply_softmax=True)"
   ]
  },
  {
   "cell_type": "code",
   "execution_count": null,
   "id": "8b57a038",
   "metadata": {},
   "outputs": [],
   "source": [
    "learn = XCLearner(\n",
    "    model=model, \n",
    "    args=args,\n",
    "    train_dataset=block.train.dset,\n",
    "    eval_dataset=block.test.dset,\n",
    "    data_collator=block.collator,\n",
    "    compute_metrics=metric,\n",
    ")"
   ]
  },
  {
   "cell_type": "code",
   "execution_count": null,
   "id": "41fee6bc",
   "metadata": {},
   "outputs": [
    {
     "name": "stdout",
     "output_type": "stream",
     "text": [
      "[2024-06-05 16:42:28,389] [INFO] [real_accelerator.py:110:get_accelerator] Setting ds_accelerator to cuda (auto detect)\n"
     ]
    },
    {
     "data": {
      "application/vnd.jupyter.widget-view+json": {
       "model_id": "06537f60b5e8414eb204d726ba3ed055",
       "version_major": 2,
       "version_minor": 0
      },
      "text/plain": [
       "  0%|          | 0/196 [00:00<?, ?it/s]"
      ]
     },
     "metadata": {},
     "output_type": "display_data"
    },
    {
     "name": "stdout",
     "output_type": "stream",
     "text": [
      "node-0:2311484:2311484 [0] NCCL INFO Bootstrap : Using eth0:10.13.51.163<0>\n",
      "node-0:2311484:2311484 [0] NCCL INFO NET/Plugin : Plugin load (librccl-net.so) returned 2 : librccl-net.so: cannot open shared object file: No such file or directory\n",
      "node-0:2311484:2311484 [0] NCCL INFO NET/Plugin : No plugin found, using internal implementation\n",
      "node-0:2311484:2311484 [0] NCCL INFO Kernel version: 5.15.0-1042-azure\n",
      "RCCL version 2.17.1+hip5.7 HEAD:cbbb3d8+\n",
      "\n",
      "node-0:2311484:2312549 [0] /long_pathname_so_that_rpms_can_package_the_debug_info/src/extlibs/rccl/build/hipify/src/misc/ibvwrap.cc:222 NCCL WARN Call to ibv_open_device failed\n",
      "\n",
      "node-0:2311484:2312549 [0] /long_pathname_so_that_rpms_can_package_the_debug_info/src/extlibs/rccl/build/hipify/src/transport/net_ib.cc:199 NCCL WARN NET/IB : Unable to open device mlx5_0\n",
      "\n",
      "node-0:2311484:2312549 [0] /long_pathname_so_that_rpms_can_package_the_debug_info/src/extlibs/rccl/build/hipify/src/misc/ibvwrap.cc:222 NCCL WARN Call to ibv_open_device failed\n",
      "\n",
      "node-0:2311484:2312549 [0] /long_pathname_so_that_rpms_can_package_the_debug_info/src/extlibs/rccl/build/hipify/src/transport/net_ib.cc:199 NCCL WARN NET/IB : Unable to open device mlx5_1\n",
      "\n",
      "node-0:2311484:2312549 [0] /long_pathname_so_that_rpms_can_package_the_debug_info/src/extlibs/rccl/build/hipify/src/misc/ibvwrap.cc:222 NCCL WARN Call to ibv_open_device failed\n",
      "\n",
      "node-0:2311484:2312549 [0] /long_pathname_so_that_rpms_can_package_the_debug_info/src/extlibs/rccl/build/hipify/src/transport/net_ib.cc:199 NCCL WARN NET/IB : Unable to open device mlx5_2\n",
      "\n",
      "node-0:2311484:2312549 [0] /long_pathname_so_that_rpms_can_package_the_debug_info/src/extlibs/rccl/build/hipify/src/misc/ibvwrap.cc:222 NCCL WARN Call to ibv_open_device failed\n",
      "\n",
      "node-0:2311484:2312549 [0] /long_pathname_so_that_rpms_can_package_the_debug_info/src/extlibs/rccl/build/hipify/src/transport/net_ib.cc:199 NCCL WARN NET/IB : Unable to open device mlx5_3\n",
      "\n",
      "node-0:2311484:2312549 [0] /long_pathname_so_that_rpms_can_package_the_debug_info/src/extlibs/rccl/build/hipify/src/misc/ibvwrap.cc:222 NCCL WARN Call to ibv_open_device failed\n",
      "\n",
      "node-0:2311484:2312549 [0] /long_pathname_so_that_rpms_can_package_the_debug_info/src/extlibs/rccl/build/hipify/src/transport/net_ib.cc:199 NCCL WARN NET/IB : Unable to open device mlx5_4\n",
      "\n",
      "node-0:2311484:2312549 [0] /long_pathname_so_that_rpms_can_package_the_debug_info/src/extlibs/rccl/build/hipify/src/misc/ibvwrap.cc:222 NCCL WARN Call to ibv_open_device failed\n",
      "\n",
      "node-0:2311484:2312549 [0] /long_pathname_so_that_rpms_can_package_the_debug_info/src/extlibs/rccl/build/hipify/src/transport/net_ib.cc:199 NCCL WARN NET/IB : Unable to open device mlx5_5\n",
      "\n",
      "node-0:2311484:2312549 [0] /long_pathname_so_that_rpms_can_package_the_debug_info/src/extlibs/rccl/build/hipify/src/misc/ibvwrap.cc:222 NCCL WARN Call to ibv_open_device failed\n",
      "\n",
      "node-0:2311484:2312549 [0] /long_pathname_so_that_rpms_can_package_the_debug_info/src/extlibs/rccl/build/hipify/src/transport/net_ib.cc:199 NCCL WARN NET/IB : Unable to open device mlx5_6\n",
      "\n",
      "node-0:2311484:2312549 [0] /long_pathname_so_that_rpms_can_package_the_debug_info/src/extlibs/rccl/build/hipify/src/misc/ibvwrap.cc:222 NCCL WARN Call to ibv_open_device failed\n",
      "\n",
      "node-0:2311484:2312549 [0] /long_pathname_so_that_rpms_can_package_the_debug_info/src/extlibs/rccl/build/hipify/src/transport/net_ib.cc:199 NCCL WARN NET/IB : Unable to open device mlx5_7\n",
      "node-0:2311484:2312549 [0] NCCL INFO NET/IB : No device found.\n",
      "node-0:2311484:2312549 [0] NCCL INFO NET/Socket : Using [0]eth0:10.13.51.163<0>\n",
      "node-0:2311484:2312549 [0] NCCL INFO Using network Socket\n",
      "node-0:2311484:2312550 [1] NCCL INFO Using network Socket\n",
      "node-0:2311484:2312550 [1] NCCL INFO Topology detection : could not read /sys/devices/LNXSYSTM:00/LNXSYBUS:00/ACPI0004:00/VMBUS:00/47505500-000d-0000-3130-303237343043/pci000d:00/000d:00:00.0/../max_link_speed, ignoring\n",
      "node-0:2311484:2312549 [0] NCCL INFO Topology detection : could not read /sys/devices/LNXSYSTM:00/LNXSYBUS:00/ACPI0004:00/VMBUS:00/47505500-000d-0000-3130-303237343043/pci000d:00/000d:00:00.0/../max_link_speed, ignoring\n",
      "node-0:2311484:2312550 [1] NCCL INFO Topology detection : could not read /sys/devices/LNXSYSTM:00/LNXSYBUS:00/ACPI0004:00/VMBUS:00/47505500-000d-0000-3130-303237343043/pci000d:00/000d:00:00.0/../max_link_width, ignoring\n",
      "node-0:2311484:2312549 [0] NCCL INFO Topology detection : could not read /sys/devices/LNXSYSTM:00/LNXSYBUS:00/ACPI0004:00/VMBUS:00/47505500-000d-0000-3130-303237343043/pci000d:00/000d:00:00.0/../max_link_width, ignoring\n",
      "node-0:2311484:2312550 [1] NCCL INFO rocm_smi_lib: version 5.0.0.0\n",
      "node-0:2311484:2312549 [0] NCCL INFO rocm_smi_lib: version 5.0.0.0\n",
      "node-0:2311484:2312550 [1] NCCL INFO Topology detection : could not read /sys/devices/LNXSYSTM:00/LNXSYBUS:00/ACPI0004:00/VMBUS:00/47505500-000e-0000-3130-303237343043/pci000e:00/000e:00:00.0/../max_link_speed, ignoring\n",
      "node-0:2311484:2312549 [0] NCCL INFO Topology detection : could not read /sys/devices/LNXSYSTM:00/LNXSYBUS:00/ACPI0004:00/VMBUS:00/47505500-000e-0000-3130-303237343043/pci000e:00/000e:00:00.0/../max_link_speed, ignoring\n",
      "node-0:2311484:2312550 [1] NCCL INFO Topology detection : could not read /sys/devices/LNXSYSTM:00/LNXSYBUS:00/ACPI0004:00/VMBUS:00/47505500-000e-0000-3130-303237343043/pci000e:00/000e:00:00.0/../max_link_width, ignoring\n",
      "node-0:2311484:2312549 [0] NCCL INFO Topology detection : could not read /sys/devices/LNXSYSTM:00/LNXSYBUS:00/ACPI0004:00/VMBUS:00/47505500-000e-0000-3130-303237343043/pci000e:00/000e:00:00.0/../max_link_width, ignoring\n",
      "node-0:2311484:2312550 [1] NCCL INFO === System : maxBw 144.0 totalBw 144.0 ===\n",
      "node-0:2311484:2312550 [1] NCCL INFO CPU/2 (1/2/4)\n",
      "node-0:2311484:2312550 [1] NCCL INFO + PCI[5000.0] - NIC/0\n",
      "node-0:2311484:2312550 [1] NCCL INFO + PCI[24.0] - GPU/D00000 (0)\n",
      "node-0:2311484:2312550 [1] NCCL INFO               + XGMI[144.0] - GPU/E00000\n",
      "node-0:2311484:2312550 [1] NCCL INFO + PCI[24.0] - GPU/E00000 (1)\n",
      "node-0:2311484:2312550 [1] NCCL INFO               + XGMI[144.0] - GPU/D00000\n",
      "node-0:2311484:2312550 [1] NCCL INFO ==========================================\n",
      "node-0:2311484:2312550 [1] NCCL INFO GPU/D00000 :GPU/D00000 (0/5000.000000/LOC) GPU/E00000 (1/144.000000/XGMI) CPU/2 (1/24.000000/PHB) \n",
      "node-0:2311484:2312550 [1] NCCL INFO GPU/E00000 :GPU/D00000 (1/144.000000/XGMI) GPU/E00000 (0/5000.000000/LOC) CPU/2 (1/24.000000/PHB) \n",
      "node-0:2311484:2312550 [1] NCCL INFO Setting affinity for GPU 13 to ff,ffff0000,00000000\n",
      "node-0:2311484:2312549 [0] NCCL INFO === System : maxBw 144.0 totalBw 144.0 ===\n",
      "node-0:2311484:2312549 [0] NCCL INFO CPU/2 (1/2/4)\n",
      "node-0:2311484:2312549 [0] NCCL INFO + PCI[5000.0] - NIC/0\n",
      "node-0:2311484:2312549 [0] NCCL INFO + PCI[24.0] - GPU/D00000 (0)\n",
      "node-0:2311484:2312549 [0] NCCL INFO               + XGMI[144.0] - GPU/E00000\n",
      "node-0:2311484:2312549 [0] NCCL INFO + PCI[24.0] - GPU/E00000 (1)\n",
      "node-0:2311484:2312549 [0] NCCL INFO               + XGMI[144.0] - GPU/D00000\n",
      "node-0:2311484:2312549 [0] NCCL INFO ==========================================\n",
      "node-0:2311484:2312549 [0] NCCL INFO GPU/D00000 :GPU/D00000 (0/5000.000000/LOC) GPU/E00000 (1/144.000000/XGMI) CPU/2 (1/24.000000/PHB) \n",
      "node-0:2311484:2312549 [0] NCCL INFO GPU/E00000 :GPU/D00000 (1/144.000000/XGMI) GPU/E00000 (0/5000.000000/LOC) CPU/2 (1/24.000000/PHB) \n",
      "node-0:2311484:2312549 [0] NCCL INFO Setting affinity for GPU 12 to ff,ffff0000,00000000\n",
      "node-0:2311484:2312549 [0] NCCL INFO Pattern 4, crossNic 0, nChannels 6, bw 24.000000/24.000000, type XGMI/PIX, sameChannels 1\n",
      "node-0:2311484:2312549 [0] NCCL INFO  0 : GPU/0 GPU/1\n",
      "node-0:2311484:2312549 [0] NCCL INFO  1 : GPU/0 GPU/1\n",
      "node-0:2311484:2312549 [0] NCCL INFO  2 : GPU/0 GPU/1\n",
      "node-0:2311484:2312549 [0] NCCL INFO  3 : GPU/0 GPU/1\n",
      "node-0:2311484:2312549 [0] NCCL INFO  4 : GPU/0 GPU/1\n",
      "node-0:2311484:2312549 [0] NCCL INFO  5 : GPU/0 GPU/1\n",
      "node-0:2311484:2312549 [0] NCCL INFO Pattern 1, crossNic 0, nChannels 6, bw 48.000000/48.000000, type XGMI/PIX, sameChannels 0\n",
      "node-0:2311484:2312549 [0] NCCL INFO  0 : GPU/0 GPU/1\n",
      "node-0:2311484:2312549 [0] NCCL INFO  1 : GPU/0 GPU/1\n",
      "node-0:2311484:2312549 [0] NCCL INFO  2 : GPU/0 GPU/1\n",
      "node-0:2311484:2312549 [0] NCCL INFO  3 : GPU/1 GPU/0\n",
      "node-0:2311484:2312549 [0] NCCL INFO  4 : GPU/1 GPU/0\n",
      "node-0:2311484:2312549 [0] NCCL INFO  5 : GPU/1 GPU/0\n",
      "node-0:2311484:2312549 [0] NCCL INFO Pattern 3, crossNic 0, nChannels 6, bw 48.000000/48.000000, type XGMI/PIX, sameChannels 0\n",
      "node-0:2311484:2312549 [0] NCCL INFO  0 : GPU/0 GPU/1\n",
      "node-0:2311484:2312549 [0] NCCL INFO  1 : GPU/0 GPU/1\n",
      "node-0:2311484:2312549 [0] NCCL INFO  2 : GPU/0 GPU/1\n",
      "node-0:2311484:2312549 [0] NCCL INFO  3 : GPU/1 GPU/0\n",
      "node-0:2311484:2312549 [0] NCCL INFO  4 : GPU/1 GPU/0\n",
      "node-0:2311484:2312549 [0] NCCL INFO  5 : GPU/1 GPU/0\n",
      "node-0:2311484:2312550 [1] NCCL INFO Pattern 4, crossNic 0, nChannels 6, bw 24.000000/24.000000, type XGMI/PIX, sameChannels 1\n",
      "node-0:2311484:2312550 [1] NCCL INFO  0 : GPU/0 GPU/1\n",
      "node-0:2311484:2312550 [1] NCCL INFO  1 : GPU/0 GPU/1\n",
      "node-0:2311484:2312550 [1] NCCL INFO  2 : GPU/0 GPU/1\n",
      "node-0:2311484:2312550 [1] NCCL INFO  3 : GPU/0 GPU/1\n",
      "node-0:2311484:2312550 [1] NCCL INFO  4 : GPU/0 GPU/1\n",
      "node-0:2311484:2312550 [1] NCCL INFO  5 : GPU/0 GPU/1\n",
      "node-0:2311484:2312550 [1] NCCL INFO Pattern 1, crossNic 0, nChannels 6, bw 48.000000/48.000000, type XGMI/PIX, sameChannels 0\n",
      "node-0:2311484:2312550 [1] NCCL INFO  0 : GPU/0 GPU/1\n",
      "node-0:2311484:2312550 [1] NCCL INFO  1 : GPU/0 GPU/1\n",
      "node-0:2311484:2312550 [1] NCCL INFO  2 : GPU/0 GPU/1\n",
      "node-0:2311484:2312550 [1] NCCL INFO  3 : GPU/1 GPU/0\n",
      "node-0:2311484:2312550 [1] NCCL INFO  4 : GPU/1 GPU/0\n",
      "node-0:2311484:2312550 [1] NCCL INFO  5 : GPU/1 GPU/0\n",
      "node-0:2311484:2312550 [1] NCCL INFO Pattern 3, crossNic 0, nChannels 6, bw 48.000000/48.000000, type XGMI/PIX, sameChannels 0\n",
      "node-0:2311484:2312550 [1] NCCL INFO  0 : GPU/0 GPU/1\n",
      "node-0:2311484:2312550 [1] NCCL INFO  1 : GPU/0 GPU/1\n",
      "node-0:2311484:2312550 [1] NCCL INFO  2 : GPU/0 GPU/1\n",
      "node-0:2311484:2312550 [1] NCCL INFO  3 : GPU/1 GPU/0\n",
      "node-0:2311484:2312550 [1] NCCL INFO  4 : GPU/1 GPU/0\n",
      "node-0:2311484:2312550 [1] NCCL INFO  5 : GPU/1 GPU/0\n",
      "node-0:2311484:2312549 [0] NCCL INFO Tree 0 : -1 -> 0 -> 1/-1/-1\n",
      "node-0:2311484:2312549 [0] NCCL INFO Tree 6 : -1 -> 0 -> 1/-1/-1\n",
      "node-0:2311484:2312549 [0] NCCL INFO Tree 1 : -1 -> 0 -> 1/-1/-1\n",
      "node-0:2311484:2312549 [0] NCCL INFO Tree 7 : -1 -> 0 -> 1/-1/-1\n",
      "node-0:2311484:2312549 [0] NCCL INFO Tree 2 : -1 -> 0 -> 1/-1/-1\n",
      "node-0:2311484:2312549 [0] NCCL INFO Tree 8 : -1 -> 0 -> 1/-1/-1\n",
      "node-0:2311484:2312549 [0] NCCL INFO Tree 3 : 1 -> 0 -> -1/-1/-1\n",
      "node-0:2311484:2312549 [0] NCCL INFO Tree 9 : 1 -> 0 -> -1/-1/-1\n",
      "node-0:2311484:2312549 [0] NCCL INFO Tree 4 : 1 -> 0 -> -1/-1/-1\n",
      "node-0:2311484:2312549 [0] NCCL INFO Tree 10 : 1 -> 0 -> -1/-1/-1\n",
      "node-0:2311484:2312550 [1] NCCL INFO Tree 0 : 0 -> 1 -> -1/-1/-1\n",
      "node-0:2311484:2312549 [0] NCCL INFO Tree 5 : 1 -> 0 -> -1/-1/-1\n",
      "node-0:2311484:2312550 [1] NCCL INFO Tree 6 : 0 -> 1 -> -1/-1/-1\n",
      "node-0:2311484:2312549 [0] NCCL INFO Tree 11 : 1 -> 0 -> -1/-1/-1\n",
      "node-0:2311484:2312550 [1] NCCL INFO Tree 1 : 0 -> 1 -> -1/-1/-1\n",
      "node-0:2311484:2312550 [1] NCCL INFO Tree 7 : 0 -> 1 -> -1/-1/-1\n",
      "node-0:2311484:2312550 [1] NCCL INFO Tree 2 : 0 -> 1 -> -1/-1/-1\n",
      "node-0:2311484:2312550 [1] NCCL INFO Tree 8 : 0 -> 1 -> -1/-1/-1\n",
      "node-0:2311484:2312550 [1] NCCL INFO Tree 3 : -1 -> 1 -> 0/-1/-1\n",
      "node-0:2311484:2312550 [1] NCCL INFO Tree 9 : -1 -> 1 -> 0/-1/-1\n",
      "node-0:2311484:2312549 [0] NCCL INFO Channel 00/24 :    0   1\n",
      "node-0:2311484:2312550 [1] NCCL INFO Tree 4 : -1 -> 1 -> 0/-1/-1\n",
      "node-0:2311484:2312549 [0] NCCL INFO Channel 01/24 :    0   1\n",
      "node-0:2311484:2312550 [1] NCCL INFO Tree 10 : -1 -> 1 -> 0/-1/-1\n",
      "node-0:2311484:2312549 [0] NCCL INFO Channel 02/24 :    0   1\n",
      "node-0:2311484:2312550 [1] NCCL INFO Tree 5 : -1 -> 1 -> 0/-1/-1\n",
      "node-0:2311484:2312549 [0] NCCL INFO Channel 03/24 :    0   1\n",
      "node-0:2311484:2312550 [1] NCCL INFO Tree 11 : -1 -> 1 -> 0/-1/-1\n",
      "node-0:2311484:2312549 [0] NCCL INFO Channel 04/24 :    0   1\n",
      "node-0:2311484:2312549 [0] NCCL INFO Channel 05/24 :    0   1\n",
      "node-0:2311484:2312549 [0] NCCL INFO Channel 06/24 :    0   1\n",
      "node-0:2311484:2312549 [0] NCCL INFO Channel 07/24 :    0   1\n",
      "node-0:2311484:2312549 [0] NCCL INFO Channel 08/24 :    0   1\n",
      "node-0:2311484:2312549 [0] NCCL INFO Channel 09/24 :    0   1\n",
      "node-0:2311484:2312549 [0] NCCL INFO Channel 10/24 :    0   1\n",
      "node-0:2311484:2312549 [0] NCCL INFO Channel 11/24 :    0   1\n",
      "node-0:2311484:2312550 [1] NCCL INFO Ring 0 : 0 -> 1 -> 0 comm 0xd2d5ea0 nRanks 02 busId e00000\n",
      "node-0:2311484:2312549 [0] NCCL INFO Channel 12/24 :    0   1\n",
      "node-0:2311484:2312549 [0] NCCL INFO Channel 13/24 :    0   1\n",
      "node-0:2311484:2312550 [1] NCCL INFO Ring 1 : 0 -> 1 -> 0 comm 0xd2d5ea0 nRanks 02 busId e00000\n",
      "node-0:2311484:2312549 [0] NCCL INFO Channel 14/24 :    0   1\n",
      "node-0:2311484:2312549 [0] NCCL INFO Channel 15/24 :    0   1\n",
      "node-0:2311484:2312549 [0] NCCL INFO Channel 16/24 :    0   1\n",
      "node-0:2311484:2312549 [0] NCCL INFO Channel 17/24 :    0   1\n",
      "node-0:2311484:2312549 [0] NCCL INFO Channel 18/24 :    0   1\n",
      "node-0:2311484:2312549 [0] NCCL INFO Channel 19/24 :    0   1\n",
      "node-0:2311484:2312549 [0] NCCL INFO Channel 20/24 :    0   1\n",
      "node-0:2311484:2312549 [0] NCCL INFO Channel 21/24 :    0   1\n",
      "node-0:2311484:2312550 [1] NCCL INFO Ring 2 : 0 -> 1 -> 0 comm 0xd2d5ea0 nRanks 02 busId e00000\n",
      "node-0:2311484:2312549 [0] NCCL INFO Channel 22/24 :    0   1\n",
      "node-0:2311484:2312549 [0] NCCL INFO Channel 23/24 :    0   1\n",
      "node-0:2311484:2312550 [1] NCCL INFO Ring 3 : 0 -> 1 -> 0 comm 0xd2d5ea0 nRanks 02 busId e00000\n",
      "node-0:2311484:2312549 [0] NCCL INFO Ring 0 : 1 -> 0 -> 1 comm 0xeafb400 nRanks 02 busId d00000\n",
      "node-0:2311484:2312550 [1] NCCL INFO Ring 4 : 0 -> 1 -> 0 comm 0xd2d5ea0 nRanks 02 busId e00000\n",
      "node-0:2311484:2312550 [1] NCCL INFO Ring 5 : 0 -> 1 -> 0 comm 0xd2d5ea0 nRanks 02 busId e00000\n",
      "node-0:2311484:2312549 [0] NCCL INFO Ring 1 : 1 -> 0 -> 1 comm 0xeafb400 nRanks 02 busId d00000\n",
      "node-0:2311484:2312550 [1] NCCL INFO Ring 6 : 0 -> 1 -> 0 comm 0xd2d5ea0 nRanks 02 busId e00000\n",
      "node-0:2311484:2312549 [0] NCCL INFO Ring 2 : 1 -> 0 -> 1 comm 0xeafb400 nRanks 02 busId d00000\n",
      "node-0:2311484:2312550 [1] NCCL INFO Ring 7 : 0 -> 1 -> 0 comm 0xd2d5ea0 nRanks 02 busId e00000\n",
      "node-0:2311484:2312549 [0] NCCL INFO Ring 3 : 1 -> 0 -> 1 comm 0xeafb400 nRanks 02 busId d00000\n",
      "node-0:2311484:2312550 [1] NCCL INFO Ring 8 : 0 -> 1 -> 0 comm 0xd2d5ea0 nRanks 02 busId e00000\n",
      "node-0:2311484:2312549 [0] NCCL INFO Ring 4 : 1 -> 0 -> 1 comm 0xeafb400 nRanks 02 busId d00000\n",
      "node-0:2311484:2312550 [1] NCCL INFO Ring 9 : 0 -> 1 -> 0 comm 0xd2d5ea0 nRanks 02 busId e00000\n",
      "node-0:2311484:2312549 [0] NCCL INFO Ring 5 : 1 -> 0 -> 1 comm 0xeafb400 nRanks 02 busId d00000\n",
      "node-0:2311484:2312550 [1] NCCL INFO Ring 10 : 0 -> 1 -> 0 comm 0xd2d5ea0 nRanks 02 busId e00000\n",
      "node-0:2311484:2312549 [0] NCCL INFO Ring 6 : 1 -> 0 -> 1 comm 0xeafb400 nRanks 02 busId d00000\n",
      "node-0:2311484:2312550 [1] NCCL INFO Ring 11 : 0 -> 1 -> 0 comm 0xd2d5ea0 nRanks 02 busId e00000\n",
      "node-0:2311484:2312549 [0] NCCL INFO Ring 7 : 1 -> 0 -> 1 comm 0xeafb400 nRanks 02 busId d00000\n",
      "node-0:2311484:2312550 [1] NCCL INFO Ring 12 : 0 -> 1 -> 0 comm 0xd2d5ea0 nRanks 02 busId e00000\n",
      "node-0:2311484:2312549 [0] NCCL INFO Ring 8 : 1 -> 0 -> 1 comm 0xeafb400 nRanks 02 busId d00000\n",
      "node-0:2311484:2312550 [1] NCCL INFO Ring 13 : 0 -> 1 -> 0 comm 0xd2d5ea0 nRanks 02 busId e00000\n",
      "node-0:2311484:2312549 [0] NCCL INFO Ring 9 : 1 -> 0 -> 1 comm 0xeafb400 nRanks 02 busId d00000\n",
      "node-0:2311484:2312550 [1] NCCL INFO Ring 14 : 0 -> 1 -> 0 comm 0xd2d5ea0 nRanks 02 busId e00000\n",
      "node-0:2311484:2312549 [0] NCCL INFO Ring 10 : 1 -> 0 -> 1 comm 0xeafb400 nRanks 02 busId d00000\n",
      "node-0:2311484:2312550 [1] NCCL INFO Ring 15 : 0 -> 1 -> 0 comm 0xd2d5ea0 nRanks 02 busId e00000\n",
      "node-0:2311484:2312549 [0] NCCL INFO Ring 11 : 1 -> 0 -> 1 comm 0xeafb400 nRanks 02 busId d00000\n",
      "node-0:2311484:2312550 [1] NCCL INFO Ring 16 : 0 -> 1 -> 0 comm 0xd2d5ea0 nRanks 02 busId e00000\n",
      "node-0:2311484:2312549 [0] NCCL INFO Ring 12 : 1 -> 0 -> 1 comm 0xeafb400 nRanks 02 busId d00000\n",
      "node-0:2311484:2312550 [1] NCCL INFO Ring 17 : 0 -> 1 -> 0 comm 0xd2d5ea0 nRanks 02 busId e00000\n",
      "node-0:2311484:2312549 [0] NCCL INFO Ring 13 : 1 -> 0 -> 1 comm 0xeafb400 nRanks 02 busId d00000\n",
      "node-0:2311484:2312550 [1] NCCL INFO Ring 18 : 0 -> 1 -> 0 comm 0xd2d5ea0 nRanks 02 busId e00000\n",
      "node-0:2311484:2312549 [0] NCCL INFO Ring 14 : 1 -> 0 -> 1 comm 0xeafb400 nRanks 02 busId d00000\n",
      "node-0:2311484:2312550 [1] NCCL INFO Ring 19 : 0 -> 1 -> 0 comm 0xd2d5ea0 nRanks 02 busId e00000\n",
      "node-0:2311484:2312549 [0] NCCL INFO Ring 15 : 1 -> 0 -> 1 comm 0xeafb400 nRanks 02 busId d00000\n",
      "node-0:2311484:2312550 [1] NCCL INFO Ring 20 : 0 -> 1 -> 0 comm 0xd2d5ea0 nRanks 02 busId e00000\n",
      "node-0:2311484:2312549 [0] NCCL INFO Ring 16 : 1 -> 0 -> 1 comm 0xeafb400 nRanks 02 busId d00000\n"
     ]
    },
    {
     "name": "stdout",
     "output_type": "stream",
     "text": [
      "node-0:2311484:2312550 [1] NCCL INFO Ring 21 : 0 -> 1 -> 0 comm 0xd2d5ea0 nRanks 02 busId e00000\n",
      "node-0:2311484:2312550 [1] NCCL INFO Ring 22 : 0 -> 1 -> 0 comm 0xd2d5ea0 nRanks 02 busId e00000\n",
      "node-0:2311484:2312550 [1] NCCL INFO Ring 23 : 0 -> 1 -> 0 comm 0xd2d5ea0 nRanks 02 busId e00000\n",
      "node-0:2311484:2312550 [1] NCCL INFO Trees [0] -1/-1/-1->1->0 [1] -1/-1/-1->1->0 [2] -1/-1/-1->1->0 [3] 0/-1/-1->1->-1 [4] 0/-1/-1->1->-1 [5] 0/-1/-1->1->-1 [6] -1/-1/-1->1->0 [7] -1/-1/-1->1->0 [8] -1/-1/-1->1->0 [9] 0/-1/-1->1->-1 [10] 0/-1/-1->1->-1 [11] 0/-1/-1->1->-1 [12] -1/-1/-1->1->0 [13] -1/-1/-1->1->0 [14] -1/-1/-1->1->0 [15] 0/-1/-1->1->-1 [16] 0/-1/-1->1->-1 [17] 0/-1/-1->1->-1 [18] -1/-1/-1->1->0 [19] -1/-1/-1->1->0 [20] -1/-1/-1->1->0 [21] 0/-1/-1->1->-1 [22] 0/-1/-1->1->-1 [23] 0/-1/-1->1->-1 comm 0xd2d5ea0 nRanks 02 busId e00000\n",
      "node-0:2311484:2312549 [0] NCCL INFO Ring 17 : 1 -> 0 -> 1 comm 0xeafb400 nRanks 02 busId d00000\n",
      "node-0:2311484:2312550 [1] NCCL INFO P2P Chunksize set to 524288\n",
      "node-0:2311484:2312549 [0] NCCL INFO Ring 18 : 1 -> 0 -> 1 comm 0xeafb400 nRanks 02 busId d00000\n",
      "node-0:2311484:2312549 [0] NCCL INFO Ring 19 : 1 -> 0 -> 1 comm 0xeafb400 nRanks 02 busId d00000\n",
      "node-0:2311484:2312549 [0] NCCL INFO Ring 20 : 1 -> 0 -> 1 comm 0xeafb400 nRanks 02 busId d00000\n",
      "node-0:2311484:2312549 [0] NCCL INFO Ring 21 : 1 -> 0 -> 1 comm 0xeafb400 nRanks 02 busId d00000\n",
      "node-0:2311484:2312549 [0] NCCL INFO Ring 22 : 1 -> 0 -> 1 comm 0xeafb400 nRanks 02 busId d00000\n",
      "node-0:2311484:2312549 [0] NCCL INFO Ring 23 : 1 -> 0 -> 1 comm 0xeafb400 nRanks 02 busId d00000\n",
      "node-0:2311484:2312549 [0] NCCL INFO Trees [0] 1/-1/-1->0->-1 [1] 1/-1/-1->0->-1 [2] 1/-1/-1->0->-1 [3] -1/-1/-1->0->1 [4] -1/-1/-1->0->1 [5] -1/-1/-1->0->1 [6] 1/-1/-1->0->-1 [7] 1/-1/-1->0->-1 [8] 1/-1/-1->0->-1 [9] -1/-1/-1->0->1 [10] -1/-1/-1->0->1 [11] -1/-1/-1->0->1 [12] 1/-1/-1->0->-1 [13] 1/-1/-1->0->-1 [14] 1/-1/-1->0->-1 [15] -1/-1/-1->0->1 [16] -1/-1/-1->0->1 [17] -1/-1/-1->0->1 [18] 1/-1/-1->0->-1 [19] 1/-1/-1->0->-1 [20] 1/-1/-1->0->-1 [21] -1/-1/-1->0->1 [22] -1/-1/-1->0->1 [23] -1/-1/-1->0->1 comm 0xeafb400 nRanks 02 busId d00000\n",
      "node-0:2311484:2312549 [0] NCCL INFO P2P Chunksize set to 524288\n",
      "node-0:2311484:2312549 [0] NCCL INFO Channel 00/0 : 0[d00000] -> 1[e00000] via P2P/direct pointer comm 0xeafb400 nRanks 02\n",
      "node-0:2311484:2312550 [1] NCCL INFO Channel 00/0 : 1[e00000] -> 0[d00000] via P2P/direct pointer comm 0xd2d5ea0 nRanks 02\n",
      "node-0:2311484:2312549 [0] NCCL INFO Channel 01/0 : 0[d00000] -> 1[e00000] via P2P/direct pointer comm 0xeafb400 nRanks 02\n",
      "node-0:2311484:2312550 [1] NCCL INFO Channel 01/0 : 1[e00000] -> 0[d00000] via P2P/direct pointer comm 0xd2d5ea0 nRanks 02\n",
      "node-0:2311484:2312549 [0] NCCL INFO Channel 02/0 : 0[d00000] -> 1[e00000] via P2P/direct pointer comm 0xeafb400 nRanks 02\n",
      "node-0:2311484:2312550 [1] NCCL INFO Channel 02/0 : 1[e00000] -> 0[d00000] via P2P/direct pointer comm 0xd2d5ea0 nRanks 02\n",
      "node-0:2311484:2312549 [0] NCCL INFO Channel 03/0 : 0[d00000] -> 1[e00000] via P2P/direct pointer comm 0xeafb400 nRanks 02\n",
      "node-0:2311484:2312550 [1] NCCL INFO Channel 03/0 : 1[e00000] -> 0[d00000] via P2P/direct pointer comm 0xd2d5ea0 nRanks 02\n",
      "node-0:2311484:2312549 [0] NCCL INFO Channel 04/0 : 0[d00000] -> 1[e00000] via P2P/direct pointer comm 0xeafb400 nRanks 02\n",
      "node-0:2311484:2312550 [1] NCCL INFO Channel 04/0 : 1[e00000] -> 0[d00000] via P2P/direct pointer comm 0xd2d5ea0 nRanks 02\n",
      "node-0:2311484:2312550 [1] NCCL INFO Channel 05/0 : 1[e00000] -> 0[d00000] via P2P/direct pointer comm 0xd2d5ea0 nRanks 02\n",
      "node-0:2311484:2312549 [0] NCCL INFO Channel 05/0 : 0[d00000] -> 1[e00000] via P2P/direct pointer comm 0xeafb400 nRanks 02\n",
      "node-0:2311484:2312549 [0] NCCL INFO Channel 06/0 : 0[d00000] -> 1[e00000] via P2P/direct pointer comm 0xeafb400 nRanks 02\n",
      "node-0:2311484:2312550 [1] NCCL INFO Channel 06/0 : 1[e00000] -> 0[d00000] via P2P/direct pointer comm 0xd2d5ea0 nRanks 02\n",
      "node-0:2311484:2312550 [1] NCCL INFO Channel 07/0 : 1[e00000] -> 0[d00000] via P2P/direct pointer comm 0xd2d5ea0 nRanks 02\n",
      "node-0:2311484:2312549 [0] NCCL INFO Channel 07/0 : 0[d00000] -> 1[e00000] via P2P/direct pointer comm 0xeafb400 nRanks 02\n",
      "node-0:2311484:2312550 [1] NCCL INFO Channel 08/0 : 1[e00000] -> 0[d00000] via P2P/direct pointer comm 0xd2d5ea0 nRanks 02\n",
      "node-0:2311484:2312549 [0] NCCL INFO Channel 08/0 : 0[d00000] -> 1[e00000] via P2P/direct pointer comm 0xeafb400 nRanks 02\n",
      "node-0:2311484:2312550 [1] NCCL INFO Channel 09/0 : 1[e00000] -> 0[d00000] via P2P/direct pointer comm 0xd2d5ea0 nRanks 02\n",
      "node-0:2311484:2312549 [0] NCCL INFO Channel 09/0 : 0[d00000] -> 1[e00000] via P2P/direct pointer comm 0xeafb400 nRanks 02\n",
      "node-0:2311484:2312550 [1] NCCL INFO Channel 10/0 : 1[e00000] -> 0[d00000] via P2P/direct pointer comm 0xd2d5ea0 nRanks 02\n",
      "node-0:2311484:2312549 [0] NCCL INFO Channel 10/0 : 0[d00000] -> 1[e00000] via P2P/direct pointer comm 0xeafb400 nRanks 02\n",
      "node-0:2311484:2312550 [1] NCCL INFO Channel 11/0 : 1[e00000] -> 0[d00000] via P2P/direct pointer comm 0xd2d5ea0 nRanks 02\n",
      "node-0:2311484:2312549 [0] NCCL INFO Channel 11/0 : 0[d00000] -> 1[e00000] via P2P/direct pointer comm 0xeafb400 nRanks 02\n",
      "node-0:2311484:2312550 [1] NCCL INFO Channel 12/0 : 1[e00000] -> 0[d00000] via P2P/direct pointer comm 0xd2d5ea0 nRanks 02\n",
      "node-0:2311484:2312549 [0] NCCL INFO Channel 12/0 : 0[d00000] -> 1[e00000] via P2P/direct pointer comm 0xeafb400 nRanks 02\n",
      "node-0:2311484:2312550 [1] NCCL INFO Channel 13/0 : 1[e00000] -> 0[d00000] via P2P/direct pointer comm 0xd2d5ea0 nRanks 02\n",
      "node-0:2311484:2312549 [0] NCCL INFO Channel 13/0 : 0[d00000] -> 1[e00000] via P2P/direct pointer comm 0xeafb400 nRanks 02\n",
      "node-0:2311484:2312550 [1] NCCL INFO Channel 14/0 : 1[e00000] -> 0[d00000] via P2P/direct pointer comm 0xd2d5ea0 nRanks 02\n",
      "node-0:2311484:2312549 [0] NCCL INFO Channel 14/0 : 0[d00000] -> 1[e00000] via P2P/direct pointer comm 0xeafb400 nRanks 02\n",
      "node-0:2311484:2312550 [1] NCCL INFO Channel 15/0 : 1[e00000] -> 0[d00000] via P2P/direct pointer comm 0xd2d5ea0 nRanks 02\n",
      "node-0:2311484:2312549 [0] NCCL INFO Channel 15/0 : 0[d00000] -> 1[e00000] via P2P/direct pointer comm 0xeafb400 nRanks 02\n",
      "node-0:2311484:2312549 [0] NCCL INFO Channel 16/0 : 0[d00000] -> 1[e00000] via P2P/direct pointer comm 0xeafb400 nRanks 02\n",
      "node-0:2311484:2312550 [1] NCCL INFO Channel 16/0 : 1[e00000] -> 0[d00000] via P2P/direct pointer comm 0xd2d5ea0 nRanks 02\n",
      "node-0:2311484:2312550 [1] NCCL INFO Channel 17/0 : 1[e00000] -> 0[d00000] via P2P/direct pointer comm 0xd2d5ea0 nRanks 02\n",
      "node-0:2311484:2312549 [0] NCCL INFO Channel 17/0 : 0[d00000] -> 1[e00000] via P2P/direct pointer comm 0xeafb400 nRanks 02\n",
      "node-0:2311484:2312550 [1] NCCL INFO Channel 18/0 : 1[e00000] -> 0[d00000] via P2P/direct pointer comm 0xd2d5ea0 nRanks 02\n",
      "node-0:2311484:2312549 [0] NCCL INFO Channel 18/0 : 0[d00000] -> 1[e00000] via P2P/direct pointer comm 0xeafb400 nRanks 02\n",
      "node-0:2311484:2312550 [1] NCCL INFO Channel 19/0 : 1[e00000] -> 0[d00000] via P2P/direct pointer comm 0xd2d5ea0 nRanks 02\n",
      "node-0:2311484:2312549 [0] NCCL INFO Channel 19/0 : 0[d00000] -> 1[e00000] via P2P/direct pointer comm 0xeafb400 nRanks 02\n",
      "node-0:2311484:2312550 [1] NCCL INFO Channel 20/0 : 1[e00000] -> 0[d00000] via P2P/direct pointer comm 0xd2d5ea0 nRanks 02\n",
      "node-0:2311484:2312549 [0] NCCL INFO Channel 20/0 : 0[d00000] -> 1[e00000] via P2P/direct pointer comm 0xeafb400 nRanks 02\n",
      "node-0:2311484:2312550 [1] NCCL INFO Channel 21/0 : 1[e00000] -> 0[d00000] via P2P/direct pointer comm 0xd2d5ea0 nRanks 02\n",
      "node-0:2311484:2312549 [0] NCCL INFO Channel 21/0 : 0[d00000] -> 1[e00000] via P2P/direct pointer comm 0xeafb400 nRanks 02\n",
      "node-0:2311484:2312550 [1] NCCL INFO Channel 22/0 : 1[e00000] -> 0[d00000] via P2P/direct pointer comm 0xd2d5ea0 nRanks 02\n",
      "node-0:2311484:2312549 [0] NCCL INFO Channel 22/0 : 0[d00000] -> 1[e00000] via P2P/direct pointer comm 0xeafb400 nRanks 02\n",
      "node-0:2311484:2312550 [1] NCCL INFO Channel 23/0 : 1[e00000] -> 0[d00000] via P2P/direct pointer comm 0xd2d5ea0 nRanks 02\n",
      "node-0:2311484:2312549 [0] NCCL INFO Channel 23/0 : 0[d00000] -> 1[e00000] via P2P/direct pointer comm 0xeafb400 nRanks 02\n",
      "node-0:2311484:2312549 [0] NCCL INFO Connected all rings comm 0xeafb400 nRanks 02 busId d00000\n",
      "node-0:2311484:2312549 ["
     ]
    },
    {
     "name": "stderr",
     "output_type": "stream",
     "text": [
      "/home/aiscuser/scratch/Projects/xcai/xcai/losses.py:21: UserWarning: Sparse CSR tensor support is in beta state. If you miss a functionality in the sparse tensor support, please submit a feature request to https://github.com/pytorch/pytorch/issues. (Triggered internally at ../aten/src/ATen/SparseCsrTensorImpl.cpp:54.)\n",
      "  return torch.sparse_csr_tensor(data_ptr, data_idx, scores, device=data_ptr.device)\n"
     ]
    },
    {
     "data": {
      "text/html": [],
      "text/plain": [
       "<IPython.core.display.HTML object>"
      ]
     },
     "metadata": {},
     "output_type": "display_data"
    },
    {
     "name": "stderr",
     "output_type": "stream",
     "text": [
      "/opt/conda/envs/ptca/lib/python3.9/site-packages/scipy/sparse/_index.py:146: SparseEfficiencyWarning: Changing the sparsity structure of a csr_matrix is expensive. lil_matrix is more efficient.\n",
      "  self._set_arrayXarray(i, j, x)\n"
     ]
    }
   ],
   "source": [
    "o = learn.predict(block.test.dset)"
   ]
  },
  {
   "cell_type": "code",
   "execution_count": null,
   "id": "fc2e6929",
   "metadata": {},
   "outputs": [
    {
     "data": {
      "text/plain": [
       "{'test_loss': 0.06072058901190758,\n",
       " 'test_P@1': 0.3198771934766076,\n",
       " 'test_P@10': 0.102777793425958,\n",
       " 'test_P@3': 0.21540902646722965,\n",
       " 'test_P@5': 0.16289665662073877,\n",
       " 'test_N@1': 0.3198772072792053,\n",
       " 'test_N@10': 0.34766238927841187,\n",
       " 'test_N@3': 0.3192618787288666,\n",
       " 'test_N@5': 0.32938140630722046,\n",
       " 'test_PSP@1': 0.26445585688059114,\n",
       " 'test_PSP@10': 0.3487001160855032,\n",
       " 'test_PSP@3': 0.2855948400848482,\n",
       " 'test_PSP@5': 0.30663317023487074,\n",
       " 'test_PSN@1': 0.2644558548927307,\n",
       " 'test_PSN@10': 0.3255239427089691,\n",
       " 'test_PSN@3': 0.2881307303905487,\n",
       " 'test_PSN@5': 0.30445683002471924,\n",
       " 'test_R@200': 0.5517972038392006,\n",
       " 'test_R@10': 0.39430512282795593,\n",
       " 'test_R@100': 0.5250213826690846,\n",
       " 'test_runtime': 98.574,\n",
       " 'test_samples_per_second': 1800.829,\n",
       " 'test_steps_per_second': 1.126}"
      ]
     },
     "execution_count": null,
     "metadata": {},
     "output_type": "execute_result"
    }
   ],
   "source": [
    "o.metrics"
   ]
  },
  {
   "cell_type": "code",
   "execution_count": null,
   "id": "bd8e62f0",
   "metadata": {},
   "outputs": [
    {
     "data": {
      "text/html": [
       "<div>\n",
       "<style scoped>\n",
       "    .dataframe tbody tr th:only-of-type {\n",
       "        vertical-align: middle;\n",
       "    }\n",
       "\n",
       "    .dataframe tbody tr th {\n",
       "        vertical-align: top;\n",
       "    }\n",
       "\n",
       "    .dataframe thead th {\n",
       "        text-align: right;\n",
       "    }\n",
       "</style>\n",
       "<table border=\"1\" class=\"dataframe\">\n",
       "  <thead>\n",
       "    <tr style=\"text-align: right;\">\n",
       "      <th></th>\n",
       "      <th>P@1</th>\n",
       "      <th>P@3</th>\n",
       "      <th>P@5</th>\n",
       "      <th>P@10</th>\n",
       "      <th>N@1</th>\n",
       "      <th>N@3</th>\n",
       "      <th>N@5</th>\n",
       "      <th>N@10</th>\n",
       "      <th>PSP@1</th>\n",
       "      <th>PSP@3</th>\n",
       "      <th>PSP@5</th>\n",
       "      <th>PSP@10</th>\n",
       "      <th>PSN@1</th>\n",
       "      <th>PSN@3</th>\n",
       "      <th>PSN@5</th>\n",
       "      <th>PSN@10</th>\n",
       "      <th>R@10</th>\n",
       "      <th>R@100</th>\n",
       "      <th>R@200</th>\n",
       "      <th>loss</th>\n",
       "      <th>runtime</th>\n",
       "      <th>samples_per_second</th>\n",
       "      <th>steps_per_second</th>\n",
       "    </tr>\n",
       "  </thead>\n",
       "  <tbody>\n",
       "    <tr>\n",
       "      <th>0</th>\n",
       "      <td>31.9877</td>\n",
       "      <td>21.5409</td>\n",
       "      <td>16.2897</td>\n",
       "      <td>10.2778</td>\n",
       "      <td>31.9877</td>\n",
       "      <td>31.9262</td>\n",
       "      <td>32.9381</td>\n",
       "      <td>34.7662</td>\n",
       "      <td>26.4456</td>\n",
       "      <td>28.5595</td>\n",
       "      <td>30.6633</td>\n",
       "      <td>34.87</td>\n",
       "      <td>26.4456</td>\n",
       "      <td>28.8131</td>\n",
       "      <td>30.4457</td>\n",
       "      <td>32.5524</td>\n",
       "      <td>39.4305</td>\n",
       "      <td>52.5021</td>\n",
       "      <td>55.1797</td>\n",
       "      <td>0.0607</td>\n",
       "      <td>98.574</td>\n",
       "      <td>1800.829</td>\n",
       "      <td>1.126</td>\n",
       "    </tr>\n",
       "  </tbody>\n",
       "</table>\n",
       "</div>"
      ],
      "text/plain": [
       "       P@1      P@3      P@5     P@10      N@1      N@3      N@5     N@10  \\\n",
       "0  31.9877  21.5409  16.2897  10.2778  31.9877  31.9262  32.9381  34.7662   \n",
       "\n",
       "     PSP@1    PSP@3    PSP@5  PSP@10    PSN@1    PSN@3    PSN@5   PSN@10  \\\n",
       "0  26.4456  28.5595  30.6633   34.87  26.4456  28.8131  30.4457  32.5524   \n",
       "\n",
       "      R@10    R@100    R@200    loss  runtime  samples_per_second  \\\n",
       "0  39.4305  52.5021  55.1797  0.0607   98.574            1800.829   \n",
       "\n",
       "   steps_per_second  \n",
       "0             1.126  "
      ]
     },
     "metadata": {},
     "output_type": "display_data"
    }
   ],
   "source": [
    "display_metric(o.metrics)"
   ]
  },
  {
   "cell_type": "code",
   "execution_count": null,
   "id": "4c2bf894-ab58-417d-b044-c6df7fe9da7a",
   "metadata": {},
   "outputs": [],
   "source": []
  },
  {
   "cell_type": "code",
   "execution_count": null,
   "id": "e605ce9b-753c-45ba-b2a8-688d50eb92d8",
   "metadata": {},
   "outputs": [],
   "source": []
  }
 ],
 "metadata": {
  "kernelspec": {
   "display_name": "python3",
   "language": "python",
   "name": "python3"
  }
 },
 "nbformat": 4,
 "nbformat_minor": 5
}
