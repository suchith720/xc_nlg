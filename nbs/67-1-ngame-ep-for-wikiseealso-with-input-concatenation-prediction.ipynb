{
 "cells": [
  {
   "cell_type": "code",
   "execution_count": null,
   "id": "a4a1f892",
   "metadata": {},
   "outputs": [],
   "source": [
    "#| default_exp 67-1-ngame-ep-for-wikiseealso-with-input-concatenation"
   ]
  },
  {
   "cell_type": "code",
   "execution_count": null,
   "id": "2b776411",
   "metadata": {},
   "outputs": [],
   "source": [
    "%load_ext autoreload\n",
    "%autoreload 2"
   ]
  },
  {
   "cell_type": "code",
   "execution_count": null,
   "id": "8936c9e0",
   "metadata": {},
   "outputs": [
    {
     "name": "stderr",
     "output_type": "stream",
     "text": [
      "comet_ml is installed but `COMET_API_KEY` is not set.\n"
     ]
    }
   ],
   "source": [
    "#| export\n",
    "from scipy import sparse\n",
    "from tqdm.auto import tqdm\n",
    "import os,torch, torch.multiprocessing as mp, pickle, numpy as np\n",
    "from xcai.basics import *\n",
    "from xcai.models.PPP0XX import DBT009,DBT011"
   ]
  },
  {
   "cell_type": "code",
   "execution_count": null,
   "id": "441a688e",
   "metadata": {},
   "outputs": [],
   "source": [
    "os.environ['WANDB_MODE'] = 'disabled'"
   ]
  },
  {
   "cell_type": "code",
   "execution_count": null,
   "id": "8906ac95",
   "metadata": {},
   "outputs": [],
   "source": [
    "#| export\n",
    "os.environ['CUDA_VISIBLE_DEVICES'] = '0,1'\n",
    "os.environ['WANDB_PROJECT']='xc-nlg_66-radga-dr-ep-for-wikiseealso'"
   ]
  },
  {
   "cell_type": "markdown",
   "id": "79ba30c3-7843-455c-b7be-7e7b9886dc4b",
   "metadata": {},
   "source": [
    "### Load data"
   ]
  },
  {
   "cell_type": "code",
   "execution_count": null,
   "id": "dc9d4936",
   "metadata": {},
   "outputs": [],
   "source": [
    "#| export\n",
    "data_dir = '/home/scai/phd/aiz218323/Projects/XC_NLG/data'"
   ]
  },
  {
   "cell_type": "code",
   "execution_count": null,
   "id": "ec3ad114",
   "metadata": {},
   "outputs": [
    {
     "name": "stderr",
     "output_type": "stream",
     "text": [
      "/home/scai/phd/aiz218323/.local/lib/python3.9/site-packages/xclib-0.97-py3.9-linux-x86_64.egg/xclib/data/data_utils.py:263: UserWarning: Header mis-match from inferred shape!\n",
      "  warnings.warn(\"Header mis-match from inferred shape!\")\n"
     ]
    }
   ],
   "source": [
    "#| export\n",
    "block = XCBlock.from_cfg(data_dir, 'data_metas', valid_pct=0.001, tfm='xcnlg', tokenizer='distilbert-base-uncased', \n",
    "                         smp_features=[('lbl2data',1,1)])"
   ]
  },
  {
   "cell_type": "code",
   "execution_count": null,
   "id": "e555d2ed",
   "metadata": {},
   "outputs": [],
   "source": [
    "pkl_dir = '/home/scai/phd/aiz218323/scratch/datasets'\n",
    "pkl_file = f'{pkl_dir}/processed/wikiseealso_data_distilbert-base-uncased_xcnlg_ngame.pkl'\n",
    "pkl_file = f'{pkl_dir}/processed/wikiseealso_data-metas_distilbert-base-uncased_rm_radga-final.pkl'\n",
    "pkl_file = f'{pkl_dir}/processed/wikiseealso_data-metas_distilbert-base-uncased_rm_radga-final-aug-hlk.pkl'\n",
    "pkl_file = f'{pkl_dir}/processed/wikiseealso_data-metas_distilbert-base-uncased_rm_radga-final-aug-cat.pkl'"
   ]
  },
  {
   "cell_type": "markdown",
   "id": "99ed5832-3d33-49cb-8cf0-82f6e53f3697",
   "metadata": {},
   "source": [
    "### Augmentation code"
   ]
  },
  {
   "cell_type": "code",
   "execution_count": null,
   "id": "40ec2411-47a5-435d-90a4-db14238a0a85",
   "metadata": {},
   "outputs": [],
   "source": [
    "pkl_dir = '/home/scai/phd/aiz218323/scratch/datasets'"
   ]
  },
  {
   "cell_type": "code",
   "execution_count": null,
   "id": "8b4e3b41-1e9b-4fcf-8ea0-836d13357edf",
   "metadata": {},
   "outputs": [],
   "source": [
    "pkl_file = f'{pkl_dir}/processed/wikiseealso_data-metas_distilbert-base-uncased_rm_radga-final.pkl'\n",
    "\n",
    "with open(pkl_file, 'rb') as file: block = pickle.load(file)"
   ]
  },
  {
   "cell_type": "code",
   "execution_count": null,
   "id": "ef9d89d0-9c8d-475c-9d57-775a95e0a1f9",
   "metadata": {},
   "outputs": [],
   "source": []
  },
  {
   "cell_type": "code",
   "execution_count": null,
   "id": "19f63d4f-eb0a-4d8e-9d4c-8e3d2a2d4c42",
   "metadata": {},
   "outputs": [
    {
     "data": {
      "text/html": [
       "\n",
       "<style>\n",
       "    /* Turns off some styling */\n",
       "    progress {\n",
       "        /* gets rid of default border in Firefox and Opera. */\n",
       "        border: none;\n",
       "        /* Needs to be in here for Safari polyfill so background images work as expected. */\n",
       "        background-size: auto;\n",
       "    }\n",
       "    progress:not([value]), progress:not([value])::-webkit-progress-bar {\n",
       "        background: repeating-linear-gradient(45deg, #7e7e7e, #7e7e7e 10px, #5c5c5c 10px, #5c5c5c 20px);\n",
       "    }\n",
       "    .progress-bar-interrupted, .progress-bar-interrupted::-webkit-progress-bar {\n",
       "        background: #F44336;\n",
       "    }\n",
       "</style>\n"
      ],
      "text/plain": [
       "<IPython.core.display.HTML object>"
      ]
     },
     "metadata": {},
     "output_type": "display_data"
    },
    {
     "data": {
      "text/html": [],
      "text/plain": [
       "<IPython.core.display.HTML object>"
      ]
     },
     "metadata": {},
     "output_type": "display_data"
    },
    {
     "data": {
      "text/html": [
       "\n",
       "<style>\n",
       "    /* Turns off some styling */\n",
       "    progress {\n",
       "        /* gets rid of default border in Firefox and Opera. */\n",
       "        border: none;\n",
       "        /* Needs to be in here for Safari polyfill so background images work as expected. */\n",
       "        background-size: auto;\n",
       "    }\n",
       "    progress:not([value]), progress:not([value])::-webkit-progress-bar {\n",
       "        background: repeating-linear-gradient(45deg, #7e7e7e, #7e7e7e 10px, #5c5c5c 10px, #5c5c5c 20px);\n",
       "    }\n",
       "    .progress-bar-interrupted, .progress-bar-interrupted::-webkit-progress-bar {\n",
       "        background: #F44336;\n",
       "    }\n",
       "</style>\n"
      ],
      "text/plain": [
       "<IPython.core.display.HTML object>"
      ]
     },
     "metadata": {},
     "output_type": "display_data"
    },
    {
     "data": {
      "text/html": [
       "\n",
       "    <div>\n",
       "      <progress value='693082' class='' max='693082' style='width:300px; height:20px; vertical-align: middle;'></progress>\n",
       "      100.00% [693082/693082 00:28&lt;00:00]\n",
       "    </div>\n",
       "    "
      ],
      "text/plain": [
       "<IPython.core.display.HTML object>"
      ]
     },
     "metadata": {},
     "output_type": "display_data"
    },
    {
     "data": {
      "text/html": [
       "\n",
       "<style>\n",
       "    /* Turns off some styling */\n",
       "    progress {\n",
       "        /* gets rid of default border in Firefox and Opera. */\n",
       "        border: none;\n",
       "        /* Needs to be in here for Safari polyfill so background images work as expected. */\n",
       "        background-size: auto;\n",
       "    }\n",
       "    progress:not([value]), progress:not([value])::-webkit-progress-bar {\n",
       "        background: repeating-linear-gradient(45deg, #7e7e7e, #7e7e7e 10px, #5c5c5c 10px, #5c5c5c 20px);\n",
       "    }\n",
       "    .progress-bar-interrupted, .progress-bar-interrupted::-webkit-progress-bar {\n",
       "        background: #F44336;\n",
       "    }\n",
       "</style>\n"
      ],
      "text/plain": [
       "<IPython.core.display.HTML object>"
      ]
     },
     "metadata": {},
     "output_type": "display_data"
    },
    {
     "data": {
      "text/html": [
       "\n",
       "    <div>\n",
       "      <progress value='693082' class='' max='693082' style='width:300px; height:20px; vertical-align: middle;'></progress>\n",
       "      100.00% [693082/693082 00:27&lt;00:00]\n",
       "    </div>\n",
       "    "
      ],
      "text/plain": [
       "<IPython.core.display.HTML object>"
      ]
     },
     "metadata": {},
     "output_type": "display_data"
    },
    {
     "data": {
      "text/html": [
       "\n",
       "<style>\n",
       "    /* Turns off some styling */\n",
       "    progress {\n",
       "        /* gets rid of default border in Firefox and Opera. */\n",
       "        border: none;\n",
       "        /* Needs to be in here for Safari polyfill so background images work as expected. */\n",
       "        background-size: auto;\n",
       "    }\n",
       "    progress:not([value]), progress:not([value])::-webkit-progress-bar {\n",
       "        background: repeating-linear-gradient(45deg, #7e7e7e, #7e7e7e 10px, #5c5c5c 10px, #5c5c5c 20px);\n",
       "    }\n",
       "    .progress-bar-interrupted, .progress-bar-interrupted::-webkit-progress-bar {\n",
       "        background: #F44336;\n",
       "    }\n",
       "</style>\n"
      ],
      "text/plain": [
       "<IPython.core.display.HTML object>"
      ]
     },
     "metadata": {},
     "output_type": "display_data"
    },
    {
     "data": {
      "text/html": [
       "\n",
       "    <div>\n",
       "      <progress value='177515' class='' max='177515' style='width:300px; height:20px; vertical-align: middle;'></progress>\n",
       "      100.00% [177515/177515 00:07&lt;00:00]\n",
       "    </div>\n",
       "    "
      ],
      "text/plain": [
       "<IPython.core.display.HTML object>"
      ]
     },
     "metadata": {},
     "output_type": "display_data"
    },
    {
     "data": {
      "text/html": [
       "\n",
       "<style>\n",
       "    /* Turns off some styling */\n",
       "    progress {\n",
       "        /* gets rid of default border in Firefox and Opera. */\n",
       "        border: none;\n",
       "        /* Needs to be in here for Safari polyfill so background images work as expected. */\n",
       "        background-size: auto;\n",
       "    }\n",
       "    progress:not([value]), progress:not([value])::-webkit-progress-bar {\n",
       "        background: repeating-linear-gradient(45deg, #7e7e7e, #7e7e7e 10px, #5c5c5c 10px, #5c5c5c 20px);\n",
       "    }\n",
       "    .progress-bar-interrupted, .progress-bar-interrupted::-webkit-progress-bar {\n",
       "        background: #F44336;\n",
       "    }\n",
       "</style>\n"
      ],
      "text/plain": [
       "<IPython.core.display.HTML object>"
      ]
     },
     "metadata": {},
     "output_type": "display_data"
    },
    {
     "data": {
      "text/html": [
       "\n",
       "    <div>\n",
       "      <progress value='177515' class='' max='177515' style='width:300px; height:20px; vertical-align: middle;'></progress>\n",
       "      100.00% [177515/177515 00:07&lt;00:00]\n",
       "    </div>\n",
       "    "
      ],
      "text/plain": [
       "<IPython.core.display.HTML object>"
      ]
     },
     "metadata": {},
     "output_type": "display_data"
    },
    {
     "data": {
      "text/html": [
       "\n",
       "<style>\n",
       "    /* Turns off some styling */\n",
       "    progress {\n",
       "        /* gets rid of default border in Firefox and Opera. */\n",
       "        border: none;\n",
       "        /* Needs to be in here for Safari polyfill so background images work as expected. */\n",
       "        background-size: auto;\n",
       "    }\n",
       "    progress:not([value]), progress:not([value])::-webkit-progress-bar {\n",
       "        background: repeating-linear-gradient(45deg, #7e7e7e, #7e7e7e 10px, #5c5c5c 10px, #5c5c5c 20px);\n",
       "    }\n",
       "    .progress-bar-interrupted, .progress-bar-interrupted::-webkit-progress-bar {\n",
       "        background: #F44336;\n",
       "    }\n",
       "</style>\n"
      ],
      "text/plain": [
       "<IPython.core.display.HTML object>"
      ]
     },
     "metadata": {},
     "output_type": "display_data"
    },
    {
     "data": {
      "text/html": [],
      "text/plain": [
       "<IPython.core.display.HTML object>"
      ]
     },
     "metadata": {},
     "output_type": "display_data"
    },
    {
     "data": {
      "text/html": [
       "\n",
       "<style>\n",
       "    /* Turns off some styling */\n",
       "    progress {\n",
       "        /* gets rid of default border in Firefox and Opera. */\n",
       "        border: none;\n",
       "        /* Needs to be in here for Safari polyfill so background images work as expected. */\n",
       "        background-size: auto;\n",
       "    }\n",
       "    progress:not([value]), progress:not([value])::-webkit-progress-bar {\n",
       "        background: repeating-linear-gradient(45deg, #7e7e7e, #7e7e7e 10px, #5c5c5c 10px, #5c5c5c 20px);\n",
       "    }\n",
       "    .progress-bar-interrupted, .progress-bar-interrupted::-webkit-progress-bar {\n",
       "        background: #F44336;\n",
       "    }\n",
       "</style>\n"
      ],
      "text/plain": [
       "<IPython.core.display.HTML object>"
      ]
     },
     "metadata": {},
     "output_type": "display_data"
    },
    {
     "data": {
      "text/html": [
       "\n",
       "    <div>\n",
       "      <progress value='312330' class='' max='312330' style='width:300px; height:20px; vertical-align: middle;'></progress>\n",
       "      100.00% [312330/312330 00:12&lt;00:00]\n",
       "    </div>\n",
       "    "
      ],
      "text/plain": [
       "<IPython.core.display.HTML object>"
      ]
     },
     "metadata": {},
     "output_type": "display_data"
    },
    {
     "data": {
      "text/html": [
       "\n",
       "<style>\n",
       "    /* Turns off some styling */\n",
       "    progress {\n",
       "        /* gets rid of default border in Firefox and Opera. */\n",
       "        border: none;\n",
       "        /* Needs to be in here for Safari polyfill so background images work as expected. */\n",
       "        background-size: auto;\n",
       "    }\n",
       "    progress:not([value]), progress:not([value])::-webkit-progress-bar {\n",
       "        background: repeating-linear-gradient(45deg, #7e7e7e, #7e7e7e 10px, #5c5c5c 10px, #5c5c5c 20px);\n",
       "    }\n",
       "    .progress-bar-interrupted, .progress-bar-interrupted::-webkit-progress-bar {\n",
       "        background: #F44336;\n",
       "    }\n",
       "</style>\n"
      ],
      "text/plain": [
       "<IPython.core.display.HTML object>"
      ]
     },
     "metadata": {},
     "output_type": "display_data"
    },
    {
     "data": {
      "text/html": [
       "\n",
       "    <div>\n",
       "      <progress value='312330' class='' max='312330' style='width:300px; height:20px; vertical-align: middle;'></progress>\n",
       "      100.00% [312330/312330 00:12&lt;00:00]\n",
       "    </div>\n",
       "    "
      ],
      "text/plain": [
       "<IPython.core.display.HTML object>"
      ]
     },
     "metadata": {},
     "output_type": "display_data"
    },
    {
     "data": {
      "text/html": [
       "\n",
       "<style>\n",
       "    /* Turns off some styling */\n",
       "    progress {\n",
       "        /* gets rid of default border in Firefox and Opera. */\n",
       "        border: none;\n",
       "        /* Needs to be in here for Safari polyfill so background images work as expected. */\n",
       "        background-size: auto;\n",
       "    }\n",
       "    progress:not([value]), progress:not([value])::-webkit-progress-bar {\n",
       "        background: repeating-linear-gradient(45deg, #7e7e7e, #7e7e7e 10px, #5c5c5c 10px, #5c5c5c 20px);\n",
       "    }\n",
       "    .progress-bar-interrupted, .progress-bar-interrupted::-webkit-progress-bar {\n",
       "        background: #F44336;\n",
       "    }\n",
       "</style>\n"
      ],
      "text/plain": [
       "<IPython.core.display.HTML object>"
      ]
     },
     "metadata": {},
     "output_type": "display_data"
    },
    {
     "data": {
      "text/html": [
       "\n",
       "    <div>\n",
       "      <progress value='312330' class='' max='312330' style='width:300px; height:20px; vertical-align: middle;'></progress>\n",
       "      100.00% [312330/312330 00:12&lt;00:00]\n",
       "    </div>\n",
       "    "
      ],
      "text/plain": [
       "<IPython.core.display.HTML object>"
      ]
     },
     "metadata": {},
     "output_type": "display_data"
    },
    {
     "data": {
      "text/html": [
       "\n",
       "<style>\n",
       "    /* Turns off some styling */\n",
       "    progress {\n",
       "        /* gets rid of default border in Firefox and Opera. */\n",
       "        border: none;\n",
       "        /* Needs to be in here for Safari polyfill so background images work as expected. */\n",
       "        background-size: auto;\n",
       "    }\n",
       "    progress:not([value]), progress:not([value])::-webkit-progress-bar {\n",
       "        background: repeating-linear-gradient(45deg, #7e7e7e, #7e7e7e 10px, #5c5c5c 10px, #5c5c5c 20px);\n",
       "    }\n",
       "    .progress-bar-interrupted, .progress-bar-interrupted::-webkit-progress-bar {\n",
       "        background: #F44336;\n",
       "    }\n",
       "</style>\n"
      ],
      "text/plain": [
       "<IPython.core.display.HTML object>"
      ]
     },
     "metadata": {},
     "output_type": "display_data"
    },
    {
     "data": {
      "text/html": [
       "\n",
       "    <div>\n",
       "      <progress value='312330' class='' max='312330' style='width:300px; height:20px; vertical-align: middle;'></progress>\n",
       "      100.00% [312330/312330 00:12&lt;00:00]\n",
       "    </div>\n",
       "    "
      ],
      "text/plain": [
       "<IPython.core.display.HTML object>"
      ]
     },
     "metadata": {},
     "output_type": "display_data"
    }
   ],
   "source": [
    "block = AugmentMetaInputIdsTfm.apply(block, 'cat_meta', 'data', 32, True)\n",
    "block = AugmentMetaInputIdsTfm.apply(block, 'cat_meta', 'lbl', 32, True)"
   ]
  },
  {
   "cell_type": "code",
   "execution_count": null,
   "id": "ef467c5d-1dc7-4675-b752-eb8b147c3df5",
   "metadata": {},
   "outputs": [
    {
     "data": {
      "text/html": [
       "\n",
       "<style>\n",
       "    /* Turns off some styling */\n",
       "    progress {\n",
       "        /* gets rid of default border in Firefox and Opera. */\n",
       "        border: none;\n",
       "        /* Needs to be in here for Safari polyfill so background images work as expected. */\n",
       "        background-size: auto;\n",
       "    }\n",
       "    progress:not([value]), progress:not([value])::-webkit-progress-bar {\n",
       "        background: repeating-linear-gradient(45deg, #7e7e7e, #7e7e7e 10px, #5c5c5c 10px, #5c5c5c 20px);\n",
       "    }\n",
       "    .progress-bar-interrupted, .progress-bar-interrupted::-webkit-progress-bar {\n",
       "        background: #F44336;\n",
       "    }\n",
       "</style>\n"
      ],
      "text/plain": [
       "<IPython.core.display.HTML object>"
      ]
     },
     "metadata": {},
     "output_type": "display_data"
    },
    {
     "data": {
      "text/html": [],
      "text/plain": [
       "<IPython.core.display.HTML object>"
      ]
     },
     "metadata": {},
     "output_type": "display_data"
    },
    {
     "data": {
      "text/html": [
       "\n",
       "<style>\n",
       "    /* Turns off some styling */\n",
       "    progress {\n",
       "        /* gets rid of default border in Firefox and Opera. */\n",
       "        border: none;\n",
       "        /* Needs to be in here for Safari polyfill so background images work as expected. */\n",
       "        background-size: auto;\n",
       "    }\n",
       "    progress:not([value]), progress:not([value])::-webkit-progress-bar {\n",
       "        background: repeating-linear-gradient(45deg, #7e7e7e, #7e7e7e 10px, #5c5c5c 10px, #5c5c5c 20px);\n",
       "    }\n",
       "    .progress-bar-interrupted, .progress-bar-interrupted::-webkit-progress-bar {\n",
       "        background: #F44336;\n",
       "    }\n",
       "</style>\n"
      ],
      "text/plain": [
       "<IPython.core.display.HTML object>"
      ]
     },
     "metadata": {},
     "output_type": "display_data"
    },
    {
     "data": {
      "text/html": [
       "\n",
       "    <div>\n",
       "      <progress value='693082' class='' max='693082' style='width:300px; height:20px; vertical-align: middle;'></progress>\n",
       "      100.00% [693082/693082 00:29&lt;00:00]\n",
       "    </div>\n",
       "    "
      ],
      "text/plain": [
       "<IPython.core.display.HTML object>"
      ]
     },
     "metadata": {},
     "output_type": "display_data"
    },
    {
     "data": {
      "text/html": [
       "\n",
       "<style>\n",
       "    /* Turns off some styling */\n",
       "    progress {\n",
       "        /* gets rid of default border in Firefox and Opera. */\n",
       "        border: none;\n",
       "        /* Needs to be in here for Safari polyfill so background images work as expected. */\n",
       "        background-size: auto;\n",
       "    }\n",
       "    progress:not([value]), progress:not([value])::-webkit-progress-bar {\n",
       "        background: repeating-linear-gradient(45deg, #7e7e7e, #7e7e7e 10px, #5c5c5c 10px, #5c5c5c 20px);\n",
       "    }\n",
       "    .progress-bar-interrupted, .progress-bar-interrupted::-webkit-progress-bar {\n",
       "        background: #F44336;\n",
       "    }\n",
       "</style>\n"
      ],
      "text/plain": [
       "<IPython.core.display.HTML object>"
      ]
     },
     "metadata": {},
     "output_type": "display_data"
    },
    {
     "data": {
      "text/html": [
       "\n",
       "    <div>\n",
       "      <progress value='693082' class='' max='693082' style='width:300px; height:20px; vertical-align: middle;'></progress>\n",
       "      100.00% [693082/693082 00:28&lt;00:00]\n",
       "    </div>\n",
       "    "
      ],
      "text/plain": [
       "<IPython.core.display.HTML object>"
      ]
     },
     "metadata": {},
     "output_type": "display_data"
    },
    {
     "data": {
      "text/html": [
       "\n",
       "<style>\n",
       "    /* Turns off some styling */\n",
       "    progress {\n",
       "        /* gets rid of default border in Firefox and Opera. */\n",
       "        border: none;\n",
       "        /* Needs to be in here for Safari polyfill so background images work as expected. */\n",
       "        background-size: auto;\n",
       "    }\n",
       "    progress:not([value]), progress:not([value])::-webkit-progress-bar {\n",
       "        background: repeating-linear-gradient(45deg, #7e7e7e, #7e7e7e 10px, #5c5c5c 10px, #5c5c5c 20px);\n",
       "    }\n",
       "    .progress-bar-interrupted, .progress-bar-interrupted::-webkit-progress-bar {\n",
       "        background: #F44336;\n",
       "    }\n",
       "</style>\n"
      ],
      "text/plain": [
       "<IPython.core.display.HTML object>"
      ]
     },
     "metadata": {},
     "output_type": "display_data"
    },
    {
     "data": {
      "text/html": [
       "\n",
       "    <div>\n",
       "      <progress value='177515' class='' max='177515' style='width:300px; height:20px; vertical-align: middle;'></progress>\n",
       "      100.00% [177515/177515 00:08&lt;00:00]\n",
       "    </div>\n",
       "    "
      ],
      "text/plain": [
       "<IPython.core.display.HTML object>"
      ]
     },
     "metadata": {},
     "output_type": "display_data"
    },
    {
     "data": {
      "text/html": [
       "\n",
       "<style>\n",
       "    /* Turns off some styling */\n",
       "    progress {\n",
       "        /* gets rid of default border in Firefox and Opera. */\n",
       "        border: none;\n",
       "        /* Needs to be in here for Safari polyfill so background images work as expected. */\n",
       "        background-size: auto;\n",
       "    }\n",
       "    progress:not([value]), progress:not([value])::-webkit-progress-bar {\n",
       "        background: repeating-linear-gradient(45deg, #7e7e7e, #7e7e7e 10px, #5c5c5c 10px, #5c5c5c 20px);\n",
       "    }\n",
       "    .progress-bar-interrupted, .progress-bar-interrupted::-webkit-progress-bar {\n",
       "        background: #F44336;\n",
       "    }\n",
       "</style>\n"
      ],
      "text/plain": [
       "<IPython.core.display.HTML object>"
      ]
     },
     "metadata": {},
     "output_type": "display_data"
    },
    {
     "data": {
      "text/html": [
       "\n",
       "    <div>\n",
       "      <progress value='177515' class='' max='177515' style='width:300px; height:20px; vertical-align: middle;'></progress>\n",
       "      100.00% [177515/177515 00:07&lt;00:00]\n",
       "    </div>\n",
       "    "
      ],
      "text/plain": [
       "<IPython.core.display.HTML object>"
      ]
     },
     "metadata": {},
     "output_type": "display_data"
    },
    {
     "data": {
      "text/html": [
       "\n",
       "<style>\n",
       "    /* Turns off some styling */\n",
       "    progress {\n",
       "        /* gets rid of default border in Firefox and Opera. */\n",
       "        border: none;\n",
       "        /* Needs to be in here for Safari polyfill so background images work as expected. */\n",
       "        background-size: auto;\n",
       "    }\n",
       "    progress:not([value]), progress:not([value])::-webkit-progress-bar {\n",
       "        background: repeating-linear-gradient(45deg, #7e7e7e, #7e7e7e 10px, #5c5c5c 10px, #5c5c5c 20px);\n",
       "    }\n",
       "    .progress-bar-interrupted, .progress-bar-interrupted::-webkit-progress-bar {\n",
       "        background: #F44336;\n",
       "    }\n",
       "</style>\n"
      ],
      "text/plain": [
       "<IPython.core.display.HTML object>"
      ]
     },
     "metadata": {},
     "output_type": "display_data"
    },
    {
     "data": {
      "text/html": [],
      "text/plain": [
       "<IPython.core.display.HTML object>"
      ]
     },
     "metadata": {},
     "output_type": "display_data"
    },
    {
     "data": {
      "text/html": [
       "\n",
       "<style>\n",
       "    /* Turns off some styling */\n",
       "    progress {\n",
       "        /* gets rid of default border in Firefox and Opera. */\n",
       "        border: none;\n",
       "        /* Needs to be in here for Safari polyfill so background images work as expected. */\n",
       "        background-size: auto;\n",
       "    }\n",
       "    progress:not([value]), progress:not([value])::-webkit-progress-bar {\n",
       "        background: repeating-linear-gradient(45deg, #7e7e7e, #7e7e7e 10px, #5c5c5c 10px, #5c5c5c 20px);\n",
       "    }\n",
       "    .progress-bar-interrupted, .progress-bar-interrupted::-webkit-progress-bar {\n",
       "        background: #F44336;\n",
       "    }\n",
       "</style>\n"
      ],
      "text/plain": [
       "<IPython.core.display.HTML object>"
      ]
     },
     "metadata": {},
     "output_type": "display_data"
    },
    {
     "data": {
      "text/html": [
       "\n",
       "    <div>\n",
       "      <progress value='312330' class='' max='312330' style='width:300px; height:20px; vertical-align: middle;'></progress>\n",
       "      100.00% [312330/312330 00:13&lt;00:00]\n",
       "    </div>\n",
       "    "
      ],
      "text/plain": [
       "<IPython.core.display.HTML object>"
      ]
     },
     "metadata": {},
     "output_type": "display_data"
    },
    {
     "data": {
      "text/html": [
       "\n",
       "<style>\n",
       "    /* Turns off some styling */\n",
       "    progress {\n",
       "        /* gets rid of default border in Firefox and Opera. */\n",
       "        border: none;\n",
       "        /* Needs to be in here for Safari polyfill so background images work as expected. */\n",
       "        background-size: auto;\n",
       "    }\n",
       "    progress:not([value]), progress:not([value])::-webkit-progress-bar {\n",
       "        background: repeating-linear-gradient(45deg, #7e7e7e, #7e7e7e 10px, #5c5c5c 10px, #5c5c5c 20px);\n",
       "    }\n",
       "    .progress-bar-interrupted, .progress-bar-interrupted::-webkit-progress-bar {\n",
       "        background: #F44336;\n",
       "    }\n",
       "</style>\n"
      ],
      "text/plain": [
       "<IPython.core.display.HTML object>"
      ]
     },
     "metadata": {},
     "output_type": "display_data"
    },
    {
     "data": {
      "text/html": [
       "\n",
       "    <div>\n",
       "      <progress value='312330' class='' max='312330' style='width:300px; height:20px; vertical-align: middle;'></progress>\n",
       "      100.00% [312330/312330 00:12&lt;00:00]\n",
       "    </div>\n",
       "    "
      ],
      "text/plain": [
       "<IPython.core.display.HTML object>"
      ]
     },
     "metadata": {},
     "output_type": "display_data"
    },
    {
     "data": {
      "text/html": [
       "\n",
       "<style>\n",
       "    /* Turns off some styling */\n",
       "    progress {\n",
       "        /* gets rid of default border in Firefox and Opera. */\n",
       "        border: none;\n",
       "        /* Needs to be in here for Safari polyfill so background images work as expected. */\n",
       "        background-size: auto;\n",
       "    }\n",
       "    progress:not([value]), progress:not([value])::-webkit-progress-bar {\n",
       "        background: repeating-linear-gradient(45deg, #7e7e7e, #7e7e7e 10px, #5c5c5c 10px, #5c5c5c 20px);\n",
       "    }\n",
       "    .progress-bar-interrupted, .progress-bar-interrupted::-webkit-progress-bar {\n",
       "        background: #F44336;\n",
       "    }\n",
       "</style>\n"
      ],
      "text/plain": [
       "<IPython.core.display.HTML object>"
      ]
     },
     "metadata": {},
     "output_type": "display_data"
    },
    {
     "data": {
      "text/html": [
       "\n",
       "    <div>\n",
       "      <progress value='312330' class='' max='312330' style='width:300px; height:20px; vertical-align: middle;'></progress>\n",
       "      100.00% [312330/312330 00:14&lt;00:00]\n",
       "    </div>\n",
       "    "
      ],
      "text/plain": [
       "<IPython.core.display.HTML object>"
      ]
     },
     "metadata": {},
     "output_type": "display_data"
    },
    {
     "data": {
      "text/html": [
       "\n",
       "<style>\n",
       "    /* Turns off some styling */\n",
       "    progress {\n",
       "        /* gets rid of default border in Firefox and Opera. */\n",
       "        border: none;\n",
       "        /* Needs to be in here for Safari polyfill so background images work as expected. */\n",
       "        background-size: auto;\n",
       "    }\n",
       "    progress:not([value]), progress:not([value])::-webkit-progress-bar {\n",
       "        background: repeating-linear-gradient(45deg, #7e7e7e, #7e7e7e 10px, #5c5c5c 10px, #5c5c5c 20px);\n",
       "    }\n",
       "    .progress-bar-interrupted, .progress-bar-interrupted::-webkit-progress-bar {\n",
       "        background: #F44336;\n",
       "    }\n",
       "</style>\n"
      ],
      "text/plain": [
       "<IPython.core.display.HTML object>"
      ]
     },
     "metadata": {},
     "output_type": "display_data"
    },
    {
     "data": {
      "text/html": [
       "\n",
       "    <div>\n",
       "      <progress value='312330' class='' max='312330' style='width:300px; height:20px; vertical-align: middle;'></progress>\n",
       "      100.00% [312330/312330 00:12&lt;00:00]\n",
       "    </div>\n",
       "    "
      ],
      "text/plain": [
       "<IPython.core.display.HTML object>"
      ]
     },
     "metadata": {},
     "output_type": "display_data"
    }
   ],
   "source": [
    "block = AugmentMetaInputIdsTfm.apply(block, 'hlk_meta', 'data', 32, True)\n",
    "block = AugmentMetaInputIdsTfm.apply(block, 'hlk_meta', 'lbl', 32, True)"
   ]
  },
  {
   "cell_type": "code",
   "execution_count": null,
   "id": "7de44675-2484-4351-abe1-be1dbe9a6e6e",
   "metadata": {},
   "outputs": [],
   "source": []
  },
  {
   "cell_type": "code",
   "execution_count": null,
   "id": "b3188362-cdc4-4373-89c0-ee418bb512a6",
   "metadata": {},
   "outputs": [],
   "source": [
    "pkl_file = f'{pkl_dir}/processed/wikiseealso_data-metas_distilbert-base-uncased_rm_radga-aug-cat-block-032.pkl'\n",
    "with open(pkl_file, 'wb') as file: pickle.dump(block, file)"
   ]
  },
  {
   "cell_type": "code",
   "execution_count": null,
   "id": "291aee2f-e3fc-47a2-a3cf-64319970c9a1",
   "metadata": {},
   "outputs": [],
   "source": [
    "pkl_file = f'{pkl_dir}/processed/wikiseealso_data-metas_distilbert-base-uncased_rm_radga-aug-cat-block-032.pkl'\n",
    "with open(pkl_file, 'rb') as file: block = pickle.load(file)"
   ]
  },
  {
   "cell_type": "code",
   "execution_count": null,
   "id": "34670deb-700c-4acf-b3cd-7c600cf41141",
   "metadata": {},
   "outputs": [],
   "source": [
    "block.train.dset.data.data_info['input_ids'] = block.train.dset.data.data_info['input_ids_aug_cat']\n",
    "block.train.dset.data.data_info['attention_mask'] = block.train.dset.data.data_info['attention_mask_aug_cat']\n",
    "block.test.dset.data.data_info['input_ids'] = block.test.dset.data.data_info['input_ids_aug_cat']\n",
    "block.test.dset.data.data_info['attention_mask'] = block.test.dset.data.data_info['attention_mask_aug_cat']"
   ]
  },
  {
   "cell_type": "code",
   "execution_count": null,
   "id": "97687570-dcca-408c-9020-315c74b85501",
   "metadata": {},
   "outputs": [
    {
     "data": {
      "text/html": [
       "\n",
       "<style>\n",
       "    /* Turns off some styling */\n",
       "    progress {\n",
       "        /* gets rid of default border in Firefox and Opera. */\n",
       "        border: none;\n",
       "        /* Needs to be in here for Safari polyfill so background images work as expected. */\n",
       "        background-size: auto;\n",
       "    }\n",
       "    progress:not([value]), progress:not([value])::-webkit-progress-bar {\n",
       "        background: repeating-linear-gradient(45deg, #7e7e7e, #7e7e7e 10px, #5c5c5c 10px, #5c5c5c 20px);\n",
       "    }\n",
       "    .progress-bar-interrupted, .progress-bar-interrupted::-webkit-progress-bar {\n",
       "        background: #F44336;\n",
       "    }\n",
       "</style>\n"
      ],
      "text/plain": [
       "<IPython.core.display.HTML object>"
      ]
     },
     "metadata": {},
     "output_type": "display_data"
    },
    {
     "data": {
      "text/html": [],
      "text/plain": [
       "<IPython.core.display.HTML object>"
      ]
     },
     "metadata": {},
     "output_type": "display_data"
    },
    {
     "data": {
      "text/html": [
       "\n",
       "<style>\n",
       "    /* Turns off some styling */\n",
       "    progress {\n",
       "        /* gets rid of default border in Firefox and Opera. */\n",
       "        border: none;\n",
       "        /* Needs to be in here for Safari polyfill so background images work as expected. */\n",
       "        background-size: auto;\n",
       "    }\n",
       "    progress:not([value]), progress:not([value])::-webkit-progress-bar {\n",
       "        background: repeating-linear-gradient(45deg, #7e7e7e, #7e7e7e 10px, #5c5c5c 10px, #5c5c5c 20px);\n",
       "    }\n",
       "    .progress-bar-interrupted, .progress-bar-interrupted::-webkit-progress-bar {\n",
       "        background: #F44336;\n",
       "    }\n",
       "</style>\n"
      ],
      "text/plain": [
       "<IPython.core.display.HTML object>"
      ]
     },
     "metadata": {},
     "output_type": "display_data"
    },
    {
     "data": {
      "text/html": [
       "\n",
       "    <div>\n",
       "      <progress value='693082' class='' max='693082' style='width:300px; height:20px; vertical-align: middle;'></progress>\n",
       "      100.00% [693082/693082 00:42&lt;00:00]\n",
       "    </div>\n",
       "    "
      ],
      "text/plain": [
       "<IPython.core.display.HTML object>"
      ]
     },
     "metadata": {},
     "output_type": "display_data"
    },
    {
     "data": {
      "text/html": [
       "\n",
       "<style>\n",
       "    /* Turns off some styling */\n",
       "    progress {\n",
       "        /* gets rid of default border in Firefox and Opera. */\n",
       "        border: none;\n",
       "        /* Needs to be in here for Safari polyfill so background images work as expected. */\n",
       "        background-size: auto;\n",
       "    }\n",
       "    progress:not([value]), progress:not([value])::-webkit-progress-bar {\n",
       "        background: repeating-linear-gradient(45deg, #7e7e7e, #7e7e7e 10px, #5c5c5c 10px, #5c5c5c 20px);\n",
       "    }\n",
       "    .progress-bar-interrupted, .progress-bar-interrupted::-webkit-progress-bar {\n",
       "        background: #F44336;\n",
       "    }\n",
       "</style>\n"
      ],
      "text/plain": [
       "<IPython.core.display.HTML object>"
      ]
     },
     "metadata": {},
     "output_type": "display_data"
    },
    {
     "data": {
      "text/html": [
       "\n",
       "    <div>\n",
       "      <progress value='693082' class='' max='693082' style='width:300px; height:20px; vertical-align: middle;'></progress>\n",
       "      100.00% [693082/693082 00:43&lt;00:00]\n",
       "    </div>\n",
       "    "
      ],
      "text/plain": [
       "<IPython.core.display.HTML object>"
      ]
     },
     "metadata": {},
     "output_type": "display_data"
    },
    {
     "data": {
      "text/html": [
       "\n",
       "<style>\n",
       "    /* Turns off some styling */\n",
       "    progress {\n",
       "        /* gets rid of default border in Firefox and Opera. */\n",
       "        border: none;\n",
       "        /* Needs to be in here for Safari polyfill so background images work as expected. */\n",
       "        background-size: auto;\n",
       "    }\n",
       "    progress:not([value]), progress:not([value])::-webkit-progress-bar {\n",
       "        background: repeating-linear-gradient(45deg, #7e7e7e, #7e7e7e 10px, #5c5c5c 10px, #5c5c5c 20px);\n",
       "    }\n",
       "    .progress-bar-interrupted, .progress-bar-interrupted::-webkit-progress-bar {\n",
       "        background: #F44336;\n",
       "    }\n",
       "</style>\n"
      ],
      "text/plain": [
       "<IPython.core.display.HTML object>"
      ]
     },
     "metadata": {},
     "output_type": "display_data"
    },
    {
     "data": {
      "text/html": [
       "\n",
       "    <div>\n",
       "      <progress value='177515' class='' max='177515' style='width:300px; height:20px; vertical-align: middle;'></progress>\n",
       "      100.00% [177515/177515 00:11&lt;00:00]\n",
       "    </div>\n",
       "    "
      ],
      "text/plain": [
       "<IPython.core.display.HTML object>"
      ]
     },
     "metadata": {},
     "output_type": "display_data"
    },
    {
     "data": {
      "text/html": [
       "\n",
       "<style>\n",
       "    /* Turns off some styling */\n",
       "    progress {\n",
       "        /* gets rid of default border in Firefox and Opera. */\n",
       "        border: none;\n",
       "        /* Needs to be in here for Safari polyfill so background images work as expected. */\n",
       "        background-size: auto;\n",
       "    }\n",
       "    progress:not([value]), progress:not([value])::-webkit-progress-bar {\n",
       "        background: repeating-linear-gradient(45deg, #7e7e7e, #7e7e7e 10px, #5c5c5c 10px, #5c5c5c 20px);\n",
       "    }\n",
       "    .progress-bar-interrupted, .progress-bar-interrupted::-webkit-progress-bar {\n",
       "        background: #F44336;\n",
       "    }\n",
       "</style>\n"
      ],
      "text/plain": [
       "<IPython.core.display.HTML object>"
      ]
     },
     "metadata": {},
     "output_type": "display_data"
    },
    {
     "data": {
      "text/html": [
       "\n",
       "    <div>\n",
       "      <progress value='177515' class='' max='177515' style='width:300px; height:20px; vertical-align: middle;'></progress>\n",
       "      100.00% [177515/177515 00:10&lt;00:00]\n",
       "    </div>\n",
       "    "
      ],
      "text/plain": [
       "<IPython.core.display.HTML object>"
      ]
     },
     "metadata": {},
     "output_type": "display_data"
    }
   ],
   "source": [
    "block.train.dset.data.lbl_info['input_ids'] = block.train.dset.data.lbl_info['input_ids_aug_cat']\n",
    "block.train.dset.data.lbl_info['attention_mask'] = block.train.dset.data.lbl_info['attention_mask_aug_cat']\n",
    "block.test.dset.data.lbl_info['input_ids'] = block.test.dset.data.lbl_info['input_ids_aug_cat']\n",
    "block.test.dset.data.lbl_info['attention_mask'] = block.test.dset.data.lbl_info['attention_mask_aug_cat']"
   ]
  },
  {
   "cell_type": "code",
   "execution_count": null,
   "id": "aa922926-a4a7-451b-9183-fd7351785d39",
   "metadata": {},
   "outputs": [],
   "source": []
  },
  {
   "cell_type": "code",
   "execution_count": null,
   "id": "dd9a9a12-f718-4bad-af41-e17bced30ce8",
   "metadata": {},
   "outputs": [],
   "source": [
    "pkl_file = f'{pkl_dir}/processed/wikiseealso_data-metas_distilbert-base-uncased_rm_radga-final-aug-hlk.pkl'\n",
    "with open(pkl_file, 'wb') as file: pickle.dump(block, file)"
   ]
  },
  {
   "cell_type": "code",
   "execution_count": null,
   "id": "ebdf5ab6-0317-48f6-b69d-01a73d74b903",
   "metadata": {},
   "outputs": [
    {
     "data": {
      "text/html": [
       "\n",
       "<style>\n",
       "    /* Turns off some styling */\n",
       "    progress {\n",
       "        /* gets rid of default border in Firefox and Opera. */\n",
       "        border: none;\n",
       "        /* Needs to be in here for Safari polyfill so background images work as expected. */\n",
       "        background-size: auto;\n",
       "    }\n",
       "    progress:not([value]), progress:not([value])::-webkit-progress-bar {\n",
       "        background: repeating-linear-gradient(45deg, #7e7e7e, #7e7e7e 10px, #5c5c5c 10px, #5c5c5c 20px);\n",
       "    }\n",
       "    .progress-bar-interrupted, .progress-bar-interrupted::-webkit-progress-bar {\n",
       "        background: #F44336;\n",
       "    }\n",
       "</style>\n"
      ],
      "text/plain": [
       "<IPython.core.display.HTML object>"
      ]
     },
     "metadata": {},
     "output_type": "display_data"
    },
    {
     "data": {
      "text/html": [],
      "text/plain": [
       "<IPython.core.display.HTML object>"
      ]
     },
     "metadata": {},
     "output_type": "display_data"
    },
    {
     "data": {
      "text/html": [
       "\n",
       "<style>\n",
       "    /* Turns off some styling */\n",
       "    progress {\n",
       "        /* gets rid of default border in Firefox and Opera. */\n",
       "        border: none;\n",
       "        /* Needs to be in here for Safari polyfill so background images work as expected. */\n",
       "        background-size: auto;\n",
       "    }\n",
       "    progress:not([value]), progress:not([value])::-webkit-progress-bar {\n",
       "        background: repeating-linear-gradient(45deg, #7e7e7e, #7e7e7e 10px, #5c5c5c 10px, #5c5c5c 20px);\n",
       "    }\n",
       "    .progress-bar-interrupted, .progress-bar-interrupted::-webkit-progress-bar {\n",
       "        background: #F44336;\n",
       "    }\n",
       "</style>\n"
      ],
      "text/plain": [
       "<IPython.core.display.HTML object>"
      ]
     },
     "metadata": {},
     "output_type": "display_data"
    },
    {
     "data": {
      "text/html": [
       "\n",
       "    <div>\n",
       "      <progress value='693082' class='' max='693082' style='width:300px; height:20px; vertical-align: middle;'></progress>\n",
       "      100.00% [693082/693082 00:39&lt;00:00]\n",
       "    </div>\n",
       "    "
      ],
      "text/plain": [
       "<IPython.core.display.HTML object>"
      ]
     },
     "metadata": {},
     "output_type": "display_data"
    },
    {
     "data": {
      "text/html": [
       "\n",
       "<style>\n",
       "    /* Turns off some styling */\n",
       "    progress {\n",
       "        /* gets rid of default border in Firefox and Opera. */\n",
       "        border: none;\n",
       "        /* Needs to be in here for Safari polyfill so background images work as expected. */\n",
       "        background-size: auto;\n",
       "    }\n",
       "    progress:not([value]), progress:not([value])::-webkit-progress-bar {\n",
       "        background: repeating-linear-gradient(45deg, #7e7e7e, #7e7e7e 10px, #5c5c5c 10px, #5c5c5c 20px);\n",
       "    }\n",
       "    .progress-bar-interrupted, .progress-bar-interrupted::-webkit-progress-bar {\n",
       "        background: #F44336;\n",
       "    }\n",
       "</style>\n"
      ],
      "text/plain": [
       "<IPython.core.display.HTML object>"
      ]
     },
     "metadata": {},
     "output_type": "display_data"
    },
    {
     "data": {
      "text/html": [
       "\n",
       "    <div>\n",
       "      <progress value='693082' class='' max='693082' style='width:300px; height:20px; vertical-align: middle;'></progress>\n",
       "      100.00% [693082/693082 00:45&lt;00:00]\n",
       "    </div>\n",
       "    "
      ],
      "text/plain": [
       "<IPython.core.display.HTML object>"
      ]
     },
     "metadata": {},
     "output_type": "display_data"
    },
    {
     "data": {
      "text/html": [
       "\n",
       "<style>\n",
       "    /* Turns off some styling */\n",
       "    progress {\n",
       "        /* gets rid of default border in Firefox and Opera. */\n",
       "        border: none;\n",
       "        /* Needs to be in here for Safari polyfill so background images work as expected. */\n",
       "        background-size: auto;\n",
       "    }\n",
       "    progress:not([value]), progress:not([value])::-webkit-progress-bar {\n",
       "        background: repeating-linear-gradient(45deg, #7e7e7e, #7e7e7e 10px, #5c5c5c 10px, #5c5c5c 20px);\n",
       "    }\n",
       "    .progress-bar-interrupted, .progress-bar-interrupted::-webkit-progress-bar {\n",
       "        background: #F44336;\n",
       "    }\n",
       "</style>\n"
      ],
      "text/plain": [
       "<IPython.core.display.HTML object>"
      ]
     },
     "metadata": {},
     "output_type": "display_data"
    },
    {
     "data": {
      "text/html": [
       "\n",
       "    <div>\n",
       "      <progress value='177515' class='' max='177515' style='width:300px; height:20px; vertical-align: middle;'></progress>\n",
       "      100.00% [177515/177515 00:10&lt;00:00]\n",
       "    </div>\n",
       "    "
      ],
      "text/plain": [
       "<IPython.core.display.HTML object>"
      ]
     },
     "metadata": {},
     "output_type": "display_data"
    },
    {
     "data": {
      "text/html": [
       "\n",
       "<style>\n",
       "    /* Turns off some styling */\n",
       "    progress {\n",
       "        /* gets rid of default border in Firefox and Opera. */\n",
       "        border: none;\n",
       "        /* Needs to be in here for Safari polyfill so background images work as expected. */\n",
       "        background-size: auto;\n",
       "    }\n",
       "    progress:not([value]), progress:not([value])::-webkit-progress-bar {\n",
       "        background: repeating-linear-gradient(45deg, #7e7e7e, #7e7e7e 10px, #5c5c5c 10px, #5c5c5c 20px);\n",
       "    }\n",
       "    .progress-bar-interrupted, .progress-bar-interrupted::-webkit-progress-bar {\n",
       "        background: #F44336;\n",
       "    }\n",
       "</style>\n"
      ],
      "text/plain": [
       "<IPython.core.display.HTML object>"
      ]
     },
     "metadata": {},
     "output_type": "display_data"
    },
    {
     "data": {
      "text/html": [
       "\n",
       "    <div>\n",
       "      <progress value='177515' class='' max='177515' style='width:300px; height:20px; vertical-align: middle;'></progress>\n",
       "      100.00% [177515/177515 00:09&lt;00:00]\n",
       "    </div>\n",
       "    "
      ],
      "text/plain": [
       "<IPython.core.display.HTML object>"
      ]
     },
     "metadata": {},
     "output_type": "display_data"
    }
   ],
   "source": [
    "block = AugmentMetaInputIdsTfm.apply(block, 'hlk_meta', 32, True)\n",
    "\n",
    "block.train.dset.data.data_info['input_ids'] = block.train.dset.data.data_info['input_ids_aug_hlk']\n",
    "block.train.dset.data.data_info['attention_mask'] = block.train.dset.data.data_info['attention_mask_aug_hlk']\n",
    "\n",
    "block.test.dset.data.data_info['input_ids'] = block.test.dset.data.data_info['input_ids_aug_hlk']\n",
    "block.test.dset.data.data_info['attention_mask'] = block.test.dset.data.data_info['attention_mask_aug_hlk']"
   ]
  },
  {
   "cell_type": "code",
   "execution_count": null,
   "id": "3c1ea0bc-0e78-4a78-a1cd-9b8ceb477c7c",
   "metadata": {},
   "outputs": [],
   "source": [
    "pkl_file = f'{pkl_dir}/processed/wikiseealso_data-metas_distilbert-base-uncased_rm_radga-final-aug-hlk.pkl'\n",
    "with open(pkl_file, 'wb') as file: pickle.dump(block, file)"
   ]
  },
  {
   "cell_type": "code",
   "execution_count": null,
   "id": "b76f4b4a-3f33-46cf-a99c-b17998c09b8c",
   "metadata": {},
   "outputs": [],
   "source": []
  },
  {
   "cell_type": "code",
   "execution_count": null,
   "id": "c3e8fd88-4faf-471f-80cb-4f91a4881989",
   "metadata": {},
   "outputs": [],
   "source": [
    "pkl_file = f'{pkl_dir}/processed/wikiseealso_data-metas_distilbert-base-uncased_rm_radga-aug-cat-hlk-block-032.pkl'\n",
    "with open(pkl_file, 'wb') as file: pickle.dump(block, file)"
   ]
  },
  {
   "cell_type": "markdown",
   "id": "1ea8f68c-8a7d-408d-a2fb-2f68e3cdf692",
   "metadata": {},
   "source": [
    "### Augmentation data"
   ]
  },
  {
   "cell_type": "code",
   "execution_count": null,
   "id": "00187785-3f4e-4a4e-b4f2-d46ef4cda1ee",
   "metadata": {},
   "outputs": [],
   "source": [
    "#| export\n",
    "pkl_dir = '/home/scai/phd/aiz218323/scratch/datasets'\n",
    "pkl_file = f'{pkl_dir}/processed/wikiseealso_data-metas_distilbert-base-uncased_rm_radga-aug-cat-hlk-block-032.pkl'\n",
    "with open(pkl_file, 'rb') as file: block = pickle.load(file)"
   ]
  },
  {
   "cell_type": "code",
   "execution_count": null,
   "id": "5f7ac05e-285e-4e8a-b9c1-c9f5fafccad7",
   "metadata": {},
   "outputs": [],
   "source": []
  },
  {
   "cell_type": "code",
   "execution_count": null,
   "id": "5eb6e12a-008a-48fc-bec2-a02d8606a579",
   "metadata": {},
   "outputs": [],
   "source": [
    "block.train.dset.data.data_info['input_ids_org'] = block.train.dset.data.data_info['input_ids']\n",
    "block.train.dset.data.data_info['attention_mask_org'] = block.train.dset.data.data_info['attention_mask']\n",
    "block.test.dset.data.data_info['input_ids_org'] = block.test.dset.data.data_info['input_ids']\n",
    "block.test.dset.data.data_info['attention_mask_org'] = block.test.dset.data.data_info['attention_mask']\n",
    "\n",
    "block.train.dset.data.lbl_info['input_ids_org'] = block.train.dset.data.lbl_info['input_ids']\n",
    "block.train.dset.data.lbl_info['attention_mask_org'] = block.train.dset.data.lbl_info['attention_mask']\n",
    "block.test.dset.data.lbl_info['input_ids_org'] = block.test.dset.data.lbl_info['input_ids']\n",
    "block.test.dset.data.lbl_info['attention_mask_org'] = block.test.dset.data.lbl_info['attention_mask']"
   ]
  },
  {
   "cell_type": "code",
   "execution_count": null,
   "id": "e8703476-b0a6-42ef-97e2-cd64a3cf3786",
   "metadata": {},
   "outputs": [],
   "source": [
    "block.train.dset.data.data_info['input_ids'] = block.train.dset.data.data_info['input_ids_org']\n",
    "block.train.dset.data.data_info['attention_mask'] = block.train.dset.data.data_info['attention_mask_org']\n",
    "block.test.dset.data.data_info['input_ids'] = block.test.dset.data.data_info['input_ids_org']\n",
    "block.test.dset.data.data_info['attention_mask'] = block.test.dset.data.data_info['attention_mask_org']\n",
    "\n",
    "block.train.dset.data.lbl_info['input_ids'] = block.train.dset.data.lbl_info['input_ids_org']\n",
    "block.train.dset.data.lbl_info['attention_mask'] = block.train.dset.data.lbl_info['attention_mask_org']\n",
    "block.test.dset.data.lbl_info['input_ids'] = block.test.dset.data.lbl_info['input_ids_org']\n",
    "block.test.dset.data.lbl_info['attention_mask'] = block.test.dset.data.lbl_info['attention_mask_org']"
   ]
  },
  {
   "cell_type": "code",
   "execution_count": null,
   "id": "f1554163-9551-430e-917c-5f928213393b",
   "metadata": {},
   "outputs": [],
   "source": []
  },
  {
   "cell_type": "code",
   "execution_count": null,
   "id": "93458c72-9342-47a4-a35b-f82638a1e63d",
   "metadata": {},
   "outputs": [],
   "source": [
    "#| export\n",
    "block.train.dset.data.data_info['input_ids'] = block.train.dset.data.data_info['input_ids_aug_cat']\n",
    "block.train.dset.data.data_info['attention_mask'] = block.train.dset.data.data_info['attention_mask_aug_cat']\n",
    "block.test.dset.data.data_info['input_ids'] = block.test.dset.data.data_info['input_ids_aug_cat']\n",
    "block.test.dset.data.data_info['attention_mask'] = block.test.dset.data.data_info['attention_mask_aug_cat']"
   ]
  },
  {
   "cell_type": "code",
   "execution_count": null,
   "id": "109dcfe3-3ff6-4d57-bcfe-491eef81b96c",
   "metadata": {},
   "outputs": [],
   "source": [
    "#| export\n",
    "block.train.dset.data.lbl_info['input_ids'] = block.train.dset.data.lbl_info['input_ids_aug_cat']\n",
    "block.train.dset.data.lbl_info['attention_mask'] = block.train.dset.data.lbl_info['attention_mask_aug_cat']\n",
    "block.test.dset.data.lbl_info['input_ids'] = block.test.dset.data.lbl_info['input_ids_aug_cat']\n",
    "block.test.dset.data.lbl_info['attention_mask'] = block.test.dset.data.lbl_info['attention_mask_aug_cat']"
   ]
  },
  {
   "cell_type": "code",
   "execution_count": null,
   "id": "51c2852a-2a3c-4e68-9b42-1c707eb56f2b",
   "metadata": {},
   "outputs": [],
   "source": [
    "#| export\n",
    "block.train.dset.data.data_info['input_ids'] = block.train.dset.data.data_info['input_ids_aug_hlk']\n",
    "block.train.dset.data.data_info['attention_mask'] = block.train.dset.data.data_info['attention_mask_aug_hlk']\n",
    "block.test.dset.data.data_info['input_ids'] = block.test.dset.data.data_info['input_ids_aug_hlk']\n",
    "block.test.dset.data.data_info['attention_mask'] = block.test.dset.data.data_info['attention_mask_aug_hlk']"
   ]
  },
  {
   "cell_type": "code",
   "execution_count": null,
   "id": "63034198-6e79-4edf-8a75-6934531e26d5",
   "metadata": {},
   "outputs": [],
   "source": [
    "#| export\n",
    "block.train.dset.data.lbl_info['input_ids'] = block.train.dset.data.lbl_info['input_ids_aug_hlk']\n",
    "block.train.dset.data.lbl_info['attention_mask'] = block.train.dset.data.lbl_info['attention_mask_aug_hlk']\n",
    "block.test.dset.data.lbl_info['input_ids'] = block.test.dset.data.lbl_info['input_ids_aug_hlk']\n",
    "block.test.dset.data.lbl_info['attention_mask'] = block.test.dset.data.lbl_info['attention_mask_aug_hlk']"
   ]
  },
  {
   "cell_type": "code",
   "execution_count": null,
   "id": "e766afca-aab9-4c03-9043-db27a3333486",
   "metadata": {},
   "outputs": [
    {
     "data": {
      "text/plain": [
       "6.630477379694554"
      ]
     },
     "execution_count": null,
     "metadata": {},
     "output_type": "execute_result"
    }
   ],
   "source": [
    "np.mean([len(o) for o in block.test.dset.data.lbl_info['attention_mask']])"
   ]
  },
  {
   "cell_type": "code",
   "execution_count": null,
   "id": "7d08cc5c-b315-44c0-9064-bd59a8465b51",
   "metadata": {},
   "outputs": [
    {
     "data": {
      "text/plain": [
       "6.801932231079063"
      ]
     },
     "execution_count": null,
     "metadata": {},
     "output_type": "execute_result"
    }
   ],
   "source": [
    "np.mean([len(o) for o in block.test.dset.data.data_info['input_ids']])"
   ]
  },
  {
   "cell_type": "markdown",
   "id": "b008af05",
   "metadata": {},
   "source": [
    "## Training"
   ]
  },
  {
   "cell_type": "code",
   "execution_count": null,
   "id": "b6017892",
   "metadata": {},
   "outputs": [],
   "source": [
    "args = XCLearningArguments(\n",
    "    output_dir='/home/scai/phd/aiz218323/scratch/outputs/67-ngame-ep-for-wikiseealso-with-input-concatenation-1-3',\n",
    "    logging_first_step=True,\n",
    "    per_device_train_batch_size=800,\n",
    "    per_device_eval_batch_size=800,\n",
    "    representation_num_beams=200,\n",
    "    representation_accumulation_steps=10,\n",
    "    save_strategy=\"steps\",\n",
    "    evaluation_strategy=\"steps\",\n",
    "    eval_steps=3000,\n",
    "    save_steps=3000,\n",
    "    save_total_limit=5,\n",
    "    num_train_epochs=300,\n",
    "    predict_with_representation=True,\n",
    "    representation_search_type='INDEX',\n",
    "    adam_epsilon=1e-6,\n",
    "    warmup_steps=100,\n",
    "    weight_decay=0.01,\n",
    "    learning_rate=2e-4,\n",
    "    group_by_cluster=True,\n",
    "    num_clustering_warmup_epochs=10,\n",
    "    num_cluster_update_epochs=5,\n",
    "    num_cluster_size_update_epochs=25,\n",
    "    clustering_type='EXPO',\n",
    "    minimum_cluster_size=2,\n",
    "    maximum_cluster_size=1600,\n",
    "    target_indices_key='plbl2data_idx',\n",
    "    target_pointer_key='plbl2data_data2ptr',\n",
    "    use_encoder_parallel=True,\n",
    "    max_grad_norm=None,\n",
    "    fp16=True,\n",
    ")"
   ]
  },
  {
   "cell_type": "code",
   "execution_count": null,
   "id": "3bb3e477-1050-4a8c-90c5-5ce0010043d2",
   "metadata": {},
   "outputs": [],
   "source": []
  },
  {
   "cell_type": "code",
   "execution_count": null,
   "id": "7882af6d",
   "metadata": {},
   "outputs": [],
   "source": [
    "metric = PrecRecl(block.n_lbl, block.test.data_lbl_filterer, prop=block.train.dset.data.data_lbl,\n",
    "                  pk=10, rk=200, rep_pk=[1, 3, 5, 10], rep_rk=[10, 100, 200])"
   ]
  },
  {
   "cell_type": "code",
   "execution_count": null,
   "id": "ccf5e1fa",
   "metadata": {},
   "outputs": [
    {
     "name": "stderr",
     "output_type": "stream",
     "text": [
      "Some weights of DBT010 were not initialized from the model checkpoint at distilbert-base-uncased and are newly initialized: ['encoder.dr_layer_norm.bias', 'encoder.dr_layer_norm.weight', 'encoder.dr_projector.bias', 'encoder.dr_projector.weight', 'encoder.dr_transform.bias', 'encoder.dr_transform.weight']\n",
      "You should probably TRAIN this model on a down-stream task to be able to use it for predictions and inference.\n"
     ]
    }
   ],
   "source": [
    "bsz = max(args.per_device_train_batch_size, args.per_device_eval_batch_size)*torch.cuda.device_count()\n",
    "\n",
    "model = DBT009.from_pretrained('sentence-transformers/msmarco-distilbert-base-v4', bsz=bsz, tn_targ=5000, margin=0.3, tau=0.1, \n",
    "                               n_negatives=10, apply_softmax=True, use_encoder_parallel=True)\n",
    "model.init_dr_head()"
   ]
  },
  {
   "cell_type": "code",
   "execution_count": null,
   "id": "3f2d50a6",
   "metadata": {},
   "outputs": [
    {
     "name": "stderr",
     "output_type": "stream",
     "text": [
      "/scratch/scai/phd/aiz218323/anaconda3/envs/xc_nlg/lib/python3.9/site-packages/accelerate/accelerator.py:432: FutureWarning: Passing the following arguments to `Accelerator` is deprecated and will be removed in version 1.0 of Accelerate: dict_keys(['dispatch_batches', 'split_batches', 'even_batches', 'use_seedable_sampler']). Please pass an `accelerate.DataLoaderConfiguration` instead: \n",
      "dataloader_config = DataLoaderConfiguration(dispatch_batches=None, split_batches=False, even_batches=True, use_seedable_sampler=True)\n",
      "  warnings.warn(\n",
      "Detected kernel version 3.10.0, which is below the recommended minimum of 5.5.0; this can cause the process to hang. It is recommended to upgrade the kernel to the minimum version or higher.\n"
     ]
    }
   ],
   "source": [
    "learn = XCLearner(\n",
    "    model=model, \n",
    "    args=args,\n",
    "    train_dataset=block.train.dset,\n",
    "    eval_dataset=block.test.dset,\n",
    "    data_collator=block.collator,\n",
    "    compute_metrics=metric,\n",
    ")"
   ]
  },
  {
   "cell_type": "code",
   "execution_count": null,
   "id": "7416d136",
   "metadata": {},
   "outputs": [
    {
     "name": "stderr",
     "output_type": "stream",
     "text": [
      "Failed to detect the name of this notebook, you can set it manually with the WANDB_NOTEBOOK_NAME environment variable to enable code saving.\n"
     ]
    },
    {
     "data": {
      "application/vnd.jupyter.widget-view+json": {
       "model_id": "13c947057c0843a6a4d4944b6db46bba",
       "version_major": 2,
       "version_minor": 0
      },
      "text/plain": [
       "  0%|          | 0/347 [00:00<?, ?it/s]"
      ]
     },
     "metadata": {},
     "output_type": "display_data"
    }
   ],
   "source": [
    "learn.train()"
   ]
  },
  {
   "cell_type": "code",
   "execution_count": null,
   "id": "edb2296b",
   "metadata": {},
   "outputs": [],
   "source": []
  },
  {
   "cell_type": "code",
   "execution_count": null,
   "id": "d14a8c4d",
   "metadata": {},
   "outputs": [],
   "source": [
    "if __name__ == '__main__':\n",
    "    mp.freeze_support()\n",
    "    learn.train()"
   ]
  },
  {
   "cell_type": "markdown",
   "id": "804dd454",
   "metadata": {},
   "source": [
    "## Prediction"
   ]
  },
  {
   "cell_type": "code",
   "execution_count": null,
   "id": "7e482e7e",
   "metadata": {},
   "outputs": [],
   "source": [
    "#| export\n",
    "args = XCLearningArguments(\n",
    "    output_dir='/home/scai/phd/aiz218323/scratch/outputs/67-ngame-ep-for-wikiseealso-with-input-concatenation-1-2',\n",
    "    logging_first_step=True,\n",
    "    per_device_train_batch_size=800,\n",
    "    per_device_eval_batch_size=800,\n",
    "    representation_num_beams=200,\n",
    "    representation_accumulation_steps=100,\n",
    "    predict_with_representation=True,\n",
    "    representation_search_type='INDEX',\n",
    "    target_indices_key='plbl2data_idx',\n",
    "    target_pointer_key='plbl2data_data2ptr',\n",
    "    use_encoder_parallel=True,\n",
    "    fp16=True,\n",
    ")"
   ]
  },
  {
   "cell_type": "code",
   "execution_count": null,
   "id": "accb2b2e",
   "metadata": {},
   "outputs": [],
   "source": [
    "#| export\n",
    "metric = PrecRecl(block.n_lbl, block.test.data_lbl_filterer, prop=block.train.dset.data.data_lbl,\n",
    "                  pk=10, rk=200, rep_pk=[1, 3, 5, 10], rep_rk=[10, 100, 200])"
   ]
  },
  {
   "cell_type": "code",
   "execution_count": null,
   "id": "dc399052",
   "metadata": {},
   "outputs": [],
   "source": [
    "#| export\n",
    "output_dir = f\"/home/scai/phd/aiz218323/scratch/outputs/{os.path.basename(args.output_dir)}\"\n",
    "mname = f'{output_dir}/{os.path.basename(get_best_model(output_dir))}'"
   ]
  },
  {
   "cell_type": "code",
   "execution_count": null,
   "id": "d6a72140-1ca1-4bb1-af8a-a8f27d83c9c0",
   "metadata": {},
   "outputs": [],
   "source": []
  },
  {
   "cell_type": "code",
   "execution_count": null,
   "id": "f31a2193",
   "metadata": {},
   "outputs": [
    {
     "name": "stderr",
     "output_type": "stream",
     "text": [
      "Some weights of DBT009 were not initialized from the model checkpoint at sentence-transformers/msmarco-distilbert-base-v4 and are newly initialized: ['encoder.dr_layer_norm.bias', 'encoder.dr_layer_norm.weight', 'encoder.dr_projector.bias', 'encoder.dr_projector.weight', 'encoder.dr_transform.bias', 'encoder.dr_transform.weight']\n",
      "You should probably TRAIN this model on a down-stream task to be able to use it for predictions and inference.\n"
     ]
    }
   ],
   "source": [
    "#| export\n",
    "bsz = max(args.per_device_train_batch_size, args.per_device_eval_batch_size)*torch.cuda.device_count()\n",
    "\n",
    "model = DBT009.from_pretrained('sentence-transformers/msmarco-distilbert-base-v4', bsz=bsz, tn_targ=5000, margin=0.3, tau=0.1,\n",
    "                               n_negatives=10, apply_softmax=True, use_encoder_parallel=True)"
   ]
  },
  {
   "cell_type": "code",
   "execution_count": null,
   "id": "86c3e381-5e85-4411-99a0-54413275e928",
   "metadata": {},
   "outputs": [],
   "source": [
    "#| export\n",
    "from safetensors import safe_open\n",
    "\n",
    "model_weight_file = f'{mname}/model.safetensors'\n",
    "\n",
    "model_weights = {}\n",
    "with safe_open(model_weight_file, framework=\"pt\") as file:\n",
    "    for k in file.keys(): model_weights[k] = file.get_tensor(k)\n",
    "        "
   ]
  },
  {
   "cell_type": "code",
   "execution_count": null,
   "id": "6ec1bd6b-1778-4805-910e-63e921ca950e",
   "metadata": {},
   "outputs": [
    {
     "data": {
      "text/plain": [
       "_IncompatibleKeys(missing_keys=['distilbert.embeddings.word_embeddings.weight', 'distilbert.embeddings.position_embeddings.weight', 'distilbert.embeddings.LayerNorm.weight', 'distilbert.embeddings.LayerNorm.bias', 'distilbert.transformer.layer.0.attention.q_lin.weight', 'distilbert.transformer.layer.0.attention.q_lin.bias', 'distilbert.transformer.layer.0.attention.k_lin.weight', 'distilbert.transformer.layer.0.attention.k_lin.bias', 'distilbert.transformer.layer.0.attention.v_lin.weight', 'distilbert.transformer.layer.0.attention.v_lin.bias', 'distilbert.transformer.layer.0.attention.out_lin.weight', 'distilbert.transformer.layer.0.attention.out_lin.bias', 'distilbert.transformer.layer.0.sa_layer_norm.weight', 'distilbert.transformer.layer.0.sa_layer_norm.bias', 'distilbert.transformer.layer.0.ffn.lin1.weight', 'distilbert.transformer.layer.0.ffn.lin1.bias', 'distilbert.transformer.layer.0.ffn.lin2.weight', 'distilbert.transformer.layer.0.ffn.lin2.bias', 'distilbert.transformer.layer.0.output_layer_norm.weight', 'distilbert.transformer.layer.0.output_layer_norm.bias', 'distilbert.transformer.layer.1.attention.q_lin.weight', 'distilbert.transformer.layer.1.attention.q_lin.bias', 'distilbert.transformer.layer.1.attention.k_lin.weight', 'distilbert.transformer.layer.1.attention.k_lin.bias', 'distilbert.transformer.layer.1.attention.v_lin.weight', 'distilbert.transformer.layer.1.attention.v_lin.bias', 'distilbert.transformer.layer.1.attention.out_lin.weight', 'distilbert.transformer.layer.1.attention.out_lin.bias', 'distilbert.transformer.layer.1.sa_layer_norm.weight', 'distilbert.transformer.layer.1.sa_layer_norm.bias', 'distilbert.transformer.layer.1.ffn.lin1.weight', 'distilbert.transformer.layer.1.ffn.lin1.bias', 'distilbert.transformer.layer.1.ffn.lin2.weight', 'distilbert.transformer.layer.1.ffn.lin2.bias', 'distilbert.transformer.layer.1.output_layer_norm.weight', 'distilbert.transformer.layer.1.output_layer_norm.bias', 'distilbert.transformer.layer.2.attention.q_lin.weight', 'distilbert.transformer.layer.2.attention.q_lin.bias', 'distilbert.transformer.layer.2.attention.k_lin.weight', 'distilbert.transformer.layer.2.attention.k_lin.bias', 'distilbert.transformer.layer.2.attention.v_lin.weight', 'distilbert.transformer.layer.2.attention.v_lin.bias', 'distilbert.transformer.layer.2.attention.out_lin.weight', 'distilbert.transformer.layer.2.attention.out_lin.bias', 'distilbert.transformer.layer.2.sa_layer_norm.weight', 'distilbert.transformer.layer.2.sa_layer_norm.bias', 'distilbert.transformer.layer.2.ffn.lin1.weight', 'distilbert.transformer.layer.2.ffn.lin1.bias', 'distilbert.transformer.layer.2.ffn.lin2.weight', 'distilbert.transformer.layer.2.ffn.lin2.bias', 'distilbert.transformer.layer.2.output_layer_norm.weight', 'distilbert.transformer.layer.2.output_layer_norm.bias', 'distilbert.transformer.layer.3.attention.q_lin.weight', 'distilbert.transformer.layer.3.attention.q_lin.bias', 'distilbert.transformer.layer.3.attention.k_lin.weight', 'distilbert.transformer.layer.3.attention.k_lin.bias', 'distilbert.transformer.layer.3.attention.v_lin.weight', 'distilbert.transformer.layer.3.attention.v_lin.bias', 'distilbert.transformer.layer.3.attention.out_lin.weight', 'distilbert.transformer.layer.3.attention.out_lin.bias', 'distilbert.transformer.layer.3.sa_layer_norm.weight', 'distilbert.transformer.layer.3.sa_layer_norm.bias', 'distilbert.transformer.layer.3.ffn.lin1.weight', 'distilbert.transformer.layer.3.ffn.lin1.bias', 'distilbert.transformer.layer.3.ffn.lin2.weight', 'distilbert.transformer.layer.3.ffn.lin2.bias', 'distilbert.transformer.layer.3.output_layer_norm.weight', 'distilbert.transformer.layer.3.output_layer_norm.bias', 'distilbert.transformer.layer.4.attention.q_lin.weight', 'distilbert.transformer.layer.4.attention.q_lin.bias', 'distilbert.transformer.layer.4.attention.k_lin.weight', 'distilbert.transformer.layer.4.attention.k_lin.bias', 'distilbert.transformer.layer.4.attention.v_lin.weight', 'distilbert.transformer.layer.4.attention.v_lin.bias', 'distilbert.transformer.layer.4.attention.out_lin.weight', 'distilbert.transformer.layer.4.attention.out_lin.bias', 'distilbert.transformer.layer.4.sa_layer_norm.weight', 'distilbert.transformer.layer.4.sa_layer_norm.bias', 'distilbert.transformer.layer.4.ffn.lin1.weight', 'distilbert.transformer.layer.4.ffn.lin1.bias', 'distilbert.transformer.layer.4.ffn.lin2.weight', 'distilbert.transformer.layer.4.ffn.lin2.bias', 'distilbert.transformer.layer.4.output_layer_norm.weight', 'distilbert.transformer.layer.4.output_layer_norm.bias', 'distilbert.transformer.layer.5.attention.q_lin.weight', 'distilbert.transformer.layer.5.attention.q_lin.bias', 'distilbert.transformer.layer.5.attention.k_lin.weight', 'distilbert.transformer.layer.5.attention.k_lin.bias', 'distilbert.transformer.layer.5.attention.v_lin.weight', 'distilbert.transformer.layer.5.attention.v_lin.bias', 'distilbert.transformer.layer.5.attention.out_lin.weight', 'distilbert.transformer.layer.5.attention.out_lin.bias', 'distilbert.transformer.layer.5.sa_layer_norm.weight', 'distilbert.transformer.layer.5.sa_layer_norm.bias', 'distilbert.transformer.layer.5.ffn.lin1.weight', 'distilbert.transformer.layer.5.ffn.lin1.bias', 'distilbert.transformer.layer.5.ffn.lin2.weight', 'distilbert.transformer.layer.5.ffn.lin2.bias', 'distilbert.transformer.layer.5.output_layer_norm.weight', 'distilbert.transformer.layer.5.output_layer_norm.bias'], unexpected_keys=[])"
      ]
     },
     "execution_count": null,
     "metadata": {},
     "output_type": "execute_result"
    }
   ],
   "source": [
    "#| export\n",
    "model.load_state_dict(model_weights, strict=False)"
   ]
  },
  {
   "cell_type": "code",
   "execution_count": null,
   "id": "d7813b43-75d1-45d9-a715-a726a6bee2a4",
   "metadata": {},
   "outputs": [
    {
     "data": {
      "text/plain": [
       "'/home/scai/phd/aiz218323/scratch/outputs/67-ngame-ep-for-wikiseealso-with-input-concatenation-1-2/checkpoint-130000'"
      ]
     },
     "execution_count": null,
     "metadata": {},
     "output_type": "execute_result"
    }
   ],
   "source": [
    "mname"
   ]
  },
  {
   "cell_type": "code",
   "execution_count": null,
   "id": "8b57a038",
   "metadata": {},
   "outputs": [
    {
     "name": "stderr",
     "output_type": "stream",
     "text": [
      "/scratch/scai/phd/aiz218323/anaconda3/envs/xc_nlg/lib/python3.9/site-packages/accelerate/accelerator.py:432: FutureWarning: Passing the following arguments to `Accelerator` is deprecated and will be removed in version 1.0 of Accelerate: dict_keys(['dispatch_batches', 'split_batches', 'even_batches', 'use_seedable_sampler']). Please pass an `accelerate.DataLoaderConfiguration` instead: \n",
      "dataloader_config = DataLoaderConfiguration(dispatch_batches=None, split_batches=False, even_batches=True, use_seedable_sampler=True)\n",
      "  warnings.warn(\n",
      "Detected kernel version 3.10.0, which is below the recommended minimum of 5.5.0; this can cause the process to hang. It is recommended to upgrade the kernel to the minimum version or higher.\n"
     ]
    }
   ],
   "source": [
    "#| export\n",
    "learn = XCLearner(\n",
    "    model=model, \n",
    "    args=args,\n",
    "    train_dataset=block.train.dset,\n",
    "    eval_dataset=block.test.dset,\n",
    "    data_collator=block.collator,\n",
    "    compute_metrics=metric,\n",
    ")"
   ]
  },
  {
   "cell_type": "code",
   "execution_count": null,
   "id": "41fee6bc",
   "metadata": {},
   "outputs": [
    {
     "data": {
      "application/vnd.jupyter.widget-view+json": {
       "model_id": "cd9e161cc3d84e9f9693a68e9190cc92",
       "version_major": 2,
       "version_minor": 0
      },
      "text/plain": [
       "  0%|          | 0/196 [00:00<?, ?it/s]"
      ]
     },
     "metadata": {},
     "output_type": "display_data"
    },
    {
     "data": {
      "text/html": [],
      "text/plain": [
       "<IPython.core.display.HTML object>"
      ]
     },
     "metadata": {},
     "output_type": "display_data"
    },
    {
     "name": "stderr",
     "output_type": "stream",
     "text": [
      "/scratch/scai/phd/aiz218323/anaconda3/envs/xc_nlg/lib/python3.9/site-packages/scipy/sparse/_index.py:145: SparseEfficiencyWarning: Changing the sparsity structure of a csr_matrix is expensive. lil_matrix is more efficient.\n",
      "  self._set_arrayXarray(i, j, x)\n"
     ]
    }
   ],
   "source": [
    "#| export\n",
    "o = learn.predict(block.test.dset)"
   ]
  },
  {
   "cell_type": "code",
   "execution_count": null,
   "id": "d7425a0d-69c9-49b4-ac6e-a6bedb4eb6c3",
   "metadata": {},
   "outputs": [
    {
     "data": {
      "text/html": [
       "<div>\n",
       "<style scoped>\n",
       "    .dataframe tbody tr th:only-of-type {\n",
       "        vertical-align: middle;\n",
       "    }\n",
       "\n",
       "    .dataframe tbody tr th {\n",
       "        vertical-align: top;\n",
       "    }\n",
       "\n",
       "    .dataframe thead th {\n",
       "        text-align: right;\n",
       "    }\n",
       "</style>\n",
       "<table border=\"1\" class=\"dataframe\">\n",
       "  <thead>\n",
       "    <tr style=\"text-align: right;\">\n",
       "      <th></th>\n",
       "      <th>P@1</th>\n",
       "      <th>P@3</th>\n",
       "      <th>P@5</th>\n",
       "      <th>P@10</th>\n",
       "      <th>N@1</th>\n",
       "      <th>N@3</th>\n",
       "      <th>N@5</th>\n",
       "      <th>N@10</th>\n",
       "      <th>PSP@1</th>\n",
       "      <th>PSP@3</th>\n",
       "      <th>PSP@5</th>\n",
       "      <th>PSP@10</th>\n",
       "      <th>PSN@1</th>\n",
       "      <th>PSN@3</th>\n",
       "      <th>PSN@5</th>\n",
       "      <th>PSN@10</th>\n",
       "      <th>R@10</th>\n",
       "      <th>R@100</th>\n",
       "      <th>R@200</th>\n",
       "      <th>loss</th>\n",
       "      <th>runtime</th>\n",
       "      <th>samples_per_second</th>\n",
       "      <th>steps_per_second</th>\n",
       "    </tr>\n",
       "  </thead>\n",
       "  <tbody>\n",
       "    <tr>\n",
       "      <th>0</th>\n",
       "      <td>24.6019</td>\n",
       "      <td>16.4339</td>\n",
       "      <td>12.5025</td>\n",
       "      <td>8.0314</td>\n",
       "      <td>24.6019</td>\n",
       "      <td>24.8822</td>\n",
       "      <td>25.8773</td>\n",
       "      <td>27.591</td>\n",
       "      <td>20.471</td>\n",
       "      <td>21.9057</td>\n",
       "      <td>23.6301</td>\n",
       "      <td>27.2401</td>\n",
       "      <td>20.471</td>\n",
       "      <td>22.4529</td>\n",
       "      <td>23.8763</td>\n",
       "      <td>25.7368</td>\n",
       "      <td>32.1282</td>\n",
       "      <td>46.1119</td>\n",
       "      <td>49.3935</td>\n",
       "      <td>0.0296</td>\n",
       "      <td>742.392</td>\n",
       "      <td>239.112</td>\n",
       "      <td>0.15</td>\n",
       "    </tr>\n",
       "  </tbody>\n",
       "</table>\n",
       "</div>"
      ],
      "text/plain": [
       "       P@1      P@3      P@5    P@10      N@1      N@3      N@5    N@10  \\\n",
       "0  24.6019  16.4339  12.5025  8.0314  24.6019  24.8822  25.8773  27.591   \n",
       "\n",
       "    PSP@1    PSP@3    PSP@5   PSP@10   PSN@1    PSN@3    PSN@5   PSN@10  \\\n",
       "0  20.471  21.9057  23.6301  27.2401  20.471  22.4529  23.8763  25.7368   \n",
       "\n",
       "      R@10    R@100    R@200    loss  runtime  samples_per_second  \\\n",
       "0  32.1282  46.1119  49.3935  0.0296  742.392             239.112   \n",
       "\n",
       "   steps_per_second  \n",
       "0              0.15  "
      ]
     },
     "metadata": {},
     "output_type": "display_data"
    }
   ],
   "source": [
    "display_metric(o.metrics)"
   ]
  },
  {
   "cell_type": "code",
   "execution_count": null,
   "id": "a6b1448c-2051-43a6-9828-a9a2a1bc5045",
   "metadata": {},
   "outputs": [],
   "source": []
  },
  {
   "cell_type": "code",
   "execution_count": null,
   "id": "3212a078-6974-4f7c-9e38-b361cc723bea",
   "metadata": {},
   "outputs": [],
   "source": [
    "#| export\n",
    "pred_dir = f\"{mname}/predictions/\"\n",
    "os.makedirs(pred_dir, exist_ok=True)\n",
    "\n",
    "with open(f'{pred_dir}/test_predictions.pkl', 'wb') as file: pickle.dump(o, file)\n"
   ]
  },
  {
   "cell_type": "code",
   "execution_count": null,
   "id": "abaea1c5-1691-4468-97f7-66c068f0a537",
   "metadata": {},
   "outputs": [],
   "source": [
    "#| export\n",
    "print(o.metrics)"
   ]
  },
  {
   "cell_type": "code",
   "execution_count": null,
   "id": "774cbf65-e719-44b1-86d5-caba699592fd",
   "metadata": {},
   "outputs": [],
   "source": []
  },
  {
   "cell_type": "code",
   "execution_count": null,
   "id": "cb7cc632-d080-4b8d-bd8b-00d6e3b0d6f7",
   "metadata": {},
   "outputs": [],
   "source": [
    "m = {'test_loss': 0.02027089148759842, 'test_P@1': 0.38918401261865193, 'test_P@10': 0.1197121370025047, 'test_P@3': 0.2529326160231173, 'test_P@5': 0.19003239162907803, 'test_N@1': 0.38918399810791016, 'test_N@10': 0.4228399097919464, 'test_N@3': 0.38625404238700867, 'test_N@5': 0.39960503578186035, 'test_PSP@1': 0.2808400762141096, 'test_PSP@10': 0.3843759417211133, 'test_PSP@3': 0.3052513348114733, 'test_PSP@5': 0.331710015691671, 'test_PSN@1': 0.28084006905555725, 'test_PSN@10': 0.3633485436439514, 'test_PSN@3': 0.31347599625587463, 'test_PSN@5': 0.3355429172515869, 'test_R@200': 0.6904824364367135, 'test_R@10': 0.48273773909035944, 'test_R@100': 0.6535670102516896, 'test_runtime': 1090.5389, 'test_samples_per_second': 162.777, 'test_steps_per_second': 0.102}"
   ]
  },
  {
   "cell_type": "code",
   "execution_count": null,
   "id": "aec12e12-4f7d-42f0-915a-2be6c09f0e73",
   "metadata": {},
   "outputs": [
    {
     "data": {
      "text/html": [
       "<div>\n",
       "<style scoped>\n",
       "    .dataframe tbody tr th:only-of-type {\n",
       "        vertical-align: middle;\n",
       "    }\n",
       "\n",
       "    .dataframe tbody tr th {\n",
       "        vertical-align: top;\n",
       "    }\n",
       "\n",
       "    .dataframe thead th {\n",
       "        text-align: right;\n",
       "    }\n",
       "</style>\n",
       "<table border=\"1\" class=\"dataframe\">\n",
       "  <thead>\n",
       "    <tr style=\"text-align: right;\">\n",
       "      <th></th>\n",
       "      <th>P@1</th>\n",
       "      <th>P@3</th>\n",
       "      <th>P@5</th>\n",
       "      <th>P@10</th>\n",
       "      <th>N@1</th>\n",
       "      <th>N@3</th>\n",
       "      <th>N@5</th>\n",
       "      <th>N@10</th>\n",
       "      <th>PSP@1</th>\n",
       "      <th>PSP@3</th>\n",
       "      <th>PSP@5</th>\n",
       "      <th>PSP@10</th>\n",
       "      <th>PSN@1</th>\n",
       "      <th>PSN@3</th>\n",
       "      <th>PSN@5</th>\n",
       "      <th>PSN@10</th>\n",
       "      <th>R@10</th>\n",
       "      <th>R@100</th>\n",
       "      <th>R@200</th>\n",
       "      <th>loss</th>\n",
       "      <th>runtime</th>\n",
       "      <th>samples_per_second</th>\n",
       "      <th>steps_per_second</th>\n",
       "    </tr>\n",
       "  </thead>\n",
       "  <tbody>\n",
       "    <tr>\n",
       "      <th>0</th>\n",
       "      <td>38.9184</td>\n",
       "      <td>25.2933</td>\n",
       "      <td>19.0032</td>\n",
       "      <td>11.9712</td>\n",
       "      <td>38.9184</td>\n",
       "      <td>38.6254</td>\n",
       "      <td>39.9605</td>\n",
       "      <td>42.284</td>\n",
       "      <td>28.084</td>\n",
       "      <td>30.5251</td>\n",
       "      <td>33.171</td>\n",
       "      <td>38.4376</td>\n",
       "      <td>28.084</td>\n",
       "      <td>31.3476</td>\n",
       "      <td>33.5543</td>\n",
       "      <td>36.3349</td>\n",
       "      <td>48.2738</td>\n",
       "      <td>65.3567</td>\n",
       "      <td>69.0482</td>\n",
       "      <td>0.0203</td>\n",
       "      <td>1090.5389</td>\n",
       "      <td>162.777</td>\n",
       "      <td>0.102</td>\n",
       "    </tr>\n",
       "  </tbody>\n",
       "</table>\n",
       "</div>"
      ],
      "text/plain": [
       "       P@1      P@3      P@5     P@10      N@1      N@3      N@5    N@10  \\\n",
       "0  38.9184  25.2933  19.0032  11.9712  38.9184  38.6254  39.9605  42.284   \n",
       "\n",
       "    PSP@1    PSP@3   PSP@5   PSP@10   PSN@1    PSN@3    PSN@5   PSN@10  \\\n",
       "0  28.084  30.5251  33.171  38.4376  28.084  31.3476  33.5543  36.3349   \n",
       "\n",
       "      R@10    R@100    R@200    loss    runtime  samples_per_second  \\\n",
       "0  48.2738  65.3567  69.0482  0.0203  1090.5389             162.777   \n",
       "\n",
       "   steps_per_second  \n",
       "0             0.102  "
      ]
     },
     "metadata": {},
     "output_type": "display_data"
    }
   ],
   "source": [
    "display_metric(m)"
   ]
  },
  {
   "cell_type": "markdown",
   "id": "cff675be-e109-4f50-90af-75bd9285a627",
   "metadata": {},
   "source": [
    "### `Label-side` Augmentation Analysis"
   ]
  },
  {
   "cell_type": "code",
   "execution_count": null,
   "id": "bd8e62f0",
   "metadata": {},
   "outputs": [],
   "source": [
    "import re\n",
    "from xcai.analysis import *\n",
    "from torch.utils.data import Dataset\n",
    "from typing import List\n",
    "from scipy import sparse\n",
    "import xclib.utils.sparse as xc_sparse\n",
    "\n",
    "from IPython.display import HTML"
   ]
  },
  {
   "cell_type": "code",
   "execution_count": null,
   "id": "f626fbb5-0745-4426-bafb-b30422d59156",
   "metadata": {},
   "outputs": [],
   "source": [
    "from transformers import AutoTokenizer"
   ]
  },
  {
   "cell_type": "code",
   "execution_count": null,
   "id": "10256655-cd8d-4890-86b4-e9698aef7446",
   "metadata": {},
   "outputs": [],
   "source": []
  },
  {
   "cell_type": "code",
   "execution_count": null,
   "id": "38fcb86e-828a-4fbc-85b7-1953713c36e5",
   "metadata": {},
   "outputs": [],
   "source": [
    "def get_pred(out, n_lbl):\n",
    "    pred_ptr = torch.concat([torch.zeros((1,), dtype=torch.long), out.pred_ptr.cumsum(dim=0)])\n",
    "    return sparse.csr_matrix((out.pred_score, out.pred_idx, pred_ptr), shape=(len(out.pred_ptr), n_lbl))\n"
   ]
  },
  {
   "cell_type": "code",
   "execution_count": null,
   "id": "79803e08-34ae-4fd2-8ae3-95bc069182b1",
   "metadata": {},
   "outputs": [],
   "source": [
    "tokz = AutoTokenizer.from_pretrained('distilbert-base-uncased')\n",
    "\n",
    "pred = get_pred(o, block.n_lbl)\n",
    "top_pred = xc_sparse.retain_topk(pred, k=10)\n",
    "\n",
    "pred_dset = get_pred_dset(top_pred, block)"
   ]
  },
  {
   "cell_type": "code",
   "execution_count": null,
   "id": "fe8162b6-a807-4a58-8a7e-ccde35f0d7d1",
   "metadata": {},
   "outputs": [],
   "source": [
    "aug_cat_input_text = tokz.batch_decode(pred_dset.data.lbl_info['input_ids_aug_cat'], skip_special_tokens=True)"
   ]
  },
  {
   "cell_type": "code",
   "execution_count": null,
   "id": "7cacdf6b-3467-4c43-afb4-ac699e3afdfa",
   "metadata": {},
   "outputs": [],
   "source": [
    "pred_dset.data.lbl_info['aug_cat_input_text'] = aug_cat_input_text\n",
    "block.test.dset.data.data_info['aug_cat_input_text'] = aug_cat_input_text"
   ]
  },
  {
   "cell_type": "code",
   "execution_count": null,
   "id": "5af1100b-035a-440b-ad38-223c41af9acc",
   "metadata": {},
   "outputs": [],
   "source": []
  },
  {
   "cell_type": "code",
   "execution_count": null,
   "id": "bbca0e7b-e3e4-4730-b0da-d88f39bb2a3b",
   "metadata": {},
   "outputs": [],
   "source": [
    "class TextColumns(Dataset):\n",
    "    \n",
    "    def __init__(self, x, pat='.*_text$'):\n",
    "        self.x, self.pat = x, pat\n",
    "    \n",
    "    def __getitem__(self, idx):\n",
    "        o = self.x[idx]\n",
    "        return {k:v for k,v in o.items() if re.match(self.pat, k)}\n",
    "    "
   ]
  },
  {
   "cell_type": "code",
   "execution_count": null,
   "id": "2b0ce1ab-7900-41d6-b5dc-261e8d10e40f",
   "metadata": {},
   "outputs": [],
   "source": []
  },
  {
   "cell_type": "code",
   "execution_count": null,
   "id": "7d520945-14ce-437a-a90e-253995f713e9",
   "metadata": {},
   "outputs": [],
   "source": [
    "pattern = r'^(data|lbl2data|lbl2data_aug_cat)_input_text$'\n",
    "\n",
    "pred_dset = TextColumns(pred_dset, pat=pattern)\n",
    "test_dset = TextColumns(block.test.dset, pat=pattern)"
   ]
  },
  {
   "cell_type": "code",
   "execution_count": null,
   "id": "4d64f752-54c3-4dc3-8ea7-9b714748330d",
   "metadata": {},
   "outputs": [],
   "source": []
  },
  {
   "cell_type": "code",
   "execution_count": null,
   "id": "eada61c4-de0c-4af9-b051-696674423eb8",
   "metadata": {},
   "outputs": [],
   "source": [
    "evals = pointwise_eval(pred, block.test.dset.data.data_lbl, topk=5, metric='P', return_type='D')"
   ]
  },
  {
   "cell_type": "code",
   "execution_count": null,
   "id": "d0912e28-05dc-47ed-ad99-57ba3c92142c",
   "metadata": {},
   "outputs": [],
   "source": [
    "idxs = np.argsort(evals)[-10:]"
   ]
  },
  {
   "cell_type": "code",
   "execution_count": null,
   "id": "9835f2a5-5e05-4cbf-9ea0-126712610106",
   "metadata": {},
   "outputs": [],
   "source": []
  },
  {
   "cell_type": "code",
   "execution_count": null,
   "id": "bfb3cdf6-4680-4828-b788-32fb8f3650ef",
   "metadata": {},
   "outputs": [],
   "source": [
    "def display_text(pred_dset:Dataset, data_dset:Dataset, idxs:List):\n",
    "    color = [('red','green'), ('black','blue')]\n",
    "    text = []\n",
    "    for i,idx in enumerate(idxs):\n",
    "        c = color[i%len(color)]\n",
    "        pred_text = \"<br>\".join([f'{html(k,color[0][0])}: {html(v,color[0][1])}' for k,v in pred_dset[idx].items()])\n",
    "        data_text = \"<br>\".join([f'{html(k,color[1][0])}: {html(v,color[1][1])}' for k,v in test_dset[idx].items()])\n",
    "        text.append(\"<br>\".join([pred_text,data_text]))\n",
    "    return \"<br><br>\".join(text)"
   ]
  },
  {
   "cell_type": "code",
   "execution_count": null,
   "id": "af36ac7f-1e2e-4491-954c-bb6e85a9101b",
   "metadata": {},
   "outputs": [],
   "source": []
  },
  {
   "cell_type": "code",
   "execution_count": null,
   "id": "edd84812-6c0f-4ba2-9018-a11b33c1d7f6",
   "metadata": {},
   "outputs": [
    {
     "data": {
      "text/html": [
       "<text style=color:red>data_input_text</text>: <text style=color:green>Kamiiida Station</text><br><text style=color:red>lbl2data_input_text</text>: <text style=color:green>['Miyamoto Musashi Station', 'List of railway stations in Japan', 'Transport in Greater Tokyo', 'Transportation in Greater Tokyo', 'MurodÃ\\x85Â\\x8d Station', 'Dining car', 'Fujiya Hotel', 'Hakodate Main Line', 'HeijÃ\\x85Â\\x8d Palace', 'Years in Japan']</text><br><text style=color:red>lbl2data_aug_cat_input_text</text>: <text style=color:green>['miyamoto musashi station railway stations in okayama prefecture chizu express railway stations opened in 1994', 'list of railway stations in japan lists of buildings and structures in japan railway stations in japan lists of railway stations in japan lists of railway stations in asia japan', 'transport in greater tokyo transport in the greater tokyo area transport in tokyo', 'transportation in greater tokyo', 'murodaa station', 'dining car restaurants by type passenger coaches', 'fujiya hotel hotels established in 1891 buildings and structures in hakone, kanagawa 1891 establishments in japan hotels in japan', 'hakodate main line lines of hokkaido railway company railway lines opened in 1898 1067 mm gauge railways in japan rail transport in hokkaido', 'heijaa palace', 'years in japan']</text><br><text style=color:black>data_input_text</text>: <text style=color:blue>Kamiiida Station</text><br><text style=color:black>lbl2data_input_text</text>: <text style=color:blue>['Commonscat-inline']</text><br><text style=color:black>lbl2data_aug_cat_input_text</text>: <text style=color:blue>['commonscat - inline']</text><br><br><text style=color:red>data_input_text</text>: <text style=color:green>Michael T. McGuire</text><br><text style=color:red>lbl2data_input_text</text>: <text style=color:green>['Thomas McGuire', 'Patrick M. Shanahan', 'David L. Norquist', 'John Rood', 'Joseph Kernan', 'Randall Schriver', 'Kenneth Rapuano', 'Thomas Goffus', 'James P. Cullen', 'Edward O. Wilson']</text><br><text style=color:red>lbl2data_aug_cat_input_text</text>: <text style=color:green>['thomas mcguire 1920 births burials at arlington national cemetery united states army air forces officers american people of irish descent recipients of the silver star american military personnel killed in', 'patrick m. shanahan american business executives fellows of the royal aeronautical society united states deputy secretaries of defense mit sloan school of management alumni university of washington', 'david l. norquist', 'john rood george w. bush administration personnel united states under secretaries of state arizona republicans analysts of the central intelligence agency arizona state university alumni george h.', 'joseph kernan', 'randall schriver trump administration personnel john f. kennedy school of government alumni williams college alumni stanford university alumni george w. bush administration personnel year of birth', 'kenneth rapuano united states marines people from ridgewood, new jersey george w. bush administration personnel trump administration personnel living people united states department of defense', 'thomas goffus university of washington alumni united states air force academy alumni united states air force personnel living people trump administration personnel', \"james p. cullen military personnel from new york city united states army generals 2017 deaths judge advocate general's corps, united states army people from queens,\", 'edward o. wilson']</text><br><text style=color:black>data_input_text</text>: <text style=color:blue>Michael T. McGuire</text><br><text style=color:black>lbl2data_input_text</text>: <text style=color:blue>['Sociobiology', 'Charles Darwin', 'Psychoanalysis', 'Biological Psychiatry', 'Evolutionary Psychology', 'Evolutionary Biology']</text><br><text style=color:black>lbl2data_aug_cat_input_text</text>: <text style=color:blue>['sociobiology ethology ecology biology evolutionary psychology sociobiology evolutionary biology science studies subfields of zoology', 'charles darwin human evolution theorists members of the lincean academy burials at westminster abbey 19th - century british biologists 19th - century english writers history of ideas', 'psychoanalysis psychoanalysis', 'biological psychiatry', 'evolutionary psychology', 'evolutionary biology']</text><br><br><text style=color:red>data_input_text</text>: <text style=color:green>Tampa Bay Rays</text><br><text style=color:red>lbl2data_input_text</text>: <text style=color:green>['Baseball awards', 'Major League Baseball', 'List of Boston Red Sox award winners', 'Minor League Baseball', 'MLB China Series', 'International Baseball Federation', 'America Baseball Cup', 'Korea Baseball Association', 'Korea Baseball Futures League', 'Baseball in the Tampa Bay Area']</text><br><text style=color:red>lbl2data_aug_cat_input_text</text>: <text style=color:green>['baseball awards baseball trophies and awards baseball - related lists international baseball', 'major league baseball baseball leagues in the united states professional sports leagues in the united states major league baseball sports organisations established in 1869 baseball leagues in canada 1869 establishments', 'list of boston red sox award winners boston red sox lists major league baseball team trophies and awards', 'minor league baseball history of baseball in the united states minor league baseball 1901 establishments in the united states sports organisations established in 1901', 'mlb china series major league baseball competitions 2008 in chinese sport international baseball baseball competitions in china 2008 major league baseball season', 'international baseball federation articles containing video clips ioc - recognised international federations international baseball organisations based in lausanne international sports bodies based in switzerland international sports organizations world baseball', 'america baseball cup', 'korea baseball association', 'korea baseball futures league', 'baseball in the tampa bay area sports in the tampa bay area history of baseball in the united states baseball in florida tampa bay rays']</text><br><text style=color:black>data_input_text</text>: <text style=color:blue>Tampa Bay Rays</text><br><text style=color:black>lbl2data_input_text</text>: <text style=color:blue>['Baseball awards', 'List of MLB awards', 'Ted Williams Museum and Hitters Hall of Fame', 'Tampa Bay Rays all-time roster']</text><br><text style=color:black>lbl2data_aug_cat_input_text</text>: <text style=color:blue>['baseball awards baseball trophies and awards baseball - related lists international baseball', 'list of mlb awards', 'ted williams museum and hitters hall of fame', 'tampa bay rays all - time roster major league baseball all - time rosters tampa bay rays lists']</text><br><br><text style=color:red>data_input_text</text>: <text style=color:green>Valjevo</text><br><text style=color:red>lbl2data_input_text</text>: <text style=color:green>['List of places in Serbia', 'List of cities, towns and villages in Vojvodina', 'Ã\\x85Â\\xa0umadija', 'Ã\\x85Â\\xa0umadija and Western Serbia', 'Archaeological Sites of Great Importance (Serbia)', 'Geography of Serbia', 'Cities, towns and villages of Vojvodina', 'Geographical regions in Serbia', 'Valjevo', 'Travnik']</text><br><text style=color:red>lbl2data_aug_cat_input_text</text>: <text style=color:green>['list of places in serbia', 'list of cities, towns and villages in vojvodina populated places in vojvodina serbia geography - related lists populated places in serbia', 'aa umadija', 'aa umadija and western serbia', 'archaeological sites of great importance ( serbia ) archaeological sites in serbia archaeological sites of great importance ( serbia ) cultural heritage of serbia', 'geography of serbia geography of serbia', 'cities, towns and villages of vojvodina', 'geographical regions in serbia', 'valjevo articles containing video clips populated places in kolubara district valjevo municipalities and cities of a umadija and western serbia', 'travnik populated places in travnik travnik']</text><br><text style=color:black>data_input_text</text>: <text style=color:blue>Valjevo</text><br><text style=color:black>lbl2data_input_text</text>: <text style=color:blue>['List of populated places in Serbia']</text><br><text style=color:black>lbl2data_aug_cat_input_text</text>: <text style=color:blue>['list of populated places in serbia populated places in serbia serbia geography - related lists lists of populated places by country']</text><br><br><text style=color:red>data_input_text</text>: <text style=color:green>EinheitsempfÃ¤nger</text><br><text style=color:red>lbl2data_input_text</text>: <text style=color:green>['Oberste Heeresleitung', 'Black propaganda', 'The KLF', 'White propaganda', 'Utility Radio', 'VolksempfÃ\\x83Â¤nger', 'GroÃ\\x83Â\\x9fer Zapfenstreich', 'Kampfgeschwader 200', 'Terror archives', 'Soldatensender Calais']</text><br><text style=color:red>lbl2data_aug_cat_input_text</text>: <text style=color:green>['oberste heeresleitung military headquarters german army ( german empire ) german empire in world war i', 'black propaganda black propaganda intelligence operations by type', 'the klf english dance music groups musical groups from london brit award winners british electronic musicians musical groups disestablished in 1992 british techno musicians musical groups established', 'white propaganda propaganda techniques', 'utility radio united kingdom home front during world war ii types of radios radio electronics world war ii british electronics', 'volksempfaa¤nger', 'groaaer zapfenstreich', 'kampfgeschwader 200 military deception german world war ii special forces military units and formations disestablished in 1945 luftwaffe wings military units and formations', 'terror archives', 'soldatensender calais black propaganda organisations defunct radio stations in the united kingdom world war ii propaganda foreign office during world war ii']</text><br><text style=color:black>data_input_text</text>: <text style=color:blue>EinheitsempfÃ¤nger</text><br><text style=color:black>lbl2data_input_text</text>: <text style=color:blue>['History of television in Germany']</text><br><text style=color:black>lbl2data_aug_cat_input_text</text>: <text style=color:blue>['history of television in germany television in germany 1950 in german television 1935 in germany']</text><br><br><text style=color:red>data_input_text</text>: <text style=color:green>Culture of Lithuania</text><br><text style=color:red>lbl2data_input_text</text>: <text style=color:green>['List of Lithuanians', 'Outline of Lithuania', 'Lithuania', 'Lithuanians in Brazil', 'Culture of Europe', 'Culture of Belarus', 'Lithuanian cuisine', 'Ethnographic Lithuania', 'Lithuanian encyclopedias', 'Universal Lithuanian Encyclopedia']</text><br><text style=color:red>lbl2data_aug_cat_input_text</text>: <text style=color:green>['list of lithuanians lists of people by nationality lists of lithuanian people', 'outline of lithuania lithuania - related lists lithuania outlines of countries', 'lithuania lithuania republics states and territories established in 1918 member states of the union for the mediterranean member states of the european union states and territories established in 1990 countries', 'lithuanians in brazil', 'culture of europe european culture', 'culture of belarus belarusian culture slavic culture', 'lithuanian cuisine lithuanian cuisine', 'ethnographic lithuania historical regions in lithuania', 'lithuanian encyclopedias national encyclopedias lithuanian encyclopedias soviet encyclopedias', 'universal lithuanian encyclopedia']</text><br><text style=color:black>data_input_text</text>: <text style=color:blue>Culture of Lithuania</text><br><text style=color:black>lbl2data_input_text</text>: <text style=color:blue>['Lithuanian mythology']</text><br><text style=color:black>lbl2data_aug_cat_input_text</text>: <text style=color:blue>['lithuanian mythology lithuanian mythology']</text><br><br><text style=color:red>data_input_text</text>: <text style=color:green>Atlas Grove</text><br><text style=color:red>lbl2data_input_text</text>: <text style=color:green>['National Register of Historic Places listings in Greene County, Alabama', 'List of largest giant sequoias', 'List of trees', 'National Register of Big Trees', 'Mount Jefferson', 'Fort Ancient', 'Mastodon', 'List of sequoia groves', 'Mountain Home Grove', 'List of individual trees']</text><br><text style=color:red>lbl2data_aug_cat_input_text</text>: <text style=color:green>['national register of historic places listings in greene county, alabama lists of national register of historic places in alabama by county national register of historic places in greene county', 'list of largest giant sequoias lists of trees lists of superlatives individual giant sequoia trees california geography - related lists united states science', 'list of trees', 'national register of big trees 1940 establishments in the united states lists of trees forestry in the united states', 'mount jefferson', 'fort ancient native american history of ohio native american history of indiana native american history of kentucky formative period in the americas pre - columbian cultures 11th - century', 'mastodon messinian first appearances mastodons miocene proboscideans pleistocene proboscideans extinct animals of canada prehistoric mammals of north america paleont', 'list of sequoia groves', 'mountain home grove giant sequoia groves forests of california sequoia national forest protected areas of tulare county, california', 'list of individual trees lists of fictional things lists of trees individual trees']</text><br><text style=color:black>data_input_text</text>: <text style=color:blue>Atlas Grove</text><br><text style=color:black>lbl2data_input_text</text>: <text style=color:blue>['Redwood National and State Parks', 'Coast redwood groves']</text><br><text style=color:black>lbl2data_aug_cat_input_text</text>: <text style=color:blue>['redwood national and state parks world heritage sites in the united states state parks of california protected areas established in 1968 beaches of northern california coast redwood groves 1968 establishments', 'coast redwood groves']</text><br><br><text style=color:red>data_input_text</text>: <text style=color:green>Pageant of Empire</text><br><text style=color:red>lbl2data_input_text</text>: <text style=color:green>['Democratic empire', 'Monarch', 'Antitheatricality', 'Monarchy', 'Mystery play', 'Oath of Empire', 'Queen Mab', 'Popular monarchy', 'Oath of Empire', 'Medieval pageant']</text><br><text style=color:red>lbl2data_aug_cat_input_text</text>: <text style=color:green>['democratic empire empires democracy', 'monarch titles politics monarchs noble titles positions of authority monarchy', 'antitheatricality theatre criticism theatre in the united kingdom british drama history of theatre', 'monarchy positions of authority titles forms of government monarchy political systems constitutional state types', 'mystery play christian plays religious vernacular drama theatre in the united kingdom theatrical genres medieval literature drama cultural depictions of herod the great medieval drama', 'oath of empire', 'queen mab fairy royalty fictional midwives female shakespearean characters fictional queens characters in romeo and juliet fictional fairies and sprites', 'popular monarchy monarchy royal titles popular sovereignty', 'oath of empire', 'medieval pageant walking christian worship and liturgy']</text><br><text style=color:black>data_input_text</text>: <text style=color:blue>Pageant of Empire</text><br><text style=color:black>lbl2data_input_text</text>: <text style=color:blue>['Empire Day']</text><br><text style=color:black>lbl2data_aug_cat_input_text</text>: <text style=color:blue>['empire day']</text><br><br><text style=color:red>data_input_text</text>: <text style=color:green>Plamen Grozdanov</text><br><text style=color:red>lbl2data_input_text</text>: <text style=color:green>['Politics of Bulgaria', 'Government of Bulgaria', 'Liberal Democratic Party of Pridnestrovie', 'Liberalism and radicalism in Bulgaria', 'Ukrainian parliamentary election, 2014', 'Ukrainian parliamentary election, 2007', 'Politics of the Republic of Macedonia', 'Bulgarian parliamentary election, 2013', 'List of Bulgarian Constituencies', 'Bulgarian parliamentary election, 2009']</text><br><text style=color:red>lbl2data_aug_cat_input_text</text>: <text style=color:green>['politics of bulgaria politics of bulgaria', 'government of bulgaria government of bulgaria politics of bulgaria lists of government ministries bulgaria - related lists european governments ministries of bulgaria', 'liberal democratic party of pridnestrovie political parties established in 2006 political parties in transnistria parties affiliated with the liberal democratic party of russia', 'liberalism and radicalism in bulgaria politics of bulgaria liberalism and radicalism by country', 'ukrainian parliamentary election, 2014 2014 pro - russian unrest in ukraine 8th ukrainian verkhovna rada 2014 elections in ukraine parliamentary elections in ukraine euromaid', 'ukrainian parliamentary election, 2007', 'politics of the republic of macedonia politics of the republic of macedonia', 'bulgarian parliamentary election, 2013', 'list of bulgarian constituencies', 'bulgarian parliamentary election, 2009']</text><br><text style=color:black>data_input_text</text>: <text style=color:blue>Plamen Grozdanov</text><br><text style=color:black>lbl2data_input_text</text>: <text style=color:blue>['Embassy of Bulgaria in Moscow']</text><br><text style=color:black>lbl2data_aug_cat_input_text</text>: <text style=color:blue>['embassy of bulgaria in moscow']</text><br><br><text style=color:red>data_input_text</text>: <text style=color:green>Georg KrauÃ</text><br><text style=color:red>lbl2data_input_text</text>: <text style=color:green>['List of German painters', 'Wikipedia:Contact us', 'Jersey Finger', 'University of Freiburg Faculty of Biology', 'German school of swordsmanship', 'Football in Germany', 'Biceps femoris', 'List of German bodybuilders', 'Saar at the 1952 Summer Olympics', 'German Football Association']</text><br><text style=color:red>lbl2data_aug_cat_input_text</text>: <text style=color:green>['list of german painters lists of painters by nationality german painters lists of german people by occupation', 'wikipedia : contact us', 'jersey finger musculoskeletal disorders injuries of wrist and hand fingers', 'university of freiburg faculty of biology university of freiburg', 'german school of swordsmanship', 'football in germany football in germany', 'biceps femoris', 'list of german bodybuilders german bodybuilders lists of bodybuilders professional bodybuilding lists of german sportspeople', 'saar at the 1952 summer olympics saar at the olympics saar at the summer olympics by year nations at the 1952 summer olympics 1952 in saar', 'german football association sports governing bodies in germany football governing bodies in germany german associations 1900 establishments in germany uefa member associations sports organisations established in 1900 futsal in germany']</text><br><text style=color:black>data_input_text</text>: <text style=color:blue>Georg KrauÃ</text><br><text style=color:black>lbl2data_input_text</text>: <text style=color:blue>['List of railway pioneers']</text><br><text style=color:black>lbl2data_aug_cat_input_text</text>: <text style=color:blue>['list of railway pioneers pioneers of rail transport rail transport - related lists locomotive builders and designers people in rail transport']</text>"
      ],
      "text/plain": [
       "<IPython.core.display.HTML object>"
      ]
     },
     "execution_count": null,
     "metadata": {},
     "output_type": "execute_result"
    }
   ],
   "source": [
    "HTML(display_text(pred_dset, test_dset, idxs))"
   ]
  },
  {
   "cell_type": "code",
   "execution_count": null,
   "id": "59e86283-2c84-4834-99aa-711370bcecd0",
   "metadata": {},
   "outputs": [
    {
     "data": {
      "text/html": [
       "<text style=color:red>data_input_text</text>: <text style=color:green>Wikipedia:Goings-on/November 5, 2017</text><br><text style=color:red>lbl2data_input_text</text>: <text style=color:green>['Wikipedia:Popular pages', 'Wikipedia:Article traffic jumps', 'Wikipedia:Milestones', 'Windows Server Update Services', 'List of Japanese television programs by date', 'Wikipedia pageviews', 'Wikipedia:News', 'Wikipedia:Signpost', 'Wikizine', 'Meta goings-on']</text><br><text style=color:red>lbl2data_aug_cat_input_text</text>: <text style=color:green>['wikipedia : popular pages wikipedia statistics wikipedia pageviews wikipedia featured content', 'wikipedia : article traffic jumps wikipedia administration wikipedia pageviews wikipedia statistics', 'wikipedia : milestones wikipedia news wikipedia milestones archive wikipedia statistics', 'windows server update services patch utilities windows server microsoft server technology', 'list of japanese television programs by date lists of japanese television series years in japanese television', 'wikipedia pageviews', 'wikipedia : news wikipedia news', 'wikipedia : signpost', 'wikizine', 'meta goings - on']</text><br><text style=color:black>data_input_text</text>: <text style=color:blue>Wikipedia:Goings-on/November 5, 2017</text><br><text style=color:black>lbl2data_input_text</text>: <text style=color:blue>['Wikipedia:Article traffic jumps', 'Wikipedia:Milestones', 'Wikipedia:News', 'Wikipedia:Signpost', 'Wikizine', 'Meta goings-on']</text><br><text style=color:black>lbl2data_aug_cat_input_text</text>: <text style=color:blue>['wikipedia : article traffic jumps wikipedia administration wikipedia pageviews wikipedia statistics', 'wikipedia : milestones wikipedia news wikipedia milestones archive wikipedia statistics', 'wikipedia : news wikipedia news', 'wikipedia : signpost', 'wikizine', 'meta goings - on']</text><br><br><text style=color:red>data_input_text</text>: <text style=color:green>Adamu (Assyrian king)</text><br><text style=color:red>lbl2data_input_text</text>: <text style=color:green>['Timeline of the Assyrian Empire', 'Assyrian people', 'Assyria', 'List of Assyrian kings', 'List of kings of Babylon', 'Assyrian continuity', 'Early Period of Assyria', 'History of the Assyrian people', 'Neo-Assyrian Empire', 'Old Assyrian Empire']</text><br><text style=color:red>lbl2data_aug_cat_input_text</text>: <text style=color:green>['timeline of the assyrian empire history of upper mesopotamia ancient mesopotamia history of assyria former empires in asia former countries in asia assyrian kings ancient near east former countries', 'assyrian people history of assyria ethnic groups in turkey ethnic groups in syria indigenous peoples of western asia ethnic groups in iran ethnic groups in iraq oriental orthodoxy in', 'assyria ancient near east assyria states and territories disestablished in the 7th century bc ancient levant 7th - century bc disestablishments', 'list of assyrian kings king lists lists of monarchs iraq - related lists middle east - related lists assyrian kings hebrew bible people', 'list of kings of babylon babylonian kings iraq - related lists lists of monarchs babylonia', 'assyrian continuity assyrian nationalism origin hypotheses of ethnic groups', 'early period of assyria', 'history of the assyrian people history of the assyrians', 'neo - assyrian empire neo - assyrian empire iron age anatolia archaeology of iraq ancient anatolia iron age countries in asia 10th - century bc establishments in assyria history', 'old assyrian empire 21st - century bc establishments ancient persia states and territories disestablished in the 14th century bc ancient mesopotamia states and territories established in the 3rd']</text><br><text style=color:black>data_input_text</text>: <text style=color:blue>Adamu (Assyrian king)</text><br><text style=color:black>lbl2data_input_text</text>: <text style=color:blue>['Timeline of the Assyrian Empire', 'Assyrian people', 'Assyria', 'List of Assyrian kings', 'Assyrian continuity', 'Early Period of Assyria']</text><br><text style=color:black>lbl2data_aug_cat_input_text</text>: <text style=color:blue>['timeline of the assyrian empire history of upper mesopotamia ancient mesopotamia history of assyria former empires in asia former countries in asia assyrian kings ancient near east former countries', 'assyrian people history of assyria ethnic groups in turkey ethnic groups in syria indigenous peoples of western asia ethnic groups in iran ethnic groups in iraq oriental orthodoxy in', 'assyria ancient near east assyria states and territories disestablished in the 7th century bc ancient levant 7th - century bc disestablishments', 'list of assyrian kings king lists lists of monarchs iraq - related lists middle east - related lists assyrian kings hebrew bible people', 'assyrian continuity assyrian nationalism origin hypotheses of ethnic groups', 'early period of assyria']</text><br><br><text style=color:red>data_input_text</text>: <text style=color:green>Commissioners' church</text><br><text style=color:red>lbl2data_input_text</text>: <text style=color:green>[\"List of Commissioners' churches in London\", 'Grade I listed churches in Greater Manchester', 'Diocese of Salford churches', \"List of Commissioners' churches in Yorkshire\", \"List of Commissioners' churches in Northeast and Northwest England\", \"List of Commissioners' churches in eastern England\", \"List of Commissioners' churches in the English Midlands\", \"List of Commissioners' churches in southwest England\", \"List of Commissioners' churches in Wales\", 'Manchester and Salford Wesleyan Methodist Mission']</text><br><text style=color:red>lbl2data_aug_cat_input_text</text>: <text style=color:green>[\"list of commissioners'churches in london commissioners'church buildings lists of religious buildings and structures in london lists of churches in england 19th - century churches in the\", 'grade i listed churches in greater manchester grade i listed churches in greater manchester churches in greater manchester lists of listed buildings in greater manchester grade i listed buildings in', 'diocese of salford churches', \"list of commissioners'churches in yorkshire 19th - century churches in the united kingdom churches in yorkshire commissioners'church buildings lists of churches in england\", \"list of commissioners'churches in northeast and northwest england lists of churches in england commissioners'church buildings 19th - century churches in the united kingdom\", \"list of commissioners'churches in eastern england lists of churches in england commissioners'church buildings 19th - century churches in the united kingdom\", \"list of commissioners'churches in the english midlands commissioners'church buildings lists of churches in england 19th - century churches in the united kingdom\", \"list of commissioners'churches in southwest england 19th - century churches in the united kingdom lists of churches in england commissioners'church buildings\", \"list of commissioners'churches in wales lists of churches in england 19th - century churches in the united kingdom commissioners'church buildings church in wales church buildings\", 'manchester and salford wesleyan methodist mission history of methodism history of manchester methodist churches in greater manchester methodist missions']</text><br><text style=color:black>data_input_text</text>: <text style=color:blue>Commissioners' church</text><br><text style=color:black>lbl2data_input_text</text>: <text style=color:blue>[\"List of Commissioners' churches in London\", \"List of Commissioners' churches in Yorkshire\", \"List of Commissioners' churches in Northeast and Northwest England\", \"List of Commissioners' churches in eastern England\", \"List of Commissioners' churches in the English Midlands\", \"List of Commissioners' churches in southwest England\", \"List of Commissioners' churches in Wales\"]</text><br><text style=color:black>lbl2data_aug_cat_input_text</text>: <text style=color:blue>[\"list of commissioners'churches in london commissioners'church buildings lists of religious buildings and structures in london lists of churches in england 19th - century churches in the\", \"list of commissioners'churches in yorkshire 19th - century churches in the united kingdom churches in yorkshire commissioners'church buildings lists of churches in england\", \"list of commissioners'churches in northeast and northwest england lists of churches in england commissioners'church buildings 19th - century churches in the united kingdom\", \"list of commissioners'churches in eastern england lists of churches in england commissioners'church buildings 19th - century churches in the united kingdom\", \"list of commissioners'churches in the english midlands commissioners'church buildings lists of churches in england 19th - century churches in the united kingdom\", \"list of commissioners'churches in southwest england 19th - century churches in the united kingdom lists of churches in england commissioners'church buildings\", \"list of commissioners'churches in wales lists of churches in england 19th - century churches in the united kingdom commissioners'church buildings church in wales church buildings\"]</text><br><br><text style=color:red>data_input_text</text>: <text style=color:green>2006 in New Zealand</text><br><text style=color:red>lbl2data_input_text</text>: <text style=color:green>['History of New Zealand', 'Military history of New Zealand', 'Timeline of New Zealand history', 'Timeline of the New Zealand environment', \"Timeline of New Zealand's links with Antarctica\", 'Public holidays in New Zealand', 'List of years in New Zealand television', 'List of years in New Zealand', 'Time in New Zealand', 'Military history of New Zealand in Malaysia']</text><br><text style=color:red>lbl2data_aug_cat_input_text</text>: <text style=color:green>['history of new zealand history of new zealand', 'military history of new zealand military history of new zealand', 'timeline of new zealand history new zealand timelines history of new zealand', 'timeline of the new zealand environment new zealand - related lists environment of new zealand new zealand timelines environmental timelines', \"timeline of new zealand's links with antarctica history of antarctica new zealand timelines new zealand and the antarctic regional timelines history of new zealand\", 'public holidays in new zealand public holidays in new zealand lists of public holidays by country', 'list of years in new zealand television culture - related timelines years in new zealand television', 'list of years in new zealand new zealand - related lists years in new zealand history of new zealand', 'time in new zealand standards of new zealand time in new zealand', 'military history of new zealand in malaysia military history of malaysia military history of new zealand malayan emergency']</text><br><text style=color:black>data_input_text</text>: <text style=color:blue>2006 in New Zealand</text><br><text style=color:black>lbl2data_input_text</text>: <text style=color:blue>['History of New Zealand', 'Military history of New Zealand', 'Timeline of New Zealand history', 'Timeline of the New Zealand environment', \"Timeline of New Zealand's links with Antarctica\", 'List of years in New Zealand']</text><br><text style=color:black>lbl2data_aug_cat_input_text</text>: <text style=color:blue>['history of new zealand history of new zealand', 'military history of new zealand military history of new zealand', 'timeline of new zealand history new zealand timelines history of new zealand', 'timeline of the new zealand environment new zealand - related lists environment of new zealand new zealand timelines environmental timelines', \"timeline of new zealand's links with antarctica history of antarctica new zealand timelines new zealand and the antarctic regional timelines history of new zealand\", 'list of years in new zealand new zealand - related lists years in new zealand history of new zealand']</text><br><br><text style=color:red>data_input_text</text>: <text style=color:green>2016 in Norwegian music</text><br><text style=color:red>lbl2data_input_text</text>: <text style=color:green>['Nordic Music Prize', 'Music of Norway', 'Music of Denmark', 'Spellemannprisen', 'Buddyprisen', 'Nordlysprisen', 'Edvard Grieg Memorial Award', 'Thorgeir StubÃ\\x83Â¸ Memorial Award', 'Rolf Gammleng Memorial Award', 'Radka Toneff Memorial Award']</text><br><text style=color:red>lbl2data_aug_cat_input_text</text>: <text style=color:green>['nordic music prize european music awards international music organizations nordic music', 'music of norway norwegian music', 'music of denmark danish music', 'spellemannprisen awards established in 1973 spellemannprisen 1973 establishments in norway norwegian music awards', 'buddyprisen 1956 establishments in norway norwegian music awards norwegian jazz awards established in 1956 jazz awards', 'nordlysprisen norwegian music awards culture in troms awards established in 1989', 'edvard grieg memorial award', 'thorgeir memorial award', 'rolf gammleng memorial award', 'radka toneff memorial award norwegian music awards jazz awards awards established in 1993 norwegian jazz 1993 establishments in norway culture in og romsdal']</text><br><text style=color:black>data_input_text</text>: <text style=color:blue>2016 in Norwegian music</text><br><text style=color:black>lbl2data_input_text</text>: <text style=color:blue>['Music of Norway', 'Spellemannprisen', 'Buddyprisen', 'Nordlysprisen', 'Edvard Grieg Memorial Award', 'Thorgeir StubÃ\\x83Â¸ Memorial Award', 'Rolf Gammleng Memorial Award', 'Radka Toneff Memorial Award']</text><br><text style=color:black>lbl2data_aug_cat_input_text</text>: <text style=color:blue>['music of norway norwegian music', 'spellemannprisen awards established in 1973 spellemannprisen 1973 establishments in norway norwegian music awards', 'buddyprisen 1956 establishments in norway norwegian music awards norwegian jazz awards established in 1956 jazz awards', 'nordlysprisen norwegian music awards culture in troms awards established in 1989', 'edvard grieg memorial award', 'thorgeir memorial award', 'rolf gammleng memorial award', 'radka toneff memorial award norwegian music awards jazz awards awards established in 1993 norwegian jazz 1993 establishments in norway culture in og romsdal']</text><br><br><text style=color:red>data_input_text</text>: <text style=color:green>Trimeresurus macrops</text><br><text style=color:red>lbl2data_input_text</text>: <text style=color:green>['Snakebite', 'List of crotaline species and subspecies', 'Crotalinae by common name', 'Crotalinae by taxonomic synonyms', 'Snake', 'Saddle', 'Trimeresurus by common name', 'Trimeresurus by taxonomic synonyms', 'Pack saddle', 'Epidemiology of snakebites']</text><br><text style=color:red>lbl2data_aug_cat_input_text</text>: <text style=color:green>['snakebite neglected diseases rtt medical emergencies venomous snakes wilderness medical emergencies parasitic infestations, stings, and bites of the skin animal attacks', 'list of crotaline species and subspecies taxonomic lists ( subspecies ) lists of animal species crotalinae', 'crotalinae by common name', 'crotalinae by taxonomic synonyms', 'snake extant late cretaceous first appearances snakes turonian first appearances animals by common name', 'saddle saddles', 'trimeresurus by common name', 'trimeresurus by taxonomic synonyms', 'pack saddle saddles animal equipment', 'epidemiology of snakebites animal attacks venomous snakes parasitic infestations, stings, and bites of the skin wilderness medical emergencies medical']</text><br><text style=color:black>data_input_text</text>: <text style=color:blue>Trimeresurus macrops</text><br><text style=color:black>lbl2data_input_text</text>: <text style=color:blue>['Snakebite', 'List of crotaline species and subspecies', 'Crotalinae by common name', 'Crotalinae by taxonomic synonyms', 'Trimeresurus by common name', 'Trimeresurus by taxonomic synonyms']</text><br><text style=color:black>lbl2data_aug_cat_input_text</text>: <text style=color:blue>['snakebite neglected diseases rtt medical emergencies venomous snakes wilderness medical emergencies parasitic infestations, stings, and bites of the skin animal attacks', 'list of crotaline species and subspecies taxonomic lists ( subspecies ) lists of animal species crotalinae', 'crotalinae by common name', 'crotalinae by taxonomic synonyms', 'trimeresurus by common name', 'trimeresurus by taxonomic synonyms']</text><br><br><text style=color:red>data_input_text</text>: <text style=color:green>Recife Brazil Temple</text><br><text style=color:red>lbl2data_input_text</text>: <text style=color:green>['Assembly of Canonical Orthodox Bishops of the United States of America', 'Xingtian Temple', 'List of temples of The Church of Jesus Christ of Latter-day Saints', 'List of temples of The Church of Jesus Christ of Latter-day Saints by geographic region', 'Temple architecture (Latter-day Saints)', 'Comparison of temples of The Church of Jesus Christ of Latter-day Saints', 'List of Hindu temples in the United States', 'The Church of Jesus Christ of Latter-day Saints in Brazil', 'The Church of Jesus Christ of Latter-day Saints in French Polynesia', 'Religion in Brazil']</text><br><text style=color:red>lbl2data_aug_cat_input_text</text>: <text style=color:green>['assembly of canonical orthodox bishops of the united states of america eastern orthodox church bodies in north america', 'xingtian temple taoist temples in taipei guan yu 1967 establishments in taiwan', 'list of temples of the church of jesus christ of latter - day saints latter day saint movement lists lists of places of worship temples ( lds church )', 'list of temples of the church of jesus christ of latter - day saints by geographic region temples ( lds church ) latter day saint movement lists lists of places', 'temple architecture ( latter - day saints )', 'comparison of temples of the church of jesus christ of latter - day saints lists of religious buildings and structures temples ( lds church )', 'list of hindu temples in the united states hinduism in the united states lists of religious buildings and structures in the united states hindu temples in the united states lists', 'the church of jesus christ of latter - day saints in brazil christian denominations in brazil the church of jesus christ of latter - day saints in brazil', 'the church of jesus christ of latter - day saints in french polynesia the church of jesus christ of latter - day saints in french polynesia christianity in', 'religion in brazil religion in brazil']</text><br><text style=color:black>data_input_text</text>: <text style=color:blue>Recife Brazil Temple</text><br><text style=color:black>lbl2data_input_text</text>: <text style=color:blue>['List of temples of The Church of Jesus Christ of Latter-day Saints', 'List of temples of The Church of Jesus Christ of Latter-day Saints by geographic region', 'Temple architecture (Latter-day Saints)', 'Comparison of temples of The Church of Jesus Christ of Latter-day Saints', 'The Church of Jesus Christ of Latter-day Saints in Brazil']</text><br><text style=color:black>lbl2data_aug_cat_input_text</text>: <text style=color:blue>['list of temples of the church of jesus christ of latter - day saints latter day saint movement lists lists of places of worship temples ( lds church )', 'list of temples of the church of jesus christ of latter - day saints by geographic region temples ( lds church ) latter day saint movement lists lists of places', 'temple architecture ( latter - day saints )', 'comparison of temples of the church of jesus christ of latter - day saints lists of religious buildings and structures temples ( lds church )', 'the church of jesus christ of latter - day saints in brazil christian denominations in brazil the church of jesus christ of latter - day saints in brazil']</text><br><br><text style=color:red>data_input_text</text>: <text style=color:green>Clare (DÃ¡il constituency)</text><br><text style=color:red>lbl2data_input_text</text>: <text style=color:green>['List of political parties in the Republic of Ireland', 'Elections in the Republic of Ireland', 'List of DÃ\\x83Â¡il by-elections', 'DÃ\\x83Â¡il constituencies', 'Politics of the Republic of Ireland', 'DÃ\\x83Â¡il Ã\\x83Â\\x89ireann', 'DÃ\\x83Â¡il Courts', 'Historic DÃ\\x83Â¡il constituencies', 'Twentieth Amendment of the Constitution of Ireland', 'John Donnellan']</text><br><text style=color:red>lbl2data_aug_cat_input_text</text>: <text style=color:green>['list of political parties in the republic of ireland political parties in the republic of ireland lists of political parties by country republic of ireland politics - related lists lists', 'elections in the republic of ireland elections in the republic of ireland republic of ireland politics - related lists', 'list of daa ¡ il by - elections', 'daa ¡ il constituencies', 'politics of the republic of ireland politics of the republic of ireland', 'daa ¡ il aaireann', 'daa ¡ il courts', 'historic daa ¡ il constituencies', 'twentieth amendment of the constitution of ireland constitutional referendums in the republic of ireland amendments of the constitution of ireland june 1999 events in europe 1999 in irish law', 'john donnellan members of the 19th da ¡ il irish farmers politicians from county galway 1937 births members of the 24th da ¡ il all - ireland - winning']</text><br><text style=color:black>data_input_text</text>: <text style=color:blue>Clare (DÃ¡il constituency)</text><br><text style=color:black>lbl2data_input_text</text>: <text style=color:blue>['List of political parties in the Republic of Ireland', 'Elections in the Republic of Ireland', 'List of DÃ\\x83Â¡il by-elections', 'DÃ\\x83Â¡il constituencies', 'Politics of the Republic of Ireland']</text><br><text style=color:black>lbl2data_aug_cat_input_text</text>: <text style=color:blue>['list of political parties in the republic of ireland political parties in the republic of ireland lists of political parties by country republic of ireland politics - related lists lists', 'elections in the republic of ireland elections in the republic of ireland republic of ireland politics - related lists', 'list of daa ¡ il by - elections', 'daa ¡ il constituencies', 'politics of the republic of ireland politics of the republic of ireland']</text><br><br><text style=color:red>data_input_text</text>: <text style=color:green>832nd Air Division</text><br><text style=color:red>lbl2data_input_text</text>: <text style=color:green>['List of F-104 Starfighter operators', 'List of United States Air Force air divisions', 'List of F-4 Phantom II operators', 'List of F-86 Sabre units', 'Organization of United States Air Force Units in the Gulf War', 'List of F-106 Delta Dart units of the United States Air Force', 'List of P-38 Lightning operators', 'List of F-15 operators', 'List of F-100 units of the United States Air Force', 'List of F-105 units of the United States Air Force']</text><br><text style=color:red>lbl2data_aug_cat_input_text</text>: <text style=color:green>['list of f - 104 starfighter operators', 'list of united states air force air divisions divisions of the united states air force', 'list of f - 4 phantom ii operators', 'list of f - 86 sabre units', 'organization of united states air force units in the gulf war gulf war 20th - century military history of the united states orders of battle united states air force units', 'list of f - 106 delta dart units of the united states air force united states air force lists', 'list of p - 38 lightning operators', 'list of f - 15 operators', 'list of f - 100 units of the united states air force military units and formations of the united states air force by equipment united states military aircraft north american', 'list of f - 105 units of the united states air force military units and formations of the united states air force by equipment united states military aircraft']</text><br><text style=color:black>data_input_text</text>: <text style=color:blue>832nd Air Division</text><br><text style=color:black>lbl2data_input_text</text>: <text style=color:blue>['List of F-104 Starfighter operators', 'List of United States Air Force air divisions', 'List of F-4 Phantom II operators', 'List of B-57 units of the United States Air Force', 'General Dynamics F-16 Fighting Falcon operators', 'List of F-15 operators', 'List of F-100 units of the United States Air Force', 'List of F-105 units of the United States Air Force']</text><br><text style=color:black>lbl2data_aug_cat_input_text</text>: <text style=color:blue>['list of f - 104 starfighter operators', 'list of united states air force air divisions divisions of the united states air force', 'list of f - 4 phantom ii operators', 'list of b - 57 units of the united states air force united states military aircraft', 'general dynamics f - 16 fighting falcon operators lists of military units and formations by aircraft f - 16 fighting falcon lists of aircraft operators by aircraft type', 'list of f - 15 operators', 'list of f - 100 units of the united states air force military units and formations of the united states air force by equipment united states military aircraft north american', 'list of f - 105 units of the united states air force military units and formations of the united states air force by equipment united states military aircraft']</text><br><br><text style=color:red>data_input_text</text>: <text style=color:green>Paragon Estates, Colorado</text><br><text style=color:red>lbl2data_input_text</text>: <text style=color:green>['Colorado metropolitan areas', 'Front Range Urban Corridor', 'North Central Colorado Urban Area', 'Outline of Colorado', 'Index of Colorado-related articles', 'State of Colorado', 'Colorado cities and towns', 'Colorado counties', 'Denver-Aurora-Boulder, CO Combined Statistical Area', 'Southern Rocky Mountain Front']</text><br><text style=color:red>lbl2data_aug_cat_input_text</text>: <text style=color:green>['colorado metropolitan areas lists of metropolitan areas lists of places in colorado metropolitan areas of colorado', 'front range urban corridor metropolitan areas of wyoming metropolitan areas of colorado regions of the united states megapolitan areas of the united states', 'north central colorado urban area metropolitan areas of colorado', 'outline of colorado colorado outlines of u. s. states colorado - related lists', 'index of colorado - related articles indexes of topics by u. s. state colorado - related lists colorado', 'state of colorado', 'colorado cities and towns', 'colorado counties', 'denver - aurora - boulder, co combined statistical area', 'southern rocky mountain front regions of the united states metropolitan areas of colorado metropolitan areas of wyoming metropolitan areas of new mexico megapolitan areas of the united states']</text><br><text style=color:black>data_input_text</text>: <text style=color:blue>Paragon Estates, Colorado</text><br><text style=color:black>lbl2data_input_text</text>: <text style=color:blue>['Colorado metropolitan areas', 'Front Range Urban Corridor', 'North Central Colorado Urban Area', 'Outline of Colorado', 'Index of Colorado-related articles', 'State of Colorado', 'Colorado cities and towns', 'Colorado counties', 'Denver-Aurora-Boulder, CO Combined Statistical Area', 'Boulder County, Colorado', 'Boulder, CO Metropolitan Statistical Area', 'Colorado census designated places']</text><br><text style=color:black>lbl2data_aug_cat_input_text</text>: <text style=color:blue>['colorado metropolitan areas lists of metropolitan areas lists of places in colorado metropolitan areas of colorado', 'front range urban corridor metropolitan areas of wyoming metropolitan areas of colorado regions of the united states megapolitan areas of the united states', 'north central colorado urban area metropolitan areas of colorado', 'outline of colorado colorado outlines of u. s. states colorado - related lists', 'index of colorado - related articles indexes of topics by u. s. state colorado - related lists colorado', 'state of colorado', 'colorado cities and towns', 'colorado counties', 'denver - aurora - boulder, co combined statistical area', 'boulder county, colorado metropolitan areas of colorado boulder county, colorado colorado counties populated places established in 1861 1861 establishments in colorado territory', 'boulder, co metropolitan statistical area', 'colorado census designated places']</text>"
      ],
      "text/plain": [
       "<IPython.core.display.HTML object>"
      ]
     },
     "execution_count": null,
     "metadata": {},
     "output_type": "execute_result"
    }
   ],
   "source": [
    "HTML(display_text(pred_dset, test_dset, idxs))"
   ]
  },
  {
   "cell_type": "markdown",
   "id": "a62aaa22-33ee-4fc3-8456-cdf0b863ea9f",
   "metadata": {},
   "source": [
    "## `Zero-shot`"
   ]
  },
  {
   "cell_type": "code",
   "execution_count": null,
   "id": "3cd11b78-ffa2-47aa-8ee0-98e2c4be6df0",
   "metadata": {},
   "outputs": [],
   "source": [
    "from xcai.data import MainXCData,MainXCDataset,MetaXCData,MetaXCDataset,XCDataset,BaseXCDataBlock,XCDataBlock"
   ]
  },
  {
   "cell_type": "code",
   "execution_count": null,
   "id": "d9061e71-942d-475d-98fd-b922a49befb5",
   "metadata": {},
   "outputs": [],
   "source": [
    "data_dir = '/home/scai/phd/aiz218323/Projects/XC_NLG/data/(mapped)LF-WikiSeeAlsoTitles-320K'\n",
    "data_cfg = {\n",
    "    'info_column_names': ['identifier', 'input_text'],\n",
    "    'use_tokenizer': True,\n",
    "    'tokenizer': 'bert-base-uncased',\n",
    "    'tokenization_column': 'input_text',\n",
    "    'max_sequence_length': 32,\n",
    "}"
   ]
  },
  {
   "cell_type": "code",
   "execution_count": null,
   "id": "b564782d-c461-4ce5-93cc-c53bfa0693fd",
   "metadata": {},
   "outputs": [],
   "source": [
    "test_cfg = {\n",
    "    'data_lbl': f'{data_dir}/tst.0_X_Y.txt',\n",
    "    'data_info': f'{data_dir}/raw_data/test.0.raw.txt',\n",
    "    'lbl_info': f'{data_dir}/raw_data/label.0.raw.txt',\n",
    "}"
   ]
  },
  {
   "cell_type": "code",
   "execution_count": null,
   "id": "32e792ea-fcc0-416d-bd52-99ce791d66df",
   "metadata": {},
   "outputs": [],
   "source": [
    "test_data = MainXCData.from_file(**test_cfg, **data_cfg)\n",
    "test_main = MainXCDataset(**test_data)"
   ]
  },
  {
   "cell_type": "markdown",
   "id": "d220434d-cf40-4e3d-8f9b-e4642860c7da",
   "metadata": {},
   "source": [
    "### Metadata re-mapping"
   ]
  },
  {
   "cell_type": "code",
   "execution_count": null,
   "id": "26fca73a-df20-4e9f-a5b3-a4667ebc08f3",
   "metadata": {},
   "outputs": [],
   "source": [
    "train_id, train_idx, zero_train_idx = np.intersect1d(block.train.dset.data.data_info['identifier'], \n",
    "                                                     test_dset.data_info['identifier'], return_indices=True)"
   ]
  },
  {
   "cell_type": "code",
   "execution_count": null,
   "id": "05a7ac83-756e-43f1-b83b-628988a28246",
   "metadata": {},
   "outputs": [],
   "source": [
    "train_meta = block.train.dset.meta['hlk_meta'].data_meta[train_idx]"
   ]
  },
  {
   "cell_type": "code",
   "execution_count": null,
   "id": "77a0995a-897a-440e-8dc1-ebbdc6cb77e6",
   "metadata": {},
   "outputs": [],
   "source": [
    "test_id, test_idx, zero_test_idx = np.intersect1d(block.test.dset.data.data_info['identifier'], \n",
    "                                                  test_dset.data_info['identifier'], return_indices=True)"
   ]
  },
  {
   "cell_type": "code",
   "execution_count": null,
   "id": "b7248a64-54f0-4d96-9d3a-b7be0c680610",
   "metadata": {},
   "outputs": [],
   "source": [
    "test_meta = block.test.dset.meta['hlk_meta'].data_meta[test_idx]"
   ]
  },
  {
   "cell_type": "code",
   "execution_count": null,
   "id": "f362ca31-92d8-4afe-b6f2-3d34ca6c72b5",
   "metadata": {},
   "outputs": [],
   "source": []
  },
  {
   "cell_type": "code",
   "execution_count": null,
   "id": "9da75a0b-fec0-4d9a-a7cb-677d6de236fb",
   "metadata": {},
   "outputs": [],
   "source": [
    "zero_meta = sparse.csr_matrix((test_dset.n_data, block.train.dset.meta['hlk_meta'].n_meta))"
   ]
  },
  {
   "cell_type": "code",
   "execution_count": null,
   "id": "756a015a-d116-42f3-b5d5-efcc9186d241",
   "metadata": {},
   "outputs": [
    {
     "data": {
      "application/vnd.jupyter.widget-view+json": {
       "model_id": "97f78552fa3b4201b557a2ae18dac6b8",
       "version_major": 2,
       "version_minor": 0
      },
      "text/plain": [
       "  0%|          | 0/39079 [00:00<?, ?it/s]"
      ]
     },
     "metadata": {},
     "output_type": "display_data"
    },
    {
     "name": "stderr",
     "output_type": "stream",
     "text": [
      "/scratch/scai/phd/aiz218323/anaconda3/envs/xc_nlg/lib/python3.9/site-packages/scipy/sparse/_index.py:136: SparseEfficiencyWarning: Changing the sparsity structure of a csr_matrix is expensive. lil_matrix is more efficient.\n",
      "  self._set_arrayXarray_sparse(i, j, x)\n"
     ]
    }
   ],
   "source": [
    "for i in tqdm(range(len(zero_train_idx))): zero_meta[zero_train_idx[i]] = train_meta[i]"
   ]
  },
  {
   "cell_type": "code",
   "execution_count": null,
   "id": "b5606c6c-8cb5-4a62-b710-3b08a572a0c9",
   "metadata": {},
   "outputs": [
    {
     "data": {
      "application/vnd.jupyter.widget-view+json": {
       "model_id": "40a9349ec9ee442a83e40b026004e291",
       "version_major": 2,
       "version_minor": 0
      },
      "text/plain": [
       "  0%|          | 0/22982 [00:00<?, ?it/s]"
      ]
     },
     "metadata": {},
     "output_type": "display_data"
    }
   ],
   "source": [
    "for i in tqdm(range(len(zero_test_idx))): zero_meta[zero_test_idx[i]] = test_meta[i]"
   ]
  },
  {
   "cell_type": "code",
   "execution_count": null,
   "id": "64bf9d4a-e607-4c78-945a-bf693e0f32bb",
   "metadata": {},
   "outputs": [
    {
     "data": {
      "text/plain": [
       "<127082x2458399 sparse matrix of type '<class 'numpy.float64'>'\n",
       "\twith 2170055 stored elements in Compressed Sparse Row format>"
      ]
     },
     "execution_count": null,
     "metadata": {},
     "output_type": "execute_result"
    }
   ],
   "source": [
    "zero_meta"
   ]
  },
  {
   "cell_type": "code",
   "execution_count": null,
   "id": "14c73606-ef5b-45bb-a95c-12ff4d32e311",
   "metadata": {},
   "outputs": [],
   "source": []
  },
  {
   "cell_type": "code",
   "execution_count": null,
   "id": "95c0e123-f543-49bf-85fc-1b45fe32f01a",
   "metadata": {},
   "outputs": [],
   "source": [
    "import xclib.data.data_utils as du"
   ]
  },
  {
   "cell_type": "code",
   "execution_count": null,
   "id": "d62e1d65-eb42-413d-8130-53c69cfb6ddf",
   "metadata": {},
   "outputs": [],
   "source": [
    "fname = f'{data_dir}/hyper_link_tst_0_X_Y.txt'\n",
    "du.write_sparse_file(zero_meta, fname)"
   ]
  },
  {
   "cell_type": "code",
   "execution_count": null,
   "id": "2fab21a3-d33b-4f26-8af4-3d90c4d8aa8f",
   "metadata": {},
   "outputs": [],
   "source": []
  },
  {
   "cell_type": "markdown",
   "id": "82ee48c9-9932-487c-a8ad-868c6bcb941b",
   "metadata": {},
   "source": [
    "### Load metadata"
   ]
  },
  {
   "cell_type": "code",
   "execution_count": null,
   "id": "9d86c9b6-133f-40f2-bde9-e17ebf9027a5",
   "metadata": {},
   "outputs": [
    {
     "name": "stderr",
     "output_type": "stream",
     "text": [
      "/home/scai/phd/aiz218323/.local/lib/python3.9/site-packages/xclib-0.97-py3.9-linux-x86_64.egg/xclib/data/data_utils.py:263: UserWarning: Header mis-match from inferred shape!\n",
      "  warnings.warn(\"Header mis-match from inferred shape!\")\n"
     ]
    }
   ],
   "source": [
    "meta_cfg = {\n",
    "    'prefix': 'cat',\n",
    "    'data_meta': f'{data_dir}/category_tst_0_X_Y.txt',\n",
    "    'lbl_meta': f'{data_dir}/category_lbl_0_X_Y.txt',\n",
    "    'meta_info': f'{data_dir}/raw_data/category.raw.txt',\n",
    "}\n",
    "meta_data = MetaXCData.from_file(**meta_cfg, **data_cfg)"
   ]
  },
  {
   "cell_type": "code",
   "execution_count": null,
   "id": "fe173232-b4c7-4d1f-8c25-c07fd9e53db0",
   "metadata": {},
   "outputs": [],
   "source": [
    "meta_main = MetaXCDataset(**meta_data)"
   ]
  },
  {
   "cell_type": "code",
   "execution_count": null,
   "id": "9107ee5a-3e88-48bb-8d87-43682f0cbf99",
   "metadata": {},
   "outputs": [],
   "source": [
    "test_dset = XCDataset(test_main, cat_meta=meta_main)"
   ]
  },
  {
   "cell_type": "code",
   "execution_count": null,
   "id": "10ef9267-c2dc-42ad-ad25-a59f087eee49",
   "metadata": {},
   "outputs": [],
   "source": []
  },
  {
   "cell_type": "code",
   "execution_count": null,
   "id": "d66b5acd-767f-423b-b690-630eea3e2507",
   "metadata": {},
   "outputs": [],
   "source": [
    "idx = np.where(test_block.test.dset.meta.cat_meta.data_meta.getnnz(axis=1) > 0)[0]\n",
    "sampled_test_dset = test_dset._getitems(idx)"
   ]
  },
  {
   "cell_type": "code",
   "execution_count": null,
   "id": "ff331620-460b-4dd3-a36a-256e3c2727ca",
   "metadata": {},
   "outputs": [],
   "source": []
  },
  {
   "cell_type": "code",
   "execution_count": null,
   "id": "04da452b-9ba9-471b-b5ac-7b45c0c42225",
   "metadata": {},
   "outputs": [],
   "source": [
    "test_base_block = BaseXCDataBlock(sampled_test_dset, collate_fn=block.collator)\n",
    "test_block = XCDataBlock(test=test_base_block)"
   ]
  },
  {
   "cell_type": "code",
   "execution_count": null,
   "id": "7736e4ea-4b73-4373-b99d-9eafa6ef78b8",
   "metadata": {},
   "outputs": [
    {
     "data": {
      "text/html": [
       "\n",
       "<style>\n",
       "    /* Turns off some styling */\n",
       "    progress {\n",
       "        /* gets rid of default border in Firefox and Opera. */\n",
       "        border: none;\n",
       "        /* Needs to be in here for Safari polyfill so background images work as expected. */\n",
       "        background-size: auto;\n",
       "    }\n",
       "    progress:not([value]), progress:not([value])::-webkit-progress-bar {\n",
       "        background: repeating-linear-gradient(45deg, #7e7e7e, #7e7e7e 10px, #5c5c5c 10px, #5c5c5c 20px);\n",
       "    }\n",
       "    .progress-bar-interrupted, .progress-bar-interrupted::-webkit-progress-bar {\n",
       "        background: #F44336;\n",
       "    }\n",
       "</style>\n"
      ],
      "text/plain": [
       "<IPython.core.display.HTML object>"
      ]
     },
     "metadata": {},
     "output_type": "display_data"
    },
    {
     "data": {
      "text/html": [],
      "text/plain": [
       "<IPython.core.display.HTML object>"
      ]
     },
     "metadata": {},
     "output_type": "display_data"
    },
    {
     "data": {
      "text/html": [
       "\n",
       "<style>\n",
       "    /* Turns off some styling */\n",
       "    progress {\n",
       "        /* gets rid of default border in Firefox and Opera. */\n",
       "        border: none;\n",
       "        /* Needs to be in here for Safari polyfill so background images work as expected. */\n",
       "        background-size: auto;\n",
       "    }\n",
       "    progress:not([value]), progress:not([value])::-webkit-progress-bar {\n",
       "        background: repeating-linear-gradient(45deg, #7e7e7e, #7e7e7e 10px, #5c5c5c 10px, #5c5c5c 20px);\n",
       "    }\n",
       "    .progress-bar-interrupted, .progress-bar-interrupted::-webkit-progress-bar {\n",
       "        background: #F44336;\n",
       "    }\n",
       "</style>\n"
      ],
      "text/plain": [
       "<IPython.core.display.HTML object>"
      ]
     },
     "metadata": {},
     "output_type": "display_data"
    },
    {
     "data": {
      "text/html": [
       "\n",
       "    <div>\n",
       "      <progress value='61802' class='' max='61802' style='width:300px; height:20px; vertical-align: middle;'></progress>\n",
       "      100.00% [61802/61802 00:02&lt;00:00]\n",
       "    </div>\n",
       "    "
      ],
      "text/plain": [
       "<IPython.core.display.HTML object>"
      ]
     },
     "metadata": {},
     "output_type": "display_data"
    },
    {
     "data": {
      "text/html": [
       "\n",
       "<style>\n",
       "    /* Turns off some styling */\n",
       "    progress {\n",
       "        /* gets rid of default border in Firefox and Opera. */\n",
       "        border: none;\n",
       "        /* Needs to be in here for Safari polyfill so background images work as expected. */\n",
       "        background-size: auto;\n",
       "    }\n",
       "    progress:not([value]), progress:not([value])::-webkit-progress-bar {\n",
       "        background: repeating-linear-gradient(45deg, #7e7e7e, #7e7e7e 10px, #5c5c5c 10px, #5c5c5c 20px);\n",
       "    }\n",
       "    .progress-bar-interrupted, .progress-bar-interrupted::-webkit-progress-bar {\n",
       "        background: #F44336;\n",
       "    }\n",
       "</style>\n"
      ],
      "text/plain": [
       "<IPython.core.display.HTML object>"
      ]
     },
     "metadata": {},
     "output_type": "display_data"
    },
    {
     "data": {
      "text/html": [
       "\n",
       "    <div>\n",
       "      <progress value='61802' class='' max='61802' style='width:300px; height:20px; vertical-align: middle;'></progress>\n",
       "      100.00% [61802/61802 00:02&lt;00:00]\n",
       "    </div>\n",
       "    "
      ],
      "text/plain": [
       "<IPython.core.display.HTML object>"
      ]
     },
     "metadata": {},
     "output_type": "display_data"
    },
    {
     "data": {
      "text/html": [
       "\n",
       "<style>\n",
       "    /* Turns off some styling */\n",
       "    progress {\n",
       "        /* gets rid of default border in Firefox and Opera. */\n",
       "        border: none;\n",
       "        /* Needs to be in here for Safari polyfill so background images work as expected. */\n",
       "        background-size: auto;\n",
       "    }\n",
       "    progress:not([value]), progress:not([value])::-webkit-progress-bar {\n",
       "        background: repeating-linear-gradient(45deg, #7e7e7e, #7e7e7e 10px, #5c5c5c 10px, #5c5c5c 20px);\n",
       "    }\n",
       "    .progress-bar-interrupted, .progress-bar-interrupted::-webkit-progress-bar {\n",
       "        background: #F44336;\n",
       "    }\n",
       "</style>\n"
      ],
      "text/plain": [
       "<IPython.core.display.HTML object>"
      ]
     },
     "metadata": {},
     "output_type": "display_data"
    },
    {
     "data": {
      "text/html": [
       "\n",
       "    <div>\n",
       "      <progress value='61802' class='' max='61802' style='width:300px; height:20px; vertical-align: middle;'></progress>\n",
       "      100.00% [61802/61802 00:02&lt;00:00]\n",
       "    </div>\n",
       "    "
      ],
      "text/plain": [
       "<IPython.core.display.HTML object>"
      ]
     },
     "metadata": {},
     "output_type": "display_data"
    }
   ],
   "source": [
    "test_block = AugmentMetaInputIdsTfm.apply(test_block, 'cat_meta', 'data', 32, True)"
   ]
  },
  {
   "cell_type": "code",
   "execution_count": null,
   "id": "107a6e0a-cc15-4181-8300-27c45f25bc6a",
   "metadata": {},
   "outputs": [],
   "source": [
    "test_block.test.dset.data.data_info['input_ids'] = test_block.test.dset.data.data_info['input_ids_aug_cat']\n",
    "test_block.test.dset.data.data_info['attention_mask'] = test_block.test.dset.data.data_info['attention_mask_aug_cat']"
   ]
  },
  {
   "cell_type": "code",
   "execution_count": null,
   "id": "80c04efb-46e8-415c-9d14-866fa28c76bf",
   "metadata": {},
   "outputs": [
    {
     "data": {
      "text/plain": [
       "5.950017798776739"
      ]
     },
     "execution_count": null,
     "metadata": {},
     "output_type": "execute_result"
    }
   ],
   "source": [
    "test_block.test.dset.meta.cat_meta.data_meta.getnnz(axis=1).mean()"
   ]
  },
  {
   "cell_type": "code",
   "execution_count": null,
   "id": "de96679d-dcd9-4c76-9518-b49ef362ac08",
   "metadata": {},
   "outputs": [
    {
     "data": {
      "text/plain": [
       "27.245461311931653"
      ]
     },
     "execution_count": null,
     "metadata": {},
     "output_type": "execute_result"
    }
   ],
   "source": [
    "np.mean([len(o) for o in test_block.test.dset.data.data_info['attention_mask']])"
   ]
  },
  {
   "cell_type": "code",
   "execution_count": null,
   "id": "40a94a7d-7ca2-4ab3-a57e-947fc58d1846",
   "metadata": {},
   "outputs": [],
   "source": []
  },
  {
   "cell_type": "code",
   "execution_count": null,
   "id": "efd08c09-c887-4a0f-87c7-6d465be9a2ed",
   "metadata": {},
   "outputs": [
    {
     "data": {
      "text/plain": [
       "{'data_input_text': 'Paraguay',\n",
       " 'lbl2data_input_text': ['Outline of Paraguay'],\n",
       " 'cat2data_input_text': ['Landlocked countries',\n",
       "  'Member states of the United Nations',\n",
       "  'Republics',\n",
       "  'Former Spanish colonies',\n",
       "  'Spanish-speaking countries and territories',\n",
       "  'Countries in South America',\n",
       "  'Member states of Mercosur',\n",
       "  'States and territories established in 1811',\n",
       "  'Paraguay',\n",
       "  '1811 establishments in South America'],\n",
       " 'cat2lbl2data_input_text': [[]]}"
      ]
     },
     "execution_count": null,
     "metadata": {},
     "output_type": "execute_result"
    }
   ],
   "source": [
    "from xcai.analysis import *\n",
    "TextColumns(test_dset)[2000]"
   ]
  },
  {
   "cell_type": "markdown",
   "id": "f15e5872-0593-48ba-bd1d-38f911e96953",
   "metadata": {},
   "source": [
    "### Inference"
   ]
  },
  {
   "cell_type": "code",
   "execution_count": null,
   "id": "a8fe2037-03f7-4391-ad9a-b58d641eac71",
   "metadata": {},
   "outputs": [],
   "source": [
    "mdir = ['59-ngame-ep-for-wikiseealso-with-cls-for-dr-1-1', '67-ngame-ep-for-wikiseealso-with-input-concatenation-1-1',\n",
    "        '67-ngame-ep-for-wikiseealso-with-input-concatenation-1-2', '67-ngame-ep-for-wikiseealso-with-input-concatenation-1-3']"
   ]
  },
  {
   "cell_type": "code",
   "execution_count": null,
   "id": "60782619-c4cb-49a1-a9a7-134caebb2dd0",
   "metadata": {},
   "outputs": [],
   "source": [
    "args = XCLearningArguments(\n",
    "    output_dir=f'/home/scai/phd/aiz218323/scratch/outputs/{mdir[1]}',\n",
    "    logging_first_step=True,\n",
    "    per_device_train_batch_size=800,\n",
    "    per_device_eval_batch_size=800,\n",
    "    representation_num_beams=200,\n",
    "    representation_accumulation_steps=100,\n",
    "    predict_with_representation=True,\n",
    "    representation_search_type='BRUTEFORCE',\n",
    "    target_indices_key='plbl2data_idx',\n",
    "    target_pointer_key='plbl2data_data2ptr',\n",
    "    use_encoder_parallel=True,\n",
    "    fp16=True,\n",
    ")"
   ]
  },
  {
   "cell_type": "code",
   "execution_count": null,
   "id": "a067334f-a316-46c6-a70a-d4b0956f66a9",
   "metadata": {},
   "outputs": [],
   "source": []
  },
  {
   "cell_type": "code",
   "execution_count": null,
   "id": "6649b09e-6787-4e2d-9678-2c0932c94a29",
   "metadata": {},
   "outputs": [],
   "source": [
    "metric = PrecRecl(test_block.test.dset.n_lbl, test_block.test.dset.data.data_lbl_filterer, prop=block.train.dset.data.data_lbl,\n",
    "                  pk=10, rk=200, rep_pk=[1, 3, 5, 10], rep_rk=[10, 100, 200])"
   ]
  },
  {
   "cell_type": "code",
   "execution_count": null,
   "id": "9feaafd2-e67b-40b3-9aa0-5ba3e3210387",
   "metadata": {},
   "outputs": [],
   "source": [
    "output_dir = f\"/home/scai/phd/aiz218323/scratch/outputs/{os.path.basename(args.output_dir)}\"\n",
    "mname = f'{output_dir}/{os.path.basename(get_best_model(output_dir))}'"
   ]
  },
  {
   "cell_type": "code",
   "execution_count": null,
   "id": "dc7c90b8-1216-40e2-b627-8b2d9f3c0c4a",
   "metadata": {},
   "outputs": [
    {
     "name": "stderr",
     "output_type": "stream",
     "text": [
      "Some weights of DBT009 were not initialized from the model checkpoint at sentence-transformers/msmarco-distilbert-base-v4 and are newly initialized: ['encoder.dr_layer_norm.bias', 'encoder.dr_layer_norm.weight', 'encoder.dr_projector.bias', 'encoder.dr_projector.weight', 'encoder.dr_transform.bias', 'encoder.dr_transform.weight']\n",
      "You should probably TRAIN this model on a down-stream task to be able to use it for predictions and inference.\n"
     ]
    }
   ],
   "source": [
    "bsz = max(args.per_device_train_batch_size, args.per_device_eval_batch_size)*torch.cuda.device_count()\n",
    "\n",
    "model = DBT009.from_pretrained('sentence-transformers/msmarco-distilbert-base-v4', bsz=bsz, tn_targ=5000, margin=0.3, tau=0.1,\n",
    "                               n_negatives=10, apply_softmax=True, use_encoder_parallel=True)"
   ]
  },
  {
   "cell_type": "code",
   "execution_count": null,
   "id": "70288ee7-62f4-41f1-a3b3-54e0d8dc5224",
   "metadata": {},
   "outputs": [],
   "source": [
    "from safetensors import safe_open\n",
    "\n",
    "model_weight_file = f'{mname}/model.safetensors'\n",
    "\n",
    "model_weights = {}\n",
    "with safe_open(model_weight_file, framework=\"pt\") as file:\n",
    "    for k in file.keys(): model_weights[k] = file.get_tensor(k)\n",
    "        "
   ]
  },
  {
   "cell_type": "code",
   "execution_count": null,
   "id": "91c41618-a2b7-4bdb-a68d-2d7e94b26d90",
   "metadata": {},
   "outputs": [
    {
     "data": {
      "text/plain": [
       "_IncompatibleKeys(missing_keys=['distilbert.embeddings.word_embeddings.weight', 'distilbert.embeddings.position_embeddings.weight', 'distilbert.embeddings.LayerNorm.weight', 'distilbert.embeddings.LayerNorm.bias', 'distilbert.transformer.layer.0.attention.q_lin.weight', 'distilbert.transformer.layer.0.attention.q_lin.bias', 'distilbert.transformer.layer.0.attention.k_lin.weight', 'distilbert.transformer.layer.0.attention.k_lin.bias', 'distilbert.transformer.layer.0.attention.v_lin.weight', 'distilbert.transformer.layer.0.attention.v_lin.bias', 'distilbert.transformer.layer.0.attention.out_lin.weight', 'distilbert.transformer.layer.0.attention.out_lin.bias', 'distilbert.transformer.layer.0.sa_layer_norm.weight', 'distilbert.transformer.layer.0.sa_layer_norm.bias', 'distilbert.transformer.layer.0.ffn.lin1.weight', 'distilbert.transformer.layer.0.ffn.lin1.bias', 'distilbert.transformer.layer.0.ffn.lin2.weight', 'distilbert.transformer.layer.0.ffn.lin2.bias', 'distilbert.transformer.layer.0.output_layer_norm.weight', 'distilbert.transformer.layer.0.output_layer_norm.bias', 'distilbert.transformer.layer.1.attention.q_lin.weight', 'distilbert.transformer.layer.1.attention.q_lin.bias', 'distilbert.transformer.layer.1.attention.k_lin.weight', 'distilbert.transformer.layer.1.attention.k_lin.bias', 'distilbert.transformer.layer.1.attention.v_lin.weight', 'distilbert.transformer.layer.1.attention.v_lin.bias', 'distilbert.transformer.layer.1.attention.out_lin.weight', 'distilbert.transformer.layer.1.attention.out_lin.bias', 'distilbert.transformer.layer.1.sa_layer_norm.weight', 'distilbert.transformer.layer.1.sa_layer_norm.bias', 'distilbert.transformer.layer.1.ffn.lin1.weight', 'distilbert.transformer.layer.1.ffn.lin1.bias', 'distilbert.transformer.layer.1.ffn.lin2.weight', 'distilbert.transformer.layer.1.ffn.lin2.bias', 'distilbert.transformer.layer.1.output_layer_norm.weight', 'distilbert.transformer.layer.1.output_layer_norm.bias', 'distilbert.transformer.layer.2.attention.q_lin.weight', 'distilbert.transformer.layer.2.attention.q_lin.bias', 'distilbert.transformer.layer.2.attention.k_lin.weight', 'distilbert.transformer.layer.2.attention.k_lin.bias', 'distilbert.transformer.layer.2.attention.v_lin.weight', 'distilbert.transformer.layer.2.attention.v_lin.bias', 'distilbert.transformer.layer.2.attention.out_lin.weight', 'distilbert.transformer.layer.2.attention.out_lin.bias', 'distilbert.transformer.layer.2.sa_layer_norm.weight', 'distilbert.transformer.layer.2.sa_layer_norm.bias', 'distilbert.transformer.layer.2.ffn.lin1.weight', 'distilbert.transformer.layer.2.ffn.lin1.bias', 'distilbert.transformer.layer.2.ffn.lin2.weight', 'distilbert.transformer.layer.2.ffn.lin2.bias', 'distilbert.transformer.layer.2.output_layer_norm.weight', 'distilbert.transformer.layer.2.output_layer_norm.bias', 'distilbert.transformer.layer.3.attention.q_lin.weight', 'distilbert.transformer.layer.3.attention.q_lin.bias', 'distilbert.transformer.layer.3.attention.k_lin.weight', 'distilbert.transformer.layer.3.attention.k_lin.bias', 'distilbert.transformer.layer.3.attention.v_lin.weight', 'distilbert.transformer.layer.3.attention.v_lin.bias', 'distilbert.transformer.layer.3.attention.out_lin.weight', 'distilbert.transformer.layer.3.attention.out_lin.bias', 'distilbert.transformer.layer.3.sa_layer_norm.weight', 'distilbert.transformer.layer.3.sa_layer_norm.bias', 'distilbert.transformer.layer.3.ffn.lin1.weight', 'distilbert.transformer.layer.3.ffn.lin1.bias', 'distilbert.transformer.layer.3.ffn.lin2.weight', 'distilbert.transformer.layer.3.ffn.lin2.bias', 'distilbert.transformer.layer.3.output_layer_norm.weight', 'distilbert.transformer.layer.3.output_layer_norm.bias', 'distilbert.transformer.layer.4.attention.q_lin.weight', 'distilbert.transformer.layer.4.attention.q_lin.bias', 'distilbert.transformer.layer.4.attention.k_lin.weight', 'distilbert.transformer.layer.4.attention.k_lin.bias', 'distilbert.transformer.layer.4.attention.v_lin.weight', 'distilbert.transformer.layer.4.attention.v_lin.bias', 'distilbert.transformer.layer.4.attention.out_lin.weight', 'distilbert.transformer.layer.4.attention.out_lin.bias', 'distilbert.transformer.layer.4.sa_layer_norm.weight', 'distilbert.transformer.layer.4.sa_layer_norm.bias', 'distilbert.transformer.layer.4.ffn.lin1.weight', 'distilbert.transformer.layer.4.ffn.lin1.bias', 'distilbert.transformer.layer.4.ffn.lin2.weight', 'distilbert.transformer.layer.4.ffn.lin2.bias', 'distilbert.transformer.layer.4.output_layer_norm.weight', 'distilbert.transformer.layer.4.output_layer_norm.bias', 'distilbert.transformer.layer.5.attention.q_lin.weight', 'distilbert.transformer.layer.5.attention.q_lin.bias', 'distilbert.transformer.layer.5.attention.k_lin.weight', 'distilbert.transformer.layer.5.attention.k_lin.bias', 'distilbert.transformer.layer.5.attention.v_lin.weight', 'distilbert.transformer.layer.5.attention.v_lin.bias', 'distilbert.transformer.layer.5.attention.out_lin.weight', 'distilbert.transformer.layer.5.attention.out_lin.bias', 'distilbert.transformer.layer.5.sa_layer_norm.weight', 'distilbert.transformer.layer.5.sa_layer_norm.bias', 'distilbert.transformer.layer.5.ffn.lin1.weight', 'distilbert.transformer.layer.5.ffn.lin1.bias', 'distilbert.transformer.layer.5.ffn.lin2.weight', 'distilbert.transformer.layer.5.ffn.lin2.bias', 'distilbert.transformer.layer.5.output_layer_norm.weight', 'distilbert.transformer.layer.5.output_layer_norm.bias'], unexpected_keys=[])"
      ]
     },
     "execution_count": null,
     "metadata": {},
     "output_type": "execute_result"
    }
   ],
   "source": [
    "model.load_state_dict(model_weights, strict=False)"
   ]
  },
  {
   "cell_type": "code",
   "execution_count": null,
   "id": "6d1f8dcb-2847-4456-a2e9-6e6dca6b5490",
   "metadata": {},
   "outputs": [
    {
     "name": "stderr",
     "output_type": "stream",
     "text": [
      "/scratch/scai/phd/aiz218323/anaconda3/envs/xc_nlg/lib/python3.9/site-packages/accelerate/accelerator.py:432: FutureWarning: Passing the following arguments to `Accelerator` is deprecated and will be removed in version 1.0 of Accelerate: dict_keys(['dispatch_batches', 'split_batches', 'even_batches', 'use_seedable_sampler']). Please pass an `accelerate.DataLoaderConfiguration` instead: \n",
      "dataloader_config = DataLoaderConfiguration(dispatch_batches=None, split_batches=False, even_batches=True, use_seedable_sampler=True)\n",
      "  warnings.warn(\n",
      "Detected kernel version 3.10.0, which is below the recommended minimum of 5.5.0; this can cause the process to hang. It is recommended to upgrade the kernel to the minimum version or higher.\n"
     ]
    }
   ],
   "source": [
    "learn = XCLearner(\n",
    "    model=model, \n",
    "    args=args,\n",
    "    eval_dataset=test_block.test.dset,\n",
    "    data_collator=block.collator,\n",
    "    compute_metrics=metric,\n",
    ")"
   ]
  },
  {
   "cell_type": "code",
   "execution_count": null,
   "id": "55745468-3f64-4efd-a5f2-530e31942734",
   "metadata": {},
   "outputs": [],
   "source": []
  },
  {
   "cell_type": "code",
   "execution_count": null,
   "id": "44b81bb6-7d78-4770-b691-52d8e5ed59e2",
   "metadata": {},
   "outputs": [
    {
     "data": {
      "application/vnd.jupyter.widget-view+json": {
       "model_id": "1353fdd9300c4de4ae18eb9a5b72bb65",
       "version_major": 2,
       "version_minor": 0
      },
      "text/plain": [
       "  0%|          | 0/53 [00:00<?, ?it/s]"
      ]
     },
     "metadata": {},
     "output_type": "display_data"
    },
    {
     "data": {
      "text/html": [],
      "text/plain": [
       "<IPython.core.display.HTML object>"
      ]
     },
     "metadata": {},
     "output_type": "display_data"
    }
   ],
   "source": [
    "o = learn.predict(test_block.test.dset)"
   ]
  },
  {
   "cell_type": "code",
   "execution_count": null,
   "id": "3b3654db-3d6c-45a3-be78-1801e1755372",
   "metadata": {},
   "outputs": [
    {
     "data": {
      "text/html": [
       "<div>\n",
       "<style scoped>\n",
       "    .dataframe tbody tr th:only-of-type {\n",
       "        vertical-align: middle;\n",
       "    }\n",
       "\n",
       "    .dataframe tbody tr th {\n",
       "        vertical-align: top;\n",
       "    }\n",
       "\n",
       "    .dataframe thead th {\n",
       "        text-align: right;\n",
       "    }\n",
       "</style>\n",
       "<table border=\"1\" class=\"dataframe\">\n",
       "  <thead>\n",
       "    <tr style=\"text-align: right;\">\n",
       "      <th></th>\n",
       "      <th>P@1</th>\n",
       "      <th>P@3</th>\n",
       "      <th>P@5</th>\n",
       "      <th>P@10</th>\n",
       "      <th>N@1</th>\n",
       "      <th>N@3</th>\n",
       "      <th>N@5</th>\n",
       "      <th>N@10</th>\n",
       "      <th>PSP@1</th>\n",
       "      <th>PSP@3</th>\n",
       "      <th>PSP@5</th>\n",
       "      <th>PSP@10</th>\n",
       "      <th>PSN@1</th>\n",
       "      <th>PSN@3</th>\n",
       "      <th>PSN@5</th>\n",
       "      <th>PSN@10</th>\n",
       "      <th>R@10</th>\n",
       "      <th>R@100</th>\n",
       "      <th>R@200</th>\n",
       "      <th>loss</th>\n",
       "      <th>runtime</th>\n",
       "      <th>samples_per_second</th>\n",
       "      <th>steps_per_second</th>\n",
       "    </tr>\n",
       "  </thead>\n",
       "  <tbody>\n",
       "    <tr>\n",
       "      <th>0</th>\n",
       "      <td>22.1935</td>\n",
       "      <td>11.0703</td>\n",
       "      <td>7.4033</td>\n",
       "      <td>4.136</td>\n",
       "      <td>22.1935</td>\n",
       "      <td>27.1571</td>\n",
       "      <td>28.5588</td>\n",
       "      <td>29.812</td>\n",
       "      <td>21.9039</td>\n",
       "      <td>29.4037</td>\n",
       "      <td>32.5719</td>\n",
       "      <td>36.3034</td>\n",
       "      <td>21.9039</td>\n",
       "      <td>27.1897</td>\n",
       "      <td>28.5877</td>\n",
       "      <td>29.8319</td>\n",
       "      <td>37.772</td>\n",
       "      <td>46.5246</td>\n",
       "      <td>48.7688</td>\n",
       "      <td>0.0302</td>\n",
       "      <td>43.8177</td>\n",
       "      <td>1410.434</td>\n",
       "      <td>0.89</td>\n",
       "    </tr>\n",
       "  </tbody>\n",
       "</table>\n",
       "</div>"
      ],
      "text/plain": [
       "       P@1      P@3     P@5   P@10      N@1      N@3      N@5    N@10  \\\n",
       "0  22.1935  11.0703  7.4033  4.136  22.1935  27.1571  28.5588  29.812   \n",
       "\n",
       "     PSP@1    PSP@3    PSP@5   PSP@10    PSN@1    PSN@3    PSN@5   PSN@10  \\\n",
       "0  21.9039  29.4037  32.5719  36.3034  21.9039  27.1897  28.5877  29.8319   \n",
       "\n",
       "     R@10    R@100    R@200    loss  runtime  samples_per_second  \\\n",
       "0  37.772  46.5246  48.7688  0.0302  43.8177            1410.434   \n",
       "\n",
       "   steps_per_second  \n",
       "0              0.89  "
      ]
     },
     "metadata": {},
     "output_type": "display_data"
    }
   ],
   "source": [
    "display_metric(o.metrics)"
   ]
  },
  {
   "cell_type": "code",
   "execution_count": null,
   "id": "09079a37-330c-4e9f-a606-23153286ea72",
   "metadata": {},
   "outputs": [],
   "source": []
  },
  {
   "cell_type": "code",
   "execution_count": null,
   "id": "d7365f77-fc4b-4e69-87c8-451c5ba5bbd7",
   "metadata": {},
   "outputs": [],
   "source": []
  }
 ],
 "metadata": {
  "kernelspec": {
   "display_name": "python3",
   "language": "python",
   "name": "python3"
  }
 },
 "nbformat": 4,
 "nbformat_minor": 5
}
