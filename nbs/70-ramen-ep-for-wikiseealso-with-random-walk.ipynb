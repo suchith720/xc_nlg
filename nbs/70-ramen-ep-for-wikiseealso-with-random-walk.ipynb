{
 "cells": [
  {
   "cell_type": "markdown",
   "id": "6e3a0f4c-1cfb-4a14-b8f2-fdea31c390ec",
   "metadata": {},
   "source": [
    "# Ramen training"
   ]
  },
  {
   "cell_type": "code",
   "execution_count": null,
   "id": "ddda97e8-16ac-42c7-9ad4-f981e21c0aa2",
   "metadata": {},
   "outputs": [],
   "source": [
    "#| default_exp 70-ramen-ep-for-wikiseealso-with-random-walk-1-0"
   ]
  },
  {
   "cell_type": "code",
   "execution_count": null,
   "id": "3f35d8be-1323-400a-b78e-d0a4d2697801",
   "metadata": {},
   "outputs": [],
   "source": [
    "%load_ext autoreload\n",
    "%autoreload 2\n",
    "\n",
    "from nbdev.showdoc import *\n",
    "import nbdev; nbdev.nbdev_export()"
   ]
  },
  {
   "cell_type": "code",
   "execution_count": null,
   "id": "d685e35e-9a13-4186-b7f4-b831b10086bb",
   "metadata": {},
   "outputs": [
    {
     "name": "stderr",
     "output_type": "stream",
     "text": [
      "comet_ml is installed but `COMET_API_KEY` is not set.\n"
     ]
    }
   ],
   "source": [
    "#| export\n",
    "import os,torch, torch.multiprocessing as mp, pickle\n",
    "from xcai.basics import *\n",
    "from xcai.graph.random_walk import *\n",
    "from xcai.models.PPP0XX import DBT021"
   ]
  },
  {
   "cell_type": "code",
   "execution_count": null,
   "id": "e0c924c6",
   "metadata": {},
   "outputs": [],
   "source": [
    "os.environ['WANDB_MODE'] = 'disabled'"
   ]
  },
  {
   "cell_type": "code",
   "execution_count": null,
   "id": "53768670-9905-46b0-9a6d-b6e91d50b918",
   "metadata": {},
   "outputs": [],
   "source": [
    "#| export\n",
    "os.environ['CUDA_VISIBLE_DEVICES'] = '0,1'\n",
    "os.environ['WANDB_PROJECT']='xc-nlg_xc-nlg_66-radga-dr-ep-for-wikiseealso'"
   ]
  },
  {
   "cell_type": "code",
   "execution_count": null,
   "id": "ba38fcb0-3ebf-4f79-aa20-1a1321b791c5",
   "metadata": {},
   "outputs": [
    {
     "name": "stderr",
     "output_type": "stream",
     "text": [
      "/home/scai/phd/aiz218323/.local/lib/python3.9/site-packages/xclib-0.97-py3.9-linux-x86_64.egg/xclib/data/data_utils.py:263: UserWarning: Header mis-match from inferred shape!\n",
      "  warnings.warn(\"Header mis-match from inferred shape!\")\n"
     ]
    }
   ],
   "source": [
    "data_dir = '/home/scai/phd/aiz218323/Projects/XC/data/'\n",
    "\n",
    "block = XCBlock.from_cfg(data_dir, 'data_meta', tfm='rm', tokenizer='distilbert-base-uncased', \n",
    "                         smp_features=[('lbl2data|cat2lbl2data', 1, 1), ('cat2data', 1, 1)])"
   ]
  },
  {
   "cell_type": "code",
   "execution_count": null,
   "id": "19782d34-6944-45fa-866d-858e87ca69d1",
   "metadata": {},
   "outputs": [],
   "source": [
    "data_dir = '/home/scai/phd/aiz218323/Projects/XC/data/'\n",
    "block = XCBlock.from_cfg(data_dir, 'data', tfm='rm', tokenizer='distilbert-base-uncased', smp_features=[('lbl2data', 1, 1)])"
   ]
  },
  {
   "cell_type": "code",
   "execution_count": null,
   "id": "7516cb2f-8da6-4d87-9282-0f39957b32c2",
   "metadata": {},
   "outputs": [],
   "source": []
  },
  {
   "cell_type": "code",
   "execution_count": null,
   "id": "67f7ff60",
   "metadata": {},
   "outputs": [],
   "source": [
    "#| export\n",
    "pkl_dir = '/home/scai/phd/aiz218323/scratch/datasets/processed'\n",
    "pkl_file = f'{pkl_dir}/wikiseealso_data-meta_distilbert-base-uncased_rm_ramen-corel.pkl'"
   ]
  },
  {
   "cell_type": "code",
   "execution_count": null,
   "id": "602a741e-d150-47b2-a362-008901287b31",
   "metadata": {},
   "outputs": [],
   "source": [
    "pkl_dir = '/home/scai/phd/aiz218323/scratch/datasets'\n",
    "pkl_file = f'{pkl_dir}/processed/wikiseealso_data_distilbert-base-uncased_rm_ngame.pkl'\n",
    "\n",
    "pkl_dir = '/home/scai/phd/aiz218323/scratch/datasets/processed'\n",
    "pkl_file = f'{pkl_dir}/wikiseealso_data-meta_distilbert-base-uncased_rm_ramen-cat.pkl'"
   ]
  },
  {
   "cell_type": "code",
   "execution_count": null,
   "id": "e388446f-b06e-4791-aa6b-919471ba075a",
   "metadata": {},
   "outputs": [],
   "source": []
  },
  {
   "cell_type": "code",
   "execution_count": null,
   "id": "4a19cd80",
   "metadata": {},
   "outputs": [],
   "source": [
    "#| export\n",
    "with open(pkl_file, 'rb') as file: block = pickle.load(file)"
   ]
  },
  {
   "cell_type": "markdown",
   "id": "9163bca1-f69b-46f7-8ca1-1074f8ddbdb6",
   "metadata": {},
   "source": [
    "## Random walk"
   ]
  },
  {
   "cell_type": "code",
   "execution_count": null,
   "id": "f7031ea3-72e0-4826-a0d3-ad40a9dbb9cf",
   "metadata": {},
   "outputs": [
    {
     "name": "stdout",
     "output_type": "stream",
     "text": [
      "Head labels: 82\n",
      "UTILS::TRIMMING::#ROWS(82)\n"
     ]
    },
    {
     "data": {
      "application/vnd.jupyter.widget-view+json": {
       "model_id": "343e7bd04899496db09eef5a5506a776",
       "version_major": 2,
       "version_minor": 0
      },
      "text/plain": [
       "  0%|          | 0/693082 [00:00<?, ?it/s]"
      ]
     },
     "metadata": {},
     "output_type": "display_data"
    }
   ],
   "source": [
    "data_corel = WalkItOff(block.train.dset.data.data_lbl, head_thresh=500, walk_len=400, p_reset=0.8, \n",
    "                       topk=10, batch_size=1024, max_dist=1)"
   ]
  },
  {
   "cell_type": "code",
   "execution_count": null,
   "id": "ba9482f8-8f18-4d52-bd46-fb1d7e3f45f0",
   "metadata": {},
   "outputs": [],
   "source": []
  },
  {
   "cell_type": "code",
   "execution_count": null,
   "id": "0f0b7447-11f0-47ac-9ffe-b460117e77b1",
   "metadata": {},
   "outputs": [
    {
     "name": "stdout",
     "output_type": "stream",
     "text": [
      "Head labels: 0\n",
      "UTILS::TRIMMING::#ROWS(0)\n"
     ]
    },
    {
     "data": {
      "application/vnd.jupyter.widget-view+json": {
       "model_id": "e1c9d3b7a1cc46fea9c81d3adb1051aa",
       "version_major": 2,
       "version_minor": 0
      },
      "text/plain": [
       "  0%|          | 0/312330 [00:00<?, ?it/s]"
      ]
     },
     "metadata": {},
     "output_type": "display_data"
    }
   ],
   "source": [
    "lbl_corel = WalkItOff(block.train.dset.data.data_lbl.T, head_thresh=500, walk_len=400, p_reset=0.8, \n",
    "                      topk=10, batch_size=1024, max_dist=1)"
   ]
  },
  {
   "cell_type": "code",
   "execution_count": null,
   "id": "fe502546-75d1-4eda-840e-251c5a3afdf9",
   "metadata": {},
   "outputs": [],
   "source": [
    "with open(f'{pkl_dir}/processed/corelations.pkl', 'wb') as file: \n",
    "    pickle.dump((data_corel, lbl_corel), file)"
   ]
  },
  {
   "cell_type": "code",
   "execution_count": null,
   "id": "1da9e87a-8f10-4262-8b08-4483bceb5ad3",
   "metadata": {},
   "outputs": [],
   "source": []
  },
  {
   "cell_type": "code",
   "execution_count": null,
   "id": "89a1a19a-a468-4080-abb6-dbf0489b8e85",
   "metadata": {},
   "outputs": [],
   "source": [
    "from xcai.data import MetaXCDataset, XCDataset\n",
    "from scipy import sparse"
   ]
  },
  {
   "cell_type": "code",
   "execution_count": null,
   "id": "b9ba3d16-ff39-4bab-b082-87da1bfd0691",
   "metadata": {},
   "outputs": [],
   "source": [
    "dco_meta = MetaXCDataset('dco', data_corel, sparse.csr_matrix((block.n_lbl, block.train.dset.n_data)), \n",
    "                         block.train.dset.data.data_info)"
   ]
  },
  {
   "cell_type": "code",
   "execution_count": null,
   "id": "8111ed78-55e2-4e80-bd97-c74c2a01d69b",
   "metadata": {},
   "outputs": [],
   "source": [
    "lco_meta = MetaXCDataset('lco', sparse.csr_matrix((block.train.dset.n_data, block.n_lbl)), lbl_corel, \n",
    "                         block.train.dset.data.lbl_info)"
   ]
  },
  {
   "cell_type": "code",
   "execution_count": null,
   "id": "a5ca19d3-d0ad-4fb6-ac63-84c4c13d6ab9",
   "metadata": {},
   "outputs": [],
   "source": [
    "train_dset = XCDataset(block.train.dset.data, dco_meta=dco_meta, lco_meta=lco_meta)\n",
    "block.train.dset = train_dset"
   ]
  },
  {
   "cell_type": "code",
   "execution_count": null,
   "id": "1a2967b1-e3f7-42a9-93e7-41ed709ebffd",
   "metadata": {},
   "outputs": [],
   "source": [
    "smp_features=[('lbl2data|lco2lbl2data',1,1), ('dco2data', 1, 1)]\n",
    "block.collator.tfms.tfms[0].smp_features = smp_features"
   ]
  },
  {
   "cell_type": "code",
   "execution_count": null,
   "id": "883398e8-6f65-498b-aa58-0b67f274dfb3",
   "metadata": {},
   "outputs": [],
   "source": []
  },
  {
   "cell_type": "code",
   "execution_count": null,
   "id": "37b6b1bc-b557-4f21-aa8d-5cfb13bee71f",
   "metadata": {},
   "outputs": [],
   "source": [
    "b = block.train.one_batch(10)"
   ]
  },
  {
   "cell_type": "code",
   "execution_count": null,
   "id": "9ebd0451-8d67-4062-a339-c7fe45e92133",
   "metadata": {},
   "outputs": [
    {
     "data": {
      "text/plain": [
       "dict_keys(['plbl2data_idx', 'plbl2data_data2ptr', 'lbl2data_idx', 'lbl2data_identifier', 'lbl2data_input_text', 'lbl2data_input_ids', 'lbl2data_attention_mask', 'lbl2data_data2ptr', 'plco2lbl_idx', 'plco2lbl_lbl2data2ptr', 'plco2lbl_data2ptr', 'lco2lbl_idx', 'lco2lbl_identifier', 'lco2lbl_input_text', 'lco2lbl_input_ids', 'lco2lbl_attention_mask', 'lco2lbl_lbl2data2ptr', 'lco2lbl_data2ptr', 'pdco2data_idx', 'pdco2data_data2ptr', 'dco2data_idx', 'dco2data_identifier', 'dco2data_input_text', 'dco2data_input_ids', 'dco2data_attention_mask', 'dco2data_data2ptr', 'data_identifier', 'data_input_text', 'data_input_ids', 'data_attention_mask', 'dco2lbl2data_idx', 'dco2lbl2data_identifier', 'dco2lbl2data_input_text', 'dco2lbl2data_input_ids', 'dco2lbl2data_attention_mask', 'dco2lbl2data_data2ptr', 'dco2lbl2data_plbl2data2ptr', 'lco2data_idx', 'lco2data_identifier', 'lco2data_input_text', 'lco2data_input_ids', 'lco2data_attention_mask', 'lco2data_data2ptr'])"
      ]
     },
     "execution_count": null,
     "metadata": {},
     "output_type": "execute_result"
    }
   ],
   "source": [
    "b.keys()"
   ]
  },
  {
   "cell_type": "code",
   "execution_count": null,
   "id": "d5674ab4-c4e7-4564-a27f-efdeed69f255",
   "metadata": {},
   "outputs": [],
   "source": [
    "pkl_dir = '/home/scai/phd/aiz218323/scratch/datasets/processed'\n",
    "pkl_file = f'{pkl_dir}/wikiseealso_data-meta_distilbert-base-uncased_rm_ramen-corel.pkl'"
   ]
  },
  {
   "cell_type": "code",
   "execution_count": null,
   "id": "e21ba2b3-7cc7-403d-b521-830ad54390a1",
   "metadata": {},
   "outputs": [],
   "source": [
    "with open(pkl_file, 'wb') as file: pickle.dump(block, file)"
   ]
  },
  {
   "cell_type": "markdown",
   "id": "2554487b",
   "metadata": {},
   "source": [
    "## Training"
   ]
  },
  {
   "cell_type": "code",
   "execution_count": null,
   "id": "73b6a059-3409-4c00-a575-dcdb5775adc9",
   "metadata": {},
   "outputs": [],
   "source": [
    "#| export\n",
    "args = XCLearningArguments(\n",
    "    output_dir='/home/scai/phd/aiz218323/scratch/outputs/70-ramen-ep-for-wikiseealso-with-random-walk-1-0',\n",
    "    logging_first_step=True,\n",
    "    per_device_train_batch_size=800,\n",
    "    per_device_eval_batch_size=800,\n",
    "    representation_num_beams=200,\n",
    "    representation_accumulation_steps=100,\n",
    "    save_strategy=\"steps\",\n",
    "    evaluation_strategy=\"steps\",\n",
    "    eval_steps=3000,\n",
    "    save_steps=3000,\n",
    "    save_total_limit=5,\n",
    "    num_train_epochs=300,\n",
    "    predict_with_representation=True,\n",
    "    adam_epsilon=1e-6,\n",
    "    warmup_steps=100,\n",
    "    weight_decay=0.01,\n",
    "    learning_rate=2e-4,\n",
    "    generation_num_beams=10,\n",
    "    generation_length_penalty=1.5,\n",
    "    predict_with_generation=True,\n",
    "    representation_search_type='INDEX',\n",
    "    group_by_cluster=True,\n",
    "    num_clustering_warmup_epochs=10,\n",
    "    num_cluster_update_epochs=5,\n",
    "    num_cluster_size_update_epochs=25,\n",
    "    clustering_type='EXPO',\n",
    "    minimum_cluster_size=2,\n",
    "    maximum_cluster_size=1600,\n",
    "    output_concatenation_weight=1.0,\n",
    "    metric_for_best_model='P@1',\n",
    "    load_best_model_at_end=True,\n",
    "    target_indices_key='plbl2data_idx',\n",
    "    target_pointer_key='plbl2data_data2ptr',\n",
    "    use_encoder_parallel=True,\n",
    "    max_grad_norm=None,\n",
    "    fp16=True,\n",
    "    label_names=['dco2data_idx', 'dco2data_input_ids', 'dco2data_attention_mask'],\n",
    "    \n",
    "    prune_metadata=False,\n",
    "    num_metadata_prune_epochs=5,\n",
    "    metadata_prune_batch_size=2048,\n",
    "    num_metadata_prune_warmup_epochs=0,\n",
    "    prune_metadata_names=['cat_meta']\n",
    ")"
   ]
  },
  {
   "cell_type": "code",
   "execution_count": null,
   "id": "cfbc728f",
   "metadata": {},
   "outputs": [],
   "source": [
    "#| export\n",
    "metric = PrecRecl(block.n_lbl, block.test.data_lbl_filterer, prop=block.train.dset.data.data_lbl,\n",
    "                  pk=10, rk=200, rep_pk=[1, 3, 5, 10], rep_rk=[10, 100, 200])"
   ]
  },
  {
   "cell_type": "code",
   "execution_count": null,
   "id": "a12171f9",
   "metadata": {},
   "outputs": [
    {
     "name": "stderr",
     "output_type": "stream",
     "text": [
      "Some weights of DBT021 were not initialized from the model checkpoint at sentence-transformers/msmarco-distilbert-base-v4 and are newly initialized: ['encoder.dr_layer_norm.bias', 'encoder.dr_layer_norm.weight', 'encoder.dr_projector.bias', 'encoder.dr_projector.weight', 'encoder.dr_transform.bias', 'encoder.dr_transform.weight', 'encoder.meta_layer_norm.bias', 'encoder.meta_layer_norm.weight', 'encoder.meta_projector.bias', 'encoder.meta_projector.weight', 'encoder.meta_transform.bias', 'encoder.meta_transform.weight']\n",
      "You should probably TRAIN this model on a down-stream task to be able to use it for predictions and inference.\n"
     ]
    }
   ],
   "source": [
    "#| export\n",
    "bsz = max(args.per_device_train_batch_size, args.per_device_eval_batch_size)*torch.cuda.device_count()\n",
    "\n",
    "model = DBT021.from_pretrained('sentence-transformers/msmarco-distilbert-base-v4', bsz=bsz, tn_targ=5000, margin=0.3, tau=0.1, \n",
    "                               apply_softmax=True, n_negatives=10, m_lw=0.15, meta_prefix='dco', use_encoder_parallel=True, \n",
    "                               task_repr_type='pool', meta_repr_type='pool')\n",
    "model.init_dr_head()"
   ]
  },
  {
   "cell_type": "code",
   "execution_count": null,
   "id": "38af10da-e3c8-49c4-ad3e-23cbbce4f4f7",
   "metadata": {},
   "outputs": [],
   "source": []
  },
  {
   "cell_type": "code",
   "execution_count": null,
   "id": "01d48f78",
   "metadata": {},
   "outputs": [
    {
     "name": "stderr",
     "output_type": "stream",
     "text": [
      "/scratch/scai/phd/aiz218323/anaconda3/envs/xc_nlg/lib/python3.9/site-packages/accelerate/accelerator.py:432: FutureWarning: Passing the following arguments to `Accelerator` is deprecated and will be removed in version 1.0 of Accelerate: dict_keys(['dispatch_batches', 'split_batches', 'even_batches', 'use_seedable_sampler']). Please pass an `accelerate.DataLoaderConfiguration` instead: \n",
      "dataloader_config = DataLoaderConfiguration(dispatch_batches=None, split_batches=False, even_batches=True, use_seedable_sampler=True)\n",
      "  warnings.warn(\n",
      "Detected kernel version 3.10.0, which is below the recommended minimum of 5.5.0; this can cause the process to hang. It is recommended to upgrade the kernel to the minimum version or higher.\n"
     ]
    }
   ],
   "source": [
    "#| export\n",
    "learn = XCLearner(\n",
    "    model=model, \n",
    "    args=args,\n",
    "    train_dataset=block.train.dset,\n",
    "    eval_dataset=block.test.dset,\n",
    "    data_collator=block.collator,\n",
    "    compute_metrics=metric,\n",
    ")"
   ]
  },
  {
   "cell_type": "code",
   "execution_count": null,
   "id": "6d0c620a-a7b0-4272-a3af-8e8e04770aef",
   "metadata": {},
   "outputs": [],
   "source": [
    "learn.train()"
   ]
  },
  {
   "cell_type": "code",
   "execution_count": null,
   "id": "68cd155e-912d-4780-b60d-b7c6749b30b3",
   "metadata": {},
   "outputs": [],
   "source": [
    "#| export\n",
    "if __name__ == '__main__':\n",
    "    mp.freeze_support()\n",
    "    learn.train()"
   ]
  },
  {
   "cell_type": "code",
   "execution_count": null,
   "id": "5a7d8e5a-e880-4d6b-86a6-d220c1d09347",
   "metadata": {},
   "outputs": [
    {
     "data": {
      "application/vnd.jupyter.widget-view+json": {
       "model_id": "cf88bd075ce843cf855533b5ea2f69dd",
       "version_major": 2,
       "version_minor": 0
      },
      "text/plain": [
       "  0%|          | 0/196 [00:00<?, ?it/s]"
      ]
     },
     "metadata": {},
     "output_type": "display_data"
    },
    {
     "name": "stderr",
     "output_type": "stream",
     "text": [
      "/scratch/scai/phd/aiz218323/anaconda3/envs/xc_nlg/lib/python3.9/site-packages/scipy/sparse/_index.py:145: SparseEfficiencyWarning: Changing the sparsity structure of a csr_matrix is expensive. lil_matrix is more efficient.\n",
      "  self._set_arrayXarray(i, j, x)\n"
     ]
    }
   ],
   "source": [
    "o = learn.predict(learn.eval_dataset)"
   ]
  },
  {
   "cell_type": "code",
   "execution_count": null,
   "id": "664dff9e-5ca6-4bb3-a4f5-e53bc8930672",
   "metadata": {},
   "outputs": [],
   "source": []
  },
  {
   "cell_type": "code",
   "execution_count": null,
   "id": "0b197949-01e7-4fec-84ab-f867b17d102e",
   "metadata": {},
   "outputs": [],
   "source": []
  }
 ],
 "metadata": {
  "kernelspec": {
   "display_name": "python3",
   "language": "python",
   "name": "python3"
  }
 },
 "nbformat": 4,
 "nbformat_minor": 5
}
