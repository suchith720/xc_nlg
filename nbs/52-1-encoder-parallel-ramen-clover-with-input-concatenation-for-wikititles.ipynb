{
 "cells": [
  {
   "cell_type": "markdown",
   "id": "6e3a0f4c-1cfb-4a14-b8f2-fdea31c390ec",
   "metadata": {},
   "source": [
    "# Clover fusion prediction "
   ]
  },
  {
   "cell_type": "code",
   "execution_count": 3,
   "id": "ddda97e8-16ac-42c7-9ad4-f981e21c0aa2",
   "metadata": {},
   "outputs": [],
   "source": [
    "#| default_exp 52-1-encoder-parallel-ramen-clover-with-input-concatenation-for-wikititles"
   ]
  },
  {
   "cell_type": "code",
   "execution_count": 4,
   "id": "3f35d8be-1323-400a-b78e-d0a4d2697801",
   "metadata": {},
   "outputs": [],
   "source": [
    "%load_ext autoreload\n",
    "%autoreload 2\n",
    "\n",
    "from nbdev.showdoc import *\n",
    "import nbdev; nbdev.nbdev_export()"
   ]
  },
  {
   "cell_type": "code",
   "execution_count": 5,
   "id": "d685e35e-9a13-4186-b7f4-b831b10086bb",
   "metadata": {},
   "outputs": [],
   "source": [
    "#| export\n",
    "import os,torch, torch.multiprocessing as mp, pickle\n",
    "from scipy import sparse\n",
    "from xcai.basics import *\n",
    "from xcai.models.PPP0XX import DBT017"
   ]
  },
  {
   "cell_type": "code",
   "execution_count": 6,
   "id": "58018a49",
   "metadata": {},
   "outputs": [],
   "source": [
    "import xclib.evaluation.xc_metrics as xc_metrics"
   ]
  },
  {
   "cell_type": "code",
   "execution_count": 7,
   "id": "e0c924c6",
   "metadata": {},
   "outputs": [],
   "source": [
    "#| export\n",
    "os.environ['WANDB_MODE'] = 'disabled'"
   ]
  },
  {
   "cell_type": "code",
   "execution_count": 8,
   "id": "53768670-9905-46b0-9a6d-b6e91d50b918",
   "metadata": {},
   "outputs": [],
   "source": [
    "#| export\n",
    "os.environ['CUDA_VISIBLE_DEVICES'] = '0,1'\n",
    "os.environ['WANDB_PROJECT']='xc-nlg_52-encoder-parallel-ramen-clover-with-input-concatenation-for-wikititles'"
   ]
  },
  {
   "cell_type": "markdown",
   "id": "71067fbf",
   "metadata": {},
   "source": [
    "## Prediction"
   ]
  },
  {
   "cell_type": "code",
   "execution_count": 9,
   "id": "ba38fcb0-3ebf-4f79-aa20-1a1321b791c5",
   "metadata": {},
   "outputs": [],
   "source": [
    "#| export\n",
    "data_dir = '/home/aiscuser/scratch/datasets'\n",
    "\n",
    "pkl_dir = f'{data_dir}/processed/'\n",
    "pkl_file = f'{pkl_dir}/wikititles_data-metas_distilbert-base-uncased_rm_ramen-sal-encoder-parallel.pkl'\n",
    "\n",
    "with open(pkl_file, 'rb') as file: block = pickle.load(file)"
   ]
  },
  {
   "cell_type": "code",
   "execution_count": 10,
   "id": "8bd35d58",
   "metadata": {},
   "outputs": [
    {
     "data": {
      "text/html": [
       "\n",
       "<style>\n",
       "    /* Turns off some styling */\n",
       "    progress {\n",
       "        /* gets rid of default border in Firefox and Opera. */\n",
       "        border: none;\n",
       "        /* Needs to be in here for Safari polyfill so background images work as expected. */\n",
       "        background-size: auto;\n",
       "    }\n",
       "    progress:not([value]), progress:not([value])::-webkit-progress-bar {\n",
       "        background: repeating-linear-gradient(45deg, #7e7e7e, #7e7e7e 10px, #5c5c5c 10px, #5c5c5c 20px);\n",
       "    }\n",
       "    .progress-bar-interrupted, .progress-bar-interrupted::-webkit-progress-bar {\n",
       "        background: #F44336;\n",
       "    }\n",
       "</style>\n"
      ],
      "text/plain": [
       "<IPython.core.display.HTML object>"
      ]
     },
     "metadata": {},
     "output_type": "display_data"
    },
    {
     "data": {
      "text/html": [],
      "text/plain": [
       "<IPython.core.display.HTML object>"
      ]
     },
     "metadata": {},
     "output_type": "display_data"
    },
    {
     "data": {
      "text/html": [
       "\n",
       "<style>\n",
       "    /* Turns off some styling */\n",
       "    progress {\n",
       "        /* gets rid of default border in Firefox and Opera. */\n",
       "        border: none;\n",
       "        /* Needs to be in here for Safari polyfill so background images work as expected. */\n",
       "        background-size: auto;\n",
       "    }\n",
       "    progress:not([value]), progress:not([value])::-webkit-progress-bar {\n",
       "        background: repeating-linear-gradient(45deg, #7e7e7e, #7e7e7e 10px, #5c5c5c 10px, #5c5c5c 20px);\n",
       "    }\n",
       "    .progress-bar-interrupted, .progress-bar-interrupted::-webkit-progress-bar {\n",
       "        background: #F44336;\n",
       "    }\n",
       "</style>\n"
      ],
      "text/plain": [
       "<IPython.core.display.HTML object>"
      ]
     },
     "metadata": {},
     "output_type": "display_data"
    },
    {
     "data": {
      "text/html": [
       "\n",
       "    <div>\n",
       "      <progress value='1811578' class='' max='1811578' style='width:300px; height:20px; vertical-align: middle;'></progress>\n",
       "      100.00% [1811578/1811578 02:28&lt;00:00]\n",
       "    </div>\n",
       "    "
      ],
      "text/plain": [
       "<IPython.core.display.HTML object>"
      ]
     },
     "metadata": {},
     "output_type": "display_data"
    },
    {
     "data": {
      "text/html": [
       "\n",
       "<style>\n",
       "    /* Turns off some styling */\n",
       "    progress {\n",
       "        /* gets rid of default border in Firefox and Opera. */\n",
       "        border: none;\n",
       "        /* Needs to be in here for Safari polyfill so background images work as expected. */\n",
       "        background-size: auto;\n",
       "    }\n",
       "    progress:not([value]), progress:not([value])::-webkit-progress-bar {\n",
       "        background: repeating-linear-gradient(45deg, #7e7e7e, #7e7e7e 10px, #5c5c5c 10px, #5c5c5c 20px);\n",
       "    }\n",
       "    .progress-bar-interrupted, .progress-bar-interrupted::-webkit-progress-bar {\n",
       "        background: #F44336;\n",
       "    }\n",
       "</style>\n"
      ],
      "text/plain": [
       "<IPython.core.display.HTML object>"
      ]
     },
     "metadata": {},
     "output_type": "display_data"
    },
    {
     "data": {
      "text/html": [
       "\n",
       "    <div>\n",
       "      <progress value='1811578' class='' max='1811578' style='width:300px; height:20px; vertical-align: middle;'></progress>\n",
       "      100.00% [1811578/1811578 02:17&lt;00:00]\n",
       "    </div>\n",
       "    "
      ],
      "text/plain": [
       "<IPython.core.display.HTML object>"
      ]
     },
     "metadata": {},
     "output_type": "display_data"
    },
    {
     "data": {
      "text/html": [
       "\n",
       "<style>\n",
       "    /* Turns off some styling */\n",
       "    progress {\n",
       "        /* gets rid of default border in Firefox and Opera. */\n",
       "        border: none;\n",
       "        /* Needs to be in here for Safari polyfill so background images work as expected. */\n",
       "        background-size: auto;\n",
       "    }\n",
       "    progress:not([value]), progress:not([value])::-webkit-progress-bar {\n",
       "        background: repeating-linear-gradient(45deg, #7e7e7e, #7e7e7e 10px, #5c5c5c 10px, #5c5c5c 20px);\n",
       "    }\n",
       "    .progress-bar-interrupted, .progress-bar-interrupted::-webkit-progress-bar {\n",
       "        background: #F44336;\n",
       "    }\n",
       "</style>\n"
      ],
      "text/plain": [
       "<IPython.core.display.HTML object>"
      ]
     },
     "metadata": {},
     "output_type": "display_data"
    },
    {
     "data": {
      "text/html": [
       "\n",
       "    <div>\n",
       "      <progress value='1813' class='' max='1813' style='width:300px; height:20px; vertical-align: middle;'></progress>\n",
       "      100.00% [1813/1813 00:00&lt;00:00]\n",
       "    </div>\n",
       "    "
      ],
      "text/plain": [
       "<IPython.core.display.HTML object>"
      ]
     },
     "metadata": {},
     "output_type": "display_data"
    },
    {
     "data": {
      "text/html": [
       "\n",
       "<style>\n",
       "    /* Turns off some styling */\n",
       "    progress {\n",
       "        /* gets rid of default border in Firefox and Opera. */\n",
       "        border: none;\n",
       "        /* Needs to be in here for Safari polyfill so background images work as expected. */\n",
       "        background-size: auto;\n",
       "    }\n",
       "    progress:not([value]), progress:not([value])::-webkit-progress-bar {\n",
       "        background: repeating-linear-gradient(45deg, #7e7e7e, #7e7e7e 10px, #5c5c5c 10px, #5c5c5c 20px);\n",
       "    }\n",
       "    .progress-bar-interrupted, .progress-bar-interrupted::-webkit-progress-bar {\n",
       "        background: #F44336;\n",
       "    }\n",
       "</style>\n"
      ],
      "text/plain": [
       "<IPython.core.display.HTML object>"
      ]
     },
     "metadata": {},
     "output_type": "display_data"
    },
    {
     "data": {
      "text/html": [
       "\n",
       "    <div>\n",
       "      <progress value='1813' class='' max='1813' style='width:300px; height:20px; vertical-align: middle;'></progress>\n",
       "      100.00% [1813/1813 00:00&lt;00:00]\n",
       "    </div>\n",
       "    "
      ],
      "text/plain": [
       "<IPython.core.display.HTML object>"
      ]
     },
     "metadata": {},
     "output_type": "display_data"
    },
    {
     "data": {
      "text/html": [
       "\n",
       "<style>\n",
       "    /* Turns off some styling */\n",
       "    progress {\n",
       "        /* gets rid of default border in Firefox and Opera. */\n",
       "        border: none;\n",
       "        /* Needs to be in here for Safari polyfill so background images work as expected. */\n",
       "        background-size: auto;\n",
       "    }\n",
       "    progress:not([value]), progress:not([value])::-webkit-progress-bar {\n",
       "        background: repeating-linear-gradient(45deg, #7e7e7e, #7e7e7e 10px, #5c5c5c 10px, #5c5c5c 20px);\n",
       "    }\n",
       "    .progress-bar-interrupted, .progress-bar-interrupted::-webkit-progress-bar {\n",
       "        background: #F44336;\n",
       "    }\n",
       "</style>\n"
      ],
      "text/plain": [
       "<IPython.core.display.HTML object>"
      ]
     },
     "metadata": {},
     "output_type": "display_data"
    },
    {
     "data": {
      "text/html": [
       "\n",
       "    <div>\n",
       "      <progress value='783743' class='' max='783743' style='width:300px; height:20px; vertical-align: middle;'></progress>\n",
       "      100.00% [783743/783743 01:00&lt;00:00]\n",
       "    </div>\n",
       "    "
      ],
      "text/plain": [
       "<IPython.core.display.HTML object>"
      ]
     },
     "metadata": {},
     "output_type": "display_data"
    },
    {
     "data": {
      "text/html": [
       "\n",
       "<style>\n",
       "    /* Turns off some styling */\n",
       "    progress {\n",
       "        /* gets rid of default border in Firefox and Opera. */\n",
       "        border: none;\n",
       "        /* Needs to be in here for Safari polyfill so background images work as expected. */\n",
       "        background-size: auto;\n",
       "    }\n",
       "    progress:not([value]), progress:not([value])::-webkit-progress-bar {\n",
       "        background: repeating-linear-gradient(45deg, #7e7e7e, #7e7e7e 10px, #5c5c5c 10px, #5c5c5c 20px);\n",
       "    }\n",
       "    .progress-bar-interrupted, .progress-bar-interrupted::-webkit-progress-bar {\n",
       "        background: #F44336;\n",
       "    }\n",
       "</style>\n"
      ],
      "text/plain": [
       "<IPython.core.display.HTML object>"
      ]
     },
     "metadata": {},
     "output_type": "display_data"
    },
    {
     "data": {
      "text/html": [
       "\n",
       "    <div>\n",
       "      <progress value='783743' class='' max='783743' style='width:300px; height:20px; vertical-align: middle;'></progress>\n",
       "      100.00% [783743/783743 01:06&lt;00:00]\n",
       "    </div>\n",
       "    "
      ],
      "text/plain": [
       "<IPython.core.display.HTML object>"
      ]
     },
     "metadata": {},
     "output_type": "display_data"
    }
   ],
   "source": [
    "#| export\n",
    "block = AugmentMetaInputIdsTfm.apply(block, 'hlk_meta', 32, True)\n",
    "\n",
    "block.train.dset.data.data_info['input_ids'] = block.train.dset.data.data_info['input_ids_aug_hlk']\n",
    "block.train.dset.data.data_info['attention_mask'] = block.train.dset.data.data_info['attention_mask_aug_hlk']\n",
    "\n",
    "block.test.dset.data.data_info['input_ids'] = block.test.dset.data.data_info['input_ids_aug_hlk']\n",
    "block.test.dset.data.data_info['attention_mask'] = block.test.dset.data.data_info['attention_mask_aug_hlk']"
   ]
  },
  {
   "cell_type": "code",
   "execution_count": 13,
   "id": "73b6a059-3409-4c00-a575-dcdb5775adc9",
   "metadata": {},
   "outputs": [],
   "source": [
    "#| export\n",
    "args = XCLearningArguments(\n",
    "    output_dir='/home/aiscuser/outputs/52-encoder-parallel-ramen-clover-with-input-concatenation-for-wikititles-1-0',\n",
    "    logging_first_step=True,\n",
    "    per_device_train_batch_size=800,\n",
    "    per_device_eval_batch_size=800,\n",
    "    representation_num_beams=200,\n",
    "    representation_accumulation_steps=100,\n",
    "    predict_with_representation=True,\n",
    "    generation_num_beams=10,\n",
    "    generation_length_penalty=1.5,\n",
    "    predict_with_generation=True,\n",
    "    representation_search_type='BRUTEFORCE',\n",
    "    output_concatenation_weight=1.0,\n",
    "    target_indices_key='plbl2data_idx',\n",
    "    target_pointer_key='plbl2data_data2ptr',\n",
    "    fp16=True,\n",
    ")"
   ]
  },
  {
   "cell_type": "code",
   "execution_count": 15,
   "id": "d02cebbb",
   "metadata": {},
   "outputs": [],
   "source": [
    "#| export\n",
    "output_dir = f\"/home/aiscuser/scratch/Projects/xc_nlg/outputs/{os.path.basename(args.output_dir)}\"\n",
    "mname = f'{output_dir}/{os.path.basename(get_best_model(output_dir))}'"
   ]
  },
  {
   "cell_type": "code",
   "execution_count": 17,
   "id": "6162a2d2",
   "metadata": {},
   "outputs": [],
   "source": [
    "#| export\n",
    "bsz = max(args.per_device_train_batch_size, args.per_device_eval_batch_size)*torch.cuda.device_count()\n",
    "\n",
    "model = DBT017.from_pretrained(mname, ig_tok=0, bsz=bsz, tn_targ=1000, margin=0.3, tau=0.1, \n",
    "                               n_negatives=5, apply_softmax=True, lw=0.01, m_lw=0.3, meta_prefix='cat', \n",
    "                               tie_word_embeddings=False)"
   ]
  },
  {
   "cell_type": "code",
   "execution_count": 18,
   "id": "b3079e54",
   "metadata": {},
   "outputs": [
    {
     "data": {
      "application/vnd.jupyter.widget-view+json": {
       "model_id": "1ee20fd038db4deab4324007a3560975",
       "version_major": 2,
       "version_minor": 0
      },
      "text/plain": [
       "  0%|          | 0/501070 [00:00<?, ?it/s]"
      ]
     },
     "metadata": {},
     "output_type": "display_data"
    }
   ],
   "source": [
    "#| export\n",
    "trie = XCTrie.from_block(block)"
   ]
  },
  {
   "cell_type": "code",
   "execution_count": 57,
   "id": "2f8a40f8",
   "metadata": {},
   "outputs": [
    {
     "name": "stderr",
     "output_type": "stream",
     "text": [
      "huggingface/tokenizers: The current process just got forked, after parallelism has already been used. Disabling parallelism to avoid deadlocks...\n",
      "To disable this warning, you can either:\n",
      "\t- Avoid using `tokenizers` before the fork if possible\n",
      "\t- Explicitly set the environment variable TOKENIZERS_PARALLELISM=(true | false)\n",
      "huggingface/tokenizers: The current process just got forked, after parallelism has already been used. Disabling parallelism to avoid deadlocks...\n",
      "To disable this warning, you can either:\n",
      "\t- Avoid using `tokenizers` before the fork if possible\n",
      "\t- Explicitly set the environment variable TOKENIZERS_PARALLELISM=(true | false)\n",
      "huggingface/tokenizers: The current process just got forked, after parallelism has already been used. Disabling parallelism to avoid deadlocks...\n",
      "To disable this warning, you can either:\n",
      "\t- Avoid using `tokenizers` before the fork if possible\n",
      "\t- Explicitly set the environment variable TOKENIZERS_PARALLELISM=(true | false)\n"
     ]
    }
   ],
   "source": [
    "#| export\n",
    "train_dset = block.train.dset.sample(n=50_000, seed=50)\n",
    "metric = PrecRecl(block.n_lbl, train_dset.data.data_lbl_filterer, prop=block.train.dset.data.data_lbl,\n",
    "                  pk=10, rk=200, rep_pk=[1, 3, 5, 10], rep_rk=[10, 100, 200])\n",
    "\n",
    "learn = XCLearner(model=model, args=args, trie=trie, train_dataset=block.train.dset, eval_dataset=train_dset,\n",
    "                  data_collator=block.collator, compute_metrics=metric)\n",
    "\n",
    "if __name__ == '__main__':\n",
    "    mp.freeze_support()\n",
    "    train_pred = learn.predict(train_dset)\n",
    "    \n",
    "display_metric(train_pred.metrics)"
   ]
  },
  {
   "cell_type": "code",
   "execution_count": 59,
   "id": "4bf86111",
   "metadata": {},
   "outputs": [],
   "source": [
    "#| export\n",
    "pred_dir = f'{mname}/predictions/'\n",
    "os.makedirs(pred_dir, exist_ok=True)\n",
    "with open(f'{pred_dir}/train_predictions.pkl', 'wb') as file: pickle.dump(train_pred, file)"
   ]
  },
  {
   "cell_type": "code",
   "execution_count": null,
   "id": "480b6c61",
   "metadata": {},
   "outputs": [],
   "source": []
  },
  {
   "cell_type": "code",
   "execution_count": 19,
   "id": "b111e249",
   "metadata": {},
   "outputs": [],
   "source": [
    "model.use_generation = False"
   ]
  },
  {
   "cell_type": "code",
   "execution_count": 20,
   "id": "4fdfca1e",
   "metadata": {},
   "outputs": [
    {
     "name": "stdout",
     "output_type": "stream",
     "text": [
      "[2024-06-10 20:33:09,167] [INFO] [real_accelerator.py:110:get_accelerator] Setting ds_accelerator to cuda (auto detect)\n"
     ]
    },
    {
     "data": {
      "application/vnd.jupyter.widget-view+json": {
       "model_id": "a3fe5162f73e4f4fb76782b706a9b0b1",
       "version_major": 2,
       "version_minor": 0
      },
      "text/plain": [
       "  0%|          | 0/314 [00:00<?, ?it/s]"
      ]
     },
     "metadata": {},
     "output_type": "display_data"
    },
    {
     "name": "stdout",
     "output_type": "stream",
     "text": [
      "node-0:1191411:1191411 [0] NCCL INFO Bootstrap : Using eth0:10.13.60.54<0>\n",
      "node-0:1191411:1191411 [0] NCCL INFO NET/Plugin : Plugin load (librccl-net.so) returned 2 : librccl-net.so: cannot open shared object file: No such file or directory\n",
      "node-0:1191411:1191411 [0] NCCL INFO NET/Plugin : No plugin found, using internal implementation\n",
      "node-0:1191411:1191411 [0] NCCL INFO Kernel version: 5.15.0-1042-azure\n",
      "RCCL version 2.17.1+hip5.7 HEAD:cbbb3d8+\n",
      "\n",
      "node-0:1191411:1219571 [1] /long_pathname_so_that_rpms_can_package_the_debug_info/src/extlibs/rccl/build/hipify/src/misc/ibvwrap.cc:222 NCCL WARN Call to ibv_open_device failed\n",
      "\n",
      "node-0:1191411:1219571 [1] /long_pathname_so_that_rpms_can_package_the_debug_info/src/extlibs/rccl/build/hipify/src/transport/net_ib.cc:199 NCCL WARN NET/IB : Unable to open device mlx5_0\n",
      "\n",
      "node-0:1191411:1219571 [1] /long_pathname_so_that_rpms_can_package_the_debug_info/src/extlibs/rccl/build/hipify/src/misc/ibvwrap.cc:222 NCCL WARN Call to ibv_open_device failed\n",
      "\n",
      "node-0:1191411:1219571 [1] /long_pathname_so_that_rpms_can_package_the_debug_info/src/extlibs/rccl/build/hipify/src/transport/net_ib.cc:199 NCCL WARN NET/IB : Unable to open device mlx5_1\n",
      "\n",
      "node-0:1191411:1219571 [1] /long_pathname_so_that_rpms_can_package_the_debug_info/src/extlibs/rccl/build/hipify/src/misc/ibvwrap.cc:222 NCCL WARN Call to ibv_open_device failed\n",
      "\n",
      "node-0:1191411:1219571 [1] /long_pathname_so_that_rpms_can_package_the_debug_info/src/extlibs/rccl/build/hipify/src/transport/net_ib.cc:199 NCCL WARN NET/IB : Unable to open device mlx5_2\n",
      "\n",
      "node-0:1191411:1219571 [1] /long_pathname_so_that_rpms_can_package_the_debug_info/src/extlibs/rccl/build/hipify/src/misc/ibvwrap.cc:222 NCCL WARN Call to ibv_open_device failed\n",
      "\n",
      "node-0:1191411:1219571 [1] /long_pathname_so_that_rpms_can_package_the_debug_info/src/extlibs/rccl/build/hipify/src/transport/net_ib.cc:199 NCCL WARN NET/IB : Unable to open device mlx5_3\n",
      "\n",
      "node-0:1191411:1219571 [1] /long_pathname_so_that_rpms_can_package_the_debug_info/src/extlibs/rccl/build/hipify/src/misc/ibvwrap.cc:222 NCCL WARN Call to ibv_open_device failed\n",
      "\n",
      "node-0:1191411:1219571 [1] /long_pathname_so_that_rpms_can_package_the_debug_info/src/extlibs/rccl/build/hipify/src/transport/net_ib.cc:199 NCCL WARN NET/IB : Unable to open device mlx5_4\n",
      "\n",
      "node-0:1191411:1219571 [1] /long_pathname_so_that_rpms_can_package_the_debug_info/src/extlibs/rccl/build/hipify/src/misc/ibvwrap.cc:222 NCCL WARN Call to ibv_open_device failed\n",
      "\n",
      "node-0:1191411:1219571 [1] /long_pathname_so_that_rpms_can_package_the_debug_info/src/extlibs/rccl/build/hipify/src/transport/net_ib.cc:199 NCCL WARN NET/IB : Unable to open device mlx5_5\n",
      "\n",
      "node-0:1191411:1219571 [1] /long_pathname_so_that_rpms_can_package_the_debug_info/src/extlibs/rccl/build/hipify/src/misc/ibvwrap.cc:222 NCCL WARN Call to ibv_open_device failed\n",
      "\n",
      "node-0:1191411:1219571 [1] /long_pathname_so_that_rpms_can_package_the_debug_info/src/extlibs/rccl/build/hipify/src/transport/net_ib.cc:199 NCCL WARN NET/IB : Unable to open device mlx5_6\n",
      "\n",
      "node-0:1191411:1219571 [1] /long_pathname_so_that_rpms_can_package_the_debug_info/src/extlibs/rccl/build/hipify/src/misc/ibvwrap.cc:222 NCCL WARN Call to ibv_open_device failed\n",
      "\n",
      "node-0:1191411:1219571 [1] /long_pathname_so_that_rpms_can_package_the_debug_info/src/extlibs/rccl/build/hipify/src/transport/net_ib.cc:199 NCCL WARN NET/IB : Unable to open device mlx5_7\n",
      "\n",
      "node-0:1191411:1219571 [1] /long_pathname_so_that_rpms_can_package_the_debug_info/src/extlibs/rccl/build/hipify/src/misc/ibvwrap.cc:222 NCCL WARN Call to ibv_open_device failed\n",
      "\n",
      "node-0:1191411:1219571 [1] /long_pathname_so_that_rpms_can_package_the_debug_info/src/extlibs/rccl/build/hipify/src/transport/net_ib.cc:199 NCCL WARN NET/IB : Unable to open device mlx5_8\n",
      "node-0:1191411:1219571 [1] NCCL INFO NET/IB : No device found.\n",
      "node-0:1191411:1219571 [1] NCCL INFO NET/Socket : Using [0]eth0:10.13.60.54<0>\n",
      "node-0:1191411:1219571 [1] NCCL INFO Using network Socket\n",
      "node-0:1191411:1219570 [0] NCCL INFO Using network Socket\n",
      "node-0:1191411:1219570 [0] NCCL INFO Topology detection : could not read /sys/devices/LNXSYSTM:00/LNXSYBUS:00/ACPI0004:00/VMBUS:00/47505500-0001-0000-3130-303237343043/pci0001:00/0001:00:00.0/../max_link_speed, ignoring\n",
      "node-0:1191411:1219570 [0] NCCL INFO Topology detection : could not read /sys/devices/LNXSYSTM:00/LNXSYBUS:00/ACPI0004:00/VMBUS:00/47505500-0001-0000-3130-303237343043/pci0001:00/0001:00:00.0/../max_link_width, ignoring\n",
      "node-0:1191411:1219571 [1] NCCL INFO Topology detection : could not read /sys/devices/LNXSYSTM:00/LNXSYBUS:00/ACPI0004:00/VMBUS:00/47505500-0001-0000-3130-303237343043/pci0001:00/0001:00:00.0/../max_link_speed, ignoring\n",
      "node-0:1191411:1219571 [1] NCCL INFO Topology detection : could not read /sys/devices/LNXSYSTM:00/LNXSYBUS:00/ACPI0004:00/VMBUS:00/47505500-0001-0000-3130-303237343043/pci0001:00/0001:00:00.0/../max_link_width, ignoring\n",
      "node-0:1191411:1219570 [0] NCCL INFO rocm_smi_lib: version 5.0.0.0\n",
      "node-0:1191411:1219571 [1] NCCL INFO rocm_smi_lib: version 5.0.0.0\n",
      "node-0:1191411:1219570 [0] NCCL INFO Topology detection : could not read /sys/devices/LNXSYSTM:00/LNXSYBUS:00/ACPI0004:00/VMBUS:00/47505500-0002-0000-3130-303237343043/pci0002:00/0002:00:00.0/../max_link_speed, ignoring\n",
      "node-0:1191411:1219570 [0] NCCL INFO Topology detection : could not read /sys/devices/LNXSYSTM:00/LNXSYBUS:00/ACPI0004:00/VMBUS:00/47505500-0002-0000-3130-303237343043/pci0002:00/0002:00:00.0/../max_link_width, ignoring\n",
      "node-0:1191411:1219570 [0] NCCL INFO === System : maxBw 144.0 totalBw 144.0 ===\n",
      "node-0:1191411:1219570 [0] NCCL INFO CPU/1 (1/2/4)\n",
      "node-0:1191411:1219570 [0] NCCL INFO + PCI[5000.0] - NIC/0\n",
      "node-0:1191411:1219570 [0] NCCL INFO + PCI[24.0] - GPU/100000 (0)\n",
      "node-0:1191411:1219570 [0] NCCL INFO               + XGMI[144.0] - GPU/200000\n",
      "node-0:1191411:1219570 [0] NCCL INFO + PCI[24.0] - GPU/200000 (1)\n",
      "node-0:1191411:1219570 [0] NCCL INFO               + XGMI[144.0] - GPU/100000\n",
      "node-0:1191411:1219570 [0] NCCL INFO ==========================================\n",
      "node-0:1191411:1219570 [0] NCCL INFO GPU/100000 :GPU/100000 (0/5000.000000/LOC) GPU/200000 (1/144.000000/XGMI) CPU/1 (1/24.000000/PHB) \n",
      "node-0:1191411:1219570 [0] NCCL INFO GPU/200000 :GPU/100000 (1/144.000000/XGMI) GPU/200000 (0/5000.000000/LOC) CPU/1 (1/24.000000/PHB) \n",
      "node-0:1191411:1219570 [0] NCCL INFO Setting affinity for GPU 0 to ffff,ff000000\n",
      "node-0:1191411:1219571 [1] NCCL INFO Topology detection : could not read /sys/devices/LNXSYSTM:00/LNXSYBUS:00/ACPI0004:00/VMBUS:00/47505500-0002-0000-3130-303237343043/pci0002:00/0002:00:00.0/../max_link_speed, ignoring\n",
      "node-0:1191411:1219571 [1] NCCL INFO Topology detection : could not read /sys/devices/LNXSYSTM:00/LNXSYBUS:00/ACPI0004:00/VMBUS:00/47505500-0002-0000-3130-303237343043/pci0002:00/0002:00:00.0/../max_link_width, ignoring\n",
      "node-0:1191411:1219571 [1] NCCL INFO === System : maxBw 144.0 totalBw 144.0 ===\n",
      "node-0:1191411:1219571 [1] NCCL INFO CPU/1 (1/2/4)\n",
      "node-0:1191411:1219571 [1] NCCL INFO + PCI[5000.0] - NIC/0\n",
      "node-0:1191411:1219571 [1] NCCL INFO + PCI[24.0] - GPU/100000 (0)\n",
      "node-0:1191411:1219571 [1] NCCL INFO               + XGMI[144.0] - GPU/200000\n",
      "node-0:1191411:1219571 [1] NCCL INFO + PCI[24.0] - GPU/200000 (1)\n",
      "node-0:1191411:1219571 [1] NCCL INFO               + XGMI[144.0] - GPU/100000\n",
      "node-0:1191411:1219571 [1] NCCL INFO ==========================================\n",
      "node-0:1191411:1219571 [1] NCCL INFO GPU/100000 :GPU/100000 (0/5000.000000/LOC) GPU/200000 (1/144.000000/XGMI) CPU/1 (1/24.000000/PHB) \n",
      "node-0:1191411:1219571 [1] NCCL INFO GPU/200000 :GPU/100000 (1/144.000000/XGMI) GPU/200000 (0/5000.000000/LOC) CPU/1 (1/24.000000/PHB) \n",
      "node-0:1191411:1219571 [1] NCCL INFO Setting affinity for GPU 1 to ffff,ff000000\n",
      "node-0:1191411:1219570 [0] NCCL INFO Pattern 4, crossNic 0, nChannels 6, bw 24.000000/24.000000, type XGMI/PIX, sameChannels 1\n",
      "node-0:1191411:1219570 [0] NCCL INFO  0 : GPU/0 GPU/1\n",
      "node-0:1191411:1219570 [0] NCCL INFO  1 : GPU/0 GPU/1\n",
      "node-0:1191411:1219570 [0] NCCL INFO  2 : GPU/0 GPU/1\n",
      "node-0:1191411:1219570 [0] NCCL INFO  3 : GPU/0 GPU/1\n",
      "node-0:1191411:1219570 [0] NCCL INFO  4 : GPU/0 GPU/1\n",
      "node-0:1191411:1219570 [0] NCCL INFO  5 : GPU/0 GPU/1\n",
      "node-0:1191411:1219570 [0] NCCL INFO Pattern 1, crossNic 0, nChannels 6, bw 48.000000/48.000000, type XGMI/PIX, sameChannels 0\n",
      "node-0:1191411:1219570 [0] NCCL INFO  0 : GPU/0 GPU/1\n",
      "node-0:1191411:1219570 [0] NCCL INFO  1 : GPU/0 GPU/1\n",
      "node-0:1191411:1219570 [0] NCCL INFO  2 : GPU/0 GPU/1\n",
      "node-0:1191411:1219570 [0] NCCL INFO  3 : GPU/1 GPU/0\n",
      "node-0:1191411:1219570 [0] NCCL INFO  4 : GPU/1 GPU/0\n",
      "node-0:1191411:1219570 [0] NCCL INFO  5 : GPU/1 GPU/0\n",
      "node-0:1191411:1219570 [0] NCCL INFO Pattern 3, crossNic 0, nChannels 6, bw 48.000000/48.000000, type XGMI/PIX, sameChannels 0\n",
      "node-0:1191411:1219570 [0] NCCL INFO  0 : GPU/0 GPU/1\n",
      "node-0:1191411:1219570 [0] NCCL INFO  1 : GPU/0 GPU/1\n",
      "node-0:1191411:1219570 [0] NCCL INFO  2 : GPU/0 GPU/1\n",
      "node-0:1191411:1219570 [0] NCCL INFO  3 : GPU/1 GPU/0\n",
      "node-0:1191411:1219570 [0] NCCL INFO  4 : GPU/1 GPU/0\n",
      "node-0:1191411:1219570 [0] NCCL INFO  5 : GPU/1 GPU/0\n",
      "node-0:1191411:1219571 [1] NCCL INFO Pattern 4, crossNic 0, nChannels 6, bw 24.000000/24.000000, type XGMI/PIX, sameChannels 1\n",
      "node-0:1191411:1219571 [1] NCCL INFO  0 : GPU/0 GPU/1\n",
      "node-0:1191411:1219571 [1] NCCL INFO  1 : GPU/0 GPU/1\n",
      "node-0:1191411:1219571 [1] NCCL INFO  2 : GPU/0 GPU/1\n",
      "node-0:1191411:1219571 [1] NCCL INFO  3 : GPU/0 GPU/1\n",
      "node-0:1191411:1219571 [1] NCCL INFO  4 : GPU/0 GPU/1\n",
      "node-0:1191411:1219571 [1] NCCL INFO  5 : GPU/0 GPU/1\n",
      "node-0:1191411:1219571 [1] NCCL INFO Pattern 1, crossNic 0, nChannels 6, bw 48.000000/48.000000, type XGMI/PIX, sameChannels 0\n",
      "node-0:1191411:1219571 [1] NCCL INFO  0 : GPU/0 GPU/1\n",
      "node-0:1191411:1219571 [1] NCCL INFO  1 : GPU/0 GPU/1\n",
      "node-0:1191411:1219571 [1] NCCL INFO  2 : GPU/0 GPU/1\n",
      "node-0:1191411:1219571 [1] NCCL INFO  3 : GPU/1 GPU/0\n",
      "node-0:1191411:1219571 [1] NCCL INFO  4 : GPU/1 GPU/0\n",
      "node-0:1191411:1219571 [1] NCCL INFO  5 : GPU/1 GPU/0\n",
      "node-0:1191411:1219571 [1] NCCL INFO Pattern 3, crossNic 0, nChannels 6, bw 48.000000/48.000000, type XGMI/PIX, sameChannels 0\n",
      "node-0:1191411:1219571 [1] NCCL INFO  0 : GPU/0 GPU/1\n",
      "node-0:1191411:1219571 [1] NCCL INFO  1 : GPU/0 GPU/1\n",
      "node-0:1191411:1219571 [1] NCCL INFO  2 : GPU/0 GPU/1\n",
      "node-0:1191411:1219571 [1] NCCL INFO  3 : GPU/1 GPU/0\n",
      "node-0:1191411:1219571 [1] NCCL INFO  4 : GPU/1 GPU/0\n",
      "node-0:1191411:1219571 [1] NCCL INFO  5 : GPU/1 GPU/0\n",
      "node-0:1191411:1219570 [0] NCCL INFO Tree 0 : -1 -> 0 -> 1/-1/-1\n",
      "node-0:1191411:1219570 [0] NCCL INFO Tree 6 : -1 -> 0 -> 1/-1/-1\n",
      "node-0:1191411:1219570 [0] NCCL INFO Tree 1 : -1 -> 0 -> 1/-1/-1\n",
      "node-0:1191411:1219570 [0] NCCL INFO Tree 7 : -1 -> 0 -> 1/-1/-1\n",
      "node-0:1191411:1219570 [0] NCCL INFO Tree 2 : -1 -> 0 -> 1/-1/-1\n",
      "node-0:1191411:1219570 [0] NCCL INFO Tree 8 : -1 -> 0 -> 1/-1/-1\n",
      "node-0:1191411:1219570 [0] NCCL INFO Tree 3 : 1 -> 0 -> -1/-1/-1\n",
      "node-0:1191411:1219570 [0] NCCL INFO Tree 9 : 1 -> 0 -> -1/-1/-1\n",
      "node-0:1191411:1219570 [0] NCCL INFO Tree 4 : 1 -> 0 -> -1/-1/-1\n",
      "node-0:1191411:1219570 [0] NCCL INFO Tree 10 : 1 -> 0 -> -1/-1/-1\n",
      "node-0:1191411:1219570 [0] NCCL INFO Tree 5 : 1 -> 0 -> -1/-1/-1\n",
      "node-0:1191411:1219570 [0] NCCL INFO Tree 11 : 1 -> 0 -> -1/-1/-1\n",
      "node-0:1191411:1219571 [1] NCCL INFO Tree 0 : 0 -> 1 -> -1/-1/-1\n",
      "node-0:1191411:1219571 [1] NCCL INFO Tree 6 : 0 -> 1 -> -1/-1/-1\n",
      "node-0:1191411:1219571 [1] NCCL INFO Tree 1 : 0 -> 1 -> -1/-1/-1\n",
      "node-0:1191411:1219571 [1] NCCL INFO Tree 7 : 0 -> 1 -> -1/-1/-1\n",
      "node-0:1191411:1219571 [1] NCCL INFO Tree 2 : 0 -> 1 -> -1/-1/-1\n",
      "node-0:1191411:1219571 [1] NCCL INFO Tree 8 : 0 -> 1 -> -1/-1/-1\n",
      "node-0:1191411:1219571 [1] NCCL INFO Tree 3 : -1 -> 1 -> 0/-1/-1\n",
      "node-0:1191411:1219571 [1] NCCL INFO Tree 9 : -1 -> 1 -> 0/-1/-1\n",
      "node-0:1191411:1219571 [1] NCCL INFO Tree 4 : -1 -> 1 -> 0/-1/-1\n",
      "node-0:1191411:1219571 [1] NCCL INFO Tree 10 : -1 -> 1 -> 0/-1/-1\n",
      "node-0:1191411:1219571 [1] NCCL INFO Tree 5 : -1 -> 1 -> 0/-1/-1\n",
      "node-0:1191411:1219571 [1] NCCL INFO Tree 11 : -1 -> 1 -> 0/-1/-1\n",
      "node-0:1191411:1219571 [1] NCCL INFO Ring 0 : 0 -> 1 -> 0 comm 0x1db4c550 nRanks 02 busId 200000\n",
      "node-0:1191411:1219571 [1] NCCL INFO Ring 1 : 0 -> 1 -> 0 comm 0x1db4c550 nRanks 02 busId 200000\n",
      "node-0:1191411:1219571 [1] NCCL INFO Ring 2 : 0 -> 1 -> 0 comm 0x1db4c550 nRanks 02 busId 200000\n",
      "node-0:1191411:1219571 [1] NCCL INFO Ring 3 : 0 -> 1 -> 0 comm 0x1db4c550 nRanks 02 busId 200000\n",
      "node-0:1191411:1219571 [1] NCCL INFO Ring 4 : 0 -> 1 -> 0 comm 0x1db4c550 nRanks 02 busId 200000\n",
      "node-0:1191411:1219571 [1] NCCL INFO Ring 5 : 0 -> 1 -> 0 comm 0x1db4c550 nRanks 02 busId 200000\n",
      "node-0:1191411:1219571 [1] NCCL INFO Ring 6 : 0 -> 1 -> 0 comm 0x1db4c550 nRanks 02 busId 200000\n",
      "node-0:1191411:1219571 [1] NCCL INFO Ring 7 : 0 -> 1 -> 0 comm 0x1db4c550 nRanks 02 busId 200000\n",
      "node-0:1191411:1219571 [1] NCCL INFO Ring 8 : 0 -> 1 -> 0 comm 0x1db4c550 nRanks 02 busId 200000\n",
      "node-0:1191411:1219571 [1] NCCL INFO Ring 9 : 0 -> 1 -> 0 comm 0x1db4c550 nRanks 02 busId 200000\n",
      "node-0:1191411:1219571 [1] NCCL INFO Ring 10 : 0 -> 1 -> 0 comm 0x1db4c550 nRanks 02 busId 200000\n",
      "node-0:1191411:1219571 [1] NCCL INFO Ring 11 : 0 -> 1 -> 0 comm 0x1db4c550 nRanks 02 busId 200000\n",
      "node-0:1191411:1219571 [1] NCCL INFO Ring 12 : 0 -> 1 -> 0 comm 0x1db4c550 nRanks 02 busId 200000\n",
      "node-0:1191411:1219571 [1] NCCL INFO Ring 13 : 0 -> 1 -> 0 comm 0x1db4c550 nRanks 02 busId 200000\n",
      "node-0:1191411:1219571 [1] NCCL INFO Ring 14 : 0 -> 1 -> 0 comm 0x1db4c550 nRanks 02 busId 200000\n",
      "node-0:1191411:1219571 [1] NCCL INFO Ring 15 : 0 -> 1 -> 0 comm 0x1db4c550 nRanks 02 busId 200000\n",
      "node-0:1191411:1219571 [1] NCCL INFO Ring 16 : 0 -> 1 -> 0 comm 0x1db4c550 nRanks 02 busId 200000\n",
      "node-0:1191411:1219571 [1] NCCL INFO Ring 17 : 0 -> 1 -> 0 comm 0x1db4c550 nRanks 02 busId 200000\n",
      "node-0:1191411:1219571 [1] NCCL INFO Ring 18 : 0 -> 1 -> 0 comm 0x1db4c550 nRanks 02 busId 200000\n",
      "node-0:1191411:1219571 [1] NCCL INFO Ring 19 : 0 -> 1 -> 0 comm 0x1db4c550 nRanks 02 busId 200000\n",
      "node-0:1191411:1219571 [1] NCCL INFO Ring 20 : 0 -> 1 -> 0 comm 0x1db4c550 nRanks 02 busId 200000\n",
      "node-0:1191411:1219571 [1] NCCL INFO Ring 21 : 0 -> 1 -> 0 comm 0x1db4c550 nRanks 02 busId 200000\n",
      "node-0:1191411:1219571 [1] NCCL INFO Ring 22 : 0 -> 1 -> 0 comm 0x1db4c550 nRanks 02 busId 200000\n",
      "node-0:1191411:1219571 [1] NCCL INFO Ring 23 : 0 -> 1 -> 0 comm 0x1db4c550 nRanks 02 busId 200000\n",
      "node-0:1191411:1219571 [1] NCCL INFO Trees [0] -1/-1/-1->1->0 [1] -1/-1/-1->1->0 [2] -1/-1/-1->1->0 [3] 0/-1/-1->1->-1 [4] 0/-1/-1->1->-1 [5] 0/-1/-1->1->-1 [6] -1/-1/-1->1->0 [7] -1/-1/-1->1->0 [8] -1/-1/-1->1->0 [9] 0/-1/-1->1->-1 [10] 0/-1/-1->1->-1 [11] 0/-1/-1->1->-1 [12] -1/-1/-1->1->0 [13] -1/-1/-1->1->0 [14] -1/-1/-1->1->0 [15] 0/-1/-1->1->-1 [16] 0/-1/-1->1->-1 [17] 0/-1/-1->1->-1 [18] -1/-1/-1->1->0 [19] -1/-1/-1->1->0 [20] -1/-1/-1->1->0 [21] 0/-1/-1->1->-1 [22] 0/-1/-1->1->-1 [23] 0/-1/-1->1->-1 comm 0x1db4c550 nRanks 02 busId 200000\n",
      "node-0:1191411:1219571 [1] NCCL INFO P2P Chunksize set to 524288\n",
      "node-0:1191411:1219570 [0] NCCL INFO Channel 00/24 :    0   1\n",
      "node-0:1191411:1219570 [0] NCCL INFO Channel 01/24 :    0   1\n",
      "node-0:1191411:1219570 [0] NCCL INFO Channel 02/24 :    0   1\n",
      "node-0:1191411:1219570 [0] NCCL INFO Channel 03/24 :    0   1\n",
      "node-0:1191411:1219570 [0] NCCL INFO Channel 04/24 :    0   1\n",
      "node-0:1191411:1219570 [0] NCCL INFO Channel 05/24 :    0   1\n",
      "node-0:1191411:1219570 [0] NCCL INFO Channel 06/24 :    0   1\n",
      "node-0:1191411:1219570 [0] NCCL INFO Channel 07/24 :    0   1\n",
      "node-0:1191411:1219570 [0] NCCL INFO Channel 08/24 :    0   1\n",
      "node-0:1191411:1219570 [0] NCCL INFO Channel 09/24 :    0   1\n",
      "node-0:1191411:1219570 [0] NCCL INFO Channel 10/24 :    0   1\n",
      "node-0:1191411:1219570 [0] NCCL INFO Channel 11/24 :    0   1\n",
      "node-0:1191411:1219570 [0] NCCL INFO Channel 12/24 :    0   1\n",
      "node-0:1191411:1219570 [0] NCCL INFO Channel 13/24 :    0   1\n",
      "node-0:1191411:1219570 [0] NCCL INFO Channel 14/24 :    0   1\n",
      "node-0:1191411:1219570 [0] NCCL INFO Channel 15/24 :    0   1\n",
      "node-0:1191411:1219570 [0] NCCL INFO Channel 16/24 :    0   1\n",
      "node-0:1191411:1219570 [0] NCCL INFO Channel 17/24 :    0   1\n",
      "node-0:1191411:1219570 [0] NCCL INFO Channel 18/24 :    0   1\n",
      "node-0:1191411:1219570 [0] NCCL INFO Channel 19/24 :    0   1\n",
      "node-0:1191411:1219570 [0] NCCL INFO Channel 20/24 :    0   1\n",
      "node-0:1191411:1219570 [0] NCCL INFO Channel 21/24 :    0   1\n",
      "node-0:1191411:1219570 [0] NCCL INFO Channel 22/24 :    0   1\n",
      "node-0:1191411:1219570 [0] NCCL INFO Channel 23/24 :    0   1\n",
      "node-0:1191411:1219570 [0] NCCL INFO Ring 0 : 1 -> 0 -> 1 comm 0x1d666260 nRanks 02 busId 100000\n",
      "node-0:1191411:1219570 [0] NCCL INFO Ring 1 : 1 -> 0 -> 1 comm 0x1d666260 nRanks 02 busId 100000\n",
      "node-0:1191411:1219570 [0] NCCL INFO Ring 2 : 1 -> 0 -> 1 comm 0x1d666260 nRanks 02 busId 100000\n",
      "node-0:1191411:1219570 [0] NCCL INFO Ring 3 : 1 -> 0 -> 1 comm 0x1d666260 nRanks 02 busId 100000\n"
     ]
    },
    {
     "name": "stdout",
     "output_type": "stream",
     "text": [
      "node-0:1191411:1219570 [0] NCCL INFO Ring 4 : 1 -> 0 -> 1 comm 0x1d666260 nRanks 02 busId 100000\n",
      "node-0:1191411:1219570 [0] NCCL INFO Ring 5 : 1 -> 0 -> 1 comm 0x1d666260 nRanks 02 busId 100000\n",
      "node-0:1191411:1219570 [0] NCCL INFO Ring 6 : 1 -> 0 -> 1 comm 0x1d666260 nRanks 02 busId 100000\n",
      "node-0:1191411:1219570 [0] NCCL INFO Ring 7 : 1 -> 0 -> 1 comm 0x1d666260 nRanks 02 busId 100000\n",
      "node-0:1191411:1219570 [0] NCCL INFO Ring 8 : 1 -> 0 -> 1 comm 0x1d666260 nRanks 02 busId 100000\n",
      "node-0:1191411:1219570 [0] NCCL INFO Ring 9 : 1 -> 0 -> 1 comm 0x1d666260 nRanks 02 busId 100000\n",
      "node-0:1191411:1219570 [0] NCCL INFO Ring 10 : 1 -> 0 -> 1 comm 0x1d666260 nRanks 02 busId 100000\n",
      "node-0:1191411:1219570 [0] NCCL INFO Ring 11 : 1 -> 0 -> 1 comm 0x1d666260 nRanks 02 busId 100000\n",
      "node-0:1191411:1219570 [0] NCCL INFO Ring 12 : 1 -> 0 -> 1 comm 0x1d666260 nRanks 02 busId 100000\n",
      "node-0:1191411:1219570 [0] NCCL INFO Ring 13 : 1 -> 0 -> 1 comm 0x1d666260 nRanks 02 busId 100000\n",
      "node-0:1191411:1219570 [0] NCCL INFO Ring 14 : 1 -> 0 -> 1 comm 0x1d666260 nRanks 02 busId 100000\n",
      "node-0:1191411:1219570 [0] NCCL INFO Ring 15 : 1 -> 0 -> 1 comm 0x1d666260 nRanks 02 busId 100000\n",
      "node-0:1191411:1219570 [0] NCCL INFO Ring 16 : 1 -> 0 -> 1 comm 0x1d666260 nRanks 02 busId 100000\n",
      "node-0:1191411:1219570 [0] NCCL INFO Ring 17 : 1 -> 0 -> 1 comm 0x1d666260 nRanks 02 busId 100000\n",
      "node-0:1191411:1219570 [0] NCCL INFO Ring 18 : 1 -> 0 -> 1 comm 0x1d666260 nRanks 02 busId 100000\n",
      "node-0:1191411:1219570 [0] NCCL INFO Ring 19 : 1 -> 0 -> 1 comm 0x1d666260 nRanks 02 busId 100000\n",
      "node-0:1191411:1219570 [0] NCCL INFO Ring 20 : 1 -> 0 -> 1 comm 0x1d666260 nRanks 02 busId 100000\n",
      "node-0:1191411:1219570 [0] NCCL INFO Ring 21 : 1 -> 0 -> 1 comm 0x1d666260 nRanks 02 busId 100000\n",
      "node-0:1191411:1219570 [0] NCCL INFO Ring 22 : 1 -> 0 -> 1 comm 0x1d666260 nRanks 02 busId 100000\n",
      "node-0:1191411:1219570 [0] NCCL INFO Ring 23 : 1 -> 0 -> 1 comm 0x1d666260 nRanks 02 busId 100000\n",
      "node-0:1191411:1219570 [0] NCCL INFO Trees [0] 1/-1/-1->0->-1 [1] 1/-1/-1->0->-1 [2] 1/-1/-1->0->-1 [3] -1/-1/-1->0->1 [4] -1/-1/-1->0->1 [5] -1/-1/-1->0->1 [6] 1/-1/-1->0->-1 [7] 1/-1/-1->0->-1 [8] 1/-1/-1->0->-1 [9] -1/-1/-1->0->1 [10] -1/-1/-1->0->1 [11] -1/-1/-1->0->1 [12] 1/-1/-1->0->-1 [13] 1/-1/-1->0->-1 [14] 1/-1/-1->0->-1 [15] -1/-1/-1->0->1 [16] -1/-1/-1->0->1 [17] -1/-1/-1->0->1 [18] 1/-1/-1->0->-1 [19] 1/-1/-1->0->-1 [20] 1/-1/-1->0->-1 [21] -1/-1/-1->0->1 [22] -1/-1/-1->0->1 [23] -1/-1/-1->0->1 comm 0x1d666260 nRanks 02 busId 100000\n",
      "node-0:1191411:1219570 [0] NCCL INFO P2P Chunksize set to 524288\n",
      "node-0:1191411:1219570 [0] NCCL INFO Channel 00/0 : 0[100000] -> 1[200000] via P2P/direct pointer comm 0x1d666260 nRanks 02\n",
      "node-0:1191411:1219570 [0] NCCL INFO Channel 01/0 : 0[100000] -> 1[200000] via P2P/direct pointer comm 0x1d666260 nRanks 02\n",
      "node-0:1191411:1219570 [0] NCCL INFO Channel 02/0 : 0[100000] -> 1[200000] via P2P/direct pointer comm 0x1d666260 nRanks 02\n",
      "node-0:1191411:1219570 [0] NCCL INFO Channel 03/0 : 0[100000] -> 1[200000] via P2P/direct pointer comm 0x1d666260 nRanks 02\n",
      "node-0:1191411:1219571 [1] NCCL INFO Channel 00/0 : 1[200000] -> 0[100000] via P2P/direct pointer comm 0x1db4c550 nRanks 02\n",
      "node-0:1191411:1219570 [0] NCCL INFO Channel 04/0 : 0[100000] -> 1[200000] via P2P/direct pointer comm 0x1d666260 nRanks 02\n",
      "node-0:1191411:1219571 [1] NCCL INFO Channel 01/0 : 1[200000] -> 0[100000] via P2P/direct pointer comm 0x1db4c550 nRanks 02\n",
      "node-0:1191411:1219570 [0] NCCL INFO Channel 05/0 : 0[100000] -> 1[200000] via P2P/direct pointer comm 0x1d666260 nRanks 02\n",
      "node-0:1191411:1219571 [1] NCCL INFO Channel 02/0 : 1[200000] -> 0[100000] via P2P/direct pointer comm 0x1db4c550 nRanks 02\n",
      "node-0:1191411:1219570 [0] NCCL INFO Channel 06/0 : 0[100000] -> 1[200000] via P2P/direct pointer comm 0x1d666260 nRanks 02\n",
      "node-0:1191411:1219570 [0] NCCL INFO Channel 07/0 : 0[100000] -> 1[200000] via P2P/direct pointer comm 0x1d666260 nRanks 02\n",
      "node-0:1191411:1219571 [1] NCCL INFO Channel 03/0 : 1[200000] -> 0[100000] via P2P/direct pointer comm 0x1db4c550 nRanks 02\n",
      "node-0:1191411:1219571 [1] NCCL INFO Channel 04/0 : 1[200000] -> 0[100000] via P2P/direct pointer comm 0x1db4c550 nRanks 02\n",
      "node-0:1191411:1219570 [0] NCCL INFO Channel 08/0 : 0[100000] -> 1[200000] via P2P/direct pointer comm 0x1d666260 nRanks 02\n",
      "node-0:1191411:1219570 [0] NCCL INFO Channel 09/0 : 0[100000] -> 1[200000] via P2P/direct pointer comm 0x1d666260 nRanks 02\n",
      "node-0:1191411:1219571 [1] NCCL INFO Channel 05/0 : 1[200000] -> 0[100000] via P2P/direct pointer comm 0x1db4c550 nRanks 02\n",
      "node-0:1191411:1219571 [1] NCCL INFO Channel 06/0 : 1[200000] -> 0[100000] via P2P/direct pointer comm 0x1db4c550 nRanks 02\n",
      "node-0:1191411:1219570 [0] NCCL INFO Channel 10/0 : 0[100000] -> 1[200000] via P2P/direct pointer comm 0x1d666260 nRanks 02\n",
      "node-0:1191411:1219571 [1] NCCL INFO Channel 07/0 : 1[200000] -> 0[100000] via P2P/direct pointer comm 0x1db4c550 nRanks 02\n",
      "node-0:1191411:1219570 [0] NCCL INFO Channel 11/0 : 0[100000] -> 1[200000] via P2P/direct pointer comm 0x1d666260 nRanks 02\n",
      "node-0:1191411:1219571 [1] NCCL INFO Channel 08/0 : 1[200000] -> 0[100000] via P2P/direct pointer comm 0x1db4c550 nRanks 02\n",
      "node-0:1191411:1219570 [0] NCCL INFO Channel 12/0 : 0[100000] -> 1[200000] via P2P/direct pointer comm 0x1d666260 nRanks 02\n",
      "node-0:1191411:1219571 [1] NCCL INFO Channel 09/0 : 1[200000] -> 0[100000] via P2P/direct pointer comm 0x1db4c550 nRanks 02\n",
      "node-0:1191411:1219570 [0] NCCL INFO Channel 13/0 : 0[100000] -> 1[200000] via P2P/direct pointer comm 0x1d666260 nRanks 02\n",
      "node-0:1191411:1219570 [0] NCCL INFO Channel 14/0 : 0[100000] -> 1[200000] via P2P/direct pointer comm 0x1d666260 nRanks 02\n",
      "node-0:1191411:1219571 [1] NCCL INFO Channel 10/0 : 1[200000] -> 0[100000] via P2P/direct pointer comm 0x1db4c550 nRanks 02\n",
      "node-0:1191411:1219570 [0] NCCL INFO Channel 15/0 : 0[100000] -> 1[200000] via P2P/direct pointer comm 0x1d666260 nRanks 02\n",
      "node-0:1191411:1219571 [1] NCCL INFO Channel 11/0 : 1[200000] -> 0[100000] via P2P/direct pointer comm 0x1db4c550 nRanks 02\n",
      "node-0:1191411:1219570 [0] NCCL INFO Channel 16/0 : 0[100000] -> 1[200000] via P2P/direct pointer comm 0x1d666260 nRanks 02\n",
      "node-0:1191411:1219570 [0] NCCL INFO Channel 17/0 : 0[100000] -> 1[200000] via P2P/direct pointer comm 0x1d666260 nRanks 02\n",
      "node-0:1191411:1219571 [1] NCCL INFO Channel 12/0 : 1[200000] -> 0[100000] via P2P/direct pointer comm 0x1db4c550 nRanks 02\n",
      "node-0:1191411:1219571 [1] NCCL INFO Channel 13/0 : 1[200000] -> 0[100000] via P2P/direct pointer comm 0x1db4c550 nRanks 02\n",
      "node-0:1191411:1219570 [0] NCCL INFO Channel 18/0 : 0[100000] -> 1[200000] via P2P/direct pointer comm 0x1d666260 nRanks 02\n",
      "node-0:1191411:1219571 [1] NCCL INFO Channel 14/0 : 1[200000] -> 0[100000] via P2P/direct pointer comm 0x1db4c550 nRanks 02\n",
      "node-0:1191411:1219570 [0] NCCL INFO Channel 19/0 : 0[100000] -> 1[200000] via P2P/direct pointer comm 0x1d666260 nRanks 02\n",
      "node-0:1191411:1219571 [1] NCCL INFO Channel 15/0 : 1[200000] -> 0[100000] via P2P/direct pointer comm 0x1db4c550 nRanks 02\n",
      "node-0:1191411:1219570 [0] NCCL INFO Channel 20/0 : 0[100000] -> 1[200000] via P2P/direct pointer comm 0x1d666260 nRanks 02\n",
      "node-0:1191411:1219571 [1] NCCL INFO Channel 16/0 : 1[200000] -> 0[100000] via P2P/direct pointer comm 0x1db4c550 nRanks 02\n",
      "node-0:1191411:1219570 [0] NCCL INFO Channel 21/0 : 0[100000] -> 1[200000] via P2P/direct pointer comm 0x1d666260 nRanks 02\n",
      "node-0:1191411:1219571 [1] NCCL INFO Channel 17/0 : 1[200000] -> 0[100000] via P2P/direct pointer comm 0x1db4c550 nRanks 02\n",
      "node-0:1191411:1219570 [0] NCCL INFO Channel 22/0 : 0[100000] -> 1[200000] via P2P/direct pointer comm 0x1d666260 nRanks 02\n",
      "node-0:1191411:1219571 [1] NCCL INFO Channel 18/0 : 1[200000] -> 0[100000] via P2P/direct pointer comm 0x1db4c550 nRanks 02\n",
      "node-0:1191411:1219570 [0] NCCL INFO Channel 23/0 : 0[100000] -> 1[200000] via P2P/direct pointer comm 0x1d666260 nRanks 02\n",
      "node-0:1191411:1219571 [1] NCCL INFO Channel 19/0 : 1[200000] -> 0[100000] via P2P/direct pointer comm 0x1db4c550 nRanks 02\n",
      "node-0:1191411:1219571 [1] NCCL INFO Channel 20/0 : 1[200000] -> 0[100000] via P2P/direct pointer comm 0x1db4c550 nRanks 02\n",
      "node-0:1191411:1219571 [1] NCCL INFO Channe"
     ]
    },
    {
     "name": "stderr",
     "output_type": "stream",
     "text": [
      "/home/aiscuser/scratch/Projects/xcai/xcai/losses.py:21: UserWarning: Sparse CSR tensor support is in beta state. If you miss a functionality in the sparse tensor support, please submit a feature request to https://github.com/pytorch/pytorch/issues. (Triggered internally at ../aten/src/ATen/SparseCsrTensorImpl.cpp:54.)\n",
      "  return torch.sparse_csr_tensor(data_ptr, data_idx, scores, device=data_ptr.device)\n"
     ]
    },
    {
     "data": {
      "text/html": [],
      "text/plain": [
       "<IPython.core.display.HTML object>"
      ]
     },
     "metadata": {},
     "output_type": "display_data"
    },
    {
     "data": {
      "text/html": [
       "<div>\n",
       "<style scoped>\n",
       "    .dataframe tbody tr th:only-of-type {\n",
       "        vertical-align: middle;\n",
       "    }\n",
       "\n",
       "    .dataframe tbody tr th {\n",
       "        vertical-align: top;\n",
       "    }\n",
       "\n",
       "    .dataframe thead th {\n",
       "        text-align: right;\n",
       "    }\n",
       "</style>\n",
       "<table border=\"1\" class=\"dataframe\">\n",
       "  <thead>\n",
       "    <tr style=\"text-align: right;\">\n",
       "      <th></th>\n",
       "      <th>P@1</th>\n",
       "      <th>P@3</th>\n",
       "      <th>P@5</th>\n",
       "      <th>P@10</th>\n",
       "      <th>N@1</th>\n",
       "      <th>N@3</th>\n",
       "      <th>N@5</th>\n",
       "      <th>N@10</th>\n",
       "      <th>PSP@1</th>\n",
       "      <th>PSP@3</th>\n",
       "      <th>PSP@5</th>\n",
       "      <th>PSP@10</th>\n",
       "      <th>PSN@1</th>\n",
       "      <th>PSN@3</th>\n",
       "      <th>PSN@5</th>\n",
       "      <th>PSN@10</th>\n",
       "      <th>R@10</th>\n",
       "      <th>R@100</th>\n",
       "      <th>R@200</th>\n",
       "      <th>loss</th>\n",
       "      <th>runtime</th>\n",
       "      <th>samples_per_second</th>\n",
       "      <th>steps_per_second</th>\n",
       "    </tr>\n",
       "  </thead>\n",
       "  <tbody>\n",
       "    <tr>\n",
       "      <th>0</th>\n",
       "      <td>60.7882</td>\n",
       "      <td>36.8697</td>\n",
       "      <td>25.929</td>\n",
       "      <td>15.2137</td>\n",
       "      <td>60.7882</td>\n",
       "      <td>48.8842</td>\n",
       "      <td>46.1569</td>\n",
       "      <td>45.8621</td>\n",
       "      <td>36.3786</td>\n",
       "      <td>36.148</td>\n",
       "      <td>35.7916</td>\n",
       "      <td>37.5555</td>\n",
       "      <td>36.3786</td>\n",
       "      <td>38.2945</td>\n",
       "      <td>40.1427</td>\n",
       "      <td>42.9772</td>\n",
       "      <td>44.781</td>\n",
       "      <td>59.8771</td>\n",
       "      <td>64.5815</td>\n",
       "      <td>0.0668</td>\n",
       "      <td>1243.7766</td>\n",
       "      <td>630.132</td>\n",
       "      <td>0.394</td>\n",
       "    </tr>\n",
       "  </tbody>\n",
       "</table>\n",
       "</div>"
      ],
      "text/plain": [
       "       P@1      P@3     P@5     P@10      N@1      N@3      N@5     N@10  \\\n",
       "0  60.7882  36.8697  25.929  15.2137  60.7882  48.8842  46.1569  45.8621   \n",
       "\n",
       "     PSP@1   PSP@3    PSP@5   PSP@10    PSN@1    PSN@3    PSN@5   PSN@10  \\\n",
       "0  36.3786  36.148  35.7916  37.5555  36.3786  38.2945  40.1427  42.9772   \n",
       "\n",
       "     R@10    R@100    R@200    loss    runtime  samples_per_second  \\\n",
       "0  44.781  59.8771  64.5815  0.0668  1243.7766             630.132   \n",
       "\n",
       "   steps_per_second  \n",
       "0             0.394  "
      ]
     },
     "metadata": {},
     "output_type": "display_data"
    }
   ],
   "source": [
    "#| export\n",
    "test_dset = block.test.dset.sample(n=2000, seed=50)\n",
    "metric = PrecRecl(block.n_lbl, block.test.data_lbl_filterer, prop=block.train.dset.data.data_lbl,\n",
    "                  pk=10, rk=200, rep_pk=[1, 3, 5, 10], rep_rk=[10, 100, 200])\n",
    "\n",
    "learn = XCLearner(model=model, args=args, trie=trie, train_dataset=block.train.dset, eval_dataset=test_dset,\n",
    "                  data_collator=block.collator, compute_metrics=metric)\n",
    "\n",
    "if __name__ == '__main__':\n",
    "    mp.freeze_support()\n",
    "    test_pred = learn.predict(block.test.dset)\n",
    "    \n",
    "display_metric(test_pred.metrics)"
   ]
  },
  {
   "cell_type": "code",
   "execution_count": null,
   "id": "0e92d543",
   "metadata": {},
   "outputs": [],
   "source": []
  },
  {
   "cell_type": "code",
   "execution_count": null,
   "id": "7a58dde6",
   "metadata": {},
   "outputs": [],
   "source": [
    "#| export\n",
    "pred_dir = f'{mname}/predictions/'\n",
    "os.makedirs(pred_dir, exist_ok=True)\n",
    "with open(f'{pred_dir}/test_predictions.pkl', 'wb') as file: pickle.dump(test_pred, file)"
   ]
  },
  {
   "cell_type": "code",
   "execution_count": null,
   "id": "78e6d26f",
   "metadata": {},
   "outputs": [],
   "source": []
  },
  {
   "cell_type": "markdown",
   "id": "98e083a8",
   "metadata": {},
   "source": [
    "## Fusion"
   ]
  },
  {
   "cell_type": "code",
   "execution_count": 12,
   "id": "e02e177a",
   "metadata": {},
   "outputs": [],
   "source": [
    "import numpy as np"
   ]
  },
  {
   "cell_type": "code",
   "execution_count": 10,
   "id": "897927d8",
   "metadata": {},
   "outputs": [],
   "source": [
    "pred_dir = f'{mname}/predictions/'\n",
    "\n",
    "with open(f'{pred_dir}/train_predictions.pkl', 'rb') as f: \n",
    "    train_pred = pickle.load(f)\n",
    "    \n",
    "with open(f'{pred_dir}/test_predictions.pkl', 'rb') as f: \n",
    "    test_pred = pickle.load(f)"
   ]
  },
  {
   "cell_type": "code",
   "execution_count": null,
   "id": "e314ea92",
   "metadata": {},
   "outputs": [],
   "source": []
  },
  {
   "cell_type": "code",
   "execution_count": 13,
   "id": "d613e484",
   "metadata": {},
   "outputs": [],
   "source": [
    "gen_pred,targ = get_output_sparse(**test_pred.gen_output, n_lbl=block.n_lbl)\n",
    "repr_pred,_ = get_output_sparse(**test_pred.repr_output, n_lbl=block.n_lbl)\n",
    "gen_pred.data = np.exp(gen_pred.data)"
   ]
  },
  {
   "cell_type": "code",
   "execution_count": 14,
   "id": "2a44df43",
   "metadata": {},
   "outputs": [],
   "source": [
    "train_gen_pred,train_targ = get_output_sparse(**train_pred.gen_output, n_lbl=block.n_lbl)\n",
    "train_repr_pred,_ = get_output_sparse(**train_pred.repr_output, n_lbl=block.n_lbl)\n",
    "train_gen_pred.data = np.exp(train_gen_pred.data)"
   ]
  },
  {
   "cell_type": "code",
   "execution_count": null,
   "id": "eb93aba3",
   "metadata": {},
   "outputs": [],
   "source": []
  },
  {
   "cell_type": "code",
   "execution_count": 22,
   "id": "c751226b",
   "metadata": {},
   "outputs": [],
   "source": [
    "prop = xc_metrics.compute_inv_propesity(block.train.dset.data.data_lbl, A=0.55, B=1.5)\n",
    "fuser = ScoreFusion(prop)"
   ]
  },
  {
   "cell_type": "code",
   "execution_count": 23,
   "id": "5c03604b",
   "metadata": {},
   "outputs": [],
   "source": [
    "fuser.fit(train_gen_pred, train_repr_pred, train_targ)"
   ]
  },
  {
   "cell_type": "code",
   "execution_count": 30,
   "id": "77be2dad",
   "metadata": {},
   "outputs": [],
   "source": [
    "pred = fuser.predict(gen_pred, repr_pred, beta=0.1)"
   ]
  },
  {
   "cell_type": "code",
   "execution_count": 31,
   "id": "d1bccd70",
   "metadata": {},
   "outputs": [],
   "source": [
    "output = {\n",
    "    'targ_idx': test_pred.gen_output['targ_idx'],\n",
    "    'targ_ptr': test_pred.gen_output['targ_ptr'],\n",
    "    'pred_idx': torch.tensor(pred.indices),\n",
    "    'pred_ptr': torch.tensor([q-p for p,q in zip(pred.indptr, pred.indptr[1:])]),\n",
    "    'pred_score': torch.tensor(pred.data),\n",
    "}"
   ]
  },
  {
   "cell_type": "code",
   "execution_count": 32,
   "id": "52f12756",
   "metadata": {},
   "outputs": [
    {
     "name": "stderr",
     "output_type": "stream",
     "text": [
      "/opt/conda/envs/ptca/lib/python3.9/site-packages/scipy/sparse/_index.py:146: SparseEfficiencyWarning: Changing the sparsity structure of a csr_matrix is expensive. lil_matrix is more efficient.\n",
      "  self._set_arrayXarray(i, j, x)\n",
      "/opt/conda/envs/ptca/lib/python3.9/site-packages/scipy/sparse/_index.py:146: SparseEfficiencyWarning: Changing the sparsity structure of a csr_matrix is expensive. lil_matrix is more efficient.\n",
      "  self._set_arrayXarray(i, j, x)\n"
     ]
    },
    {
     "data": {
      "text/html": [
       "<div>\n",
       "<style scoped>\n",
       "    .dataframe tbody tr th:only-of-type {\n",
       "        vertical-align: middle;\n",
       "    }\n",
       "\n",
       "    .dataframe tbody tr th {\n",
       "        vertical-align: top;\n",
       "    }\n",
       "\n",
       "    .dataframe thead th {\n",
       "        text-align: right;\n",
       "    }\n",
       "</style>\n",
       "<table border=\"1\" class=\"dataframe\">\n",
       "  <thead>\n",
       "    <tr style=\"text-align: right;\">\n",
       "      <th></th>\n",
       "      <th>P@1</th>\n",
       "      <th>P@3</th>\n",
       "      <th>P@5</th>\n",
       "      <th>P@10</th>\n",
       "      <th>N@1</th>\n",
       "      <th>N@3</th>\n",
       "      <th>N@5</th>\n",
       "      <th>N@10</th>\n",
       "      <th>PSP@1</th>\n",
       "      <th>PSP@3</th>\n",
       "      <th>PSP@5</th>\n",
       "      <th>PSP@10</th>\n",
       "      <th>PSN@1</th>\n",
       "      <th>PSN@3</th>\n",
       "      <th>PSN@5</th>\n",
       "      <th>PSN@10</th>\n",
       "      <th>R@10</th>\n",
       "      <th>R@100</th>\n",
       "      <th>R@200</th>\n",
       "    </tr>\n",
       "  </thead>\n",
       "  <tbody>\n",
       "    <tr>\n",
       "      <th>0</th>\n",
       "      <td>32.3128</td>\n",
       "      <td>21.7133</td>\n",
       "      <td>16.4126</td>\n",
       "      <td>10.3124</td>\n",
       "      <td>32.3128</td>\n",
       "      <td>32.1152</td>\n",
       "      <td>33.1314</td>\n",
       "      <td>34.8998</td>\n",
       "      <td>25.7029</td>\n",
       "      <td>28.1331</td>\n",
       "      <td>30.4293</td>\n",
       "      <td>34.7173</td>\n",
       "      <td>25.7029</td>\n",
       "      <td>28.2914</td>\n",
       "      <td>30.0372</td>\n",
       "      <td>32.1681</td>\n",
       "      <td>39.5329</td>\n",
       "      <td>52.4273</td>\n",
       "      <td>55.1471</td>\n",
       "    </tr>\n",
       "  </tbody>\n",
       "</table>\n",
       "</div>"
      ],
      "text/plain": [
       "       P@1      P@3      P@5     P@10      N@1      N@3      N@5     N@10  \\\n",
       "0  32.3128  21.7133  16.4126  10.3124  32.3128  32.1152  33.1314  34.8998   \n",
       "\n",
       "     PSP@1    PSP@3    PSP@5   PSP@10    PSN@1    PSN@3    PSN@5   PSN@10  \\\n",
       "0  25.7029  28.1331  30.4293  34.7173  25.7029  28.2914  30.0372  32.1681   \n",
       "\n",
       "      R@10    R@100    R@200  \n",
       "0  39.5329  52.4273  55.1471  "
      ]
     },
     "metadata": {},
     "output_type": "display_data"
    },
    {
     "data": {
      "text/html": [
       "<div>\n",
       "<style scoped>\n",
       "    .dataframe tbody tr th:only-of-type {\n",
       "        vertical-align: middle;\n",
       "    }\n",
       "\n",
       "    .dataframe tbody tr th {\n",
       "        vertical-align: top;\n",
       "    }\n",
       "\n",
       "    .dataframe thead th {\n",
       "        text-align: right;\n",
       "    }\n",
       "</style>\n",
       "<table border=\"1\" class=\"dataframe\">\n",
       "  <thead>\n",
       "    <tr style=\"text-align: right;\">\n",
       "      <th></th>\n",
       "      <th>P@1</th>\n",
       "      <th>P@3</th>\n",
       "      <th>P@5</th>\n",
       "      <th>P@10</th>\n",
       "      <th>N@1</th>\n",
       "      <th>N@3</th>\n",
       "      <th>N@5</th>\n",
       "      <th>N@10</th>\n",
       "      <th>PSP@1</th>\n",
       "      <th>PSP@3</th>\n",
       "      <th>PSP@5</th>\n",
       "      <th>PSP@10</th>\n",
       "      <th>PSN@1</th>\n",
       "      <th>PSN@3</th>\n",
       "      <th>PSN@5</th>\n",
       "      <th>PSN@10</th>\n",
       "      <th>R@10</th>\n",
       "      <th>R@100</th>\n",
       "      <th>R@200</th>\n",
       "    </tr>\n",
       "  </thead>\n",
       "  <tbody>\n",
       "    <tr>\n",
       "      <th>0</th>\n",
       "      <td>32.3128</td>\n",
       "      <td>21.7133</td>\n",
       "      <td>16.4126</td>\n",
       "      <td>10.3124</td>\n",
       "      <td>32.3128</td>\n",
       "      <td>32.1152</td>\n",
       "      <td>33.1314</td>\n",
       "      <td>34.8998</td>\n",
       "      <td>25.7029</td>\n",
       "      <td>28.1331</td>\n",
       "      <td>30.4293</td>\n",
       "      <td>34.7173</td>\n",
       "      <td>25.7029</td>\n",
       "      <td>28.2914</td>\n",
       "      <td>30.0372</td>\n",
       "      <td>32.1681</td>\n",
       "      <td>39.5329</td>\n",
       "      <td>52.4273</td>\n",
       "      <td>55.1471</td>\n",
       "    </tr>\n",
       "  </tbody>\n",
       "</table>\n",
       "</div>"
      ],
      "text/plain": [
       "       P@1      P@3      P@5     P@10      N@1      N@3      N@5     N@10  \\\n",
       "0  32.3128  21.7133  16.4126  10.3124  32.3128  32.1152  33.1314  34.8998   \n",
       "\n",
       "     PSP@1    PSP@3    PSP@5   PSP@10    PSN@1    PSN@3    PSN@5   PSN@10  \\\n",
       "0  25.7029  28.1331  30.4293  34.7173  25.7029  28.2914  30.0372  32.1681   \n",
       "\n",
       "      R@10    R@100    R@200  \n",
       "0  39.5329  52.4273  55.1471  "
      ]
     },
     "metadata": {},
     "output_type": "display_data"
    }
   ],
   "source": [
    "metric = PrecRecl(block.n_lbl, block.test.data_lbl_filterer, prop=block.train.dset.data.data_lbl,\n",
    "                  pk=10, rk=200, rep_pk=[1, 3, 5, 10], rep_rk=[10, 100, 200])\n",
    "m = metric(**output)\n",
    "display_metric(m, remove_prefix=False)"
   ]
  },
  {
   "cell_type": "code",
   "execution_count": 52,
   "id": "a473617b",
   "metadata": {},
   "outputs": [
    {
     "name": "stderr",
     "output_type": "stream",
     "text": [
      "/opt/conda/envs/ptca/lib/python3.9/site-packages/scipy/sparse/_index.py:146: SparseEfficiencyWarning: Changing the sparsity structure of a csr_matrix is expensive. lil_matrix is more efficient.\n",
      "  self._set_arrayXarray(i, j, x)\n"
     ]
    },
    {
     "data": {
      "text/html": [
       "<div>\n",
       "<style scoped>\n",
       "    .dataframe tbody tr th:only-of-type {\n",
       "        vertical-align: middle;\n",
       "    }\n",
       "\n",
       "    .dataframe tbody tr th {\n",
       "        vertical-align: top;\n",
       "    }\n",
       "\n",
       "    .dataframe thead th {\n",
       "        text-align: right;\n",
       "    }\n",
       "</style>\n",
       "<table border=\"1\" class=\"dataframe\">\n",
       "  <thead>\n",
       "    <tr style=\"text-align: right;\">\n",
       "      <th></th>\n",
       "      <th>P@1</th>\n",
       "      <th>P@3</th>\n",
       "      <th>P@5</th>\n",
       "      <th>P@10</th>\n",
       "      <th>N@1</th>\n",
       "      <th>N@3</th>\n",
       "      <th>N@5</th>\n",
       "      <th>N@10</th>\n",
       "      <th>PSP@1</th>\n",
       "      <th>PSP@3</th>\n",
       "      <th>PSP@5</th>\n",
       "      <th>PSP@10</th>\n",
       "      <th>PSN@1</th>\n",
       "      <th>PSN@3</th>\n",
       "      <th>PSN@5</th>\n",
       "      <th>PSN@10</th>\n",
       "      <th>R@10</th>\n",
       "      <th>R@100</th>\n",
       "      <th>R@200</th>\n",
       "    </tr>\n",
       "  </thead>\n",
       "  <tbody>\n",
       "    <tr>\n",
       "      <th>0</th>\n",
       "      <td>31.1399</td>\n",
       "      <td>20.7286</td>\n",
       "      <td>15.6277</td>\n",
       "      <td>9.8765</td>\n",
       "      <td>31.1399</td>\n",
       "      <td>30.8007</td>\n",
       "      <td>31.7445</td>\n",
       "      <td>33.5378</td>\n",
       "      <td>24.4896</td>\n",
       "      <td>26.6505</td>\n",
       "      <td>28.803</td>\n",
       "      <td>33.1025</td>\n",
       "      <td>24.4896</td>\n",
       "      <td>26.9292</td>\n",
       "      <td>28.598</td>\n",
       "      <td>30.7434</td>\n",
       "      <td>38.1122</td>\n",
       "      <td>52.0618</td>\n",
       "      <td>55.2864</td>\n",
       "    </tr>\n",
       "  </tbody>\n",
       "</table>\n",
       "</div>"
      ],
      "text/plain": [
       "       P@1      P@3      P@5    P@10      N@1      N@3      N@5     N@10  \\\n",
       "0  31.1399  20.7286  15.6277  9.8765  31.1399  30.8007  31.7445  33.5378   \n",
       "\n",
       "     PSP@1    PSP@3   PSP@5   PSP@10    PSN@1    PSN@3   PSN@5   PSN@10  \\\n",
       "0  24.4896  26.6505  28.803  33.1025  24.4896  26.9292  28.598  30.7434   \n",
       "\n",
       "      R@10    R@100    R@200  \n",
       "0  38.1122  52.0618  55.2864  "
      ]
     },
     "metadata": {},
     "output_type": "display_data"
    }
   ],
   "source": [
    "metric = PrecRecl(block.n_lbl, block.test.data_lbl_filterer, prop=block.train.dset.data.data_lbl,\n",
    "                  pk=10, rk=200, rep_pk=[1, 3, 5, 10], rep_rk=[10, 100, 200])\n",
    "m = metric(**output)\n",
    "display_metric(m, remove_prefix=False)"
   ]
  },
  {
   "cell_type": "code",
   "execution_count": null,
   "id": "447d4fd7",
   "metadata": {},
   "outputs": [],
   "source": []
  },
  {
   "cell_type": "code",
   "execution_count": 55,
   "id": "5064029e",
   "metadata": {},
   "outputs": [
    {
     "name": "stderr",
     "output_type": "stream",
     "text": [
      "/opt/conda/envs/ptca/lib/python3.9/site-packages/scipy/sparse/_index.py:146: SparseEfficiencyWarning: Changing the sparsity structure of a csr_matrix is expensive. lil_matrix is more efficient.\n",
      "  self._set_arrayXarray(i, j, x)\n"
     ]
    },
    {
     "data": {
      "text/html": [
       "<div>\n",
       "<style scoped>\n",
       "    .dataframe tbody tr th:only-of-type {\n",
       "        vertical-align: middle;\n",
       "    }\n",
       "\n",
       "    .dataframe tbody tr th {\n",
       "        vertical-align: top;\n",
       "    }\n",
       "\n",
       "    .dataframe thead th {\n",
       "        text-align: right;\n",
       "    }\n",
       "</style>\n",
       "<table border=\"1\" class=\"dataframe\">\n",
       "  <thead>\n",
       "    <tr style=\"text-align: right;\">\n",
       "      <th></th>\n",
       "      <th>P@1</th>\n",
       "      <th>P@3</th>\n",
       "      <th>P@5</th>\n",
       "      <th>P@10</th>\n",
       "      <th>N@1</th>\n",
       "      <th>N@3</th>\n",
       "      <th>N@5</th>\n",
       "      <th>N@10</th>\n",
       "      <th>PSP@1</th>\n",
       "      <th>PSP@3</th>\n",
       "      <th>PSP@5</th>\n",
       "      <th>PSP@10</th>\n",
       "      <th>PSN@1</th>\n",
       "      <th>PSN@3</th>\n",
       "      <th>PSN@5</th>\n",
       "      <th>PSN@10</th>\n",
       "      <th>R@10</th>\n",
       "      <th>R@100</th>\n",
       "      <th>R@200</th>\n",
       "    </tr>\n",
       "  </thead>\n",
       "  <tbody>\n",
       "    <tr>\n",
       "      <th>0</th>\n",
       "      <td>30.4053</td>\n",
       "      <td>20.2255</td>\n",
       "      <td>15.3097</td>\n",
       "      <td>9.7354</td>\n",
       "      <td>30.4053</td>\n",
       "      <td>30.135</td>\n",
       "      <td>31.1323</td>\n",
       "      <td>32.987</td>\n",
       "      <td>24.9653</td>\n",
       "      <td>26.6902</td>\n",
       "      <td>28.7182</td>\n",
       "      <td>32.9481</td>\n",
       "      <td>24.9653</td>\n",
       "      <td>27.0559</td>\n",
       "      <td>28.6494</td>\n",
       "      <td>30.7709</td>\n",
       "      <td>37.6288</td>\n",
       "      <td>51.9256</td>\n",
       "      <td>55.2399</td>\n",
       "    </tr>\n",
       "  </tbody>\n",
       "</table>\n",
       "</div>"
      ],
      "text/plain": [
       "       P@1      P@3      P@5    P@10      N@1     N@3      N@5    N@10  \\\n",
       "0  30.4053  20.2255  15.3097  9.7354  30.4053  30.135  31.1323  32.987   \n",
       "\n",
       "     PSP@1    PSP@3    PSP@5   PSP@10    PSN@1    PSN@3    PSN@5   PSN@10  \\\n",
       "0  24.9653  26.6902  28.7182  32.9481  24.9653  27.0559  28.6494  30.7709   \n",
       "\n",
       "      R@10    R@100    R@200  \n",
       "0  37.6288  51.9256  55.2399  "
      ]
     },
     "metadata": {},
     "output_type": "display_data"
    }
   ],
   "source": [
    "metric = PrecRecl(block.n_lbl, block.test.data_lbl_filterer, prop=block.train.dset.data.data_lbl,\n",
    "                  pk=10, rk=200, rep_pk=[1, 3, 5, 10], rep_rk=[10, 100, 200])\n",
    "m = metric(**output)\n",
    "display_metric(m, remove_prefix=False)"
   ]
  },
  {
   "cell_type": "code",
   "execution_count": null,
   "id": "9998a774",
   "metadata": {},
   "outputs": [],
   "source": []
  },
  {
   "cell_type": "code",
   "execution_count": null,
   "id": "3d0f0236",
   "metadata": {},
   "outputs": [],
   "source": []
  }
 ],
 "metadata": {
  "kernelspec": {
   "display_name": "Python 3 (ipykernel)",
   "language": "python",
   "name": "python3"
  },
  "language_info": {
   "codemirror_mode": {
    "name": "ipython",
    "version": 3
   },
   "file_extension": ".py",
   "mimetype": "text/x-python",
   "name": "python",
   "nbconvert_exporter": "python",
   "pygments_lexer": "ipython3",
   "version": "3.9.18"
  }
 },
 "nbformat": 4,
 "nbformat_minor": 5
}
