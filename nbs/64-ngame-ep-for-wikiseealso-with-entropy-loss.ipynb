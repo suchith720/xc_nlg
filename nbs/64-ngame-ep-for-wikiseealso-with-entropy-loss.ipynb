{
 "cells": [
  {
   "cell_type": "code",
   "execution_count": null,
   "id": "a4a1f892",
   "metadata": {},
   "outputs": [],
   "source": [
    "#| default_exp 64-ngame-ep-for-wikiseealso-with-entropy-loss"
   ]
  },
  {
   "cell_type": "code",
   "execution_count": null,
   "id": "2b776411",
   "metadata": {},
   "outputs": [
    {
     "name": "stdout",
     "output_type": "stream",
     "text": [
      "The autoreload extension is already loaded. To reload it, use:\n",
      "  %reload_ext autoreload\n"
     ]
    }
   ],
   "source": [
    "%load_ext autoreload\n",
    "%autoreload 2"
   ]
  },
  {
   "cell_type": "code",
   "execution_count": null,
   "id": "8936c9e0",
   "metadata": {},
   "outputs": [],
   "source": [
    "#| export\n",
    "import os,torch, torch.multiprocessing as mp, pickle\n",
    "from xcai.basics import *\n",
    "from xcai.models.PPP0XX import DBT012"
   ]
  },
  {
   "cell_type": "code",
   "execution_count": null,
   "id": "441a688e",
   "metadata": {},
   "outputs": [],
   "source": [
    "os.environ['WANDB_MODE'] = 'disabled'"
   ]
  },
  {
   "cell_type": "code",
   "execution_count": null,
   "id": "8906ac95",
   "metadata": {},
   "outputs": [],
   "source": [
    "#| export\n",
    "os.environ['CUDA_VISIBLE_DEVICES'] = '0,1'\n",
    "os.environ['WANDB_PROJECT']='xc-nlg_66-radga-dr-ep-for-wikiseealso'"
   ]
  },
  {
   "cell_type": "code",
   "execution_count": null,
   "id": "dc9d4936",
   "metadata": {},
   "outputs": [],
   "source": [
    "#| export\n",
    "data_dir = '/home/scai/phd/aiz218323/Projects/XC_NLG/data'"
   ]
  },
  {
   "cell_type": "code",
   "execution_count": null,
   "id": "ec3ad114",
   "metadata": {},
   "outputs": [],
   "source": [
    "block = XCBlock.from_cfg(data_dir, 'data', tfm='xcnlg', tokenizer='distilbert-base-uncased', smp_features=[('lbl2data',1,1)])"
   ]
  },
  {
   "cell_type": "code",
   "execution_count": null,
   "id": "48716b7e-a6ec-4ad3-9118-f41790704034",
   "metadata": {},
   "outputs": [],
   "source": []
  },
  {
   "cell_type": "code",
   "execution_count": null,
   "id": "e555d2ed",
   "metadata": {},
   "outputs": [],
   "source": [
    "#| export\n",
    "pkl_dir = '/home/scai/phd/aiz218323/scratch/datasets'\n",
    "pkl_file = f'{pkl_dir}/processed/wikiseealso_data_distilbert-base-uncased_xcnlg_ngame.pkl'"
   ]
  },
  {
   "cell_type": "code",
   "execution_count": null,
   "id": "1343d0cc-7f8d-4bed-9705-f66516e3d440",
   "metadata": {},
   "outputs": [],
   "source": []
  },
  {
   "cell_type": "code",
   "execution_count": null,
   "id": "48982d50",
   "metadata": {},
   "outputs": [],
   "source": [
    "with open(pkl_file, 'wb') as file: pickle.dump(block, file)"
   ]
  },
  {
   "cell_type": "code",
   "execution_count": null,
   "id": "c035bcbc",
   "metadata": {},
   "outputs": [],
   "source": [
    "#| export\n",
    "with open(pkl_file, 'rb') as file: block = pickle.load(file)"
   ]
  },
  {
   "cell_type": "markdown",
   "id": "b008af05",
   "metadata": {},
   "source": [
    "## Training"
   ]
  },
  {
   "cell_type": "code",
   "execution_count": null,
   "id": "b6017892",
   "metadata": {},
   "outputs": [],
   "source": [
    "#| export\n",
    "args = XCLearningArguments(\n",
    "    output_dir='/home/scai/phd/aiz218323/scratch/outputs/64-ngame-ep-for-wikiseealso-with-entropy-loss-1-0',\n",
    "    logging_first_step=True,\n",
    "    per_device_train_batch_size=800,\n",
    "    per_device_eval_batch_size=800,\n",
    "    representation_num_beams=200,\n",
    "    representation_accumulation_steps=10,\n",
    "    save_strategy=\"epoch\",\n",
    "    evaluation_strategy=\"epoch\",\n",
    "    eval_steps=1000,\n",
    "    save_steps=1000,\n",
    "    save_total_limit=5,\n",
    "    num_train_epochs=300,\n",
    "    predict_with_representation=True,\n",
    "    representation_search_type='INDEX',\n",
    "    index_space='ip',\n",
    "    adam_epsilon=1e-6,\n",
    "    warmup_steps=100,\n",
    "    weight_decay=0.01,\n",
    "    learning_rate=2e-4,\n",
    "    group_by_cluster=True,\n",
    "    num_clustering_warmup_epochs=10,\n",
    "    num_cluster_update_epochs=5,\n",
    "    num_cluster_size_update_epochs=25,\n",
    "    clustering_type='EXPO',\n",
    "    minimum_cluster_size=2,\n",
    "    maximum_cluster_size=1600,\n",
    "    target_indices_key='plbl2data_idx',\n",
    "    target_pointer_key='plbl2data_data2ptr',\n",
    "    use_distributional_representation=True,\n",
    "    use_encoder_parallel=True,\n",
    "    max_grad_norm=None,\n",
    "    fp16=True,\n",
    ")"
   ]
  },
  {
   "cell_type": "code",
   "execution_count": null,
   "id": "7882af6d",
   "metadata": {},
   "outputs": [],
   "source": [
    "#| export\n",
    "metric = PrecRecl(block.n_lbl, block.test.data_lbl_filterer, prop=block.train.dset.data.data_lbl,\n",
    "                  pk=10, rk=200, rep_pk=[1, 3, 5, 10], rep_rk=[10, 100, 200])"
   ]
  },
  {
   "cell_type": "code",
   "execution_count": null,
   "id": "ccf5e1fa",
   "metadata": {},
   "outputs": [
    {
     "name": "stderr",
     "output_type": "stream",
     "text": [
      "Some weights of DBT012 were not initialized from the model checkpoint at sentence-transformers/msmarco-distilbert-base-v4 and are newly initialized: ['encoder.dr_layer_norm.bias', 'encoder.dr_layer_norm.weight', 'encoder.dr_projector.bias', 'encoder.dr_projector.weight', 'encoder.dr_transform.bias', 'encoder.dr_transform.weight']\n",
      "You should probably TRAIN this model on a down-stream task to be able to use it for predictions and inference.\n"
     ]
    }
   ],
   "source": [
    "#| export\n",
    "bsz = max(args.per_device_train_batch_size, args.per_device_eval_batch_size)*torch.cuda.device_count()\n",
    "\n",
    "model = DBT012.from_pretrained('sentence-transformers/msmarco-distilbert-base-v4', margin=0.01, tau=10,\n",
    "                               n_negatives=10, apply_softmax=True, use_encoder_parallel=True)\n",
    "model.init_dr_head()"
   ]
  },
  {
   "cell_type": "code",
   "execution_count": null,
   "id": "3f2d50a6",
   "metadata": {},
   "outputs": [
    {
     "name": "stderr",
     "output_type": "stream",
     "text": [
      "/scratch/scai/phd/aiz218323/anaconda3/envs/xc_nlg/lib/python3.9/site-packages/accelerate/accelerator.py:432: FutureWarning: Passing the following arguments to `Accelerator` is deprecated and will be removed in version 1.0 of Accelerate: dict_keys(['dispatch_batches', 'split_batches', 'even_batches', 'use_seedable_sampler']). Please pass an `accelerate.DataLoaderConfiguration` instead: \n",
      "dataloader_config = DataLoaderConfiguration(dispatch_batches=None, split_batches=False, even_batches=True, use_seedable_sampler=True)\n",
      "  warnings.warn(\n",
      "Detected kernel version 3.10.0, which is below the recommended minimum of 5.5.0; this can cause the process to hang. It is recommended to upgrade the kernel to the minimum version or higher.\n"
     ]
    }
   ],
   "source": [
    "#| export\n",
    "learn = XCLearner(\n",
    "    model=model, \n",
    "    args=args,\n",
    "    train_dataset=block.train.dset,\n",
    "    eval_dataset=block.test.dset,\n",
    "    data_collator=block.collator,\n",
    "    compute_metrics=metric,\n",
    ")"
   ]
  },
  {
   "cell_type": "code",
   "execution_count": null,
   "id": "7416d136",
   "metadata": {},
   "outputs": [
    {
     "name": "stderr",
     "output_type": "stream",
     "text": [
      "Failed to detect the name of this notebook, you can set it manually with the WANDB_NOTEBOOK_NAME environment variable to enable code saving.\n"
     ]
    },
    {
     "data": {
      "application/vnd.jupyter.widget-view+json": {
       "model_id": "13c947057c0843a6a4d4944b6db46bba",
       "version_major": 2,
       "version_minor": 0
      },
      "text/plain": [
       "  0%|          | 0/347 [00:00<?, ?it/s]"
      ]
     },
     "metadata": {},
     "output_type": "display_data"
    }
   ],
   "source": [
    "learn.train()"
   ]
  },
  {
   "cell_type": "code",
   "execution_count": null,
   "id": "d14a8c4d",
   "metadata": {},
   "outputs": [],
   "source": [
    "#| export\n",
    "if __name__ == '__main__':\n",
    "    mp.freeze_support()\n",
    "    learn.train()"
   ]
  },
  {
   "cell_type": "markdown",
   "id": "804dd454",
   "metadata": {},
   "source": [
    "## Prediction"
   ]
  },
  {
   "cell_type": "code",
   "execution_count": null,
   "id": "7e482e7e",
   "metadata": {},
   "outputs": [],
   "source": [
    "args = XCLearningArguments(\n",
    "    output_dir='/home/scai/phd/aiz218323/scratch/outputs/64-ngame-ep-for-wikiseealso-with-entropy-loss-1-0',\n",
    "    logging_first_step=True,\n",
    "    per_device_train_batch_size=800,\n",
    "    per_device_eval_batch_size=800,\n",
    "    representation_num_beams=200,\n",
    "    representation_accumulation_steps=100,\n",
    "    predict_with_representation=True,\n",
    "    representation_search_type='BRUTEFORCE',\n",
    "    target_indices_key='plbl2data_idx',\n",
    "    target_pointer_key='plbl2data_data2ptr',\n",
    "    use_encoder_parallel=True,\n",
    "    fp16=True,\n",
    ")"
   ]
  },
  {
   "cell_type": "code",
   "execution_count": null,
   "id": "dc399052",
   "metadata": {},
   "outputs": [],
   "source": [
    "output_dir = f\"/home/scai/phd/aiz218323/scratch/outputs/{os.path.basename(args.output_dir)}\"\n",
    "mname = f'{output_dir}/{os.path.basename(get_best_model(output_dir))}'"
   ]
  },
  {
   "cell_type": "code",
   "execution_count": null,
   "id": "b25103a5-f66d-434a-a745-2642e1adb975",
   "metadata": {},
   "outputs": [],
   "source": []
  },
  {
   "cell_type": "code",
   "execution_count": null,
   "id": "f31a2193",
   "metadata": {},
   "outputs": [
    {
     "name": "stderr",
     "output_type": "stream",
     "text": [
      "Some weights of DBT012 were not initialized from the model checkpoint at sentence-transformers/msmarco-distilbert-base-v4 and are newly initialized: ['encoder.dr_layer_norm.bias', 'encoder.dr_layer_norm.weight', 'encoder.dr_projector.bias', 'encoder.dr_projector.weight', 'encoder.dr_transform.bias', 'encoder.dr_transform.weight']\n",
      "You should probably TRAIN this model on a down-stream task to be able to use it for predictions and inference.\n"
     ]
    }
   ],
   "source": [
    "bsz = max(args.per_device_train_batch_size, args.per_device_eval_batch_size)*torch.cuda.device_count()\n",
    "\n",
    "model = DBT012.from_pretrained('sentence-transformers/msmarco-distilbert-base-v4', margin=0.01, tau=10, \n",
    "                               n_negatives=10, apply_softmax=True, use_encoder_parallel=True)"
   ]
  },
  {
   "cell_type": "code",
   "execution_count": null,
   "id": "172707ac-ea77-429c-9ecc-ba0321376fd2",
   "metadata": {},
   "outputs": [],
   "source": []
  },
  {
   "cell_type": "code",
   "execution_count": null,
   "id": "d79842a9-b884-4616-b058-b125ed47a12d",
   "metadata": {},
   "outputs": [],
   "source": [
    "from safetensors import safe_open\n",
    "\n",
    "model_weight_file = f'{mname}/model.safetensors'\n",
    "\n",
    "model_weights = {}\n",
    "with safe_open(model_weight_file, framework=\"pt\") as file:\n",
    "    for k in file.keys(): model_weights[k] = file.get_tensor(k)\n",
    "        "
   ]
  },
  {
   "cell_type": "code",
   "execution_count": null,
   "id": "a1f27c72-2756-474a-8896-5d64d3e5620c",
   "metadata": {},
   "outputs": [
    {
     "data": {
      "text/plain": [
       "_IncompatibleKeys(missing_keys=['distilbert.embeddings.word_embeddings.weight', 'distilbert.embeddings.position_embeddings.weight', 'distilbert.embeddings.LayerNorm.weight', 'distilbert.embeddings.LayerNorm.bias', 'distilbert.transformer.layer.0.attention.q_lin.weight', 'distilbert.transformer.layer.0.attention.q_lin.bias', 'distilbert.transformer.layer.0.attention.k_lin.weight', 'distilbert.transformer.layer.0.attention.k_lin.bias', 'distilbert.transformer.layer.0.attention.v_lin.weight', 'distilbert.transformer.layer.0.attention.v_lin.bias', 'distilbert.transformer.layer.0.attention.out_lin.weight', 'distilbert.transformer.layer.0.attention.out_lin.bias', 'distilbert.transformer.layer.0.sa_layer_norm.weight', 'distilbert.transformer.layer.0.sa_layer_norm.bias', 'distilbert.transformer.layer.0.ffn.lin1.weight', 'distilbert.transformer.layer.0.ffn.lin1.bias', 'distilbert.transformer.layer.0.ffn.lin2.weight', 'distilbert.transformer.layer.0.ffn.lin2.bias', 'distilbert.transformer.layer.0.output_layer_norm.weight', 'distilbert.transformer.layer.0.output_layer_norm.bias', 'distilbert.transformer.layer.1.attention.q_lin.weight', 'distilbert.transformer.layer.1.attention.q_lin.bias', 'distilbert.transformer.layer.1.attention.k_lin.weight', 'distilbert.transformer.layer.1.attention.k_lin.bias', 'distilbert.transformer.layer.1.attention.v_lin.weight', 'distilbert.transformer.layer.1.attention.v_lin.bias', 'distilbert.transformer.layer.1.attention.out_lin.weight', 'distilbert.transformer.layer.1.attention.out_lin.bias', 'distilbert.transformer.layer.1.sa_layer_norm.weight', 'distilbert.transformer.layer.1.sa_layer_norm.bias', 'distilbert.transformer.layer.1.ffn.lin1.weight', 'distilbert.transformer.layer.1.ffn.lin1.bias', 'distilbert.transformer.layer.1.ffn.lin2.weight', 'distilbert.transformer.layer.1.ffn.lin2.bias', 'distilbert.transformer.layer.1.output_layer_norm.weight', 'distilbert.transformer.layer.1.output_layer_norm.bias', 'distilbert.transformer.layer.2.attention.q_lin.weight', 'distilbert.transformer.layer.2.attention.q_lin.bias', 'distilbert.transformer.layer.2.attention.k_lin.weight', 'distilbert.transformer.layer.2.attention.k_lin.bias', 'distilbert.transformer.layer.2.attention.v_lin.weight', 'distilbert.transformer.layer.2.attention.v_lin.bias', 'distilbert.transformer.layer.2.attention.out_lin.weight', 'distilbert.transformer.layer.2.attention.out_lin.bias', 'distilbert.transformer.layer.2.sa_layer_norm.weight', 'distilbert.transformer.layer.2.sa_layer_norm.bias', 'distilbert.transformer.layer.2.ffn.lin1.weight', 'distilbert.transformer.layer.2.ffn.lin1.bias', 'distilbert.transformer.layer.2.ffn.lin2.weight', 'distilbert.transformer.layer.2.ffn.lin2.bias', 'distilbert.transformer.layer.2.output_layer_norm.weight', 'distilbert.transformer.layer.2.output_layer_norm.bias', 'distilbert.transformer.layer.3.attention.q_lin.weight', 'distilbert.transformer.layer.3.attention.q_lin.bias', 'distilbert.transformer.layer.3.attention.k_lin.weight', 'distilbert.transformer.layer.3.attention.k_lin.bias', 'distilbert.transformer.layer.3.attention.v_lin.weight', 'distilbert.transformer.layer.3.attention.v_lin.bias', 'distilbert.transformer.layer.3.attention.out_lin.weight', 'distilbert.transformer.layer.3.attention.out_lin.bias', 'distilbert.transformer.layer.3.sa_layer_norm.weight', 'distilbert.transformer.layer.3.sa_layer_norm.bias', 'distilbert.transformer.layer.3.ffn.lin1.weight', 'distilbert.transformer.layer.3.ffn.lin1.bias', 'distilbert.transformer.layer.3.ffn.lin2.weight', 'distilbert.transformer.layer.3.ffn.lin2.bias', 'distilbert.transformer.layer.3.output_layer_norm.weight', 'distilbert.transformer.layer.3.output_layer_norm.bias', 'distilbert.transformer.layer.4.attention.q_lin.weight', 'distilbert.transformer.layer.4.attention.q_lin.bias', 'distilbert.transformer.layer.4.attention.k_lin.weight', 'distilbert.transformer.layer.4.attention.k_lin.bias', 'distilbert.transformer.layer.4.attention.v_lin.weight', 'distilbert.transformer.layer.4.attention.v_lin.bias', 'distilbert.transformer.layer.4.attention.out_lin.weight', 'distilbert.transformer.layer.4.attention.out_lin.bias', 'distilbert.transformer.layer.4.sa_layer_norm.weight', 'distilbert.transformer.layer.4.sa_layer_norm.bias', 'distilbert.transformer.layer.4.ffn.lin1.weight', 'distilbert.transformer.layer.4.ffn.lin1.bias', 'distilbert.transformer.layer.4.ffn.lin2.weight', 'distilbert.transformer.layer.4.ffn.lin2.bias', 'distilbert.transformer.layer.4.output_layer_norm.weight', 'distilbert.transformer.layer.4.output_layer_norm.bias', 'distilbert.transformer.layer.5.attention.q_lin.weight', 'distilbert.transformer.layer.5.attention.q_lin.bias', 'distilbert.transformer.layer.5.attention.k_lin.weight', 'distilbert.transformer.layer.5.attention.k_lin.bias', 'distilbert.transformer.layer.5.attention.v_lin.weight', 'distilbert.transformer.layer.5.attention.v_lin.bias', 'distilbert.transformer.layer.5.attention.out_lin.weight', 'distilbert.transformer.layer.5.attention.out_lin.bias', 'distilbert.transformer.layer.5.sa_layer_norm.weight', 'distilbert.transformer.layer.5.sa_layer_norm.bias', 'distilbert.transformer.layer.5.ffn.lin1.weight', 'distilbert.transformer.layer.5.ffn.lin1.bias', 'distilbert.transformer.layer.5.ffn.lin2.weight', 'distilbert.transformer.layer.5.ffn.lin2.bias', 'distilbert.transformer.layer.5.output_layer_norm.weight', 'distilbert.transformer.layer.5.output_layer_norm.bias'], unexpected_keys=[])"
      ]
     },
     "execution_count": null,
     "metadata": {},
     "output_type": "execute_result"
    }
   ],
   "source": [
    "model.load_state_dict(model_weights, strict=False)"
   ]
  },
  {
   "cell_type": "code",
   "execution_count": null,
   "id": "4f255a4d-8c23-4ccd-bdf4-864a37198963",
   "metadata": {},
   "outputs": [],
   "source": []
  },
  {
   "cell_type": "code",
   "execution_count": null,
   "id": "accb2b2e",
   "metadata": {},
   "outputs": [],
   "source": [
    "metric = PrecRecl(block.n_lbl, block.test.data_lbl_filterer, prop=block.train.dset.data.data_lbl,\n",
    "                  pk=10, rk=200, rep_pk=[1, 3, 5, 10], rep_rk=[10, 100, 200])"
   ]
  },
  {
   "cell_type": "code",
   "execution_count": null,
   "id": "a8385080-15ea-4d0e-abc6-c348ebdadd50",
   "metadata": {},
   "outputs": [],
   "source": [
    "metric = PrecRecl(block.n_lbl, block.train.data_lbl_filterer, prop=block.train.dset.data.data_lbl,\n",
    "                  pk=10, rk=200, rep_pk=[1, 3, 5, 10], rep_rk=[10, 100, 200])"
   ]
  },
  {
   "cell_type": "code",
   "execution_count": null,
   "id": "e54fbf8a-e294-44c4-a311-5d50af01d884",
   "metadata": {},
   "outputs": [],
   "source": []
  },
  {
   "cell_type": "code",
   "execution_count": null,
   "id": "8b57a038",
   "metadata": {},
   "outputs": [
    {
     "name": "stderr",
     "output_type": "stream",
     "text": [
      "/scratch/scai/phd/aiz218323/anaconda3/envs/xc_nlg/lib/python3.9/site-packages/accelerate/accelerator.py:432: FutureWarning: Passing the following arguments to `Accelerator` is deprecated and will be removed in version 1.0 of Accelerate: dict_keys(['dispatch_batches', 'split_batches', 'even_batches', 'use_seedable_sampler']). Please pass an `accelerate.DataLoaderConfiguration` instead: \n",
      "dataloader_config = DataLoaderConfiguration(dispatch_batches=None, split_batches=False, even_batches=True, use_seedable_sampler=True)\n",
      "  warnings.warn(\n",
      "Detected kernel version 3.10.0, which is below the recommended minimum of 5.5.0; this can cause the process to hang. It is recommended to upgrade the kernel to the minimum version or higher.\n"
     ]
    }
   ],
   "source": [
    "learn = XCLearner(\n",
    "    model=model, \n",
    "    args=args,\n",
    "    train_dataset=block.train.dset,\n",
    "    eval_dataset=block.test.dset,\n",
    "    data_collator=block.collator,\n",
    "    compute_metrics=metric,\n",
    ")"
   ]
  },
  {
   "cell_type": "code",
   "execution_count": null,
   "id": "41fee6bc",
   "metadata": {},
   "outputs": [
    {
     "data": {
      "application/vnd.jupyter.widget-view+json": {
       "model_id": "dce136bf293d4016831d32b3573bd84f",
       "version_major": 2,
       "version_minor": 0
      },
      "text/plain": [
       "  0%|          | 0/196 [00:00<?, ?it/s]"
      ]
     },
     "metadata": {},
     "output_type": "display_data"
    },
    {
     "data": {
      "text/html": [],
      "text/plain": [
       "<IPython.core.display.HTML object>"
      ]
     },
     "metadata": {},
     "output_type": "display_data"
    }
   ],
   "source": [
    "o = learn.predict(block.test.dset)"
   ]
  },
  {
   "cell_type": "code",
   "execution_count": null,
   "id": "fc2e6929",
   "metadata": {},
   "outputs": [
    {
     "data": {
      "text/html": [
       "<div>\n",
       "<style scoped>\n",
       "    .dataframe tbody tr th:only-of-type {\n",
       "        vertical-align: middle;\n",
       "    }\n",
       "\n",
       "    .dataframe tbody tr th {\n",
       "        vertical-align: top;\n",
       "    }\n",
       "\n",
       "    .dataframe thead th {\n",
       "        text-align: right;\n",
       "    }\n",
       "</style>\n",
       "<table border=\"1\" class=\"dataframe\">\n",
       "  <thead>\n",
       "    <tr style=\"text-align: right;\">\n",
       "      <th></th>\n",
       "      <th>P@1</th>\n",
       "      <th>P@3</th>\n",
       "      <th>P@5</th>\n",
       "      <th>P@10</th>\n",
       "      <th>N@1</th>\n",
       "      <th>N@3</th>\n",
       "      <th>N@5</th>\n",
       "      <th>N@10</th>\n",
       "      <th>PSP@1</th>\n",
       "      <th>PSP@3</th>\n",
       "      <th>PSP@5</th>\n",
       "      <th>PSP@10</th>\n",
       "      <th>PSN@1</th>\n",
       "      <th>PSN@3</th>\n",
       "      <th>PSN@5</th>\n",
       "      <th>PSN@10</th>\n",
       "      <th>R@10</th>\n",
       "      <th>R@100</th>\n",
       "      <th>R@200</th>\n",
       "      <th>loss</th>\n",
       "      <th>runtime</th>\n",
       "      <th>samples_per_second</th>\n",
       "      <th>steps_per_second</th>\n",
       "    </tr>\n",
       "  </thead>\n",
       "  <tbody>\n",
       "    <tr>\n",
       "      <th>0</th>\n",
       "      <td>25.3939</td>\n",
       "      <td>16.998</td>\n",
       "      <td>13.0896</td>\n",
       "      <td>8.6169</td>\n",
       "      <td>25.3939</td>\n",
       "      <td>25.6131</td>\n",
       "      <td>26.8311</td>\n",
       "      <td>28.9641</td>\n",
       "      <td>21.3168</td>\n",
       "      <td>22.6493</td>\n",
       "      <td>24.5848</td>\n",
       "      <td>28.9135</td>\n",
       "      <td>21.3168</td>\n",
       "      <td>23.1711</td>\n",
       "      <td>24.7409</td>\n",
       "      <td>26.9363</td>\n",
       "      <td>34.507</td>\n",
       "      <td>53.3457</td>\n",
       "      <td>58.4375</td>\n",
       "      <td>0.0321</td>\n",
       "      <td>112.0889</td>\n",
       "      <td>1583.699</td>\n",
       "      <td>0.99</td>\n",
       "    </tr>\n",
       "  </tbody>\n",
       "</table>\n",
       "</div>"
      ],
      "text/plain": [
       "       P@1     P@3      P@5    P@10      N@1      N@3      N@5     N@10  \\\n",
       "0  25.3939  16.998  13.0896  8.6169  25.3939  25.6131  26.8311  28.9641   \n",
       "\n",
       "     PSP@1    PSP@3    PSP@5   PSP@10    PSN@1    PSN@3    PSN@5   PSN@10  \\\n",
       "0  21.3168  22.6493  24.5848  28.9135  21.3168  23.1711  24.7409  26.9363   \n",
       "\n",
       "     R@10    R@100    R@200    loss   runtime  samples_per_second  \\\n",
       "0  34.507  53.3457  58.4375  0.0321  112.0889            1583.699   \n",
       "\n",
       "   steps_per_second  \n",
       "0              0.99  "
      ]
     },
     "metadata": {},
     "output_type": "display_data"
    }
   ],
   "source": [
    "display_metric(o.metrics)"
   ]
  },
  {
   "cell_type": "code",
   "execution_count": null,
   "id": "4941b8e9-5547-4d0a-b2b8-f2edd34d63b4",
   "metadata": {},
   "outputs": [],
   "source": [
    "pred_dir = f\"{mname}/predictions/\"\n",
    "os.makedirs(pred_dir, exist_ok=True)\n",
    "\n",
    "with open(f'{pred_dir}/test_predictions.pkl', 'wb') as file: pickle.dump(o, file)"
   ]
  },
  {
   "cell_type": "code",
   "execution_count": null,
   "id": "14cf1b31-441e-40e0-b406-038021b96714",
   "metadata": {},
   "outputs": [
    {
     "data": {
      "application/vnd.jupyter.widget-view+json": {
       "model_id": "cf045a27a443489db8af67bea7b5461c",
       "version_major": 2,
       "version_minor": 0
      },
      "text/plain": [
       "  0%|          | 0/196 [00:00<?, ?it/s]"
      ]
     },
     "metadata": {},
     "output_type": "display_data"
    },
    {
     "data": {
      "text/html": [],
      "text/plain": [
       "<IPython.core.display.HTML object>"
      ]
     },
     "metadata": {},
     "output_type": "display_data"
    },
    {
     "name": "stderr",
     "output_type": "stream",
     "text": [
      "/scratch/scai/phd/aiz218323/anaconda3/envs/xc_nlg/lib/python3.9/site-packages/scipy/sparse/_index.py:145: SparseEfficiencyWarning: Changing the sparsity structure of a csr_matrix is expensive. lil_matrix is more efficient.\n",
      "  self._set_arrayXarray(i, j, x)\n"
     ]
    }
   ],
   "source": [
    "o = learn.predict(block.train.dset)"
   ]
  },
  {
   "cell_type": "code",
   "execution_count": null,
   "id": "c0ead852-2dfa-4fe3-8a57-3db31b4f1058",
   "metadata": {},
   "outputs": [
    {
     "data": {
      "text/html": [
       "<div>\n",
       "<style scoped>\n",
       "    .dataframe tbody tr th:only-of-type {\n",
       "        vertical-align: middle;\n",
       "    }\n",
       "\n",
       "    .dataframe tbody tr th {\n",
       "        vertical-align: top;\n",
       "    }\n",
       "\n",
       "    .dataframe thead th {\n",
       "        text-align: right;\n",
       "    }\n",
       "</style>\n",
       "<table border=\"1\" class=\"dataframe\">\n",
       "  <thead>\n",
       "    <tr style=\"text-align: right;\">\n",
       "      <th></th>\n",
       "      <th>P@1</th>\n",
       "      <th>P@3</th>\n",
       "      <th>P@5</th>\n",
       "      <th>P@10</th>\n",
       "      <th>N@1</th>\n",
       "      <th>N@3</th>\n",
       "      <th>N@5</th>\n",
       "      <th>N@10</th>\n",
       "      <th>PSP@1</th>\n",
       "      <th>PSP@3</th>\n",
       "      <th>PSP@5</th>\n",
       "      <th>PSP@10</th>\n",
       "      <th>PSN@1</th>\n",
       "      <th>PSN@3</th>\n",
       "      <th>PSN@5</th>\n",
       "      <th>PSN@10</th>\n",
       "      <th>R@10</th>\n",
       "      <th>R@100</th>\n",
       "      <th>R@200</th>\n",
       "      <th>loss</th>\n",
       "      <th>runtime</th>\n",
       "      <th>samples_per_second</th>\n",
       "      <th>steps_per_second</th>\n",
       "    </tr>\n",
       "  </thead>\n",
       "  <tbody>\n",
       "    <tr>\n",
       "      <th>0</th>\n",
       "      <td>63.7769</td>\n",
       "      <td>35.9293</td>\n",
       "      <td>25.4845</td>\n",
       "      <td>15.015</td>\n",
       "      <td>63.7769</td>\n",
       "      <td>68.7058</td>\n",
       "      <td>71.5651</td>\n",
       "      <td>74.504</td>\n",
       "      <td>56.0374</td>\n",
       "      <td>61.9516</td>\n",
       "      <td>67.3829</td>\n",
       "      <td>76.2451</td>\n",
       "      <td>56.0374</td>\n",
       "      <td>64.1684</td>\n",
       "      <td>67.8776</td>\n",
       "      <td>71.3049</td>\n",
       "      <td>85.601</td>\n",
       "      <td>93.6158</td>\n",
       "      <td>93.9624</td>\n",
       "      <td>0.0003</td>\n",
       "      <td>487.8279</td>\n",
       "      <td>1420.751</td>\n",
       "      <td>0.89</td>\n",
       "    </tr>\n",
       "  </tbody>\n",
       "</table>\n",
       "</div>"
      ],
      "text/plain": [
       "       P@1      P@3      P@5    P@10      N@1      N@3      N@5    N@10  \\\n",
       "0  63.7769  35.9293  25.4845  15.015  63.7769  68.7058  71.5651  74.504   \n",
       "\n",
       "     PSP@1    PSP@3    PSP@5   PSP@10    PSN@1    PSN@3    PSN@5   PSN@10  \\\n",
       "0  56.0374  61.9516  67.3829  76.2451  56.0374  64.1684  67.8776  71.3049   \n",
       "\n",
       "     R@10    R@100    R@200    loss   runtime  samples_per_second  \\\n",
       "0  85.601  93.6158  93.9624  0.0003  487.8279            1420.751   \n",
       "\n",
       "   steps_per_second  \n",
       "0              0.89  "
      ]
     },
     "metadata": {},
     "output_type": "display_data"
    }
   ],
   "source": [
    "display_metric(o.metrics)"
   ]
  },
  {
   "cell_type": "code",
   "execution_count": null,
   "id": "199fbdbc-2dfe-45fc-8bbb-51afb425dd80",
   "metadata": {},
   "outputs": [],
   "source": [
    "pred_dir = f\"{mname}/predictions/\"\n",
    "os.makedirs(pred_dir, exist_ok=True)\n",
    "\n",
    "with open(f'{pred_dir}/train_predictions.pkl', 'wb') as file: pickle.dump(o, file)"
   ]
  },
  {
   "cell_type": "code",
   "execution_count": null,
   "id": "473acdf3-da62-45ab-8dd5-d621d8c348ee",
   "metadata": {},
   "outputs": [],
   "source": []
  },
  {
   "cell_type": "code",
   "execution_count": null,
   "id": "47de96ae-ffe5-42f2-b36e-12d7bbf468c8",
   "metadata": {},
   "outputs": [],
   "source": [
    "import xclib.data.data_utils as du\n",
    "\n",
    "from torch.utils.data import DataLoader\n",
    "from tqdm.auto import tqdm\n",
    "from scipy import sparse\n",
    "import xclib.evaluation.xc_metrics as xc_metrics\n",
    "import torch.nn.functional as F"
   ]
  },
  {
   "cell_type": "code",
   "execution_count": null,
   "id": "bd8e62f0",
   "metadata": {},
   "outputs": [
    {
     "data": {
      "application/vnd.jupyter.widget-view+json": {
       "model_id": "9b8028ca015a4b7db7db9088cfa6b2c4",
       "version_major": 2,
       "version_minor": 0
      },
      "text/plain": [
       "  0%|          | 0/111 [00:00<?, ?it/s]"
      ]
     },
     "metadata": {},
     "output_type": "display_data"
    }
   ],
   "source": [
    "dataloader = learn.get_test_dataloader(block.test.dset.data_dset)\n",
    "data_repr = learn.get_representation(dataloader, representation_attribute='data_repr', to_cpu=False)"
   ]
  },
  {
   "cell_type": "code",
   "execution_count": null,
   "id": "d4878e6b-f456-4185-b5db-9ed4be2ef4a3",
   "metadata": {},
   "outputs": [
    {
     "data": {
      "application/vnd.jupyter.widget-view+json": {
       "model_id": "5c1d92e4455641ce9c03471079ca5043",
       "version_major": 2,
       "version_minor": 0
      },
      "text/plain": [
       "  0%|          | 0/434 [00:00<?, ?it/s]"
      ]
     },
     "metadata": {},
     "output_type": "display_data"
    }
   ],
   "source": [
    "dataloader = learn.get_test_dataloader(block.train.dset.data_dset)\n",
    "data_repr = learn.get_representation(dataloader, representation_attribute='data_repr', to_cpu=False)"
   ]
  },
  {
   "cell_type": "code",
   "execution_count": null,
   "id": "3e35059d-80e3-40a3-9f4d-ff60d774bc7b",
   "metadata": {},
   "outputs": [
    {
     "data": {
      "application/vnd.jupyter.widget-view+json": {
       "model_id": "55cef6d9f7ba4027a0554d51a775cb5c",
       "version_major": 2,
       "version_minor": 0
      },
      "text/plain": [
       "  0%|          | 0/196 [00:00<?, ?it/s]"
      ]
     },
     "metadata": {},
     "output_type": "display_data"
    }
   ],
   "source": [
    "dataloader = learn.get_test_dataloader(block.test.dset.lbl_dset)\n",
    "lbl_repr = learn.get_representation(dataloader, representation_attribute='data_repr', to_cpu=False)"
   ]
  },
  {
   "cell_type": "code",
   "execution_count": null,
   "id": "bbbead65-7fdd-4707-8666-31f63c21139c",
   "metadata": {},
   "outputs": [],
   "source": []
  },
  {
   "cell_type": "code",
   "execution_count": null,
   "id": "23453576-f839-49bf-94e5-086be87c8a2f",
   "metadata": {},
   "outputs": [],
   "source": [
    "dl = DataLoader(data_repr, batch_size=64, shuffle=False)"
   ]
  },
  {
   "cell_type": "code",
   "execution_count": null,
   "id": "4c2bf894-ab58-417d-b044-c6df7fe9da7a",
   "metadata": {},
   "outputs": [
    {
     "data": {
      "application/vnd.jupyter.widget-view+json": {
       "model_id": "445a486cab204b3fb6fcbf5967966e0f",
       "version_major": 2,
       "version_minor": 0
      },
      "text/plain": [
       "  0%|          | 0/10830 [00:00<?, ?it/s]"
      ]
     },
     "metadata": {},
     "output_type": "display_data"
    }
   ],
   "source": [
    "data, indices = None, None\n",
    "\n",
    "for b in tqdm(dl, total=len(dl)):\n",
    "    sc, idx = torch.topk(b.exp()@lbl_repr.T, k=200, dim=1)\n",
    "    sc, idx = sc.to('cpu'), idx.to('cpu')\n",
    "    data = sc if data is None else torch.vstack([data, sc])\n",
    "    indices = idx if indices is None else torch.vstack([indices, idx])\n",
    "indptr = torch.arange(0, 200*(data.shape[0]+1), 200)\n",
    "\n",
    "preds = sparse.csr_matrix((data.flatten(), indices.flatten(), indptr), shape=(data_repr.shape[0], block.n_lbl))"
   ]
  },
  {
   "cell_type": "code",
   "execution_count": null,
   "id": "372bf0e9-7e04-464c-b8eb-fb3e2cd36f14",
   "metadata": {},
   "outputs": [
    {
     "data": {
      "text/plain": [
       "<693082x312330 sparse matrix of type '<class 'numpy.float32'>'\n",
       "\twith 138616400 stored elements in Compressed Sparse Row format>"
      ]
     },
     "execution_count": null,
     "metadata": {},
     "output_type": "execute_result"
    }
   ],
   "source": [
    "preds"
   ]
  },
  {
   "cell_type": "code",
   "execution_count": null,
   "id": "c87acfde-8caa-465d-80e3-1ea74e18cdee",
   "metadata": {},
   "outputs": [],
   "source": [
    "du.write_sparse_file(preds, f'{mname}/predictions/test_predictions-entropy.txt')"
   ]
  },
  {
   "cell_type": "code",
   "execution_count": null,
   "id": "64d9cf73-57ab-4922-8245-d5ff6d7c0e62",
   "metadata": {},
   "outputs": [],
   "source": [
    "du.write_sparse_file(preds, f'{mname}/predictions/train_predictions-entropy.txt')"
   ]
  },
  {
   "cell_type": "code",
   "execution_count": null,
   "id": "ca1f99dd-ef95-4ea0-8c95-701edb854ea8",
   "metadata": {},
   "outputs": [],
   "source": []
  },
  {
   "cell_type": "code",
   "execution_count": null,
   "id": "9dfdc125-3e2f-4ae2-9688-8fdae1fc2c39",
   "metadata": {},
   "outputs": [
    {
     "data": {
      "text/plain": [
       "array([0.25393347, 0.20215193, 0.16999127, 0.14743261, 0.13089373])"
      ]
     },
     "execution_count": null,
     "metadata": {},
     "output_type": "execute_result"
    }
   ],
   "source": [
    "# F.normalize(b, dim=1)@F.normalize(lbl_repr, dim=1).T\n",
    "xc_metrics.precision(Filterer.apply(preds, block.test.data_lbl_filterer), block.test.dset.data.data_lbl)"
   ]
  },
  {
   "cell_type": "code",
   "execution_count": null,
   "id": "b244967b-8f1a-4c35-8baf-9e7bec029590",
   "metadata": {},
   "outputs": [
    {
     "data": {
      "text/plain": [
       "array([0.24737064, 0.19481171, 0.16283507, 0.14079233, 0.12457313])"
      ]
     },
     "execution_count": null,
     "metadata": {},
     "output_type": "execute_result"
    }
   ],
   "source": [
    "# F.normalize(b.exp(), dim=1)@F.normalize(lbl_repr, dim=1).T\n",
    "xc_metrics.precision(Filterer.apply(preds, block.test.data_lbl_filterer), block.test.dset.data.data_lbl)"
   ]
  },
  {
   "cell_type": "code",
   "execution_count": null,
   "id": "8b3a67fe-f81b-408c-a8c9-d68826f13a41",
   "metadata": {},
   "outputs": [
    {
     "name": "stderr",
     "output_type": "stream",
     "text": [
      "/scratch/scai/phd/aiz218323/anaconda3/envs/xc_nlg/lib/python3.9/site-packages/scipy/sparse/_index.py:145: SparseEfficiencyWarning: Changing the sparsity structure of a csr_matrix is expensive. lil_matrix is more efficient.\n",
      "  self._set_arrayXarray(i, j, x)\n"
     ]
    },
    {
     "data": {
      "text/plain": [
       "array([0.24928034, 0.19627919, 0.16381339, 0.14101625, 0.12455511])"
      ]
     },
     "execution_count": null,
     "metadata": {},
     "output_type": "execute_result"
    }
   ],
   "source": [
    "# b.exp()@lbl_repr\n",
    "xc_metrics.precision(Filterer.apply(preds, block.test.data_lbl_filterer), block.test.dset.data.data_lbl)"
   ]
  },
  {
   "cell_type": "code",
   "execution_count": null,
   "id": "b0f98dba-27b4-41eb-9fcf-35580f1b2ef4",
   "metadata": {},
   "outputs": [
    {
     "data": {
      "text/plain": [
       "array([1.12666535e-05, 5.63332676e-06, 2.21577519e-04, 1.80266456e-04,\n",
       "       1.45339830e-04])"
      ]
     },
     "execution_count": null,
     "metadata": {},
     "output_type": "execute_result"
    }
   ],
   "source": [
    "# b@lbl_repr\n",
    "xc_metrics.precision(Filterer.apply(preds, block.test.data_lbl_filterer), block.test.dset.data.data_lbl)"
   ]
  },
  {
   "cell_type": "code",
   "execution_count": null,
   "id": "3ee156d8-9474-4139-bb13-fd3aa82ccb23",
   "metadata": {},
   "outputs": [],
   "source": []
  },
  {
   "cell_type": "code",
   "execution_count": null,
   "id": "913291b8-3039-499c-8761-ab78d0695569",
   "metadata": {},
   "outputs": [],
   "source": [
    "output = {\n",
    "    'targ_idx': torch.tensor(block.train.dset.data.data_lbl.indices),\n",
    "    'targ_ptr': torch.tensor([q-p for p,q in zip(block.train.dset.data.data_lbl.indptr, block.train.dset.data.data_lbl.indptr[1:])]),\n",
    "    'pred_idx': torch.tensor(preds.indices),\n",
    "    'pred_ptr': torch.tensor([q-p for p,q in zip(preds.indptr, preds.indptr[1:])]),\n",
    "    'pred_score': torch.tensor(preds.data),\n",
    "}"
   ]
  },
  {
   "cell_type": "code",
   "execution_count": null,
   "id": "ae759b40-4fa1-4e7c-b3f5-a6740ff7cf19",
   "metadata": {},
   "outputs": [
    {
     "name": "stderr",
     "output_type": "stream",
     "text": [
      "/scratch/scai/phd/aiz218323/anaconda3/envs/xc_nlg/lib/python3.9/site-packages/scipy/sparse/_index.py:145: SparseEfficiencyWarning: Changing the sparsity structure of a csr_matrix is expensive. lil_matrix is more efficient.\n",
      "  self._set_arrayXarray(i, j, x)\n"
     ]
    },
    {
     "data": {
      "text/html": [
       "<div>\n",
       "<style scoped>\n",
       "    .dataframe tbody tr th:only-of-type {\n",
       "        vertical-align: middle;\n",
       "    }\n",
       "\n",
       "    .dataframe tbody tr th {\n",
       "        vertical-align: top;\n",
       "    }\n",
       "\n",
       "    .dataframe thead th {\n",
       "        text-align: right;\n",
       "    }\n",
       "</style>\n",
       "<table border=\"1\" class=\"dataframe\">\n",
       "  <thead>\n",
       "    <tr style=\"text-align: right;\">\n",
       "      <th></th>\n",
       "      <th>P@1</th>\n",
       "      <th>P@3</th>\n",
       "      <th>P@5</th>\n",
       "      <th>P@10</th>\n",
       "      <th>N@1</th>\n",
       "      <th>N@3</th>\n",
       "      <th>N@5</th>\n",
       "      <th>N@10</th>\n",
       "      <th>PSP@1</th>\n",
       "      <th>PSP@3</th>\n",
       "      <th>PSP@5</th>\n",
       "      <th>PSP@10</th>\n",
       "      <th>PSN@1</th>\n",
       "      <th>PSN@3</th>\n",
       "      <th>PSN@5</th>\n",
       "      <th>PSN@10</th>\n",
       "      <th>R@10</th>\n",
       "      <th>R@100</th>\n",
       "      <th>R@200</th>\n",
       "    </tr>\n",
       "  </thead>\n",
       "  <tbody>\n",
       "    <tr>\n",
       "      <th>0</th>\n",
       "      <td>24.928</td>\n",
       "      <td>16.3813</td>\n",
       "      <td>12.4555</td>\n",
       "      <td>8.0206</td>\n",
       "      <td>24.928</td>\n",
       "      <td>24.6612</td>\n",
       "      <td>25.5629</td>\n",
       "      <td>27.2577</td>\n",
       "      <td>21.1162</td>\n",
       "      <td>22.2886</td>\n",
       "      <td>24.0219</td>\n",
       "      <td>27.7584</td>\n",
       "      <td>21.1162</td>\n",
       "      <td>22.7299</td>\n",
       "      <td>24.1093</td>\n",
       "      <td>26.0049</td>\n",
       "      <td>31.5982</td>\n",
       "      <td>46.7328</td>\n",
       "      <td>50.488</td>\n",
       "    </tr>\n",
       "  </tbody>\n",
       "</table>\n",
       "</div>"
      ],
      "text/plain": [
       "      P@1      P@3      P@5    P@10     N@1      N@3      N@5     N@10  \\\n",
       "0  24.928  16.3813  12.4555  8.0206  24.928  24.6612  25.5629  27.2577   \n",
       "\n",
       "     PSP@1    PSP@3    PSP@5   PSP@10    PSN@1    PSN@3    PSN@5   PSN@10  \\\n",
       "0  21.1162  22.2886  24.0219  27.7584  21.1162  22.7299  24.1093  26.0049   \n",
       "\n",
       "      R@10    R@100   R@200  \n",
       "0  31.5982  46.7328  50.488  "
      ]
     },
     "metadata": {},
     "output_type": "display_data"
    }
   ],
   "source": [
    "m = metric(**output)\n",
    "display_metric(m, remove_prefix=False)"
   ]
  },
  {
   "cell_type": "code",
   "execution_count": null,
   "id": "2c995efe-c790-4176-bd35-d5df32ded1f8",
   "metadata": {},
   "outputs": [
    {
     "data": {
      "text/html": [
       "<div>\n",
       "<style scoped>\n",
       "    .dataframe tbody tr th:only-of-type {\n",
       "        vertical-align: middle;\n",
       "    }\n",
       "\n",
       "    .dataframe tbody tr th {\n",
       "        vertical-align: top;\n",
       "    }\n",
       "\n",
       "    .dataframe thead th {\n",
       "        text-align: right;\n",
       "    }\n",
       "</style>\n",
       "<table border=\"1\" class=\"dataframe\">\n",
       "  <thead>\n",
       "    <tr style=\"text-align: right;\">\n",
       "      <th></th>\n",
       "      <th>P@1</th>\n",
       "      <th>P@3</th>\n",
       "      <th>P@5</th>\n",
       "      <th>P@10</th>\n",
       "      <th>N@1</th>\n",
       "      <th>N@3</th>\n",
       "      <th>N@5</th>\n",
       "      <th>N@10</th>\n",
       "      <th>PSP@1</th>\n",
       "      <th>PSP@3</th>\n",
       "      <th>PSP@5</th>\n",
       "      <th>PSP@10</th>\n",
       "      <th>PSN@1</th>\n",
       "      <th>PSN@3</th>\n",
       "      <th>PSN@5</th>\n",
       "      <th>PSN@10</th>\n",
       "      <th>R@10</th>\n",
       "      <th>R@100</th>\n",
       "      <th>R@200</th>\n",
       "    </tr>\n",
       "  </thead>\n",
       "  <tbody>\n",
       "    <tr>\n",
       "      <th>0</th>\n",
       "      <td>71.1174</td>\n",
       "      <td>37.8282</td>\n",
       "      <td>26.2136</td>\n",
       "      <td>15.0299</td>\n",
       "      <td>71.1174</td>\n",
       "      <td>73.8975</td>\n",
       "      <td>75.9795</td>\n",
       "      <td>78.1921</td>\n",
       "      <td>64.4697</td>\n",
       "      <td>66.9285</td>\n",
       "      <td>70.8177</td>\n",
       "      <td>77.6577</td>\n",
       "      <td>64.4697</td>\n",
       "      <td>70.8368</td>\n",
       "      <td>73.7397</td>\n",
       "      <td>76.3671</td>\n",
       "      <td>85.815</td>\n",
       "      <td>92.7299</td>\n",
       "      <td>93.2049</td>\n",
       "    </tr>\n",
       "  </tbody>\n",
       "</table>\n",
       "</div>"
      ],
      "text/plain": [
       "       P@1      P@3      P@5     P@10      N@1      N@3      N@5     N@10  \\\n",
       "0  71.1174  37.8282  26.2136  15.0299  71.1174  73.8975  75.9795  78.1921   \n",
       "\n",
       "     PSP@1    PSP@3    PSP@5   PSP@10    PSN@1    PSN@3    PSN@5   PSN@10  \\\n",
       "0  64.4697  66.9285  70.8177  77.6577  64.4697  70.8368  73.7397  76.3671   \n",
       "\n",
       "     R@10    R@100    R@200  \n",
       "0  85.815  92.7299  93.2049  "
      ]
     },
     "metadata": {},
     "output_type": "display_data"
    }
   ],
   "source": [
    "m = metric(**output)\n",
    "display_metric(m, remove_prefix=False)"
   ]
  },
  {
   "cell_type": "markdown",
   "id": "fd809d02-e39d-4402-b8e2-832d4046d4d5",
   "metadata": {},
   "source": [
    "## Fusion"
   ]
  },
  {
   "cell_type": "code",
   "execution_count": null,
   "id": "e532f4fe-d287-40f9-aa71-f39dee72c762",
   "metadata": {},
   "outputs": [],
   "source": [
    "dirname = '/home/scai/phd/aiz218323/scratch/outputs/64-ngame-ep-for-wikiseealso-with-entropy-loss-1-0'"
   ]
  },
  {
   "cell_type": "code",
   "execution_count": null,
   "id": "087bef1b-1f94-486b-b12a-9c4fa468e236",
   "metadata": {},
   "outputs": [],
   "source": [
    "dirname = '/home/scai/phd/aiz218323/scratch/outputs/59-ngame-ep-for-wikiseealso-with-cls-for-dr-1-1'"
   ]
  },
  {
   "cell_type": "code",
   "execution_count": null,
   "id": "667e8e69-2a28-4b30-8cd1-65e3f5c775f6",
   "metadata": {},
   "outputs": [],
   "source": [
    "output_dir = f\"/home/scai/phd/aiz218323/scratch/outputs/{os.path.basename(dirname)}\"\n",
    "mname = f'{output_dir}/{os.path.basename(get_best_model(output_dir))}'"
   ]
  },
  {
   "cell_type": "code",
   "execution_count": null,
   "id": "bcd1a7c7-6547-480c-9371-a134205d74a9",
   "metadata": {},
   "outputs": [
    {
     "data": {
      "text/plain": [
       "'/home/scai/phd/aiz218323/scratch/outputs/59-ngame-ep-for-wikiseealso-with-cls-for-dr-1-1/checkpoint-130200'"
      ]
     },
     "execution_count": null,
     "metadata": {},
     "output_type": "execute_result"
    }
   ],
   "source": [
    "mname"
   ]
  },
  {
   "cell_type": "code",
   "execution_count": null,
   "id": "4af7b8a7-f0d1-4184-a1c6-f5e043b7a260",
   "metadata": {},
   "outputs": [],
   "source": [
    "pred_dir = f'{mname}/predictions/'\n",
    "with open(f'{pred_dir}/train_predictions.pkl', 'rb') as f: train_pred = pickle.load(f)\n",
    "with open(f'{pred_dir}/test_predictions.pkl', 'rb') as f: test_pred = pickle.load(f)"
   ]
  },
  {
   "cell_type": "code",
   "execution_count": null,
   "id": "b04c2161-ca26-4713-a277-a4d48b1d956f",
   "metadata": {},
   "outputs": [],
   "source": [
    "pred_dir = f'{mname}/predictions/'\n",
    "train_pred = du.read_sparse_file(f'{pred_dir}/train_predictions-entropy.txt')\n",
    "test_pred = du.read_sparse_file(f'{pred_dir}/test_predictions-entropy.txt')"
   ]
  },
  {
   "cell_type": "code",
   "execution_count": null,
   "id": "ca7c579b-1686-42c5-a2e8-c22d617dfa71",
   "metadata": {},
   "outputs": [],
   "source": [
    "def get_sparse_matrix(o, n_lbl):\n",
    "    indptr = torch.cat([torch.tensor([0]), o.pred_ptr.cumsum(dim=0)])\n",
    "    return sparse.csr_matrix((o.pred_score, o.pred_idx, indptr), shape=(len(o.pred_ptr), n_lbl))\n",
    "    "
   ]
  },
  {
   "cell_type": "code",
   "execution_count": null,
   "id": "16f75a25-4b7b-4d90-b1a1-ca7f68fa0c25",
   "metadata": {},
   "outputs": [],
   "source": [
    "predictions = {}"
   ]
  },
  {
   "cell_type": "code",
   "execution_count": null,
   "id": "6dc1e712-feef-4216-849c-d47915aa35c2",
   "metadata": {},
   "outputs": [],
   "source": [
    "predictions['entropy'] = (get_sparse_matrix(train_pred, block.n_lbl), get_sparse_matrix(test_pred, block.n_lbl))"
   ]
  },
  {
   "cell_type": "code",
   "execution_count": null,
   "id": "593bb90f-8549-43cc-869b-8242d872f3b0",
   "metadata": {},
   "outputs": [],
   "source": [
    "predictions['entropy'] = (train_pred, test_pred)"
   ]
  },
  {
   "cell_type": "code",
   "execution_count": null,
   "id": "a38afc0f-98e3-459b-bb4b-2e3e01c466c3",
   "metadata": {},
   "outputs": [],
   "source": [
    "predictions['ngame'] = (get_sparse_matrix(train_pred, block.n_lbl), get_sparse_matrix(test_pred, block.n_lbl))"
   ]
  },
  {
   "cell_type": "code",
   "execution_count": null,
   "id": "4d997174-ea5a-4d01-97c9-f9cd76f4a5b1",
   "metadata": {},
   "outputs": [],
   "source": []
  },
  {
   "cell_type": "code",
   "execution_count": null,
   "id": "740fc0f7-24a4-4dd4-a2c8-56834d0ad1a3",
   "metadata": {},
   "outputs": [],
   "source": [
    "from sklearn import preprocessing"
   ]
  },
  {
   "cell_type": "code",
   "execution_count": null,
   "id": "820eaa31-cdbf-473b-9e94-3287561c652d",
   "metadata": {},
   "outputs": [],
   "source": [
    "preprocessing.normalize()"
   ]
  },
  {
   "cell_type": "code",
   "execution_count": null,
   "id": "454782f8-bc4b-4629-a3bb-c7ab282386e4",
   "metadata": {},
   "outputs": [],
   "source": [
    "prop = xc_metrics.compute_inv_propesity(block.train.dset.data.data_lbl, A=0.55, B=1.5)\n",
    "fuser = ScoreFusion(prop)"
   ]
  },
  {
   "cell_type": "code",
   "execution_count": null,
   "id": "01111a35-f471-4b2e-b2a4-db601e4a708b",
   "metadata": {},
   "outputs": [],
   "source": [
    "train_entropy = predictions['entropy'][0].copy()\n",
    "train_entropy.data[:] = np.exp(train_entropy.data)"
   ]
  },
  {
   "cell_type": "code",
   "execution_count": null,
   "id": "42a974c2-3909-49d8-95f1-b6f765c1b2ba",
   "metadata": {},
   "outputs": [],
   "source": [
    "fuser.fit(preprocessing.normalize(train_entropy), preprocessing.normalize(predictions['ngame'][0]), \n",
    "          block.train.dset.data.data_lbl, n_samples=50_000)"
   ]
  },
  {
   "cell_type": "code",
   "execution_count": null,
   "id": "bb4e654c-25fb-43a7-a48f-c88388f8c29a",
   "metadata": {},
   "outputs": [],
   "source": [
    "test_entropy = predictions['entropy'][1].copy()\n",
    "test_entropy.data[:] = np.exp(test_entropy.data)"
   ]
  },
  {
   "cell_type": "code",
   "execution_count": null,
   "id": "45f57a9e-642a-4bfa-9fa0-439ee2f45009",
   "metadata": {},
   "outputs": [],
   "source": [
    "pred = fuser.predict(preprocessing.normalize(test_entropy), preprocessing.normalize(predictions['ngame'][1]), beta=0.2)"
   ]
  },
  {
   "cell_type": "code",
   "execution_count": null,
   "id": "f35bfcbe-8844-4d31-8135-15efb653ade3",
   "metadata": {},
   "outputs": [],
   "source": [
    "output = {\n",
    "    'targ_idx': torch.tensor(block.test.dset.data.data_lbl.indices),\n",
    "    'targ_ptr': torch.tensor([q-p for p,q in zip(block.test.dset.data.data_lbl.indptr, block.test.dset.data.data_lbl.indptr[1:])]),\n",
    "    'pred_idx': torch.tensor(pred.indices),\n",
    "    'pred_ptr': torch.tensor([q-p for p,q in zip(pred.indptr, pred.indptr[1:])]),\n",
    "    'pred_score': torch.tensor(pred.data),\n",
    "}"
   ]
  },
  {
   "cell_type": "code",
   "execution_count": null,
   "id": "75d894bf-1dd6-4394-be38-f7cf061878c5",
   "metadata": {},
   "outputs": [
    {
     "name": "stderr",
     "output_type": "stream",
     "text": [
      "/scratch/scai/phd/aiz218323/anaconda3/envs/xc_nlg/lib/python3.9/site-packages/scipy/sparse/_index.py:145: SparseEfficiencyWarning: Changing the sparsity structure of a csr_matrix is expensive. lil_matrix is more efficient.\n",
      "  self._set_arrayXarray(i, j, x)\n"
     ]
    },
    {
     "data": {
      "text/html": [
       "<div>\n",
       "<style scoped>\n",
       "    .dataframe tbody tr th:only-of-type {\n",
       "        vertical-align: middle;\n",
       "    }\n",
       "\n",
       "    .dataframe tbody tr th {\n",
       "        vertical-align: top;\n",
       "    }\n",
       "\n",
       "    .dataframe thead th {\n",
       "        text-align: right;\n",
       "    }\n",
       "</style>\n",
       "<table border=\"1\" class=\"dataframe\">\n",
       "  <thead>\n",
       "    <tr style=\"text-align: right;\">\n",
       "      <th></th>\n",
       "      <th>P@1</th>\n",
       "      <th>P@3</th>\n",
       "      <th>P@5</th>\n",
       "      <th>P@10</th>\n",
       "      <th>N@1</th>\n",
       "      <th>N@3</th>\n",
       "      <th>N@5</th>\n",
       "      <th>N@10</th>\n",
       "      <th>PSP@1</th>\n",
       "      <th>PSP@3</th>\n",
       "      <th>PSP@5</th>\n",
       "      <th>PSP@10</th>\n",
       "      <th>PSN@1</th>\n",
       "      <th>PSN@3</th>\n",
       "      <th>PSN@5</th>\n",
       "      <th>PSN@10</th>\n",
       "      <th>R@10</th>\n",
       "      <th>R@100</th>\n",
       "      <th>R@200</th>\n",
       "    </tr>\n",
       "  </thead>\n",
       "  <tbody>\n",
       "    <tr>\n",
       "      <th>0</th>\n",
       "      <td>31.8486</td>\n",
       "      <td>21.6141</td>\n",
       "      <td>16.3844</td>\n",
       "      <td>10.3274</td>\n",
       "      <td>31.8486</td>\n",
       "      <td>31.8923</td>\n",
       "      <td>32.9624</td>\n",
       "      <td>34.8056</td>\n",
       "      <td>24.1139</td>\n",
       "      <td>27.3135</td>\n",
       "      <td>29.9506</td>\n",
       "      <td>34.6092</td>\n",
       "      <td>24.1139</td>\n",
       "      <td>27.3302</td>\n",
       "      <td>29.2735</td>\n",
       "      <td>31.587</td>\n",
       "      <td>39.7931</td>\n",
       "      <td>52.9659</td>\n",
       "      <td>55.266</td>\n",
       "    </tr>\n",
       "  </tbody>\n",
       "</table>\n",
       "</div>"
      ],
      "text/plain": [
       "       P@1      P@3      P@5     P@10      N@1      N@3      N@5     N@10  \\\n",
       "0  31.8486  21.6141  16.3844  10.3274  31.8486  31.8923  32.9624  34.8056   \n",
       "\n",
       "     PSP@1    PSP@3    PSP@5   PSP@10    PSN@1    PSN@3    PSN@5  PSN@10  \\\n",
       "0  24.1139  27.3135  29.9506  34.6092  24.1139  27.3302  29.2735  31.587   \n",
       "\n",
       "      R@10    R@100   R@200  \n",
       "0  39.7931  52.9659  55.266  "
      ]
     },
     "metadata": {},
     "output_type": "display_data"
    }
   ],
   "source": [
    "metric = PrecRecl(block.n_lbl, block.test.data_lbl_filterer, prop=block.train.dset.data.data_lbl,\n",
    "                  pk=10, rk=200, rep_pk=[1, 3, 5, 10], rep_rk=[10, 100, 200])\n",
    "m = metric(**output)\n",
    "display_metric(m, remove_prefix=False)"
   ]
  },
  {
   "cell_type": "markdown",
   "id": "2857801f-4580-460c-9fab-cfcf2820267b",
   "metadata": {},
   "source": [
    "### `Reciprocal rank fusion`"
   ]
  },
  {
   "cell_type": "code",
   "execution_count": null,
   "id": "a2b2127f-63ac-4827-8369-b99a24c1b6af",
   "metadata": {},
   "outputs": [],
   "source": [
    "import xclib.utils.sparse as xc_sparse"
   ]
  },
  {
   "cell_type": "code",
   "execution_count": null,
   "id": "61707130-a78d-4077-a892-6dab8ea385a7",
   "metadata": {},
   "outputs": [],
   "source": [
    "def compute_rrf(inp, targ, k=60):\n",
    "    inp_rank,targ_rank = xc_sparse.rank(inp),xc_sparse.rank(targ)\n",
    "    inp_rank,targ_rank = inp_rank.astype(np.float32),targ_rank.astype(np.float32)\n",
    "    inp_rank.data[:] = 1/(inp_rank.data+k)\n",
    "    targ_rank.data[:] = 1/(targ_rank.data+k)\n",
    "    return inp_rank+targ_rank\n",
    "    "
   ]
  },
  {
   "cell_type": "code",
   "execution_count": null,
   "id": "7f4122ee-13eb-486d-8b34-eef7ca8e30f6",
   "metadata": {},
   "outputs": [
    {
     "data": {
      "text/plain": [
       "<177515x312330 sparse matrix of type '<class 'numpy.float32'>'\n",
       "\twith 35503000 stored elements in Compressed Sparse Row format>"
      ]
     },
     "execution_count": null,
     "metadata": {},
     "output_type": "execute_result"
    }
   ],
   "source": [
    "predictions['entropy'][1]"
   ]
  },
  {
   "cell_type": "code",
   "execution_count": null,
   "id": "49ef488c-e232-44bc-a2e7-a8ba16e275c0",
   "metadata": {},
   "outputs": [
    {
     "data": {
      "text/plain": [
       "<177515x312330 sparse matrix of type '<class 'numpy.float32'>'\n",
       "\twith 35503000 stored elements in Compressed Sparse Row format>"
      ]
     },
     "execution_count": null,
     "metadata": {},
     "output_type": "execute_result"
    }
   ],
   "source": [
    "predictions['ngame'][1]"
   ]
  },
  {
   "cell_type": "code",
   "execution_count": null,
   "id": "d0dea16e-a3b1-4e91-984a-73b9e01958e3",
   "metadata": {},
   "outputs": [],
   "source": [
    "pred = compute_rrf(predictions['entropy'][1], predictions['ngame'][1], k=20)"
   ]
  },
  {
   "cell_type": "code",
   "execution_count": null,
   "id": "a87adaf8-e184-42b2-90e1-bf634602e712",
   "metadata": {},
   "outputs": [],
   "source": [
    "output = {\n",
    "    'targ_idx': torch.tensor(block.test.dset.data.data_lbl.indices),\n",
    "    'targ_ptr': torch.tensor([q-p for p,q in zip(block.test.dset.data.data_lbl.indptr, block.test.dset.data.data_lbl.indptr[1:])]),\n",
    "    'pred_idx': torch.tensor(pred.indices),\n",
    "    'pred_ptr': torch.tensor([q-p for p,q in zip(pred.indptr, pred.indptr[1:])]),\n",
    "    'pred_score': torch.tensor(pred.data),\n",
    "}"
   ]
  },
  {
   "cell_type": "code",
   "execution_count": null,
   "id": "08b4d755-4eb8-4d63-b02c-3006452508a8",
   "metadata": {},
   "outputs": [],
   "source": []
  },
  {
   "cell_type": "code",
   "execution_count": null,
   "id": "b800c2bb-e363-4fee-b94a-acd00f94cca1",
   "metadata": {},
   "outputs": [],
   "source": []
  },
  {
   "cell_type": "code",
   "execution_count": null,
   "id": "b2b5ed43-ecf7-4d8d-8b7d-83d503687c07",
   "metadata": {},
   "outputs": [],
   "source": []
  },
  {
   "cell_type": "markdown",
   "id": "c8d00f6a-798b-41e5-8c2a-bae29c44d1f3",
   "metadata": {},
   "source": [
    "**`RRF`**"
   ]
  },
  {
   "cell_type": "code",
   "execution_count": null,
   "id": "f884ca59-a121-4a71-9e2f-3104b6835e6a",
   "metadata": {},
   "outputs": [
    {
     "name": "stderr",
     "output_type": "stream",
     "text": [
      "/scratch/scai/phd/aiz218323/anaconda3/envs/xc_nlg/lib/python3.9/site-packages/scipy/sparse/_index.py:145: SparseEfficiencyWarning: Changing the sparsity structure of a csr_matrix is expensive. lil_matrix is more efficient.\n",
      "  self._set_arrayXarray(i, j, x)\n"
     ]
    },
    {
     "data": {
      "text/html": [
       "<div>\n",
       "<style scoped>\n",
       "    .dataframe tbody tr th:only-of-type {\n",
       "        vertical-align: middle;\n",
       "    }\n",
       "\n",
       "    .dataframe tbody tr th {\n",
       "        vertical-align: top;\n",
       "    }\n",
       "\n",
       "    .dataframe thead th {\n",
       "        text-align: right;\n",
       "    }\n",
       "</style>\n",
       "<table border=\"1\" class=\"dataframe\">\n",
       "  <thead>\n",
       "    <tr style=\"text-align: right;\">\n",
       "      <th></th>\n",
       "      <th>P@1</th>\n",
       "      <th>P@3</th>\n",
       "      <th>P@5</th>\n",
       "      <th>P@10</th>\n",
       "      <th>N@1</th>\n",
       "      <th>N@3</th>\n",
       "      <th>N@5</th>\n",
       "      <th>N@10</th>\n",
       "      <th>PSP@1</th>\n",
       "      <th>PSP@3</th>\n",
       "      <th>PSP@5</th>\n",
       "      <th>PSP@10</th>\n",
       "      <th>PSN@1</th>\n",
       "      <th>PSN@3</th>\n",
       "      <th>PSN@5</th>\n",
       "      <th>PSN@10</th>\n",
       "      <th>R@10</th>\n",
       "      <th>R@100</th>\n",
       "      <th>R@200</th>\n",
       "    </tr>\n",
       "  </thead>\n",
       "  <tbody>\n",
       "    <tr>\n",
       "      <th>0</th>\n",
       "      <td>29.7062</td>\n",
       "      <td>20.1127</td>\n",
       "      <td>15.4342</td>\n",
       "      <td>9.9699</td>\n",
       "      <td>29.7062</td>\n",
       "      <td>29.8934</td>\n",
       "      <td>31.1559</td>\n",
       "      <td>33.2937</td>\n",
       "      <td>24.8446</td>\n",
       "      <td>26.9727</td>\n",
       "      <td>29.3143</td>\n",
       "      <td>33.983</td>\n",
       "      <td>24.8446</td>\n",
       "      <td>27.2613</td>\n",
       "      <td>29.0652</td>\n",
       "      <td>31.4019</td>\n",
       "      <td>38.8415</td>\n",
       "      <td>54.209</td>\n",
       "      <td>57.6484</td>\n",
       "    </tr>\n",
       "  </tbody>\n",
       "</table>\n",
       "</div>"
      ],
      "text/plain": [
       "       P@1      P@3      P@5    P@10      N@1      N@3      N@5     N@10  \\\n",
       "0  29.7062  20.1127  15.4342  9.9699  29.7062  29.8934  31.1559  33.2937   \n",
       "\n",
       "     PSP@1    PSP@3    PSP@5  PSP@10    PSN@1    PSN@3    PSN@5   PSN@10  \\\n",
       "0  24.8446  26.9727  29.3143  33.983  24.8446  27.2613  29.0652  31.4019   \n",
       "\n",
       "      R@10   R@100    R@200  \n",
       "0  38.8415  54.209  57.6484  "
      ]
     },
     "metadata": {},
     "output_type": "display_data"
    }
   ],
   "source": [
    "metric = PrecRecl(block.n_lbl, block.test.data_lbl_filterer, prop=block.train.dset.data.data_lbl,\n",
    "                  pk=10, rk=200, rep_pk=[1, 3, 5, 10], rep_rk=[10, 100, 200])\n",
    "m = metric(**output)\n",
    "display_metric(m, remove_prefix=False)"
   ]
  },
  {
   "cell_type": "markdown",
   "id": "4a50dd66-febc-4949-957b-52589fcb6e3a",
   "metadata": {},
   "source": [
    "**`Decision Tree`**"
   ]
  },
  {
   "cell_type": "code",
   "execution_count": null,
   "id": "0c508fe0-c25f-41f7-bc50-861c5adde555",
   "metadata": {},
   "outputs": [
    {
     "name": "stderr",
     "output_type": "stream",
     "text": [
      "/scratch/scai/phd/aiz218323/anaconda3/envs/xc_nlg/lib/python3.9/site-packages/scipy/sparse/_index.py:145: SparseEfficiencyWarning: Changing the sparsity structure of a csr_matrix is expensive. lil_matrix is more efficient.\n",
      "  self._set_arrayXarray(i, j, x)\n"
     ]
    },
    {
     "data": {
      "text/html": [
       "<div>\n",
       "<style scoped>\n",
       "    .dataframe tbody tr th:only-of-type {\n",
       "        vertical-align: middle;\n",
       "    }\n",
       "\n",
       "    .dataframe tbody tr th {\n",
       "        vertical-align: top;\n",
       "    }\n",
       "\n",
       "    .dataframe thead th {\n",
       "        text-align: right;\n",
       "    }\n",
       "</style>\n",
       "<table border=\"1\" class=\"dataframe\">\n",
       "  <thead>\n",
       "    <tr style=\"text-align: right;\">\n",
       "      <th></th>\n",
       "      <th>P@1</th>\n",
       "      <th>P@3</th>\n",
       "      <th>P@5</th>\n",
       "      <th>P@10</th>\n",
       "      <th>N@1</th>\n",
       "      <th>N@3</th>\n",
       "      <th>N@5</th>\n",
       "      <th>N@10</th>\n",
       "      <th>PSP@1</th>\n",
       "      <th>PSP@3</th>\n",
       "      <th>PSP@5</th>\n",
       "      <th>PSP@10</th>\n",
       "      <th>PSN@1</th>\n",
       "      <th>PSN@3</th>\n",
       "      <th>PSN@5</th>\n",
       "      <th>PSN@10</th>\n",
       "      <th>R@10</th>\n",
       "      <th>R@100</th>\n",
       "      <th>R@200</th>\n",
       "    </tr>\n",
       "  </thead>\n",
       "  <tbody>\n",
       "    <tr>\n",
       "      <th>0</th>\n",
       "      <td>31.5878</td>\n",
       "      <td>21.1413</td>\n",
       "      <td>16.0202</td>\n",
       "      <td>10.1679</td>\n",
       "      <td>31.5878</td>\n",
       "      <td>31.453</td>\n",
       "      <td>32.5368</td>\n",
       "      <td>34.4779</td>\n",
       "      <td>25.0819</td>\n",
       "      <td>27.3309</td>\n",
       "      <td>29.5955</td>\n",
       "      <td>34.0623</td>\n",
       "      <td>25.0819</td>\n",
       "      <td>27.657</td>\n",
       "      <td>29.4271</td>\n",
       "      <td>31.6832</td>\n",
       "      <td>39.482</td>\n",
       "      <td>53.4453</td>\n",
       "      <td>55.33</td>\n",
       "    </tr>\n",
       "  </tbody>\n",
       "</table>\n",
       "</div>"
      ],
      "text/plain": [
       "       P@1      P@3      P@5     P@10      N@1     N@3      N@5     N@10  \\\n",
       "0  31.5878  21.1413  16.0202  10.1679  31.5878  31.453  32.5368  34.4779   \n",
       "\n",
       "     PSP@1    PSP@3    PSP@5   PSP@10    PSN@1   PSN@3    PSN@5   PSN@10  \\\n",
       "0  25.0819  27.3309  29.5955  34.0623  25.0819  27.657  29.4271  31.6832   \n",
       "\n",
       "     R@10    R@100  R@200  \n",
       "0  39.482  53.4453  55.33  "
      ]
     },
     "metadata": {},
     "output_type": "display_data"
    }
   ],
   "source": [
    "metric = PrecRecl(block.n_lbl, block.test.data_lbl_filterer, prop=block.train.dset.data.data_lbl,\n",
    "                  pk=10, rk=200, rep_pk=[1, 3, 5, 10], rep_rk=[10, 100, 200])\n",
    "m = metric(**output)\n",
    "display_metric(m, remove_prefix=False)"
   ]
  },
  {
   "cell_type": "code",
   "execution_count": null,
   "id": "03348290-4534-472f-88da-2812694fcd60",
   "metadata": {},
   "outputs": [],
   "source": []
  }
 ],
 "metadata": {
  "kernelspec": {
   "display_name": "python3",
   "language": "python",
   "name": "python3"
  }
 },
 "nbformat": 4,
 "nbformat_minor": 5
}
