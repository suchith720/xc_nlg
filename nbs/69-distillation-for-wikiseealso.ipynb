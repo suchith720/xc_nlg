{
 "cells": [
  {
   "cell_type": "code",
   "execution_count": null,
   "id": "d60b51bd-0144-4139-8be5-7602bad6a9c8",
   "metadata": {},
   "outputs": [],
   "source": [
    "#| default_exp 69-distillation-for-wikiseealso-1-0"
   ]
  },
  {
   "cell_type": "code",
   "execution_count": null,
   "id": "65e00e5c-ff88-425d-a828-7ca5d02215ab",
   "metadata": {},
   "outputs": [],
   "source": [
    "%load_ext autoreload\n",
    "%autoreload 2\n",
    "\n",
    "from nbdev.showdoc import *\n",
    "import nbdev; nbdev.nbdev_export()"
   ]
  },
  {
   "cell_type": "code",
   "execution_count": null,
   "id": "874750be-c904-447e-8754-3eefcb9586d6",
   "metadata": {},
   "outputs": [
    {
     "name": "stderr",
     "output_type": "stream",
     "text": [
      "comet_ml is installed but `COMET_API_KEY` is not set.\n"
     ]
    }
   ],
   "source": [
    "#| export\n",
    "import os,torch, torch.multiprocessing as mp, pickle, numpy as np\n",
    "from transformers import DistilBertConfig\n",
    "\n",
    "from xcai.basics import *\n",
    "from xcai.models.PPP0XX import DBT010\n",
    "from xcai.models.distillation import DTL001"
   ]
  },
  {
   "cell_type": "code",
   "execution_count": null,
   "id": "1dd23053-8908-4615-a47f-96b2039b0cff",
   "metadata": {},
   "outputs": [],
   "source": [
    "os.environ['WANDB_MODE'] = 'disabled'"
   ]
  },
  {
   "cell_type": "code",
   "execution_count": null,
   "id": "44292259-cc09-4bd0-96f3-08206b948924",
   "metadata": {},
   "outputs": [],
   "source": [
    "#| export\n",
    "os.environ['CUDA_VISIBLE_DEVICES'] = '0,1'\n",
    "os.environ['WANDB_PROJECT']='xc-nlg_69-distillation-for-wikiseealso'"
   ]
  },
  {
   "cell_type": "code",
   "execution_count": null,
   "id": "9117b606-5304-4d30-9fb3-4bdf91fb7fa5",
   "metadata": {},
   "outputs": [],
   "source": [
    "#| export\n",
    "pkl_dir = '/home/scai/phd/aiz218323/scratch/datasets'\n",
    "pkl_file = f'{pkl_dir}/processed/wikiseealso_data-metas_distilbert-base-uncased_rm_radga-aug-cat-hlk-block-032.pkl'"
   ]
  },
  {
   "cell_type": "code",
   "execution_count": null,
   "id": "34ec27db-6509-41d6-b292-6637fb65d391",
   "metadata": {},
   "outputs": [],
   "source": [
    "pkl_dir = '/home/scai/phd/aiz218323/scratch/datasets'\n",
    "pkl_file = f'{pkl_dir}/processed/wikiseealso_data_distilbert-base-uncased_xcnlg_ngame.pkl'"
   ]
  },
  {
   "cell_type": "code",
   "execution_count": null,
   "id": "5dfc57f3-215c-4166-b32b-c63679b38744",
   "metadata": {},
   "outputs": [
    {
     "name": "stdout",
     "output_type": "stream",
     "text": [
      "/home/scai/phd/aiz218323/scratch/datasets/processed/wikiseealso_data_distilbert-base-uncased_xcnlg_ngame.pkl\n"
     ]
    }
   ],
   "source": [
    "!ls {pkl_file}"
   ]
  },
  {
   "cell_type": "code",
   "execution_count": null,
   "id": "54a5bd41-8e37-457f-a36d-39e41a65ca6d",
   "metadata": {},
   "outputs": [],
   "source": [
    "#| export\n",
    "with open(pkl_file, 'rb') as file: block = pickle.load(file)"
   ]
  },
  {
   "cell_type": "code",
   "execution_count": null,
   "id": "0f2d5077-4268-4418-8d1e-9536f2d5538b",
   "metadata": {},
   "outputs": [],
   "source": [
    "block.train.dset.data.data_info['input_ids'] = block.train.dset.data.data_info['input_ids_aug_cat']\n",
    "block.train.dset.data.data_info['attention_mask'] = block.train.dset.data.data_info['attention_mask_aug_cat']\n",
    "block.test.dset.data.data_info['input_ids'] = block.test.dset.data.data_info['input_ids_aug_cat']\n",
    "block.test.dset.data.data_info['attention_mask'] = block.test.dset.data.data_info['attention_mask_aug_cat']"
   ]
  },
  {
   "cell_type": "code",
   "execution_count": null,
   "id": "69bbb3b3-62a7-438f-98a9-ed95bdfe07f8",
   "metadata": {},
   "outputs": [],
   "source": [
    "#| export\n",
    "block.train.dset.data.data_info['aug_input_ids'] = block.train.dset.data.data_info['input_ids_aug_cat']\n",
    "block.train.dset.data.data_info['aug_attention_mask'] = block.train.dset.data.data_info['attention_mask_aug_cat']\n",
    "block.test.dset.data.data_info['aug_input_ids'] = block.test.dset.data.data_info['input_ids_aug_cat']\n",
    "block.test.dset.data.data_info['aug_attention_mask'] = block.test.dset.data.data_info['attention_mask_aug_cat']"
   ]
  },
  {
   "cell_type": "markdown",
   "id": "3fb716ef-c80c-42ca-8096-5eed4ef7135b",
   "metadata": {},
   "source": [
    "## Models"
   ]
  },
  {
   "cell_type": "code",
   "execution_count": null,
   "id": "870ac001-4e36-4912-8c94-1f637d40d860",
   "metadata": {},
   "outputs": [],
   "source": [
    "#| export\n",
    "args = XCLearningArguments(\n",
    "    output_dir='/home/scai/phd/aiz218323/scratch/outputs/69-distillation-for-wikiseealso-1-0',\n",
    "    logging_first_step=True,\n",
    "    per_device_train_batch_size=800,\n",
    "    per_device_eval_batch_size=800,\n",
    "    representation_num_beams=200,\n",
    "    representation_accumulation_steps=10,\n",
    "    save_strategy=\"steps\",\n",
    "    evaluation_strategy=\"steps\",\n",
    "    eval_steps=3000,\n",
    "    save_steps=3000,\n",
    "    save_total_limit=5,\n",
    "    num_train_epochs=300,\n",
    "    predict_with_representation=True,\n",
    "    representation_search_type='INDEX',\n",
    "    adam_epsilon=1e-6,\n",
    "    warmup_steps=100,\n",
    "    weight_decay=0.01,\n",
    "    learning_rate=2e-4,\n",
    "    group_by_cluster=True,\n",
    "    num_clustering_warmup_epochs=10,\n",
    "    num_cluster_update_epochs=5,\n",
    "    num_cluster_size_update_epochs=25,\n",
    "    clustering_type='EXPO',\n",
    "    minimum_cluster_size=2,\n",
    "    maximum_cluster_size=1600,\n",
    "    target_indices_key='plbl2data_idx',\n",
    "    target_pointer_key='plbl2data_data2ptr',\n",
    "    use_encoder_parallel=True,\n",
    "    max_grad_norm=None,\n",
    "    fp16=True,\n",
    "    label_names=['lbl2data_idx', 'lbl2data_input_ids', 'lbl2data_attention_mask'],\n",
    ")"
   ]
  },
  {
   "cell_type": "code",
   "execution_count": null,
   "id": "02772f56-3629-4f5b-91ad-ed4ab133a943",
   "metadata": {},
   "outputs": [],
   "source": [
    "#| export\n",
    "from safetensors import safe_open"
   ]
  },
  {
   "cell_type": "code",
   "execution_count": null,
   "id": "a36dfd9a-2f02-43bf-a6fc-507ab57dab8c",
   "metadata": {},
   "outputs": [
    {
     "name": "stderr",
     "output_type": "stream",
     "text": [
      "Some weights of DBT010 were not initialized from the model checkpoint at sentence-transformers/msmarco-distilbert-base-v4 and are newly initialized: ['encoder.dr_layer_norm.bias', 'encoder.dr_layer_norm.weight', 'encoder.dr_projector.bias', 'encoder.dr_projector.weight', 'encoder.dr_transform.bias', 'encoder.dr_transform.weight']\n",
      "You should probably TRAIN this model on a down-stream task to be able to use it for predictions and inference.\n"
     ]
    },
    {
     "data": {
      "text/plain": [
       "_IncompatibleKeys(missing_keys=['distilbert.embeddings.word_embeddings.weight', 'distilbert.embeddings.position_embeddings.weight', 'distilbert.embeddings.LayerNorm.weight', 'distilbert.embeddings.LayerNorm.bias', 'distilbert.transformer.layer.0.attention.q_lin.weight', 'distilbert.transformer.layer.0.attention.q_lin.bias', 'distilbert.transformer.layer.0.attention.k_lin.weight', 'distilbert.transformer.layer.0.attention.k_lin.bias', 'distilbert.transformer.layer.0.attention.v_lin.weight', 'distilbert.transformer.layer.0.attention.v_lin.bias', 'distilbert.transformer.layer.0.attention.out_lin.weight', 'distilbert.transformer.layer.0.attention.out_lin.bias', 'distilbert.transformer.layer.0.sa_layer_norm.weight', 'distilbert.transformer.layer.0.sa_layer_norm.bias', 'distilbert.transformer.layer.0.ffn.lin1.weight', 'distilbert.transformer.layer.0.ffn.lin1.bias', 'distilbert.transformer.layer.0.ffn.lin2.weight', 'distilbert.transformer.layer.0.ffn.lin2.bias', 'distilbert.transformer.layer.0.output_layer_norm.weight', 'distilbert.transformer.layer.0.output_layer_norm.bias', 'distilbert.transformer.layer.1.attention.q_lin.weight', 'distilbert.transformer.layer.1.attention.q_lin.bias', 'distilbert.transformer.layer.1.attention.k_lin.weight', 'distilbert.transformer.layer.1.attention.k_lin.bias', 'distilbert.transformer.layer.1.attention.v_lin.weight', 'distilbert.transformer.layer.1.attention.v_lin.bias', 'distilbert.transformer.layer.1.attention.out_lin.weight', 'distilbert.transformer.layer.1.attention.out_lin.bias', 'distilbert.transformer.layer.1.sa_layer_norm.weight', 'distilbert.transformer.layer.1.sa_layer_norm.bias', 'distilbert.transformer.layer.1.ffn.lin1.weight', 'distilbert.transformer.layer.1.ffn.lin1.bias', 'distilbert.transformer.layer.1.ffn.lin2.weight', 'distilbert.transformer.layer.1.ffn.lin2.bias', 'distilbert.transformer.layer.1.output_layer_norm.weight', 'distilbert.transformer.layer.1.output_layer_norm.bias', 'distilbert.transformer.layer.2.attention.q_lin.weight', 'distilbert.transformer.layer.2.attention.q_lin.bias', 'distilbert.transformer.layer.2.attention.k_lin.weight', 'distilbert.transformer.layer.2.attention.k_lin.bias', 'distilbert.transformer.layer.2.attention.v_lin.weight', 'distilbert.transformer.layer.2.attention.v_lin.bias', 'distilbert.transformer.layer.2.attention.out_lin.weight', 'distilbert.transformer.layer.2.attention.out_lin.bias', 'distilbert.transformer.layer.2.sa_layer_norm.weight', 'distilbert.transformer.layer.2.sa_layer_norm.bias', 'distilbert.transformer.layer.2.ffn.lin1.weight', 'distilbert.transformer.layer.2.ffn.lin1.bias', 'distilbert.transformer.layer.2.ffn.lin2.weight', 'distilbert.transformer.layer.2.ffn.lin2.bias', 'distilbert.transformer.layer.2.output_layer_norm.weight', 'distilbert.transformer.layer.2.output_layer_norm.bias', 'distilbert.transformer.layer.3.attention.q_lin.weight', 'distilbert.transformer.layer.3.attention.q_lin.bias', 'distilbert.transformer.layer.3.attention.k_lin.weight', 'distilbert.transformer.layer.3.attention.k_lin.bias', 'distilbert.transformer.layer.3.attention.v_lin.weight', 'distilbert.transformer.layer.3.attention.v_lin.bias', 'distilbert.transformer.layer.3.attention.out_lin.weight', 'distilbert.transformer.layer.3.attention.out_lin.bias', 'distilbert.transformer.layer.3.sa_layer_norm.weight', 'distilbert.transformer.layer.3.sa_layer_norm.bias', 'distilbert.transformer.layer.3.ffn.lin1.weight', 'distilbert.transformer.layer.3.ffn.lin1.bias', 'distilbert.transformer.layer.3.ffn.lin2.weight', 'distilbert.transformer.layer.3.ffn.lin2.bias', 'distilbert.transformer.layer.3.output_layer_norm.weight', 'distilbert.transformer.layer.3.output_layer_norm.bias', 'distilbert.transformer.layer.4.attention.q_lin.weight', 'distilbert.transformer.layer.4.attention.q_lin.bias', 'distilbert.transformer.layer.4.attention.k_lin.weight', 'distilbert.transformer.layer.4.attention.k_lin.bias', 'distilbert.transformer.layer.4.attention.v_lin.weight', 'distilbert.transformer.layer.4.attention.v_lin.bias', 'distilbert.transformer.layer.4.attention.out_lin.weight', 'distilbert.transformer.layer.4.attention.out_lin.bias', 'distilbert.transformer.layer.4.sa_layer_norm.weight', 'distilbert.transformer.layer.4.sa_layer_norm.bias', 'distilbert.transformer.layer.4.ffn.lin1.weight', 'distilbert.transformer.layer.4.ffn.lin1.bias', 'distilbert.transformer.layer.4.ffn.lin2.weight', 'distilbert.transformer.layer.4.ffn.lin2.bias', 'distilbert.transformer.layer.4.output_layer_norm.weight', 'distilbert.transformer.layer.4.output_layer_norm.bias', 'distilbert.transformer.layer.5.attention.q_lin.weight', 'distilbert.transformer.layer.5.attention.q_lin.bias', 'distilbert.transformer.layer.5.attention.k_lin.weight', 'distilbert.transformer.layer.5.attention.k_lin.bias', 'distilbert.transformer.layer.5.attention.v_lin.weight', 'distilbert.transformer.layer.5.attention.v_lin.bias', 'distilbert.transformer.layer.5.attention.out_lin.weight', 'distilbert.transformer.layer.5.attention.out_lin.bias', 'distilbert.transformer.layer.5.sa_layer_norm.weight', 'distilbert.transformer.layer.5.sa_layer_norm.bias', 'distilbert.transformer.layer.5.ffn.lin1.weight', 'distilbert.transformer.layer.5.ffn.lin1.bias', 'distilbert.transformer.layer.5.ffn.lin2.weight', 'distilbert.transformer.layer.5.ffn.lin2.bias', 'distilbert.transformer.layer.5.output_layer_norm.weight', 'distilbert.transformer.layer.5.output_layer_norm.bias'], unexpected_keys=[])"
      ]
     },
     "execution_count": null,
     "metadata": {},
     "output_type": "execute_result"
    }
   ],
   "source": [
    "#| export\n",
    "bsz = max(args.per_device_train_batch_size, args.per_device_eval_batch_size)*torch.cuda.device_count()\n",
    "\n",
    "model_output = '/home/scai/phd/aiz218323/scratch/outputs/67-ngame-ep-for-wikiseealso-with-input-concatenation-1-1'\n",
    "output_dir = f\"/home/scai/phd/aiz218323/scratch/outputs/{os.path.basename(model_output)}\"\n",
    "mname = f'{output_dir}/{os.path.basename(get_best_model(output_dir))}'\n",
    "\n",
    "m_teacher = DBT010.from_pretrained('sentence-transformers/msmarco-distilbert-base-v4', bsz=bsz, tn_targ=5000, margin=0.3, tau=0.1, \n",
    "                                   n_negatives=10, apply_softmax=True, use_encoder_parallel=True)\n",
    "\n",
    "model_weight_file,model_weights = f'{mname}/model.safetensors',{}\n",
    "with safe_open(model_weight_file, framework=\"pt\") as file:\n",
    "    for k in file.keys(): model_weights[k] = file.get_tensor(k)\n",
    "\n",
    "m_teacher.load_state_dict(model_weights, strict=False)"
   ]
  },
  {
   "cell_type": "code",
   "execution_count": null,
   "id": "92e7f916-80b5-49e3-ae91-cca10cf1331f",
   "metadata": {},
   "outputs": [],
   "source": []
  },
  {
   "cell_type": "code",
   "execution_count": null,
   "id": "92245f60-99ac-4051-8644-1aac5662e48e",
   "metadata": {},
   "outputs": [
    {
     "name": "stderr",
     "output_type": "stream",
     "text": [
      "Some weights of DBT010 were not initialized from the model checkpoint at sentence-transformers/msmarco-distilbert-base-v4 and are newly initialized: ['encoder.dr_layer_norm.bias', 'encoder.dr_layer_norm.weight', 'encoder.dr_projector.bias', 'encoder.dr_projector.weight', 'encoder.dr_transform.bias', 'encoder.dr_transform.weight']\n",
      "You should probably TRAIN this model on a down-stream task to be able to use it for predictions and inference.\n"
     ]
    }
   ],
   "source": [
    "#| export\n",
    "bsz = max(args.per_device_train_batch_size, args.per_device_eval_batch_size)*torch.cuda.device_count()\n",
    "\n",
    "m_student = DBT010.from_pretrained('sentence-transformers/msmarco-distilbert-base-v4', bsz=bsz, tn_targ=5000, margin=0.3, tau=0.1, \n",
    "                                   n_negatives=10, apply_softmax=True, use_encoder_parallel=True)\n",
    "m_student.init_dr_head()"
   ]
  },
  {
   "cell_type": "code",
   "execution_count": null,
   "id": "bfefc621-7df9-4308-8a29-d580ff215679",
   "metadata": {},
   "outputs": [],
   "source": []
  },
  {
   "cell_type": "code",
   "execution_count": null,
   "id": "bd275020-fd37-4741-bfb6-66ecb82b0d32",
   "metadata": {},
   "outputs": [],
   "source": [
    "#| export\n",
    "metric = PrecRecl(block.n_lbl, block.test.data_lbl_filterer, prop=block.train.dset.data.data_lbl,\n",
    "                  pk=10, rk=200, rep_pk=[1, 3, 5, 10], rep_rk=[10, 100, 200])"
   ]
  },
  {
   "cell_type": "code",
   "execution_count": null,
   "id": "19144c29-bc7f-450c-8a85-c716ba9d9caf",
   "metadata": {},
   "outputs": [],
   "source": [
    "learn = XCLearner(\n",
    "    model=m_teacher, \n",
    "    args=args,\n",
    "    train_dataset=block.train.dset,\n",
    "    eval_dataset=block.test.dset,\n",
    "    data_collator=block.collator,\n",
    "    compute_metrics=metric,\n",
    ")"
   ]
  },
  {
   "cell_type": "code",
   "execution_count": null,
   "id": "18d1223e-3bdd-4985-8661-d2f8ba1ffc98",
   "metadata": {},
   "outputs": [
    {
     "data": {
      "application/vnd.jupyter.widget-view+json": {
       "model_id": "28b349fc9d654336924b1a0d89b4b4c4",
       "version_major": 2,
       "version_minor": 0
      },
      "text/plain": [
       "  0%|          | 0/196 [00:00<?, ?it/s]"
      ]
     },
     "metadata": {},
     "output_type": "display_data"
    },
    {
     "data": {
      "text/html": [],
      "text/plain": [
       "<IPython.core.display.HTML object>"
      ]
     },
     "metadata": {},
     "output_type": "display_data"
    },
    {
     "name": "stderr",
     "output_type": "stream",
     "text": [
      "/scratch/scai/phd/aiz218323/anaconda3/envs/xc_nlg/lib/python3.9/site-packages/scipy/sparse/_index.py:145: SparseEfficiencyWarning: Changing the sparsity structure of a csr_matrix is expensive. lil_matrix is more efficient.\n",
      "  self._set_arrayXarray(i, j, x)\n"
     ]
    }
   ],
   "source": [
    "o = learn.predict(block.test.dset)"
   ]
  },
  {
   "cell_type": "code",
   "execution_count": null,
   "id": "867383e9-2d2c-495e-bd84-d08248ae42e3",
   "metadata": {},
   "outputs": [
    {
     "data": {
      "text/html": [
       "<div>\n",
       "<style scoped>\n",
       "    .dataframe tbody tr th:only-of-type {\n",
       "        vertical-align: middle;\n",
       "    }\n",
       "\n",
       "    .dataframe tbody tr th {\n",
       "        vertical-align: top;\n",
       "    }\n",
       "\n",
       "    .dataframe thead th {\n",
       "        text-align: right;\n",
       "    }\n",
       "</style>\n",
       "<table border=\"1\" class=\"dataframe\">\n",
       "  <thead>\n",
       "    <tr style=\"text-align: right;\">\n",
       "      <th></th>\n",
       "      <th>P@1</th>\n",
       "      <th>P@3</th>\n",
       "      <th>P@5</th>\n",
       "      <th>P@10</th>\n",
       "      <th>N@1</th>\n",
       "      <th>N@3</th>\n",
       "      <th>N@5</th>\n",
       "      <th>N@10</th>\n",
       "      <th>PSP@1</th>\n",
       "      <th>PSP@3</th>\n",
       "      <th>PSP@5</th>\n",
       "      <th>PSP@10</th>\n",
       "      <th>PSN@1</th>\n",
       "      <th>PSN@3</th>\n",
       "      <th>PSN@5</th>\n",
       "      <th>PSN@10</th>\n",
       "      <th>R@10</th>\n",
       "      <th>R@100</th>\n",
       "      <th>R@200</th>\n",
       "      <th>loss</th>\n",
       "      <th>runtime</th>\n",
       "      <th>samples_per_second</th>\n",
       "      <th>steps_per_second</th>\n",
       "    </tr>\n",
       "  </thead>\n",
       "  <tbody>\n",
       "    <tr>\n",
       "      <th>0</th>\n",
       "      <td>17.2622</td>\n",
       "      <td>11.2798</td>\n",
       "      <td>8.5273</td>\n",
       "      <td>5.5284</td>\n",
       "      <td>17.2622</td>\n",
       "      <td>17.0362</td>\n",
       "      <td>17.7345</td>\n",
       "      <td>19.0837</td>\n",
       "      <td>16.3327</td>\n",
       "      <td>16.7056</td>\n",
       "      <td>17.7868</td>\n",
       "      <td>20.5618</td>\n",
       "      <td>16.3327</td>\n",
       "      <td>17.3546</td>\n",
       "      <td>18.4396</td>\n",
       "      <td>20.0053</td>\n",
       "      <td>22.9164</td>\n",
       "      <td>37.1221</td>\n",
       "      <td>41.469</td>\n",
       "      <td>0.0335</td>\n",
       "      <td>252.57</td>\n",
       "      <td>702.835</td>\n",
       "      <td>0.439</td>\n",
       "    </tr>\n",
       "  </tbody>\n",
       "</table>\n",
       "</div>"
      ],
      "text/plain": [
       "       P@1      P@3     P@5    P@10      N@1      N@3      N@5     N@10  \\\n",
       "0  17.2622  11.2798  8.5273  5.5284  17.2622  17.0362  17.7345  19.0837   \n",
       "\n",
       "     PSP@1    PSP@3    PSP@5   PSP@10    PSN@1    PSN@3    PSN@5   PSN@10  \\\n",
       "0  16.3327  16.7056  17.7868  20.5618  16.3327  17.3546  18.4396  20.0053   \n",
       "\n",
       "      R@10    R@100   R@200    loss  runtime  samples_per_second  \\\n",
       "0  22.9164  37.1221  41.469  0.0335   252.57             702.835   \n",
       "\n",
       "   steps_per_second  \n",
       "0             0.439  "
      ]
     },
     "metadata": {},
     "output_type": "display_data"
    }
   ],
   "source": [
    "display_metric(o.metrics)"
   ]
  },
  {
   "cell_type": "code",
   "execution_count": null,
   "id": "c703f320-abe4-47f5-8733-54dc82ce3258",
   "metadata": {},
   "outputs": [
    {
     "data": {
      "text/html": [
       "<div>\n",
       "<style scoped>\n",
       "    .dataframe tbody tr th:only-of-type {\n",
       "        vertical-align: middle;\n",
       "    }\n",
       "\n",
       "    .dataframe tbody tr th {\n",
       "        vertical-align: top;\n",
       "    }\n",
       "\n",
       "    .dataframe thead th {\n",
       "        text-align: right;\n",
       "    }\n",
       "</style>\n",
       "<table border=\"1\" class=\"dataframe\">\n",
       "  <thead>\n",
       "    <tr style=\"text-align: right;\">\n",
       "      <th></th>\n",
       "      <th>P@1</th>\n",
       "      <th>P@3</th>\n",
       "      <th>P@5</th>\n",
       "      <th>P@10</th>\n",
       "      <th>N@1</th>\n",
       "      <th>N@3</th>\n",
       "      <th>N@5</th>\n",
       "      <th>N@10</th>\n",
       "      <th>PSP@1</th>\n",
       "      <th>PSP@3</th>\n",
       "      <th>PSP@5</th>\n",
       "      <th>PSP@10</th>\n",
       "      <th>PSN@1</th>\n",
       "      <th>PSN@3</th>\n",
       "      <th>PSN@5</th>\n",
       "      <th>PSN@10</th>\n",
       "      <th>R@10</th>\n",
       "      <th>R@100</th>\n",
       "      <th>R@200</th>\n",
       "      <th>loss</th>\n",
       "      <th>runtime</th>\n",
       "      <th>samples_per_second</th>\n",
       "      <th>steps_per_second</th>\n",
       "    </tr>\n",
       "  </thead>\n",
       "  <tbody>\n",
       "    <tr>\n",
       "      <th>0</th>\n",
       "      <td>39.1849</td>\n",
       "      <td>25.1252</td>\n",
       "      <td>18.8724</td>\n",
       "      <td>11.9554</td>\n",
       "      <td>39.1849</td>\n",
       "      <td>38.8025</td>\n",
       "      <td>40.2272</td>\n",
       "      <td>42.7062</td>\n",
       "      <td>27.787</td>\n",
       "      <td>30.1188</td>\n",
       "      <td>32.8063</td>\n",
       "      <td>38.2856</td>\n",
       "      <td>27.787</td>\n",
       "      <td>31.084</td>\n",
       "      <td>33.3704</td>\n",
       "      <td>36.2891</td>\n",
       "      <td>49.0164</td>\n",
       "      <td>66.6496</td>\n",
       "      <td>70.3424</td>\n",
       "      <td>0.0198</td>\n",
       "      <td>702.0258</td>\n",
       "      <td>252.861</td>\n",
       "      <td>0.158</td>\n",
       "    </tr>\n",
       "  </tbody>\n",
       "</table>\n",
       "</div>"
      ],
      "text/plain": [
       "       P@1      P@3      P@5     P@10      N@1      N@3      N@5     N@10  \\\n",
       "0  39.1849  25.1252  18.8724  11.9554  39.1849  38.8025  40.2272  42.7062   \n",
       "\n",
       "    PSP@1    PSP@3    PSP@5   PSP@10   PSN@1   PSN@3    PSN@5   PSN@10  \\\n",
       "0  27.787  30.1188  32.8063  38.2856  27.787  31.084  33.3704  36.2891   \n",
       "\n",
       "      R@10    R@100    R@200    loss   runtime  samples_per_second  \\\n",
       "0  49.0164  66.6496  70.3424  0.0198  702.0258             252.861   \n",
       "\n",
       "   steps_per_second  \n",
       "0             0.158  "
      ]
     },
     "metadata": {},
     "output_type": "display_data"
    }
   ],
   "source": [
    "display_metric(o.metrics)"
   ]
  },
  {
   "cell_type": "markdown",
   "id": "8017ebde-d4e5-426e-9639-de82fd3f18f7",
   "metadata": {},
   "source": [
    "## `Training`"
   ]
  },
  {
   "cell_type": "code",
   "execution_count": null,
   "id": "b3d5cc4f-77cf-41e1-9296-40220a9d9ba2",
   "metadata": {},
   "outputs": [],
   "source": [
    "#| export\n",
    "model = DTL001(DistilBertConfig(), m_student=m_student, m_teacher=m_teacher, embed_sim_loss_weight=1.0)"
   ]
  },
  {
   "cell_type": "code",
   "execution_count": null,
   "id": "e14257a1-e39d-4fb9-b6fa-db09f58f0628",
   "metadata": {},
   "outputs": [
    {
     "name": "stderr",
     "output_type": "stream",
     "text": [
      "/scratch/scai/phd/aiz218323/anaconda3/envs/xc_nlg/lib/python3.9/site-packages/accelerate/accelerator.py:432: FutureWarning: Passing the following arguments to `Accelerator` is deprecated and will be removed in version 1.0 of Accelerate: dict_keys(['dispatch_batches', 'split_batches', 'even_batches', 'use_seedable_sampler']). Please pass an `accelerate.DataLoaderConfiguration` instead: \n",
      "dataloader_config = DataLoaderConfiguration(dispatch_batches=None, split_batches=False, even_batches=True, use_seedable_sampler=True)\n",
      "  warnings.warn(\n",
      "Detected kernel version 3.10.0, which is below the recommended minimum of 5.5.0; this can cause the process to hang. It is recommended to upgrade the kernel to the minimum version or higher.\n"
     ]
    }
   ],
   "source": [
    "#| export\n",
    "learn = XCLearner(\n",
    "    model=model, \n",
    "    args=args,\n",
    "    train_dataset=block.train.dset,\n",
    "    eval_dataset=block.test.dset,\n",
    "    data_collator=block.collator,\n",
    "    compute_metrics=metric,\n",
    ")"
   ]
  },
  {
   "cell_type": "code",
   "execution_count": null,
   "id": "2c5368b5-a8bd-499f-bcca-d57f37d0f279",
   "metadata": {},
   "outputs": [],
   "source": []
  },
  {
   "cell_type": "code",
   "execution_count": null,
   "id": "fb268b60-65c3-4760-a6d0-e531d2cd916d",
   "metadata": {},
   "outputs": [],
   "source": [
    "learn.train()"
   ]
  },
  {
   "cell_type": "code",
   "execution_count": null,
   "id": "3dce55ac-3985-4a8e-820d-75b5d7f7e2bb",
   "metadata": {},
   "outputs": [],
   "source": []
  },
  {
   "cell_type": "code",
   "execution_count": null,
   "id": "9c8a1926-b32a-45d4-ac85-f15bd8467bfc",
   "metadata": {},
   "outputs": [],
   "source": [
    "#| export\n",
    "if __name__ == '__main__':\n",
    "    mp.freeze_support()\n",
    "    learn.train()"
   ]
  },
  {
   "cell_type": "markdown",
   "id": "59254a95-06b4-4d25-861b-71d8a4af44f9",
   "metadata": {},
   "source": [
    "## `Prediction`"
   ]
  },
  {
   "cell_type": "code",
   "execution_count": null,
   "id": "3ccadd43-3fc3-4ebe-9a37-2630e5fbaf5d",
   "metadata": {},
   "outputs": [],
   "source": [
    "args = XCLearningArguments(\n",
    "    output_dir='/home/scai/phd/aiz218323/scratch/outputs/69-distillation-for-wikiseealso-5-1',\n",
    "    logging_first_step=True,\n",
    "    per_device_train_batch_size=800,\n",
    "    per_device_eval_batch_size=800,\n",
    "    representation_num_beams=200,\n",
    "    representation_accumulation_steps=10,\n",
    "    predict_with_representation=True,\n",
    "    representation_search_type='INDEX',\n",
    "    target_indices_key='plbl2data_idx',\n",
    "    target_pointer_key='plbl2data_data2ptr',\n",
    "    use_encoder_parallel=True,\n",
    "    max_grad_norm=None,\n",
    "    fp16=True,\n",
    "    label_names=['lbl2data_idx', 'lbl2data_input_ids', 'lbl2data_attention_mask'],\n",
    ")"
   ]
  },
  {
   "cell_type": "code",
   "execution_count": null,
   "id": "2ddeb06a-ac7c-41c6-b652-42338607a5ed",
   "metadata": {},
   "outputs": [],
   "source": [
    "output_dir = f\"/home/scai/phd/aiz218323/scratch/outputs/{os.path.basename(args.output_dir)}\"\n",
    "mname = f'{output_dir}/{os.path.basename(get_best_model(output_dir))}'"
   ]
  },
  {
   "cell_type": "code",
   "execution_count": null,
   "id": "b3e8e71a-e701-4de7-a42a-090d67901aa9",
   "metadata": {},
   "outputs": [],
   "source": []
  },
  {
   "cell_type": "code",
   "execution_count": null,
   "id": "fa1b74f8-36ce-4637-80a0-f361c0580ec0",
   "metadata": {},
   "outputs": [
    {
     "name": "stderr",
     "output_type": "stream",
     "text": [
      "Some weights of DBT010 were not initialized from the model checkpoint at sentence-transformers/msmarco-distilbert-base-v4 and are newly initialized: ['encoder.dr_layer_norm.bias', 'encoder.dr_layer_norm.weight', 'encoder.dr_projector.bias', 'encoder.dr_projector.weight', 'encoder.dr_transform.bias', 'encoder.dr_transform.weight']\n",
      "You should probably TRAIN this model on a down-stream task to be able to use it for predictions and inference.\n"
     ]
    }
   ],
   "source": [
    "bsz = max(args.per_device_train_batch_size, args.per_device_eval_batch_size)*torch.cuda.device_count()\n",
    "\n",
    "m_student = DBT010.from_pretrained('sentence-transformers/msmarco-distilbert-base-v4', bsz=bsz, tn_targ=5000, margin=0.3, tau=0.1, \n",
    "                                   n_negatives=10, apply_softmax=True, use_encoder_parallel=True)"
   ]
  },
  {
   "cell_type": "code",
   "execution_count": null,
   "id": "c0b00323-0423-4577-b67e-164962584582",
   "metadata": {},
   "outputs": [
    {
     "name": "stderr",
     "output_type": "stream",
     "text": [
      "Some weights of DBT010 were not initialized from the model checkpoint at sentence-transformers/msmarco-distilbert-base-v4 and are newly initialized: ['encoder.dr_layer_norm.bias', 'encoder.dr_layer_norm.weight', 'encoder.dr_projector.bias', 'encoder.dr_projector.weight', 'encoder.dr_transform.bias', 'encoder.dr_transform.weight']\n",
      "You should probably TRAIN this model on a down-stream task to be able to use it for predictions and inference.\n"
     ]
    }
   ],
   "source": [
    "bsz = max(args.per_device_train_batch_size, args.per_device_eval_batch_size)*torch.cuda.device_count()\n",
    "\n",
    "m_teacher = DBT010.from_pretrained('sentence-transformers/msmarco-distilbert-base-v4', bsz=bsz, tn_targ=5000, margin=0.3, tau=0.1, \n",
    "                                   n_negatives=10, apply_softmax=True, use_encoder_parallel=True)"
   ]
  },
  {
   "cell_type": "code",
   "execution_count": null,
   "id": "ca0a1d26-b4b2-4b97-ab4e-eb93c91c9676",
   "metadata": {},
   "outputs": [],
   "source": []
  },
  {
   "cell_type": "code",
   "execution_count": null,
   "id": "84bb5e4c-e22d-484c-9acf-9fa84466e52d",
   "metadata": {},
   "outputs": [],
   "source": []
  },
  {
   "cell_type": "code",
   "execution_count": null,
   "id": "0b32ad13-a1f6-495b-b9dc-59dc1af5b72b",
   "metadata": {},
   "outputs": [],
   "source": [
    "model = DTL001.from_pretrained(mname, m_student=m_student, m_teacher=m_teacher)"
   ]
  },
  {
   "cell_type": "code",
   "execution_count": null,
   "id": "f9fd194e-2df4-40df-a687-209e64585fb5",
   "metadata": {},
   "outputs": [],
   "source": [
    "metric = PrecRecl(block.n_lbl, block.test.data_lbl_filterer, prop=block.train.dset.data.data_lbl,\n",
    "                  pk=10, rk=200, rep_pk=[1, 3, 5, 10], rep_rk=[10, 100, 200])"
   ]
  },
  {
   "cell_type": "code",
   "execution_count": null,
   "id": "2732e0b2-87c7-425d-a1db-fb28242df52f",
   "metadata": {},
   "outputs": [
    {
     "name": "stderr",
     "output_type": "stream",
     "text": [
      "/scratch/scai/phd/aiz218323/anaconda3/envs/xc_nlg/lib/python3.9/site-packages/accelerate/accelerator.py:432: FutureWarning: Passing the following arguments to `Accelerator` is deprecated and will be removed in version 1.0 of Accelerate: dict_keys(['dispatch_batches', 'split_batches', 'even_batches', 'use_seedable_sampler']). Please pass an `accelerate.DataLoaderConfiguration` instead: \n",
      "dataloader_config = DataLoaderConfiguration(dispatch_batches=None, split_batches=False, even_batches=True, use_seedable_sampler=True)\n",
      "  warnings.warn(\n",
      "Detected kernel version 3.10.0, which is below the recommended minimum of 5.5.0; this can cause the process to hang. It is recommended to upgrade the kernel to the minimum version or higher.\n"
     ]
    }
   ],
   "source": [
    "learn = XCLearner(\n",
    "    model=model, \n",
    "    args=args,\n",
    "    train_dataset=block.train.dset,\n",
    "    eval_dataset=block.test.dset,\n",
    "    data_collator=block.collator,\n",
    "    compute_metrics=metric,\n",
    ")"
   ]
  },
  {
   "cell_type": "code",
   "execution_count": null,
   "id": "36da2c36-0fec-4a7f-81b4-45ef6eeda828",
   "metadata": {},
   "outputs": [
    {
     "data": {
      "application/vnd.jupyter.widget-view+json": {
       "model_id": "cf99e988485e458ca255a7203cd5da0b",
       "version_major": 2,
       "version_minor": 0
      },
      "text/plain": [
       "  0%|          | 0/196 [00:00<?, ?it/s]"
      ]
     },
     "metadata": {},
     "output_type": "display_data"
    },
    {
     "name": "stderr",
     "output_type": "stream",
     "text": [
      "/scratch/scai/phd/aiz218323/Projects/xcai/xcai/losses.py:22: UserWarning: Sparse CSR tensor support is in beta state. If you miss a functionality in the sparse tensor support, please submit a feature request to https://github.com/pytorch/pytorch/issues. (Triggered internally at ../aten/src/ATen/SparseCsrTensorImpl.cpp:53.)\n",
      "  return torch.sparse_csr_tensor(data_ptr, data_idx, scores, device=data_ptr.device)\n"
     ]
    },
    {
     "data": {
      "text/html": [],
      "text/plain": [
       "<IPython.core.display.HTML object>"
      ]
     },
     "metadata": {},
     "output_type": "display_data"
    },
    {
     "name": "stderr",
     "output_type": "stream",
     "text": [
      "/scratch/scai/phd/aiz218323/anaconda3/envs/xc_nlg/lib/python3.9/site-packages/scipy/sparse/_index.py:145: SparseEfficiencyWarning: Changing the sparsity structure of a csr_matrix is expensive. lil_matrix is more efficient.\n",
      "  self._set_arrayXarray(i, j, x)\n"
     ]
    }
   ],
   "source": [
    "o = learn.predict(block.test.dset)"
   ]
  },
  {
   "cell_type": "code",
   "execution_count": null,
   "id": "b80aa7e4-2b78-4144-84d5-8f1bfd2aaeb9",
   "metadata": {},
   "outputs": [
    {
     "data": {
      "text/html": [
       "<div>\n",
       "<style scoped>\n",
       "    .dataframe tbody tr th:only-of-type {\n",
       "        vertical-align: middle;\n",
       "    }\n",
       "\n",
       "    .dataframe tbody tr th {\n",
       "        vertical-align: top;\n",
       "    }\n",
       "\n",
       "    .dataframe thead th {\n",
       "        text-align: right;\n",
       "    }\n",
       "</style>\n",
       "<table border=\"1\" class=\"dataframe\">\n",
       "  <thead>\n",
       "    <tr style=\"text-align: right;\">\n",
       "      <th></th>\n",
       "      <th>P@1</th>\n",
       "      <th>P@3</th>\n",
       "      <th>P@5</th>\n",
       "      <th>P@10</th>\n",
       "      <th>N@1</th>\n",
       "      <th>N@3</th>\n",
       "      <th>N@5</th>\n",
       "      <th>N@10</th>\n",
       "      <th>PSP@1</th>\n",
       "      <th>PSP@3</th>\n",
       "      <th>PSP@5</th>\n",
       "      <th>PSP@10</th>\n",
       "      <th>PSN@1</th>\n",
       "      <th>PSN@3</th>\n",
       "      <th>PSN@5</th>\n",
       "      <th>PSN@10</th>\n",
       "      <th>R@10</th>\n",
       "      <th>R@100</th>\n",
       "      <th>R@200</th>\n",
       "      <th>runtime</th>\n",
       "      <th>samples_per_second</th>\n",
       "      <th>steps_per_second</th>\n",
       "    </tr>\n",
       "  </thead>\n",
       "  <tbody>\n",
       "    <tr>\n",
       "      <th>0</th>\n",
       "      <td>29.5902</td>\n",
       "      <td>19.7987</td>\n",
       "      <td>15.0963</td>\n",
       "      <td>9.7397</td>\n",
       "      <td>29.5902</td>\n",
       "      <td>29.6343</td>\n",
       "      <td>30.7912</td>\n",
       "      <td>32.8529</td>\n",
       "      <td>24.4198</td>\n",
       "      <td>26.3249</td>\n",
       "      <td>28.5409</td>\n",
       "      <td>33.1877</td>\n",
       "      <td>24.4198</td>\n",
       "      <td>26.753</td>\n",
       "      <td>28.4967</td>\n",
       "      <td>30.8132</td>\n",
       "      <td>38.0624</td>\n",
       "      <td>54.5944</td>\n",
       "      <td>58.4434</td>\n",
       "      <td>412.853</td>\n",
       "      <td>429.971</td>\n",
       "      <td>0.269</td>\n",
       "    </tr>\n",
       "  </tbody>\n",
       "</table>\n",
       "</div>"
      ],
      "text/plain": [
       "       P@1      P@3      P@5    P@10      N@1      N@3      N@5     N@10  \\\n",
       "0  29.5902  19.7987  15.0963  9.7397  29.5902  29.6343  30.7912  32.8529   \n",
       "\n",
       "     PSP@1    PSP@3    PSP@5   PSP@10    PSN@1   PSN@3    PSN@5   PSN@10  \\\n",
       "0  24.4198  26.3249  28.5409  33.1877  24.4198  26.753  28.4967  30.8132   \n",
       "\n",
       "      R@10    R@100    R@200  runtime  samples_per_second  steps_per_second  \n",
       "0  38.0624  54.5944  58.4434  412.853             429.971             0.269  "
      ]
     },
     "metadata": {},
     "output_type": "display_data"
    }
   ],
   "source": [
    "display_metric(o.metrics)"
   ]
  },
  {
   "cell_type": "code",
   "execution_count": null,
   "id": "c8e0e73c-f058-4b97-ad82-895794788c1d",
   "metadata": {},
   "outputs": [
    {
     "data": {
      "text/plain": [
       "'/home/scai/phd/aiz218323/scratch/outputs/69-distillation-for-wikiseealso-5-1/checkpoint-130200'"
      ]
     },
     "execution_count": null,
     "metadata": {},
     "output_type": "execute_result"
    }
   ],
   "source": [
    "mname"
   ]
  },
  {
   "cell_type": "code",
   "execution_count": null,
   "id": "0013f933-d018-424e-9720-4307a492e669",
   "metadata": {},
   "outputs": [],
   "source": [
    "def func():\n",
    "    import pdb; pdb.set_trace()\n",
    "    return learn.predict(block.test.dset)\n",
    "    "
   ]
  },
  {
   "cell_type": "code",
   "execution_count": null,
   "id": "08a10081-2241-40ba-8273-2c89d48e29cb",
   "metadata": {},
   "outputs": [
    {
     "name": "stdout",
     "output_type": "stream",
     "text": [
      "> /tmp/ipykernel_23394/1218491513.py(3)func()\n",
      "      1 def func():\n",
      "      2     import pdb; pdb.set_trace()\n",
      "----> 3     return learn.predict(block.test.dset)\n",
      "      4 \n",
      "\n"
     ]
    },
    {
     "name": "stdin",
     "output_type": "stream",
     "text": [
      "ipdb>  s\n"
     ]
    },
    {
     "name": "stdout",
     "output_type": "stream",
     "text": [
      "--Call--\n",
      "> /scratch/scai/phd/aiz218323/Projects/xcai/xcai/learner.py(329)predict()\n",
      "    327         return super().evaluate(eval_dataset, ignore_keys=ignore_keys, metric_key_prefix=metric_key_prefix)\n",
      "    328 \n",
      "--> 329     def predict(self, test_dataset: Dataset, ignore_keys:Optional[List[str]]=None, \n",
      "    330             metric_key_prefix:str=\"test\", **gen_kwargs):\n",
      "    331         gen_kwargs = gen_kwargs.copy()\n",
      "\n"
     ]
    },
    {
     "name": "stdin",
     "output_type": "stream",
     "text": [
      "ipdb>  n\n"
     ]
    },
    {
     "name": "stdout",
     "output_type": "stream",
     "text": [
      "> /scratch/scai/phd/aiz218323/Projects/xcai/xcai/learner.py(331)predict()\n",
      "    329     def predict(self, test_dataset: Dataset, ignore_keys:Optional[List[str]]=None, \n",
      "    330             metric_key_prefix:str=\"test\", **gen_kwargs):\n",
      "--> 331         gen_kwargs = gen_kwargs.copy()\n",
      "    332         if gen_kwargs.get(\"length_penalty\") is None and self.args.generation_length_penalty is not None:\n",
      "    333             gen_kwargs[\"length_penalty\"] = self.args.generation_length_penalty\n",
      "\n"
     ]
    },
    {
     "name": "stdin",
     "output_type": "stream",
     "text": [
      "ipdb>  \n"
     ]
    },
    {
     "name": "stdout",
     "output_type": "stream",
     "text": [
      "> /scratch/scai/phd/aiz218323/Projects/xcai/xcai/learner.py(332)predict()\n",
      "    330             metric_key_prefix:str=\"test\", **gen_kwargs):\n",
      "    331         gen_kwargs = gen_kwargs.copy()\n",
      "--> 332         if gen_kwargs.get(\"length_penalty\") is None and self.args.generation_length_penalty is not None:\n",
      "    333             gen_kwargs[\"length_penalty\"] = self.args.generation_length_penalty\n",
      "    334         if gen_kwargs.get(\"gen_num_beams\") is None and self.args.generation_num_beams is not None:\n",
      "\n"
     ]
    },
    {
     "name": "stdin",
     "output_type": "stream",
     "text": [
      "ipdb>  \n"
     ]
    },
    {
     "name": "stdout",
     "output_type": "stream",
     "text": [
      "> /scratch/scai/phd/aiz218323/Projects/xcai/xcai/learner.py(333)predict()\n",
      "    331         gen_kwargs = gen_kwargs.copy()\n",
      "    332         if gen_kwargs.get(\"length_penalty\") is None and self.args.generation_length_penalty is not None:\n",
      "--> 333             gen_kwargs[\"length_penalty\"] = self.args.generation_length_penalty\n",
      "    334         if gen_kwargs.get(\"gen_num_beams\") is None and self.args.generation_num_beams is not None:\n",
      "    335             gen_kwargs[\"gen_num_beams\"] = self.args.generation_num_beams\n",
      "\n"
     ]
    },
    {
     "name": "stdin",
     "output_type": "stream",
     "text": [
      "ipdb>  \n"
     ]
    },
    {
     "name": "stdout",
     "output_type": "stream",
     "text": [
      "> /scratch/scai/phd/aiz218323/Projects/xcai/xcai/learner.py(334)predict()\n",
      "    332         if gen_kwargs.get(\"length_penalty\") is None and self.args.generation_length_penalty is not None:\n",
      "    333             gen_kwargs[\"length_penalty\"] = self.args.generation_length_penalty\n",
      "--> 334         if gen_kwargs.get(\"gen_num_beams\") is None and self.args.generation_num_beams is not None:\n",
      "    335             gen_kwargs[\"gen_num_beams\"] = self.args.generation_num_beams\n",
      "    336         if gen_kwargs.get(\"repr_num_beams\") is None and self.args.representation_num_beams is not None:\n",
      "\n"
     ]
    },
    {
     "name": "stdin",
     "output_type": "stream",
     "text": [
      "ipdb>  \n"
     ]
    },
    {
     "name": "stdout",
     "output_type": "stream",
     "text": [
      "> /scratch/scai/phd/aiz218323/Projects/xcai/xcai/learner.py(335)predict()\n",
      "    333             gen_kwargs[\"length_penalty\"] = self.args.generation_length_penalty\n",
      "    334         if gen_kwargs.get(\"gen_num_beams\") is None and self.args.generation_num_beams is not None:\n",
      "--> 335             gen_kwargs[\"gen_num_beams\"] = self.args.generation_num_beams\n",
      "    336         if gen_kwargs.get(\"repr_num_beams\") is None and self.args.representation_num_beams is not None:\n",
      "    337             gen_kwargs[\"repr_num_beams\"] = self.args.representation_num_beams\n",
      "\n"
     ]
    },
    {
     "name": "stdin",
     "output_type": "stream",
     "text": [
      "ipdb>  \n"
     ]
    },
    {
     "name": "stdout",
     "output_type": "stream",
     "text": [
      "> /scratch/scai/phd/aiz218323/Projects/xcai/xcai/learner.py(336)predict()\n",
      "    334         if gen_kwargs.get(\"gen_num_beams\") is None and self.args.generation_num_beams is not None:\n",
      "    335             gen_kwargs[\"gen_num_beams\"] = self.args.generation_num_beams\n",
      "--> 336         if gen_kwargs.get(\"repr_num_beams\") is None and self.args.representation_num_beams is not None:\n",
      "    337             gen_kwargs[\"repr_num_beams\"] = self.args.representation_num_beams\n",
      "    338         if gen_kwargs.get(\"aug_num_beams\") is None and self.args.augmentation_num_beams is not None:\n",
      "\n"
     ]
    },
    {
     "name": "stdin",
     "output_type": "stream",
     "text": [
      "ipdb>  \n"
     ]
    },
    {
     "name": "stdout",
     "output_type": "stream",
     "text": [
      "> /scratch/scai/phd/aiz218323/Projects/xcai/xcai/learner.py(337)predict()\n",
      "    335             gen_kwargs[\"gen_num_beams\"] = self.args.generation_num_beams\n",
      "    336         if gen_kwargs.get(\"repr_num_beams\") is None and self.args.representation_num_beams is not None:\n",
      "--> 337             gen_kwargs[\"repr_num_beams\"] = self.args.representation_num_beams\n",
      "    338         if gen_kwargs.get(\"aug_num_beams\") is None and self.args.augmentation_num_beams is not None:\n",
      "    339             gen_kwargs[\"aug_num_beams\"] = self.args.augmentation_num_beams\n",
      "\n"
     ]
    },
    {
     "name": "stdin",
     "output_type": "stream",
     "text": [
      "ipdb>  \n"
     ]
    },
    {
     "name": "stdout",
     "output_type": "stream",
     "text": [
      "> /scratch/scai/phd/aiz218323/Projects/xcai/xcai/learner.py(338)predict()\n",
      "    336         if gen_kwargs.get(\"repr_num_beams\") is None and self.args.representation_num_beams is not None:\n",
      "    337             gen_kwargs[\"repr_num_beams\"] = self.args.representation_num_beams\n",
      "--> 338         if gen_kwargs.get(\"aug_num_beams\") is None and self.args.augmentation_num_beams is not None:\n",
      "    339             gen_kwargs[\"aug_num_beams\"] = self.args.augmentation_num_beams\n",
      "    340 \n",
      "\n"
     ]
    },
    {
     "name": "stdin",
     "output_type": "stream",
     "text": [
      "ipdb>  \n"
     ]
    },
    {
     "name": "stdout",
     "output_type": "stream",
     "text": [
      "> /scratch/scai/phd/aiz218323/Projects/xcai/xcai/learner.py(339)predict()\n",
      "    337             gen_kwargs[\"repr_num_beams\"] = self.args.representation_num_beams\n",
      "    338         if gen_kwargs.get(\"aug_num_beams\") is None and self.args.augmentation_num_beams is not None:\n",
      "--> 339             gen_kwargs[\"aug_num_beams\"] = self.args.augmentation_num_beams\n",
      "    340 \n",
      "    341         self.gather_function, self._gen_kwargs = self.accelerator.gather, gen_kwargs\n",
      "\n"
     ]
    },
    {
     "name": "stdin",
     "output_type": "stream",
     "text": [
      "ipdb>  \n"
     ]
    },
    {
     "name": "stdout",
     "output_type": "stream",
     "text": [
      "> /scratch/scai/phd/aiz218323/Projects/xcai/xcai/learner.py(341)predict()\n",
      "    339             gen_kwargs[\"aug_num_beams\"] = self.args.augmentation_num_beams\n",
      "    340 \n",
      "--> 341         self.gather_function, self._gen_kwargs = self.accelerator.gather, gen_kwargs\n",
      "    342         self._memory_tracker.start()\n",
      "    343 \n",
      "\n"
     ]
    },
    {
     "name": "stdin",
     "output_type": "stream",
     "text": [
      "ipdb>  \n"
     ]
    },
    {
     "name": "stdout",
     "output_type": "stream",
     "text": [
      "> /scratch/scai/phd/aiz218323/Projects/xcai/xcai/learner.py(342)predict()\n",
      "    340 \n",
      "    341         self.gather_function, self._gen_kwargs = self.accelerator.gather, gen_kwargs\n",
      "--> 342         self._memory_tracker.start()\n",
      "    343 \n",
      "    344         test_dataloader = self.get_test_dataloader(test_dataset)\n",
      "\n"
     ]
    },
    {
     "name": "stdin",
     "output_type": "stream",
     "text": [
      "ipdb>  \n"
     ]
    },
    {
     "name": "stdout",
     "output_type": "stream",
     "text": [
      "> /scratch/scai/phd/aiz218323/Projects/xcai/xcai/learner.py(344)predict()\n",
      "    342         self._memory_tracker.start()\n",
      "    343 \n",
      "--> 344         test_dataloader = self.get_test_dataloader(test_dataset)\n",
      "    345         start_time = time.time()\n",
      "    346 \n",
      "\n"
     ]
    },
    {
     "name": "stdin",
     "output_type": "stream",
     "text": [
      "ipdb>  \n"
     ]
    },
    {
     "name": "stdout",
     "output_type": "stream",
     "text": [
      "> /scratch/scai/phd/aiz218323/Projects/xcai/xcai/learner.py(345)predict()\n",
      "    343 \n",
      "    344         test_dataloader = self.get_test_dataloader(test_dataset)\n",
      "--> 345         start_time = time.time()\n",
      "    346 \n",
      "    347         output = self.evaluation_loop(test_dataloader, description=\"Prediction\", ignore_keys=ignore_keys, metric_key_prefix=metric_key_prefix)\n",
      "\n"
     ]
    },
    {
     "name": "stdin",
     "output_type": "stream",
     "text": [
      "ipdb>  \n"
     ]
    },
    {
     "name": "stdout",
     "output_type": "stream",
     "text": [
      "> /scratch/scai/phd/aiz218323/Projects/xcai/xcai/learner.py(347)predict()\n",
      "    345         start_time = time.time()\n",
      "    346 \n",
      "--> 347         output = self.evaluation_loop(test_dataloader, description=\"Prediction\", ignore_keys=ignore_keys, metric_key_prefix=metric_key_prefix)\n",
      "    348         total_batch_size = self.args.eval_batch_size * self.args.world_size\n",
      "    349         if f\"{metric_key_prefix}_jit_compilation_time\" in output.metrics:\n",
      "\n"
     ]
    },
    {
     "name": "stdin",
     "output_type": "stream",
     "text": [
      "ipdb>  s\n"
     ]
    },
    {
     "name": "stdout",
     "output_type": "stream",
     "text": [
      "--Call--\n",
      "> /scratch/scai/phd/aiz218323/Projects/xcai/xcai/learner.py(641)evaluation_loop()\n",
      "    639 \n",
      "    640 # %% ../nbs/06_learner.ipynb 53\n",
      "--> 641 @patch\n",
      "    642 def evaluation_loop(\n",
      "    643     self:XCLearner,\n",
      "\n"
     ]
    },
    {
     "name": "stdin",
     "output_type": "stream",
     "text": [
      "ipdb>  n\n"
     ]
    },
    {
     "name": "stdout",
     "output_type": "stream",
     "text": [
      "> /scratch/scai/phd/aiz218323/Projects/xcai/xcai/learner.py(652)evaluation_loop()\n",
      "    650     metric_key_prefix:str=\"eval\",\n",
      "    651 ) -> XCEvalLoopOutput:\n",
      "--> 652     args = self.args\n",
      "    653     prediction_loss_only = prediction_loss_only if prediction_loss_only is not None else args.prediction_loss_only\n",
      "    654 \n",
      "\n"
     ]
    },
    {
     "name": "stdin",
     "output_type": "stream",
     "text": [
      "ipdb>  \n"
     ]
    },
    {
     "name": "stdout",
     "output_type": "stream",
     "text": [
      "> /scratch/scai/phd/aiz218323/Projects/xcai/xcai/learner.py(653)evaluation_loop()\n",
      "    651 ) -> XCEvalLoopOutput:\n",
      "    652     args = self.args\n",
      "--> 653     prediction_loss_only = prediction_loss_only if prediction_loss_only is not None else args.prediction_loss_only\n",
      "    654 \n",
      "    655     \"\"\"\n",
      "\n"
     ]
    },
    {
     "name": "stdin",
     "output_type": "stream",
     "text": [
      "ipdb>  \n"
     ]
    },
    {
     "name": "stdout",
     "output_type": "stream",
     "text": [
      "> /scratch/scai/phd/aiz218323/Projects/xcai/xcai/learner.py(658)evaluation_loop()\n",
      "    656     Disable random addition of noise\n",
      "    657     \"\"\"\n",
      "--> 658     if hasattr(self.model, 'disable_noise') and callable(getattr(self.model, 'disable_noise')):\n",
      "    659         use_noise = self.model.disable_noise()\n",
      "    660 \n",
      "\n"
     ]
    },
    {
     "name": "stdin",
     "output_type": "stream",
     "text": [
      "ipdb>  \n"
     ]
    },
    {
     "name": "stdout",
     "output_type": "stream",
     "text": [
      "> /scratch/scai/phd/aiz218323/Projects/xcai/xcai/learner.py(661)evaluation_loop()\n",
      "    659         use_noise = self.model.disable_noise()\n",
      "    660 \n",
      "--> 661     model = self._wrap_model(self.model, training=False, dataloader=dataloader)\n",
      "    662 \n",
      "    663     if len(self.accelerator._models) == 0 and model is self.model:\n",
      "\n"
     ]
    },
    {
     "name": "stdin",
     "output_type": "stream",
     "text": [
      "ipdb>  \n"
     ]
    },
    {
     "name": "stdout",
     "output_type": "stream",
     "text": [
      "> /scratch/scai/phd/aiz218323/Projects/xcai/xcai/learner.py(663)evaluation_loop()\n",
      "    661     model = self._wrap_model(self.model, training=False, dataloader=dataloader)\n",
      "    662 \n",
      "--> 663     if len(self.accelerator._models) == 0 and model is self.model:\n",
      "    664         model = self.accelerator.prepare(model) if self.is_deepspeed_enabled else self.accelerator.prepare_model(model, evaluation_mode=True)\n",
      "    665         if self.is_fsdp_enabled: self.model = model\n",
      "\n"
     ]
    },
    {
     "name": "stdin",
     "output_type": "stream",
     "text": [
      "ipdb>  \n"
     ]
    },
    {
     "name": "stdout",
     "output_type": "stream",
     "text": [
      "> /scratch/scai/phd/aiz218323/Projects/xcai/xcai/learner.py(669)evaluation_loop()\n",
      "    667         if self.is_deepspeed_enabled: self.deepspeed = self.model_wrapped\n",
      "    668 \n",
      "--> 669     batch_size = self.args.eval_batch_size\n",
      "    670 \n",
      "    671     model.eval()\n",
      "\n"
     ]
    },
    {
     "name": "stdin",
     "output_type": "stream",
     "text": [
      "ipdb>  \n"
     ]
    },
    {
     "name": "stdout",
     "output_type": "stream",
     "text": [
      "> /scratch/scai/phd/aiz218323/Projects/xcai/xcai/learner.py(671)evaluation_loop()\n",
      "    669     batch_size = self.args.eval_batch_size\n",
      "    670 \n",
      "--> 671     model.eval()\n",
      "    672 \n",
      "    673     self.callback_handler.eval_dataloader = dataloader\n",
      "\n"
     ]
    },
    {
     "name": "stdin",
     "output_type": "stream",
     "text": [
      "ipdb>  \n"
     ]
    },
    {
     "name": "stdout",
     "output_type": "stream",
     "text": [
      "> /scratch/scai/phd/aiz218323/Projects/xcai/xcai/learner.py(673)evaluation_loop()\n",
      "    671     model.eval()\n",
      "    672 \n",
      "--> 673     self.callback_handler.eval_dataloader = dataloader\n",
      "    674     eval_dataset = getattr(dataloader, \"dataset\", None)\n",
      "    675 \n",
      "\n"
     ]
    },
    {
     "name": "stdin",
     "output_type": "stream",
     "text": [
      "ipdb>  \n"
     ]
    },
    {
     "name": "stdout",
     "output_type": "stream",
     "text": [
      "> /scratch/scai/phd/aiz218323/Projects/xcai/xcai/learner.py(674)evaluation_loop()\n",
      "    672 \n",
      "    673     self.callback_handler.eval_dataloader = dataloader\n",
      "--> 674     eval_dataset = getattr(dataloader, \"dataset\", None)\n",
      "    675 \n",
      "    676     if self._perform_representation(unwrap_model(model)) and not prediction_loss_only:\n",
      "\n"
     ]
    },
    {
     "name": "stdin",
     "output_type": "stream",
     "text": [
      "ipdb>  \n"
     ]
    },
    {
     "name": "stdout",
     "output_type": "stream",
     "text": [
      "> /scratch/scai/phd/aiz218323/Projects/xcai/xcai/learner.py(676)evaluation_loop()\n",
      "    674     eval_dataset = getattr(dataloader, \"dataset\", None)\n",
      "    675 \n",
      "--> 676     if self._perform_representation(unwrap_model(model)) and not prediction_loss_only:\n",
      "    677         self._build_lbl_index(eval_dataset)\n",
      "    678 \n",
      "\n"
     ]
    },
    {
     "name": "stdin",
     "output_type": "stream",
     "text": [
      "ipdb>  \n"
     ]
    },
    {
     "name": "stdout",
     "output_type": "stream",
     "text": [
      "> /scratch/scai/phd/aiz218323/Projects/xcai/xcai/learner.py(677)evaluation_loop()\n",
      "    675 \n",
      "    676     if self._perform_representation(unwrap_model(model)) and not prediction_loss_only:\n",
      "--> 677         self._build_lbl_index(eval_dataset)\n",
      "    678 \n",
      "    679     if self._perform_augmentation(unwrap_model(model)) and not prediction_loss_only:\n",
      "\n"
     ]
    },
    {
     "name": "stdin",
     "output_type": "stream",
     "text": [
      "ipdb>  s\n"
     ]
    },
    {
     "name": "stdout",
     "output_type": "stream",
     "text": [
      "--Call--\n",
      "> /scratch/scai/phd/aiz218323/Projects/xcai/xcai/learner.py(426)_build_lbl_index()\n",
      "    424         self.aug_idxs.build(rep)\n",
      "    425 \n",
      "--> 426 @patch\n",
      "    427 def _build_lbl_index(self:XCLearner, dataset:Optional[Dataset]=None):\n",
      "    428     dataset = dataset if self.eval_dataset is None else self.eval_dataset\n",
      "\n"
     ]
    },
    {
     "name": "stdin",
     "output_type": "stream",
     "text": [
      "ipdb>  n\n"
     ]
    },
    {
     "name": "stdout",
     "output_type": "stream",
     "text": [
      "> /scratch/scai/phd/aiz218323/Projects/xcai/xcai/learner.py(428)_build_lbl_index()\n",
      "    426 @patch\n",
      "    427 def _build_lbl_index(self:XCLearner, dataset:Optional[Dataset]=None):\n",
      "--> 428     dataset = dataset if self.eval_dataset is None else self.eval_dataset\n",
      "    429     dataset = dataset if self.train_dataset is None else self.train_dataset\n",
      "    430 \n",
      "\n"
     ]
    },
    {
     "name": "stdin",
     "output_type": "stream",
     "text": [
      "ipdb>  \n"
     ]
    },
    {
     "name": "stdout",
     "output_type": "stream",
     "text": [
      "> /scratch/scai/phd/aiz218323/Projects/xcai/xcai/learner.py(429)_build_lbl_index()\n",
      "    427 def _build_lbl_index(self:XCLearner, dataset:Optional[Dataset]=None):\n",
      "    428     dataset = dataset if self.eval_dataset is None else self.eval_dataset\n",
      "--> 429     dataset = dataset if self.train_dataset is None else self.train_dataset\n",
      "    430 \n",
      "    431     if dataset is not None:\n",
      "\n"
     ]
    },
    {
     "name": "stdin",
     "output_type": "stream",
     "text": [
      "ipdb>  \n"
     ]
    },
    {
     "name": "stdout",
     "output_type": "stream",
     "text": [
      "> /scratch/scai/phd/aiz218323/Projects/xcai/xcai/learner.py(431)_build_lbl_index()\n",
      "    429     dataset = dataset if self.train_dataset is None else self.train_dataset\n",
      "    430 \n",
      "--> 431     if dataset is not None:\n",
      "    432         dset = self._get_dataset(dataset, dset_type='lbl', use_metadata=self.args.use_label_metadata)\n",
      "    433         dataloader = self.get_test_dataloader(dset)\n",
      "\n"
     ]
    },
    {
     "name": "stdin",
     "output_type": "stream",
     "text": [
      "ipdb>  \n"
     ]
    },
    {
     "name": "stdout",
     "output_type": "stream",
     "text": [
      "> /scratch/scai/phd/aiz218323/Projects/xcai/xcai/learner.py(432)_build_lbl_index()\n",
      "    430 \n",
      "    431     if dataset is not None:\n",
      "--> 432         dset = self._get_dataset(dataset, dset_type='lbl', use_metadata=self.args.use_label_metadata)\n",
      "    433         dataloader = self.get_test_dataloader(dset)\n",
      "    434         rep = self.get_representation(dataloader, representation_attribute=self.args.label_representation_attribute, \n",
      "\n"
     ]
    },
    {
     "name": "stdin",
     "output_type": "stream",
     "text": [
      "ipdb>  \n"
     ]
    },
    {
     "name": "stdout",
     "output_type": "stream",
     "text": [
      "> /scratch/scai/phd/aiz218323/Projects/xcai/xcai/learner.py(433)_build_lbl_index()\n",
      "    431     if dataset is not None:\n",
      "    432         dset = self._get_dataset(dataset, dset_type='lbl', use_metadata=self.args.use_label_metadata)\n",
      "--> 433         dataloader = self.get_test_dataloader(dset)\n",
      "    434         rep = self.get_representation(dataloader, representation_attribute=self.args.label_representation_attribute, \n",
      "    435                                       to_cpu=isinstance(self.idxs, IndexSearch))\n",
      "\n"
     ]
    },
    {
     "name": "stdin",
     "output_type": "stream",
     "text": [
      "ipdb>  \n"
     ]
    },
    {
     "name": "stdout",
     "output_type": "stream",
     "text": [
      "> /scratch/scai/phd/aiz218323/Projects/xcai/xcai/learner.py(434)_build_lbl_index()\n",
      "    432         dset = self._get_dataset(dataset, dset_type='lbl', use_metadata=self.args.use_label_metadata)\n",
      "    433         dataloader = self.get_test_dataloader(dset)\n",
      "--> 434         rep = self.get_representation(dataloader, representation_attribute=self.args.label_representation_attribute, \n",
      "    435                                       to_cpu=isinstance(self.idxs, IndexSearch))\n",
      "    436         self.idxs.build(rep)\n",
      "\n"
     ]
    },
    {
     "name": "stdin",
     "output_type": "stream",
     "text": [
      "ipdb>  \n"
     ]
    },
    {
     "name": "stdout",
     "output_type": "stream",
     "text": [
      "> /scratch/scai/phd/aiz218323/Projects/xcai/xcai/learner.py(435)_build_lbl_index()\n",
      "    433         dataloader = self.get_test_dataloader(dset)\n",
      "    434         rep = self.get_representation(dataloader, representation_attribute=self.args.label_representation_attribute, \n",
      "--> 435                                       to_cpu=isinstance(self.idxs, IndexSearch))\n",
      "    436         self.idxs.build(rep)\n",
      "    437 \n",
      "\n"
     ]
    },
    {
     "name": "stdin",
     "output_type": "stream",
     "text": [
      "ipdb>  \n"
     ]
    },
    {
     "name": "stdout",
     "output_type": "stream",
     "text": [
      "> /scratch/scai/phd/aiz218323/Projects/xcai/xcai/learner.py(434)_build_lbl_index()\n",
      "    432         dset = self._get_dataset(dataset, dset_type='lbl', use_metadata=self.args.use_label_metadata)\n",
      "    433         dataloader = self.get_test_dataloader(dset)\n",
      "--> 434         rep = self.get_representation(dataloader, representation_attribute=self.args.label_representation_attribute, \n",
      "    435                                       to_cpu=isinstance(self.idxs, IndexSearch))\n",
      "    436         self.idxs.build(rep)\n",
      "\n"
     ]
    },
    {
     "name": "stdin",
     "output_type": "stream",
     "text": [
      "ipdb>  s\n"
     ]
    },
    {
     "name": "stdout",
     "output_type": "stream",
     "text": [
      "--Call--\n",
      "> /scratch/scai/phd/aiz218323/Projects/xcai/xcai/learner.py(782)get_representation()\n",
      "    780     return self._gather_all_output(data_host, all_data, to_cpu=to_cpu)\n",
      "    781 \n",
      "--> 782 @patch\n",
      "    783 def get_representation(self:XCLearner, dataloader: DataLoader, representation_attribute:str, to_cpu:Optional[bool]=True):\n",
      "    784     data_host, all_data = None, None\n",
      "\n"
     ]
    },
    {
     "name": "stdin",
     "output_type": "stream",
     "text": [
      "ipdb>  n\n"
     ]
    },
    {
     "name": "stdout",
     "output_type": "stream",
     "text": [
      "> /scratch/scai/phd/aiz218323/Projects/xcai/xcai/learner.py(784)get_representation()\n",
      "    782 @patch\n",
      "    783 def get_representation(self:XCLearner, dataloader: DataLoader, representation_attribute:str, to_cpu:Optional[bool]=True):\n",
      "--> 784     data_host, all_data = None, None\n",
      "    785 \n",
      "    786     if hasattr(self.model, 'disable_noise') and callable(getattr(self.model, 'disable_noise')):\n",
      "\n"
     ]
    },
    {
     "name": "stdin",
     "output_type": "stream",
     "text": [
      "ipdb>  \n"
     ]
    },
    {
     "name": "stdout",
     "output_type": "stream",
     "text": [
      "> /scratch/scai/phd/aiz218323/Projects/xcai/xcai/learner.py(786)get_representation()\n",
      "    784     data_host, all_data = None, None\n",
      "    785 \n",
      "--> 786     if hasattr(self.model, 'disable_noise') and callable(getattr(self.model, 'disable_noise')):\n",
      "    787         use_noise = self.model.disable_noise()\n",
      "    788 \n",
      "\n"
     ]
    },
    {
     "name": "stdin",
     "output_type": "stream",
     "text": [
      "ipdb>  \n"
     ]
    },
    {
     "name": "stdout",
     "output_type": "stream",
     "text": [
      "> /scratch/scai/phd/aiz218323/Projects/xcai/xcai/learner.py(789)get_representation()\n",
      "    787         use_noise = self.model.disable_noise()\n",
      "    788 \n",
      "--> 789     for step, inputs in tqdm(enumerate(dataloader), total=len(dataloader)):\n",
      "    790         inputs = inputs.to(self.model.device)\n",
      "    791         with torch.no_grad(): data = getattr(self.model(**inputs), representation_attribute)\n",
      "\n"
     ]
    },
    {
     "name": "stdin",
     "output_type": "stream",
     "text": [
      "ipdb>  \n"
     ]
    },
    {
     "data": {
      "application/vnd.jupyter.widget-view+json": {
       "model_id": "951bc80b0b2a46069498d5315c3e6a46",
       "version_major": 2,
       "version_minor": 0
      },
      "text/plain": [
       "  0%|          | 0/196 [00:00<?, ?it/s]"
      ]
     },
     "metadata": {},
     "output_type": "display_data"
    },
    {
     "name": "stdout",
     "output_type": "stream",
     "text": [
      "> /scratch/scai/phd/aiz218323/Projects/xcai/xcai/learner.py(790)get_representation()\n",
      "    788 \n",
      "    789     for step, inputs in tqdm(enumerate(dataloader), total=len(dataloader)):\n",
      "--> 790         inputs = inputs.to(self.model.device)\n",
      "    791         with torch.no_grad(): data = getattr(self.model(**inputs), representation_attribute)\n",
      "    792         data_host = self._gather_host_output(data, data_host)\n",
      "\n"
     ]
    },
    {
     "name": "stdin",
     "output_type": "stream",
     "text": [
      "ipdb>  type(self.model)\n"
     ]
    },
    {
     "name": "stdout",
     "output_type": "stream",
     "text": [
      "<class 'xcai.models.distillation.DTL001'>\n"
     ]
    },
    {
     "name": "stdin",
     "output_type": "stream",
     "text": [
      "ipdb>  self.original_model = self.model\n",
      "ipdb>  type(self.model.m_teacher)\n"
     ]
    },
    {
     "name": "stdout",
     "output_type": "stream",
     "text": [
      "<class 'xcai.models.PPP0XX.DBT010'>\n"
     ]
    },
    {
     "name": "stdin",
     "output_type": "stream",
     "text": [
      "ipdb>  self.model = self.model.m_teacher\n",
      "ipdb>  type(self.original_model)\n"
     ]
    },
    {
     "name": "stdout",
     "output_type": "stream",
     "text": [
      "<class 'xcai.models.distillation.DTL001'>\n"
     ]
    },
    {
     "name": "stdin",
     "output_type": "stream",
     "text": [
      "ipdb>  type(self.model)\n"
     ]
    },
    {
     "name": "stdout",
     "output_type": "stream",
     "text": [
      "<class 'xcai.models.PPP0XX.DBT010'>\n"
     ]
    },
    {
     "name": "stdin",
     "output_type": "stream",
     "text": [
      "ipdb>  r\n"
     ]
    },
    {
     "name": "stdout",
     "output_type": "stream",
     "text": [
      "--Return--\n",
      "tensor([[-2.3...-3.1823e-02]])\n",
      "> /scratch/scai/phd/aiz218323/Projects/xcai/xcai/learner.py(799)get_representation()\n",
      "    797         self.model.set_noise(use_noise)\n",
      "    798 \n",
      "--> 799     return self._gather_all_output(data_host, all_data, to_cpu=to_cpu)\n",
      "    800 \n",
      "    801 \n",
      "\n"
     ]
    },
    {
     "name": "stdin",
     "output_type": "stream",
     "text": [
      "ipdb>  type(self.original_model)\n"
     ]
    },
    {
     "name": "stdout",
     "output_type": "stream",
     "text": [
      "<class 'xcai.models.distillation.DTL001'>\n"
     ]
    },
    {
     "name": "stdin",
     "output_type": "stream",
     "text": [
      "ipdb>  type(self.model)\n"
     ]
    },
    {
     "name": "stdout",
     "output_type": "stream",
     "text": [
      "<class 'xcai.models.PPP0XX.DBT010'>\n"
     ]
    },
    {
     "name": "stdin",
     "output_type": "stream",
     "text": [
      "ipdb>  self.model = self.original_model\n",
      "ipdb>  c\n"
     ]
    },
    {
     "data": {
      "text/html": [],
      "text/plain": [
       "<IPython.core.display.HTML object>"
      ]
     },
     "metadata": {},
     "output_type": "display_data"
    },
    {
     "name": "stderr",
     "output_type": "stream",
     "text": [
      "/scratch/scai/phd/aiz218323/anaconda3/envs/xc_nlg/lib/python3.9/site-packages/scipy/sparse/_index.py:145: SparseEfficiencyWarning: Changing the sparsity structure of a csr_matrix is expensive. lil_matrix is more efficient.\n",
      "  self._set_arrayXarray(i, j, x)\n"
     ]
    }
   ],
   "source": [
    "o = func()"
   ]
  },
  {
   "cell_type": "code",
   "execution_count": null,
   "id": "0012fddd-7e5c-4df4-85ce-647956a124b5",
   "metadata": {},
   "outputs": [
    {
     "data": {
      "text/html": [
       "<div>\n",
       "<style scoped>\n",
       "    .dataframe tbody tr th:only-of-type {\n",
       "        vertical-align: middle;\n",
       "    }\n",
       "\n",
       "    .dataframe tbody tr th {\n",
       "        vertical-align: top;\n",
       "    }\n",
       "\n",
       "    .dataframe thead th {\n",
       "        text-align: right;\n",
       "    }\n",
       "</style>\n",
       "<table border=\"1\" class=\"dataframe\">\n",
       "  <thead>\n",
       "    <tr style=\"text-align: right;\">\n",
       "      <th></th>\n",
       "      <th>P@1</th>\n",
       "      <th>P@3</th>\n",
       "      <th>P@5</th>\n",
       "      <th>P@10</th>\n",
       "      <th>N@1</th>\n",
       "      <th>N@3</th>\n",
       "      <th>N@5</th>\n",
       "      <th>N@10</th>\n",
       "      <th>PSP@1</th>\n",
       "      <th>PSP@3</th>\n",
       "      <th>PSP@5</th>\n",
       "      <th>PSP@10</th>\n",
       "      <th>PSN@1</th>\n",
       "      <th>PSN@3</th>\n",
       "      <th>PSN@5</th>\n",
       "      <th>PSN@10</th>\n",
       "      <th>R@10</th>\n",
       "      <th>R@100</th>\n",
       "      <th>R@200</th>\n",
       "      <th>runtime</th>\n",
       "      <th>samples_per_second</th>\n",
       "      <th>steps_per_second</th>\n",
       "    </tr>\n",
       "  </thead>\n",
       "  <tbody>\n",
       "    <tr>\n",
       "      <th>0</th>\n",
       "      <td>29.8262</td>\n",
       "      <td>19.9538</td>\n",
       "      <td>15.2153</td>\n",
       "      <td>9.7468</td>\n",
       "      <td>29.8262</td>\n",
       "      <td>29.7383</td>\n",
       "      <td>30.8508</td>\n",
       "      <td>32.8082</td>\n",
       "      <td>23.9833</td>\n",
       "      <td>26.0644</td>\n",
       "      <td>28.347</td>\n",
       "      <td>32.8986</td>\n",
       "      <td>23.9833</td>\n",
       "      <td>26.3893</td>\n",
       "      <td>28.1261</td>\n",
       "      <td>30.3878</td>\n",
       "      <td>37.7837</td>\n",
       "      <td>52.8027</td>\n",
       "      <td>56.1105</td>\n",
       "      <td>1688.8331</td>\n",
       "      <td>105.111</td>\n",
       "      <td>0.066</td>\n",
       "    </tr>\n",
       "  </tbody>\n",
       "</table>\n",
       "</div>"
      ],
      "text/plain": [
       "       P@1      P@3      P@5    P@10      N@1      N@3      N@5     N@10  \\\n",
       "0  29.8262  19.9538  15.2153  9.7468  29.8262  29.7383  30.8508  32.8082   \n",
       "\n",
       "     PSP@1    PSP@3   PSP@5   PSP@10    PSN@1    PSN@3    PSN@5   PSN@10  \\\n",
       "0  23.9833  26.0644  28.347  32.8986  23.9833  26.3893  28.1261  30.3878   \n",
       "\n",
       "      R@10    R@100    R@200    runtime  samples_per_second  steps_per_second  \n",
       "0  37.7837  52.8027  56.1105  1688.8331             105.111             0.066  "
      ]
     },
     "metadata": {},
     "output_type": "display_data"
    }
   ],
   "source": [
    "display_metric(o.metrics)"
   ]
  },
  {
   "cell_type": "code",
   "execution_count": null,
   "id": "70533dc8-1294-4c42-b5b3-4f87c9883086",
   "metadata": {},
   "outputs": [
    {
     "data": {
      "text/html": [
       "<div>\n",
       "<style scoped>\n",
       "    .dataframe tbody tr th:only-of-type {\n",
       "        vertical-align: middle;\n",
       "    }\n",
       "\n",
       "    .dataframe tbody tr th {\n",
       "        vertical-align: top;\n",
       "    }\n",
       "\n",
       "    .dataframe thead th {\n",
       "        text-align: right;\n",
       "    }\n",
       "</style>\n",
       "<table border=\"1\" class=\"dataframe\">\n",
       "  <thead>\n",
       "    <tr style=\"text-align: right;\">\n",
       "      <th></th>\n",
       "      <th>P@1</th>\n",
       "      <th>P@3</th>\n",
       "      <th>P@5</th>\n",
       "      <th>P@10</th>\n",
       "      <th>N@1</th>\n",
       "      <th>N@3</th>\n",
       "      <th>N@5</th>\n",
       "      <th>N@10</th>\n",
       "      <th>PSP@1</th>\n",
       "      <th>PSP@3</th>\n",
       "      <th>PSP@5</th>\n",
       "      <th>PSP@10</th>\n",
       "      <th>PSN@1</th>\n",
       "      <th>PSN@3</th>\n",
       "      <th>PSN@5</th>\n",
       "      <th>PSN@10</th>\n",
       "      <th>R@10</th>\n",
       "      <th>R@100</th>\n",
       "      <th>R@200</th>\n",
       "      <th>runtime</th>\n",
       "      <th>samples_per_second</th>\n",
       "      <th>steps_per_second</th>\n",
       "    </tr>\n",
       "  </thead>\n",
       "  <tbody>\n",
       "    <tr>\n",
       "      <th>0</th>\n",
       "      <td>29.8234</td>\n",
       "      <td>19.9538</td>\n",
       "      <td>15.2175</td>\n",
       "      <td>9.7465</td>\n",
       "      <td>29.8234</td>\n",
       "      <td>29.7365</td>\n",
       "      <td>30.8518</td>\n",
       "      <td>32.8071</td>\n",
       "      <td>23.9829</td>\n",
       "      <td>26.0627</td>\n",
       "      <td>28.3485</td>\n",
       "      <td>32.8971</td>\n",
       "      <td>23.9829</td>\n",
       "      <td>26.3873</td>\n",
       "      <td>28.1258</td>\n",
       "      <td>30.3864</td>\n",
       "      <td>37.7845</td>\n",
       "      <td>52.8025</td>\n",
       "      <td>56.1103</td>\n",
       "      <td>819.83</td>\n",
       "      <td>216.527</td>\n",
       "      <td>0.135</td>\n",
       "    </tr>\n",
       "  </tbody>\n",
       "</table>\n",
       "</div>"
      ],
      "text/plain": [
       "       P@1      P@3      P@5    P@10      N@1      N@3      N@5     N@10  \\\n",
       "0  29.8234  19.9538  15.2175  9.7465  29.8234  29.7365  30.8518  32.8071   \n",
       "\n",
       "     PSP@1    PSP@3    PSP@5   PSP@10    PSN@1    PSN@3    PSN@5   PSN@10  \\\n",
       "0  23.9829  26.0627  28.3485  32.8971  23.9829  26.3873  28.1258  30.3864   \n",
       "\n",
       "      R@10    R@100    R@200  runtime  samples_per_second  steps_per_second  \n",
       "0  37.7845  52.8025  56.1103   819.83             216.527             0.135  "
      ]
     },
     "metadata": {},
     "output_type": "display_data"
    }
   ],
   "source": [
    "display_metric(o.metrics)"
   ]
  },
  {
   "cell_type": "code",
   "execution_count": null,
   "id": "149f3fae-6bd9-493a-83ed-5f22d9c3fe21",
   "metadata": {},
   "outputs": [],
   "source": []
  }
 ],
 "metadata": {
  "kernelspec": {
   "display_name": "python3",
   "language": "python",
   "name": "python3"
  }
 },
 "nbformat": 4,
 "nbformat_minor": 5
}
