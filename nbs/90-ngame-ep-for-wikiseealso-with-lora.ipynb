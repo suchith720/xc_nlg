{
 "cells": [
  {
   "cell_type": "code",
   "execution_count": null,
   "id": "a4a1f892",
   "metadata": {},
   "outputs": [],
   "source": [
    "#| default_exp 90-ngame-ep-for-wikiseealso-with-lora"
   ]
  },
  {
   "cell_type": "code",
   "execution_count": null,
   "id": "2b776411",
   "metadata": {},
   "outputs": [],
   "source": [
    "%load_ext autoreload\n",
    "%autoreload 2"
   ]
  },
  {
   "cell_type": "code",
   "execution_count": null,
   "id": "8936c9e0",
   "metadata": {},
   "outputs": [
    {
     "name": "stderr",
     "output_type": "stream",
     "text": [
      "comet_ml is installed but `COMET_API_KEY` is not set.\n"
     ]
    }
   ],
   "source": [
    "#| export\n",
    "import os,torch, torch.multiprocessing as mp, pickle\n",
    "from xcai.basics import *\n",
    "from xcai.models.PPP0XX import DBT010\n",
    "\n",
    "from peft import (\n",
    "    LoraConfig, \n",
    "    get_peft_model, \n",
    "    TaskType,\n",
    "    PeftModel\n",
    ")"
   ]
  },
  {
   "cell_type": "code",
   "execution_count": null,
   "id": "441a688e",
   "metadata": {},
   "outputs": [],
   "source": [
    "os.environ['WANDB_MODE'] = 'disabled'"
   ]
  },
  {
   "cell_type": "code",
   "execution_count": null,
   "id": "8906ac95",
   "metadata": {},
   "outputs": [],
   "source": [
    "#| export\n",
    "os.environ['CUDA_VISIBLE_DEVICES'] = '0,1'\n",
    "os.environ['WANDB_PROJECT']='xc-nlg_90-ngame-ep-for-wikiseealso-with-lora'"
   ]
  },
  {
   "cell_type": "code",
   "execution_count": null,
   "id": "dc9d4936",
   "metadata": {},
   "outputs": [],
   "source": [
    "#| export\n",
    "data_dir = '/home/scai/phd/aiz218323/Projects/XC_NLG/data'"
   ]
  },
  {
   "cell_type": "code",
   "execution_count": null,
   "id": "ec3ad114",
   "metadata": {},
   "outputs": [],
   "source": [
    "block = XCBlock.from_cfg(data_dir, 'data', valid_pct=0.001, tfm='xcnlg', tokenizer='distilbert-base-uncased', smp_features=[('lbl2data',1,1)])"
   ]
  },
  {
   "cell_type": "code",
   "execution_count": null,
   "id": "e555d2ed",
   "metadata": {},
   "outputs": [],
   "source": [
    "#| export\n",
    "pkl_dir = '/home/scai/phd/aiz218323/scratch/datasets'\n",
    "pkl_file = f'{pkl_dir}/processed/wikiseealso_data_distilbert-base-uncased_xcnlg_ngame.pkl'"
   ]
  },
  {
   "cell_type": "code",
   "execution_count": null,
   "id": "48982d50",
   "metadata": {},
   "outputs": [],
   "source": [
    "with open(pkl_file, 'wb') as file: pickle.dump(block, file)"
   ]
  },
  {
   "cell_type": "code",
   "execution_count": null,
   "id": "c035bcbc",
   "metadata": {},
   "outputs": [],
   "source": [
    "#| export\n",
    "with open(pkl_file, 'rb') as file: block = pickle.load(file)"
   ]
  },
  {
   "cell_type": "markdown",
   "id": "b008af05",
   "metadata": {},
   "source": [
    "## Training"
   ]
  },
  {
   "cell_type": "code",
   "execution_count": null,
   "id": "b6017892",
   "metadata": {},
   "outputs": [],
   "source": [
    "#| export\n",
    "args = XCLearningArguments(\n",
    "    output_dir='/home/scai/phd/aiz218323/scratch/outputs/90-ngame-ep-for-wikiseealso-with-lora',\n",
    "    logging_first_step=True,\n",
    "    per_device_train_batch_size=800,\n",
    "    per_device_eval_batch_size=800,\n",
    "    representation_num_beams=200,\n",
    "    representation_accumulation_steps=100,\n",
    "    save_strategy=\"steps\",\n",
    "    evaluation_strategy=\"steps\",\n",
    "    eval_steps=5000,\n",
    "    save_steps=5000,\n",
    "    save_total_limit=5,\n",
    "    num_train_epochs=300,\n",
    "    predict_with_representation=True,\n",
    "    representation_search_type='BRUTEFORCE',\n",
    "    adam_epsilon=1e-6,\n",
    "    warmup_steps=100,\n",
    "    weight_decay=0.01,\n",
    "    learning_rate=2e-4,\n",
    "    group_by_cluster=True,\n",
    "    num_clustering_warmup_epochs=10,\n",
    "    num_cluster_update_epochs=5,\n",
    "    num_cluster_size_update_epochs=25,\n",
    "    clustering_type='EXPO',\n",
    "    minimum_cluster_size=2,\n",
    "    maximum_cluster_size=1600,\n",
    "    target_indices_key='plbl2data_idx',\n",
    "    target_pointer_key='plbl2data_data2ptr',\n",
    "    use_encoder_parallel=True,\n",
    "    max_grad_norm=None,\n",
    "    fp16=True,\n",
    ")"
   ]
  },
  {
   "cell_type": "code",
   "execution_count": null,
   "id": "3bb3e477-1050-4a8c-90c5-5ce0010043d2",
   "metadata": {},
   "outputs": [],
   "source": []
  },
  {
   "cell_type": "code",
   "execution_count": null,
   "id": "7882af6d",
   "metadata": {},
   "outputs": [],
   "source": [
    "#| export\n",
    "metric = PrecRecl(block.n_lbl, block.test.data_lbl_filterer, prop=block.train.dset.data.data_lbl,\n",
    "                  pk=10, rk=200, rep_pk=[1, 3, 5, 10], rep_rk=[10, 100, 200])"
   ]
  },
  {
   "cell_type": "code",
   "execution_count": null,
   "id": "ccf5e1fa",
   "metadata": {},
   "outputs": [
    {
     "name": "stderr",
     "output_type": "stream",
     "text": [
      "Some weights of DBT010 were not initialized from the model checkpoint at sentence-transformers/msmarco-distilbert-base-v4 and are newly initialized: ['encoder.dr_layer_norm.bias', 'encoder.dr_layer_norm.weight', 'encoder.dr_projector.bias', 'encoder.dr_projector.weight', 'encoder.dr_transform.bias', 'encoder.dr_transform.weight']\n",
      "You should probably TRAIN this model on a down-stream task to be able to use it for predictions and inference.\n"
     ]
    }
   ],
   "source": [
    "#| export\n",
    "bsz = max(args.per_device_train_batch_size, args.per_device_eval_batch_size)*torch.cuda.device_count()\n",
    "\n",
    "model = DBT010.from_pretrained('sentence-transformers/msmarco-distilbert-base-v4', bsz=bsz, tn_targ=5000, margin=0.3, tau=0.1, \n",
    "                               n_negatives=10, apply_softmax=True, use_encoder_parallel=False)\n",
    "model.init_dr_head()"
   ]
  },
  {
   "cell_type": "code",
   "execution_count": null,
   "id": "a99bf74b-e1f1-4163-a52c-2eeafa61d649",
   "metadata": {},
   "outputs": [],
   "source": []
  },
  {
   "cell_type": "code",
   "execution_count": null,
   "id": "fce4c790-c35b-4f3f-b01f-8c2d124c8ca9",
   "metadata": {},
   "outputs": [],
   "source": [
    "#| export\n",
    "lora_config = LoraConfig(\n",
    "    r=8,\n",
    "    lora_alpha=32,\n",
    "    lora_dropout=0.05,\n",
    "    target_modules=[\"q_lin\", \"k_lin\",\"v_lin\"],\n",
    "    bias='none',\n",
    ")\n",
    "\n",
    "# peft_model = get_peft_model(model,lora_config)    "
   ]
  },
  {
   "cell_type": "code",
   "execution_count": null,
   "id": "e8ae4ad7-562c-464e-b0bc-1e6f9bbcb5e8",
   "metadata": {},
   "outputs": [],
   "source": []
  },
  {
   "cell_type": "code",
   "execution_count": null,
   "id": "1c5e87c7-cf48-4260-b354-15d549efc690",
   "metadata": {},
   "outputs": [],
   "source": [
    "def func():\n",
    "    import pdb; pdb.set_trace()\n",
    "    return get_peft_model(model,lora_config)\n",
    "    "
   ]
  },
  {
   "cell_type": "code",
   "execution_count": null,
   "id": "a821ae86-831e-4988-8d6c-6e12e1b1f2d3",
   "metadata": {},
   "outputs": [
    {
     "name": "stdout",
     "output_type": "stream",
     "text": [
      "> /tmp/ipykernel_18917/3479025385.py(3)func()\n",
      "      1 def func():\n",
      "      2     import pdb; pdb.set_trace()\n",
      "----> 3     return get_peft_model(model,lora_config)\n",
      "      4 \n",
      "\n"
     ]
    },
    {
     "name": "stdin",
     "output_type": "stream",
     "text": [
      "ipdb>  s\n"
     ]
    },
    {
     "name": "stdout",
     "output_type": "stream",
     "text": [
      "--Call--\n",
      "> /scratch/scai/phd/aiz218323/anaconda3/envs/xc_nlg_2/lib/python3.9/site-packages/peft/mapping.py(133)get_peft_model()\n",
      "    131 \n",
      "    132 \n",
      "--> 133 def get_peft_model(\n",
      "    134     model: PreTrainedModel,\n",
      "    135     peft_config: PeftConfig,\n",
      "\n"
     ]
    },
    {
     "name": "stdin",
     "output_type": "stream",
     "text": [
      "ipdb>  n\n"
     ]
    },
    {
     "name": "stdout",
     "output_type": "stream",
     "text": [
      "> /scratch/scai/phd/aiz218323/anaconda3/envs/xc_nlg_2/lib/python3.9/site-packages/peft/mapping.py(161)get_peft_model()\n",
      "    159             the base model\n",
      "    160     \"\"\"\n",
      "--> 161     model_config = getattr(model, \"config\", {\"model_type\": \"custom\"})\n",
      "    162     if hasattr(model_config, \"to_dict\"):\n",
      "    163         model_config = model_config.to_dict()\n",
      "\n"
     ]
    },
    {
     "name": "stdin",
     "output_type": "stream",
     "text": [
      "ipdb>  \n"
     ]
    },
    {
     "name": "stdout",
     "output_type": "stream",
     "text": [
      "> /scratch/scai/phd/aiz218323/anaconda3/envs/xc_nlg_2/lib/python3.9/site-packages/peft/mapping.py(162)get_peft_model()\n",
      "    160     \"\"\"\n",
      "    161     model_config = getattr(model, \"config\", {\"model_type\": \"custom\"})\n",
      "--> 162     if hasattr(model_config, \"to_dict\"):\n",
      "    163         model_config = model_config.to_dict()\n",
      "    164 \n",
      "\n"
     ]
    },
    {
     "name": "stdin",
     "output_type": "stream",
     "text": [
      "ipdb>  \n"
     ]
    },
    {
     "name": "stdout",
     "output_type": "stream",
     "text": [
      "> /scratch/scai/phd/aiz218323/anaconda3/envs/xc_nlg_2/lib/python3.9/site-packages/peft/mapping.py(163)get_peft_model()\n",
      "    161     model_config = getattr(model, \"config\", {\"model_type\": \"custom\"})\n",
      "    162     if hasattr(model_config, \"to_dict\"):\n",
      "--> 163         model_config = model_config.to_dict()\n",
      "    164 \n",
      "    165     peft_config.base_model_name_or_path = model.__dict__.get(\"name_or_path\", None)\n",
      "\n"
     ]
    },
    {
     "name": "stdin",
     "output_type": "stream",
     "text": [
      "ipdb>  n\n"
     ]
    },
    {
     "name": "stdout",
     "output_type": "stream",
     "text": [
      "> /scratch/scai/phd/aiz218323/anaconda3/envs/xc_nlg_2/lib/python3.9/site-packages/peft/mapping.py(165)get_peft_model()\n",
      "    163         model_config = model_config.to_dict()\n",
      "    164 \n",
      "--> 165     peft_config.base_model_name_or_path = model.__dict__.get(\"name_or_path\", None)\n",
      "    166 \n",
      "    167     if revision is not None:\n",
      "\n"
     ]
    },
    {
     "name": "stdin",
     "output_type": "stream",
     "text": [
      "ipdb>  \n"
     ]
    },
    {
     "name": "stdout",
     "output_type": "stream",
     "text": [
      "> /scratch/scai/phd/aiz218323/anaconda3/envs/xc_nlg_2/lib/python3.9/site-packages/peft/mapping.py(167)get_peft_model()\n",
      "    165     peft_config.base_model_name_or_path = model.__dict__.get(\"name_or_path\", None)\n",
      "    166 \n",
      "--> 167     if revision is not None:\n",
      "    168         if peft_config.revision is not None and peft_config.revision != revision:\n",
      "    169             warnings.warn(\n",
      "\n"
     ]
    },
    {
     "name": "stdin",
     "output_type": "stream",
     "text": [
      "ipdb>  \n"
     ]
    },
    {
     "name": "stdout",
     "output_type": "stream",
     "text": [
      "> /scratch/scai/phd/aiz218323/anaconda3/envs/xc_nlg_2/lib/python3.9/site-packages/peft/mapping.py(174)get_peft_model()\n",
      "    172         peft_config.revision = revision\n",
      "    173 \n",
      "--> 174     if mixed:\n",
      "    175         # note: PeftMixedModel does not support autocast_adapter_dtype, so don't pass it\n",
      "    176         return PeftMixedModel(model, peft_config, adapter_name=adapter_name)\n",
      "\n"
     ]
    },
    {
     "name": "stdin",
     "output_type": "stream",
     "text": [
      "ipdb>  \n"
     ]
    },
    {
     "name": "stdout",
     "output_type": "stream",
     "text": [
      "> /scratch/scai/phd/aiz218323/anaconda3/envs/xc_nlg_2/lib/python3.9/site-packages/peft/mapping.py(178)get_peft_model()\n",
      "    176         return PeftMixedModel(model, peft_config, adapter_name=adapter_name)\n",
      "    177 \n",
      "--> 178     if peft_config.task_type not in MODEL_TYPE_TO_PEFT_MODEL_MAPPING.keys() and not peft_config.is_prompt_learning:\n",
      "    179         return PeftModel(model, peft_config, adapter_name=adapter_name, autocast_adapter_dtype=autocast_adapter_dtype)\n",
      "    180 \n",
      "\n"
     ]
    },
    {
     "name": "stdin",
     "output_type": "stream",
     "text": [
      "ipdb>  \n"
     ]
    },
    {
     "name": "stdout",
     "output_type": "stream",
     "text": [
      "> /scratch/scai/phd/aiz218323/anaconda3/envs/xc_nlg_2/lib/python3.9/site-packages/peft/mapping.py(179)get_peft_model()\n",
      "    177 \n",
      "    178     if peft_config.task_type not in MODEL_TYPE_TO_PEFT_MODEL_MAPPING.keys() and not peft_config.is_prompt_learning:\n",
      "--> 179         return PeftModel(model, peft_config, adapter_name=adapter_name, autocast_adapter_dtype=autocast_adapter_dtype)\n",
      "    180 \n",
      "    181     if peft_config.is_prompt_learning:\n",
      "\n"
     ]
    },
    {
     "name": "stdin",
     "output_type": "stream",
     "text": [
      "ipdb>  s\n"
     ]
    },
    {
     "name": "stdout",
     "output_type": "stream",
     "text": [
      "--Call--\n",
      "> /scratch/scai/phd/aiz218323/anaconda3/envs/xc_nlg_2/lib/python3.9/site-packages/peft/peft_model.py(132)__init__()\n",
      "    130     \"\"\"\n",
      "    131 \n",
      "--> 132     def __init__(\n",
      "    133         self,\n",
      "    134         model: PreTrainedModel,\n",
      "\n"
     ]
    },
    {
     "name": "stdin",
     "output_type": "stream",
     "text": [
      "ipdb>  n\n"
     ]
    },
    {
     "name": "stdout",
     "output_type": "stream",
     "text": [
      "> /scratch/scai/phd/aiz218323/anaconda3/envs/xc_nlg_2/lib/python3.9/site-packages/peft/peft_model.py(139)__init__()\n",
      "    137         autocast_adapter_dtype: bool = True,\n",
      "    138     ) -> None:\n",
      "--> 139         super().__init__()\n",
      "    140         self.modules_to_save = None\n",
      "    141         self.active_adapter = adapter_name\n",
      "\n"
     ]
    },
    {
     "name": "stdin",
     "output_type": "stream",
     "text": [
      "ipdb>  \n"
     ]
    },
    {
     "name": "stdout",
     "output_type": "stream",
     "text": [
      "> /scratch/scai/phd/aiz218323/anaconda3/envs/xc_nlg_2/lib/python3.9/site-packages/peft/peft_model.py(140)__init__()\n",
      "    138     ) -> None:\n",
      "    139         super().__init__()\n",
      "--> 140         self.modules_to_save = None\n",
      "    141         self.active_adapter = adapter_name\n",
      "    142         self.peft_type = peft_config.peft_type\n",
      "\n"
     ]
    },
    {
     "name": "stdin",
     "output_type": "stream",
     "text": [
      "ipdb>  \n"
     ]
    },
    {
     "name": "stdout",
     "output_type": "stream",
     "text": [
      "> /scratch/scai/phd/aiz218323/anaconda3/envs/xc_nlg_2/lib/python3.9/site-packages/peft/peft_model.py(141)__init__()\n",
      "    139         super().__init__()\n",
      "    140         self.modules_to_save = None\n",
      "--> 141         self.active_adapter = adapter_name\n",
      "    142         self.peft_type = peft_config.peft_type\n",
      "    143         # These args are special PEFT arguments that users can pass. They need to be removed before passing them to\n",
      "\n"
     ]
    },
    {
     "name": "stdin",
     "output_type": "stream",
     "text": [
      "ipdb>  \n"
     ]
    },
    {
     "name": "stdout",
     "output_type": "stream",
     "text": [
      "> /scratch/scai/phd/aiz218323/anaconda3/envs/xc_nlg_2/lib/python3.9/site-packages/peft/peft_model.py(142)__init__()\n",
      "    140         self.modules_to_save = None\n",
      "    141         self.active_adapter = adapter_name\n",
      "--> 142         self.peft_type = peft_config.peft_type\n",
      "    143         # These args are special PEFT arguments that users can pass. They need to be removed before passing them to\n",
      "    144         # forward.\n",
      "\n"
     ]
    },
    {
     "name": "stdin",
     "output_type": "stream",
     "text": [
      "ipdb>  \n"
     ]
    },
    {
     "name": "stdout",
     "output_type": "stream",
     "text": [
      "> /scratch/scai/phd/aiz218323/anaconda3/envs/xc_nlg_2/lib/python3.9/site-packages/peft/peft_model.py(145)__init__()\n",
      "    143         # These args are special PEFT arguments that users can pass. They need to be removed before passing them to\n",
      "    144         # forward.\n",
      "--> 145         self.special_peft_forward_args = {\"adapter_names\"}\n",
      "    146 \n",
      "    147         self._is_prompt_learning = peft_config.is_prompt_learning\n",
      "\n"
     ]
    },
    {
     "name": "stdin",
     "output_type": "stream",
     "text": [
      "ipdb>  \n"
     ]
    },
    {
     "name": "stdout",
     "output_type": "stream",
     "text": [
      "> /scratch/scai/phd/aiz218323/anaconda3/envs/xc_nlg_2/lib/python3.9/site-packages/peft/peft_model.py(147)__init__()\n",
      "    145         self.special_peft_forward_args = {\"adapter_names\"}\n",
      "    146 \n",
      "--> 147         self._is_prompt_learning = peft_config.is_prompt_learning\n",
      "    148         if self._is_prompt_learning:\n",
      "    149             self._peft_config = {adapter_name: peft_config}\n",
      "\n"
     ]
    },
    {
     "name": "stdin",
     "output_type": "stream",
     "text": [
      "ipdb>  \n"
     ]
    },
    {
     "name": "stdout",
     "output_type": "stream",
     "text": [
      "> /scratch/scai/phd/aiz218323/anaconda3/envs/xc_nlg_2/lib/python3.9/site-packages/peft/peft_model.py(148)__init__()\n",
      "    146 \n",
      "    147         self._is_prompt_learning = peft_config.is_prompt_learning\n",
      "--> 148         if self._is_prompt_learning:\n",
      "    149             self._peft_config = {adapter_name: peft_config}\n",
      "    150             self.base_model = model\n",
      "\n"
     ]
    },
    {
     "name": "stdin",
     "output_type": "stream",
     "text": [
      "ipdb>  \n"
     ]
    },
    {
     "name": "stdout",
     "output_type": "stream",
     "text": [
      "> /scratch/scai/phd/aiz218323/anaconda3/envs/xc_nlg_2/lib/python3.9/site-packages/peft/peft_model.py(153)__init__()\n",
      "    151             self.add_adapter(adapter_name, peft_config)\n",
      "    152         else:\n",
      "--> 153             self._peft_config = None\n",
      "    154             cls = PEFT_TYPE_TO_MODEL_MAPPING[peft_config.peft_type]\n",
      "    155             self.base_model = cls(model, {adapter_name: peft_config}, adapter_name)\n",
      "\n"
     ]
    },
    {
     "name": "stdin",
     "output_type": "stream",
     "text": [
      "ipdb>  \n"
     ]
    },
    {
     "name": "stdout",
     "output_type": "stream",
     "text": [
      "> /scratch/scai/phd/aiz218323/anaconda3/envs/xc_nlg_2/lib/python3.9/site-packages/peft/peft_model.py(154)__init__()\n",
      "    152         else:\n",
      "    153             self._peft_config = None\n",
      "--> 154             cls = PEFT_TYPE_TO_MODEL_MAPPING[peft_config.peft_type]\n",
      "    155             self.base_model = cls(model, {adapter_name: peft_config}, adapter_name)\n",
      "    156             self.set_additional_trainable_modules(peft_config, adapter_name)\n",
      "\n"
     ]
    },
    {
     "name": "stdin",
     "output_type": "stream",
     "text": [
      "ipdb>  \n"
     ]
    },
    {
     "name": "stdout",
     "output_type": "stream",
     "text": [
      "> /scratch/scai/phd/aiz218323/anaconda3/envs/xc_nlg_2/lib/python3.9/site-packages/peft/peft_model.py(155)__init__()\n",
      "    153             self._peft_config = None\n",
      "    154             cls = PEFT_TYPE_TO_MODEL_MAPPING[peft_config.peft_type]\n",
      "--> 155             self.base_model = cls(model, {adapter_name: peft_config}, adapter_name)\n",
      "    156             self.set_additional_trainable_modules(peft_config, adapter_name)\n",
      "    157 \n",
      "\n"
     ]
    },
    {
     "name": "stdin",
     "output_type": "stream",
     "text": [
      "ipdb>  s\n"
     ]
    },
    {
     "name": "stdout",
     "output_type": "stream",
     "text": [
      "--Call--\n",
      "> /scratch/scai/phd/aiz218323/anaconda3/envs/xc_nlg_2/lib/python3.9/site-packages/peft/tuners/lora/model.py(138)__init__()\n",
      "    136     prefix: str = \"lora_\"\n",
      "    137 \n",
      "--> 138     def __init__(self, model, config, adapter_name) -> None:\n",
      "    139         super().__init__(model, config, adapter_name)\n",
      "    140 \n",
      "\n"
     ]
    },
    {
     "name": "stdin",
     "output_type": "stream",
     "text": [
      "ipdb>  n\n"
     ]
    },
    {
     "name": "stdout",
     "output_type": "stream",
     "text": [
      "> /scratch/scai/phd/aiz218323/anaconda3/envs/xc_nlg_2/lib/python3.9/site-packages/peft/tuners/lora/model.py(139)__init__()\n",
      "    137 \n",
      "    138     def __init__(self, model, config, adapter_name) -> None:\n",
      "--> 139         super().__init__(model, config, adapter_name)\n",
      "    140 \n",
      "    141     def _check_new_adapter_config(self, config: LoraConfig) -> None:\n",
      "\n"
     ]
    },
    {
     "name": "stdin",
     "output_type": "stream",
     "text": [
      "ipdb>  s\n"
     ]
    },
    {
     "name": "stdout",
     "output_type": "stream",
     "text": [
      "--Call--\n",
      "> /scratch/scai/phd/aiz218323/anaconda3/envs/xc_nlg_2/lib/python3.9/site-packages/peft/tuners/tuners_utils.py(146)__init__()\n",
      "    144     \"\"\"\n",
      "    145 \n",
      "--> 146     def __init__(\n",
      "    147         self,\n",
      "    148         model,\n",
      "\n"
     ]
    },
    {
     "name": "stdin",
     "output_type": "stream",
     "text": [
      "ipdb>  n\n"
     ]
    },
    {
     "name": "stdout",
     "output_type": "stream",
     "text": [
      "> /scratch/scai/phd/aiz218323/anaconda3/envs/xc_nlg_2/lib/python3.9/site-packages/peft/tuners/tuners_utils.py(152)__init__()\n",
      "    150         adapter_name: str,\n",
      "    151     ) -> None:\n",
      "--> 152         super().__init__()\n",
      "    153 \n",
      "    154         self.model = model\n",
      "\n"
     ]
    },
    {
     "name": "stdin",
     "output_type": "stream",
     "text": [
      "ipdb>  \n"
     ]
    },
    {
     "name": "stdout",
     "output_type": "stream",
     "text": [
      "> /scratch/scai/phd/aiz218323/anaconda3/envs/xc_nlg_2/lib/python3.9/site-packages/peft/tuners/tuners_utils.py(154)__init__()\n",
      "    152         super().__init__()\n",
      "    153 \n",
      "--> 154         self.model = model\n",
      "    155         self.targeted_module_names: list[str] = []\n",
      "    156 \n",
      "\n"
     ]
    },
    {
     "name": "stdin",
     "output_type": "stream",
     "text": [
      "ipdb>  \n"
     ]
    },
    {
     "name": "stdout",
     "output_type": "stream",
     "text": [
      "> /scratch/scai/phd/aiz218323/anaconda3/envs/xc_nlg_2/lib/python3.9/site-packages/peft/tuners/tuners_utils.py(155)__init__()\n",
      "    153 \n",
      "    154         self.model = model\n",
      "--> 155         self.targeted_module_names: list[str] = []\n",
      "    156 \n",
      "    157         # For advanced developers, if you want to attach multiple adapters to your\n",
      "\n"
     ]
    },
    {
     "name": "stdin",
     "output_type": "stream",
     "text": [
      "ipdb>  \n"
     ]
    },
    {
     "name": "stdout",
     "output_type": "stream",
     "text": [
      "> /scratch/scai/phd/aiz218323/anaconda3/envs/xc_nlg_2/lib/python3.9/site-packages/peft/tuners/tuners_utils.py(159)__init__()\n",
      "    157         # For advanced developers, if you want to attach multiple adapters to your\n",
      "    158         # model, just add a `peft_config` dict attribute to your model.\n",
      "--> 159         if not hasattr(self, \"peft_config\"):\n",
      "    160             self.peft_config = {adapter_name: peft_config} if isinstance(peft_config, PeftConfig) else peft_config\n",
      "    161         else:\n",
      "\n"
     ]
    },
    {
     "name": "stdin",
     "output_type": "stream",
     "text": [
      "ipdb>  \n"
     ]
    },
    {
     "name": "stdout",
     "output_type": "stream",
     "text": [
      "> /scratch/scai/phd/aiz218323/anaconda3/envs/xc_nlg_2/lib/python3.9/site-packages/peft/tuners/tuners_utils.py(160)__init__()\n",
      "    158         # model, just add a `peft_config` dict attribute to your model.\n",
      "    159         if not hasattr(self, \"peft_config\"):\n",
      "--> 160             self.peft_config = {adapter_name: peft_config} if isinstance(peft_config, PeftConfig) else peft_config\n",
      "    161         else:\n",
      "    162             logger.info(\n",
      "\n"
     ]
    },
    {
     "name": "stdin",
     "output_type": "stream",
     "text": [
      "ipdb>  \n"
     ]
    },
    {
     "name": "stdout",
     "output_type": "stream",
     "text": [
      "> /scratch/scai/phd/aiz218323/anaconda3/envs/xc_nlg_2/lib/python3.9/site-packages/peft/tuners/tuners_utils.py(172)__init__()\n",
      "    170                 self.peft_config.update(peft_config)\n",
      "    171 \n",
      "--> 172         self.active_adapter: str | list[str] = adapter_name\n",
      "    173         self._pre_injection_hook(self.model, self.peft_config[adapter_name], adapter_name)\n",
      "    174         if peft_config != PeftType.XLORA or peft_config[adapter_name] != PeftType.XLORA:\n",
      "\n"
     ]
    },
    {
     "name": "stdin",
     "output_type": "stream",
     "text": [
      "ipdb>  \n"
     ]
    },
    {
     "name": "stdout",
     "output_type": "stream",
     "text": [
      "> /scratch/scai/phd/aiz218323/anaconda3/envs/xc_nlg_2/lib/python3.9/site-packages/peft/tuners/tuners_utils.py(173)__init__()\n",
      "    171 \n",
      "    172         self.active_adapter: str | list[str] = adapter_name\n",
      "--> 173         self._pre_injection_hook(self.model, self.peft_config[adapter_name], adapter_name)\n",
      "    174         if peft_config != PeftType.XLORA or peft_config[adapter_name] != PeftType.XLORA:\n",
      "    175             self.inject_adapter(self.model, adapter_name)\n",
      "\n"
     ]
    },
    {
     "name": "stdin",
     "output_type": "stream",
     "text": [
      "ipdb>  \n"
     ]
    },
    {
     "name": "stdout",
     "output_type": "stream",
     "text": [
      "> /scratch/scai/phd/aiz218323/anaconda3/envs/xc_nlg_2/lib/python3.9/site-packages/peft/tuners/tuners_utils.py(174)__init__()\n",
      "    172         self.active_adapter: str | list[str] = adapter_name\n",
      "    173         self._pre_injection_hook(self.model, self.peft_config[adapter_name], adapter_name)\n",
      "--> 174         if peft_config != PeftType.XLORA or peft_config[adapter_name] != PeftType.XLORA:\n",
      "    175             self.inject_adapter(self.model, adapter_name)\n",
      "    176 \n",
      "\n"
     ]
    },
    {
     "name": "stdin",
     "output_type": "stream",
     "text": [
      "ipdb>  \n"
     ]
    },
    {
     "name": "stdout",
     "output_type": "stream",
     "text": [
      "> /scratch/scai/phd/aiz218323/anaconda3/envs/xc_nlg_2/lib/python3.9/site-packages/peft/tuners/tuners_utils.py(175)__init__()\n",
      "    173         self._pre_injection_hook(self.model, self.peft_config[adapter_name], adapter_name)\n",
      "    174         if peft_config != PeftType.XLORA or peft_config[adapter_name] != PeftType.XLORA:\n",
      "--> 175             self.inject_adapter(self.model, adapter_name)\n",
      "    176 \n",
      "    177         # Copy the peft_config in the injected model.\n",
      "\n"
     ]
    },
    {
     "name": "stdin",
     "output_type": "stream",
     "text": [
      "ipdb>  s\n"
     ]
    },
    {
     "name": "stdout",
     "output_type": "stream",
     "text": [
      "--Call--\n",
      "> /scratch/scai/phd/aiz218323/anaconda3/envs/xc_nlg_2/lib/python3.9/site-packages/peft/tuners/lora/model.py(353)__getattr__()\n",
      "    351         return new_module\n",
      "    352 \n",
      "--> 353     def __getattr__(self, name: str):\n",
      "    354         \"\"\"Forward missing attributes to the wrapped module.\"\"\"\n",
      "    355         try:\n",
      "\n"
     ]
    },
    {
     "name": "stdin",
     "output_type": "stream",
     "text": [
      "ipdb>  n\n"
     ]
    },
    {
     "name": "stdout",
     "output_type": "stream",
     "text": [
      "> /scratch/scai/phd/aiz218323/anaconda3/envs/xc_nlg_2/lib/python3.9/site-packages/peft/tuners/lora/model.py(355)__getattr__()\n",
      "    353     def __getattr__(self, name: str):\n",
      "    354         \"\"\"Forward missing attributes to the wrapped module.\"\"\"\n",
      "--> 355         try:\n",
      "    356             return super().__getattr__(name)  # defer to nn.Module's logic\n",
      "    357         except AttributeError:\n",
      "\n"
     ]
    },
    {
     "name": "stdin",
     "output_type": "stream",
     "text": [
      "ipdb>  \n"
     ]
    },
    {
     "name": "stdout",
     "output_type": "stream",
     "text": [
      "> /scratch/scai/phd/aiz218323/anaconda3/envs/xc_nlg_2/lib/python3.9/site-packages/peft/tuners/lora/model.py(356)__getattr__()\n",
      "    354         \"\"\"Forward missing attributes to the wrapped module.\"\"\"\n",
      "    355         try:\n",
      "--> 356             return super().__getattr__(name)  # defer to nn.Module's logic\n",
      "    357         except AttributeError:\n",
      "    358             if name == \"model\":  # see #1892: prevent infinite recursion if class is not initialized\n",
      "\n"
     ]
    },
    {
     "name": "stdin",
     "output_type": "stream",
     "text": [
      "ipdb>  \n"
     ]
    },
    {
     "name": "stdout",
     "output_type": "stream",
     "text": [
      "--Return--\n",
      "DBT010(\n",
      "  (en... )\n",
      "    )\n",
      "  )\n",
      ")\n",
      "> /scratch/scai/phd/aiz218323/anaconda3/envs/xc_nlg_2/lib/python3.9/site-packages/peft/tuners/lora/model.py(356)__getattr__()\n",
      "    354         \"\"\"Forward missing attributes to the wrapped module.\"\"\"\n",
      "    355         try:\n",
      "--> 356             return super().__getattr__(name)  # defer to nn.Module's logic\n",
      "    357         except AttributeError:\n",
      "    358             if name == \"model\":  # see #1892: prevent infinite recursion if class is not initialized\n",
      "\n"
     ]
    },
    {
     "name": "stdin",
     "output_type": "stream",
     "text": [
      "ipdb>  \n"
     ]
    },
    {
     "name": "stdout",
     "output_type": "stream",
     "text": [
      "--Call--\n",
      "> /scratch/scai/phd/aiz218323/anaconda3/envs/xc_nlg_2/lib/python3.9/site-packages/peft/tuners/tuners_utils.py(366)inject_adapter()\n",
      "    364         pass\n",
      "    365 \n",
      "--> 366     def inject_adapter(self, model: nn.Module, adapter_name: str, autocast_adapter_dtype: bool = True) -> None:\n",
      "    367         r\"\"\"\n",
      "    368         Creates adapter layers and replaces the target modules with the adapter layers. This method is called under the\n",
      "\n"
     ]
    },
    {
     "name": "stdin",
     "output_type": "stream",
     "text": [
      "ipdb>  \n"
     ]
    },
    {
     "name": "stdout",
     "output_type": "stream",
     "text": [
      "> /scratch/scai/phd/aiz218323/anaconda3/envs/xc_nlg_2/lib/python3.9/site-packages/peft/tuners/tuners_utils.py(381)inject_adapter()\n",
      "    379                 Whether to autocast the adapter dtype. Defaults to `True`.\n",
      "    380         \"\"\"\n",
      "--> 381         peft_config = self.peft_config[adapter_name]\n",
      "    382         # Note: If possible, all checks should be performed *at the start of this method*.\n",
      "    383         # This way, we can raise early if something goes wrong, without leaving the model\n",
      "\n"
     ]
    },
    {
     "name": "stdin",
     "output_type": "stream",
     "text": [
      "ipdb>  \n"
     ]
    },
    {
     "name": "stdout",
     "output_type": "stream",
     "text": [
      "> /scratch/scai/phd/aiz218323/anaconda3/envs/xc_nlg_2/lib/python3.9/site-packages/peft/tuners/tuners_utils.py(385)inject_adapter()\n",
      "    383         # This way, we can raise early if something goes wrong, without leaving the model\n",
      "    384         # in a bad (half-initialized) state.\n",
      "--> 385         self._check_new_adapter_config(peft_config)\n",
      "    386 \n",
      "    387         _check_for_modules_to_save = getattr(peft_config, \"modules_to_save\", None) is not None\n",
      "\n"
     ]
    },
    {
     "name": "stdin",
     "output_type": "stream",
     "text": [
      "ipdb>  \n"
     ]
    },
    {
     "name": "stdout",
     "output_type": "stream",
     "text": [
      "> /scratch/scai/phd/aiz218323/anaconda3/envs/xc_nlg_2/lib/python3.9/site-packages/peft/tuners/tuners_utils.py(387)inject_adapter()\n",
      "    385         self._check_new_adapter_config(peft_config)\n",
      "    386 \n",
      "--> 387         _check_for_modules_to_save = getattr(peft_config, \"modules_to_save\", None) is not None\n",
      "    388         _has_modules_to_save = False\n",
      "    389 \n",
      "\n"
     ]
    },
    {
     "name": "stdin",
     "output_type": "stream",
     "text": [
      "ipdb>  \n"
     ]
    },
    {
     "name": "stdout",
     "output_type": "stream",
     "text": [
      "> /scratch/scai/phd/aiz218323/anaconda3/envs/xc_nlg_2/lib/python3.9/site-packages/peft/tuners/tuners_utils.py(388)inject_adapter()\n",
      "    386 \n",
      "    387         _check_for_modules_to_save = getattr(peft_config, \"modules_to_save\", None) is not None\n",
      "--> 388         _has_modules_to_save = False\n",
      "    389 \n",
      "    390         model_config = getattr(model, \"config\", {\"model_type\": \"custom\"})\n",
      "\n"
     ]
    },
    {
     "name": "stdin",
     "output_type": "stream",
     "text": [
      "ipdb>  \n"
     ]
    },
    {
     "name": "stdout",
     "output_type": "stream",
     "text": [
      "> /scratch/scai/phd/aiz218323/anaconda3/envs/xc_nlg_2/lib/python3.9/site-packages/peft/tuners/tuners_utils.py(390)inject_adapter()\n",
      "    388         _has_modules_to_save = False\n",
      "    389 \n",
      "--> 390         model_config = getattr(model, \"config\", {\"model_type\": \"custom\"})\n",
      "    391         if hasattr(model_config, \"to_dict\"):\n",
      "    392             model_config = model_config.to_dict()\n",
      "\n"
     ]
    },
    {
     "name": "stdin",
     "output_type": "stream",
     "text": [
      "ipdb>  \n"
     ]
    },
    {
     "name": "stdout",
     "output_type": "stream",
     "text": [
      "> /scratch/scai/phd/aiz218323/anaconda3/envs/xc_nlg_2/lib/python3.9/site-packages/peft/tuners/tuners_utils.py(391)inject_adapter()\n",
      "    389 \n",
      "    390         model_config = getattr(model, \"config\", {\"model_type\": \"custom\"})\n",
      "--> 391         if hasattr(model_config, \"to_dict\"):\n",
      "    392             model_config = model_config.to_dict()\n",
      "    393 \n",
      "\n"
     ]
    },
    {
     "name": "stdin",
     "output_type": "stream",
     "text": [
      "ipdb>  \n"
     ]
    },
    {
     "name": "stdout",
     "output_type": "stream",
     "text": [
      "> /scratch/scai/phd/aiz218323/anaconda3/envs/xc_nlg_2/lib/python3.9/site-packages/peft/tuners/tuners_utils.py(392)inject_adapter()\n",
      "    390         model_config = getattr(model, \"config\", {\"model_type\": \"custom\"})\n",
      "    391         if hasattr(model_config, \"to_dict\"):\n",
      "--> 392             model_config = model_config.to_dict()\n",
      "    393 \n",
      "    394         peft_config = self._prepare_adapter_config(peft_config, model_config)\n",
      "\n"
     ]
    },
    {
     "name": "stdin",
     "output_type": "stream",
     "text": [
      "ipdb>  \n"
     ]
    },
    {
     "name": "stdout",
     "output_type": "stream",
     "text": [
      "> /scratch/scai/phd/aiz218323/anaconda3/envs/xc_nlg_2/lib/python3.9/site-packages/peft/tuners/tuners_utils.py(394)inject_adapter()\n",
      "    392             model_config = model_config.to_dict()\n",
      "    393 \n",
      "--> 394         peft_config = self._prepare_adapter_config(peft_config, model_config)\n",
      "    395 \n",
      "    396         self._prepare_model(peft_config, model)\n",
      "\n"
     ]
    },
    {
     "name": "stdin",
     "output_type": "stream",
     "text": [
      "ipdb>  \n"
     ]
    },
    {
     "name": "stdout",
     "output_type": "stream",
     "text": [
      "> /scratch/scai/phd/aiz218323/anaconda3/envs/xc_nlg_2/lib/python3.9/site-packages/peft/tuners/tuners_utils.py(396)inject_adapter()\n",
      "    394         peft_config = self._prepare_adapter_config(peft_config, model_config)\n",
      "    395 \n",
      "--> 396         self._prepare_model(peft_config, model)\n",
      "    397         is_target_modules_in_base_model = False\n",
      "    398         key_list = [key for key, _ in model.named_modules()]\n",
      "\n"
     ]
    },
    {
     "name": "stdin",
     "output_type": "stream",
     "text": [
      "ipdb>  \n"
     ]
    },
    {
     "name": "stdout",
     "output_type": "stream",
     "text": [
      "> /scratch/scai/phd/aiz218323/anaconda3/envs/xc_nlg_2/lib/python3.9/site-packages/peft/tuners/tuners_utils.py(397)inject_adapter()\n",
      "    395 \n",
      "    396         self._prepare_model(peft_config, model)\n",
      "--> 397         is_target_modules_in_base_model = False\n",
      "    398         key_list = [key for key, _ in model.named_modules()]\n",
      "    399 \n",
      "\n"
     ]
    },
    {
     "name": "stdin",
     "output_type": "stream",
     "text": [
      "ipdb>  \n"
     ]
    },
    {
     "name": "stdout",
     "output_type": "stream",
     "text": [
      "> /scratch/scai/phd/aiz218323/anaconda3/envs/xc_nlg_2/lib/python3.9/site-packages/peft/tuners/tuners_utils.py(398)inject_adapter()\n",
      "    396         self._prepare_model(peft_config, model)\n",
      "    397         is_target_modules_in_base_model = False\n",
      "--> 398         key_list = [key for key, _ in model.named_modules()]\n",
      "    399 \n",
      "    400         if getattr(peft_config, \"target_modules\", None) == DUMMY_TARGET_MODULES:\n",
      "\n"
     ]
    },
    {
     "name": "stdin",
     "output_type": "stream",
     "text": [
      "ipdb>  \n"
     ]
    },
    {
     "name": "stdout",
     "output_type": "stream",
     "text": [
      "> /scratch/scai/phd/aiz218323/anaconda3/envs/xc_nlg_2/lib/python3.9/site-packages/peft/tuners/tuners_utils.py(400)inject_adapter()\n",
      "    398         key_list = [key for key, _ in model.named_modules()]\n",
      "    399 \n",
      "--> 400         if getattr(peft_config, \"target_modules\", None) == DUMMY_TARGET_MODULES:\n",
      "    401             # dummy adapter, we allow not matching any module\n",
      "    402             key_list = []\n",
      "\n"
     ]
    },
    {
     "name": "stdin",
     "output_type": "stream",
     "text": [
      "ipdb>  \n"
     ]
    },
    {
     "name": "stdout",
     "output_type": "stream",
     "text": [
      "> /scratch/scai/phd/aiz218323/anaconda3/envs/xc_nlg_2/lib/python3.9/site-packages/peft/tuners/tuners_utils.py(406)inject_adapter()\n",
      "    404 \n",
      "    405         # update peft_config.target_modules if required\n",
      "--> 406         peft_config = _maybe_include_all_linear_layers(peft_config, model)\n",
      "    407 \n",
      "    408         for key in key_list:\n",
      "\n"
     ]
    },
    {
     "name": "stdin",
     "output_type": "stream",
     "text": [
      "ipdb>  \n"
     ]
    },
    {
     "name": "stdout",
     "output_type": "stream",
     "text": [
      "> /scratch/scai/phd/aiz218323/anaconda3/envs/xc_nlg_2/lib/python3.9/site-packages/peft/tuners/tuners_utils.py(408)inject_adapter()\n",
      "    406         peft_config = _maybe_include_all_linear_layers(peft_config, model)\n",
      "    407 \n",
      "--> 408         for key in key_list:\n",
      "    409             # Check for modules_to_save in case\n",
      "    410             if _check_for_modules_to_save and any(\n",
      "\n"
     ]
    },
    {
     "name": "stdin",
     "output_type": "stream",
     "text": [
      "ipdb>  \n"
     ]
    },
    {
     "name": "stdout",
     "output_type": "stream",
     "text": [
      "> /scratch/scai/phd/aiz218323/anaconda3/envs/xc_nlg_2/lib/python3.9/site-packages/peft/tuners/tuners_utils.py(410)inject_adapter()\n",
      "    408         for key in key_list:\n",
      "    409             # Check for modules_to_save in case\n",
      "--> 410             if _check_for_modules_to_save and any(\n",
      "    411                 key.endswith(f\"{module_to_save}\") for module_to_save in peft_config.modules_to_save\n",
      "    412             ):\n",
      "\n"
     ]
    },
    {
     "name": "stdin",
     "output_type": "stream",
     "text": [
      "ipdb>  \n"
     ]
    },
    {
     "name": "stdout",
     "output_type": "stream",
     "text": [
      "> /scratch/scai/phd/aiz218323/anaconda3/envs/xc_nlg_2/lib/python3.9/site-packages/peft/tuners/tuners_utils.py(425)inject_adapter()\n",
      "    423                 continue\n",
      "    424 \n",
      "--> 425             if not self._check_target_module_exists(peft_config, key):\n",
      "    426                 continue\n",
      "    427 \n",
      "\n"
     ]
    },
    {
     "name": "stdin",
     "output_type": "stream",
     "text": [
      "ipdb>  \n"
     ]
    },
    {
     "name": "stdout",
     "output_type": "stream",
     "text": [
      "> /scratch/scai/phd/aiz218323/anaconda3/envs/xc_nlg_2/lib/python3.9/site-packages/peft/tuners/tuners_utils.py(426)inject_adapter()\n",
      "    424 \n",
      "    425             if not self._check_target_module_exists(peft_config, key):\n",
      "--> 426                 continue\n",
      "    427 \n",
      "    428             self.targeted_module_names.append(key)\n",
      "\n"
     ]
    },
    {
     "name": "stdin",
     "output_type": "stream",
     "text": [
      "ipdb>  \n"
     ]
    },
    {
     "name": "stdout",
     "output_type": "stream",
     "text": [
      "> /scratch/scai/phd/aiz218323/anaconda3/envs/xc_nlg_2/lib/python3.9/site-packages/peft/tuners/tuners_utils.py(408)inject_adapter()\n",
      "    406         peft_config = _maybe_include_all_linear_layers(peft_config, model)\n",
      "    407 \n",
      "--> 408         for key in key_list:\n",
      "    409             # Check for modules_to_save in case\n",
      "    410             if _check_for_modules_to_save and any(\n",
      "\n"
     ]
    },
    {
     "name": "stdin",
     "output_type": "stream",
     "text": [
      "ipdb>  \n"
     ]
    },
    {
     "name": "stdout",
     "output_type": "stream",
     "text": [
      "> /scratch/scai/phd/aiz218323/anaconda3/envs/xc_nlg_2/lib/python3.9/site-packages/peft/tuners/tuners_utils.py(410)inject_adapter()\n",
      "    408         for key in key_list:\n",
      "    409             # Check for modules_to_save in case\n",
      "--> 410             if _check_for_modules_to_save and any(\n",
      "    411                 key.endswith(f\"{module_to_save}\") for module_to_save in peft_config.modules_to_save\n",
      "    412             ):\n",
      "\n"
     ]
    },
    {
     "name": "stdin",
     "output_type": "stream",
     "text": [
      "ipdb>  \n"
     ]
    },
    {
     "name": "stdout",
     "output_type": "stream",
     "text": [
      "> /scratch/scai/phd/aiz218323/anaconda3/envs/xc_nlg_2/lib/python3.9/site-packages/peft/tuners/tuners_utils.py(425)inject_adapter()\n",
      "    423                 continue\n",
      "    424 \n",
      "--> 425             if not self._check_target_module_exists(peft_config, key):\n",
      "    426                 continue\n",
      "    427 \n",
      "\n"
     ]
    },
    {
     "name": "stdin",
     "output_type": "stream",
     "text": [
      "ipdb>  \n"
     ]
    },
    {
     "name": "stdout",
     "output_type": "stream",
     "text": [
      "> /scratch/scai/phd/aiz218323/anaconda3/envs/xc_nlg_2/lib/python3.9/site-packages/peft/tuners/tuners_utils.py(426)inject_adapter()\n",
      "    424 \n",
      "    425             if not self._check_target_module_exists(peft_config, key):\n",
      "--> 426                 continue\n",
      "    427 \n",
      "    428             self.targeted_module_names.append(key)\n",
      "\n"
     ]
    },
    {
     "name": "stdin",
     "output_type": "stream",
     "text": [
      "ipdb>  b 428\n"
     ]
    },
    {
     "name": "stdout",
     "output_type": "stream",
     "text": [
      "Breakpoint 3 at /scratch/scai/phd/aiz218323/anaconda3/envs/xc_nlg_2/lib/python3.9/site-packages/peft/tuners/tuners_utils.py:428\n"
     ]
    },
    {
     "name": "stdin",
     "output_type": "stream",
     "text": [
      "ipdb>  r\n"
     ]
    },
    {
     "name": "stdout",
     "output_type": "stream",
     "text": [
      "> /scratch/scai/phd/aiz218323/anaconda3/envs/xc_nlg_2/lib/python3.9/site-packages/peft/tuners/tuners_utils.py(428)inject_adapter()\n",
      "    426                 continue\n",
      "    427 \n",
      "3-> 428             self.targeted_module_names.append(key)\n",
      "    429             is_target_modules_in_base_model = True\n",
      "    430             parent, target, target_name = _get_submodules(model, key)\n",
      "\n"
     ]
    },
    {
     "name": "stdin",
     "output_type": "stream",
     "text": [
      "ipdb>  n\n"
     ]
    },
    {
     "name": "stdout",
     "output_type": "stream",
     "text": [
      "> /scratch/scai/phd/aiz218323/anaconda3/envs/xc_nlg_2/lib/python3.9/site-packages/peft/tuners/tuners_utils.py(429)inject_adapter()\n",
      "    427 \n",
      "3   428             self.targeted_module_names.append(key)\n",
      "--> 429             is_target_modules_in_base_model = True\n",
      "    430             parent, target, target_name = _get_submodules(model, key)\n",
      "    431             self._create_and_replace(peft_config, adapter_name, target, target_name, parent, current_key=key)\n",
      "\n"
     ]
    },
    {
     "name": "stdin",
     "output_type": "stream",
     "text": [
      "ipdb>  \n"
     ]
    },
    {
     "name": "stdout",
     "output_type": "stream",
     "text": [
      "> /scratch/scai/phd/aiz218323/anaconda3/envs/xc_nlg_2/lib/python3.9/site-packages/peft/tuners/tuners_utils.py(430)inject_adapter()\n",
      "3   428             self.targeted_module_names.append(key)\n",
      "    429             is_target_modules_in_base_model = True\n",
      "--> 430             parent, target, target_name = _get_submodules(model, key)\n",
      "    431             self._create_and_replace(peft_config, adapter_name, target, target_name, parent, current_key=key)\n",
      "    432 \n",
      "\n"
     ]
    },
    {
     "name": "stdin",
     "output_type": "stream",
     "text": [
      "ipdb>  \n"
     ]
    },
    {
     "name": "stdout",
     "output_type": "stream",
     "text": [
      "> /scratch/scai/phd/aiz218323/anaconda3/envs/xc_nlg_2/lib/python3.9/site-packages/peft/tuners/tuners_utils.py(431)inject_adapter()\n",
      "    429             is_target_modules_in_base_model = True\n",
      "    430             parent, target, target_name = _get_submodules(model, key)\n",
      "--> 431             self._create_and_replace(peft_config, adapter_name, target, target_name, parent, current_key=key)\n",
      "    432 \n",
      "    433         # Handle X-LoRA case.\n",
      "\n"
     ]
    },
    {
     "name": "stdin",
     "output_type": "stream",
     "text": [
      "ipdb>  s\n"
     ]
    },
    {
     "name": "stdout",
     "output_type": "stream",
     "text": [
      "--Call--\n",
      "> /scratch/scai/phd/aiz218323/anaconda3/envs/xc_nlg_2/lib/python3.9/site-packages/peft/tuners/lora/model.py(173)_create_and_replace()\n",
      "    171             replicate_layers(model, peft_config.layer_replication)\n",
      "    172 \n",
      "--> 173     def _create_and_replace(\n",
      "    174         self,\n",
      "    175         lora_config,\n",
      "\n"
     ]
    },
    {
     "name": "stdin",
     "output_type": "stream",
     "text": [
      "ipdb>  n\n"
     ]
    },
    {
     "name": "stdout",
     "output_type": "stream",
     "text": [
      "> /scratch/scai/phd/aiz218323/anaconda3/envs/xc_nlg_2/lib/python3.9/site-packages/peft/tuners/lora/model.py(182)_create_and_replace()\n",
      "    180         current_key,\n",
      "    181     ):\n",
      "--> 182         if current_key is None:\n",
      "    183             raise ValueError(\"Current Key shouldn't be `None`\")\n",
      "    184 \n",
      "\n"
     ]
    },
    {
     "name": "stdin",
     "output_type": "stream",
     "text": [
      "ipdb>  \n"
     ]
    },
    {
     "name": "stdout",
     "output_type": "stream",
     "text": [
      "> /scratch/scai/phd/aiz218323/anaconda3/envs/xc_nlg_2/lib/python3.9/site-packages/peft/tuners/lora/model.py(186)_create_and_replace()\n",
      "    184 \n",
      "    185         # Regexp matching - Find key which matches current target_name in patterns provided\n",
      "--> 186         pattern_keys = list(chain(lora_config.rank_pattern.keys(), lora_config.alpha_pattern.keys()))\n",
      "    187         target_name_key = next(filter(lambda key: re.match(rf\".*\\.{key}$\", current_key), pattern_keys), current_key)\n",
      "    188         r = lora_config.rank_pattern.get(target_name_key, lora_config.r)\n",
      "\n"
     ]
    },
    {
     "name": "stdin",
     "output_type": "stream",
     "text": [
      "ipdb>  \n"
     ]
    },
    {
     "name": "stdout",
     "output_type": "stream",
     "text": [
      "> /scratch/scai/phd/aiz218323/anaconda3/envs/xc_nlg_2/lib/python3.9/site-packages/peft/tuners/lora/model.py(187)_create_and_replace()\n",
      "    185         # Regexp matching - Find key which matches current target_name in patterns provided\n",
      "    186         pattern_keys = list(chain(lora_config.rank_pattern.keys(), lora_config.alpha_pattern.keys()))\n",
      "--> 187         target_name_key = next(filter(lambda key: re.match(rf\".*\\.{key}$\", current_key), pattern_keys), current_key)\n",
      "    188         r = lora_config.rank_pattern.get(target_name_key, lora_config.r)\n",
      "    189         alpha = lora_config.alpha_pattern.get(target_name_key, lora_config.lora_alpha)\n",
      "\n"
     ]
    },
    {
     "name": "stdin",
     "output_type": "stream",
     "text": [
      "ipdb>  \n"
     ]
    },
    {
     "name": "stdout",
     "output_type": "stream",
     "text": [
      "> /scratch/scai/phd/aiz218323/anaconda3/envs/xc_nlg_2/lib/python3.9/site-packages/peft/tuners/lora/model.py(188)_create_and_replace()\n",
      "    186         pattern_keys = list(chain(lora_config.rank_pattern.keys(), lora_config.alpha_pattern.keys()))\n",
      "    187         target_name_key = next(filter(lambda key: re.match(rf\".*\\.{key}$\", current_key), pattern_keys), current_key)\n",
      "--> 188         r = lora_config.rank_pattern.get(target_name_key, lora_config.r)\n",
      "    189         alpha = lora_config.alpha_pattern.get(target_name_key, lora_config.lora_alpha)\n",
      "    190 \n",
      "\n"
     ]
    },
    {
     "name": "stdin",
     "output_type": "stream",
     "text": [
      "ipdb>  \n"
     ]
    },
    {
     "name": "stdout",
     "output_type": "stream",
     "text": [
      "> /scratch/scai/phd/aiz218323/anaconda3/envs/xc_nlg_2/lib/python3.9/site-packages/peft/tuners/lora/model.py(189)_create_and_replace()\n",
      "    187         target_name_key = next(filter(lambda key: re.match(rf\".*\\.{key}$\", current_key), pattern_keys), current_key)\n",
      "    188         r = lora_config.rank_pattern.get(target_name_key, lora_config.r)\n",
      "--> 189         alpha = lora_config.alpha_pattern.get(target_name_key, lora_config.lora_alpha)\n",
      "    190 \n",
      "    191         kwargs = {\n",
      "\n"
     ]
    },
    {
     "name": "stdin",
     "output_type": "stream",
     "text": [
      "ipdb>  \n"
     ]
    },
    {
     "name": "stdout",
     "output_type": "stream",
     "text": [
      "> /scratch/scai/phd/aiz218323/anaconda3/envs/xc_nlg_2/lib/python3.9/site-packages/peft/tuners/lora/model.py(192)_create_and_replace()\n",
      "    190 \n",
      "    191         kwargs = {\n",
      "--> 192             \"r\": r,\n",
      "    193             \"lora_alpha\": alpha,\n",
      "    194             \"lora_dropout\": lora_config.lora_dropout,\n",
      "\n"
     ]
    },
    {
     "name": "stdin",
     "output_type": "stream",
     "text": [
      "ipdb>  \n"
     ]
    },
    {
     "name": "stdout",
     "output_type": "stream",
     "text": [
      "> /scratch/scai/phd/aiz218323/anaconda3/envs/xc_nlg_2/lib/python3.9/site-packages/peft/tuners/lora/model.py(193)_create_and_replace()\n",
      "    191         kwargs = {\n",
      "    192             \"r\": r,\n",
      "--> 193             \"lora_alpha\": alpha,\n",
      "    194             \"lora_dropout\": lora_config.lora_dropout,\n",
      "    195             \"fan_in_fan_out\": lora_config.fan_in_fan_out,\n",
      "\n"
     ]
    },
    {
     "name": "stdin",
     "output_type": "stream",
     "text": [
      "ipdb>  \n"
     ]
    },
    {
     "name": "stdout",
     "output_type": "stream",
     "text": [
      "> /scratch/scai/phd/aiz218323/anaconda3/envs/xc_nlg_2/lib/python3.9/site-packages/peft/tuners/lora/model.py(194)_create_and_replace()\n",
      "    192             \"r\": r,\n",
      "    193             \"lora_alpha\": alpha,\n",
      "--> 194             \"lora_dropout\": lora_config.lora_dropout,\n",
      "    195             \"fan_in_fan_out\": lora_config.fan_in_fan_out,\n",
      "    196             \"init_lora_weights\": lora_config.init_lora_weights,\n",
      "\n"
     ]
    },
    {
     "name": "stdin",
     "output_type": "stream",
     "text": [
      "ipdb>  \n"
     ]
    },
    {
     "name": "stdout",
     "output_type": "stream",
     "text": [
      "> /scratch/scai/phd/aiz218323/anaconda3/envs/xc_nlg_2/lib/python3.9/site-packages/peft/tuners/lora/model.py(195)_create_and_replace()\n",
      "    193             \"lora_alpha\": alpha,\n",
      "    194             \"lora_dropout\": lora_config.lora_dropout,\n",
      "--> 195             \"fan_in_fan_out\": lora_config.fan_in_fan_out,\n",
      "    196             \"init_lora_weights\": lora_config.init_lora_weights,\n",
      "    197             \"use_rslora\": lora_config.use_rslora,\n",
      "\n"
     ]
    },
    {
     "name": "stdin",
     "output_type": "stream",
     "text": [
      "ipdb>  \n"
     ]
    },
    {
     "name": "stdout",
     "output_type": "stream",
     "text": [
      "> /scratch/scai/phd/aiz218323/anaconda3/envs/xc_nlg_2/lib/python3.9/site-packages/peft/tuners/lora/model.py(196)_create_and_replace()\n",
      "    194             \"lora_dropout\": lora_config.lora_dropout,\n",
      "    195             \"fan_in_fan_out\": lora_config.fan_in_fan_out,\n",
      "--> 196             \"init_lora_weights\": lora_config.init_lora_weights,\n",
      "    197             \"use_rslora\": lora_config.use_rslora,\n",
      "    198             \"use_dora\": lora_config.use_dora,\n",
      "\n"
     ]
    },
    {
     "name": "stdin",
     "output_type": "stream",
     "text": [
      "ipdb>  \n"
     ]
    },
    {
     "name": "stdout",
     "output_type": "stream",
     "text": [
      "> /scratch/scai/phd/aiz218323/anaconda3/envs/xc_nlg_2/lib/python3.9/site-packages/peft/tuners/lora/model.py(197)_create_and_replace()\n",
      "    195             \"fan_in_fan_out\": lora_config.fan_in_fan_out,\n",
      "    196             \"init_lora_weights\": lora_config.init_lora_weights,\n",
      "--> 197             \"use_rslora\": lora_config.use_rslora,\n",
      "    198             \"use_dora\": lora_config.use_dora,\n",
      "    199             \"ephemeral_gpu_offload\": lora_config.runtime_config.ephemeral_gpu_offload,\n",
      "\n"
     ]
    },
    {
     "name": "stdin",
     "output_type": "stream",
     "text": [
      "ipdb>  \n"
     ]
    },
    {
     "name": "stdout",
     "output_type": "stream",
     "text": [
      "> /scratch/scai/phd/aiz218323/anaconda3/envs/xc_nlg_2/lib/python3.9/site-packages/peft/tuners/lora/model.py(198)_create_and_replace()\n",
      "    196             \"init_lora_weights\": lora_config.init_lora_weights,\n",
      "    197             \"use_rslora\": lora_config.use_rslora,\n",
      "--> 198             \"use_dora\": lora_config.use_dora,\n",
      "    199             \"ephemeral_gpu_offload\": lora_config.runtime_config.ephemeral_gpu_offload,\n",
      "    200             \"loaded_in_8bit\": getattr(self.model, \"is_loaded_in_8bit\", False),\n",
      "\n"
     ]
    },
    {
     "name": "stdin",
     "output_type": "stream",
     "text": [
      "ipdb>  \n"
     ]
    },
    {
     "name": "stdout",
     "output_type": "stream",
     "text": [
      "> /scratch/scai/phd/aiz218323/anaconda3/envs/xc_nlg_2/lib/python3.9/site-packages/peft/tuners/lora/model.py(199)_create_and_replace()\n",
      "    197             \"use_rslora\": lora_config.use_rslora,\n",
      "    198             \"use_dora\": lora_config.use_dora,\n",
      "--> 199             \"ephemeral_gpu_offload\": lora_config.runtime_config.ephemeral_gpu_offload,\n",
      "    200             \"loaded_in_8bit\": getattr(self.model, \"is_loaded_in_8bit\", False),\n",
      "    201             \"loaded_in_4bit\": getattr(self.model, \"is_loaded_in_4bit\", False),\n",
      "\n"
     ]
    },
    {
     "name": "stdin",
     "output_type": "stream",
     "text": [
      "ipdb>  \n"
     ]
    },
    {
     "name": "stdout",
     "output_type": "stream",
     "text": [
      "> /scratch/scai/phd/aiz218323/anaconda3/envs/xc_nlg_2/lib/python3.9/site-packages/peft/tuners/lora/model.py(200)_create_and_replace()\n",
      "    198             \"use_dora\": lora_config.use_dora,\n",
      "    199             \"ephemeral_gpu_offload\": lora_config.runtime_config.ephemeral_gpu_offload,\n",
      "--> 200             \"loaded_in_8bit\": getattr(self.model, \"is_loaded_in_8bit\", False),\n",
      "    201             \"loaded_in_4bit\": getattr(self.model, \"is_loaded_in_4bit\", False),\n",
      "    202         }\n",
      "\n"
     ]
    },
    {
     "name": "stdin",
     "output_type": "stream",
     "text": [
      "ipdb>  \n"
     ]
    },
    {
     "name": "stdout",
     "output_type": "stream",
     "text": [
      "> /scratch/scai/phd/aiz218323/anaconda3/envs/xc_nlg_2/lib/python3.9/site-packages/peft/tuners/lora/model.py(201)_create_and_replace()\n",
      "    199             \"ephemeral_gpu_offload\": lora_config.runtime_config.ephemeral_gpu_offload,\n",
      "    200             \"loaded_in_8bit\": getattr(self.model, \"is_loaded_in_8bit\", False),\n",
      "--> 201             \"loaded_in_4bit\": getattr(self.model, \"is_loaded_in_4bit\", False),\n",
      "    202         }\n",
      "    203 \n",
      "\n"
     ]
    },
    {
     "name": "stdin",
     "output_type": "stream",
     "text": [
      "ipdb>  \n"
     ]
    },
    {
     "name": "stdout",
     "output_type": "stream",
     "text": [
      "> /scratch/scai/phd/aiz218323/anaconda3/envs/xc_nlg_2/lib/python3.9/site-packages/peft/tuners/lora/model.py(191)_create_and_replace()\n",
      "    189         alpha = lora_config.alpha_pattern.get(target_name_key, lora_config.lora_alpha)\n",
      "    190 \n",
      "--> 191         kwargs = {\n",
      "    192             \"r\": r,\n",
      "    193             \"lora_alpha\": alpha,\n",
      "\n"
     ]
    },
    {
     "name": "stdin",
     "output_type": "stream",
     "text": [
      "ipdb>  \n"
     ]
    },
    {
     "name": "stdout",
     "output_type": "stream",
     "text": [
      "> /scratch/scai/phd/aiz218323/anaconda3/envs/xc_nlg_2/lib/python3.9/site-packages/peft/tuners/lora/model.py(204)_create_and_replace()\n",
      "    202         }\n",
      "    203 \n",
      "--> 204         quant_methods = [\"gptq\", \"aqlm\", \"awq\"]\n",
      "    205         for quant_method in quant_methods:\n",
      "    206             quantization_config = get_quantization_config(self.model, method=quant_method)\n",
      "\n"
     ]
    },
    {
     "name": "stdin",
     "output_type": "stream",
     "text": [
      "ipdb>  \n"
     ]
    },
    {
     "name": "stdout",
     "output_type": "stream",
     "text": [
      "> /scratch/scai/phd/aiz218323/anaconda3/envs/xc_nlg_2/lib/python3.9/site-packages/peft/tuners/lora/model.py(205)_create_and_replace()\n",
      "    203 \n",
      "    204         quant_methods = [\"gptq\", \"aqlm\", \"awq\"]\n",
      "--> 205         for quant_method in quant_methods:\n",
      "    206             quantization_config = get_quantization_config(self.model, method=quant_method)\n",
      "    207             if quantization_config is not None:\n",
      "\n"
     ]
    },
    {
     "name": "stdin",
     "output_type": "stream",
     "text": [
      "ipdb>  \n"
     ]
    },
    {
     "name": "stdout",
     "output_type": "stream",
     "text": [
      "> /scratch/scai/phd/aiz218323/anaconda3/envs/xc_nlg_2/lib/python3.9/site-packages/peft/tuners/lora/model.py(206)_create_and_replace()\n",
      "    204         quant_methods = [\"gptq\", \"aqlm\", \"awq\"]\n",
      "    205         for quant_method in quant_methods:\n",
      "--> 206             quantization_config = get_quantization_config(self.model, method=quant_method)\n",
      "    207             if quantization_config is not None:\n",
      "    208                 kwargs[f\"{quant_method}_quantization_config\"] = quantization_config\n",
      "\n"
     ]
    },
    {
     "name": "stdin",
     "output_type": "stream",
     "text": [
      "ipdb>  \n"
     ]
    },
    {
     "name": "stdout",
     "output_type": "stream",
     "text": [
      "> /scratch/scai/phd/aiz218323/anaconda3/envs/xc_nlg_2/lib/python3.9/site-packages/peft/tuners/lora/model.py(207)_create_and_replace()\n",
      "    205         for quant_method in quant_methods:\n",
      "    206             quantization_config = get_quantization_config(self.model, method=quant_method)\n",
      "--> 207             if quantization_config is not None:\n",
      "    208                 kwargs[f\"{quant_method}_quantization_config\"] = quantization_config\n",
      "    209 \n",
      "\n"
     ]
    },
    {
     "name": "stdin",
     "output_type": "stream",
     "text": [
      "ipdb>  \n"
     ]
    },
    {
     "name": "stdout",
     "output_type": "stream",
     "text": [
      "> /scratch/scai/phd/aiz218323/anaconda3/envs/xc_nlg_2/lib/python3.9/site-packages/peft/tuners/lora/model.py(205)_create_and_replace()\n",
      "    203 \n",
      "    204         quant_methods = [\"gptq\", \"aqlm\", \"awq\"]\n",
      "--> 205         for quant_method in quant_methods:\n",
      "    206             quantization_config = get_quantization_config(self.model, method=quant_method)\n",
      "    207             if quantization_config is not None:\n",
      "\n"
     ]
    },
    {
     "name": "stdin",
     "output_type": "stream",
     "text": [
      "ipdb>  \n"
     ]
    },
    {
     "name": "stdout",
     "output_type": "stream",
     "text": [
      "> /scratch/scai/phd/aiz218323/anaconda3/envs/xc_nlg_2/lib/python3.9/site-packages/peft/tuners/lora/model.py(206)_create_and_replace()\n",
      "    204         quant_methods = [\"gptq\", \"aqlm\", \"awq\"]\n",
      "    205         for quant_method in quant_methods:\n",
      "--> 206             quantization_config = get_quantization_config(self.model, method=quant_method)\n",
      "    207             if quantization_config is not None:\n",
      "    208                 kwargs[f\"{quant_method}_quantization_config\"] = quantization_config\n",
      "\n"
     ]
    },
    {
     "name": "stdin",
     "output_type": "stream",
     "text": [
      "ipdb>  \n"
     ]
    },
    {
     "name": "stdout",
     "output_type": "stream",
     "text": [
      "> /scratch/scai/phd/aiz218323/anaconda3/envs/xc_nlg_2/lib/python3.9/site-packages/peft/tuners/lora/model.py(207)_create_and_replace()\n",
      "    205         for quant_method in quant_methods:\n",
      "    206             quantization_config = get_quantization_config(self.model, method=quant_method)\n",
      "--> 207             if quantization_config is not None:\n",
      "    208                 kwargs[f\"{quant_method}_quantization_config\"] = quantization_config\n",
      "    209 \n",
      "\n"
     ]
    },
    {
     "name": "stdin",
     "output_type": "stream",
     "text": [
      "ipdb>  \n"
     ]
    },
    {
     "name": "stdout",
     "output_type": "stream",
     "text": [
      "> /scratch/scai/phd/aiz218323/anaconda3/envs/xc_nlg_2/lib/python3.9/site-packages/peft/tuners/lora/model.py(205)_create_and_replace()\n",
      "    203 \n",
      "    204         quant_methods = [\"gptq\", \"aqlm\", \"awq\"]\n",
      "--> 205         for quant_method in quant_methods:\n",
      "    206             quantization_config = get_quantization_config(self.model, method=quant_method)\n",
      "    207             if quantization_config is not None:\n",
      "\n"
     ]
    },
    {
     "name": "stdin",
     "output_type": "stream",
     "text": [
      "ipdb>  \n"
     ]
    },
    {
     "name": "stdout",
     "output_type": "stream",
     "text": [
      "> /scratch/scai/phd/aiz218323/anaconda3/envs/xc_nlg_2/lib/python3.9/site-packages/peft/tuners/lora/model.py(206)_create_and_replace()\n",
      "    204         quant_methods = [\"gptq\", \"aqlm\", \"awq\"]\n",
      "    205         for quant_method in quant_methods:\n",
      "--> 206             quantization_config = get_quantization_config(self.model, method=quant_method)\n",
      "    207             if quantization_config is not None:\n",
      "    208                 kwargs[f\"{quant_method}_quantization_config\"] = quantization_config\n",
      "\n"
     ]
    },
    {
     "name": "stdin",
     "output_type": "stream",
     "text": [
      "ipdb>  \n"
     ]
    },
    {
     "name": "stdout",
     "output_type": "stream",
     "text": [
      "> /scratch/scai/phd/aiz218323/anaconda3/envs/xc_nlg_2/lib/python3.9/site-packages/peft/tuners/lora/model.py(207)_create_and_replace()\n",
      "    205         for quant_method in quant_methods:\n",
      "    206             quantization_config = get_quantization_config(self.model, method=quant_method)\n",
      "--> 207             if quantization_config is not None:\n",
      "    208                 kwargs[f\"{quant_method}_quantization_config\"] = quantization_config\n",
      "    209 \n",
      "\n"
     ]
    },
    {
     "name": "stdin",
     "output_type": "stream",
     "text": [
      "ipdb>  \n"
     ]
    },
    {
     "name": "stdout",
     "output_type": "stream",
     "text": [
      "> /scratch/scai/phd/aiz218323/anaconda3/envs/xc_nlg_2/lib/python3.9/site-packages/peft/tuners/lora/model.py(205)_create_and_replace()\n",
      "    203 \n",
      "    204         quant_methods = [\"gptq\", \"aqlm\", \"awq\"]\n",
      "--> 205         for quant_method in quant_methods:\n",
      "    206             quantization_config = get_quantization_config(self.model, method=quant_method)\n",
      "    207             if quantization_config is not None:\n",
      "\n"
     ]
    },
    {
     "name": "stdin",
     "output_type": "stream",
     "text": [
      "ipdb>  \n"
     ]
    },
    {
     "name": "stdout",
     "output_type": "stream",
     "text": [
      "> /scratch/scai/phd/aiz218323/anaconda3/envs/xc_nlg_2/lib/python3.9/site-packages/peft/tuners/lora/model.py(211)_create_and_replace()\n",
      "    209 \n",
      "    210         # note: AdaLoraLayer is a subclass of LoraLayer, we need to exclude it\n",
      "--> 211         from peft.tuners.adalora import AdaLoraLayer\n",
      "    212 \n",
      "    213         if isinstance(target, LoraLayer) and not isinstance(target, AdaLoraLayer):\n",
      "\n"
     ]
    },
    {
     "name": "stdin",
     "output_type": "stream",
     "text": [
      "ipdb>  \n"
     ]
    },
    {
     "name": "stdout",
     "output_type": "stream",
     "text": [
      "> /scratch/scai/phd/aiz218323/anaconda3/envs/xc_nlg_2/lib/python3.9/site-packages/peft/tuners/lora/model.py(213)_create_and_replace()\n",
      "    211         from peft.tuners.adalora import AdaLoraLayer\n",
      "    212 \n",
      "--> 213         if isinstance(target, LoraLayer) and not isinstance(target, AdaLoraLayer):\n",
      "    214             target.update_layer(\n",
      "    215                 adapter_name,\n",
      "\n"
     ]
    },
    {
     "name": "stdin",
     "output_type": "stream",
     "text": [
      "ipdb>  n\n"
     ]
    },
    {
     "name": "stdout",
     "output_type": "stream",
     "text": [
      "> /scratch/scai/phd/aiz218323/anaconda3/envs/xc_nlg_2/lib/python3.9/site-packages/peft/tuners/lora/model.py(224)_create_and_replace()\n",
      "    222             )\n",
      "    223         else:\n",
      "--> 224             new_module = self._create_new_module(lora_config, adapter_name, target, **kwargs)\n",
      "    225             if adapter_name not in self.active_adapters:\n",
      "    226                 # adding an additional adapter: it is not automatically trainable\n",
      "\n"
     ]
    },
    {
     "name": "stdin",
     "output_type": "stream",
     "text": [
      "ipdb>  s\n"
     ]
    },
    {
     "name": "stdout",
     "output_type": "stream",
     "text": [
      "--Call--\n",
      "> /scratch/scai/phd/aiz218323/anaconda3/envs/xc_nlg_2/lib/python3.9/site-packages/peft/tuners/lora/model.py(289)_create_new_module()\n",
      "    287                 raise NotImplementedError(f\"Requested bias: {bias}, is not implemented.\")\n",
      "    288 \n",
      "--> 289     @staticmethod\n",
      "    290     def _create_new_module(lora_config, adapter_name, target, **kwargs):\n",
      "    291         # Collect dispatcher functions to decide what backend to use for the replaced LoRA layer. The order matters,\n",
      "\n"
     ]
    },
    {
     "name": "stdin",
     "output_type": "stream",
     "text": [
      "ipdb>  target\n"
     ]
    },
    {
     "name": "stdout",
     "output_type": "stream",
     "text": [
      "Linear(in_features=768, out_features=768, bias=True)\n"
     ]
    },
    {
     "name": "stdin",
     "output_type": "stream",
     "text": [
      "ipdb>  n\n"
     ]
    },
    {
     "name": "stdout",
     "output_type": "stream",
     "text": [
      "> /scratch/scai/phd/aiz218323/anaconda3/envs/xc_nlg_2/lib/python3.9/site-packages/peft/tuners/lora/model.py(293)_create_new_module()\n",
      "    291         # Collect dispatcher functions to decide what backend to use for the replaced LoRA layer. The order matters,\n",
      "    292         # because the first match is always used. Therefore, the default layers should be checked last.\n",
      "--> 293         dispatchers = []\n",
      "    294 \n",
      "    295         if lora_config._custom_modules:\n",
      "\n"
     ]
    },
    {
     "name": "stdin",
     "output_type": "stream",
     "text": [
      "ipdb>  \n"
     ]
    },
    {
     "name": "stdout",
     "output_type": "stream",
     "text": [
      "> /scratch/scai/phd/aiz218323/anaconda3/envs/xc_nlg_2/lib/python3.9/site-packages/peft/tuners/lora/model.py(295)_create_new_module()\n",
      "    293         dispatchers = []\n",
      "    294 \n",
      "--> 295         if lora_config._custom_modules:\n",
      "    296             # Experimental custom LoRA module support. Allows users to pass a custom mapping for unsupported layer\n",
      "    297             # types by impelementing their own LoRA layers.\n",
      "\n"
     ]
    },
    {
     "name": "stdin",
     "output_type": "stream",
     "text": [
      "ipdb>  \n"
     ]
    },
    {
     "name": "stdout",
     "output_type": "stream",
     "text": [
      "> /scratch/scai/phd/aiz218323/anaconda3/envs/xc_nlg_2/lib/python3.9/site-packages/peft/tuners/lora/model.py(316)_create_new_module()\n",
      "    314 \n",
      "    315         # avoid eager bnb import\n",
      "--> 316         if is_bnb_available():\n",
      "    317             from .bnb import dispatch_bnb_8bit\n",
      "    318 \n",
      "\n"
     ]
    },
    {
     "name": "stdin",
     "output_type": "stream",
     "text": [
      "ipdb>  \n"
     ]
    },
    {
     "name": "stdout",
     "output_type": "stream",
     "text": [
      "> /scratch/scai/phd/aiz218323/anaconda3/envs/xc_nlg_2/lib/python3.9/site-packages/peft/tuners/lora/model.py(321)_create_new_module()\n",
      "    319             dispatchers.append(dispatch_bnb_8bit)\n",
      "    320 \n",
      "--> 321         if is_bnb_4bit_available():\n",
      "    322             from .bnb import dispatch_bnb_4bit\n",
      "    323 \n",
      "\n"
     ]
    },
    {
     "name": "stdin",
     "output_type": "stream",
     "text": [
      "ipdb>  \n"
     ]
    },
    {
     "name": "stdout",
     "output_type": "stream",
     "text": [
      "> /scratch/scai/phd/aiz218323/anaconda3/envs/xc_nlg_2/lib/python3.9/site-packages/peft/tuners/lora/model.py(326)_create_new_module()\n",
      "    324             dispatchers.append(dispatch_bnb_4bit)\n",
      "    325 \n",
      "--> 326         dispatchers.extend(\n",
      "    327             [\n",
      "    328                 dispatch_eetq,\n",
      "\n"
     ]
    },
    {
     "name": "stdin",
     "output_type": "stream",
     "text": [
      "ipdb>  \n"
     ]
    },
    {
     "name": "stdout",
     "output_type": "stream",
     "text": [
      "> /scratch/scai/phd/aiz218323/anaconda3/envs/xc_nlg_2/lib/python3.9/site-packages/peft/tuners/lora/model.py(328)_create_new_module()\n",
      "    326         dispatchers.extend(\n",
      "    327             [\n",
      "--> 328                 dispatch_eetq,\n",
      "    329                 dispatch_aqlm,\n",
      "    330                 dispatch_awq,\n",
      "\n"
     ]
    },
    {
     "name": "stdin",
     "output_type": "stream",
     "text": [
      "ipdb>  \n"
     ]
    },
    {
     "name": "stdout",
     "output_type": "stream",
     "text": [
      "> /scratch/scai/phd/aiz218323/anaconda3/envs/xc_nlg_2/lib/python3.9/site-packages/peft/tuners/lora/model.py(329)_create_new_module()\n",
      "    327             [\n",
      "    328                 dispatch_eetq,\n",
      "--> 329                 dispatch_aqlm,\n",
      "    330                 dispatch_awq,\n",
      "    331                 dispatch_gptq,\n",
      "\n"
     ]
    },
    {
     "name": "stdin",
     "output_type": "stream",
     "text": [
      "ipdb>  \n"
     ]
    },
    {
     "name": "stdout",
     "output_type": "stream",
     "text": [
      "> /scratch/scai/phd/aiz218323/anaconda3/envs/xc_nlg_2/lib/python3.9/site-packages/peft/tuners/lora/model.py(330)_create_new_module()\n",
      "    328                 dispatch_eetq,\n",
      "    329                 dispatch_aqlm,\n",
      "--> 330                 dispatch_awq,\n",
      "    331                 dispatch_gptq,\n",
      "    332                 dispatch_hqq,\n",
      "\n"
     ]
    },
    {
     "name": "stdin",
     "output_type": "stream",
     "text": [
      "ipdb>  \n"
     ]
    },
    {
     "name": "stdout",
     "output_type": "stream",
     "text": [
      "> /scratch/scai/phd/aiz218323/anaconda3/envs/xc_nlg_2/lib/python3.9/site-packages/peft/tuners/lora/model.py(331)_create_new_module()\n",
      "    329                 dispatch_aqlm,\n",
      "    330                 dispatch_awq,\n",
      "--> 331                 dispatch_gptq,\n",
      "    332                 dispatch_hqq,\n",
      "    333                 dispatch_megatron,\n",
      "\n"
     ]
    },
    {
     "name": "stdin",
     "output_type": "stream",
     "text": [
      "ipdb>  \n"
     ]
    },
    {
     "name": "stdout",
     "output_type": "stream",
     "text": [
      "> /scratch/scai/phd/aiz218323/anaconda3/envs/xc_nlg_2/lib/python3.9/site-packages/peft/tuners/lora/model.py(332)_create_new_module()\n",
      "    330                 dispatch_awq,\n",
      "    331                 dispatch_gptq,\n",
      "--> 332                 dispatch_hqq,\n",
      "    333                 dispatch_megatron,\n",
      "    334                 dispatch_default,\n",
      "\n"
     ]
    },
    {
     "name": "stdin",
     "output_type": "stream",
     "text": [
      "ipdb>  \n"
     ]
    },
    {
     "name": "stdout",
     "output_type": "stream",
     "text": [
      "> /scratch/scai/phd/aiz218323/anaconda3/envs/xc_nlg_2/lib/python3.9/site-packages/peft/tuners/lora/model.py(333)_create_new_module()\n",
      "    331                 dispatch_gptq,\n",
      "    332                 dispatch_hqq,\n",
      "--> 333                 dispatch_megatron,\n",
      "    334                 dispatch_default,\n",
      "    335             ]\n",
      "\n"
     ]
    },
    {
     "name": "stdin",
     "output_type": "stream",
     "text": [
      "ipdb>  \n"
     ]
    },
    {
     "name": "stdout",
     "output_type": "stream",
     "text": [
      "> /scratch/scai/phd/aiz218323/anaconda3/envs/xc_nlg_2/lib/python3.9/site-packages/peft/tuners/lora/model.py(334)_create_new_module()\n",
      "    332                 dispatch_hqq,\n",
      "    333                 dispatch_megatron,\n",
      "--> 334                 dispatch_default,\n",
      "    335             ]\n",
      "    336         )\n",
      "\n"
     ]
    },
    {
     "name": "stdin",
     "output_type": "stream",
     "text": [
      "ipdb>  \n"
     ]
    },
    {
     "name": "stdout",
     "output_type": "stream",
     "text": [
      "> /scratch/scai/phd/aiz218323/anaconda3/envs/xc_nlg_2/lib/python3.9/site-packages/peft/tuners/lora/model.py(327)_create_new_module()\n",
      "    325 \n",
      "    326         dispatchers.extend(\n",
      "--> 327             [\n",
      "    328                 dispatch_eetq,\n",
      "    329                 dispatch_aqlm,\n",
      "\n"
     ]
    },
    {
     "name": "stdin",
     "output_type": "stream",
     "text": [
      "ipdb>  \n"
     ]
    },
    {
     "name": "stdout",
     "output_type": "stream",
     "text": [
      "> /scratch/scai/phd/aiz218323/anaconda3/envs/xc_nlg_2/lib/python3.9/site-packages/peft/tuners/lora/model.py(326)_create_new_module()\n",
      "    324             dispatchers.append(dispatch_bnb_4bit)\n",
      "    325 \n",
      "--> 326         dispatchers.extend(\n",
      "    327             [\n",
      "    328                 dispatch_eetq,\n",
      "\n"
     ]
    },
    {
     "name": "stdin",
     "output_type": "stream",
     "text": [
      "ipdb>  \n"
     ]
    },
    {
     "name": "stdout",
     "output_type": "stream",
     "text": [
      "> /scratch/scai/phd/aiz218323/anaconda3/envs/xc_nlg_2/lib/python3.9/site-packages/peft/tuners/lora/model.py(338)_create_new_module()\n",
      "    336         )\n",
      "    337 \n",
      "--> 338         new_module = None\n",
      "    339         for dispatcher in dispatchers:\n",
      "    340             new_module = dispatcher(target, adapter_name, lora_config=lora_config, **kwargs)\n",
      "\n"
     ]
    },
    {
     "name": "stdin",
     "output_type": "stream",
     "text": [
      "ipdb>  \n"
     ]
    },
    {
     "name": "stdout",
     "output_type": "stream",
     "text": [
      "> /scratch/scai/phd/aiz218323/anaconda3/envs/xc_nlg_2/lib/python3.9/site-packages/peft/tuners/lora/model.py(339)_create_new_module()\n",
      "    337 \n",
      "    338         new_module = None\n",
      "--> 339         for dispatcher in dispatchers:\n",
      "    340             new_module = dispatcher(target, adapter_name, lora_config=lora_config, **kwargs)\n",
      "    341             if new_module is not None:  # first match wins\n",
      "\n"
     ]
    },
    {
     "name": "stdin",
     "output_type": "stream",
     "text": [
      "ipdb>  \n"
     ]
    },
    {
     "name": "stdout",
     "output_type": "stream",
     "text": [
      "> /scratch/scai/phd/aiz218323/anaconda3/envs/xc_nlg_2/lib/python3.9/site-packages/peft/tuners/lora/model.py(340)_create_new_module()\n",
      "    338         new_module = None\n",
      "    339         for dispatcher in dispatchers:\n",
      "--> 340             new_module = dispatcher(target, adapter_name, lora_config=lora_config, **kwargs)\n",
      "    341             if new_module is not None:  # first match wins\n",
      "    342                 break\n",
      "\n"
     ]
    },
    {
     "name": "stdin",
     "output_type": "stream",
     "text": [
      "ipdb>  \n"
     ]
    },
    {
     "name": "stdout",
     "output_type": "stream",
     "text": [
      "> /scratch/scai/phd/aiz218323/anaconda3/envs/xc_nlg_2/lib/python3.9/site-packages/peft/tuners/lora/model.py(341)_create_new_module()\n",
      "    339         for dispatcher in dispatchers:\n",
      "    340             new_module = dispatcher(target, adapter_name, lora_config=lora_config, **kwargs)\n",
      "--> 341             if new_module is not None:  # first match wins\n",
      "    342                 break\n",
      "    343 \n",
      "\n"
     ]
    },
    {
     "name": "stdin",
     "output_type": "stream",
     "text": [
      "ipdb>  n\n"
     ]
    },
    {
     "name": "stdout",
     "output_type": "stream",
     "text": [
      "> /scratch/scai/phd/aiz218323/anaconda3/envs/xc_nlg_2/lib/python3.9/site-packages/peft/tuners/lora/model.py(339)_create_new_module()\n",
      "    337 \n",
      "    338         new_module = None\n",
      "--> 339         for dispatcher in dispatchers:\n",
      "    340             new_module = dispatcher(target, adapter_name, lora_config=lora_config, **kwargs)\n",
      "    341             if new_module is not None:  # first match wins\n",
      "\n"
     ]
    },
    {
     "name": "stdin",
     "output_type": "stream",
     "text": [
      "ipdb>  \n"
     ]
    },
    {
     "name": "stdout",
     "output_type": "stream",
     "text": [
      "> /scratch/scai/phd/aiz218323/anaconda3/envs/xc_nlg_2/lib/python3.9/site-packages/peft/tuners/lora/model.py(340)_create_new_module()\n",
      "    338         new_module = None\n",
      "    339         for dispatcher in dispatchers:\n",
      "--> 340             new_module = dispatcher(target, adapter_name, lora_config=lora_config, **kwargs)\n",
      "    341             if new_module is not None:  # first match wins\n",
      "    342                 break\n",
      "\n"
     ]
    },
    {
     "name": "stdin",
     "output_type": "stream",
     "text": [
      "ipdb>  \n"
     ]
    },
    {
     "name": "stdout",
     "output_type": "stream",
     "text": [
      "> /scratch/scai/phd/aiz218323/anaconda3/envs/xc_nlg_2/lib/python3.9/site-packages/peft/tuners/lora/model.py(341)_create_new_module()\n",
      "    339         for dispatcher in dispatchers:\n",
      "    340             new_module = dispatcher(target, adapter_name, lora_config=lora_config, **kwargs)\n",
      "--> 341             if new_module is not None:  # first match wins\n",
      "    342                 break\n",
      "    343 \n",
      "\n"
     ]
    },
    {
     "name": "stdin",
     "output_type": "stream",
     "text": [
      "ipdb>  \n"
     ]
    },
    {
     "name": "stdout",
     "output_type": "stream",
     "text": [
      "> /scratch/scai/phd/aiz218323/anaconda3/envs/xc_nlg_2/lib/python3.9/site-packages/peft/tuners/lora/model.py(339)_create_new_module()\n",
      "    337 \n",
      "    338         new_module = None\n",
      "--> 339         for dispatcher in dispatchers:\n",
      "    340             new_module = dispatcher(target, adapter_name, lora_config=lora_config, **kwargs)\n",
      "    341             if new_module is not None:  # first match wins\n",
      "\n"
     ]
    },
    {
     "name": "stdin",
     "output_type": "stream",
     "text": [
      "ipdb>  \n"
     ]
    },
    {
     "name": "stdout",
     "output_type": "stream",
     "text": [
      "> /scratch/scai/phd/aiz218323/anaconda3/envs/xc_nlg_2/lib/python3.9/site-packages/peft/tuners/lora/model.py(340)_create_new_module()\n",
      "    338         new_module = None\n",
      "    339         for dispatcher in dispatchers:\n",
      "--> 340             new_module = dispatcher(target, adapter_name, lora_config=lora_config, **kwargs)\n",
      "    341             if new_module is not None:  # first match wins\n",
      "    342                 break\n",
      "\n"
     ]
    },
    {
     "name": "stdin",
     "output_type": "stream",
     "text": [
      "ipdb>  \n"
     ]
    },
    {
     "name": "stdout",
     "output_type": "stream",
     "text": [
      "> /scratch/scai/phd/aiz218323/anaconda3/envs/xc_nlg_2/lib/python3.9/site-packages/peft/tuners/lora/model.py(341)_create_new_module()\n",
      "    339         for dispatcher in dispatchers:\n",
      "    340             new_module = dispatcher(target, adapter_name, lora_config=lora_config, **kwargs)\n",
      "--> 341             if new_module is not None:  # first match wins\n",
      "    342                 break\n",
      "    343 \n",
      "\n"
     ]
    },
    {
     "name": "stdin",
     "output_type": "stream",
     "text": [
      "ipdb>  \n"
     ]
    },
    {
     "name": "stdout",
     "output_type": "stream",
     "text": [
      "> /scratch/scai/phd/aiz218323/anaconda3/envs/xc_nlg_2/lib/python3.9/site-packages/peft/tuners/lora/model.py(339)_create_new_module()\n",
      "    337 \n",
      "    338         new_module = None\n",
      "--> 339         for dispatcher in dispatchers:\n",
      "    340             new_module = dispatcher(target, adapter_name, lora_config=lora_config, **kwargs)\n",
      "    341             if new_module is not None:  # first match wins\n",
      "\n"
     ]
    },
    {
     "name": "stdin",
     "output_type": "stream",
     "text": [
      "ipdb>  \n"
     ]
    },
    {
     "name": "stdout",
     "output_type": "stream",
     "text": [
      "> /scratch/scai/phd/aiz218323/anaconda3/envs/xc_nlg_2/lib/python3.9/site-packages/peft/tuners/lora/model.py(340)_create_new_module()\n",
      "    338         new_module = None\n",
      "    339         for dispatcher in dispatchers:\n",
      "--> 340             new_module = dispatcher(target, adapter_name, lora_config=lora_config, **kwargs)\n",
      "    341             if new_module is not None:  # first match wins\n",
      "    342                 break\n",
      "\n"
     ]
    },
    {
     "name": "stdin",
     "output_type": "stream",
     "text": [
      "ipdb>  \n"
     ]
    },
    {
     "name": "stdout",
     "output_type": "stream",
     "text": [
      "> /scratch/scai/phd/aiz218323/anaconda3/envs/xc_nlg_2/lib/python3.9/site-packages/peft/tuners/lora/model.py(341)_create_new_module()\n",
      "    339         for dispatcher in dispatchers:\n",
      "    340             new_module = dispatcher(target, adapter_name, lora_config=lora_config, **kwargs)\n",
      "--> 341             if new_module is not None:  # first match wins\n",
      "    342                 break\n",
      "    343 \n",
      "\n"
     ]
    },
    {
     "name": "stdin",
     "output_type": "stream",
     "text": [
      "ipdb>  \n"
     ]
    },
    {
     "name": "stdout",
     "output_type": "stream",
     "text": [
      "> /scratch/scai/phd/aiz218323/anaconda3/envs/xc_nlg_2/lib/python3.9/site-packages/peft/tuners/lora/model.py(339)_create_new_module()\n",
      "    337 \n",
      "    338         new_module = None\n",
      "--> 339         for dispatcher in dispatchers:\n",
      "    340             new_module = dispatcher(target, adapter_name, lora_config=lora_config, **kwargs)\n",
      "    341             if new_module is not None:  # first match wins\n",
      "\n"
     ]
    },
    {
     "name": "stdin",
     "output_type": "stream",
     "text": [
      "ipdb>  \n"
     ]
    },
    {
     "name": "stdout",
     "output_type": "stream",
     "text": [
      "> /scratch/scai/phd/aiz218323/anaconda3/envs/xc_nlg_2/lib/python3.9/site-packages/peft/tuners/lora/model.py(340)_create_new_module()\n",
      "    338         new_module = None\n",
      "    339         for dispatcher in dispatchers:\n",
      "--> 340             new_module = dispatcher(target, adapter_name, lora_config=lora_config, **kwargs)\n",
      "    341             if new_module is not None:  # first match wins\n",
      "    342                 break\n",
      "\n"
     ]
    },
    {
     "name": "stdin",
     "output_type": "stream",
     "text": [
      "ipdb>  \n"
     ]
    },
    {
     "name": "stdout",
     "output_type": "stream",
     "text": [
      "> /scratch/scai/phd/aiz218323/anaconda3/envs/xc_nlg_2/lib/python3.9/site-packages/peft/tuners/lora/model.py(341)_create_new_module()\n",
      "    339         for dispatcher in dispatchers:\n",
      "    340             new_module = dispatcher(target, adapter_name, lora_config=lora_config, **kwargs)\n",
      "--> 341             if new_module is not None:  # first match wins\n",
      "    342                 break\n",
      "    343 \n",
      "\n"
     ]
    },
    {
     "name": "stdin",
     "output_type": "stream",
     "text": [
      "ipdb>  \n"
     ]
    },
    {
     "name": "stdout",
     "output_type": "stream",
     "text": [
      "> /scratch/scai/phd/aiz218323/anaconda3/envs/xc_nlg_2/lib/python3.9/site-packages/peft/tuners/lora/model.py(339)_create_new_module()\n",
      "    337 \n",
      "    338         new_module = None\n",
      "--> 339         for dispatcher in dispatchers:\n",
      "    340             new_module = dispatcher(target, adapter_name, lora_config=lora_config, **kwargs)\n",
      "    341             if new_module is not None:  # first match wins\n",
      "\n"
     ]
    },
    {
     "name": "stdin",
     "output_type": "stream",
     "text": [
      "ipdb>  \n"
     ]
    },
    {
     "name": "stdout",
     "output_type": "stream",
     "text": [
      "> /scratch/scai/phd/aiz218323/anaconda3/envs/xc_nlg_2/lib/python3.9/site-packages/peft/tuners/lora/model.py(340)_create_new_module()\n",
      "    338         new_module = None\n",
      "    339         for dispatcher in dispatchers:\n",
      "--> 340             new_module = dispatcher(target, adapter_name, lora_config=lora_config, **kwargs)\n",
      "    341             if new_module is not None:  # first match wins\n",
      "    342                 break\n",
      "\n"
     ]
    },
    {
     "name": "stdin",
     "output_type": "stream",
     "text": [
      "ipdb>  \n"
     ]
    },
    {
     "name": "stdout",
     "output_type": "stream",
     "text": [
      "> /scratch/scai/phd/aiz218323/anaconda3/envs/xc_nlg_2/lib/python3.9/site-packages/peft/tuners/lora/model.py(341)_create_new_module()\n",
      "    339         for dispatcher in dispatchers:\n",
      "    340             new_module = dispatcher(target, adapter_name, lora_config=lora_config, **kwargs)\n",
      "--> 341             if new_module is not None:  # first match wins\n",
      "    342                 break\n",
      "    343 \n",
      "\n"
     ]
    },
    {
     "name": "stdin",
     "output_type": "stream",
     "text": [
      "ipdb>  \n"
     ]
    },
    {
     "name": "stdout",
     "output_type": "stream",
     "text": [
      "> /scratch/scai/phd/aiz218323/anaconda3/envs/xc_nlg_2/lib/python3.9/site-packages/peft/tuners/lora/model.py(339)_create_new_module()\n",
      "    337 \n",
      "    338         new_module = None\n",
      "--> 339         for dispatcher in dispatchers:\n",
      "    340             new_module = dispatcher(target, adapter_name, lora_config=lora_config, **kwargs)\n",
      "    341             if new_module is not None:  # first match wins\n",
      "\n"
     ]
    },
    {
     "name": "stdin",
     "output_type": "stream",
     "text": [
      "ipdb>  \n"
     ]
    },
    {
     "name": "stdout",
     "output_type": "stream",
     "text": [
      "> /scratch/scai/phd/aiz218323/anaconda3/envs/xc_nlg_2/lib/python3.9/site-packages/peft/tuners/lora/model.py(340)_create_new_module()\n",
      "    338         new_module = None\n",
      "    339         for dispatcher in dispatchers:\n",
      "--> 340             new_module = dispatcher(target, adapter_name, lora_config=lora_config, **kwargs)\n",
      "    341             if new_module is not None:  # first match wins\n",
      "    342                 break\n",
      "\n"
     ]
    },
    {
     "name": "stdin",
     "output_type": "stream",
     "text": [
      "ipdb>  \n"
     ]
    },
    {
     "name": "stdout",
     "output_type": "stream",
     "text": [
      "> /scratch/scai/phd/aiz218323/anaconda3/envs/xc_nlg_2/lib/python3.9/site-packages/peft/tuners/lora/model.py(341)_create_new_module()\n",
      "    339         for dispatcher in dispatchers:\n",
      "    340             new_module = dispatcher(target, adapter_name, lora_config=lora_config, **kwargs)\n",
      "--> 341             if new_module is not None:  # first match wins\n",
      "    342                 break\n",
      "    343 \n",
      "\n"
     ]
    },
    {
     "name": "stdin",
     "output_type": "stream",
     "text": [
      "ipdb>  \n"
     ]
    },
    {
     "name": "stdout",
     "output_type": "stream",
     "text": [
      "> /scratch/scai/phd/aiz218323/anaconda3/envs/xc_nlg_2/lib/python3.9/site-packages/peft/tuners/lora/model.py(342)_create_new_module()\n",
      "    340             new_module = dispatcher(target, adapter_name, lora_config=lora_config, **kwargs)\n",
      "    341             if new_module is not None:  # first match wins\n",
      "--> 342                 break\n",
      "    343 \n",
      "    344         if new_module is None:\n",
      "\n"
     ]
    },
    {
     "name": "stdin",
     "output_type": "stream",
     "text": [
      "ipdb>  \n"
     ]
    },
    {
     "name": "stdout",
     "output_type": "stream",
     "text": [
      "> /scratch/scai/phd/aiz218323/anaconda3/envs/xc_nlg_2/lib/python3.9/site-packages/peft/tuners/lora/model.py(344)_create_new_module()\n",
      "    342                 break\n",
      "    343 \n",
      "--> 344         if new_module is None:\n",
      "    345             # no module could be matched\n",
      "    346             raise ValueError(\n",
      "\n"
     ]
    },
    {
     "name": "stdin",
     "output_type": "stream",
     "text": [
      "ipdb>  \n"
     ]
    },
    {
     "name": "stdout",
     "output_type": "stream",
     "text": [
      "> /scratch/scai/phd/aiz218323/anaconda3/envs/xc_nlg_2/lib/python3.9/site-packages/peft/tuners/lora/model.py(351)_create_new_module()\n",
      "    349             )\n",
      "    350 \n",
      "--> 351         return new_module\n",
      "    352 \n",
      "    353     def __getattr__(self, name: str):\n",
      "\n"
     ]
    },
    {
     "name": "stdin",
     "output_type": "stream",
     "text": [
      "ipdb>  new_module\n"
     ]
    },
    {
     "name": "stdout",
     "output_type": "stream",
     "text": [
      "lora.Linear(\n",
      "  (base_layer): Linear(in_features=768, out_features=768, bias=True)\n",
      "  (lora_dropout): ModuleDict(\n",
      "    (default): Dropout(p=0.05, inplace=False)\n",
      "  )\n",
      "  (lora_A): ModuleDict(\n",
      "    (default): Linear(in_features=768, out_features=8, bias=False)\n",
      "  )\n",
      "  (lora_B): ModuleDict(\n",
      "    (default): Linear(in_features=8, out_features=768, bias=False)\n",
      "  )\n",
      "  (lora_embedding_A): ParameterDict()\n",
      "  (lora_embedding_B): ParameterDict()\n",
      "  (lora_magnitude_vector): ModuleDict()\n",
      ")\n"
     ]
    },
    {
     "name": "stdin",
     "output_type": "stream",
     "text": [
      "ipdb>  new_module.base_layer\n"
     ]
    },
    {
     "name": "stdout",
     "output_type": "stream",
     "text": [
      "Linear(in_features=768, out_features=768, bias=True)\n"
     ]
    },
    {
     "name": "stdin",
     "output_type": "stream",
     "text": [
      "ipdb>  new_module.base_layer.data_ptr()\n"
     ]
    },
    {
     "name": "stdout",
     "output_type": "stream",
     "text": [
      "*** AttributeError: 'Linear' object has no attribute 'data_ptr'\n"
     ]
    },
    {
     "name": "stdin",
     "output_type": "stream",
     "text": [
      "ipdb>  new_module.base_layer.weight.data_ptr()\n"
     ]
    },
    {
     "name": "stdout",
     "output_type": "stream",
     "text": [
      "776793664\n"
     ]
    },
    {
     "name": "stdin",
     "output_type": "stream",
     "text": [
      "ipdb>  target.weight.data_ptr()\n"
     ]
    },
    {
     "name": "stdout",
     "output_type": "stream",
     "text": [
      "776793664\n"
     ]
    },
    {
     "name": "stdin",
     "output_type": "stream",
     "text": [
      "ipdb>  n\n"
     ]
    },
    {
     "name": "stdout",
     "output_type": "stream",
     "text": [
      "--Return--\n",
      "lora.Linear(\n",
      "...ModuleDict()\n",
      ")\n",
      "> /scratch/scai/phd/aiz218323/anaconda3/envs/xc_nlg_2/lib/python3.9/site-packages/peft/tuners/lora/model.py(351)_create_new_module()\n",
      "    349             )\n",
      "    350 \n",
      "--> 351         return new_module\n",
      "    352 \n",
      "    353     def __getattr__(self, name: str):\n",
      "\n"
     ]
    },
    {
     "name": "stdin",
     "output_type": "stream",
     "text": [
      "ipdb>  \n"
     ]
    },
    {
     "name": "stdout",
     "output_type": "stream",
     "text": [
      "> /scratch/scai/phd/aiz218323/anaconda3/envs/xc_nlg_2/lib/python3.9/site-packages/peft/tuners/lora/model.py(225)_create_and_replace()\n",
      "    223         else:\n",
      "    224             new_module = self._create_new_module(lora_config, adapter_name, target, **kwargs)\n",
      "--> 225             if adapter_name not in self.active_adapters:\n",
      "    226                 # adding an additional adapter: it is not automatically trainable\n",
      "    227                 new_module.requires_grad_(False)\n",
      "\n"
     ]
    },
    {
     "name": "stdin",
     "output_type": "stream",
     "text": [
      "ipdb>  new_module\n"
     ]
    },
    {
     "name": "stdout",
     "output_type": "stream",
     "text": [
      "lora.Linear(\n",
      "  (base_layer): Linear(in_features=768, out_features=768, bias=True)\n",
      "  (lora_dropout): ModuleDict(\n",
      "    (default): Dropout(p=0.05, inplace=False)\n",
      "  )\n",
      "  (lora_A): ModuleDict(\n",
      "    (default): Linear(in_features=768, out_features=8, bias=False)\n",
      "  )\n",
      "  (lora_B): ModuleDict(\n",
      "    (default): Linear(in_features=8, out_features=768, bias=False)\n",
      "  )\n",
      "  (lora_embedding_A): ParameterDict()\n",
      "  (lora_embedding_B): ParameterDict()\n",
      "  (lora_magnitude_vector): ModuleDict()\n",
      ")\n"
     ]
    },
    {
     "name": "stdin",
     "output_type": "stream",
     "text": [
      "ipdb>  n\n"
     ]
    },
    {
     "name": "stdout",
     "output_type": "stream",
     "text": [
      "> /scratch/scai/phd/aiz218323/anaconda3/envs/xc_nlg_2/lib/python3.9/site-packages/peft/tuners/lora/model.py(228)_create_and_replace()\n",
      "    226                 # adding an additional adapter: it is not automatically trainable\n",
      "    227                 new_module.requires_grad_(False)\n",
      "--> 228             self._replace_module(parent, target_name, new_module, target)\n",
      "    229 \n",
      "    230     def _replace_module(self, parent, child_name, new_module, child):\n",
      "\n"
     ]
    },
    {
     "name": "stdin",
     "output_type": "stream",
     "text": [
      "ipdb>  s\n"
     ]
    },
    {
     "name": "stdout",
     "output_type": "stream",
     "text": [
      "--Call--\n",
      "> /scratch/scai/phd/aiz218323/anaconda3/envs/xc_nlg_2/lib/python3.9/site-packages/peft/tuners/lora/model.py(230)_replace_module()\n",
      "    228             self._replace_module(parent, target_name, new_module, target)\n",
      "    229 \n",
      "--> 230     def _replace_module(self, parent, child_name, new_module, child):\n",
      "    231         setattr(parent, child_name, new_module)\n",
      "    232         # It's not necessary to set requires_grad here, as that is handled by\n",
      "\n"
     ]
    },
    {
     "name": "stdin",
     "output_type": "stream",
     "text": [
      "ipdb>  nn\n"
     ]
    },
    {
     "name": "stdout",
     "output_type": "stream",
     "text": [
      "<module 'torch.nn' from '/scratch/scai/phd/aiz218323/anaconda3/envs/xc_nlg/lib/python3.9/site-packages/torch/nn/__init__.py'>\n"
     ]
    },
    {
     "name": "stdin",
     "output_type": "stream",
     "text": [
      "ipdb>  n\n"
     ]
    },
    {
     "name": "stdout",
     "output_type": "stream",
     "text": [
      "> /scratch/scai/phd/aiz218323/anaconda3/envs/xc_nlg_2/lib/python3.9/site-packages/peft/tuners/lora/model.py(231)_replace_module()\n",
      "    229 \n",
      "    230     def _replace_module(self, parent, child_name, new_module, child):\n",
      "--> 231         setattr(parent, child_name, new_module)\n",
      "    232         # It's not necessary to set requires_grad here, as that is handled by\n",
      "    233         # _mark_only_adapters_as_trainable\n",
      "\n"
     ]
    },
    {
     "name": "stdin",
     "output_type": "stream",
     "text": [
      "ipdb>  \n"
     ]
    },
    {
     "name": "stdout",
     "output_type": "stream",
     "text": [
      "> /scratch/scai/phd/aiz218323/anaconda3/envs/xc_nlg_2/lib/python3.9/site-packages/peft/tuners/lora/model.py(236)_replace_module()\n",
      "    234 \n",
      "    235         # child layer wraps the original module, unpack it\n",
      "--> 236         if hasattr(child, \"base_layer\"):\n",
      "    237             child = child.base_layer\n",
      "    238 \n",
      "\n"
     ]
    },
    {
     "name": "stdin",
     "output_type": "stream",
     "text": [
      "ipdb>  l\n"
     ]
    },
    {
     "name": "stdout",
     "output_type": "stream",
     "text": [
      "    231         setattr(parent, child_name, new_module)\n",
      "    232         # It's not necessary to set requires_grad here, as that is handled by\n",
      "    233         # _mark_only_adapters_as_trainable\n",
      "    234 \n",
      "    235         # child layer wraps the original module, unpack it\n",
      "--> 236         if hasattr(child, \"base_layer\"):\n",
      "    237             child = child.base_layer\n",
      "    238 \n",
      "    239         if not hasattr(new_module, \"base_layer\"):\n",
      "    240             if hasattr(new_module, \"W_q\"):  # HQQ\n",
      "    241                 new_module.W_q = child.W_q\n",
      "\n"
     ]
    },
    {
     "name": "stdin",
     "output_type": "stream",
     "text": [
      "ipdb>  child\n"
     ]
    },
    {
     "name": "stdout",
     "output_type": "stream",
     "text": [
      "Linear(in_features=768, out_features=768, bias=True)\n"
     ]
    },
    {
     "name": "stdin",
     "output_type": "stream",
     "text": [
      "ipdb>  n\n"
     ]
    },
    {
     "name": "stdout",
     "output_type": "stream",
     "text": [
      "> /scratch/scai/phd/aiz218323/anaconda3/envs/xc_nlg_2/lib/python3.9/site-packages/peft/tuners/lora/model.py(239)_replace_module()\n",
      "    237             child = child.base_layer\n",
      "    238 \n",
      "--> 239         if not hasattr(new_module, \"base_layer\"):\n",
      "    240             if hasattr(new_module, \"W_q\"):  # HQQ\n",
      "    241                 new_module.W_q = child.W_q\n",
      "\n"
     ]
    },
    {
     "name": "stdin",
     "output_type": "stream",
     "text": [
      "ipdb>  \n"
     ]
    },
    {
     "name": "stdout",
     "output_type": "stream",
     "text": [
      "> /scratch/scai/phd/aiz218323/anaconda3/envs/xc_nlg_2/lib/python3.9/site-packages/peft/tuners/lora/model.py(247)_replace_module()\n",
      "    245                 new_module.bias = child.bias\n",
      "    246 \n",
      "--> 247         if getattr(child, \"state\", None) is not None:\n",
      "    248             if hasattr(new_module, \"base_layer\"):\n",
      "    249                 new_module.base_layer.state = child.state\n",
      "\n"
     ]
    },
    {
     "name": "stdin",
     "output_type": "stream",
     "text": [
      "ipdb>  n\n"
     ]
    },
    {
     "name": "stdout",
     "output_type": "stream",
     "text": [
      "> /scratch/scai/phd/aiz218323/anaconda3/envs/xc_nlg_2/lib/python3.9/site-packages/peft/tuners/lora/model.py(255)_replace_module()\n",
      "    253 \n",
      "    254         # dispatch to correct device\n",
      "--> 255         for name, module in new_module.named_modules():\n",
      "    256             if (self.prefix in name) or (\"ranknum\" in name):\n",
      "    257                 weight = (\n",
      "\n"
     ]
    },
    {
     "name": "stdin",
     "output_type": "stream",
     "text": [
      "ipdb>  self.prefix\n"
     ]
    },
    {
     "name": "stdout",
     "output_type": "stream",
     "text": [
      "'lora_'\n"
     ]
    },
    {
     "name": "stdin",
     "output_type": "stream",
     "text": [
      "ipdb>  n\n"
     ]
    },
    {
     "name": "stdout",
     "output_type": "stream",
     "text": [
      "> /scratch/scai/phd/aiz218323/anaconda3/envs/xc_nlg_2/lib/python3.9/site-packages/peft/tuners/lora/model.py(256)_replace_module()\n",
      "    254         # dispatch to correct device\n",
      "    255         for name, module in new_module.named_modules():\n",
      "--> 256             if (self.prefix in name) or (\"ranknum\" in name):\n",
      "    257                 weight = (\n",
      "    258                     child.qweight\n",
      "\n"
     ]
    },
    {
     "name": "stdin",
     "output_type": "stream",
     "text": [
      "ipdb>  \n"
     ]
    },
    {
     "name": "stdout",
     "output_type": "stream",
     "text": [
      "> /scratch/scai/phd/aiz218323/anaconda3/envs/xc_nlg_2/lib/python3.9/site-packages/peft/tuners/lora/model.py(255)_replace_module()\n",
      "    253 \n",
      "    254         # dispatch to correct device\n",
      "--> 255         for name, module in new_module.named_modules():\n",
      "    256             if (self.prefix in name) or (\"ranknum\" in name):\n",
      "    257                 weight = (\n",
      "\n"
     ]
    },
    {
     "name": "stdin",
     "output_type": "stream",
     "text": [
      "ipdb>  \n"
     ]
    },
    {
     "name": "stdout",
     "output_type": "stream",
     "text": [
      "> /scratch/scai/phd/aiz218323/anaconda3/envs/xc_nlg_2/lib/python3.9/site-packages/peft/tuners/lora/model.py(256)_replace_module()\n",
      "    254         # dispatch to correct device\n",
      "    255         for name, module in new_module.named_modules():\n",
      "--> 256             if (self.prefix in name) or (\"ranknum\" in name):\n",
      "    257                 weight = (\n",
      "    258                     child.qweight\n",
      "\n"
     ]
    },
    {
     "name": "stdin",
     "output_type": "stream",
     "text": [
      "ipdb>  \n"
     ]
    },
    {
     "name": "stdout",
     "output_type": "stream",
     "text": [
      "> /scratch/scai/phd/aiz218323/anaconda3/envs/xc_nlg_2/lib/python3.9/site-packages/peft/tuners/lora/model.py(255)_replace_module()\n",
      "    253 \n",
      "    254         # dispatch to correct device\n",
      "--> 255         for name, module in new_module.named_modules():\n",
      "    256             if (self.prefix in name) or (\"ranknum\" in name):\n",
      "    257                 weight = (\n",
      "\n"
     ]
    },
    {
     "name": "stdin",
     "output_type": "stream",
     "text": [
      "ipdb>  \n"
     ]
    },
    {
     "name": "stdout",
     "output_type": "stream",
     "text": [
      "> /scratch/scai/phd/aiz218323/anaconda3/envs/xc_nlg_2/lib/python3.9/site-packages/peft/tuners/lora/model.py(256)_replace_module()\n",
      "    254         # dispatch to correct device\n",
      "    255         for name, module in new_module.named_modules():\n",
      "--> 256             if (self.prefix in name) or (\"ranknum\" in name):\n",
      "    257                 weight = (\n",
      "    258                     child.qweight\n",
      "\n"
     ]
    },
    {
     "name": "stdin",
     "output_type": "stream",
     "text": [
      "ipdb>  \n"
     ]
    },
    {
     "name": "stdout",
     "output_type": "stream",
     "text": [
      "> /scratch/scai/phd/aiz218323/anaconda3/envs/xc_nlg_2/lib/python3.9/site-packages/peft/tuners/lora/model.py(259)_replace_module()\n",
      "    257                 weight = (\n",
      "    258                     child.qweight\n",
      "--> 259                     if hasattr(child, \"qweight\")\n",
      "    260                     else child.W_q\n",
      "    261                     if hasattr(child, \"W_q\")\n",
      "\n"
     ]
    },
    {
     "name": "stdin",
     "output_type": "stream",
     "text": [
      "ipdb>  \n"
     ]
    },
    {
     "name": "stdout",
     "output_type": "stream",
     "text": [
      "> /scratch/scai/phd/aiz218323/anaconda3/envs/xc_nlg_2/lib/python3.9/site-packages/peft/tuners/lora/model.py(258)_replace_module()\n",
      "    256             if (self.prefix in name) or (\"ranknum\" in name):\n",
      "    257                 weight = (\n",
      "--> 258                     child.qweight\n",
      "    259                     if hasattr(child, \"qweight\")\n",
      "    260                     else child.W_q\n",
      "\n"
     ]
    },
    {
     "name": "stdin",
     "output_type": "stream",
     "text": [
      "ipdb>  \n"
     ]
    },
    {
     "name": "stdout",
     "output_type": "stream",
     "text": [
      "> /scratch/scai/phd/aiz218323/anaconda3/envs/xc_nlg_2/lib/python3.9/site-packages/peft/tuners/lora/model.py(261)_replace_module()\n",
      "    259                     if hasattr(child, \"qweight\")\n",
      "    260                     else child.W_q\n",
      "--> 261                     if hasattr(child, \"W_q\")\n",
      "    262                     else child.weight\n",
      "    263                     if hasattr(child, \"weight\")\n",
      "\n"
     ]
    },
    {
     "name": "stdin",
     "output_type": "stream",
     "text": [
      "ipdb>  \n"
     ]
    },
    {
     "name": "stdout",
     "output_type": "stream",
     "text": [
      "> /scratch/scai/phd/aiz218323/anaconda3/envs/xc_nlg_2/lib/python3.9/site-packages/peft/tuners/lora/model.py(260)_replace_module()\n",
      "    258                     child.qweight\n",
      "    259                     if hasattr(child, \"qweight\")\n",
      "--> 260                     else child.W_q\n",
      "    261                     if hasattr(child, \"W_q\")\n",
      "    262                     else child.weight\n",
      "\n"
     ]
    },
    {
     "name": "stdin",
     "output_type": "stream",
     "text": [
      "ipdb>  \n"
     ]
    },
    {
     "name": "stdout",
     "output_type": "stream",
     "text": [
      "> /scratch/scai/phd/aiz218323/anaconda3/envs/xc_nlg_2/lib/python3.9/site-packages/peft/tuners/lora/model.py(263)_replace_module()\n",
      "    261                     if hasattr(child, \"W_q\")\n",
      "    262                     else child.weight\n",
      "--> 263                     if hasattr(child, \"weight\")\n",
      "    264                     else next(child.parameters())\n",
      "    265                 )\n",
      "\n"
     ]
    },
    {
     "name": "stdin",
     "output_type": "stream",
     "text": [
      "ipdb>  \n"
     ]
    },
    {
     "name": "stdout",
     "output_type": "stream",
     "text": [
      "> /scratch/scai/phd/aiz218323/anaconda3/envs/xc_nlg_2/lib/python3.9/site-packages/peft/tuners/lora/model.py(262)_replace_module()\n",
      "    260                     else child.W_q\n",
      "    261                     if hasattr(child, \"W_q\")\n",
      "--> 262                     else child.weight\n",
      "    263                     if hasattr(child, \"weight\")\n",
      "    264                     else next(child.parameters())\n",
      "\n"
     ]
    },
    {
     "name": "stdin",
     "output_type": "stream",
     "text": [
      "ipdb>  \n"
     ]
    },
    {
     "name": "stdout",
     "output_type": "stream",
     "text": [
      "> /scratch/scai/phd/aiz218323/anaconda3/envs/xc_nlg_2/lib/python3.9/site-packages/peft/tuners/lora/model.py(257)_replace_module()\n",
      "    255         for name, module in new_module.named_modules():\n",
      "    256             if (self.prefix in name) or (\"ranknum\" in name):\n",
      "--> 257                 weight = (\n",
      "    258                     child.qweight\n",
      "    259                     if hasattr(child, \"qweight\")\n",
      "\n"
     ]
    },
    {
     "name": "stdin",
     "output_type": "stream",
     "text": [
      "ipdb>  \n"
     ]
    },
    {
     "name": "stdout",
     "output_type": "stream",
     "text": [
      "> /scratch/scai/phd/aiz218323/anaconda3/envs/xc_nlg_2/lib/python3.9/site-packages/peft/tuners/lora/model.py(266)_replace_module()\n",
      "    264                     else next(child.parameters())\n",
      "    265                 )\n",
      "--> 266                 module.to(weight.device)\n",
      "    267 \n",
      "    268     def _mark_only_adapters_as_trainable(self, model: nn.Module) -> None:\n",
      "\n"
     ]
    },
    {
     "name": "stdin",
     "output_type": "stream",
     "text": [
      "ipdb>  \n"
     ]
    },
    {
     "name": "stdout",
     "output_type": "stream",
     "text": [
      "> /scratch/scai/phd/aiz218323/anaconda3/envs/xc_nlg_2/lib/python3.9/site-packages/peft/tuners/lora/model.py(255)_replace_module()\n",
      "    253 \n",
      "    254         # dispatch to correct device\n",
      "--> 255         for name, module in new_module.named_modules():\n",
      "    256             if (self.prefix in name) or (\"ranknum\" in name):\n",
      "    257                 weight = (\n",
      "\n"
     ]
    },
    {
     "name": "stdin",
     "output_type": "stream",
     "text": [
      "ipdb>  \n"
     ]
    },
    {
     "name": "stdout",
     "output_type": "stream",
     "text": [
      "> /scratch/scai/phd/aiz218323/anaconda3/envs/xc_nlg_2/lib/python3.9/site-packages/peft/tuners/lora/model.py(256)_replace_module()\n",
      "    254         # dispatch to correct device\n",
      "    255         for name, module in new_module.named_modules():\n",
      "--> 256             if (self.prefix in name) or (\"ranknum\" in name):\n",
      "    257                 weight = (\n",
      "    258                     child.qweight\n",
      "\n"
     ]
    },
    {
     "name": "stdin",
     "output_type": "stream",
     "text": [
      "ipdb>  \n"
     ]
    },
    {
     "name": "stdout",
     "output_type": "stream",
     "text": [
      "> /scratch/scai/phd/aiz218323/anaconda3/envs/xc_nlg_2/lib/python3.9/site-packages/peft/tuners/lora/model.py(259)_replace_module()\n",
      "    257                 weight = (\n",
      "    258                     child.qweight\n",
      "--> 259                     if hasattr(child, \"qweight\")\n",
      "    260                     else child.W_q\n",
      "    261                     if hasattr(child, \"W_q\")\n",
      "\n"
     ]
    },
    {
     "name": "stdin",
     "output_type": "stream",
     "text": [
      "ipdb>  \n"
     ]
    },
    {
     "name": "stdout",
     "output_type": "stream",
     "text": [
      "> /scratch/scai/phd/aiz218323/anaconda3/envs/xc_nlg_2/lib/python3.9/site-packages/peft/tuners/lora/model.py(258)_replace_module()\n",
      "    256             if (self.prefix in name) or (\"ranknum\" in name):\n",
      "    257                 weight = (\n",
      "--> 258                     child.qweight\n",
      "    259                     if hasattr(child, \"qweight\")\n",
      "    260                     else child.W_q\n",
      "\n"
     ]
    },
    {
     "name": "stdin",
     "output_type": "stream",
     "text": [
      "ipdb>  \n"
     ]
    },
    {
     "name": "stdout",
     "output_type": "stream",
     "text": [
      "> /scratch/scai/phd/aiz218323/anaconda3/envs/xc_nlg_2/lib/python3.9/site-packages/peft/tuners/lora/model.py(261)_replace_module()\n",
      "    259                     if hasattr(child, \"qweight\")\n",
      "    260                     else child.W_q\n",
      "--> 261                     if hasattr(child, \"W_q\")\n",
      "    262                     else child.weight\n",
      "    263                     if hasattr(child, \"weight\")\n",
      "\n"
     ]
    },
    {
     "name": "stdin",
     "output_type": "stream",
     "text": [
      "ipdb>  \n"
     ]
    },
    {
     "name": "stdout",
     "output_type": "stream",
     "text": [
      "> /scratch/scai/phd/aiz218323/anaconda3/envs/xc_nlg_2/lib/python3.9/site-packages/peft/tuners/lora/model.py(260)_replace_module()\n",
      "    258                     child.qweight\n",
      "    259                     if hasattr(child, \"qweight\")\n",
      "--> 260                     else child.W_q\n",
      "    261                     if hasattr(child, \"W_q\")\n",
      "    262                     else child.weight\n",
      "\n"
     ]
    },
    {
     "name": "stdin",
     "output_type": "stream",
     "text": [
      "ipdb>  \n"
     ]
    },
    {
     "name": "stdout",
     "output_type": "stream",
     "text": [
      "> /scratch/scai/phd/aiz218323/anaconda3/envs/xc_nlg_2/lib/python3.9/site-packages/peft/tuners/lora/model.py(263)_replace_module()\n",
      "    261                     if hasattr(child, \"W_q\")\n",
      "    262                     else child.weight\n",
      "--> 263                     if hasattr(child, \"weight\")\n",
      "    264                     else next(child.parameters())\n",
      "    265                 )\n",
      "\n"
     ]
    },
    {
     "name": "stdin",
     "output_type": "stream",
     "text": [
      "ipdb>  \n"
     ]
    },
    {
     "name": "stdout",
     "output_type": "stream",
     "text": [
      "> /scratch/scai/phd/aiz218323/anaconda3/envs/xc_nlg_2/lib/python3.9/site-packages/peft/tuners/lora/model.py(262)_replace_module()\n",
      "    260                     else child.W_q\n",
      "    261                     if hasattr(child, \"W_q\")\n",
      "--> 262                     else child.weight\n",
      "    263                     if hasattr(child, \"weight\")\n",
      "    264                     else next(child.parameters())\n",
      "\n"
     ]
    },
    {
     "name": "stdin",
     "output_type": "stream",
     "text": [
      "ipdb>  \n"
     ]
    },
    {
     "name": "stdout",
     "output_type": "stream",
     "text": [
      "> /scratch/scai/phd/aiz218323/anaconda3/envs/xc_nlg_2/lib/python3.9/site-packages/peft/tuners/lora/model.py(257)_replace_module()\n",
      "    255         for name, module in new_module.named_modules():\n",
      "    256             if (self.prefix in name) or (\"ranknum\" in name):\n",
      "--> 257                 weight = (\n",
      "    258                     child.qweight\n",
      "    259                     if hasattr(child, \"qweight\")\n",
      "\n"
     ]
    },
    {
     "name": "stdin",
     "output_type": "stream",
     "text": [
      "ipdb>  \n"
     ]
    },
    {
     "name": "stdout",
     "output_type": "stream",
     "text": [
      "> /scratch/scai/phd/aiz218323/anaconda3/envs/xc_nlg_2/lib/python3.9/site-packages/peft/tuners/lora/model.py(266)_replace_module()\n",
      "    264                     else next(child.parameters())\n",
      "    265                 )\n",
      "--> 266                 module.to(weight.device)\n",
      "    267 \n",
      "    268     def _mark_only_adapters_as_trainable(self, model: nn.Module) -> None:\n",
      "\n"
     ]
    },
    {
     "name": "stdin",
     "output_type": "stream",
     "text": [
      "ipdb>  \n"
     ]
    },
    {
     "name": "stdout",
     "output_type": "stream",
     "text": [
      "> /scratch/scai/phd/aiz218323/anaconda3/envs/xc_nlg_2/lib/python3.9/site-packages/peft/tuners/lora/model.py(255)_replace_module()\n",
      "    253 \n",
      "    254         # dispatch to correct device\n",
      "--> 255         for name, module in new_module.named_modules():\n",
      "    256             if (self.prefix in name) or (\"ranknum\" in name):\n",
      "    257                 weight = (\n",
      "\n"
     ]
    },
    {
     "name": "stdin",
     "output_type": "stream",
     "text": [
      "ipdb>  \n"
     ]
    },
    {
     "name": "stdout",
     "output_type": "stream",
     "text": [
      "> /scratch/scai/phd/aiz218323/anaconda3/envs/xc_nlg_2/lib/python3.9/site-packages/peft/tuners/lora/model.py(256)_replace_module()\n",
      "    254         # dispatch to correct device\n",
      "    255         for name, module in new_module.named_modules():\n",
      "--> 256             if (self.prefix in name) or (\"ranknum\" in name):\n",
      "    257                 weight = (\n",
      "    258                     child.qweight\n",
      "\n"
     ]
    },
    {
     "name": "stdin",
     "output_type": "stream",
     "text": [
      "ipdb>  \n"
     ]
    },
    {
     "name": "stdout",
     "output_type": "stream",
     "text": [
      "> /scratch/scai/phd/aiz218323/anaconda3/envs/xc_nlg_2/lib/python3.9/site-packages/peft/tuners/lora/model.py(259)_replace_module()\n",
      "    257                 weight = (\n",
      "    258                     child.qweight\n",
      "--> 259                     if hasattr(child, \"qweight\")\n",
      "    260                     else child.W_q\n",
      "    261                     if hasattr(child, \"W_q\")\n",
      "\n"
     ]
    },
    {
     "name": "stdin",
     "output_type": "stream",
     "text": [
      "ipdb>  \n"
     ]
    },
    {
     "name": "stdout",
     "output_type": "stream",
     "text": [
      "> /scratch/scai/phd/aiz218323/anaconda3/envs/xc_nlg_2/lib/python3.9/site-packages/peft/tuners/lora/model.py(258)_replace_module()\n",
      "    256             if (self.prefix in name) or (\"ranknum\" in name):\n",
      "    257                 weight = (\n",
      "--> 258                     child.qweight\n",
      "    259                     if hasattr(child, \"qweight\")\n",
      "    260                     else child.W_q\n",
      "\n"
     ]
    },
    {
     "name": "stdin",
     "output_type": "stream",
     "text": [
      "ipdb>  \n"
     ]
    },
    {
     "name": "stdout",
     "output_type": "stream",
     "text": [
      "> /scratch/scai/phd/aiz218323/anaconda3/envs/xc_nlg_2/lib/python3.9/site-packages/peft/tuners/lora/model.py(261)_replace_module()\n",
      "    259                     if hasattr(child, \"qweight\")\n",
      "    260                     else child.W_q\n",
      "--> 261                     if hasattr(child, \"W_q\")\n",
      "    262                     else child.weight\n",
      "    263                     if hasattr(child, \"weight\")\n",
      "\n"
     ]
    },
    {
     "name": "stdin",
     "output_type": "stream",
     "text": [
      "ipdb>  \n"
     ]
    },
    {
     "name": "stdout",
     "output_type": "stream",
     "text": [
      "> /scratch/scai/phd/aiz218323/anaconda3/envs/xc_nlg_2/lib/python3.9/site-packages/peft/tuners/lora/model.py(260)_replace_module()\n",
      "    258                     child.qweight\n",
      "    259                     if hasattr(child, \"qweight\")\n",
      "--> 260                     else child.W_q\n",
      "    261                     if hasattr(child, \"W_q\")\n",
      "    262                     else child.weight\n",
      "\n"
     ]
    },
    {
     "name": "stdin",
     "output_type": "stream",
     "text": [
      "ipdb>  \n"
     ]
    },
    {
     "name": "stdout",
     "output_type": "stream",
     "text": [
      "> /scratch/scai/phd/aiz218323/anaconda3/envs/xc_nlg_2/lib/python3.9/site-packages/peft/tuners/lora/model.py(263)_replace_module()\n",
      "    261                     if hasattr(child, \"W_q\")\n",
      "    262                     else child.weight\n",
      "--> 263                     if hasattr(child, \"weight\")\n",
      "    264                     else next(child.parameters())\n",
      "    265                 )\n",
      "\n"
     ]
    },
    {
     "name": "stdin",
     "output_type": "stream",
     "text": [
      "ipdb>  \n"
     ]
    },
    {
     "name": "stdout",
     "output_type": "stream",
     "text": [
      "> /scratch/scai/phd/aiz218323/anaconda3/envs/xc_nlg_2/lib/python3.9/site-packages/peft/tuners/lora/model.py(262)_replace_module()\n",
      "    260                     else child.W_q\n",
      "    261                     if hasattr(child, \"W_q\")\n",
      "--> 262                     else child.weight\n",
      "    263                     if hasattr(child, \"weight\")\n",
      "    264                     else next(child.parameters())\n",
      "\n"
     ]
    },
    {
     "name": "stdin",
     "output_type": "stream",
     "text": [
      "ipdb>  \n"
     ]
    },
    {
     "name": "stdout",
     "output_type": "stream",
     "text": [
      "> /scratch/scai/phd/aiz218323/anaconda3/envs/xc_nlg_2/lib/python3.9/site-packages/peft/tuners/lora/model.py(257)_replace_module()\n",
      "    255         for name, module in new_module.named_modules():\n",
      "    256             if (self.prefix in name) or (\"ranknum\" in name):\n",
      "--> 257                 weight = (\n",
      "    258                     child.qweight\n",
      "    259                     if hasattr(child, \"qweight\")\n",
      "\n"
     ]
    },
    {
     "name": "stdin",
     "output_type": "stream",
     "text": [
      "ipdb>  r\n"
     ]
    },
    {
     "name": "stdout",
     "output_type": "stream",
     "text": [
      "--Return--\n",
      "None\n",
      "> /scratch/scai/phd/aiz218323/anaconda3/envs/xc_nlg_2/lib/python3.9/site-packages/peft/tuners/lora/model.py(255)_replace_module()\n",
      "    253 \n",
      "    254         # dispatch to correct device\n",
      "--> 255         for name, module in new_module.named_modules():\n",
      "    256             if (self.prefix in name) or (\"ranknum\" in name):\n",
      "    257                 weight = (\n",
      "\n"
     ]
    },
    {
     "name": "stdin",
     "output_type": "stream",
     "text": [
      "ipdb>  n\n"
     ]
    },
    {
     "name": "stdout",
     "output_type": "stream",
     "text": [
      "--Return--\n",
      "None\n",
      "> /scratch/scai/phd/aiz218323/anaconda3/envs/xc_nlg_2/lib/python3.9/site-packages/peft/tuners/lora/model.py(228)_create_and_replace()\n",
      "    226                 # adding an additional adapter: it is not automatically trainable\n",
      "    227                 new_module.requires_grad_(False)\n",
      "--> 228             self._replace_module(parent, target_name, new_module, target)\n",
      "    229 \n",
      "    230     def _replace_module(self, parent, child_name, new_module, child):\n",
      "\n"
     ]
    },
    {
     "name": "stdin",
     "output_type": "stream",
     "text": [
      "ipdb>  n\n"
     ]
    },
    {
     "name": "stdout",
     "output_type": "stream",
     "text": [
      "> /scratch/scai/phd/aiz218323/anaconda3/envs/xc_nlg_2/lib/python3.9/site-packages/peft/tuners/tuners_utils.py(408)inject_adapter()\n",
      "    406         peft_config = _maybe_include_all_linear_layers(peft_config, model)\n",
      "    407 \n",
      "--> 408         for key in key_list:\n",
      "    409             # Check for modules_to_save in case\n",
      "    410             if _check_for_modules_to_save and any(\n",
      "\n"
     ]
    },
    {
     "name": "stdin",
     "output_type": "stream",
     "text": [
      "ipdb>  n\n"
     ]
    },
    {
     "name": "stdout",
     "output_type": "stream",
     "text": [
      "> /scratch/scai/phd/aiz218323/anaconda3/envs/xc_nlg_2/lib/python3.9/site-packages/peft/tuners/tuners_utils.py(410)inject_adapter()\n",
      "    408         for key in key_list:\n",
      "    409             # Check for modules_to_save in case\n",
      "--> 410             if _check_for_modules_to_save and any(\n",
      "    411                 key.endswith(f\"{module_to_save}\") for module_to_save in peft_config.modules_to_save\n",
      "    412             ):\n",
      "\n"
     ]
    },
    {
     "name": "stdin",
     "output_type": "stream",
     "text": [
      "ipdb>  \n"
     ]
    },
    {
     "name": "stdout",
     "output_type": "stream",
     "text": [
      "> /scratch/scai/phd/aiz218323/anaconda3/envs/xc_nlg_2/lib/python3.9/site-packages/peft/tuners/tuners_utils.py(425)inject_adapter()\n",
      "    423                 continue\n",
      "    424 \n",
      "--> 425             if not self._check_target_module_exists(peft_config, key):\n",
      "    426                 continue\n",
      "    427 \n",
      "\n"
     ]
    },
    {
     "name": "stdin",
     "output_type": "stream",
     "text": [
      "ipdb>  r\n"
     ]
    },
    {
     "name": "stdout",
     "output_type": "stream",
     "text": [
      "> /scratch/scai/phd/aiz218323/anaconda3/envs/xc_nlg_2/lib/python3.9/site-packages/peft/tuners/tuners_utils.py(428)inject_adapter()\n",
      "    426                 continue\n",
      "    427 \n",
      "3-> 428             self.targeted_module_names.append(key)\n",
      "    429             is_target_modules_in_base_model = True\n",
      "    430             parent, target, target_name = _get_submodules(model, key)\n",
      "\n"
     ]
    },
    {
     "name": "stdin",
     "output_type": "stream",
     "text": [
      "ipdb>  b\n"
     ]
    },
    {
     "name": "stdout",
     "output_type": "stream",
     "text": [
      "Num Type         Disp Enb   Where\n",
      "1   breakpoint   keep yes   at /scratch/scai/phd/aiz218323/anaconda3/envs/xc_nlg_2/lib/python3.9/site-packages/peft/tuners/tuners_utils.py:428\n",
      "\tbreakpoint already hit 4 times\n",
      "2   breakpoint   keep yes   at /scratch/scai/phd/aiz218323/anaconda3/envs/xc_nlg_2/lib/python3.9/site-packages/peft/tuners/tuners_utils.py:428\n",
      "3   breakpoint   keep yes   at /scratch/scai/phd/aiz218323/anaconda3/envs/xc_nlg_2/lib/python3.9/site-packages/peft/tuners/tuners_utils.py:428\n"
     ]
    },
    {
     "name": "stdin",
     "output_type": "stream",
     "text": [
      "ipdb>  disable 1\n"
     ]
    },
    {
     "name": "stdout",
     "output_type": "stream",
     "text": [
      "Disabled breakpoint 1 at /scratch/scai/phd/aiz218323/anaconda3/envs/xc_nlg_2/lib/python3.9/site-packages/peft/tuners/tuners_utils.py:428\n"
     ]
    },
    {
     "name": "stdin",
     "output_type": "stream",
     "text": [
      "ipdb>  disable 2\n"
     ]
    },
    {
     "name": "stdout",
     "output_type": "stream",
     "text": [
      "Disabled breakpoint 2 at /scratch/scai/phd/aiz218323/anaconda3/envs/xc_nlg_2/lib/python3.9/site-packages/peft/tuners/tuners_utils.py:428\n"
     ]
    },
    {
     "name": "stdin",
     "output_type": "stream",
     "text": [
      "ipdb>  disable 3\n"
     ]
    },
    {
     "name": "stdout",
     "output_type": "stream",
     "text": [
      "Disabled breakpoint 3 at /scratch/scai/phd/aiz218323/anaconda3/envs/xc_nlg_2/lib/python3.9/site-packages/peft/tuners/tuners_utils.py:428\n"
     ]
    },
    {
     "name": "stdin",
     "output_type": "stream",
     "text": [
      "ipdb>  r\n"
     ]
    },
    {
     "name": "stdout",
     "output_type": "stream",
     "text": [
      "--Return--\n",
      "None\n",
      "> /scratch/scai/phd/aiz218323/anaconda3/envs/xc_nlg_2/lib/python3.9/site-packages/peft/tuners/tuners_utils.py(451)inject_adapter()\n",
      "    449                     p.requires_grad = False\n",
      "    450 \n",
      "--> 451         if _has_modules_to_save:\n",
      "    452             if not hasattr(model, \"modules_to_save\"):\n",
      "    453                 model.modules_to_save = set(peft_config.modules_to_save)\n",
      "\n"
     ]
    },
    {
     "name": "stdin",
     "output_type": "stream",
     "text": [
      "ipdb>  n\n"
     ]
    },
    {
     "name": "stdout",
     "output_type": "stream",
     "text": [
      "> /scratch/scai/phd/aiz218323/anaconda3/envs/xc_nlg_2/lib/python3.9/site-packages/peft/tuners/tuners_utils.py(178)__init__()\n",
      "    176 \n",
      "    177         # Copy the peft_config in the injected model.\n",
      "--> 178         self.model.peft_config = self.peft_config\n",
      "    179 \n",
      "    180     @property\n",
      "\n"
     ]
    },
    {
     "name": "stdin",
     "output_type": "stream",
     "text": [
      "ipdb>  \n"
     ]
    },
    {
     "name": "stdout",
     "output_type": "stream",
     "text": [
      "--Return--\n",
      "None\n",
      "> /scratch/scai/phd/aiz218323/anaconda3/envs/xc_nlg_2/lib/python3.9/site-packages/peft/tuners/tuners_utils.py(178)__init__()\n",
      "    176 \n",
      "    177         # Copy the peft_config in the injected model.\n",
      "--> 178         self.model.peft_config = self.peft_config\n",
      "    179 \n",
      "    180     @property\n",
      "\n"
     ]
    },
    {
     "name": "stdin",
     "output_type": "stream",
     "text": [
      "ipdb>  \n"
     ]
    },
    {
     "name": "stdout",
     "output_type": "stream",
     "text": [
      "--Return--\n",
      "None\n",
      "> /scratch/scai/phd/aiz218323/anaconda3/envs/xc_nlg_2/lib/python3.9/site-packages/peft/tuners/lora/model.py(139)__init__()\n",
      "    137 \n",
      "    138     def __init__(self, model, config, adapter_name) -> None:\n",
      "--> 139         super().__init__(model, config, adapter_name)\n",
      "    140 \n",
      "    141     def _check_new_adapter_config(self, config: LoraConfig) -> None:\n",
      "\n"
     ]
    },
    {
     "name": "stdin",
     "output_type": "stream",
     "text": [
      "ipdb>  \n"
     ]
    },
    {
     "name": "stdout",
     "output_type": "stream",
     "text": [
      "--Call--\n",
      "> /scratch/scai/phd/aiz218323/anaconda3/envs/xc_nlg/lib/python3.9/site-packages/torch/nn/modules/module.py(1690)__setattr__()\n",
      "   1688         raise AttributeError(f\"'{type(self).__name__}' object has no attribute '{name}'\")\n",
      "   1689 \n",
      "-> 1690     def __setattr__(self, name: str, value: Union[Tensor, 'Module']) -> None:\n",
      "   1691         def remove_from(*dicts_or_sets):\n",
      "   1692             for d in dicts_or_sets:\n",
      "\n"
     ]
    },
    {
     "name": "stdin",
     "output_type": "stream",
     "text": [
      "ipdb>  \n"
     ]
    },
    {
     "name": "stdout",
     "output_type": "stream",
     "text": [
      "> /scratch/scai/phd/aiz218323/anaconda3/envs/xc_nlg/lib/python3.9/site-packages/torch/nn/modules/module.py(1691)__setattr__()\n",
      "   1689 \n",
      "   1690     def __setattr__(self, name: str, value: Union[Tensor, 'Module']) -> None:\n",
      "-> 1691         def remove_from(*dicts_or_sets):\n",
      "   1692             for d in dicts_or_sets:\n",
      "   1693                 if name in d:\n",
      "\n"
     ]
    },
    {
     "name": "stdin",
     "output_type": "stream",
     "text": [
      "ipdb>  \n"
     ]
    },
    {
     "name": "stdout",
     "output_type": "stream",
     "text": [
      "> /scratch/scai/phd/aiz218323/anaconda3/envs/xc_nlg/lib/python3.9/site-packages/torch/nn/modules/module.py(1699)__setattr__()\n",
      "   1697                         d.discard(name)\n",
      "   1698 \n",
      "-> 1699         params = self.__dict__.get('_parameters')\n",
      "   1700         if isinstance(value, Parameter):\n",
      "   1701             if params is None:\n",
      "\n"
     ]
    },
    {
     "name": "stdin",
     "output_type": "stream",
     "text": [
      "ipdb>  \n"
     ]
    },
    {
     "name": "stdout",
     "output_type": "stream",
     "text": [
      "> /scratch/scai/phd/aiz218323/anaconda3/envs/xc_nlg/lib/python3.9/site-packages/torch/nn/modules/module.py(1700)__setattr__()\n",
      "   1698 \n",
      "   1699         params = self.__dict__.get('_parameters')\n",
      "-> 1700         if isinstance(value, Parameter):\n",
      "   1701             if params is None:\n",
      "   1702                 raise AttributeError(\n",
      "\n"
     ]
    },
    {
     "name": "stdin",
     "output_type": "stream",
     "text": [
      "ipdb>  \n"
     ]
    },
    {
     "name": "stdout",
     "output_type": "stream",
     "text": [
      "> /scratch/scai/phd/aiz218323/anaconda3/envs/xc_nlg/lib/python3.9/site-packages/torch/nn/modules/module.py(1706)__setattr__()\n",
      "   1704             remove_from(self.__dict__, self._buffers, self._modules, self._non_persistent_buffers_set)\n",
      "   1705             self.register_parameter(name, value)\n",
      "-> 1706         elif params is not None and name in params:\n",
      "   1707             if value is not None:\n",
      "   1708                 raise TypeError(f\"cannot assign '{torch.typename(value)}' as parameter '{name}' \"\n",
      "\n"
     ]
    },
    {
     "name": "stdin",
     "output_type": "stream",
     "text": [
      "ipdb>  \n"
     ]
    },
    {
     "name": "stdout",
     "output_type": "stream",
     "text": [
      "> /scratch/scai/phd/aiz218323/anaconda3/envs/xc_nlg/lib/python3.9/site-packages/torch/nn/modules/module.py(1713)__setattr__()\n",
      "   1711             self.register_parameter(name, value)\n",
      "   1712         else:\n",
      "-> 1713             modules = self.__dict__.get('_modules')\n",
      "   1714             if isinstance(value, Module):\n",
      "   1715                 if modules is None:\n",
      "\n"
     ]
    },
    {
     "name": "stdin",
     "output_type": "stream",
     "text": [
      "ipdb>  \n"
     ]
    },
    {
     "name": "stdout",
     "output_type": "stream",
     "text": [
      "> /scratch/scai/phd/aiz218323/anaconda3/envs/xc_nlg/lib/python3.9/site-packages/torch/nn/modules/module.py(1714)__setattr__()\n",
      "   1712         else:\n",
      "   1713             modules = self.__dict__.get('_modules')\n",
      "-> 1714             if isinstance(value, Module):\n",
      "   1715                 if modules is None:\n",
      "   1716                     raise AttributeError(\n",
      "\n"
     ]
    },
    {
     "name": "stdin",
     "output_type": "stream",
     "text": [
      "ipdb>  \n"
     ]
    },
    {
     "name": "stdout",
     "output_type": "stream",
     "text": [
      "> /scratch/scai/phd/aiz218323/anaconda3/envs/xc_nlg/lib/python3.9/site-packages/torch/nn/modules/module.py(1715)__setattr__()\n",
      "   1713             modules = self.__dict__.get('_modules')\n",
      "   1714             if isinstance(value, Module):\n",
      "-> 1715                 if modules is None:\n",
      "   1716                     raise AttributeError(\n",
      "   1717                         \"cannot assign module before Module.__init__() call\")\n",
      "\n"
     ]
    },
    {
     "name": "stdin",
     "output_type": "stream",
     "text": [
      "ipdb>  \n"
     ]
    },
    {
     "name": "stdout",
     "output_type": "stream",
     "text": [
      "> /scratch/scai/phd/aiz218323/anaconda3/envs/xc_nlg/lib/python3.9/site-packages/torch/nn/modules/module.py(1718)__setattr__()\n",
      "   1716                     raise AttributeError(\n",
      "   1717                         \"cannot assign module before Module.__init__() call\")\n",
      "-> 1718                 remove_from(self.__dict__, self._parameters, self._buffers, self._non_persistent_buffers_set)\n",
      "   1719                 for hook in _global_module_registration_hooks.values():\n",
      "   1720                     output = hook(self, name, value)\n",
      "\n"
     ]
    },
    {
     "name": "stdin",
     "output_type": "stream",
     "text": [
      "ipdb>  c\n"
     ]
    },
    {
     "name": "stdout",
     "output_type": "stream",
     "text": [
      "    [... skipped 1 hidden frame]\n",
      "\n",
      "    [... skipped 1 hidden frame]\n",
      "\n",
      "    [... skipped 1 hidden frame]\n",
      "\n",
      "    [... skipped 1 hidden frame]\n",
      "\n"
     ]
    }
   ],
   "source": [
    "o = func()"
   ]
  },
  {
   "cell_type": "code",
   "execution_count": null,
   "id": "5b1bc557-aa42-4cb8-a60f-09d89cb673c4",
   "metadata": {},
   "outputs": [],
   "source": []
  },
  {
   "cell_type": "markdown",
   "id": "8d05d5f7-78b7-46b7-8db8-66451e4e80f6",
   "metadata": {},
   "source": [
    "/scratch/scai/phd/aiz218323/anaconda3/envs/xc_nlg_2/lib/python3.9/site-packages/peft/tuners/tuners_utils.py:428\n",
    "\n",
    "self.inject_adapter(self.model, adapter_name)"
   ]
  },
  {
   "cell_type": "code",
   "execution_count": null,
   "id": "f8ae6c9f-9834-4de1-9a03-b3e6a1fbf7fd",
   "metadata": {},
   "outputs": [],
   "source": []
  },
  {
   "cell_type": "code",
   "execution_count": null,
   "id": "1aad4333-603e-465a-b36c-6b298565adcf",
   "metadata": {},
   "outputs": [
    {
     "name": "stdout",
     "output_type": "stream",
     "text": [
      "base_model.model.encoder.distilbert.transformer.layer.0.attention.q_lin.lora_A.default.weight\n",
      "base_model.model.encoder.distilbert.transformer.layer.0.attention.q_lin.lora_B.default.weight\n",
      "base_model.model.encoder.distilbert.transformer.layer.0.attention.k_lin.lora_A.default.weight\n",
      "base_model.model.encoder.distilbert.transformer.layer.0.attention.k_lin.lora_B.default.weight\n",
      "base_model.model.encoder.distilbert.transformer.layer.0.attention.v_lin.lora_A.default.weight\n",
      "base_model.model.encoder.distilbert.transformer.layer.0.attention.v_lin.lora_B.default.weight\n",
      "base_model.model.encoder.distilbert.transformer.layer.1.attention.q_lin.lora_A.default.weight\n",
      "base_model.model.encoder.distilbert.transformer.layer.1.attention.q_lin.lora_B.default.weight\n",
      "base_model.model.encoder.distilbert.transformer.layer.1.attention.k_lin.lora_A.default.weight\n",
      "base_model.model.encoder.distilbert.transformer.layer.1.attention.k_lin.lora_B.default.weight\n",
      "base_model.model.encoder.distilbert.transformer.layer.1.attention.v_lin.lora_A.default.weight\n",
      "base_model.model.encoder.distilbert.transformer.layer.1.attention.v_lin.lora_B.default.weight\n",
      "base_model.model.encoder.distilbert.transformer.layer.2.attention.q_lin.lora_A.default.weight\n",
      "base_model.model.encoder.distilbert.transformer.layer.2.attention.q_lin.lora_B.default.weight\n",
      "base_model.model.encoder.distilbert.transformer.layer.2.attention.k_lin.lora_A.default.weight\n",
      "base_model.model.encoder.distilbert.transformer.layer.2.attention.k_lin.lora_B.default.weight\n",
      "base_model.model.encoder.distilbert.transformer.layer.2.attention.v_lin.lora_A.default.weight\n",
      "base_model.model.encoder.distilbert.transformer.layer.2.attention.v_lin.lora_B.default.weight\n",
      "base_model.model.encoder.distilbert.transformer.layer.3.attention.q_lin.lora_A.default.weight\n",
      "base_model.model.encoder.distilbert.transformer.layer.3.attention.q_lin.lora_B.default.weight\n",
      "base_model.model.encoder.distilbert.transformer.layer.3.attention.k_lin.lora_A.default.weight\n",
      "base_model.model.encoder.distilbert.transformer.layer.3.attention.k_lin.lora_B.default.weight\n",
      "base_model.model.encoder.distilbert.transformer.layer.3.attention.v_lin.lora_A.default.weight\n",
      "base_model.model.encoder.distilbert.transformer.layer.3.attention.v_lin.lora_B.default.weight\n",
      "base_model.model.encoder.distilbert.transformer.layer.4.attention.q_lin.lora_A.default.weight\n",
      "base_model.model.encoder.distilbert.transformer.layer.4.attention.q_lin.lora_B.default.weight\n",
      "base_model.model.encoder.distilbert.transformer.layer.4.attention.k_lin.lora_A.default.weight\n",
      "base_model.model.encoder.distilbert.transformer.layer.4.attention.k_lin.lora_B.default.weight\n",
      "base_model.model.encoder.distilbert.transformer.layer.4.attention.v_lin.lora_A.default.weight\n",
      "base_model.model.encoder.distilbert.transformer.layer.4.attention.v_lin.lora_B.default.weight\n",
      "base_model.model.encoder.distilbert.transformer.layer.5.attention.q_lin.lora_A.default.weight\n",
      "base_model.model.encoder.distilbert.transformer.layer.5.attention.q_lin.lora_B.default.weight\n",
      "base_model.model.encoder.distilbert.transformer.layer.5.attention.k_lin.lora_A.default.weight\n",
      "base_model.model.encoder.distilbert.transformer.layer.5.attention.k_lin.lora_B.default.weight\n",
      "base_model.model.encoder.distilbert.transformer.layer.5.attention.v_lin.lora_A.default.weight\n",
      "base_model.model.encoder.distilbert.transformer.layer.5.attention.v_lin.lora_B.default.weight\n"
     ]
    }
   ],
   "source": [
    "for n,p in peft_model.named_parameters():\n",
    "    if p.requires_grad: print(n)"
   ]
  },
  {
   "cell_type": "code",
   "execution_count": null,
   "id": "308a12db-dc5a-43a3-9349-772a996b0175",
   "metadata": {},
   "outputs": [],
   "source": []
  },
  {
   "cell_type": "code",
   "execution_count": null,
   "id": "adfd7979-72d7-43aa-a3f4-4e88227c8b4b",
   "metadata": {},
   "outputs": [],
   "source": [
    "#| export\n",
    "for p in peft_model.parameters():\n",
    "    p.requires_grad_(True)"
   ]
  },
  {
   "cell_type": "code",
   "execution_count": null,
   "id": "acc91961-155e-4ff0-bc97-e034f2c9120d",
   "metadata": {},
   "outputs": [],
   "source": [
    "peft_model.base_model._mark_only_adapters_as_trainable(peft_model)"
   ]
  },
  {
   "cell_type": "code",
   "execution_count": null,
   "id": "690e7447-00b0-44d4-9dfe-62d865a013f9",
   "metadata": {},
   "outputs": [],
   "source": []
  },
  {
   "cell_type": "code",
   "execution_count": null,
   "id": "3f2d50a6",
   "metadata": {},
   "outputs": [
    {
     "name": "stderr",
     "output_type": "stream",
     "text": [
      "/scratch/scai/phd/aiz218323/anaconda3/envs/xc_nlg/lib/python3.9/site-packages/accelerate/accelerator.py:432: FutureWarning: Passing the following arguments to `Accelerator` is deprecated and will be removed in version 1.0 of Accelerate: dict_keys(['dispatch_batches', 'split_batches', 'even_batches', 'use_seedable_sampler']). Please pass an `accelerate.DataLoaderConfiguration` instead: \n",
      "dataloader_config = DataLoaderConfiguration(dispatch_batches=None, split_batches=False, even_batches=True, use_seedable_sampler=True)\n",
      "  warnings.warn(\n",
      "Detected kernel version 3.10.0, which is below the recommended minimum of 5.5.0; this can cause the process to hang. It is recommended to upgrade the kernel to the minimum version or higher.\n"
     ]
    }
   ],
   "source": [
    "#| export\n",
    "learn = XCLearner(\n",
    "    model=peft_model, \n",
    "    args=args,\n",
    "    train_dataset=block.train.dset,\n",
    "    eval_dataset=block.test.dset,\n",
    "    data_collator=block.collator,\n",
    "    compute_metrics=metric,\n",
    ")"
   ]
  },
  {
   "cell_type": "code",
   "execution_count": null,
   "id": "7416d136",
   "metadata": {},
   "outputs": [
    {
     "name": "stderr",
     "output_type": "stream",
     "text": [
      "Failed to detect the name of this notebook, you can set it manually with the WANDB_NOTEBOOK_NAME environment variable to enable code saving.\n"
     ]
    },
    {
     "data": {
      "application/vnd.jupyter.widget-view+json": {
       "model_id": "13c947057c0843a6a4d4944b6db46bba",
       "version_major": 2,
       "version_minor": 0
      },
      "text/plain": [
       "  0%|          | 0/347 [00:00<?, ?it/s]"
      ]
     },
     "metadata": {},
     "output_type": "display_data"
    }
   ],
   "source": [
    "learn.train()"
   ]
  },
  {
   "cell_type": "code",
   "execution_count": null,
   "id": "edb2296b",
   "metadata": {},
   "outputs": [],
   "source": []
  },
  {
   "cell_type": "code",
   "execution_count": null,
   "id": "d14a8c4d",
   "metadata": {},
   "outputs": [],
   "source": [
    "#| export\n",
    "if __name__ == '__main__':\n",
    "    mp.freeze_support()\n",
    "    learn.train()"
   ]
  },
  {
   "cell_type": "markdown",
   "id": "804dd454",
   "metadata": {},
   "source": [
    "## Prediction"
   ]
  },
  {
   "cell_type": "code",
   "execution_count": null,
   "id": "7e482e7e",
   "metadata": {},
   "outputs": [],
   "source": [
    "args = XCLearningArguments(\n",
    "    output_dir='/home/scai/phd/aiz218323/scratch/outputs/59-ngame-ep-for-wikiseealso-with-cls-for-dr-1-1',\n",
    "    logging_first_step=True,\n",
    "    per_device_train_batch_size=800,\n",
    "    per_device_eval_batch_size=800,\n",
    "    representation_num_beams=200,\n",
    "    representation_accumulation_steps=100,\n",
    "    predict_with_representation=True,\n",
    "    representation_search_type='BRUTEFORCE',\n",
    "    target_indices_key='plbl2data_idx',\n",
    "    target_pointer_key='plbl2data_data2ptr',\n",
    "    use_encoder_parallel=True,\n",
    "    fp16=True,\n",
    ")"
   ]
  },
  {
   "cell_type": "code",
   "execution_count": null,
   "id": "dc399052",
   "metadata": {},
   "outputs": [],
   "source": [
    "output_dir = f\"/home/scai/phd/aiz218323/scratch/outputs/{os.path.basename(args.output_dir)}\"\n",
    "mname = f'{output_dir}/{os.path.basename(get_best_model(output_dir))}'"
   ]
  },
  {
   "cell_type": "code",
   "execution_count": null,
   "id": "f31a2193",
   "metadata": {},
   "outputs": [
    {
     "name": "stderr",
     "output_type": "stream",
     "text": [
      "Some weights of DBT009 were not initialized from the model checkpoint at sentence-transformers/msmarco-distilbert-base-v4 and are newly initialized: ['encoder.dr_layer_norm.bias', 'encoder.dr_layer_norm.weight', 'encoder.dr_projector.bias', 'encoder.dr_projector.weight', 'encoder.dr_transform.bias', 'encoder.dr_transform.weight']\n",
      "You should probably TRAIN this model on a down-stream task to be able to use it for predictions and inference.\n"
     ]
    }
   ],
   "source": [
    "bsz = max(args.per_device_train_batch_size, args.per_device_eval_batch_size)*torch.cuda.device_count()\n",
    "\n",
    "model = DBT009.from_pretrained('sentence-transformers/msmarco-distilbert-base-v4', bsz=bsz, tn_targ=5000, margin=0.3, tau=0.1,\n",
    "                               n_negatives=10, apply_softmax=True, use_encoder_parallel=True)"
   ]
  },
  {
   "cell_type": "code",
   "execution_count": null,
   "id": "86c3e381-5e85-4411-99a0-54413275e928",
   "metadata": {},
   "outputs": [],
   "source": [
    "from safetensors import safe_open\n",
    "\n",
    "model_weight_file = f'{mname}/model.safetensors'\n",
    "\n",
    "model_weights = {}\n",
    "with safe_open(model_weight_file, framework=\"pt\") as file:\n",
    "    for k in file.keys(): model_weights[k] = file.get_tensor(k)\n",
    "        "
   ]
  },
  {
   "cell_type": "code",
   "execution_count": null,
   "id": "6ec1bd6b-1778-4805-910e-63e921ca950e",
   "metadata": {},
   "outputs": [
    {
     "data": {
      "text/plain": [
       "_IncompatibleKeys(missing_keys=['distilbert.embeddings.word_embeddings.weight', 'distilbert.embeddings.position_embeddings.weight', 'distilbert.embeddings.LayerNorm.weight', 'distilbert.embeddings.LayerNorm.bias', 'distilbert.transformer.layer.0.attention.q_lin.weight', 'distilbert.transformer.layer.0.attention.q_lin.bias', 'distilbert.transformer.layer.0.attention.k_lin.weight', 'distilbert.transformer.layer.0.attention.k_lin.bias', 'distilbert.transformer.layer.0.attention.v_lin.weight', 'distilbert.transformer.layer.0.attention.v_lin.bias', 'distilbert.transformer.layer.0.attention.out_lin.weight', 'distilbert.transformer.layer.0.attention.out_lin.bias', 'distilbert.transformer.layer.0.sa_layer_norm.weight', 'distilbert.transformer.layer.0.sa_layer_norm.bias', 'distilbert.transformer.layer.0.ffn.lin1.weight', 'distilbert.transformer.layer.0.ffn.lin1.bias', 'distilbert.transformer.layer.0.ffn.lin2.weight', 'distilbert.transformer.layer.0.ffn.lin2.bias', 'distilbert.transformer.layer.0.output_layer_norm.weight', 'distilbert.transformer.layer.0.output_layer_norm.bias', 'distilbert.transformer.layer.1.attention.q_lin.weight', 'distilbert.transformer.layer.1.attention.q_lin.bias', 'distilbert.transformer.layer.1.attention.k_lin.weight', 'distilbert.transformer.layer.1.attention.k_lin.bias', 'distilbert.transformer.layer.1.attention.v_lin.weight', 'distilbert.transformer.layer.1.attention.v_lin.bias', 'distilbert.transformer.layer.1.attention.out_lin.weight', 'distilbert.transformer.layer.1.attention.out_lin.bias', 'distilbert.transformer.layer.1.sa_layer_norm.weight', 'distilbert.transformer.layer.1.sa_layer_norm.bias', 'distilbert.transformer.layer.1.ffn.lin1.weight', 'distilbert.transformer.layer.1.ffn.lin1.bias', 'distilbert.transformer.layer.1.ffn.lin2.weight', 'distilbert.transformer.layer.1.ffn.lin2.bias', 'distilbert.transformer.layer.1.output_layer_norm.weight', 'distilbert.transformer.layer.1.output_layer_norm.bias', 'distilbert.transformer.layer.2.attention.q_lin.weight', 'distilbert.transformer.layer.2.attention.q_lin.bias', 'distilbert.transformer.layer.2.attention.k_lin.weight', 'distilbert.transformer.layer.2.attention.k_lin.bias', 'distilbert.transformer.layer.2.attention.v_lin.weight', 'distilbert.transformer.layer.2.attention.v_lin.bias', 'distilbert.transformer.layer.2.attention.out_lin.weight', 'distilbert.transformer.layer.2.attention.out_lin.bias', 'distilbert.transformer.layer.2.sa_layer_norm.weight', 'distilbert.transformer.layer.2.sa_layer_norm.bias', 'distilbert.transformer.layer.2.ffn.lin1.weight', 'distilbert.transformer.layer.2.ffn.lin1.bias', 'distilbert.transformer.layer.2.ffn.lin2.weight', 'distilbert.transformer.layer.2.ffn.lin2.bias', 'distilbert.transformer.layer.2.output_layer_norm.weight', 'distilbert.transformer.layer.2.output_layer_norm.bias', 'distilbert.transformer.layer.3.attention.q_lin.weight', 'distilbert.transformer.layer.3.attention.q_lin.bias', 'distilbert.transformer.layer.3.attention.k_lin.weight', 'distilbert.transformer.layer.3.attention.k_lin.bias', 'distilbert.transformer.layer.3.attention.v_lin.weight', 'distilbert.transformer.layer.3.attention.v_lin.bias', 'distilbert.transformer.layer.3.attention.out_lin.weight', 'distilbert.transformer.layer.3.attention.out_lin.bias', 'distilbert.transformer.layer.3.sa_layer_norm.weight', 'distilbert.transformer.layer.3.sa_layer_norm.bias', 'distilbert.transformer.layer.3.ffn.lin1.weight', 'distilbert.transformer.layer.3.ffn.lin1.bias', 'distilbert.transformer.layer.3.ffn.lin2.weight', 'distilbert.transformer.layer.3.ffn.lin2.bias', 'distilbert.transformer.layer.3.output_layer_norm.weight', 'distilbert.transformer.layer.3.output_layer_norm.bias', 'distilbert.transformer.layer.4.attention.q_lin.weight', 'distilbert.transformer.layer.4.attention.q_lin.bias', 'distilbert.transformer.layer.4.attention.k_lin.weight', 'distilbert.transformer.layer.4.attention.k_lin.bias', 'distilbert.transformer.layer.4.attention.v_lin.weight', 'distilbert.transformer.layer.4.attention.v_lin.bias', 'distilbert.transformer.layer.4.attention.out_lin.weight', 'distilbert.transformer.layer.4.attention.out_lin.bias', 'distilbert.transformer.layer.4.sa_layer_norm.weight', 'distilbert.transformer.layer.4.sa_layer_norm.bias', 'distilbert.transformer.layer.4.ffn.lin1.weight', 'distilbert.transformer.layer.4.ffn.lin1.bias', 'distilbert.transformer.layer.4.ffn.lin2.weight', 'distilbert.transformer.layer.4.ffn.lin2.bias', 'distilbert.transformer.layer.4.output_layer_norm.weight', 'distilbert.transformer.layer.4.output_layer_norm.bias', 'distilbert.transformer.layer.5.attention.q_lin.weight', 'distilbert.transformer.layer.5.attention.q_lin.bias', 'distilbert.transformer.layer.5.attention.k_lin.weight', 'distilbert.transformer.layer.5.attention.k_lin.bias', 'distilbert.transformer.layer.5.attention.v_lin.weight', 'distilbert.transformer.layer.5.attention.v_lin.bias', 'distilbert.transformer.layer.5.attention.out_lin.weight', 'distilbert.transformer.layer.5.attention.out_lin.bias', 'distilbert.transformer.layer.5.sa_layer_norm.weight', 'distilbert.transformer.layer.5.sa_layer_norm.bias', 'distilbert.transformer.layer.5.ffn.lin1.weight', 'distilbert.transformer.layer.5.ffn.lin1.bias', 'distilbert.transformer.layer.5.ffn.lin2.weight', 'distilbert.transformer.layer.5.ffn.lin2.bias', 'distilbert.transformer.layer.5.output_layer_norm.weight', 'distilbert.transformer.layer.5.output_layer_norm.bias'], unexpected_keys=[])"
      ]
     },
     "execution_count": null,
     "metadata": {},
     "output_type": "execute_result"
    }
   ],
   "source": [
    "model.load_state_dict(model_weights, strict=False)"
   ]
  },
  {
   "cell_type": "code",
   "execution_count": null,
   "id": "accb2b2e",
   "metadata": {},
   "outputs": [],
   "source": [
    "metric = PrecRecl(block.n_lbl, block.test.data_lbl_filterer, prop=block.train.dset.data.data_lbl,\n",
    "                  pk=10, rk=200, rep_pk=[1, 3, 5, 10], rep_rk=[10, 100, 200])"
   ]
  },
  {
   "cell_type": "code",
   "execution_count": null,
   "id": "d7813b43-75d1-45d9-a715-a726a6bee2a4",
   "metadata": {},
   "outputs": [],
   "source": [
    "metric = PrecRecl(block.n_lbl, block.train.data_lbl_filterer, prop=block.train.dset.data.data_lbl,\n",
    "                  pk=10, rk=200, rep_pk=[1, 3, 5, 10], rep_rk=[10, 100, 200])"
   ]
  },
  {
   "cell_type": "code",
   "execution_count": null,
   "id": "8b57a038",
   "metadata": {},
   "outputs": [
    {
     "name": "stderr",
     "output_type": "stream",
     "text": [
      "/scratch/scai/phd/aiz218323/anaconda3/envs/xc_nlg/lib/python3.9/site-packages/accelerate/accelerator.py:432: FutureWarning: Passing the following arguments to `Accelerator` is deprecated and will be removed in version 1.0 of Accelerate: dict_keys(['dispatch_batches', 'split_batches', 'even_batches', 'use_seedable_sampler']). Please pass an `accelerate.DataLoaderConfiguration` instead: \n",
      "dataloader_config = DataLoaderConfiguration(dispatch_batches=None, split_batches=False, even_batches=True, use_seedable_sampler=True)\n",
      "  warnings.warn(\n",
      "Detected kernel version 3.10.0, which is below the recommended minimum of 5.5.0; this can cause the process to hang. It is recommended to upgrade the kernel to the minimum version or higher.\n"
     ]
    }
   ],
   "source": [
    "learn = XCLearner(\n",
    "    model=model, \n",
    "    args=args,\n",
    "    train_dataset=block.train.dset,\n",
    "    eval_dataset=block.test.dset,\n",
    "    data_collator=block.collator,\n",
    "    compute_metrics=metric,\n",
    ")"
   ]
  },
  {
   "cell_type": "code",
   "execution_count": null,
   "id": "41fee6bc",
   "metadata": {},
   "outputs": [
    {
     "data": {
      "application/vnd.jupyter.widget-view+json": {
       "model_id": "bd355a8fa0e446d0b6d8916627e894ae",
       "version_major": 2,
       "version_minor": 0
      },
      "text/plain": [
       "  0%|          | 0/391 [00:00<?, ?it/s]"
      ]
     },
     "metadata": {},
     "output_type": "display_data"
    },
    {
     "name": "stderr",
     "output_type": "stream",
     "text": [
      "/scratch/scai/phd/aiz218323/Projects/xcai/xcai/losses.py:22: UserWarning: Sparse CSR tensor support is in beta state. If you miss a functionality in the sparse tensor support, please submit a feature request to https://github.com/pytorch/pytorch/issues. (Triggered internally at ../aten/src/ATen/SparseCsrTensorImpl.cpp:53.)\n",
      "  return torch.sparse_csr_tensor(data_ptr, data_idx, scores, device=data_ptr.device)\n"
     ]
    },
    {
     "data": {
      "text/html": [],
      "text/plain": [
       "<IPython.core.display.HTML object>"
      ]
     },
     "metadata": {},
     "output_type": "display_data"
    },
    {
     "name": "stderr",
     "output_type": "stream",
     "text": [
      "/scratch/scai/phd/aiz218323/anaconda3/envs/xc_nlg/lib/python3.9/site-packages/scipy/sparse/_index.py:145: SparseEfficiencyWarning: Changing the sparsity structure of a csr_matrix is expensive. lil_matrix is more efficient.\n",
      "  self._set_arrayXarray(i, j, x)\n"
     ]
    }
   ],
   "source": [
    "o = learn.predict(block.test.dset)"
   ]
  },
  {
   "cell_type": "code",
   "execution_count": null,
   "id": "bd8e62f0",
   "metadata": {},
   "outputs": [
    {
     "data": {
      "text/html": [
       "<div>\n",
       "<style scoped>\n",
       "    .dataframe tbody tr th:only-of-type {\n",
       "        vertical-align: middle;\n",
       "    }\n",
       "\n",
       "    .dataframe tbody tr th {\n",
       "        vertical-align: top;\n",
       "    }\n",
       "\n",
       "    .dataframe thead th {\n",
       "        text-align: right;\n",
       "    }\n",
       "</style>\n",
       "<table border=\"1\" class=\"dataframe\">\n",
       "  <thead>\n",
       "    <tr style=\"text-align: right;\">\n",
       "      <th></th>\n",
       "      <th>P@1</th>\n",
       "      <th>P@3</th>\n",
       "      <th>P@5</th>\n",
       "      <th>P@10</th>\n",
       "      <th>N@1</th>\n",
       "      <th>N@3</th>\n",
       "      <th>N@5</th>\n",
       "      <th>N@10</th>\n",
       "      <th>PSP@1</th>\n",
       "      <th>PSP@3</th>\n",
       "      <th>PSP@5</th>\n",
       "      <th>PSP@10</th>\n",
       "      <th>PSN@1</th>\n",
       "      <th>PSN@3</th>\n",
       "      <th>PSN@5</th>\n",
       "      <th>PSN@10</th>\n",
       "      <th>R@10</th>\n",
       "      <th>R@100</th>\n",
       "      <th>R@200</th>\n",
       "      <th>loss</th>\n",
       "      <th>runtime</th>\n",
       "      <th>samples_per_second</th>\n",
       "      <th>steps_per_second</th>\n",
       "    </tr>\n",
       "  </thead>\n",
       "  <tbody>\n",
       "    <tr>\n",
       "      <th>0</th>\n",
       "      <td>30.9078</td>\n",
       "      <td>20.5532</td>\n",
       "      <td>15.5551</td>\n",
       "      <td>9.8319</td>\n",
       "      <td>30.9078</td>\n",
       "      <td>30.737</td>\n",
       "      <td>31.7741</td>\n",
       "      <td>33.5844</td>\n",
       "      <td>25.343</td>\n",
       "      <td>27.0596</td>\n",
       "      <td>29.0996</td>\n",
       "      <td>33.186</td>\n",
       "      <td>25.343</td>\n",
       "      <td>27.5471</td>\n",
       "      <td>29.1813</td>\n",
       "      <td>31.2599</td>\n",
       "      <td>38.2247</td>\n",
       "      <td>51.9416</td>\n",
       "      <td>55.1189</td>\n",
       "      <td>0.025</td>\n",
       "      <td>620.9983</td>\n",
       "      <td>285.854</td>\n",
       "      <td>0.357</td>\n",
       "    </tr>\n",
       "  </tbody>\n",
       "</table>\n",
       "</div>"
      ],
      "text/plain": [
       "       P@1      P@3      P@5    P@10      N@1     N@3      N@5     N@10  \\\n",
       "0  30.9078  20.5532  15.5551  9.8319  30.9078  30.737  31.7741  33.5844   \n",
       "\n",
       "    PSP@1    PSP@3    PSP@5  PSP@10   PSN@1    PSN@3    PSN@5   PSN@10  \\\n",
       "0  25.343  27.0596  29.0996  33.186  25.343  27.5471  29.1813  31.2599   \n",
       "\n",
       "      R@10    R@100    R@200   loss   runtime  samples_per_second  \\\n",
       "0  38.2247  51.9416  55.1189  0.025  620.9983             285.854   \n",
       "\n",
       "   steps_per_second  \n",
       "0             0.357  "
      ]
     },
     "metadata": {},
     "output_type": "display_data"
    }
   ],
   "source": [
    "display_metric(o.metrics)"
   ]
  },
  {
   "cell_type": "code",
   "execution_count": null,
   "id": "4c2bf894-ab58-417d-b044-c6df7fe9da7a",
   "metadata": {},
   "outputs": [],
   "source": [
    "pred_dir = f\"{mname}/predictions/\"\n",
    "os.makedirs(pred_dir, exist_ok=True)\n",
    "\n",
    "with open(f'{pred_dir}/test_predictions.pkl', 'wb') as file: pickle.dump(o, file)"
   ]
  },
  {
   "cell_type": "code",
   "execution_count": null,
   "id": "eada61c4-de0c-4af9-b051-696674423eb8",
   "metadata": {},
   "outputs": [],
   "source": []
  },
  {
   "cell_type": "code",
   "execution_count": null,
   "id": "ca218fbd-9427-4600-bc54-6d95cf0fe622",
   "metadata": {},
   "outputs": [
    {
     "data": {
      "application/vnd.jupyter.widget-view+json": {
       "model_id": "00b6930cfda04d05a4368df70039bb8f",
       "version_major": 2,
       "version_minor": 0
      },
      "text/plain": [
       "  0%|          | 0/391 [00:00<?, ?it/s]"
      ]
     },
     "metadata": {},
     "output_type": "display_data"
    },
    {
     "data": {
      "text/html": [],
      "text/plain": [
       "<IPython.core.display.HTML object>"
      ]
     },
     "metadata": {},
     "output_type": "display_data"
    }
   ],
   "source": [
    "o = learn.predict(block.train.dset)"
   ]
  },
  {
   "cell_type": "code",
   "execution_count": null,
   "id": "1cb38213-8cbc-4841-9f82-ff788f37ed7e",
   "metadata": {},
   "outputs": [
    {
     "data": {
      "text/html": [
       "<div>\n",
       "<style scoped>\n",
       "    .dataframe tbody tr th:only-of-type {\n",
       "        vertical-align: middle;\n",
       "    }\n",
       "\n",
       "    .dataframe tbody tr th {\n",
       "        vertical-align: top;\n",
       "    }\n",
       "\n",
       "    .dataframe thead th {\n",
       "        text-align: right;\n",
       "    }\n",
       "</style>\n",
       "<table border=\"1\" class=\"dataframe\">\n",
       "  <thead>\n",
       "    <tr style=\"text-align: right;\">\n",
       "      <th></th>\n",
       "      <th>P@1</th>\n",
       "      <th>P@3</th>\n",
       "      <th>P@5</th>\n",
       "      <th>P@10</th>\n",
       "      <th>N@1</th>\n",
       "      <th>N@3</th>\n",
       "      <th>N@5</th>\n",
       "      <th>N@10</th>\n",
       "      <th>PSP@1</th>\n",
       "      <th>PSP@3</th>\n",
       "      <th>PSP@5</th>\n",
       "      <th>PSP@10</th>\n",
       "      <th>PSN@1</th>\n",
       "      <th>PSN@3</th>\n",
       "      <th>PSN@5</th>\n",
       "      <th>PSN@10</th>\n",
       "      <th>R@10</th>\n",
       "      <th>R@100</th>\n",
       "      <th>R@200</th>\n",
       "      <th>loss</th>\n",
       "      <th>runtime</th>\n",
       "      <th>samples_per_second</th>\n",
       "      <th>steps_per_second</th>\n",
       "    </tr>\n",
       "  </thead>\n",
       "  <tbody>\n",
       "    <tr>\n",
       "      <th>0</th>\n",
       "      <td>92.2863</td>\n",
       "      <td>50.2929</td>\n",
       "      <td>33.625</td>\n",
       "      <td>18.1342</td>\n",
       "      <td>92.2863</td>\n",
       "      <td>93.644</td>\n",
       "      <td>94.357</td>\n",
       "      <td>95.1143</td>\n",
       "      <td>82.7769</td>\n",
       "      <td>87.365</td>\n",
       "      <td>89.3606</td>\n",
       "      <td>92.3762</td>\n",
       "      <td>82.7769</td>\n",
       "      <td>89.3253</td>\n",
       "      <td>91.1272</td>\n",
       "      <td>92.4036</td>\n",
       "      <td>97.6791</td>\n",
       "      <td>99.4445</td>\n",
       "      <td>99.5756</td>\n",
       "      <td>0.0011</td>\n",
       "      <td>352.5323</td>\n",
       "      <td>1966.01</td>\n",
       "      <td>2.459</td>\n",
       "    </tr>\n",
       "  </tbody>\n",
       "</table>\n",
       "</div>"
      ],
      "text/plain": [
       "       P@1      P@3     P@5     P@10      N@1     N@3     N@5     N@10  \\\n",
       "0  92.2863  50.2929  33.625  18.1342  92.2863  93.644  94.357  95.1143   \n",
       "\n",
       "     PSP@1   PSP@3    PSP@5   PSP@10    PSN@1    PSN@3    PSN@5   PSN@10  \\\n",
       "0  82.7769  87.365  89.3606  92.3762  82.7769  89.3253  91.1272  92.4036   \n",
       "\n",
       "      R@10    R@100    R@200    loss   runtime  samples_per_second  \\\n",
       "0  97.6791  99.4445  99.5756  0.0011  352.5323             1966.01   \n",
       "\n",
       "   steps_per_second  \n",
       "0             2.459  "
      ]
     },
     "metadata": {},
     "output_type": "display_data"
    }
   ],
   "source": [
    "display_metric(o.metrics)"
   ]
  },
  {
   "cell_type": "code",
   "execution_count": null,
   "id": "a47b138a-bd21-4bd2-a80c-3f31d89078e7",
   "metadata": {},
   "outputs": [],
   "source": [
    "pred_dir = f\"{mname}/predictions/\"\n",
    "os.makedirs(pred_dir, exist_ok=True)\n",
    "\n",
    "with open(f'{pred_dir}/train_predictions.pkl', 'wb') as file: pickle.dump(o, file)"
   ]
  },
  {
   "cell_type": "code",
   "execution_count": null,
   "id": "0d902e8e-2626-45b1-9462-0a8616236f44",
   "metadata": {},
   "outputs": [],
   "source": []
  }
 ],
 "metadata": {
  "kernelspec": {
   "display_name": "python3",
   "language": "python",
   "name": "python3"
  }
 },
 "nbformat": 4,
 "nbformat_minor": 5
}
