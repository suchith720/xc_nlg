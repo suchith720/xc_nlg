{
 "cells": [
  {
   "cell_type": "code",
   "execution_count": null,
   "id": "d6e18985-f27c-4001-99e6-fb2929f173d9",
   "metadata": {},
   "outputs": [],
   "source": [
    "#| default_exp 05-metadata-augmented-input-and-trie-for-distilbert"
   ]
  },
  {
   "cell_type": "code",
   "execution_count": null,
   "id": "4a6790b0-1931-4a3f-a15c-19e27863087c",
   "metadata": {},
   "outputs": [],
   "source": [
    "%load_ext autoreload\n",
    "%autoreload 2"
   ]
  },
  {
   "cell_type": "code",
   "execution_count": null,
   "id": "a78c0853-f45e-4445-8968-8396896eab85",
   "metadata": {},
   "outputs": [
    {
     "name": "stderr",
     "output_type": "stream",
     "text": [
      "comet_ml is installed but `COMET_API_KEY` is not set.\n"
     ]
    }
   ],
   "source": [
    "#| export\n",
    "import os, pandas as pd, warnings, torch, pickle\n",
    "from tqdm.auto import tqdm\n",
    "from scipy import stats\n",
    "\n",
    "from xcai.basics import *\n",
    "from xcai.models.MMM00X import DBT007, DBT008\n",
    "from xcai.transform import AugmentMetaInputIdsTfm"
   ]
  },
  {
   "cell_type": "code",
   "execution_count": null,
   "id": "7694e4d1-f5f5-4c60-b95f-f6bef6f7ee22",
   "metadata": {},
   "outputs": [],
   "source": [
    "#| export\n",
    "os.environ['WANDB_MODE'] = 'disabled'"
   ]
  },
  {
   "cell_type": "code",
   "execution_count": null,
   "id": "965fa00a-aee1-462a-b221-827e5892f32a",
   "metadata": {},
   "outputs": [],
   "source": [
    "#| export\n",
    "dump_dir = '/scratch/scai/phd/aiz218323/Projects/xc_nlg/outputs/05-metadata-augmented-input-and-trie-for-distilbert/'"
   ]
  },
  {
   "cell_type": "code",
   "execution_count": null,
   "id": "438bf12d-5c99-40a9-9c14-f7f02a6c9c7a",
   "metadata": {},
   "outputs": [
    {
     "name": "stderr",
     "output_type": "stream",
     "text": [
      "/home/scai/phd/aiz218323/.local/lib/python3.9/site-packages/xclib-0.97-py3.9-linux-x86_64.egg/xclib/data/data_utils.py:263: UserWarning: Header mis-match from inferred shape!\n",
      "  warnings.warn(\"Header mis-match from inferred shape!\")\n",
      "/scratch/scai/phd/aiz218323/anaconda3/envs/xc_nlg/lib/python3.9/site-packages/scipy/sparse/_index.py:145: SparseEfficiencyWarning: Changing the sparsity structure of a csr_matrix is expensive. lil_matrix is more efficient.\n",
      "  self._set_arrayXarray(i, j, x)\n"
     ]
    }
   ],
   "source": [
    "block = XCBlock.from_cfg('data_meta', valid_pct=0.001, tokenizer='distilbert-base-uncased')"
   ]
  },
  {
   "cell_type": "code",
   "execution_count": null,
   "id": "45872e26-e034-4ce4-9a1a-7db20f1c000e",
   "metadata": {},
   "outputs": [
    {
     "data": {
      "text/html": [
       "\n",
       "<style>\n",
       "    /* Turns off some styling */\n",
       "    progress {\n",
       "        /* gets rid of default border in Firefox and Opera. */\n",
       "        border: none;\n",
       "        /* Needs to be in here for Safari polyfill so background images work as expected. */\n",
       "        background-size: auto;\n",
       "    }\n",
       "    progress:not([value]), progress:not([value])::-webkit-progress-bar {\n",
       "        background: repeating-linear-gradient(45deg, #7e7e7e, #7e7e7e 10px, #5c5c5c 10px, #5c5c5c 20px);\n",
       "    }\n",
       "    .progress-bar-interrupted, .progress-bar-interrupted::-webkit-progress-bar {\n",
       "        background: #F44336;\n",
       "    }\n",
       "</style>\n"
      ],
      "text/plain": [
       "<IPython.core.display.HTML object>"
      ]
     },
     "metadata": {},
     "output_type": "display_data"
    },
    {
     "data": {
      "text/html": [],
      "text/plain": [
       "<IPython.core.display.HTML object>"
      ]
     },
     "metadata": {},
     "output_type": "display_data"
    },
    {
     "data": {
      "text/html": [
       "\n",
       "<style>\n",
       "    /* Turns off some styling */\n",
       "    progress {\n",
       "        /* gets rid of default border in Firefox and Opera. */\n",
       "        border: none;\n",
       "        /* Needs to be in here for Safari polyfill so background images work as expected. */\n",
       "        background-size: auto;\n",
       "    }\n",
       "    progress:not([value]), progress:not([value])::-webkit-progress-bar {\n",
       "        background: repeating-linear-gradient(45deg, #7e7e7e, #7e7e7e 10px, #5c5c5c 10px, #5c5c5c 20px);\n",
       "    }\n",
       "    .progress-bar-interrupted, .progress-bar-interrupted::-webkit-progress-bar {\n",
       "        background: #F44336;\n",
       "    }\n",
       "</style>\n"
      ],
      "text/plain": [
       "<IPython.core.display.HTML object>"
      ]
     },
     "metadata": {},
     "output_type": "display_data"
    },
    {
     "data": {
      "text/html": [
       "\n",
       "    <div>\n",
       "      <progress value='692389' class='' max='692389' style='width:300px; height:20px; vertical-align: middle;'></progress>\n",
       "      100.00% [692389/692389 00:30&lt;00:00]\n",
       "    </div>\n",
       "    "
      ],
      "text/plain": [
       "<IPython.core.display.HTML object>"
      ]
     },
     "metadata": {},
     "output_type": "display_data"
    },
    {
     "data": {
      "text/html": [
       "\n",
       "<style>\n",
       "    /* Turns off some styling */\n",
       "    progress {\n",
       "        /* gets rid of default border in Firefox and Opera. */\n",
       "        border: none;\n",
       "        /* Needs to be in here for Safari polyfill so background images work as expected. */\n",
       "        background-size: auto;\n",
       "    }\n",
       "    progress:not([value]), progress:not([value])::-webkit-progress-bar {\n",
       "        background: repeating-linear-gradient(45deg, #7e7e7e, #7e7e7e 10px, #5c5c5c 10px, #5c5c5c 20px);\n",
       "    }\n",
       "    .progress-bar-interrupted, .progress-bar-interrupted::-webkit-progress-bar {\n",
       "        background: #F44336;\n",
       "    }\n",
       "</style>\n"
      ],
      "text/plain": [
       "<IPython.core.display.HTML object>"
      ]
     },
     "metadata": {},
     "output_type": "display_data"
    },
    {
     "data": {
      "text/html": [
       "\n",
       "    <div>\n",
       "      <progress value='692389' class='' max='692389' style='width:300px; height:20px; vertical-align: middle;'></progress>\n",
       "      100.00% [692389/692389 00:27&lt;00:00]\n",
       "    </div>\n",
       "    "
      ],
      "text/plain": [
       "<IPython.core.display.HTML object>"
      ]
     },
     "metadata": {},
     "output_type": "display_data"
    },
    {
     "data": {
      "text/html": [
       "\n",
       "<style>\n",
       "    /* Turns off some styling */\n",
       "    progress {\n",
       "        /* gets rid of default border in Firefox and Opera. */\n",
       "        border: none;\n",
       "        /* Needs to be in here for Safari polyfill so background images work as expected. */\n",
       "        background-size: auto;\n",
       "    }\n",
       "    progress:not([value]), progress:not([value])::-webkit-progress-bar {\n",
       "        background: repeating-linear-gradient(45deg, #7e7e7e, #7e7e7e 10px, #5c5c5c 10px, #5c5c5c 20px);\n",
       "    }\n",
       "    .progress-bar-interrupted, .progress-bar-interrupted::-webkit-progress-bar {\n",
       "        background: #F44336;\n",
       "    }\n",
       "</style>\n"
      ],
      "text/plain": [
       "<IPython.core.display.HTML object>"
      ]
     },
     "metadata": {},
     "output_type": "display_data"
    },
    {
     "data": {
      "text/html": [
       "\n",
       "    <div>\n",
       "      <progress value='684' class='' max='684' style='width:300px; height:20px; vertical-align: middle;'></progress>\n",
       "      100.00% [684/684 00:00&lt;00:00]\n",
       "    </div>\n",
       "    "
      ],
      "text/plain": [
       "<IPython.core.display.HTML object>"
      ]
     },
     "metadata": {},
     "output_type": "display_data"
    },
    {
     "data": {
      "text/html": [
       "\n",
       "<style>\n",
       "    /* Turns off some styling */\n",
       "    progress {\n",
       "        /* gets rid of default border in Firefox and Opera. */\n",
       "        border: none;\n",
       "        /* Needs to be in here for Safari polyfill so background images work as expected. */\n",
       "        background-size: auto;\n",
       "    }\n",
       "    progress:not([value]), progress:not([value])::-webkit-progress-bar {\n",
       "        background: repeating-linear-gradient(45deg, #7e7e7e, #7e7e7e 10px, #5c5c5c 10px, #5c5c5c 20px);\n",
       "    }\n",
       "    .progress-bar-interrupted, .progress-bar-interrupted::-webkit-progress-bar {\n",
       "        background: #F44336;\n",
       "    }\n",
       "</style>\n"
      ],
      "text/plain": [
       "<IPython.core.display.HTML object>"
      ]
     },
     "metadata": {},
     "output_type": "display_data"
    },
    {
     "data": {
      "text/html": [
       "\n",
       "    <div>\n",
       "      <progress value='684' class='' max='684' style='width:300px; height:20px; vertical-align: middle;'></progress>\n",
       "      100.00% [684/684 00:00&lt;00:00]\n",
       "    </div>\n",
       "    "
      ],
      "text/plain": [
       "<IPython.core.display.HTML object>"
      ]
     },
     "metadata": {},
     "output_type": "display_data"
    },
    {
     "data": {
      "text/html": [
       "\n",
       "<style>\n",
       "    /* Turns off some styling */\n",
       "    progress {\n",
       "        /* gets rid of default border in Firefox and Opera. */\n",
       "        border: none;\n",
       "        /* Needs to be in here for Safari polyfill so background images work as expected. */\n",
       "        background-size: auto;\n",
       "    }\n",
       "    progress:not([value]), progress:not([value])::-webkit-progress-bar {\n",
       "        background: repeating-linear-gradient(45deg, #7e7e7e, #7e7e7e 10px, #5c5c5c 10px, #5c5c5c 20px);\n",
       "    }\n",
       "    .progress-bar-interrupted, .progress-bar-interrupted::-webkit-progress-bar {\n",
       "        background: #F44336;\n",
       "    }\n",
       "</style>\n"
      ],
      "text/plain": [
       "<IPython.core.display.HTML object>"
      ]
     },
     "metadata": {},
     "output_type": "display_data"
    },
    {
     "data": {
      "text/html": [
       "\n",
       "    <div>\n",
       "      <progress value='177515' class='' max='177515' style='width:300px; height:20px; vertical-align: middle;'></progress>\n",
       "      100.00% [177515/177515 00:09&lt;00:00]\n",
       "    </div>\n",
       "    "
      ],
      "text/plain": [
       "<IPython.core.display.HTML object>"
      ]
     },
     "metadata": {},
     "output_type": "display_data"
    },
    {
     "data": {
      "text/html": [
       "\n",
       "<style>\n",
       "    /* Turns off some styling */\n",
       "    progress {\n",
       "        /* gets rid of default border in Firefox and Opera. */\n",
       "        border: none;\n",
       "        /* Needs to be in here for Safari polyfill so background images work as expected. */\n",
       "        background-size: auto;\n",
       "    }\n",
       "    progress:not([value]), progress:not([value])::-webkit-progress-bar {\n",
       "        background: repeating-linear-gradient(45deg, #7e7e7e, #7e7e7e 10px, #5c5c5c 10px, #5c5c5c 20px);\n",
       "    }\n",
       "    .progress-bar-interrupted, .progress-bar-interrupted::-webkit-progress-bar {\n",
       "        background: #F44336;\n",
       "    }\n",
       "</style>\n"
      ],
      "text/plain": [
       "<IPython.core.display.HTML object>"
      ]
     },
     "metadata": {},
     "output_type": "display_data"
    },
    {
     "data": {
      "text/html": [
       "\n",
       "    <div>\n",
       "      <progress value='177515' class='' max='177515' style='width:300px; height:20px; vertical-align: middle;'></progress>\n",
       "      100.00% [177515/177515 00:07&lt;00:00]\n",
       "    </div>\n",
       "    "
      ],
      "text/plain": [
       "<IPython.core.display.HTML object>"
      ]
     },
     "metadata": {},
     "output_type": "display_data"
    }
   ],
   "source": [
    "block = AugmentMetaInputIdsTfm.apply(block, meta='hlk_meta', max_len=512, exclude_sep=True)"
   ]
  },
  {
   "cell_type": "code",
   "execution_count": null,
   "id": "34caf2ad-7eb5-4b84-a077-760d43f61817",
   "metadata": {},
   "outputs": [],
   "source": [
    "block.test.dset.data.data_info['input_ids'] = block.test.dset.data.data_info['input_ids_aug_hlk']\n",
    "block.test.dset.data.data_info['attention_mask'] = block.test.dset.data.data_info['attention_mask_aug_hlk']"
   ]
  },
  {
   "cell_type": "code",
   "execution_count": null,
   "id": "2422fc4d-5909-459e-8609-31ce3c1bdec4",
   "metadata": {},
   "outputs": [],
   "source": [
    "test_dset = block.test.dset.sample(n=2000, seed=50)"
   ]
  },
  {
   "cell_type": "code",
   "execution_count": null,
   "id": "68bb2932-0759-46d0-aa3b-701986f4209a",
   "metadata": {},
   "outputs": [],
   "source": [
    "block"
   ]
  },
  {
   "cell_type": "code",
   "execution_count": null,
   "id": "34b9f531-6088-4b7d-9eb7-f6b415911d0b",
   "metadata": {},
   "outputs": [],
   "source": [
    "with open(f'{dump_dir}/data/block.pkl', 'wb') as f: pickle.dump((block, test_dset), f)"
   ]
  },
  {
   "cell_type": "code",
   "execution_count": null,
   "id": "f6b6014e-d7a0-4c0b-841c-e09b1849fe4b",
   "metadata": {},
   "outputs": [],
   "source": [
    "#| export\n",
    "with open(f'{dump_dir}/data/block.pkl', 'rb') as f: block, test_dset = pickle.load(f)"
   ]
  },
  {
   "cell_type": "markdown",
   "id": "2710a1a2-4719-409c-9f40-c04d8f29ded5",
   "metadata": {},
   "source": [
    "# Generation"
   ]
  },
  {
   "cell_type": "code",
   "execution_count": null,
   "id": "43307f70-4ab5-4b10-9c24-c3bd7c27cc15",
   "metadata": {},
   "outputs": [
    {
     "name": "stderr",
     "output_type": "stream",
     "text": [
      "Some weights of DBT007 were not initialized from the model checkpoint at /scratch/scai/phd/aiz218323/Projects/xc_nlg/outputs/05-metadata-augmented-input-and-trie-for-distilbert//distilbert-base-uncased_RB33-NAR-3+8-2_(mapped)LF-WikiSeeAlsoTitles-320K/checkpoint-190000 and are newly initialized: ['loss_fn.o']\n",
      "You should probably TRAIN this model on a down-stream task to be able to use it for predictions and inference.\n"
     ]
    }
   ],
   "source": [
    "#| export\n",
    "mname = f'{dump_dir}/distilbert-base-uncased_RB33-NAR-3+8-2_(mapped)LF-WikiSeeAlsoTitles-320K/checkpoint-190000'\n",
    "model = DBT007.from_pretrained(mname, tn_targ=10_000, ig_tok=0)"
   ]
  },
  {
   "cell_type": "code",
   "execution_count": null,
   "id": "ff590378-466d-48e0-8787-6d9318301fd6",
   "metadata": {},
   "outputs": [],
   "source": [
    "#| export\n",
    "args = XCLearningArguments(\n",
    "    output_dir=f'{dump_dir}/distilbert-base-uncased_RB33-NAR-3+8-2_(mapped)LF-WikiSeeAlsoTitles-320K',\n",
    "    generation_length_penalty=1.5,\n",
    "    per_device_eval_batch_size=16,\n",
    "    evaluation_strategy='steps',\n",
    "    label_names=['lbl2data_idx'],\n",
    ")"
   ]
  },
  {
   "cell_type": "code",
   "execution_count": null,
   "id": "be4cd9aa-91f1-48f8-a188-b33e6810dd92",
   "metadata": {},
   "outputs": [],
   "source": [
    "#| export\n",
    "metric = PrecRecl(test_dset.n_lbl, test_dset.data.data_lbl_filterer, prop=block.train.dset.data.data_lbl,\n",
    "                  pk=10, rk=200, rep_pk=[1, 3, 5, 10], rep_rk=[2, 3, 10, 50, 100, 200])"
   ]
  },
  {
   "cell_type": "code",
   "execution_count": null,
   "id": "44c09802-1869-4f4d-af21-11bd313f0bd7",
   "metadata": {},
   "outputs": [],
   "source": [
    "metric = PrecRecl(block.n_lbl, block.test.data_lbl_filterer, prop=block.train.dset.data.data_lbl,\n",
    "                  pk=10, rk=200, rep_pk=[1, 3, 5, 10], rep_rk=[2, 3, 10, 50, 100, 200])"
   ]
  },
  {
   "cell_type": "code",
   "execution_count": null,
   "id": "24a1e37b-0e83-49a3-8a15-ceb09680d87c",
   "metadata": {},
   "outputs": [
    {
     "name": "stderr",
     "output_type": "stream",
     "text": [
      "/scratch/scai/phd/aiz218323/anaconda3/envs/xc_nlg/lib/python3.9/site-packages/accelerate/accelerator.py:432: FutureWarning: Passing the following arguments to `Accelerator` is deprecated and will be removed in version 1.0 of Accelerate: dict_keys(['dispatch_batches', 'split_batches', 'even_batches', 'use_seedable_sampler']). Please pass an `accelerate.DataLoaderConfiguration` instead: \n",
      "dataloader_config = DataLoaderConfiguration(dispatch_batches=None, split_batches=False, even_batches=True, use_seedable_sampler=True)\n",
      "  warnings.warn(\n",
      "Detected kernel version 3.10.0, which is below the recommended minimum of 5.5.0; this can cause the process to hang. It is recommended to upgrade the kernel to the minimum version or higher.\n",
      "huggingface/tokenizers: The current process just got forked, after parallelism has already been used. Disabling parallelism to avoid deadlocks...\n",
      "To disable this warning, you can either:\n",
      "\t- Avoid using `tokenizers` before the fork if possible\n",
      "\t- Explicitly set the environment variable TOKENIZERS_PARALLELISM=(true | false)\n",
      "huggingface/tokenizers: The current process just got forked, after parallelism has already been used. Disabling parallelism to avoid deadlocks...\n",
      "To disable this warning, you can either:\n",
      "\t- Avoid using `tokenizers` before the fork if possible\n",
      "\t- Explicitly set the environment variable TOKENIZERS_PARALLELISM=(true | false)\n",
      "huggingface/tokenizers: The current process just got forked, after parallelism has already been used. Disabling parallelism to avoid deadlocks...\n",
      "To disable this warning, you can either:\n",
      "\t- Avoid using `tokenizers` before the fork if possible\n",
      "\t- Explicitly set the environment variable TOKENIZERS_PARALLELISM=(true | false)\n"
     ]
    }
   ],
   "source": [
    "#| export\n",
    "learn = XCLearner(\n",
    "    model=model, \n",
    "    args=args,\n",
    "    data_collator=block.collator, \n",
    "    compute_metrics=metric,\n",
    ")"
   ]
  },
  {
   "cell_type": "markdown",
   "id": "b27fe184-9f29-41c9-9658-b7f2defb2243",
   "metadata": {},
   "source": [
    "## `trie`"
   ]
  },
  {
   "cell_type": "code",
   "execution_count": null,
   "id": "bd0d51b4-aadc-4424-bcf0-42889ef8b48a",
   "metadata": {},
   "outputs": [
    {
     "data": {
      "application/vnd.jupyter.widget-view+json": {
       "model_id": "39746bd341a2464e880f32f1b3e7e05f",
       "version_major": 2,
       "version_minor": 0
      },
      "text/plain": [
       "  0%|          | 0/312330 [00:00<?, ?it/s]"
      ]
     },
     "metadata": {},
     "output_type": "display_data"
    }
   ],
   "source": [
    "#| export\n",
    "trie = XCTrie.from_block(block)"
   ]
  },
  {
   "cell_type": "code",
   "execution_count": null,
   "id": "a711f68e-9dfe-4bae-a42f-67dc3e202100",
   "metadata": {},
   "outputs": [],
   "source": [
    "#| export\n",
    "learn.tbs.trie = trie"
   ]
  },
  {
   "cell_type": "code",
   "execution_count": null,
   "id": "e92d3e05-1216-4e91-8e03-c2e22252eb82",
   "metadata": {},
   "outputs": [],
   "source": [
    "#| export\n",
    "learn.tbs.n_bm = learn.args.generation_num_beams = 10\n",
    "# learn.tbs.n_bm = learn.args.generation_num_beams = 200"
   ]
  },
  {
   "cell_type": "code",
   "execution_count": null,
   "id": "6a715dad-e0eb-411c-8b0d-7ebc621bba81",
   "metadata": {},
   "outputs": [
    {
     "name": "stderr",
     "output_type": "stream",
     "text": [
      "/scratch/scai/phd/aiz218323/anaconda3/envs/xc_nlg/lib/python3.9/site-packages/torch/nn/parallel/_functions.py:68: UserWarning: Was asked to gather along dimension 0, but all input tensors were scalars; will instead unsqueeze and return a vector.\n",
      "  warnings.warn('Was asked to gather along dimension 0, but all '\n"
     ]
    },
    {
     "data": {
      "text/html": [],
      "text/plain": [
       "<IPython.core.display.HTML object>"
      ]
     },
     "metadata": {},
     "output_type": "display_data"
    },
    {
     "name": "stderr",
     "output_type": "stream",
     "text": [
      "/scratch/scai/phd/aiz218323/anaconda3/envs/xc_nlg/lib/python3.9/site-packages/scipy/sparse/_index.py:145: SparseEfficiencyWarning: Changing the sparsity structure of a csr_matrix is expensive. lil_matrix is more efficient.\n",
      "  self._set_arrayXarray(i, j, x)\n"
     ]
    },
    {
     "data": {
      "text/html": [
       "<div>\n",
       "<style scoped>\n",
       "    .dataframe tbody tr th:only-of-type {\n",
       "        vertical-align: middle;\n",
       "    }\n",
       "\n",
       "    .dataframe tbody tr th {\n",
       "        vertical-align: top;\n",
       "    }\n",
       "\n",
       "    .dataframe thead th {\n",
       "        text-align: right;\n",
       "    }\n",
       "</style>\n",
       "<table border=\"1\" class=\"dataframe\">\n",
       "  <thead>\n",
       "    <tr style=\"text-align: right;\">\n",
       "      <th></th>\n",
       "      <th>P@1</th>\n",
       "      <th>P@3</th>\n",
       "      <th>P@5</th>\n",
       "      <th>P@10</th>\n",
       "      <th>N@1</th>\n",
       "      <th>N@3</th>\n",
       "      <th>N@5</th>\n",
       "      <th>N@10</th>\n",
       "      <th>PSP@1</th>\n",
       "      <th>PSP@3</th>\n",
       "      <th>PSP@5</th>\n",
       "      <th>PSP@10</th>\n",
       "      <th>PSN@1</th>\n",
       "      <th>PSN@3</th>\n",
       "      <th>PSN@5</th>\n",
       "      <th>PSN@10</th>\n",
       "      <th>R@2</th>\n",
       "      <th>R@3</th>\n",
       "      <th>R@10</th>\n",
       "      <th>R@50</th>\n",
       "      <th>R@100</th>\n",
       "      <th>R@200</th>\n",
       "      <th>loss</th>\n",
       "      <th>runtime</th>\n",
       "      <th>samples_per_second</th>\n",
       "      <th>steps_per_second</th>\n",
       "    </tr>\n",
       "  </thead>\n",
       "  <tbody>\n",
       "    <tr>\n",
       "      <th>0</th>\n",
       "      <td>27.35</td>\n",
       "      <td>15.9</td>\n",
       "      <td>11.64</td>\n",
       "      <td>6.865</td>\n",
       "      <td>27.35</td>\n",
       "      <td>25.1513</td>\n",
       "      <td>25.4696</td>\n",
       "      <td>26.4075</td>\n",
       "      <td>16.4449</td>\n",
       "      <td>15.8475</td>\n",
       "      <td>16.6908</td>\n",
       "      <td>18.0965</td>\n",
       "      <td>16.4449</td>\n",
       "      <td>17.0123</td>\n",
       "      <td>17.8246</td>\n",
       "      <td>18.9196</td>\n",
       "      <td>19.8771</td>\n",
       "      <td>22.6592</td>\n",
       "      <td>28.849</td>\n",
       "      <td>29.0056</td>\n",
       "      <td>29.0056</td>\n",
       "      <td>29.0056</td>\n",
       "      <td>7.0555</td>\n",
       "      <td>226.4585</td>\n",
       "      <td>8.832</td>\n",
       "      <td>0.278</td>\n",
       "    </tr>\n",
       "  </tbody>\n",
       "</table>\n",
       "</div>"
      ],
      "text/plain": [
       "     P@1   P@3    P@5   P@10    N@1      N@3      N@5     N@10    PSP@1  \\\n",
       "0  27.35  15.9  11.64  6.865  27.35  25.1513  25.4696  26.4075  16.4449   \n",
       "\n",
       "     PSP@3    PSP@5   PSP@10    PSN@1    PSN@3    PSN@5   PSN@10      R@2  \\\n",
       "0  15.8475  16.6908  18.0965  16.4449  17.0123  17.8246  18.9196  19.8771   \n",
       "\n",
       "       R@3    R@10     R@50    R@100    R@200    loss   runtime  \\\n",
       "0  22.6592  28.849  29.0056  29.0056  29.0056  7.0555  226.4585   \n",
       "\n",
       "   samples_per_second  steps_per_second  \n",
       "0               8.832             0.278  "
      ]
     },
     "metadata": {},
     "output_type": "display_data"
    }
   ],
   "source": [
    "o = learn.predict(test_dset)\n",
    "display_metric(o.metrics)"
   ]
  },
  {
   "cell_type": "code",
   "execution_count": null,
   "id": "da3e9b41-209e-496b-a1c4-048576ede462",
   "metadata": {},
   "outputs": [
    {
     "name": "stderr",
     "output_type": "stream",
     "text": [
      "/scratch/scai/phd/aiz218323/anaconda3/envs/xc_nlg/lib/python3.9/site-packages/torch/nn/parallel/_functions.py:68: UserWarning: Was asked to gather along dimension 0, but all input tensors were scalars; will instead unsqueeze and return a vector.\n",
      "  warnings.warn('Was asked to gather along dimension 0, but all '\n"
     ]
    },
    {
     "data": {
      "text/html": [],
      "text/plain": [
       "<IPython.core.display.HTML object>"
      ]
     },
     "metadata": {},
     "output_type": "display_data"
    },
    {
     "name": "stderr",
     "output_type": "stream",
     "text": [
      "/scratch/scai/phd/aiz218323/anaconda3/envs/xc_nlg/lib/python3.9/site-packages/scipy/sparse/_index.py:145: SparseEfficiencyWarning: Changing the sparsity structure of a csr_matrix is expensive. lil_matrix is more efficient.\n",
      "  self._set_arrayXarray(i, j, x)\n"
     ]
    },
    {
     "data": {
      "text/html": [
       "<div>\n",
       "<style scoped>\n",
       "    .dataframe tbody tr th:only-of-type {\n",
       "        vertical-align: middle;\n",
       "    }\n",
       "\n",
       "    .dataframe tbody tr th {\n",
       "        vertical-align: top;\n",
       "    }\n",
       "\n",
       "    .dataframe thead th {\n",
       "        text-align: right;\n",
       "    }\n",
       "</style>\n",
       "<table border=\"1\" class=\"dataframe\">\n",
       "  <thead>\n",
       "    <tr style=\"text-align: right;\">\n",
       "      <th></th>\n",
       "      <th>P@1</th>\n",
       "      <th>P@3</th>\n",
       "      <th>P@5</th>\n",
       "      <th>P@10</th>\n",
       "      <th>N@1</th>\n",
       "      <th>N@3</th>\n",
       "      <th>N@5</th>\n",
       "      <th>N@10</th>\n",
       "      <th>PSP@1</th>\n",
       "      <th>PSP@3</th>\n",
       "      <th>PSP@5</th>\n",
       "      <th>PSP@10</th>\n",
       "      <th>PSN@1</th>\n",
       "      <th>PSN@3</th>\n",
       "      <th>PSN@5</th>\n",
       "      <th>PSN@10</th>\n",
       "      <th>R@2</th>\n",
       "      <th>R@3</th>\n",
       "      <th>R@10</th>\n",
       "      <th>R@50</th>\n",
       "      <th>R@100</th>\n",
       "      <th>R@200</th>\n",
       "      <th>loss</th>\n",
       "      <th>runtime</th>\n",
       "      <th>samples_per_second</th>\n",
       "      <th>steps_per_second</th>\n",
       "    </tr>\n",
       "  </thead>\n",
       "  <tbody>\n",
       "    <tr>\n",
       "      <th>0</th>\n",
       "      <td>27.35</td>\n",
       "      <td>15.9</td>\n",
       "      <td>11.64</td>\n",
       "      <td>6.865</td>\n",
       "      <td>27.35</td>\n",
       "      <td>25.1513</td>\n",
       "      <td>25.4696</td>\n",
       "      <td>26.4075</td>\n",
       "      <td>16.4527</td>\n",
       "      <td>15.8567</td>\n",
       "      <td>16.7021</td>\n",
       "      <td>18.1073</td>\n",
       "      <td>16.4527</td>\n",
       "      <td>17.0189</td>\n",
       "      <td>17.8322</td>\n",
       "      <td>18.9273</td>\n",
       "      <td>19.8771</td>\n",
       "      <td>22.6592</td>\n",
       "      <td>28.849</td>\n",
       "      <td>29.0056</td>\n",
       "      <td>29.0056</td>\n",
       "      <td>29.0056</td>\n",
       "      <td>7.0555</td>\n",
       "      <td>325.2337</td>\n",
       "      <td>6.149</td>\n",
       "      <td>0.194</td>\n",
       "    </tr>\n",
       "  </tbody>\n",
       "</table>\n",
       "</div>"
      ],
      "text/plain": [
       "     P@1   P@3    P@5   P@10    N@1      N@3      N@5     N@10    PSP@1  \\\n",
       "0  27.35  15.9  11.64  6.865  27.35  25.1513  25.4696  26.4075  16.4527   \n",
       "\n",
       "     PSP@3    PSP@5   PSP@10    PSN@1    PSN@3    PSN@5   PSN@10      R@2  \\\n",
       "0  15.8567  16.7021  18.1073  16.4527  17.0189  17.8322  18.9273  19.8771   \n",
       "\n",
       "       R@3    R@10     R@50    R@100    R@200    loss   runtime  \\\n",
       "0  22.6592  28.849  29.0056  29.0056  29.0056  7.0555  325.2337   \n",
       "\n",
       "   samples_per_second  steps_per_second  \n",
       "0               6.149             0.194  "
      ]
     },
     "metadata": {},
     "output_type": "display_data"
    }
   ],
   "source": [
    "o = learn.predict(test_dset)\n",
    "display_metric(o.metrics)\n",
    "\n",
    "torch.save(o, f'{mname}/predictions/test_lbl_n-bm-10_n-smp-2000_seed-50.pth')"
   ]
  },
  {
   "cell_type": "code",
   "execution_count": null,
   "id": "4f646595-8dd4-4450-bc31-2fc454a26b97",
   "metadata": {},
   "outputs": [],
   "source": [
    "#| export\n",
    "o = learn.predict(test_dset)\n",
    "display_metric(o.metrics)\n",
    "\n",
    "torch.save(o, f'{mname}/predictions/test_lbl_n-bm-200_n-smp-2000_seed-50.pth')"
   ]
  },
  {
   "cell_type": "markdown",
   "id": "c21a1c14-a9ef-48ec-98e4-26d7db6ea0cb",
   "metadata": {},
   "source": [
    "metrics with beam size 200"
   ]
  },
  {
   "cell_type": "code",
   "execution_count": null,
   "id": "84532cf9-53da-4e87-a646-32fbd8724847",
   "metadata": {},
   "outputs": [],
   "source": [
    "metric = {'test_loss': 7.055476665496826, 'test_P@1': 0.282, 'test_P@10': 0.07699999999999917, 'test_P@3': 0.1689999999999995, \n",
    "          'test_P@5': 0.12469999999999892, 'test_N@1': 0.28200000524520874, 'test_N@10': 0.284577339887619, 'test_N@3': 0.26439911127090454, \n",
    "          'test_N@5': 0.26965513825416565, 'test_PSP@1': 0.16898056897652436, 'test_PSP@10': 0.20569674669082327, \n",
    "          'test_PSP@3': 0.16874163851237, 'test_PSP@5': 0.17929264835131836, 'test_PSN@1': 0.16898056864738464, \n",
    "          'test_PSN@10': 0.20554141700267792, 'test_PSN@3': 0.17881405353546143, 'test_PSN@5': 0.1890701949596405, \n",
    "          'test_R@2': 0.20791401888960684, 'test_R@3': 0.2390257254055973, 'test_R@100': 0.45159772836170625, \n",
    "          'test_R@200': 0.4830375611805152, 'test_R@10': 0.32105064905857505, 'test_R@50': 0.41466900763020315, 'test_runtime': 4093.1453, \n",
    "          'test_samples_per_second': 0.489, 'test_steps_per_second': 0.015}"
   ]
  },
  {
   "cell_type": "code",
   "execution_count": null,
   "id": "ef2835b0-1dd7-45a2-b67d-931312ee0dad",
   "metadata": {},
   "outputs": [
    {
     "data": {
      "text/html": [
       "<div>\n",
       "<style scoped>\n",
       "    .dataframe tbody tr th:only-of-type {\n",
       "        vertical-align: middle;\n",
       "    }\n",
       "\n",
       "    .dataframe tbody tr th {\n",
       "        vertical-align: top;\n",
       "    }\n",
       "\n",
       "    .dataframe thead th {\n",
       "        text-align: right;\n",
       "    }\n",
       "</style>\n",
       "<table border=\"1\" class=\"dataframe\">\n",
       "  <thead>\n",
       "    <tr style=\"text-align: right;\">\n",
       "      <th></th>\n",
       "      <th>P@1</th>\n",
       "      <th>P@3</th>\n",
       "      <th>P@5</th>\n",
       "      <th>P@10</th>\n",
       "      <th>N@1</th>\n",
       "      <th>N@3</th>\n",
       "      <th>N@5</th>\n",
       "      <th>N@10</th>\n",
       "      <th>PSP@1</th>\n",
       "      <th>PSP@3</th>\n",
       "      <th>PSP@5</th>\n",
       "      <th>PSP@10</th>\n",
       "      <th>PSN@1</th>\n",
       "      <th>PSN@3</th>\n",
       "      <th>PSN@5</th>\n",
       "      <th>PSN@10</th>\n",
       "      <th>R@2</th>\n",
       "      <th>R@3</th>\n",
       "      <th>R@10</th>\n",
       "      <th>R@50</th>\n",
       "      <th>R@100</th>\n",
       "      <th>R@200</th>\n",
       "      <th>loss</th>\n",
       "      <th>runtime</th>\n",
       "      <th>samples_per_second</th>\n",
       "      <th>steps_per_second</th>\n",
       "    </tr>\n",
       "  </thead>\n",
       "  <tbody>\n",
       "    <tr>\n",
       "      <th>0</th>\n",
       "      <td>28.2</td>\n",
       "      <td>16.9</td>\n",
       "      <td>12.47</td>\n",
       "      <td>7.7</td>\n",
       "      <td>28.2</td>\n",
       "      <td>26.4399</td>\n",
       "      <td>26.9655</td>\n",
       "      <td>28.4577</td>\n",
       "      <td>16.8981</td>\n",
       "      <td>16.8742</td>\n",
       "      <td>17.9293</td>\n",
       "      <td>20.5697</td>\n",
       "      <td>16.8981</td>\n",
       "      <td>17.8814</td>\n",
       "      <td>18.907</td>\n",
       "      <td>20.5541</td>\n",
       "      <td>20.7914</td>\n",
       "      <td>23.9026</td>\n",
       "      <td>32.1051</td>\n",
       "      <td>41.4669</td>\n",
       "      <td>45.1598</td>\n",
       "      <td>48.3038</td>\n",
       "      <td>7.0555</td>\n",
       "      <td>4093.1453</td>\n",
       "      <td>0.489</td>\n",
       "      <td>0.015</td>\n",
       "    </tr>\n",
       "  </tbody>\n",
       "</table>\n",
       "</div>"
      ],
      "text/plain": [
       "    P@1   P@3    P@5  P@10   N@1      N@3      N@5     N@10    PSP@1    PSP@3  \\\n",
       "0  28.2  16.9  12.47   7.7  28.2  26.4399  26.9655  28.4577  16.8981  16.8742   \n",
       "\n",
       "     PSP@5   PSP@10    PSN@1    PSN@3   PSN@5   PSN@10      R@2      R@3  \\\n",
       "0  17.9293  20.5697  16.8981  17.8814  18.907  20.5541  20.7914  23.9026   \n",
       "\n",
       "      R@10     R@50    R@100    R@200    loss    runtime  samples_per_second  \\\n",
       "0  32.1051  41.4669  45.1598  48.3038  7.0555  4093.1453               0.489   \n",
       "\n",
       "   steps_per_second  \n",
       "0             0.015  "
      ]
     },
     "metadata": {},
     "output_type": "display_data"
    }
   ],
   "source": [
    "display_metric(metric)"
   ]
  },
  {
   "cell_type": "markdown",
   "id": "aeefbcb5-fc7e-434b-898a-2384e405879b",
   "metadata": {},
   "source": [
    "## `meta-augmented trie`"
   ]
  },
  {
   "cell_type": "code",
   "execution_count": null,
   "id": "72ea3720-6218-4a83-85b9-ed6c2d9fd0bd",
   "metadata": {},
   "outputs": [
    {
     "data": {
      "application/vnd.jupyter.widget-view+json": {
       "model_id": "5ee3287032b54e23950ddbd8e462f430",
       "version_major": 2,
       "version_minor": 0
      },
      "text/plain": [
       "  0%|          | 0/312330 [00:00<?, ?it/s]"
      ]
     },
     "metadata": {},
     "output_type": "display_data"
    },
    {
     "data": {
      "application/vnd.jupyter.widget-view+json": {
       "model_id": "204dd8805c34410d9094eeba42a7e426",
       "version_major": 2,
       "version_minor": 0
      },
      "text/plain": [
       "  0%|          | 0/2458399 [00:00<?, ?it/s]"
      ]
     },
     "metadata": {},
     "output_type": "display_data"
    }
   ],
   "source": [
    "a_trie = XCTrie.from_block(block, meta=['hlk'])"
   ]
  },
  {
   "cell_type": "code",
   "execution_count": null,
   "id": "c5ddaa68-fbfa-487f-9048-71594b48be51",
   "metadata": {},
   "outputs": [],
   "source": [
    "learn.tbs.trie = a_trie"
   ]
  },
  {
   "cell_type": "code",
   "execution_count": null,
   "id": "2d535aff-6b71-469f-8754-4b0374c4c95f",
   "metadata": {},
   "outputs": [],
   "source": [
    "learn.tbs.n_bm = learn.args.generation_num_beams = 20"
   ]
  },
  {
   "cell_type": "code",
   "execution_count": null,
   "id": "9a4e00ef-1934-4543-989c-bbd084c47f84",
   "metadata": {},
   "outputs": [],
   "source": [
    "o = learn.predict(block.test.dset)\n",
    "print(o.metrics)\n",
    "\n",
    "torch.save(o, f'{mname}/predictions/test_lbl_atrie-hlk.pth')"
   ]
  },
  {
   "cell_type": "code",
   "execution_count": null,
   "id": "d066577b-0c1f-4899-8650-7164168f2525",
   "metadata": {},
   "outputs": [
    {
     "name": "stderr",
     "output_type": "stream",
     "text": [
      "/scratch/scai/phd/aiz218323/anaconda3/envs/xc_nlg/lib/python3.9/site-packages/torch/nn/parallel/_functions.py:68: UserWarning: Was asked to gather along dimension 0, but all input tensors were scalars; will instead unsqueeze and return a vector.\n",
      "  warnings.warn('Was asked to gather along dimension 0, but all '\n"
     ]
    },
    {
     "data": {
      "text/html": [],
      "text/plain": [
       "<IPython.core.display.HTML object>"
      ]
     },
     "metadata": {},
     "output_type": "display_data"
    },
    {
     "name": "stderr",
     "output_type": "stream",
     "text": [
      "/scratch/scai/phd/aiz218323/anaconda3/envs/xc_nlg/lib/python3.9/site-packages/scipy/sparse/_index.py:145: SparseEfficiencyWarning: Changing the sparsity structure of a csr_matrix is expensive. lil_matrix is more efficient.\n",
      "  self._set_arrayXarray(i, j, x)\n"
     ]
    },
    {
     "data": {
      "text/html": [
       "<div>\n",
       "<style scoped>\n",
       "    .dataframe tbody tr th:only-of-type {\n",
       "        vertical-align: middle;\n",
       "    }\n",
       "\n",
       "    .dataframe tbody tr th {\n",
       "        vertical-align: top;\n",
       "    }\n",
       "\n",
       "    .dataframe thead th {\n",
       "        text-align: right;\n",
       "    }\n",
       "</style>\n",
       "<table border=\"1\" class=\"dataframe\">\n",
       "  <thead>\n",
       "    <tr style=\"text-align: right;\">\n",
       "      <th></th>\n",
       "      <th>P@1</th>\n",
       "      <th>P@3</th>\n",
       "      <th>P@5</th>\n",
       "      <th>P@10</th>\n",
       "      <th>N@1</th>\n",
       "      <th>N@3</th>\n",
       "      <th>N@5</th>\n",
       "      <th>N@10</th>\n",
       "      <th>PSP@1</th>\n",
       "      <th>PSP@3</th>\n",
       "      <th>PSP@5</th>\n",
       "      <th>PSP@10</th>\n",
       "      <th>PSN@1</th>\n",
       "      <th>PSN@3</th>\n",
       "      <th>PSN@5</th>\n",
       "      <th>PSN@10</th>\n",
       "      <th>R@2</th>\n",
       "      <th>R@3</th>\n",
       "      <th>R@10</th>\n",
       "      <th>R@50</th>\n",
       "      <th>R@100</th>\n",
       "      <th>R@200</th>\n",
       "      <th>loss</th>\n",
       "      <th>runtime</th>\n",
       "      <th>samples_per_second</th>\n",
       "      <th>steps_per_second</th>\n",
       "    </tr>\n",
       "  </thead>\n",
       "  <tbody>\n",
       "    <tr>\n",
       "      <th>0</th>\n",
       "      <td>14.1</td>\n",
       "      <td>7.95</td>\n",
       "      <td>5.78</td>\n",
       "      <td>3.435</td>\n",
       "      <td>14.1</td>\n",
       "      <td>13.1937</td>\n",
       "      <td>13.4809</td>\n",
       "      <td>14.0918</td>\n",
       "      <td>8.5007</td>\n",
       "      <td>8.0784</td>\n",
       "      <td>8.5338</td>\n",
       "      <td>9.2986</td>\n",
       "      <td>8.5007</td>\n",
       "      <td>8.7138</td>\n",
       "      <td>9.2098</td>\n",
       "      <td>9.8224</td>\n",
       "      <td>10.4457</td>\n",
       "      <td>12.2458</td>\n",
       "      <td>16.0001</td>\n",
       "      <td>23.2354</td>\n",
       "      <td>27.7496</td>\n",
       "      <td>32.3926</td>\n",
       "      <td>7.0555</td>\n",
       "      <td>556.0075</td>\n",
       "      <td>3.597</td>\n",
       "      <td>0.113</td>\n",
       "    </tr>\n",
       "  </tbody>\n",
       "</table>\n",
       "</div>"
      ],
      "text/plain": [
       "    P@1   P@3   P@5   P@10   N@1      N@3      N@5     N@10   PSP@1   PSP@3  \\\n",
       "0  14.1  7.95  5.78  3.435  14.1  13.1937  13.4809  14.0918  8.5007  8.0784   \n",
       "\n",
       "    PSP@5  PSP@10   PSN@1   PSN@3   PSN@5  PSN@10      R@2      R@3     R@10  \\\n",
       "0  8.5338  9.2986  8.5007  8.7138  9.2098  9.8224  10.4457  12.2458  16.0001   \n",
       "\n",
       "      R@50    R@100    R@200    loss   runtime  samples_per_second  \\\n",
       "0  23.2354  27.7496  32.3926  7.0555  556.0075               3.597   \n",
       "\n",
       "   steps_per_second  \n",
       "0             0.113  "
      ]
     },
     "metadata": {},
     "output_type": "display_data"
    }
   ],
   "source": [
    "o = learn.predict(test_dset)\n",
    "display_metric(o.metrics)\n",
    "\n",
    "torch.save(o, f'{mname}/predictions/test_lbl_atrie-hlk_n-smp-2000_seed-50.pth')"
   ]
  },
  {
   "cell_type": "code",
   "execution_count": null,
   "id": "6e091fd1-e76d-4d8e-a5f5-0053986a2f93",
   "metadata": {},
   "outputs": [
    {
     "data": {
      "text/plain": [
       "XCPredictionOutput(pred_idx=tensor([229942,  45914,  94437,  ..., 201199, 264804, 196870]), pred_ptr=tensor([ 80, 182, 425,  ..., 124,  64,  91]), pred_score=tensor([-1.0248, -0.8172, -0.9253,  ..., -0.2052, -0.3543, -0.3543]), metrics={'test_loss': 7.055476665496826, 'test_P@1': 0.141, 'test_P@10': 0.03435000000000015, 'test_P@3': 0.07950000000000002, 'test_P@5': 0.0578000000000004, 'test_N@1': 0.14100000262260437, 'test_N@10': 0.14091801643371582, 'test_N@3': 0.13193659484386444, 'test_N@5': 0.13480877876281738, 'test_PSP@1': 0.08500727489465619, 'test_PSP@10': 0.09298637620337616, 'test_PSP@3': 0.08078358832508743, 'test_PSP@5': 0.08533770403099876, 'test_PSN@1': 0.08500727266073227, 'test_PSN@10': 0.09822390973567963, 'test_PSN@3': 0.08713830262422562, 'test_PSN@5': 0.09209804981946945, 'test_R@2': 0.1044574460914902, 'test_R@3': 0.1224579345377433, 'test_R@100': 0.2774955116501733, 'test_R@200': 0.3239256327250691, 'test_R@10': 0.16000144774838873, 'test_R@50': 0.23235361882078026, 'test_runtime': 556.0075, 'test_samples_per_second': 3.597, 'test_steps_per_second': 0.113}, num_samples=2000)"
      ]
     },
     "execution_count": null,
     "metadata": {},
     "output_type": "execute_result"
    }
   ],
   "source": [
    "o"
   ]
  },
  {
   "cell_type": "markdown",
   "id": "e22e6f34-f666-4a62-800e-e4c5c4b944ea",
   "metadata": {},
   "source": [
    "### __Shortlist & Total recall__"
   ]
  },
  {
   "cell_type": "markdown",
   "id": "afebba34-b7f4-4bf8-acf7-edfce8cf4a82",
   "metadata": {},
   "source": [
    "All the numbers reported below are on a sample of 2000 points."
   ]
  },
  {
   "cell_type": "code",
   "execution_count": null,
   "id": "8b68f1a6-f596-4ef6-815b-cfd231d93a86",
   "metadata": {},
   "outputs": [
    {
     "data": {
      "text/html": [
       "<div>\n",
       "<style scoped>\n",
       "    .dataframe tbody tr th:only-of-type {\n",
       "        vertical-align: middle;\n",
       "    }\n",
       "\n",
       "    .dataframe tbody tr th {\n",
       "        vertical-align: top;\n",
       "    }\n",
       "\n",
       "    .dataframe thead th {\n",
       "        text-align: right;\n",
       "    }\n",
       "</style>\n",
       "<table border=\"1\" class=\"dataframe\">\n",
       "  <thead>\n",
       "    <tr style=\"text-align: right;\">\n",
       "      <th></th>\n",
       "      <th>mean</th>\n",
       "      <th>std</th>\n",
       "      <th>25</th>\n",
       "      <th>50</th>\n",
       "      <th>75</th>\n",
       "    </tr>\n",
       "  </thead>\n",
       "  <tbody>\n",
       "    <tr>\n",
       "      <th>0</th>\n",
       "      <td>883.69751</td>\n",
       "      <td>2922.354004</td>\n",
       "      <td>92.75</td>\n",
       "      <td>186.0</td>\n",
       "      <td>447.25</td>\n",
       "    </tr>\n",
       "  </tbody>\n",
       "</table>\n",
       "</div>"
      ],
      "text/plain": [
       "        mean          std     25     50      75\n",
       "0  883.69751  2922.354004  92.75  186.0  447.25"
      ]
     },
     "execution_count": null,
     "metadata": {},
     "output_type": "execute_result"
    }
   ],
   "source": [
    "s = get_tensor_statistics(o.pred_ptr);s"
   ]
  },
  {
   "cell_type": "code",
   "execution_count": null,
   "id": "9e34f427-b661-4e72-845b-ef73075220fe",
   "metadata": {},
   "outputs": [
    {
     "name": "stdout",
     "output_type": "stream",
     "text": [
      "Total recall : 43.611\n"
     ]
    },
    {
     "name": "stderr",
     "output_type": "stream",
     "text": [
      "/scratch/scai/phd/aiz218323/anaconda3/envs/xc_nlg/lib/python3.9/site-packages/scipy/sparse/_index.py:145: SparseEfficiencyWarning: Changing the sparsity structure of a csr_matrix is expensive. lil_matrix is more efficient.\n",
      "  self._set_arrayXarray(i, j, x)\n"
     ]
    }
   ],
   "source": [
    "r, rm = total_recall(o.pred_idx, o.pred_ptr, test_dset.data.data_lbl, test_dset.data.data_lbl_filterer) \n",
    "print(f'Total recall : {r*100:.3f}')"
   ]
  },
  {
   "cell_type": "code",
   "execution_count": null,
   "id": "a404781b-d1f6-4460-89c1-5eb90a3fe092",
   "metadata": {},
   "outputs": [
    {
     "data": {
      "text/html": [
       "<div>\n",
       "<style scoped>\n",
       "    .dataframe tbody tr th:only-of-type {\n",
       "        vertical-align: middle;\n",
       "    }\n",
       "\n",
       "    .dataframe tbody tr th {\n",
       "        vertical-align: top;\n",
       "    }\n",
       "\n",
       "    .dataframe thead th {\n",
       "        text-align: right;\n",
       "    }\n",
       "</style>\n",
       "<table border=\"1\" class=\"dataframe\">\n",
       "  <thead>\n",
       "    <tr style=\"text-align: right;\">\n",
       "      <th></th>\n",
       "      <th>mean</th>\n",
       "      <th>std</th>\n",
       "      <th>25</th>\n",
       "      <th>50</th>\n",
       "      <th>75</th>\n",
       "    </tr>\n",
       "  </thead>\n",
       "  <tbody>\n",
       "    <tr>\n",
       "      <th>0</th>\n",
       "      <td>43.611488</td>\n",
       "      <td>42.201412</td>\n",
       "      <td>0.0</td>\n",
       "      <td>33.333332</td>\n",
       "      <td>100.0</td>\n",
       "    </tr>\n",
       "  </tbody>\n",
       "</table>\n",
       "</div>"
      ],
      "text/plain": [
       "        mean        std   25         50     75\n",
       "0  43.611488  42.201412  0.0  33.333332  100.0"
      ]
     },
     "execution_count": null,
     "metadata": {},
     "output_type": "execute_result"
    }
   ],
   "source": [
    "r = get_tensor_statistics(torch.tensor(rm.sum(axis=1)).flatten()*rm.shape[0]*100); r"
   ]
  },
  {
   "cell_type": "code",
   "execution_count": null,
   "id": "c80d7dfb-247c-4f3c-bac7-8a9cc6d15074",
   "metadata": {},
   "outputs": [],
   "source": [
    "data_rec = torch.tensor(rm.sum(axis=1)).flatten()"
   ]
  },
  {
   "cell_type": "code",
   "execution_count": null,
   "id": "804781ce-5f11-491b-9e01-95e5a455d7be",
   "metadata": {},
   "outputs": [
    {
     "data": {
      "text/plain": [
       "<matplotlib.collections.PathCollection>"
      ]
     },
     "execution_count": null,
     "metadata": {},
     "output_type": "execute_result"
    },
    {
     "data": {
      "image/png": "[encoded data removed]",
      "text/plain": [
       "<Figure size 700x500 with 1 Axes>"
      ]
     },
     "metadata": {},
     "output_type": "display_data"
    }
   ],
   "source": [
    "import matplotlib.pyplot as plt\n",
    "\n",
    "set_plot_defaults()\n",
    "plt.figure(figsize=(7,5))\n",
    "plt.yscale('log')\n",
    "idx = torch.where(data_rec > 0)[0]\n",
    "plt.scatter(data_rec[idx], o.pred_ptr[idx], s=5)"
   ]
  },
  {
   "cell_type": "code",
   "execution_count": null,
   "id": "3b395240-7380-4f4d-9dda-27a914c1f1d3",
   "metadata": {},
   "outputs": [
    {
     "data": {
      "text/plain": [
       "(PearsonRResult(statistic=0.037018564878015636, pvalue=0.09791378546071804),\n",
       " SignificanceResult(statistic=0.0029317360208657556, pvalue=0.8957519439209245))"
      ]
     },
     "execution_count": null,
     "metadata": {},
     "output_type": "execute_result"
    }
   ],
   "source": [
    "stats.pearsonr(data_rec, o.pred_ptr), stats.spearmanr(data_rec, o.pred_ptr)"
   ]
  },
  {
   "cell_type": "markdown",
   "id": "0e8883d2-30d2-47a6-8013-d9dec9339947",
   "metadata": {},
   "source": [
    "# Representation"
   ]
  },
  {
   "cell_type": "code",
   "execution_count": null,
   "id": "c009294d-803a-4fdf-948a-90c6eb58d1ca",
   "metadata": {},
   "outputs": [],
   "source": [
    "args = XCLearningArguments(\n",
    "    output_dir=f'{dump_dir}/ngame_v-3-100_(mapped)LF-WikiSeeAlsoTitles-320K/',\n",
    "    index_efs=200,\n",
    "    representation_num_beams=200,\n",
    "    generation_length_penalty=1.5,\n",
    "    per_device_eval_batch_size=16,\n",
    "    evaluation_strategy='steps',\n",
    "    label_names=['lbl2data_idx'],\n",
    ")"
   ]
  },
  {
   "cell_type": "code",
   "execution_count": null,
   "id": "794d280e-2a1e-4df5-82b5-969f15363df9",
   "metadata": {},
   "outputs": [
    {
     "name": "stderr",
     "output_type": "stream",
     "text": [
      "Some weights of DBT008 were not initialized from the model checkpoint at sentence-transformers/msmarco-distilbert-base-v4 and are newly initialized: ['loss_fn.u', 'loss_fn.v']\n",
      "You should probably TRAIN this model on a down-stream task to be able to use it for predictions and inference.\n"
     ]
    }
   ],
   "source": [
    "bsz = max(args.per_device_train_batch_size, args.per_device_eval_batch_size)*torch.cuda.device_count()\n",
    "model = DBT008.from_pretrained('sentence-transformers/msmarco-distilbert-base-v4', bsz=bsz, tn_targ=10_000, ig_tok=0)"
   ]
  },
  {
   "cell_type": "code",
   "execution_count": null,
   "id": "4ef9da23-0943-4464-a5fc-005257c9c719",
   "metadata": {},
   "outputs": [
    {
     "data": {
      "text/plain": [
       "_IncompatibleKeys(missing_keys=['loss_fn.u', 'loss_fn.v'], unexpected_keys=[])"
      ]
     },
     "execution_count": null,
     "metadata": {},
     "output_type": "execute_result"
    }
   ],
   "source": [
    "from collections import OrderedDict\n",
    "\n",
    "mname = f'{args.output_dir}/model_network.pkl'\n",
    "m_state_dict, msd = OrderedDict(), torch.load(mname)\n",
    "for k in msd:\n",
    "    o = k.split('.')\n",
    "    if o[0] == 'encoder': m_state_dict['distilbert.'+'.'.join(o[5:])] = msd[k]\n",
    "model.load_state_dict(m_state_dict, strict=False)\n"
   ]
  },
  {
   "cell_type": "code",
   "execution_count": null,
   "id": "3008a1cc-154d-424e-a51c-bf53a9f41e67",
   "metadata": {},
   "outputs": [],
   "source": [
    "metric = PrecRecl(test_dset.n_lbl, test_dset.data.data_lbl_filterer, prop=block.train.dset.data.data_lbl,\n",
    "                  pk=10, rk=200, rep_pk=[1, 3, 5, 10], rep_rk=[2, 3, 10, 50, 100, 200])"
   ]
  },
  {
   "cell_type": "code",
   "execution_count": null,
   "id": "af7287c0-ec2e-4074-918e-71f25512a2df",
   "metadata": {},
   "outputs": [],
   "source": [
    "metric = PrecRecl(block.n_lbl, block.test.data_lbl_filterer, prop=block.train.dset.data.data_lbl,\n",
    "                  pk=10, rk=200, rep_pk=[1, 3, 5, 10], rep_rk=[2, 3, 10, 50, 100, 200])"
   ]
  },
  {
   "cell_type": "code",
   "execution_count": null,
   "id": "1b44efee-0b0c-4118-9814-82077b72ced0",
   "metadata": {},
   "outputs": [
    {
     "name": "stderr",
     "output_type": "stream",
     "text": [
      "/scratch/scai/phd/aiz218323/anaconda3/envs/xc_nlg/lib/python3.9/site-packages/accelerate/accelerator.py:432: FutureWarning: Passing the following arguments to `Accelerator` is deprecated and will be removed in version 1.0 of Accelerate: dict_keys(['dispatch_batches', 'split_batches', 'even_batches', 'use_seedable_sampler']). Please pass an `accelerate.DataLoaderConfiguration` instead: \n",
      "dataloader_config = DataLoaderConfiguration(dispatch_batches=None, split_batches=False, even_batches=True, use_seedable_sampler=True)\n",
      "  warnings.warn(\n",
      "Detected kernel version 3.10.0, which is below the recommended minimum of 5.5.0; this can cause the process to hang. It is recommended to upgrade the kernel to the minimum version or higher.\n"
     ]
    }
   ],
   "source": [
    "learn = XCLearner(\n",
    "    model=model, \n",
    "    args=args,\n",
    "    data_collator=block.collator, \n",
    "    compute_metrics=metric,\n",
    ")"
   ]
  },
  {
   "cell_type": "markdown",
   "id": "2ad44ee8-273f-4aa8-80f0-44a87d925066",
   "metadata": {},
   "source": [
    "ngame metrics with beam size 200"
   ]
  },
  {
   "cell_type": "code",
   "execution_count": null,
   "id": "008f7978-7fbb-4f86-95db-f94aaef4d4de",
   "metadata": {},
   "outputs": [
    {
     "data": {
      "application/vnd.jupyter.widget-view+json": {
       "model_id": "a4d090e1270a437e80474bd8e551cf3a",
       "version_major": 2,
       "version_minor": 0
      },
      "text/plain": [
       "  0%|          | 0/9761 [00:00<?, ?it/s]"
      ]
     },
     "metadata": {},
     "output_type": "display_data"
    },
    {
     "name": "stderr",
     "output_type": "stream",
     "text": [
      "/scratch/scai/phd/aiz218323/anaconda3/envs/xc_nlg/lib/python3.9/site-packages/torch/nn/parallel/_functions.py:68: UserWarning: Was asked to gather along dimension 0, but all input tensors were scalars; will instead unsqueeze and return a vector.\n",
      "  warnings.warn('Was asked to gather along dimension 0, but all '\n"
     ]
    },
    {
     "data": {
      "text/html": [],
      "text/plain": [
       "<IPython.core.display.HTML object>"
      ]
     },
     "metadata": {},
     "output_type": "display_data"
    },
    {
     "name": "stderr",
     "output_type": "stream",
     "text": [
      "/scratch/scai/phd/aiz218323/anaconda3/envs/xc_nlg/lib/python3.9/site-packages/scipy/sparse/_index.py:145: SparseEfficiencyWarning: Changing the sparsity structure of a csr_matrix is expensive. lil_matrix is more efficient.\n",
      "  self._set_arrayXarray(i, j, x)\n"
     ]
    },
    {
     "data": {
      "text/html": [
       "<div>\n",
       "<style scoped>\n",
       "    .dataframe tbody tr th:only-of-type {\n",
       "        vertical-align: middle;\n",
       "    }\n",
       "\n",
       "    .dataframe tbody tr th {\n",
       "        vertical-align: top;\n",
       "    }\n",
       "\n",
       "    .dataframe thead th {\n",
       "        text-align: right;\n",
       "    }\n",
       "</style>\n",
       "<table border=\"1\" class=\"dataframe\">\n",
       "  <thead>\n",
       "    <tr style=\"text-align: right;\">\n",
       "      <th></th>\n",
       "      <th>P@1</th>\n",
       "      <th>P@3</th>\n",
       "      <th>P@5</th>\n",
       "      <th>P@10</th>\n",
       "      <th>N@1</th>\n",
       "      <th>N@3</th>\n",
       "      <th>N@5</th>\n",
       "      <th>N@10</th>\n",
       "      <th>PSP@1</th>\n",
       "      <th>PSP@3</th>\n",
       "      <th>PSP@5</th>\n",
       "      <th>PSP@10</th>\n",
       "      <th>PSN@1</th>\n",
       "      <th>PSN@3</th>\n",
       "      <th>PSN@5</th>\n",
       "      <th>PSN@10</th>\n",
       "      <th>R@2</th>\n",
       "      <th>R@3</th>\n",
       "      <th>R@10</th>\n",
       "      <th>R@50</th>\n",
       "      <th>R@100</th>\n",
       "      <th>R@200</th>\n",
       "      <th>loss</th>\n",
       "      <th>runtime</th>\n",
       "      <th>samples_per_second</th>\n",
       "      <th>steps_per_second</th>\n",
       "    </tr>\n",
       "  </thead>\n",
       "  <tbody>\n",
       "    <tr>\n",
       "      <th>0</th>\n",
       "      <td>35.5</td>\n",
       "      <td>22.9167</td>\n",
       "      <td>17.32</td>\n",
       "      <td>10.975</td>\n",
       "      <td>35.5</td>\n",
       "      <td>34.7277</td>\n",
       "      <td>35.8913</td>\n",
       "      <td>38.2541</td>\n",
       "      <td>24.7755</td>\n",
       "      <td>26.625</td>\n",
       "      <td>29.1801</td>\n",
       "      <td>34.1228</td>\n",
       "      <td>24.7755</td>\n",
       "      <td>27.3746</td>\n",
       "      <td>29.4248</td>\n",
       "      <td>32.1409</td>\n",
       "      <td>27.4353</td>\n",
       "      <td>31.6029</td>\n",
       "      <td>43.9882</td>\n",
       "      <td>57.4864</td>\n",
       "      <td>62.7014</td>\n",
       "      <td>67.7988</td>\n",
       "      <td>0.3482</td>\n",
       "      <td>21.2901</td>\n",
       "      <td>93.94</td>\n",
       "      <td>2.959</td>\n",
       "    </tr>\n",
       "  </tbody>\n",
       "</table>\n",
       "</div>"
      ],
      "text/plain": [
       "    P@1      P@3    P@5    P@10   N@1      N@3      N@5     N@10    PSP@1  \\\n",
       "0  35.5  22.9167  17.32  10.975  35.5  34.7277  35.8913  38.2541  24.7755   \n",
       "\n",
       "    PSP@3    PSP@5   PSP@10    PSN@1    PSN@3    PSN@5   PSN@10      R@2  \\\n",
       "0  26.625  29.1801  34.1228  24.7755  27.3746  29.4248  32.1409  27.4353   \n",
       "\n",
       "       R@3     R@10     R@50    R@100    R@200    loss  runtime  \\\n",
       "0  31.6029  43.9882  57.4864  62.7014  67.7988  0.3482  21.2901   \n",
       "\n",
       "   samples_per_second  steps_per_second  \n",
       "0               93.94             2.959  "
      ]
     },
     "metadata": {},
     "output_type": "display_data"
    }
   ],
   "source": [
    "o = learn.predict(test_dset)\n",
    "display_metric(o.metrics)"
   ]
  },
  {
   "cell_type": "code",
   "execution_count": null,
   "id": "e0ae78ae-828b-46d6-8137-7bdb81cff82d",
   "metadata": {},
   "outputs": [
    {
     "data": {
      "application/vnd.jupyter.widget-view+json": {
       "model_id": "78705f609d064a189553563fa007d6a4",
       "version_major": 2,
       "version_minor": 0
      },
      "text/plain": [
       "  0%|          | 0/2441 [00:00<?, ?it/s]"
      ]
     },
     "metadata": {},
     "output_type": "display_data"
    },
    {
     "name": "stderr",
     "output_type": "stream",
     "text": [
      "/scratch/scai/phd/aiz218323/anaconda3/envs/xc_nlg/lib/python3.9/site-packages/torch/nn/parallel/_functions.py:68: UserWarning: Was asked to gather along dimension 0, but all input tensors were scalars; will instead unsqueeze and return a vector.\n",
      "  warnings.warn('Was asked to gather along dimension 0, but all '\n"
     ]
    },
    {
     "data": {
      "text/html": [
       "\n",
       "    <div>\n",
       "      \n",
       "      <progress value='1046' max='1387' style='width:300px; height:20px; vertical-align: middle;'></progress>\n",
       "      [1046/1387 10:04 < 03:17, 1.73 it/s]\n",
       "    </div>\n",
       "    "
      ],
      "text/plain": [
       "<IPython.core.display.HTML object>"
      ]
     },
     "metadata": {},
     "output_type": "display_data"
    }
   ],
   "source": [
    "o = learn.predict(block.test.dset)\n",
    "display_metric(o.metrics)"
   ]
  },
  {
   "cell_type": "code",
   "execution_count": null,
   "id": "020790bc-e08e-49ff-aec9-4ac133f1ba66",
   "metadata": {},
   "outputs": [],
   "source": [
    "pred_dir = f'{args.output_dir}/predictions/'\n",
    "os.makedirs(pred_dir, exist_ok=True)\n",
    "torch.save(o, f'{pred_dir}/test_lbl.pth')"
   ]
  },
  {
   "cell_type": "markdown",
   "id": "43ab8adb-03f1-443c-86b8-03132dead64b",
   "metadata": {},
   "source": [
    "## Reranking"
   ]
  },
  {
   "cell_type": "code",
   "execution_count": null,
   "id": "cd341dde-36de-4d23-be18-e4fe9db2e47f",
   "metadata": {},
   "outputs": [],
   "source": [
    "import torch.nn.functional as F"
   ]
  },
  {
   "cell_type": "code",
   "execution_count": null,
   "id": "5c1bf2fa-67eb-4583-a87d-d5a8ae65bf31",
   "metadata": {},
   "outputs": [
    {
     "data": {
      "application/vnd.jupyter.widget-view+json": {
       "model_id": "2cd49b2ad8cd4ee28960c49c16618209",
       "version_major": 2,
       "version_minor": 0
      },
      "text/plain": [
       "  0%|          | 0/63 [00:00<?, ?it/s]"
      ]
     },
     "metadata": {},
     "output_type": "display_data"
    }
   ],
   "source": [
    "data_repr = F.normalize(learn.get_representation(learn.get_test_dataloader(test_dset)), dim=1)"
   ]
  },
  {
   "cell_type": "code",
   "execution_count": null,
   "id": "76743679-cca1-48d2-82ff-ee189e85b7f6",
   "metadata": {},
   "outputs": [
    {
     "data": {
      "application/vnd.jupyter.widget-view+json": {
       "model_id": "1f4dff78f22c4d8fba464c125e0af78f",
       "version_major": 2,
       "version_minor": 0
      },
      "text/plain": [
       "  0%|          | 0/9761 [00:00<?, ?it/s]"
      ]
     },
     "metadata": {},
     "output_type": "display_data"
    }
   ],
   "source": [
    "lbl_repr = F.normalize(learn.get_representation(learn.get_test_dataloader(test_dset.lbl_dset)), dim=1)"
   ]
  },
  {
   "cell_type": "code",
   "execution_count": null,
   "id": "6867bb0e-0745-44f9-a4c1-344a57be3151",
   "metadata": {},
   "outputs": [],
   "source": []
  },
  {
   "cell_type": "code",
   "execution_count": null,
   "id": "546e5602-64b9-44e2-b377-8b6b2f815d82",
   "metadata": {},
   "outputs": [],
   "source": [
    "pred = torch.load(f'{dump_dir}/distilbert-base-uncased_RB33-NAR-3+8-2_(mapped)LF-WikiSeeAlsoTitles-320K/checkpoint-190000/\\\n",
    "predictions/test_lbl_atrie-hlk_n-smp-2000_seed-50.pth')"
   ]
  },
  {
   "cell_type": "code",
   "execution_count": null,
   "id": "30461eaa-6489-4e9d-93bb-46d9f9cd060d",
   "metadata": {},
   "outputs": [],
   "source": []
  },
  {
   "cell_type": "code",
   "execution_count": null,
   "id": "6f0412dc-bd2a-44cb-b504-7bc0ee7c9ee7",
   "metadata": {},
   "outputs": [
    {
     "data": {
      "application/vnd.jupyter.widget-view+json": {
       "model_id": "4618f6ddcab9437c9a32666a571179d6",
       "version_major": 2,
       "version_minor": 0
      },
      "text/plain": [
       "  0%|          | 0/2000 [00:00<?, ?it/s]"
      ]
     },
     "metadata": {},
     "output_type": "display_data"
    }
   ],
   "source": [
    "from tqdm.auto import tqdm\n",
    "sc,p = [],0\n",
    "for q,d in tqdm(zip(pred.pred_ptr.cumsum(0),data_repr), total=data_repr.shape[0]):\n",
    "    sc.append(d@lbl_repr[pred.pred_idx[p:q]].T);p=q\n",
    "sc = torch.cat(sc)"
   ]
  },
  {
   "cell_type": "code",
   "execution_count": null,
   "id": "e7fa537a-d4f8-44cf-9f24-9db50ed4626d",
   "metadata": {},
   "outputs": [],
   "source": [
    "o = {\n",
    "    'pred_idx': pred.pred_idx,\n",
    "    'pred_ptr': pred.pred_ptr,\n",
    "    'pred_score': pred.pred_score,\n",
    "}\n",
    "o['targ_idx'] = torch.tensor(test_dset.data.data_lbl.indices, dtype=torch.long)\n",
    "o['targ_ptr'] = torch.tensor([o.getnnz() for o in test_dset.data.data_lbl])"
   ]
  },
  {
   "cell_type": "code",
   "execution_count": null,
   "id": "01002f8b-32f6-42ae-9a81-6ba68a8626e0",
   "metadata": {},
   "outputs": [
    {
     "name": "stderr",
     "output_type": "stream",
     "text": [
      "/scratch/scai/phd/aiz218323/anaconda3/envs/xc_nlg/lib/python3.9/site-packages/scipy/sparse/_index.py:145: SparseEfficiencyWarning: Changing the sparsity structure of a csr_matrix is expensive. lil_matrix is more efficient.\n",
      "  self._set_arrayXarray(i, j, x)\n"
     ]
    }
   ],
   "source": [
    "m = metric(**o)"
   ]
  },
  {
   "cell_type": "code",
   "execution_count": null,
   "id": "134f3f27-d111-4faa-bd75-a28bb8ffc973",
   "metadata": {},
   "outputs": [
    {
     "data": {
      "text/html": [
       "<div>\n",
       "<style scoped>\n",
       "    .dataframe tbody tr th:only-of-type {\n",
       "        vertical-align: middle;\n",
       "    }\n",
       "\n",
       "    .dataframe tbody tr th {\n",
       "        vertical-align: top;\n",
       "    }\n",
       "\n",
       "    .dataframe thead th {\n",
       "        text-align: right;\n",
       "    }\n",
       "</style>\n",
       "<table border=\"1\" class=\"dataframe\">\n",
       "  <thead>\n",
       "    <tr style=\"text-align: right;\">\n",
       "      <th></th>\n",
       "      <th>P@1</th>\n",
       "      <th>P@3</th>\n",
       "      <th>P@5</th>\n",
       "      <th>P@10</th>\n",
       "      <th>N@1</th>\n",
       "      <th>N@3</th>\n",
       "      <th>N@5</th>\n",
       "      <th>N@10</th>\n",
       "      <th>PSP@1</th>\n",
       "      <th>PSP@3</th>\n",
       "      <th>PSP@5</th>\n",
       "      <th>PSP@10</th>\n",
       "      <th>PSN@1</th>\n",
       "      <th>PSN@3</th>\n",
       "      <th>PSN@5</th>\n",
       "      <th>PSN@10</th>\n",
       "      <th>R@2</th>\n",
       "      <th>R@3</th>\n",
       "      <th>R@10</th>\n",
       "      <th>R@50</th>\n",
       "      <th>R@100</th>\n",
       "      <th>R@200</th>\n",
       "    </tr>\n",
       "  </thead>\n",
       "  <tbody>\n",
       "    <tr>\n",
       "      <th>0</th>\n",
       "      <td>14.1</td>\n",
       "      <td>7.95</td>\n",
       "      <td>5.78</td>\n",
       "      <td>3.435</td>\n",
       "      <td>14.1</td>\n",
       "      <td>13.19366</td>\n",
       "      <td>13.480878</td>\n",
       "      <td>14.091802</td>\n",
       "      <td>8.500727</td>\n",
       "      <td>8.078359</td>\n",
       "      <td>8.53377</td>\n",
       "      <td>9.298638</td>\n",
       "      <td>8.500728</td>\n",
       "      <td>8.71383</td>\n",
       "      <td>9.209805</td>\n",
       "      <td>9.822391</td>\n",
       "      <td>10.445745</td>\n",
       "      <td>12.245793</td>\n",
       "      <td>16.000145</td>\n",
       "      <td>23.235362</td>\n",
       "      <td>27.749551</td>\n",
       "      <td>32.392563</td>\n",
       "    </tr>\n",
       "  </tbody>\n",
       "</table>\n",
       "</div>"
      ],
      "text/plain": [
       "    P@1   P@3   P@5   P@10   N@1       N@3        N@5       N@10     PSP@1  \\\n",
       "0  14.1  7.95  5.78  3.435  14.1  13.19366  13.480878  14.091802  8.500727   \n",
       "\n",
       "      PSP@3    PSP@5    PSP@10     PSN@1    PSN@3     PSN@5    PSN@10  \\\n",
       "0  8.078359  8.53377  9.298638  8.500728  8.71383  9.209805  9.822391   \n",
       "\n",
       "         R@2        R@3       R@10       R@50      R@100      R@200  \n",
       "0  10.445745  12.245793  16.000145  23.235362  27.749551  32.392563  "
      ]
     },
     "metadata": {},
     "output_type": "display_data"
    }
   ],
   "source": [
    "with pd.option_context('display.max_columns', None):\n",
    "    display(pd.DataFrame([m])[sorted_metric(m, order=['P', 'N', 'PSP', 'PSN'])] * 100)"
   ]
  },
  {
   "cell_type": "code",
   "execution_count": null,
   "id": "d0e5a2e0-1432-4968-bf83-6598cea9ff88",
   "metadata": {},
   "outputs": [],
   "source": [
    "o['pred_score'] = sc"
   ]
  },
  {
   "cell_type": "code",
   "execution_count": null,
   "id": "b6dba690-7cff-4f46-a364-b3f518948f54",
   "metadata": {},
   "outputs": [
    {
     "name": "stderr",
     "output_type": "stream",
     "text": [
      "/scratch/scai/phd/aiz218323/anaconda3/envs/xc_nlg/lib/python3.9/site-packages/scipy/sparse/_index.py:145: SparseEfficiencyWarning: Changing the sparsity structure of a csr_matrix is expensive. lil_matrix is more efficient.\n",
      "  self._set_arrayXarray(i, j, x)\n"
     ]
    }
   ],
   "source": [
    "m = metric(**o)"
   ]
  },
  {
   "cell_type": "code",
   "execution_count": null,
   "id": "810984ad-44bd-4451-830c-631c474ee208",
   "metadata": {},
   "outputs": [],
   "source": []
  },
  {
   "cell_type": "code",
   "execution_count": null,
   "id": "1321ad11-aa10-497f-8eed-2212396df54b",
   "metadata": {},
   "outputs": [
    {
     "data": {
      "text/html": [
       "<div>\n",
       "<style scoped>\n",
       "    .dataframe tbody tr th:only-of-type {\n",
       "        vertical-align: middle;\n",
       "    }\n",
       "\n",
       "    .dataframe tbody tr th {\n",
       "        vertical-align: top;\n",
       "    }\n",
       "\n",
       "    .dataframe thead th {\n",
       "        text-align: right;\n",
       "    }\n",
       "</style>\n",
       "<table border=\"1\" class=\"dataframe\">\n",
       "  <thead>\n",
       "    <tr style=\"text-align: right;\">\n",
       "      <th></th>\n",
       "      <th>P@1</th>\n",
       "      <th>P@3</th>\n",
       "      <th>P@5</th>\n",
       "      <th>P@10</th>\n",
       "      <th>N@1</th>\n",
       "      <th>N@3</th>\n",
       "      <th>N@5</th>\n",
       "      <th>N@10</th>\n",
       "      <th>PSP@1</th>\n",
       "      <th>PSP@3</th>\n",
       "      <th>PSP@5</th>\n",
       "      <th>PSP@10</th>\n",
       "      <th>PSN@1</th>\n",
       "      <th>PSN@3</th>\n",
       "      <th>PSN@5</th>\n",
       "      <th>PSN@10</th>\n",
       "      <th>R@2</th>\n",
       "      <th>R@3</th>\n",
       "      <th>R@10</th>\n",
       "      <th>R@50</th>\n",
       "      <th>R@100</th>\n",
       "      <th>R@200</th>\n",
       "    </tr>\n",
       "  </thead>\n",
       "  <tbody>\n",
       "    <tr>\n",
       "      <th>0</th>\n",
       "      <td>27.05</td>\n",
       "      <td>18.283333</td>\n",
       "      <td>13.78</td>\n",
       "      <td>8.505</td>\n",
       "      <td>27.050001</td>\n",
       "      <td>27.158207</td>\n",
       "      <td>28.092009</td>\n",
       "      <td>29.566076</td>\n",
       "      <td>16.910834</td>\n",
       "      <td>19.011092</td>\n",
       "      <td>20.906068</td>\n",
       "      <td>23.913551</td>\n",
       "      <td>16.910835</td>\n",
       "      <td>19.219286</td>\n",
       "      <td>20.758394</td>\n",
       "      <td>22.45076</td>\n",
       "      <td>20.552134</td>\n",
       "      <td>25.236278</td>\n",
       "      <td>34.40866</td>\n",
       "      <td>40.847185</td>\n",
       "      <td>41.775963</td>\n",
       "      <td>42.372265</td>\n",
       "    </tr>\n",
       "  </tbody>\n",
       "</table>\n",
       "</div>"
      ],
      "text/plain": [
       "     P@1        P@3    P@5   P@10        N@1        N@3        N@5       N@10  \\\n",
       "0  27.05  18.283333  13.78  8.505  27.050001  27.158207  28.092009  29.566076   \n",
       "\n",
       "       PSP@1      PSP@3      PSP@5     PSP@10      PSN@1      PSN@3  \\\n",
       "0  16.910834  19.011092  20.906068  23.913551  16.910835  19.219286   \n",
       "\n",
       "       PSN@5    PSN@10        R@2        R@3      R@10       R@50      R@100  \\\n",
       "0  20.758394  22.45076  20.552134  25.236278  34.40866  40.847185  41.775963   \n",
       "\n",
       "       R@200  \n",
       "0  42.372265  "
      ]
     },
     "metadata": {},
     "output_type": "display_data"
    }
   ],
   "source": [
    "with pd.option_context('display.max_columns', None):\n",
    "    display(pd.DataFrame([m])[sorted_metric(m, order=['P', 'N', 'PSP', 'PSN'])] * 100)"
   ]
  },
  {
   "cell_type": "code",
   "execution_count": null,
   "id": "623fe512-52e0-4e52-bae6-033aeaa2d8a2",
   "metadata": {},
   "outputs": [],
   "source": []
  }
 ],
 "metadata": {
  "kernelspec": {
   "display_name": "Python 3 (ipykernel)",
   "language": "python",
   "name": "python3"
  },
  "language_info": {
   "codemirror_mode": {
    "name": "ipython",
    "version": 3
   },
   "file_extension": ".py",
   "mimetype": "text/x-python",
   "name": "python",
   "nbconvert_exporter": "python",
   "pygments_lexer": "ipython3",
   "version": "3.9.18"
  }
 },
 "nbformat": 4,
 "nbformat_minor": 5
}
