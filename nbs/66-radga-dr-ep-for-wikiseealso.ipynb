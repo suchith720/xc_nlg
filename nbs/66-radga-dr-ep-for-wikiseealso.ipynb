{
 "cells": [
  {
   "cell_type": "markdown",
   "id": "6e3a0f4c-1cfb-4a14-b8f2-fdea31c390ec",
   "metadata": {},
   "source": [
    "# RAGDA DR training"
   ]
  },
  {
   "cell_type": "code",
   "execution_count": null,
   "id": "ddda97e8-16ac-42c7-9ad4-f981e21c0aa2",
   "metadata": {},
   "outputs": [],
   "source": [
    "#| default_exp 66-radga-dr-ep-for-wikiseealso"
   ]
  },
  {
   "cell_type": "code",
   "execution_count": null,
   "id": "3f35d8be-1323-400a-b78e-d0a4d2697801",
   "metadata": {},
   "outputs": [],
   "source": [
    "%load_ext autoreload\n",
    "%autoreload 2\n",
    "\n",
    "from nbdev.showdoc import *\n",
    "import nbdev; nbdev.nbdev_export()"
   ]
  },
  {
   "cell_type": "code",
   "execution_count": null,
   "id": "d685e35e-9a13-4186-b7f4-b831b10086bb",
   "metadata": {},
   "outputs": [],
   "source": [
    "#| export\n",
    "import os,torch, torch.multiprocessing as mp, pickle\n",
    "from xcai.basics import *\n",
    "from xcai.analysis import *\n",
    "from xcai.models.radga import RAD002"
   ]
  },
  {
   "cell_type": "code",
   "execution_count": null,
   "id": "e0c924c6",
   "metadata": {},
   "outputs": [],
   "source": [
    "os.environ['WANDB_MODE'] = 'disabled'"
   ]
  },
  {
   "cell_type": "code",
   "execution_count": null,
   "id": "53768670-9905-46b0-9a6d-b6e91d50b918",
   "metadata": {},
   "outputs": [],
   "source": [
    "#| export\n",
    "os.environ['CUDA_VISIBLE_DEVICES'] = '0,1'\n",
    "os.environ['WANDB_PROJECT']='xc-nlg_66-radga-dr-ep-for-wikiseealso'"
   ]
  },
  {
   "cell_type": "code",
   "execution_count": null,
   "id": "3dc96ec3",
   "metadata": {},
   "outputs": [],
   "source": [
    "data_dir = '/home/scai/phd/aiz218323/Projects/XC_NLG/data'"
   ]
  },
  {
   "cell_type": "code",
   "execution_count": null,
   "id": "ba38fcb0-3ebf-4f79-aa20-1a1321b791c5",
   "metadata": {},
   "outputs": [],
   "source": [
    "block = XCBlock.from_cfg(data_dir, 'data_metas', tfm='rm', tokenizer='distilbert-base-uncased', \n",
    "                         smp_features=[('lbl2data|cat2lbl2data',1, (1,3)), ('cat2data',1,3)])"
   ]
  },
  {
   "cell_type": "code",
   "execution_count": null,
   "id": "94ae9a4f-3a36-43cd-8292-8a635dddce10",
   "metadata": {},
   "outputs": [],
   "source": [
    "block = XCBlock.from_cfg(data_dir, 'data', tfm='xcnlg', tokenizer='distilbert-base-uncased', \n",
    "                         smp_features=[('lbl2data',1, 1)])"
   ]
  },
  {
   "cell_type": "code",
   "execution_count": null,
   "id": "dee2495a-0627-4009-9af1-2f0795d62d67",
   "metadata": {},
   "outputs": [],
   "source": []
  },
  {
   "cell_type": "code",
   "execution_count": null,
   "id": "67f7ff60",
   "metadata": {},
   "outputs": [],
   "source": [
    "#| export\n",
    "data_dir = '/home/scai/phd/aiz218323/scratch/datasets/'\n",
    "pkl_file = f'{pkl_dir}/processed/wikiseealso_data-metas_distilbert-base-uncased_rm_radga-cat-final.pkl'"
   ]
  },
  {
   "cell_type": "code",
   "execution_count": null,
   "id": "a17d16fe-b3f0-47fe-ba92-29084530de61",
   "metadata": {},
   "outputs": [],
   "source": [
    "data_dir = '/home/scai/phd/aiz218323/scratch/datasets/'\n",
    "pkl_file = f'{pkl_dir}/processed/wikiseealso_data_distilbert-base-uncased_xcnlg_ngame.pkl'"
   ]
  },
  {
   "cell_type": "code",
   "execution_count": null,
   "id": "973af710-009c-4102-b0e1-e02f7ba43b9c",
   "metadata": {},
   "outputs": [],
   "source": []
  },
  {
   "cell_type": "code",
   "execution_count": null,
   "id": "a14bf4ff-1e41-41f5-bd2e-7d430e7a86b3",
   "metadata": {},
   "outputs": [],
   "source": [
    "with open(pkl_file, 'wb') as file: pickle.dump(block, file)"
   ]
  },
  {
   "cell_type": "code",
   "execution_count": null,
   "id": "779192a4-4a7f-4f9a-a711-fdf52d69e363",
   "metadata": {},
   "outputs": [],
   "source": []
  },
  {
   "cell_type": "code",
   "execution_count": null,
   "id": "4a19cd80",
   "metadata": {},
   "outputs": [],
   "source": [
    "#| export\n",
    "with open(pkl_file, 'rb') as file: block = pickle.load(file)"
   ]
  },
  {
   "cell_type": "markdown",
   "id": "2554487b",
   "metadata": {},
   "source": [
    "## Training"
   ]
  },
  {
   "cell_type": "code",
   "execution_count": null,
   "id": "73b6a059-3409-4c00-a575-dcdb5775adc9",
   "metadata": {},
   "outputs": [],
   "source": [
    "#| export\n",
    "args = XCLearningArguments(\n",
    "    output_dir='/home/scai/phd/aiz218323/scratch/outputs/66-radga-dr-ep-for-wikiseealso-1-0',\n",
    "    logging_first_step=True,\n",
    "    per_device_train_batch_size=800,\n",
    "    per_device_eval_batch_size=800,\n",
    "    representation_num_beams=200,\n",
    "    representation_accumulation_steps=10,\n",
    "    representation_attribute=\"data_fused_repr\",\n",
    "    save_strategy=\"steps\",\n",
    "    evaluation_strategy=\"steps\",\n",
    "    eval_steps=5000,\n",
    "    save_steps=5000,\n",
    "    save_total_limit=5,\n",
    "    num_train_epochs=300,\n",
    "    predict_with_representation=True,\n",
    "    adam_epsilon=1e-6,\n",
    "    warmup_steps=100,\n",
    "    weight_decay=0.0,\n",
    "    learning_rate=2e-4,\n",
    "    generation_num_beams=10,\n",
    "    generation_length_penalty=1.5,\n",
    "    predict_with_generation=True,\n",
    "    representation_search_type='INDEX',\n",
    "    group_by_cluster=True,\n",
    "    num_clustering_warmup_epochs=10,\n",
    "    num_cluster_update_epochs=5,\n",
    "    num_cluster_size_update_epochs=25,\n",
    "    clustering_type='EXPO',\n",
    "    minimum_cluster_size=2,\n",
    "    maximum_cluster_size=1600,\n",
    "    output_concatenation_weight=1.0,\n",
    "    metric_for_best_model='P@1',\n",
    "    load_best_model_at_end=True,\n",
    "    target_indices_key='plbl2data_idx',\n",
    "    target_pointer_key='plbl2data_data2ptr',\n",
    "    use_encoder_parallel=True,\n",
    "    max_grad_norm=None,\n",
    "    fp16=True,\n",
    "    label_names=['cat2data_idx', 'cat2data_input_ids', 'cat2data_attention_mask'],\n",
    "    # label_names=['hlk2data_idx', 'hlk2data_input_ids', 'hlk2data_attention_mask',\n",
    "    #              'hlk2lbl2data_idx', 'hlk2lbl2data_input_ids', 'hlk2lbl2data_attention_mask'],\n",
    ")"
   ]
  },
  {
   "cell_type": "code",
   "execution_count": null,
   "id": "cfbc728f",
   "metadata": {},
   "outputs": [],
   "source": [
    "#| export\n",
    "metric = PrecRecl(block.n_lbl, block.test.data_lbl_filterer, prop=block.train.dset.data.data_lbl,\n",
    "                  pk=10, rk=200, rep_pk=[1, 3, 5, 10], rep_rk=[10, 100, 200])"
   ]
  },
  {
   "cell_type": "code",
   "execution_count": null,
   "id": "a12171f9",
   "metadata": {},
   "outputs": [
    {
     "name": "stderr",
     "output_type": "stream",
     "text": [
      "Some weights of RAD002 were not initialized from the model checkpoint at sentence-transformers/msmarco-distilbert-base-v4 and are newly initialized: ['encoder.cross_head.k.bias', 'encoder.cross_head.k.weight', 'encoder.cross_head.o.bias', 'encoder.cross_head.o.weight', 'encoder.cross_head.q.bias', 'encoder.cross_head.q.weight', 'encoder.cross_head.v.bias', 'encoder.cross_head.v.weight', 'encoder.dr_head.layer_norm.bias', 'encoder.dr_head.layer_norm.weight', 'encoder.dr_head.projector.bias', 'encoder.dr_head.projector.weight', 'encoder.dr_head.transform.bias', 'encoder.dr_head.transform.weight', 'encoder.meta_head.layer_norm.bias', 'encoder.meta_head.layer_norm.weight', 'encoder.meta_head.projector.bias', 'encoder.meta_head.projector.weight', 'encoder.meta_head.transform.bias', 'encoder.meta_head.transform.weight']\n",
      "You should probably TRAIN this model on a down-stream task to be able to use it for predictions and inference.\n"
     ]
    }
   ],
   "source": [
    "#| export\n",
    "bsz = max(args.per_device_train_batch_size, args.per_device_eval_batch_size)*torch.cuda.device_count()\n",
    "\n",
    "model = RAD002.from_pretrained('sentence-transformers/msmarco-distilbert-base-v4', num_batch_labels=5000, batch_size=bsz,\n",
    "                               margin=0.3, num_negatives=10, tau=0.1, apply_softmax=True,\n",
    "                               \n",
    "                               data_aug_meta_prefix='cat2data', lbl2data_aug_meta_prefix='cat2lbl', \n",
    "                               resize_length=5000,\n",
    "                               \n",
    "                               meta_loss_weight=0.3, pred_meta_prefix='hlk', \n",
    "                               \n",
    "                               fusion_loss_weight=0.05, use_fusion_loss=False, use_noise=False, use_encoder_parallel=True)\n",
    "model.init_retrieval_head()\n",
    "model.init_cross_head()"
   ]
  },
  {
   "cell_type": "code",
   "execution_count": null,
   "id": "01d48f78",
   "metadata": {},
   "outputs": [
    {
     "name": "stderr",
     "output_type": "stream",
     "text": [
      "/scratch/scai/phd/aiz218323/anaconda3/envs/xc_nlg/lib/python3.9/site-packages/accelerate/accelerator.py:432: FutureWarning: Passing the following arguments to `Accelerator` is deprecated and will be removed in version 1.0 of Accelerate: dict_keys(['dispatch_batches', 'split_batches', 'even_batches', 'use_seedable_sampler']). Please pass an `accelerate.DataLoaderConfiguration` instead: \n",
      "dataloader_config = DataLoaderConfiguration(dispatch_batches=None, split_batches=False, even_batches=True, use_seedable_sampler=True)\n",
      "  warnings.warn(\n",
      "Detected kernel version 3.10.0, which is below the recommended minimum of 5.5.0; this can cause the process to hang. It is recommended to upgrade the kernel to the minimum version or higher.\n"
     ]
    }
   ],
   "source": [
    "#| export\n",
    "learn = XCLearner(\n",
    "    model=model, \n",
    "    args=args,\n",
    "    train_dataset=block.train.dset,\n",
    "    eval_dataset=block.test.dset,\n",
    "    data_collator=block.collator,\n",
    "    compute_metrics=metric,\n",
    ")"
   ]
  },
  {
   "cell_type": "code",
   "execution_count": null,
   "id": "f832ba01-b786-4688-a891-05946b908be4",
   "metadata": {},
   "outputs": [],
   "source": []
  },
  {
   "cell_type": "code",
   "execution_count": null,
   "id": "aba00769",
   "metadata": {},
   "outputs": [],
   "source": [
    "learn.train()"
   ]
  },
  {
   "cell_type": "code",
   "execution_count": null,
   "id": "7fc60dbd",
   "metadata": {},
   "outputs": [],
   "source": []
  },
  {
   "cell_type": "code",
   "execution_count": null,
   "id": "68cd155e-912d-4780-b60d-b7c6749b30b3",
   "metadata": {},
   "outputs": [],
   "source": [
    "#| export\n",
    "if __name__ == '__main__':\n",
    "    mp.freeze_support()\n",
    "    learn.train()"
   ]
  },
  {
   "cell_type": "markdown",
   "id": "3143862b-c664-4be9-994c-c0ef86cc5ad9",
   "metadata": {},
   "source": [
    "## Prediction"
   ]
  },
  {
   "cell_type": "code",
   "execution_count": null,
   "id": "feac3c77-c218-4151-a299-4c140bd47698",
   "metadata": {},
   "outputs": [],
   "source": [
    "#| export\n",
    "args = XCLearningArguments(\n",
    "    output_dir='/home/scai/phd/aiz218323/scratch/outputs/66-radga-dr-ep-for-wikiseealso-1-6',\n",
    "    logging_first_step=True,\n",
    "    per_device_train_batch_size=800,\n",
    "    per_device_eval_batch_size=800,\n",
    "    representation_num_beams=200,\n",
    "    representation_accumulation_steps=10,\n",
    "    output_representation_attribute=\"data_fused_repr\",\n",
    "    representation_attribute=\"data_fused_repr\",\n",
    "    \n",
    "    predict_with_representation=True,\n",
    "    representation_search_type='INDEX',\n",
    "    \n",
    "    metric_for_best_model='P@1',\n",
    "    target_indices_key='plbl2data_idx',\n",
    "    target_pointer_key='plbl2data_data2ptr',\n",
    "    use_encoder_parallel=True,\n",
    "    fp16=True,\n",
    "    label_names=['cat2data_idx', 'cat2data_input_ids', 'cat2data_attention_mask'],\n",
    "    # label_names=['hlk2data_idx', 'hlk2data_input_ids', 'hlk2data_attention_mask',\n",
    "    #              'hlk2lbl2data_idx', 'hlk2lbl2data_input_ids', 'hlk2lbl2data_attention_mask'],\n",
    "\n",
    "    predict_with_augmentation=True,\n",
    "    use_augmentation_index_representation=True,\n",
    "    \n",
    "    data_aug_meta_name='cat',\n",
    "    augmentation_num_beams=4,\n",
    "    data_aug_prefix='aug',\n",
    "    use_label_metadata=False,\n",
    ")"
   ]
  },
  {
   "cell_type": "code",
   "execution_count": null,
   "id": "7f4f1045-de24-4be9-890b-defb99f40133",
   "metadata": {},
   "outputs": [],
   "source": [
    "output_dir = f\"/home/scai/phd/aiz218323/scratch/outputs/{os.path.basename(args.output_dir)}\"\n",
    "mname = f'{output_dir}/{os.path.basename(get_best_model(output_dir))}'"
   ]
  },
  {
   "cell_type": "code",
   "execution_count": null,
   "id": "f8164bfc-5f61-432c-95d0-480f97df46bd",
   "metadata": {},
   "outputs": [],
   "source": [
    "mname = f'{output_dir}/checkpoint-130200'"
   ]
  },
  {
   "cell_type": "code",
   "execution_count": null,
   "id": "519dae83-f6e0-469f-bbba-40a5e89c094b",
   "metadata": {},
   "outputs": [],
   "source": [
    "bsz = max(args.per_device_train_batch_size, args.per_device_eval_batch_size)*torch.cuda.device_count()\n",
    "\n",
    "model = RAD002.from_pretrained(mname, num_batch_labels=5000, batch_size=bsz,\n",
    "                               margin=0.3, num_negatives=10, tau=0.1, apply_softmax=True,\n",
    "                                \n",
    "                               data_aug_meta_prefix='aug2data', lbl2data_aug_meta_prefix='aug2lbl', \n",
    "                               resize_length=5000,\n",
    "                               \n",
    "                               meta_loss_weight=0.3, \n",
    "                               pred_meta_prefix=None, #pred_meta_prefix='cat', \n",
    "                               \n",
    "                               fusion_loss_weight=0.1, use_fusion_loss=False, use_noise=False, use_encoder_parallel=True)"
   ]
  },
  {
   "cell_type": "code",
   "execution_count": null,
   "id": "c12d14c2-2c56-4799-8795-c59991966db6",
   "metadata": {},
   "outputs": [],
   "source": [
    "import numpy as np\n",
    "from xcai.data import MainXCDataset, XCDataBlock, XCDataset, BaseXCDataBlock\n",
    "\n",
    "dataset = MainXCDataset(block.test.dset.data.data_info, block.test.dset.meta['cat_meta'].data_meta, \n",
    "                        block.test.dset.meta['cat_meta'].meta_info)\n",
    "idx = np.where(dataset.data_lbl.getnnz(axis=1) > 0)[0]\n",
    "test_meta_dset = XCDataset(dataset._getitems(idx))\n",
    "\n",
    "dataset = MainXCDataset(block.train.dset.data.data_info, block.train.dset.meta['cat_meta'].data_meta, \n",
    "                        block.train.dset.meta['cat_meta'].meta_info)\n",
    "idx = np.where(dataset.data_lbl.getnnz(axis=1) > 0)[0]\n",
    "train_meta_dset = XCDataset(dataset._getitems(idx))"
   ]
  },
  {
   "cell_type": "code",
   "execution_count": null,
   "id": "1aafe0a1-a370-4333-91e4-48b3c908216c",
   "metadata": {},
   "outputs": [],
   "source": []
  },
  {
   "cell_type": "code",
   "execution_count": null,
   "id": "99dedef7-123b-474b-a335-98062d42b218",
   "metadata": {},
   "outputs": [],
   "source": [
    "metric = PrecRecl(block.n_lbl, block.test.data_lbl_filterer, prop=block.train.dset.data.data_lbl,\n",
    "                  pk=10, rk=200, rep_pk=[1, 3, 5, 10], rep_rk=[10, 100, 200])"
   ]
  },
  {
   "cell_type": "code",
   "execution_count": null,
   "id": "c9c8ee1d-0b01-46b7-8df1-29c949ba3089",
   "metadata": {},
   "outputs": [
    {
     "name": "stderr",
     "output_type": "stream",
     "text": [
      "/scratch/scai/phd/aiz218323/anaconda3/envs/xc_nlg/lib/python3.9/site-packages/accelerate/accelerator.py:432: FutureWarning: Passing the following arguments to `Accelerator` is deprecated and will be removed in version 1.0 of Accelerate: dict_keys(['dispatch_batches', 'split_batches', 'even_batches', 'use_seedable_sampler']). Please pass an `accelerate.DataLoaderConfiguration` instead: \n",
      "dataloader_config = DataLoaderConfiguration(dispatch_batches=None, split_batches=False, even_batches=True, use_seedable_sampler=True)\n",
      "  warnings.warn(\n",
      "Detected kernel version 3.10.0, which is below the recommended minimum of 5.5.0; this can cause the process to hang. It is recommended to upgrade the kernel to the minimum version or higher.\n"
     ]
    }
   ],
   "source": [
    "learn = XCLearner(\n",
    "    model=model, \n",
    "    args=args,\n",
    "    train_dataset=block.train.dset,\n",
    "    eval_dataset=block.test.dset,\n",
    "    data_collator=block.collator,\n",
    "    compute_metrics=metric,\n",
    ")"
   ]
  },
  {
   "cell_type": "code",
   "execution_count": null,
   "id": "88762243-ec31-4bad-bc89-cf5a9e9e7b35",
   "metadata": {},
   "outputs": [],
   "source": []
  },
  {
   "cell_type": "code",
   "execution_count": null,
   "id": "c17bfff2-88b4-4441-aa3d-96f5de38950f",
   "metadata": {},
   "outputs": [],
   "source": [
    "metric = PrecRecl(test_meta_dset.n_lbl, test_meta_dset.data.data_lbl_filterer, prop=train_meta_dset.data.data_lbl,\n",
    "                  pk=10, rk=200, rep_pk=[1, 3, 5, 10], rep_rk=[10, 100, 200])"
   ]
  },
  {
   "cell_type": "code",
   "execution_count": null,
   "id": "95e4187b-06a3-4644-8b28-299d9eb77cf1",
   "metadata": {},
   "outputs": [
    {
     "name": "stderr",
     "output_type": "stream",
     "text": [
      "/scratch/scai/phd/aiz218323/anaconda3/envs/xc_nlg/lib/python3.9/site-packages/accelerate/accelerator.py:432: FutureWarning: Passing the following arguments to `Accelerator` is deprecated and will be removed in version 1.0 of Accelerate: dict_keys(['dispatch_batches', 'split_batches', 'even_batches', 'use_seedable_sampler']). Please pass an `accelerate.DataLoaderConfiguration` instead: \n",
      "dataloader_config = DataLoaderConfiguration(dispatch_batches=None, split_batches=False, even_batches=True, use_seedable_sampler=True)\n",
      "  warnings.warn(\n",
      "Detected kernel version 3.10.0, which is below the recommended minimum of 5.5.0; this can cause the process to hang. It is recommended to upgrade the kernel to the minimum version or higher.\n"
     ]
    }
   ],
   "source": [
    "learn = XCLearner(\n",
    "    model=model, \n",
    "    args=args,\n",
    "    train_dataset=train_meta_dset,\n",
    "    eval_dataset=test_meta_dset,\n",
    "    data_collator=block.collator,\n",
    "    compute_metrics=metric,\n",
    ")"
   ]
  },
  {
   "cell_type": "code",
   "execution_count": null,
   "id": "edf6845b-ebbc-4652-a24e-9860bf653a0d",
   "metadata": {},
   "outputs": [
    {
     "data": {
      "application/vnd.jupyter.widget-view+json": {
       "model_id": "1df722c63e4e4a048a37565ac58ceedb",
       "version_major": 2,
       "version_minor": 0
      },
      "text/plain": [
       "  0%|          | 0/411 [00:00<?, ?it/s]"
      ]
     },
     "metadata": {},
     "output_type": "display_data"
    },
    {
     "name": "stderr",
     "output_type": "stream",
     "text": [
      "/scratch/scai/phd/aiz218323/Projects/xcai/xcai/losses.py:22: UserWarning: Sparse CSR tensor support is in beta state. If you miss a functionality in the sparse tensor support, please submit a feature request to https://github.com/pytorch/pytorch/issues. (Triggered internally at ../aten/src/ATen/SparseCsrTensorImpl.cpp:53.)\n",
      "  return torch.sparse_csr_tensor(data_ptr, data_idx, scores, device=data_ptr.device)\n"
     ]
    },
    {
     "data": {
      "text/html": [],
      "text/plain": [
       "<IPython.core.display.HTML object>"
      ]
     },
     "metadata": {},
     "output_type": "display_data"
    }
   ],
   "source": [
    "o = learn.predict(test_meta_dset)"
   ]
  },
  {
   "cell_type": "code",
   "execution_count": null,
   "id": "b8d1a206-6cce-4346-a89f-18ed1caaa92e",
   "metadata": {},
   "outputs": [
    {
     "data": {
      "text/html": [
       "<div>\n",
       "<style scoped>\n",
       "    .dataframe tbody tr th:only-of-type {\n",
       "        vertical-align: middle;\n",
       "    }\n",
       "\n",
       "    .dataframe tbody tr th {\n",
       "        vertical-align: top;\n",
       "    }\n",
       "\n",
       "    .dataframe thead th {\n",
       "        text-align: right;\n",
       "    }\n",
       "</style>\n",
       "<table border=\"1\" class=\"dataframe\">\n",
       "  <thead>\n",
       "    <tr style=\"text-align: right;\">\n",
       "      <th></th>\n",
       "      <th>P@1</th>\n",
       "      <th>P@3</th>\n",
       "      <th>P@5</th>\n",
       "      <th>P@10</th>\n",
       "      <th>N@1</th>\n",
       "      <th>N@3</th>\n",
       "      <th>N@5</th>\n",
       "      <th>N@10</th>\n",
       "      <th>PSP@1</th>\n",
       "      <th>PSP@3</th>\n",
       "      <th>PSP@5</th>\n",
       "      <th>PSP@10</th>\n",
       "      <th>PSN@1</th>\n",
       "      <th>PSN@3</th>\n",
       "      <th>PSN@5</th>\n",
       "      <th>PSN@10</th>\n",
       "      <th>R@10</th>\n",
       "      <th>R@100</th>\n",
       "      <th>R@200</th>\n",
       "      <th>loss</th>\n",
       "      <th>runtime</th>\n",
       "      <th>samples_per_second</th>\n",
       "      <th>steps_per_second</th>\n",
       "    </tr>\n",
       "  </thead>\n",
       "  <tbody>\n",
       "    <tr>\n",
       "      <th>0</th>\n",
       "      <td>34.5028</td>\n",
       "      <td>18.4519</td>\n",
       "      <td>13.2887</td>\n",
       "      <td>8.2554</td>\n",
       "      <td>34.5028</td>\n",
       "      <td>26.0972</td>\n",
       "      <td>25.4834</td>\n",
       "      <td>26.5477</td>\n",
       "      <td>28.9366</td>\n",
       "      <td>21.3815</td>\n",
       "      <td>20.5157</td>\n",
       "      <td>21.7502</td>\n",
       "      <td>28.9366</td>\n",
       "      <td>24.7859</td>\n",
       "      <td>25.5341</td>\n",
       "      <td>27.5692</td>\n",
       "      <td>27.6437</td>\n",
       "      <td>41.7672</td>\n",
       "      <td>45.6261</td>\n",
       "      <td>0.0283</td>\n",
       "      <td>663.5434</td>\n",
       "      <td>261.556</td>\n",
       "      <td>0.164</td>\n",
       "    </tr>\n",
       "  </tbody>\n",
       "</table>\n",
       "</div>"
      ],
      "text/plain": [
       "       P@1      P@3      P@5    P@10      N@1      N@3      N@5     N@10  \\\n",
       "0  34.5028  18.4519  13.2887  8.2554  34.5028  26.0972  25.4834  26.5477   \n",
       "\n",
       "     PSP@1    PSP@3    PSP@5   PSP@10    PSN@1    PSN@3    PSN@5   PSN@10  \\\n",
       "0  28.9366  21.3815  20.5157  21.7502  28.9366  24.7859  25.5341  27.5692   \n",
       "\n",
       "      R@10    R@100    R@200    loss   runtime  samples_per_second  \\\n",
       "0  27.6437  41.7672  45.6261  0.0283  663.5434             261.556   \n",
       "\n",
       "   steps_per_second  \n",
       "0             0.164  "
      ]
     },
     "metadata": {},
     "output_type": "display_data"
    }
   ],
   "source": [
    "display_metric(o.metrics)"
   ]
  },
  {
   "cell_type": "code",
   "execution_count": null,
   "id": "49651e1e-e8f7-4ef8-907b-e33411f6a449",
   "metadata": {},
   "outputs": [
    {
     "data": {
      "application/vnd.jupyter.widget-view+json": {
       "model_id": "39d1ff5f523c43faa3ecb82836fec176",
       "version_major": 2,
       "version_minor": 0
      },
      "text/plain": [
       "  0%|          | 0/196 [00:00<?, ?it/s]"
      ]
     },
     "metadata": {},
     "output_type": "display_data"
    },
    {
     "data": {
      "application/vnd.jupyter.widget-view+json": {
       "model_id": "9bc9bf66ad914b35a0ab1e13c249cbb7",
       "version_major": 2,
       "version_minor": 0
      },
      "text/plain": [
       "  0%|          | 0/411 [00:00<?, ?it/s]"
      ]
     },
     "metadata": {},
     "output_type": "display_data"
    },
    {
     "name": "stderr",
     "output_type": "stream",
     "text": [
      "/scratch/scai/phd/aiz218323/Projects/xcai/xcai/learner.py:520: UserWarning: To copy construct from a tensor, it is recommended to use sourceTensor.clone().detach() or sourceTensor.clone().detach().requires_grad_(True), rather than torch.tensor(sourceTensor).\n",
      "  rep = torch.tensor(self.aug_idxs.get_items(o['info2data_idx']))\n"
     ]
    },
    {
     "data": {
      "text/html": [],
      "text/plain": [
       "<IPython.core.display.HTML object>"
      ]
     },
     "metadata": {},
     "output_type": "display_data"
    },
    {
     "name": "stderr",
     "output_type": "stream",
     "text": [
      "/scratch/scai/phd/aiz218323/anaconda3/envs/xc_nlg/lib/python3.9/site-packages/scipy/sparse/_index.py:145: SparseEfficiencyWarning: Changing the sparsity structure of a csr_matrix is expensive. lil_matrix is more efficient.\n",
      "  self._set_arrayXarray(i, j, x)\n"
     ]
    }
   ],
   "source": [
    "o = learn.predict(block.test.dset)"
   ]
  },
  {
   "cell_type": "markdown",
   "id": "4672d628-137a-442d-be36-7d5dcefc83b3",
   "metadata": {},
   "source": [
    "__Three ground truth metadata__"
   ]
  },
  {
   "cell_type": "code",
   "execution_count": null,
   "id": "c5287822-60ae-497a-b242-392c2fc3420b",
   "metadata": {},
   "outputs": [
    {
     "data": {
      "text/html": [
       "<div>\n",
       "<style scoped>\n",
       "    .dataframe tbody tr th:only-of-type {\n",
       "        vertical-align: middle;\n",
       "    }\n",
       "\n",
       "    .dataframe tbody tr th {\n",
       "        vertical-align: top;\n",
       "    }\n",
       "\n",
       "    .dataframe thead th {\n",
       "        text-align: right;\n",
       "    }\n",
       "</style>\n",
       "<table border=\"1\" class=\"dataframe\">\n",
       "  <thead>\n",
       "    <tr style=\"text-align: right;\">\n",
       "      <th></th>\n",
       "      <th>P@1</th>\n",
       "      <th>P@3</th>\n",
       "      <th>P@5</th>\n",
       "      <th>P@10</th>\n",
       "      <th>N@1</th>\n",
       "      <th>N@3</th>\n",
       "      <th>N@5</th>\n",
       "      <th>N@10</th>\n",
       "      <th>PSP@1</th>\n",
       "      <th>PSP@3</th>\n",
       "      <th>PSP@5</th>\n",
       "      <th>PSP@10</th>\n",
       "      <th>PSN@1</th>\n",
       "      <th>PSN@3</th>\n",
       "      <th>PSN@5</th>\n",
       "      <th>PSN@10</th>\n",
       "      <th>R@10</th>\n",
       "      <th>R@100</th>\n",
       "      <th>R@200</th>\n",
       "      <th>loss</th>\n",
       "      <th>runtime</th>\n",
       "      <th>samples_per_second</th>\n",
       "      <th>steps_per_second</th>\n",
       "    </tr>\n",
       "  </thead>\n",
       "  <tbody>\n",
       "    <tr>\n",
       "      <th>0</th>\n",
       "      <td>37.145</td>\n",
       "      <td>24.8182</td>\n",
       "      <td>18.7853</td>\n",
       "      <td>11.9354</td>\n",
       "      <td>37.145</td>\n",
       "      <td>37.347</td>\n",
       "      <td>38.7788</td>\n",
       "      <td>41.2028</td>\n",
       "      <td>28.5487</td>\n",
       "      <td>31.1488</td>\n",
       "      <td>33.7948</td>\n",
       "      <td>39.0724</td>\n",
       "      <td>28.5487</td>\n",
       "      <td>31.8077</td>\n",
       "      <td>33.9975</td>\n",
       "      <td>36.7601</td>\n",
       "      <td>47.5127</td>\n",
       "      <td>65.2832</td>\n",
       "      <td>69.2098</td>\n",
       "      <td>0.0217</td>\n",
       "      <td>641.0539</td>\n",
       "      <td>276.911</td>\n",
       "      <td>0.173</td>\n",
       "    </tr>\n",
       "  </tbody>\n",
       "</table>\n",
       "</div>"
      ],
      "text/plain": [
       "      P@1      P@3      P@5     P@10     N@1     N@3      N@5     N@10  \\\n",
       "0  37.145  24.8182  18.7853  11.9354  37.145  37.347  38.7788  41.2028   \n",
       "\n",
       "     PSP@1    PSP@3    PSP@5   PSP@10    PSN@1    PSN@3    PSN@5   PSN@10  \\\n",
       "0  28.5487  31.1488  33.7948  39.0724  28.5487  31.8077  33.9975  36.7601   \n",
       "\n",
       "      R@10    R@100    R@200    loss   runtime  samples_per_second  \\\n",
       "0  47.5127  65.2832  69.2098  0.0217  641.0539             276.911   \n",
       "\n",
       "   steps_per_second  \n",
       "0             0.173  "
      ]
     },
     "metadata": {},
     "output_type": "display_data"
    }
   ],
   "source": [
    "display_metric(o.metrics)"
   ]
  },
  {
   "cell_type": "markdown",
   "id": "3ff6504b-6e66-4a24-9211-d17c9d656e6d",
   "metadata": {},
   "source": [
    "__Four predicted metadata__"
   ]
  },
  {
   "cell_type": "code",
   "execution_count": null,
   "id": "86cacbf5-139e-497b-9716-c3861b80aa58",
   "metadata": {},
   "outputs": [
    {
     "data": {
      "text/html": [
       "<div>\n",
       "<style scoped>\n",
       "    .dataframe tbody tr th:only-of-type {\n",
       "        vertical-align: middle;\n",
       "    }\n",
       "\n",
       "    .dataframe tbody tr th {\n",
       "        vertical-align: top;\n",
       "    }\n",
       "\n",
       "    .dataframe thead th {\n",
       "        text-align: right;\n",
       "    }\n",
       "</style>\n",
       "<table border=\"1\" class=\"dataframe\">\n",
       "  <thead>\n",
       "    <tr style=\"text-align: right;\">\n",
       "      <th></th>\n",
       "      <th>P@1</th>\n",
       "      <th>P@3</th>\n",
       "      <th>P@5</th>\n",
       "      <th>P@10</th>\n",
       "      <th>N@1</th>\n",
       "      <th>N@3</th>\n",
       "      <th>N@5</th>\n",
       "      <th>N@10</th>\n",
       "      <th>PSP@1</th>\n",
       "      <th>PSP@3</th>\n",
       "      <th>PSP@5</th>\n",
       "      <th>PSP@10</th>\n",
       "      <th>PSN@1</th>\n",
       "      <th>PSN@3</th>\n",
       "      <th>PSN@5</th>\n",
       "      <th>PSN@10</th>\n",
       "      <th>R@10</th>\n",
       "      <th>R@100</th>\n",
       "      <th>R@200</th>\n",
       "      <th>loss</th>\n",
       "      <th>runtime</th>\n",
       "      <th>samples_per_second</th>\n",
       "      <th>steps_per_second</th>\n",
       "    </tr>\n",
       "  </thead>\n",
       "  <tbody>\n",
       "    <tr>\n",
       "      <th>0</th>\n",
       "      <td>28.73</td>\n",
       "      <td>19.4889</td>\n",
       "      <td>14.9889</td>\n",
       "      <td>9.7127</td>\n",
       "      <td>28.73</td>\n",
       "      <td>28.893</td>\n",
       "      <td>30.1169</td>\n",
       "      <td>32.181</td>\n",
       "      <td>22.8199</td>\n",
       "      <td>25.3051</td>\n",
       "      <td>27.8574</td>\n",
       "      <td>32.7672</td>\n",
       "      <td>22.8199</td>\n",
       "      <td>25.4611</td>\n",
       "      <td>27.3351</td>\n",
       "      <td>29.7151</td>\n",
       "      <td>37.476</td>\n",
       "      <td>53.96</td>\n",
       "      <td>57.8474</td>\n",
       "      <td>0.0258</td>\n",
       "      <td>1151.7493</td>\n",
       "      <td>154.126</td>\n",
       "      <td>0.096</td>\n",
       "    </tr>\n",
       "  </tbody>\n",
       "</table>\n",
       "</div>"
      ],
      "text/plain": [
       "     P@1      P@3      P@5    P@10    N@1     N@3      N@5    N@10    PSP@1  \\\n",
       "0  28.73  19.4889  14.9889  9.7127  28.73  28.893  30.1169  32.181  22.8199   \n",
       "\n",
       "     PSP@3    PSP@5   PSP@10    PSN@1    PSN@3    PSN@5   PSN@10    R@10  \\\n",
       "0  25.3051  27.8574  32.7672  22.8199  25.4611  27.3351  29.7151  37.476   \n",
       "\n",
       "   R@100    R@200    loss    runtime  samples_per_second  steps_per_second  \n",
       "0  53.96  57.8474  0.0258  1151.7493             154.126             0.096  "
      ]
     },
     "metadata": {},
     "output_type": "display_data"
    }
   ],
   "source": [
    "display_metric(o.metrics)"
   ]
  },
  {
   "cell_type": "markdown",
   "id": "f5f28836-b893-4d7a-83ca-3f6d1ba9380d",
   "metadata": {},
   "source": [
    "__Three predicted metadata__"
   ]
  },
  {
   "cell_type": "code",
   "execution_count": null,
   "id": "5480a87d-31f0-4f35-bedf-3de9915877e0",
   "metadata": {},
   "outputs": [
    {
     "data": {
      "text/html": [
       "<div>\n",
       "<style scoped>\n",
       "    .dataframe tbody tr th:only-of-type {\n",
       "        vertical-align: middle;\n",
       "    }\n",
       "\n",
       "    .dataframe tbody tr th {\n",
       "        vertical-align: top;\n",
       "    }\n",
       "\n",
       "    .dataframe thead th {\n",
       "        text-align: right;\n",
       "    }\n",
       "</style>\n",
       "<table border=\"1\" class=\"dataframe\">\n",
       "  <thead>\n",
       "    <tr style=\"text-align: right;\">\n",
       "      <th></th>\n",
       "      <th>P@1</th>\n",
       "      <th>P@3</th>\n",
       "      <th>P@5</th>\n",
       "      <th>P@10</th>\n",
       "      <th>N@1</th>\n",
       "      <th>N@3</th>\n",
       "      <th>N@5</th>\n",
       "      <th>N@10</th>\n",
       "      <th>PSP@1</th>\n",
       "      <th>PSP@3</th>\n",
       "      <th>PSP@5</th>\n",
       "      <th>PSP@10</th>\n",
       "      <th>PSN@1</th>\n",
       "      <th>PSN@3</th>\n",
       "      <th>PSN@5</th>\n",
       "      <th>PSN@10</th>\n",
       "      <th>R@10</th>\n",
       "      <th>R@100</th>\n",
       "      <th>R@200</th>\n",
       "      <th>loss</th>\n",
       "      <th>runtime</th>\n",
       "      <th>samples_per_second</th>\n",
       "      <th>steps_per_second</th>\n",
       "    </tr>\n",
       "  </thead>\n",
       "  <tbody>\n",
       "    <tr>\n",
       "      <th>0</th>\n",
       "      <td>28.5024</td>\n",
       "      <td>19.3702</td>\n",
       "      <td>14.9239</td>\n",
       "      <td>9.6855</td>\n",
       "      <td>28.5024</td>\n",
       "      <td>28.7246</td>\n",
       "      <td>29.9571</td>\n",
       "      <td>32.0412</td>\n",
       "      <td>22.5878</td>\n",
       "      <td>25.1417</td>\n",
       "      <td>27.7646</td>\n",
       "      <td>32.6998</td>\n",
       "      <td>22.5878</td>\n",
       "      <td>25.2912</td>\n",
       "      <td>27.1844</td>\n",
       "      <td>29.5799</td>\n",
       "      <td>37.3778</td>\n",
       "      <td>53.7569</td>\n",
       "      <td>57.6496</td>\n",
       "      <td>0.0347</td>\n",
       "      <td>1248.3147</td>\n",
       "      <td>142.204</td>\n",
       "      <td>0.089</td>\n",
       "    </tr>\n",
       "  </tbody>\n",
       "</table>\n",
       "</div>"
      ],
      "text/plain": [
       "       P@1      P@3      P@5    P@10      N@1      N@3      N@5     N@10  \\\n",
       "0  28.5024  19.3702  14.9239  9.6855  28.5024  28.7246  29.9571  32.0412   \n",
       "\n",
       "     PSP@1    PSP@3    PSP@5   PSP@10    PSN@1    PSN@3    PSN@5   PSN@10  \\\n",
       "0  22.5878  25.1417  27.7646  32.6998  22.5878  25.2912  27.1844  29.5799   \n",
       "\n",
       "      R@10    R@100    R@200    loss    runtime  samples_per_second  \\\n",
       "0  37.3778  53.7569  57.6496  0.0347  1248.3147             142.204   \n",
       "\n",
       "   steps_per_second  \n",
       "0             0.089  "
      ]
     },
     "metadata": {},
     "output_type": "display_data"
    }
   ],
   "source": [
    "display_metric(o.metrics)"
   ]
  },
  {
   "cell_type": "markdown",
   "id": "a18ab2ef-8924-4fb8-bfd7-fa2737bcc4f3",
   "metadata": {},
   "source": [
    "__Two predicted metadata__"
   ]
  },
  {
   "cell_type": "code",
   "execution_count": null,
   "id": "367ef89c-2ef5-4d48-aa42-06b476232807",
   "metadata": {},
   "outputs": [
    {
     "data": {
      "text/html": [
       "<div>\n",
       "<style scoped>\n",
       "    .dataframe tbody tr th:only-of-type {\n",
       "        vertical-align: middle;\n",
       "    }\n",
       "\n",
       "    .dataframe tbody tr th {\n",
       "        vertical-align: top;\n",
       "    }\n",
       "\n",
       "    .dataframe thead th {\n",
       "        text-align: right;\n",
       "    }\n",
       "</style>\n",
       "<table border=\"1\" class=\"dataframe\">\n",
       "  <thead>\n",
       "    <tr style=\"text-align: right;\">\n",
       "      <th></th>\n",
       "      <th>P@1</th>\n",
       "      <th>P@3</th>\n",
       "      <th>P@5</th>\n",
       "      <th>P@10</th>\n",
       "      <th>N@1</th>\n",
       "      <th>N@3</th>\n",
       "      <th>N@5</th>\n",
       "      <th>N@10</th>\n",
       "      <th>PSP@1</th>\n",
       "      <th>PSP@3</th>\n",
       "      <th>PSP@5</th>\n",
       "      <th>PSP@10</th>\n",
       "      <th>PSN@1</th>\n",
       "      <th>PSN@3</th>\n",
       "      <th>PSN@5</th>\n",
       "      <th>PSN@10</th>\n",
       "      <th>R@10</th>\n",
       "      <th>R@100</th>\n",
       "      <th>R@200</th>\n",
       "      <th>loss</th>\n",
       "      <th>runtime</th>\n",
       "      <th>samples_per_second</th>\n",
       "      <th>steps_per_second</th>\n",
       "    </tr>\n",
       "  </thead>\n",
       "  <tbody>\n",
       "    <tr>\n",
       "      <th>0</th>\n",
       "      <td>27.9881</td>\n",
       "      <td>19.1856</td>\n",
       "      <td>14.795</td>\n",
       "      <td>9.6094</td>\n",
       "      <td>27.9881</td>\n",
       "      <td>28.3841</td>\n",
       "      <td>29.6264</td>\n",
       "      <td>31.7013</td>\n",
       "      <td>22.0638</td>\n",
       "      <td>24.921</td>\n",
       "      <td>27.5307</td>\n",
       "      <td>32.4647</td>\n",
       "      <td>22.0638</td>\n",
       "      <td>24.9583</td>\n",
       "      <td>26.847</td>\n",
       "      <td>29.2366</td>\n",
       "      <td>37.0644</td>\n",
       "      <td>53.3915</td>\n",
       "      <td>57.2693</td>\n",
       "      <td>0.0258</td>\n",
       "      <td>1163.6044</td>\n",
       "      <td>152.556</td>\n",
       "      <td>0.095</td>\n",
       "    </tr>\n",
       "  </tbody>\n",
       "</table>\n",
       "</div>"
      ],
      "text/plain": [
       "       P@1      P@3     P@5    P@10      N@1      N@3      N@5     N@10  \\\n",
       "0  27.9881  19.1856  14.795  9.6094  27.9881  28.3841  29.6264  31.7013   \n",
       "\n",
       "     PSP@1   PSP@3    PSP@5   PSP@10    PSN@1    PSN@3   PSN@5   PSN@10  \\\n",
       "0  22.0638  24.921  27.5307  32.4647  22.0638  24.9583  26.847  29.2366   \n",
       "\n",
       "      R@10    R@100    R@200    loss    runtime  samples_per_second  \\\n",
       "0  37.0644  53.3915  57.2693  0.0258  1163.6044             152.556   \n",
       "\n",
       "   steps_per_second  \n",
       "0             0.095  "
      ]
     },
     "metadata": {},
     "output_type": "display_data"
    }
   ],
   "source": [
    "display_metric(o.metrics)"
   ]
  },
  {
   "cell_type": "markdown",
   "id": "b0f0523e-b72c-4501-b631-5db6b1f3df0b",
   "metadata": {},
   "source": [
    "__One predicted metadata__"
   ]
  },
  {
   "cell_type": "code",
   "execution_count": null,
   "id": "892e2a93-1087-4903-bb02-870ddddde4c6",
   "metadata": {},
   "outputs": [
    {
     "data": {
      "text/html": [
       "<div>\n",
       "<style scoped>\n",
       "    .dataframe tbody tr th:only-of-type {\n",
       "        vertical-align: middle;\n",
       "    }\n",
       "\n",
       "    .dataframe tbody tr th {\n",
       "        vertical-align: top;\n",
       "    }\n",
       "\n",
       "    .dataframe thead th {\n",
       "        text-align: right;\n",
       "    }\n",
       "</style>\n",
       "<table border=\"1\" class=\"dataframe\">\n",
       "  <thead>\n",
       "    <tr style=\"text-align: right;\">\n",
       "      <th></th>\n",
       "      <th>P@1</th>\n",
       "      <th>P@3</th>\n",
       "      <th>P@5</th>\n",
       "      <th>P@10</th>\n",
       "      <th>N@1</th>\n",
       "      <th>N@3</th>\n",
       "      <th>N@5</th>\n",
       "      <th>N@10</th>\n",
       "      <th>PSP@1</th>\n",
       "      <th>PSP@3</th>\n",
       "      <th>PSP@5</th>\n",
       "      <th>PSP@10</th>\n",
       "      <th>PSN@1</th>\n",
       "      <th>PSN@3</th>\n",
       "      <th>PSN@5</th>\n",
       "      <th>PSN@10</th>\n",
       "      <th>R@10</th>\n",
       "      <th>R@100</th>\n",
       "      <th>R@200</th>\n",
       "      <th>loss</th>\n",
       "      <th>runtime</th>\n",
       "      <th>samples_per_second</th>\n",
       "      <th>steps_per_second</th>\n",
       "    </tr>\n",
       "  </thead>\n",
       "  <tbody>\n",
       "    <tr>\n",
       "      <th>0</th>\n",
       "      <td>27.1324</td>\n",
       "      <td>18.6486</td>\n",
       "      <td>14.4344</td>\n",
       "      <td>9.4187</td>\n",
       "      <td>27.1324</td>\n",
       "      <td>27.586</td>\n",
       "      <td>28.8583</td>\n",
       "      <td>30.9439</td>\n",
       "      <td>21.2674</td>\n",
       "      <td>24.2148</td>\n",
       "      <td>26.875</td>\n",
       "      <td>31.832</td>\n",
       "      <td>21.2674</td>\n",
       "      <td>24.1866</td>\n",
       "      <td>26.0911</td>\n",
       "      <td>28.4783</td>\n",
       "      <td>36.3344</td>\n",
       "      <td>52.4028</td>\n",
       "      <td>56.2131</td>\n",
       "      <td>0.0258</td>\n",
       "      <td>1149.771</td>\n",
       "      <td>154.392</td>\n",
       "      <td>0.097</td>\n",
       "    </tr>\n",
       "  </tbody>\n",
       "</table>\n",
       "</div>"
      ],
      "text/plain": [
       "       P@1      P@3      P@5    P@10      N@1     N@3      N@5     N@10  \\\n",
       "0  27.1324  18.6486  14.4344  9.4187  27.1324  27.586  28.8583  30.9439   \n",
       "\n",
       "     PSP@1    PSP@3   PSP@5  PSP@10    PSN@1    PSN@3    PSN@5   PSN@10  \\\n",
       "0  21.2674  24.2148  26.875  31.832  21.2674  24.1866  26.0911  28.4783   \n",
       "\n",
       "      R@10    R@100    R@200    loss   runtime  samples_per_second  \\\n",
       "0  36.3344  52.4028  56.2131  0.0258  1149.771             154.392   \n",
       "\n",
       "   steps_per_second  \n",
       "0             0.097  "
      ]
     },
     "metadata": {},
     "output_type": "display_data"
    }
   ],
   "source": [
    "display_metric(o.metrics)"
   ]
  },
  {
   "cell_type": "markdown",
   "id": "2683ef08-88ab-4f78-ac5a-51067eaf2f61",
   "metadata": {},
   "source": [
    "__No metadata__"
   ]
  },
  {
   "cell_type": "code",
   "execution_count": null,
   "id": "f19cf927-d3e3-474b-b901-2b98deb52c84",
   "metadata": {},
   "outputs": [
    {
     "data": {
      "text/html": [
       "<div>\n",
       "<style scoped>\n",
       "    .dataframe tbody tr th:only-of-type {\n",
       "        vertical-align: middle;\n",
       "    }\n",
       "\n",
       "    .dataframe tbody tr th {\n",
       "        vertical-align: top;\n",
       "    }\n",
       "\n",
       "    .dataframe thead th {\n",
       "        text-align: right;\n",
       "    }\n",
       "</style>\n",
       "<table border=\"1\" class=\"dataframe\">\n",
       "  <thead>\n",
       "    <tr style=\"text-align: right;\">\n",
       "      <th></th>\n",
       "      <th>P@1</th>\n",
       "      <th>P@3</th>\n",
       "      <th>P@5</th>\n",
       "      <th>P@10</th>\n",
       "      <th>N@1</th>\n",
       "      <th>N@3</th>\n",
       "      <th>N@5</th>\n",
       "      <th>N@10</th>\n",
       "      <th>PSP@1</th>\n",
       "      <th>PSP@3</th>\n",
       "      <th>PSP@5</th>\n",
       "      <th>PSP@10</th>\n",
       "      <th>PSN@1</th>\n",
       "      <th>PSN@3</th>\n",
       "      <th>PSN@5</th>\n",
       "      <th>PSN@10</th>\n",
       "      <th>R@10</th>\n",
       "      <th>R@100</th>\n",
       "      <th>R@200</th>\n",
       "      <th>loss</th>\n",
       "      <th>runtime</th>\n",
       "      <th>samples_per_second</th>\n",
       "      <th>steps_per_second</th>\n",
       "    </tr>\n",
       "  </thead>\n",
       "  <tbody>\n",
       "    <tr>\n",
       "      <th>0</th>\n",
       "      <td>30.8261</td>\n",
       "      <td>20.5389</td>\n",
       "      <td>15.5689</td>\n",
       "      <td>9.8958</td>\n",
       "      <td>30.8261</td>\n",
       "      <td>30.6954</td>\n",
       "      <td>31.7409</td>\n",
       "      <td>33.6136</td>\n",
       "      <td>25.9538</td>\n",
       "      <td>27.6247</td>\n",
       "      <td>29.6802</td>\n",
       "      <td>33.9528</td>\n",
       "      <td>25.9538</td>\n",
       "      <td>28.1304</td>\n",
       "      <td>29.7845</td>\n",
       "      <td>31.94</td>\n",
       "      <td>38.3747</td>\n",
       "      <td>53.0829</td>\n",
       "      <td>56.5055</td>\n",
       "      <td>0.0258</td>\n",
       "      <td>515.3512</td>\n",
       "      <td>344.454</td>\n",
       "      <td>0.215</td>\n",
       "    </tr>\n",
       "  </tbody>\n",
       "</table>\n",
       "</div>"
      ],
      "text/plain": [
       "       P@1      P@3      P@5    P@10      N@1      N@3      N@5     N@10  \\\n",
       "0  30.8261  20.5389  15.5689  9.8958  30.8261  30.6954  31.7409  33.6136   \n",
       "\n",
       "     PSP@1    PSP@3    PSP@5   PSP@10    PSN@1    PSN@3    PSN@5  PSN@10  \\\n",
       "0  25.9538  27.6247  29.6802  33.9528  25.9538  28.1304  29.7845   31.94   \n",
       "\n",
       "      R@10    R@100    R@200    loss   runtime  samples_per_second  \\\n",
       "0  38.3747  53.0829  56.5055  0.0258  515.3512             344.454   \n",
       "\n",
       "   steps_per_second  \n",
       "0             0.215  "
      ]
     },
     "metadata": {},
     "output_type": "display_data"
    }
   ],
   "source": [
    "display_metric(o.metrics)"
   ]
  },
  {
   "cell_type": "code",
   "execution_count": null,
   "id": "be4e3bad-0749-4ae7-bb06-a4db62fee96e",
   "metadata": {},
   "outputs": [],
   "source": []
  },
  {
   "cell_type": "markdown",
   "id": "5cb919eb-fd58-4089-9a16-1d10daa4a181",
   "metadata": {},
   "source": [
    "### Metadata"
   ]
  },
  {
   "cell_type": "code",
   "execution_count": null,
   "id": "0ea87a06-5188-49db-b4bc-a25dd71b1509",
   "metadata": {},
   "outputs": [],
   "source": [
    "args = XCLearningArguments(\n",
    "    output_dir='/home/scai/phd/aiz218323/scratch/outputs/66-radga-dr-ep-for-wikiseealso-1-6',\n",
    "    logging_first_step=True,\n",
    "    per_device_train_batch_size=800,\n",
    "    per_device_eval_batch_size=800,\n",
    "    representation_num_beams=200,\n",
    "    representation_accumulation_steps=10,\n",
    "    output_representation_attribute=\"data_fused_repr\",\n",
    "    representation_attribute=\"data_fused_repr\",\n",
    "    \n",
    "    predict_with_representation=True,\n",
    "    representation_search_type='INDEX',\n",
    "    \n",
    "    metric_for_best_model='P@1',\n",
    "    target_indices_key='plbl2data_idx',\n",
    "    target_pointer_key='plbl2data_data2ptr',\n",
    "    use_encoder_parallel=True,\n",
    "    fp16=True,\n",
    "    label_names=['cat2data_idx', 'cat2data_input_ids', 'cat2data_attention_mask'],\n",
    "    # label_names=['hlk2data_idx', 'hlk2data_input_ids', 'hlk2data_attention_mask',\n",
    "    #              'hlk2lbl2data_idx', 'hlk2lbl2data_input_ids', 'hlk2lbl2data_attention_mask'],\n",
    "\n",
    "    predict_with_augmentation=False,\n",
    "    use_augmentation_index_representation=True,\n",
    "    \n",
    "    data_aug_meta_name='cat',\n",
    "    augmentation_num_beams=3,\n",
    "    data_aug_prefix='aug',\n",
    "    use_label_metadata=False,\n",
    ")"
   ]
  },
  {
   "cell_type": "code",
   "execution_count": null,
   "id": "28b1ec6a-ae9e-4a93-a539-c81798c9f036",
   "metadata": {},
   "outputs": [],
   "source": [
    "import numpy as np\n",
    "from xcai.data import MainXCDataset, XCDataBlock, XCDataset, BaseXCDataBlock\n",
    "\n",
    "dataset = MainXCDataset(block.test.dset.data.data_info, block.test.dset.meta['cat_meta'].data_meta, \n",
    "                        block.test.dset.meta['cat_meta'].meta_info)\n",
    "idx = np.where(dataset.data_lbl.getnnz(axis=1) > 0)[0]\n",
    "test_meta_dset = XCDataset(dataset._getitems(idx))\n",
    "\n",
    "dataset = MainXCDataset(block.train.dset.data.data_info, block.train.dset.meta['cat_meta'].data_meta, \n",
    "                        block.train.dset.meta['cat_meta'].meta_info)\n",
    "idx = np.where(dataset.data_lbl.getnnz(axis=1) > 0)[0]\n",
    "train_meta_dset = XCDataset(dataset._getitems(idx))"
   ]
  },
  {
   "cell_type": "code",
   "execution_count": null,
   "id": "7e06dc91-b009-454a-8dd6-09bd11a4be59",
   "metadata": {},
   "outputs": [],
   "source": [
    "metric = PrecRecl(test_meta_dset.n_lbl, test_meta_dset.data.data_lbl_filterer, prop=train_meta_dset.data.data_lbl,\n",
    "                  pk=10, rk=200, rep_pk=[1, 3, 5, 10], rep_rk=[10, 100, 200])"
   ]
  },
  {
   "cell_type": "code",
   "execution_count": null,
   "id": "277217cb-f77c-43e5-a796-4a9973e1ee3a",
   "metadata": {},
   "outputs": [
    {
     "name": "stderr",
     "output_type": "stream",
     "text": [
      "/scratch/scai/phd/aiz218323/anaconda3/envs/xc_nlg/lib/python3.9/site-packages/accelerate/accelerator.py:432: FutureWarning: Passing the following arguments to `Accelerator` is deprecated and will be removed in version 1.0 of Accelerate: dict_keys(['dispatch_batches', 'split_batches', 'even_batches', 'use_seedable_sampler']). Please pass an `accelerate.DataLoaderConfiguration` instead: \n",
      "dataloader_config = DataLoaderConfiguration(dispatch_batches=None, split_batches=False, even_batches=True, use_seedable_sampler=True)\n",
      "  warnings.warn(\n",
      "Detected kernel version 3.10.0, which is below the recommended minimum of 5.5.0; this can cause the process to hang. It is recommended to upgrade the kernel to the minimum version or higher.\n"
     ]
    }
   ],
   "source": [
    "learn = XCLearner(\n",
    "    model=model, \n",
    "    args=args,\n",
    "    train_dataset=train_meta_dset,\n",
    "    eval_dataset=test_meta_dset,\n",
    "    data_collator=block.collator,\n",
    "    compute_metrics=metric,\n",
    ")"
   ]
  },
  {
   "cell_type": "code",
   "execution_count": null,
   "id": "a476612e-ba25-4f47-bdf4-4c42615833cb",
   "metadata": {},
   "outputs": [],
   "source": []
  },
  {
   "cell_type": "code",
   "execution_count": null,
   "id": "6e046562-79dc-4b73-8726-e3d183928fa4",
   "metadata": {},
   "outputs": [
    {
     "data": {
      "application/vnd.jupyter.widget-view+json": {
       "model_id": "b91b432f52014b40b1fc87fb877e8303",
       "version_major": 2,
       "version_minor": 0
      },
      "text/plain": [
       "  0%|          | 0/411 [00:00<?, ?it/s]"
      ]
     },
     "metadata": {},
     "output_type": "display_data"
    },
    {
     "data": {
      "text/html": [],
      "text/plain": [
       "<IPython.core.display.HTML object>"
      ]
     },
     "metadata": {},
     "output_type": "display_data"
    }
   ],
   "source": [
    "o = learn.predict(test_meta_dset)"
   ]
  },
  {
   "cell_type": "code",
   "execution_count": null,
   "id": "ea327b66-b7e6-4781-84ff-172bba30968f",
   "metadata": {},
   "outputs": [
    {
     "data": {
      "text/html": [
       "<div>\n",
       "<style scoped>\n",
       "    .dataframe tbody tr th:only-of-type {\n",
       "        vertical-align: middle;\n",
       "    }\n",
       "\n",
       "    .dataframe tbody tr th {\n",
       "        vertical-align: top;\n",
       "    }\n",
       "\n",
       "    .dataframe thead th {\n",
       "        text-align: right;\n",
       "    }\n",
       "</style>\n",
       "<table border=\"1\" class=\"dataframe\">\n",
       "  <thead>\n",
       "    <tr style=\"text-align: right;\">\n",
       "      <th></th>\n",
       "      <th>P@1</th>\n",
       "      <th>P@3</th>\n",
       "      <th>P@5</th>\n",
       "      <th>P@10</th>\n",
       "      <th>N@1</th>\n",
       "      <th>N@3</th>\n",
       "      <th>N@5</th>\n",
       "      <th>N@10</th>\n",
       "      <th>PSP@1</th>\n",
       "      <th>PSP@3</th>\n",
       "      <th>PSP@5</th>\n",
       "      <th>PSP@10</th>\n",
       "      <th>PSN@1</th>\n",
       "      <th>PSN@3</th>\n",
       "      <th>PSN@5</th>\n",
       "      <th>PSN@10</th>\n",
       "      <th>R@10</th>\n",
       "      <th>R@100</th>\n",
       "      <th>R@200</th>\n",
       "      <th>loss</th>\n",
       "      <th>runtime</th>\n",
       "      <th>samples_per_second</th>\n",
       "      <th>steps_per_second</th>\n",
       "    </tr>\n",
       "  </thead>\n",
       "  <tbody>\n",
       "    <tr>\n",
       "      <th>0</th>\n",
       "      <td>34.5045</td>\n",
       "      <td>18.4527</td>\n",
       "      <td>13.2891</td>\n",
       "      <td>8.2558</td>\n",
       "      <td>34.5045</td>\n",
       "      <td>26.0984</td>\n",
       "      <td>25.4845</td>\n",
       "      <td>26.5488</td>\n",
       "      <td>28.9368</td>\n",
       "      <td>21.382</td>\n",
       "      <td>20.5156</td>\n",
       "      <td>21.7509</td>\n",
       "      <td>28.9368</td>\n",
       "      <td>24.7864</td>\n",
       "      <td>25.5342</td>\n",
       "      <td>27.5696</td>\n",
       "      <td>27.6448</td>\n",
       "      <td>41.7735</td>\n",
       "      <td>45.6282</td>\n",
       "      <td>0.0283</td>\n",
       "      <td>640.4582</td>\n",
       "      <td>270.984</td>\n",
       "      <td>0.17</td>\n",
       "    </tr>\n",
       "  </tbody>\n",
       "</table>\n",
       "</div>"
      ],
      "text/plain": [
       "       P@1      P@3      P@5    P@10      N@1      N@3      N@5     N@10  \\\n",
       "0  34.5045  18.4527  13.2891  8.2558  34.5045  26.0984  25.4845  26.5488   \n",
       "\n",
       "     PSP@1   PSP@3    PSP@5   PSP@10    PSN@1    PSN@3    PSN@5   PSN@10  \\\n",
       "0  28.9368  21.382  20.5156  21.7509  28.9368  24.7864  25.5342  27.5696   \n",
       "\n",
       "      R@10    R@100    R@200    loss   runtime  samples_per_second  \\\n",
       "0  27.6448  41.7735  45.6282  0.0283  640.4582             270.984   \n",
       "\n",
       "   steps_per_second  \n",
       "0              0.17  "
      ]
     },
     "metadata": {},
     "output_type": "display_data"
    }
   ],
   "source": [
    "display_metric(o.metrics)"
   ]
  },
  {
   "cell_type": "code",
   "execution_count": null,
   "id": "208b1a5b-baa4-441e-80e8-35b91f1fad3e",
   "metadata": {},
   "outputs": [],
   "source": [
    "meta_pred = get_pred_sparse(o, test_meta_dset.data.n_lbl)"
   ]
  },
  {
   "cell_type": "code",
   "execution_count": null,
   "id": "90c952b5-db6d-4c6c-8b08-4c5e3675e07c",
   "metadata": {},
   "outputs": [
    {
     "data": {
      "text/plain": [
       "array([0.34504535, 0.23478572, 0.18452662, 0.15389447, 0.1328912 ])"
      ]
     },
     "execution_count": null,
     "metadata": {},
     "output_type": "execute_result"
    }
   ],
   "source": [
    "import xclib.evaluation.xc_metrics as xc_metrics\n",
    "xc_metrics.precision(meta_pred, test_meta_dset.data.data_lbl, k=5)"
   ]
  },
  {
   "cell_type": "code",
   "execution_count": null,
   "id": "3980c30e-369a-43b6-a349-c8736d9c8ca9",
   "metadata": {},
   "outputs": [],
   "source": [
    "evals = pointwise_eval(meta_pred, test_meta_dset.data.data_lbl, topk=3, metric='P', return_type='D')"
   ]
  },
  {
   "cell_type": "code",
   "execution_count": null,
   "id": "d98f8114-bae8-43b2-a37f-41b2658cad45",
   "metadata": {},
   "outputs": [],
   "source": []
  },
  {
   "cell_type": "code",
   "execution_count": null,
   "id": "9c818531-24f8-4e7e-9813-8e0646617c6b",
   "metadata": {},
   "outputs": [],
   "source": [
    "topk_meta_pred = xc_sparse.retain_topk(meta_pred, k=3)"
   ]
  },
  {
   "cell_type": "code",
   "execution_count": null,
   "id": "1b09c7a3-71e9-44ac-b17e-23b4dfa7312a",
   "metadata": {},
   "outputs": [],
   "source": [
    "pattern = r'^(data|lbl2data)_input_text$'\n",
    "\n",
    "pred_dset = TextColumns(get_pred_dset(topk_meta_pred, test_meta_dset), pat=pattern)\n",
    "test_dset = TextColumns(test_meta_dset, pat=pattern)"
   ]
  },
  {
   "cell_type": "code",
   "execution_count": null,
   "id": "d05ba744-151f-4cc4-a947-7ec2c7058b43",
   "metadata": {},
   "outputs": [],
   "source": [
    "from IPython.display import HTML"
   ]
  },
  {
   "cell_type": "code",
   "execution_count": null,
   "id": "72c9b7b9-9c1d-4ca9-b3dd-f4ecd1f83921",
   "metadata": {},
   "outputs": [],
   "source": [
    "idx = np.argsort(evals)[:10]"
   ]
  },
  {
   "cell_type": "code",
   "execution_count": null,
   "id": "fd2d57ad-9269-4d63-9c29-b461b4ab5f05",
   "metadata": {},
   "outputs": [
    {
     "data": {
      "text/html": [
       "<text style=color:red>data_input_text</text>: <text style=color:green>Nargis Dutt Foundation</text><br><text style=color:red>lbl2data_input_text</text>: <text style=color:green>['Awards established in 2000', 'Foundations based in France', 'Electronic music festivals in India']</text><br><text style=color:black>data_input_text</text>: <text style=color:blue>Nargis Dutt Foundation</text><br><text style=color:black>lbl2data_input_text</text>: <text style=color:blue>['Charities based in India', 'Organisations based in Mumbai', '1981 establishments in India']</text><br><br><text style=color:red>data_input_text</text>: <text style=color:green>British Rail Class 93 (Stadler)</text><br><text style=color:red>lbl2data_input_text</text>: <text style=color:green>['1720 in Great Britain', 'SLM locomotives', 'Electric multiple units of the Netherlands']</text><br><text style=color:black>data_input_text</text>: <text style=color:blue>British Rail Class 93 (Stadler)</text><br><text style=color:black>lbl2data_input_text</text>: <text style=color:blue>['Standard gauge locomotives of Great Britain', 'Bo-Bo locomotives', 'Macosa/Meinfesa/Vossloh Espana locomotives']</text><br><br><text style=color:red>data_input_text</text>: <text style=color:green>Elizabeth A. Niles</text><br><text style=color:red>lbl2data_input_text</text>: <text style=color:green>['Law clerks of the Supreme Court of the United States', 'Library-related professional associations', 'Ancient Greek women philosophers']</text><br><text style=color:black>data_input_text</text>: <text style=color:blue>Elizabeth A. Niles</text><br><text style=color:black>lbl2data_input_text</text>: <text style=color:blue>['1920 deaths', '1842 births', 'Union Army soldiers', 'Female wartime cross-dressers in the American Civil War', 'Women soldiers', 'Women in the American Civil War']</text><br><br><text style=color:red>data_input_text</text>: <text style=color:green>Alexander Bird</text><br><text style=color:red>lbl2data_input_text</text>: <text style=color:green>['University of Stirling', 'Political corruption in the United States', 'Howard Terpning']</text><br><text style=color:black>data_input_text</text>: <text style=color:blue>Alexander Bird</text><br><text style=color:black>lbl2data_input_text</text>: <text style=color:blue>['Living people', 'Philosophy academics', '1964 births', 'Alumni of the University of Oxford', 'Alumni of the University of Cambridge', \"Academics of King's College London\", 'Metaphysicians', 'Academics of the University of Edinburgh', 'Academics of the University of Bristol', '21st-century British philosophers']</text><br><br><text style=color:red>data_input_text</text>: <text style=color:green>Raj Bhawan, Nainital</text><br><text style=color:red>lbl2data_input_text</text>: <text style=color:green>['Palaces in Pakistan', 'Buildings and structures in Kota', 'Parma, Ohio']</text><br><text style=color:black>data_input_text</text>: <text style=color:blue>Raj Bhawan, Nainital</text><br><text style=color:black>lbl2data_input_text</text>: <text style=color:blue>['Buildings and structures in Dehradun', 'Government of Uttarakhand', \"Governors' houses in India\"]</text><br><br><text style=color:red>data_input_text</text>: <text style=color:green>Nordic Field-Run with Shooting</text><br><text style=color:red>lbl2data_input_text</text>: <text style=color:green>['Orienteering', 'Marksmanship', 'Special forces of Norway']</text><br><text style=color:black>data_input_text</text>: <text style=color:blue>Nordic Field-Run with Shooting</text><br><text style=color:black>lbl2data_input_text</text>: <text style=color:blue>['Shooting sports']</text><br><br><text style=color:red>data_input_text</text>: <text style=color:green>Lhong 1919</text><br><text style=color:red>lbl2data_input_text</text>: <text style=color:green>['People from Ä\\x8celinac', '758 births', 'Udon']</text><br><text style=color:black>data_input_text</text>: <text style=color:blue>Lhong 1919</text><br><text style=color:black>lbl2data_input_text</text>: <text style=color:blue>['Temples of Mazu', 'Tourist attractions in Bangkok', 'Places of worship in Bangkok', '2017 establishments in Thailand', 'Khlong San District', 'Chinese architecture in Thailand']</text><br><br><text style=color:red>data_input_text</text>: <text style=color:green>Mazibuko Jara</text><br><text style=color:red>lbl2data_input_text</text>: <text style=color:green>['Ukrainian nationalists', 'Suicides by firearm in Oklahoma', 'People from Bijelo Polje']</text><br><text style=color:black>data_input_text</text>: <text style=color:blue>Mazibuko Jara</text><br><text style=color:black>lbl2data_input_text</text>: <text style=color:blue>['Living people', '1973 births']</text><br><br><text style=color:red>data_input_text</text>: <text style=color:green>Koukoulion</text><br><text style=color:red>lbl2data_input_text</text>: <text style=color:green>['Prefectures of Togo', 'Populated places in Rhodope (regional unit)', 'Populated places in Paros (regional unit)']</text><br><text style=color:black>data_input_text</text>: <text style=color:blue>Koukoulion</text><br><text style=color:black>lbl2data_input_text</text>: <text style=color:blue>['Headgear', 'Eastern Christian vestments', 'Christian monasticism', 'Hats', 'Eastern Orthodox liturgy', 'Russian Orthodox Church in Russia']</text><br><br><text style=color:red>data_input_text</text>: <text style=color:green>Ivar Bentsen</text><br><text style=color:red>lbl2data_input_text</text>: <text style=color:green>['Museums in Vienne', 'Writers from VÃ¤stmanland', 'Science museums in Norway']</text><br><text style=color:black>data_input_text</text>: <text style=color:blue>Ivar Bentsen</text><br><text style=color:black>lbl2data_input_text</text>: <text style=color:blue>['1943 deaths', '1876 births', 'Danish architects', 'Recipients of the C.F. Hansen Medal']</text>"
      ],
      "text/plain": [
       "<IPython.core.display.HTML object>"
      ]
     },
     "execution_count": null,
     "metadata": {},
     "output_type": "execute_result"
    }
   ],
   "source": [
    "HTML(display_text(pred_dset, test_dset, idx))"
   ]
  },
  {
   "cell_type": "code",
   "execution_count": null,
   "id": "56d26d6c-2265-46e5-b62d-91103722f1ed",
   "metadata": {},
   "outputs": [],
   "source": [
    "idx = np.argsort(evals)[-10:]"
   ]
  },
  {
   "cell_type": "code",
   "execution_count": null,
   "id": "4c4d8b8e-523b-4e44-9d26-4593e749e88b",
   "metadata": {},
   "outputs": [
    {
     "data": {
      "text/html": [
       "<text style=color:red>data_input_text</text>: <text style=color:green>Batman, Turkey</text><br><text style=color:red>lbl2data_input_text</text>: <text style=color:green>['Populated places in Batman Province', 'Istanbul-related lists', 'Port cities of the Sea of Marmara']</text><br><text style=color:black>data_input_text</text>: <text style=color:blue>Batman, Turkey</text><br><text style=color:black>lbl2data_input_text</text>: <text style=color:blue>['Cities in Turkey', 'Kurdish settlements', 'Populated places in Batman Province', 'Districts of Batman Province', 'Batman, Turkey']</text><br><br><text style=color:red>data_input_text</text>: <text style=color:green>National Register of Historic Places listings in Ottawa County, Oklahoma</text><br><text style=color:red>lbl2data_input_text</text>: <text style=color:green>['Buildings and structures in Noble County, Oklahoma', 'National Register of Historic Places in Okmulgee County, Oklahoma', 'Education in Ottawa County, Michigan']</text><br><text style=color:black>data_input_text</text>: <text style=color:blue>National Register of Historic Places listings in Ottawa County, Oklahoma</text><br><text style=color:black>lbl2data_input_text</text>: <text style=color:blue>['Buildings and structures in Ottawa County, Oklahoma', 'Lists of National Register of Historic Places in Oklahoma by county', 'Ottawa County, Oklahoma', 'National Register of Historic Places in Ottawa County, Oklahoma']</text><br><br><text style=color:red>data_input_text</text>: <text style=color:green>National Register of Historic Places listings in Pontotoc County, Oklahoma</text><br><text style=color:red>lbl2data_input_text</text>: <text style=color:green>['Montgomery County, Kentucky', 'Post office buildings in Oklahoma', 'National Register of Historic Places in Woods County, Oklahoma']</text><br><text style=color:black>data_input_text</text>: <text style=color:blue>National Register of Historic Places listings in Pontotoc County, Oklahoma</text><br><text style=color:black>lbl2data_input_text</text>: <text style=color:blue>['Buildings and structures in Pontotoc County, Oklahoma', 'Tourist attractions in Pontotoc County, Oklahoma', 'Pontotoc County, Oklahoma', 'Lists of National Register of Historic Places in Oklahoma by county']</text><br><br><text style=color:red>data_input_text</text>: <text style=color:green>First Congregational Church (Eldora, Iowa)</text><br><text style=color:red>lbl2data_input_text</text>: <text style=color:green>['Episcopal church buildings in Florida', 'Transportation buildings and structures in Hardin County, Iowa', 'National Register of Historic Places in Carroll County, Iowa']</text><br><text style=color:black>data_input_text</text>: <text style=color:blue>First Congregational Church (Eldora, Iowa)</text><br><text style=color:black>lbl2data_input_text</text>: <text style=color:blue>['Churches completed in 1894', '19th-century United Church of Christ church buildings', 'Churches on the National Register of Historic Places in Iowa', 'Religious organizations established in 1868', 'Individually listed contributing properties to historic districts on the National Register in Iowa', '1868 establishments in Iowa', 'Eldora, Iowa', 'Churches in Hardin County, Iowa', 'National Register of Historic Places in Hardin County, Iowa', 'Historic district contributing properties in Iowa', 'Romanesque Revival church buildings in Iowa']</text><br><br><text style=color:red>data_input_text</text>: <text style=color:green>Human trafficking in Bolivia</text><br><text style=color:red>lbl2data_input_text</text>: <text style=color:green>['Films set in Bolivia', 'Human rights organisations based in Argentina', 'Human trafficking in Canada']</text><br><text style=color:black>data_input_text</text>: <text style=color:blue>Human trafficking in Bolivia</text><br><text style=color:black>lbl2data_input_text</text>: <text style=color:blue>['Crime in Bolivia', 'Human rights in Bolivia', 'Human trafficking by country', 'Human trafficking in South America']</text><br><br><text style=color:red>data_input_text</text>: <text style=color:green>Maiden Tower (Baku)</text><br><text style=color:red>lbl2data_input_text</text>: <text style=color:green>['Architecture in Kiev', 'Chimneys in Kazakhstan', 'Indoor arenas in Azerbaijan']</text><br><text style=color:black>data_input_text</text>: <text style=color:blue>Maiden Tower (Baku)</text><br><text style=color:black>lbl2data_input_text</text>: <text style=color:blue>['Monuments and memorials in Azerbaijan', 'Buildings and structures in Baku', 'Tourist attractions in Baku', 'Towers in Azerbaijan', 'World Heritage Sites in Azerbaijan', 'National symbols of Azerbaijan']</text><br><br><text style=color:red>data_input_text</text>: <text style=color:green>Seaweed</text><br><text style=color:red>lbl2data_input_text</text>: <text style=color:green>['Flora of British Columbia', 'Aquatic plants', 'Cleridae']</text><br><text style=color:black>data_input_text</text>: <text style=color:blue>Seaweed</text><br><text style=color:black>lbl2data_input_text</text>: <text style=color:blue>['Sea vegetables', 'Polyphyletic groups', 'Seaweeds', 'Edible algae']</text><br><br><text style=color:red>data_input_text</text>: <text style=color:green>Turn Up the Radio (Madonna song)</text><br><text style=color:red>lbl2data_input_text</text>: <text style=color:green>['Chase & Status songs', 'Song recordings produced by John Fogerty', 'Moon Mullican songs']</text><br><text style=color:black>data_input_text</text>: <text style=color:blue>Turn Up the Radio (Madonna song)</text><br><text style=color:black>lbl2data_input_text</text>: <text style=color:blue>['Billboard Dance Club Songs number-one singles', '2012 singles', '2012 songs', 'Interscope Records singles', 'Madonna (entertainer) songs', 'Song recordings produced by Madonna (entertainer)', 'Songs written by Madonna (entertainer)', 'Songs written by Martin Solveig', 'Song recordings produced by Martin Solveig', 'Songs about radio']</text><br><br><text style=color:red>data_input_text</text>: <text style=color:green>South Thailand insurgency</text><br><text style=color:red>lbl2data_input_text</text>: <text style=color:green>['Military coups in Thailand', 'Crime in Bangkok', 'Islamic terrorism in Malaysia']</text><br><text style=color:black>data_input_text</text>: <text style=color:blue>South Thailand insurgency</text><br><text style=color:black>lbl2data_input_text</text>: <text style=color:blue>['Proxy wars', 'Rebellions in Thailand', 'Religion-based wars', '2000s in Thailand', 'South Thailand insurgency', 'Songkhla Province', 'Islamic terrorism in Thailand', 'Religiously motivated violence in Thailand', 'Narathiwat Province', 'Pattani Province', 'Yala Province', 'Persecution of Buddhists', '2010s in Thailand', 'Insurgencies in Asia', 'Jihadist groups', 'Ongoing insurgencies', 'Malay Peninsula', '2000s conflicts', '2010s conflicts', 'History of Thailand', 'Politics of Thailand', 'Southern Thailand', 'Islamism in Thailand', 'Military history of Thailand']</text><br><br><text style=color:red>data_input_text</text>: <text style=color:green>Huntsville Symphony Orchestra</text><br><text style=color:red>lbl2data_input_text</text>: <text style=color:green>['American classical composers', 'Geography of Spokane, Washington', 'Tourist attractions in Tuscaloosa County, Alabama']</text><br><text style=color:black>data_input_text</text>: <text style=color:blue>Huntsville Symphony Orchestra</text><br><text style=color:black>lbl2data_input_text</text>: <text style=color:blue>['1955 establishments in Alabama', 'American orchestras', 'Musical groups established in 1955', 'Tourist attractions in Huntsville, Alabama', 'Culture of Huntsville, Alabama', 'Musical groups from Alabama', 'Performing arts in Alabama']</text>"
      ],
      "text/plain": [
       "<IPython.core.display.HTML object>"
      ]
     },
     "execution_count": null,
     "metadata": {},
     "output_type": "execute_result"
    }
   ],
   "source": [
    "HTML(display_text(pred_dset, test_dset, idx))"
   ]
  },
  {
   "cell_type": "code",
   "execution_count": null,
   "id": "f6070168-f0e1-475d-863c-9219e5ad8afd",
   "metadata": {},
   "outputs": [],
   "source": []
  }
 ],
 "metadata": {
  "kernelspec": {
   "display_name": "python3",
   "language": "python",
   "name": "python3"
  }
 },
 "nbformat": 4,
 "nbformat_minor": 5
}
