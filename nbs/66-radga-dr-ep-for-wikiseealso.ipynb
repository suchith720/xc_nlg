{
 "cells": [
  {
   "cell_type": "markdown",
   "id": "6e3a0f4c-1cfb-4a14-b8f2-fdea31c390ec",
   "metadata": {},
   "source": [
    "# RAGDA DR training"
   ]
  },
  {
   "cell_type": "code",
   "execution_count": null,
   "id": "ddda97e8-16ac-42c7-9ad4-f981e21c0aa2",
   "metadata": {},
   "outputs": [],
   "source": [
    "#| default_exp 66-radga-dr-ep-for-wikiseealso"
   ]
  },
  {
   "cell_type": "code",
   "execution_count": null,
   "id": "3f35d8be-1323-400a-b78e-d0a4d2697801",
   "metadata": {},
   "outputs": [],
   "source": [
    "%load_ext autoreload\n",
    "%autoreload 2\n",
    "\n",
    "from nbdev.showdoc import *\n",
    "import nbdev; nbdev.nbdev_export()"
   ]
  },
  {
   "cell_type": "code",
   "execution_count": null,
   "id": "d685e35e-9a13-4186-b7f4-b831b10086bb",
   "metadata": {},
   "outputs": [
    {
     "name": "stderr",
     "output_type": "stream",
     "text": [
      "comet_ml is installed but `COMET_API_KEY` is not set.\n"
     ]
    }
   ],
   "source": [
    "#| export\n",
    "import os,torch, torch.multiprocessing as mp, pickle\n",
    "from xcai.basics import *\n",
    "from xcai.models.radga import RAD002"
   ]
  },
  {
   "cell_type": "code",
   "execution_count": null,
   "id": "e0c924c6",
   "metadata": {},
   "outputs": [],
   "source": [
    "os.environ['WANDB_MODE'] = 'disabled'"
   ]
  },
  {
   "cell_type": "code",
   "execution_count": null,
   "id": "53768670-9905-46b0-9a6d-b6e91d50b918",
   "metadata": {},
   "outputs": [],
   "source": [
    "#| export\n",
    "os.environ['CUDA_VISIBLE_DEVICES'] = '0,1'\n",
    "os.environ['WANDB_PROJECT']='xc-nlg_66-radga-dr-ep-for-wikiseealso'"
   ]
  },
  {
   "cell_type": "code",
   "execution_count": null,
   "id": "3dc96ec3",
   "metadata": {},
   "outputs": [],
   "source": [
    "data_dir = '/home/scai/phd/aiz218323/Projects/XC_NLG/data'"
   ]
  },
  {
   "cell_type": "code",
   "execution_count": null,
   "id": "ba38fcb0-3ebf-4f79-aa20-1a1321b791c5",
   "metadata": {},
   "outputs": [],
   "source": [
    "block = XCBlock.from_cfg(data_dir, 'data_metas', tfm='rm', tokenizer='distilbert-base-uncased', \n",
    "                         smp_features=[('lbl2data|cat2lbl2data',1, (1,3)), ('cat2data',1,3)])"
   ]
  },
  {
   "cell_type": "code",
   "execution_count": null,
   "id": "94ae9a4f-3a36-43cd-8292-8a635dddce10",
   "metadata": {},
   "outputs": [],
   "source": [
    "block = XCBlock.from_cfg(data_dir, 'data', tfm='xcnlg', tokenizer='distilbert-base-uncased', \n",
    "                         smp_features=[('lbl2data',1, 1)])"
   ]
  },
  {
   "cell_type": "code",
   "execution_count": null,
   "id": "dee2495a-0627-4009-9af1-2f0795d62d67",
   "metadata": {},
   "outputs": [],
   "source": []
  },
  {
   "cell_type": "code",
   "execution_count": null,
   "id": "67f7ff60",
   "metadata": {},
   "outputs": [],
   "source": [
    "#| export\n",
    "data_dir = '/home/scai/phd/aiz218323/scratch/datasets/'\n",
    "pkl_file = f'{pkl_dir}/processed/wikiseealso_data-metas_distilbert-base-uncased_rm_radga-cat-final.pkl'"
   ]
  },
  {
   "cell_type": "code",
   "execution_count": null,
   "id": "a17d16fe-b3f0-47fe-ba92-29084530de61",
   "metadata": {},
   "outputs": [],
   "source": [
    "data_dir = '/home/scai/phd/aiz218323/scratch/datasets/'\n",
    "pkl_file = f'{pkl_dir}/processed/wikiseealso_data_distilbert-base-uncased_xcnlg_ngame.pkl'"
   ]
  },
  {
   "cell_type": "code",
   "execution_count": null,
   "id": "973af710-009c-4102-b0e1-e02f7ba43b9c",
   "metadata": {},
   "outputs": [],
   "source": []
  },
  {
   "cell_type": "code",
   "execution_count": null,
   "id": "a14bf4ff-1e41-41f5-bd2e-7d430e7a86b3",
   "metadata": {},
   "outputs": [],
   "source": [
    "with open(pkl_file, 'wb') as file: pickle.dump(block, file)"
   ]
  },
  {
   "cell_type": "code",
   "execution_count": null,
   "id": "779192a4-4a7f-4f9a-a711-fdf52d69e363",
   "metadata": {},
   "outputs": [],
   "source": []
  },
  {
   "cell_type": "code",
   "execution_count": null,
   "id": "4a19cd80",
   "metadata": {},
   "outputs": [],
   "source": [
    "#| export\n",
    "with open(pkl_file, 'rb') as file: block = pickle.load(file)"
   ]
  },
  {
   "cell_type": "markdown",
   "id": "2554487b",
   "metadata": {},
   "source": [
    "## Training"
   ]
  },
  {
   "cell_type": "code",
   "execution_count": null,
   "id": "73b6a059-3409-4c00-a575-dcdb5775adc9",
   "metadata": {},
   "outputs": [],
   "source": [
    "#| export\n",
    "args = XCLearningArguments(\n",
    "    output_dir='/home/scai/phd/aiz218323/scratch/outputs/66-radga-dr-ep-for-wikiseealso-1-0',\n",
    "    logging_first_step=True,\n",
    "    per_device_train_batch_size=800,\n",
    "    per_device_eval_batch_size=800,\n",
    "    representation_num_beams=200,\n",
    "    representation_accumulation_steps=10,\n",
    "    representation_attribute=\"data_fused_repr\",\n",
    "    save_strategy=\"steps\",\n",
    "    evaluation_strategy=\"steps\",\n",
    "    eval_steps=5000,\n",
    "    save_steps=5000,\n",
    "    save_total_limit=5,\n",
    "    num_train_epochs=300,\n",
    "    predict_with_representation=True,\n",
    "    adam_epsilon=1e-6,\n",
    "    warmup_steps=100,\n",
    "    weight_decay=0.0,\n",
    "    learning_rate=2e-4,\n",
    "    generation_num_beams=10,\n",
    "    generation_length_penalty=1.5,\n",
    "    predict_with_generation=True,\n",
    "    representation_search_type='INDEX',\n",
    "    group_by_cluster=True,\n",
    "    num_clustering_warmup_epochs=10,\n",
    "    num_cluster_update_epochs=5,\n",
    "    num_cluster_size_update_epochs=25,\n",
    "    clustering_type='EXPO',\n",
    "    minimum_cluster_size=2,\n",
    "    maximum_cluster_size=1600,\n",
    "    output_concatenation_weight=1.0,\n",
    "    metric_for_best_model='P@1',\n",
    "    load_best_model_at_end=True,\n",
    "    target_indices_key='plbl2data_idx',\n",
    "    target_pointer_key='plbl2data_data2ptr',\n",
    "    use_encoder_parallel=True,\n",
    "    max_grad_norm=None,\n",
    "    fp16=True,\n",
    "    label_names=['cat2data_idx', 'cat2data_input_ids', 'cat2data_attention_mask'],\n",
    "    # label_names=['hlk2data_idx', 'hlk2data_input_ids', 'hlk2data_attention_mask',\n",
    "    #              'hlk2lbl2data_idx', 'hlk2lbl2data_input_ids', 'hlk2lbl2data_attention_mask'],\n",
    ")"
   ]
  },
  {
   "cell_type": "code",
   "execution_count": null,
   "id": "cfbc728f",
   "metadata": {},
   "outputs": [],
   "source": [
    "#| export\n",
    "metric = PrecRecl(block.n_lbl, block.test.data_lbl_filterer, prop=block.train.dset.data.data_lbl,\n",
    "                  pk=10, rk=200, rep_pk=[1, 3, 5, 10], rep_rk=[10, 100, 200])"
   ]
  },
  {
   "cell_type": "code",
   "execution_count": null,
   "id": "a12171f9",
   "metadata": {},
   "outputs": [
    {
     "name": "stderr",
     "output_type": "stream",
     "text": [
      "Some weights of RAD002 were not initialized from the model checkpoint at sentence-transformers/msmarco-distilbert-base-v4 and are newly initialized: ['encoder.cross_head.k.bias', 'encoder.cross_head.k.weight', 'encoder.cross_head.o.bias', 'encoder.cross_head.o.weight', 'encoder.cross_head.q.bias', 'encoder.cross_head.q.weight', 'encoder.cross_head.v.bias', 'encoder.cross_head.v.weight', 'encoder.dr_head.layer_norm.bias', 'encoder.dr_head.layer_norm.weight', 'encoder.dr_head.projector.bias', 'encoder.dr_head.projector.weight', 'encoder.dr_head.transform.bias', 'encoder.dr_head.transform.weight', 'encoder.meta_head.layer_norm.bias', 'encoder.meta_head.layer_norm.weight', 'encoder.meta_head.projector.bias', 'encoder.meta_head.projector.weight', 'encoder.meta_head.transform.bias', 'encoder.meta_head.transform.weight']\n",
      "You should probably TRAIN this model on a down-stream task to be able to use it for predictions and inference.\n"
     ]
    }
   ],
   "source": [
    "#| export\n",
    "bsz = max(args.per_device_train_batch_size, args.per_device_eval_batch_size)*torch.cuda.device_count()\n",
    "\n",
    "model = RAD002.from_pretrained('sentence-transformers/msmarco-distilbert-base-v4', num_batch_labels=5000, batch_size=bsz,\n",
    "                               margin=0.3, num_negatives=10, tau=0.1, apply_softmax=True,\n",
    "                               \n",
    "                               data_aug_meta_prefix='cat2data', lbl2data_aug_meta_prefix='cat2lbl', \n",
    "                               resize_length=5000,\n",
    "                               \n",
    "                               meta_loss_weight=0.3, pred_meta_prefix='hlk', \n",
    "                               \n",
    "                               fusion_loss_weight=0.05, use_fusion_loss=False, use_noise=False, use_encoder_parallel=True)\n",
    "model.init_retrieval_head()\n",
    "model.init_cross_head()"
   ]
  },
  {
   "cell_type": "code",
   "execution_count": null,
   "id": "01d48f78",
   "metadata": {},
   "outputs": [
    {
     "name": "stderr",
     "output_type": "stream",
     "text": [
      "/scratch/scai/phd/aiz218323/anaconda3/envs/xc_nlg/lib/python3.9/site-packages/accelerate/accelerator.py:432: FutureWarning: Passing the following arguments to `Accelerator` is deprecated and will be removed in version 1.0 of Accelerate: dict_keys(['dispatch_batches', 'split_batches', 'even_batches', 'use_seedable_sampler']). Please pass an `accelerate.DataLoaderConfiguration` instead: \n",
      "dataloader_config = DataLoaderConfiguration(dispatch_batches=None, split_batches=False, even_batches=True, use_seedable_sampler=True)\n",
      "  warnings.warn(\n",
      "Detected kernel version 3.10.0, which is below the recommended minimum of 5.5.0; this can cause the process to hang. It is recommended to upgrade the kernel to the minimum version or higher.\n"
     ]
    }
   ],
   "source": [
    "#| export\n",
    "learn = XCLearner(\n",
    "    model=model, \n",
    "    args=args,\n",
    "    train_dataset=block.train.dset,\n",
    "    eval_dataset=block.test.dset,\n",
    "    data_collator=block.collator,\n",
    "    compute_metrics=metric,\n",
    ")"
   ]
  },
  {
   "cell_type": "code",
   "execution_count": null,
   "id": "f832ba01-b786-4688-a891-05946b908be4",
   "metadata": {},
   "outputs": [],
   "source": []
  },
  {
   "cell_type": "code",
   "execution_count": null,
   "id": "aba00769",
   "metadata": {},
   "outputs": [],
   "source": [
    "learn.train()"
   ]
  },
  {
   "cell_type": "code",
   "execution_count": null,
   "id": "7fc60dbd",
   "metadata": {},
   "outputs": [],
   "source": []
  },
  {
   "cell_type": "code",
   "execution_count": null,
   "id": "68cd155e-912d-4780-b60d-b7c6749b30b3",
   "metadata": {},
   "outputs": [],
   "source": [
    "#| export\n",
    "if __name__ == '__main__':\n",
    "    mp.freeze_support()\n",
    "    learn.train()"
   ]
  },
  {
   "cell_type": "markdown",
   "id": "3143862b-c664-4be9-994c-c0ef86cc5ad9",
   "metadata": {},
   "source": [
    "## Prediction"
   ]
  },
  {
   "cell_type": "code",
   "execution_count": null,
   "id": "feac3c77-c218-4151-a299-4c140bd47698",
   "metadata": {},
   "outputs": [],
   "source": [
    "#| export\n",
    "args = XCLearningArguments(\n",
    "    output_dir='/home/scai/phd/aiz218323/scratch/outputs/66-radga-dr-ep-for-wikiseealso-1-6',\n",
    "    logging_first_step=True,\n",
    "    per_device_train_batch_size=800,\n",
    "    per_device_eval_batch_size=800,\n",
    "    representation_num_beams=200,\n",
    "    representation_accumulation_steps=10,\n",
    "    output_representation_attribute=\"data_fused_repr\",\n",
    "    representation_attribute=\"data_fused_repr\",\n",
    "    \n",
    "    predict_with_representation=True,\n",
    "    representation_search_type='INDEX',\n",
    "    \n",
    "    metric_for_best_model='P@1',\n",
    "    target_indices_key='plbl2data_idx',\n",
    "    target_pointer_key='plbl2data_data2ptr',\n",
    "    use_encoder_parallel=True,\n",
    "    fp16=True,\n",
    "    label_names=['cat2data_idx', 'cat2data_input_ids', 'cat2data_attention_mask'],\n",
    "    # label_names=['hlk2data_idx', 'hlk2data_input_ids', 'hlk2data_attention_mask',\n",
    "    #              'hlk2lbl2data_idx', 'hlk2lbl2data_input_ids', 'hlk2lbl2data_attention_mask'],\n",
    "\n",
    "    predict_with_augmentation=False,\n",
    "    use_augmentation_index_representation=True,\n",
    "    \n",
    "    data_aug_meta_name='cat',\n",
    "    augmentation_num_beams=3,\n",
    "    data_aug_prefix='aug',\n",
    "    use_label_metadata=False,\n",
    ")"
   ]
  },
  {
   "cell_type": "code",
   "execution_count": null,
   "id": "7f4f1045-de24-4be9-890b-defb99f40133",
   "metadata": {},
   "outputs": [],
   "source": [
    "output_dir = f\"/home/scai/phd/aiz218323/scratch/outputs/{os.path.basename(args.output_dir)}\"\n",
    "mname = f'{output_dir}/{os.path.basename(get_best_model(output_dir))}'"
   ]
  },
  {
   "cell_type": "code",
   "execution_count": null,
   "id": "f8164bfc-5f61-432c-95d0-480f97df46bd",
   "metadata": {},
   "outputs": [],
   "source": [
    "mname = f'{output_dir}/checkpoint-130200'"
   ]
  },
  {
   "cell_type": "code",
   "execution_count": null,
   "id": "519dae83-f6e0-469f-bbba-40a5e89c094b",
   "metadata": {},
   "outputs": [],
   "source": [
    "bsz = max(args.per_device_train_batch_size, args.per_device_eval_batch_size)*torch.cuda.device_count()\n",
    "\n",
    "model = RAD002.from_pretrained(mname, num_batch_labels=5000, batch_size=bsz,\n",
    "                               margin=0.3, num_negatives=10, tau=0.1, apply_softmax=True,\n",
    "                                \n",
    "                               data_aug_meta_prefix='aug2data', lbl2data_aug_meta_prefix='aug2lbl', \n",
    "                               resize_length=5000,\n",
    "                               \n",
    "                               meta_loss_weight=0.3, \n",
    "                               pred_meta_prefix=None, #pred_meta_prefix='cat', \n",
    "                               \n",
    "                               fusion_loss_weight=0.1, use_fusion_loss=False, use_noise=False, use_encoder_parallel=True)"
   ]
  },
  {
   "cell_type": "code",
   "execution_count": null,
   "id": "c12d14c2-2c56-4799-8795-c59991966db6",
   "metadata": {},
   "outputs": [],
   "source": [
    "import numpy as np\n",
    "from xcai.data import MainXCDataset, XCDataBlock, XCDataset, BaseXCDataBlock\n",
    "\n",
    "dataset = MainXCDataset(block.test.dset.data.data_info, block.test.dset.meta['cat_meta'].data_meta, \n",
    "                        block.test.dset.meta['cat_meta'].meta_info)\n",
    "idx = np.where(dataset.data_lbl.getnnz(axis=1) > 0)[0]\n",
    "test_meta_dset = XCDataset(dataset._getitems(idx))\n",
    "\n",
    "dataset = MainXCDataset(block.train.dset.data.data_info, block.train.dset.meta['cat_meta'].data_meta, \n",
    "                        block.train.dset.meta['cat_meta'].meta_info)\n",
    "idx = np.where(dataset.data_lbl.getnnz(axis=1) > 0)[0]\n",
    "train_meta_dset = XCDataset(dataset._getitems(idx))"
   ]
  },
  {
   "cell_type": "code",
   "execution_count": null,
   "id": "1aafe0a1-a370-4333-91e4-48b3c908216c",
   "metadata": {},
   "outputs": [],
   "source": []
  },
  {
   "cell_type": "code",
   "execution_count": null,
   "id": "99dedef7-123b-474b-a335-98062d42b218",
   "metadata": {},
   "outputs": [],
   "source": [
    "metric = PrecRecl(block.n_lbl, block.test.data_lbl_filterer, prop=block.train.dset.data.data_lbl,\n",
    "                  pk=10, rk=200, rep_pk=[1, 3, 5, 10], rep_rk=[10, 100, 200])"
   ]
  },
  {
   "cell_type": "code",
   "execution_count": null,
   "id": "c9c8ee1d-0b01-46b7-8df1-29c949ba3089",
   "metadata": {},
   "outputs": [],
   "source": [
    "learn = XCLearner(\n",
    "    model=model, \n",
    "    args=args,\n",
    "    train_dataset=block.train.dset,\n",
    "    eval_dataset=block.test.dset,\n",
    "    data_collator=block.collator,\n",
    "    compute_metrics=metric,\n",
    ")"
   ]
  },
  {
   "cell_type": "code",
   "execution_count": null,
   "id": "88762243-ec31-4bad-bc89-cf5a9e9e7b35",
   "metadata": {},
   "outputs": [],
   "source": []
  },
  {
   "cell_type": "code",
   "execution_count": null,
   "id": "c17bfff2-88b4-4441-aa3d-96f5de38950f",
   "metadata": {},
   "outputs": [],
   "source": [
    "metric = PrecRecl(test_meta_dset.n_lbl, test_meta_dset.data.data_lbl_filterer, prop=train_meta_dset.data.data_lbl,\n",
    "                  pk=10, rk=200, rep_pk=[1, 3, 5, 10], rep_rk=[10, 100, 200])"
   ]
  },
  {
   "cell_type": "code",
   "execution_count": null,
   "id": "95e4187b-06a3-4644-8b28-299d9eb77cf1",
   "metadata": {},
   "outputs": [
    {
     "name": "stderr",
     "output_type": "stream",
     "text": [
      "/scratch/scai/phd/aiz218323/anaconda3/envs/xc_nlg/lib/python3.9/site-packages/accelerate/accelerator.py:432: FutureWarning: Passing the following arguments to `Accelerator` is deprecated and will be removed in version 1.0 of Accelerate: dict_keys(['dispatch_batches', 'split_batches', 'even_batches', 'use_seedable_sampler']). Please pass an `accelerate.DataLoaderConfiguration` instead: \n",
      "dataloader_config = DataLoaderConfiguration(dispatch_batches=None, split_batches=False, even_batches=True, use_seedable_sampler=True)\n",
      "  warnings.warn(\n",
      "Detected kernel version 3.10.0, which is below the recommended minimum of 5.5.0; this can cause the process to hang. It is recommended to upgrade the kernel to the minimum version or higher.\n"
     ]
    }
   ],
   "source": [
    "learn = XCLearner(\n",
    "    model=model, \n",
    "    args=args,\n",
    "    train_dataset=train_meta_dset,\n",
    "    eval_dataset=test_meta_dset,\n",
    "    data_collator=block.collator,\n",
    "    compute_metrics=metric,\n",
    ")"
   ]
  },
  {
   "cell_type": "code",
   "execution_count": null,
   "id": "edf6845b-ebbc-4652-a24e-9860bf653a0d",
   "metadata": {},
   "outputs": [
    {
     "data": {
      "application/vnd.jupyter.widget-view+json": {
       "model_id": "1df722c63e4e4a048a37565ac58ceedb",
       "version_major": 2,
       "version_minor": 0
      },
      "text/plain": [
       "  0%|          | 0/411 [00:00<?, ?it/s]"
      ]
     },
     "metadata": {},
     "output_type": "display_data"
    },
    {
     "name": "stderr",
     "output_type": "stream",
     "text": [
      "/scratch/scai/phd/aiz218323/Projects/xcai/xcai/losses.py:22: UserWarning: Sparse CSR tensor support is in beta state. If you miss a functionality in the sparse tensor support, please submit a feature request to https://github.com/pytorch/pytorch/issues. (Triggered internally at ../aten/src/ATen/SparseCsrTensorImpl.cpp:53.)\n",
      "  return torch.sparse_csr_tensor(data_ptr, data_idx, scores, device=data_ptr.device)\n"
     ]
    },
    {
     "data": {
      "text/html": [],
      "text/plain": [
       "<IPython.core.display.HTML object>"
      ]
     },
     "metadata": {},
     "output_type": "display_data"
    }
   ],
   "source": [
    "o = learn.predict(test_meta_dset)"
   ]
  },
  {
   "cell_type": "code",
   "execution_count": null,
   "id": "b8d1a206-6cce-4346-a89f-18ed1caaa92e",
   "metadata": {},
   "outputs": [
    {
     "data": {
      "text/html": [
       "<div>\n",
       "<style scoped>\n",
       "    .dataframe tbody tr th:only-of-type {\n",
       "        vertical-align: middle;\n",
       "    }\n",
       "\n",
       "    .dataframe tbody tr th {\n",
       "        vertical-align: top;\n",
       "    }\n",
       "\n",
       "    .dataframe thead th {\n",
       "        text-align: right;\n",
       "    }\n",
       "</style>\n",
       "<table border=\"1\" class=\"dataframe\">\n",
       "  <thead>\n",
       "    <tr style=\"text-align: right;\">\n",
       "      <th></th>\n",
       "      <th>P@1</th>\n",
       "      <th>P@3</th>\n",
       "      <th>P@5</th>\n",
       "      <th>P@10</th>\n",
       "      <th>N@1</th>\n",
       "      <th>N@3</th>\n",
       "      <th>N@5</th>\n",
       "      <th>N@10</th>\n",
       "      <th>PSP@1</th>\n",
       "      <th>PSP@3</th>\n",
       "      <th>PSP@5</th>\n",
       "      <th>PSP@10</th>\n",
       "      <th>PSN@1</th>\n",
       "      <th>PSN@3</th>\n",
       "      <th>PSN@5</th>\n",
       "      <th>PSN@10</th>\n",
       "      <th>R@10</th>\n",
       "      <th>R@100</th>\n",
       "      <th>R@200</th>\n",
       "      <th>loss</th>\n",
       "      <th>runtime</th>\n",
       "      <th>samples_per_second</th>\n",
       "      <th>steps_per_second</th>\n",
       "    </tr>\n",
       "  </thead>\n",
       "  <tbody>\n",
       "    <tr>\n",
       "      <th>0</th>\n",
       "      <td>34.5028</td>\n",
       "      <td>18.4519</td>\n",
       "      <td>13.2887</td>\n",
       "      <td>8.2554</td>\n",
       "      <td>34.5028</td>\n",
       "      <td>26.0972</td>\n",
       "      <td>25.4834</td>\n",
       "      <td>26.5477</td>\n",
       "      <td>28.9366</td>\n",
       "      <td>21.3815</td>\n",
       "      <td>20.5157</td>\n",
       "      <td>21.7502</td>\n",
       "      <td>28.9366</td>\n",
       "      <td>24.7859</td>\n",
       "      <td>25.5341</td>\n",
       "      <td>27.5692</td>\n",
       "      <td>27.6437</td>\n",
       "      <td>41.7672</td>\n",
       "      <td>45.6261</td>\n",
       "      <td>0.0283</td>\n",
       "      <td>663.5434</td>\n",
       "      <td>261.556</td>\n",
       "      <td>0.164</td>\n",
       "    </tr>\n",
       "  </tbody>\n",
       "</table>\n",
       "</div>"
      ],
      "text/plain": [
       "       P@1      P@3      P@5    P@10      N@1      N@3      N@5     N@10  \\\n",
       "0  34.5028  18.4519  13.2887  8.2554  34.5028  26.0972  25.4834  26.5477   \n",
       "\n",
       "     PSP@1    PSP@3    PSP@5   PSP@10    PSN@1    PSN@3    PSN@5   PSN@10  \\\n",
       "0  28.9366  21.3815  20.5157  21.7502  28.9366  24.7859  25.5341  27.5692   \n",
       "\n",
       "      R@10    R@100    R@200    loss   runtime  samples_per_second  \\\n",
       "0  27.6437  41.7672  45.6261  0.0283  663.5434             261.556   \n",
       "\n",
       "   steps_per_second  \n",
       "0             0.164  "
      ]
     },
     "metadata": {},
     "output_type": "display_data"
    }
   ],
   "source": [
    "display_metric(o.metrics)"
   ]
  },
  {
   "cell_type": "code",
   "execution_count": null,
   "id": "666e6fb8-d5cb-486c-ba41-04df0b4ed78c",
   "metadata": {},
   "outputs": [],
   "source": []
  },
  {
   "cell_type": "code",
   "execution_count": null,
   "id": "49651e1e-e8f7-4ef8-907b-e33411f6a449",
   "metadata": {},
   "outputs": [
    {
     "data": {
      "application/vnd.jupyter.widget-view+json": {
       "model_id": "4aaf34dd0df74174bc95cab9e4c9a58c",
       "version_major": 2,
       "version_minor": 0
      },
      "text/plain": [
       "  0%|          | 0/196 [00:00<?, ?it/s]"
      ]
     },
     "metadata": {},
     "output_type": "display_data"
    },
    {
     "data": {
      "text/html": [],
      "text/plain": [
       "<IPython.core.display.HTML object>"
      ]
     },
     "metadata": {},
     "output_type": "display_data"
    },
    {
     "name": "stderr",
     "output_type": "stream",
     "text": [
      "/scratch/scai/phd/aiz218323/anaconda3/envs/xc_nlg/lib/python3.9/site-packages/scipy/sparse/_index.py:145: SparseEfficiencyWarning: Changing the sparsity structure of a csr_matrix is expensive. lil_matrix is more efficient.\n",
      "  self._set_arrayXarray(i, j, x)\n"
     ]
    }
   ],
   "source": [
    "o = learn.predict(block.test.dset)"
   ]
  },
  {
   "cell_type": "code",
   "execution_count": null,
   "id": "c5287822-60ae-497a-b242-392c2fc3420b",
   "metadata": {},
   "outputs": [
    {
     "data": {
      "text/html": [
       "<div>\n",
       "<style scoped>\n",
       "    .dataframe tbody tr th:only-of-type {\n",
       "        vertical-align: middle;\n",
       "    }\n",
       "\n",
       "    .dataframe tbody tr th {\n",
       "        vertical-align: top;\n",
       "    }\n",
       "\n",
       "    .dataframe thead th {\n",
       "        text-align: right;\n",
       "    }\n",
       "</style>\n",
       "<table border=\"1\" class=\"dataframe\">\n",
       "  <thead>\n",
       "    <tr style=\"text-align: right;\">\n",
       "      <th></th>\n",
       "      <th>P@1</th>\n",
       "      <th>P@3</th>\n",
       "      <th>P@5</th>\n",
       "      <th>P@10</th>\n",
       "      <th>N@1</th>\n",
       "      <th>N@3</th>\n",
       "      <th>N@5</th>\n",
       "      <th>N@10</th>\n",
       "      <th>PSP@1</th>\n",
       "      <th>PSP@3</th>\n",
       "      <th>PSP@5</th>\n",
       "      <th>PSP@10</th>\n",
       "      <th>PSN@1</th>\n",
       "      <th>PSN@3</th>\n",
       "      <th>PSN@5</th>\n",
       "      <th>PSN@10</th>\n",
       "      <th>R@10</th>\n",
       "      <th>R@100</th>\n",
       "      <th>R@200</th>\n",
       "      <th>loss</th>\n",
       "      <th>runtime</th>\n",
       "      <th>samples_per_second</th>\n",
       "      <th>steps_per_second</th>\n",
       "    </tr>\n",
       "  </thead>\n",
       "  <tbody>\n",
       "    <tr>\n",
       "      <th>0</th>\n",
       "      <td>37.145</td>\n",
       "      <td>24.8182</td>\n",
       "      <td>18.7853</td>\n",
       "      <td>11.9354</td>\n",
       "      <td>37.145</td>\n",
       "      <td>37.347</td>\n",
       "      <td>38.7788</td>\n",
       "      <td>41.2028</td>\n",
       "      <td>28.5487</td>\n",
       "      <td>31.1488</td>\n",
       "      <td>33.7948</td>\n",
       "      <td>39.0724</td>\n",
       "      <td>28.5487</td>\n",
       "      <td>31.8077</td>\n",
       "      <td>33.9975</td>\n",
       "      <td>36.7601</td>\n",
       "      <td>47.5127</td>\n",
       "      <td>65.2832</td>\n",
       "      <td>69.2098</td>\n",
       "      <td>0.0217</td>\n",
       "      <td>641.0539</td>\n",
       "      <td>276.911</td>\n",
       "      <td>0.173</td>\n",
       "    </tr>\n",
       "  </tbody>\n",
       "</table>\n",
       "</div>"
      ],
      "text/plain": [
       "      P@1      P@3      P@5     P@10     N@1     N@3      N@5     N@10  \\\n",
       "0  37.145  24.8182  18.7853  11.9354  37.145  37.347  38.7788  41.2028   \n",
       "\n",
       "     PSP@1    PSP@3    PSP@5   PSP@10    PSN@1    PSN@3    PSN@5   PSN@10  \\\n",
       "0  28.5487  31.1488  33.7948  39.0724  28.5487  31.8077  33.9975  36.7601   \n",
       "\n",
       "      R@10    R@100    R@200    loss   runtime  samples_per_second  \\\n",
       "0  47.5127  65.2832  69.2098  0.0217  641.0539             276.911   \n",
       "\n",
       "   steps_per_second  \n",
       "0             0.173  "
      ]
     },
     "metadata": {},
     "output_type": "display_data"
    }
   ],
   "source": [
    "display_metric(o.metrics)"
   ]
  },
  {
   "cell_type": "code",
   "execution_count": null,
   "id": "5480a87d-31f0-4f35-bedf-3de9915877e0",
   "metadata": {},
   "outputs": [
    {
     "data": {
      "text/html": [
       "<div>\n",
       "<style scoped>\n",
       "    .dataframe tbody tr th:only-of-type {\n",
       "        vertical-align: middle;\n",
       "    }\n",
       "\n",
       "    .dataframe tbody tr th {\n",
       "        vertical-align: top;\n",
       "    }\n",
       "\n",
       "    .dataframe thead th {\n",
       "        text-align: right;\n",
       "    }\n",
       "</style>\n",
       "<table border=\"1\" class=\"dataframe\">\n",
       "  <thead>\n",
       "    <tr style=\"text-align: right;\">\n",
       "      <th></th>\n",
       "      <th>P@1</th>\n",
       "      <th>P@3</th>\n",
       "      <th>P@5</th>\n",
       "      <th>P@10</th>\n",
       "      <th>N@1</th>\n",
       "      <th>N@3</th>\n",
       "      <th>N@5</th>\n",
       "      <th>N@10</th>\n",
       "      <th>PSP@1</th>\n",
       "      <th>PSP@3</th>\n",
       "      <th>PSP@5</th>\n",
       "      <th>PSP@10</th>\n",
       "      <th>PSN@1</th>\n",
       "      <th>PSN@3</th>\n",
       "      <th>PSN@5</th>\n",
       "      <th>PSN@10</th>\n",
       "      <th>R@10</th>\n",
       "      <th>R@100</th>\n",
       "      <th>R@200</th>\n",
       "      <th>loss</th>\n",
       "      <th>runtime</th>\n",
       "      <th>samples_per_second</th>\n",
       "      <th>steps_per_second</th>\n",
       "    </tr>\n",
       "  </thead>\n",
       "  <tbody>\n",
       "    <tr>\n",
       "      <th>0</th>\n",
       "      <td>28.5024</td>\n",
       "      <td>19.3702</td>\n",
       "      <td>14.9239</td>\n",
       "      <td>9.6855</td>\n",
       "      <td>28.5024</td>\n",
       "      <td>28.7246</td>\n",
       "      <td>29.9571</td>\n",
       "      <td>32.0412</td>\n",
       "      <td>22.5878</td>\n",
       "      <td>25.1417</td>\n",
       "      <td>27.7646</td>\n",
       "      <td>32.6998</td>\n",
       "      <td>22.5878</td>\n",
       "      <td>25.2912</td>\n",
       "      <td>27.1844</td>\n",
       "      <td>29.5799</td>\n",
       "      <td>37.3778</td>\n",
       "      <td>53.7569</td>\n",
       "      <td>57.6496</td>\n",
       "      <td>0.0347</td>\n",
       "      <td>1248.3147</td>\n",
       "      <td>142.204</td>\n",
       "      <td>0.089</td>\n",
       "    </tr>\n",
       "  </tbody>\n",
       "</table>\n",
       "</div>"
      ],
      "text/plain": [
       "       P@1      P@3      P@5    P@10      N@1      N@3      N@5     N@10  \\\n",
       "0  28.5024  19.3702  14.9239  9.6855  28.5024  28.7246  29.9571  32.0412   \n",
       "\n",
       "     PSP@1    PSP@3    PSP@5   PSP@10    PSN@1    PSN@3    PSN@5   PSN@10  \\\n",
       "0  22.5878  25.1417  27.7646  32.6998  22.5878  25.2912  27.1844  29.5799   \n",
       "\n",
       "      R@10    R@100    R@200    loss    runtime  samples_per_second  \\\n",
       "0  37.3778  53.7569  57.6496  0.0347  1248.3147             142.204   \n",
       "\n",
       "   steps_per_second  \n",
       "0             0.089  "
      ]
     },
     "metadata": {},
     "output_type": "display_data"
    }
   ],
   "source": [
    "display_metric(o.metrics)"
   ]
  },
  {
   "cell_type": "code",
   "execution_count": null,
   "id": "f19cf927-d3e3-474b-b901-2b98deb52c84",
   "metadata": {},
   "outputs": [
    {
     "data": {
      "text/html": [
       "<div>\n",
       "<style scoped>\n",
       "    .dataframe tbody tr th:only-of-type {\n",
       "        vertical-align: middle;\n",
       "    }\n",
       "\n",
       "    .dataframe tbody tr th {\n",
       "        vertical-align: top;\n",
       "    }\n",
       "\n",
       "    .dataframe thead th {\n",
       "        text-align: right;\n",
       "    }\n",
       "</style>\n",
       "<table border=\"1\" class=\"dataframe\">\n",
       "  <thead>\n",
       "    <tr style=\"text-align: right;\">\n",
       "      <th></th>\n",
       "      <th>P@1</th>\n",
       "      <th>P@3</th>\n",
       "      <th>P@5</th>\n",
       "      <th>P@10</th>\n",
       "      <th>N@1</th>\n",
       "      <th>N@3</th>\n",
       "      <th>N@5</th>\n",
       "      <th>N@10</th>\n",
       "      <th>PSP@1</th>\n",
       "      <th>PSP@3</th>\n",
       "      <th>PSP@5</th>\n",
       "      <th>PSP@10</th>\n",
       "      <th>PSN@1</th>\n",
       "      <th>PSN@3</th>\n",
       "      <th>PSN@5</th>\n",
       "      <th>PSN@10</th>\n",
       "      <th>R@10</th>\n",
       "      <th>R@100</th>\n",
       "      <th>R@200</th>\n",
       "      <th>loss</th>\n",
       "      <th>runtime</th>\n",
       "      <th>samples_per_second</th>\n",
       "      <th>steps_per_second</th>\n",
       "    </tr>\n",
       "  </thead>\n",
       "  <tbody>\n",
       "    <tr>\n",
       "      <th>0</th>\n",
       "      <td>30.8261</td>\n",
       "      <td>20.5389</td>\n",
       "      <td>15.5689</td>\n",
       "      <td>9.8958</td>\n",
       "      <td>30.8261</td>\n",
       "      <td>30.6954</td>\n",
       "      <td>31.7409</td>\n",
       "      <td>33.6136</td>\n",
       "      <td>25.9538</td>\n",
       "      <td>27.6247</td>\n",
       "      <td>29.6802</td>\n",
       "      <td>33.9528</td>\n",
       "      <td>25.9538</td>\n",
       "      <td>28.1304</td>\n",
       "      <td>29.7845</td>\n",
       "      <td>31.94</td>\n",
       "      <td>38.3747</td>\n",
       "      <td>53.0829</td>\n",
       "      <td>56.5055</td>\n",
       "      <td>0.0258</td>\n",
       "      <td>515.3512</td>\n",
       "      <td>344.454</td>\n",
       "      <td>0.215</td>\n",
       "    </tr>\n",
       "  </tbody>\n",
       "</table>\n",
       "</div>"
      ],
      "text/plain": [
       "       P@1      P@3      P@5    P@10      N@1      N@3      N@5     N@10  \\\n",
       "0  30.8261  20.5389  15.5689  9.8958  30.8261  30.6954  31.7409  33.6136   \n",
       "\n",
       "     PSP@1    PSP@3    PSP@5   PSP@10    PSN@1    PSN@3    PSN@5  PSN@10  \\\n",
       "0  25.9538  27.6247  29.6802  33.9528  25.9538  28.1304  29.7845   31.94   \n",
       "\n",
       "      R@10    R@100    R@200    loss   runtime  samples_per_second  \\\n",
       "0  38.3747  53.0829  56.5055  0.0258  515.3512             344.454   \n",
       "\n",
       "   steps_per_second  \n",
       "0             0.215  "
      ]
     },
     "metadata": {},
     "output_type": "display_data"
    }
   ],
   "source": [
    "display_metric(o.metrics)"
   ]
  },
  {
   "cell_type": "code",
   "execution_count": null,
   "id": "be4e3bad-0749-4ae7-bb06-a4db62fee96e",
   "metadata": {},
   "outputs": [],
   "source": []
  },
  {
   "cell_type": "code",
   "execution_count": null,
   "id": "b0985baf-3987-4bf7-af67-6fd58dce490d",
   "metadata": {},
   "outputs": [],
   "source": []
  }
 ],
 "metadata": {
  "kernelspec": {
   "display_name": "python3",
   "language": "python",
   "name": "python3"
  }
 },
 "nbformat": 4,
 "nbformat_minor": 5
}
