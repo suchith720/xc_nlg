{
 "cells": [
  {
   "cell_type": "markdown",
   "id": "6e3a0f4c-1cfb-4a14-b8f2-fdea31c390ec",
   "metadata": {},
   "source": [
    "# RAGDA DR training"
   ]
  },
  {
   "cell_type": "code",
   "execution_count": null,
   "id": "ddda97e8-16ac-42c7-9ad4-f981e21c0aa2",
   "metadata": {},
   "outputs": [],
   "source": [
    "#| default_exp 72-1-radga-dr-ep-for-wikiseealso-1-0"
   ]
  },
  {
   "cell_type": "code",
   "execution_count": null,
   "id": "3f35d8be-1323-400a-b78e-d0a4d2697801",
   "metadata": {},
   "outputs": [],
   "source": [
    "%load_ext autoreload\n",
    "%autoreload 2\n",
    "\n",
    "from nbdev.showdoc import *\n",
    "import nbdev; nbdev.nbdev_export()"
   ]
  },
  {
   "cell_type": "code",
   "execution_count": null,
   "id": "d685e35e-9a13-4186-b7f4-b831b10086bb",
   "metadata": {},
   "outputs": [
    {
     "name": "stderr",
     "output_type": "stream",
     "text": [
      "comet_ml is installed but `COMET_API_KEY` is not set.\n"
     ]
    }
   ],
   "source": [
    "#| export\n",
    "import os,torch, torch.multiprocessing as mp, pickle, torch.nn as nn\n",
    "from xcai.basics import *\n",
    "from xcai.models.radga import RAD002"
   ]
  },
  {
   "cell_type": "code",
   "execution_count": null,
   "id": "869a2139-0b43-4285-a78b-54b991561699",
   "metadata": {},
   "outputs": [],
   "source": [
    "import math, numpy as np\n",
    "from scipy import sparse\n",
    "from xcai.data import MetaXCDataset\n",
    "from xcai.clustering.cluster import BalancedClusters"
   ]
  },
  {
   "cell_type": "code",
   "execution_count": null,
   "id": "e0c924c6",
   "metadata": {},
   "outputs": [],
   "source": [
    "#| export\n",
    "os.environ['WANDB_MODE'] = 'disabled'"
   ]
  },
  {
   "cell_type": "code",
   "execution_count": null,
   "id": "53768670-9905-46b0-9a6d-b6e91d50b918",
   "metadata": {},
   "outputs": [],
   "source": [
    "#| export\n",
    "os.environ['CUDA_VISIBLE_DEVICES'] = '0,1'\n",
    "os.environ['WANDB_PROJECT']='xc-nlg_66-radga-dr-ep-for-wikiseealso-2'"
   ]
  },
  {
   "cell_type": "code",
   "execution_count": null,
   "id": "3dc96ec3",
   "metadata": {},
   "outputs": [],
   "source": [
    "data_dir = '/home/scai/phd/aiz218323/Projects/XC_NLG/data'"
   ]
  },
  {
   "cell_type": "code",
   "execution_count": null,
   "id": "ba38fcb0-3ebf-4f79-aa20-1a1321b791c5",
   "metadata": {},
   "outputs": [
    {
     "name": "stderr",
     "output_type": "stream",
     "text": [
      "/home/scai/phd/aiz218323/.local/lib/python3.9/site-packages/xclib-0.97-py3.9-linux-x86_64.egg/xclib/data/data_utils.py:263: UserWarning: Header mis-match from inferred shape!\n",
      "  warnings.warn(\"Header mis-match from inferred shape!\")\n"
     ]
    }
   ],
   "source": [
    "block = XCBlock.from_cfg(data_dir, 'data_metas', tfm='rm', tokenizer='distilbert-base-uncased', \n",
    "                         smp_features=[('lbl2data|cat2lbl2data',1,(1,3)), ('cat2data',1,3)])"
   ]
  },
  {
   "cell_type": "code",
   "execution_count": null,
   "id": "7c60eb4c-fc3e-412f-9ced-7e0b0f2a1c34",
   "metadata": {},
   "outputs": [
    {
     "name": "stderr",
     "output_type": "stream",
     "text": [
      "/home/scai/phd/aiz218323/.local/lib/python3.9/site-packages/xclib-0.97-py3.9-linux-x86_64.egg/xclib/data/data_utils.py:263: UserWarning: Header mis-match from inferred shape!\n",
      "  warnings.warn(\"Header mis-match from inferred shape!\")\n"
     ]
    }
   ],
   "source": [
    "block = XCBlock.from_cfg(data_dir, 'data_catlnk', tfm='rm', tokenizer='distilbert-base-uncased', \n",
    "                         smp_features=[('lbl2data|cat2lbl2data|lnk2lbl2data',1, (1,3,3)), ('cat2data',1,3), ('lnk2data',1,3)])"
   ]
  },
  {
   "cell_type": "code",
   "execution_count": null,
   "id": "a2bd7994-844d-4195-b453-f945ece09eb6",
   "metadata": {},
   "outputs": [],
   "source": []
  },
  {
   "cell_type": "code",
   "execution_count": null,
   "id": "67f7ff60",
   "metadata": {},
   "outputs": [],
   "source": [
    "#| export\n",
    "data_dir = '/home/scai/phd/aiz218323/scratch/datasets/'\n",
    "pkl_file = f'{pkl_dir}/processed/wikiseealso_data-metas_distilbert-base-uncased_rm_radga-cat-linker.pkl'"
   ]
  },
  {
   "cell_type": "code",
   "execution_count": null,
   "id": "6131c45c-e1bd-442b-b040-488781baedd2",
   "metadata": {},
   "outputs": [],
   "source": []
  },
  {
   "cell_type": "code",
   "execution_count": null,
   "id": "a14bf4ff-1e41-41f5-bd2e-7d430e7a86b3",
   "metadata": {},
   "outputs": [],
   "source": [
    "with open(pkl_file, 'wb') as file: pickle.dump(block, file)"
   ]
  },
  {
   "cell_type": "code",
   "execution_count": null,
   "id": "4a19cd80",
   "metadata": {},
   "outputs": [],
   "source": [
    "#| export\n",
    "with open(pkl_file, 'rb') as file: block = pickle.load(file)"
   ]
  },
  {
   "cell_type": "markdown",
   "id": "190b5a45-6e69-4874-a817-2c8237879338",
   "metadata": {},
   "source": [
    "## XCLearner"
   ]
  },
  {
   "cell_type": "code",
   "execution_count": null,
   "id": "e1d281e6-4b7a-4846-853d-19535614fe4d",
   "metadata": {},
   "outputs": [],
   "source": [
    "from fastcore.utils import *\n",
    "from torch.utils.data import Dataset\n",
    "from typing import Any, Optional\n",
    "from xcai.data import MainXCDataset\n",
    "from xcai.representation.search import BruteForceSearch,IndexSearch"
   ]
  },
  {
   "cell_type": "code",
   "execution_count": null,
   "id": "c686a2a2-dccc-48e4-b1bb-99b28683aaff",
   "metadata": {},
   "outputs": [],
   "source": [
    "@patch\n",
    "def _build_aug_index(self:XCLearner, dataset:Optional[Dataset]=None):\n",
    "    dataset = dataset if self.eval_dataset is None else self.eval_dataset\n",
    "    dataset = dataset if self.train_dataset is None else self.train_dataset\n",
    "    \n",
    "    meta_name = f'{self.args.data_aug_meta_name}_meta' if self.args.data_aug_meta_name is not None else None\n",
    "    if (\n",
    "        dataset is not None and \n",
    "        dataset.meta is not None and \n",
    "        meta_name is not None and \n",
    "        meta_name in dataset.meta\n",
    "    ):\n",
    "        self.aug_idxs = (\n",
    "            BruteForceSearch(n_bm=self.args.augmentation_num_beams)\n",
    "            if self.args.representation_search_type == 'BRUTEFORCE' else\n",
    "            IndexSearch(space=self.args.index_space, efc=self.args.index_efc, m=self.args.index_m, \n",
    "                        efs=self.args.index_efs, n_bm=self.args.augmentation_num_beams, \n",
    "                        n_threads=self.args.index_num_threads) \n",
    "        )\n",
    "        \n",
    "        dset = MainXCDataset(getattr(dataset.meta[meta_name], 'meta_info'))\n",
    "        dataloader = self.get_test_dataloader(dset)\n",
    "        rep = self.get_meta_representation(dataloader, to_cpu=isinstance(self.aug_idxs, IndexSearch))\n",
    "        self.aug_idxs.build(rep)\n",
    "        "
   ]
  },
  {
   "cell_type": "code",
   "execution_count": null,
   "id": "b4536bb7-5970-4d8c-9a02-e8e134053778",
   "metadata": {},
   "outputs": [],
   "source": [
    "@patch\n",
    "def augmentation_output(\n",
    "    self:XCLearner,\n",
    "    model:nn.Module,\n",
    "    inputs:Dict[str, Union[torch.Tensor, Any]],\n",
    "    **kwargs\n",
    "):\n",
    "    if self.aug_idxs is None: \n",
    "        raise ValueError('Augmentation index `aug_idx` is not initialized.')\n",
    "        \n",
    "    \"\"\"\n",
    "    Preparing augmentation input\n",
    "    \"\"\"\n",
    "    data_aug_prefix = self.args.data_aug_meta_name if self.args.data_aug_prefix is None else self.args.data_aug_prefix\n",
    "    rep = self.aug_idxs.get_items(inputs[f'{data_aug_prefix}2data_idx'])\n",
    "    \n",
    "    return {\n",
    "        f'{data_aug_prefix}2data_meta_repr': rep,\n",
    "    }\n",
    "    "
   ]
  },
  {
   "cell_type": "markdown",
   "id": "f5df2b60-c20b-4e7c-83fe-d583e55d781c",
   "metadata": {},
   "source": [
    "## Prediction"
   ]
  },
  {
   "cell_type": "code",
   "execution_count": null,
   "id": "2d622383-db42-403d-8b0c-e2d44f9bfad0",
   "metadata": {},
   "outputs": [],
   "source": [
    "#| export\n",
    "args = XCLearningArguments(\n",
    "    output_dir='/home/scai/phd/aiz218323/scratch/outputs/72-radga-dr-ep-for-wikiseealso-1-0',\n",
    "    logging_first_step=True,\n",
    "    per_device_train_batch_size=800,\n",
    "    per_device_eval_batch_size=800,\n",
    "    representation_num_beams=200,\n",
    "    representation_accumulation_steps=10,\n",
    "    save_strategy=\"steps\",\n",
    "    evaluation_strategy=\"steps\",\n",
    "    eval_steps=5000,\n",
    "    save_steps=5000,\n",
    "    save_total_limit=5,\n",
    "    num_train_epochs=300,\n",
    "    predict_with_representation=True,\n",
    "    adam_epsilon=1e-6,\n",
    "    warmup_steps=100,\n",
    "    weight_decay=0.01,\n",
    "    learning_rate=2e-4,\n",
    "    generation_num_beams=10,\n",
    "    generation_length_penalty=1.5,\n",
    "    predict_with_generation=True,\n",
    "    representation_search_type='BRUTEFORCE',\n",
    "    \n",
    "    output_representation_attribute='data_fused_repr',\n",
    "    label_representation_attribute='data_repr',\n",
    "    metadata_representation_attribute='data_repr',\n",
    "    data_augmentation_attribute='data_repr',\n",
    "    representation_attribute='data_repr',\n",
    "    clustering_representation_attribute='data_fused_repr',\n",
    "    \n",
    "    group_by_cluster=True,\n",
    "    num_clustering_warmup_epochs=10,\n",
    "    num_cluster_update_epochs=5,\n",
    "    num_cluster_size_update_epochs=25,\n",
    "    use_data_metadata_for_clustering=True,\n",
    "    clustering_type='EXPO',\n",
    "    minimum_cluster_size=2,\n",
    "    maximum_cluster_size=1600,\n",
    "\n",
    "    metric_for_best_model='P@1',\n",
    "    load_best_model_at_end=True,\n",
    "    target_indices_key='plbl2data_idx',\n",
    "    target_pointer_key='plbl2data_data2ptr',\n",
    "    \n",
    "    use_distributional_representation=False,\n",
    "    use_encoder_parallel=True,\n",
    "    max_grad_norm=None, \n",
    "    fp16=True,\n",
    "    \n",
    "    label_names=['cat2data_idx', 'cat2data_input_ids', 'cat2data_attention_mask'],\n",
    "\n",
    "    prune_metadata=False,\n",
    "    num_metadata_prune_warmup_epochs=10,\n",
    "    num_metadata_prune_epochs=5,\n",
    "    metadata_prune_batch_size=2048,\n",
    "    prune_metadata_names=['cat_meta'],\n",
    "    use_data_metadata_for_pruning=True,\n",
    "\n",
    "    predict_with_augmentation=True,\n",
    "    use_augmentation_index_representation=False,\n",
    "    \n",
    "    data_aug_meta_name='cat',\n",
    "    augmentation_num_beams=3,\n",
    "    data_aug_prefix='cat',\n",
    "    use_label_metadata=False,\n",
    "    \n",
    "    data_meta_batch_size=2048,\n",
    "    augment_metadata=False,\n",
    "    num_metadata_augment_warmup_epochs=10,\n",
    "    num_metadata_augment_epochs=5,\n",
    ")"
   ]
  },
  {
   "cell_type": "code",
   "execution_count": null,
   "id": "4865c84b-0d78-47ea-ac8a-ed10a324e7a5",
   "metadata": {},
   "outputs": [],
   "source": [
    "#| export\n",
    "metric = PrecRecl(block.n_lbl, block.test.data_lbl_filterer, prop=block.train.dset.data.data_lbl,\n",
    "                  pk=10, rk=200, rep_pk=[1, 3, 5, 10], rep_rk=[10, 100, 200])"
   ]
  },
  {
   "cell_type": "code",
   "execution_count": null,
   "id": "a085fc18-72c6-4a5b-b2a1-74fa6ee0f897",
   "metadata": {},
   "outputs": [],
   "source": [
    "#| export\n",
    "output_dir = f\"/home/scai/phd/aiz218323/scratch/outputs/{os.path.basename(args.output_dir)}\"\n",
    "mname = f'{output_dir}/{os.path.basename(get_best_model(output_dir))}'"
   ]
  },
  {
   "cell_type": "code",
   "execution_count": null,
   "id": "69926870-0db1-4bc8-9117-a9b16983144d",
   "metadata": {},
   "outputs": [
    {
     "name": "stderr",
     "output_type": "stream",
     "text": [
      "Some weights of RAD002 were not initialized from the model checkpoint at /home/scai/phd/aiz218323/scratch/outputs/72-radga-dr-ep-for-wikiseealso-1-0/checkpoint-20 and are newly initialized: ['encoder.dr_fused_head.layer_norm.bias', 'encoder.dr_fused_head.layer_norm.weight', 'encoder.dr_fused_head.projector.bias', 'encoder.dr_fused_head.projector.weight', 'encoder.dr_fused_head.transform.bias', 'encoder.dr_fused_head.transform.weight']\n",
      "You should probably TRAIN this model on a down-stream task to be able to use it for predictions and inference.\n"
     ]
    }
   ],
   "source": [
    "#| export\n",
    "bsz = max(args.per_device_train_batch_size, args.per_device_eval_batch_size)*torch.cuda.device_count()\n",
    "\n",
    "model = RAD002.from_pretrained(mname, num_batch_labels=5000, batch_size=bsz,\n",
    "                               margin=0.3, num_negatives=10, tau=0.1, apply_softmax=True,\n",
    "                               \n",
    "                               data_aug_meta_prefix='cat2data', lbl2data_aug_meta_prefix=None, \n",
    "                               data_pred_meta_prefix=None, lbl2data_pred_meta_prefix=None,\n",
    "                               \n",
    "                               resize_length=5000, use_noise=False, noise_percent=0.5,\n",
    "                               \n",
    "                               meta_loss_weight=0.3, fusion_loss_weight=0.1, use_fusion_loss=False,  \n",
    "                               \n",
    "                               use_encoder_parallel=True)"
   ]
  },
  {
   "cell_type": "code",
   "execution_count": null,
   "id": "7f4f1045-de24-4be9-890b-defb99f40133",
   "metadata": {},
   "outputs": [],
   "source": []
  },
  {
   "cell_type": "code",
   "execution_count": null,
   "id": "7e5329ca-97c0-4560-b097-cf0d5d11cf92",
   "metadata": {},
   "outputs": [
    {
     "name": "stderr",
     "output_type": "stream",
     "text": [
      "/scratch/scai/phd/aiz218323/anaconda3/envs/xc_nlg/lib/python3.9/site-packages/accelerate/accelerator.py:432: FutureWarning: Passing the following arguments to `Accelerator` is deprecated and will be removed in version 1.0 of Accelerate: dict_keys(['dispatch_batches', 'split_batches', 'even_batches', 'use_seedable_sampler']). Please pass an `accelerate.DataLoaderConfiguration` instead: \n",
      "dataloader_config = DataLoaderConfiguration(dispatch_batches=None, split_batches=False, even_batches=True, use_seedable_sampler=True)\n",
      "  warnings.warn(\n",
      "Detected kernel version 3.10.0, which is below the recommended minimum of 5.5.0; this can cause the process to hang. It is recommended to upgrade the kernel to the minimum version or higher.\n"
     ]
    }
   ],
   "source": [
    "#| export\n",
    "learn = XCLearner(\n",
    "    model=model, \n",
    "    args=args,\n",
    "    train_dataset=block.train.dset,\n",
    "    eval_dataset=block.test.dset,\n",
    "    data_collator=block.collator,\n",
    "    compute_metrics=metric,\n",
    ")"
   ]
  },
  {
   "cell_type": "code",
   "execution_count": null,
   "id": "9997aa01-05bc-42be-8048-73c3ac548ef7",
   "metadata": {},
   "outputs": [],
   "source": []
  },
  {
   "cell_type": "code",
   "execution_count": null,
   "id": "29f7a9ff-7cdc-4c85-9114-1c93b4dcd06e",
   "metadata": {},
   "outputs": [
    {
     "data": {
      "application/vnd.jupyter.widget-view+json": {
       "model_id": "65b1e77776024053a842d9bc2b77262c",
       "version_major": 2,
       "version_minor": 0
      },
      "text/plain": [
       "  0%|          | 0/196 [00:00<?, ?it/s]"
      ]
     },
     "metadata": {},
     "output_type": "display_data"
    },
    {
     "data": {
      "application/vnd.jupyter.widget-view+json": {
       "model_id": "af1ec3e5568444eaaf9a2f702b5c5eae",
       "version_major": 2,
       "version_minor": 0
      },
      "text/plain": [
       "  0%|          | 0/411 [00:00<?, ?it/s]"
      ]
     },
     "metadata": {},
     "output_type": "display_data"
    },
    {
     "name": "stderr",
     "output_type": "stream",
     "text": [
      "/scratch/scai/phd/aiz218323/Projects/xcai/xcai/losses.py:22: UserWarning: Sparse CSR tensor support is in beta state. If you miss a functionality in the sparse tensor support, please submit a feature request to https://github.com/pytorch/pytorch/issues. (Triggered internally at ../aten/src/ATen/SparseCsrTensorImpl.cpp:53.)\n",
      "  return torch.sparse_csr_tensor(data_ptr, data_idx, scores, device=data_ptr.device)\n"
     ]
    },
    {
     "data": {
      "text/html": [],
      "text/plain": [
       "<IPython.core.display.HTML object>"
      ]
     },
     "metadata": {},
     "output_type": "display_data"
    },
    {
     "name": "stderr",
     "output_type": "stream",
     "text": [
      "/scratch/scai/phd/aiz218323/anaconda3/envs/xc_nlg/lib/python3.9/site-packages/scipy/sparse/_index.py:145: SparseEfficiencyWarning: Changing the sparsity structure of a csr_matrix is expensive. lil_matrix is more efficient.\n",
      "  self._set_arrayXarray(i, j, x)\n"
     ]
    },
    {
     "name": "stdout",
     "output_type": "stream",
     "text": [
      "{'test_loss': 0.03902879357337952, 'test_P@1': 1.6899980283356335e-05, 'test_P@10': 1.126665352223756e-05, 'test_P@3': 1.1266653522237557e-05, 'test_P@5': 7.88665746556629e-06, 'test_N@1': 1.6899979527806863e-05, 'test_N@10': 2.7909240088774823e-05, 'test_N@3': 1.6435647921753116e-05, 'test_N@5': 1.5355926734628156e-05, 'test_PSP@1': 1.2167058785972205e-05, 'test_PSP@10': 3.336352037262817e-05, 'test_PSP@3': 1.4832848831197245e-05, 'test_PSP@5': 1.3942623317441168e-05, 'test_PSN@1': 1.2167058230261318e-05, 'test_PSN@10': 1.92723728105193e-05, 'test_PSN@3': 1.2745624189847149e-05, 'test_PSN@5': 1.1565142813196871e-05, 'test_R@200': 0.0008486172194166132, 'test_R@10': 4.87819272147357e-05, 'test_R@100': 0.00045826033674922886, 'test_runtime': 323.1363, 'test_samples_per_second': 549.35, 'test_steps_per_second': 0.344}\n"
     ]
    }
   ],
   "source": [
    "#| export\n",
    "o = learn.predict(block.test.dset)\n",
    "print(o.metrics)"
   ]
  },
  {
   "cell_type": "code",
   "execution_count": null,
   "id": "19ac35c3-c5ee-42a8-ad6b-02663f24180b",
   "metadata": {},
   "outputs": [
    {
     "data": {
      "text/html": [
       "<div>\n",
       "<style scoped>\n",
       "    .dataframe tbody tr th:only-of-type {\n",
       "        vertical-align: middle;\n",
       "    }\n",
       "\n",
       "    .dataframe tbody tr th {\n",
       "        vertical-align: top;\n",
       "    }\n",
       "\n",
       "    .dataframe thead th {\n",
       "        text-align: right;\n",
       "    }\n",
       "</style>\n",
       "<table border=\"1\" class=\"dataframe\">\n",
       "  <thead>\n",
       "    <tr style=\"text-align: right;\">\n",
       "      <th></th>\n",
       "      <th>P@1</th>\n",
       "      <th>P@3</th>\n",
       "      <th>P@5</th>\n",
       "      <th>P@10</th>\n",
       "      <th>N@1</th>\n",
       "      <th>N@3</th>\n",
       "      <th>N@5</th>\n",
       "      <th>N@10</th>\n",
       "      <th>PSP@1</th>\n",
       "      <th>PSP@3</th>\n",
       "      <th>PSP@5</th>\n",
       "      <th>PSP@10</th>\n",
       "      <th>PSN@1</th>\n",
       "      <th>PSN@3</th>\n",
       "      <th>PSN@5</th>\n",
       "      <th>PSN@10</th>\n",
       "      <th>R@10</th>\n",
       "      <th>R@100</th>\n",
       "      <th>R@200</th>\n",
       "      <th>loss</th>\n",
       "      <th>runtime</th>\n",
       "      <th>samples_per_second</th>\n",
       "      <th>steps_per_second</th>\n",
       "    </tr>\n",
       "  </thead>\n",
       "  <tbody>\n",
       "    <tr>\n",
       "      <th>0</th>\n",
       "      <td>0.0017</td>\n",
       "      <td>0.0011</td>\n",
       "      <td>0.0008</td>\n",
       "      <td>0.0011</td>\n",
       "      <td>0.0017</td>\n",
       "      <td>0.0016</td>\n",
       "      <td>0.0015</td>\n",
       "      <td>0.0028</td>\n",
       "      <td>0.0012</td>\n",
       "      <td>0.0015</td>\n",
       "      <td>0.0014</td>\n",
       "      <td>0.0033</td>\n",
       "      <td>0.0012</td>\n",
       "      <td>0.0013</td>\n",
       "      <td>0.0012</td>\n",
       "      <td>0.0019</td>\n",
       "      <td>0.0049</td>\n",
       "      <td>0.0458</td>\n",
       "      <td>0.0849</td>\n",
       "      <td>0.039</td>\n",
       "      <td>323.1363</td>\n",
       "      <td>549.35</td>\n",
       "      <td>0.344</td>\n",
       "    </tr>\n",
       "  </tbody>\n",
       "</table>\n",
       "</div>"
      ],
      "text/plain": [
       "      P@1     P@3     P@5    P@10     N@1     N@3     N@5    N@10   PSP@1  \\\n",
       "0  0.0017  0.0011  0.0008  0.0011  0.0017  0.0016  0.0015  0.0028  0.0012   \n",
       "\n",
       "    PSP@3   PSP@5  PSP@10   PSN@1   PSN@3   PSN@5  PSN@10    R@10   R@100  \\\n",
       "0  0.0015  0.0014  0.0033  0.0012  0.0013  0.0012  0.0019  0.0049  0.0458   \n",
       "\n",
       "    R@200   loss   runtime  samples_per_second  steps_per_second  \n",
       "0  0.0849  0.039  323.1363              549.35             0.344  "
      ]
     },
     "metadata": {},
     "output_type": "display_data"
    }
   ],
   "source": [
    "display_metric(o.metrics)"
   ]
  },
  {
   "cell_type": "markdown",
   "id": "19ac9e10-6e85-4a4a-b62f-cd9d3771c586",
   "metadata": {},
   "source": [
    "## Super metadata"
   ]
  },
  {
   "cell_type": "code",
   "execution_count": null,
   "id": "98a1ce58-6a85-4dcf-9423-9761766d60a9",
   "metadata": {},
   "outputs": [
    {
     "data": {
      "application/vnd.jupyter.widget-view+json": {
       "model_id": "a3dfb04a7dcf43fd8b0d9a63dcc2d5f6",
       "version_major": 2,
       "version_minor": 0
      },
      "text/plain": [
       "  0%|          | 0/411 [00:00<?, ?it/s]"
      ]
     },
     "metadata": {},
     "output_type": "display_data"
    }
   ],
   "source": [
    "dset = MainXCDataset(getattr(block.train.dset.meta['cat_meta'], 'meta_info'))\n",
    "dataloader = learn.get_test_dataloader(dset)\n",
    "rep = learn.get_meta_representation(dataloader)"
   ]
  },
  {
   "cell_type": "code",
   "execution_count": null,
   "id": "9b94e893-0fd3-4a76-ae86-a576a88cdcf3",
   "metadata": {},
   "outputs": [],
   "source": [
    "n_clusters = 64\n",
    "cluster_size = math.ceil(rep.shape[0]/n_clusters)"
   ]
  },
  {
   "cell_type": "code",
   "execution_count": null,
   "id": "b23aa3c9-ac1f-4675-b088-405e96f3fd38",
   "metadata": {},
   "outputs": [
    {
     "name": "stdout",
     "output_type": "stream",
     "text": [
      "Updating clusters with size 10252\n",
      "Tree depth = 6\n",
      "doing random split\n",
      "lengths: [328043, 328043]\n",
      "remaining levels for GPU split=5\n",
      "==> gpu splitting random clusters 0 to 2\n",
      " rank=1 => Total clusters 2\tAvg. Cluster size                 164021.50\tTime to split nodes on this level 1.22 sec\n",
      " rank=0 => Total clusters 2\tAvg. Cluster size                 164021.50\tTime to split nodes on this level 2.07 sec\n",
      "  rank=1 => Total clusters 4\tAvg. Cluster size                 82010.75\tTime to split nodes on this level 0.02 secrank=0 => Total clusters 4\tAvg. Cluster size                 82010.75\tTime to split nodes on this level 0.02 sec\n",
      "\n",
      "  rank=1 => Total clusters 8\tAvg. Cluster size                 41005.38\tTime to split nodes on this level 0.02 sec\n",
      "rank=0 => Total clusters 8\tAvg. Cluster size                 41005.38\tTime to split nodes on this level 0.02 sec\n",
      "  rank=1 => Total clusters 16\tAvg. Cluster size                 20502.69\tTime to split nodes on this level 0.02 secrank=0 => Total clusters 16\tAvg. Cluster size                 20502.69\tTime to split nodes on this level 0.02 sec\n",
      "\n",
      " rank=1 => Total clusters 32\tAvg. Cluster size                 10251.34\tTime to split nodes on this level 0.03 sec \n",
      "rank=0 => Total clusters 32\tAvg. Cluster size                 10251.34\tTime to split nodes on this level 0.03 sec\n",
      "\n"
     ]
    }
   ],
   "source": [
    "clusters = BalancedClusters.proc(rep, cluster_size)"
   ]
  },
  {
   "cell_type": "code",
   "execution_count": null,
   "id": "11ea8df5-f7ca-4e6e-8675-b58ff160bb5c",
   "metadata": {},
   "outputs": [],
   "source": [
    "def get_super_clusters(data_meta:sparse.csr_matrix):\n",
    "    super_data_meta = []\n",
    "    for o in clusters:\n",
    "        x = data_meta[:, o].getnnz(axis=1)\n",
    "        super_data_meta.append(x)\n",
    "    \n",
    "    super_data_meta = sparse.csr_matrix(np.vstack(super_data_meta).T)\n",
    "    return super_data_meta\n",
    "    "
   ]
  },
  {
   "cell_type": "code",
   "execution_count": null,
   "id": "017be3d7-5ae2-4a4b-ba85-7fa921566b24",
   "metadata": {},
   "outputs": [],
   "source": [
    "super_cluster_idx = [o[len(o)//2] for o in clusters]\n",
    "\n",
    "super_data_meta = get_super_clusters(block.test.dset.meta.lnk_meta.data_meta)\n",
    "super_lbl_meta = get_super_clusters(block.test.dset.meta.lnk_meta.lbl_meta)\n",
    "\n",
    "super_meta_info = {k: [v[idx] for idx in super_cluster_idx] for k,v in block.train.dset.meta.lnk_meta.meta_info.items()}"
   ]
  },
  {
   "cell_type": "code",
   "execution_count": null,
   "id": "d3416a8b-3dee-4a9b-ad83-e9bb2cdb422d",
   "metadata": {},
   "outputs": [],
   "source": [
    "super_meta_info['meta_repr'] = rep[super_cluster_idx].tolist()"
   ]
  },
  {
   "cell_type": "code",
   "execution_count": null,
   "id": "71260845-ce01-4070-9ceb-bbfd12997bd7",
   "metadata": {},
   "outputs": [
    {
     "data": {
      "text/plain": [
       "torch.Size([64, 768])"
      ]
     },
     "execution_count": null,
     "metadata": {},
     "output_type": "execute_result"
    }
   ],
   "source": [
    "super_meta_info['meta_repr'] = torch.cat([rep[o].mean(dim=0, keepdims=True) for o in clusters])"
   ]
  },
  {
   "cell_type": "code",
   "execution_count": null,
   "id": "4b91ad52-87e6-4e8f-8c72-2acbe04ab871",
   "metadata": {},
   "outputs": [],
   "source": [
    "block.test.dset.meta['sup_meta'] = MetaXCDataset('sup', super_data_meta, super_lbl_meta, super_meta_info)"
   ]
  },
  {
   "cell_type": "markdown",
   "id": "9b0e8bdc-f2ec-471c-bcb8-0516dd47fa9f",
   "metadata": {},
   "source": [
    "## Meta-clustering based thresholding"
   ]
  },
  {
   "cell_type": "code",
   "execution_count": null,
   "id": "9fb11dfb-3b99-4a1a-b872-a7d07a88cd76",
   "metadata": {},
   "outputs": [],
   "source": [
    "from xclib.utils.sparse import retain_topk\n",
    "from tqdm.auto import tqdm\n",
    "import numpy as np"
   ]
  },
  {
   "cell_type": "code",
   "execution_count": null,
   "id": "746a7eb6-ae66-450b-b468-14797a3e1d0e",
   "metadata": {},
   "outputs": [
    {
     "data": {
      "application/vnd.jupyter.widget-view+json": {
       "model_id": "044eef72350d4580af87ff1a26318bff",
       "version_major": 2,
       "version_minor": 0
      },
      "text/plain": [
       "  0%|          | 0/411 [00:00<?, ?it/s]"
      ]
     },
     "metadata": {},
     "output_type": "display_data"
    }
   ],
   "source": [
    "dset = MainXCDataset(getattr(block.train.dset.meta['cat_meta'], 'meta_info'))\n",
    "dataloader = learn.get_test_dataloader(dset)\n",
    "rep = learn.get_meta_representation(dataloader)"
   ]
  },
  {
   "cell_type": "code",
   "execution_count": null,
   "id": "a2c5fe20-f357-40b2-b94f-391daceb581b",
   "metadata": {},
   "outputs": [],
   "source": [
    "n_clusters = 64\n",
    "cluster_size = math.ceil(rep.shape[0]/n_clusters)"
   ]
  },
  {
   "cell_type": "code",
   "execution_count": null,
   "id": "23ff315e-273d-4a98-b2e9-e13c7e54be7f",
   "metadata": {},
   "outputs": [
    {
     "name": "stdout",
     "output_type": "stream",
     "text": [
      "Updating clusters with size 10252\n",
      "Tree depth = 6\n",
      "doing random split\n",
      "lengths: [328043, 328043]\n",
      "remaining levels for GPU split=5\n",
      "==> gpu splitting random clusters 0 to 2\n",
      " rank=0 => Total clusters 2\tAvg. Cluster size                 164021.50\tTime to split nodes on this level 0.26 sec\n",
      " rank=0 => Total clusters 4\tAvg. Cluster size                 82010.75\tTime to split nodes on this level 0.02 sec\n",
      " rank=0 => Total clusters 8\tAvg. Cluster size                 41005.38\tTime to split nodes on this level 0.02 sec\n",
      " rank=0 => Total clusters 16\tAvg. Cluster size                 20502.69\tTime to split nodes on this level 0.02 sec\n",
      " rank=0 => Total clusters 32\tAvg. Cluster size                 10251.34\tTime to split nodes on this level 0.03 sec\n",
      " rank=1 => Total clusters 2\tAvg. Cluster size                 164021.50\tTime to split nodes on this level 0.27 sec\n",
      " rank=1 => Total clusters 4\tAvg. Cluster size                 82010.75\tTime to split nodes on this level 0.02 sec\n",
      " rank=1 => Total clusters 8\tAvg. Cluster size                 41005.38\tTime to split nodes on this level 0.02 sec\n",
      " rank=1 => Total clusters 16\tAvg. Cluster size                 20502.69\tTime to split nodes on this level 0.02 sec\n",
      " rank=1 => Total clusters 32\tAvg. Cluster size                 10251.34\tTime to split nodes on this level 0.03 sec\n",
      "\n"
     ]
    }
   ],
   "source": [
    "clusters = BalancedClusters.proc(rep, cluster_size)"
   ]
  },
  {
   "cell_type": "code",
   "execution_count": null,
   "id": "efcafcfc-1951-4124-871d-53a281d7770c",
   "metadata": {},
   "outputs": [],
   "source": [
    "def threshold(data_meta:sparse.csr_matrix, k):\n",
    "    thresholded_data_meta = []\n",
    "    for o in tqdm(clusters, total=len(clusters)):\n",
    "        x = retain_topk(data_meta[:, o], k=k)\n",
    "        thresholded_data_meta.append(x)\n",
    "        \n",
    "    return sparse.hstack(thresholded_data_meta)\n",
    "    "
   ]
  },
  {
   "cell_type": "code",
   "execution_count": null,
   "id": "b156ff99-a1a2-436e-a9b3-5d020a13413b",
   "metadata": {},
   "outputs": [
    {
     "data": {
      "application/vnd.jupyter.widget-view+json": {
       "model_id": "ff1bbc317c5d46cb8d9bf857d19127a2",
       "version_major": 2,
       "version_minor": 0
      },
      "text/plain": [
       "  0%|          | 0/64 [00:00<?, ?it/s]"
      ]
     },
     "metadata": {},
     "output_type": "display_data"
    }
   ],
   "source": [
    "thresholded_data_meta = threshold(block.test.dset.meta.lnk_meta.data_meta, k=1)"
   ]
  },
  {
   "cell_type": "code",
   "execution_count": null,
   "id": "3ec687c2-c986-4c96-813f-713da56e770e",
   "metadata": {},
   "outputs": [
    {
     "data": {
      "application/vnd.jupyter.widget-view+json": {
       "model_id": "d463a486c270450f839caad5ebe7cee4",
       "version_major": 2,
       "version_minor": 0
      },
      "text/plain": [
       "  0%|          | 0/64 [00:00<?, ?it/s]"
      ]
     },
     "metadata": {},
     "output_type": "display_data"
    },
    {
     "data": {
      "application/vnd.jupyter.widget-view+json": {
       "model_id": "0688199210d54cf1a4dc7c39bf01f6c0",
       "version_major": 2,
       "version_minor": 0
      },
      "text/plain": [
       "  0%|          | 0/64 [00:00<?, ?it/s]"
      ]
     },
     "metadata": {},
     "output_type": "display_data"
    }
   ],
   "source": [
    "cluster_idx = np.hstack(clusters)\n",
    "\n",
    "thresholded_data_meta = threshold(block.test.dset.meta.lnk_meta.data_meta, k=1)\n",
    "thresholded_lbl_meta = threshold(block.test.dset.meta.lnk_meta.lbl_meta, k=1)\n",
    "\n",
    "threholded_meta_info = {k: [v[idx] for idx in cluster_idx] for k,v in block.train.dset.meta.lnk_meta.meta_info.items()}"
   ]
  },
  {
   "cell_type": "code",
   "execution_count": null,
   "id": "6d2d5b2e-e22f-44c5-bde5-cabc0fb264ba",
   "metadata": {},
   "outputs": [],
   "source": [
    "block.test.dset.meta['sup_meta'] = MetaXCDataset('sup', thresholded_data_meta, thresholded_lbl_meta, threholded_meta_info)"
   ]
  },
  {
   "cell_type": "code",
   "execution_count": null,
   "id": "9cc99ef9-1aa8-4312-a739-abfb9bffe2e4",
   "metadata": {},
   "outputs": [],
   "source": []
  },
  {
   "cell_type": "code",
   "execution_count": null,
   "id": "033541ca-629c-41f2-831e-0f4ce2a4dcfc",
   "metadata": {},
   "outputs": [],
   "source": []
  }
 ],
 "metadata": {
  "kernelspec": {
   "display_name": "python3",
   "language": "python",
   "name": "python3"
  }
 },
 "nbformat": 4,
 "nbformat_minor": 5
}
