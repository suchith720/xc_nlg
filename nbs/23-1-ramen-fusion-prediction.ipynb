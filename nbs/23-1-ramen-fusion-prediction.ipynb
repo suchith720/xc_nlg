{
 "cells": [
  {
   "cell_type": "markdown",
   "id": "6e3a0f4c-1cfb-4a14-b8f2-fdea31c390ec",
   "metadata": {},
   "source": [
    "# RAMEN-NLG prediction fusion "
   ]
  },
  {
   "cell_type": "code",
   "execution_count": 1,
   "id": "ddda97e8-16ac-42c7-9ad4-f981e21c0aa2",
   "metadata": {},
   "outputs": [],
   "source": [
    "#| default_exp 23-1-ramen-fusion-prediction-1-0"
   ]
  },
  {
   "cell_type": "code",
   "execution_count": 2,
   "id": "3f35d8be-1323-400a-b78e-d0a4d2697801",
   "metadata": {},
   "outputs": [],
   "source": [
    "%load_ext autoreload\n",
    "%autoreload 2\n",
    "\n",
    "from nbdev.showdoc import *\n",
    "import nbdev; nbdev.nbdev_export()"
   ]
  },
  {
   "cell_type": "code",
   "execution_count": 24,
   "id": "d685e35e-9a13-4186-b7f4-b831b10086bb",
   "metadata": {},
   "outputs": [],
   "source": [
    "#| export\n",
    "import os,torch, torch.multiprocessing as mp, pickle, numpy as np\n",
    "from scipy import sparse\n",
    "from xcai.basics import *\n",
    "from xcai.models.MMM0XX import DBT014"
   ]
  },
  {
   "cell_type": "code",
   "execution_count": 4,
   "id": "58018a49",
   "metadata": {},
   "outputs": [],
   "source": [
    "import xclib.evaluation.xc_metrics as xc_metrics"
   ]
  },
  {
   "cell_type": "code",
   "execution_count": 6,
   "id": "e0c924c6",
   "metadata": {},
   "outputs": [],
   "source": [
    "#| export\n",
    "os.environ['WANDB_MODE'] = 'disabled'"
   ]
  },
  {
   "cell_type": "code",
   "execution_count": 7,
   "id": "53768670-9905-46b0-9a6d-b6e91d50b918",
   "metadata": {},
   "outputs": [],
   "source": [
    "#| export\n",
    "os.environ['CUDA_VISIBLE_DEVICES'] = '2,3'\n",
    "os.environ['WANDB_PROJECT']='23-1-ramen-fusion-prediction-1-0'"
   ]
  },
  {
   "cell_type": "markdown",
   "id": "71067fbf",
   "metadata": {},
   "source": [
    "## Prediction"
   ]
  },
  {
   "cell_type": "code",
   "execution_count": 8,
   "id": "ba38fcb0-3ebf-4f79-aa20-1a1321b791c5",
   "metadata": {},
   "outputs": [
    {
     "name": "stderr",
     "output_type": "stream",
     "text": [
      "/opt/conda/envs/ptca/lib/python3.9/site-packages/scipy/sparse/_index.py:146: SparseEfficiencyWarning: Changing the sparsity structure of a csr_matrix is expensive. lil_matrix is more efficient.\n",
      "  self._set_arrayXarray(i, j, x)\n"
     ]
    }
   ],
   "source": [
    "#| export\n",
    "block = XCBlock.from_cfg('/home/aiscuser/scratch/datasets', 'data', valid_pct=0.001, tfm='xcnlg', \n",
    "                         tokenizer='distilbert-base-uncased', smp_features=[('lbl2data',1,2)])"
   ]
  },
  {
   "cell_type": "code",
   "execution_count": 13,
   "id": "73b6a059-3409-4c00-a575-dcdb5775adc9",
   "metadata": {},
   "outputs": [
    {
     "name": "stderr",
     "output_type": "stream",
     "text": [
      "huggingface/tokenizers: The current process just got forked, after parallelism has already been used. Disabling parallelism to avoid deadlocks...\n",
      "To disable this warning, you can either:\n",
      "\t- Avoid using `tokenizers` before the fork if possible\n",
      "\t- Explicitly set the environment variable TOKENIZERS_PARALLELISM=(true | false)\n"
     ]
    }
   ],
   "source": [
    "#| export\n",
    "args = XCLearningArguments(\n",
    "    output_dir='/home/aiscuser/scratch/Projects/xc_nlg/outputs/23-ramen-style-oak-training-pipeline-with-multitriplet-loss-with-clustering-2-6/',\n",
    "    logging_first_step=True,\n",
    "    per_device_train_batch_size=800,\n",
    "    per_device_eval_batch_size=800,\n",
    "    representation_num_beams=200,\n",
    "    representation_accumulation_steps=100,\n",
    "    predict_with_representation=True,\n",
    "    generation_num_beams=10,\n",
    "    generation_length_penalty=1.5,\n",
    "    predict_with_generation=True,\n",
    "    representation_search_type='BRUTEFORCE',\n",
    "    target_indices_key='plbl2data_idx',\n",
    "    target_pointer_key='plbl2data_data2ptr',\n",
    ")"
   ]
  },
  {
   "cell_type": "code",
   "execution_count": 14,
   "id": "0ed430a8",
   "metadata": {},
   "outputs": [],
   "source": [
    "mname = f'{args.output_dir}/{os.path.basename(get_best_model(args.output_dir))}'"
   ]
  },
  {
   "cell_type": "code",
   "execution_count": 11,
   "id": "dc93059e",
   "metadata": {},
   "outputs": [
    {
     "name": "stderr",
     "output_type": "stream",
     "text": [
      "Some weights of the model checkpoint at /home/aiscuser/scratch/Projects/xc_nlg/outputs/23-ramen-style-oak-training-pipeline-with-multitriplet-loss-with-clustering-2-6//checkpoint-124000 were not used when initializing DBT014: ['gen_lfn.o', 'rep_lfn.u', 'rep_lfn.v']\n",
      "- This IS expected if you are initializing DBT014 from the checkpoint of a model trained on another task or with another architecture (e.g. initializing a BertForSequenceClassification model from a BertForPreTraining model).\n",
      "- This IS NOT expected if you are initializing DBT014 from the checkpoint of a model that you expect to be exactly identical (initializing a BertForSequenceClassification model from a BertForSequenceClassification model).\n"
     ]
    }
   ],
   "source": [
    "#| export\n",
    "mname = f'{args.output_dir}/{os.path.basename(get_best_model(args.output_dir))}'\n",
    "bsz = max(args.per_device_train_batch_size, args.per_device_eval_batch_size)*torch.cuda.device_count()\n",
    "\n",
    "model = DBT014.from_pretrained(mname, ig_tok=0, bsz=bsz, tn_targ=1000, margin=0.3, tau=0.1,\n",
    "                               n_negatives=5, apply_softmax=True, lw=0.01, m_lw=0.1, meta_prefix='hlk')"
   ]
  },
  {
   "cell_type": "code",
   "execution_count": 16,
   "id": "b3079e54",
   "metadata": {},
   "outputs": [],
   "source": [
    "#| export\n",
    "trie = XCTrie.from_block(block)"
   ]
  },
  {
   "cell_type": "code",
   "execution_count": null,
   "id": "7732fa5e",
   "metadata": {},
   "outputs": [],
   "source": []
  },
  {
   "cell_type": "code",
   "execution_count": 24,
   "id": "2f8a40f8",
   "metadata": {},
   "outputs": [
    {
     "name": "stderr",
     "output_type": "stream",
     "text": [
      "huggingface/tokenizers: The current process just got forked, after parallelism has already been used. Disabling parallelism to avoid deadlocks...\n",
      "To disable this warning, you can either:\n",
      "\t- Avoid using `tokenizers` before the fork if possible\n",
      "\t- Explicitly set the environment variable TOKENIZERS_PARALLELISM=(true | false)\n",
      "huggingface/tokenizers: The current process just got forked, after parallelism has already been used. Disabling parallelism to avoid deadlocks...\n",
      "To disable this warning, you can either:\n",
      "\t- Avoid using `tokenizers` before the fork if possible\n",
      "\t- Explicitly set the environment variable TOKENIZERS_PARALLELISM=(true | false)\n",
      "huggingface/tokenizers: The current process just got forked, after parallelism has already been used. Disabling parallelism to avoid deadlocks...\n",
      "To disable this warning, you can either:\n",
      "\t- Avoid using `tokenizers` before the fork if possible\n",
      "\t- Explicitly set the environment variable TOKENIZERS_PARALLELISM=(true | false)\n"
     ]
    }
   ],
   "source": [
    "#| export\n",
    "train_dset = block.train.dset.sample(n=50_000, seed=50)\n",
    "metric = PrecRecl(block.n_lbl, train_dset.data.data_lbl_filterer, prop=block.train.dset.data.data_lbl,\n",
    "                  pk=10, rk=200, rep_pk=[1, 3, 5, 10], rep_rk=[10, 100, 200])\n",
    "\n",
    "learn = XCLearner(model=model, args=args, trie=trie, train_dataset=block.train.dset, eval_dataset=train_dset,\n",
    "                  data_collator=block.collator, compute_metrics=metric)\n",
    "\n",
    "#| export\n",
    "if __name__ == '__main__':\n",
    "    mp.freeze_support()\n",
    "    train_pred = learn.predict(train_dset)\n",
    "    \n",
    "display_metric(train_pred.metrics)"
   ]
  },
  {
   "cell_type": "code",
   "execution_count": 59,
   "id": "4bf86111",
   "metadata": {},
   "outputs": [],
   "source": [
    "#| export\n",
    "pred_dir = f'{mname}/predictions/'\n",
    "os.makedirs(pred_dir, exist_ok=True)\n",
    "with open(f'{pred_dir}/train_predictions.pkl', 'wb') as file: pickle.dump(train_pred, file)"
   ]
  },
  {
   "cell_type": "code",
   "execution_count": null,
   "id": "65332748",
   "metadata": {},
   "outputs": [],
   "source": []
  },
  {
   "cell_type": "code",
   "execution_count": 43,
   "id": "4fdfca1e",
   "metadata": {},
   "outputs": [],
   "source": [
    "#| export\n",
    "test_dset = block.test.dset.sample(n=2000, seed=50)\n",
    "metric = PrecRecl(block.n_lbl, block.test.data_lbl_filterer, prop=block.train.dset.data.data_lbl,\n",
    "                  pk=10, rk=200, rep_pk=[1, 3, 5, 10], rep_rk=[10, 100, 200])\n",
    "\n",
    "learn = XCLearner(model=model, args=args, trie=trie, train_dataset=block.train.dset, eval_dataset=test_dset,\n",
    "                  data_collator=block.collator, compute_metrics=metric)\n",
    "\n",
    "if __name__ == '__main__':\n",
    "    mp.freeze_support()\n",
    "    test_pred = learn.predict(block.test.dset)\n",
    "    \n",
    "display_metric(test_pred.metrics)"
   ]
  },
  {
   "cell_type": "code",
   "execution_count": null,
   "id": "7a58dde6",
   "metadata": {},
   "outputs": [],
   "source": [
    "#| export\n",
    "pred_dir = f'{mname}/predictions/'\n",
    "os.makedirs(pred_dir, exist_ok=True)\n",
    "with open(f'{pred_dir}/test_predictions.pkl', 'wb') as file: pickle.dump(test_pred, file)"
   ]
  },
  {
   "cell_type": "code",
   "execution_count": null,
   "id": "198454b9",
   "metadata": {},
   "outputs": [],
   "source": []
  },
  {
   "cell_type": "markdown",
   "id": "17930f75",
   "metadata": {},
   "source": [
    "## Fusion"
   ]
  },
  {
   "cell_type": "code",
   "execution_count": 19,
   "id": "9675a665",
   "metadata": {},
   "outputs": [],
   "source": [
    "def get_output_sparse(pred_idx, pred_ptr, pred_score, targ_idx, targ_ptr, n_lbl):\n",
    "    n_data = pred_ptr.shape[0]\n",
    "    \n",
    "    pred_ptr = torch.cat([torch.zeros((1,), dtype=torch.long), pred_ptr.cumsum(dim=0)])\n",
    "    \n",
    "    targ_ptr = torch.cat([torch.zeros((1,), dtype=torch.long), targ_ptr.cumsum(dim=0)])\n",
    "    targ_score = torch.ones((targ_idx.shape[0],), dtype=torch.long)\n",
    "    \n",
    "    pred = sparse.csr_matrix((pred_score,pred_idx,pred_ptr), shape=(n_data, n_lbl))\n",
    "    targ = sparse.csr_matrix((targ_score,targ_idx,targ_ptr), shape=(n_data, n_lbl))\n",
    "    return pred, targ\n"
   ]
  },
  {
   "cell_type": "code",
   "execution_count": 20,
   "id": "897927d8",
   "metadata": {},
   "outputs": [],
   "source": [
    "pred_dir = f'{mname}/predictions/'\n",
    "\n",
    "with open(f'{pred_dir}/train_predictions.pkl', 'rb') as file: \n",
    "    train_pred = pickle.load(file)\n",
    "    \n",
    "with open(f'{pred_dir}/test_predictions.pkl', 'rb') as file: \n",
    "    test_pred = pickle.load(file)"
   ]
  },
  {
   "cell_type": "code",
   "execution_count": 25,
   "id": "d613e484",
   "metadata": {},
   "outputs": [],
   "source": [
    "gen_pred,targ = get_output_sparse(**test_pred.gen_output, n_lbl=block.n_lbl)\n",
    "repr_pred,_ = get_output_sparse(**test_pred.repr_output, n_lbl=block.n_lbl)\n",
    "gen_pred.data = np.exp(gen_pred.data)"
   ]
  },
  {
   "cell_type": "code",
   "execution_count": 26,
   "id": "2a44df43",
   "metadata": {},
   "outputs": [],
   "source": [
    "train_gen_pred,train_targ = get_output_sparse(**train_pred.gen_output, n_lbl=block.n_lbl)\n",
    "train_repr_pred,_ = get_output_sparse(**train_pred.repr_output, n_lbl=block.n_lbl)\n",
    "train_gen_pred.data = np.exp(train_gen_pred.data)"
   ]
  },
  {
   "cell_type": "code",
   "execution_count": null,
   "id": "f8017d43",
   "metadata": {},
   "outputs": [],
   "source": []
  },
  {
   "cell_type": "code",
   "execution_count": 27,
   "id": "c751226b",
   "metadata": {},
   "outputs": [],
   "source": [
    "prop = xc_metrics.compute_inv_propesity(block.train.dset.data.data_lbl, A=0.5, B=0.4)\n",
    "fuser = ScoreFusion(prop)"
   ]
  },
  {
   "cell_type": "code",
   "execution_count": 28,
   "id": "5c03604b",
   "metadata": {},
   "outputs": [],
   "source": [
    "fuser.fit(train_gen_pred, train_repr_pred, train_targ)"
   ]
  },
  {
   "cell_type": "code",
   "execution_count": 39,
   "id": "77be2dad",
   "metadata": {},
   "outputs": [],
   "source": [
    "pred = fuser.predict(gen_pred, repr_pred, beta=0.1)"
   ]
  },
  {
   "cell_type": "code",
   "execution_count": 40,
   "id": "d1bccd70",
   "metadata": {},
   "outputs": [],
   "source": [
    "output = {\n",
    "    'targ_idx': test_pred.gen_output['targ_idx'],\n",
    "    'targ_ptr': test_pred.gen_output['targ_ptr'],\n",
    "    'pred_idx': torch.tensor(pred.indices),\n",
    "    'pred_ptr': torch.tensor([q-p for p,q in zip(pred.indptr, pred.indptr[1:])]),\n",
    "    'pred_score': torch.tensor(pred.data),\n",
    "}"
   ]
  },
  {
   "cell_type": "code",
   "execution_count": 41,
   "id": "a473617b",
   "metadata": {},
   "outputs": [
    {
     "name": "stderr",
     "output_type": "stream",
     "text": [
      "/opt/conda/envs/ptca/lib/python3.9/site-packages/scipy/sparse/_index.py:146: SparseEfficiencyWarning: Changing the sparsity structure of a csr_matrix is expensive. lil_matrix is more efficient.\n",
      "  self._set_arrayXarray(i, j, x)\n"
     ]
    },
    {
     "data": {
      "text/html": [
       "<div>\n",
       "<style scoped>\n",
       "    .dataframe tbody tr th:only-of-type {\n",
       "        vertical-align: middle;\n",
       "    }\n",
       "\n",
       "    .dataframe tbody tr th {\n",
       "        vertical-align: top;\n",
       "    }\n",
       "\n",
       "    .dataframe thead th {\n",
       "        text-align: right;\n",
       "    }\n",
       "</style>\n",
       "<table border=\"1\" class=\"dataframe\">\n",
       "  <thead>\n",
       "    <tr style=\"text-align: right;\">\n",
       "      <th></th>\n",
       "      <th>P@1</th>\n",
       "      <th>P@3</th>\n",
       "      <th>P@5</th>\n",
       "      <th>P@10</th>\n",
       "      <th>N@1</th>\n",
       "      <th>N@3</th>\n",
       "      <th>N@5</th>\n",
       "      <th>N@10</th>\n",
       "      <th>PSP@1</th>\n",
       "      <th>PSP@3</th>\n",
       "      <th>PSP@5</th>\n",
       "      <th>PSP@10</th>\n",
       "      <th>PSN@1</th>\n",
       "      <th>PSN@3</th>\n",
       "      <th>PSN@5</th>\n",
       "      <th>PSN@10</th>\n",
       "      <th>R@10</th>\n",
       "      <th>R@100</th>\n",
       "      <th>R@200</th>\n",
       "    </tr>\n",
       "  </thead>\n",
       "  <tbody>\n",
       "    <tr>\n",
       "      <th>0</th>\n",
       "      <td>32.1562</td>\n",
       "      <td>21.5244</td>\n",
       "      <td>16.2393</td>\n",
       "      <td>10.2679</td>\n",
       "      <td>32.1562</td>\n",
       "      <td>31.938</td>\n",
       "      <td>32.9399</td>\n",
       "      <td>34.8155</td>\n",
       "      <td>25.5299</td>\n",
       "      <td>27.8744</td>\n",
       "      <td>30.1075</td>\n",
       "      <td>34.573</td>\n",
       "      <td>25.5299</td>\n",
       "      <td>28.1301</td>\n",
       "      <td>29.8701</td>\n",
       "      <td>32.096</td>\n",
       "      <td>39.6081</td>\n",
       "      <td>54.3698</td>\n",
       "      <td>57.9056</td>\n",
       "    </tr>\n",
       "  </tbody>\n",
       "</table>\n",
       "</div>"
      ],
      "text/plain": [
       "       P@1      P@3      P@5     P@10      N@1     N@3      N@5     N@10  \\\n",
       "0  32.1562  21.5244  16.2393  10.2679  32.1562  31.938  32.9399  34.8155   \n",
       "\n",
       "     PSP@1    PSP@3    PSP@5  PSP@10    PSN@1    PSN@3    PSN@5  PSN@10  \\\n",
       "0  25.5299  27.8744  30.1075  34.573  25.5299  28.1301  29.8701  32.096   \n",
       "\n",
       "      R@10    R@100    R@200  \n",
       "0  39.6081  54.3698  57.9056  "
      ]
     },
     "metadata": {},
     "output_type": "display_data"
    }
   ],
   "source": [
    "metric = PrecRecl(block.n_lbl, block.test.data_lbl_filterer, prop=block.train.dset.data.data_lbl,\n",
    "                  pk=10, rk=200, rep_pk=[1, 3, 5, 10], rep_rk=[10, 100, 200])\n",
    "m = metric(**output)\n",
    "display_metric(m, remove_prefix=False)"
   ]
  },
  {
   "cell_type": "code",
   "execution_count": null,
   "id": "47bf39af",
   "metadata": {},
   "outputs": [],
   "source": []
  },
  {
   "cell_type": "code",
   "execution_count": 35,
   "id": "5f474769",
   "metadata": {},
   "outputs": [
    {
     "name": "stderr",
     "output_type": "stream",
     "text": [
      "/opt/conda/envs/ptca/lib/python3.9/site-packages/scipy/sparse/_index.py:146: SparseEfficiencyWarning: Changing the sparsity structure of a csr_matrix is expensive. lil_matrix is more efficient.\n",
      "  self._set_arrayXarray(i, j, x)\n"
     ]
    },
    {
     "data": {
      "text/html": [
       "<div>\n",
       "<style scoped>\n",
       "    .dataframe tbody tr th:only-of-type {\n",
       "        vertical-align: middle;\n",
       "    }\n",
       "\n",
       "    .dataframe tbody tr th {\n",
       "        vertical-align: top;\n",
       "    }\n",
       "\n",
       "    .dataframe thead th {\n",
       "        text-align: right;\n",
       "    }\n",
       "</style>\n",
       "<table border=\"1\" class=\"dataframe\">\n",
       "  <thead>\n",
       "    <tr style=\"text-align: right;\">\n",
       "      <th></th>\n",
       "      <th>P@1</th>\n",
       "      <th>P@3</th>\n",
       "      <th>P@5</th>\n",
       "      <th>P@10</th>\n",
       "      <th>N@1</th>\n",
       "      <th>N@3</th>\n",
       "      <th>N@5</th>\n",
       "      <th>N@10</th>\n",
       "      <th>PSP@1</th>\n",
       "      <th>PSP@3</th>\n",
       "      <th>PSP@5</th>\n",
       "      <th>PSP@10</th>\n",
       "      <th>PSN@1</th>\n",
       "      <th>PSN@3</th>\n",
       "      <th>PSN@5</th>\n",
       "      <th>PSN@10</th>\n",
       "      <th>R@10</th>\n",
       "      <th>R@100</th>\n",
       "      <th>R@200</th>\n",
       "    </tr>\n",
       "  </thead>\n",
       "  <tbody>\n",
       "    <tr>\n",
       "      <th>0</th>\n",
       "      <td>31.5427</td>\n",
       "      <td>21.1346</td>\n",
       "      <td>16.0016</td>\n",
       "      <td>10.1471</td>\n",
       "      <td>31.5427</td>\n",
       "      <td>31.4279</td>\n",
       "      <td>32.4816</td>\n",
       "      <td>34.3752</td>\n",
       "      <td>26.0245</td>\n",
       "      <td>27.9952</td>\n",
       "      <td>30.1248</td>\n",
       "      <td>34.4638</td>\n",
       "      <td>26.0245</td>\n",
       "      <td>28.35</td>\n",
       "      <td>30.0287</td>\n",
       "      <td>32.2021</td>\n",
       "      <td>39.1777</td>\n",
       "      <td>54.2491</td>\n",
       "      <td>57.8725</td>\n",
       "    </tr>\n",
       "  </tbody>\n",
       "</table>\n",
       "</div>"
      ],
      "text/plain": [
       "       P@1      P@3      P@5     P@10      N@1      N@3      N@5     N@10  \\\n",
       "0  31.5427  21.1346  16.0016  10.1471  31.5427  31.4279  32.4816  34.3752   \n",
       "\n",
       "     PSP@1    PSP@3    PSP@5   PSP@10    PSN@1  PSN@3    PSN@5   PSN@10  \\\n",
       "0  26.0245  27.9952  30.1248  34.4638  26.0245  28.35  30.0287  32.2021   \n",
       "\n",
       "      R@10    R@100    R@200  \n",
       "0  39.1777  54.2491  57.8725  "
      ]
     },
     "metadata": {},
     "output_type": "display_data"
    }
   ],
   "source": [
    "metric = PrecRecl(block.n_lbl, block.test.data_lbl_filterer, prop=block.train.dset.data.data_lbl,\n",
    "                  pk=10, rk=200, rep_pk=[1, 3, 5, 10], rep_rk=[10, 100, 200])\n",
    "m = metric(**output)\n",
    "display_metric(m, remove_prefix=False)"
   ]
  },
  {
   "cell_type": "code",
   "execution_count": null,
   "id": "b616a32d",
   "metadata": {},
   "outputs": [],
   "source": []
  },
  {
   "cell_type": "code",
   "execution_count": null,
   "id": "ca224d46",
   "metadata": {},
   "outputs": [],
   "source": []
  },
  {
   "cell_type": "code",
   "execution_count": null,
   "id": "2d8d260e",
   "metadata": {},
   "outputs": [],
   "source": []
  },
  {
   "cell_type": "code",
   "execution_count": null,
   "id": "511a8a36",
   "metadata": {},
   "outputs": [],
   "source": []
  },
  {
   "cell_type": "code",
   "execution_count": null,
   "id": "9998a774",
   "metadata": {},
   "outputs": [],
   "source": []
  },
  {
   "cell_type": "code",
   "execution_count": null,
   "id": "abdcbc91",
   "metadata": {},
   "outputs": [],
   "source": []
  }
 ],
 "metadata": {
  "kernelspec": {
   "display_name": "Python 3 (ipykernel)",
   "language": "python",
   "name": "python3"
  },
  "language_info": {
   "codemirror_mode": {
    "name": "ipython",
    "version": 3
   },
   "file_extension": ".py",
   "mimetype": "text/x-python",
   "name": "python",
   "nbconvert_exporter": "python",
   "pygments_lexer": "ipython3",
   "version": "3.9.18"
  }
 },
 "nbformat": 4,
 "nbformat_minor": 5
}
