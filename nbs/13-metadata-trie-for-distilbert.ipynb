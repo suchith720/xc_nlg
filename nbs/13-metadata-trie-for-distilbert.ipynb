{
 "cells": [
  {
   "cell_type": "code",
   "execution_count": null,
   "id": "d6e18985-f27c-4001-99e6-fb2929f173d9",
   "metadata": {},
   "outputs": [],
   "source": [
    "#| default_exp 13-metadata-trie-for-distilbert"
   ]
  },
  {
   "cell_type": "code",
   "execution_count": null,
   "id": "4a6790b0-1931-4a3f-a15c-19e27863087c",
   "metadata": {},
   "outputs": [],
   "source": [
    "%load_ext autoreload\n",
    "%autoreload 2"
   ]
  },
  {
   "cell_type": "code",
   "execution_count": null,
   "id": "a78c0853-f45e-4445-8968-8396896eab85",
   "metadata": {},
   "outputs": [
    {
     "name": "stderr",
     "output_type": "stream",
     "text": [
      "comet_ml is installed but `COMET_API_KEY` is not set.\n"
     ]
    }
   ],
   "source": [
    "#| export\n",
    "import os, pandas as pd, warnings, torch, pickle, numpy as np\n",
    "from tqdm.auto import tqdm\n",
    "from scipy import stats\n",
    "\n",
    "import xclib.utils.sparse as xs\n",
    "\n",
    "from xcai.basics import *\n",
    "from xcai.models.MMM00X import DBT007, DBT008\n",
    "from xcai.transform import AugmentMetaInputIdsTfm"
   ]
  },
  {
   "cell_type": "code",
   "execution_count": null,
   "id": "7694e4d1-f5f5-4c60-b95f-f6bef6f7ee22",
   "metadata": {},
   "outputs": [],
   "source": [
    "#| export\n",
    "os.environ['WANDB_MODE'] = 'disabled'"
   ]
  },
  {
   "cell_type": "code",
   "execution_count": null,
   "id": "965fa00a-aee1-462a-b221-827e5892f32a",
   "metadata": {},
   "outputs": [],
   "source": [
    "#| export\n",
    "dump_dir = '/scratch/scai/phd/aiz218323/Projects/xc_nlg/outputs/13-metadata-trie-for-distilbert'"
   ]
  },
  {
   "cell_type": "code",
   "execution_count": null,
   "id": "f6b6014e-d7a0-4c0b-841c-e09b1849fe4b",
   "metadata": {},
   "outputs": [],
   "source": [
    "#| export\n",
    "fname = '/scratch/scai/phd/aiz218323/Projects/xc_nlg/outputs/05-metadata-augmented-input-and-trie-for-distilbert/data/block.pkl'\n",
    "with open(fname, 'rb') as f: block, test_dset = pickle.load(f)"
   ]
  },
  {
   "cell_type": "markdown",
   "id": "2710a1a2-4719-409c-9f40-c04d8f29ded5",
   "metadata": {},
   "source": [
    "# Generation"
   ]
  },
  {
   "cell_type": "code",
   "execution_count": null,
   "id": "43307f70-4ab5-4b10-9c24-c3bd7c27cc15",
   "metadata": {},
   "outputs": [
    {
     "name": "stderr",
     "output_type": "stream",
     "text": [
      "Some weights of DBT007 were not initialized from the model checkpoint at /scratch/scai/phd/aiz218323/Projects/xc_nlg/outputs/05-metadata-augmented-input-and-trie-for-distilbert/distilbert-base-uncased_RB33-NAR-3+8-2_(mapped)LF-WikiSeeAlsoTitles-320K/checkpoint-190000 and are newly initialized: ['loss_fn.o']\n",
      "You should probably TRAIN this model on a down-stream task to be able to use it for predictions and inference.\n"
     ]
    }
   ],
   "source": [
    "#| export\n",
    "mname = f'/scratch/scai/phd/aiz218323/Projects/xc_nlg/outputs/05-metadata-augmented-input-and-trie-for-distilbert/distilbert-base-uncased_RB33-NAR-3+8-2_(mapped)LF-WikiSeeAlsoTitles-320K/checkpoint-190000'\n",
    "model = DBT007.from_pretrained(mname, tn_targ=10_000, ig_tok=0)"
   ]
  },
  {
   "cell_type": "code",
   "execution_count": null,
   "id": "ff590378-466d-48e0-8787-6d9318301fd6",
   "metadata": {},
   "outputs": [],
   "source": [
    "#| export\n",
    "args = XCLearningArguments(\n",
    "    output_dir=f'{dump_dir}/distilbert-base-uncased_RB33-NAR-3+8-2_(mapped)LF-WikiSeeAlsoTitles-320K',\n",
    "    generation_length_penalty=1.5,\n",
    "    per_device_eval_batch_size=32,\n",
    "    evaluation_strategy='steps',\n",
    "    label_names=['lbl2data_idx'],\n",
    ")"
   ]
  },
  {
   "cell_type": "code",
   "execution_count": null,
   "id": "be4cd9aa-91f1-48f8-a188-b33e6810dd92",
   "metadata": {},
   "outputs": [],
   "source": [
    "metric = PrecRecl(test_dset.n_lbl, test_dset.data.data_lbl_filterer, prop=block.train.dset.data.data_lbl,\n",
    "                  pk=10, rk=200, rep_pk=[1, 3, 5, 10], rep_rk=[2, 3, 10, 50, 100, 200])"
   ]
  },
  {
   "cell_type": "code",
   "execution_count": null,
   "id": "24a1e37b-0e83-49a3-8a15-ceb09680d87c",
   "metadata": {},
   "outputs": [
    {
     "name": "stderr",
     "output_type": "stream",
     "text": [
      "/scratch/scai/phd/aiz218323/anaconda3/envs/xc_nlg/lib/python3.9/site-packages/accelerate/accelerator.py:432: FutureWarning: Passing the following arguments to `Accelerator` is deprecated and will be removed in version 1.0 of Accelerate: dict_keys(['dispatch_batches', 'split_batches', 'even_batches', 'use_seedable_sampler']). Please pass an `accelerate.DataLoaderConfiguration` instead: \n",
      "dataloader_config = DataLoaderConfiguration(dispatch_batches=None, split_batches=False, even_batches=True, use_seedable_sampler=True)\n",
      "  warnings.warn(\n",
      "Detected kernel version 3.10.0, which is below the recommended minimum of 5.5.0; this can cause the process to hang. It is recommended to upgrade the kernel to the minimum version or higher.\n"
     ]
    }
   ],
   "source": [
    "#| export\n",
    "learn = XCLearner(\n",
    "    model=model, \n",
    "    args=args,\n",
    "    data_collator=block.collator, \n",
    "    compute_metrics=metric,\n",
    ")"
   ]
  },
  {
   "cell_type": "markdown",
   "id": "b27fe184-9f29-41c9-9658-b7f2defb2243",
   "metadata": {},
   "source": [
    "## `meta-augmented trie`"
   ]
  },
  {
   "cell_type": "code",
   "execution_count": null,
   "id": "202209c3-a9b7-4bec-9a25-c800124ddd1c",
   "metadata": {},
   "outputs": [],
   "source": [
    "meta_lbl = block.train.dset.meta.hlk_meta.lbl_meta.T.tocsr()"
   ]
  },
  {
   "cell_type": "code",
   "execution_count": null,
   "id": "b7ad845c-d716-4cd8-8fa9-2d94aa6ba1a2",
   "metadata": {},
   "outputs": [
    {
     "data": {
      "application/vnd.jupyter.widget-view+json": {
       "model_id": "a24704d75b6e4e428f4a438b3189d6f1",
       "version_major": 2,
       "version_minor": 0
      },
      "text/plain": [
       "  0%|          | 0/2458399 [00:00<?, ?it/s]"
      ]
     },
     "metadata": {},
     "output_type": "display_data"
    },
    {
     "data": {
      "application/vnd.jupyter.widget-view+json": {
       "model_id": "afa289c5bb754a5b859ee61c3762a813",
       "version_major": 2,
       "version_minor": 0
      },
      "text/plain": [
       "  0%|          | 0/2458399 [00:00<?, ?it/s]"
      ]
     },
     "metadata": {},
     "output_type": "display_data"
    }
   ],
   "source": [
    "#| export\n",
    "meta_toks = block.train.dset.meta.hlk_meta.meta_info['input_ids']\n",
    "meta_info = [o.indices.tolist() for o in tqdm(meta_lbl, total=meta_lbl.shape[0])]\n",
    "\n",
    "trie = Trie.from_list(meta_toks, meta_info)"
   ]
  },
  {
   "cell_type": "code",
   "execution_count": null,
   "id": "f0ee739b-68d2-4a2a-b9e1-f2a2c6f63def",
   "metadata": {},
   "outputs": [],
   "source": []
  },
  {
   "cell_type": "code",
   "execution_count": null,
   "id": "a711f68e-9dfe-4bae-a42f-67dc3e202100",
   "metadata": {},
   "outputs": [],
   "source": [
    "#| export\n",
    "learn.tbs.trie = trie"
   ]
  },
  {
   "cell_type": "code",
   "execution_count": null,
   "id": "2d535aff-6b71-469f-8754-4b0374c4c95f",
   "metadata": {},
   "outputs": [],
   "source": [
    "#| export\n",
    "learn.tbs.n_bm = learn.args.generation_num_beams = 20"
   ]
  },
  {
   "cell_type": "code",
   "execution_count": null,
   "id": "d066577b-0c1f-4899-8650-7164168f2525",
   "metadata": {},
   "outputs": [
    {
     "name": "stderr",
     "output_type": "stream",
     "text": [
      "/scratch/scai/phd/aiz218323/anaconda3/envs/xc_nlg/lib/python3.9/site-packages/torch/nn/parallel/_functions.py:68: UserWarning: Was asked to gather along dimension 0, but all input tensors were scalars; will instead unsqueeze and return a vector.\n",
      "  warnings.warn('Was asked to gather along dimension 0, but all '\n"
     ]
    },
    {
     "data": {
      "text/html": [],
      "text/plain": [
       "<IPython.core.display.HTML object>"
      ]
     },
     "metadata": {},
     "output_type": "display_data"
    },
    {
     "name": "stderr",
     "output_type": "stream",
     "text": [
      "/scratch/scai/phd/aiz218323/anaconda3/envs/xc_nlg/lib/python3.9/site-packages/scipy/sparse/_index.py:145: SparseEfficiencyWarning: Changing the sparsity structure of a csr_matrix is expensive. lil_matrix is more efficient.\n",
      "  self._set_arrayXarray(i, j, x)\n"
     ]
    },
    {
     "data": {
      "text/html": [
       "<div>\n",
       "<style scoped>\n",
       "    .dataframe tbody tr th:only-of-type {\n",
       "        vertical-align: middle;\n",
       "    }\n",
       "\n",
       "    .dataframe tbody tr th {\n",
       "        vertical-align: top;\n",
       "    }\n",
       "\n",
       "    .dataframe thead th {\n",
       "        text-align: right;\n",
       "    }\n",
       "</style>\n",
       "<table border=\"1\" class=\"dataframe\">\n",
       "  <thead>\n",
       "    <tr style=\"text-align: right;\">\n",
       "      <th></th>\n",
       "      <th>P@1</th>\n",
       "      <th>P@3</th>\n",
       "      <th>P@5</th>\n",
       "      <th>P@10</th>\n",
       "      <th>N@1</th>\n",
       "      <th>N@3</th>\n",
       "      <th>N@5</th>\n",
       "      <th>N@10</th>\n",
       "      <th>PSP@1</th>\n",
       "      <th>PSP@3</th>\n",
       "      <th>PSP@5</th>\n",
       "      <th>PSP@10</th>\n",
       "      <th>PSN@1</th>\n",
       "      <th>PSN@3</th>\n",
       "      <th>PSN@5</th>\n",
       "      <th>PSN@10</th>\n",
       "      <th>R@2</th>\n",
       "      <th>R@3</th>\n",
       "      <th>R@10</th>\n",
       "      <th>R@50</th>\n",
       "      <th>R@100</th>\n",
       "      <th>R@200</th>\n",
       "      <th>loss</th>\n",
       "      <th>runtime</th>\n",
       "      <th>samples_per_second</th>\n",
       "      <th>steps_per_second</th>\n",
       "    </tr>\n",
       "  </thead>\n",
       "  <tbody>\n",
       "    <tr>\n",
       "      <th>0</th>\n",
       "      <td>2.6</td>\n",
       "      <td>1.7667</td>\n",
       "      <td>1.52</td>\n",
       "      <td>1.0</td>\n",
       "      <td>2.6</td>\n",
       "      <td>2.6249</td>\n",
       "      <td>2.8908</td>\n",
       "      <td>3.1826</td>\n",
       "      <td>2.164</td>\n",
       "      <td>2.2855</td>\n",
       "      <td>2.7591</td>\n",
       "      <td>3.2364</td>\n",
       "      <td>2.164</td>\n",
       "      <td>2.3835</td>\n",
       "      <td>2.6881</td>\n",
       "      <td>2.9811</td>\n",
       "      <td>1.9559</td>\n",
       "      <td>2.4015</td>\n",
       "      <td>3.9824</td>\n",
       "      <td>8.9326</td>\n",
       "      <td>11.9879</td>\n",
       "      <td>15.2577</td>\n",
       "      <td>7.0514</td>\n",
       "      <td>461.8621</td>\n",
       "      <td>4.33</td>\n",
       "      <td>0.069</td>\n",
       "    </tr>\n",
       "  </tbody>\n",
       "</table>\n",
       "</div>"
      ],
      "text/plain": [
       "   P@1     P@3   P@5  P@10  N@1     N@3     N@5    N@10  PSP@1   PSP@3  \\\n",
       "0  2.6  1.7667  1.52   1.0  2.6  2.6249  2.8908  3.1826  2.164  2.2855   \n",
       "\n",
       "    PSP@5  PSP@10  PSN@1   PSN@3   PSN@5  PSN@10     R@2     R@3    R@10  \\\n",
       "0  2.7591  3.2364  2.164  2.3835  2.6881  2.9811  1.9559  2.4015  3.9824   \n",
       "\n",
       "     R@50    R@100    R@200    loss   runtime  samples_per_second  \\\n",
       "0  8.9326  11.9879  15.2577  7.0514  461.8621                4.33   \n",
       "\n",
       "   steps_per_second  \n",
       "0             0.069  "
      ]
     },
     "metadata": {},
     "output_type": "display_data"
    }
   ],
   "source": [
    "o = learn.predict(test_dset)\n",
    "display_metric(o.metrics)"
   ]
  },
  {
   "cell_type": "code",
   "execution_count": null,
   "id": "109c7e93-7de0-4120-8980-a49ca3047352",
   "metadata": {},
   "outputs": [],
   "source": [
    "pred_fname = f'{dump_dir}/distilbert-base-uncased_RB33-NAR-3+8-2_(mapped)LF-WikiSeeAlsoTitles-320K/checkpoint-190000/predictions/test_lbl_atrie-hlk_n-bm-20_n-smp-2000_seed-50.pth'\n",
    "os.makedirs(os.path.dirname(pred_fname), exist_ok=True)\n",
    "torch.save(o, pred_fname)"
   ]
  },
  {
   "cell_type": "markdown",
   "id": "e22e6f34-f666-4a62-800e-e4c5c4b944ea",
   "metadata": {},
   "source": [
    "### __Shortlist & Total recall__"
   ]
  },
  {
   "cell_type": "markdown",
   "id": "afebba34-b7f4-4bf8-acf7-edfce8cf4a82",
   "metadata": {},
   "source": [
    "All the numbers reported below are on a sample of 2000 points."
   ]
  },
  {
   "cell_type": "code",
   "execution_count": null,
   "id": "8b68f1a6-f596-4ef6-815b-cfd231d93a86",
   "metadata": {},
   "outputs": [
    {
     "data": {
      "text/html": [
       "<div>\n",
       "<style scoped>\n",
       "    .dataframe tbody tr th:only-of-type {\n",
       "        vertical-align: middle;\n",
       "    }\n",
       "\n",
       "    .dataframe tbody tr th {\n",
       "        vertical-align: top;\n",
       "    }\n",
       "\n",
       "    .dataframe thead th {\n",
       "        text-align: right;\n",
       "    }\n",
       "</style>\n",
       "<table border=\"1\" class=\"dataframe\">\n",
       "  <thead>\n",
       "    <tr style=\"text-align: right;\">\n",
       "      <th></th>\n",
       "      <th>mean</th>\n",
       "      <th>std</th>\n",
       "      <th>25</th>\n",
       "      <th>50</th>\n",
       "      <th>75</th>\n",
       "    </tr>\n",
       "  </thead>\n",
       "  <tbody>\n",
       "    <tr>\n",
       "      <th>0</th>\n",
       "      <td>1152.26001</td>\n",
       "      <td>3253.315674</td>\n",
       "      <td>130.0</td>\n",
       "      <td>286.0</td>\n",
       "      <td>669.0</td>\n",
       "    </tr>\n",
       "  </tbody>\n",
       "</table>\n",
       "</div>"
      ],
      "text/plain": [
       "         mean          std     25     50     75\n",
       "0  1152.26001  3253.315674  130.0  286.0  669.0"
      ]
     },
     "execution_count": null,
     "metadata": {},
     "output_type": "execute_result"
    }
   ],
   "source": [
    "s = get_tensor_statistics(o.pred_ptr);s"
   ]
  },
  {
   "cell_type": "code",
   "execution_count": null,
   "id": "9e34f427-b661-4e72-845b-ef73075220fe",
   "metadata": {},
   "outputs": [
    {
     "name": "stdout",
     "output_type": "stream",
     "text": [
      "Total recall : 28.377\n"
     ]
    },
    {
     "name": "stderr",
     "output_type": "stream",
     "text": [
      "/scratch/scai/phd/aiz218323/anaconda3/envs/xc_nlg/lib/python3.9/site-packages/scipy/sparse/_index.py:145: SparseEfficiencyWarning: Changing the sparsity structure of a csr_matrix is expensive. lil_matrix is more efficient.\n",
      "  self._set_arrayXarray(i, j, x)\n"
     ]
    }
   ],
   "source": [
    "r, rm = total_recall(o.pred_idx, o.pred_ptr, test_dset.data.data_lbl, test_dset.data.data_lbl_filterer) \n",
    "print(f'Total recall : {r*100:.3f}')"
   ]
  },
  {
   "cell_type": "code",
   "execution_count": null,
   "id": "a404781b-d1f6-4460-89c1-5eb90a3fe092",
   "metadata": {},
   "outputs": [
    {
     "data": {
      "text/html": [
       "<div>\n",
       "<style scoped>\n",
       "    .dataframe tbody tr th:only-of-type {\n",
       "        vertical-align: middle;\n",
       "    }\n",
       "\n",
       "    .dataframe tbody tr th {\n",
       "        vertical-align: top;\n",
       "    }\n",
       "\n",
       "    .dataframe thead th {\n",
       "        text-align: right;\n",
       "    }\n",
       "</style>\n",
       "<table border=\"1\" class=\"dataframe\">\n",
       "  <thead>\n",
       "    <tr style=\"text-align: right;\">\n",
       "      <th></th>\n",
       "      <th>mean</th>\n",
       "      <th>std</th>\n",
       "      <th>25</th>\n",
       "      <th>50</th>\n",
       "      <th>75</th>\n",
       "    </tr>\n",
       "  </thead>\n",
       "  <tbody>\n",
       "    <tr>\n",
       "      <th>0</th>\n",
       "      <td>28.377048</td>\n",
       "      <td>36.91222</td>\n",
       "      <td>0.0</td>\n",
       "      <td>0.0</td>\n",
       "      <td>50.0</td>\n",
       "    </tr>\n",
       "  </tbody>\n",
       "</table>\n",
       "</div>"
      ],
      "text/plain": [
       "        mean       std   25   50    75\n",
       "0  28.377048  36.91222  0.0  0.0  50.0"
      ]
     },
     "execution_count": null,
     "metadata": {},
     "output_type": "execute_result"
    }
   ],
   "source": [
    "r = get_tensor_statistics(torch.tensor(rm.sum(axis=1)).flatten()*rm.shape[0]*100); r"
   ]
  },
  {
   "cell_type": "code",
   "execution_count": null,
   "id": "c80d7dfb-247c-4f3c-bac7-8a9cc6d15074",
   "metadata": {},
   "outputs": [],
   "source": [
    "data_rec = torch.tensor(rm.sum(axis=1)).flatten()"
   ]
  },
  {
   "cell_type": "code",
   "execution_count": null,
   "id": "804781ce-5f11-491b-9e01-95e5a455d7be",
   "metadata": {},
   "outputs": [
    {
     "data": {
      "text/plain": [
       "<matplotlib.collections.PathCollection>"
      ]
     },
     "execution_count": null,
     "metadata": {},
     "output_type": "execute_result"
    },
    {
     "data": {
      "image/png": "[encoded data removed]",
      "text/plain": [
       "<Figure size 700x500 with 1 Axes>"
      ]
     },
     "metadata": {},
     "output_type": "display_data"
    }
   ],
   "source": [
    "import matplotlib.pyplot as plt\n",
    "\n",
    "set_plot_defaults()\n",
    "plt.figure(figsize=(7,5))\n",
    "plt.yscale('log')\n",
    "idx = torch.where(data_rec > 0)[0]\n",
    "plt.scatter(data_rec[idx], o.pred_ptr[idx], s=5)"
   ]
  },
  {
   "cell_type": "code",
   "execution_count": null,
   "id": "3b395240-7380-4f4d-9dda-27a914c1f1d3",
   "metadata": {},
   "outputs": [
    {
     "data": {
      "text/plain": [
       "(PearsonRResult(statistic=0.11824174733324797, pvalue=1.1376580714507159e-07),\n",
       " SignificanceResult(statistic=0.23710335673541127, pvalue=5.88702506173271e-27))"
      ]
     },
     "execution_count": null,
     "metadata": {},
     "output_type": "execute_result"
    }
   ],
   "source": [
    "stats.pearsonr(data_rec, o.pred_ptr), stats.spearmanr(data_rec, o.pred_ptr)"
   ]
  },
  {
   "cell_type": "markdown",
   "id": "0e8883d2-30d2-47a6-8013-d9dec9339947",
   "metadata": {},
   "source": [
    "# Representation"
   ]
  },
  {
   "cell_type": "code",
   "execution_count": null,
   "id": "c009294d-803a-4fdf-948a-90c6eb58d1ca",
   "metadata": {},
   "outputs": [],
   "source": [
    "args = XCLearningArguments(\n",
    "    output_dir=f'{dump_dir}/ngame_v-3-100_(mapped)LF-WikiSeeAlsoTitles-320K/',\n",
    "    index_efs=200,\n",
    "    representation_num_beams=200,\n",
    "    generation_length_penalty=1.5,\n",
    "    per_device_eval_batch_size=16,\n",
    "    evaluation_strategy='steps',\n",
    "    label_names=['lbl2data_idx'],\n",
    ")"
   ]
  },
  {
   "cell_type": "code",
   "execution_count": null,
   "id": "794d280e-2a1e-4df5-82b5-969f15363df9",
   "metadata": {},
   "outputs": [
    {
     "name": "stderr",
     "output_type": "stream",
     "text": [
      "Some weights of DBT008 were not initialized from the model checkpoint at sentence-transformers/msmarco-distilbert-base-v4 and are newly initialized: ['loss_fn.u', 'loss_fn.v']\n",
      "You should probably TRAIN this model on a down-stream task to be able to use it for predictions and inference.\n"
     ]
    }
   ],
   "source": [
    "bsz = max(args.per_device_train_batch_size, args.per_device_eval_batch_size)*torch.cuda.device_count()\n",
    "model = DBT008.from_pretrained('sentence-transformers/msmarco-distilbert-base-v4', bsz=bsz, tn_targ=10_000, ig_tok=0)"
   ]
  },
  {
   "cell_type": "code",
   "execution_count": null,
   "id": "4ef9da23-0943-4464-a5fc-005257c9c719",
   "metadata": {},
   "outputs": [
    {
     "data": {
      "text/plain": [
       "_IncompatibleKeys(missing_keys=['loss_fn.u', 'loss_fn.v'], unexpected_keys=[])"
      ]
     },
     "execution_count": null,
     "metadata": {},
     "output_type": "execute_result"
    }
   ],
   "source": [
    "from collections import OrderedDict\n",
    "\n",
    "mname = f'/scratch/scai/phd/aiz218323/Projects/xc_nlg/outputs/05-metadata-augmented-input-and-trie-for-distilbert/ngame_v-3-100_(mapped)LF-WikiSeeAlsoTitles-320K/model_network.pkl'\n",
    "m_state_dict, msd = OrderedDict(), torch.load(mname)\n",
    "for k in msd:\n",
    "    o = k.split('.')\n",
    "    if o[0] == 'encoder': m_state_dict['distilbert.'+'.'.join(o[5:])] = msd[k]\n",
    "model.load_state_dict(m_state_dict, strict=False)\n"
   ]
  },
  {
   "cell_type": "code",
   "execution_count": null,
   "id": "3008a1cc-154d-424e-a51c-bf53a9f41e67",
   "metadata": {},
   "outputs": [],
   "source": [
    "metric = PrecRecl(test_dset.n_lbl, test_dset.data.data_lbl_filterer, prop=block.train.dset.data.data_lbl,\n",
    "                  pk=10, rk=200, rep_pk=[1, 3, 5, 10], rep_rk=[2, 3, 10, 50, 100, 200])"
   ]
  },
  {
   "cell_type": "code",
   "execution_count": null,
   "id": "1b44efee-0b0c-4118-9814-82077b72ced0",
   "metadata": {},
   "outputs": [
    {
     "name": "stderr",
     "output_type": "stream",
     "text": [
      "/scratch/scai/phd/aiz218323/anaconda3/envs/xc_nlg/lib/python3.9/site-packages/accelerate/accelerator.py:432: FutureWarning: Passing the following arguments to `Accelerator` is deprecated and will be removed in version 1.0 of Accelerate: dict_keys(['dispatch_batches', 'split_batches', 'even_batches', 'use_seedable_sampler']). Please pass an `accelerate.DataLoaderConfiguration` instead: \n",
      "dataloader_config = DataLoaderConfiguration(dispatch_batches=None, split_batches=False, even_batches=True, use_seedable_sampler=True)\n",
      "  warnings.warn(\n",
      "Detected kernel version 3.10.0, which is below the recommended minimum of 5.5.0; this can cause the process to hang. It is recommended to upgrade the kernel to the minimum version or higher.\n"
     ]
    }
   ],
   "source": [
    "learn = XCLearner(\n",
    "    model=model, \n",
    "    args=args,\n",
    "    data_collator=block.collator, \n",
    "    compute_metrics=metric,\n",
    ")"
   ]
  },
  {
   "cell_type": "markdown",
   "id": "43ab8adb-03f1-443c-86b8-03132dead64b",
   "metadata": {},
   "source": [
    "## Reranking"
   ]
  },
  {
   "cell_type": "code",
   "execution_count": null,
   "id": "cd341dde-36de-4d23-be18-e4fe9db2e47f",
   "metadata": {},
   "outputs": [],
   "source": [
    "import torch.nn.functional as F"
   ]
  },
  {
   "cell_type": "code",
   "execution_count": null,
   "id": "5c1bf2fa-67eb-4583-a87d-d5a8ae65bf31",
   "metadata": {},
   "outputs": [
    {
     "data": {
      "application/vnd.jupyter.widget-view+json": {
       "model_id": "c6ac2d2d7bec4b41aa52e29e21fd2864",
       "version_major": 2,
       "version_minor": 0
      },
      "text/plain": [
       "  0%|          | 0/63 [00:00<?, ?it/s]"
      ]
     },
     "metadata": {},
     "output_type": "display_data"
    }
   ],
   "source": [
    "data_repr = F.normalize(learn.get_representation(learn.get_test_dataloader(test_dset)), dim=1)"
   ]
  },
  {
   "cell_type": "code",
   "execution_count": null,
   "id": "76743679-cca1-48d2-82ff-ee189e85b7f6",
   "metadata": {},
   "outputs": [
    {
     "data": {
      "application/vnd.jupyter.widget-view+json": {
       "model_id": "012561f8c8264417af74b4a90cada49e",
       "version_major": 2,
       "version_minor": 0
      },
      "text/plain": [
       "  0%|          | 0/9761 [00:00<?, ?it/s]"
      ]
     },
     "metadata": {},
     "output_type": "display_data"
    }
   ],
   "source": [
    "lbl_repr = F.normalize(learn.get_representation(learn.get_test_dataloader(test_dset.lbl_dset)), dim=1)"
   ]
  },
  {
   "cell_type": "code",
   "execution_count": null,
   "id": "546e5602-64b9-44e2-b377-8b6b2f815d82",
   "metadata": {},
   "outputs": [],
   "source": [
    "pred = torch.load(f'{dump_dir}/distilbert-base-uncased_RB33-NAR-3+8-2_(mapped)LF-WikiSeeAlsoTitles-320K/checkpoint-190000/\\\n",
    "predictions/test_lbl_atrie-hlk_n-bm-20_n-smp-2000_seed-50.pth')"
   ]
  },
  {
   "cell_type": "code",
   "execution_count": null,
   "id": "30461eaa-6489-4e9d-93bb-46d9f9cd060d",
   "metadata": {},
   "outputs": [],
   "source": []
  },
  {
   "cell_type": "code",
   "execution_count": null,
   "id": "6f0412dc-bd2a-44cb-b504-7bc0ee7c9ee7",
   "metadata": {},
   "outputs": [
    {
     "data": {
      "application/vnd.jupyter.widget-view+json": {
       "model_id": "32931075ef1e4755b55bf72b7446fdc7",
       "version_major": 2,
       "version_minor": 0
      },
      "text/plain": [
       "  0%|          | 0/2000 [00:00<?, ?it/s]"
      ]
     },
     "metadata": {},
     "output_type": "display_data"
    }
   ],
   "source": [
    "from tqdm.auto import tqdm\n",
    "sc,p = [],0\n",
    "for q,d in tqdm(zip(pred.pred_ptr.cumsum(0),data_repr), total=data_repr.shape[0]):\n",
    "    sc.append(d@lbl_repr[pred.pred_idx[p:q]].T);p=q\n",
    "sc = torch.cat(sc)"
   ]
  },
  {
   "cell_type": "code",
   "execution_count": null,
   "id": "e7fa537a-d4f8-44cf-9f24-9db50ed4626d",
   "metadata": {},
   "outputs": [],
   "source": [
    "o = {\n",
    "    'pred_idx': pred.pred_idx,\n",
    "    'pred_ptr': pred.pred_ptr,\n",
    "    'pred_score': pred.pred_score,\n",
    "}\n",
    "o['targ_idx'] = torch.tensor(test_dset.data.data_lbl.indices, dtype=torch.long)\n",
    "o['targ_ptr'] = torch.tensor([o.getnnz() for o in test_dset.data.data_lbl])"
   ]
  },
  {
   "cell_type": "code",
   "execution_count": null,
   "id": "01002f8b-32f6-42ae-9a81-6ba68a8626e0",
   "metadata": {},
   "outputs": [
    {
     "name": "stderr",
     "output_type": "stream",
     "text": [
      "/scratch/scai/phd/aiz218323/anaconda3/envs/xc_nlg/lib/python3.9/site-packages/scipy/sparse/_index.py:145: SparseEfficiencyWarning: Changing the sparsity structure of a csr_matrix is expensive. lil_matrix is more efficient.\n",
      "  self._set_arrayXarray(i, j, x)\n"
     ]
    }
   ],
   "source": [
    "m = metric(**o)"
   ]
  },
  {
   "cell_type": "code",
   "execution_count": null,
   "id": "134f3f27-d111-4faa-bd75-a28bb8ffc973",
   "metadata": {},
   "outputs": [
    {
     "data": {
      "text/html": [
       "<div>\n",
       "<style scoped>\n",
       "    .dataframe tbody tr th:only-of-type {\n",
       "        vertical-align: middle;\n",
       "    }\n",
       "\n",
       "    .dataframe tbody tr th {\n",
       "        vertical-align: top;\n",
       "    }\n",
       "\n",
       "    .dataframe thead th {\n",
       "        text-align: right;\n",
       "    }\n",
       "</style>\n",
       "<table border=\"1\" class=\"dataframe\">\n",
       "  <thead>\n",
       "    <tr style=\"text-align: right;\">\n",
       "      <th></th>\n",
       "      <th>P@1</th>\n",
       "      <th>P@3</th>\n",
       "      <th>P@5</th>\n",
       "      <th>P@10</th>\n",
       "      <th>N@1</th>\n",
       "      <th>N@3</th>\n",
       "      <th>N@5</th>\n",
       "      <th>N@10</th>\n",
       "      <th>PSP@1</th>\n",
       "      <th>PSP@3</th>\n",
       "      <th>PSP@5</th>\n",
       "      <th>PSP@10</th>\n",
       "      <th>PSN@1</th>\n",
       "      <th>PSN@3</th>\n",
       "      <th>PSN@5</th>\n",
       "      <th>PSN@10</th>\n",
       "      <th>R@2</th>\n",
       "      <th>R@3</th>\n",
       "      <th>R@10</th>\n",
       "      <th>R@50</th>\n",
       "      <th>R@100</th>\n",
       "      <th>R@200</th>\n",
       "    </tr>\n",
       "  </thead>\n",
       "  <tbody>\n",
       "    <tr>\n",
       "      <th>0</th>\n",
       "      <td>2.6</td>\n",
       "      <td>1.766667</td>\n",
       "      <td>1.52</td>\n",
       "      <td>1.0</td>\n",
       "      <td>2.6</td>\n",
       "      <td>2.624854</td>\n",
       "      <td>2.89084</td>\n",
       "      <td>3.182571</td>\n",
       "      <td>2.164011</td>\n",
       "      <td>2.285524</td>\n",
       "      <td>2.759133</td>\n",
       "      <td>3.236371</td>\n",
       "      <td>2.164011</td>\n",
       "      <td>2.383549</td>\n",
       "      <td>2.688057</td>\n",
       "      <td>2.981086</td>\n",
       "      <td>1.955873</td>\n",
       "      <td>2.401524</td>\n",
       "      <td>3.98239</td>\n",
       "      <td>8.932605</td>\n",
       "      <td>11.987861</td>\n",
       "      <td>15.257695</td>\n",
       "    </tr>\n",
       "  </tbody>\n",
       "</table>\n",
       "</div>"
      ],
      "text/plain": [
       "   P@1       P@3   P@5  P@10  N@1       N@3      N@5      N@10     PSP@1  \\\n",
       "0  2.6  1.766667  1.52   1.0  2.6  2.624854  2.89084  3.182571  2.164011   \n",
       "\n",
       "      PSP@3     PSP@5    PSP@10     PSN@1     PSN@3     PSN@5    PSN@10  \\\n",
       "0  2.285524  2.759133  3.236371  2.164011  2.383549  2.688057  2.981086   \n",
       "\n",
       "        R@2       R@3     R@10      R@50      R@100      R@200  \n",
       "0  1.955873  2.401524  3.98239  8.932605  11.987861  15.257695  "
      ]
     },
     "metadata": {},
     "output_type": "display_data"
    }
   ],
   "source": [
    "with pd.option_context('display.max_columns', None):\n",
    "    display(pd.DataFrame([m])[sorted_metric(m, order=['P', 'N', 'PSP', 'PSN'])] * 100)"
   ]
  },
  {
   "cell_type": "code",
   "execution_count": null,
   "id": "d40a05df-c620-47fa-b060-8750c6ee7e56",
   "metadata": {},
   "outputs": [],
   "source": []
  },
  {
   "cell_type": "code",
   "execution_count": null,
   "id": "d0e5a2e0-1432-4968-bf83-6598cea9ff88",
   "metadata": {},
   "outputs": [],
   "source": [
    "o['pred_score'] = sc"
   ]
  },
  {
   "cell_type": "code",
   "execution_count": null,
   "id": "b6dba690-7cff-4f46-a364-b3f518948f54",
   "metadata": {},
   "outputs": [
    {
     "name": "stderr",
     "output_type": "stream",
     "text": [
      "/scratch/scai/phd/aiz218323/anaconda3/envs/xc_nlg/lib/python3.9/site-packages/scipy/sparse/_index.py:145: SparseEfficiencyWarning: Changing the sparsity structure of a csr_matrix is expensive. lil_matrix is more efficient.\n",
      "  self._set_arrayXarray(i, j, x)\n"
     ]
    }
   ],
   "source": [
    "m = metric(**o)"
   ]
  },
  {
   "cell_type": "code",
   "execution_count": null,
   "id": "1321ad11-aa10-497f-8eed-2212396df54b",
   "metadata": {},
   "outputs": [
    {
     "data": {
      "text/html": [
       "<div>\n",
       "<style scoped>\n",
       "    .dataframe tbody tr th:only-of-type {\n",
       "        vertical-align: middle;\n",
       "    }\n",
       "\n",
       "    .dataframe tbody tr th {\n",
       "        vertical-align: top;\n",
       "    }\n",
       "\n",
       "    .dataframe thead th {\n",
       "        text-align: right;\n",
       "    }\n",
       "</style>\n",
       "<table border=\"1\" class=\"dataframe\">\n",
       "  <thead>\n",
       "    <tr style=\"text-align: right;\">\n",
       "      <th></th>\n",
       "      <th>P@1</th>\n",
       "      <th>P@3</th>\n",
       "      <th>P@5</th>\n",
       "      <th>P@10</th>\n",
       "      <th>N@1</th>\n",
       "      <th>N@3</th>\n",
       "      <th>N@5</th>\n",
       "      <th>N@10</th>\n",
       "      <th>PSP@1</th>\n",
       "      <th>PSP@3</th>\n",
       "      <th>PSP@5</th>\n",
       "      <th>PSP@10</th>\n",
       "      <th>PSN@1</th>\n",
       "      <th>PSN@3</th>\n",
       "      <th>PSN@5</th>\n",
       "      <th>PSN@10</th>\n",
       "      <th>R@2</th>\n",
       "      <th>R@3</th>\n",
       "      <th>R@10</th>\n",
       "      <th>R@50</th>\n",
       "      <th>R@100</th>\n",
       "      <th>R@200</th>\n",
       "    </tr>\n",
       "  </thead>\n",
       "  <tbody>\n",
       "    <tr>\n",
       "      <th>0</th>\n",
       "      <td>16.6</td>\n",
       "      <td>11.633333</td>\n",
       "      <td>8.83</td>\n",
       "      <td>5.55</td>\n",
       "      <td>16.599998</td>\n",
       "      <td>16.002222</td>\n",
       "      <td>16.342056</td>\n",
       "      <td>17.243277</td>\n",
       "      <td>10.986802</td>\n",
       "      <td>12.879456</td>\n",
       "      <td>14.038315</td>\n",
       "      <td>16.249278</td>\n",
       "      <td>10.986802</td>\n",
       "      <td>12.375863</td>\n",
       "      <td>13.173149</td>\n",
       "      <td>14.244638</td>\n",
       "      <td>11.280039</td>\n",
       "      <td>14.014321</td>\n",
       "      <td>19.798505</td>\n",
       "      <td>25.16602</td>\n",
       "      <td>26.27945</td>\n",
       "      <td>26.753155</td>\n",
       "    </tr>\n",
       "  </tbody>\n",
       "</table>\n",
       "</div>"
      ],
      "text/plain": [
       "    P@1        P@3   P@5  P@10        N@1        N@3        N@5       N@10  \\\n",
       "0  16.6  11.633333  8.83  5.55  16.599998  16.002222  16.342056  17.243277   \n",
       "\n",
       "       PSP@1      PSP@3      PSP@5     PSP@10      PSN@1      PSN@3  \\\n",
       "0  10.986802  12.879456  14.038315  16.249278  10.986802  12.375863   \n",
       "\n",
       "       PSN@5     PSN@10        R@2        R@3       R@10      R@50     R@100  \\\n",
       "0  13.173149  14.244638  11.280039  14.014321  19.798505  25.16602  26.27945   \n",
       "\n",
       "       R@200  \n",
       "0  26.753155  "
      ]
     },
     "metadata": {},
     "output_type": "display_data"
    }
   ],
   "source": [
    "with pd.option_context('display.max_columns', None):\n",
    "    display(pd.DataFrame([m])[sorted_metric(m, order=['P', 'N', 'PSP', 'PSN'])] * 100)"
   ]
  },
  {
   "cell_type": "code",
   "execution_count": null,
   "id": "623fe512-52e0-4e52-bae6-033aeaa2d8a2",
   "metadata": {},
   "outputs": [],
   "source": []
  }
 ],
 "metadata": {
  "kernelspec": {
   "display_name": "python3",
   "language": "python",
   "name": "python3"
  }
 },
 "nbformat": 4,
 "nbformat_minor": 5
}
