{
 "cells": [
  {
   "cell_type": "code",
   "execution_count": null,
   "id": "d6e18985-f27c-4001-99e6-fb2929f173d9",
   "metadata": {},
   "outputs": [],
   "source": [
    "#| default_exp 07-metadata-augmented-input-and-trie-for-distilbert-with-thresholding"
   ]
  },
  {
   "cell_type": "code",
   "execution_count": null,
   "id": "4a6790b0-1931-4a3f-a15c-19e27863087c",
   "metadata": {},
   "outputs": [],
   "source": [
    "%load_ext autoreload\n",
    "%autoreload 2"
   ]
  },
  {
   "cell_type": "code",
   "execution_count": null,
   "id": "a78c0853-f45e-4445-8968-8396896eab85",
   "metadata": {},
   "outputs": [
    {
     "name": "stderr",
     "output_type": "stream",
     "text": [
      "comet_ml is installed but `COMET_API_KEY` is not set.\n"
     ]
    }
   ],
   "source": [
    "#| export\n",
    "import os, pandas as pd, warnings, torch, pickle, numpy as np\n",
    "from tqdm.auto import tqdm\n",
    "from scipy import stats\n",
    "\n",
    "import xclib.utils.sparse as xs\n",
    "\n",
    "from xcai.basics import *\n",
    "from xcai.models.MMM00X import DBT007, DBT008\n",
    "from xcai.transform import AugmentMetaInputIdsTfm"
   ]
  },
  {
   "cell_type": "code",
   "execution_count": null,
   "id": "7694e4d1-f5f5-4c60-b95f-f6bef6f7ee22",
   "metadata": {},
   "outputs": [],
   "source": [
    "#| export\n",
    "os.environ['WANDB_MODE'] = 'disabled'"
   ]
  },
  {
   "cell_type": "code",
   "execution_count": null,
   "id": "965fa00a-aee1-462a-b221-827e5892f32a",
   "metadata": {},
   "outputs": [],
   "source": [
    "#| export\n",
    "dump_dir = '/scratch/scai/phd/aiz218323/Projects/xc_nlg/outputs/07-metadata-augmented-input-and-trie-for-distilbert-with-thresholding/'"
   ]
  },
  {
   "cell_type": "code",
   "execution_count": null,
   "id": "f6b6014e-d7a0-4c0b-841c-e09b1849fe4b",
   "metadata": {},
   "outputs": [],
   "source": [
    "#| export\n",
    "fname = '/scratch/scai/phd/aiz218323/Projects/xc_nlg/outputs/05-metadata-augmented-input-and-trie-for-distilbert/data/block.pkl'\n",
    "with open(fname, 'rb') as f: block, test_dset = pickle.load(f)"
   ]
  },
  {
   "cell_type": "markdown",
   "id": "2710a1a2-4719-409c-9f40-c04d8f29ded5",
   "metadata": {},
   "source": [
    "# Generation"
   ]
  },
  {
   "cell_type": "code",
   "execution_count": null,
   "id": "43307f70-4ab5-4b10-9c24-c3bd7c27cc15",
   "metadata": {},
   "outputs": [
    {
     "name": "stderr",
     "output_type": "stream",
     "text": [
      "Some weights of DBT007 were not initialized from the model checkpoint at /scratch/scai/phd/aiz218323/Projects/xc_nlg/outputs/05-metadata-augmented-input-and-trie-for-distilbert/distilbert-base-uncased_RB33-NAR-3+8-2_(mapped)LF-WikiSeeAlsoTitles-320K/checkpoint-190000 and are newly initialized: ['loss_fn.o']\n",
      "You should probably TRAIN this model on a down-stream task to be able to use it for predictions and inference.\n"
     ]
    }
   ],
   "source": [
    "#| export\n",
    "mname = f'/scratch/scai/phd/aiz218323/Projects/xc_nlg/outputs/05-metadata-augmented-input-and-trie-for-distilbert/distilbert-base-uncased_RB33-NAR-3+8-2_(mapped)LF-WikiSeeAlsoTitles-320K/checkpoint-190000'\n",
    "model = DBT007.from_pretrained(mname, tn_targ=10_000, ig_tok=0)"
   ]
  },
  {
   "cell_type": "code",
   "execution_count": null,
   "id": "ff590378-466d-48e0-8787-6d9318301fd6",
   "metadata": {},
   "outputs": [],
   "source": [
    "#| export\n",
    "args = XCLearningArguments(\n",
    "    output_dir=f'/scratch/scai/phd/aiz218323/Projects/xc_nlg/outputs/05-metadata-augmented-input-and-trie-for-distilbert/distilbert-base-uncased_RB33-NAR-3+8-2_(mapped)LF-WikiSeeAlsoTitles-320K',\n",
    "    generation_length_penalty=1.5,\n",
    "    per_device_eval_batch_size=16,\n",
    "    evaluation_strategy='steps',\n",
    "    label_names=['lbl2data_idx'],\n",
    ")"
   ]
  },
  {
   "cell_type": "code",
   "execution_count": null,
   "id": "be4cd9aa-91f1-48f8-a188-b33e6810dd92",
   "metadata": {},
   "outputs": [],
   "source": [
    "#| export\n",
    "metric = PrecRecl(test_dset.n_lbl, test_dset.data.data_lbl_filterer, prop=block.train.dset.data.data_lbl,\n",
    "                  pk=10, rk=200, rep_pk=[1, 3, 5, 10], rep_rk=[2, 3, 10, 50, 100, 200])"
   ]
  },
  {
   "cell_type": "code",
   "execution_count": null,
   "id": "44c09802-1869-4f4d-af21-11bd313f0bd7",
   "metadata": {},
   "outputs": [],
   "source": [
    "metric = PrecRecl(block.n_lbl, block.test.data_lbl_filterer, prop=block.train.dset.data.data_lbl,\n",
    "                  pk=10, rk=200, rep_pk=[1, 3, 5, 10], rep_rk=[2, 3, 10, 50, 100, 200])"
   ]
  },
  {
   "cell_type": "code",
   "execution_count": null,
   "id": "24a1e37b-0e83-49a3-8a15-ceb09680d87c",
   "metadata": {},
   "outputs": [
    {
     "name": "stderr",
     "output_type": "stream",
     "text": [
      "/scratch/scai/phd/aiz218323/anaconda3/envs/xc_nlg/lib/python3.9/site-packages/accelerate/accelerator.py:432: FutureWarning: Passing the following arguments to `Accelerator` is deprecated and will be removed in version 1.0 of Accelerate: dict_keys(['dispatch_batches', 'split_batches', 'even_batches', 'use_seedable_sampler']). Please pass an `accelerate.DataLoaderConfiguration` instead: \n",
      "dataloader_config = DataLoaderConfiguration(dispatch_batches=None, split_batches=False, even_batches=True, use_seedable_sampler=True)\n",
      "  warnings.warn(\n",
      "Detected kernel version 3.10.0, which is below the recommended minimum of 5.5.0; this can cause the process to hang. It is recommended to upgrade the kernel to the minimum version or higher.\n"
     ]
    }
   ],
   "source": [
    "#| export\n",
    "learn = XCLearner(\n",
    "    model=model, \n",
    "    args=args,\n",
    "    data_collator=block.collator, \n",
    "    compute_metrics=metric,\n",
    ")"
   ]
  },
  {
   "cell_type": "markdown",
   "id": "b27fe184-9f29-41c9-9658-b7f2defb2243",
   "metadata": {},
   "source": [
    "## `meta-augmented trie`"
   ]
  },
  {
   "cell_type": "code",
   "execution_count": null,
   "id": "1ad9fe4b-fd6e-4b72-93b9-49cb44b26bc6",
   "metadata": {},
   "outputs": [
    {
     "data": {
      "application/vnd.jupyter.widget-view+json": {
       "model_id": "1b1b4ae40c8e43bab1fb797ae69b0ffa",
       "version_major": 2,
       "version_minor": 0
      },
      "text/plain": [
       "  0%|          | 0/312330 [00:00<?, ?it/s]"
      ]
     },
     "metadata": {},
     "output_type": "display_data"
    }
   ],
   "source": [
    "lbl_toks = block.lbl_info['input_ids']\n",
    "lbl_info = [[i] for i in range(len(lbl_toks))]\n",
    "\n",
    "trie = Trie.from_list(lbl_toks, lbl_info)"
   ]
  },
  {
   "cell_type": "code",
   "execution_count": null,
   "id": "1be7a99a-225d-4a0e-9077-1df467c18c32",
   "metadata": {},
   "outputs": [],
   "source": [
    "meta_lbl = block.train.dset.meta.hlk_meta.lbl_meta.T.tocsr()"
   ]
  },
  {
   "cell_type": "code",
   "execution_count": null,
   "id": "c5e52f9d-5985-42b6-947e-e3c5ec587065",
   "metadata": {},
   "outputs": [],
   "source": [
    "n_lbl = meta_lbl.getnnz(axis=1)\n",
    "valid_meta_idx = np.where(np.logical_and(n_lbl>1, n_lbl<100))[0]"
   ]
  },
  {
   "cell_type": "code",
   "execution_count": null,
   "id": "2867029b-9d96-4daa-9840-e470a5013ad7",
   "metadata": {},
   "outputs": [
    {
     "data": {
      "application/vnd.jupyter.widget-view+json": {
       "model_id": "d60cecfb49ea4898b59207ffcacf487f",
       "version_major": 2,
       "version_minor": 0
      },
      "text/plain": [
       "  0%|          | 0/1174296 [00:00<?, ?it/s]"
      ]
     },
     "metadata": {},
     "output_type": "display_data"
    },
    {
     "data": {
      "application/vnd.jupyter.widget-view+json": {
       "model_id": "b5988f7e3d944f13a2bbc0510269a54e",
       "version_major": 2,
       "version_minor": 0
      },
      "text/plain": [
       "  0%|          | 0/1174296 [00:00<?, ?it/s]"
      ]
     },
     "metadata": {},
     "output_type": "display_data"
    }
   ],
   "source": [
    "meta_toks = [block.train.dset.meta.hlk_meta.meta_info['input_ids'][i] for i in tqdm(valid_meta_idx)]\n",
    "meta_info = [meta_lbl[i].indices.tolist() for i in tqdm(valid_meta_idx)]"
   ]
  },
  {
   "cell_type": "code",
   "execution_count": null,
   "id": "94ae3ac5-8122-40b0-9de6-812adfc47225",
   "metadata": {},
   "outputs": [
    {
     "data": {
      "application/vnd.jupyter.widget-view+json": {
       "model_id": "24f7af16e6cd4b97999f24bbacca892f",
       "version_major": 2,
       "version_minor": 0
      },
      "text/plain": [
       "  0%|          | 0/1174296 [00:00<?, ?it/s]"
      ]
     },
     "metadata": {},
     "output_type": "display_data"
    }
   ],
   "source": [
    "trie.update(meta_toks, meta_info)"
   ]
  },
  {
   "cell_type": "code",
   "execution_count": null,
   "id": "a711f68e-9dfe-4bae-a42f-67dc3e202100",
   "metadata": {},
   "outputs": [],
   "source": [
    "#| export\n",
    "learn.tbs.trie = trie"
   ]
  },
  {
   "cell_type": "code",
   "execution_count": null,
   "id": "ba42b89a-9796-4deb-ae86-62ebcb1bd49f",
   "metadata": {},
   "outputs": [],
   "source": []
  },
  {
   "cell_type": "code",
   "execution_count": null,
   "id": "2d535aff-6b71-469f-8754-4b0374c4c95f",
   "metadata": {},
   "outputs": [],
   "source": [
    "learn.tbs.n_bm = learn.args.generation_num_beams = 50"
   ]
  },
  {
   "cell_type": "code",
   "execution_count": null,
   "id": "d066577b-0c1f-4899-8650-7164168f2525",
   "metadata": {},
   "outputs": [
    {
     "name": "stderr",
     "output_type": "stream",
     "text": [
      "/scratch/scai/phd/aiz218323/anaconda3/envs/xc_nlg/lib/python3.9/site-packages/torch/nn/parallel/_functions.py:68: UserWarning: Was asked to gather along dimension 0, but all input tensors were scalars; will instead unsqueeze and return a vector.\n",
      "  warnings.warn('Was asked to gather along dimension 0, but all '\n"
     ]
    },
    {
     "data": {
      "text/html": [],
      "text/plain": [
       "<IPython.core.display.HTML object>"
      ]
     },
     "metadata": {},
     "output_type": "display_data"
    },
    {
     "name": "stderr",
     "output_type": "stream",
     "text": [
      "/scratch/scai/phd/aiz218323/anaconda3/envs/xc_nlg/lib/python3.9/site-packages/scipy/sparse/_index.py:145: SparseEfficiencyWarning: Changing the sparsity structure of a csr_matrix is expensive. lil_matrix is more efficient.\n",
      "  self._set_arrayXarray(i, j, x)\n"
     ]
    },
    {
     "data": {
      "text/html": [
       "<div>\n",
       "<style scoped>\n",
       "    .dataframe tbody tr th:only-of-type {\n",
       "        vertical-align: middle;\n",
       "    }\n",
       "\n",
       "    .dataframe tbody tr th {\n",
       "        vertical-align: top;\n",
       "    }\n",
       "\n",
       "    .dataframe thead th {\n",
       "        text-align: right;\n",
       "    }\n",
       "</style>\n",
       "<table border=\"1\" class=\"dataframe\">\n",
       "  <thead>\n",
       "    <tr style=\"text-align: right;\">\n",
       "      <th></th>\n",
       "      <th>P@1</th>\n",
       "      <th>P@3</th>\n",
       "      <th>P@5</th>\n",
       "      <th>P@10</th>\n",
       "      <th>N@1</th>\n",
       "      <th>N@3</th>\n",
       "      <th>N@5</th>\n",
       "      <th>N@10</th>\n",
       "      <th>PSP@1</th>\n",
       "      <th>PSP@3</th>\n",
       "      <th>PSP@5</th>\n",
       "      <th>PSP@10</th>\n",
       "      <th>PSN@1</th>\n",
       "      <th>PSN@3</th>\n",
       "      <th>PSN@5</th>\n",
       "      <th>PSN@10</th>\n",
       "      <th>R@2</th>\n",
       "      <th>R@3</th>\n",
       "      <th>R@10</th>\n",
       "      <th>R@50</th>\n",
       "      <th>R@100</th>\n",
       "      <th>R@200</th>\n",
       "      <th>loss</th>\n",
       "      <th>runtime</th>\n",
       "      <th>samples_per_second</th>\n",
       "      <th>steps_per_second</th>\n",
       "    </tr>\n",
       "  </thead>\n",
       "  <tbody>\n",
       "    <tr>\n",
       "      <th>0</th>\n",
       "      <td>15.35</td>\n",
       "      <td>8.3833</td>\n",
       "      <td>6.01</td>\n",
       "      <td>3.58</td>\n",
       "      <td>15.35</td>\n",
       "      <td>14.0982</td>\n",
       "      <td>14.327</td>\n",
       "      <td>15.0209</td>\n",
       "      <td>9.0689</td>\n",
       "      <td>8.3428</td>\n",
       "      <td>8.7275</td>\n",
       "      <td>9.5123</td>\n",
       "      <td>9.0689</td>\n",
       "      <td>9.154</td>\n",
       "      <td>9.6349</td>\n",
       "      <td>10.3323</td>\n",
       "      <td>11.1848</td>\n",
       "      <td>13.0305</td>\n",
       "      <td>16.894</td>\n",
       "      <td>23.3738</td>\n",
       "      <td>27.9886</td>\n",
       "      <td>34.5702</td>\n",
       "      <td>7.0555</td>\n",
       "      <td>1000.9102</td>\n",
       "      <td>1.998</td>\n",
       "      <td>0.063</td>\n",
       "    </tr>\n",
       "  </tbody>\n",
       "</table>\n",
       "</div>"
      ],
      "text/plain": [
       "     P@1     P@3   P@5  P@10    N@1      N@3     N@5     N@10   PSP@1   PSP@3  \\\n",
       "0  15.35  8.3833  6.01  3.58  15.35  14.0982  14.327  15.0209  9.0689  8.3428   \n",
       "\n",
       "    PSP@5  PSP@10   PSN@1  PSN@3   PSN@5   PSN@10      R@2      R@3    R@10  \\\n",
       "0  8.7275  9.5123  9.0689  9.154  9.6349  10.3323  11.1848  13.0305  16.894   \n",
       "\n",
       "      R@50    R@100    R@200    loss    runtime  samples_per_second  \\\n",
       "0  23.3738  27.9886  34.5702  7.0555  1000.9102               1.998   \n",
       "\n",
       "   steps_per_second  \n",
       "0             0.063  "
      ]
     },
     "metadata": {},
     "output_type": "display_data"
    }
   ],
   "source": [
    "o = learn.predict(test_dset)\n",
    "display_metric(o.metrics)"
   ]
  },
  {
   "cell_type": "code",
   "execution_count": null,
   "id": "b92a1efa-8ad7-4241-95b0-3a2bfec43d5c",
   "metadata": {},
   "outputs": [],
   "source": []
  },
  {
   "cell_type": "code",
   "execution_count": null,
   "id": "3ed2aec2-0513-4e43-967a-4455244338b2",
   "metadata": {},
   "outputs": [],
   "source": [
    "pred_fname = f'{dump_dir}/distilbert-base-uncased_RB33-NAR-3+8-2_(mapped)LF-WikiSeeAlsoTitles-320K/checkpoint-190000/predictions/test_lbl_atrie-hlk_n-bm-20_n-smp-2000_seed-50.pth'\n",
    "os.makedirs(os.path.dirname(pred_fname), exist_ok=True)\n",
    "torch.save(o, pred_fname)"
   ]
  },
  {
   "cell_type": "markdown",
   "id": "e22e6f34-f666-4a62-800e-e4c5c4b944ea",
   "metadata": {},
   "source": [
    "### __Shortlist & Total recall__"
   ]
  },
  {
   "cell_type": "markdown",
   "id": "afebba34-b7f4-4bf8-acf7-edfce8cf4a82",
   "metadata": {},
   "source": [
    "All the numbers reported below are on a sample of 2000 points."
   ]
  },
  {
   "cell_type": "code",
   "execution_count": null,
   "id": "8b68f1a6-f596-4ef6-815b-cfd231d93a86",
   "metadata": {},
   "outputs": [
    {
     "data": {
      "text/html": [
       "<div>\n",
       "<style scoped>\n",
       "    .dataframe tbody tr th:only-of-type {\n",
       "        vertical-align: middle;\n",
       "    }\n",
       "\n",
       "    .dataframe tbody tr th {\n",
       "        vertical-align: top;\n",
       "    }\n",
       "\n",
       "    .dataframe thead th {\n",
       "        text-align: right;\n",
       "    }\n",
       "</style>\n",
       "<table border=\"1\" class=\"dataframe\">\n",
       "  <thead>\n",
       "    <tr style=\"text-align: right;\">\n",
       "      <th></th>\n",
       "      <th>mean</th>\n",
       "      <th>std</th>\n",
       "      <th>25</th>\n",
       "      <th>50</th>\n",
       "      <th>75</th>\n",
       "    </tr>\n",
       "  </thead>\n",
       "  <tbody>\n",
       "    <tr>\n",
       "      <th>0</th>\n",
       "      <td>344.292511</td>\n",
       "      <td>190.243073</td>\n",
       "      <td>225.0</td>\n",
       "      <td>323.0</td>\n",
       "      <td>444.0</td>\n",
       "    </tr>\n",
       "  </tbody>\n",
       "</table>\n",
       "</div>"
      ],
      "text/plain": [
       "         mean         std     25     50     75\n",
       "0  344.292511  190.243073  225.0  323.0  444.0"
      ]
     },
     "execution_count": null,
     "metadata": {},
     "output_type": "execute_result"
    }
   ],
   "source": [
    "s = get_tensor_statistics(o.pred_ptr);s"
   ]
  },
  {
   "cell_type": "code",
   "execution_count": null,
   "id": "9e34f427-b661-4e72-845b-ef73075220fe",
   "metadata": {},
   "outputs": [
    {
     "name": "stdout",
     "output_type": "stream",
     "text": [
      "Total recall : 46.778\n"
     ]
    },
    {
     "name": "stderr",
     "output_type": "stream",
     "text": [
      "/scratch/scai/phd/aiz218323/anaconda3/envs/xc_nlg/lib/python3.9/site-packages/scipy/sparse/_index.py:145: SparseEfficiencyWarning: Changing the sparsity structure of a csr_matrix is expensive. lil_matrix is more efficient.\n",
      "  self._set_arrayXarray(i, j, x)\n"
     ]
    }
   ],
   "source": [
    "r, rm = total_recall(o.pred_idx, o.pred_ptr, test_dset.data.data_lbl, test_dset.data.data_lbl_filterer) \n",
    "print(f'Total recall : {r*100:.3f}')"
   ]
  },
  {
   "cell_type": "code",
   "execution_count": null,
   "id": "a404781b-d1f6-4460-89c1-5eb90a3fe092",
   "metadata": {},
   "outputs": [
    {
     "data": {
      "text/html": [
       "<div>\n",
       "<style scoped>\n",
       "    .dataframe tbody tr th:only-of-type {\n",
       "        vertical-align: middle;\n",
       "    }\n",
       "\n",
       "    .dataframe tbody tr th {\n",
       "        vertical-align: top;\n",
       "    }\n",
       "\n",
       "    .dataframe thead th {\n",
       "        text-align: right;\n",
       "    }\n",
       "</style>\n",
       "<table border=\"1\" class=\"dataframe\">\n",
       "  <thead>\n",
       "    <tr style=\"text-align: right;\">\n",
       "      <th></th>\n",
       "      <th>mean</th>\n",
       "      <th>std</th>\n",
       "      <th>25</th>\n",
       "      <th>50</th>\n",
       "      <th>75</th>\n",
       "    </tr>\n",
       "  </thead>\n",
       "  <tbody>\n",
       "    <tr>\n",
       "      <th>0</th>\n",
       "      <td>46.778297</td>\n",
       "      <td>42.45533</td>\n",
       "      <td>0.0</td>\n",
       "      <td>50.0</td>\n",
       "      <td>100.0</td>\n",
       "    </tr>\n",
       "  </tbody>\n",
       "</table>\n",
       "</div>"
      ],
      "text/plain": [
       "        mean       std   25    50     75\n",
       "0  46.778297  42.45533  0.0  50.0  100.0"
      ]
     },
     "execution_count": null,
     "metadata": {},
     "output_type": "execute_result"
    }
   ],
   "source": [
    "r = get_tensor_statistics(torch.tensor(rm.sum(axis=1)).flatten()*rm.shape[0]*100); r"
   ]
  },
  {
   "cell_type": "code",
   "execution_count": null,
   "id": "c80d7dfb-247c-4f3c-bac7-8a9cc6d15074",
   "metadata": {},
   "outputs": [],
   "source": [
    "data_rec = torch.tensor(rm.sum(axis=1)).flatten()"
   ]
  },
  {
   "cell_type": "code",
   "execution_count": null,
   "id": "804781ce-5f11-491b-9e01-95e5a455d7be",
   "metadata": {},
   "outputs": [
    {
     "data": {
      "text/plain": [
       "<matplotlib.collections.PathCollection>"
      ]
     },
     "execution_count": null,
     "metadata": {},
     "output_type": "execute_result"
    },
    {
     "data": {
      "image/png": "[encoded data removed]",
      "text/plain": [
       "<Figure size 700x500 with 1 Axes>"
      ]
     },
     "metadata": {},
     "output_type": "display_data"
    }
   ],
   "source": [
    "import matplotlib.pyplot as plt\n",
    "\n",
    "set_plot_defaults()\n",
    "plt.figure(figsize=(7,5))\n",
    "plt.yscale('log')\n",
    "idx = torch.where(data_rec > 0)[0]\n",
    "plt.scatter(data_rec[idx], o.pred_ptr[idx], s=5)"
   ]
  },
  {
   "cell_type": "code",
   "execution_count": null,
   "id": "3b395240-7380-4f4d-9dda-27a914c1f1d3",
   "metadata": {},
   "outputs": [
    {
     "data": {
      "text/plain": [
       "(PearsonRResult(statistic=-0.07536473441219829, pvalue=0.0007432584497593396),\n",
       " SignificanceResult(statistic=-0.1300839934767818, pvalue=5.260320390198579e-09))"
      ]
     },
     "execution_count": null,
     "metadata": {},
     "output_type": "execute_result"
    }
   ],
   "source": [
    "stats.pearsonr(data_rec, o.pred_ptr), stats.spearmanr(data_rec, o.pred_ptr)"
   ]
  },
  {
   "cell_type": "markdown",
   "id": "0e8883d2-30d2-47a6-8013-d9dec9339947",
   "metadata": {},
   "source": [
    "# Representation"
   ]
  },
  {
   "cell_type": "code",
   "execution_count": null,
   "id": "c009294d-803a-4fdf-948a-90c6eb58d1ca",
   "metadata": {},
   "outputs": [],
   "source": [
    "args = XCLearningArguments(\n",
    "    output_dir=f'{dump_dir}/ngame_v-3-100_(mapped)LF-WikiSeeAlsoTitles-320K/',\n",
    "    index_efs=200,\n",
    "    representation_num_beams=200,\n",
    "    generation_length_penalty=1.5,\n",
    "    per_device_eval_batch_size=16,\n",
    "    evaluation_strategy='steps',\n",
    "    label_names=['lbl2data_idx'],\n",
    ")"
   ]
  },
  {
   "cell_type": "code",
   "execution_count": null,
   "id": "794d280e-2a1e-4df5-82b5-969f15363df9",
   "metadata": {},
   "outputs": [
    {
     "name": "stderr",
     "output_type": "stream",
     "text": [
      "Some weights of DBT008 were not initialized from the model checkpoint at sentence-transformers/msmarco-distilbert-base-v4 and are newly initialized: ['loss_fn.u', 'loss_fn.v']\n",
      "You should probably TRAIN this model on a down-stream task to be able to use it for predictions and inference.\n"
     ]
    }
   ],
   "source": [
    "bsz = max(args.per_device_train_batch_size, args.per_device_eval_batch_size)*torch.cuda.device_count()\n",
    "model = DBT008.from_pretrained('sentence-transformers/msmarco-distilbert-base-v4', bsz=bsz, tn_targ=10_000, ig_tok=0)"
   ]
  },
  {
   "cell_type": "code",
   "execution_count": null,
   "id": "4ef9da23-0943-4464-a5fc-005257c9c719",
   "metadata": {},
   "outputs": [
    {
     "data": {
      "text/plain": [
       "_IncompatibleKeys(missing_keys=['loss_fn.u', 'loss_fn.v'], unexpected_keys=[])"
      ]
     },
     "execution_count": null,
     "metadata": {},
     "output_type": "execute_result"
    }
   ],
   "source": [
    "from collections import OrderedDict\n",
    "\n",
    "mname = f'/scratch/scai/phd/aiz218323/Projects/xc_nlg/outputs/05-metadata-augmented-input-and-trie-for-distilbert/ngame_v-3-100_(mapped)LF-WikiSeeAlsoTitles-320K/model_network.pkl'\n",
    "m_state_dict, msd = OrderedDict(), torch.load(mname)\n",
    "for k in msd:\n",
    "    o = k.split('.')\n",
    "    if o[0] == 'encoder': m_state_dict['distilbert.'+'.'.join(o[5:])] = msd[k]\n",
    "model.load_state_dict(m_state_dict, strict=False)\n"
   ]
  },
  {
   "cell_type": "code",
   "execution_count": null,
   "id": "3008a1cc-154d-424e-a51c-bf53a9f41e67",
   "metadata": {},
   "outputs": [],
   "source": [
    "metric = PrecRecl(test_dset.n_lbl, test_dset.data.data_lbl_filterer, prop=block.train.dset.data.data_lbl,\n",
    "                  pk=10, rk=200, rep_pk=[1, 3, 5, 10], rep_rk=[2, 3, 10, 50, 100, 200])"
   ]
  },
  {
   "cell_type": "code",
   "execution_count": null,
   "id": "af7287c0-ec2e-4074-918e-71f25512a2df",
   "metadata": {},
   "outputs": [],
   "source": [
    "metric = PrecRecl(block.n_lbl, block.test.data_lbl_filterer, prop=block.train.dset.data.data_lbl,\n",
    "                  pk=10, rk=200, rep_pk=[1, 3, 5, 10], rep_rk=[2, 3, 10, 50, 100, 200])"
   ]
  },
  {
   "cell_type": "code",
   "execution_count": null,
   "id": "1b44efee-0b0c-4118-9814-82077b72ced0",
   "metadata": {},
   "outputs": [
    {
     "name": "stderr",
     "output_type": "stream",
     "text": [
      "/scratch/scai/phd/aiz218323/anaconda3/envs/xc_nlg/lib/python3.9/site-packages/accelerate/accelerator.py:432: FutureWarning: Passing the following arguments to `Accelerator` is deprecated and will be removed in version 1.0 of Accelerate: dict_keys(['dispatch_batches', 'split_batches', 'even_batches', 'use_seedable_sampler']). Please pass an `accelerate.DataLoaderConfiguration` instead: \n",
      "dataloader_config = DataLoaderConfiguration(dispatch_batches=None, split_batches=False, even_batches=True, use_seedable_sampler=True)\n",
      "  warnings.warn(\n",
      "Detected kernel version 3.10.0, which is below the recommended minimum of 5.5.0; this can cause the process to hang. It is recommended to upgrade the kernel to the minimum version or higher.\n"
     ]
    }
   ],
   "source": [
    "learn = XCLearner(\n",
    "    model=model, \n",
    "    args=args,\n",
    "    data_collator=block.collator, \n",
    "    compute_metrics=metric,\n",
    ")"
   ]
  },
  {
   "cell_type": "markdown",
   "id": "43ab8adb-03f1-443c-86b8-03132dead64b",
   "metadata": {},
   "source": [
    "## Reranking"
   ]
  },
  {
   "cell_type": "code",
   "execution_count": null,
   "id": "cd341dde-36de-4d23-be18-e4fe9db2e47f",
   "metadata": {},
   "outputs": [],
   "source": [
    "import torch.nn.functional as F"
   ]
  },
  {
   "cell_type": "code",
   "execution_count": null,
   "id": "5c1bf2fa-67eb-4583-a87d-d5a8ae65bf31",
   "metadata": {},
   "outputs": [
    {
     "data": {
      "application/vnd.jupyter.widget-view+json": {
       "model_id": "e79b7783d6f74ebd8c93ebb708ad1da5",
       "version_major": 2,
       "version_minor": 0
      },
      "text/plain": [
       "  0%|          | 0/63 [00:00<?, ?it/s]"
      ]
     },
     "metadata": {},
     "output_type": "display_data"
    }
   ],
   "source": [
    "data_repr = F.normalize(learn.get_representation(learn.get_test_dataloader(test_dset)), dim=1)"
   ]
  },
  {
   "cell_type": "code",
   "execution_count": null,
   "id": "76743679-cca1-48d2-82ff-ee189e85b7f6",
   "metadata": {},
   "outputs": [
    {
     "data": {
      "application/vnd.jupyter.widget-view+json": {
       "model_id": "6d20fbd9c7fc4ec88b3ad85dbf65cf66",
       "version_major": 2,
       "version_minor": 0
      },
      "text/plain": [
       "  0%|          | 0/9761 [00:00<?, ?it/s]"
      ]
     },
     "metadata": {},
     "output_type": "display_data"
    }
   ],
   "source": [
    "lbl_repr = F.normalize(learn.get_representation(learn.get_test_dataloader(test_dset.lbl_dset)), dim=1)"
   ]
  },
  {
   "cell_type": "code",
   "execution_count": null,
   "id": "546e5602-64b9-44e2-b377-8b6b2f815d82",
   "metadata": {},
   "outputs": [],
   "source": [
    "pred = torch.load(f'{dump_dir}/distilbert-base-uncased_RB33-NAR-3+8-2_(mapped)LF-WikiSeeAlsoTitles-320K/checkpoint-190000/\\\n",
    "predictions/test_lbl_atrie-hlk_n-bm-20_n-smp-2000_seed-50.pth')"
   ]
  },
  {
   "cell_type": "code",
   "execution_count": null,
   "id": "30461eaa-6489-4e9d-93bb-46d9f9cd060d",
   "metadata": {},
   "outputs": [],
   "source": []
  },
  {
   "cell_type": "code",
   "execution_count": null,
   "id": "6f0412dc-bd2a-44cb-b504-7bc0ee7c9ee7",
   "metadata": {},
   "outputs": [
    {
     "data": {
      "application/vnd.jupyter.widget-view+json": {
       "model_id": "f4af3f4d86c1412e85c9e5560fbb3205",
       "version_major": 2,
       "version_minor": 0
      },
      "text/plain": [
       "  0%|          | 0/2000 [00:00<?, ?it/s]"
      ]
     },
     "metadata": {},
     "output_type": "display_data"
    }
   ],
   "source": [
    "from tqdm.auto import tqdm\n",
    "sc,p = [],0\n",
    "for q,d in tqdm(zip(pred.pred_ptr.cumsum(0),data_repr), total=data_repr.shape[0]):\n",
    "    sc.append(d@lbl_repr[pred.pred_idx[p:q]].T);p=q\n",
    "sc = torch.cat(sc)"
   ]
  },
  {
   "cell_type": "code",
   "execution_count": null,
   "id": "e7fa537a-d4f8-44cf-9f24-9db50ed4626d",
   "metadata": {},
   "outputs": [],
   "source": [
    "o = {\n",
    "    'pred_idx': pred.pred_idx,\n",
    "    'pred_ptr': pred.pred_ptr,\n",
    "    'pred_score': pred.pred_score,\n",
    "}\n",
    "o['targ_idx'] = torch.tensor(test_dset.data.data_lbl.indices, dtype=torch.long)\n",
    "o['targ_ptr'] = torch.tensor([o.getnnz() for o in test_dset.data.data_lbl])"
   ]
  },
  {
   "cell_type": "code",
   "execution_count": null,
   "id": "01002f8b-32f6-42ae-9a81-6ba68a8626e0",
   "metadata": {},
   "outputs": [
    {
     "name": "stderr",
     "output_type": "stream",
     "text": [
      "/scratch/scai/phd/aiz218323/anaconda3/envs/xc_nlg/lib/python3.9/site-packages/scipy/sparse/_index.py:145: SparseEfficiencyWarning: Changing the sparsity structure of a csr_matrix is expensive. lil_matrix is more efficient.\n",
      "  self._set_arrayXarray(i, j, x)\n"
     ]
    }
   ],
   "source": [
    "m = metric(**o)"
   ]
  },
  {
   "cell_type": "code",
   "execution_count": null,
   "id": "134f3f27-d111-4faa-bd75-a28bb8ffc973",
   "metadata": {},
   "outputs": [
    {
     "data": {
      "text/html": [
       "<div>\n",
       "<style scoped>\n",
       "    .dataframe tbody tr th:only-of-type {\n",
       "        vertical-align: middle;\n",
       "    }\n",
       "\n",
       "    .dataframe tbody tr th {\n",
       "        vertical-align: top;\n",
       "    }\n",
       "\n",
       "    .dataframe thead th {\n",
       "        text-align: right;\n",
       "    }\n",
       "</style>\n",
       "<table border=\"1\" class=\"dataframe\">\n",
       "  <thead>\n",
       "    <tr style=\"text-align: right;\">\n",
       "      <th></th>\n",
       "      <th>P@1</th>\n",
       "      <th>P@3</th>\n",
       "      <th>P@5</th>\n",
       "      <th>P@10</th>\n",
       "      <th>N@1</th>\n",
       "      <th>N@3</th>\n",
       "      <th>N@5</th>\n",
       "      <th>N@10</th>\n",
       "      <th>PSP@1</th>\n",
       "      <th>PSP@3</th>\n",
       "      <th>PSP@5</th>\n",
       "      <th>PSP@10</th>\n",
       "      <th>PSN@1</th>\n",
       "      <th>PSN@3</th>\n",
       "      <th>PSN@5</th>\n",
       "      <th>PSN@10</th>\n",
       "      <th>R@2</th>\n",
       "      <th>R@3</th>\n",
       "      <th>R@10</th>\n",
       "      <th>R@50</th>\n",
       "      <th>R@100</th>\n",
       "      <th>R@200</th>\n",
       "    </tr>\n",
       "  </thead>\n",
       "  <tbody>\n",
       "    <tr>\n",
       "      <th>0</th>\n",
       "      <td>15.35</td>\n",
       "      <td>8.383333</td>\n",
       "      <td>6.01</td>\n",
       "      <td>3.58</td>\n",
       "      <td>15.35</td>\n",
       "      <td>14.098239</td>\n",
       "      <td>14.327021</td>\n",
       "      <td>15.020876</td>\n",
       "      <td>9.068933</td>\n",
       "      <td>8.342776</td>\n",
       "      <td>8.727474</td>\n",
       "      <td>9.512342</td>\n",
       "      <td>9.068933</td>\n",
       "      <td>9.154033</td>\n",
       "      <td>9.634885</td>\n",
       "      <td>10.332335</td>\n",
       "      <td>11.184845</td>\n",
       "      <td>13.030487</td>\n",
       "      <td>16.894031</td>\n",
       "      <td>23.373788</td>\n",
       "      <td>27.988618</td>\n",
       "      <td>34.570228</td>\n",
       "    </tr>\n",
       "  </tbody>\n",
       "</table>\n",
       "</div>"
      ],
      "text/plain": [
       "     P@1       P@3   P@5  P@10    N@1        N@3        N@5       N@10  \\\n",
       "0  15.35  8.383333  6.01  3.58  15.35  14.098239  14.327021  15.020876   \n",
       "\n",
       "      PSP@1     PSP@3     PSP@5    PSP@10     PSN@1     PSN@3     PSN@5  \\\n",
       "0  9.068933  8.342776  8.727474  9.512342  9.068933  9.154033  9.634885   \n",
       "\n",
       "      PSN@10        R@2        R@3       R@10       R@50      R@100      R@200  \n",
       "0  10.332335  11.184845  13.030487  16.894031  23.373788  27.988618  34.570228  "
      ]
     },
     "metadata": {},
     "output_type": "display_data"
    }
   ],
   "source": [
    "with pd.option_context('display.max_columns', None):\n",
    "    display(pd.DataFrame([m])[sorted_metric(m, order=['P', 'N', 'PSP', 'PSN'])] * 100)"
   ]
  },
  {
   "cell_type": "code",
   "execution_count": null,
   "id": "d0e5a2e0-1432-4968-bf83-6598cea9ff88",
   "metadata": {},
   "outputs": [],
   "source": [
    "o['pred_score'] = sc"
   ]
  },
  {
   "cell_type": "code",
   "execution_count": null,
   "id": "b6dba690-7cff-4f46-a364-b3f518948f54",
   "metadata": {},
   "outputs": [
    {
     "name": "stderr",
     "output_type": "stream",
     "text": [
      "/scratch/scai/phd/aiz218323/anaconda3/envs/xc_nlg/lib/python3.9/site-packages/scipy/sparse/_index.py:145: SparseEfficiencyWarning: Changing the sparsity structure of a csr_matrix is expensive. lil_matrix is more efficient.\n",
      "  self._set_arrayXarray(i, j, x)\n"
     ]
    }
   ],
   "source": [
    "m = metric(**o)"
   ]
  },
  {
   "cell_type": "code",
   "execution_count": null,
   "id": "810984ad-44bd-4451-830c-631c474ee208",
   "metadata": {},
   "outputs": [],
   "source": []
  },
  {
   "cell_type": "code",
   "execution_count": null,
   "id": "1321ad11-aa10-497f-8eed-2212396df54b",
   "metadata": {},
   "outputs": [
    {
     "data": {
      "text/html": [
       "<div>\n",
       "<style scoped>\n",
       "    .dataframe tbody tr th:only-of-type {\n",
       "        vertical-align: middle;\n",
       "    }\n",
       "\n",
       "    .dataframe tbody tr th {\n",
       "        vertical-align: top;\n",
       "    }\n",
       "\n",
       "    .dataframe thead th {\n",
       "        text-align: right;\n",
       "    }\n",
       "</style>\n",
       "<table border=\"1\" class=\"dataframe\">\n",
       "  <thead>\n",
       "    <tr style=\"text-align: right;\">\n",
       "      <th></th>\n",
       "      <th>P@1</th>\n",
       "      <th>P@3</th>\n",
       "      <th>P@5</th>\n",
       "      <th>P@10</th>\n",
       "      <th>N@1</th>\n",
       "      <th>N@3</th>\n",
       "      <th>N@5</th>\n",
       "      <th>N@10</th>\n",
       "      <th>PSP@1</th>\n",
       "      <th>PSP@3</th>\n",
       "      <th>PSP@5</th>\n",
       "      <th>PSP@10</th>\n",
       "      <th>PSN@1</th>\n",
       "      <th>PSN@3</th>\n",
       "      <th>PSN@5</th>\n",
       "      <th>PSN@10</th>\n",
       "      <th>R@2</th>\n",
       "      <th>R@3</th>\n",
       "      <th>R@10</th>\n",
       "      <th>R@50</th>\n",
       "      <th>R@100</th>\n",
       "      <th>R@200</th>\n",
       "    </tr>\n",
       "  </thead>\n",
       "  <tbody>\n",
       "    <tr>\n",
       "      <th>0</th>\n",
       "      <td>24.5</td>\n",
       "      <td>17.666667</td>\n",
       "      <td>13.58</td>\n",
       "      <td>8.855</td>\n",
       "      <td>24.5</td>\n",
       "      <td>25.789425</td>\n",
       "      <td>26.945745</td>\n",
       "      <td>29.209173</td>\n",
       "      <td>14.976389</td>\n",
       "      <td>18.060414</td>\n",
       "      <td>20.306584</td>\n",
       "      <td>24.901051</td>\n",
       "      <td>14.976388</td>\n",
       "      <td>17.913218</td>\n",
       "      <td>19.575518</td>\n",
       "      <td>21.996141</td>\n",
       "      <td>19.536944</td>\n",
       "      <td>24.318514</td>\n",
       "      <td>35.755559</td>\n",
       "      <td>44.097798</td>\n",
       "      <td>45.737241</td>\n",
       "      <td>46.459775</td>\n",
       "    </tr>\n",
       "  </tbody>\n",
       "</table>\n",
       "</div>"
      ],
      "text/plain": [
       "    P@1        P@3    P@5   P@10   N@1        N@3        N@5       N@10  \\\n",
       "0  24.5  17.666667  13.58  8.855  24.5  25.789425  26.945745  29.209173   \n",
       "\n",
       "       PSP@1      PSP@3      PSP@5     PSP@10      PSN@1      PSN@3  \\\n",
       "0  14.976389  18.060414  20.306584  24.901051  14.976388  17.913218   \n",
       "\n",
       "       PSN@5     PSN@10        R@2        R@3       R@10       R@50  \\\n",
       "0  19.575518  21.996141  19.536944  24.318514  35.755559  44.097798   \n",
       "\n",
       "       R@100      R@200  \n",
       "0  45.737241  46.459775  "
      ]
     },
     "metadata": {},
     "output_type": "display_data"
    }
   ],
   "source": [
    "with pd.option_context('display.max_columns', None):\n",
    "    display(pd.DataFrame([m])[sorted_metric(m, order=['P', 'N', 'PSP', 'PSN'])] * 100)"
   ]
  },
  {
   "cell_type": "code",
   "execution_count": null,
   "id": "623fe512-52e0-4e52-bae6-033aeaa2d8a2",
   "metadata": {},
   "outputs": [],
   "source": []
  }
 ],
 "metadata": {
  "kernelspec": {
   "display_name": "python3",
   "language": "python",
   "name": "python3"
  }
 },
 "nbformat": 4,
 "nbformat_minor": 5
}
