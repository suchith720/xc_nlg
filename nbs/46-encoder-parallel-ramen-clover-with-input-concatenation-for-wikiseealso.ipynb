{
 "cells": [
  {
   "cell_type": "markdown",
   "id": "6e3a0f4c-1cfb-4a14-b8f2-fdea31c390ec",
   "metadata": {},
   "source": [
    "# Ramen Clover with input concatenation"
   ]
  },
  {
   "cell_type": "code",
   "execution_count": 1,
   "id": "ddda97e8-16ac-42c7-9ad4-f981e21c0aa2",
   "metadata": {},
   "outputs": [],
   "source": [
    "#| default_exp 46-encoder-parallel-ramen-clover-with-input-concatenation-for-wikiseealso"
   ]
  },
  {
   "cell_type": "code",
   "execution_count": 2,
   "id": "3f35d8be-1323-400a-b78e-d0a4d2697801",
   "metadata": {},
   "outputs": [],
   "source": [
    "%load_ext autoreload\n",
    "%autoreload 2\n",
    "\n",
    "from nbdev.showdoc import *\n",
    "import nbdev; nbdev.nbdev_export()"
   ]
  },
  {
   "cell_type": "code",
   "execution_count": 3,
   "id": "d685e35e-9a13-4186-b7f4-b831b10086bb",
   "metadata": {},
   "outputs": [],
   "source": [
    "#| export\n",
    "import os,torch, torch.multiprocessing as mp, pickle\n",
    "from xcai.basics import *\n",
    "from xcai.models.PPP0XX import DBT017"
   ]
  },
  {
   "cell_type": "code",
   "execution_count": 4,
   "id": "e0c924c6",
   "metadata": {},
   "outputs": [],
   "source": [
    "os.environ['WANDB_MODE'] = 'disabled'"
   ]
  },
  {
   "cell_type": "code",
   "execution_count": 5,
   "id": "53768670-9905-46b0-9a6d-b6e91d50b918",
   "metadata": {},
   "outputs": [],
   "source": [
    "#| export\n",
    "os.environ['CUDA_VISIBLE_DEVICES'] = '10,11'\n",
    "os.environ['WANDB_PROJECT']='xc-nlg_25-ramen-style-clover-training-with-input-augmentation'"
   ]
  },
  {
   "cell_type": "code",
   "execution_count": 6,
   "id": "6fec0f20",
   "metadata": {},
   "outputs": [],
   "source": [
    "#| export\n",
    "data_dir = '/home/aiscuser/scratch/datasets'"
   ]
  },
  {
   "cell_type": "code",
   "execution_count": 7,
   "id": "ba38fcb0-3ebf-4f79-aa20-1a1321b791c5",
   "metadata": {},
   "outputs": [
    {
     "name": "stderr",
     "output_type": "stream",
     "text": [
      "/home/aiscuser/.local/lib/python3.9/site-packages/xclib-0.97-py3.9-linux-x86_64.egg/xclib/data/data_utils.py:263: UserWarning: Header mis-match from inferred shape!\n",
      "  warnings.warn(\"Header mis-match from inferred shape!\")\n",
      "/opt/conda/envs/ptca/lib/python3.9/site-packages/scipy/sparse/_index.py:146: SparseEfficiencyWarning: Changing the sparsity structure of a csr_matrix is expensive. lil_matrix is more efficient.\n",
      "  self._set_arrayXarray(i, j, x)\n"
     ]
    }
   ],
   "source": [
    "block = XCBlock.from_cfg(data_dir, 'data_metas', valid_pct=0.001, tfm='rm', tokenizer='distilbert-base-uncased', \n",
    "                         smp_features=[('lbl2data|cat2lbl2data',1, 1), ('cat2data',1, 1)], \n",
    "                         n_data_meta_samples=50, n_lbl_meta_samples=50)"
   ]
  },
  {
   "cell_type": "code",
   "execution_count": 7,
   "id": "fea0ced7",
   "metadata": {},
   "outputs": [],
   "source": [
    "#| export\n",
    "pkl_dir = f'{data_dir}/processed/'"
   ]
  },
  {
   "cell_type": "code",
   "execution_count": 9,
   "id": "78d9547f",
   "metadata": {},
   "outputs": [],
   "source": [
    "with open(f'{pkl_dir}/wikiseealso_data-metas_distilbert-base-uncased_rm_ramen-cat-encoder-parallel.pkl', 'wb') as file: \n",
    "    pickle.dump(block, file)"
   ]
  },
  {
   "cell_type": "code",
   "execution_count": 8,
   "id": "30f3c4e5",
   "metadata": {},
   "outputs": [],
   "source": [
    "#| export\n",
    "with open(f'{pkl_dir}/wikiseealso_data-metas_distilbert-base-uncased_rm_ramen-cat-encoder-parallel.pkl', 'rb') as file: \n",
    "    block = pickle.load(file)"
   ]
  },
  {
   "cell_type": "code",
   "execution_count": 9,
   "id": "1b895023",
   "metadata": {},
   "outputs": [
    {
     "data": {
      "text/html": [
       "\n",
       "<style>\n",
       "    /* Turns off some styling */\n",
       "    progress {\n",
       "        /* gets rid of default border in Firefox and Opera. */\n",
       "        border: none;\n",
       "        /* Needs to be in here for Safari polyfill so background images work as expected. */\n",
       "        background-size: auto;\n",
       "    }\n",
       "    progress:not([value]), progress:not([value])::-webkit-progress-bar {\n",
       "        background: repeating-linear-gradient(45deg, #7e7e7e, #7e7e7e 10px, #5c5c5c 10px, #5c5c5c 20px);\n",
       "    }\n",
       "    .progress-bar-interrupted, .progress-bar-interrupted::-webkit-progress-bar {\n",
       "        background: #F44336;\n",
       "    }\n",
       "</style>\n"
      ],
      "text/plain": [
       "<IPython.core.display.HTML object>"
      ]
     },
     "metadata": {},
     "output_type": "display_data"
    },
    {
     "data": {
      "text/html": [],
      "text/plain": [
       "<IPython.core.display.HTML object>"
      ]
     },
     "metadata": {},
     "output_type": "display_data"
    },
    {
     "data": {
      "text/html": [
       "\n",
       "<style>\n",
       "    /* Turns off some styling */\n",
       "    progress {\n",
       "        /* gets rid of default border in Firefox and Opera. */\n",
       "        border: none;\n",
       "        /* Needs to be in here for Safari polyfill so background images work as expected. */\n",
       "        background-size: auto;\n",
       "    }\n",
       "    progress:not([value]), progress:not([value])::-webkit-progress-bar {\n",
       "        background: repeating-linear-gradient(45deg, #7e7e7e, #7e7e7e 10px, #5c5c5c 10px, #5c5c5c 20px);\n",
       "    }\n",
       "    .progress-bar-interrupted, .progress-bar-interrupted::-webkit-progress-bar {\n",
       "        background: #F44336;\n",
       "    }\n",
       "</style>\n"
      ],
      "text/plain": [
       "<IPython.core.display.HTML object>"
      ]
     },
     "metadata": {},
     "output_type": "display_data"
    },
    {
     "data": {
      "text/html": [
       "\n",
       "    <div>\n",
       "      <progress value='692389' class='' max='692389' style='width:300px; height:20px; vertical-align: middle;'></progress>\n",
       "      100.00% [692389/692389 00:57&lt;00:00]\n",
       "    </div>\n",
       "    "
      ],
      "text/plain": [
       "<IPython.core.display.HTML object>"
      ]
     },
     "metadata": {},
     "output_type": "display_data"
    },
    {
     "data": {
      "text/html": [
       "\n",
       "<style>\n",
       "    /* Turns off some styling */\n",
       "    progress {\n",
       "        /* gets rid of default border in Firefox and Opera. */\n",
       "        border: none;\n",
       "        /* Needs to be in here for Safari polyfill so background images work as expected. */\n",
       "        background-size: auto;\n",
       "    }\n",
       "    progress:not([value]), progress:not([value])::-webkit-progress-bar {\n",
       "        background: repeating-linear-gradient(45deg, #7e7e7e, #7e7e7e 10px, #5c5c5c 10px, #5c5c5c 20px);\n",
       "    }\n",
       "    .progress-bar-interrupted, .progress-bar-interrupted::-webkit-progress-bar {\n",
       "        background: #F44336;\n",
       "    }\n",
       "</style>\n"
      ],
      "text/plain": [
       "<IPython.core.display.HTML object>"
      ]
     },
     "metadata": {},
     "output_type": "display_data"
    },
    {
     "data": {
      "text/html": [
       "\n",
       "    <div>\n",
       "      <progress value='692389' class='' max='692389' style='width:300px; height:20px; vertical-align: middle;'></progress>\n",
       "      100.00% [692389/692389 00:52&lt;00:00]\n",
       "    </div>\n",
       "    "
      ],
      "text/plain": [
       "<IPython.core.display.HTML object>"
      ]
     },
     "metadata": {},
     "output_type": "display_data"
    },
    {
     "data": {
      "text/html": [
       "\n",
       "<style>\n",
       "    /* Turns off some styling */\n",
       "    progress {\n",
       "        /* gets rid of default border in Firefox and Opera. */\n",
       "        border: none;\n",
       "        /* Needs to be in here for Safari polyfill so background images work as expected. */\n",
       "        background-size: auto;\n",
       "    }\n",
       "    progress:not([value]), progress:not([value])::-webkit-progress-bar {\n",
       "        background: repeating-linear-gradient(45deg, #7e7e7e, #7e7e7e 10px, #5c5c5c 10px, #5c5c5c 20px);\n",
       "    }\n",
       "    .progress-bar-interrupted, .progress-bar-interrupted::-webkit-progress-bar {\n",
       "        background: #F44336;\n",
       "    }\n",
       "</style>\n"
      ],
      "text/plain": [
       "<IPython.core.display.HTML object>"
      ]
     },
     "metadata": {},
     "output_type": "display_data"
    },
    {
     "data": {
      "text/html": [
       "\n",
       "    <div>\n",
       "      <progress value='682' class='' max='682' style='width:300px; height:20px; vertical-align: middle;'></progress>\n",
       "      100.00% [682/682 00:00&lt;00:00]\n",
       "    </div>\n",
       "    "
      ],
      "text/plain": [
       "<IPython.core.display.HTML object>"
      ]
     },
     "metadata": {},
     "output_type": "display_data"
    },
    {
     "data": {
      "text/html": [
       "\n",
       "<style>\n",
       "    /* Turns off some styling */\n",
       "    progress {\n",
       "        /* gets rid of default border in Firefox and Opera. */\n",
       "        border: none;\n",
       "        /* Needs to be in here for Safari polyfill so background images work as expected. */\n",
       "        background-size: auto;\n",
       "    }\n",
       "    progress:not([value]), progress:not([value])::-webkit-progress-bar {\n",
       "        background: repeating-linear-gradient(45deg, #7e7e7e, #7e7e7e 10px, #5c5c5c 10px, #5c5c5c 20px);\n",
       "    }\n",
       "    .progress-bar-interrupted, .progress-bar-interrupted::-webkit-progress-bar {\n",
       "        background: #F44336;\n",
       "    }\n",
       "</style>\n"
      ],
      "text/plain": [
       "<IPython.core.display.HTML object>"
      ]
     },
     "metadata": {},
     "output_type": "display_data"
    },
    {
     "data": {
      "text/html": [
       "\n",
       "    <div>\n",
       "      <progress value='682' class='' max='682' style='width:300px; height:20px; vertical-align: middle;'></progress>\n",
       "      100.00% [682/682 00:00&lt;00:00]\n",
       "    </div>\n",
       "    "
      ],
      "text/plain": [
       "<IPython.core.display.HTML object>"
      ]
     },
     "metadata": {},
     "output_type": "display_data"
    },
    {
     "data": {
      "text/html": [
       "\n",
       "<style>\n",
       "    /* Turns off some styling */\n",
       "    progress {\n",
       "        /* gets rid of default border in Firefox and Opera. */\n",
       "        border: none;\n",
       "        /* Needs to be in here for Safari polyfill so background images work as expected. */\n",
       "        background-size: auto;\n",
       "    }\n",
       "    progress:not([value]), progress:not([value])::-webkit-progress-bar {\n",
       "        background: repeating-linear-gradient(45deg, #7e7e7e, #7e7e7e 10px, #5c5c5c 10px, #5c5c5c 20px);\n",
       "    }\n",
       "    .progress-bar-interrupted, .progress-bar-interrupted::-webkit-progress-bar {\n",
       "        background: #F44336;\n",
       "    }\n",
       "</style>\n"
      ],
      "text/plain": [
       "<IPython.core.display.HTML object>"
      ]
     },
     "metadata": {},
     "output_type": "display_data"
    },
    {
     "data": {
      "text/html": [
       "\n",
       "    <div>\n",
       "      <progress value='177515' class='' max='177515' style='width:300px; height:20px; vertical-align: middle;'></progress>\n",
       "      100.00% [177515/177515 00:15&lt;00:00]\n",
       "    </div>\n",
       "    "
      ],
      "text/plain": [
       "<IPython.core.display.HTML object>"
      ]
     },
     "metadata": {},
     "output_type": "display_data"
    },
    {
     "data": {
      "text/html": [
       "\n",
       "<style>\n",
       "    /* Turns off some styling */\n",
       "    progress {\n",
       "        /* gets rid of default border in Firefox and Opera. */\n",
       "        border: none;\n",
       "        /* Needs to be in here for Safari polyfill so background images work as expected. */\n",
       "        background-size: auto;\n",
       "    }\n",
       "    progress:not([value]), progress:not([value])::-webkit-progress-bar {\n",
       "        background: repeating-linear-gradient(45deg, #7e7e7e, #7e7e7e 10px, #5c5c5c 10px, #5c5c5c 20px);\n",
       "    }\n",
       "    .progress-bar-interrupted, .progress-bar-interrupted::-webkit-progress-bar {\n",
       "        background: #F44336;\n",
       "    }\n",
       "</style>\n"
      ],
      "text/plain": [
       "<IPython.core.display.HTML object>"
      ]
     },
     "metadata": {},
     "output_type": "display_data"
    },
    {
     "data": {
      "text/html": [
       "\n",
       "    <div>\n",
       "      <progress value='177515' class='' max='177515' style='width:300px; height:20px; vertical-align: middle;'></progress>\n",
       "      100.00% [177515/177515 00:13&lt;00:00]\n",
       "    </div>\n",
       "    "
      ],
      "text/plain": [
       "<IPython.core.display.HTML object>"
      ]
     },
     "metadata": {},
     "output_type": "display_data"
    }
   ],
   "source": [
    "#| export\n",
    "block = AugmentMetaInputIdsTfm.apply(block, 'hlk_meta', 32, True)\n",
    "\n",
    "block.train.dset.data.data_info['input_ids'] = block.train.dset.data.data_info['input_ids_aug_hlk']\n",
    "block.train.dset.data.data_info['attention_mask'] = block.train.dset.data.data_info['attention_mask_aug_hlk']\n",
    "\n",
    "block.test.dset.data.data_info['input_ids'] = block.test.dset.data.data_info['input_ids_aug_hlk']\n",
    "block.test.dset.data.data_info['attention_mask'] = block.test.dset.data.data_info['attention_mask_aug_hlk']"
   ]
  },
  {
   "cell_type": "code",
   "execution_count": 14,
   "id": "73b6a059-3409-4c00-a575-dcdb5775adc9",
   "metadata": {},
   "outputs": [
    {
     "name": "stderr",
     "output_type": "stream",
     "text": [
      "/opt/conda/envs/ptca/lib/python3.9/site-packages/transformers/training_args.py:1474: FutureWarning: `evaluation_strategy` is deprecated and will be removed in version 4.46 of 🤗 Transformers. Use `eval_strategy` instead\n",
      "  warnings.warn(\n"
     ]
    }
   ],
   "source": [
    "#| export\n",
    "args = XCLearningArguments(\n",
    "    output_dir='/home/aiscuser/outputs/46-encoder-parallel-ramen-clover-with-input-concatenation-for-wikiseealso-1-0',\n",
    "    logging_first_step=True,\n",
    "    per_device_train_batch_size=600,\n",
    "    per_device_eval_batch_size=100,\n",
    "    representation_num_beams=200,\n",
    "    representation_accumulation_steps=1,\n",
    "    save_strategy=\"steps\",\n",
    "    evaluation_strategy='steps',\n",
    "    eval_steps=1000,\n",
    "    save_steps=1000,\n",
    "    save_total_limit=5,\n",
    "    num_train_epochs=300,\n",
    "    predict_with_representation=True,\n",
    "    adam_epsilon=1e-6,\n",
    "    warmup_steps=100,\n",
    "    weight_decay=0.01,\n",
    "    learning_rate=2e-4,\n",
    "    generation_num_beams=10,\n",
    "    generation_length_penalty=1.5,\n",
    "    predict_with_generation=True,\n",
    "    representation_search_type='INDEX',\n",
    "    group_by_cluster=True,\n",
    "    num_clustering_warmup_epochs=10,\n",
    "    num_cluster_update_epochs=5,\n",
    "    num_cluster_size_update_epochs=10,\n",
    "    clustering_type='EXPO',\n",
    "    minimum_cluster_size=1,\n",
    "    maximum_cluster_size=300,\n",
    "    output_concatenation_weight=1.0,\n",
    "    metric_for_best_model='P@1',\n",
    "    load_best_model_at_end=True,\n",
    "    target_indices_key='plbl2data_idx',\n",
    "    target_pointer_key='plbl2data_data2ptr',\n",
    "    fp16=True,\n",
    "    label_names=['cat2data_idx', 'cat2data_input_ids', 'cat2data_attention_mask',\n",
    "                 'cat2lbl2data_idx', 'cat2lbl2data_input_ids', 'cat2lbl2data_attention_mask'],\n",
    ")"
   ]
  },
  {
   "cell_type": "code",
   "execution_count": 15,
   "id": "cfbc728f",
   "metadata": {},
   "outputs": [],
   "source": [
    "#| export\n",
    "test_dset = block.test.dset.sample(n=2000, seed=50)\n",
    "metric = PrecRecl(block.n_lbl, test_dset.data.data_lbl_filterer, prop=block.train.dset.data.data_lbl,\n",
    "                  pk=10, rk=200, rep_pk=[1, 3, 5, 10], rep_rk=[10, 100, 200])"
   ]
  },
  {
   "cell_type": "code",
   "execution_count": 16,
   "id": "a12171f9",
   "metadata": {},
   "outputs": [
    {
     "name": "stderr",
     "output_type": "stream",
     "text": [
      "Some weights of DBT017 were not initialized from the model checkpoint at distilbert-base-uncased and are newly initialized: ['encoder.module.dr_layer_norm.bias', 'encoder.module.dr_layer_norm.weight', 'encoder.module.dr_projector.bias', 'encoder.module.dr_projector.weight', 'encoder.module.dr_transform.bias', 'encoder.module.dr_transform.weight', 'encoder.module.vocab_projector.weight', 'vocab_projector.weight']\n",
      "You should probably TRAIN this model on a down-stream task to be able to use it for predictions and inference.\n"
     ]
    }
   ],
   "source": [
    "#| export\n",
    "bsz = max(args.per_device_train_batch_size, args.per_device_eval_batch_size)*torch.cuda.device_count()\n",
    "\n",
    "model = DBT017.from_pretrained('distilbert-base-uncased', ig_tok=0, bsz=bsz, tn_targ=1000, margin=0.3, tau=0.1, \n",
    "                               n_negatives=5, apply_softmax=True, lw=0.01, m_lw=0.3, meta_prefix='cat', \n",
    "                               tie_word_embeddings=False)\n",
    "model.init_dr_head()"
   ]
  },
  {
   "cell_type": "code",
   "execution_count": 13,
   "id": "c46e67e1",
   "metadata": {},
   "outputs": [
    {
     "data": {
      "application/vnd.jupyter.widget-view+json": {
       "model_id": "a2ed7bdc8ab74b8b806f7b1207c1d216",
       "version_major": 2,
       "version_minor": 0
      },
      "text/plain": [
       "  0%|          | 0/312330 [00:00<?, ?it/s]"
      ]
     },
     "metadata": {},
     "output_type": "display_data"
    }
   ],
   "source": [
    "#| export\n",
    "trie = XCTrie.from_block(block)"
   ]
  },
  {
   "cell_type": "code",
   "execution_count": 17,
   "id": "01d48f78",
   "metadata": {},
   "outputs": [],
   "source": [
    "#| export\n",
    "learn = XCLearner(\n",
    "    model=model, \n",
    "    args=args,\n",
    "    trie=trie,\n",
    "    train_dataset=block.train.dset,\n",
    "    eval_dataset=test_dset,\n",
    "    data_collator=block.collator,\n",
    "    compute_metrics=metric,\n",
    ")"
   ]
  },
  {
   "cell_type": "code",
   "execution_count": null,
   "id": "e6e1eaed",
   "metadata": {},
   "outputs": [],
   "source": []
  },
  {
   "cell_type": "code",
   "execution_count": null,
   "id": "aba00769",
   "metadata": {},
   "outputs": [
    {
     "name": "stdout",
     "output_type": "stream",
     "text": [
      "[2024-05-31 22:22:28,948] [INFO] [real_accelerator.py:110:get_accelerator] Setting ds_accelerator to cuda (auto detect)\n"
     ]
    },
    {
     "name": "stderr",
     "output_type": "stream",
     "text": [
      "wandb: WARNING The `run_name` is currently set to the same value as `TrainingArguments.output_dir`. If this was not intended, please specify a different run name by setting the `TrainingArguments.run_name` parameter.\n"
     ]
    },
    {
     "name": "stdout",
     "output_type": "stream",
     "text": [
      "node-0:2621719:2621719 [0] NCCL INFO Bootstrap : Using eth0:10.13.60.215<0>\n",
      "node-0:2621719:2621719 [0] NCCL INFO NET/Plugin : Plugin load (librccl-net.so) returned 2 : librccl-net.so: cannot open shared object file: No such file or directory\n",
      "node-0:2621719:2621719 [0] NCCL INFO NET/Plugin : No plugin found, using internal implementation\n",
      "node-0:2621719:2621719 [0] NCCL INFO Kernel version: 5.15.0-1042-azure\n",
      "RCCL version 2.17.1+hip5.7 HEAD:cbbb3d8+\n",
      "\n",
      "node-0:2621719:2624218 [0] /long_pathname_so_that_rpms_can_package_the_debug_info/src/extlibs/rccl/build/hipify/src/misc/ibvwrap.cc:222 NCCL WARN Call to ibv_open_device failed\n",
      "\n",
      "node-0:2621719:2624218 [0] /long_pathname_so_that_rpms_can_package_the_debug_info/src/extlibs/rccl/build/hipify/src/transport/net_ib.cc:199 NCCL WARN NET/IB : Unable to open device mlx5_0\n",
      "\n",
      "node-0:2621719:2624218 [0] /long_pathname_so_that_rpms_can_package_the_debug_info/src/extlibs/rccl/build/hipify/src/misc/ibvwrap.cc:222 NCCL WARN Call to ibv_open_device failed\n",
      "\n",
      "node-0:2621719:2624218 [0] /long_pathname_so_that_rpms_can_package_the_debug_info/src/extlibs/rccl/build/hipify/src/transport/net_ib.cc:199 NCCL WARN NET/IB : Unable to open device mlx5_1\n",
      "\n",
      "node-0:2621719:2624218 [0] /long_pathname_so_that_rpms_can_package_the_debug_info/src/extlibs/rccl/build/hipify/src/misc/ibvwrap.cc:222 NCCL WARN Call to ibv_open_device failed\n",
      "\n",
      "node-0:2621719:2624218 [0] /long_pathname_so_that_rpms_can_package_the_debug_info/src/extlibs/rccl/build/hipify/src/transport/net_ib.cc:199 NCCL WARN NET/IB : Unable to open device mlx5_2\n",
      "\n",
      "node-0:2621719:2624218 [0] /long_pathname_so_that_rpms_can_package_the_debug_info/src/extlibs/rccl/build/hipify/src/misc/ibvwrap.cc:222 NCCL WARN Call to ibv_open_device failed\n",
      "\n",
      "node-0:2621719:2624218 [0] /long_pathname_so_that_rpms_can_package_the_debug_info/src/extlibs/rccl/build/hipify/src/transport/net_ib.cc:199 NCCL WARN NET/IB : Unable to open device mlx5_3\n",
      "\n",
      "node-0:2621719:2624218 [0] /long_pathname_so_that_rpms_can_package_the_debug_info/src/extlibs/rccl/build/hipify/src/misc/ibvwrap.cc:222 NCCL WARN Call to ibv_open_device failed\n",
      "\n",
      "node-0:2621719:2624218 [0] /long_pathname_so_that_rpms_can_package_the_debug_info/src/extlibs/rccl/build/hipify/src/transport/net_ib.cc:199 NCCL WARN NET/IB : Unable to open device mlx5_4\n",
      "\n",
      "node-0:2621719:2624218 [0] /long_pathname_so_that_rpms_can_package_the_debug_info/src/extlibs/rccl/build/hipify/src/misc/ibvwrap.cc:222 NCCL WARN Call to ibv_open_device failed\n",
      "\n",
      "node-0:2621719:2624218 [0] /long_pathname_so_that_rpms_can_package_the_debug_info/src/extlibs/rccl/build/hipify/src/transport/net_ib.cc:199 NCCL WARN NET/IB : Unable to open device mlx5_5\n",
      "\n",
      "node-0:2621719:2624218 [0] /long_pathname_so_that_rpms_can_package_the_debug_info/src/extlibs/rccl/build/hipify/src/misc/ibvwrap.cc:222 NCCL WARN Call to ibv_open_device failed\n",
      "\n",
      "node-0:2621719:2624218 [0] /long_pathname_so_that_rpms_can_package_the_debug_info/src/extlibs/rccl/build/hipify/src/transport/net_ib.cc:199 NCCL WARN NET/IB : Unable to open device mlx5_6\n",
      "\n",
      "node-0:2621719:2624218 [0] /long_pathname_so_that_rpms_can_package_the_debug_info/src/extlibs/rccl/build/hipify/src/misc/ibvwrap.cc:222 NCCL WARN Call to ibv_open_device failed\n",
      "\n",
      "node-0:2621719:2624218 [0] /long_pathname_so_that_rpms_can_package_the_debug_info/src/extlibs/rccl/build/hipify/src/transport/net_ib.cc:199 NCCL WARN NET/IB : Unable to open device mlx5_7\n",
      "\n",
      "node-0:2621719:2624218 [0] /long_pathname_so_that_rpms_can_package_the_debug_info/src/extlibs/rccl/build/hipify/src/misc/ibvwrap.cc:222 NCCL WARN Call to ibv_open_device failed\n",
      "\n",
      "node-0:2621719:2624218 [0] /long_pathname_so_that_rpms_can_package_the_debug_info/src/extlibs/rccl/build/hipify/src/transport/net_ib.cc:199 NCCL WARN NET/IB : Unable to open device mlx5_8\n",
      "node-0:2621719:2624218 [0] NCCL INFO NET/IB : No device found.\n",
      "node-0:2621719:2624218 [0] NCCL INFO NET/Socket : Using [0]eth0:10.13.60.215<0>\n",
      "node-0:2621719:2624218 [0] NCCL INFO Using network Socket\n",
      "node-0:2621719:2624219 [1] NCCL INFO Using network Socket\n",
      "node-0:2621719:2624218 [0] NCCL INFO Topology detection : could not read /sys/devices/LNXSYSTM:00/LNXSYBUS:00/ACPI0004:00/VMBUS:00/47505500-000b-0000-3130-303237343043/pci000b:00/000b:00:00.0/../max_link_speed, ignoring\n",
      "node-0:2621719:2624219 [1] NCCL INFO Topology detection : could not read /sys/devices/LNXSYSTM:00/LNXSYBUS:00/ACPI0004:00/VMBUS:00/47505500-000b-0000-3130-303237343043/pci000b:00/000b:00:00.0/../max_link_speed, ignoring\n",
      "node-0:2621719:2624218 [0] NCCL INFO Topology detection : could not read /sys/devices/LNXSYSTM:00/LNXSYBUS:00/ACPI0004:00/VMBUS:00/47505500-000b-0000-3130-303237343043/pci000b:00/000b:00:00.0/../max_link_width, ignoring\n",
      "node-0:2621719:2624219 [1] NCCL INFO Topology detection : could not read /sys/devices/LNXSYSTM:00/LNXSYBUS:00/ACPI0004:00/VMBUS:00/47505500-000b-0000-3130-303237343043/pci000b:00/000b:00:00.0/../max_link_width, ignoring\n",
      "node-0:2621719:2624218 [0] NCCL INFO rocm_smi_lib: version 5.0.0.0\n",
      "node-0:2621719:2624219 [1] NCCL INFO rocm_smi_lib: version 5.0.0.0\n",
      "node-0:2621719:2624218 [0] NCCL INFO Topology detection : could not read /sys/devices/LNXSYSTM:00/LNXSYBUS:00/ACPI0004:00/VMBUS:00/47505500-000c-0000-3130-303237343043/pci000c:00/000c:00:00.0/../max_link_speed, ignoring\n",
      "node-0:2621719:2624219 [1] NCCL INFO Topology detection : could not read /sys/devices/LNXSYSTM:00/LNXSYBUS:00/ACPI0004:00/VMBUS:00/47505500-000c-0000-3130-303237343043/pci000c:00/000c:00:00.0/../max_link_speed, ignoring\n",
      "node-0:2621719:2624218 [0] NCCL INFO Topology detection : could not read /sys/devices/LNXSYSTM:00/LNXSYBUS:00/ACPI0004:00/VMBUS:00/47505500-000c-0000-3130-303237343043/pci000c:00/000c:00:00.0/../max_link_width, ignoring\n",
      "node-0:2621719:2624219 [1] NCCL INFO Topology detection : could not read /sys/devices/LNXSYSTM:00/LNXSYBUS:00/ACPI0004:00/VMBUS:00/47505500-000c-0000-3130-303237343043/pci000c:00/000c:00:00.0/../max_link_width, ignoring\n",
      "node-0:2621719:2624218 [0] NCCL INFO === System : maxBw 144.0 totalBw 144.0 ===\n",
      "node-0:2621719:2624218 [0] NCCL INFO CPU/3 (1/2/4)\n",
      "node-0:2621719:2624218 [0] NCCL INFO + PCI[5000.0] - NIC/0\n",
      "node-0:2621719:2624218 [0] NCCL INFO + PCI[24.0] - GPU/B00000 (0)\n",
      "node-0:2621719:2624218 [0] NCCL INFO               + XGMI[144.0] - GPU/C00000\n",
      "node-0:2621719:2624218 [0] NCCL INFO + PCI[24.0] - GPU/C00000 (1)\n",
      "node-0:2621719:2624218 [0] NCCL INFO               + XGMI[144.0] - GPU/B00000\n",
      "node-0:2621719:2624218 [0] NCCL INFO ==========================================\n",
      "node-0:2621719:2624218 [0] NCCL INFO GPU/B00000 :GPU/B00000 (0/5000.000000/LOC) GPU/C00000 (1/144.000000/XGMI) CPU/3 (1/24.000000/PHB) \n",
      "node-0:2621719:2624218 [0] NCCL INFO GPU/C00000 :GPU/B00000 (1/144.000000/XGMI) GPU/C00000 (0/5000.000000/LOC) CPU/3 (1/24.000000/PHB) \n",
      "node-0:2621719:2624218 [0] NCCL INFO Setting affinity for GPU 10 to ffffff00,00000000,00000000\n",
      "node-0:2621719:2624219 [1] NCCL INFO === System : maxBw 144.0 totalBw 144.0 ===\n",
      "node-0:2621719:2624219 [1] NCCL INFO CPU/3 (1/2/4)\n",
      "node-0:2621719:2624219 [1] NCCL INFO + PCI[5000.0] - NIC/0\n",
      "node-0:2621719:2624219 [1] NCCL INFO + PCI[24.0] - GPU/B00000 (0)\n",
      "node-0:2621719:2624219 [1] NCCL INFO               + XGMI[144.0] - GPU/C00000\n",
      "node-0:2621719:2624219 [1] NCCL INFO + PCI[24.0] - GPU/C00000 (1)\n",
      "node-0:2621719:2624219 [1] NCCL INFO               + XGMI[144.0] - GPU/B00000\n",
      "node-0:2621719:2624219 [1] NCCL INFO ==========================================\n",
      "node-0:2621719:2624219 [1] NCCL INFO GPU/B00000 :GPU/B00000 (0/5000.000000/LOC) GPU/C00000 (1/144.000000/XGMI) CPU/3 (1/24.000000/PHB) \n",
      "node-0:2621719:2624219 [1] NCCL INFO GPU/C00000 :GPU/B00000 (1/144.000000/XGMI) GPU/C00000 (0/5000.000000/LOC) CPU/3 (1/24.000000/PHB) \n",
      "node-0:2621719:2624219 [1] NCCL INFO Setting affinity for GPU 11 to ffffff00,00000000,00000000\n",
      "node-0:2621719:2624218 [0] NCCL INFO Pattern 4, crossNic 0, nChannels 6, bw 24.000000/24.000000, type XGMI/PIX, sameChannels 1\n",
      "node-0:2621719:2624218 [0] NCCL INFO  0 : GPU/0 GPU/1\n",
      "node-0:2621719:2624218 [0] NCCL INFO  1 : GPU/0 GPU/1\n",
      "node-0:2621719:2624218 [0] NCCL INFO  2 : GPU/0 GPU/1\n",
      "node-0:2621719:2624218 [0] NCCL INFO  3 : GPU/0 GPU/1\n",
      "node-0:2621719:2624218 [0] NCCL INFO  4 : GPU/0 GPU/1\n",
      "node-0:2621719:2624218 [0] NCCL INFO  5 : GPU/0 GPU/1\n",
      "node-0:2621719:2624218 [0] NCCL INFO Pattern 1, crossNic 0, nChannels 6, bw 48.000000/48.000000, type XGMI/PIX, sameChannels 0\n",
      "node-0:2621719:2624218 [0] NCCL INFO  0 : GPU/0 GPU/1\n",
      "node-0:2621719:2624218 [0] NCCL INFO  1 : GPU/0 GPU/1\n",
      "node-0:2621719:2624218 [0] NCCL INFO  2 : GPU/0 GPU/1\n",
      "node-0:2621719:2624218 [0] NCCL INFO  3 : GPU/1 GPU/0\n",
      "node-0:2621719:2624218 [0] NCCL INFO  4 : GPU/1 GPU/0\n",
      "node-0:2621719:2624218 [0] NCCL INFO  5 : GPU/1 GPU/0\n",
      "node-0:2621719:2624218 [0] NCCL INFO Pattern 3, crossNic 0, nChannels 6, bw 48.000000/48.000000, type XGMI/PIX, sameChannels 0\n",
      "node-0:2621719:2624218 [0] NCCL INFO  0 : GPU/0 GPU/1\n",
      "node-0:2621719:2624218 [0] NCCL INFO  1 : GPU/0 GPU/1\n",
      "node-0:2621719:2624218 [0] NCCL INFO  2 : GPU/0 GPU/1\n",
      "node-0:2621719:2624218 [0] NCCL INFO  3 : GPU/1 GPU/0\n",
      "node-0:2621719:2624218 [0] NCCL INFO  4 : GPU/1 GPU/0\n",
      "node-0:2621719:2624218 [0] NCCL INFO  5 : GPU/1 GPU/0\n",
      "node-0:2621719:2624219 [1] NCCL INFO Pattern 4, crossNic 0, nChannels 6, bw 24.000000/24.000000, type XGMI/PIX, sameChannels 1\n",
      "node-0:2621719:2624219 [1] NCCL INFO  0 : GPU/0 GPU/1\n",
      "node-0:2621719:2624219 [1] NCCL INFO  1 : GPU/0 GPU/1\n",
      "node-0:2621719:2624219 [1] NCCL INFO  2 : GPU/0 GPU/1\n",
      "node-0:2621719:2624219 [1] NCCL INFO  3 : GPU/0 GPU/1\n",
      "node-0:2621719:2624219 [1] NCCL INFO  4 : GPU/0 GPU/1\n",
      "node-0:2621719:2624219 [1] NCCL INFO  5 : GPU/0 GPU/1\n",
      "node-0:2621719:2624219 [1] NCCL INFO Pattern 1, crossNic 0, nChannels 6, bw 48.000000/48.000000, type XGMI/PIX, sameChannels 0\n",
      "node-0:2621719:2624219 [1] NCCL INFO  0 : GPU/0 GPU/1\n",
      "node-0:2621719:2624219 [1] NCCL INFO  1 : GPU/0 GPU/1\n",
      "node-0:2621719:2624219 [1] NCCL INFO  2 : GPU/0 GPU/1\n",
      "node-0:2621719:2624219 [1] NCCL INFO  3 : GPU/1 GPU/0\n",
      "node-0:2621719:2624219 [1] NCCL INFO  4 : GPU/1 GPU/0\n",
      "node-0:2621719:2624219 [1] NCCL INFO  5 : GPU/1 GPU/0\n",
      "node-0:2621719:2624219 [1] NCCL INFO Pattern 3, crossNic 0, nChannels 6, bw 48.000000/48.000000, type XGMI/PIX, sameChannels 0\n",
      "node-0:2621719:2624219 [1] NCCL INFO  0 : GPU/0 GPU/1\n",
      "node-0:2621719:2624219 [1] NCCL INFO  1 : GPU/0 GPU/1\n",
      "node-0:2621719:2624219 [1] NCCL INFO  2 : GPU/0 GPU/1\n",
      "node-0:2621719:2624219 [1] NCCL INFO  3 : GPU/1 GPU/0\n",
      "node-0:2621719:2624219 [1] NCCL INFO  4 : GPU/1 GPU/0\n",
      "node-0:2621719:2624219 [1] NCCL INFO  5 : GPU/1 GPU/0\n",
      "node-0:2621719:2624218 [0] NCCL INFO Tree 0 : -1 -> 0 -> 1/-1/-1\n",
      "node-0:2621719:2624218 [0] NCCL INFO Tree 6 : -1 -> 0 -> 1/-1/-1\n",
      "node-0:2621719:2624218 [0] NCCL INFO Tree 1 : -1 -> 0 -> 1/-1/-1\n",
      "node-0:2621719:2624218 [0] NCCL INFO Tree 7 : -1 -> 0 -> 1/-1/-1\n",
      "node-0:2621719:2624219 [1] NCCL INFO Tree 0 : 0 -> 1 -> -1/-1/-1\n",
      "node-0:2621719:2624218 [0] NCCL INFO Tree 2 : -1 -> 0 -> 1/-1/-1\n",
      "node-0:2621719:2624219 [1] NCCL INFO Tree 6 : 0 -> 1 -> -1/-1/-1\n",
      "node-0:2621719:2624218 [0] NCCL INFO Tree 8 : -1 -> 0 -> 1/-1/-1\n",
      "node-0:2621719:2624219 [1] NCCL INFO Tree 1 : 0 -> 1 -> -1/-1/-1\n",
      "node-0:2621719:2624218 [0] NCCL INFO Tree 3 : 1 -> 0 -> -1/-1/-1\n",
      "node-0:2621719:2624219 [1] NCCL INFO Tree 7 : 0 -> 1 -> -1/-1/-1\n",
      "node-0:2621719:2624218 [0] NCCL INFO Tree 9 : 1 -> 0 -> -1/-1/-1\n",
      "node-0:2621719:2624219 [1] NCCL INFO Tree 2 : 0 -> 1 -> -1/-1/-1\n",
      "node-0:2621719:2624218 [0] NCCL INFO Tree 4 : 1 -> 0 -> -1/-1/-1\n",
      "node-0:2621719:2624219 [1] NCCL INFO Tree 8 : 0 -> 1 -> -1/-1/-1\n",
      "node-0:2621719:2624218 [0] NCCL INFO Tree 10 : 1 -> 0 -> -1/-1/-1\n",
      "node-0:2621719:2624219 [1] NCCL INFO Tree 3 : -1 -> 1 -> 0/-1/-1\n",
      "node-0:2621719:2624218 [0] NCCL INFO Tree 5 : 1 -> 0 -> -1/-1/-1\n",
      "node-0:2621719:2624219 [1] NCCL INFO Tree 9 : -1 -> 1 -> 0/-1/-1\n",
      "node-0:2621719:2624218 [0] NCCL INFO Tree 11 : 1 -> 0 -> -1/-1/-1\n",
      "node-0:2621719:2624219 [1] NCCL INFO Tree 4 : -1 -> 1 -> 0/-1/-1\n",
      "node-0:2621719:2624219 [1] NCCL INFO Tree 10 : -1 -> 1 -> 0/-1/-1\n",
      "node-0:2621719:2624219 [1] NCCL INFO Tree 5 : -1 -> 1 -> 0/-1/-1\n",
      "node-0:2621719:2624219 [1] NCCL INFO Tree 11 : -1 -> 1 -> 0/-1/-1\n",
      "node-0:2621719:2624218 [0] NCCL INFO Channel 00/24 :    0   1\n",
      "node-0:2621719:2624218 [0] NCCL INFO Channel 01/24 :    0   1\n",
      "node-0:2621719:2624218 [0] NCCL INFO Channel 02/24 :    0   1\n",
      "node-0:2621719:2624218 [0] NCCL INFO Channel 03/24 :    0   1\n",
      "node-0:2621719:2624218 [0] NCCL INFO Channel 04/24 :    0   1\n",
      "node-0:2621719:2624218 [0] NCCL INFO Channel 05/24 :    0   1\n",
      "node-0:2621719:2624218 [0] NCCL INFO Channel 06/24 :    0   1\n",
      "node-0:2621719:2624219 [1] NCCL INFO Ring 0 : 0 -> 1 -> 0 comm 0x1fd7fd50 nRanks 02 busId c00000\n",
      "node-0:2621719:2624218 [0] NCCL INFO Channel 07/24 :    0   1\n",
      "node-0:2621719:2624219 [1] NCCL INFO Ring 1 : 0 -> 1 -> 0 comm 0x1fd7fd50 nRanks 02 busId c00000\n",
      "node-0:2621719:2624218 [0] NCCL INFO Channel 08/24 :    0   1\n",
      "node-0:2621719:2624218 [0] NCCL INFO Channel 09/24 :    0   1\n",
      "node-0:2621719:2624218 [0] NCCL INFO Channel 10/24 :    0   1\n",
      "node-0:2621719:2624218 [0] NCCL INFO Channel 11/24 :    0   1\n",
      "node-0:2621719:2624218 [0] NCCL INFO Channel 12/24 :    0   1\n",
      "node-0:2621719:2624218 [0] NCCL INFO Channel 13/24 :    0   1\n",
      "node-0:2621719:2624218 [0] NCCL INFO Channel 14/24 :    0   1\n",
      "node-0:2621719:2624218 [0] NCCL INFO Channel 15/24 :    0   1\n",
      "node-0:2621719:2624219 [1] NCCL INFO Ring 2 : 0 -> 1 -> 0 comm 0x1fd7fd50 nRanks 02 busId c00000\n",
      "node-0:2621719:2624218 [0] NCCL INFO Channel 16/24 :    0   1\n",
      "node-0:2621719:2624218 [0] NCCL INFO Channel 17/24 :    0   1\n",
      "node-0:2621719:2624218 [0] NCCL INFO Channel 18/24 :    0   1\n",
      "node-0:2621719:2624219 [1] NCCL INFO Ring 3 : 0 -> 1 -> 0 comm 0x1fd7fd50 nRanks 02 busId c00000\n",
      "node-0:2621719:2624218 [0] NCCL INFO Channel 19/24 :    0   1\n",
      "node-0:2621719:2624219 [1] NCCL INFO Ring 4 : 0 -> 1 -> 0 comm 0x1fd7fd50 nRanks 02 busId c00000\n",
      "node-0:2621719:2624218 [0] NCCL INFO Channel 20/24 :    0   1\n",
      "node-0:2621719:2624219 [1] NCCL INFO Ring 5 : 0 -> 1 -> 0 comm 0x1fd7fd50 nRanks 02 busId c00000\n",
      "node-0:2621719:2624218 [0] NCCL INFO Channel 21/24 :    0   1\n",
      "node-0:2621719:2624219 [1] NCCL INFO Ring 6 : 0 -> 1 -> 0 comm 0x1fd7fd50 nRanks 02 busId c00000\n",
      "node-0:2621719:2624218 [0] NCCL INFO Channel 22/24 :    0   1\n",
      "node-0:2621719:2624218 [0] NCCL INFO Channel 23/24 :    0   1\n",
      "node-0:2621719:2624219 [1] NCCL INFO Ring 7 : 0 -> 1 -> 0 comm 0x1fd7fd50 nRanks 02 busId c00000\n",
      "node-0:2621719:2624219 [1] NCCL INFO Ring 8 : 0 -> 1 -> 0 comm 0x1fd7fd50 nRanks 02 busId c00000\n",
      "node-0:2621719:2624218 [0] NCCL INFO Ring 0 : 1 -> 0 -> 1 comm 0x206df4d0 nRanks 02 busId b00000\n",
      "node-0:2621719:2624219 [1] NCCL INFO Ring 9 : 0 -> 1 -> 0 comm 0x1fd7fd50 nRanks 02 busId c00000\n",
      "node-0:2621719:2624218 [0] NCCL INFO Ring 1 : 1 -> 0 -> 1 comm 0x206df4d0 nRanks 02 busId b00000\n",
      "node-0:2621719:2624219 [1] NCCL INFO Ring 10 : 0 -> 1 -> 0 comm 0x1fd7fd50 nRanks 02 busId c00000\n",
      "node-0:2621719:2624218 [0] NCCL INFO Ring 2 : 1 -> 0 -> 1 comm 0x206df4d0 nRanks 02 busId b00000\n",
      "node-0:2621719:2624219 [1] NCCL INFO Ring 11 : 0 -> 1 -> 0 comm 0x1fd7fd50 nRanks 02 busId c00000\n",
      "node-0:2621719:2624218 [0] NCCL INFO Ring 3 : 1 -> 0 -> 1 comm 0x206df4d0 nRanks 02 busId b00000\n",
      "node-0:2621719:2624219 [1] NCCL INFO Ring 12 : 0 -> 1 -> 0 comm 0x1fd7fd50 nRanks 02 busId c00000\n",
      "node-0:2621719:2624218 [0] NCCL INFO Ring 4 : 1 -> 0 -> 1 comm 0x206df4d0 nRanks 02 busId b00000\n",
      "node-0:2621719:2624219 [1] NCCL INFO Ring 13 : 0 -> 1 -> 0 comm 0x1fd7fd50 nRanks 02 busId c00000\n",
      "node-0:2621719:2624218 [0] NCCL INFO Ring 5 : 1 -> 0 -> 1 comm 0x206df4d0 nRanks 02 busId b00000\n",
      "node-0:2621719:2624219 [1] NCCL INFO Ring 14 : 0 -> 1 -> 0 comm 0x1fd7fd50 nRanks 02 busId c00000\n",
      "node-0:2621719:2624218 [0] NCCL INFO Ring 6 : 1 -> 0 -> 1 comm 0x206df4d0 nRanks 02 busId b00000\n",
      "node-0:2621719:2624219 [1] NCCL INFO Ring 15 : 0 -> 1 -> 0 comm 0x1fd7fd50 nRanks 02 busId c00000\n",
      "node-0:2621719:2624218 [0] NCCL INFO Ring 7 : 1 -> 0 -> 1 comm 0x206df4d0 nRanks 02 busId b00000\n",
      "node-0:2621719:2624219 [1] NCCL INFO Ring 16 : 0 -> 1 -> 0 comm 0x1fd7fd50 nRanks 02 busId c00000\n",
      "node-0:2621719:2624218 [0] NCCL INFO Ring 8 : 1 -> 0 -> 1 comm 0x206df4d0 nRanks 02 busId b00000\n",
      "node-0:2621719:2624219 [1] NCCL INFO Ring 17 : 0 -> 1 -> 0 comm 0x1fd7fd50 nRanks 02 busId c00000\n",
      "node-0:2621719:2624218 [0] NCCL INFO Ring 9 : 1 -> 0 -> 1 comm 0x206df4d0 nRanks 02 busId b00000\n",
      "node-0:2621719:2624219 [1] NCCL INFO Ring 18 : 0 -> 1 -> 0 comm 0x1fd7fd50 nRanks 02 busId c00000\n",
      "node-0:2621719:2624218 [0] NCCL INFO Ring 10 : 1 -> 0 -> 1 comm 0x206df4d0 nRanks 02 busId b00000\n",
      "node-0:2621719:2624219 [1] NCCL INFO Ring 19 : 0 -> 1 -> 0 comm 0x1fd7fd50 nRanks 02 busId c00000\n",
      "node-0:2621719:2624218 [0] NCCL INFO Ring 11 : 1 -> 0 -> 1 comm 0x206df4d0 nRanks 02 busId b00000\n",
      "node-0:2621719:2624219 [1] NCCL INFO Ring 20 : 0 -> 1 -> 0 comm 0x1fd7fd50 nRanks 02 busId c00000\n",
      "node-0:2621719:2624218 [0] NCCL INFO Ring 12 : 1 -> 0 -> 1 comm 0x206df4d0 nRanks 02 busId b00000\n"
     ]
    },
    {
     "name": "stdout",
     "output_type": "stream",
     "text": [
      "node-0:2621719:2624219 [1] NCCL INFO Ring 21 : 0 -> 1 -> 0 comm 0x1fd7fd50 nRanks 02 busId c00000\n",
      "node-0:2621719:2624219 [1] NCCL INFO Ring 22 : 0 -> 1 -> 0 comm 0x1fd7fd50 nRanks 02 busId c00000\n",
      "node-0:2621719:2624219 [1] NCCL INFO Ring 23 : 0 -> 1 -> 0 comm 0x1fd7fd50 nRanks 02 busId c00000\n",
      "node-0:2621719:2624219 [1] NCCL INFO Trees [0] -1/-1/-1->1->0 [1] -1/-1/-1->1->0 [2] -1/-1/-1->1->0 [3] 0/-1/-1->1->-1 [4] 0/-1/-1->1->-1 [5] 0/-1/-1->1->-1 [6] -1/-1/-1->1->0 [7] -1/-1/-1->1->0 [8] -1/-1/-1->1->0 [9] 0/-1/-1->1->-1 [10] 0/-1/-1->1->-1 [11] 0/-1/-1->1->-1 [12] -1/-1/-1->1->0 [13] -1/-1/-1->1->0 [14] -1/-1/-1->1->0 [15] 0/-1/-1->1->-1 [16] 0/-1/-1->1->-1 [17] 0/-1/-1->1->-1 [18] -1/-1/-1->1->0 [19] -1/-1/-1->1->0 [20] -1/-1/-1->1->0 [21] 0/-1/-1->1->-1 [22] 0/-1/-1->1->-1 [23] 0/-1/-1->1->-1 comm 0x1fd7fd50 nRanks 02 busId c00000\n",
      "node-0:2621719:2624218 [0] NCCL INFO Ring 13 : 1 -> 0 -> 1 comm 0x206df4d0 nRanks 02 busId b00000\n",
      "node-0:2621719:2624218 [0] NCCL INFO Ring 14 : 1 -> 0 -> 1 comm 0x206df4d0 nRanks 02 busId b00000\n",
      "node-0:2621719:2624219 [1] NCCL INFO P2P Chunksize set to 524288\n",
      "node-0:2621719:2624218 [0] NCCL INFO Ring 15 : 1 -> 0 -> 1 comm 0x206df4d0 nRanks 02 busId b00000\n",
      "node-0:2621719:2624218 [0] NCCL INFO Ring 16 : 1 -> 0 -> 1 comm 0x206df4d0 nRanks 02 busId b00000\n",
      "node-0:2621719:2624218 [0] NCCL INFO Ring 17 : 1 -> 0 -> 1 comm 0x206df4d0 nRanks 02 busId b00000\n",
      "node-0:2621719:2624218 [0] NCCL INFO Ring 18 : 1 -> 0 -> 1 comm 0x206df4d0 nRanks 02 busId b00000\n",
      "node-0:2621719:2624218 [0] NCCL INFO Ring 19 : 1 -> 0 -> 1 comm 0x206df4d0 nRanks 02 busId b00000\n",
      "node-0:2621719:2624218 [0] NCCL INFO Ring 20 : 1 -> 0 -> 1 comm 0x206df4d0 nRanks 02 busId b00000\n",
      "node-0:2621719:2624218 [0] NCCL INFO Ring 21 : 1 -> 0 -> 1 comm 0x206df4d0 nRanks 02 busId b00000\n",
      "node-0:2621719:2624218 [0] NCCL INFO Ring 22 : 1 -> 0 -> 1 comm 0x206df4d0 nRanks 02 busId b00000\n",
      "node-0:2621719:2624218 [0] NCCL INFO Ring 23 : 1 -> 0 -> 1 comm 0x206df4d0 nRanks 02 busId b00000\n",
      "node-0:2621719:2624218 [0] NCCL INFO Trees [0] 1/-1/-1->0->-1 [1] 1/-1/-1->0->-1 [2] 1/-1/-1->0->-1 [3] -1/-1/-1->0->1 [4] -1/-1/-1->0->1 [5] -1/-1/-1->0->1 [6] 1/-1/-1->0->-1 [7] 1/-1/-1->0->-1 [8] 1/-1/-1->0->-1 [9] -1/-1/-1->0->1 [10] -1/-1/-1->0->1 [11] -1/-1/-1->0->1 [12] 1/-1/-1->0->-1 [13] 1/-1/-1->0->-1 [14] 1/-1/-1->0->-1 [15] -1/-1/-1->0->1 [16] -1/-1/-1->0->1 [17] -1/-1/-1->0->1 [18] 1/-1/-1->0->-1 [19] 1/-1/-1->0->-1 [20] 1/-1/-1->0->-1 [21] -1/-1/-1->0->1 [22] -1/-1/-1->0->1 [23] -1/-1/-1->0->1 comm 0x206df4d0 nRanks 02 busId b00000\n",
      "node-0:2621719:2624218 [0] NCCL INFO P2P Chunksize set to 524288\n",
      "node-0:2621719:2624218 [0] NCCL INFO Channel 00/0 : 0[b00000] -> 1[c00000] via P2P/direct pointer comm 0x206df4d0 nRanks 02\n",
      "node-0:2621719:2624219 [1] NCCL INFO Channel 00/0 : 1[c00000] -> 0[b00000] via P2P/direct pointer comm 0x1fd7fd50 nRanks 02\n",
      "node-0:2621719:2624218 [0] NCCL INFO Channel 01/0 : 0[b00000] -> 1[c00000] via P2P/direct pointer comm 0x206df4d0 nRanks 02\n",
      "node-0:2621719:2624219 [1] NCCL INFO Channel 01/0 : 1[c00000] -> 0[b00000] via P2P/direct pointer comm 0x1fd7fd50 nRanks 02\n",
      "node-0:2621719:2624218 [0] NCCL INFO Channel 02/0 : 0[b00000] -> 1[c00000] via P2P/direct pointer comm 0x206df4d0 nRanks 02\n",
      "node-0:2621719:2624219 [1] NCCL INFO Channel 02/0 : 1[c00000] -> 0[b00000] via P2P/direct pointer comm 0x1fd7fd50 nRanks 02\n",
      "node-0:2621719:2624218 [0] NCCL INFO Channel 03/0 : 0[b00000] -> 1[c00000] via P2P/direct pointer comm 0x206df4d0 nRanks 02\n",
      "node-0:2621719:2624219 [1] NCCL INFO Channel 03/0 : 1[c00000] -> 0[b00000] via P2P/direct pointer comm 0x1fd7fd50 nRanks 02\n",
      "node-0:2621719:2624218 [0] NCCL INFO Channel 04/0 : 0[b00000] -> 1[c00000] via P2P/direct pointer comm 0x206df4d0 nRanks 02\n",
      "node-0:2621719:2624219 [1] NCCL INFO Channel 04/0 : 1[c00000] -> 0[b00000] via P2P/direct pointer comm 0x1fd7fd50 nRanks 02\n",
      "node-0:2621719:2624218 [0] NCCL INFO Channel 05/0 : 0[b00000] -> 1[c00000] via P2P/direct pointer comm 0x206df4d0 nRanks 02\n",
      "node-0:2621719:2624219 [1] NCCL INFO Channel 05/0 : 1[c00000] -> 0[b00000] via P2P/direct pointer comm 0x1fd7fd50 nRanks 02\n",
      "node-0:2621719:2624218 [0] NCCL INFO Channel 06/0 : 0[b00000] -> 1[c00000] via P2P/direct pointer comm 0x206df4d0 nRanks 02\n",
      "node-0:2621719:2624219 [1] NCCL INFO Channel 06/0 : 1[c00000] -> 0[b00000] via P2P/direct pointer comm 0x1fd7fd50 nRanks 02\n",
      "node-0:2621719:2624218 [0] NCCL INFO Channel 07/0 : 0[b00000] -> 1[c00000] via P2P/direct pointer comm 0x206df4d0 nRanks 02\n",
      "node-0:2621719:2624219 [1] NCCL INFO Channel 07/0 : 1[c00000] -> 0[b00000] via P2P/direct pointer comm 0x1fd7fd50 nRanks 02\n",
      "node-0:2621719:2624218 [0] NCCL INFO Channel 08/0 : 0[b00000] -> 1[c00000] via P2P/direct pointer comm 0x206df4d0 nRanks 02\n",
      "node-0:2621719:2624219 [1] NCCL INFO Channel 08/0 : 1[c00000] -> 0[b00000] via P2P/direct pointer comm 0x1fd7fd50 nRanks 02\n",
      "node-0:2621719:2624218 [0] NCCL INFO Channel 09/0 : 0[b00000] -> 1[c00000] via P2P/direct pointer comm 0x206df4d0 nRanks 02\n",
      "node-0:2621719:2624219 [1] NCCL INFO Channel 09/0 : 1[c00000] -> 0[b00000] via P2P/direct pointer comm 0x1fd7fd50 nRanks 02\n",
      "node-0:2621719:2624218 [0] NCCL INFO Channel 10/0 : 0[b00000] -> 1[c00000] via P2P/direct pointer comm 0x206df4d0 nRanks 02\n",
      "node-0:2621719:2624219 [1] NCCL INFO Channel 10/0 : 1[c00000] -> 0[b00000] via P2P/direct pointer comm 0x1fd7fd50 nRanks 02\n",
      "node-0:2621719:2624218 [0] NCCL INFO Channel 11/0 : 0[b00000] -> 1[c00000] via P2P/direct pointer comm 0x206df4d0 nRanks 02\n",
      "node-0:2621719:2624219 [1] NCCL INFO Channel 11/0 : 1[c00000] -> 0[b00000] via P2P/direct pointer comm 0x1fd7fd50 nRanks 02\n",
      "node-0:2621719:2624218 [0] NCCL INFO Channel 12/0 : 0[b00000] -> 1[c00000] via P2P/direct pointer comm 0x206df4d0 nRanks 02\n",
      "node-0:2621719:2624219 [1] NCCL INFO Channel 12/0 : 1[c00000] -> 0[b00000] via P2P/direct pointer comm 0x1fd7fd50 nRanks 02\n",
      "node-0:2621719:2624218 [0] NCCL INFO Channel 13/0 : 0[b00000] -> 1[c00000] via P2P/direct pointer comm 0x206df4d0 nRanks 02\n",
      "node-0:2621719:2624219 [1] NCCL INFO Channel 13/0 : 1[c00000] -> 0[b00000] via P2P/direct pointer comm 0x1fd7fd50 nRanks 02\n",
      "node-0:2621719:2624218 [0] NCCL INFO Channel 14/0 : 0[b00000] -> 1[c00000] via P2P/direct pointer comm 0x206df4d0 nRanks 02\n",
      "node-0:2621719:2624219 [1] NCCL INFO Channel 14/0 : 1[c00000] -> 0[b00000] via P2P/direct pointer comm 0x1fd7fd50 nRanks 02\n",
      "node-0:2621719:2624218 [0] NCCL INFO Channel 15/0 : 0[b00000] -> 1[c00000] via P2P/direct pointer comm 0x206df4d0 nRanks 02\n",
      "node-0:2621719:2624219 [1] NCCL INFO Channel 15/0 : 1[c00000] -> 0[b00000] via P2P/direct pointer comm 0x1fd7fd50 nRanks 02\n",
      "node-0:2621719:2624218 [0] NCCL INFO Channel 16/0 : 0[b00000] -> 1[c00000] via P2P/direct pointer comm 0x206df4d0 nRanks 02\n",
      "node-0:2621719:2624219 [1] NCCL INFO Channel 16/0 : 1[c00000] -> 0[b00000] via P2P/direct pointer comm 0x1fd7fd50 nRanks 02\n",
      "node-0:2621719:2624218 [0] NCCL INFO Channel 17/0 : 0[b00000] -> 1[c00000] via P2P/direct pointer comm 0x206df4d0 nRanks 02\n",
      "node-0:2621719:2624219 [1] NCCL INFO Channel 17/0 : 1[c00000] -> 0[b00000] via P2P/direct pointer comm 0x1fd7fd50 nRanks 02\n",
      "node-0:2621719:2624218 [0] NCCL INFO Channel 18/0 : 0[b00000] -> 1[c00000] via P2P/direct pointer comm 0x206df4d0 nRanks 02\n",
      "node-0:2621719:2624219 [1] NCCL INFO Channel 18/0 : 1[c00000] -> 0[b00000] via P2P/direct pointer comm 0x1fd7fd50 nRanks 02\n",
      "node-0:2621719:2624218 [0] NCCL INFO Channel 19/0 : 0[b00000] -> 1[c00000] via P2P/direct pointer comm 0x206df4d0 nRanks 02\n",
      "node-0:2621719:2624219 [1] NCCL INFO Channel 19/0 : 1[c00000] -> 0[b00000] via P2P/direct pointer comm 0x1fd7fd50 nRanks 02\n",
      "node-0:2621719:2624218 [0] NCCL INFO Channel 20/0 : 0[b00000] -> 1[c00000] via P2P/direct pointer comm 0x206df4d0 nRanks 02\n",
      "node-0:2621719:2624219 [1] NCCL INFO Channel 20/0 : 1[c00000] -> 0[b00000] via P2P/direct pointer comm 0x1fd7fd50 nRanks 02\n",
      "node-0:2621719:2624218 [0] NCCL INFO Channel 21/0 : 0[b00000] -> 1[c00000] via P2P/direct pointer comm 0x206df4d0 nRanks 02\n",
      "node-0:2621719:2624219 [1] NCCL INFO Channel 21/0 : 1[c00000] -> 0[b00000] via P2P/direct pointer comm 0x1fd7fd50 nRanks 02\n",
      "node-0:2621719:2624218 [0] NCCL INFO Channel 22/0 : 0[b00000] -> 1[c00000] via P2P/direct pointer comm 0x206df4d0 nRanks 02\n",
      "node-0:2621719"
     ]
    },
    {
     "name": "stderr",
     "output_type": "stream",
     "text": [
      "/home/aiscuser/scratch/Projects/xcai/xcai/losses.py:21: UserWarning: Sparse CSR tensor support is in beta state. If you miss a functionality in the sparse tensor support, please submit a feature request to https://github.com/pytorch/pytorch/issues. (Triggered internally at ../aten/src/ATen/SparseCsrTensorImpl.cpp:54.)\n",
      "  return torch.sparse_csr_tensor(data_ptr, data_idx, scores, device=data_ptr.device)\n",
      "/opt/conda/envs/ptca/lib/python3.9/site-packages/transformers/utils/import_utils.py:533: FutureWarning: `is_torch_tpu_available` is deprecated and will be removed in 4.41.0. Please use the `is_torch_xla_available` instead.\n",
      "  warnings.warn(\n",
      "Could not estimate the number of tokens of the input, floating-point operations will not be computed\n"
     ]
    },
    {
     "data": {
      "text/html": [
       "\n",
       "    <div>\n",
       "      \n",
       "      <progress value='69' max='148500' style='width:300px; height:20px; vertical-align: middle;'></progress>\n",
       "      [    69/148500 03:06 < 114:33:01, 0.36 it/s, Epoch 0.14/300]\n",
       "    </div>\n",
       "    <table border=\"1\" class=\"dataframe\">\n",
       "  <thead>\n",
       " <tr style=\"text-align: left;\">\n",
       "      <th>Step</th>\n",
       "      <th>Training Loss</th>\n",
       "      <th>Validation Loss</th>\n",
       "    </tr>\n",
       "  </thead>\n",
       "  <tbody>\n",
       "  </tbody>\n",
       "</table><p>"
      ],
      "text/plain": [
       "<IPython.core.display.HTML object>"
      ]
     },
     "metadata": {},
     "output_type": "display_data"
    }
   ],
   "source": [
    "learn.train()"
   ]
  },
  {
   "cell_type": "code",
   "execution_count": null,
   "id": "7fc60dbd",
   "metadata": {},
   "outputs": [],
   "source": []
  },
  {
   "cell_type": "code",
   "execution_count": null,
   "id": "68cd155e-912d-4780-b60d-b7c6749b30b3",
   "metadata": {},
   "outputs": [],
   "source": [
    "#| export\n",
    "if __name__ == '__main__':\n",
    "    mp.freeze_support()\n",
    "    learn.train()"
   ]
  },
  {
   "cell_type": "code",
   "execution_count": null,
   "id": "8a0c09e4-4a84-4e72-8d93-9477b1db3ef3",
   "metadata": {},
   "outputs": [],
   "source": []
  }
 ],
 "metadata": {
  "kernelspec": {
   "display_name": "Python 3 (ipykernel)",
   "language": "python",
   "name": "python3"
  },
  "language_info": {
   "codemirror_mode": {
    "name": "ipython",
    "version": 3
   },
   "file_extension": ".py",
   "mimetype": "text/x-python",
   "name": "python",
   "nbconvert_exporter": "python",
   "pygments_lexer": "ipython3",
   "version": "3.9.18"
  }
 },
 "nbformat": 4,
 "nbformat_minor": 5
}
