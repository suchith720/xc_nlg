{
 "cells": [
  {
   "cell_type": "markdown",
   "id": "8c74389c-e612-4bf8-a44d-059e54b18024",
   "metadata": {},
   "source": [
    "# NAR training pipeline for distilbert"
   ]
  },
  {
   "cell_type": "code",
   "execution_count": 1,
   "id": "903254a4-afff-4186-9ecb-bcf840e65070",
   "metadata": {},
   "outputs": [],
   "source": [
    "#| default_exp 27-nar-training-pipeline-for-distilbert-prediction-with-tfidf-pruning"
   ]
  },
  {
   "cell_type": "code",
   "execution_count": 2,
   "id": "5b7e60d6-c737-4eba-b12f-ddce335f17fd",
   "metadata": {},
   "outputs": [],
   "source": [
    "#| hide\n",
    "from nbdev.showdoc import *\n",
    "import nbdev; nbdev.nbdev_export()"
   ]
  },
  {
   "cell_type": "code",
   "execution_count": 3,
   "id": "52cdfeba-6ded-4fbf-be92-94f36c016829",
   "metadata": {},
   "outputs": [],
   "source": [
    "%load_ext autoreload\n",
    "%autoreload 2"
   ]
  },
  {
   "cell_type": "code",
   "execution_count": 9,
   "id": "942e984d-59e3-4834-8169-71a1d43e6d9a",
   "metadata": {},
   "outputs": [],
   "source": [
    "#| export\n",
    "import os, torch, torch.nn.functional as F, numpy as np, pickle\n",
    "from tqdm.auto import tqdm\n",
    "from xcai.basics import *\n",
    "from xcai.models.MMM00X import DBT007"
   ]
  },
  {
   "cell_type": "code",
   "execution_count": 5,
   "id": "8baba96b",
   "metadata": {},
   "outputs": [],
   "source": [
    "from xcai.transform import TriePruneInputIdsTfm\n",
    "import matplotlib.pyplot as plt\n",
    "set_plot_defaults()"
   ]
  },
  {
   "cell_type": "code",
   "execution_count": 6,
   "id": "b6972c2c",
   "metadata": {},
   "outputs": [],
   "source": [
    "os.environ['WANDB_MODE'] = 'disabled'"
   ]
  },
  {
   "cell_type": "code",
   "execution_count": 7,
   "id": "e0733f25-a77e-45af-84ab-a50cfe45c589",
   "metadata": {},
   "outputs": [],
   "source": [
    "#| export\n",
    "os.environ['CUDA_VISIBLE_DEVICES'] = '4'"
   ]
  },
  {
   "cell_type": "markdown",
   "id": "7efe6c13",
   "metadata": {},
   "source": [
    "## Loading data and model"
   ]
  },
  {
   "cell_type": "code",
   "execution_count": 8,
   "id": "a30decde-1656-4e78-bbae-9f844c882f20",
   "metadata": {},
   "outputs": [
    {
     "name": "stderr",
     "output_type": "stream",
     "text": [
      "/opt/conda/envs/ptca/lib/python3.9/site-packages/huggingface_hub/file_download.py:1132: FutureWarning: `resume_download` is deprecated and will be removed in version 1.0.0. Downloads always resume when possible. If you want to force a new download, use `force_download=True`.\n",
      "  warnings.warn(\n",
      "/opt/conda/envs/ptca/lib/python3.9/site-packages/scipy/sparse/_index.py:146: SparseEfficiencyWarning: Changing the sparsity structure of a csr_matrix is expensive. lil_matrix is more efficient.\n",
      "  self._set_arrayXarray(i, j, x)\n"
     ]
    }
   ],
   "source": [
    "#| export\n",
    "block = XCBlock.from_cfg('/home/aiscuser/scratch/datasets', 'data', valid_pct=0.001, tfm='xc', \n",
    "                         tokenizer='distilbert-base-uncased')"
   ]
  },
  {
   "cell_type": "code",
   "execution_count": 15,
   "id": "9225a12f",
   "metadata": {},
   "outputs": [],
   "source": [
    "fname = '/home/aiscuser/outputs/20-nar-training-pipeline-for-distilbert/data/distilbert-base-uncased_block.pkl'\n",
    "os.makedirs(os.path.dirname(fname), exist_ok=True)\n",
    "\n",
    "with open(fname, 'wb') as file: pickle.dump(block, file)"
   ]
  },
  {
   "cell_type": "code",
   "execution_count": 155,
   "id": "921ba39e",
   "metadata": {},
   "outputs": [],
   "source": [
    "fname = '/home/aiscuser/outputs/20-nar-training-pipeline-for-distilbert/data/distilbert-base-uncased_block.pkl'\n",
    "with open(fname, 'rb') as file: block = pickle.load(file)"
   ]
  },
  {
   "cell_type": "code",
   "execution_count": null,
   "id": "0ec08bae",
   "metadata": {},
   "outputs": [],
   "source": []
  },
  {
   "cell_type": "code",
   "execution_count": 18,
   "id": "f682407f-e2f8-421c-ab4f-cc0d88c389cc",
   "metadata": {},
   "outputs": [
    {
     "name": "stderr",
     "output_type": "stream",
     "text": [
      "huggingface/tokenizers: The current process just got forked, after parallelism has already been used. Disabling parallelism to avoid deadlocks...\n",
      "To disable this warning, you can either:\n",
      "\t- Avoid using `tokenizers` before the fork if possible\n",
      "\t- Explicitly set the environment variable TOKENIZERS_PARALLELISM=(true | false)\n"
     ]
    }
   ],
   "source": [
    "#| export\n",
    "args = XCLearningArguments(\n",
    "    output_dir='/home/aiscuser/outputs/20-nar-training-pipeline-for-distilbert',\n",
    "    logging_first_step=True,\n",
    "    per_device_train_batch_size=800,\n",
    "    per_device_eval_batch_size=800,\n",
    "    representation_num_beams=200,\n",
    "    representation_accumulation_steps=100,\n",
    "    save_strategy=\"steps\",\n",
    "    evaluation_strategy='steps',\n",
    "    eval_steps=500,\n",
    "    save_steps=500,\n",
    "    save_total_limit=5,\n",
    "    num_train_epochs=50,\n",
    "    adam_epsilon=1e-6,\n",
    "    warmup_steps=100,\n",
    "    weight_decay=0.1,\n",
    "    learning_rate=2e-4,\n",
    "    generation_num_beams=10,\n",
    "    generation_length_penalty=1.5,\n",
    "    predict_with_generation=True,\n",
    "    label_names=['lbl2data_idx'],\n",
    ")"
   ]
  },
  {
   "cell_type": "code",
   "execution_count": 19,
   "id": "4f9b5323-dd83-45bd-95c4-afd1c4c5ac8b",
   "metadata": {},
   "outputs": [],
   "source": [
    "#| export\n",
    "test_dset = block.test.dset.sample(n=2000, seed=50)\n",
    "metric = PrecRecl(block.n_lbl, test_dset.data.data_lbl_filterer, prop=block.train.dset.data.data_lbl,\n",
    "                  pk=10, rk=200, rep_pk=[1, 3, 5, 10], rep_rk=[10, 100, 200])"
   ]
  },
  {
   "cell_type": "code",
   "execution_count": 20,
   "id": "336af894-d34b-42ef-a913-1ade26c7e19f",
   "metadata": {},
   "outputs": [],
   "source": [
    "#| export\n",
    "mname = f'{args.output_dir}/checkpoint-21500/'\n",
    "model = DBT007.from_pretrained(mname, tn_targ=10_000, ig_tok=0, reduction='mean')\n"
   ]
  },
  {
   "cell_type": "code",
   "execution_count": 211,
   "id": "e1b510ba",
   "metadata": {},
   "outputs": [
    {
     "data": {
      "application/vnd.jupyter.widget-view+json": {
       "model_id": "9790dba1d8744647bdeb160ff6a1170d",
       "version_major": 2,
       "version_minor": 0
      },
      "text/plain": [
       "  0%|          | 0/312330 [00:00<?, ?it/s]"
      ]
     },
     "metadata": {},
     "output_type": "display_data"
    }
   ],
   "source": [
    "#| export\n",
    "trie = XCTrie.from_block(block)"
   ]
  },
  {
   "cell_type": "code",
   "execution_count": 22,
   "id": "411c409d-1183-4f90-a0db-4910d857088d",
   "metadata": {},
   "outputs": [
    {
     "name": "stderr",
     "output_type": "stream",
     "text": [
      "huggingface/tokenizers: The current process just got forked, after parallelism has already been used. Disabling parallelism to avoid deadlocks...\n",
      "To disable this warning, you can either:\n",
      "\t- Avoid using `tokenizers` before the fork if possible\n",
      "\t- Explicitly set the environment variable TOKENIZERS_PARALLELISM=(true | false)\n",
      "huggingface/tokenizers: The current process just got forked, after parallelism has already been used. Disabling parallelism to avoid deadlocks...\n",
      "To disable this warning, you can either:\n",
      "\t- Avoid using `tokenizers` before the fork if possible\n",
      "\t- Explicitly set the environment variable TOKENIZERS_PARALLELISM=(true | false)\n",
      "huggingface/tokenizers: The current process just got forked, after parallelism has already been used. Disabling parallelism to avoid deadlocks...\n",
      "To disable this warning, you can either:\n",
      "\t- Avoid using `tokenizers` before the fork if possible\n",
      "\t- Explicitly set the environment variable TOKENIZERS_PARALLELISM=(true | false)\n"
     ]
    }
   ],
   "source": [
    "#| export\n",
    "learn = XCLearner(\n",
    "    model=model, \n",
    "    args=args,\n",
    "    trie=trie,\n",
    "    train_dataset=block.train.dset,\n",
    "    eval_dataset=test_dset,\n",
    "    data_collator=block.collator,\n",
    "    compute_metrics=metric,\n",
    ")"
   ]
  },
  {
   "cell_type": "code",
   "execution_count": 23,
   "id": "e68721c7",
   "metadata": {
    "scrolled": true
   },
   "outputs": [
    {
     "data": {
      "text/html": [],
      "text/plain": [
       "<IPython.core.display.HTML object>"
      ]
     },
     "metadata": {},
     "output_type": "display_data"
    },
    {
     "name": "stderr",
     "output_type": "stream",
     "text": [
      "/opt/conda/envs/ptca/lib/python3.9/site-packages/scipy/sparse/_index.py:146: SparseEfficiencyWarning: Changing the sparsity structure of a csr_matrix is expensive. lil_matrix is more efficient.\n",
      "  self._set_arrayXarray(i, j, x)\n"
     ]
    }
   ],
   "source": [
    "o = learn.predict(test_dset)"
   ]
  },
  {
   "cell_type": "code",
   "execution_count": 24,
   "id": "6f4c6be8",
   "metadata": {},
   "outputs": [
    {
     "data": {
      "text/html": [
       "<div>\n",
       "<style scoped>\n",
       "    .dataframe tbody tr th:only-of-type {\n",
       "        vertical-align: middle;\n",
       "    }\n",
       "\n",
       "    .dataframe tbody tr th {\n",
       "        vertical-align: top;\n",
       "    }\n",
       "\n",
       "    .dataframe thead th {\n",
       "        text-align: right;\n",
       "    }\n",
       "</style>\n",
       "<table border=\"1\" class=\"dataframe\">\n",
       "  <thead>\n",
       "    <tr style=\"text-align: right;\">\n",
       "      <th></th>\n",
       "      <th>P@1</th>\n",
       "      <th>P@3</th>\n",
       "      <th>P@5</th>\n",
       "      <th>P@10</th>\n",
       "      <th>N@1</th>\n",
       "      <th>N@3</th>\n",
       "      <th>N@5</th>\n",
       "      <th>N@10</th>\n",
       "      <th>PSP@1</th>\n",
       "      <th>PSP@3</th>\n",
       "      <th>PSP@5</th>\n",
       "      <th>PSP@10</th>\n",
       "      <th>PSN@1</th>\n",
       "      <th>PSN@3</th>\n",
       "      <th>PSN@5</th>\n",
       "      <th>PSN@10</th>\n",
       "      <th>R@10</th>\n",
       "      <th>R@100</th>\n",
       "      <th>R@200</th>\n",
       "      <th>loss</th>\n",
       "      <th>runtime</th>\n",
       "      <th>samples_per_second</th>\n",
       "      <th>steps_per_second</th>\n",
       "    </tr>\n",
       "  </thead>\n",
       "  <tbody>\n",
       "    <tr>\n",
       "      <th>0</th>\n",
       "      <td>14.6</td>\n",
       "      <td>9.45</td>\n",
       "      <td>7.3</td>\n",
       "      <td>4.56</td>\n",
       "      <td>14.6</td>\n",
       "      <td>14.2452</td>\n",
       "      <td>14.9516</td>\n",
       "      <td>15.9568</td>\n",
       "      <td>9.4955</td>\n",
       "      <td>9.9032</td>\n",
       "      <td>11.0339</td>\n",
       "      <td>12.519</td>\n",
       "      <td>9.4955</td>\n",
       "      <td>10.338</td>\n",
       "      <td>11.3063</td>\n",
       "      <td>12.237</td>\n",
       "      <td>18.8906</td>\n",
       "      <td>18.9579</td>\n",
       "      <td>18.9579</td>\n",
       "      <td>4.4093</td>\n",
       "      <td>120.1633</td>\n",
       "      <td>16.644</td>\n",
       "      <td>0.025</td>\n",
       "    </tr>\n",
       "  </tbody>\n",
       "</table>\n",
       "</div>"
      ],
      "text/plain": [
       "    P@1   P@3  P@5  P@10   N@1      N@3      N@5     N@10   PSP@1   PSP@3  \\\n",
       "0  14.6  9.45  7.3  4.56  14.6  14.2452  14.9516  15.9568  9.4955  9.9032   \n",
       "\n",
       "     PSP@5  PSP@10   PSN@1   PSN@3    PSN@5  PSN@10     R@10    R@100  \\\n",
       "0  11.0339  12.519  9.4955  10.338  11.3063  12.237  18.8906  18.9579   \n",
       "\n",
       "     R@200    loss   runtime  samples_per_second  steps_per_second  \n",
       "0  18.9579  4.4093  120.1633              16.644             0.025  "
      ]
     },
     "metadata": {},
     "output_type": "display_data"
    }
   ],
   "source": [
    "display_metric(o.metrics)"
   ]
  },
  {
   "cell_type": "markdown",
   "id": "aec9b49f",
   "metadata": {},
   "source": [
    "## Inference with `tf-idf` pruning"
   ]
  },
  {
   "cell_type": "markdown",
   "id": "29c033a6",
   "metadata": {},
   "source": [
    "### Helper"
   ]
  },
  {
   "cell_type": "code",
   "execution_count": 143,
   "id": "f4a10cbf",
   "metadata": {},
   "outputs": [],
   "source": [
    "from typing import Optional, List\n",
    "from scipy import sparse"
   ]
  },
  {
   "cell_type": "code",
   "execution_count": 144,
   "id": "ab207ad5",
   "metadata": {},
   "outputs": [],
   "source": [
    "def compute_tok_tfidf(toks:Optional[List], n_cols:Optional[int]=None):\n",
    "    tok_sparse = get_tok_sparse(toks, n_cols=n_cols)\n",
    "    tok_idf = torch.tensor(tok_sparse.getnnz(axis=0))\n",
    "    tok_idf = torch.log((tok_sparse.shape[0]+1)/(tok_idf+1)) + 1\n",
    "    return tok_sparse.multiply(tok_idf.numpy())\n",
    "\n",
    "def display_token_stats(x:sparse.csr_matrix, min_val:Optional[float]=None, max_val:Optional[float]=None):\n",
    "    plt.figure(figsize=(7,5))\n",
    "    fig, ax = plt.subplots(1, 2, figsize=(10,5))\n",
    "    \n",
    "    if min_val is None and max_val is None: idx = np.arange(len(x.data))\n",
    "    elif min_val is None: idx = np.where(x.data < max_val)\n",
    "    elif max_val is None: idx = np.where(x.data > min_val)\n",
    "    else: idx = np.where(np.logical_and(x.data > min_val, x.data < max_val))\n",
    "    \n",
    "    o = ax[0].hist(x.data[idx], bins=100)\n",
    "    ax[0].set_xlabel(r'$metric$'); ax[0].set_ylabel(r'$frequency$')\n",
    "    ax[1].boxplot(x.data); ax[1].set_ylabel(r'$metric$')\n",
    "    plt.show()\n",
    "    \n",
    "def sparse_threshold_mask(m, min_val:int, max_val:Optional[int]=None):\n",
    "    v_m = m > min_val\n",
    "    if max_val is not None:\n",
    "        r,c = (m > max_val).nonzero()\n",
    "        v_m[r,c] = 0\n",
    "        v_m.eliminate_zeros()\n",
    "    return v_m\n"
   ]
  },
  {
   "cell_type": "code",
   "execution_count": 134,
   "id": "cf321d3f",
   "metadata": {},
   "outputs": [],
   "source": [
    "test_dset = block.test.dset.sample(n=2000, seed=50)\n",
    "metric = PrecRecl(block.n_lbl, test_dset.data.data_lbl_filterer, prop=block.train.dset.data.data_lbl,\n",
    "                  pk=10, rk=200, rep_pk=[1, 3, 5, 10], rep_rk=[10, 100, 200])"
   ]
  },
  {
   "cell_type": "markdown",
   "id": "e11f6ce1",
   "metadata": {},
   "source": [
    "### Label token pruning"
   ]
  },
  {
   "cell_type": "markdown",
   "id": "64688809",
   "metadata": {},
   "source": [
    "#### `tf-idf`"
   ]
  },
  {
   "cell_type": "code",
   "execution_count": 135,
   "id": "25aeca96",
   "metadata": {},
   "outputs": [],
   "source": [
    "lbl_tok_tfidf = compute_tok_tfidf(block.train.dset.data.lbl_info['input_ids'], n_cols=model.config.vocab_size)"
   ]
  },
  {
   "cell_type": "code",
   "execution_count": 136,
   "id": "f551790f",
   "metadata": {
    "scrolled": true
   },
   "outputs": [
    {
     "data": {
      "text/plain": [
       "<Figure size 700x500 with 0 Axes>"
      ]
     },
     "metadata": {},
     "output_type": "display_data"
    },
    {
     "data": {
      "image/png": "[encoded data removed]",
      "text/plain": [
       "<Figure size 1000x500 with 2 Axes>"
      ]
     },
     "metadata": {},
     "output_type": "display_data"
    }
   ],
   "source": [
    "display_token_stats(lbl_tok_tfidf)"
   ]
  },
  {
   "cell_type": "code",
   "execution_count": 137,
   "id": "097b8439",
   "metadata": {},
   "outputs": [
    {
     "name": "stderr",
     "output_type": "stream",
     "text": [
      "/opt/conda/envs/ptca/lib/python3.9/site-packages/scipy/sparse/_index.py:146: SparseEfficiencyWarning: Changing the sparsity structure of a csr_matrix is expensive. lil_matrix is more efficient.\n",
      "  self._set_arrayXarray(i, j, x)\n"
     ]
    }
   ],
   "source": [
    "valid_toks = sparse_threshold_mask(lbl_tok_tfidf, 2, 20)\n",
    "valid_toks[:, 101] = valid_toks[:, 102] = 1"
   ]
  },
  {
   "cell_type": "code",
   "execution_count": 43,
   "id": "f543fafc",
   "metadata": {},
   "outputs": [
    {
     "data": {
      "application/vnd.jupyter.widget-view+json": {
       "model_id": "e70baea6550c417ca20f2fa7b448b3a4",
       "version_major": 2,
       "version_minor": 0
      },
      "text/plain": [
       "  0%|          | 0/312330 [00:00<?, ?it/s]"
      ]
     },
     "metadata": {},
     "output_type": "display_data"
    }
   ],
   "source": [
    "lbl_input_ids = block.train.dset.lbl_info['input_ids']\n",
    "lbl_toks = [[t for t in toks if valid_toks[i,t]] for i,toks in tqdm(enumerate(lbl_input_ids), total=len(lbl_input_ids))]\n",
    "lbl_info = [[i] for i in range(len(lbl_toks))]"
   ]
  },
  {
   "cell_type": "code",
   "execution_count": 44,
   "id": "7d7f0f65",
   "metadata": {},
   "outputs": [
    {
     "data": {
      "application/vnd.jupyter.widget-view+json": {
       "model_id": "b1d1f21da3724a92a3d92a6939174d1c",
       "version_major": 2,
       "version_minor": 0
      },
      "text/plain": [
       "  0%|          | 0/312330 [00:00<?, ?it/s]"
      ]
     },
     "metadata": {},
     "output_type": "display_data"
    }
   ],
   "source": [
    "trie = Trie.from_list(lbl_toks, lbl_info)"
   ]
  },
  {
   "cell_type": "code",
   "execution_count": 241,
   "id": "d5a66d37",
   "metadata": {},
   "outputs": [],
   "source": [
    "#| export\n",
    "learn = XCLearner(\n",
    "    model=model, \n",
    "    args=args,\n",
    "    trie=trie,\n",
    "    train_dataset=block.train.dset,\n",
    "    eval_dataset=test_dset,\n",
    "    data_collator=block.collator,\n",
    "    compute_metrics=metric,\n",
    ")"
   ]
  },
  {
   "cell_type": "code",
   "execution_count": 46,
   "id": "f1fc5b75",
   "metadata": {},
   "outputs": [
    {
     "data": {
      "text/html": [],
      "text/plain": [
       "<IPython.core.display.HTML object>"
      ]
     },
     "metadata": {},
     "output_type": "display_data"
    }
   ],
   "source": [
    "o = learn.predict(test_dset)"
   ]
  },
  {
   "cell_type": "code",
   "execution_count": 47,
   "id": "a9dc58b6",
   "metadata": {},
   "outputs": [
    {
     "data": {
      "text/html": [
       "<div>\n",
       "<style scoped>\n",
       "    .dataframe tbody tr th:only-of-type {\n",
       "        vertical-align: middle;\n",
       "    }\n",
       "\n",
       "    .dataframe tbody tr th {\n",
       "        vertical-align: top;\n",
       "    }\n",
       "\n",
       "    .dataframe thead th {\n",
       "        text-align: right;\n",
       "    }\n",
       "</style>\n",
       "<table border=\"1\" class=\"dataframe\">\n",
       "  <thead>\n",
       "    <tr style=\"text-align: right;\">\n",
       "      <th></th>\n",
       "      <th>P@1</th>\n",
       "      <th>P@3</th>\n",
       "      <th>P@5</th>\n",
       "      <th>P@10</th>\n",
       "      <th>N@1</th>\n",
       "      <th>N@3</th>\n",
       "      <th>N@5</th>\n",
       "      <th>N@10</th>\n",
       "      <th>PSP@1</th>\n",
       "      <th>PSP@3</th>\n",
       "      <th>PSP@5</th>\n",
       "      <th>PSP@10</th>\n",
       "      <th>PSN@1</th>\n",
       "      <th>PSN@3</th>\n",
       "      <th>PSN@5</th>\n",
       "      <th>PSN@10</th>\n",
       "      <th>R@10</th>\n",
       "      <th>R@100</th>\n",
       "      <th>R@200</th>\n",
       "      <th>loss</th>\n",
       "      <th>runtime</th>\n",
       "      <th>samples_per_second</th>\n",
       "      <th>steps_per_second</th>\n",
       "    </tr>\n",
       "  </thead>\n",
       "  <tbody>\n",
       "    <tr>\n",
       "      <th>0</th>\n",
       "      <td>14.65</td>\n",
       "      <td>9.5</td>\n",
       "      <td>7.29</td>\n",
       "      <td>4.54</td>\n",
       "      <td>14.65</td>\n",
       "      <td>14.3032</td>\n",
       "      <td>14.9669</td>\n",
       "      <td>15.9476</td>\n",
       "      <td>9.5401</td>\n",
       "      <td>9.9268</td>\n",
       "      <td>11.0157</td>\n",
       "      <td>12.4596</td>\n",
       "      <td>9.5401</td>\n",
       "      <td>10.3685</td>\n",
       "      <td>11.318</td>\n",
       "      <td>12.2291</td>\n",
       "      <td>18.8138</td>\n",
       "      <td>18.8841</td>\n",
       "      <td>18.8841</td>\n",
       "      <td>4.4093</td>\n",
       "      <td>124.9635</td>\n",
       "      <td>16.005</td>\n",
       "      <td>0.024</td>\n",
       "    </tr>\n",
       "  </tbody>\n",
       "</table>\n",
       "</div>"
      ],
      "text/plain": [
       "     P@1  P@3   P@5  P@10    N@1      N@3      N@5     N@10   PSP@1   PSP@3  \\\n",
       "0  14.65  9.5  7.29  4.54  14.65  14.3032  14.9669  15.9476  9.5401  9.9268   \n",
       "\n",
       "     PSP@5   PSP@10   PSN@1    PSN@3   PSN@5   PSN@10     R@10    R@100  \\\n",
       "0  11.0157  12.4596  9.5401  10.3685  11.318  12.2291  18.8138  18.8841   \n",
       "\n",
       "     R@200    loss   runtime  samples_per_second  steps_per_second  \n",
       "0  18.8841  4.4093  124.9635              16.005             0.024  "
      ]
     },
     "metadata": {},
     "output_type": "display_data"
    }
   ],
   "source": [
    "display_metric(o.metrics)"
   ]
  },
  {
   "cell_type": "markdown",
   "id": "3ca952c7",
   "metadata": {},
   "source": [
    "#### `idf`"
   ]
  },
  {
   "cell_type": "code",
   "execution_count": 140,
   "id": "f86db910",
   "metadata": {},
   "outputs": [],
   "source": [
    "lbl_tok_sparse = get_tok_sparse(block.train.dset.data.lbl_info['input_ids'], n_cols=model.config.vocab_size)\n",
    "lbl_tok_idf = np.log((lbl_tok_sparse.shape[0]+1)/(lbl_tok_sparse.getnnz(axis=0)+1))+1"
   ]
  },
  {
   "cell_type": "code",
   "execution_count": 183,
   "id": "594ee915",
   "metadata": {
    "scrolled": true
   },
   "outputs": [
    {
     "data": {
      "text/plain": [
       "<Figure size 700x500 with 0 Axes>"
      ]
     },
     "metadata": {},
     "output_type": "display_data"
    },
    {
     "data": {
      "image/png": "[encoded data removed]",
      "text/plain": [
       "<Figure size 1000x500 with 2 Axes>"
      ]
     },
     "metadata": {},
     "output_type": "display_data"
    }
   ],
   "source": [
    "display_token_stats(sparse.csr_matrix(lbl_tok_idf), 0, 12)"
   ]
  },
  {
   "cell_type": "code",
   "execution_count": 184,
   "id": "6214e039",
   "metadata": {},
   "outputs": [],
   "source": [
    "valid_toks = np.logical_and(lbl_tok_idf > 4, lbl_tok_idf < 12)\n",
    "valid_toks[101] = valid_toks[102] = 1"
   ]
  },
  {
   "cell_type": "code",
   "execution_count": 185,
   "id": "e94dd9a0",
   "metadata": {},
   "outputs": [
    {
     "data": {
      "application/vnd.jupyter.widget-view+json": {
       "model_id": "4feb81d2756c40aebbcf60f04cfc393b",
       "version_major": 2,
       "version_minor": 0
      },
      "text/plain": [
       "  0%|          | 0/312330 [00:00<?, ?it/s]"
      ]
     },
     "metadata": {},
     "output_type": "display_data"
    }
   ],
   "source": [
    "lbl_input_ids = block.train.dset.lbl_info['input_ids']\n",
    "lbl_toks = [[t for t in toks if valid_toks[t]] for toks in tqdm(lbl_input_ids, total=len(lbl_input_ids))]\n",
    "lbl_info = [[i] for i in range(len(lbl_toks))]"
   ]
  },
  {
   "cell_type": "code",
   "execution_count": 186,
   "id": "de8b9f07",
   "metadata": {},
   "outputs": [
    {
     "data": {
      "application/vnd.jupyter.widget-view+json": {
       "model_id": "bf12f43a8ed9498695cabc8bddd891ec",
       "version_major": 2,
       "version_minor": 0
      },
      "text/plain": [
       "  0%|          | 0/312330 [00:00<?, ?it/s]"
      ]
     },
     "metadata": {},
     "output_type": "display_data"
    }
   ],
   "source": [
    "trie = Trie.from_list(lbl_toks, lbl_info)"
   ]
  },
  {
   "cell_type": "code",
   "execution_count": 187,
   "id": "d8c649f7",
   "metadata": {},
   "outputs": [],
   "source": [
    "learn = XCLearner(\n",
    "    model=model, \n",
    "    args=args,\n",
    "    trie=trie,\n",
    "    train_dataset=block.train.dset,\n",
    "    eval_dataset=test_dset,\n",
    "    data_collator=block.collator,\n",
    "    compute_metrics=metric,\n",
    ")"
   ]
  },
  {
   "cell_type": "code",
   "execution_count": 188,
   "id": "026fc0ad",
   "metadata": {},
   "outputs": [
    {
     "data": {
      "text/html": [],
      "text/plain": [
       "<IPython.core.display.HTML object>"
      ]
     },
     "metadata": {},
     "output_type": "display_data"
    },
    {
     "name": "stderr",
     "output_type": "stream",
     "text": [
      "/opt/conda/envs/ptca/lib/python3.9/site-packages/scipy/sparse/_index.py:146: SparseEfficiencyWarning: Changing the sparsity structure of a csr_matrix is expensive. lil_matrix is more efficient.\n",
      "  self._set_arrayXarray(i, j, x)\n"
     ]
    }
   ],
   "source": [
    "o = learn.predict(test_dset)"
   ]
  },
  {
   "cell_type": "code",
   "execution_count": 189,
   "id": "1ae7bf78",
   "metadata": {},
   "outputs": [
    {
     "data": {
      "text/html": [
       "<div>\n",
       "<style scoped>\n",
       "    .dataframe tbody tr th:only-of-type {\n",
       "        vertical-align: middle;\n",
       "    }\n",
       "\n",
       "    .dataframe tbody tr th {\n",
       "        vertical-align: top;\n",
       "    }\n",
       "\n",
       "    .dataframe thead th {\n",
       "        text-align: right;\n",
       "    }\n",
       "</style>\n",
       "<table border=\"1\" class=\"dataframe\">\n",
       "  <thead>\n",
       "    <tr style=\"text-align: right;\">\n",
       "      <th></th>\n",
       "      <th>P@1</th>\n",
       "      <th>P@3</th>\n",
       "      <th>P@5</th>\n",
       "      <th>P@10</th>\n",
       "      <th>N@1</th>\n",
       "      <th>N@3</th>\n",
       "      <th>N@5</th>\n",
       "      <th>N@10</th>\n",
       "      <th>PSP@1</th>\n",
       "      <th>PSP@3</th>\n",
       "      <th>PSP@5</th>\n",
       "      <th>PSP@10</th>\n",
       "      <th>PSN@1</th>\n",
       "      <th>PSN@3</th>\n",
       "      <th>PSN@5</th>\n",
       "      <th>PSN@10</th>\n",
       "      <th>R@10</th>\n",
       "      <th>R@100</th>\n",
       "      <th>R@200</th>\n",
       "      <th>loss</th>\n",
       "      <th>runtime</th>\n",
       "      <th>samples_per_second</th>\n",
       "      <th>steps_per_second</th>\n",
       "    </tr>\n",
       "  </thead>\n",
       "  <tbody>\n",
       "    <tr>\n",
       "      <th>0</th>\n",
       "      <td>11.2</td>\n",
       "      <td>7.6167</td>\n",
       "      <td>5.93</td>\n",
       "      <td>3.775</td>\n",
       "      <td>11.2</td>\n",
       "      <td>10.6053</td>\n",
       "      <td>11.0807</td>\n",
       "      <td>11.8745</td>\n",
       "      <td>8.5325</td>\n",
       "      <td>9.0766</td>\n",
       "      <td>10.0386</td>\n",
       "      <td>11.5378</td>\n",
       "      <td>8.5325</td>\n",
       "      <td>8.8794</td>\n",
       "      <td>9.6252</td>\n",
       "      <td>10.4502</td>\n",
       "      <td>14.294</td>\n",
       "      <td>14.8946</td>\n",
       "      <td>14.8946</td>\n",
       "      <td>4.16</td>\n",
       "      <td>100.0913</td>\n",
       "      <td>19.982</td>\n",
       "      <td>0.03</td>\n",
       "    </tr>\n",
       "  </tbody>\n",
       "</table>\n",
       "</div>"
      ],
      "text/plain": [
       "    P@1     P@3   P@5   P@10   N@1      N@3      N@5     N@10   PSP@1   PSP@3  \\\n",
       "0  11.2  7.6167  5.93  3.775  11.2  10.6053  11.0807  11.8745  8.5325  9.0766   \n",
       "\n",
       "     PSP@5   PSP@10   PSN@1   PSN@3   PSN@5   PSN@10    R@10    R@100  \\\n",
       "0  10.0386  11.5378  8.5325  8.8794  9.6252  10.4502  14.294  14.8946   \n",
       "\n",
       "     R@200  loss   runtime  samples_per_second  steps_per_second  \n",
       "0  14.8946  4.16  100.0913              19.982              0.03  "
      ]
     },
     "metadata": {},
     "output_type": "display_data"
    }
   ],
   "source": [
    "display_metric(o.metrics)"
   ]
  },
  {
   "cell_type": "markdown",
   "id": "edc1e605",
   "metadata": {},
   "source": [
    "### Input token pruning"
   ]
  },
  {
   "cell_type": "markdown",
   "id": "004ab5e1",
   "metadata": {},
   "source": [
    "#### `tfidf`"
   ]
  },
  {
   "cell_type": "code",
   "execution_count": 212,
   "id": "910f1883",
   "metadata": {},
   "outputs": [],
   "source": [
    "data_tok_sparse = get_tok_sparse(block.train.dset.data.data_info['input_ids'], n_cols=model.config.vocab_size)\n",
    "data_tok_idf = np.log((data_tok_sparse.shape[0]+1)/(data_tok_sparse.getnnz(axis=0)+1))+1"
   ]
  },
  {
   "cell_type": "code",
   "execution_count": 213,
   "id": "97e0b79e",
   "metadata": {},
   "outputs": [],
   "source": [
    "test_tok_sparse = get_tok_sparse(test_dset.data.data_info['input_ids'], n_cols=model.config.vocab_size)\n",
    "test_tok_tfidf = test_tok_sparse.multiply(data_tok_idf)"
   ]
  },
  {
   "cell_type": "code",
   "execution_count": 214,
   "id": "b301daee",
   "metadata": {
    "scrolled": true
   },
   "outputs": [
    {
     "data": {
      "text/plain": [
       "<Figure size 700x500 with 0 Axes>"
      ]
     },
     "metadata": {},
     "output_type": "display_data"
    },
    {
     "data": {
      "image/png": "[encoded data removed]",
      "text/plain": [
       "<Figure size 1000x500 with 2 Axes>"
      ]
     },
     "metadata": {},
     "output_type": "display_data"
    }
   ],
   "source": [
    "display_token_stats(data_tok_tfidf, 2)"
   ]
  },
  {
   "cell_type": "code",
   "execution_count": 215,
   "id": "f60f898e",
   "metadata": {},
   "outputs": [
    {
     "name": "stderr",
     "output_type": "stream",
     "text": [
      "/opt/conda/envs/ptca/lib/python3.9/site-packages/scipy/sparse/_index.py:146: SparseEfficiencyWarning: Changing the sparsity structure of a csr_matrix is expensive. lil_matrix is more efficient.\n",
      "  self._set_arrayXarray(i, j, x)\n"
     ]
    }
   ],
   "source": [
    "valid_toks = sparse_threshold_mask(test_tok_tfidf, 4, 20)\n",
    "valid_toks[:, 101] = valid_toks[:, 102] = 1"
   ]
  },
  {
   "cell_type": "code",
   "execution_count": 216,
   "id": "aa21ca47",
   "metadata": {},
   "outputs": [],
   "source": [
    "test_dset = block.test.dset.sample(n=2000, seed=50)\n",
    "metric = PrecRecl(block.n_lbl, test_dset.data.data_lbl_filterer, prop=block.train.dset.data.data_lbl,\n",
    "                  pk=10, rk=200, rep_pk=[1, 3, 5, 10], rep_rk=[10, 100, 200])"
   ]
  },
  {
   "cell_type": "code",
   "execution_count": 217,
   "id": "f849fee3",
   "metadata": {},
   "outputs": [
    {
     "data": {
      "application/vnd.jupyter.widget-view+json": {
       "model_id": "e33dd03d308747b393e4dcae5379446d",
       "version_major": 2,
       "version_minor": 0
      },
      "text/plain": [
       "  0%|          | 0/2000 [00:00<?, ?it/s]"
      ]
     },
     "metadata": {},
     "output_type": "display_data"
    }
   ],
   "source": [
    "test_input_ids = test_dset.data.data_info['input_ids']\n",
    "test_toks = [[t for t in toks if valid_toks[i,t]] for i,toks in tqdm(enumerate(test_input_ids), total=len(test_input_ids))]\n",
    "\n",
    "test_attention_mask = test_dset.data.data_info['attention_mask']\n",
    "test_mask = [p[:len(q)] for p,q in zip(test_attention_mask,test_toks)]\n"
   ]
  },
  {
   "cell_type": "code",
   "execution_count": 218,
   "id": "aa076395",
   "metadata": {},
   "outputs": [],
   "source": [
    "test_dset.data.data_info['input_ids'] = test_toks\n",
    "test_dset.data.data_info['attention_mask'] = test_mask"
   ]
  },
  {
   "cell_type": "code",
   "execution_count": 219,
   "id": "7c7c174d",
   "metadata": {},
   "outputs": [
    {
     "data": {
      "text/html": [],
      "text/plain": [
       "<IPython.core.display.HTML object>"
      ]
     },
     "metadata": {},
     "output_type": "display_data"
    }
   ],
   "source": [
    "o = learn.predict(test_dset)"
   ]
  },
  {
   "cell_type": "code",
   "execution_count": 220,
   "id": "3b93241a",
   "metadata": {},
   "outputs": [
    {
     "data": {
      "text/html": [
       "<div>\n",
       "<style scoped>\n",
       "    .dataframe tbody tr th:only-of-type {\n",
       "        vertical-align: middle;\n",
       "    }\n",
       "\n",
       "    .dataframe tbody tr th {\n",
       "        vertical-align: top;\n",
       "    }\n",
       "\n",
       "    .dataframe thead th {\n",
       "        text-align: right;\n",
       "    }\n",
       "</style>\n",
       "<table border=\"1\" class=\"dataframe\">\n",
       "  <thead>\n",
       "    <tr style=\"text-align: right;\">\n",
       "      <th></th>\n",
       "      <th>P@1</th>\n",
       "      <th>P@3</th>\n",
       "      <th>P@5</th>\n",
       "      <th>P@10</th>\n",
       "      <th>N@1</th>\n",
       "      <th>N@3</th>\n",
       "      <th>N@5</th>\n",
       "      <th>N@10</th>\n",
       "      <th>PSP@1</th>\n",
       "      <th>PSP@3</th>\n",
       "      <th>PSP@5</th>\n",
       "      <th>PSP@10</th>\n",
       "      <th>PSN@1</th>\n",
       "      <th>PSN@3</th>\n",
       "      <th>PSN@5</th>\n",
       "      <th>PSN@10</th>\n",
       "      <th>R@10</th>\n",
       "      <th>R@100</th>\n",
       "      <th>R@200</th>\n",
       "      <th>loss</th>\n",
       "      <th>runtime</th>\n",
       "      <th>samples_per_second</th>\n",
       "      <th>steps_per_second</th>\n",
       "    </tr>\n",
       "  </thead>\n",
       "  <tbody>\n",
       "    <tr>\n",
       "      <th>0</th>\n",
       "      <td>11.15</td>\n",
       "      <td>7.15</td>\n",
       "      <td>5.72</td>\n",
       "      <td>3.63</td>\n",
       "      <td>11.15</td>\n",
       "      <td>10.125</td>\n",
       "      <td>10.7174</td>\n",
       "      <td>11.4556</td>\n",
       "      <td>8.3547</td>\n",
       "      <td>8.398</td>\n",
       "      <td>9.5529</td>\n",
       "      <td>11.1082</td>\n",
       "      <td>8.3547</td>\n",
       "      <td>8.3778</td>\n",
       "      <td>9.2087</td>\n",
       "      <td>10.065</td>\n",
       "      <td>13.8329</td>\n",
       "      <td>14.4893</td>\n",
       "      <td>14.4893</td>\n",
       "      <td>4.4377</td>\n",
       "      <td>69.1071</td>\n",
       "      <td>28.941</td>\n",
       "      <td>0.043</td>\n",
       "    </tr>\n",
       "  </tbody>\n",
       "</table>\n",
       "</div>"
      ],
      "text/plain": [
       "     P@1   P@3   P@5  P@10    N@1     N@3      N@5     N@10   PSP@1  PSP@3  \\\n",
       "0  11.15  7.15  5.72  3.63  11.15  10.125  10.7174  11.4556  8.3547  8.398   \n",
       "\n",
       "    PSP@5   PSP@10   PSN@1   PSN@3   PSN@5  PSN@10     R@10    R@100    R@200  \\\n",
       "0  9.5529  11.1082  8.3547  8.3778  9.2087  10.065  13.8329  14.4893  14.4893   \n",
       "\n",
       "     loss  runtime  samples_per_second  steps_per_second  \n",
       "0  4.4377  69.1071              28.941             0.043  "
      ]
     },
     "metadata": {},
     "output_type": "display_data"
    }
   ],
   "source": [
    "display_metric(o.metrics)"
   ]
  },
  {
   "cell_type": "markdown",
   "id": "f26a628c",
   "metadata": {},
   "source": [
    "#### `idf`"
   ]
  },
  {
   "cell_type": "code",
   "execution_count": 221,
   "id": "bd2dcbea",
   "metadata": {},
   "outputs": [],
   "source": [
    "data_tok_sparse = get_tok_sparse(block.train.dset.data.data_info['input_ids'], n_cols=model.config.vocab_size)\n",
    "data_tok_idf = np.log((data_tok_sparse.shape[0]+1)/(data_tok_sparse.getnnz(axis=0)+1))+1"
   ]
  },
  {
   "cell_type": "code",
   "execution_count": 229,
   "id": "67079bb4",
   "metadata": {},
   "outputs": [
    {
     "data": {
      "text/plain": [
       "<Figure size 700x500 with 0 Axes>"
      ]
     },
     "metadata": {},
     "output_type": "display_data"
    },
    {
     "data": {
      "image/png": "[encoded data removed]",
      "text/plain": [
       "<Figure size 1000x500 with 2 Axes>"
      ]
     },
     "metadata": {},
     "output_type": "display_data"
    }
   ],
   "source": [
    "display_token_stats(sparse.csr_matrix(data_tok_idf), 4, 20)"
   ]
  },
  {
   "cell_type": "code",
   "execution_count": 258,
   "id": "a06ac59e",
   "metadata": {},
   "outputs": [],
   "source": [
    "valid_toks = np.logical_and(data_tok_idf > 2, data_tok_idf < 12)\n",
    "valid_toks[101] = valid_toks[102] = 1"
   ]
  },
  {
   "cell_type": "code",
   "execution_count": 259,
   "id": "d7e86c7f",
   "metadata": {},
   "outputs": [],
   "source": [
    "test_dset = block.test.dset.sample(n=2000, seed=50)\n",
    "metric = PrecRecl(block.n_lbl, test_dset.data.data_lbl_filterer, prop=block.train.dset.data.data_lbl,\n",
    "                  pk=10, rk=200, rep_pk=[1, 3, 5, 10], rep_rk=[10, 100, 200])"
   ]
  },
  {
   "cell_type": "code",
   "execution_count": 260,
   "id": "70f234c5",
   "metadata": {},
   "outputs": [
    {
     "data": {
      "application/vnd.jupyter.widget-view+json": {
       "model_id": "0271c226e05641b39b9f36d48d160fff",
       "version_major": 2,
       "version_minor": 0
      },
      "text/plain": [
       "  0%|          | 0/2000 [00:00<?, ?it/s]"
      ]
     },
     "metadata": {},
     "output_type": "display_data"
    }
   ],
   "source": [
    "test_input_ids = test_dset.data.data_info['input_ids']\n",
    "test_toks = [[t for t in toks if valid_toks[t]] for toks in tqdm(test_input_ids, total=len(test_input_ids))]\n",
    "\n",
    "test_attention_mask = test_dset.data.data_info['attention_mask']\n",
    "test_mask = [p[:len(q)] for p,q in zip(test_attention_mask,test_toks)]"
   ]
  },
  {
   "cell_type": "code",
   "execution_count": 261,
   "id": "1160d6a8",
   "metadata": {},
   "outputs": [],
   "source": [
    "test_dset.data.data_info['input_ids'] = test_toks\n",
    "test_dset.data.data_info['attention_mask'] = test_mask"
   ]
  },
  {
   "cell_type": "code",
   "execution_count": 262,
   "id": "75366469",
   "metadata": {},
   "outputs": [
    {
     "data": {
      "text/html": [],
      "text/plain": [
       "<IPython.core.display.HTML object>"
      ]
     },
     "metadata": {},
     "output_type": "display_data"
    },
    {
     "name": "stderr",
     "output_type": "stream",
     "text": [
      "/opt/conda/envs/ptca/lib/python3.9/site-packages/scipy/sparse/_index.py:146: SparseEfficiencyWarning: Changing the sparsity structure of a csr_matrix is expensive. lil_matrix is more efficient.\n",
      "  self._set_arrayXarray(i, j, x)\n"
     ]
    }
   ],
   "source": [
    "o = learn.predict(test_dset)"
   ]
  },
  {
   "cell_type": "code",
   "execution_count": 263,
   "id": "592ba1be",
   "metadata": {},
   "outputs": [
    {
     "data": {
      "text/html": [
       "<div>\n",
       "<style scoped>\n",
       "    .dataframe tbody tr th:only-of-type {\n",
       "        vertical-align: middle;\n",
       "    }\n",
       "\n",
       "    .dataframe tbody tr th {\n",
       "        vertical-align: top;\n",
       "    }\n",
       "\n",
       "    .dataframe thead th {\n",
       "        text-align: right;\n",
       "    }\n",
       "</style>\n",
       "<table border=\"1\" class=\"dataframe\">\n",
       "  <thead>\n",
       "    <tr style=\"text-align: right;\">\n",
       "      <th></th>\n",
       "      <th>P@1</th>\n",
       "      <th>P@3</th>\n",
       "      <th>P@5</th>\n",
       "      <th>P@10</th>\n",
       "      <th>N@1</th>\n",
       "      <th>N@3</th>\n",
       "      <th>N@5</th>\n",
       "      <th>N@10</th>\n",
       "      <th>PSP@1</th>\n",
       "      <th>PSP@3</th>\n",
       "      <th>PSP@5</th>\n",
       "      <th>PSP@10</th>\n",
       "      <th>PSN@1</th>\n",
       "      <th>PSN@3</th>\n",
       "      <th>PSN@5</th>\n",
       "      <th>PSN@10</th>\n",
       "      <th>R@10</th>\n",
       "      <th>R@100</th>\n",
       "      <th>R@200</th>\n",
       "      <th>loss</th>\n",
       "      <th>runtime</th>\n",
       "      <th>samples_per_second</th>\n",
       "      <th>steps_per_second</th>\n",
       "    </tr>\n",
       "  </thead>\n",
       "  <tbody>\n",
       "    <tr>\n",
       "      <th>0</th>\n",
       "      <td>14.15</td>\n",
       "      <td>9.1667</td>\n",
       "      <td>7.09</td>\n",
       "      <td>4.43</td>\n",
       "      <td>14.15</td>\n",
       "      <td>13.8568</td>\n",
       "      <td>14.5805</td>\n",
       "      <td>15.5682</td>\n",
       "      <td>9.0567</td>\n",
       "      <td>9.4899</td>\n",
       "      <td>10.5785</td>\n",
       "      <td>12.0207</td>\n",
       "      <td>9.0567</td>\n",
       "      <td>9.9287</td>\n",
       "      <td>10.9006</td>\n",
       "      <td>11.8059</td>\n",
       "      <td>18.5194</td>\n",
       "      <td>18.6034</td>\n",
       "      <td>18.6034</td>\n",
       "      <td>4.3845</td>\n",
       "      <td>106.7983</td>\n",
       "      <td>18.727</td>\n",
       "      <td>0.028</td>\n",
       "    </tr>\n",
       "  </tbody>\n",
       "</table>\n",
       "</div>"
      ],
      "text/plain": [
       "     P@1     P@3   P@5  P@10    N@1      N@3      N@5     N@10   PSP@1  \\\n",
       "0  14.15  9.1667  7.09  4.43  14.15  13.8568  14.5805  15.5682  9.0567   \n",
       "\n",
       "    PSP@3    PSP@5   PSP@10   PSN@1   PSN@3    PSN@5   PSN@10     R@10  \\\n",
       "0  9.4899  10.5785  12.0207  9.0567  9.9287  10.9006  11.8059  18.5194   \n",
       "\n",
       "     R@100    R@200    loss   runtime  samples_per_second  steps_per_second  \n",
       "0  18.6034  18.6034  4.3845  106.7983              18.727             0.028  "
      ]
     },
     "metadata": {},
     "output_type": "display_data"
    }
   ],
   "source": [
    "display_metric(o.metrics)"
   ]
  },
  {
   "cell_type": "markdown",
   "id": "db9ae671",
   "metadata": {},
   "source": [
    "## Inference with `trie` pruning"
   ]
  },
  {
   "cell_type": "code",
   "execution_count": 119,
   "id": "9c3c5419",
   "metadata": {},
   "outputs": [
    {
     "data": {
      "application/vnd.jupyter.widget-view+json": {
       "model_id": "dd9120497b0047b78cf817380880e2b4",
       "version_major": 2,
       "version_minor": 0
      },
      "text/plain": [
       "  0%|          | 0/312330 [00:00<?, ?it/s]"
      ]
     },
     "metadata": {},
     "output_type": "display_data"
    },
    {
     "data": {
      "application/vnd.jupyter.widget-view+json": {
       "model_id": "68a87dfeac134c88b3f7034a0b21110c",
       "version_major": 2,
       "version_minor": 0
      },
      "text/plain": [
       "  0%|          | 0/312330 [00:00<?, ?it/s]"
      ]
     },
     "metadata": {},
     "output_type": "display_data"
    }
   ],
   "source": [
    "block = TriePruneInputIdsTfm.apply(block, 'train.dset.data.lbl_info')\n",
    "block = TriePruneInputIdsTfm.apply(block, 'test.dset.data.lbl_info')"
   ]
  },
  {
   "cell_type": "code",
   "execution_count": 123,
   "id": "0955ff8c",
   "metadata": {},
   "outputs": [],
   "source": [
    "block.train.dset.data.lbl_info['input_ids'] = block.train.dset.data.lbl_info['input_ids_prn_tre']\n",
    "block.train.dset.data.lbl_info['attention_mask'] = block.train.dset.data.lbl_info['attention_mask_prn_tre']\n",
    "\n",
    "block.test.dset.data.lbl_info['input_ids'] = block.test.dset.data.lbl_info['input_ids_prn_tre']\n",
    "block.test.dset.data.lbl_info['attention_mask'] = block.test.dset.data.lbl_info['attention_mask_prn_tre']"
   ]
  },
  {
   "cell_type": "code",
   "execution_count": 124,
   "id": "51c67101",
   "metadata": {},
   "outputs": [
    {
     "data": {
      "application/vnd.jupyter.widget-view+json": {
       "model_id": "b0a89fc761d4452d8e74559e200ba542",
       "version_major": 2,
       "version_minor": 0
      },
      "text/plain": [
       "  0%|          | 0/312330 [00:00<?, ?it/s]"
      ]
     },
     "metadata": {},
     "output_type": "display_data"
    }
   ],
   "source": [
    "trie = XCTrie.from_block(block)"
   ]
  },
  {
   "cell_type": "code",
   "execution_count": 125,
   "id": "0c1b3e6a",
   "metadata": {},
   "outputs": [],
   "source": [
    "test_dset = block.test.dset.sample(n=2000, seed=50)\n",
    "metric = PrecRecl(block.n_lbl, test_dset.data.data_lbl_filterer, prop=block.train.dset.data.data_lbl,\n",
    "                  pk=10, rk=200, rep_pk=[1, 3, 5, 10], rep_rk=[10, 100, 200])"
   ]
  },
  {
   "cell_type": "code",
   "execution_count": 126,
   "id": "1dff7234",
   "metadata": {},
   "outputs": [],
   "source": [
    "learn = XCLearner(\n",
    "    model=model, \n",
    "    args=args,\n",
    "    trie=trie,\n",
    "    train_dataset=block.train.dset,\n",
    "    eval_dataset=test_dset,\n",
    "    data_collator=block.collator,\n",
    "    compute_metrics=metric,\n",
    ")"
   ]
  },
  {
   "cell_type": "code",
   "execution_count": 127,
   "id": "b553daf5",
   "metadata": {},
   "outputs": [
    {
     "data": {
      "text/html": [],
      "text/plain": [
       "<IPython.core.display.HTML object>"
      ]
     },
     "metadata": {},
     "output_type": "display_data"
    },
    {
     "name": "stderr",
     "output_type": "stream",
     "text": [
      "/opt/conda/envs/ptca/lib/python3.9/site-packages/scipy/sparse/_index.py:146: SparseEfficiencyWarning: Changing the sparsity structure of a csr_matrix is expensive. lil_matrix is more efficient.\n",
      "  self._set_arrayXarray(i, j, x)\n"
     ]
    }
   ],
   "source": [
    "o = learn.predict(test_dset)"
   ]
  },
  {
   "cell_type": "code",
   "execution_count": 128,
   "id": "49385f59",
   "metadata": {},
   "outputs": [
    {
     "data": {
      "text/html": [
       "<div>\n",
       "<style scoped>\n",
       "    .dataframe tbody tr th:only-of-type {\n",
       "        vertical-align: middle;\n",
       "    }\n",
       "\n",
       "    .dataframe tbody tr th {\n",
       "        vertical-align: top;\n",
       "    }\n",
       "\n",
       "    .dataframe thead th {\n",
       "        text-align: right;\n",
       "    }\n",
       "</style>\n",
       "<table border=\"1\" class=\"dataframe\">\n",
       "  <thead>\n",
       "    <tr style=\"text-align: right;\">\n",
       "      <th></th>\n",
       "      <th>P@1</th>\n",
       "      <th>P@3</th>\n",
       "      <th>P@5</th>\n",
       "      <th>P@10</th>\n",
       "      <th>N@1</th>\n",
       "      <th>N@3</th>\n",
       "      <th>N@5</th>\n",
       "      <th>N@10</th>\n",
       "      <th>PSP@1</th>\n",
       "      <th>PSP@3</th>\n",
       "      <th>PSP@5</th>\n",
       "      <th>PSP@10</th>\n",
       "      <th>PSN@1</th>\n",
       "      <th>PSN@3</th>\n",
       "      <th>PSN@5</th>\n",
       "      <th>PSN@10</th>\n",
       "      <th>R@10</th>\n",
       "      <th>R@100</th>\n",
       "      <th>R@200</th>\n",
       "      <th>loss</th>\n",
       "      <th>runtime</th>\n",
       "      <th>samples_per_second</th>\n",
       "      <th>steps_per_second</th>\n",
       "    </tr>\n",
       "  </thead>\n",
       "  <tbody>\n",
       "    <tr>\n",
       "      <th>0</th>\n",
       "      <td>15.6</td>\n",
       "      <td>9.8333</td>\n",
       "      <td>7.34</td>\n",
       "      <td>4.705</td>\n",
       "      <td>15.6</td>\n",
       "      <td>14.8807</td>\n",
       "      <td>15.375</td>\n",
       "      <td>16.4857</td>\n",
       "      <td>10.2486</td>\n",
       "      <td>10.4222</td>\n",
       "      <td>11.1889</td>\n",
       "      <td>13.1563</td>\n",
       "      <td>10.2486</td>\n",
       "      <td>10.8805</td>\n",
       "      <td>11.6432</td>\n",
       "      <td>12.7617</td>\n",
       "      <td>19.1571</td>\n",
       "      <td>19.1982</td>\n",
       "      <td>19.1982</td>\n",
       "      <td>4.16</td>\n",
       "      <td>129.1414</td>\n",
       "      <td>15.487</td>\n",
       "      <td>0.023</td>\n",
       "    </tr>\n",
       "  </tbody>\n",
       "</table>\n",
       "</div>"
      ],
      "text/plain": [
       "    P@1     P@3   P@5   P@10   N@1      N@3     N@5     N@10    PSP@1  \\\n",
       "0  15.6  9.8333  7.34  4.705  15.6  14.8807  15.375  16.4857  10.2486   \n",
       "\n",
       "     PSP@3    PSP@5   PSP@10    PSN@1    PSN@3    PSN@5   PSN@10     R@10  \\\n",
       "0  10.4222  11.1889  13.1563  10.2486  10.8805  11.6432  12.7617  19.1571   \n",
       "\n",
       "     R@100    R@200  loss   runtime  samples_per_second  steps_per_second  \n",
       "0  19.1982  19.1982  4.16  129.1414              15.487             0.023  "
      ]
     },
     "metadata": {},
     "output_type": "display_data"
    }
   ],
   "source": [
    "display_metric(o.metrics)"
   ]
  },
  {
   "cell_type": "code",
   "execution_count": null,
   "id": "ba2b32cc",
   "metadata": {},
   "outputs": [],
   "source": []
  },
  {
   "cell_type": "code",
   "execution_count": null,
   "id": "3a64583d",
   "metadata": {},
   "outputs": [],
   "source": []
  }
 ],
 "metadata": {
  "kernelspec": {
   "display_name": "Python 3 (ipykernel)",
   "language": "python",
   "name": "python3"
  },
  "language_info": {
   "codemirror_mode": {
    "name": "ipython",
    "version": 3
   },
   "file_extension": ".py",
   "mimetype": "text/x-python",
   "name": "python",
   "nbconvert_exporter": "python",
   "pygments_lexer": "ipython3",
   "version": "3.9.18"
  }
 },
 "nbformat": 4,
 "nbformat_minor": 5
}
