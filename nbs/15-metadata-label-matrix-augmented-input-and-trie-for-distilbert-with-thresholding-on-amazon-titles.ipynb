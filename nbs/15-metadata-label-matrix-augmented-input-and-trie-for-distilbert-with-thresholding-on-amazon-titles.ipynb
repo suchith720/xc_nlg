{
 "cells": [
  {
   "cell_type": "code",
   "execution_count": null,
   "id": "d6e18985-f27c-4001-99e6-fb2929f173d9",
   "metadata": {},
   "outputs": [],
   "source": [
    "#| default_exp 15-metadata-label-matrix-augmented-input-and-trie-for-distilbert-with-thresholding-on-amazon-titles"
   ]
  },
  {
   "cell_type": "code",
   "execution_count": null,
   "id": "4a6790b0-1931-4a3f-a15c-19e27863087c",
   "metadata": {},
   "outputs": [],
   "source": [
    "%load_ext autoreload\n",
    "%autoreload 2"
   ]
  },
  {
   "cell_type": "code",
   "execution_count": null,
   "id": "a78c0853-f45e-4445-8968-8396896eab85",
   "metadata": {},
   "outputs": [
    {
     "name": "stderr",
     "output_type": "stream",
     "text": [
      "comet_ml is installed but `COMET_API_KEY` is not set.\n"
     ]
    }
   ],
   "source": [
    "#| export\n",
    "import os, pandas as pd, warnings, torch, pickle, numpy as np\n",
    "from tqdm.auto import tqdm\n",
    "from scipy import stats\n",
    "\n",
    "import xclib.utils.sparse as xs\n",
    "\n",
    "from xcai.basics import *\n",
    "from xcai.models.MMM00X import DBT007, DBT008\n",
    "from xcai.transform import AugmentMetaInputIdsTfm"
   ]
  },
  {
   "cell_type": "code",
   "execution_count": null,
   "id": "7694e4d1-f5f5-4c60-b95f-f6bef6f7ee22",
   "metadata": {},
   "outputs": [],
   "source": [
    "#| export\n",
    "os.environ['WANDB_MODE'] = 'disabled'"
   ]
  },
  {
   "cell_type": "code",
   "execution_count": null,
   "id": "965fa00a-aee1-462a-b221-827e5892f32a",
   "metadata": {},
   "outputs": [],
   "source": [
    "#| export\n",
    "dump_dir = '/scratch/scai/phd/aiz218323/Projects/xc_nlg/outputs/\\\n",
    "15-metadata-label-matrix-augmented-input-and-trie-for-distilbert-with-thresholding-on-amazon-titles'"
   ]
  },
  {
   "cell_type": "code",
   "execution_count": null,
   "id": "bb15a1a8-2ba1-4e85-90aa-0abf94a2058c",
   "metadata": {},
   "outputs": [
    {
     "name": "stderr",
     "output_type": "stream",
     "text": [
      "/home/scai/phd/aiz218323/.local/lib/python3.9/site-packages/xclib-0.97-py3.9-linux-x86_64.egg/xclib/data/data_utils.py:263: UserWarning: Header mis-match from inferred shape!\n",
      "  warnings.warn(\"Header mis-match from inferred shape!\")\n",
      "/scratch/scai/phd/aiz218323/anaconda3/envs/xc_nlg/lib/python3.9/site-packages/scipy/sparse/_index.py:145: SparseEfficiencyWarning: Changing the sparsity structure of a csr_matrix is expensive. lil_matrix is more efficient.\n",
      "  self._set_arrayXarray(i, j, x)\n"
     ]
    }
   ],
   "source": [
    "block = XCBlock.from_cfg('data_meta', dset='amazon', valid_pct=0.001, tokenizer='distilbert-base-uncased')"
   ]
  },
  {
   "cell_type": "code",
   "execution_count": null,
   "id": "4b45e462-1363-4480-8baf-21731e84cf4c",
   "metadata": {},
   "outputs": [
    {
     "data": {
      "text/html": [
       "\n",
       "<style>\n",
       "    /* Turns off some styling */\n",
       "    progress {\n",
       "        /* gets rid of default border in Firefox and Opera. */\n",
       "        border: none;\n",
       "        /* Needs to be in here for Safari polyfill so background images work as expected. */\n",
       "        background-size: auto;\n",
       "    }\n",
       "    progress:not([value]), progress:not([value])::-webkit-progress-bar {\n",
       "        background: repeating-linear-gradient(45deg, #7e7e7e, #7e7e7e 10px, #5c5c5c 10px, #5c5c5c 20px);\n",
       "    }\n",
       "    .progress-bar-interrupted, .progress-bar-interrupted::-webkit-progress-bar {\n",
       "        background: #F44336;\n",
       "    }\n",
       "</style>\n"
      ],
      "text/plain": [
       "<IPython.core.display.HTML object>"
      ]
     },
     "metadata": {},
     "output_type": "display_data"
    },
    {
     "data": {
      "text/html": [],
      "text/plain": [
       "<IPython.core.display.HTML object>"
      ]
     },
     "metadata": {},
     "output_type": "display_data"
    },
    {
     "data": {
      "text/html": [
       "\n",
       "<style>\n",
       "    /* Turns off some styling */\n",
       "    progress {\n",
       "        /* gets rid of default border in Firefox and Opera. */\n",
       "        border: none;\n",
       "        /* Needs to be in here for Safari polyfill so background images work as expected. */\n",
       "        background-size: auto;\n",
       "    }\n",
       "    progress:not([value]), progress:not([value])::-webkit-progress-bar {\n",
       "        background: repeating-linear-gradient(45deg, #7e7e7e, #7e7e7e 10px, #5c5c5c 10px, #5c5c5c 20px);\n",
       "    }\n",
       "    .progress-bar-interrupted, .progress-bar-interrupted::-webkit-progress-bar {\n",
       "        background: #F44336;\n",
       "    }\n",
       "</style>\n"
      ],
      "text/plain": [
       "<IPython.core.display.HTML object>"
      ]
     },
     "metadata": {},
     "output_type": "display_data"
    },
    {
     "data": {
      "text/html": [
       "\n",
       "    <div>\n",
       "      <progress value='2246371' class='' max='2246371' style='width:300px; height:20px; vertical-align: middle;'></progress>\n",
       "      100.00% [2246371/2246371 01:54&lt;00:00]\n",
       "    </div>\n",
       "    "
      ],
      "text/plain": [
       "<IPython.core.display.HTML object>"
      ]
     },
     "metadata": {},
     "output_type": "display_data"
    },
    {
     "data": {
      "text/html": [
       "\n",
       "<style>\n",
       "    /* Turns off some styling */\n",
       "    progress {\n",
       "        /* gets rid of default border in Firefox and Opera. */\n",
       "        border: none;\n",
       "        /* Needs to be in here for Safari polyfill so background images work as expected. */\n",
       "        background-size: auto;\n",
       "    }\n",
       "    progress:not([value]), progress:not([value])::-webkit-progress-bar {\n",
       "        background: repeating-linear-gradient(45deg, #7e7e7e, #7e7e7e 10px, #5c5c5c 10px, #5c5c5c 20px);\n",
       "    }\n",
       "    .progress-bar-interrupted, .progress-bar-interrupted::-webkit-progress-bar {\n",
       "        background: #F44336;\n",
       "    }\n",
       "</style>\n"
      ],
      "text/plain": [
       "<IPython.core.display.HTML object>"
      ]
     },
     "metadata": {},
     "output_type": "display_data"
    },
    {
     "data": {
      "text/html": [
       "\n",
       "    <div>\n",
       "      <progress value='2246371' class='' max='2246371' style='width:300px; height:20px; vertical-align: middle;'></progress>\n",
       "      100.00% [2246371/2246371 01:15&lt;00:00]\n",
       "    </div>\n",
       "    "
      ],
      "text/plain": [
       "<IPython.core.display.HTML object>"
      ]
     },
     "metadata": {},
     "output_type": "display_data"
    },
    {
     "data": {
      "text/html": [
       "\n",
       "<style>\n",
       "    /* Turns off some styling */\n",
       "    progress {\n",
       "        /* gets rid of default border in Firefox and Opera. */\n",
       "        border: none;\n",
       "        /* Needs to be in here for Safari polyfill so background images work as expected. */\n",
       "        background-size: auto;\n",
       "    }\n",
       "    progress:not([value]), progress:not([value])::-webkit-progress-bar {\n",
       "        background: repeating-linear-gradient(45deg, #7e7e7e, #7e7e7e 10px, #5c5c5c 10px, #5c5c5c 20px);\n",
       "    }\n",
       "    .progress-bar-interrupted, .progress-bar-interrupted::-webkit-progress-bar {\n",
       "        background: #F44336;\n",
       "    }\n",
       "</style>\n"
      ],
      "text/plain": [
       "<IPython.core.display.HTML object>"
      ]
     },
     "metadata": {},
     "output_type": "display_data"
    },
    {
     "data": {
      "text/html": [
       "\n",
       "    <div>\n",
       "      <progress value='2228' class='' max='2228' style='width:300px; height:20px; vertical-align: middle;'></progress>\n",
       "      100.00% [2228/2228 00:00&lt;00:00]\n",
       "    </div>\n",
       "    "
      ],
      "text/plain": [
       "<IPython.core.display.HTML object>"
      ]
     },
     "metadata": {},
     "output_type": "display_data"
    },
    {
     "data": {
      "text/html": [
       "\n",
       "<style>\n",
       "    /* Turns off some styling */\n",
       "    progress {\n",
       "        /* gets rid of default border in Firefox and Opera. */\n",
       "        border: none;\n",
       "        /* Needs to be in here for Safari polyfill so background images work as expected. */\n",
       "        background-size: auto;\n",
       "    }\n",
       "    progress:not([value]), progress:not([value])::-webkit-progress-bar {\n",
       "        background: repeating-linear-gradient(45deg, #7e7e7e, #7e7e7e 10px, #5c5c5c 10px, #5c5c5c 20px);\n",
       "    }\n",
       "    .progress-bar-interrupted, .progress-bar-interrupted::-webkit-progress-bar {\n",
       "        background: #F44336;\n",
       "    }\n",
       "</style>\n"
      ],
      "text/plain": [
       "<IPython.core.display.HTML object>"
      ]
     },
     "metadata": {},
     "output_type": "display_data"
    },
    {
     "data": {
      "text/html": [
       "\n",
       "    <div>\n",
       "      <progress value='2228' class='' max='2228' style='width:300px; height:20px; vertical-align: middle;'></progress>\n",
       "      100.00% [2228/2228 00:00&lt;00:00]\n",
       "    </div>\n",
       "    "
      ],
      "text/plain": [
       "<IPython.core.display.HTML object>"
      ]
     },
     "metadata": {},
     "output_type": "display_data"
    },
    {
     "data": {
      "text/html": [
       "\n",
       "<style>\n",
       "    /* Turns off some styling */\n",
       "    progress {\n",
       "        /* gets rid of default border in Firefox and Opera. */\n",
       "        border: none;\n",
       "        /* Needs to be in here for Safari polyfill so background images work as expected. */\n",
       "        background-size: auto;\n",
       "    }\n",
       "    progress:not([value]), progress:not([value])::-webkit-progress-bar {\n",
       "        background: repeating-linear-gradient(45deg, #7e7e7e, #7e7e7e 10px, #5c5c5c 10px, #5c5c5c 20px);\n",
       "    }\n",
       "    .progress-bar-interrupted, .progress-bar-interrupted::-webkit-progress-bar {\n",
       "        background: #F44336;\n",
       "    }\n",
       "</style>\n"
      ],
      "text/plain": [
       "<IPython.core.display.HTML object>"
      ]
     },
     "metadata": {},
     "output_type": "display_data"
    },
    {
     "data": {
      "text/html": [
       "\n",
       "    <div>\n",
       "      <progress value='970237' class='' max='970237' style='width:300px; height:20px; vertical-align: middle;'></progress>\n",
       "      100.00% [970237/970237 00:51&lt;00:00]\n",
       "    </div>\n",
       "    "
      ],
      "text/plain": [
       "<IPython.core.display.HTML object>"
      ]
     },
     "metadata": {},
     "output_type": "display_data"
    },
    {
     "data": {
      "text/html": [
       "\n",
       "<style>\n",
       "    /* Turns off some styling */\n",
       "    progress {\n",
       "        /* gets rid of default border in Firefox and Opera. */\n",
       "        border: none;\n",
       "        /* Needs to be in here for Safari polyfill so background images work as expected. */\n",
       "        background-size: auto;\n",
       "    }\n",
       "    progress:not([value]), progress:not([value])::-webkit-progress-bar {\n",
       "        background: repeating-linear-gradient(45deg, #7e7e7e, #7e7e7e 10px, #5c5c5c 10px, #5c5c5c 20px);\n",
       "    }\n",
       "    .progress-bar-interrupted, .progress-bar-interrupted::-webkit-progress-bar {\n",
       "        background: #F44336;\n",
       "    }\n",
       "</style>\n"
      ],
      "text/plain": [
       "<IPython.core.display.HTML object>"
      ]
     },
     "metadata": {},
     "output_type": "display_data"
    },
    {
     "data": {
      "text/html": [
       "\n",
       "    <div>\n",
       "      <progress value='970237' class='' max='970237' style='width:300px; height:20px; vertical-align: middle;'></progress>\n",
       "      100.00% [970237/970237 00:31&lt;00:00]\n",
       "    </div>\n",
       "    "
      ],
      "text/plain": [
       "<IPython.core.display.HTML object>"
      ]
     },
     "metadata": {},
     "output_type": "display_data"
    }
   ],
   "source": [
    "block = AugmentMetaInputIdsTfm.apply(block, meta='cat_meta', max_len=512, exclude_sep=True)"
   ]
  },
  {
   "cell_type": "code",
   "execution_count": null,
   "id": "52bba09e-9c56-4a23-a7e9-38ea8d6bd11f",
   "metadata": {},
   "outputs": [],
   "source": [
    "block.test.dset.data.data_info['input_ids'] = block.test.dset.data.data_info['input_ids_aug_cat']\n",
    "block.test.dset.data.data_info['attention_mask'] = block.test.dset.data.data_info['attention_mask_aug_cat']"
   ]
  },
  {
   "cell_type": "code",
   "execution_count": null,
   "id": "95b033fc-b118-4d42-9da4-fd455bd5cfa4",
   "metadata": {},
   "outputs": [],
   "source": [
    "test_dset = block.test.dset.sample(n=2000, seed=50)"
   ]
  },
  {
   "cell_type": "code",
   "execution_count": null,
   "id": "06a68615-21c4-4775-86e4-299d3e3c665a",
   "metadata": {},
   "outputs": [],
   "source": [
    "fname = f'{dump_dir}/data/block.pkl'\n",
    "os.makedirs(os.path.dirname(fname), exist_ok=True)\n",
    "with open(f'{dump_dir}/data/block.pkl', 'wb') as f: pickle.dump((block, test_dset), f)"
   ]
  },
  {
   "cell_type": "code",
   "execution_count": null,
   "id": "f6b6014e-d7a0-4c0b-841c-e09b1849fe4b",
   "metadata": {},
   "outputs": [],
   "source": [
    "#| export\n",
    "fname = f'{dump_dir}/data/block.pkl'\n",
    "with open(fname, 'rb') as f: block, test_dset = pickle.load(f)"
   ]
  },
  {
   "cell_type": "markdown",
   "id": "2710a1a2-4719-409c-9f40-c04d8f29ded5",
   "metadata": {},
   "source": [
    "# Generation"
   ]
  },
  {
   "cell_type": "code",
   "execution_count": null,
   "id": "43307f70-4ab5-4b10-9c24-c3bd7c27cc15",
   "metadata": {},
   "outputs": [
    {
     "name": "stderr",
     "output_type": "stream",
     "text": [
      "Some weights of DBT007 were not initialized from the model checkpoint at /scratch/scai/phd/aiz218323/Projects/xc_nlg/outputs/05-metadata-augmented-input-and-trie-for-distilbert/distilbert-base-uncased_RB33-NAR-3+8-2_(mapped)LF-WikiSeeAlsoTitles-320K/checkpoint-190000 and are newly initialized: ['loss_fn.o']\n",
      "You should probably TRAIN this model on a down-stream task to be able to use it for predictions and inference.\n"
     ]
    }
   ],
   "source": [
    "#| export\n",
    "mname = f'/scratch/scai/phd/aiz218323/Projects/xc_nlg/outputs/05-metadata-augmented-input-and-trie-for-distilbert/distilbert-base-uncased_RB33-NAR-3+8-2_(mapped)LF-WikiSeeAlsoTitles-320K/checkpoint-190000'\n",
    "model = DBT007.from_pretrained(mname, tn_targ=10_000, ig_tok=0)"
   ]
  },
  {
   "cell_type": "code",
   "execution_count": null,
   "id": "ff590378-466d-48e0-8787-6d9318301fd6",
   "metadata": {},
   "outputs": [],
   "source": [
    "#| export\n",
    "args = XCLearningArguments(\n",
    "    output_dir=f'/scratch/scai/phd/aiz218323/Projects/xc_nlg/outputs/05-metadata-augmented-input-and-trie-for-distilbert/distilbert-base-uncased_RB33-NAR-3+8-2_(mapped)LF-WikiSeeAlsoTitles-320K',\n",
    "    generation_length_penalty=1.5,\n",
    "    per_device_eval_batch_size=16,\n",
    "    evaluation_strategy='steps',\n",
    "    label_names=['lbl2data_idx'],\n",
    ")"
   ]
  },
  {
   "cell_type": "code",
   "execution_count": null,
   "id": "be4cd9aa-91f1-48f8-a188-b33e6810dd92",
   "metadata": {},
   "outputs": [],
   "source": [
    "metric = PrecRecl(test_dset.n_lbl, test_dset.data.data_lbl_filterer, prop=block.train.dset.data.data_lbl,\n",
    "                  pk=10, rk=200, rep_pk=[1, 3, 5, 10], rep_rk=[2, 3, 10, 50, 100, 200])"
   ]
  },
  {
   "cell_type": "code",
   "execution_count": null,
   "id": "44c09802-1869-4f4d-af21-11bd313f0bd7",
   "metadata": {},
   "outputs": [],
   "source": [
    "#| export\n",
    "metric = PrecRecl(block.n_lbl, block.test.data_lbl_filterer, prop=block.train.dset.data.data_lbl,\n",
    "                  pk=10, rk=200, rep_pk=[1, 3, 5, 10], rep_rk=[2, 3, 10, 50, 100, 200])"
   ]
  },
  {
   "cell_type": "code",
   "execution_count": null,
   "id": "24a1e37b-0e83-49a3-8a15-ceb09680d87c",
   "metadata": {},
   "outputs": [
    {
     "name": "stderr",
     "output_type": "stream",
     "text": [
      "/scratch/scai/phd/aiz218323/anaconda3/envs/xc_nlg/lib/python3.9/site-packages/accelerate/accelerator.py:432: FutureWarning: Passing the following arguments to `Accelerator` is deprecated and will be removed in version 1.0 of Accelerate: dict_keys(['dispatch_batches', 'split_batches', 'even_batches', 'use_seedable_sampler']). Please pass an `accelerate.DataLoaderConfiguration` instead: \n",
      "dataloader_config = DataLoaderConfiguration(dispatch_batches=None, split_batches=False, even_batches=True, use_seedable_sampler=True)\n",
      "  warnings.warn(\n",
      "Detected kernel version 3.10.0, which is below the recommended minimum of 5.5.0; this can cause the process to hang. It is recommended to upgrade the kernel to the minimum version or higher.\n"
     ]
    }
   ],
   "source": [
    "#| export\n",
    "learn = XCLearner(\n",
    "    model=model, \n",
    "    args=args,\n",
    "    data_collator=block.collator, \n",
    "    compute_metrics=metric,\n",
    ")"
   ]
  },
  {
   "cell_type": "markdown",
   "id": "b27fe184-9f29-41c9-9658-b7f2defb2243",
   "metadata": {},
   "source": [
    "## `meta-augmented trie`"
   ]
  },
  {
   "cell_type": "code",
   "execution_count": null,
   "id": "b7ad845c-d716-4cd8-8fa9-2d94aa6ba1a2",
   "metadata": {},
   "outputs": [
    {
     "name": "stderr",
     "output_type": "stream",
     "text": [
      "/scratch/scai/phd/aiz218323/anaconda3/envs/xc_nlg/lib/python3.9/site-packages/scipy/sparse/_index.py:145: SparseEfficiencyWarning: Changing the sparsity structure of a csr_matrix is expensive. lil_matrix is more efficient.\n",
      "  self._set_arrayXarray(i, j, x)\n"
     ]
    }
   ],
   "source": [
    "#| export\n",
    "data_lbl = block.train.dset.data.data_lbl\n",
    "lbl_lbl = data_lbl.T.dot(data_lbl).tocsr()\n",
    "lbl_lbl.setdiag(1)"
   ]
  },
  {
   "cell_type": "code",
   "execution_count": null,
   "id": "1ad9fe4b-fd6e-4b72-93b9-49cb44b26bc6",
   "metadata": {},
   "outputs": [
    {
     "data": {
      "application/vnd.jupyter.widget-view+json": {
       "model_id": "15fbd8294fde49f3bb4a9627db978aec",
       "version_major": 2,
       "version_minor": 0
      },
      "text/plain": [
       "  0%|          | 0/312330 [00:00<?, ?it/s]"
      ]
     },
     "metadata": {},
     "output_type": "display_data"
    }
   ],
   "source": [
    "#| export\n",
    "lbl_toks = block.lbl_info['input_ids']\n",
    "lbl_info = [o.indices.tolist() for o in lbl_lbl]\n",
    "\n",
    "trie = Trie.from_list(lbl_toks, lbl_info)"
   ]
  },
  {
   "cell_type": "code",
   "execution_count": null,
   "id": "f0ee739b-68d2-4a2a-b9e1-f2a2c6f63def",
   "metadata": {},
   "outputs": [],
   "source": []
  },
  {
   "cell_type": "code",
   "execution_count": null,
   "id": "1be7a99a-225d-4a0e-9077-1df467c18c32",
   "metadata": {},
   "outputs": [],
   "source": [
    "#| export\n",
    "meta_lbl = block.train.dset.meta.hlk_meta.lbl_meta.T.tocsr()"
   ]
  },
  {
   "cell_type": "code",
   "execution_count": null,
   "id": "c5e52f9d-5985-42b6-947e-e3c5ec587065",
   "metadata": {},
   "outputs": [],
   "source": [
    "#| export\n",
    "n_lbl = meta_lbl.getnnz(axis=1)\n",
    "valid_meta_idx = np.where(np.logical_and(n_lbl>1, n_lbl<100))[0]"
   ]
  },
  {
   "cell_type": "code",
   "execution_count": null,
   "id": "2867029b-9d96-4daa-9840-e470a5013ad7",
   "metadata": {},
   "outputs": [
    {
     "data": {
      "application/vnd.jupyter.widget-view+json": {
       "model_id": "18e16a321a01404da301d1b4e4e1a670",
       "version_major": 2,
       "version_minor": 0
      },
      "text/plain": [
       "  0%|          | 0/1174296 [00:00<?, ?it/s]"
      ]
     },
     "metadata": {},
     "output_type": "display_data"
    },
    {
     "data": {
      "application/vnd.jupyter.widget-view+json": {
       "model_id": "d875c5c800c44c9487e845f1139511f4",
       "version_major": 2,
       "version_minor": 0
      },
      "text/plain": [
       "  0%|          | 0/1174296 [00:00<?, ?it/s]"
      ]
     },
     "metadata": {},
     "output_type": "display_data"
    }
   ],
   "source": [
    "#| export\n",
    "meta_toks = [block.train.dset.meta.hlk_meta.meta_info['input_ids'][i] for i in tqdm(valid_meta_idx)]\n",
    "meta_info = [meta_lbl[i].indices.tolist() for i in tqdm(valid_meta_idx)]"
   ]
  },
  {
   "cell_type": "code",
   "execution_count": null,
   "id": "94ae3ac5-8122-40b0-9de6-812adfc47225",
   "metadata": {},
   "outputs": [
    {
     "data": {
      "application/vnd.jupyter.widget-view+json": {
       "model_id": "3b5d5a11532d4951b1210928abc8a5f3",
       "version_major": 2,
       "version_minor": 0
      },
      "text/plain": [
       "  0%|          | 0/1174296 [00:00<?, ?it/s]"
      ]
     },
     "metadata": {},
     "output_type": "display_data"
    }
   ],
   "source": [
    "#| export\n",
    "trie.update(meta_toks, meta_info)"
   ]
  },
  {
   "cell_type": "code",
   "execution_count": null,
   "id": "bd0d51b4-aadc-4424-bcf0-42889ef8b48a",
   "metadata": {},
   "outputs": [],
   "source": []
  },
  {
   "cell_type": "code",
   "execution_count": null,
   "id": "a711f68e-9dfe-4bae-a42f-67dc3e202100",
   "metadata": {},
   "outputs": [],
   "source": [
    "#| export\n",
    "learn.tbs.trie = trie"
   ]
  },
  {
   "cell_type": "code",
   "execution_count": null,
   "id": "ba42b89a-9796-4deb-ae86-62ebcb1bd49f",
   "metadata": {},
   "outputs": [],
   "source": []
  },
  {
   "cell_type": "code",
   "execution_count": null,
   "id": "2d535aff-6b71-469f-8754-4b0374c4c95f",
   "metadata": {},
   "outputs": [],
   "source": [
    "#| export\n",
    "learn.tbs.n_bm = learn.args.generation_num_beams = 20"
   ]
  },
  {
   "cell_type": "code",
   "execution_count": null,
   "id": "d066577b-0c1f-4899-8650-7164168f2525",
   "metadata": {},
   "outputs": [
    {
     "name": "stderr",
     "output_type": "stream",
     "text": [
      "/scratch/scai/phd/aiz218323/anaconda3/envs/xc_nlg/lib/python3.9/site-packages/torch/nn/parallel/_functions.py:68: UserWarning: Was asked to gather along dimension 0, but all input tensors were scalars; will instead unsqueeze and return a vector.\n",
      "  warnings.warn('Was asked to gather along dimension 0, but all '\n"
     ]
    },
    {
     "data": {
      "text/html": [],
      "text/plain": [
       "<IPython.core.display.HTML object>"
      ]
     },
     "metadata": {},
     "output_type": "display_data"
    },
    {
     "name": "stderr",
     "output_type": "stream",
     "text": [
      "/scratch/scai/phd/aiz218323/anaconda3/envs/xc_nlg/lib/python3.9/site-packages/scipy/sparse/_index.py:145: SparseEfficiencyWarning: Changing the sparsity structure of a csr_matrix is expensive. lil_matrix is more efficient.\n",
      "  self._set_arrayXarray(i, j, x)\n"
     ]
    },
    {
     "data": {
      "text/html": [
       "<div>\n",
       "<style scoped>\n",
       "    .dataframe tbody tr th:only-of-type {\n",
       "        vertical-align: middle;\n",
       "    }\n",
       "\n",
       "    .dataframe tbody tr th {\n",
       "        vertical-align: top;\n",
       "    }\n",
       "\n",
       "    .dataframe thead th {\n",
       "        text-align: right;\n",
       "    }\n",
       "</style>\n",
       "<table border=\"1\" class=\"dataframe\">\n",
       "  <thead>\n",
       "    <tr style=\"text-align: right;\">\n",
       "      <th></th>\n",
       "      <th>P@1</th>\n",
       "      <th>P@3</th>\n",
       "      <th>P@5</th>\n",
       "      <th>P@10</th>\n",
       "      <th>N@1</th>\n",
       "      <th>N@3</th>\n",
       "      <th>N@5</th>\n",
       "      <th>N@10</th>\n",
       "      <th>PSP@1</th>\n",
       "      <th>PSP@3</th>\n",
       "      <th>PSP@5</th>\n",
       "      <th>PSP@10</th>\n",
       "      <th>PSN@1</th>\n",
       "      <th>PSN@3</th>\n",
       "      <th>PSN@5</th>\n",
       "      <th>PSN@10</th>\n",
       "      <th>R@2</th>\n",
       "      <th>R@3</th>\n",
       "      <th>R@10</th>\n",
       "      <th>R@50</th>\n",
       "      <th>R@100</th>\n",
       "      <th>R@200</th>\n",
       "      <th>loss</th>\n",
       "      <th>runtime</th>\n",
       "      <th>samples_per_second</th>\n",
       "      <th>steps_per_second</th>\n",
       "    </tr>\n",
       "  </thead>\n",
       "  <tbody>\n",
       "    <tr>\n",
       "      <th>0</th>\n",
       "      <td>8.6</td>\n",
       "      <td>5.5</td>\n",
       "      <td>4.1</td>\n",
       "      <td>2.685</td>\n",
       "      <td>8.6</td>\n",
       "      <td>9.1786</td>\n",
       "      <td>9.5706</td>\n",
       "      <td>10.3284</td>\n",
       "      <td>6.6324</td>\n",
       "      <td>7.0073</td>\n",
       "      <td>7.5718</td>\n",
       "      <td>9.067</td>\n",
       "      <td>6.6324</td>\n",
       "      <td>7.5302</td>\n",
       "      <td>8.0755</td>\n",
       "      <td>8.8551</td>\n",
       "      <td>7.7908</td>\n",
       "      <td>8.9425</td>\n",
       "      <td>12.5729</td>\n",
       "      <td>20.3479</td>\n",
       "      <td>25.8291</td>\n",
       "      <td>34.1163</td>\n",
       "      <td>7.0555</td>\n",
       "      <td>400.1771</td>\n",
       "      <td>4.998</td>\n",
       "      <td>0.157</td>\n",
       "    </tr>\n",
       "  </tbody>\n",
       "</table>\n",
       "</div>"
      ],
      "text/plain": [
       "   P@1  P@3  P@5   P@10  N@1     N@3     N@5     N@10   PSP@1   PSP@3   PSP@5  \\\n",
       "0  8.6  5.5  4.1  2.685  8.6  9.1786  9.5706  10.3284  6.6324  7.0073  7.5718   \n",
       "\n",
       "   PSP@10   PSN@1   PSN@3   PSN@5  PSN@10     R@2     R@3     R@10     R@50  \\\n",
       "0   9.067  6.6324  7.5302  8.0755  8.8551  7.7908  8.9425  12.5729  20.3479   \n",
       "\n",
       "     R@100    R@200    loss   runtime  samples_per_second  steps_per_second  \n",
       "0  25.8291  34.1163  7.0555  400.1771               4.998             0.157  "
      ]
     },
     "metadata": {},
     "output_type": "display_data"
    }
   ],
   "source": [
    "o = learn.predict(test_dset)\n",
    "display_metric(o.metrics)"
   ]
  },
  {
   "cell_type": "code",
   "execution_count": null,
   "id": "b92a1efa-8ad7-4241-95b0-3a2bfec43d5c",
   "metadata": {},
   "outputs": [],
   "source": [
    "#| export\n",
    "o = learn.predict(block.test.dset)\n",
    "print(o.metrics)"
   ]
  },
  {
   "cell_type": "code",
   "execution_count": null,
   "id": "fd4ca113-20dd-49ca-b830-258d7b7bd08e",
   "metadata": {},
   "outputs": [],
   "source": []
  },
  {
   "cell_type": "code",
   "execution_count": null,
   "id": "3ed2aec2-0513-4e43-967a-4455244338b2",
   "metadata": {},
   "outputs": [],
   "source": [
    "#| export\n",
    "pred_fname = f'{dump_dir}/distilbert-base-uncased_RB33-NAR-3+8-2_(mapped)LF-WikiSeeAlsoTitles-320K/checkpoint-190000/predictions/test_lbl_atrie-hlk_n-bm-20.pth'\n",
    "os.makedirs(os.path.dirname(pred_fname), exist_ok=True)\n",
    "torch.save(o, pred_fname)"
   ]
  },
  {
   "cell_type": "code",
   "execution_count": null,
   "id": "6e091fd1-e76d-4d8e-a5f5-0053986a2f93",
   "metadata": {},
   "outputs": [
    {
     "data": {
      "text/plain": [
       "XCPredictionOutput(pred_idx=tensor([ 39908, 214276,  88840,  ..., 266709,  17914, 117626]), pred_ptr=tensor([ 647,  495, 2529,  ...,  340,  430,  143]), pred_score=tensor([-1.0248, -1.0248, -1.0248,  ..., -0.3543, -0.3543, -0.3543]), metrics={'test_loss': 7.055476665496826, 'test_P@1': 0.086, 'test_P@10': 0.02685000000000015, 'test_P@3': 0.054999999999999834, 'test_P@5': 0.04100000000000019, 'test_N@1': 0.0860000029206276, 'test_N@10': 0.10328423976898193, 'test_N@3': 0.09178565442562103, 'test_N@5': 0.09570598602294922, 'test_PSP@1': 0.06632379608438409, 'test_PSP@10': 0.09066957830489748, 'test_PSP@3': 0.07007277305336816, 'test_PSP@5': 0.07571821362865566, 'test_PSN@1': 0.06632379442453384, 'test_PSN@10': 0.08855146169662476, 'test_PSN@3': 0.07530207186937332, 'test_PSN@5': 0.08075478672981262, 'test_R@2': 0.07790799584757387, 'test_R@3': 0.08942541658398437, 'test_R@100': 0.25829073809147635, 'test_R@200': 0.3411634665983813, 'test_R@10': 0.12572872925525738, 'test_R@50': 0.20347874314198156, 'test_runtime': 400.1771, 'test_samples_per_second': 4.998, 'test_steps_per_second': 0.157}, num_samples=2000)"
      ]
     },
     "execution_count": null,
     "metadata": {},
     "output_type": "execute_result"
    }
   ],
   "source": [
    "o"
   ]
  },
  {
   "cell_type": "markdown",
   "id": "e22e6f34-f666-4a62-800e-e4c5c4b944ea",
   "metadata": {},
   "source": [
    "### __Shortlist & Total recall__"
   ]
  },
  {
   "cell_type": "markdown",
   "id": "afebba34-b7f4-4bf8-acf7-edfce8cf4a82",
   "metadata": {},
   "source": [
    "All the numbers reported below are on a sample of 2000 points."
   ]
  },
  {
   "cell_type": "code",
   "execution_count": null,
   "id": "8b68f1a6-f596-4ef6-815b-cfd231d93a86",
   "metadata": {},
   "outputs": [
    {
     "data": {
      "text/html": [
       "<div>\n",
       "<style scoped>\n",
       "    .dataframe tbody tr th:only-of-type {\n",
       "        vertical-align: middle;\n",
       "    }\n",
       "\n",
       "    .dataframe tbody tr th {\n",
       "        vertical-align: top;\n",
       "    }\n",
       "\n",
       "    .dataframe thead th {\n",
       "        text-align: right;\n",
       "    }\n",
       "</style>\n",
       "<table border=\"1\" class=\"dataframe\">\n",
       "  <thead>\n",
       "    <tr style=\"text-align: right;\">\n",
       "      <th></th>\n",
       "      <th>mean</th>\n",
       "      <th>std</th>\n",
       "      <th>25</th>\n",
       "      <th>50</th>\n",
       "      <th>75</th>\n",
       "    </tr>\n",
       "  </thead>\n",
       "  <tbody>\n",
       "    <tr>\n",
       "      <th>0</th>\n",
       "      <td>479.47049</td>\n",
       "      <td>341.226257</td>\n",
       "      <td>261.75</td>\n",
       "      <td>404.0</td>\n",
       "      <td>600.25</td>\n",
       "    </tr>\n",
       "  </tbody>\n",
       "</table>\n",
       "</div>"
      ],
      "text/plain": [
       "        mean         std      25     50      75\n",
       "0  479.47049  341.226257  261.75  404.0  600.25"
      ]
     },
     "execution_count": null,
     "metadata": {},
     "output_type": "execute_result"
    }
   ],
   "source": [
    "s = get_tensor_statistics(o.pred_ptr);s"
   ]
  },
  {
   "cell_type": "code",
   "execution_count": null,
   "id": "9e34f427-b661-4e72-845b-ef73075220fe",
   "metadata": {},
   "outputs": [
    {
     "name": "stdout",
     "output_type": "stream",
     "text": [
      "Total recall : 56.332\n"
     ]
    },
    {
     "name": "stderr",
     "output_type": "stream",
     "text": [
      "/scratch/scai/phd/aiz218323/anaconda3/envs/xc_nlg/lib/python3.9/site-packages/scipy/sparse/_index.py:145: SparseEfficiencyWarning: Changing the sparsity structure of a csr_matrix is expensive. lil_matrix is more efficient.\n",
      "  self._set_arrayXarray(i, j, x)\n"
     ]
    }
   ],
   "source": [
    "r, rm = total_recall(o.pred_idx, o.pred_ptr, test_dset.data.data_lbl, test_dset.data.data_lbl_filterer) \n",
    "print(f'Total recall : {r*100:.3f}')"
   ]
  },
  {
   "cell_type": "code",
   "execution_count": null,
   "id": "a404781b-d1f6-4460-89c1-5eb90a3fe092",
   "metadata": {},
   "outputs": [
    {
     "data": {
      "text/html": [
       "<div>\n",
       "<style scoped>\n",
       "    .dataframe tbody tr th:only-of-type {\n",
       "        vertical-align: middle;\n",
       "    }\n",
       "\n",
       "    .dataframe tbody tr th {\n",
       "        vertical-align: top;\n",
       "    }\n",
       "\n",
       "    .dataframe thead th {\n",
       "        text-align: right;\n",
       "    }\n",
       "</style>\n",
       "<table border=\"1\" class=\"dataframe\">\n",
       "  <thead>\n",
       "    <tr style=\"text-align: right;\">\n",
       "      <th></th>\n",
       "      <th>mean</th>\n",
       "      <th>std</th>\n",
       "      <th>25</th>\n",
       "      <th>50</th>\n",
       "      <th>75</th>\n",
       "    </tr>\n",
       "  </thead>\n",
       "  <tbody>\n",
       "    <tr>\n",
       "      <th>0</th>\n",
       "      <td>56.33157</td>\n",
       "      <td>42.992138</td>\n",
       "      <td>0.0</td>\n",
       "      <td>66.666664</td>\n",
       "      <td>100.0</td>\n",
       "    </tr>\n",
       "  </tbody>\n",
       "</table>\n",
       "</div>"
      ],
      "text/plain": [
       "       mean        std   25         50     75\n",
       "0  56.33157  42.992138  0.0  66.666664  100.0"
      ]
     },
     "execution_count": null,
     "metadata": {},
     "output_type": "execute_result"
    }
   ],
   "source": [
    "r = get_tensor_statistics(torch.tensor(rm.sum(axis=1)).flatten()*rm.shape[0]*100); r"
   ]
  },
  {
   "cell_type": "code",
   "execution_count": null,
   "id": "c80d7dfb-247c-4f3c-bac7-8a9cc6d15074",
   "metadata": {},
   "outputs": [],
   "source": [
    "data_rec = torch.tensor(rm.sum(axis=1)).flatten()"
   ]
  },
  {
   "cell_type": "code",
   "execution_count": null,
   "id": "804781ce-5f11-491b-9e01-95e5a455d7be",
   "metadata": {},
   "outputs": [
    {
     "data": {
      "text/plain": [
       "<matplotlib.collections.PathCollection>"
      ]
     },
     "execution_count": null,
     "metadata": {},
     "output_type": "execute_result"
    },
    {
     "data": {
      "image/png": "[encoded data removed]",
      "text/plain": [
       "<Figure size 700x500 with 1 Axes>"
      ]
     },
     "metadata": {},
     "output_type": "display_data"
    }
   ],
   "source": [
    "import matplotlib.pyplot as plt\n",
    "\n",
    "set_plot_defaults()\n",
    "plt.figure(figsize=(7,5))\n",
    "plt.yscale('log')\n",
    "idx = torch.where(data_rec > 0)[0]\n",
    "plt.scatter(data_rec[idx], o.pred_ptr[idx], s=5)"
   ]
  },
  {
   "cell_type": "code",
   "execution_count": null,
   "id": "3b395240-7380-4f4d-9dda-27a914c1f1d3",
   "metadata": {},
   "outputs": [
    {
     "data": {
      "text/plain": [
       "(PearsonRResult(statistic=-0.08219479416162093, pvalue=0.00023342374406886982),\n",
       " SignificanceResult(statistic=-0.15100642892396463, pvalue=1.137385939571884e-11))"
      ]
     },
     "execution_count": null,
     "metadata": {},
     "output_type": "execute_result"
    }
   ],
   "source": [
    "stats.pearsonr(data_rec, o.pred_ptr), stats.spearmanr(data_rec, o.pred_ptr)"
   ]
  },
  {
   "cell_type": "markdown",
   "id": "0e8883d2-30d2-47a6-8013-d9dec9339947",
   "metadata": {},
   "source": [
    "# Representation"
   ]
  },
  {
   "cell_type": "code",
   "execution_count": null,
   "id": "c009294d-803a-4fdf-948a-90c6eb58d1ca",
   "metadata": {},
   "outputs": [],
   "source": [
    "args = XCLearningArguments(\n",
    "    output_dir=f'{dump_dir}/ngame_v-3-100_(mapped)LF-WikiSeeAlsoTitles-320K/',\n",
    "    index_efs=200,\n",
    "    representation_num_beams=200,\n",
    "    generation_length_penalty=1.5,\n",
    "    per_device_eval_batch_size=16,\n",
    "    evaluation_strategy='steps',\n",
    "    label_names=['lbl2data_idx'],\n",
    ")"
   ]
  },
  {
   "cell_type": "code",
   "execution_count": null,
   "id": "794d280e-2a1e-4df5-82b5-969f15363df9",
   "metadata": {},
   "outputs": [
    {
     "name": "stderr",
     "output_type": "stream",
     "text": [
      "Some weights of DBT008 were not initialized from the model checkpoint at sentence-transformers/msmarco-distilbert-base-v4 and are newly initialized: ['loss_fn.u', 'loss_fn.v']\n",
      "You should probably TRAIN this model on a down-stream task to be able to use it for predictions and inference.\n"
     ]
    }
   ],
   "source": [
    "bsz = max(args.per_device_train_batch_size, args.per_device_eval_batch_size)*torch.cuda.device_count()\n",
    "model = DBT008.from_pretrained('sentence-transformers/msmarco-distilbert-base-v4', bsz=bsz, tn_targ=10_000, ig_tok=0)"
   ]
  },
  {
   "cell_type": "code",
   "execution_count": null,
   "id": "4ef9da23-0943-4464-a5fc-005257c9c719",
   "metadata": {},
   "outputs": [
    {
     "data": {
      "text/plain": [
       "_IncompatibleKeys(missing_keys=['loss_fn.u', 'loss_fn.v'], unexpected_keys=[])"
      ]
     },
     "execution_count": null,
     "metadata": {},
     "output_type": "execute_result"
    }
   ],
   "source": [
    "from collections import OrderedDict\n",
    "\n",
    "mname = f'/scratch/scai/phd/aiz218323/Projects/xc_nlg/outputs/05-metadata-augmented-input-and-trie-for-distilbert/ngame_v-3-100_(mapped)LF-WikiSeeAlsoTitles-320K/model_network.pkl'\n",
    "m_state_dict, msd = OrderedDict(), torch.load(mname)\n",
    "for k in msd:\n",
    "    o = k.split('.')\n",
    "    if o[0] == 'encoder': m_state_dict['distilbert.'+'.'.join(o[5:])] = msd[k]\n",
    "model.load_state_dict(m_state_dict, strict=False)\n"
   ]
  },
  {
   "cell_type": "code",
   "execution_count": null,
   "id": "3008a1cc-154d-424e-a51c-bf53a9f41e67",
   "metadata": {},
   "outputs": [],
   "source": [
    "metric = PrecRecl(test_dset.n_lbl, test_dset.data.data_lbl_filterer, prop=block.train.dset.data.data_lbl,\n",
    "                  pk=10, rk=200, rep_pk=[1, 3, 5, 10], rep_rk=[2, 3, 10, 50, 100, 200])"
   ]
  },
  {
   "cell_type": "code",
   "execution_count": null,
   "id": "af7287c0-ec2e-4074-918e-71f25512a2df",
   "metadata": {},
   "outputs": [],
   "source": [
    "metric = PrecRecl(block.n_lbl, block.test.data_lbl_filterer, prop=block.train.dset.data.data_lbl,\n",
    "                  pk=10, rk=200, rep_pk=[1, 3, 5, 10], rep_rk=[2, 3, 10, 50, 100, 200])"
   ]
  },
  {
   "cell_type": "code",
   "execution_count": null,
   "id": "1b44efee-0b0c-4118-9814-82077b72ced0",
   "metadata": {},
   "outputs": [
    {
     "name": "stderr",
     "output_type": "stream",
     "text": [
      "/scratch/scai/phd/aiz218323/anaconda3/envs/xc_nlg/lib/python3.9/site-packages/accelerate/accelerator.py:432: FutureWarning: Passing the following arguments to `Accelerator` is deprecated and will be removed in version 1.0 of Accelerate: dict_keys(['dispatch_batches', 'split_batches', 'even_batches', 'use_seedable_sampler']). Please pass an `accelerate.DataLoaderConfiguration` instead: \n",
      "dataloader_config = DataLoaderConfiguration(dispatch_batches=None, split_batches=False, even_batches=True, use_seedable_sampler=True)\n",
      "  warnings.warn(\n",
      "Detected kernel version 3.10.0, which is below the recommended minimum of 5.5.0; this can cause the process to hang. It is recommended to upgrade the kernel to the minimum version or higher.\n"
     ]
    }
   ],
   "source": [
    "learn = XCLearner(\n",
    "    model=model, \n",
    "    args=args,\n",
    "    data_collator=block.collator, \n",
    "    compute_metrics=metric,\n",
    ")"
   ]
  },
  {
   "cell_type": "markdown",
   "id": "43ab8adb-03f1-443c-86b8-03132dead64b",
   "metadata": {},
   "source": [
    "## Reranking"
   ]
  },
  {
   "cell_type": "code",
   "execution_count": null,
   "id": "cd341dde-36de-4d23-be18-e4fe9db2e47f",
   "metadata": {},
   "outputs": [],
   "source": [
    "import torch.nn.functional as F"
   ]
  },
  {
   "cell_type": "code",
   "execution_count": null,
   "id": "5c1bf2fa-67eb-4583-a87d-d5a8ae65bf31",
   "metadata": {},
   "outputs": [
    {
     "data": {
      "application/vnd.jupyter.widget-view+json": {
       "model_id": "997d31e5843b4d42847a9b4b5a38483b",
       "version_major": 2,
       "version_minor": 0
      },
      "text/plain": [
       "  0%|          | 0/63 [00:00<?, ?it/s]"
      ]
     },
     "metadata": {},
     "output_type": "display_data"
    },
    {
     "name": "stderr",
     "output_type": "stream",
     "text": [
      "/scratch/scai/phd/aiz218323/Projects/xcai/xcai/losses.py:21: UserWarning: Sparse CSR tensor support is in beta state. If you miss a functionality in the sparse tensor support, please submit a feature request to https://github.com/pytorch/pytorch/issues. (Triggered internally at ../aten/src/ATen/SparseCsrTensorImpl.cpp:53.)\n",
      "  return torch.sparse_csr_tensor(data_ptr, data_idx, scores, device=data_ptr.device)\n"
     ]
    }
   ],
   "source": [
    "data_repr = F.normalize(learn.get_representation(learn.get_test_dataloader(test_dset)), dim=1)"
   ]
  },
  {
   "cell_type": "code",
   "execution_count": null,
   "id": "76743679-cca1-48d2-82ff-ee189e85b7f6",
   "metadata": {},
   "outputs": [
    {
     "data": {
      "application/vnd.jupyter.widget-view+json": {
       "model_id": "9f9d822e4e33473f93df60c4c434a613",
       "version_major": 2,
       "version_minor": 0
      },
      "text/plain": [
       "  0%|          | 0/9761 [00:00<?, ?it/s]"
      ]
     },
     "metadata": {},
     "output_type": "display_data"
    }
   ],
   "source": [
    "lbl_repr = F.normalize(learn.get_representation(learn.get_test_dataloader(test_dset.lbl_dset)), dim=1)"
   ]
  },
  {
   "cell_type": "code",
   "execution_count": null,
   "id": "546e5602-64b9-44e2-b377-8b6b2f815d82",
   "metadata": {},
   "outputs": [],
   "source": [
    "pred = torch.load(f'{dump_dir}/distilbert-base-uncased_RB33-NAR-3+8-2_(mapped)LF-WikiSeeAlsoTitles-320K/checkpoint-190000/\\\n",
    "predictions/test_lbl_atrie-hlk_n-bm-20_n-smp-2000_seed-50.pth')"
   ]
  },
  {
   "cell_type": "code",
   "execution_count": null,
   "id": "30461eaa-6489-4e9d-93bb-46d9f9cd060d",
   "metadata": {},
   "outputs": [],
   "source": []
  },
  {
   "cell_type": "code",
   "execution_count": null,
   "id": "6f0412dc-bd2a-44cb-b504-7bc0ee7c9ee7",
   "metadata": {},
   "outputs": [
    {
     "data": {
      "application/vnd.jupyter.widget-view+json": {
       "model_id": "bea30eb598ca45849e24b8838a93ec28",
       "version_major": 2,
       "version_minor": 0
      },
      "text/plain": [
       "  0%|          | 0/2000 [00:00<?, ?it/s]"
      ]
     },
     "metadata": {},
     "output_type": "display_data"
    }
   ],
   "source": [
    "from tqdm.auto import tqdm\n",
    "sc,p = [],0\n",
    "for q,d in tqdm(zip(pred.pred_ptr.cumsum(0),data_repr), total=data_repr.shape[0]):\n",
    "    sc.append(d@lbl_repr[pred.pred_idx[p:q]].T);p=q\n",
    "sc = torch.cat(sc)"
   ]
  },
  {
   "cell_type": "code",
   "execution_count": null,
   "id": "e7fa537a-d4f8-44cf-9f24-9db50ed4626d",
   "metadata": {},
   "outputs": [],
   "source": [
    "o = {\n",
    "    'pred_idx': pred.pred_idx,\n",
    "    'pred_ptr': pred.pred_ptr,\n",
    "    'pred_score': pred.pred_score,\n",
    "}\n",
    "o['targ_idx'] = torch.tensor(test_dset.data.data_lbl.indices, dtype=torch.long)\n",
    "o['targ_ptr'] = torch.tensor([o.getnnz() for o in test_dset.data.data_lbl])"
   ]
  },
  {
   "cell_type": "code",
   "execution_count": null,
   "id": "01002f8b-32f6-42ae-9a81-6ba68a8626e0",
   "metadata": {},
   "outputs": [
    {
     "name": "stderr",
     "output_type": "stream",
     "text": [
      "/scratch/scai/phd/aiz218323/anaconda3/envs/xc_nlg/lib/python3.9/site-packages/scipy/sparse/_index.py:145: SparseEfficiencyWarning: Changing the sparsity structure of a csr_matrix is expensive. lil_matrix is more efficient.\n",
      "  self._set_arrayXarray(i, j, x)\n"
     ]
    }
   ],
   "source": [
    "m = metric(**o)"
   ]
  },
  {
   "cell_type": "code",
   "execution_count": null,
   "id": "134f3f27-d111-4faa-bd75-a28bb8ffc973",
   "metadata": {},
   "outputs": [
    {
     "data": {
      "text/html": [
       "<div>\n",
       "<style scoped>\n",
       "    .dataframe tbody tr th:only-of-type {\n",
       "        vertical-align: middle;\n",
       "    }\n",
       "\n",
       "    .dataframe tbody tr th {\n",
       "        vertical-align: top;\n",
       "    }\n",
       "\n",
       "    .dataframe thead th {\n",
       "        text-align: right;\n",
       "    }\n",
       "</style>\n",
       "<table border=\"1\" class=\"dataframe\">\n",
       "  <thead>\n",
       "    <tr style=\"text-align: right;\">\n",
       "      <th></th>\n",
       "      <th>P@1</th>\n",
       "      <th>P@3</th>\n",
       "      <th>P@5</th>\n",
       "      <th>P@10</th>\n",
       "      <th>N@1</th>\n",
       "      <th>N@3</th>\n",
       "      <th>N@5</th>\n",
       "      <th>N@10</th>\n",
       "      <th>PSP@1</th>\n",
       "      <th>PSP@3</th>\n",
       "      <th>PSP@5</th>\n",
       "      <th>PSP@10</th>\n",
       "      <th>PSN@1</th>\n",
       "      <th>PSN@3</th>\n",
       "      <th>PSN@5</th>\n",
       "      <th>PSN@10</th>\n",
       "      <th>R@2</th>\n",
       "      <th>R@3</th>\n",
       "      <th>R@10</th>\n",
       "      <th>R@50</th>\n",
       "      <th>R@100</th>\n",
       "      <th>R@200</th>\n",
       "    </tr>\n",
       "  </thead>\n",
       "  <tbody>\n",
       "    <tr>\n",
       "      <th>0</th>\n",
       "      <td>8.6</td>\n",
       "      <td>5.5</td>\n",
       "      <td>4.1</td>\n",
       "      <td>2.685</td>\n",
       "      <td>8.6</td>\n",
       "      <td>9.178565</td>\n",
       "      <td>9.570599</td>\n",
       "      <td>10.328424</td>\n",
       "      <td>6.63238</td>\n",
       "      <td>7.007277</td>\n",
       "      <td>7.571821</td>\n",
       "      <td>9.066958</td>\n",
       "      <td>6.63238</td>\n",
       "      <td>7.530207</td>\n",
       "      <td>8.075479</td>\n",
       "      <td>8.855146</td>\n",
       "      <td>7.7908</td>\n",
       "      <td>8.942542</td>\n",
       "      <td>12.572873</td>\n",
       "      <td>20.347874</td>\n",
       "      <td>25.829074</td>\n",
       "      <td>34.116347</td>\n",
       "    </tr>\n",
       "  </tbody>\n",
       "</table>\n",
       "</div>"
      ],
      "text/plain": [
       "   P@1  P@3  P@5   P@10  N@1       N@3       N@5       N@10    PSP@1  \\\n",
       "0  8.6  5.5  4.1  2.685  8.6  9.178565  9.570599  10.328424  6.63238   \n",
       "\n",
       "      PSP@3     PSP@5    PSP@10    PSN@1     PSN@3     PSN@5    PSN@10  \\\n",
       "0  7.007277  7.571821  9.066958  6.63238  7.530207  8.075479  8.855146   \n",
       "\n",
       "      R@2       R@3       R@10       R@50      R@100      R@200  \n",
       "0  7.7908  8.942542  12.572873  20.347874  25.829074  34.116347  "
      ]
     },
     "metadata": {},
     "output_type": "display_data"
    }
   ],
   "source": [
    "with pd.option_context('display.max_columns', None):\n",
    "    display(pd.DataFrame([m])[sorted_metric(m, order=['P', 'N', 'PSP', 'PSN'])] * 100)"
   ]
  },
  {
   "cell_type": "code",
   "execution_count": null,
   "id": "d0e5a2e0-1432-4968-bf83-6598cea9ff88",
   "metadata": {},
   "outputs": [],
   "source": [
    "o['pred_score'] = sc"
   ]
  },
  {
   "cell_type": "code",
   "execution_count": null,
   "id": "b6dba690-7cff-4f46-a364-b3f518948f54",
   "metadata": {},
   "outputs": [
    {
     "name": "stderr",
     "output_type": "stream",
     "text": [
      "/scratch/scai/phd/aiz218323/anaconda3/envs/xc_nlg/lib/python3.9/site-packages/scipy/sparse/_index.py:145: SparseEfficiencyWarning: Changing the sparsity structure of a csr_matrix is expensive. lil_matrix is more efficient.\n",
      "  self._set_arrayXarray(i, j, x)\n"
     ]
    }
   ],
   "source": [
    "m = metric(**o)"
   ]
  },
  {
   "cell_type": "code",
   "execution_count": null,
   "id": "810984ad-44bd-4451-830c-631c474ee208",
   "metadata": {},
   "outputs": [],
   "source": []
  },
  {
   "cell_type": "code",
   "execution_count": null,
   "id": "1321ad11-aa10-497f-8eed-2212396df54b",
   "metadata": {},
   "outputs": [
    {
     "data": {
      "text/html": [
       "<div>\n",
       "<style scoped>\n",
       "    .dataframe tbody tr th:only-of-type {\n",
       "        vertical-align: middle;\n",
       "    }\n",
       "\n",
       "    .dataframe tbody tr th {\n",
       "        vertical-align: top;\n",
       "    }\n",
       "\n",
       "    .dataframe thead th {\n",
       "        text-align: right;\n",
       "    }\n",
       "</style>\n",
       "<table border=\"1\" class=\"dataframe\">\n",
       "  <thead>\n",
       "    <tr style=\"text-align: right;\">\n",
       "      <th></th>\n",
       "      <th>P@1</th>\n",
       "      <th>P@3</th>\n",
       "      <th>P@5</th>\n",
       "      <th>P@10</th>\n",
       "      <th>N@1</th>\n",
       "      <th>N@3</th>\n",
       "      <th>N@5</th>\n",
       "      <th>N@10</th>\n",
       "      <th>PSP@1</th>\n",
       "      <th>PSP@3</th>\n",
       "      <th>PSP@5</th>\n",
       "      <th>PSP@10</th>\n",
       "      <th>PSN@1</th>\n",
       "      <th>PSN@3</th>\n",
       "      <th>PSN@5</th>\n",
       "      <th>PSN@10</th>\n",
       "      <th>R@2</th>\n",
       "      <th>R@3</th>\n",
       "      <th>R@10</th>\n",
       "      <th>R@50</th>\n",
       "      <th>R@100</th>\n",
       "      <th>R@200</th>\n",
       "    </tr>\n",
       "  </thead>\n",
       "  <tbody>\n",
       "    <tr>\n",
       "      <th>0</th>\n",
       "      <td>30.15</td>\n",
       "      <td>21.533333</td>\n",
       "      <td>16.61</td>\n",
       "      <td>10.66</td>\n",
       "      <td>30.15</td>\n",
       "      <td>30.456043</td>\n",
       "      <td>31.545956</td>\n",
       "      <td>33.771454</td>\n",
       "      <td>17.870654</td>\n",
       "      <td>21.88763</td>\n",
       "      <td>24.84054</td>\n",
       "      <td>30.031887</td>\n",
       "      <td>17.870653</td>\n",
       "      <td>21.004089</td>\n",
       "      <td>22.834681</td>\n",
       "      <td>25.375879</td>\n",
       "      <td>22.681426</td>\n",
       "      <td>27.358629</td>\n",
       "      <td>39.813953</td>\n",
       "      <td>51.198876</td>\n",
       "      <td>53.720209</td>\n",
       "      <td>55.269016</td>\n",
       "    </tr>\n",
       "  </tbody>\n",
       "</table>\n",
       "</div>"
      ],
      "text/plain": [
       "     P@1        P@3    P@5   P@10    N@1        N@3        N@5       N@10  \\\n",
       "0  30.15  21.533333  16.61  10.66  30.15  30.456043  31.545956  33.771454   \n",
       "\n",
       "       PSP@1     PSP@3     PSP@5     PSP@10      PSN@1      PSN@3      PSN@5  \\\n",
       "0  17.870654  21.88763  24.84054  30.031887  17.870653  21.004089  22.834681   \n",
       "\n",
       "      PSN@10        R@2        R@3       R@10       R@50      R@100      R@200  \n",
       "0  25.375879  22.681426  27.358629  39.813953  51.198876  53.720209  55.269016  "
      ]
     },
     "metadata": {},
     "output_type": "display_data"
    }
   ],
   "source": [
    "with pd.option_context('display.max_columns', None):\n",
    "    display(pd.DataFrame([m])[sorted_metric(m, order=['P', 'N', 'PSP', 'PSN'])] * 100)"
   ]
  },
  {
   "cell_type": "code",
   "execution_count": null,
   "id": "623fe512-52e0-4e52-bae6-033aeaa2d8a2",
   "metadata": {},
   "outputs": [],
   "source": []
  }
 ],
 "metadata": {
  "kernelspec": {
   "display_name": "python3",
   "language": "python",
   "name": "python3"
  }
 },
 "nbformat": 4,
 "nbformat_minor": 5
}
