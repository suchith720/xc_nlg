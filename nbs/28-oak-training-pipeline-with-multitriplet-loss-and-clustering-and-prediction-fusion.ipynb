{
 "cells": [
  {
   "cell_type": "markdown",
   "id": "6e3a0f4c-1cfb-4a14-b8f2-fdea31c390ec",
   "metadata": {},
   "source": [
    "# NGAME-NLG prediction fusion "
   ]
  },
  {
   "cell_type": "code",
   "execution_count": 1,
   "id": "ddda97e8-16ac-42c7-9ad4-f981e21c0aa2",
   "metadata": {},
   "outputs": [],
   "source": [
    "#| default_exp 28-oak-training-pipeline-with-multitriplet-loss-and-clustering-and-prediction-fusion"
   ]
  },
  {
   "cell_type": "code",
   "execution_count": 2,
   "id": "3f35d8be-1323-400a-b78e-d0a4d2697801",
   "metadata": {},
   "outputs": [],
   "source": [
    "#| hide\n",
    "from nbdev.showdoc import *\n",
    "import nbdev; nbdev.nbdev_export()"
   ]
  },
  {
   "cell_type": "code",
   "execution_count": 3,
   "id": "13077b86-1326-4b43-a125-ef67bd11a70a",
   "metadata": {},
   "outputs": [],
   "source": [
    "%load_ext autoreload\n",
    "%autoreload 2"
   ]
  },
  {
   "cell_type": "code",
   "execution_count": 6,
   "id": "d685e35e-9a13-4186-b7f4-b831b10086bb",
   "metadata": {},
   "outputs": [],
   "source": [
    "#| export\n",
    "import os,torch, torch.multiprocessing as mp, pickle\n",
    "from xcai.basics import *\n",
    "from xcai.models.MMM0XX import DBT013"
   ]
  },
  {
   "cell_type": "code",
   "execution_count": 7,
   "id": "58018a49",
   "metadata": {},
   "outputs": [],
   "source": [
    "import xclib.evaluation.xc_metrics as xc_metrics"
   ]
  },
  {
   "cell_type": "code",
   "execution_count": 8,
   "id": "e0c924c6",
   "metadata": {},
   "outputs": [],
   "source": [
    "os.environ['WANDB_MODE'] = 'disabled'"
   ]
  },
  {
   "cell_type": "code",
   "execution_count": 9,
   "id": "53768670-9905-46b0-9a6d-b6e91d50b918",
   "metadata": {},
   "outputs": [],
   "source": [
    "#| export\n",
    "os.environ['CUDA_VISIBLE_DEVICES'] = '6,7'\n",
    "os.environ['WANDB_PROJECT']='xc-nlg_22-oak-training-pipeline-with-multitriplet-loss-and-clustering'"
   ]
  },
  {
   "cell_type": "markdown",
   "id": "71067fbf",
   "metadata": {},
   "source": [
    "## Experiment"
   ]
  },
  {
   "cell_type": "code",
   "execution_count": 11,
   "id": "ba38fcb0-3ebf-4f79-aa20-1a1321b791c5",
   "metadata": {},
   "outputs": [
    {
     "name": "stderr",
     "output_type": "stream",
     "text": [
      "/opt/conda/envs/ptca/lib/python3.9/site-packages/scipy/sparse/_index.py:146: SparseEfficiencyWarning: Changing the sparsity structure of a csr_matrix is expensive. lil_matrix is more efficient.\n",
      "  self._set_arrayXarray(i, j, x)\n"
     ]
    }
   ],
   "source": [
    "#| export\n",
    "block = XCBlock.from_cfg('/home/aiscuser/scratch/datasets', 'data', valid_pct=0.001, tfm='xcnlg', \n",
    "                         tokenizer='distilbert-base-uncased', smp_features=[('lbl2data',1,2)])"
   ]
  },
  {
   "cell_type": "code",
   "execution_count": 12,
   "id": "73b6a059-3409-4c00-a575-dcdb5775adc9",
   "metadata": {},
   "outputs": [
    {
     "name": "stderr",
     "output_type": "stream",
     "text": [
      "/opt/conda/envs/ptca/lib/python3.9/site-packages/transformers/training_args.py:1474: FutureWarning: `evaluation_strategy` is deprecated and will be removed in version 4.46 of 🤗 Transformers. Use `eval_strategy` instead\n",
      "  warnings.warn(\n",
      "huggingface/tokenizers: The current process just got forked, after parallelism has already been used. Disabling parallelism to avoid deadlocks...\n",
      "To disable this warning, you can either:\n",
      "\t- Avoid using `tokenizers` before the fork if possible\n",
      "\t- Explicitly set the environment variable TOKENIZERS_PARALLELISM=(true | false)\n"
     ]
    }
   ],
   "source": [
    "#| export\n",
    "args = XCLearningArguments(\n",
    "    output_dir='/home/aiscuser/scratch/Projects/xc_nlg/outputs/22-oak-training-pipeline-with-multitriplet-loss-and-clustering-2-14',\n",
    "    logging_first_step=True,\n",
    "    per_device_train_batch_size=800,\n",
    "    per_device_eval_batch_size=800,\n",
    "    representation_num_beams=200,\n",
    "    representation_accumulation_steps=100,\n",
    "    save_strategy=\"steps\",\n",
    "    evaluation_strategy='steps',\n",
    "    eval_steps=1000,\n",
    "    save_steps=1000,\n",
    "    save_total_limit=5,\n",
    "    num_train_epochs=50,\n",
    "    predict_with_representation=True,\n",
    "    adam_epsilon=1e-6,\n",
    "    warmup_steps=100,\n",
    "    weight_decay=0.1,\n",
    "    learning_rate=2e-4,\n",
    "    generation_num_beams=10,\n",
    "    generation_length_penalty=1.5,\n",
    "    predict_with_generation=True,\n",
    "    representation_search_type='BRUTEFORCE',\n",
    "    group_by_cluster=True,\n",
    "    num_clustering_warmup_epochs=2,\n",
    "    num_cluster_update_epochs=2,\n",
    "    num_cluster_size_update_epochs=4,\n",
    "    clustering_type='EXPO',\n",
    "    minimum_cluster_size=1,\n",
    "    maximum_cluster_size=300,\n",
    "    output_concatenation_weight=1.0,\n",
    "    target_indices_key='plbl2data_idx',\n",
    "    target_pointer_key='plbl2data_data2ptr',\n",
    ")"
   ]
  },
  {
   "cell_type": "code",
   "execution_count": 13,
   "id": "d02cebbb",
   "metadata": {},
   "outputs": [],
   "source": [
    "mname = f'{args.output_dir}/{os.path.basename(get_best_model(args.output_dir))}'"
   ]
  },
  {
   "cell_type": "code",
   "execution_count": null,
   "id": "cbce0538",
   "metadata": {},
   "outputs": [],
   "source": []
  },
  {
   "cell_type": "code",
   "execution_count": 27,
   "id": "15f5ebfa-5262-4977-88ef-f1b29ec09597",
   "metadata": {},
   "outputs": [],
   "source": [
    "#| export\n",
    "mname = f'{args.output_dir}/{os.path.basename(get_best_model(args.output_dir))}'\n",
    "bsz = max(args.per_device_train_batch_size, args.per_device_eval_batch_size)*2\n",
    "\n",
    "model = DBT013.from_pretrained(mname, ig_tok=0, bsz=bsz, tn_targ=1000, margin=0.3, tau=0.1, n_negatives=5, \n",
    "                               apply_softmax=True, lw=0.01, tie_word_embeddings=False)"
   ]
  },
  {
   "cell_type": "code",
   "execution_count": null,
   "id": "9d588abd",
   "metadata": {},
   "outputs": [],
   "source": []
  },
  {
   "cell_type": "code",
   "execution_count": 51,
   "id": "b3079e54",
   "metadata": {},
   "outputs": [
    {
     "data": {
      "application/vnd.jupyter.widget-view+json": {
       "model_id": "68beb326605140c7b11f81b43e327e61",
       "version_major": 2,
       "version_minor": 0
      },
      "text/plain": [
       "  0%|          | 0/312330 [00:00<?, ?it/s]"
      ]
     },
     "metadata": {},
     "output_type": "display_data"
    }
   ],
   "source": [
    "#| export\n",
    "trie = XCTrie.from_block(block)"
   ]
  },
  {
   "cell_type": "code",
   "execution_count": 19,
   "id": "2fb35e0f",
   "metadata": {},
   "outputs": [],
   "source": []
  },
  {
   "cell_type": "code",
   "execution_count": null,
   "id": "7732fa5e",
   "metadata": {},
   "outputs": [],
   "source": []
  },
  {
   "cell_type": "code",
   "execution_count": 57,
   "id": "2f8a40f8",
   "metadata": {},
   "outputs": [
    {
     "name": "stderr",
     "output_type": "stream",
     "text": [
      "huggingface/tokenizers: The current process just got forked, after parallelism has already been used. Disabling parallelism to avoid deadlocks...\n",
      "To disable this warning, you can either:\n",
      "\t- Avoid using `tokenizers` before the fork if possible\n",
      "\t- Explicitly set the environment variable TOKENIZERS_PARALLELISM=(true | false)\n",
      "huggingface/tokenizers: The current process just got forked, after parallelism has already been used. Disabling parallelism to avoid deadlocks...\n",
      "To disable this warning, you can either:\n",
      "\t- Avoid using `tokenizers` before the fork if possible\n",
      "\t- Explicitly set the environment variable TOKENIZERS_PARALLELISM=(true | false)\n",
      "huggingface/tokenizers: The current process just got forked, after parallelism has already been used. Disabling parallelism to avoid deadlocks...\n",
      "To disable this warning, you can either:\n",
      "\t- Avoid using `tokenizers` before the fork if possible\n",
      "\t- Explicitly set the environment variable TOKENIZERS_PARALLELISM=(true | false)\n"
     ]
    }
   ],
   "source": [
    "#| export\n",
    "train_dset = block.train.dset.sample(n=50_000, seed=50)\n",
    "metric = PrecRecl(block.n_lbl, train_dset.data.data_lbl_filterer, prop=block.train.dset.data.data_lbl,\n",
    "                  pk=10, rk=200, rep_pk=[1, 3, 5, 10], rep_rk=[10, 100, 200])\n",
    "\n",
    "learn = XCLearner(\n",
    "    model=model, \n",
    "    args=args,\n",
    "    trie=trie,\n",
    "    train_dataset=block.train.dset,\n",
    "    eval_dataset=train_dset,\n",
    "    data_collator=block.collator,\n",
    "    compute_metrics=metric,\n",
    ")"
   ]
  },
  {
   "cell_type": "code",
   "execution_count": 58,
   "id": "60fb5735",
   "metadata": {
    "scrolled": true
   },
   "outputs": [
    {
     "name": "stderr",
     "output_type": "stream",
     "text": [
      "huggingface/tokenizers: The current process just got forked, after parallelism has already been used. Disabling parallelism to avoid deadlocks...\n",
      "To disable this warning, you can either:\n",
      "\t- Avoid using `tokenizers` before the fork if possible\n",
      "\t- Explicitly set the environment variable TOKENIZERS_PARALLELISM=(true | false)\n"
     ]
    },
    {
     "name": "stdout",
     "output_type": "stream",
     "text": [
      "[2024-05-28 11:24:11,921] [INFO] [real_accelerator.py:110:get_accelerator] Setting ds_accelerator to cuda (auto detect)\n"
     ]
    },
    {
     "name": "stderr",
     "output_type": "stream",
     "text": [
      "huggingface/tokenizers: The current process just got forked, after parallelism has already been used. Disabling parallelism to avoid deadlocks...\n",
      "To disable this warning, you can either:\n",
      "\t- Avoid using `tokenizers` before the fork if possible\n",
      "\t- Explicitly set the environment variable TOKENIZERS_PARALLELISM=(true | false)\n",
      "huggingface/tokenizers: The current process just got forked, after parallelism has already been used. Disabling parallelism to avoid deadlocks...\n",
      "To disable this warning, you can either:\n",
      "\t- Avoid using `tokenizers` before the fork if possible\n",
      "\t- Explicitly set the environment variable TOKENIZERS_PARALLELISM=(true | false)\n",
      "huggingface/tokenizers: The current process just got forked, after parallelism has already been used. Disabling parallelism to avoid deadlocks...\n",
      "To disable this warning, you can either:\n",
      "\t- Avoid using `tokenizers` before the fork if possible\n",
      "\t- Explicitly set the environment variable TOKENIZERS_PARALLELISM=(true | false)\n"
     ]
    },
    {
     "data": {
      "application/vnd.jupyter.widget-view+json": {
       "model_id": "4a372a1bd7fc485a9c002962044db122",
       "version_major": 2,
       "version_minor": 0
      },
      "text/plain": [
       "  0%|          | 0/196 [00:00<?, ?it/s]"
      ]
     },
     "metadata": {},
     "output_type": "display_data"
    },
    {
     "name": "stdout",
     "output_type": "stream",
     "text": [
      "node-0:1352351:1352351 [0] NCCL INFO Bootstrap : Using eth0:10.13.42.111<0>\n",
      "node-0:1352351:1352351 [0] NCCL INFO NET/Plugin : Plugin load (librccl-net.so) returned 2 : librccl-net.so: cannot open shared object file: No such file or directory\n",
      "node-0:1352351:1352351 [0] NCCL INFO NET/Plugin : No plugin found, using internal implementation\n",
      "node-0:1352351:1352351 [0] NCCL INFO Kernel version: 5.15.0-1042-azure\n",
      "RCCL version 2.17.1+hip5.7 HEAD:cbbb3d8+\n",
      "\n",
      "node-0:1352351:1385403 [1] /long_pathname_so_that_rpms_can_package_the_debug_info/src/extlibs/rccl/build/hipify/src/misc/ibvwrap.cc:222 NCCL WARN Call to ibv_open_device failed\n",
      "\n",
      "node-0:1352351:1385403 [1] /long_pathname_so_that_rpms_can_package_the_debug_info/src/extlibs/rccl/build/hipify/src/transport/net_ib.cc:199 NCCL WARN NET/IB : Unable to open device mlx5_0\n",
      "\n",
      "node-0:1352351:1385403 [1] /long_pathname_so_that_rpms_can_package_the_debug_info/src/extlibs/rccl/build/hipify/src/misc/ibvwrap.cc:222 NCCL WARN Call to ibv_open_device failed\n",
      "\n",
      "node-0:1352351:1385403 [1] /long_pathname_so_that_rpms_can_package_the_debug_info/src/extlibs/rccl/build/hipify/src/transport/net_ib.cc:199 NCCL WARN NET/IB : Unable to open device mlx5_1\n",
      "\n",
      "node-0:1352351:1385403 [1] /long_pathname_so_that_rpms_can_package_the_debug_info/src/extlibs/rccl/build/hipify/src/misc/ibvwrap.cc:222 NCCL WARN Call to ibv_open_device failed\n",
      "\n",
      "node-0:1352351:1385403 [1] /long_pathname_so_that_rpms_can_package_the_debug_info/src/extlibs/rccl/build/hipify/src/transport/net_ib.cc:199 NCCL WARN NET/IB : Unable to open device mlx5_2\n",
      "\n",
      "node-0:1352351:1385403 [1] /long_pathname_so_that_rpms_can_package_the_debug_info/src/extlibs/rccl/build/hipify/src/misc/ibvwrap.cc:222 NCCL WARN Call to ibv_open_device failed\n",
      "\n",
      "node-0:1352351:1385403 [1] /long_pathname_so_that_rpms_can_package_the_debug_info/src/extlibs/rccl/build/hipify/src/transport/net_ib.cc:199 NCCL WARN NET/IB : Unable to open device mlx5_3\n",
      "\n",
      "node-0:1352351:1385403 [1] /long_pathname_so_that_rpms_can_package_the_debug_info/src/extlibs/rccl/build/hipify/src/misc/ibvwrap.cc:222 NCCL WARN Call to ibv_open_device failed\n",
      "\n",
      "node-0:1352351:1385403 [1] /long_pathname_so_that_rpms_can_package_the_debug_info/src/extlibs/rccl/build/hipify/src/transport/net_ib.cc:199 NCCL WARN NET/IB : Unable to open device mlx5_4\n",
      "\n",
      "node-0:1352351:1385403 [1] /long_pathname_so_that_rpms_can_package_the_debug_info/src/extlibs/rccl/build/hipify/src/misc/ibvwrap.cc:222 NCCL WARN Call to ibv_open_device failed\n",
      "\n",
      "node-0:1352351:1385403 [1] /long_pathname_so_that_rpms_can_package_the_debug_info/src/extlibs/rccl/build/hipify/src/transport/net_ib.cc:199 NCCL WARN NET/IB : Unable to open device mlx5_5\n",
      "\n",
      "node-0:1352351:1385403 [1] /long_pathname_so_that_rpms_can_package_the_debug_info/src/extlibs/rccl/build/hipify/src/misc/ibvwrap.cc:222 NCCL WARN Call to ibv_open_device failed\n",
      "\n",
      "node-0:1352351:1385403 [1] /long_pathname_so_that_rpms_can_package_the_debug_info/src/extlibs/rccl/build/hipify/src/transport/net_ib.cc:199 NCCL WARN NET/IB : Unable to open device mlx5_6\n",
      "\n",
      "node-0:1352351:1385403 [1] /long_pathname_so_that_rpms_can_package_the_debug_info/src/extlibs/rccl/build/hipify/src/misc/ibvwrap.cc:222 NCCL WARN Call to ibv_open_device failed\n",
      "\n",
      "node-0:1352351:1385403 [1] /long_pathname_so_that_rpms_can_package_the_debug_info/src/extlibs/rccl/build/hipify/src/transport/net_ib.cc:199 NCCL WARN NET/IB : Unable to open device mlx5_7\n",
      "node-0:1352351:1385403 [1] NCCL INFO NET/IB : No device found.\n",
      "node-0:1352351:1385403 [1] NCCL INFO NET/Socket : Using [0]eth0:10.13.42.111<0>\n",
      "node-0:1352351:1385403 [1] NCCL INFO Using network Socket\n",
      "node-0:1352351:1385402 [0] NCCL INFO Using network Socket\n",
      "node-0:1352351:1385403 [1] NCCL INFO Topology detection : could not read /sys/devices/LNXSYSTM:00/LNXSYBUS:00/ACPI0004:00/VMBUS:00/47505500-000b-0000-3130-303237343043/pci000b:00/000b:00:00.0/../max_link_speed, ignoring\n",
      "node-0:1352351:1385402 [0] NCCL INFO Topology detection : could not read /sys/devices/LNXSYSTM:00/LNXSYBUS:00/ACPI0004:00/VMBUS:00/47505500-000b-0000-3130-303237343043/pci000b:00/000b:00:00.0/../max_link_speed, ignoring\n",
      "node-0:1352351:1385403 [1] NCCL INFO Topology detection : could not read /sys/devices/LNXSYSTM:00/LNXSYBUS:00/ACPI0004:00/VMBUS:00/47505500-000b-0000-3130-303237343043/pci000b:00/000b:00:00.0/../max_link_width, ignoring\n",
      "node-0:1352351:1385402 [0] NCCL INFO Topology detection : could not read /sys/devices/LNXSYSTM:00/LNXSYBUS:00/ACPI0004:00/VMBUS:00/47505500-000b-0000-3130-303237343043/pci000b:00/000b:00:00.0/../max_link_width, ignoring\n",
      "node-0:1352351:1385403 [1] NCCL INFO rocm_smi_lib: version 5.0.0.0\n",
      "node-0:1352351:1385402 [0] NCCL INFO rocm_smi_lib: version 5.0.0.0\n",
      "node-0:1352351:1385403 [1] NCCL INFO Topology detection : could not read /sys/devices/LNXSYSTM:00/LNXSYBUS:00/ACPI0004:00/VMBUS:00/47505500-000c-0000-3130-303237343043/pci000c:00/000c:00:00.0/../max_link_speed, ignoring\n",
      "node-0:1352351:1385402 [0] NCCL INFO Topology detection : could not read /sys/devices/LNXSYSTM:00/LNXSYBUS:00/ACPI0004:00/VMBUS:00/47505500-000c-0000-3130-303237343043/pci000c:00/000c:00:00.0/../max_link_speed, ignoring\n",
      "node-0:1352351:1385403 [1] NCCL INFO Topology detection : could not read /sys/devices/LNXSYSTM:00/LNXSYBUS:00/ACPI0004:00/VMBUS:00/47505500-000c-0000-3130-303237343043/pci000c:00/000c:00:00.0/../max_link_width, ignoring\n",
      "node-0:1352351:1385402 [0] NCCL INFO Topology detection : could not read /sys/devices/LNXSYSTM:00/LNXSYBUS:00/ACPI0004:00/VMBUS:00/47505500-000c-0000-3130-303237343043/pci000c:00/000c:00:00.0/../max_link_width, ignoring\n",
      "node-0:1352351:1385403 [1] NCCL INFO === System : maxBw 24.0 totalBw 24.0 ===\n",
      "node-0:1352351:1385403 [1] NCCL INFO CPU/3 (1/2/4)\n",
      "node-0:1352351:1385403 [1] NCCL INFO + PCI[5000.0] - NIC/0\n",
      "node-0:1352351:1385403 [1] NCCL INFO + PCI[24.0] - GPU/B00000 (0)\n",
      "node-0:1352351:1385403 [1] NCCL INFO + PCI[24.0] - GPU/C00000 (1)\n",
      "node-0:1352351:1385403 [1] NCCL INFO ==========================================\n",
      "node-0:1352351:1385403 [1] NCCL INFO GPU/B00000 :GPU/B00000 (0/5000.000000/LOC) GPU/C00000 (2/24.000000/PHB) CPU/3 (1/24.000000/PHB) \n",
      "node-0:1352351:1385403 [1] NCCL INFO GPU/C00000 :GPU/B00000 (2/24.000000/PHB) GPU/C00000 (0/5000.000000/LOC) CPU/3 (1/24.000000/PHB) \n",
      "node-0:1352351:1385403 [1] NCCL INFO Setting affinity for GPU 3 to ffffff00,00000000,00000000\n",
      "node-0:1352351:1385402 [0] NCCL INFO === System : maxBw 24.0 totalBw 24.0 ===\n",
      "node-0:1352351:1385402 [0] NCCL INFO CPU/3 (1/2/4)\n",
      "node-0:1352351:1385402 [0] NCCL INFO + PCI[5000.0] - NIC/0\n",
      "node-0:1352351:1385402 [0] NCCL INFO + PCI[24.0] - GPU/B00000 (0)\n",
      "node-0:1352351:1385402 [0] NCCL INFO + PCI[24.0] - GPU/C00000 (1)\n",
      "node-0:1352351:1385402 [0] NCCL INFO ==========================================\n",
      "node-0:1352351:1385402 [0] NCCL INFO GPU/B00000 :GPU/B00000 (0/5000.000000/LOC) GPU/C00000 (2/24.000000/PHB) CPU/3 (1/24.000000/PHB) \n",
      "node-0:1352351:1385402 [0] NCCL INFO GPU/C00000 :GPU/B00000 (2/24.000000/PHB) GPU/C00000 (0/5000.000000/LOC) CPU/3 (1/24.000000/PHB) \n",
      "node-0:1352351:1385402 [0] NCCL INFO Setting affinity for GPU 2 to ffffff00,00000000,00000000\n",
      "node-0:1352351:1385403 [1] NCCL INFO Pattern 4, crossNic 0, nChannels 1, bw 24.000000/24.000000, type PHB/PIX, sameChannels 1\n",
      "node-0:1352351:1385403 [1] NCCL INFO  0 : GPU/0 GPU/1\n",
      "node-0:1352351:1385402 [0] NCCL INFO Pattern 4, crossNic 0, nChannels 1, bw 24.000000/24.000000, type PHB/PIX, sameChannels 1\n",
      "node-0:1352351:1385402 [0] NCCL INFO  0 : GPU/0 GPU/1\n",
      "node-0:1352351:1385403 [1] NCCL INFO Pattern 1, crossNic 0, nChannels 1, bw 24.000000/24.000000, type PHB/PIX, sameChannels 1\n",
      "node-0:1352351:1385403 [1] NCCL INFO  0 : GPU/0 GPU/1\n",
      "node-0:1352351:1385402 [0] NCCL INFO Pattern 1, crossNic 0, nChannels 1, bw 24.000000/24.000000, type PHB/PIX, sameChannels 1\n",
      "node-0:1352351:1385402 [0] NCCL INFO  0 : GPU/0 GPU/1\n",
      "node-0:1352351:1385403 [1] NCCL INFO Pattern 3, crossNic 0, nChannels 1, bw 24.000000/24.000000, type PHB/PIX, sameChannels 1\n",
      "node-0:1352351:1385403 [1] NCCL INFO  0 : GPU/0 GPU/1\n",
      "node-0:1352351:1385402 [0] NCCL INFO Pattern 3, crossNic 0, nChannels 1, bw 24.000000/24.000000, type PHB/PIX, sameChannels 1\n",
      "node-0:1352351:1385402 [0] NCCL INFO  0 : GPU/0 GPU/1\n",
      "node-0:1352351:1385403 [1] NCCL INFO Tree 0 : 0 -> 1 -> -1/-1/-1\n",
      "node-0:1352351:1385403 [1] NCCL INFO Tree 1 : 0 -> 1 -> -1/-1/-1\n",
      "node-0:1352351:1385402 [0] NCCL INFO Tree 0 : -1 -> 0 -> 1/-1/-1\n",
      "node-0:1352351:1385402 [0] NCCL INFO Tree 1 : -1 -> 0 -> 1/-1/-1\n",
      "node-0:1352351:1385402 [0] NCCL INFO Channel 00/04 :    0   1\n",
      "node-0:1352351:1385402 [0] NCCL INFO Channel 01/04 :    0   1\n",
      "node-0:1352351:1385403 [1] NCCL INFO Ring 0 : 0 -> 1 -> 0 comm 0x1da4aee0 nRanks 02 busId c00000\n",
      "node-0:1352351:138"
     ]
    },
    {
     "name": "stderr",
     "output_type": "stream",
     "text": [
      "/home/aiscuser/scratch/Projects/xcai/xcai/losses.py:21: UserWarning: Sparse CSR tensor support is in beta state. If you miss a functionality in the sparse tensor support, please submit a feature request to https://github.com/pytorch/pytorch/issues. (Triggered internally at ../aten/src/ATen/SparseCsrTensorImpl.cpp:54.)\n",
      "  return torch.sparse_csr_tensor(data_ptr, data_idx, scores, device=data_ptr.device)\n",
      "/opt/conda/envs/ptca/lib/python3.9/site-packages/torch/nn/parallel/_functions.py:68: UserWarning: Was asked to gather along dimension 0, but all input tensors were scalars; will instead unsqueeze and return a vector.\n",
      "  warnings.warn('Was asked to gather along dimension 0, but all '\n"
     ]
    },
    {
     "data": {
      "text/html": [],
      "text/plain": [
       "<IPython.core.display.HTML object>"
      ]
     },
     "metadata": {},
     "output_type": "display_data"
    },
    {
     "name": "stderr",
     "output_type": "stream",
     "text": [
      "/opt/conda/envs/ptca/lib/python3.9/site-packages/scipy/sparse/_index.py:146: SparseEfficiencyWarning: Changing the sparsity structure of a csr_matrix is expensive. lil_matrix is more efficient.\n",
      "  self._set_arrayXarray(i, j, x)\n"
     ]
    },
    {
     "data": {
      "text/html": [
       "<div>\n",
       "<style scoped>\n",
       "    .dataframe tbody tr th:only-of-type {\n",
       "        vertical-align: middle;\n",
       "    }\n",
       "\n",
       "    .dataframe tbody tr th {\n",
       "        vertical-align: top;\n",
       "    }\n",
       "\n",
       "    .dataframe thead th {\n",
       "        text-align: right;\n",
       "    }\n",
       "</style>\n",
       "<table border=\"1\" class=\"dataframe\">\n",
       "  <thead>\n",
       "    <tr style=\"text-align: right;\">\n",
       "      <th></th>\n",
       "      <th>P@1</th>\n",
       "      <th>P@1_GEN</th>\n",
       "      <th>P@1_REPR</th>\n",
       "      <th>P@3</th>\n",
       "      <th>P@3_GEN</th>\n",
       "      <th>P@3_REPR</th>\n",
       "      <th>P@5</th>\n",
       "      <th>P@5_GEN</th>\n",
       "      <th>P@5_REPR</th>\n",
       "      <th>P@10</th>\n",
       "      <th>P@10_GEN</th>\n",
       "      <th>P@10_REPR</th>\n",
       "      <th>N@1</th>\n",
       "      <th>N@1_GEN</th>\n",
       "      <th>N@1_REPR</th>\n",
       "      <th>N@3</th>\n",
       "      <th>N@3_GEN</th>\n",
       "      <th>N@3_REPR</th>\n",
       "      <th>N@5</th>\n",
       "      <th>N@5_GEN</th>\n",
       "      <th>N@5_REPR</th>\n",
       "      <th>N@10</th>\n",
       "      <th>N@10_GEN</th>\n",
       "      <th>N@10_REPR</th>\n",
       "      <th>PSP@1</th>\n",
       "      <th>PSP@1_GEN</th>\n",
       "      <th>PSP@1_REPR</th>\n",
       "      <th>PSP@3</th>\n",
       "      <th>PSP@3_GEN</th>\n",
       "      <th>PSP@3_REPR</th>\n",
       "      <th>PSP@5</th>\n",
       "      <th>PSP@5_GEN</th>\n",
       "      <th>PSP@5_REPR</th>\n",
       "      <th>PSP@10</th>\n",
       "      <th>PSP@10_GEN</th>\n",
       "      <th>PSP@10_REPR</th>\n",
       "      <th>PSN@1</th>\n",
       "      <th>PSN@1_GEN</th>\n",
       "      <th>PSN@1_REPR</th>\n",
       "      <th>PSN@3</th>\n",
       "      <th>PSN@3_GEN</th>\n",
       "      <th>PSN@3_REPR</th>\n",
       "      <th>PSN@5</th>\n",
       "      <th>PSN@5_GEN</th>\n",
       "      <th>PSN@5_REPR</th>\n",
       "      <th>PSN@10</th>\n",
       "      <th>PSN@10_GEN</th>\n",
       "      <th>PSN@10_REPR</th>\n",
       "      <th>R@10</th>\n",
       "      <th>R@10_GEN</th>\n",
       "      <th>R@10_REPR</th>\n",
       "      <th>R@100</th>\n",
       "      <th>R@100_GEN</th>\n",
       "      <th>R@100_REPR</th>\n",
       "      <th>R@200</th>\n",
       "      <th>R@200_GEN</th>\n",
       "      <th>R@200_REPR</th>\n",
       "      <th>loss</th>\n",
       "      <th>runtime</th>\n",
       "      <th>samples_per_second</th>\n",
       "      <th>steps_per_second</th>\n",
       "    </tr>\n",
       "  </thead>\n",
       "  <tbody>\n",
       "    <tr>\n",
       "      <th>0</th>\n",
       "      <td>84.8</td>\n",
       "      <td>71.0</td>\n",
       "      <td>92.0</td>\n",
       "      <td>44.25</td>\n",
       "      <td>38.0667</td>\n",
       "      <td>50.2167</td>\n",
       "      <td>29.1</td>\n",
       "      <td>25.34</td>\n",
       "      <td>33.9</td>\n",
       "      <td>15.755</td>\n",
       "      <td>14.07</td>\n",
       "      <td>18.295</td>\n",
       "      <td>84.8</td>\n",
       "      <td>71.0</td>\n",
       "      <td>92.0</td>\n",
       "      <td>83.3821</td>\n",
       "      <td>72.9693</td>\n",
       "      <td>93.3876</td>\n",
       "      <td>83.4693</td>\n",
       "      <td>74.0069</td>\n",
       "      <td>94.2242</td>\n",
       "      <td>84.3574</td>\n",
       "      <td>75.7427</td>\n",
       "      <td>94.9679</td>\n",
       "      <td>76.2503</td>\n",
       "      <td>65.033</td>\n",
       "      <td>82.8373</td>\n",
       "      <td>76.6339</td>\n",
       "      <td>65.4124</td>\n",
       "      <td>87.1923</td>\n",
       "      <td>77.3812</td>\n",
       "      <td>65.9956</td>\n",
       "      <td>89.5593</td>\n",
       "      <td>81.7278</td>\n",
       "      <td>69.5761</td>\n",
       "      <td>92.896</td>\n",
       "      <td>76.2503</td>\n",
       "      <td>65.033</td>\n",
       "      <td>82.8373</td>\n",
       "      <td>80.3799</td>\n",
       "      <td>70.6903</td>\n",
       "      <td>89.2766</td>\n",
       "      <td>81.8046</td>\n",
       "      <td>72.6038</td>\n",
       "      <td>91.2146</td>\n",
       "      <td>83.573</td>\n",
       "      <td>74.5524</td>\n",
       "      <td>92.5706</td>\n",
       "      <td>85.73</td>\n",
       "      <td>81.5224</td>\n",
       "      <td>97.6176</td>\n",
       "      <td>99.3207</td>\n",
       "      <td>81.5999</td>\n",
       "      <td>99.3112</td>\n",
       "      <td>99.4084</td>\n",
       "      <td>81.5999</td>\n",
       "      <td>99.4034</td>\n",
       "      <td>0.0073</td>\n",
       "      <td>207.5618</td>\n",
       "      <td>9.636</td>\n",
       "      <td>0.01</td>\n",
       "    </tr>\n",
       "  </tbody>\n",
       "</table>\n",
       "</div>"
      ],
      "text/plain": [
       "    P@1  P@1_GEN  P@1_REPR    P@3  P@3_GEN  P@3_REPR   P@5  P@5_GEN  P@5_REPR  \\\n",
       "0  84.8     71.0      92.0  44.25  38.0667   50.2167  29.1    25.34      33.9   \n",
       "\n",
       "     P@10  P@10_GEN  P@10_REPR   N@1  N@1_GEN  N@1_REPR      N@3  N@3_GEN  \\\n",
       "0  15.755     14.07     18.295  84.8     71.0      92.0  83.3821  72.9693   \n",
       "\n",
       "   N@3_REPR      N@5  N@5_GEN  N@5_REPR     N@10  N@10_GEN  N@10_REPR  \\\n",
       "0   93.3876  83.4693  74.0069   94.2242  84.3574   75.7427    94.9679   \n",
       "\n",
       "     PSP@1  PSP@1_GEN  PSP@1_REPR    PSP@3  PSP@3_GEN  PSP@3_REPR    PSP@5  \\\n",
       "0  76.2503     65.033     82.8373  76.6339    65.4124     87.1923  77.3812   \n",
       "\n",
       "   PSP@5_GEN  PSP@5_REPR   PSP@10  PSP@10_GEN  PSP@10_REPR    PSN@1  \\\n",
       "0    65.9956     89.5593  81.7278     69.5761       92.896  76.2503   \n",
       "\n",
       "   PSN@1_GEN  PSN@1_REPR    PSN@3  PSN@3_GEN  PSN@3_REPR    PSN@5  PSN@5_GEN  \\\n",
       "0     65.033     82.8373  80.3799    70.6903     89.2766  81.8046    72.6038   \n",
       "\n",
       "   PSN@5_REPR  PSN@10  PSN@10_GEN  PSN@10_REPR   R@10  R@10_GEN  R@10_REPR  \\\n",
       "0     91.2146  83.573     74.5524      92.5706  85.73   81.5224    97.6176   \n",
       "\n",
       "     R@100  R@100_GEN  R@100_REPR    R@200  R@200_GEN  R@200_REPR    loss  \\\n",
       "0  99.3207    81.5999     99.3112  99.4084    81.5999     99.4034  0.0073   \n",
       "\n",
       "    runtime  samples_per_second  steps_per_second  \n",
       "0  207.5618               9.636              0.01  "
      ]
     },
     "metadata": {},
     "output_type": "display_data"
    }
   ],
   "source": [
    "#| export\n",
    "if __name__ == '__main__':\n",
    "    mp.freeze_support()\n",
    "    train_pred = learn.predict(train_dset)\n",
    "    \n",
    "display_metric(train_pred.metrics)"
   ]
  },
  {
   "cell_type": "code",
   "execution_count": 59,
   "id": "4bf86111",
   "metadata": {},
   "outputs": [],
   "source": [
    "#| export\n",
    "pred_dir = f'{mname}/predictions/'\n",
    "os.makedirs(pred_dir, exist_ok=True)\n",
    "with open(f'{pred_dir}/train_predictions.pkl', 'wb') as file: pickle.dump(train_pred, file)"
   ]
  },
  {
   "cell_type": "code",
   "execution_count": null,
   "id": "480b6c61",
   "metadata": {},
   "outputs": [],
   "source": []
  },
  {
   "cell_type": "code",
   "execution_count": 20,
   "id": "4fdfca1e",
   "metadata": {},
   "outputs": [],
   "source": [
    "#| export\n",
    "test_dset = block.test.dset.sample(n=2000, seed=50)\n",
    "metric = PrecRecl(block.n_lbl, block.test.data_lbl_filterer, prop=block.train.dset.data.data_lbl,\n",
    "                  pk=10, rk=200, rep_pk=[1, 3, 5, 10], rep_rk=[10, 100, 200])\n",
    "\n",
    "learn = XCLearner(\n",
    "    model=model, \n",
    "    args=args,\n",
    "    trie=trie,\n",
    "    train_dataset=block.train.dset,\n",
    "    eval_dataset=test_dset,\n",
    "    data_collator=block.collator,\n",
    "    compute_metrics=metric,\n",
    ")"
   ]
  },
  {
   "cell_type": "code",
   "execution_count": 21,
   "id": "b58f9eee",
   "metadata": {},
   "outputs": [
    {
     "data": {
      "application/vnd.jupyter.widget-view+json": {
       "model_id": "66aaddddcb44494c94007f4893cf516c",
       "version_major": 2,
       "version_minor": 0
      },
      "text/plain": [
       "  0%|          | 0/391 [00:00<?, ?it/s]"
      ]
     },
     "metadata": {},
     "output_type": "display_data"
    },
    {
     "data": {
      "application/vnd.jupyter.widget-view+json": {
       "model_id": "66aaddddcb44494c94007f4893cf516c",
       "version_major": 2,
       "version_minor": 0
      },
      "text/plain": [
       "  0%|          | 0/391 [00:00<?, ?it/s]"
      ]
     },
     "metadata": {},
     "output_type": "display_data"
    },
    {
     "data": {
      "text/html": [],
      "text/plain": [
       "<IPython.core.display.HTML object>"
      ]
     },
     "metadata": {},
     "output_type": "display_data"
    },
    {
     "data": {
      "text/html": [],
      "text/plain": [
       "<IPython.core.display.HTML object>"
      ]
     },
     "metadata": {},
     "output_type": "display_data"
    },
    {
     "name": "stderr",
     "output_type": "stream",
     "text": [
      "/opt/conda/envs/ptca/lib/python3.9/site-packages/scipy/sparse/_index.py:146: SparseEfficiencyWarning: Changing the sparsity structure of a csr_matrix is expensive. lil_matrix is more efficient.\n",
      "  self._set_arrayXarray(i, j, x)\n",
      "/opt/conda/envs/ptca/lib/python3.9/site-packages/scipy/sparse/_index.py:146: SparseEfficiencyWarning: Changing the sparsity structure of a csr_matrix is expensive. lil_matrix is more efficient.\n",
      "  self._set_arrayXarray(i, j, x)\n"
     ]
    },
    {
     "data": {
      "text/html": [
       "<div>\n",
       "<style scoped>\n",
       "    .dataframe tbody tr th:only-of-type {\n",
       "        vertical-align: middle;\n",
       "    }\n",
       "\n",
       "    .dataframe tbody tr th {\n",
       "        vertical-align: top;\n",
       "    }\n",
       "\n",
       "    .dataframe thead th {\n",
       "        text-align: right;\n",
       "    }\n",
       "</style>\n",
       "<table border=\"1\" class=\"dataframe\">\n",
       "  <thead>\n",
       "    <tr style=\"text-align: right;\">\n",
       "      <th></th>\n",
       "      <th>P@1</th>\n",
       "      <th>P@1_GEN</th>\n",
       "      <th>P@1_REPR</th>\n",
       "      <th>P@3</th>\n",
       "      <th>P@3_GEN</th>\n",
       "      <th>P@3_REPR</th>\n",
       "      <th>P@5</th>\n",
       "      <th>P@5_GEN</th>\n",
       "      <th>P@5_REPR</th>\n",
       "      <th>P@10</th>\n",
       "      <th>P@10_GEN</th>\n",
       "      <th>P@10_REPR</th>\n",
       "      <th>N@1</th>\n",
       "      <th>N@1_GEN</th>\n",
       "      <th>N@1_REPR</th>\n",
       "      <th>N@3</th>\n",
       "      <th>N@3_GEN</th>\n",
       "      <th>N@3_REPR</th>\n",
       "      <th>N@5</th>\n",
       "      <th>N@5_GEN</th>\n",
       "      <th>N@5_REPR</th>\n",
       "      <th>N@10</th>\n",
       "      <th>N@10_GEN</th>\n",
       "      <th>N@10_REPR</th>\n",
       "      <th>PSP@1</th>\n",
       "      <th>PSP@1_GEN</th>\n",
       "      <th>PSP@1_REPR</th>\n",
       "      <th>PSP@3</th>\n",
       "      <th>PSP@3_GEN</th>\n",
       "      <th>PSP@3_REPR</th>\n",
       "      <th>PSP@5</th>\n",
       "      <th>PSP@5_GEN</th>\n",
       "      <th>PSP@5_REPR</th>\n",
       "      <th>PSP@10</th>\n",
       "      <th>PSP@10_GEN</th>\n",
       "      <th>PSP@10_REPR</th>\n",
       "      <th>PSN@1</th>\n",
       "      <th>PSN@1_GEN</th>\n",
       "      <th>PSN@1_REPR</th>\n",
       "      <th>PSN@3</th>\n",
       "      <th>PSN@3_GEN</th>\n",
       "      <th>PSN@3_REPR</th>\n",
       "      <th>PSN@5</th>\n",
       "      <th>PSN@5_GEN</th>\n",
       "      <th>PSN@5_REPR</th>\n",
       "      <th>PSN@10</th>\n",
       "      <th>PSN@10_GEN</th>\n",
       "      <th>PSN@10_REPR</th>\n",
       "      <th>R@10</th>\n",
       "      <th>R@10_GEN</th>\n",
       "      <th>R@10_REPR</th>\n",
       "      <th>R@100</th>\n",
       "      <th>R@100_GEN</th>\n",
       "      <th>R@100_REPR</th>\n",
       "      <th>R@200</th>\n",
       "      <th>R@200_GEN</th>\n",
       "      <th>R@200_REPR</th>\n",
       "      <th>loss</th>\n",
       "      <th>runtime</th>\n",
       "      <th>samples_per_second</th>\n",
       "      <th>steps_per_second</th>\n",
       "    </tr>\n",
       "  </thead>\n",
       "  <tbody>\n",
       "    <tr>\n",
       "      <th>0</th>\n",
       "      <td>22.45</td>\n",
       "      <td>15.0</td>\n",
       "      <td>28.85</td>\n",
       "      <td>13.4667</td>\n",
       "      <td>9.0333</td>\n",
       "      <td>18.6333</td>\n",
       "      <td>10.3</td>\n",
       "      <td>6.54</td>\n",
       "      <td>13.94</td>\n",
       "      <td>7.01</td>\n",
       "      <td>4.07</td>\n",
       "      <td>8.725</td>\n",
       "      <td>22.45</td>\n",
       "      <td>15.0</td>\n",
       "      <td>28.85</td>\n",
       "      <td>20.7061</td>\n",
       "      <td>14.1675</td>\n",
       "      <td>27.7934</td>\n",
       "      <td>21.6041</td>\n",
       "      <td>14.4409</td>\n",
       "      <td>28.4831</td>\n",
       "      <td>23.7016</td>\n",
       "      <td>15.4117</td>\n",
       "      <td>30.0675</td>\n",
       "      <td>15.6589</td>\n",
       "      <td>9.3126</td>\n",
       "      <td>23.8955</td>\n",
       "      <td>15.4531</td>\n",
       "      <td>9.2676</td>\n",
       "      <td>24.2329</td>\n",
       "      <td>17.4036</td>\n",
       "      <td>9.6159</td>\n",
       "      <td>25.6114</td>\n",
       "      <td>22.3715</td>\n",
       "      <td>10.9931</td>\n",
       "      <td>28.9783</td>\n",
       "      <td>15.6589</td>\n",
       "      <td>9.3126</td>\n",
       "      <td>23.8955</td>\n",
       "      <td>16.301</td>\n",
       "      <td>9.9223</td>\n",
       "      <td>25.0096</td>\n",
       "      <td>17.8551</td>\n",
       "      <td>10.4698</td>\n",
       "      <td>26.2905</td>\n",
       "      <td>20.3005</td>\n",
       "      <td>11.4135</td>\n",
       "      <td>28.0612</td>\n",
       "      <td>28.114</td>\n",
       "      <td>17.6166</td>\n",
       "      <td>33.97</td>\n",
       "      <td>50.6795</td>\n",
       "      <td>17.6643</td>\n",
       "      <td>50.2855</td>\n",
       "      <td>54.1661</td>\n",
       "      <td>17.6643</td>\n",
       "      <td>53.9083</td>\n",
       "      <td>9.4936</td>\n",
       "      <td>155.6752</td>\n",
       "      <td>12.847</td>\n",
       "      <td>0.019</td>\n",
       "    </tr>\n",
       "  </tbody>\n",
       "</table>\n",
       "</div>"
      ],
      "text/plain": [
       "     P@1  P@1_GEN  P@1_REPR      P@3  P@3_GEN  P@3_REPR   P@5  P@5_GEN  \\\n",
       "0  22.45     15.0     28.85  13.4667   9.0333   18.6333  10.3     6.54   \n",
       "\n",
       "   P@5_REPR  P@10  P@10_GEN  P@10_REPR    N@1  N@1_GEN  N@1_REPR      N@3  \\\n",
       "0     13.94  7.01      4.07      8.725  22.45     15.0     28.85  20.7061   \n",
       "\n",
       "   N@3_GEN  N@3_REPR      N@5  N@5_GEN  N@5_REPR     N@10  N@10_GEN  \\\n",
       "0  14.1675   27.7934  21.6041  14.4409   28.4831  23.7016   15.4117   \n",
       "\n",
       "   N@10_REPR    PSP@1  PSP@1_GEN  PSP@1_REPR    PSP@3  PSP@3_GEN  PSP@3_REPR  \\\n",
       "0    30.0675  15.6589     9.3126     23.8955  15.4531     9.2676     24.2329   \n",
       "\n",
       "     PSP@5  PSP@5_GEN  PSP@5_REPR   PSP@10  PSP@10_GEN  PSP@10_REPR    PSN@1  \\\n",
       "0  17.4036     9.6159     25.6114  22.3715     10.9931      28.9783  15.6589   \n",
       "\n",
       "   PSN@1_GEN  PSN@1_REPR   PSN@3  PSN@3_GEN  PSN@3_REPR    PSN@5  PSN@5_GEN  \\\n",
       "0     9.3126     23.8955  16.301     9.9223     25.0096  17.8551    10.4698   \n",
       "\n",
       "   PSN@5_REPR   PSN@10  PSN@10_GEN  PSN@10_REPR    R@10  R@10_GEN  R@10_REPR  \\\n",
       "0     26.2905  20.3005     11.4135      28.0612  28.114   17.6166      33.97   \n",
       "\n",
       "     R@100  R@100_GEN  R@100_REPR    R@200  R@200_GEN  R@200_REPR    loss  \\\n",
       "0  50.6795    17.6643     50.2855  54.1661    17.6643     53.9083  9.4936   \n",
       "\n",
       "    runtime  samples_per_second  steps_per_second  \n",
       "0  155.6752              12.847             0.019  "
      ]
     },
     "metadata": {},
     "output_type": "display_data"
    },
    {
     "data": {
      "text/html": [
       "<div>\n",
       "<style scoped>\n",
       "    .dataframe tbody tr th:only-of-type {\n",
       "        vertical-align: middle;\n",
       "    }\n",
       "\n",
       "    .dataframe tbody tr th {\n",
       "        vertical-align: top;\n",
       "    }\n",
       "\n",
       "    .dataframe thead th {\n",
       "        text-align: right;\n",
       "    }\n",
       "</style>\n",
       "<table border=\"1\" class=\"dataframe\">\n",
       "  <thead>\n",
       "    <tr style=\"text-align: right;\">\n",
       "      <th></th>\n",
       "      <th>P@1</th>\n",
       "      <th>P@1_GEN</th>\n",
       "      <th>P@1_REPR</th>\n",
       "      <th>P@3</th>\n",
       "      <th>P@3_GEN</th>\n",
       "      <th>P@3_REPR</th>\n",
       "      <th>P@5</th>\n",
       "      <th>P@5_GEN</th>\n",
       "      <th>P@5_REPR</th>\n",
       "      <th>P@10</th>\n",
       "      <th>P@10_GEN</th>\n",
       "      <th>P@10_REPR</th>\n",
       "      <th>N@1</th>\n",
       "      <th>N@1_GEN</th>\n",
       "      <th>N@1_REPR</th>\n",
       "      <th>N@3</th>\n",
       "      <th>N@3_GEN</th>\n",
       "      <th>N@3_REPR</th>\n",
       "      <th>N@5</th>\n",
       "      <th>N@5_GEN</th>\n",
       "      <th>N@5_REPR</th>\n",
       "      <th>N@10</th>\n",
       "      <th>N@10_GEN</th>\n",
       "      <th>N@10_REPR</th>\n",
       "      <th>PSP@1</th>\n",
       "      <th>PSP@1_GEN</th>\n",
       "      <th>PSP@1_REPR</th>\n",
       "      <th>PSP@3</th>\n",
       "      <th>PSP@3_GEN</th>\n",
       "      <th>PSP@3_REPR</th>\n",
       "      <th>PSP@5</th>\n",
       "      <th>PSP@5_GEN</th>\n",
       "      <th>PSP@5_REPR</th>\n",
       "      <th>PSP@10</th>\n",
       "      <th>PSP@10_GEN</th>\n",
       "      <th>PSP@10_REPR</th>\n",
       "      <th>PSN@1</th>\n",
       "      <th>PSN@1_GEN</th>\n",
       "      <th>PSN@1_REPR</th>\n",
       "      <th>PSN@3</th>\n",
       "      <th>PSN@3_GEN</th>\n",
       "      <th>PSN@3_REPR</th>\n",
       "      <th>PSN@5</th>\n",
       "      <th>PSN@5_GEN</th>\n",
       "      <th>PSN@5_REPR</th>\n",
       "      <th>PSN@10</th>\n",
       "      <th>PSN@10_GEN</th>\n",
       "      <th>PSN@10_REPR</th>\n",
       "      <th>R@10</th>\n",
       "      <th>R@10_GEN</th>\n",
       "      <th>R@10_REPR</th>\n",
       "      <th>R@100</th>\n",
       "      <th>R@100_GEN</th>\n",
       "      <th>R@100_REPR</th>\n",
       "      <th>R@200</th>\n",
       "      <th>R@200_GEN</th>\n",
       "      <th>R@200_REPR</th>\n",
       "      <th>loss</th>\n",
       "      <th>runtime</th>\n",
       "      <th>samples_per_second</th>\n",
       "      <th>steps_per_second</th>\n",
       "    </tr>\n",
       "  </thead>\n",
       "  <tbody>\n",
       "    <tr>\n",
       "      <th>0</th>\n",
       "      <td>22.45</td>\n",
       "      <td>15.0</td>\n",
       "      <td>28.85</td>\n",
       "      <td>13.4667</td>\n",
       "      <td>9.0333</td>\n",
       "      <td>18.6333</td>\n",
       "      <td>10.3</td>\n",
       "      <td>6.54</td>\n",
       "      <td>13.94</td>\n",
       "      <td>7.01</td>\n",
       "      <td>4.07</td>\n",
       "      <td>8.725</td>\n",
       "      <td>22.45</td>\n",
       "      <td>15.0</td>\n",
       "      <td>28.85</td>\n",
       "      <td>20.7061</td>\n",
       "      <td>14.1675</td>\n",
       "      <td>27.7934</td>\n",
       "      <td>21.6041</td>\n",
       "      <td>14.4409</td>\n",
       "      <td>28.4831</td>\n",
       "      <td>23.7016</td>\n",
       "      <td>15.4117</td>\n",
       "      <td>30.0675</td>\n",
       "      <td>15.6589</td>\n",
       "      <td>9.3126</td>\n",
       "      <td>23.8955</td>\n",
       "      <td>15.4531</td>\n",
       "      <td>9.2676</td>\n",
       "      <td>24.2329</td>\n",
       "      <td>17.4036</td>\n",
       "      <td>9.6159</td>\n",
       "      <td>25.6114</td>\n",
       "      <td>22.3715</td>\n",
       "      <td>10.9931</td>\n",
       "      <td>28.9783</td>\n",
       "      <td>15.6589</td>\n",
       "      <td>9.3126</td>\n",
       "      <td>23.8955</td>\n",
       "      <td>16.301</td>\n",
       "      <td>9.9223</td>\n",
       "      <td>25.0096</td>\n",
       "      <td>17.8551</td>\n",
       "      <td>10.4698</td>\n",
       "      <td>26.2905</td>\n",
       "      <td>20.3005</td>\n",
       "      <td>11.4135</td>\n",
       "      <td>28.0612</td>\n",
       "      <td>28.114</td>\n",
       "      <td>17.6166</td>\n",
       "      <td>33.97</td>\n",
       "      <td>50.6795</td>\n",
       "      <td>17.6643</td>\n",
       "      <td>50.2855</td>\n",
       "      <td>54.1661</td>\n",
       "      <td>17.6643</td>\n",
       "      <td>53.9083</td>\n",
       "      <td>9.4936</td>\n",
       "      <td>155.6752</td>\n",
       "      <td>12.847</td>\n",
       "      <td>0.019</td>\n",
       "    </tr>\n",
       "  </tbody>\n",
       "</table>\n",
       "</div>"
      ],
      "text/plain": [
       "     P@1  P@1_GEN  P@1_REPR      P@3  P@3_GEN  P@3_REPR   P@5  P@5_GEN  \\\n",
       "0  22.45     15.0     28.85  13.4667   9.0333   18.6333  10.3     6.54   \n",
       "\n",
       "   P@5_REPR  P@10  P@10_GEN  P@10_REPR    N@1  N@1_GEN  N@1_REPR      N@3  \\\n",
       "0     13.94  7.01      4.07      8.725  22.45     15.0     28.85  20.7061   \n",
       "\n",
       "   N@3_GEN  N@3_REPR      N@5  N@5_GEN  N@5_REPR     N@10  N@10_GEN  \\\n",
       "0  14.1675   27.7934  21.6041  14.4409   28.4831  23.7016   15.4117   \n",
       "\n",
       "   N@10_REPR    PSP@1  PSP@1_GEN  PSP@1_REPR    PSP@3  PSP@3_GEN  PSP@3_REPR  \\\n",
       "0    30.0675  15.6589     9.3126     23.8955  15.4531     9.2676     24.2329   \n",
       "\n",
       "     PSP@5  PSP@5_GEN  PSP@5_REPR   PSP@10  PSP@10_GEN  PSP@10_REPR    PSN@1  \\\n",
       "0  17.4036     9.6159     25.6114  22.3715     10.9931      28.9783  15.6589   \n",
       "\n",
       "   PSN@1_GEN  PSN@1_REPR   PSN@3  PSN@3_GEN  PSN@3_REPR    PSN@5  PSN@5_GEN  \\\n",
       "0     9.3126     23.8955  16.301     9.9223     25.0096  17.8551    10.4698   \n",
       "\n",
       "   PSN@5_REPR   PSN@10  PSN@10_GEN  PSN@10_REPR    R@10  R@10_GEN  R@10_REPR  \\\n",
       "0     26.2905  20.3005     11.4135      28.0612  28.114   17.6166      33.97   \n",
       "\n",
       "     R@100  R@100_GEN  R@100_REPR    R@200  R@200_GEN  R@200_REPR    loss  \\\n",
       "0  50.6795    17.6643     50.2855  54.1661    17.6643     53.9083  9.4936   \n",
       "\n",
       "    runtime  samples_per_second  steps_per_second  \n",
       "0  155.6752              12.847             0.019  "
      ]
     },
     "metadata": {},
     "output_type": "display_data"
    }
   ],
   "source": [
    "#| export\n",
    "if __name__ == '__main__':\n",
    "    mp.freeze_support()\n",
    "    test_pred = learn.predict(block.test.dset)\n",
    "    \n",
    "display_metric(test_pred.metrics)"
   ]
  },
  {
   "cell_type": "code",
   "execution_count": null,
   "id": "7a58dde6",
   "metadata": {},
   "outputs": [],
   "source": [
    "#| export\n",
    "pred_dir = f'{mname}/predictions/'\n",
    "os.makedirs(pred_dir, exist_ok=True)\n",
    "with open(f'{pred_dir}/test_predictions.pkl', 'wb') as file: pickle.dump(test_pred, file)"
   ]
  },
  {
   "cell_type": "code",
   "execution_count": null,
   "id": "78e6d26f",
   "metadata": {},
   "outputs": [],
   "source": []
  },
  {
   "cell_type": "code",
   "execution_count": 17,
   "id": "897927d8",
   "metadata": {},
   "outputs": [],
   "source": [
    "pred_dir = f'{mname}/predictions/'\n",
    "\n",
    "with open(f'{pred_dir}/train_predictions.pkl', 'rb') as f: \n",
    "    train_pred = pickle.load(f)\n",
    "    \n",
    "with open(f'{pred_dir}/test_predictions.pkl', 'rb') as f: \n",
    "    test_pred = pickle.load(f)"
   ]
  },
  {
   "cell_type": "code",
   "execution_count": null,
   "id": "e314ea92",
   "metadata": {},
   "outputs": [],
   "source": []
  },
  {
   "cell_type": "code",
   "execution_count": 20,
   "id": "d613e484",
   "metadata": {},
   "outputs": [],
   "source": [
    "gen_pred,targ = get_output_sparse(**test_pred.gen_output, n_lbl=block.n_lbl)\n",
    "repr_pred,_ = get_output_sparse(**test_pred.repr_output, n_lbl=block.n_lbl)\n",
    "gen_pred.data = np.exp(gen_pred.data)"
   ]
  },
  {
   "cell_type": "code",
   "execution_count": null,
   "id": "83c3b8b9",
   "metadata": {},
   "outputs": [],
   "source": []
  },
  {
   "cell_type": "code",
   "execution_count": 21,
   "id": "2a44df43",
   "metadata": {},
   "outputs": [],
   "source": [
    "train_gen_pred,train_targ = get_output_sparse(**train_pred.gen_output, n_lbl=block.n_lbl)\n",
    "train_repr_pred,_ = get_output_sparse(**train_pred.repr_output, n_lbl=block.n_lbl)\n",
    "train_gen_pred.data = np.exp(train_gen_pred.data)"
   ]
  },
  {
   "cell_type": "markdown",
   "id": "90dc30b4",
   "metadata": {},
   "source": [
    "## Fusion"
   ]
  },
  {
   "cell_type": "code",
   "execution_count": 75,
   "id": "32f44146",
   "metadata": {},
   "outputs": [],
   "source": [
    "def get_topk_pred(pred, topk=200):\n",
    "    indices = np.argpartition(pred, -topk, axis=1)[:, -topk:]\n",
    "    data = np.take_along_axis(pred, indices, axis=1)\n",
    "    indptr = np.arange(0, data.shape[0]*data.shape[1]+1, topk)\n",
    "    return sparse.csr_matrix((data.flatten(), indices.flatten(), indptr), shape=pred.shape)\n"
   ]
  },
  {
   "cell_type": "code",
   "execution_count": 52,
   "id": "907f7870",
   "metadata": {},
   "outputs": [
    {
     "data": {
      "application/vnd.jupyter.widget-view+json": {
       "model_id": "92b9fde50da34e658b7e10b4b1f4f4fe",
       "version_major": 2,
       "version_minor": 0
      },
      "text/plain": [
       "  0%|          | 0/391 [00:00<?, ?it/s]"
      ]
     },
     "metadata": {},
     "output_type": "display_data"
    }
   ],
   "source": [
    "lbl_dl = learn.get_test_dataloader(block.lbl_dset)\n",
    "lbl_repr = learn.get_representation(lbl_dl)"
   ]
  },
  {
   "cell_type": "code",
   "execution_count": 53,
   "id": "6cce53cd",
   "metadata": {},
   "outputs": [],
   "source": [
    "lbl_lbl = lbl_repr@lbl_repr.T"
   ]
  },
  {
   "cell_type": "code",
   "execution_count": 98,
   "id": "4805b7a0",
   "metadata": {},
   "outputs": [],
   "source": [
    "gen_predl,train_gen_predl = gen_pred@lbl_lbl,train_gen_pred@lbl_lbl"
   ]
  },
  {
   "cell_type": "code",
   "execution_count": 77,
   "id": "5d61835a",
   "metadata": {},
   "outputs": [],
   "source": [
    "gen_predl,train_gen_predl = get_topk_pred(gen_predl, topk=200),get_topk_pred(train_gen_predl, topk=200)"
   ]
  },
  {
   "cell_type": "code",
   "execution_count": null,
   "id": "91da3d37",
   "metadata": {},
   "outputs": [],
   "source": []
  },
  {
   "cell_type": "code",
   "execution_count": 27,
   "id": "c751226b",
   "metadata": {},
   "outputs": [],
   "source": [
    "prop = xc_metrics.compute_inv_propesity(block.train.dset.data.data_lbl, A=0.5, B=0.4)\n",
    "fuser = ScoreFusion(prop)"
   ]
  },
  {
   "cell_type": "code",
   "execution_count": 28,
   "id": "5c03604b",
   "metadata": {},
   "outputs": [],
   "source": [
    "fuser.fit(train_gen_pred, train_repr_pred, train_targ)"
   ]
  },
  {
   "cell_type": "code",
   "execution_count": 53,
   "id": "77be2dad",
   "metadata": {},
   "outputs": [],
   "source": [
    "pred = fuser.predict(gen_pred, repr_pred, beta=0)"
   ]
  },
  {
   "cell_type": "code",
   "execution_count": 54,
   "id": "d1bccd70",
   "metadata": {},
   "outputs": [],
   "source": [
    "output = {\n",
    "    'targ_idx': test_pred.gen_output['targ_idx'],\n",
    "    'targ_ptr': test_pred.gen_output['targ_ptr'],\n",
    "    'pred_idx': torch.tensor(pred.indices),\n",
    "    'pred_ptr': torch.tensor([q-p for p,q in zip(pred.indptr, pred.indptr[1:])]),\n",
    "    'pred_score': torch.tensor(pred.data),\n",
    "}"
   ]
  },
  {
   "cell_type": "code",
   "execution_count": 52,
   "id": "a473617b",
   "metadata": {},
   "outputs": [
    {
     "name": "stderr",
     "output_type": "stream",
     "text": [
      "/opt/conda/envs/ptca/lib/python3.9/site-packages/scipy/sparse/_index.py:146: SparseEfficiencyWarning: Changing the sparsity structure of a csr_matrix is expensive. lil_matrix is more efficient.\n",
      "  self._set_arrayXarray(i, j, x)\n"
     ]
    },
    {
     "data": {
      "text/html": [
       "<div>\n",
       "<style scoped>\n",
       "    .dataframe tbody tr th:only-of-type {\n",
       "        vertical-align: middle;\n",
       "    }\n",
       "\n",
       "    .dataframe tbody tr th {\n",
       "        vertical-align: top;\n",
       "    }\n",
       "\n",
       "    .dataframe thead th {\n",
       "        text-align: right;\n",
       "    }\n",
       "</style>\n",
       "<table border=\"1\" class=\"dataframe\">\n",
       "  <thead>\n",
       "    <tr style=\"text-align: right;\">\n",
       "      <th></th>\n",
       "      <th>P@1</th>\n",
       "      <th>P@3</th>\n",
       "      <th>P@5</th>\n",
       "      <th>P@10</th>\n",
       "      <th>N@1</th>\n",
       "      <th>N@3</th>\n",
       "      <th>N@5</th>\n",
       "      <th>N@10</th>\n",
       "      <th>PSP@1</th>\n",
       "      <th>PSP@3</th>\n",
       "      <th>PSP@5</th>\n",
       "      <th>PSP@10</th>\n",
       "      <th>PSN@1</th>\n",
       "      <th>PSN@3</th>\n",
       "      <th>PSN@5</th>\n",
       "      <th>PSN@10</th>\n",
       "      <th>R@10</th>\n",
       "      <th>R@100</th>\n",
       "      <th>R@200</th>\n",
       "    </tr>\n",
       "  </thead>\n",
       "  <tbody>\n",
       "    <tr>\n",
       "      <th>0</th>\n",
       "      <td>31.1399</td>\n",
       "      <td>20.7286</td>\n",
       "      <td>15.6277</td>\n",
       "      <td>9.8765</td>\n",
       "      <td>31.1399</td>\n",
       "      <td>30.8007</td>\n",
       "      <td>31.7445</td>\n",
       "      <td>33.5378</td>\n",
       "      <td>24.4896</td>\n",
       "      <td>26.6505</td>\n",
       "      <td>28.803</td>\n",
       "      <td>33.1025</td>\n",
       "      <td>24.4896</td>\n",
       "      <td>26.9292</td>\n",
       "      <td>28.598</td>\n",
       "      <td>30.7434</td>\n",
       "      <td>38.1122</td>\n",
       "      <td>52.0618</td>\n",
       "      <td>55.2864</td>\n",
       "    </tr>\n",
       "  </tbody>\n",
       "</table>\n",
       "</div>"
      ],
      "text/plain": [
       "       P@1      P@3      P@5    P@10      N@1      N@3      N@5     N@10  \\\n",
       "0  31.1399  20.7286  15.6277  9.8765  31.1399  30.8007  31.7445  33.5378   \n",
       "\n",
       "     PSP@1    PSP@3   PSP@5   PSP@10    PSN@1    PSN@3   PSN@5   PSN@10  \\\n",
       "0  24.4896  26.6505  28.803  33.1025  24.4896  26.9292  28.598  30.7434   \n",
       "\n",
       "      R@10    R@100    R@200  \n",
       "0  38.1122  52.0618  55.2864  "
      ]
     },
     "metadata": {},
     "output_type": "display_data"
    }
   ],
   "source": [
    "metric = PrecRecl(block.n_lbl, block.test.data_lbl_filterer, prop=block.train.dset.data.data_lbl,\n",
    "                  pk=10, rk=200, rep_pk=[1, 3, 5, 10], rep_rk=[10, 100, 200])\n",
    "m = metric(**output)\n",
    "display_metric(m, remove_prefix=False)"
   ]
  },
  {
   "cell_type": "code",
   "execution_count": 55,
   "id": "5064029e",
   "metadata": {},
   "outputs": [
    {
     "name": "stderr",
     "output_type": "stream",
     "text": [
      "/opt/conda/envs/ptca/lib/python3.9/site-packages/scipy/sparse/_index.py:146: SparseEfficiencyWarning: Changing the sparsity structure of a csr_matrix is expensive. lil_matrix is more efficient.\n",
      "  self._set_arrayXarray(i, j, x)\n"
     ]
    },
    {
     "data": {
      "text/html": [
       "<div>\n",
       "<style scoped>\n",
       "    .dataframe tbody tr th:only-of-type {\n",
       "        vertical-align: middle;\n",
       "    }\n",
       "\n",
       "    .dataframe tbody tr th {\n",
       "        vertical-align: top;\n",
       "    }\n",
       "\n",
       "    .dataframe thead th {\n",
       "        text-align: right;\n",
       "    }\n",
       "</style>\n",
       "<table border=\"1\" class=\"dataframe\">\n",
       "  <thead>\n",
       "    <tr style=\"text-align: right;\">\n",
       "      <th></th>\n",
       "      <th>P@1</th>\n",
       "      <th>P@3</th>\n",
       "      <th>P@5</th>\n",
       "      <th>P@10</th>\n",
       "      <th>N@1</th>\n",
       "      <th>N@3</th>\n",
       "      <th>N@5</th>\n",
       "      <th>N@10</th>\n",
       "      <th>PSP@1</th>\n",
       "      <th>PSP@3</th>\n",
       "      <th>PSP@5</th>\n",
       "      <th>PSP@10</th>\n",
       "      <th>PSN@1</th>\n",
       "      <th>PSN@3</th>\n",
       "      <th>PSN@5</th>\n",
       "      <th>PSN@10</th>\n",
       "      <th>R@10</th>\n",
       "      <th>R@100</th>\n",
       "      <th>R@200</th>\n",
       "    </tr>\n",
       "  </thead>\n",
       "  <tbody>\n",
       "    <tr>\n",
       "      <th>0</th>\n",
       "      <td>30.4053</td>\n",
       "      <td>20.2255</td>\n",
       "      <td>15.3097</td>\n",
       "      <td>9.7354</td>\n",
       "      <td>30.4053</td>\n",
       "      <td>30.135</td>\n",
       "      <td>31.1323</td>\n",
       "      <td>32.987</td>\n",
       "      <td>24.9653</td>\n",
       "      <td>26.6902</td>\n",
       "      <td>28.7182</td>\n",
       "      <td>32.9481</td>\n",
       "      <td>24.9653</td>\n",
       "      <td>27.0559</td>\n",
       "      <td>28.6494</td>\n",
       "      <td>30.7709</td>\n",
       "      <td>37.6288</td>\n",
       "      <td>51.9256</td>\n",
       "      <td>55.2399</td>\n",
       "    </tr>\n",
       "  </tbody>\n",
       "</table>\n",
       "</div>"
      ],
      "text/plain": [
       "       P@1      P@3      P@5    P@10      N@1     N@3      N@5    N@10  \\\n",
       "0  30.4053  20.2255  15.3097  9.7354  30.4053  30.135  31.1323  32.987   \n",
       "\n",
       "     PSP@1    PSP@3    PSP@5   PSP@10    PSN@1    PSN@3    PSN@5   PSN@10  \\\n",
       "0  24.9653  26.6902  28.7182  32.9481  24.9653  27.0559  28.6494  30.7709   \n",
       "\n",
       "      R@10    R@100    R@200  \n",
       "0  37.6288  51.9256  55.2399  "
      ]
     },
     "metadata": {},
     "output_type": "display_data"
    }
   ],
   "source": [
    "metric = PrecRecl(block.n_lbl, block.test.data_lbl_filterer, prop=block.train.dset.data.data_lbl,\n",
    "                  pk=10, rk=200, rep_pk=[1, 3, 5, 10], rep_rk=[10, 100, 200])\n",
    "m = metric(**output)\n",
    "display_metric(m, remove_prefix=False)"
   ]
  },
  {
   "cell_type": "code",
   "execution_count": null,
   "id": "c073a932",
   "metadata": {},
   "outputs": [],
   "source": []
  },
  {
   "cell_type": "code",
   "execution_count": null,
   "id": "05b62f5a",
   "metadata": {},
   "outputs": [],
   "source": []
  },
  {
   "cell_type": "code",
   "execution_count": null,
   "id": "b616a32d",
   "metadata": {},
   "outputs": [],
   "source": []
  },
  {
   "cell_type": "code",
   "execution_count": null,
   "id": "ca224d46",
   "metadata": {},
   "outputs": [],
   "source": []
  },
  {
   "cell_type": "code",
   "execution_count": null,
   "id": "2d8d260e",
   "metadata": {},
   "outputs": [],
   "source": []
  },
  {
   "cell_type": "code",
   "execution_count": null,
   "id": "511a8a36",
   "metadata": {},
   "outputs": [],
   "source": []
  },
  {
   "cell_type": "code",
   "execution_count": null,
   "id": "9998a774",
   "metadata": {},
   "outputs": [],
   "source": []
  },
  {
   "cell_type": "code",
   "execution_count": null,
   "id": "abdcbc91",
   "metadata": {},
   "outputs": [],
   "source": []
  }
 ],
 "metadata": {
  "kernelspec": {
   "display_name": "Python 3 (ipykernel)",
   "language": "python",
   "name": "python3"
  },
  "language_info": {
   "codemirror_mode": {
    "name": "ipython",
    "version": 3
   },
   "file_extension": ".py",
   "mimetype": "text/x-python",
   "name": "python",
   "nbconvert_exporter": "python",
   "pygments_lexer": "ipython3",
   "version": "3.9.18"
  }
 },
 "nbformat": 4,
 "nbformat_minor": 5
}
