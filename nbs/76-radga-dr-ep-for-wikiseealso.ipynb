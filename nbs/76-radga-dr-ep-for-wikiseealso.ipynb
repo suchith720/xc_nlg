{
 "cells": [
  {
   "cell_type": "markdown",
   "id": "6e3a0f4c-1cfb-4a14-b8f2-fdea31c390ec",
   "metadata": {},
   "source": [
    "# RAGDA DR training"
   ]
  },
  {
   "cell_type": "code",
   "execution_count": null,
   "id": "ddda97e8-16ac-42c7-9ad4-f981e21c0aa2",
   "metadata": {},
   "outputs": [],
   "source": [
    "#| default_exp 76-radga-dr-ep-for-wikiseealso-1-0"
   ]
  },
  {
   "cell_type": "code",
   "execution_count": null,
   "id": "3f35d8be-1323-400a-b78e-d0a4d2697801",
   "metadata": {},
   "outputs": [
    {
     "name": "stdout",
     "output_type": "stream",
     "text": [
      "The autoreload extension is already loaded. To reload it, use:\n",
      "  %reload_ext autoreload\n"
     ]
    }
   ],
   "source": [
    "%load_ext autoreload\n",
    "%autoreload 2\n",
    "\n",
    "from nbdev.showdoc import *\n",
    "import nbdev; nbdev.nbdev_export()"
   ]
  },
  {
   "cell_type": "code",
   "execution_count": null,
   "id": "d685e35e-9a13-4186-b7f4-b831b10086bb",
   "metadata": {},
   "outputs": [],
   "source": [
    "#| export\n",
    "import os,torch, torch.multiprocessing as mp, pickle\n",
    "from xcai.basics import *\n",
    "from xcai.models.radga import RAD005"
   ]
  },
  {
   "cell_type": "code",
   "execution_count": null,
   "id": "e0c924c6",
   "metadata": {},
   "outputs": [],
   "source": [
    "os.environ['WANDB_MODE'] = 'disabled'"
   ]
  },
  {
   "cell_type": "code",
   "execution_count": null,
   "id": "53768670-9905-46b0-9a6d-b6e91d50b918",
   "metadata": {},
   "outputs": [],
   "source": [
    "#| export\n",
    "os.environ['CUDA_VISIBLE_DEVICES'] = '0,1'\n",
    "os.environ['WANDB_PROJECT']='xc-nlg_66-radga-dr-ep-for-wikiseealso-2'"
   ]
  },
  {
   "cell_type": "code",
   "execution_count": null,
   "id": "3dc96ec3",
   "metadata": {},
   "outputs": [],
   "source": [
    "data_dir = '/home/scai/phd/aiz218323/Projects/XC_NLG/data'"
   ]
  },
  {
   "cell_type": "code",
   "execution_count": null,
   "id": "67f7ff60",
   "metadata": {},
   "outputs": [],
   "source": [
    "#| export\n",
    "pkl_dir = '/home/scai/phd/aiz218323/scratch/datasets/'\n",
    "pkl_file = f'{pkl_dir}/processed/wikiseealso_data-metas_distilbert-base-uncased_rm_radga-cat-linker.pkl'"
   ]
  },
  {
   "cell_type": "code",
   "execution_count": null,
   "id": "a14bf4ff-1e41-41f5-bd2e-7d430e7a86b3",
   "metadata": {},
   "outputs": [],
   "source": [
    "with open(pkl_file, 'wb') as file: pickle.dump(block, file)"
   ]
  },
  {
   "cell_type": "code",
   "execution_count": null,
   "id": "4a19cd80",
   "metadata": {},
   "outputs": [],
   "source": [
    "#| export\n",
    "with open(pkl_file, 'rb') as file: block = pickle.load(file)"
   ]
  },
  {
   "cell_type": "code",
   "execution_count": null,
   "id": "39644044-1525-4ad9-b125-6f0057226285",
   "metadata": {},
   "outputs": [],
   "source": [
    "#| export\n",
    "from xcai.data import MetaXCDataset\n",
    "block.train.dset.meta['hyb_meta'] = block.train.dset.meta['cat_meta']\n",
    "block.test.dset.meta['hyb_meta'] = block.train.dset.meta['lnk_meta']"
   ]
  },
  {
   "cell_type": "code",
   "execution_count": null,
   "id": "ce276b59-a45f-4ad7-b861-a39c21bb22d5",
   "metadata": {},
   "outputs": [],
   "source": [
    "#| export\n",
    "block.train.dset.meta['hyb_meta'] = MetaXCDataset('hyb', block.train.dset.meta['cat_meta'].data_meta, \n",
    "                                                  block.train.dset.meta['cat_meta'].lbl_meta,\n",
    "                                                  block.train.dset.meta['cat_meta'].meta_info)\n",
    "block.test.dset.meta['hyb_meta'] = MetaXCDataset('hyb', block.train.dset.meta['lnk_meta'].data_meta, \n",
    "                                                  block.train.dset.meta['lnk_meta'].lbl_meta,\n",
    "                                                  block.train.dset.meta['lnk_meta'].meta_info)"
   ]
  },
  {
   "cell_type": "code",
   "execution_count": null,
   "id": "1925812e-aa4f-4449-be38-a2e6ba108109",
   "metadata": {},
   "outputs": [],
   "source": [
    "#| export\n",
    "block.collator.tfms.tfms[0].smp_features = [('lbl2data|cat2lbl2data|lnk2lbl2data|hyb2lbl2data', 1, (1,3,3,3)), \n",
    "                                            ('cat2data',1,3), ('lnk2data',1,3), ('hyb2data',1,3)]"
   ]
  },
  {
   "cell_type": "markdown",
   "id": "3df31bc1-7741-4a4a-a113-7a2d321381cb",
   "metadata": {},
   "source": [
    "## Linker prediction confidence"
   ]
  },
  {
   "cell_type": "code",
   "execution_count": null,
   "id": "b56fea04-651d-48c4-a942-575f57db2c25",
   "metadata": {},
   "outputs": [],
   "source": [
    "import matplotlib.pyplot as plt\n",
    "import numpy as np"
   ]
  },
  {
   "cell_type": "code",
   "execution_count": null,
   "id": "bab72fbd-1938-48b6-b7eb-b96a0594b817",
   "metadata": {},
   "outputs": [],
   "source": [
    "lnk_meta = block.test.dset.meta['lnk_meta'].data_meta.copy()"
   ]
  },
  {
   "cell_type": "code",
   "execution_count": null,
   "id": "89056262-7c69-42c4-a417-03827ffe1e41",
   "metadata": {},
   "outputs": [],
   "source": []
  },
  {
   "cell_type": "code",
   "execution_count": null,
   "id": "10426b95-e00d-4abd-8698-c9c0ec6d6de9",
   "metadata": {},
   "outputs": [],
   "source": [
    "block.test.dset.meta['lnk_meta'].data_meta = lnk_meta.copy()\n",
    "x = block.train.dset.meta['lnk_meta'].data_meta"
   ]
  },
  {
   "cell_type": "code",
   "execution_count": null,
   "id": "a9f6f840-453f-4a71-b634-801916f7a834",
   "metadata": {},
   "outputs": [
    {
     "data": {
      "image/png": "[encoded data removed]",
      "text/plain": [
       "<Figure size 640x480 with 1 Axes>"
      ]
     },
     "metadata": {},
     "output_type": "display_data"
    }
   ],
   "source": [
    "o = plt.boxplot(x.data)"
   ]
  },
  {
   "cell_type": "code",
   "execution_count": null,
   "id": "3818fefc-3612-4b09-ba14-6a573ac19fd5",
   "metadata": {},
   "outputs": [
    {
     "data": {
      "text/plain": [
       "(array([0.925, 1.075]), array([-0.01775029, -0.01775029]))"
      ]
     },
     "execution_count": null,
     "metadata": {},
     "output_type": "execute_result"
    }
   ],
   "source": [
    "o['medians'][0].get_data()"
   ]
  },
  {
   "cell_type": "code",
   "execution_count": null,
   "id": "6417cde5-a3b9-427e-918e-5e427be0f0f6",
   "metadata": {},
   "outputs": [
    {
     "data": {
      "text/plain": [
       "{'whiskers': [<matplotlib.lines.Line2D>,\n",
       "  <matplotlib.lines.Line2D>],\n",
       " 'caps': [<matplotlib.lines.Line2D>,\n",
       "  <matplotlib.lines.Line2D>],\n",
       " 'boxes': [<matplotlib.lines.Line2D>],\n",
       " 'medians': [<matplotlib.lines.Line2D>],\n",
       " 'fliers': [<matplotlib.lines.Line2D>],\n",
       " 'means': []}"
      ]
     },
     "execution_count": null,
     "metadata": {},
     "output_type": "execute_result"
    }
   ],
   "source": [
    "o"
   ]
  },
  {
   "cell_type": "code",
   "execution_count": null,
   "id": "05db1cde-862d-4d6d-a9d7-4ce944e5aa2b",
   "metadata": {},
   "outputs": [
    {
     "data": {
      "text/plain": [
       "(0.4999994366673239,)"
      ]
     },
     "execution_count": null,
     "metadata": {},
     "output_type": "execute_result"
    }
   ],
   "source": [
    "np.sum(x.data > -0.06835106)/x.data.shape[0], "
   ]
  },
  {
   "cell_type": "code",
   "execution_count": null,
   "id": "9852cfb0-1d6a-4af7-bea6-9bef4a7a037d",
   "metadata": {},
   "outputs": [
    {
     "data": {
      "text/plain": [
       "1.0"
      ]
     },
     "execution_count": null,
     "metadata": {},
     "output_type": "execute_result"
    }
   ],
   "source": [
    "np.sum(x.getnnz(axis=1) != 0)/x.shape[0]"
   ]
  },
  {
   "cell_type": "markdown",
   "id": "2554487b",
   "metadata": {},
   "source": [
    "## Training"
   ]
  },
  {
   "cell_type": "code",
   "execution_count": null,
   "id": "8521c4ff-94e8-43a2-84eb-553610cb7de9",
   "metadata": {},
   "outputs": [],
   "source": [
    "#| export\n",
    "args = XCLearningArguments(\n",
    "    output_dir='/home/scai/phd/aiz218323/scratch/outputs/76-radga-dr-ep-for-wikiseealso-1-0',\n",
    "    logging_first_step=True,\n",
    "    per_device_train_batch_size=10, #800,\n",
    "    per_device_eval_batch_size=10, #800,\n",
    "    representation_num_beams=200,\n",
    "    representation_accumulation_steps=10,\n",
    "    save_strategy=\"steps\",\n",
    "    evaluation_strategy=\"steps\",\n",
    "    eval_steps=5000,\n",
    "    save_steps=5000,\n",
    "    save_total_limit=5,\n",
    "    num_train_epochs=300,\n",
    "    predict_with_representation=True,\n",
    "    adam_epsilon=1e-6,\n",
    "    warmup_steps=100,\n",
    "    weight_decay=0.01,\n",
    "    learning_rate=2e-4,\n",
    "    generation_num_beams=10,\n",
    "    generation_length_penalty=1.5,\n",
    "    predict_with_generation=True,\n",
    "    representation_search_type='BRUTEFORCE',\n",
    "    \n",
    "    output_representation_attribute='data_fused_repr',\n",
    "    label_representation_attribute='data_repr',\n",
    "    metadata_representation_attribute='data_repr',\n",
    "    data_augmentation_attribute='data_repr',\n",
    "    representation_attribute='data_fused_repr',\n",
    "    clustering_representation_attribute='data_fused_repr',\n",
    "    \n",
    "    group_by_cluster=True,\n",
    "    num_clustering_warmup_epochs=0,\n",
    "    num_cluster_update_epochs=5,\n",
    "    num_cluster_size_update_epochs=25,\n",
    "    use_data_metadata_for_clustering=True,\n",
    "    clustering_type='EXPO',\n",
    "    minimum_cluster_size=2,\n",
    "    maximum_cluster_size=1600,\n",
    "\n",
    "    metric_for_best_model='P@1',\n",
    "    load_best_model_at_end=True,\n",
    "    target_indices_key='plbl2data_idx',\n",
    "    target_pointer_key='plbl2data_data2ptr',\n",
    "    \n",
    "    use_distributional_representation=False,\n",
    "    use_encoder_parallel=True,\n",
    "    max_grad_norm=None, \n",
    "    fp16=True,\n",
    "    \n",
    "    label_names=['hyb2data_idx', 'hyb2data_input_ids', 'hyb2data_attention_mask'],\n",
    "\n",
    "    prune_metadata=False,\n",
    "    num_metadata_prune_warmup_epochs=10,\n",
    "    num_metadata_prune_epochs=5,\n",
    "    metadata_prune_batch_size=2048,\n",
    "    prune_metadata_names=['cat_meta'],\n",
    "    use_data_metadata_for_pruning=True,\n",
    "\n",
    "    predict_with_augmentation=False,\n",
    "    use_augmentation_index_representation=True,\n",
    "    \n",
    "    data_aug_meta_name='hyb',\n",
    "    augmentation_num_beams=3,\n",
    "    data_aug_prefix='hyb',\n",
    "    use_label_metadata=False,\n",
    "    \n",
    "    data_meta_batch_size=2048,\n",
    "    augment_metadata=False,\n",
    "    num_metadata_augment_warmup_epochs=10,\n",
    "    num_metadata_augment_epochs=5,\n",
    ")"
   ]
  },
  {
   "cell_type": "code",
   "execution_count": null,
   "id": "cfbc728f",
   "metadata": {},
   "outputs": [],
   "source": [
    "#| export\n",
    "metric = PrecRecl(block.n_lbl, block.test.data_lbl_filterer, prop=block.train.dset.data.data_lbl,\n",
    "                  pk=10, rk=200, rep_pk=[1, 3, 5, 10], rep_rk=[10, 100, 200])"
   ]
  },
  {
   "cell_type": "code",
   "execution_count": null,
   "id": "a12171f9",
   "metadata": {},
   "outputs": [
    {
     "name": "stderr",
     "output_type": "stream",
     "text": [
      "Some weights of RAD005 were not initialized from the model checkpoint at distilbert-base-uncased and are newly initialized: ['encoder.cross_gate', 'encoder.cross_head.k.bias', 'encoder.cross_head.k.weight', 'encoder.cross_head.margin', 'encoder.cross_head.o.bias', 'encoder.cross_head.o.weight', 'encoder.cross_head.q.bias', 'encoder.cross_head.q.weight', 'encoder.cross_head.tau', 'encoder.cross_head.v.bias', 'encoder.cross_head.v.weight', 'encoder.dr_head.layer_norm.bias', 'encoder.dr_head.layer_norm.weight', 'encoder.dr_head.projector.bias', 'encoder.dr_head.projector.weight', 'encoder.dr_head.transform.bias', 'encoder.dr_head.transform.weight', 'encoder.meta_head.layer_norm.bias', 'encoder.meta_head.layer_norm.weight', 'encoder.meta_head.projector.bias', 'encoder.meta_head.projector.weight', 'encoder.meta_head.transform.bias', 'encoder.meta_head.transform.weight']\n",
      "You should probably TRAIN this model on a down-stream task to be able to use it for predictions and inference.\n"
     ]
    }
   ],
   "source": [
    "#| export\n",
    "bsz = max(args.per_device_train_batch_size, args.per_device_eval_batch_size)*torch.cuda.device_count()\n",
    "\n",
    "model = RAD005.from_pretrained('distilbert-base-uncased', num_batch_labels=5000, batch_size=100,\n",
    "                               margin=0.3, num_negatives=10, tau=0.1, apply_softmax=True,\n",
    "                               \n",
    "                               data_aug_meta_prefix='hyb2data', lbl2data_aug_meta_prefix=None, \n",
    "                               data_pred_meta_prefix=None, lbl2data_pred_meta_prefix=None,\n",
    "\n",
    "                               cross_margin=0.3, cross_tau=0.1, cross_dropout=0.1,\n",
    "\n",
    "                               resize_length=5000, use_noise=True, noise_percent=0.5,\n",
    "                               \n",
    "                               meta_loss_weight=0.3, fusion_loss_weight=0.1, \n",
    "                               use_fusion_loss=False,  use_encoder_parallel=False)\n",
    "\n",
    "model.init_retrieval_head()\n",
    "model.init_cross_head()\n",
    "model.init_cross_gate()"
   ]
  },
  {
   "cell_type": "code",
   "execution_count": null,
   "id": "941b966c-6d8f-4f89-80e6-898fd871e4c3",
   "metadata": {},
   "outputs": [],
   "source": []
  },
  {
   "cell_type": "code",
   "execution_count": null,
   "id": "01d48f78",
   "metadata": {},
   "outputs": [
    {
     "name": "stderr",
     "output_type": "stream",
     "text": [
      "Detected kernel version 3.10.0, which is below the recommended minimum of 5.5.0; this can cause the process to hang. It is recommended to upgrade the kernel to the minimum version or higher.\n"
     ]
    }
   ],
   "source": [
    "#| export\n",
    "learn = XCLearner(\n",
    "    model=model, \n",
    "    args=args,\n",
    "    train_dataset=block.train.dset.sample(n=100),\n",
    "    eval_dataset=block.test.dset,\n",
    "    data_collator=block.collator,\n",
    "    compute_metrics=metric,\n",
    ")"
   ]
  },
  {
   "cell_type": "code",
   "execution_count": null,
   "id": "f832ba01-b786-4688-a891-05946b908be4",
   "metadata": {},
   "outputs": [
    {
     "data": {
      "application/vnd.jupyter.widget-view+json": {
       "model_id": "0c5be64255154a52a25d3fc820b6c800",
       "version_major": 2,
       "version_minor": 0
      },
      "text/plain": [
       "  0%|          | 0/5 [00:00<?, ?it/s]"
      ]
     },
     "metadata": {},
     "output_type": "display_data"
    },
    {
     "name": "stdout",
     "output_type": "stream",
     "text": [
      "Updating clusters with size 2\n",
      "Tree depth = 6\n",
      "doing random split\n",
      "lengths: [50, 50]\n",
      "remaining levels for GPU split=5\n",
      "==> gpu splitting random clusters 0 to 2\n",
      " rank=0 => Total clusters 2\tAvg. Cluster size                 25.00\tTime to split nodes on this level 0.72 sec\n",
      " rank=1 => Total clusters 2\tAvg. Cluster size                 25.00\tTime to split nodes on this level 0.71 sec\n",
      " rank=0 => Total clusters 4\tAvg. Cluster size                 12.50\tTime to split nodes on this level 0.00 sec\n",
      " rank=1 => Total clusters 4\tAvg. Cluster size                 12.50\tTime to split nodes on this level 0.00 sec\n",
      " rank=0 => Total clusters 8\tAvg. Cluster size                 6.25\tTime to split nodes on this level 0.01 sec\n",
      " rank=1 => Total clusters 8\tAvg. Cluster size                 6.25\tTime to split nodes on this level 0.01 sec\n",
      " rank=0 => Total clusters 16\tAvg. Cluster size                 3.12\tTime to split nodes on this level 0.01 sec\n",
      " rank=1 => Total clusters 16\tAvg. Cluster size                 3.12\tTime to split nodes on this level 0.01 sec\n",
      " rank=1 => Total clusters 32\tAvg. Cluster size                 1.56\tTime to split nodes on this level 0.02 sec\n",
      " rank=0 => Total clusters 32\tAvg. Cluster size                 1.56\tTime to split nodes on this level 0.02 sec\n",
      "\n"
     ]
    },
    {
     "name": "stderr",
     "output_type": "stream",
     "text": [
      "Exception ignored in: <function tqdm.__del__>\n",
      "Traceback (most recent call last):\n",
      "  File \"/scratch/scai/phd/aiz218323/anaconda3/envs/xc_nlg/lib/python3.9/site-packages/tqdm/std.py\", line 1147, in __del__\n",
      "    def __del__(self):\n",
      "KeyboardInterrupt: \n",
      "/scratch/scai/phd/aiz218323/Projects/xcai/xcai/losses.py:22: UserWarning: Sparse CSR tensor support is in beta state. If you miss a functionality in the sparse tensor support, please submit a feature request to https://github.com/pytorch/pytorch/issues. (Triggered internally at ../aten/src/ATen/SparseCsrTensorImpl.cpp:53.)\n",
      "  return torch.sparse_csr_tensor(data_ptr, data_idx, scores, device=data_ptr.device)\n",
      "Could not estimate the number of tokens of the input, floating-point operations will not be computed\n"
     ]
    },
    {
     "data": {
      "text/html": [
       "\n",
       "    <div>\n",
       "      \n",
       "      <progress value='3' max='1500' style='width:300px; height:20px; vertical-align: middle;'></progress>\n",
       "      [   3/1500 00:00 < 02:07, 11.72 it/s, Epoch 0.40/300]\n",
       "    </div>\n",
       "    <table border=\"1\" class=\"dataframe\">\n",
       "  <thead>\n",
       " <tr style=\"text-align: left;\">\n",
       "      <th>Step</th>\n",
       "      <th>Training Loss</th>\n",
       "      <th>Validation Loss</th>\n",
       "    </tr>\n",
       "  </thead>\n",
       "  <tbody>\n",
       "  </tbody>\n",
       "</table><p>"
      ],
      "text/plain": [
       "<IPython.core.display.HTML object>"
      ]
     },
     "metadata": {},
     "output_type": "display_data"
    },
    {
     "name": "stderr",
     "output_type": "stream",
     "text": [
      "\n",
      "KeyboardInterrupt\n",
      "\n"
     ]
    }
   ],
   "source": [
    "learn.train()"
   ]
  },
  {
   "cell_type": "code",
   "execution_count": null,
   "id": "68cd155e-912d-4780-b60d-b7c6749b30b3",
   "metadata": {},
   "outputs": [],
   "source": [
    "#| export\n",
    "if __name__ == '__main__':\n",
    "    mp.freeze_support()\n",
    "    learn.train()"
   ]
  },
  {
   "cell_type": "code",
   "execution_count": null,
   "id": "130617dd-f34b-41f8-a299-3a2654c8939a",
   "metadata": {},
   "outputs": [
    {
     "data": {
      "text/html": [
       "<div>\n",
       "<style scoped>\n",
       "    .dataframe tbody tr th:only-of-type {\n",
       "        vertical-align: middle;\n",
       "    }\n",
       "\n",
       "    .dataframe tbody tr th {\n",
       "        vertical-align: top;\n",
       "    }\n",
       "\n",
       "    .dataframe thead th {\n",
       "        text-align: right;\n",
       "    }\n",
       "</style>\n",
       "<table border=\"1\" class=\"dataframe\">\n",
       "  <thead>\n",
       "    <tr style=\"text-align: right;\">\n",
       "      <th></th>\n",
       "      <th>P@1</th>\n",
       "      <th>P@3</th>\n",
       "      <th>P@5</th>\n",
       "      <th>P@10</th>\n",
       "      <th>N@1</th>\n",
       "      <th>N@3</th>\n",
       "      <th>N@5</th>\n",
       "      <th>N@10</th>\n",
       "      <th>PSP@1</th>\n",
       "      <th>PSP@3</th>\n",
       "      <th>PSP@5</th>\n",
       "      <th>PSP@10</th>\n",
       "      <th>PSN@1</th>\n",
       "      <th>PSN@3</th>\n",
       "      <th>PSN@5</th>\n",
       "      <th>PSN@10</th>\n",
       "      <th>R@10</th>\n",
       "      <th>R@100</th>\n",
       "      <th>R@200</th>\n",
       "      <th>loss</th>\n",
       "      <th>runtime</th>\n",
       "      <th>samples_per_second</th>\n",
       "      <th>steps_per_second</th>\n",
       "    </tr>\n",
       "  </thead>\n",
       "  <tbody>\n",
       "    <tr>\n",
       "      <th>0</th>\n",
       "      <td>29.7023</td>\n",
       "      <td>19.8436</td>\n",
       "      <td>15.1014</td>\n",
       "      <td>9.7008</td>\n",
       "      <td>29.7023</td>\n",
       "      <td>29.709</td>\n",
       "      <td>30.864</td>\n",
       "      <td>32.8978</td>\n",
       "      <td>23.6801</td>\n",
       "      <td>25.5972</td>\n",
       "      <td>27.7855</td>\n",
       "      <td>32.3021</td>\n",
       "      <td>23.6801</td>\n",
       "      <td>26.0678</td>\n",
       "      <td>27.8145</td>\n",
       "      <td>30.1005</td>\n",
       "      <td>38.0988</td>\n",
       "      <td>54.2596</td>\n",
       "      <td>58.1888</td>\n",
       "      <td>0.0258</td>\n",
       "      <td>252.4572</td>\n",
       "      <td>703.149</td>\n",
       "      <td>0.44</td>\n",
       "    </tr>\n",
       "  </tbody>\n",
       "</table>\n",
       "</div>"
      ],
      "text/plain": [
       "       P@1      P@3      P@5    P@10      N@1     N@3     N@5     N@10  \\\n",
       "0  29.7023  19.8436  15.1014  9.7008  29.7023  29.709  30.864  32.8978   \n",
       "\n",
       "     PSP@1    PSP@3    PSP@5   PSP@10    PSN@1    PSN@3    PSN@5   PSN@10  \\\n",
       "0  23.6801  25.5972  27.7855  32.3021  23.6801  26.0678  27.8145  30.1005   \n",
       "\n",
       "      R@10    R@100    R@200    loss   runtime  samples_per_second  \\\n",
       "0  38.0988  54.2596  58.1888  0.0258  252.4572             703.149   \n",
       "\n",
       "   steps_per_second  \n",
       "0              0.44  "
      ]
     },
     "metadata": {},
     "output_type": "display_data"
    }
   ],
   "source": [
    "mm = {'test_loss': 0.02575988881289959, 'test_P@1': 0.2970227868067487, 'test_P@10': 0.097007576824572, 'test_P@3': 0.19843581293593804, 'test_P@5': 0.1510137171508247, 'test_N@1': 0.2970227897167206, 'test_N@10': 0.3289780020713806, 'test_N@3': 0.2970898449420929, 'test_N@5': 0.30863964557647705, 'test_PSP@1': 0.2368009923060562, 'test_PSP@10': 0.32302117021904686, 'test_PSP@3': 0.25597190496163313, 'test_PSP@5': 0.27785461915245924, 'test_PSN@1': 0.23680099844932556, 'test_PSN@10': 0.30100467801094055, 'test_PSN@3': 0.2606782615184784, 'test_PSN@5': 0.2781447470188141, 'test_R@200': 0.5818878899654103, 'test_R@10': 0.3809882760599234, 'test_R@100': 0.5425964471532015, 'test_runtime': 252.4572, 'test_samples_per_second': 703.149, 'test_steps_per_second': 0.44}\n",
    "display_metric(mm)"
   ]
  },
  {
   "cell_type": "markdown",
   "id": "f5df2b60-c20b-4e7c-83fe-d583e55d781c",
   "metadata": {},
   "source": [
    "## Prediction"
   ]
  },
  {
   "cell_type": "code",
   "execution_count": null,
   "id": "2d622383-db42-403d-8b0c-e2d44f9bfad0",
   "metadata": {},
   "outputs": [],
   "source": [
    "args = XCLearningArguments(\n",
    "    output_dir='/home/scai/phd/aiz218323/scratch/outputs/72-radga-dr-ep-for-wikiseealso-1-0',\n",
    "    logging_first_step=True,\n",
    "    per_device_train_batch_size=800,\n",
    "    per_device_eval_batch_size=800,\n",
    "    representation_num_beams=200,\n",
    "    representation_accumulation_steps=10,\n",
    "    save_strategy=\"steps\",\n",
    "    evaluation_strategy=\"steps\",\n",
    "    eval_steps=5000,\n",
    "    save_steps=5000,\n",
    "    save_total_limit=5,\n",
    "    num_train_epochs=300,\n",
    "    predict_with_representation=True,\n",
    "    adam_epsilon=1e-6,\n",
    "    warmup_steps=100,\n",
    "    weight_decay=0.01,\n",
    "    learning_rate=2e-4,\n",
    "    generation_num_beams=10,\n",
    "    generation_length_penalty=1.5,\n",
    "    predict_with_generation=True,\n",
    "    representation_search_type='INDEX',\n",
    "    \n",
    "    output_representation_attribute='data_fused_repr',\n",
    "    label_representation_attribute='data_repr',\n",
    "    metadata_representation_attribute='data_repr',\n",
    "    data_augmentation_attribute='data_repr',\n",
    "    representation_attribute='data_repr',\n",
    "    clustering_representation_attribute='data_fused_repr',\n",
    "    \n",
    "    group_by_cluster=True,\n",
    "    num_clustering_warmup_epochs=10,\n",
    "    num_cluster_update_epochs=5,\n",
    "    num_cluster_size_update_epochs=25,\n",
    "    use_data_metadata_for_clustering=True,\n",
    "    clustering_type='EXPO',\n",
    "    minimum_cluster_size=2,\n",
    "    maximum_cluster_size=1600,\n",
    "\n",
    "    metric_for_best_model='P@1',\n",
    "    load_best_model_at_end=True,\n",
    "    target_indices_key='plbl2data_idx',\n",
    "    target_pointer_key='plbl2data_data2ptr',\n",
    "    \n",
    "    use_distributional_representation=False,\n",
    "    use_encoder_parallel=True,\n",
    "    max_grad_norm=None, \n",
    "    fp16=True,\n",
    "    \n",
    "    label_names=['cat2data_idx', 'cat2data_input_ids', 'cat2data_attention_mask'],\n",
    "\n",
    "    prune_metadata=False,\n",
    "    num_metadata_prune_warmup_epochs=10,\n",
    "    num_metadata_prune_epochs=5,\n",
    "    metadata_prune_batch_size=2048,\n",
    "    prune_metadata_names=['cat_meta'],\n",
    "    use_data_metadata_for_pruning=True,\n",
    "\n",
    "    predict_with_augmentation=False,\n",
    "    use_augmentation_index_representation=True,\n",
    "    \n",
    "    data_aug_meta_name='cat',\n",
    "    augmentation_num_beams=3,\n",
    "    data_aug_prefix='cat',\n",
    "    use_label_metadata=False,\n",
    "    \n",
    "    data_meta_batch_size=2048,\n",
    "    augment_metadata=False,\n",
    "    num_metadata_augment_warmup_epochs=10,\n",
    "    num_metadata_augment_epochs=5,\n",
    ")"
   ]
  },
  {
   "cell_type": "code",
   "execution_count": null,
   "id": "4865c84b-0d78-47ea-ac8a-ed10a324e7a5",
   "metadata": {},
   "outputs": [],
   "source": [
    "metric = PrecRecl(block.n_lbl, block.test.data_lbl_filterer, prop=block.train.dset.data.data_lbl,\n",
    "                  pk=10, rk=200, rep_pk=[1, 3, 5, 10], rep_rk=[10, 100, 200])"
   ]
  },
  {
   "cell_type": "code",
   "execution_count": null,
   "id": "69926870-0db1-4bc8-9117-a9b16983144d",
   "metadata": {},
   "outputs": [
    {
     "name": "stderr",
     "output_type": "stream",
     "text": [
      "Some weights of RAD002 were not initialized from the model checkpoint at distilbert-base-uncased and are newly initialized: ['encoder.cross_head.k.bias', 'encoder.cross_head.k.weight', 'encoder.cross_head.o.bias', 'encoder.cross_head.o.weight', 'encoder.cross_head.q.bias', 'encoder.cross_head.q.weight', 'encoder.cross_head.v.bias', 'encoder.cross_head.v.weight', 'encoder.dr_head.layer_norm.bias', 'encoder.dr_head.layer_norm.weight', 'encoder.dr_head.projector.bias', 'encoder.dr_head.projector.weight', 'encoder.dr_head.transform.bias', 'encoder.dr_head.transform.weight', 'encoder.meta_head.layer_norm.bias', 'encoder.meta_head.layer_norm.weight', 'encoder.meta_head.projector.bias', 'encoder.meta_head.projector.weight', 'encoder.meta_head.transform.bias', 'encoder.meta_head.transform.weight']\n",
      "You should probably TRAIN this model on a down-stream task to be able to use it for predictions and inference.\n"
     ]
    }
   ],
   "source": [
    "bsz = max(args.per_device_train_batch_size, args.per_device_eval_batch_size)*torch.cuda.device_count()\n",
    "\n",
    "model = RAD002.from_pretrained('distilbert-base-uncased', num_batch_labels=5000, batch_size=bsz,\n",
    "                               margin=0.3, num_negatives=5, tau=0.1, apply_softmax=True,\n",
    "                               \n",
    "                               data_aug_meta_prefix='cat2data', lbl2data_aug_meta_prefix=None, \n",
    "                               data_pred_meta_prefix=None, lbl2data_pred_meta_prefix=None,\n",
    "                               \n",
    "                               resize_length=5000, use_noise=True, noise_percent=0.5,\n",
    "                               \n",
    "                               meta_loss_weight=0.3, fusion_loss_weight=0.1, \n",
    "                               use_fusion_loss=False,  use_encoder_parallel=True)\n",
    "\n",
    "model.init_retrieval_head()\n",
    "model.init_cross_head()"
   ]
  },
  {
   "cell_type": "code",
   "execution_count": null,
   "id": "7f4f1045-de24-4be9-890b-defb99f40133",
   "metadata": {},
   "outputs": [],
   "source": []
  },
  {
   "cell_type": "code",
   "execution_count": null,
   "id": "7e5329ca-97c0-4560-b097-cf0d5d11cf92",
   "metadata": {},
   "outputs": [
    {
     "name": "stderr",
     "output_type": "stream",
     "text": [
      "/scratch/scai/phd/aiz218323/anaconda3/envs/xc_nlg/lib/python3.9/site-packages/accelerate/accelerator.py:432: FutureWarning: Passing the following arguments to `Accelerator` is deprecated and will be removed in version 1.0 of Accelerate: dict_keys(['dispatch_batches', 'split_batches', 'even_batches', 'use_seedable_sampler']). Please pass an `accelerate.DataLoaderConfiguration` instead: \n",
      "dataloader_config = DataLoaderConfiguration(dispatch_batches=None, split_batches=False, even_batches=True, use_seedable_sampler=True)\n",
      "  warnings.warn(\n",
      "Detected kernel version 3.10.0, which is below the recommended minimum of 5.5.0; this can cause the process to hang. It is recommended to upgrade the kernel to the minimum version or higher.\n"
     ]
    }
   ],
   "source": [
    "learn = XCLearner(\n",
    "    model=model, \n",
    "    args=args,\n",
    "    train_dataset=block.train.dset,\n",
    "    eval_dataset=block.test.dset,\n",
    "    data_collator=block.collator,\n",
    "    compute_metrics=metric,\n",
    ")"
   ]
  }
 ],
 "metadata": {
  "kernelspec": {
   "display_name": "python3",
   "language": "python",
   "name": "python3"
  }
 },
 "nbformat": 4,
 "nbformat_minor": 5
}
